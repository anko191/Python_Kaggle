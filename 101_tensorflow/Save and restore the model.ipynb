{
  "nbformat": 4,
  "nbformat_minor": 0,
  "metadata": {
    "colab": {
      "name": "Modelをセーブしてリストア.ipynb",
      "provenance": [],
      "authorship_tag": "ABX9TyPnc8ILB7Cm27smVkX+3sfV",
      "include_colab_link": true
    },
    "kernelspec": {
      "name": "python3",
      "display_name": "Python 3"
    }
  },
  "cells": [
    {
      "cell_type": "markdown",
      "metadata": {
        "id": "view-in-github",
        "colab_type": "text"
      },
      "source": [
        "<a href=\"https://colab.research.google.com/github/anko191/Python_Kaggle/blob/master/Tensorflow/Model%E3%82%92%E3%82%BB%E3%83%BC%E3%83%96%E3%81%97%E3%81%A6%E3%83%AA%E3%82%B9%E3%83%88%E3%82%A2.ipynb\" target=\"_parent\"><img src=\"https://colab.research.google.com/assets/colab-badge.svg\" alt=\"Open In Colab\"/></a>"
      ]
    },
    {
      "cell_type": "code",
      "metadata": {
        "id": "p8zYY0lTDpmP"
      },
      "source": [
        "!pip install -q h5py pyyaml"
      ],
      "execution_count": 1,
      "outputs": []
    },
    {
      "cell_type": "code",
      "metadata": {
        "id": "9nKandb6D0Nh",
        "outputId": "68b32584-a4e9-470e-c705-4e0246e3b0ee",
        "colab": {
          "base_uri": "https://localhost:8080/",
          "height": 35
        }
      },
      "source": [
        "from __future__ import absolute_import, division, print_function\n",
        "\n",
        "import os\n",
        "import tensorflow as tf\n",
        "from tensorflow import keras\n",
        "\n",
        "tf.__version__"
      ],
      "execution_count": 2,
      "outputs": [
        {
          "output_type": "execute_result",
          "data": {
            "application/vnd.google.colaboratory.intrinsic+json": {
              "type": "string"
            },
            "text/plain": [
              "'2.3.0'"
            ]
          },
          "metadata": {
            "tags": []
          },
          "execution_count": 2
        }
      ]
    },
    {
      "cell_type": "code",
      "metadata": {
        "id": "P_9NFu3_EBnf",
        "outputId": "3437a76a-851a-4cd0-921d-a1eec95c62c4",
        "colab": {
          "base_uri": "https://localhost:8080/",
          "height": 51
        }
      },
      "source": [
        "(train_images, train_labels), (test_images, test_labels) = tf.keras.datasets.mnist.load_data()\n",
        "\n",
        "train_labels = train_labels[:1000]\n",
        "test_labels = test_labels[:1000]\n",
        "\n",
        "train_images = train_images[:1000].reshape(-1, 28*28) / 255.0\n",
        "test_images = test_images[:1000].reshape(-1, 28*28) /255.0"
      ],
      "execution_count": 3,
      "outputs": [
        {
          "output_type": "stream",
          "text": [
            "Downloading data from https://storage.googleapis.com/tensorflow/tf-keras-datasets/mnist.npz\n",
            "11493376/11490434 [==============================] - 0s 0us/step\n"
          ],
          "name": "stdout"
        }
      ]
    },
    {
      "cell_type": "markdown",
      "metadata": {
        "id": "3irSL3xTExC9"
      },
      "source": [
        "## モデルを定義する"
      ]
    },
    {
      "cell_type": "code",
      "metadata": {
        "id": "bHPvef6LEvRQ",
        "outputId": "7e55445a-6586-4672-fc49-6088ee0208b4",
        "colab": {
          "base_uri": "https://localhost:8080/",
          "height": 255
        }
      },
      "source": [
        "def create_model():\n",
        "    model = tf.keras.models.Sequential([\n",
        "            keras.layers.Dense(512, activation = 'relu', input_shape=(784,)),\n",
        "            keras.layers.Dropout(0.2),\n",
        "            keras.layers.Dense(10, activation = 'softmax')\n",
        "    ])\n",
        "\n",
        "    model.compile(optimizer = 'adam',\n",
        "                  loss = 'sparse_categorical_crossentropy',\n",
        "                  metrics = ['accuracy'])\n",
        "    return model\n",
        "model = create_model()\n",
        "model.summary()"
      ],
      "execution_count": 6,
      "outputs": [
        {
          "output_type": "stream",
          "text": [
            "Model: \"sequential_2\"\n",
            "_________________________________________________________________\n",
            "Layer (type)                 Output Shape              Param #   \n",
            "=================================================================\n",
            "dense_4 (Dense)              (None, 512)               401920    \n",
            "_________________________________________________________________\n",
            "dropout_2 (Dropout)          (None, 512)               0         \n",
            "_________________________________________________________________\n",
            "dense_5 (Dense)              (None, 10)                5130      \n",
            "=================================================================\n",
            "Total params: 407,050\n",
            "Trainable params: 407,050\n",
            "Non-trainable params: 0\n",
            "_________________________________________________________________\n"
          ],
          "name": "stdout"
        }
      ]
    },
    {
      "cell_type": "markdown",
      "metadata": {
        "id": "z5uswe_6FZv-"
      },
      "source": [
        "## 訓練の間にチェックポイントをセーブする\n",
        "* 主要なユースケースは訓練の間と最後にチェックポイントを自動的にセーブすることです\n",
        "    * 中止したところから訓練を選択して使用\n",
        "* tf.keras.callbacks.ModelCheckpointはこのタスクを遂行するcallbackです"
      ]
    },
    {
      "cell_type": "code",
      "metadata": {
        "id": "rGCYXaYfFRnS",
        "outputId": "4bdef7b5-8821-4daa-b76a-6c8eb0d9d283",
        "colab": {
          "base_uri": "https://localhost:8080/",
          "height": 734
        }
      },
      "source": [
        "checkpoint_path = \"training_1/cp.ckpt\"\n",
        "checkpoint_dir = os.path.dirname(checkpoint_path)\n",
        "\n",
        "# Create checkpoint callback\n",
        "cp_callback = tf.keras.callbacks.ModelCheckpoint(checkpoint_path,\n",
        "                                                 save_weights_only = True,\n",
        "                                                 verbose = 1)\n",
        "model = create_model()\n",
        "model.fit(train_images, train_labels, epochs = 10,\n",
        "          validation_data = (test_images, test_labels),\n",
        "          callbacks = [cp_callback])"
      ],
      "execution_count": 7,
      "outputs": [
        {
          "output_type": "stream",
          "text": [
            "Epoch 1/10\n",
            "28/32 [=========================>....] - ETA: 0s - loss: 1.2251 - accuracy: 0.6451\n",
            "Epoch 00001: saving model to training_1/cp.ckpt\n",
            "32/32 [==============================] - 0s 11ms/step - loss: 1.1587 - accuracy: 0.6680 - val_loss: 0.7171 - val_accuracy: 0.7730\n",
            "Epoch 2/10\n",
            "27/32 [========================>.....] - ETA: 0s - loss: 0.4307 - accuracy: 0.8808\n",
            "Epoch 00002: saving model to training_1/cp.ckpt\n",
            "32/32 [==============================] - 0s 7ms/step - loss: 0.4167 - accuracy: 0.8840 - val_loss: 0.5257 - val_accuracy: 0.8430\n",
            "Epoch 3/10\n",
            "27/32 [========================>.....] - ETA: 0s - loss: 0.2946 - accuracy: 0.9259\n",
            "Epoch 00003: saving model to training_1/cp.ckpt\n",
            "32/32 [==============================] - 0s 6ms/step - loss: 0.2807 - accuracy: 0.9270 - val_loss: 0.4871 - val_accuracy: 0.8510\n",
            "Epoch 4/10\n",
            "26/32 [=======================>......] - ETA: 0s - loss: 0.2148 - accuracy: 0.9555\n",
            "Epoch 00004: saving model to training_1/cp.ckpt\n",
            "32/32 [==============================] - 0s 7ms/step - loss: 0.2125 - accuracy: 0.9520 - val_loss: 0.4477 - val_accuracy: 0.8570\n",
            "Epoch 5/10\n",
            "28/32 [=========================>....] - ETA: 0s - loss: 0.1531 - accuracy: 0.9665\n",
            "Epoch 00005: saving model to training_1/cp.ckpt\n",
            "32/32 [==============================] - 0s 7ms/step - loss: 0.1536 - accuracy: 0.9650 - val_loss: 0.4476 - val_accuracy: 0.8530\n",
            "Epoch 6/10\n",
            "26/32 [=======================>......] - ETA: 0s - loss: 0.1170 - accuracy: 0.9784\n",
            "Epoch 00006: saving model to training_1/cp.ckpt\n",
            "32/32 [==============================] - 0s 7ms/step - loss: 0.1141 - accuracy: 0.9790 - val_loss: 0.4822 - val_accuracy: 0.8520\n",
            "Epoch 7/10\n",
            "29/32 [==========================>...] - ETA: 0s - loss: 0.0907 - accuracy: 0.9828\n",
            "Epoch 00007: saving model to training_1/cp.ckpt\n",
            "32/32 [==============================] - 0s 6ms/step - loss: 0.0942 - accuracy: 0.9810 - val_loss: 0.4271 - val_accuracy: 0.8660\n",
            "Epoch 8/10\n",
            "29/32 [==========================>...] - ETA: 0s - loss: 0.0738 - accuracy: 0.9892\n",
            "Epoch 00008: saving model to training_1/cp.ckpt\n",
            "32/32 [==============================] - 0s 6ms/step - loss: 0.0718 - accuracy: 0.9900 - val_loss: 0.4376 - val_accuracy: 0.8480\n",
            "Epoch 9/10\n",
            "25/32 [======================>.......] - ETA: 0s - loss: 0.0474 - accuracy: 0.9975\n",
            "Epoch 00009: saving model to training_1/cp.ckpt\n",
            "32/32 [==============================] - 0s 7ms/step - loss: 0.0484 - accuracy: 0.9970 - val_loss: 0.4216 - val_accuracy: 0.8680\n",
            "Epoch 10/10\n",
            "26/32 [=======================>......] - ETA: 0s - loss: 0.0373 - accuracy: 0.9976\n",
            "Epoch 00010: saving model to training_1/cp.ckpt\n",
            "32/32 [==============================] - 0s 7ms/step - loss: 0.0375 - accuracy: 0.9980 - val_loss: 0.4264 - val_accuracy: 0.8710\n"
          ],
          "name": "stdout"
        },
        {
          "output_type": "execute_result",
          "data": {
            "text/plain": [
              "<tensorflow.python.keras.callbacks.History at 0x7fa2f8c6ef98>"
            ]
          },
          "metadata": {
            "tags": []
          },
          "execution_count": 7
        }
      ]
    },
    {
      "cell_type": "markdown",
      "metadata": {
        "id": "EffyhnlVG5Jk"
      },
      "source": [
        "## 未使用の未訓練のモデルを再構築してみる\n",
        "* 偶然であっちゃったみたいなだけ\n",
        "* だって訓練してないもの"
      ]
    },
    {
      "cell_type": "code",
      "metadata": {
        "id": "OtE7IXCnGPZi",
        "outputId": "3a559ae7-43d4-4826-82d3-12e3e35dcdf6",
        "colab": {
          "base_uri": "https://localhost:8080/",
          "height": 51
        }
      },
      "source": [
        "model = create_model()\n",
        "\n",
        "loss, acc = model.evaluate(test_images, test_labels)\n",
        "print('Untrained model, accuracy:{:5.2f}%'.format(100*acc))"
      ],
      "execution_count": 11,
      "outputs": [
        {
          "output_type": "stream",
          "text": [
            "32/32 [==============================] - 0s 2ms/step - loss: 2.3830 - accuracy: 0.0960\n",
            "Untrained model, accuracy: 9.60%\n"
          ],
          "name": "stdout"
        }
      ]
    },
    {
      "cell_type": "markdown",
      "metadata": {
        "id": "r9b41E1bHM_X"
      },
      "source": [
        "## そっから、チェックポイントから重みをロードして、再評価します"
      ]
    },
    {
      "cell_type": "code",
      "metadata": {
        "id": "Pq8ulKo_HDvq",
        "outputId": "9c9cd1b0-653b-4593-b797-6c1ff9df1ae8",
        "colab": {
          "base_uri": "https://localhost:8080/",
          "height": 51
        }
      },
      "source": [
        "model.load_weights(checkpoint_path)\n",
        "loss, acc = model.evaluate(test_images, test_labels)\n",
        "print(\"Restored model, accuracy: {:5.2f}%\".format(100*acc))"
      ],
      "execution_count": 13,
      "outputs": [
        {
          "output_type": "stream",
          "text": [
            "32/32 [==============================] - 0s 2ms/step - loss: 0.4264 - accuracy: 0.8710\n",
            "Restored model, accuracy: 87.10%\n"
          ],
          "name": "stdout"
        }
      ]
    },
    {
      "cell_type": "markdown",
      "metadata": {
        "id": "VuV2SrixJ0ZS"
      },
      "source": [
        "## check point callbackオプション 引数とか"
      ]
    },
    {
      "cell_type": "code",
      "metadata": {
        "id": "uPxlj3BCHaIQ",
        "outputId": "b0c52d3b-7c58-45ae-f855-2f79a77ea7a4",
        "colab": {
          "base_uri": "https://localhost:8080/",
          "height": 411
        }
      },
      "source": [
        "checkpoint_path = \"training_2/cp-{epoch:04d}.ckpt\"\n",
        "checkpoint_dir = os.path.dirname(checkpoint_path)\n",
        "\n",
        "cp_callback = tf.keras.callbacks.ModelCheckpoint(\n",
        "    checkpoint_path, verbose = 1,save_weights_only = True,\n",
        "    # save weights, every 5-epochs.\n",
        "    period = 5\n",
        ")\n",
        "\n",
        "model = create_model()\n",
        "model.fit(train_images, train_labels,\n",
        "          epochs = 50, callbacks = [cp_callback],\n",
        "          validation_data = (test_images, test_labels),\n",
        "          verbose = 0)"
      ],
      "execution_count": 14,
      "outputs": [
        {
          "output_type": "stream",
          "text": [
            "WARNING:tensorflow:`period` argument is deprecated. Please use `save_freq` to specify the frequency in number of batches seen.\n",
            "\n",
            "Epoch 00005: saving model to training_2/cp-0005.ckpt\n",
            "\n",
            "Epoch 00010: saving model to training_2/cp-0010.ckpt\n",
            "\n",
            "Epoch 00015: saving model to training_2/cp-0015.ckpt\n",
            "\n",
            "Epoch 00020: saving model to training_2/cp-0020.ckpt\n",
            "\n",
            "Epoch 00025: saving model to training_2/cp-0025.ckpt\n",
            "\n",
            "Epoch 00030: saving model to training_2/cp-0030.ckpt\n",
            "\n",
            "Epoch 00035: saving model to training_2/cp-0035.ckpt\n",
            "\n",
            "Epoch 00040: saving model to training_2/cp-0040.ckpt\n",
            "\n",
            "Epoch 00045: saving model to training_2/cp-0045.ckpt\n",
            "\n",
            "Epoch 00050: saving model to training_2/cp-0050.ckpt\n"
          ],
          "name": "stdout"
        },
        {
          "output_type": "execute_result",
          "data": {
            "text/plain": [
              "<tensorflow.python.keras.callbacks.History at 0x7fa2f5cdee10>"
            ]
          },
          "metadata": {
            "tags": []
          },
          "execution_count": 14
        }
      ]
    },
    {
      "cell_type": "markdown",
      "metadata": {
        "id": "fVBDeCpCKfWX"
      },
      "source": [
        "## 結果を見てみる...?"
      ]
    },
    {
      "cell_type": "code",
      "metadata": {
        "id": "K8cW7pu0KZYE",
        "outputId": "09f38e56-7727-4e70-be60-307287f24727",
        "colab": {
          "base_uri": "https://localhost:8080/",
          "height": 187
        }
      },
      "source": [
        "import pathlib\n",
        "# Sort the checkpoints by modification time.\n",
        "checkpoints = pathlib.Path(checkpoint_dir).glob(\"*.index\")\n",
        "checkpoints = sorted(checkpoints, key = lambda cp:cp.stat().st_mtime)\n",
        "checkpoints = [cp.with_suffix('') for cp in checkpoints]\n",
        "latest = str(checkpoints[-1])\n",
        "\n",
        "checkpoints"
      ],
      "execution_count": 15,
      "outputs": [
        {
          "output_type": "execute_result",
          "data": {
            "text/plain": [
              "[PosixPath('training_2/cp-0005.ckpt'),\n",
              " PosixPath('training_2/cp-0010.ckpt'),\n",
              " PosixPath('training_2/cp-0015.ckpt'),\n",
              " PosixPath('training_2/cp-0020.ckpt'),\n",
              " PosixPath('training_2/cp-0025.ckpt'),\n",
              " PosixPath('training_2/cp-0030.ckpt'),\n",
              " PosixPath('training_2/cp-0035.ckpt'),\n",
              " PosixPath('training_2/cp-0040.ckpt'),\n",
              " PosixPath('training_2/cp-0045.ckpt'),\n",
              " PosixPath('training_2/cp-0050.ckpt')]"
            ]
          },
          "metadata": {
            "tags": []
          },
          "execution_count": 15
        }
      ]
    },
    {
      "cell_type": "markdown",
      "metadata": {
        "id": "wC_tLjgyLCNz"
      },
      "source": [
        "## loadしよう"
      ]
    },
    {
      "cell_type": "code",
      "metadata": {
        "id": "ibPaMwybK4dL",
        "outputId": "cd15b317-ca56-4b5f-8e9d-d4e8741cfecd",
        "colab": {
          "base_uri": "https://localhost:8080/",
          "height": 68
        }
      },
      "source": [
        "model = create_model()\n",
        "model.load_weights(latest)\n",
        "loss, acc = model.evaluate(test_images, test_labels)\n",
        "print(acc)\n",
        "print(\"Restored model, accuracy: {:5.2f}%\".format(100*acc))"
      ],
      "execution_count": 18,
      "outputs": [
        {
          "output_type": "stream",
          "text": [
            "32/32 [==============================] - 0s 2ms/step - loss: 0.5002 - accuracy: 0.8740\n",
            "0.8740000128746033\n",
            "Restored model, accuracy: 87.40%\n"
          ],
          "name": "stdout"
        }
      ]
    },
    {
      "cell_type": "markdown",
      "metadata": {
        "id": "uhSoJOZaMVBn"
      },
      "source": [
        "## 重みを手動でセーブする\n",
        "* Model.save_weightsメソッドを使用します"
      ]
    },
    {
      "cell_type": "code",
      "metadata": {
        "id": "WH3xTJJ8LNNQ",
        "outputId": "a3dd5ac0-9028-4bbc-f11b-b2bca314a980",
        "colab": {
          "base_uri": "https://localhost:8080/",
          "height": 51
        }
      },
      "source": [
        "# Save the weights\n",
        "model.save_weights('./checkpoints/my_checkpoint')\n",
        "\n",
        "# Restore the weights\n",
        "model = create_model()\n",
        "model.load_weights('./checkpoints/my_checkpoint')\n",
        "\n",
        "loss,acc = model.evaluate(test_images, test_labels)\n",
        "print(\"Restored model, accuracy: {:5.2f}%\".format(100 * acc))"
      ],
      "execution_count": 19,
      "outputs": [
        {
          "output_type": "stream",
          "text": [
            "32/32 [==============================] - 0s 2ms/step - loss: 0.5002 - accuracy: 0.8740\n",
            "Restored model, accuracy: 87.40%\n"
          ],
          "name": "stdout"
        }
      ]
    },
    {
      "cell_type": "markdown",
      "metadata": {
        "id": "Qq9XREa0NGiE"
      },
      "source": [
        "## モデル全体をセーブする\n",
        "* モデル全体を\n",
        "    * 重み値、モデルの構成、optimizerの構成さえもファイルにセーブできる\n",
        "* 標準HDFSを使った基本的なセーブ・フォーマットを提供"
      ]
    },
    {
      "cell_type": "code",
      "metadata": {
        "id": "KJh_kp2yNCCM",
        "outputId": "2e94d02e-2c19-4514-a255-75fe41067b8b",
        "colab": {
          "base_uri": "https://localhost:8080/",
          "height": 187
        }
      },
      "source": [
        "model = create_model()\n",
        "model.fit(train_images, train_labels, epochs = 5)\n",
        "# Save entire model to a HDF5 file\n",
        "model.save('my_model.h5')"
      ],
      "execution_count": 20,
      "outputs": [
        {
          "output_type": "stream",
          "text": [
            "Epoch 1/5\n",
            "32/32 [==============================] - 0s 4ms/step - loss: 1.2381 - accuracy: 0.6250\n",
            "Epoch 2/5\n",
            "32/32 [==============================] - 0s 4ms/step - loss: 0.4497 - accuracy: 0.8880\n",
            "Epoch 3/5\n",
            "32/32 [==============================] - 0s 4ms/step - loss: 0.3081 - accuracy: 0.9160\n",
            "Epoch 4/5\n",
            "32/32 [==============================] - 0s 4ms/step - loss: 0.2222 - accuracy: 0.9490\n",
            "Epoch 5/5\n",
            "32/32 [==============================] - 0s 4ms/step - loss: 0.1613 - accuracy: 0.9640\n"
          ],
          "name": "stdout"
        }
      ]
    },
    {
      "cell_type": "code",
      "metadata": {
        "id": "HmBFPY1uVuwi",
        "outputId": "fc3f99a2-67ba-4fbc-8178-bcf73cbdc99e",
        "colab": {
          "base_uri": "https://localhost:8080/",
          "height": 255
        }
      },
      "source": [
        "# Recreate the exact same model, including weights and optimizer\n",
        "new_model = keras.models.load_model('my_model.h5')\n",
        "new_model.summary()"
      ],
      "execution_count": 21,
      "outputs": [
        {
          "output_type": "stream",
          "text": [
            "Model: \"sequential_13\"\n",
            "_________________________________________________________________\n",
            "Layer (type)                 Output Shape              Param #   \n",
            "=================================================================\n",
            "dense_26 (Dense)             (None, 512)               401920    \n",
            "_________________________________________________________________\n",
            "dropout_13 (Dropout)         (None, 512)               0         \n",
            "_________________________________________________________________\n",
            "dense_27 (Dense)             (None, 10)                5130      \n",
            "=================================================================\n",
            "Total params: 407,050\n",
            "Trainable params: 407,050\n",
            "Non-trainable params: 0\n",
            "_________________________________________________________________\n"
          ],
          "name": "stdout"
        }
      ]
    },
    {
      "cell_type": "code",
      "metadata": {
        "id": "NPfMoIU3V7ui",
        "outputId": "874487ae-e785-40eb-8f69-7b7d9a7017d6",
        "colab": {
          "base_uri": "https://localhost:8080/",
          "height": 51
        }
      },
      "source": [
        "loss, acc = new_model.evaluate(test_images, test_labels)\n",
        "print(\"Restored model, accuracy:{:5.2f}%\".format(100*acc))"
      ],
      "execution_count": 23,
      "outputs": [
        {
          "output_type": "stream",
          "text": [
            "32/32 [==============================] - 0s 2ms/step - loss: 0.4211 - accuracy: 0.0840\n",
            "Restored model, accuracy: 8.40%\n"
          ],
          "name": "stdout"
        }
      ]
    },
    {
      "cell_type": "code",
      "metadata": {
        "id": "curSYJBdWI6i"
      },
      "source": [
        ""
      ],
      "execution_count": null,
      "outputs": []
    }
  ]
}
