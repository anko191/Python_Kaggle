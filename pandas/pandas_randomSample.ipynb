{
  "nbformat": 4,
  "nbformat_minor": 0,
  "metadata": {
    "colab": {
      "name": "pandas_randomSample",
      "provenance": [],
      "collapsed_sections": [],
      "authorship_tag": "ABX9TyMbqM6Q5aVgs5UV1XFzbicj",
      "include_colab_link": true
    },
    "kernelspec": {
      "name": "python3",
      "display_name": "Python 3"
    }
  },
  "cells": [
    {
      "cell_type": "markdown",
      "metadata": {
        "id": "view-in-github",
        "colab_type": "text"
      },
      "source": [
        "<a href=\"https://colab.research.google.com/github/anko191/Python_Kaggle/blob/master/pandas_randomSample.ipynb\" target=\"_parent\"><img src=\"https://colab.research.google.com/assets/colab-badge.svg\" alt=\"Open In Colab\"/></a>"
      ]
    },
    {
      "cell_type": "code",
      "metadata": {
        "id": "BG7J06Fx90Ub",
        "colab_type": "code",
        "colab": {
          "base_uri": "https://localhost:8080/",
          "height": 88
        },
        "outputId": "a19c6645-f7fd-46ec-f249-e57a57bc624a"
      },
      "source": [
        "import pandas as pd\n",
        "import seaborn as sns\n",
        "df = sns.load_dataset(\"iris\")\n",
        "print(df.shape)"
      ],
      "execution_count": 69,
      "outputs": [
        {
          "output_type": "stream",
          "text": [
            "/usr/local/lib/python3.6/dist-packages/statsmodels/tools/_testing.py:19: FutureWarning: pandas.util.testing is deprecated. Use the functions in the public API at pandas.testing instead.\n",
            "  import pandas.util.testing as tm\n"
          ],
          "name": "stderr"
        },
        {
          "output_type": "stream",
          "text": [
            "(150, 5)\n"
          ],
          "name": "stdout"
        }
      ]
    },
    {
      "cell_type": "code",
      "metadata": {
        "id": "0RNV-S2Z96Vp",
        "colab_type": "code",
        "colab": {
          "base_uri": "https://localhost:8080/",
          "height": 51
        },
        "outputId": "20cbc879-aace-430b-a14e-f092bb9dc6c1"
      },
      "source": [
        "print(df.sample())"
      ],
      "execution_count": 70,
      "outputs": [
        {
          "output_type": "stream",
          "text": [
            "     sepal_length  sepal_width  petal_length  petal_width    species\n",
            "121           5.6          2.8           4.9          2.0  virginica\n"
          ],
          "name": "stdout"
        }
      ]
    },
    {
      "cell_type": "code",
      "metadata": {
        "id": "oNQt9idh-bfQ",
        "colab_type": "code",
        "colab": {
          "base_uri": "https://localhost:8080/",
          "height": 85
        },
        "outputId": "aa7f67db-f79e-4c15-d8a1-571ddfe3139d"
      },
      "source": [
        "print(df.sample(n = 3))"
      ],
      "execution_count": 71,
      "outputs": [
        {
          "output_type": "stream",
          "text": [
            "     sepal_length  sepal_width  petal_length  petal_width    species\n",
            "5             5.4          3.9           1.7          0.4     setosa\n",
            "113           5.7          2.5           5.0          2.0  virginica\n",
            "13            4.3          3.0           1.1          0.1     setosa\n"
          ],
          "name": "stdout"
        }
      ]
    },
    {
      "cell_type": "code",
      "metadata": {
        "id": "xzNDXmef-dFo",
        "colab_type": "code",
        "colab": {
          "base_uri": "https://localhost:8080/",
          "height": 136
        },
        "outputId": "19568f50-738d-4825-eef3-6f47fd6a594b"
      },
      "source": [
        "print(df.sample(frac = 0.04))"
      ],
      "execution_count": 72,
      "outputs": [
        {
          "output_type": "stream",
          "text": [
            "     sepal_length  sepal_width  petal_length  petal_width    species\n",
            "125           7.2          3.2           6.0          1.8  virginica\n",
            "133           6.3          2.8           5.1          1.5  virginica\n",
            "107           7.3          2.9           6.3          1.8  virginica\n",
            "123           6.3          2.7           4.9          1.8  virginica\n",
            "128           6.4          2.8           5.6          2.1  virginica\n",
            "9             4.9          3.1           1.5          0.1     setosa\n"
          ],
          "name": "stdout"
        }
      ]
    },
    {
      "cell_type": "code",
      "metadata": {
        "id": "Xb-ayMwY-gRX",
        "colab_type": "code",
        "colab": {
          "base_uri": "https://localhost:8080/",
          "height": 85
        },
        "outputId": "dd353a8e-19df-4da4-e3b4-732fd5023c95"
      },
      "source": [
        "print(df.sample(n = 3, random_state = 0)) # fix 固定"
      ],
      "execution_count": 76,
      "outputs": [
        {
          "output_type": "stream",
          "text": [
            "     sepal_length  sepal_width  petal_length  petal_width     species\n",
            "114           5.8          2.8           5.1          2.4   virginica\n",
            "62            6.0          2.2           4.0          1.0  versicolor\n",
            "33            5.5          4.2           1.4          0.2      setosa\n"
          ],
          "name": "stdout"
        }
      ]
    },
    {
      "cell_type": "code",
      "metadata": {
        "id": "uxOxk5pp-mHX",
        "colab_type": "code",
        "colab": {
          "base_uri": "https://localhost:8080/",
          "height": 85
        },
        "outputId": "b07d874f-3bde-433b-865d-5acdc1e8a045"
      },
      "source": [
        "print(df.head(3).sample(n = 3, replace = True))"
      ],
      "execution_count": 77,
      "outputs": [
        {
          "output_type": "stream",
          "text": [
            "   sepal_length  sepal_width  petal_length  petal_width species\n",
            "2           4.7          3.2           1.3          0.2  setosa\n",
            "2           4.7          3.2           1.3          0.2  setosa\n",
            "2           4.7          3.2           1.3          0.2  setosa\n"
          ],
          "name": "stdout"
        }
      ]
    },
    {
      "cell_type": "code",
      "metadata": {
        "id": "uRj0BH74-2pZ",
        "colab_type": "code",
        "colab": {
          "base_uri": "https://localhost:8080/",
          "height": 119
        },
        "outputId": "6ede249e-1acb-4551-caa1-4714adf755fc"
      },
      "source": [
        "print(df.head(3).sample(n = 5, replace=True))"
      ],
      "execution_count": 78,
      "outputs": [
        {
          "output_type": "stream",
          "text": [
            "   sepal_length  sepal_width  petal_length  petal_width species\n",
            "1           4.9          3.0           1.4          0.2  setosa\n",
            "0           5.1          3.5           1.4          0.2  setosa\n",
            "0           5.1          3.5           1.4          0.2  setosa\n",
            "0           5.1          3.5           1.4          0.2  setosa\n",
            "0           5.1          3.5           1.4          0.2  setosa\n"
          ],
          "name": "stdout"
        }
      ]
    },
    {
      "cell_type": "code",
      "metadata": {
        "id": "i8PmUaA3-7h_",
        "colab_type": "code",
        "colab": {
          "base_uri": "https://localhost:8080/",
          "height": 119
        },
        "outputId": "d1c0ccc6-27a2-4dbe-aa50-8a1e6836aff2"
      },
      "source": [
        "print(df.head().sample(n = 2, axis = 1))"
      ],
      "execution_count": 79,
      "outputs": [
        {
          "output_type": "stream",
          "text": [
            "   petal_length  sepal_length\n",
            "0           1.4           5.1\n",
            "1           1.4           4.9\n",
            "2           1.3           4.7\n",
            "3           1.5           4.6\n",
            "4           1.4           5.0\n"
          ],
          "name": "stdout"
        }
      ]
    },
    {
      "cell_type": "code",
      "metadata": {
        "id": "uhVm77Fa_NOg",
        "colab_type": "code",
        "colab": {}
      },
      "source": [
        ""
      ],
      "execution_count": null,
      "outputs": []
    }
  ]
}
