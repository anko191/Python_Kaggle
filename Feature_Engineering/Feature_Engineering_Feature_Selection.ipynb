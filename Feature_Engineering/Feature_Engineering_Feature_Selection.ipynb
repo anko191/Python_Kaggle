{
  "nbformat": 4,
  "nbformat_minor": 0,
  "metadata": {
    "colab": {
      "name": "Feature_Engineering_Feature_Selection.ipynb",
      "provenance": [],
      "authorship_tag": "ABX9TyP09PuifamILreOqMiOT5hX",
      "include_colab_link": true
    },
    "kernelspec": {
      "name": "python3",
      "display_name": "Python 3"
    }
  },
  "cells": [
    {
      "cell_type": "markdown",
      "metadata": {
        "id": "view-in-github",
        "colab_type": "text"
      },
      "source": [
        "<a href=\"https://colab.research.google.com/github/anko191/Python_Kaggle/blob/master/Feature_Engineering/Feature_Engineering_Feature_Selection.ipynb\" target=\"_parent\"><img src=\"https://colab.research.google.com/assets/colab-badge.svg\" alt=\"Open In Colab\"/></a>"
      ]
    },
    {
      "cell_type": "markdown",
      "metadata": {
        "id": "0XHZz7zGFRvd",
        "colab_type": "text"
      },
      "source": [
        "# 普通はさ、色んなエンコーディングとか特徴量生成をしてたら、数100, 数1000とか出てくるよね？\n",
        "* これには2つの問題があります。\n",
        "    * 1つ目は、特徴量が多ければ多い程、\n",
        "        * **トレーニングセットとバリデーションセットにオーバーフィットする可能性が高く**なります\n",
        "        * これは、新しいデータへの一般化においてモデルの性能を低下させる原因となります\n",
        "    * 2つ目は、特徴量が多ければ多い程、\n",
        "        * モデルを訓練してハイパーパラメータを最適化するのに時間がかかります。\n",
        "        * また、ユーザ向けの製品を構築する場合、推論を可能な限り高速化したいと思うでしょう\n",
        "        * 少ない特徴量を使用すると、**予測性能を犠牲にして推論を高速化する**ことが出来ます。\n",
        "* これらの問題を解決するために、\n",
        "* **特徴選択テクニックを使用して、モデルに最も有益な特徴を維持することが出来ます。**"
      ]
    },
    {
      "cell_type": "code",
      "metadata": {
        "id": "TH22utVqFZDA",
        "colab_type": "code",
        "colab": {}
      },
      "source": [
        "# %matplotlib inline\n",
        "\n",
        "import itertools\n",
        "import matplotlib.pyplot as plt\n",
        "import numpy as np\n",
        "import pandas as pd\n",
        "import lightgbm as lgb\n",
        "from sklearn.preprocessing import LabelEncoder\n",
        "from sklearn import metrics\n",
        "\n",
        "ks = pd.read_csv('/content/ks-projects-201801.csv',\n",
        "                 parse_dates=['deadline', 'launched'])\n",
        "\n",
        "# Drop live projects\n",
        "ks = ks.query('state != \"live\"')\n",
        "\n",
        "# Add outcome column, \"successful\" == 1, others are 0\n",
        "ks = ks.assign(outcome=(ks['state'] == 'successful').astype(int))\n",
        "\n",
        "# Timestamp features\n",
        "ks = ks.assign(hour=ks.launched.dt.hour,\n",
        "               day=ks.launched.dt.day,\n",
        "               month=ks.launched.dt.month,\n",
        "               year=ks.launched.dt.year)\n",
        "\n",
        "# Label encoding\n",
        "cat_features = ['category', 'currency', 'country']\n",
        "encoder = LabelEncoder()\n",
        "encoded = ks[cat_features].apply(encoder.fit_transform)\n",
        "\n",
        "data_cols = ['goal', 'hour', 'day', 'month', 'year', 'outcome']\n",
        "baseline_data = ks[data_cols].join(encoded)\n",
        "\n",
        "cat_features = ['category', 'currency', 'country']\n",
        "interactions = pd.DataFrame(index=ks.index)\n",
        "for col1, col2 in itertools.combinations(cat_features, 2):\n",
        "    new_col_name = '_'.join([col1, col2])\n",
        "    # Convert to strings and combine\n",
        "    new_values = ks[col1].map(str) + \"_\" + ks[col2].map(str)\n",
        "    label_enc = LabelEncoder()\n",
        "    interactions[new_col_name] = label_enc.fit_transform(new_values)\n",
        "baseline_data = baseline_data.join(interactions)\n",
        "\n",
        "launched = pd.Series(ks.index, index=ks.launched, name=\"count_7_days\").sort_index()\n",
        "count_7_days = launched.rolling('7d').count() - 1\n",
        "count_7_days.index = launched.values\n",
        "count_7_days = count_7_days.reindex(ks.index)\n",
        "\n",
        "baseline_data = baseline_data.join(count_7_days)\n",
        "\n",
        "def time_since_last_project(series):\n",
        "    # Return the time in hours\n",
        "    return series.diff().dt.total_seconds() / 3600.\n",
        "\n",
        "df = ks[['category', 'launched']].sort_values('launched')\n",
        "timedeltas = df.groupby('category').transform(time_since_last_project)\n",
        "timedeltas = timedeltas.fillna(timedeltas.max())\n",
        "\n",
        "baseline_data = baseline_data.join(timedeltas.rename({'launched': 'time_since_last_project'}, axis=1))\n",
        "\n",
        "def get_data_splits(dataframe, valid_fraction=0.1):\n",
        "    valid_fraction = 0.1\n",
        "    valid_size = int(len(dataframe) * valid_fraction)\n",
        "\n",
        "    train = dataframe[:-valid_size * 2]\n",
        "    # valid size == test size, last two sections of the data\n",
        "    valid = dataframe[-valid_size * 2:-valid_size]\n",
        "    test = dataframe[-valid_size:]\n",
        "    \n",
        "    return train, valid, test\n",
        "\n",
        "def train_model(train, valid):\n",
        "    feature_cols = train.columns.drop('outcome')\n",
        "\n",
        "    dtrain = lgb.Dataset(train[feature_cols], label=train['outcome'])\n",
        "    dvalid = lgb.Dataset(valid[feature_cols], label=valid['outcome'])\n",
        "\n",
        "    param = {'num_leaves': 64, 'objective': 'binary', \n",
        "             'metric': 'auc', 'seed': 7}\n",
        "    print(\"Training model!\")\n",
        "    bst = lgb.train(param, dtrain, num_boost_round=1000, valid_sets=[dvalid], \n",
        "                    early_stopping_rounds=10, verbose_eval=False)\n",
        "\n",
        "    valid_pred = bst.predict(valid[feature_cols])\n",
        "    valid_score = metrics.roc_auc_score(valid['outcome'], valid_pred)\n",
        "    print(f\"Validation AUC score: {valid_score:.4f}\")\n",
        "    return bst"
      ],
      "execution_count": 1,
      "outputs": []
    },
    {
      "cell_type": "markdown",
      "metadata": {
        "id": "87sYbQ6LG5QP",
        "colab_type": "text"
      },
      "source": [
        "# Univariate Feature Selection 一変量特徴の選択\n",
        "* 最もシンプルで高速な方法は、一変量統計検定に基づいています。\n",
        "    * 各特徴について、χ^2 とか ANOVAのような統計的検定を使って、\n",
        "    * ターゲットがどれだけ特徴に強く依存しているかを測定できるよ！\n",
        "* scikit-learnの特徴選択モジュールから、\n",
        "    * sklearn.feature_selection.SelectKBest を使え\n",
        "    * いくつかのスコアリング関数を与えられたK個の最良の特徴を返します。\n",
        "    * 我々の分類問題では、このモジュールは3つのスコアリング関数を提供する\n",
        "        * χ^2, ANOVA F-Value、そして相互情報スコア(mutual information score)を使います.\n",
        "    * F- 値は**特徴変数とターゲット間の線形依存性**を測定\n",
        "        * これは、間の関係が日線形である場合、スコアは特徴変数とターゲットの関係を過小評価する可能性があることが出来ます。\n",
        "        * 相互情報スコアは、ノンパラメトリックであるため、**非線形関係**をとらえることが出来ます\n",
        "* SelectKBestでは、スコアリング関数のスコアに基づいて、保持する特徴の数を定義します。\n",
        "    * .fit_transform(features, target)を使うと、選択された特徴量のみの配列が得られます\n"
      ]
    },
    {
      "cell_type": "code",
      "metadata": {
        "id": "gRezz5RlGq2z",
        "colab_type": "code",
        "colab": {
          "base_uri": "https://localhost:8080/",
          "height": 439
        },
        "outputId": "7d2a1427-0886-4243-9cf6-7d0df34f8a3a"
      },
      "source": [
        "baseline_data"
      ],
      "execution_count": 2,
      "outputs": [
        {
          "output_type": "execute_result",
          "data": {
            "text/html": [
              "<div>\n",
              "<style scoped>\n",
              "    .dataframe tbody tr th:only-of-type {\n",
              "        vertical-align: middle;\n",
              "    }\n",
              "\n",
              "    .dataframe tbody tr th {\n",
              "        vertical-align: top;\n",
              "    }\n",
              "\n",
              "    .dataframe thead th {\n",
              "        text-align: right;\n",
              "    }\n",
              "</style>\n",
              "<table border=\"1\" class=\"dataframe\">\n",
              "  <thead>\n",
              "    <tr style=\"text-align: right;\">\n",
              "      <th></th>\n",
              "      <th>goal</th>\n",
              "      <th>hour</th>\n",
              "      <th>day</th>\n",
              "      <th>month</th>\n",
              "      <th>year</th>\n",
              "      <th>outcome</th>\n",
              "      <th>category</th>\n",
              "      <th>currency</th>\n",
              "      <th>country</th>\n",
              "      <th>category_currency</th>\n",
              "      <th>category_country</th>\n",
              "      <th>currency_country</th>\n",
              "      <th>count_7_days</th>\n",
              "      <th>time_since_last_project</th>\n",
              "    </tr>\n",
              "  </thead>\n",
              "  <tbody>\n",
              "    <tr>\n",
              "      <th>0</th>\n",
              "      <td>1000.0</td>\n",
              "      <td>12</td>\n",
              "      <td>11</td>\n",
              "      <td>8</td>\n",
              "      <td>2015</td>\n",
              "      <td>0</td>\n",
              "      <td>108</td>\n",
              "      <td>5</td>\n",
              "      <td>9</td>\n",
              "      <td>794</td>\n",
              "      <td>1119</td>\n",
              "      <td>17</td>\n",
              "      <td>160.0</td>\n",
              "      <td>786.025000</td>\n",
              "    </tr>\n",
              "    <tr>\n",
              "      <th>1</th>\n",
              "      <td>30000.0</td>\n",
              "      <td>4</td>\n",
              "      <td>2</td>\n",
              "      <td>9</td>\n",
              "      <td>2017</td>\n",
              "      <td>0</td>\n",
              "      <td>93</td>\n",
              "      <td>13</td>\n",
              "      <td>22</td>\n",
              "      <td>691</td>\n",
              "      <td>964</td>\n",
              "      <td>29</td>\n",
              "      <td>98.0</td>\n",
              "      <td>59.598333</td>\n",
              "    </tr>\n",
              "    <tr>\n",
              "      <th>2</th>\n",
              "      <td>45000.0</td>\n",
              "      <td>0</td>\n",
              "      <td>12</td>\n",
              "      <td>1</td>\n",
              "      <td>2013</td>\n",
              "      <td>0</td>\n",
              "      <td>93</td>\n",
              "      <td>13</td>\n",
              "      <td>22</td>\n",
              "      <td>691</td>\n",
              "      <td>964</td>\n",
              "      <td>29</td>\n",
              "      <td>81.0</td>\n",
              "      <td>359.383333</td>\n",
              "    </tr>\n",
              "    <tr>\n",
              "      <th>3</th>\n",
              "      <td>5000.0</td>\n",
              "      <td>3</td>\n",
              "      <td>17</td>\n",
              "      <td>3</td>\n",
              "      <td>2012</td>\n",
              "      <td>0</td>\n",
              "      <td>90</td>\n",
              "      <td>13</td>\n",
              "      <td>22</td>\n",
              "      <td>675</td>\n",
              "      <td>947</td>\n",
              "      <td>29</td>\n",
              "      <td>103.0</td>\n",
              "      <td>1.293889</td>\n",
              "    </tr>\n",
              "    <tr>\n",
              "      <th>4</th>\n",
              "      <td>19500.0</td>\n",
              "      <td>8</td>\n",
              "      <td>4</td>\n",
              "      <td>7</td>\n",
              "      <td>2015</td>\n",
              "      <td>0</td>\n",
              "      <td>55</td>\n",
              "      <td>13</td>\n",
              "      <td>22</td>\n",
              "      <td>423</td>\n",
              "      <td>591</td>\n",
              "      <td>29</td>\n",
              "      <td>145.0</td>\n",
              "      <td>131.568333</td>\n",
              "    </tr>\n",
              "    <tr>\n",
              "      <th>...</th>\n",
              "      <td>...</td>\n",
              "      <td>...</td>\n",
              "      <td>...</td>\n",
              "      <td>...</td>\n",
              "      <td>...</td>\n",
              "      <td>...</td>\n",
              "      <td>...</td>\n",
              "      <td>...</td>\n",
              "      <td>...</td>\n",
              "      <td>...</td>\n",
              "      <td>...</td>\n",
              "      <td>...</td>\n",
              "      <td>...</td>\n",
              "      <td>...</td>\n",
              "    </tr>\n",
              "    <tr>\n",
              "      <th>40908</th>\n",
              "      <td>1000.0</td>\n",
              "      <td>18</td>\n",
              "      <td>18</td>\n",
              "      <td>7</td>\n",
              "      <td>2014</td>\n",
              "      <td>1</td>\n",
              "      <td>65</td>\n",
              "      <td>13</td>\n",
              "      <td>22</td>\n",
              "      <td>499</td>\n",
              "      <td>704</td>\n",
              "      <td>29</td>\n",
              "      <td>326.0</td>\n",
              "      <td>87.986389</td>\n",
              "    </tr>\n",
              "    <tr>\n",
              "      <th>40909</th>\n",
              "      <td>1500.0</td>\n",
              "      <td>17</td>\n",
              "      <td>3</td>\n",
              "      <td>5</td>\n",
              "      <td>2012</td>\n",
              "      <td>1</td>\n",
              "      <td>55</td>\n",
              "      <td>13</td>\n",
              "      <td>22</td>\n",
              "      <td>423</td>\n",
              "      <td>591</td>\n",
              "      <td>29</td>\n",
              "      <td>102.0</td>\n",
              "      <td>12.569444</td>\n",
              "    </tr>\n",
              "    <tr>\n",
              "      <th>40910</th>\n",
              "      <td>30000.0</td>\n",
              "      <td>22</td>\n",
              "      <td>1</td>\n",
              "      <td>8</td>\n",
              "      <td>2014</td>\n",
              "      <td>1</td>\n",
              "      <td>40</td>\n",
              "      <td>13</td>\n",
              "      <td>22</td>\n",
              "      <td>314</td>\n",
              "      <td>443</td>\n",
              "      <td>29</td>\n",
              "      <td>253.0</td>\n",
              "      <td>73.143611</td>\n",
              "    </tr>\n",
              "    <tr>\n",
              "      <th>40911</th>\n",
              "      <td>230000.0</td>\n",
              "      <td>6</td>\n",
              "      <td>10</td>\n",
              "      <td>3</td>\n",
              "      <td>2012</td>\n",
              "      <td>0</td>\n",
              "      <td>39</td>\n",
              "      <td>13</td>\n",
              "      <td>22</td>\n",
              "      <td>305</td>\n",
              "      <td>430</td>\n",
              "      <td>29</td>\n",
              "      <td>93.0</td>\n",
              "      <td>5.880000</td>\n",
              "    </tr>\n",
              "    <tr>\n",
              "      <th>40912</th>\n",
              "      <td>500.0</td>\n",
              "      <td>18</td>\n",
              "      <td>4</td>\n",
              "      <td>1</td>\n",
              "      <td>2015</td>\n",
              "      <td>0</td>\n",
              "      <td>121</td>\n",
              "      <td>4</td>\n",
              "      <td>17</td>\n",
              "      <td>878</td>\n",
              "      <td>1233</td>\n",
              "      <td>16</td>\n",
              "      <td>76.0</td>\n",
              "      <td>1079.158333</td>\n",
              "    </tr>\n",
              "  </tbody>\n",
              "</table>\n",
              "<p>40616 rows × 14 columns</p>\n",
              "</div>"
            ],
            "text/plain": [
              "           goal  hour  ...  count_7_days  time_since_last_project\n",
              "0        1000.0    12  ...         160.0               786.025000\n",
              "1       30000.0     4  ...          98.0                59.598333\n",
              "2       45000.0     0  ...          81.0               359.383333\n",
              "3        5000.0     3  ...         103.0                 1.293889\n",
              "4       19500.0     8  ...         145.0               131.568333\n",
              "...         ...   ...  ...           ...                      ...\n",
              "40908    1000.0    18  ...         326.0                87.986389\n",
              "40909    1500.0    17  ...         102.0                12.569444\n",
              "40910   30000.0    22  ...         253.0                73.143611\n",
              "40911  230000.0     6  ...          93.0                 5.880000\n",
              "40912     500.0    18  ...          76.0              1079.158333\n",
              "\n",
              "[40616 rows x 14 columns]"
            ]
          },
          "metadata": {
            "tags": []
          },
          "execution_count": 2
        }
      ]
    },
    {
      "cell_type": "code",
      "metadata": {
        "id": "1AV_64XYIyYr",
        "colab_type": "code",
        "colab": {
          "base_uri": "https://localhost:8080/",
          "height": 136
        },
        "outputId": "b840eb32-b7c9-44d0-9481-7b023aae0d8f"
      },
      "source": [
        "from sklearn.feature_selection import SelectKBest, f_classif\n",
        "# セット？\n",
        "feature_cols = baseline_data.columns.drop('outcome')\n",
        "selector = SelectKBest(f_classif, k = 5)\n",
        "X_new = selector.fit_transform(baseline_data[feature_cols], baseline_data['outcome'])\n",
        "X_new"
      ],
      "execution_count": 5,
      "outputs": [
        {
          "output_type": "execute_result",
          "data": {
            "text/plain": [
              "array([[2015.,    5.,    9.,   17.,  160.],\n",
              "       [2017.,   13.,   22.,   29.,   98.],\n",
              "       [2013.,   13.,   22.,   29.,   81.],\n",
              "       ...,\n",
              "       [2014.,   13.,   22.,   29.,  253.],\n",
              "       [2012.,   13.,   22.,   29.,   93.],\n",
              "       [2015.,    4.,   17.,   16.,   76.]])"
            ]
          },
          "metadata": {
            "tags": []
          },
          "execution_count": 5
        }
      ]
    },
    {
      "cell_type": "markdown",
      "metadata": {
        "id": "hiL1lVu8JoTL",
        "colab_type": "text"
      },
      "source": [
        "## ここで間違えたことをした\n",
        "* 統計的な検定は、すべてのデータを使って計算されます。\n",
        "* これは検証セットとテストセットからの情報が、我々が保持する特徴に影響を与え、\n",
        "* 漏れ(leakage)の原因を導入する可能性があることを意味します。\n",
        "* つまり、**学習のセットだけを使って特徴を選択すべき**だということです。"
      ]
    },
    {
      "cell_type": "code",
      "metadata": {
        "id": "usGDr-3mJNn8",
        "colab_type": "code",
        "colab": {
          "base_uri": "https://localhost:8080/",
          "height": 136
        },
        "outputId": "0996d1ff-3ea9-424b-b0a9-be0f06d83430"
      },
      "source": [
        "feature_cols = baseline_data.columns.drop('outcome')\n",
        "train, valid, _ = get_data_splits(baseline_data)\n",
        "\n",
        "selector = SelectKBest(f_classif, k = 5)\n",
        "X_new = selector.fit_transform(train[feature_cols], train['outcome'])\n",
        "X_new"
      ],
      "execution_count": 6,
      "outputs": [
        {
          "output_type": "execute_result",
          "data": {
            "text/plain": [
              "array([[2015.,    5.,    9.,   17.,  160.],\n",
              "       [2017.,   13.,   22.,   29.,   98.],\n",
              "       [2013.,   13.,   22.,   29.,   81.],\n",
              "       ...,\n",
              "       [2012.,   13.,   22.,   29.,   96.],\n",
              "       [2015.,   13.,   22.,   29.,  153.],\n",
              "       [2013.,   13.,   22.,   29.,   84.]])"
            ]
          },
          "metadata": {
            "tags": []
          },
          "execution_count": 6
        }
      ]
    },
    {
      "cell_type": "markdown",
      "metadata": {
        "id": "6CVbrbkwKmp6",
        "colab_type": "text"
      },
      "source": [
        "* 選択された特徴量が、データセット全体を使用した時とは異なることに気が付くはず\n",
        "* これで選択された特徴量が得られましたが、それはトレーニング・セットの特徴量だけです。\n",
        "* 検証セットとテストセットから拒絶された特徴を削除するには、\n",
        "* データセットの度の列がSelectKBestで保持されてるかを把握する必要があります。\n",
        "* これを行うには、**.inverse_transform**を使用して、元のでーたの形状を持つ配列を取得しています。"
      ]
    },
    {
      "cell_type": "code",
      "metadata": {
        "id": "YJH-vS87KgcU",
        "colab_type": "code",
        "colab": {
          "base_uri": "https://localhost:8080/",
          "height": 224
        },
        "outputId": "51379772-3771-4955-e745-f9085a51b3f3"
      },
      "source": [
        "selected_features = pd.DataFrame(selector.inverse_transform(X_new),\n",
        "                                 index = train.index,\n",
        "                                 columns = feature_cols)\n",
        "selected_features.head()"
      ],
      "execution_count": 7,
      "outputs": [
        {
          "output_type": "execute_result",
          "data": {
            "text/html": [
              "<div>\n",
              "<style scoped>\n",
              "    .dataframe tbody tr th:only-of-type {\n",
              "        vertical-align: middle;\n",
              "    }\n",
              "\n",
              "    .dataframe tbody tr th {\n",
              "        vertical-align: top;\n",
              "    }\n",
              "\n",
              "    .dataframe thead th {\n",
              "        text-align: right;\n",
              "    }\n",
              "</style>\n",
              "<table border=\"1\" class=\"dataframe\">\n",
              "  <thead>\n",
              "    <tr style=\"text-align: right;\">\n",
              "      <th></th>\n",
              "      <th>goal</th>\n",
              "      <th>hour</th>\n",
              "      <th>day</th>\n",
              "      <th>month</th>\n",
              "      <th>year</th>\n",
              "      <th>category</th>\n",
              "      <th>currency</th>\n",
              "      <th>country</th>\n",
              "      <th>category_currency</th>\n",
              "      <th>category_country</th>\n",
              "      <th>currency_country</th>\n",
              "      <th>count_7_days</th>\n",
              "      <th>time_since_last_project</th>\n",
              "    </tr>\n",
              "  </thead>\n",
              "  <tbody>\n",
              "    <tr>\n",
              "      <th>0</th>\n",
              "      <td>0.0</td>\n",
              "      <td>0.0</td>\n",
              "      <td>0.0</td>\n",
              "      <td>0.0</td>\n",
              "      <td>2015.0</td>\n",
              "      <td>0.0</td>\n",
              "      <td>5.0</td>\n",
              "      <td>9.0</td>\n",
              "      <td>0.0</td>\n",
              "      <td>0.0</td>\n",
              "      <td>17.0</td>\n",
              "      <td>160.0</td>\n",
              "      <td>0.0</td>\n",
              "    </tr>\n",
              "    <tr>\n",
              "      <th>1</th>\n",
              "      <td>0.0</td>\n",
              "      <td>0.0</td>\n",
              "      <td>0.0</td>\n",
              "      <td>0.0</td>\n",
              "      <td>2017.0</td>\n",
              "      <td>0.0</td>\n",
              "      <td>13.0</td>\n",
              "      <td>22.0</td>\n",
              "      <td>0.0</td>\n",
              "      <td>0.0</td>\n",
              "      <td>29.0</td>\n",
              "      <td>98.0</td>\n",
              "      <td>0.0</td>\n",
              "    </tr>\n",
              "    <tr>\n",
              "      <th>2</th>\n",
              "      <td>0.0</td>\n",
              "      <td>0.0</td>\n",
              "      <td>0.0</td>\n",
              "      <td>0.0</td>\n",
              "      <td>2013.0</td>\n",
              "      <td>0.0</td>\n",
              "      <td>13.0</td>\n",
              "      <td>22.0</td>\n",
              "      <td>0.0</td>\n",
              "      <td>0.0</td>\n",
              "      <td>29.0</td>\n",
              "      <td>81.0</td>\n",
              "      <td>0.0</td>\n",
              "    </tr>\n",
              "    <tr>\n",
              "      <th>3</th>\n",
              "      <td>0.0</td>\n",
              "      <td>0.0</td>\n",
              "      <td>0.0</td>\n",
              "      <td>0.0</td>\n",
              "      <td>2012.0</td>\n",
              "      <td>0.0</td>\n",
              "      <td>13.0</td>\n",
              "      <td>22.0</td>\n",
              "      <td>0.0</td>\n",
              "      <td>0.0</td>\n",
              "      <td>29.0</td>\n",
              "      <td>103.0</td>\n",
              "      <td>0.0</td>\n",
              "    </tr>\n",
              "    <tr>\n",
              "      <th>4</th>\n",
              "      <td>0.0</td>\n",
              "      <td>0.0</td>\n",
              "      <td>0.0</td>\n",
              "      <td>0.0</td>\n",
              "      <td>2015.0</td>\n",
              "      <td>0.0</td>\n",
              "      <td>13.0</td>\n",
              "      <td>22.0</td>\n",
              "      <td>0.0</td>\n",
              "      <td>0.0</td>\n",
              "      <td>29.0</td>\n",
              "      <td>145.0</td>\n",
              "      <td>0.0</td>\n",
              "    </tr>\n",
              "  </tbody>\n",
              "</table>\n",
              "</div>"
            ],
            "text/plain": [
              "   goal  hour  day  ...  currency_country  count_7_days  time_since_last_project\n",
              "0   0.0   0.0  0.0  ...              17.0         160.0                      0.0\n",
              "1   0.0   0.0  0.0  ...              29.0          98.0                      0.0\n",
              "2   0.0   0.0  0.0  ...              29.0          81.0                      0.0\n",
              "3   0.0   0.0  0.0  ...              29.0         103.0                      0.0\n",
              "4   0.0   0.0  0.0  ...              29.0         145.0                      0.0\n",
              "\n",
              "[5 rows x 13 columns]"
            ]
          },
          "metadata": {
            "tags": []
          },
          "execution_count": 7
        }
      ]
    },
    {
      "cell_type": "markdown",
      "metadata": {
        "id": "r0ZRSmXeLguw",
        "colab_type": "text"
      },
      "source": [
        "## 分散が0ではない特徴量を選択することで、選択された列を見つけることが出来る\n",
        "* ドロップされた列はすべてゼロで埋められています"
      ]
    },
    {
      "cell_type": "code",
      "metadata": {
        "id": "TKrjVdetLUHz",
        "colab_type": "code",
        "colab": {
          "base_uri": "https://localhost:8080/",
          "height": 204
        },
        "outputId": "99425d12-4d02-40fe-bf47-c532718f5fb8"
      },
      "source": [
        "selected_columns = selected_features.columns[selected_features.var() != 0]\n",
        "\n",
        "valid[selected_columns].head()"
      ],
      "execution_count": 8,
      "outputs": [
        {
          "output_type": "execute_result",
          "data": {
            "text/html": [
              "<div>\n",
              "<style scoped>\n",
              "    .dataframe tbody tr th:only-of-type {\n",
              "        vertical-align: middle;\n",
              "    }\n",
              "\n",
              "    .dataframe tbody tr th {\n",
              "        vertical-align: top;\n",
              "    }\n",
              "\n",
              "    .dataframe thead th {\n",
              "        text-align: right;\n",
              "    }\n",
              "</style>\n",
              "<table border=\"1\" class=\"dataframe\">\n",
              "  <thead>\n",
              "    <tr style=\"text-align: right;\">\n",
              "      <th></th>\n",
              "      <th>year</th>\n",
              "      <th>currency</th>\n",
              "      <th>country</th>\n",
              "      <th>currency_country</th>\n",
              "      <th>count_7_days</th>\n",
              "    </tr>\n",
              "  </thead>\n",
              "  <tbody>\n",
              "    <tr>\n",
              "      <th>32739</th>\n",
              "      <td>2016</td>\n",
              "      <td>11</td>\n",
              "      <td>20</td>\n",
              "      <td>26</td>\n",
              "      <td>133.0</td>\n",
              "    </tr>\n",
              "    <tr>\n",
              "      <th>32740</th>\n",
              "      <td>2012</td>\n",
              "      <td>13</td>\n",
              "      <td>22</td>\n",
              "      <td>29</td>\n",
              "      <td>63.0</td>\n",
              "    </tr>\n",
              "    <tr>\n",
              "      <th>32741</th>\n",
              "      <td>2012</td>\n",
              "      <td>13</td>\n",
              "      <td>22</td>\n",
              "      <td>29</td>\n",
              "      <td>103.0</td>\n",
              "    </tr>\n",
              "    <tr>\n",
              "      <th>32742</th>\n",
              "      <td>2012</td>\n",
              "      <td>13</td>\n",
              "      <td>22</td>\n",
              "      <td>29</td>\n",
              "      <td>96.0</td>\n",
              "    </tr>\n",
              "    <tr>\n",
              "      <th>32743</th>\n",
              "      <td>2011</td>\n",
              "      <td>13</td>\n",
              "      <td>22</td>\n",
              "      <td>29</td>\n",
              "      <td>45.0</td>\n",
              "    </tr>\n",
              "  </tbody>\n",
              "</table>\n",
              "</div>"
            ],
            "text/plain": [
              "       year  currency  country  currency_country  count_7_days\n",
              "32739  2016        11       20                26         133.0\n",
              "32740  2012        13       22                29          63.0\n",
              "32741  2012        13       22                29         103.0\n",
              "32742  2012        13       22                29          96.0\n",
              "32743  2011        13       22                29          45.0"
            ]
          },
          "metadata": {
            "tags": []
          },
          "execution_count": 8
        }
      ]
    },
    {
      "cell_type": "markdown",
      "metadata": {
        "id": "Z9g0X2wnMGGZ",
        "colab_type": "text"
      },
      "source": [
        "# L1 regularization (L1正則化)\n",
        "* 一変量法は、選択決定を行うときに、一度に**1つの特徴のみ**を考慮します。\n",
        "* その代わりに、L1正則化を持つ線形モデルにそれらを含めることで、すべての特徴を使用して選択を行うことが出来ます。\n",
        "* このタイプの正則化(Lassoと呼ばれることがある）は、係数の二乗にペナルティをかけるL2(Ridhe)回帰と比較して、\n",
        "    * **係数の絶対的な大きさに**ペナルティをかけます\n",
        "* 正則化の強さを大きくすると、目標を予測するうえで、重要度の低い特徴は0に設定されます。\n",
        "* これにより、正則化パラメータを調整することで、特徴の選択を行うことが出来ます。\n",
        "* パラメータは、hold-out setで最高の性能を見つけることによって選択するか、あるいは、\n",
        "* 保持する特徴の数を事前に決めておきます\n",
        "\n",
        "<br>\n",
        "\n",
        "* 回帰問題では、\n",
        "    * 分類に、**sklearn.linear_model.Lassoや、sklearn.linear_model.LogisticRegression**を使うことが出来ます。\n",
        "    * これらは、非ゼロの係数を選択するために、\n",
        "        * **sklearn.feature_selection.SelectFromModel**と一緒に使うことが出来ます。\n",
        "    * それ以外の場合、コードは1変量検定と似ています。"
      ]
    },
    {
      "cell_type": "code",
      "metadata": {
        "id": "Qlx5cbdJLwr7",
        "colab_type": "code",
        "colab": {
          "base_uri": "https://localhost:8080/",
          "height": 238
        },
        "outputId": "ef24874f-228a-4eea-9a94-34e66dcf87a1"
      },
      "source": [
        "from sklearn.linear_model import LogisticRegression\n",
        "from sklearn.feature_selection import SelectFromModel\n",
        "\n",
        "train, valid, _ = get_data_splits(baseline_data)\n",
        "\n",
        "X,y = train[train.columns.drop(\"outcome\")], train['outcome']\n",
        "\n",
        "logistic = LogisticRegression(C=1, penalty = \"l1\", solver='liblinear', random_state = 7).fit(X,y)\n",
        "\n",
        "model = SelectFromModel(logistic, prefit = True) # なんだよこれ\n",
        "#  Either fit the model before transform or set \"prefit=True\" while passing the fitted estimator to the constructor.\n",
        "\n",
        "X_new = model.transform(X)\n",
        "X_new"
      ],
      "execution_count": 13,
      "outputs": [
        {
          "output_type": "execute_result",
          "data": {
            "text/plain": [
              "array([[1.000e+03, 1.200e+01, 1.100e+01, ..., 1.119e+03, 1.700e+01,\n",
              "        1.600e+02],\n",
              "       [3.000e+04, 4.000e+00, 2.000e+00, ..., 9.640e+02, 2.900e+01,\n",
              "        9.800e+01],\n",
              "       [4.500e+04, 0.000e+00, 1.200e+01, ..., 9.640e+02, 2.900e+01,\n",
              "        8.100e+01],\n",
              "       ...,\n",
              "       [5.000e+02, 2.300e+01, 2.000e+00, ..., 1.318e+03, 2.900e+01,\n",
              "        9.600e+01],\n",
              "       [8.000e+04, 1.900e+01, 2.400e+01, ..., 1.174e+03, 2.900e+01,\n",
              "        1.530e+02],\n",
              "       [1.750e+04, 2.200e+01, 2.300e+01, ..., 1.174e+03, 2.900e+01,\n",
              "        8.400e+01]])"
            ]
          },
          "metadata": {
            "tags": []
          },
          "execution_count": 13
        }
      ]
    },
    {
      "cell_type": "markdown",
      "metadata": {
        "id": "_mNjjU65PhDi",
        "colab_type": "text"
      },
      "source": [
        "* 選択された列を取得できるように、これらをDataFrameに変換します"
      ]
    },
    {
      "cell_type": "code",
      "metadata": {
        "id": "RTILQ4HAOfU-",
        "colab_type": "code",
        "colab": {}
      },
      "source": [
        "selected_features = pd.DataFrame(model.inverse_transform(X_new),\n",
        "                                 index = X.index,\n",
        "                                 columns = X.columns)\n",
        "\n",
        "\n",
        "selected_columns = selected_features.columns[selected_features.var() != 0]"
      ],
      "execution_count": 15,
      "outputs": []
    },
    {
      "cell_type": "code",
      "metadata": {
        "id": "gEjsHdvWPxhw",
        "colab_type": "code",
        "colab": {
          "base_uri": "https://localhost:8080/",
          "height": 34
        },
        "outputId": "ed6f8a25-8cde-40d8-f798-f9e1dc5f85f2"
      },
      "source": [
        "len(selected_columns)"
      ],
      "execution_count": 19,
      "outputs": [
        {
          "output_type": "execute_result",
          "data": {
            "text/plain": [
              "12"
            ]
          },
          "metadata": {
            "tags": []
          },
          "execution_count": 19
        }
      ]
    },
    {
      "cell_type": "code",
      "metadata": {
        "id": "Kf-67u7KP0x0",
        "colab_type": "code",
        "colab": {
          "base_uri": "https://localhost:8080/",
          "height": 85
        },
        "outputId": "cd9af183-4915-4637-e374-2ad5606a42e4"
      },
      "source": [
        "selected_columns"
      ],
      "execution_count": 20,
      "outputs": [
        {
          "output_type": "execute_result",
          "data": {
            "text/plain": [
              "Index(['goal', 'hour', 'day', 'month', 'year', 'category', 'currency',\n",
              "       'country', 'category_currency', 'category_country', 'currency_country',\n",
              "       'count_7_days'],\n",
              "      dtype='object')"
            ]
          },
          "metadata": {
            "tags": []
          },
          "execution_count": 20
        }
      ]
    },
    {
      "cell_type": "code",
      "metadata": {
        "id": "T3FluoqHQCbl",
        "colab_type": "code",
        "colab": {
          "base_uri": "https://localhost:8080/",
          "height": 34
        },
        "outputId": "f18cfde6-6726-4a60-b13c-b91f9d243029"
      },
      "source": [
        "len(baseline_data.columns)"
      ],
      "execution_count": 21,
      "outputs": [
        {
          "output_type": "execute_result",
          "data": {
            "text/plain": [
              "14"
            ]
          },
          "metadata": {
            "tags": []
          },
          "execution_count": 21
        }
      ]
    },
    {
      "cell_type": "markdown",
      "metadata": {
        "id": "8wM-w1mnQNp6",
        "colab_type": "text"
      },
      "source": [
        "* このL1パラメータのC=1のこのケースでは、time_since_last_projectの絡むを落としています。\n",
        "* 一般的に、L1正則化を用いた特徴選択は、一変量検定よりも強力ですが、多くのデータと多くの特徴がある場合には、\n",
        "* 非常に多くなることもあります。\n",
        "* 一変量決定は、大規模なデータセットでは、\n",
        "* **はるかに高速になりますが、パフォーマンスも悪くなる可能性が高いです**"
      ]
    },
    {
      "cell_type": "code",
      "metadata": {
        "id": "UmgduCWaQFuk",
        "colab_type": "code",
        "colab": {}
      },
      "source": [
        "import numpy as np\n",
        "import pandas as pd\n",
        "from sklearn import preprocessing, metrics\n",
        "import lightgbm as lgb\n",
        "\n",
        "import os\n",
        "\n",
        "clicks = pd.read_parquet('../input/feature-engineering-data/baseline_data.pqt')\n",
        "data_files = ['count_encodings.pqt',\n",
        "              'catboost_encodings.pqt',\n",
        "              'interactions.pqt',\n",
        "              'past_6hr_events.pqt',\n",
        "              'downloads.pqt',\n",
        "              'time_deltas.pqt',\n",
        "              'svd_encodings.pqt']\n",
        "data_root = '../input/feature-engineering-data'\n",
        "for file in data_files:\n",
        "    features = pd.read_parquet(os.path.join(data_root, file))\n",
        "    clicks = clicks.join(features)\n",
        "\n",
        "def get_data_splits(dataframe, valid_fraction=0.1):\n",
        "\n",
        "    dataframe = dataframe.sort_values('click_time')\n",
        "    valid_rows = int(len(dataframe) * valid_fraction)\n",
        "    train = dataframe[:-valid_rows * 2]\n",
        "    # valid size == test size, last two sections of the data\n",
        "    valid = dataframe[-valid_rows * 2:-valid_rows]\n",
        "    test = dataframe[-valid_rows:]\n",
        "    \n",
        "    return train, valid, test\n",
        "\n",
        "def train_model(train, valid, test=None, feature_cols=None):\n",
        "    if feature_cols is None:\n",
        "        feature_cols = train.columns.drop(['click_time', 'attributed_time',\n",
        "                                           'is_attributed'])\n",
        "    dtrain = lgb.Dataset(train[feature_cols], label=train['is_attributed'])\n",
        "    dvalid = lgb.Dataset(valid[feature_cols], label=valid['is_attributed'])\n",
        "    \n",
        "    param = {'num_leaves': 64, 'objective': 'binary', \n",
        "             'metric': 'auc', 'seed': 7}\n",
        "    num_round = 1000\n",
        "    print(\"Training model!\")\n",
        "    bst = lgb.train(param, dtrain, num_round, valid_sets=[dvalid], \n",
        "                    early_stopping_rounds=20, verbose_eval=False)\n",
        "    \n",
        "    valid_pred = bst.predict(valid[feature_cols])\n",
        "    valid_score = metrics.roc_auc_score(valid['is_attributed'], valid_pred)\n",
        "    print(f\"Validation AUC score: {valid_score}\")\n",
        "    \n",
        "    if test is not None: \n",
        "        test_pred = bst.predict(test[feature_cols])\n",
        "        test_score = metrics.roc_auc_score(test['is_attributed'], test_pred)\n",
        "        return bst, valid_score, test_score\n",
        "    else:\n",
        "        return bst, valid_score"
      ],
      "execution_count": null,
      "outputs": []
    },
    {
      "cell_type": "markdown",
      "metadata": {
        "id": "wi3zS5c0Q5bi",
        "colab_type": "text"
      },
      "source": [
        "# これまでに作ったすべての機能のベースラインスコアを見てみましょう\n"
      ]
    },
    {
      "cell_type": "code",
      "metadata": {
        "id": "5e9AOH2QRHWT",
        "colab_type": "code",
        "colab": {}
      },
      "source": [
        "train, valid, test = get_data_splits(clicks)\n",
        "_, baseline_score = train_model(train, valid)"
      ],
      "execution_count": null,
      "outputs": []
    },
    {
      "cell_type": "markdown",
      "metadata": {
        "id": "LAeS4-IyRIEY",
        "colab_type": "text"
      },
      "source": [
        "## 特徴量選択にどのデータを使うべきか？\n",
        "* 特徴選択の方法の多くは、データセットから統計量を計算する必要があるので、\n",
        "* 特徴選択には、すべてのデータを使うべきでしょうか？\n",
        "* これで、予測に使用している91の特徴が分かりました。\n",
        "* これらすべての特徴から、モデルがデータにオーバーフィットしている可能性があります。\n",
        "* いくつかの特徴を削除することで、オーバーフィッティングを減らすことが出来るかもしれません。\n",
        "* もちろん、モデルのパフォは減るかもしれんけど、少なくとも、性能をあまり落とさずにモデルをより小さく、より早くすることが出来ます。\n",
        "\n",
        "* 特徴選択にvalid, testを含めると、leakageの原因になります。\n",
        "    * 訓練セットのみで特徴選択を実行し、その結果を使用して、\n",
        "    * 検証セットとテストセットから特徴を選択したいと思うでしょう\n"
      ]
    },
    {
      "cell_type": "markdown",
      "metadata": {
        "id": "nStBtOtqSyCX",
        "colab_type": "text"
      },
      "source": [
        "### 一変量特徴選択\n",
        "* SelectKBestをf_classifスコアリング関数を使って、データ中の91個の特徴から、40個の特徴を選択します\n",
        "* "
      ]
    },
    {
      "cell_type": "code",
      "metadata": {
        "id": "8UkRe0ZJRHoI",
        "colab_type": "code",
        "colab": {}
      },
      "source": [
        "from sklearn.feature_selection import SelectKBest, f_classif\n",
        "feature_cols = clicks.columns.drop(['click_time', 'attributed_time', 'is_attributed'])\n",
        "train, valid, test = get_data_splits(clicks)\n",
        "\n",
        "# Create the selector, keeping 40 features\n",
        "selector = SelectKBest(f_classif, k = 40)\n",
        "\n",
        "# Use the selector to retrieve the best features\n",
        "X_new = selector.fit_transform(train[feature_cols], train['is_attributed'])\n",
        "\n",
        "# Get back the kept features as a DataFrame with dropped columns as all 0s\n",
        "selected_features = pd.DataFrame(selector.inverse_transform(X_new),\n",
        "                                index = train.index,\n",
        "                                columns = feature_cols)\n",
        "\n",
        "# Find the columns that were dropped\n",
        "dropped_columns = selected_features.columns[selected_features.var() == 0]\n"
      ],
      "execution_count": null,
      "outputs": []
    },
    {
      "cell_type": "code",
      "metadata": {
        "id": "U-VTf_fTUBTC",
        "colab_type": "code",
        "colab": {}
      },
      "source": [
        "_ = train_model(train.drop(dropped_columns, axis=1), \n",
        "                valid.drop(dropped_columns, axis=1))"
      ],
      "execution_count": null,
      "outputs": []
    },
    {
      "cell_type": "markdown",
      "metadata": {
        "id": "dhA9jSYXVA2L",
        "colab_type": "text"
      },
      "source": [
        "## Kの最適値\n",
        "* この方法であれば、最高のKの特徴を選ぶことが出来ますが、\n",
        "* やはり自分たちでKを選ばなければなりません。Kの最高の値はどうやって見つけるのでしょうか？\n",
        "    * 最高の機能を維持するためには小さくしたいが、モデルのパフォーマンスを低下させるほど小さくはしたくないということです。\n",
        "* Kの最適値を見つけるには、Kの値を増やしながら複数のモデルを適合させ、\n",
        "    * **検証スコアがある閾値またはほかの基準以上**の最小のKを選択することが出来ます\n",
        "    * これを行う良い方法は、**Kの値をループして、各反復のバリデーション・スコアを記録することです。**"
      ]
    },
    {
      "cell_type": "markdown",
      "metadata": {
        "id": "-3VVF1nhVvXC",
        "colab_type": "text"
      },
      "source": [
        "## 特徴選択にL1正則化を使用する\n",
        "* 保持する特徴のリストを返す関数**select_features_l1**を実装します。\n",
        "* 特徴を選択するために、L1ペナを課した**LogisticRegression分類器モデル**を使用します。\n",
        "* モデルには、\n",
        "    * random_state = 7に,\n",
        "    * the regularization parameter to 0.1\n",
        "    * the solver to **liblinear**.\n",
        "* モデルをフィットし、SelectFromModelを使用して選択された特徴を持つモデルを返します。\n",
        "* チェックコードは、データせっとのサンプルで関数を実行し、より即時のフィードバックを提供します。"
      ]
    },
    {
      "cell_type": "code",
      "metadata": {
        "id": "XEQEWK6nU8ey",
        "colab_type": "code",
        "colab": {}
      },
      "source": [
        "from sklearn.linear_model import LogisticRegression\n",
        "from sklearn.feature_selection import SelectFromModel\n",
        "\n",
        "def select_features_l1(X, y):\n",
        "    \"\"\"Return selected features using logistic regression with an L1 penalty.\"\"\"\n",
        "    logistic  = LogisticRegression(C = 0.1, penalty=\"l1\", random_state = 7).fit(X,y)\n",
        "    model = SelectFromModel(logistic, prefit = True)\n",
        "    \n",
        "    X_new = model.transform(X)\n",
        "    selected_features = pd.DataFrame(model.inverse_transform(X_new),\n",
        "                                    index = X.index,\n",
        "                                    columns = X.columns)\n",
        "    cols_to_keep = selected_features.columns[selected_features.var() != 0]\n",
        "\n",
        "    return cols_to_keep\n"
      ],
      "execution_count": null,
      "outputs": []
    },
    {
      "cell_type": "code",
      "metadata": {
        "id": "pH6mE27LXQsq",
        "colab_type": "code",
        "colab": {}
      },
      "source": [
        "n_samples = 10000\n",
        "X, y = train[feature_cols][:n_samples], train['is_attributed'][:n_samples]\n",
        "selected = select_features_l1(X, y)\n",
        "\n",
        "dropped_columns = feature_cols.drop(selected)\n",
        "_ = train_model(train.drop(dropped_columns, axis=1), \n",
        "                valid.drop(dropped_columns, axis=1))"
      ],
      "execution_count": null,
      "outputs": []
    },
    {
      "cell_type": "markdown",
      "metadata": {
        "id": "6-DvjHFXYKEq",
        "colab_type": "text"
      },
      "source": [
        "* なんで削ってんだ？こいつ...**削ったほうが性能が高い**"
      ]
    },
    {
      "cell_type": "markdown",
      "metadata": {
        "id": "fyQwoEbiYaaX",
        "colab_type": "text"
      },
      "source": [
        "## 木による特徴の選択\n",
        "* 木ベースのモデルを使っているので、特徴選択のために別の木のベースのモデルを使ったほうが、\n",
        "* よりよい結果が得られるかもしれません。\n",
        "* 木の分類器を使って特徴を選択する場合、何か違うことをしますか？"
      ]
    },
    {
      "cell_type": "markdown",
      "metadata": {
        "id": "hmkla-cYYrC7",
        "colab_type": "text"
      },
      "source": [
        "* RandomForestClassifierや、\n",
        "* ExtraTreesClassifierのようなものを使って特徴のインポートを見つけることが出来ます。\n",
        "* SelectFromModelは、特徴の重要さを使用して最適な特徴量を見つけることが出来ます。\n"
      ]
    },
    {
      "cell_type": "markdown",
      "metadata": {
        "id": "X75-d_wVY8FY",
        "colab_type": "text"
      },
      "source": [
        "## L1正則化を用いたトップK特徴量\n",
        "* ここでは、正則化パラメータ C = 0.1を設定しているために、\n",
        "* いくつかの特徴量が削除されています。\n",
        "* しかし、Cを設定することで、保持する特徴の数を選択することが出来ません。\n",
        "* L1正則化を用いて、上位K個の重要な特徴を保持するにはどうしたらよいでしょうか\n",
        "\n",
        "* L1正則化を用いてある数の特徴を選択するには、\n",
        "* 目的の数の特徴を残す正則化パラメータを見つける必要があります。\n",
        "* これを行うには、正則化パラメータが低い物から高い物まで、異なる正則化パラメータを持つモデルを反復処理して、K個の特徴を残すものを選択します。\n",
        "* scikit-learnモデルではCは正則化の強さの逆数であることに注意して"
      ]
    },
    {
      "cell_type": "code",
      "metadata": {
        "id": "eh9lX4D8YOWC",
        "colab_type": "code",
        "colab": {}
      },
      "source": [
        ""
      ],
      "execution_count": null,
      "outputs": []
    }
  ]
}