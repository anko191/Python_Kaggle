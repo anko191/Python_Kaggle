{
  "nbformat": 4,
  "nbformat_minor": 0,
  "metadata": {
    "colab": {
      "name": "Numpy_show",
      "provenance": [],
      "authorship_tag": "ABX9TyOLfi9JUf+KcCziAfmT2pbB",
      "include_colab_link": true
    },
    "kernelspec": {
      "name": "python3",
      "display_name": "Python 3"
    }
  },
  "cells": [
    {
      "cell_type": "markdown",
      "metadata": {
        "id": "view-in-github",
        "colab_type": "text"
      },
      "source": [
        "<a href=\"https://colab.research.google.com/github/anko191/C/blob/master/numpy/Numpy_show.ipynb\" target=\"_parent\"><img src=\"https://colab.research.google.com/assets/colab-badge.svg\" alt=\"Open In Colab\"/></a>"
      ]
    },
    {
      "cell_type": "markdown",
      "metadata": {
        "id": "Mi6oM6wy1T9s",
        "colab_type": "text"
      },
      "source": [
        "precision, floatmode"
      ]
    },
    {
      "cell_type": "code",
      "metadata": {
        "id": "y3teFO_V1UMb",
        "colab_type": "code",
        "colab": {
          "base_uri": "https://localhost:8080/",
          "height": 54
        },
        "outputId": "3291d13a-7a22-45e4-dff4-51bb93656ae9"
      },
      "source": [
        "import numpy as np\n",
        "print(np.get_printoptions())"
      ],
      "execution_count": 1,
      "outputs": [
        {
          "output_type": "stream",
          "text": [
            "{'edgeitems': 3, 'threshold': 1000, 'floatmode': 'maxprec', 'precision': 8, 'suppress': False, 'linewidth': 75, 'nanstr': 'nan', 'infstr': 'inf', 'sign': '-', 'formatter': None, 'legacy': False}\n"
          ],
          "name": "stdout"
        }
      ]
    },
    {
      "cell_type": "code",
      "metadata": {
        "id": "xyRULPOf1bul",
        "colab_type": "code",
        "colab": {
          "base_uri": "https://localhost:8080/",
          "height": 34
        },
        "outputId": "747e8534-9f9a-4787-e1f1-0b8d2a38381c"
      },
      "source": [
        "a = np.array([12.3456, 0.123456789])\n",
        "print(a)"
      ],
      "execution_count": 2,
      "outputs": [
        {
          "output_type": "stream",
          "text": [
            "[12.3456      0.12345679]\n"
          ],
          "name": "stdout"
        }
      ]
    },
    {
      "cell_type": "code",
      "metadata": {
        "id": "qRR8TOxv1n5O",
        "colab_type": "code",
        "colab": {
          "base_uri": "https://localhost:8080/",
          "height": 34
        },
        "outputId": "ebac3679-0719-4a4f-b759-790125472a1a"
      },
      "source": [
        "np.set_printoptions(precision=3)\n",
        "print(a)"
      ],
      "execution_count": 3,
      "outputs": [
        {
          "output_type": "stream",
          "text": [
            "[12.346  0.123]\n"
          ],
          "name": "stdout"
        }
      ]
    },
    {
      "cell_type": "code",
      "metadata": {
        "id": "e_A7d7oB1riO",
        "colab_type": "code",
        "colab": {
          "base_uri": "https://localhost:8080/",
          "height": 34
        },
        "outputId": "deb71c2f-3739-4377-cceb-9dfda1a4599f"
      },
      "source": [
        "np.set_printoptions(precision=10)\n",
        "print(a)"
      ],
      "execution_count": 4,
      "outputs": [
        {
          "output_type": "stream",
          "text": [
            "[12.3456       0.123456789]\n"
          ],
          "name": "stdout"
        }
      ]
    },
    {
      "cell_type": "code",
      "metadata": {
        "id": "uQluiTiw1t51",
        "colab_type": "code",
        "colab": {
          "base_uri": "https://localhost:8080/",
          "height": 34
        },
        "outputId": "65fc83ea-1687-443a-d40e-481f57863c04"
      },
      "source": [
        "np.set_printoptions(precision=4, floatmode='maxprec')\n",
        "print(a)"
      ],
      "execution_count": 5,
      "outputs": [
        {
          "output_type": "stream",
          "text": [
            "[12.3456  0.1235]\n"
          ],
          "name": "stdout"
        }
      ]
    },
    {
      "cell_type": "code",
      "metadata": {
        "id": "5IMVzTZm1zzd",
        "colab_type": "code",
        "colab": {
          "base_uri": "https://localhost:8080/",
          "height": 34
        },
        "outputId": "8dcc3695-7283-4c10-8e52-c721210d7d86"
      },
      "source": [
        "np.set_printoptions(precision=10, floatmode='maxprec')\n",
        "print(a)"
      ],
      "execution_count": 6,
      "outputs": [
        {
          "output_type": "stream",
          "text": [
            "[12.3456       0.123456789]\n"
          ],
          "name": "stdout"
        }
      ]
    },
    {
      "cell_type": "code",
      "metadata": {
        "id": "583puaRR19Mw",
        "colab_type": "code",
        "colab": {
          "base_uri": "https://localhost:8080/",
          "height": 51
        },
        "outputId": "ed227589-d0c0-4400-b1cc-13694730dbfa"
      },
      "source": [
        "np.set_printoptions(precision=4, floatmode='fixed')\n",
        "print(a)\n",
        "np.set_printoptions(precision=10, floatmode='fixed')\n",
        "print(a)"
      ],
      "execution_count": 7,
      "outputs": [
        {
          "output_type": "stream",
          "text": [
            "[12.3456  0.1235]\n",
            "[12.3456000000  0.1234567890]\n"
          ],
          "name": "stdout"
        }
      ]
    },
    {
      "cell_type": "code",
      "metadata": {
        "id": "JvL323_82LE2",
        "colab_type": "code",
        "colab": {
          "base_uri": "https://localhost:8080/",
          "height": 51
        },
        "outputId": "34498170-def4-41b7-e9e1-749e4cea87ac"
      },
      "source": [
        "np.set_printoptions(precision=4, floatmode='maxprec_equal')\n",
        "print(a)\n",
        "np.set_printoptions(precision=10, floatmode='maxprec_equal')\n",
        "print(a)"
      ],
      "execution_count": 8,
      "outputs": [
        {
          "output_type": "stream",
          "text": [
            "[12.3456  0.1235]\n",
            "[12.345600000  0.123456789]\n"
          ],
          "name": "stdout"
        }
      ]
    },
    {
      "cell_type": "code",
      "metadata": {
        "id": "hUuX3LWb2UtI",
        "colab_type": "code",
        "colab": {
          "base_uri": "https://localhost:8080/",
          "height": 51
        },
        "outputId": "ad22b764-a964-4311-b972-e441859a30e7"
      },
      "source": [
        "np.set_printoptions(precision=4, floatmode='unique')\n",
        "print(a)\n",
        "np.set_printoptions(precision=10, floatmode='unique')\n",
        "print(a)"
      ],
      "execution_count": 9,
      "outputs": [
        {
          "output_type": "stream",
          "text": [
            "[12.3456       0.123456789]\n",
            "[12.3456       0.123456789]\n"
          ],
          "name": "stdout"
        }
      ]
    },
    {
      "cell_type": "markdown",
      "metadata": {
        "id": "qg8ez5uM2i9t",
        "colab_type": "text"
      },
      "source": [
        "If you generate a new one,"
      ]
    },
    {
      "cell_type": "code",
      "metadata": {
        "id": "QYI8Q1uT2fYe",
        "colab_type": "code",
        "colab": {
          "base_uri": "https://localhost:8080/",
          "height": 34
        },
        "outputId": "28df9e95-2cde-41ec-9885-120c3f241a83"
      },
      "source": [
        "b = np.round(a, 2)\n",
        "print(b)"
      ],
      "execution_count": 10,
      "outputs": [
        {
          "output_type": "stream",
          "text": [
            "[12.35  0.12]\n"
          ],
          "name": "stdout"
        }
      ]
    },
    {
      "cell_type": "code",
      "metadata": {
        "id": "CgMB02NH2pQd",
        "colab_type": "code",
        "colab": {
          "base_uri": "https://localhost:8080/",
          "height": 51
        },
        "outputId": "ccdad4e9-3e13-4442-e610-70b40bd8edf3"
      },
      "source": [
        "b = np.round(a, -1)\n",
        "print(b)\n",
        "b = np.round([1234.56, 123456.789], -2)\n",
        "print(b)"
      ],
      "execution_count": 11,
      "outputs": [
        {
          "output_type": "stream",
          "text": [
            "[10.  0.]\n",
            "[  1200. 123500.]\n"
          ],
          "name": "stdout"
        }
      ]
    },
    {
      "cell_type": "code",
      "metadata": {
        "id": "M1Nv5D7j24yt",
        "colab_type": "code",
        "colab": {
          "base_uri": "https://localhost:8080/",
          "height": 68
        },
        "outputId": "0f8e1fc5-6782-44ad-8c14-93c46fc3fa5a"
      },
      "source": [
        "a = np.array([0.123456, 0.123456])\n",
        "print(a)\n",
        "a = np.array([0.123456, 0.0000123456])\n",
        "print(a)\n",
        "a = np.array([123.456, 0.0123456])\n",
        "print(a)"
      ],
      "execution_count": 12,
      "outputs": [
        {
          "output_type": "stream",
          "text": [
            "[0.123456 0.123456]\n",
            "[1.23456e-01 1.23456e-05]\n",
            "[1.23456e+02 1.23456e-02]\n"
          ],
          "name": "stdout"
        }
      ]
    },
    {
      "cell_type": "code",
      "metadata": {
        "id": "9icV5s-b3K8_",
        "colab_type": "code",
        "colab": {
          "base_uri": "https://localhost:8080/",
          "height": 34
        },
        "outputId": "b61abc4f-99ba-4948-b205-976d38eba736"
      },
      "source": [
        "np.set_printoptions(suppress = True)\n",
        "print(a)"
      ],
      "execution_count": 13,
      "outputs": [
        {
          "output_type": "stream",
          "text": [
            "[123.456       0.0123456]\n"
          ],
          "name": "stdout"
        }
      ]
    },
    {
      "cell_type": "code",
      "metadata": {
        "id": "XZfJUqX23oa0",
        "colab_type": "code",
        "colab": {
          "base_uri": "https://localhost:8080/",
          "height": 68
        },
        "outputId": "1078c3d7-0bef-4b60-f830-8e5863a3f4d0"
      },
      "source": [
        "np.set_printoptions(suppress = True, precision=2)\n",
        "print(a)\n",
        "np.set_printoptions(suppress=False, precision=2)\n",
        "print(a)\n",
        "np.set_printoptions(suppress=False, precision = 8, floatmode ='fixed')\n",
        "print(a)"
      ],
      "execution_count": 14,
      "outputs": [
        {
          "output_type": "stream",
          "text": [
            "[123.456       0.0123456]\n",
            "[1.23456e+02 1.23456e-02]\n",
            "[1.23456000e+02 1.23456000e-02]\n"
          ],
          "name": "stdout"
        }
      ]
    },
    {
      "cell_type": "markdown",
      "metadata": {
        "id": "R789ezzb4MWj",
        "colab_type": "text"
      },
      "source": [
        "formatter"
      ]
    },
    {
      "cell_type": "code",
      "metadata": {
        "id": "TlenYGa43-6-",
        "colab_type": "code",
        "colab": {
          "base_uri": "https://localhost:8080/",
          "height": 34
        },
        "outputId": "4caa78fc-aa99-4a28-ad69-ef0301999080"
      },
      "source": [
        "a"
      ],
      "execution_count": 15,
      "outputs": [
        {
          "output_type": "execute_result",
          "data": {
            "text/plain": [
              "array([1.23456000e+02, 1.23456000e-02])"
            ]
          },
          "metadata": {
            "tags": []
          },
          "execution_count": 15
        }
      ]
    },
    {
      "cell_type": "code",
      "metadata": {
        "id": "Kt-Gq0Ys4Rd0",
        "colab_type": "code",
        "colab": {
          "base_uri": "https://localhost:8080/",
          "height": 34
        },
        "outputId": "9e6abe1a-1ecd-4775-a1fd-92e5001be726"
      },
      "source": [
        "np.set_printoptions(formatter = {'float': '{:.2f}'.format})\n",
        "print(a)"
      ],
      "execution_count": 16,
      "outputs": [
        {
          "output_type": "stream",
          "text": [
            "[123.46 0.01]\n"
          ],
          "name": "stdout"
        }
      ]
    },
    {
      "cell_type": "code",
      "metadata": {
        "id": "HlXU6IKX4YYp",
        "colab_type": "code",
        "colab": {
          "base_uri": "https://localhost:8080/",
          "height": 34
        },
        "outputId": "17637b80-9375-4fc5-85ca-c9c7ee3c4e7e"
      },
      "source": [
        "np.set_printoptions(formatter={'float':'{:.8f}'.format})\n",
        "print(a)"
      ],
      "execution_count": 17,
      "outputs": [
        {
          "output_type": "stream",
          "text": [
            "[123.45600000 0.01234560]\n"
          ],
          "name": "stdout"
        }
      ]
    },
    {
      "cell_type": "code",
      "metadata": {
        "id": "ARt9lVPq4f0c",
        "colab_type": "code",
        "colab": {
          "base_uri": "https://localhost:8080/",
          "height": 34
        },
        "outputId": "bc95a0d4-b696-4582-8292-9062bf6cd96f"
      },
      "source": [
        "np.set_printoptions(formatter={'flaot': '{:.8e}'.format})\n",
        "print(a)"
      ],
      "execution_count": 18,
      "outputs": [
        {
          "output_type": "stream",
          "text": [
            "[1.23456000e+02 1.23456000e-02]\n"
          ],
          "name": "stdout"
        }
      ]
    },
    {
      "cell_type": "code",
      "metadata": {
        "id": "lctynAT54l_F",
        "colab_type": "code",
        "colab": {
          "base_uri": "https://localhost:8080/",
          "height": 51
        },
        "outputId": "1a6c3e0f-d868-4900-86ec-05838748c839"
      },
      "source": [
        "a = np.array([12, 1234])\n",
        "print(a)\n",
        "np.set_printoptions(formatter={'int': '{:08d}'.format})\n",
        "print(a)"
      ],
      "execution_count": 19,
      "outputs": [
        {
          "output_type": "stream",
          "text": [
            "[  12 1234]\n",
            "[00000012 00001234]\n"
          ],
          "name": "stdout"
        }
      ]
    },
    {
      "cell_type": "code",
      "metadata": {
        "id": "ILAQrPRp4wWz",
        "colab_type": "code",
        "colab": {
          "base_uri": "https://localhost:8080/",
          "height": 34
        },
        "outputId": "f14d2f68-dad1-4005-ff5c-a6696dfc6f5b"
      },
      "source": [
        "np.set_printoptions(formatter={'int': '{:b}'.format})\n",
        "print(a)"
      ],
      "execution_count": 21,
      "outputs": [
        {
          "output_type": "stream",
          "text": [
            "[1100 10011010010]\n"
          ],
          "name": "stdout"
        }
      ]
    },
    {
      "cell_type": "code",
      "metadata": {
        "id": "w6pf56-b416j",
        "colab_type": "code",
        "colab": {
          "base_uri": "https://localhost:8080/",
          "height": 34
        },
        "outputId": "a44adbf8-600b-45df-b40d-ba98df0ba7b9"
      },
      "source": [
        "np.set_printoptions(formatter={'int':'{:x}'.format})\n",
        "print(a)"
      ],
      "execution_count": 23,
      "outputs": [
        {
          "output_type": "stream",
          "text": [
            "[c 4d2]\n"
          ],
          "name": "stdout"
        }
      ]
    },
    {
      "cell_type": "code",
      "metadata": {
        "id": "RQslOCnu48PM",
        "colab_type": "code",
        "colab": {
          "base_uri": "https://localhost:8080/",
          "height": 51
        },
        "outputId": "b7d1d6d8-53f0-464e-ca53-2daca28fad35"
      },
      "source": [
        "a = np.array(['One', 'Two'])\n",
        "print(a)\n",
        "np.set_printoptions(formatter={'numpystr': str.upper})\n",
        "print(a)"
      ],
      "execution_count": 24,
      "outputs": [
        {
          "output_type": "stream",
          "text": [
            "['One' 'Two']\n",
            "[ONE TWO]\n"
          ],
          "name": "stdout"
        }
      ]
    },
    {
      "cell_type": "code",
      "metadata": {
        "id": "vnUxVljR5iIG",
        "colab_type": "code",
        "colab": {
          "base_uri": "https://localhost:8080/",
          "height": 34
        },
        "outputId": "1ec45dc4-93fa-4a90-e448-fb65cb64c6cf"
      },
      "source": [
        "np.set_printoptions(formatter={'numpystr': lambda x: '***' + x + '***'})\n",
        "print(a)"
      ],
      "execution_count": 26,
      "outputs": [
        {
          "output_type": "stream",
          "text": [
            "[***One*** ***Two***]\n"
          ],
          "name": "stdout"
        }
      ]
    },
    {
      "cell_type": "code",
      "metadata": {
        "id": "h8u3ZA8h5pmk",
        "colab_type": "code",
        "colab": {
          "base_uri": "https://localhost:8080/",
          "height": 51
        },
        "outputId": "f89b3a68-f710-4690-f90d-1f0e53f932c4"
      },
      "source": [
        "np.set_printoptions(formatter={'float':'{:0.8e}'.format, 'int':'{:08d}'.format})\n",
        "a = np.array([12, 12.34])\n",
        "print(a.dtype)\n",
        "a = np.array([12,123])\n",
        "print(a.dtype)"
      ],
      "execution_count": 27,
      "outputs": [
        {
          "output_type": "stream",
          "text": [
            "float64\n",
            "int64\n"
          ],
          "name": "stdout"
        }
      ]
    },
    {
      "cell_type": "markdown",
      "metadata": {
        "id": "sVvIHBIK6tgG",
        "colab_type": "text"
      },
      "source": [
        "# threshold"
      ]
    },
    {
      "cell_type": "code",
      "metadata": {
        "id": "uYWGfIW96iqT",
        "colab_type": "code",
        "colab": {
          "base_uri": "https://localhost:8080/",
          "height": 51
        },
        "outputId": "f5ac87c2-b02c-4f5d-a9dc-1ff23cbcb9ef"
      },
      "source": [
        "a = np.arange(10)\n",
        "print(a)"
      ],
      "execution_count": 28,
      "outputs": [
        {
          "output_type": "stream",
          "text": [
            "[00000000 00000001 00000002 00000003 00000004 00000005 00000006 00000007\n",
            " 00000008 00000009]\n"
          ],
          "name": "stdout"
        }
      ]
    },
    {
      "cell_type": "code",
      "metadata": {
        "id": "nmTE1TPl6s4j",
        "colab_type": "code",
        "colab": {
          "base_uri": "https://localhost:8080/",
          "height": 51
        },
        "outputId": "0a32fcda-2d6d-45b6-c061-1aa4cad6ab32"
      },
      "source": [
        "np.set_printoptions(threshold = 10)\n",
        "print(a)\n",
        "np.set_printoptions(threshold=9)\n",
        "print(a)"
      ],
      "execution_count": 29,
      "outputs": [
        {
          "output_type": "stream",
          "text": [
            "[0 1 2 3 4 5 6 7 8 9]\n",
            "[0 1 2 ... 7 8 9]\n"
          ],
          "name": "stdout"
        }
      ]
    },
    {
      "cell_type": "code",
      "metadata": {
        "id": "eC5PLMnj609u",
        "colab_type": "code",
        "colab": {
          "base_uri": "https://localhost:8080/",
          "height": 187
        },
        "outputId": "a6f8ba2c-557e-4e55-dca7-cd9dc1f697ac"
      },
      "source": [
        "a = np.arange(100).reshape((10,10))\n",
        "np.set_printoptions(threshold=100)\n",
        "print(a)"
      ],
      "execution_count": 31,
      "outputs": [
        {
          "output_type": "stream",
          "text": [
            "[[ 0  1  2  3  4  5  6  7  8  9]\n",
            " [10 11 12 13 14 15 16 17 18 19]\n",
            " [20 21 22 23 24 25 26 27 28 29]\n",
            " [30 31 32 33 34 35 36 37 38 39]\n",
            " [40 41 42 43 44 45 46 47 48 49]\n",
            " [50 51 52 53 54 55 56 57 58 59]\n",
            " [60 61 62 63 64 65 66 67 68 69]\n",
            " [70 71 72 73 74 75 76 77 78 79]\n",
            " [80 81 82 83 84 85 86 87 88 89]\n",
            " [90 91 92 93 94 95 96 97 98 99]]\n"
          ],
          "name": "stdout"
        }
      ]
    },
    {
      "cell_type": "code",
      "metadata": {
        "id": "wyYcNDRa7E0b",
        "colab_type": "code",
        "colab": {
          "base_uri": "https://localhost:8080/",
          "height": 136
        },
        "outputId": "43628b16-79bd-4cba-cf6a-f2a439601923"
      },
      "source": [
        "np.set_printoptions(threshold = 99)\n",
        "print(a)"
      ],
      "execution_count": 33,
      "outputs": [
        {
          "output_type": "stream",
          "text": [
            "[[ 0  1  2 ...  7  8  9]\n",
            " [10 11 12 ... 17 18 19]\n",
            " [20 21 22 ... 27 28 29]\n",
            " ...\n",
            " [70 71 72 ... 77 78 79]\n",
            " [80 81 82 ... 87 88 89]\n",
            " [90 91 92 ... 97 98 99]]\n"
          ],
          "name": "stdout"
        }
      ]
    },
    {
      "cell_type": "code",
      "metadata": {
        "id": "S0h9-MeY7Kp6",
        "colab_type": "code",
        "colab": {
          "base_uri": "https://localhost:8080/",
          "height": 54
        },
        "outputId": "fff4f996-f696-434a-c446-f65ff3a2934d"
      },
      "source": [
        "print(np.get_printoptions())"
      ],
      "execution_count": 34,
      "outputs": [
        {
          "output_type": "stream",
          "text": [
            "{'edgeitems': 3, 'threshold': 99, 'floatmode': 'fixed', 'precision': 8, 'suppress': False, 'linewidth': 75, 'nanstr': 'nan', 'infstr': 'inf', 'sign': '-', 'formatter': None, 'legacy': False}\n"
          ],
          "name": "stdout"
        }
      ]
    },
    {
      "cell_type": "code",
      "metadata": {
        "id": "SROnBDIX7QYy",
        "colab_type": "code",
        "colab": {
          "base_uri": "https://localhost:8080/",
          "height": 34
        },
        "outputId": "1e266e24-2aa8-4bfa-a602-f5a38fe7985e"
      },
      "source": [
        "print(np.get_printoptions()['threshold'])"
      ],
      "execution_count": 35,
      "outputs": [
        {
          "output_type": "stream",
          "text": [
            "99\n"
          ],
          "name": "stdout"
        }
      ]
    },
    {
      "cell_type": "code",
      "metadata": {
        "id": "dYxPFrub7TaV",
        "colab_type": "code",
        "colab": {
          "base_uri": "https://localhost:8080/",
          "height": 68
        },
        "outputId": "093f9014-f5ef-4109-9a5d-04dc2c94591a"
      },
      "source": [
        "np.set_printoptions(threshold=0)\n",
        "print(np.arange(100))\n",
        "print(np.arange(7))\n",
        "print(np.arange(6))"
      ],
      "execution_count": 37,
      "outputs": [
        {
          "output_type": "stream",
          "text": [
            "[ 0  1  2 ... 97 98 99]\n",
            "[0 1 2 ... 4 5 6]\n",
            "[0 1 2 3 4 5]\n"
          ],
          "name": "stdout"
        }
      ]
    },
    {
      "cell_type": "markdown",
      "metadata": {
        "id": "viGSRziE7hGn",
        "colab_type": "text"
      },
      "source": [
        "edgeitems : how many show numerics?"
      ]
    },
    {
      "cell_type": "code",
      "metadata": {
        "id": "XA8HB5I37b-S",
        "colab_type": "code",
        "colab": {
          "base_uri": "https://localhost:8080/",
          "height": 34
        },
        "outputId": "b2558288-75c8-4150-bea6-b6f2ed5c8999"
      },
      "source": [
        "np.set_printoptions(edgeitems=1)\n",
        "print(np.arange(6))"
      ],
      "execution_count": 38,
      "outputs": [
        {
          "output_type": "stream",
          "text": [
            "[0 ... 5]\n"
          ],
          "name": "stdout"
        }
      ]
    },
    {
      "cell_type": "code",
      "metadata": {
        "id": "i-yqCtaI7npF",
        "colab_type": "code",
        "colab": {
          "base_uri": "https://localhost:8080/",
          "height": 34
        },
        "outputId": "6b643e43-0727-4168-8f46-ed042ea245da"
      },
      "source": [
        "np.set_printoptions(edgeitems=0)\n",
        "print(np.arange(6))"
      ],
      "execution_count": 39,
      "outputs": [
        {
          "output_type": "stream",
          "text": [
            "[... 5]\n"
          ],
          "name": "stdout"
        }
      ]
    },
    {
      "cell_type": "code",
      "metadata": {
        "id": "HLNNhWJw7sqr",
        "colab_type": "code",
        "colab": {
          "base_uri": "https://localhost:8080/",
          "height": 119
        },
        "outputId": "851efac6-8ac5-4971-cc1e-831b0a6af5d2"
      },
      "source": [
        "np.set_printoptions(edgeitems=3)\n",
        "print(np.arange(60).reshape((6,10)))"
      ],
      "execution_count": 40,
      "outputs": [
        {
          "output_type": "stream",
          "text": [
            "[[ 0  1  2 ...  7  8  9]\n",
            " [10 11 12 ... 17 18 19]\n",
            " [20 21 22 ... 27 28 29]\n",
            " [30 31 32 ... 37 38 39]\n",
            " [40 41 42 ... 47 48 49]\n",
            " [50 51 52 ... 57 58 59]]\n"
          ],
          "name": "stdout"
        }
      ]
    },
    {
      "cell_type": "markdown",
      "metadata": {
        "id": "KO7WvF-P73jo",
        "colab_type": "text"
      },
      "source": [
        "### Dont skip it."
      ]
    },
    {
      "cell_type": "code",
      "metadata": {
        "id": "yJMjAmKM70yq",
        "colab_type": "code",
        "colab": {
          "base_uri": "https://localhost:8080/",
          "height": 1000
        },
        "outputId": "a02fba5c-54f3-4385-fbfb-1f9f8414de02"
      },
      "source": [
        "np.set_printoptions(threshold=np.inf)\n",
        "print(np.arange(1001))"
      ],
      "execution_count": 41,
      "outputs": [
        {
          "output_type": "stream",
          "text": [
            "[   0    1    2    3    4    5    6    7    8    9   10   11   12   13\n",
            "   14   15   16   17   18   19   20   21   22   23   24   25   26   27\n",
            "   28   29   30   31   32   33   34   35   36   37   38   39   40   41\n",
            "   42   43   44   45   46   47   48   49   50   51   52   53   54   55\n",
            "   56   57   58   59   60   61   62   63   64   65   66   67   68   69\n",
            "   70   71   72   73   74   75   76   77   78   79   80   81   82   83\n",
            "   84   85   86   87   88   89   90   91   92   93   94   95   96   97\n",
            "   98   99  100  101  102  103  104  105  106  107  108  109  110  111\n",
            "  112  113  114  115  116  117  118  119  120  121  122  123  124  125\n",
            "  126  127  128  129  130  131  132  133  134  135  136  137  138  139\n",
            "  140  141  142  143  144  145  146  147  148  149  150  151  152  153\n",
            "  154  155  156  157  158  159  160  161  162  163  164  165  166  167\n",
            "  168  169  170  171  172  173  174  175  176  177  178  179  180  181\n",
            "  182  183  184  185  186  187  188  189  190  191  192  193  194  195\n",
            "  196  197  198  199  200  201  202  203  204  205  206  207  208  209\n",
            "  210  211  212  213  214  215  216  217  218  219  220  221  222  223\n",
            "  224  225  226  227  228  229  230  231  232  233  234  235  236  237\n",
            "  238  239  240  241  242  243  244  245  246  247  248  249  250  251\n",
            "  252  253  254  255  256  257  258  259  260  261  262  263  264  265\n",
            "  266  267  268  269  270  271  272  273  274  275  276  277  278  279\n",
            "  280  281  282  283  284  285  286  287  288  289  290  291  292  293\n",
            "  294  295  296  297  298  299  300  301  302  303  304  305  306  307\n",
            "  308  309  310  311  312  313  314  315  316  317  318  319  320  321\n",
            "  322  323  324  325  326  327  328  329  330  331  332  333  334  335\n",
            "  336  337  338  339  340  341  342  343  344  345  346  347  348  349\n",
            "  350  351  352  353  354  355  356  357  358  359  360  361  362  363\n",
            "  364  365  366  367  368  369  370  371  372  373  374  375  376  377\n",
            "  378  379  380  381  382  383  384  385  386  387  388  389  390  391\n",
            "  392  393  394  395  396  397  398  399  400  401  402  403  404  405\n",
            "  406  407  408  409  410  411  412  413  414  415  416  417  418  419\n",
            "  420  421  422  423  424  425  426  427  428  429  430  431  432  433\n",
            "  434  435  436  437  438  439  440  441  442  443  444  445  446  447\n",
            "  448  449  450  451  452  453  454  455  456  457  458  459  460  461\n",
            "  462  463  464  465  466  467  468  469  470  471  472  473  474  475\n",
            "  476  477  478  479  480  481  482  483  484  485  486  487  488  489\n",
            "  490  491  492  493  494  495  496  497  498  499  500  501  502  503\n",
            "  504  505  506  507  508  509  510  511  512  513  514  515  516  517\n",
            "  518  519  520  521  522  523  524  525  526  527  528  529  530  531\n",
            "  532  533  534  535  536  537  538  539  540  541  542  543  544  545\n",
            "  546  547  548  549  550  551  552  553  554  555  556  557  558  559\n",
            "  560  561  562  563  564  565  566  567  568  569  570  571  572  573\n",
            "  574  575  576  577  578  579  580  581  582  583  584  585  586  587\n",
            "  588  589  590  591  592  593  594  595  596  597  598  599  600  601\n",
            "  602  603  604  605  606  607  608  609  610  611  612  613  614  615\n",
            "  616  617  618  619  620  621  622  623  624  625  626  627  628  629\n",
            "  630  631  632  633  634  635  636  637  638  639  640  641  642  643\n",
            "  644  645  646  647  648  649  650  651  652  653  654  655  656  657\n",
            "  658  659  660  661  662  663  664  665  666  667  668  669  670  671\n",
            "  672  673  674  675  676  677  678  679  680  681  682  683  684  685\n",
            "  686  687  688  689  690  691  692  693  694  695  696  697  698  699\n",
            "  700  701  702  703  704  705  706  707  708  709  710  711  712  713\n",
            "  714  715  716  717  718  719  720  721  722  723  724  725  726  727\n",
            "  728  729  730  731  732  733  734  735  736  737  738  739  740  741\n",
            "  742  743  744  745  746  747  748  749  750  751  752  753  754  755\n",
            "  756  757  758  759  760  761  762  763  764  765  766  767  768  769\n",
            "  770  771  772  773  774  775  776  777  778  779  780  781  782  783\n",
            "  784  785  786  787  788  789  790  791  792  793  794  795  796  797\n",
            "  798  799  800  801  802  803  804  805  806  807  808  809  810  811\n",
            "  812  813  814  815  816  817  818  819  820  821  822  823  824  825\n",
            "  826  827  828  829  830  831  832  833  834  835  836  837  838  839\n",
            "  840  841  842  843  844  845  846  847  848  849  850  851  852  853\n",
            "  854  855  856  857  858  859  860  861  862  863  864  865  866  867\n",
            "  868  869  870  871  872  873  874  875  876  877  878  879  880  881\n",
            "  882  883  884  885  886  887  888  889  890  891  892  893  894  895\n",
            "  896  897  898  899  900  901  902  903  904  905  906  907  908  909\n",
            "  910  911  912  913  914  915  916  917  918  919  920  921  922  923\n",
            "  924  925  926  927  928  929  930  931  932  933  934  935  936  937\n",
            "  938  939  940  941  942  943  944  945  946  947  948  949  950  951\n",
            "  952  953  954  955  956  957  958  959  960  961  962  963  964  965\n",
            "  966  967  968  969  970  971  972  973  974  975  976  977  978  979\n",
            "  980  981  982  983  984  985  986  987  988  989  990  991  992  993\n",
            "  994  995  996  997  998  999 1000]\n"
          ],
          "name": "stdout"
        }
      ]
    },
    {
      "cell_type": "markdown",
      "metadata": {
        "id": "vzAitzJg8E1X",
        "colab_type": "text"
      },
      "source": [
        "numerics, a row showing"
      ]
    },
    {
      "cell_type": "code",
      "metadata": {
        "id": "p8Jhcfps8A4y",
        "colab_type": "code",
        "colab": {
          "base_uri": "https://localhost:8080/",
          "height": 918
        },
        "outputId": "6608df58-d718-418d-cca7-6b45cb68e954"
      },
      "source": [
        "np.set_printoptions(linewidth=100)\n",
        "print(np.arange(1001))"
      ],
      "execution_count": 42,
      "outputs": [
        {
          "output_type": "stream",
          "text": [
            "[   0    1    2    3    4    5    6    7    8    9   10   11   12   13   14   15   16   17   18\n",
            "   19   20   21   22   23   24   25   26   27   28   29   30   31   32   33   34   35   36   37\n",
            "   38   39   40   41   42   43   44   45   46   47   48   49   50   51   52   53   54   55   56\n",
            "   57   58   59   60   61   62   63   64   65   66   67   68   69   70   71   72   73   74   75\n",
            "   76   77   78   79   80   81   82   83   84   85   86   87   88   89   90   91   92   93   94\n",
            "   95   96   97   98   99  100  101  102  103  104  105  106  107  108  109  110  111  112  113\n",
            "  114  115  116  117  118  119  120  121  122  123  124  125  126  127  128  129  130  131  132\n",
            "  133  134  135  136  137  138  139  140  141  142  143  144  145  146  147  148  149  150  151\n",
            "  152  153  154  155  156  157  158  159  160  161  162  163  164  165  166  167  168  169  170\n",
            "  171  172  173  174  175  176  177  178  179  180  181  182  183  184  185  186  187  188  189\n",
            "  190  191  192  193  194  195  196  197  198  199  200  201  202  203  204  205  206  207  208\n",
            "  209  210  211  212  213  214  215  216  217  218  219  220  221  222  223  224  225  226  227\n",
            "  228  229  230  231  232  233  234  235  236  237  238  239  240  241  242  243  244  245  246\n",
            "  247  248  249  250  251  252  253  254  255  256  257  258  259  260  261  262  263  264  265\n",
            "  266  267  268  269  270  271  272  273  274  275  276  277  278  279  280  281  282  283  284\n",
            "  285  286  287  288  289  290  291  292  293  294  295  296  297  298  299  300  301  302  303\n",
            "  304  305  306  307  308  309  310  311  312  313  314  315  316  317  318  319  320  321  322\n",
            "  323  324  325  326  327  328  329  330  331  332  333  334  335  336  337  338  339  340  341\n",
            "  342  343  344  345  346  347  348  349  350  351  352  353  354  355  356  357  358  359  360\n",
            "  361  362  363  364  365  366  367  368  369  370  371  372  373  374  375  376  377  378  379\n",
            "  380  381  382  383  384  385  386  387  388  389  390  391  392  393  394  395  396  397  398\n",
            "  399  400  401  402  403  404  405  406  407  408  409  410  411  412  413  414  415  416  417\n",
            "  418  419  420  421  422  423  424  425  426  427  428  429  430  431  432  433  434  435  436\n",
            "  437  438  439  440  441  442  443  444  445  446  447  448  449  450  451  452  453  454  455\n",
            "  456  457  458  459  460  461  462  463  464  465  466  467  468  469  470  471  472  473  474\n",
            "  475  476  477  478  479  480  481  482  483  484  485  486  487  488  489  490  491  492  493\n",
            "  494  495  496  497  498  499  500  501  502  503  504  505  506  507  508  509  510  511  512\n",
            "  513  514  515  516  517  518  519  520  521  522  523  524  525  526  527  528  529  530  531\n",
            "  532  533  534  535  536  537  538  539  540  541  542  543  544  545  546  547  548  549  550\n",
            "  551  552  553  554  555  556  557  558  559  560  561  562  563  564  565  566  567  568  569\n",
            "  570  571  572  573  574  575  576  577  578  579  580  581  582  583  584  585  586  587  588\n",
            "  589  590  591  592  593  594  595  596  597  598  599  600  601  602  603  604  605  606  607\n",
            "  608  609  610  611  612  613  614  615  616  617  618  619  620  621  622  623  624  625  626\n",
            "  627  628  629  630  631  632  633  634  635  636  637  638  639  640  641  642  643  644  645\n",
            "  646  647  648  649  650  651  652  653  654  655  656  657  658  659  660  661  662  663  664\n",
            "  665  666  667  668  669  670  671  672  673  674  675  676  677  678  679  680  681  682  683\n",
            "  684  685  686  687  688  689  690  691  692  693  694  695  696  697  698  699  700  701  702\n",
            "  703  704  705  706  707  708  709  710  711  712  713  714  715  716  717  718  719  720  721\n",
            "  722  723  724  725  726  727  728  729  730  731  732  733  734  735  736  737  738  739  740\n",
            "  741  742  743  744  745  746  747  748  749  750  751  752  753  754  755  756  757  758  759\n",
            "  760  761  762  763  764  765  766  767  768  769  770  771  772  773  774  775  776  777  778\n",
            "  779  780  781  782  783  784  785  786  787  788  789  790  791  792  793  794  795  796  797\n",
            "  798  799  800  801  802  803  804  805  806  807  808  809  810  811  812  813  814  815  816\n",
            "  817  818  819  820  821  822  823  824  825  826  827  828  829  830  831  832  833  834  835\n",
            "  836  837  838  839  840  841  842  843  844  845  846  847  848  849  850  851  852  853  854\n",
            "  855  856  857  858  859  860  861  862  863  864  865  866  867  868  869  870  871  872  873\n",
            "  874  875  876  877  878  879  880  881  882  883  884  885  886  887  888  889  890  891  892\n",
            "  893  894  895  896  897  898  899  900  901  902  903  904  905  906  907  908  909  910  911\n",
            "  912  913  914  915  916  917  918  919  920  921  922  923  924  925  926  927  928  929  930\n",
            "  931  932  933  934  935  936  937  938  939  940  941  942  943  944  945  946  947  948  949\n",
            "  950  951  952  953  954  955  956  957  958  959  960  961  962  963  964  965  966  967  968\n",
            "  969  970  971  972  973  974  975  976  977  978  979  980  981  982  983  984  985  986  987\n",
            "  988  989  990  991  992  993  994  995  996  997  998  999 1000]\n"
          ],
          "name": "stdout"
        }
      ]
    },
    {
      "cell_type": "code",
      "metadata": {
        "id": "jVDft0048L2z",
        "colab_type": "code",
        "colab": {}
      },
      "source": [
        ""
      ],
      "execution_count": null,
      "outputs": []
    }
  ]
}
