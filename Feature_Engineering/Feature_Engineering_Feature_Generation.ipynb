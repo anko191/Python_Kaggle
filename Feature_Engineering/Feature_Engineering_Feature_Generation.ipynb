{
  "nbformat": 4,
  "nbformat_minor": 0,
  "metadata": {
    "colab": {
      "name": "Feature_Engineering_Feature_Generation.ipynb",
      "provenance": [],
      "authorship_tag": "ABX9TyNE4vDOgRKwgD1VRscFrZjr",
      "include_colab_link": true
    },
    "kernelspec": {
      "name": "python3",
      "display_name": "Python 3"
    }
  },
  "cells": [
    {
      "cell_type": "markdown",
      "metadata": {
        "id": "view-in-github",
        "colab_type": "text"
      },
      "source": [
        "<a href=\"https://colab.research.google.com/github/anko191/Python_Kaggle/blob/master/Feature_Engineering/Feature_Engineering_Feature_Generation.ipynb\" target=\"_parent\"><img src=\"https://colab.research.google.com/assets/colab-badge.svg\" alt=\"Open In Colab\"/></a>"
      ]
    },
    {
      "cell_type": "markdown",
      "metadata": {
        "id": "cSp1abg9QN0T",
        "colab_type": "text"
      },
      "source": [
        "# 特徴量を作成します\n",
        "* カテゴリ機能を使用して新しい機能を作成する方法\n",
        "* 生成された数値機能のいくつかの例を見ることが出来ます"
      ]
    },
    {
      "cell_type": "code",
      "metadata": {
        "id": "IM7tjUd2PivA",
        "colab_type": "code",
        "colab": {}
      },
      "source": [
        "# %matplotlib inline\n",
        "import matplotlib.pyplot as plt\n",
        "import numpy as np\n",
        "import pandas as pd\n",
        "from pandas.plotting import register_matplotlib_converters\n",
        "register_matplotlib_converters() # エラー防止なだけ\n",
        "from sklearn.preprocessing import LabelEncoder\n",
        "\n",
        "ks = pd.read_csv('/content/ks-projects-201801.csv', parse_dates = ['deadline', 'launched'])\n",
        "\n",
        "# Drop live projects\n",
        "ks = ks.query('state != \"live\"')\n",
        "\n",
        "# Add outcome column, \"successful\" == 1 , others are 0\n",
        "ks = ks.assign(outcome = (ks['state'] == 'successful').astype(int))\n",
        "\n",
        "# Timestamp features\n",
        "ks = ks.assign(hour = ks.launched.dt.hour,\n",
        "               day = ks.launched.dt.day,\n",
        "               month=ks.launched.dt.month,\n",
        "               year=ks.launched.dt.year)\n",
        "\n",
        "# Label encoding\n",
        "cat_features = ['category', 'currency', 'country']\n",
        "encoder = LabelEncoder()\n",
        "encoded = ks[cat_features].astype(str).apply(encoder.fit_transform)\n",
        "\n",
        "data_cols = ['goal', 'hour', 'day', 'month', 'year', 'outcome']\n",
        "baseline_data = ks[data_cols].join(encoded)"
      ],
      "execution_count": 1,
      "outputs": []
    },
    {
      "cell_type": "markdown",
      "metadata": {
        "id": "ojJaXW44TYux",
        "colab_type": "text"
      },
      "source": [
        "## Interactions(相互作用)\n",
        "* もっとも簡単な一つは、カテゴリ変数を組み合わせることです。\n",
        "    * 例えば、1つのレコードが国\"CA\"とカテゴリ\"Music\"を持つ場合、新しい値を作成することが出来ます。\n",
        "    * これは、カテゴリ変数間の**相関関係**に関する情報を提供することが出来ます。\n",
        "* 一般的には、カテゴリ特徴量の**すべてのペアから相互作用特徴量**を作成します。\n",
        "* Pandasでは、通常のPythonの文字列の様に文字列の列を単純に追加することが出来ます。"
      ]
    },
    {
      "cell_type": "code",
      "metadata": {
        "id": "yCDo8NKTSyjj",
        "colab_type": "code",
        "colab": {
          "base_uri": "https://localhost:8080/",
          "height": 119
        },
        "outputId": "cca9623f-4fba-4a68-83ed-bace9f8e52ac"
      },
      "source": [
        "interactions = ks['category'] + \"_\" + ks['country']\n",
        "interactions.head(5)"
      ],
      "execution_count": 2,
      "outputs": [
        {
          "output_type": "execute_result",
          "data": {
            "text/plain": [
              "0            Poetry_GB\n",
              "1    Narrative Film_US\n",
              "2    Narrative Film_US\n",
              "3             Music_US\n",
              "4      Film & Video_US\n",
              "dtype: object"
            ]
          },
          "metadata": {
            "tags": []
          },
          "execution_count": 2
        }
      ]
    },
    {
      "cell_type": "markdown",
      "metadata": {
        "id": "K4Ygh96CT_W-",
        "colab_type": "text"
      },
      "source": [
        "* そして、相互作用の特徴をラベルでエンコードし、データに追加することが出来ます。"
      ]
    },
    {
      "cell_type": "code",
      "metadata": {
        "id": "Cr8UaCalT8Y7",
        "colab_type": "code",
        "colab": {
          "base_uri": "https://localhost:8080/",
          "height": 204
        },
        "outputId": "4133e3b3-5075-4fca-c525-809e7a2fdf5c"
      },
      "source": [
        "label_enc = LabelEncoder()\n",
        "data_interaction = baseline_data.assign(category_country = label_enc.fit_transform(interactions))\n",
        "data_interaction.head()"
      ],
      "execution_count": 3,
      "outputs": [
        {
          "output_type": "execute_result",
          "data": {
            "text/html": [
              "<div>\n",
              "<style scoped>\n",
              "    .dataframe tbody tr th:only-of-type {\n",
              "        vertical-align: middle;\n",
              "    }\n",
              "\n",
              "    .dataframe tbody tr th {\n",
              "        vertical-align: top;\n",
              "    }\n",
              "\n",
              "    .dataframe thead th {\n",
              "        text-align: right;\n",
              "    }\n",
              "</style>\n",
              "<table border=\"1\" class=\"dataframe\">\n",
              "  <thead>\n",
              "    <tr style=\"text-align: right;\">\n",
              "      <th></th>\n",
              "      <th>goal</th>\n",
              "      <th>hour</th>\n",
              "      <th>day</th>\n",
              "      <th>month</th>\n",
              "      <th>year</th>\n",
              "      <th>outcome</th>\n",
              "      <th>category</th>\n",
              "      <th>currency</th>\n",
              "      <th>country</th>\n",
              "      <th>category_country</th>\n",
              "    </tr>\n",
              "  </thead>\n",
              "  <tbody>\n",
              "    <tr>\n",
              "      <th>0</th>\n",
              "      <td>1000.0</td>\n",
              "      <td>12</td>\n",
              "      <td>11</td>\n",
              "      <td>8</td>\n",
              "      <td>2015</td>\n",
              "      <td>0</td>\n",
              "      <td>108</td>\n",
              "      <td>5</td>\n",
              "      <td>9</td>\n",
              "      <td>1900</td>\n",
              "    </tr>\n",
              "    <tr>\n",
              "      <th>1</th>\n",
              "      <td>30000.0</td>\n",
              "      <td>4</td>\n",
              "      <td>2</td>\n",
              "      <td>9</td>\n",
              "      <td>2017</td>\n",
              "      <td>0</td>\n",
              "      <td>93</td>\n",
              "      <td>13</td>\n",
              "      <td>22</td>\n",
              "      <td>1630</td>\n",
              "    </tr>\n",
              "    <tr>\n",
              "      <th>2</th>\n",
              "      <td>45000.0</td>\n",
              "      <td>0</td>\n",
              "      <td>12</td>\n",
              "      <td>1</td>\n",
              "      <td>2013</td>\n",
              "      <td>0</td>\n",
              "      <td>93</td>\n",
              "      <td>13</td>\n",
              "      <td>22</td>\n",
              "      <td>1630</td>\n",
              "    </tr>\n",
              "    <tr>\n",
              "      <th>3</th>\n",
              "      <td>5000.0</td>\n",
              "      <td>3</td>\n",
              "      <td>17</td>\n",
              "      <td>3</td>\n",
              "      <td>2012</td>\n",
              "      <td>0</td>\n",
              "      <td>90</td>\n",
              "      <td>13</td>\n",
              "      <td>22</td>\n",
              "      <td>1595</td>\n",
              "    </tr>\n",
              "    <tr>\n",
              "      <th>4</th>\n",
              "      <td>19500.0</td>\n",
              "      <td>8</td>\n",
              "      <td>4</td>\n",
              "      <td>7</td>\n",
              "      <td>2015</td>\n",
              "      <td>0</td>\n",
              "      <td>55</td>\n",
              "      <td>13</td>\n",
              "      <td>22</td>\n",
              "      <td>979</td>\n",
              "    </tr>\n",
              "  </tbody>\n",
              "</table>\n",
              "</div>"
            ],
            "text/plain": [
              "      goal  hour  day  month  ...  category  currency  country  category_country\n",
              "0   1000.0    12   11      8  ...       108         5        9              1900\n",
              "1  30000.0     4    2      9  ...        93        13       22              1630\n",
              "2  45000.0     0   12      1  ...        93        13       22              1630\n",
              "3   5000.0     3   17      3  ...        90        13       22              1595\n",
              "4  19500.0     8    4      7  ...        55        13       22               979\n",
              "\n",
              "[5 rows x 10 columns]"
            ]
          },
          "metadata": {
            "tags": []
          },
          "execution_count": 3
        }
      ]
    },
    {
      "cell_type": "markdown",
      "metadata": {
        "id": "55FLoP9HUmcC",
        "colab_type": "text"
      },
      "source": [
        "* 練習問題では全部のペアについて相互作用を作成するぞ"
      ]
    },
    {
      "cell_type": "markdown",
      "metadata": {
        "id": "UdYZ0_d-UuDN",
        "colab_type": "text"
      },
      "source": [
        "## 直近の1週間のプロジェクト数をカウントする\n",
        "各レコードについて、\n",
        "* **その前の週**に立ち上げられたプロジェクト数をカウント\n",
        "* .rollingメソッドを使って、時間でソートした後に、時間とか、日とか週で定義できる"
      ]
    },
    {
      "cell_type": "code",
      "metadata": {
        "id": "IOXHpKIKURfs",
        "colab_type": "code",
        "colab": {
          "base_uri": "https://localhost:8080/",
          "height": 391
        },
        "outputId": "f804d1e1-0a21-4079-f370-c2a0c65c69eb"
      },
      "source": [
        "launched = pd.Series(ks.index, index = ks.launched, name = \"count_7_days\").sort_index()\n",
        "launched.head(20)"
      ],
      "execution_count": 4,
      "outputs": [
        {
          "output_type": "execute_result",
          "data": {
            "text/plain": [
              "launched\n",
              "1970-01-01 01:00:00     94579\n",
              "1970-01-01 01:00:00    319002\n",
              "1970-01-01 01:00:00    247913\n",
              "1970-01-01 01:00:00     48147\n",
              "1970-01-01 01:00:00     75397\n",
              "1970-01-01 01:00:00      2842\n",
              "1970-01-01 01:00:00    273779\n",
              "2009-04-21 21:02:48    169268\n",
              "2009-04-23 00:07:53    322000\n",
              "2009-04-24 21:52:03    138572\n",
              "2009-04-25 17:36:21    325391\n",
              "2009-04-27 14:10:39    122662\n",
              "2009-04-28 13:55:41    213711\n",
              "2009-04-29 02:04:21    345606\n",
              "2009-04-29 02:58:50    235255\n",
              "2009-04-29 04:37:37     98954\n",
              "2009-04-29 05:26:32    342226\n",
              "2009-04-29 06:43:44    275091\n",
              "2009-04-29 13:52:03    284115\n",
              "2009-04-29 22:08:13     32898\n",
              "Name: count_7_days, dtype: int64"
            ]
          },
          "metadata": {
            "tags": []
          },
          "execution_count": 4
        }
      ]
    },
    {
      "cell_type": "markdown",
      "metadata": {
        "id": "pMYLt5F8Voob",
        "colab_type": "text"
      },
      "source": [
        "明らかに発売日が間違っているプロジェクトがありますが、...ここでは無視<br>\n",
        "* 時系列データでは、\n",
        "    * .rollingを使って期間をウインドウとして選択することが出来ます。\n",
        "    * 例えば、launched.rolling('7d')は、過去7日間のすべてのデータを含むのを作成\n",
        "    * 現在のプロジェクトはカウントしたくない場合は1を引く必要があります。"
      ]
    },
    {
      "cell_type": "code",
      "metadata": {
        "id": "UqwRfNeWVaqD",
        "colab_type": "code",
        "colab": {
          "base_uri": "https://localhost:8080/",
          "height": 391
        },
        "outputId": "52a2b872-960a-4edb-85a6-d1a99b54dce8"
      },
      "source": [
        "count_7_days = launched.rolling('7d').count() - 1\n",
        "print(count_7_days.head(20))"
      ],
      "execution_count": 11,
      "outputs": [
        {
          "output_type": "stream",
          "text": [
            "launched\n",
            "1970-01-01 01:00:00     0.0\n",
            "1970-01-01 01:00:00     1.0\n",
            "1970-01-01 01:00:00     2.0\n",
            "1970-01-01 01:00:00     3.0\n",
            "1970-01-01 01:00:00     4.0\n",
            "1970-01-01 01:00:00     5.0\n",
            "1970-01-01 01:00:00     6.0\n",
            "2009-04-21 21:02:48     0.0\n",
            "2009-04-23 00:07:53     1.0\n",
            "2009-04-24 21:52:03     2.0\n",
            "2009-04-25 17:36:21     3.0\n",
            "2009-04-27 14:10:39     4.0\n",
            "2009-04-28 13:55:41     5.0\n",
            "2009-04-29 02:04:21     5.0\n",
            "2009-04-29 02:58:50     6.0\n",
            "2009-04-29 04:37:37     7.0\n",
            "2009-04-29 05:26:32     8.0\n",
            "2009-04-29 06:43:44     9.0\n",
            "2009-04-29 13:52:03    10.0\n",
            "2009-04-29 22:08:13    11.0\n",
            "Name: count_7_days, dtype: float64\n"
          ],
          "name": "stdout"
        }
      ]
    },
    {
      "cell_type": "code",
      "metadata": {
        "id": "BdaaQwdTWOGa",
        "colab_type": "code",
        "colab": {
          "base_uri": "https://localhost:8080/",
          "height": 281
        },
        "outputId": "642bb09a-a623-4ba8-9ed7-381b2663d86c"
      },
      "source": [
        "# Ignore records with broken launch dates\n",
        "plt.plot(count_7_days[7:]);\n",
        "plt.title(\"Number of projects launched over periods of 7 days\");"
      ],
      "execution_count": 12,
      "outputs": [
        {
          "output_type": "display_data",
          "data": {
            "image/png": "[encoded data removed]",
            "text/plain": [
              "<Figure size 432x288 with 1 Axes>"
            ]
          },
          "metadata": {
            "tags": [],
            "needs_background": "light"
          }
        }
      ]
    },
    {
      "cell_type": "markdown",
      "metadata": {
        "id": "AZ9ZTlMmXFSI",
        "colab_type": "text"
      },
      "source": [
        "## では、カウントが得られたので、\n",
        "* 他の学習データと結合できるように**インデックスを調節する**必要があります。"
      ]
    },
    {
      "cell_type": "code",
      "metadata": {
        "id": "thhQgtcbWaoK",
        "colab_type": "code",
        "colab": {
          "base_uri": "https://localhost:8080/",
          "height": 238
        },
        "outputId": "08e63295-1fc5-4eea-ea4a-64513d4f64e3"
      },
      "source": [
        "print(count_7_days.head(5))\n",
        "count_7_days.index = launched.values\n",
        "print(count_7_days.head(5))\n",
        "count_7_days = count_7_days.reindex(ks.index)"
      ],
      "execution_count": 13,
      "outputs": [
        {
          "output_type": "stream",
          "text": [
            "launched\n",
            "1970-01-01 01:00:00    0.0\n",
            "1970-01-01 01:00:00    1.0\n",
            "1970-01-01 01:00:00    2.0\n",
            "1970-01-01 01:00:00    3.0\n",
            "1970-01-01 01:00:00    4.0\n",
            "Name: count_7_days, dtype: float64\n",
            "94579     0.0\n",
            "319002    1.0\n",
            "247913    2.0\n",
            "48147     3.0\n",
            "75397     4.0\n",
            "Name: count_7_days, dtype: float64\n"
          ],
          "name": "stdout"
        }
      ]
    },
    {
      "cell_type": "code",
      "metadata": {
        "id": "H28v4WyuXTyk",
        "colab_type": "code",
        "colab": {
          "base_uri": "https://localhost:8080/",
          "height": 221
        },
        "outputId": "aa81ae00-97c8-4e98-e87f-45eac7c421a7"
      },
      "source": [
        "count_7_days.value_counts()"
      ],
      "execution_count": 21,
      "outputs": [
        {
          "output_type": "execute_result",
          "data": {
            "text/plain": [
              "1040.0    683\n",
              "1041.0    678\n",
              "1037.0    674\n",
              "1042.0    661\n",
              "1036.0    654\n",
              "         ... \n",
              "3482.0      1\n",
              "3071.0      1\n",
              "3073.0      1\n",
              "3048.0      1\n",
              "3063.0      1\n",
              "Name: count_7_days, Length: 4013, dtype: int64"
            ]
          },
          "metadata": {
            "tags": []
          },
          "execution_count": 21
        }
      ]
    },
    {
      "cell_type": "markdown",
      "metadata": {
        "id": "rwQCJUyOYWDe",
        "colab_type": "text"
      },
      "source": [
        "## joinを使って他のデータと新しい機能を結合しましょう"
      ]
    },
    {
      "cell_type": "code",
      "metadata": {
        "id": "6i4kymLlXWt7",
        "colab_type": "code",
        "colab": {
          "base_uri": "https://localhost:8080/",
          "height": 359
        },
        "outputId": "a5db571d-22d9-448c-c2fd-6c7ecf8c80db"
      },
      "source": [
        "baseline_data.join(count_7_days).head(10)"
      ],
      "execution_count": 18,
      "outputs": [
        {
          "output_type": "execute_result",
          "data": {
            "text/html": [
              "<div>\n",
              "<style scoped>\n",
              "    .dataframe tbody tr th:only-of-type {\n",
              "        vertical-align: middle;\n",
              "    }\n",
              "\n",
              "    .dataframe tbody tr th {\n",
              "        vertical-align: top;\n",
              "    }\n",
              "\n",
              "    .dataframe thead th {\n",
              "        text-align: right;\n",
              "    }\n",
              "</style>\n",
              "<table border=\"1\" class=\"dataframe\">\n",
              "  <thead>\n",
              "    <tr style=\"text-align: right;\">\n",
              "      <th></th>\n",
              "      <th>goal</th>\n",
              "      <th>hour</th>\n",
              "      <th>day</th>\n",
              "      <th>month</th>\n",
              "      <th>year</th>\n",
              "      <th>outcome</th>\n",
              "      <th>category</th>\n",
              "      <th>currency</th>\n",
              "      <th>country</th>\n",
              "      <th>count_7_days</th>\n",
              "    </tr>\n",
              "  </thead>\n",
              "  <tbody>\n",
              "    <tr>\n",
              "      <th>0</th>\n",
              "      <td>1000.0</td>\n",
              "      <td>12</td>\n",
              "      <td>11</td>\n",
              "      <td>8</td>\n",
              "      <td>2015</td>\n",
              "      <td>0</td>\n",
              "      <td>108</td>\n",
              "      <td>5</td>\n",
              "      <td>9</td>\n",
              "      <td>1409.0</td>\n",
              "    </tr>\n",
              "    <tr>\n",
              "      <th>1</th>\n",
              "      <td>30000.0</td>\n",
              "      <td>4</td>\n",
              "      <td>2</td>\n",
              "      <td>9</td>\n",
              "      <td>2017</td>\n",
              "      <td>0</td>\n",
              "      <td>93</td>\n",
              "      <td>13</td>\n",
              "      <td>22</td>\n",
              "      <td>957.0</td>\n",
              "    </tr>\n",
              "    <tr>\n",
              "      <th>2</th>\n",
              "      <td>45000.0</td>\n",
              "      <td>0</td>\n",
              "      <td>12</td>\n",
              "      <td>1</td>\n",
              "      <td>2013</td>\n",
              "      <td>0</td>\n",
              "      <td>93</td>\n",
              "      <td>13</td>\n",
              "      <td>22</td>\n",
              "      <td>739.0</td>\n",
              "    </tr>\n",
              "    <tr>\n",
              "      <th>3</th>\n",
              "      <td>5000.0</td>\n",
              "      <td>3</td>\n",
              "      <td>17</td>\n",
              "      <td>3</td>\n",
              "      <td>2012</td>\n",
              "      <td>0</td>\n",
              "      <td>90</td>\n",
              "      <td>13</td>\n",
              "      <td>22</td>\n",
              "      <td>907.0</td>\n",
              "    </tr>\n",
              "    <tr>\n",
              "      <th>4</th>\n",
              "      <td>19500.0</td>\n",
              "      <td>8</td>\n",
              "      <td>4</td>\n",
              "      <td>7</td>\n",
              "      <td>2015</td>\n",
              "      <td>0</td>\n",
              "      <td>55</td>\n",
              "      <td>13</td>\n",
              "      <td>22</td>\n",
              "      <td>1429.0</td>\n",
              "    </tr>\n",
              "    <tr>\n",
              "      <th>5</th>\n",
              "      <td>50000.0</td>\n",
              "      <td>13</td>\n",
              "      <td>26</td>\n",
              "      <td>2</td>\n",
              "      <td>2016</td>\n",
              "      <td>1</td>\n",
              "      <td>123</td>\n",
              "      <td>13</td>\n",
              "      <td>22</td>\n",
              "      <td>1284.0</td>\n",
              "    </tr>\n",
              "    <tr>\n",
              "      <th>6</th>\n",
              "      <td>1000.0</td>\n",
              "      <td>18</td>\n",
              "      <td>1</td>\n",
              "      <td>12</td>\n",
              "      <td>2014</td>\n",
              "      <td>1</td>\n",
              "      <td>58</td>\n",
              "      <td>13</td>\n",
              "      <td>22</td>\n",
              "      <td>1119.0</td>\n",
              "    </tr>\n",
              "    <tr>\n",
              "      <th>7</th>\n",
              "      <td>25000.0</td>\n",
              "      <td>20</td>\n",
              "      <td>1</td>\n",
              "      <td>2</td>\n",
              "      <td>2016</td>\n",
              "      <td>0</td>\n",
              "      <td>41</td>\n",
              "      <td>13</td>\n",
              "      <td>22</td>\n",
              "      <td>1391.0</td>\n",
              "    </tr>\n",
              "    <tr>\n",
              "      <th>8</th>\n",
              "      <td>125000.0</td>\n",
              "      <td>18</td>\n",
              "      <td>24</td>\n",
              "      <td>4</td>\n",
              "      <td>2014</td>\n",
              "      <td>0</td>\n",
              "      <td>113</td>\n",
              "      <td>13</td>\n",
              "      <td>22</td>\n",
              "      <td>1043.0</td>\n",
              "    </tr>\n",
              "    <tr>\n",
              "      <th>9</th>\n",
              "      <td>65000.0</td>\n",
              "      <td>21</td>\n",
              "      <td>11</td>\n",
              "      <td>7</td>\n",
              "      <td>2014</td>\n",
              "      <td>0</td>\n",
              "      <td>39</td>\n",
              "      <td>13</td>\n",
              "      <td>22</td>\n",
              "      <td>3199.0</td>\n",
              "    </tr>\n",
              "  </tbody>\n",
              "</table>\n",
              "</div>"
            ],
            "text/plain": [
              "       goal  hour  day  month  ...  category  currency  country  count_7_days\n",
              "0    1000.0    12   11      8  ...       108         5        9        1409.0\n",
              "1   30000.0     4    2      9  ...        93        13       22         957.0\n",
              "2   45000.0     0   12      1  ...        93        13       22         739.0\n",
              "3    5000.0     3   17      3  ...        90        13       22         907.0\n",
              "4   19500.0     8    4      7  ...        55        13       22        1429.0\n",
              "5   50000.0    13   26      2  ...       123        13       22        1284.0\n",
              "6    1000.0    18    1     12  ...        58        13       22        1119.0\n",
              "7   25000.0    20    1      2  ...        41        13       22        1391.0\n",
              "8  125000.0    18   24      4  ...       113        13       22        1043.0\n",
              "9   65000.0    21   11      7  ...        39        13       22        3199.0\n",
              "\n",
              "[10 rows x 10 columns]"
            ]
          },
          "metadata": {
            "tags": []
          },
          "execution_count": 18
        }
      ]
    },
    {
      "cell_type": "markdown",
      "metadata": {
        "id": "yuj0JamqY5d0",
        "colab_type": "text"
      },
      "source": [
        "# 同じカテゴリーの最後のプロジェクトからの時間\n",
        "* 同じカテゴリーのプロジェクトがドナーを競う？ビデオゲームに資金を提供しようとしていて、別のゲームプロジェクトが立ち上がったばかりの場合、同じように多くの資金を得られない可能性があります。\n",
        "* 同じカテゴリーのプロジェクトが最後に立ち上がってからの時間を計算することで、これを捉えることができます。\n",
        "* .groupbyの後に、.transformを使用する\n",
        "    * .transformの中身に関数を渡して、なんか楽しいことが出来る"
      ]
    },
    {
      "cell_type": "code",
      "metadata": {
        "id": "g5DPI7R2YcR6",
        "colab_type": "code",
        "colab": {
          "base_uri": "https://localhost:8080/",
          "height": 873
        },
        "outputId": "5611b7ee-366a-4ee8-e76a-12441bb65121"
      },
      "source": [
        "def time_since_last_project(series):\n",
        "    # Return the time in hours\n",
        "    return series.diff().dt.total_seconds() / 3600.\n",
        "print(ks['category'])\n",
        "df = ks[['category', 'launched']].sort_values('launched')\n",
        "timedeltas = df.groupby('category').transform(time_since_last_project)\n",
        "timedeltas.head(20)"
      ],
      "execution_count": 22,
      "outputs": [
        {
          "output_type": "stream",
          "text": [
            "0                  Poetry\n",
            "1          Narrative Film\n",
            "2          Narrative Film\n",
            "3                   Music\n",
            "4            Film & Video\n",
            "               ...       \n",
            "378656        Documentary\n",
            "378657     Narrative Film\n",
            "378658     Narrative Film\n",
            "378659         Technology\n",
            "378660    Performance Art\n",
            "Name: category, Length: 375862, dtype: object\n"
          ],
          "name": "stdout"
        },
        {
          "output_type": "execute_result",
          "data": {
            "text/html": [
              "<div>\n",
              "<style scoped>\n",
              "    .dataframe tbody tr th:only-of-type {\n",
              "        vertical-align: middle;\n",
              "    }\n",
              "\n",
              "    .dataframe tbody tr th {\n",
              "        vertical-align: top;\n",
              "    }\n",
              "\n",
              "    .dataframe thead th {\n",
              "        text-align: right;\n",
              "    }\n",
              "</style>\n",
              "<table border=\"1\" class=\"dataframe\">\n",
              "  <thead>\n",
              "    <tr style=\"text-align: right;\">\n",
              "      <th></th>\n",
              "      <th>launched</th>\n",
              "    </tr>\n",
              "  </thead>\n",
              "  <tbody>\n",
              "    <tr>\n",
              "      <th>94579</th>\n",
              "      <td>NaN</td>\n",
              "    </tr>\n",
              "    <tr>\n",
              "      <th>319002</th>\n",
              "      <td>NaN</td>\n",
              "    </tr>\n",
              "    <tr>\n",
              "      <th>247913</th>\n",
              "      <td>NaN</td>\n",
              "    </tr>\n",
              "    <tr>\n",
              "      <th>48147</th>\n",
              "      <td>NaN</td>\n",
              "    </tr>\n",
              "    <tr>\n",
              "      <th>75397</th>\n",
              "      <td>NaN</td>\n",
              "    </tr>\n",
              "    <tr>\n",
              "      <th>2842</th>\n",
              "      <td>0.000000</td>\n",
              "    </tr>\n",
              "    <tr>\n",
              "      <th>273779</th>\n",
              "      <td>NaN</td>\n",
              "    </tr>\n",
              "    <tr>\n",
              "      <th>169268</th>\n",
              "      <td>NaN</td>\n",
              "    </tr>\n",
              "    <tr>\n",
              "      <th>322000</th>\n",
              "      <td>NaN</td>\n",
              "    </tr>\n",
              "    <tr>\n",
              "      <th>138572</th>\n",
              "      <td>NaN</td>\n",
              "    </tr>\n",
              "    <tr>\n",
              "      <th>325391</th>\n",
              "      <td>NaN</td>\n",
              "    </tr>\n",
              "    <tr>\n",
              "      <th>122662</th>\n",
              "      <td>137.130833</td>\n",
              "    </tr>\n",
              "    <tr>\n",
              "      <th>213711</th>\n",
              "      <td>NaN</td>\n",
              "    </tr>\n",
              "    <tr>\n",
              "      <th>345606</th>\n",
              "      <td>145.941111</td>\n",
              "    </tr>\n",
              "    <tr>\n",
              "      <th>235255</th>\n",
              "      <td>NaN</td>\n",
              "    </tr>\n",
              "    <tr>\n",
              "      <th>98954</th>\n",
              "      <td>344715.626944</td>\n",
              "    </tr>\n",
              "    <tr>\n",
              "      <th>342226</th>\n",
              "      <td>NaN</td>\n",
              "    </tr>\n",
              "    <tr>\n",
              "      <th>275091</th>\n",
              "      <td>NaN</td>\n",
              "    </tr>\n",
              "    <tr>\n",
              "      <th>284115</th>\n",
              "      <td>NaN</td>\n",
              "    </tr>\n",
              "    <tr>\n",
              "      <th>32898</th>\n",
              "      <td>NaN</td>\n",
              "    </tr>\n",
              "  </tbody>\n",
              "</table>\n",
              "</div>"
            ],
            "text/plain": [
              "             launched\n",
              "94579             NaN\n",
              "319002            NaN\n",
              "247913            NaN\n",
              "48147             NaN\n",
              "75397             NaN\n",
              "2842         0.000000\n",
              "273779            NaN\n",
              "169268            NaN\n",
              "322000            NaN\n",
              "138572            NaN\n",
              "325391            NaN\n",
              "122662     137.130833\n",
              "213711            NaN\n",
              "345606     145.941111\n",
              "235255            NaN\n",
              "98954   344715.626944\n",
              "342226            NaN\n",
              "275091            NaN\n",
              "284115            NaN\n",
              "32898             NaN"
            ]
          },
          "metadata": {
            "tags": []
          },
          "execution_count": 22
        }
      ]
    },
    {
      "cell_type": "markdown",
      "metadata": {
        "id": "IfwxYJlIaaTy",
        "colab_type": "text"
      },
      "source": [
        "## NaNのデータがあるので、、\n",
        "* 平均値や中央値のようなもので埋める必要があります。また、他のデータと結合できるように、インデックスをリセットする必要があります"
      ]
    },
    {
      "cell_type": "code",
      "metadata": {
        "id": "vmUV8EoIaIvG",
        "colab_type": "code",
        "colab": {
          "base_uri": "https://localhost:8080/",
          "height": 669
        },
        "outputId": "f8aac528-d0d5-475f-fbe6-c8d4e1b84cf1"
      },
      "source": [
        "timedeltas = timedeltas.fillna(timedeltas.median()).reindex(baseline_data.index)\n",
        "timedeltas.head(20)"
      ],
      "execution_count": 23,
      "outputs": [
        {
          "output_type": "execute_result",
          "data": {
            "text/html": [
              "<div>\n",
              "<style scoped>\n",
              "    .dataframe tbody tr th:only-of-type {\n",
              "        vertical-align: middle;\n",
              "    }\n",
              "\n",
              "    .dataframe tbody tr th {\n",
              "        vertical-align: top;\n",
              "    }\n",
              "\n",
              "    .dataframe thead th {\n",
              "        text-align: right;\n",
              "    }\n",
              "</style>\n",
              "<table border=\"1\" class=\"dataframe\">\n",
              "  <thead>\n",
              "    <tr style=\"text-align: right;\">\n",
              "      <th></th>\n",
              "      <th>launched</th>\n",
              "    </tr>\n",
              "  </thead>\n",
              "  <tbody>\n",
              "    <tr>\n",
              "      <th>0</th>\n",
              "      <td>18.606111</td>\n",
              "    </tr>\n",
              "    <tr>\n",
              "      <th>1</th>\n",
              "      <td>5.592778</td>\n",
              "    </tr>\n",
              "    <tr>\n",
              "      <th>2</th>\n",
              "      <td>1.313611</td>\n",
              "    </tr>\n",
              "    <tr>\n",
              "      <th>3</th>\n",
              "      <td>0.635000</td>\n",
              "    </tr>\n",
              "    <tr>\n",
              "      <th>4</th>\n",
              "      <td>16.661389</td>\n",
              "    </tr>\n",
              "    <tr>\n",
              "      <th>5</th>\n",
              "      <td>2.629722</td>\n",
              "    </tr>\n",
              "    <tr>\n",
              "      <th>6</th>\n",
              "      <td>0.367500</td>\n",
              "    </tr>\n",
              "    <tr>\n",
              "      <th>7</th>\n",
              "      <td>12.286111</td>\n",
              "    </tr>\n",
              "    <tr>\n",
              "      <th>8</th>\n",
              "      <td>14.243611</td>\n",
              "    </tr>\n",
              "    <tr>\n",
              "      <th>9</th>\n",
              "      <td>0.174722</td>\n",
              "    </tr>\n",
              "    <tr>\n",
              "      <th>10</th>\n",
              "      <td>1.372222</td>\n",
              "    </tr>\n",
              "    <tr>\n",
              "      <th>11</th>\n",
              "      <td>8.524444</td>\n",
              "    </tr>\n",
              "    <tr>\n",
              "      <th>12</th>\n",
              "      <td>0.015833</td>\n",
              "    </tr>\n",
              "    <tr>\n",
              "      <th>13</th>\n",
              "      <td>9.884444</td>\n",
              "    </tr>\n",
              "    <tr>\n",
              "      <th>14</th>\n",
              "      <td>1.725556</td>\n",
              "    </tr>\n",
              "    <tr>\n",
              "      <th>15</th>\n",
              "      <td>3.806111</td>\n",
              "    </tr>\n",
              "    <tr>\n",
              "      <th>16</th>\n",
              "      <td>2.654167</td>\n",
              "    </tr>\n",
              "    <tr>\n",
              "      <th>17</th>\n",
              "      <td>26.531667</td>\n",
              "    </tr>\n",
              "    <tr>\n",
              "      <th>18</th>\n",
              "      <td>12.273611</td>\n",
              "    </tr>\n",
              "    <tr>\n",
              "      <th>19</th>\n",
              "      <td>9.288889</td>\n",
              "    </tr>\n",
              "  </tbody>\n",
              "</table>\n",
              "</div>"
            ],
            "text/plain": [
              "     launched\n",
              "0   18.606111\n",
              "1    5.592778\n",
              "2    1.313611\n",
              "3    0.635000\n",
              "4   16.661389\n",
              "5    2.629722\n",
              "6    0.367500\n",
              "7   12.286111\n",
              "8   14.243611\n",
              "9    0.174722\n",
              "10   1.372222\n",
              "11   8.524444\n",
              "12   0.015833\n",
              "13   9.884444\n",
              "14   1.725556\n",
              "15   3.806111\n",
              "16   2.654167\n",
              "17  26.531667\n",
              "18  12.273611\n",
              "19   9.288889"
            ]
          },
          "metadata": {
            "tags": []
          },
          "execution_count": 23
        }
      ]
    },
    {
      "cell_type": "markdown",
      "metadata": {
        "id": "uREymha7bd1_",
        "colab_type": "text"
      },
      "source": [
        "# 数値変換\n",
        "* ゴールの分布を見てみましょう"
      ]
    },
    {
      "cell_type": "code",
      "metadata": {
        "id": "d4by0TecbA80",
        "colab_type": "code",
        "colab": {
          "base_uri": "https://localhost:8080/",
          "height": 281
        },
        "outputId": "46a2b4a0-6f97-4be8-96b7-ae58e071bd3f"
      },
      "source": [
        "plt.hist(ks.goal, bins = 50, range = (0, 100000));\n",
        "plt.title('Goal');"
      ],
      "execution_count": 27,
      "outputs": [
        {
          "output_type": "display_data",
          "data": {
            "image/png": "[encoded data removed]",
            "text/plain": [
              "<Figure size 432x288 with 1 Axes>"
            ]
          },
          "metadata": {
            "tags": [],
            "needs_background": "light"
          }
        }
      ]
    },
    {
      "cell_type": "code",
      "metadata": {
        "id": "FTOOpklBbmfd",
        "colab_type": "code",
        "colab": {
          "base_uri": "https://localhost:8080/",
          "height": 298
        },
        "outputId": "c4e9b015-1d3d-4dbe-884b-595ff5d19bdd"
      },
      "source": [
        "plt.hist(np.sqrt(ks.goal), range=(0,400), bins=50);\n",
        "plt.title('Sqrt(Goal)')"
      ],
      "execution_count": 28,
      "outputs": [
        {
          "output_type": "execute_result",
          "data": {
            "text/plain": [
              "Text(0.5, 1.0, 'Sqrt(Goal)')"
            ]
          },
          "metadata": {
            "tags": []
          },
          "execution_count": 28
        },
        {
          "output_type": "display_data",
          "data": {
            "image/png": "[encoded data removed]",
            "text/plain": [
              "<Figure size 432x288 with 1 Axes>"
            ]
          },
          "metadata": {
            "tags": [],
            "needs_background": "light"
          }
        }
      ]
    },
    {
      "cell_type": "code",
      "metadata": {
        "id": "RADPLzb3cUc7",
        "colab_type": "code",
        "colab": {
          "base_uri": "https://localhost:8080/",
          "height": 281
        },
        "outputId": "6f03aee5-e3ad-4965-86ff-d32bdb3d8931"
      },
      "source": [
        "plt.hist(np.log(ks.goal), range=(0,25), bins = 50);\n",
        "plt.title('Log(Goal');"
      ],
      "execution_count": 29,
      "outputs": [
        {
          "output_type": "display_data",
          "data": {
            "image/png": "[encoded data removed]",
            "text/plain": [
              "<Figure size 432x288 with 1 Axes>"
            ]
          },
          "metadata": {
            "tags": [],
            "needs_background": "light"
          }
        }
      ]
    },
    {
      "cell_type": "markdown",
      "metadata": {
        "id": "NwmNqzgscgzS",
        "colab_type": "text"
      },
      "source": [
        "### ほとんどのプロジェクトが5000ドル以下のゴールを持っていることが分かる。\n",
        "* しかし、10万どるまでのゴールのロングテールがある\n",
        "* いくつかのモデルは、特徴が**正規分布**しているときにうまく機能するので、\n",
        "    * ゴール値を変換するのに役立つかもしれません。\n",
        "    * これには、**平方根と自然対数**が良く使われます。\n",
        "    * これらの変換は、外れ値を制約するのにも役立ちます。\n",
        "    "
      ]
    },
    {
      "cell_type": "markdown",
      "metadata": {
        "id": "tDOF3HE1dUKk",
        "colab_type": "text"
      },
      "source": [
        "### しかし、、\n",
        "* 木ベースのモデルはスケール不変なので、対数変換は我々のモデルの助けにはなりません\n",
        "* しかし、線形モデルやニューラルネットワークがあればこれは役立つはずでsう\n",
        "\n",
        "### 他の変換には、2乗や他の累乗、指数があります。。\n",
        "* これらはSVMのカーネルトリックのように、モデルの識別に役立つかもしれません。\n",
        "* 繰り返しになりますが、何が有効かを確認するには少し実験が必要です。\n",
        "* 一つの方法は、新しい特徴量の束を作成し、後で特徴量アルゴリズムの使って最適なものを選択することです。"
      ]
    },
    {
      "cell_type": "code",
      "metadata": {
        "id": "AYf4wKflcb4l",
        "colab_type": "code",
        "colab": {}
      },
      "source": [
        "import numpy as np\n",
        "import pandas as pd\n",
        "from sklearn import preprocessing, metrics\n",
        "import lightgbm as lgb\n",
        "\n",
        "# Set up code checking\n",
        "from learntools.core import binder\n",
        "binder.bind(globals())\n",
        "from learntools.feature_engineering.ex3 import *\n",
        "\n",
        "# Create features from   timestamps\n",
        "click_data = pd.read_csv('../input/feature-engineering-data/train_sample.csv', \n",
        "                         parse_dates=['click_time'])\n",
        "click_times = click_data['click_time']\n",
        "clicks = click_data.assign(day=click_times.dt.day.astype('uint8'),\n",
        "                           hour=click_times.dt.hour.astype('uint8'),\n",
        "                           minute=click_times.dt.minute.astype('uint8'),\n",
        "                           second=click_times.dt.second.astype('uint8'))\n",
        "\n",
        "# Label encoding for categorical features\n",
        "cat_features = ['ip', 'app', 'device', 'os', 'channel']\n",
        "for feature in cat_features:\n",
        "    label_encoder = preprocessing.LabelEncoder()\n",
        "    clicks[feature] = label_encoder.fit_transform(clicks[feature])\n",
        "    \n",
        "def get_data_splits(dataframe, valid_fraction=0.1):\n",
        "\n",
        "    dataframe = dataframe.sort_values('click_time')\n",
        "    valid_rows = int(len(dataframe) * valid_fraction)\n",
        "    train = dataframe[:-valid_rows * 2]\n",
        "    # valid size == test size, last two sections of the data\n",
        "    valid = dataframe[-valid_rows * 2:-valid_rows]\n",
        "    test = dataframe[-valid_rows:]\n",
        "    \n",
        "    return train, valid, test\n",
        "\n",
        "def train_model(train, valid, test=None, feature_cols=None):\n",
        "    if feature_cols is None:\n",
        "        feature_cols = train.columns.drop(['click_time', 'attributed_time',\n",
        "                                           'is_attributed'])\n",
        "    dtrain = lgb.Dataset(train[feature_cols], label=train['is_attributed'])\n",
        "    dvalid = lgb.Dataset(valid[feature_cols], label=valid['is_attributed'])\n",
        "    \n",
        "    param = {'num_leaves': 64, 'objective': 'binary', \n",
        "             'metric': 'auc', 'seed': 7}\n",
        "    num_round = 1000\n",
        "    print(\"Training model. Hold on a minute to see the validation score\")\n",
        "    bst = lgb.train(param, dtrain, num_round, valid_sets=[dvalid], \n",
        "                    early_stopping_rounds=20, verbose_eval=False)\n",
        "    \n",
        "    valid_pred = bst.predict(valid[feature_cols])\n",
        "    valid_score = metrics.roc_auc_score(valid['is_attributed'], valid_pred)\n",
        "    print(f\"Validation AUC score: {valid_score}\")\n",
        "    \n",
        "    if test is not None: \n",
        "        test_pred = bst.predict(test[feature_cols])\n",
        "        test_score = metrics.roc_auc_score(test['is_attributed'], test_pred)\n",
        "        return bst, valid_score, test_score\n",
        "    else:\n",
        "        return bst, valid_score\n",
        "\n",
        "print(\"Baseline model score\")\n",
        "train, valid, test = get_data_splits(clicks)\n",
        "_ = train_model(train, valid)"
      ],
      "execution_count": null,
      "outputs": []
    },
    {
      "cell_type": "markdown",
      "metadata": {
        "id": "seE7mw0IgMfh",
        "colab_type": "text"
      },
      "source": [
        "## 相互作用の特徴を加えましょう\n",
        "ここでは、各ペアに対して、interaction機能を追加\n",
        "* 特徴のペアを反復処理する最も簡単な方法は、itertools.combinationsを使うことです。\n",
        "* 値をアンダースコア付きの文字列として結合します。\n",
        "* データセットに新しい列を追加する際には、値をラベルでエンコードするようにしてください"
      ]
    },
    {
      "cell_type": "code",
      "metadata": {
        "id": "4-4KE2lKfoKH",
        "colab_type": "code",
        "colab": {}
      },
      "source": [
        "import itertools\n",
        "\n",
        "cat_features = ['ip', 'app', 'device', 'os', 'channel']\n",
        "interactions = pd.DataFrame(index=clicks.index)\n",
        "\n",
        "# Iterate through each pair of features, combine them into interaction features\n",
        "for col1, col2 in itertools.combinations(cat_features, 2):\n",
        "    new_col_name = '_'.join([col1,col2])\n",
        "    \n",
        "    # Convert to strings and combine\n",
        "    new_values = clicks[col1].map(str) + \"_\" + clicks[col2].map(str)\n",
        "    \n",
        "    encoder = preprocessing.LabelEncoder()\n",
        "    interactions[new_col_name] = encoder.fit_transform(new_values)\n"
      ],
      "execution_count": null,
      "outputs": []
    },
    {
      "cell_type": "code",
      "metadata": {
        "id": "tBTupNUphP5v",
        "colab_type": "code",
        "colab": {}
      },
      "source": [
        "clicks = clicks.join(interactions)\n",
        "print(\"Score with interactions\")\n",
        "train, valid, test = get_data_splits(clicks)\n",
        "_ = train_model(train, valid)"
      ],
      "execution_count": null,
      "outputs": []
    },
    {
      "cell_type": "markdown",
      "metadata": {
        "id": "r__PN3I6kjVE",
        "colab_type": "text"
      },
      "source": [
        "## 数値特徴量の作成\n",
        "新しい数値的特徴を作成するのも効果的で、通常はモデルに多くの改善が得られます\n",
        "* すこし、ブレインストーミングと実験が必要"
      ]
    },
    {
      "cell_type": "markdown",
      "metadata": {
        "id": "PLolXeMkk10P",
        "colab_type": "text"
      },
      "source": [
        "* 過去6時間の同じIPからのイベント数\n",
        "    * 頻繁に訪問している人がアプリをダウンロードする可能性が高いです\n",
        "* クリック時間(timestamp)の系列を取得し、過去6時間のイベント数を含む別の系列を返す関数count_past_eventsを実装します。\n",
        "* ローリングメソッドが便利です。"
      ]
    },
    {
      "cell_type": "code",
      "metadata": {
        "id": "7HghL8f7kx0X",
        "colab_type": "code",
        "colab": {}
      },
      "source": [
        "def count_past_events(series, time_window = '6H'):\n",
        "    series = pd.Series(series.index, index = series)\n",
        "    past_events = series.rolling(time_window).count()-1\n",
        "    return past_events"
      ],
      "execution_count": null,
      "outputs": []
    },
    {
      "cell_type": "markdown",
      "metadata": {
        "id": "tGaw6PSFmAwg",
        "colab_type": "text"
      },
      "source": [
        "これくそ時間かかるので気を付けて"
      ]
    },
    {
      "cell_type": "code",
      "metadata": {
        "id": "49roeLetmEXh",
        "colab_type": "code",
        "colab": {}
      },
      "source": [
        "clicks['ip_past_6hr_counts'] = past_events\n",
        "train, valid, test = get_data_splits(clicks)\n",
        "_ = train_model(train, valid)"
      ],
      "execution_count": null,
      "outputs": []
    },
    {
      "cell_type": "markdown",
      "metadata": {
        "id": "P2jGpsUImIc7",
        "colab_type": "text"
      },
      "source": [
        "### 今後の情報からの特\n",
        "* 過去の出来事を見る機能を作った\n",
        "* また、未来のイベントの情報を利用する機能を作ることもできます。\n",
        "    * 未来のイベントを使うべきか、使わないべきか?\n",
        "    * **一般的には、使うべきではありません**。\n",
        "    * このようなモデルを実世界のしなりをで使用する場合、未来からのデータはありません。\n",
        "    * あなたのモデルのスコアは、過去のデータでトレーニングしてテストすると、おそらく高くなりますが、実際のデータでのパフォーマンスを過大評価することになります。\n",
        "    * 未来のデータを使用することで、Kaggleの競争テストデータでのスコアが向上することに注意すべきですが、機械学習製品を構築する際には避けたほうが良いでしょう。\n",
        "    "
      ]
    },
    {
      "cell_type": "markdown",
      "metadata": {
        "id": "C-Mt2-3Dm4jT",
        "colab_type": "text"
      },
      "source": [
        "## 前回のイベントからの時間\n",
        "タイムスタンプの系列から最後のイベントからの時間を秒単位で計算する関数time_diffを実装し明日。"
      ]
    },
    {
      "cell_type": "code",
      "metadata": {
        "id": "sla5M79hmGNY",
        "colab_type": "code",
        "colab": {}
      },
      "source": [
        "def time_diff(series):\n",
        "    \"\"\"Returns a series with the time since the last timestamp in seconds.\"\"\"\n",
        "    return series.diff().dt.total_seconds()\n"
      ],
      "execution_count": null,
      "outputs": []
    },
    {
      "cell_type": "code",
      "metadata": {
        "id": "ZwCC-pHcnQ0I",
        "colab_type": "code",
        "colab": {}
      },
      "source": [
        "clicks['past_events_6hr'] = past_events\n",
        "\n",
        "train, valid, test = get_data_splits(clicks.join(past_events))\n",
        "_ = train_model(train, valid)"
      ],
      "execution_count": null,
      "outputs": []
    },
    {
      "cell_type": "markdown",
      "metadata": {
        "id": "Dd0wn1gMnMYj",
        "colab_type": "text"
      },
      "source": [
        "## 過去のアプリのダウンロード数\n",
        "* 訪問者が以前にアプリをダウンロードした場合、その訪問者が再びアプリをダウンロードする可能性に影響を与える可能性があります。\n",
        "* 現在のイベントの前にアプリがダウンロードされた回数('is_attributed' == 1)の系列を返す関数previous_attributionsを実装します\n"
      ]
    },
    {
      "cell_type": "code",
      "metadata": {
        "id": "nmpu4olknpRg",
        "colab_type": "code",
        "colab": {}
      },
      "source": [
        "def previous_attributions(series):\n",
        "    \"\"\"Returns a series with the number of times an app has been downloaded.\"\"\"\n",
        "    sums = series.expanding(min_periods = 2).sum() - series\n",
        "    return sums\n"
      ],
      "execution_count": null,
      "outputs": []
    },
    {
      "cell_type": "markdown",
      "metadata": {
        "id": "btFCN-Lan86r",
        "colab_type": "text"
      },
      "source": [
        "* ここでは、常に最初の行から始まり、データの中に入っていくにつれて拡張されるウィンドウが欲しいとします。\n",
        "* これには .expanding メソッドを使用できます。また、現在の行はウィンドウに含まれているので、それを差し引く必要があります。"
      ]
    },
    {
      "cell_type": "code",
      "metadata": {
        "id": "sFCSji4in_W6",
        "colab_type": "code",
        "colab": {}
      },
      "source": [
        "clicks['ip_past_6hr_counts'] = past_events\n",
        "\n",
        "train, valid, test = get_data_splits(clicks)\n",
        "_ = train_model(train, valid)"
      ],
      "execution_count": null,
      "outputs": []
    },
    {
      "cell_type": "markdown",
      "metadata": {
        "id": "abBdM_WMoS8G",
        "colab_type": "text"
      },
      "source": [
        "## これまでは木ベースのLightGBMを使用している。\n",
        "これらは、ニューラルネットワークにも有効なのかな？\n",
        "* 特徴量自体はどちらのモデルでも機能します。\n",
        "* しかし、ニューラルネットワークへの数値入力は、最初に標準化する必要があります。\n",
        "* これは、sklearn.preprocessing.StandardScalerを使って行うことが出来ます。"
      ]
    },
    {
      "cell_type": "markdown",
      "metadata": {
        "id": "z5KZ6bFxo-bY",
        "colab_type": "text"
      },
      "source": [
        "* さまざまな特徴の束を生成したので、モデルのサイズを小さくしてパフォーマンスを向上させるために、\n",
        "    * **一般的にはそれらのうちのいくつかを削除したいと思うでしょう。**"
      ]
    },
    {
      "cell_type": "code",
      "metadata": {
        "id": "ExJiJFxtoZWy",
        "colab_type": "code",
        "colab": {}
      },
      "source": [
        ""
      ],
      "execution_count": null,
      "outputs": []
    }
  ]
}