{
  "nbformat": 4,
  "nbformat_minor": 0,
  "metadata": {
    "colab": {
      "name": "pandas_applymap_apply_some_functions_iteration",
      "provenance": [],
      "collapsed_sections": [],
      "authorship_tag": "ABX9TyMiPai/tfh1M9ONmeV6uNrd",
      "include_colab_link": true
    },
    "kernelspec": {
      "name": "python3",
      "display_name": "Python 3"
    }
  },
  "cells": [
    {
      "cell_type": "markdown",
      "metadata": {
        "id": "view-in-github",
        "colab_type": "text"
      },
      "source": [
        "<a href=\"https://colab.research.google.com/github/anko191/Python_Kaggle/blob/master/pandas/pandas_applymap_apply_some_functions_iteration.ipynb\" target=\"_parent\"><img src=\"https://colab.research.google.com/assets/colab-badge.svg\" alt=\"Open In Colab\"/></a>"
      ]
    },
    {
      "cell_type": "code",
      "metadata": {
        "id": "BhEi92JvxvS-",
        "colab_type": "code",
        "colab": {
          "base_uri": "https://localhost:8080/",
          "height": 85
        },
        "outputId": "eb68886f-a4e4-4988-a37e-f565431ddbda"
      },
      "source": [
        "import pandas as pd\n",
        "import numpy as np\n",
        "df = pd.read_csv('/content/sample_header.csv')\n",
        "print(df)"
      ],
      "execution_count": 127,
      "outputs": [
        {
          "output_type": "stream",
          "text": [
            "    a   b   c   d\n",
            "0  11  12  13  14\n",
            "1  21  22  23  24\n",
            "2  31  32  33  34\n"
          ],
          "name": "stdout"
        }
      ]
    },
    {
      "cell_type": "code",
      "metadata": {
        "id": "nvBM-cxOx3GG",
        "colab_type": "code",
        "colab": {
          "base_uri": "https://localhost:8080/",
          "height": 85
        },
        "outputId": "af1ed194-c6b9-4e85-e577-6d2b0e77c03c"
      },
      "source": [
        "print(np.sqrt(df))"
      ],
      "execution_count": 128,
      "outputs": [
        {
          "output_type": "stream",
          "text": [
            "          a         b         c         d\n",
            "0  3.316625  3.464102  3.605551  3.741657\n",
            "1  4.582576  4.690416  4.795832  4.898979\n",
            "2  5.567764  5.656854  5.744563  5.830952\n"
          ],
          "name": "stdout"
        }
      ]
    },
    {
      "cell_type": "code",
      "metadata": {
        "id": "2WeIq596x_EM",
        "colab_type": "code",
        "colab": {
          "base_uri": "https://localhost:8080/",
          "height": 170
        },
        "outputId": "89a2f293-811c-48ba-bc05-7a071d008826"
      },
      "source": [
        "print(np.amax(df))\n",
        "print(np.mean(df, axis =1))"
      ],
      "execution_count": 129,
      "outputs": [
        {
          "output_type": "stream",
          "text": [
            "a    31\n",
            "b    32\n",
            "c    33\n",
            "d    34\n",
            "dtype: int64\n",
            "0    12.5\n",
            "1    22.5\n",
            "2    32.5\n",
            "dtype: float64\n"
          ],
          "name": "stdout"
        }
      ]
    },
    {
      "cell_type": "code",
      "metadata": {
        "id": "owzWrH19yacE",
        "colab_type": "code",
        "colab": {
          "base_uri": "https://localhost:8080/",
          "height": 170
        },
        "outputId": "04160952-e052-4fe2-86ec-62a28f9dd289"
      },
      "source": [
        "print(df.max())\n",
        "print(df.max(axis = 1))"
      ],
      "execution_count": 130,
      "outputs": [
        {
          "output_type": "stream",
          "text": [
            "a    31\n",
            "b    32\n",
            "c    33\n",
            "d    34\n",
            "dtype: int64\n",
            "0    14\n",
            "1    24\n",
            "2    34\n",
            "dtype: int64\n"
          ],
          "name": "stdout"
        }
      ]
    },
    {
      "cell_type": "code",
      "metadata": {
        "id": "JiQdEZbXyeTc",
        "colab_type": "code",
        "colab": {
          "base_uri": "https://localhost:8080/",
          "height": 85
        },
        "outputId": "c20a6777-f01e-4ad8-dd23-b5cb744c1277"
      },
      "source": [
        "s = df['a']\n",
        "print(s)"
      ],
      "execution_count": 131,
      "outputs": [
        {
          "output_type": "stream",
          "text": [
            "0    11\n",
            "1    21\n",
            "2    31\n",
            "Name: a, dtype: int64\n"
          ],
          "name": "stdout"
        }
      ]
    },
    {
      "cell_type": "code",
      "metadata": {
        "id": "qutFNCjWytn0",
        "colab_type": "code",
        "colab": {
          "base_uri": "https://localhost:8080/",
          "height": 85
        },
        "outputId": "c84c68a6-bdc4-40e4-fc0b-1637bdb4d5d1"
      },
      "source": [
        "f_branckets = lambda x: '[{}]'.format(x)\n",
        "print(s.map(f_branckets))"
      ],
      "execution_count": 132,
      "outputs": [
        {
          "output_type": "stream",
          "text": [
            "0    [11]\n",
            "1    [21]\n",
            "2    [31]\n",
            "Name: a, dtype: object\n"
          ],
          "name": "stdout"
        }
      ]
    },
    {
      "cell_type": "code",
      "metadata": {
        "id": "5NG1WvG8yzf7",
        "colab_type": "code",
        "colab": {
          "base_uri": "https://localhost:8080/",
          "height": 85
        },
        "outputId": "f1e906a3-6441-4e76-8076-2ebfd012a749"
      },
      "source": [
        "def f_str(x):\n",
        "    return str(x).replace('1', 'One').replace('2', 'Two').replace('3', 'Three').replace('4', 'Four')\n",
        "print(s.map(f_str))"
      ],
      "execution_count": 133,
      "outputs": [
        {
          "output_type": "stream",
          "text": [
            "0      OneOne\n",
            "1      TwoOne\n",
            "2    ThreeOne\n",
            "Name: a, dtype: object\n"
          ],
          "name": "stdout"
        }
      ]
    },
    {
      "cell_type": "code",
      "metadata": {
        "id": "k9ZLW6XHzm5i",
        "colab_type": "code",
        "colab": {
          "base_uri": "https://localhost:8080/",
          "height": 85
        },
        "outputId": "5bbdd62b-0f2d-4f89-9e42-8dcd88714879"
      },
      "source": [
        "f_oddeven = lambda x: 'odd' if x % 2 else 'even'\n",
        "print(df.applymap(f_oddeven))"
      ],
      "execution_count": 134,
      "outputs": [
        {
          "output_type": "stream",
          "text": [
            "     a     b    c     d\n",
            "0  odd  even  odd  even\n",
            "1  odd  even  odd  even\n",
            "2  odd  even  odd  even\n"
          ],
          "name": "stdout"
        }
      ]
    },
    {
      "cell_type": "code",
      "metadata": {
        "id": "atRa5rQbz8Ul",
        "colab_type": "code",
        "colab": {
          "base_uri": "https://localhost:8080/",
          "height": 142
        },
        "outputId": "341bed43-431c-496a-e6ab-1b8d499d1c2a"
      },
      "source": [
        "df"
      ],
      "execution_count": 135,
      "outputs": [
        {
          "output_type": "execute_result",
          "data": {
            "text/html": [
              "<div>\n",
              "<style scoped>\n",
              "    .dataframe tbody tr th:only-of-type {\n",
              "        vertical-align: middle;\n",
              "    }\n",
              "\n",
              "    .dataframe tbody tr th {\n",
              "        vertical-align: top;\n",
              "    }\n",
              "\n",
              "    .dataframe thead th {\n",
              "        text-align: right;\n",
              "    }\n",
              "</style>\n",
              "<table border=\"1\" class=\"dataframe\">\n",
              "  <thead>\n",
              "    <tr style=\"text-align: right;\">\n",
              "      <th></th>\n",
              "      <th>a</th>\n",
              "      <th>b</th>\n",
              "      <th>c</th>\n",
              "      <th>d</th>\n",
              "    </tr>\n",
              "  </thead>\n",
              "  <tbody>\n",
              "    <tr>\n",
              "      <th>0</th>\n",
              "      <td>11</td>\n",
              "      <td>12</td>\n",
              "      <td>13</td>\n",
              "      <td>14</td>\n",
              "    </tr>\n",
              "    <tr>\n",
              "      <th>1</th>\n",
              "      <td>21</td>\n",
              "      <td>22</td>\n",
              "      <td>23</td>\n",
              "      <td>24</td>\n",
              "    </tr>\n",
              "    <tr>\n",
              "      <th>2</th>\n",
              "      <td>31</td>\n",
              "      <td>32</td>\n",
              "      <td>33</td>\n",
              "      <td>34</td>\n",
              "    </tr>\n",
              "  </tbody>\n",
              "</table>\n",
              "</div>"
            ],
            "text/plain": [
              "    a   b   c   d\n",
              "0  11  12  13  14\n",
              "1  21  22  23  24\n",
              "2  31  32  33  34"
            ]
          },
          "metadata": {
            "tags": []
          },
          "execution_count": 135
        }
      ]
    },
    {
      "cell_type": "code",
      "metadata": {
        "id": "ZUNI9der0B67",
        "colab_type": "code",
        "colab": {
          "base_uri": "https://localhost:8080/",
          "height": 102
        },
        "outputId": "f0fd8917-8ba0-4993-98d5-529c09f93d4e"
      },
      "source": [
        "f_maxmin = lambda x:max(x) - min(x)\n",
        "print(df.apply(f_maxmin))"
      ],
      "execution_count": 136,
      "outputs": [
        {
          "output_type": "stream",
          "text": [
            "a    20\n",
            "b    20\n",
            "c    20\n",
            "d    20\n",
            "dtype: int64\n"
          ],
          "name": "stdout"
        }
      ]
    },
    {
      "cell_type": "code",
      "metadata": {
        "id": "Q6lROYjd0JRD",
        "colab_type": "code",
        "colab": {
          "base_uri": "https://localhost:8080/",
          "height": 85
        },
        "outputId": "738200aa-0ab2-4a91-f773-451da64474ff"
      },
      "source": [
        "print(df.apply(f_maxmin,axis = 1))"
      ],
      "execution_count": 137,
      "outputs": [
        {
          "output_type": "stream",
          "text": [
            "0    3\n",
            "1    3\n",
            "2    3\n",
            "dtype: int64\n"
          ],
          "name": "stdout"
        }
      ]
    },
    {
      "cell_type": "code",
      "metadata": {
        "id": "fsjIqDdo0Odz",
        "colab_type": "code",
        "colab": {
          "base_uri": "https://localhost:8080/",
          "height": 85
        },
        "outputId": "e0a02b5b-40db-4c48-e5e4-3450292d01dc"
      },
      "source": [
        "df['b'] = df['b'].map(f_str)\n",
        "print(df)"
      ],
      "execution_count": 138,
      "outputs": [
        {
          "output_type": "stream",
          "text": [
            "    a         b   c   d\n",
            "0  11    OneTwo  13  14\n",
            "1  21    TwoTwo  23  24\n",
            "2  31  ThreeTwo  33  34\n"
          ],
          "name": "stdout"
        }
      ]
    },
    {
      "cell_type": "code",
      "metadata": {
        "id": "NlNfriVo0TEa",
        "colab_type": "code",
        "colab": {
          "base_uri": "https://localhost:8080/",
          "height": 85
        },
        "outputId": "f05834b4-3613-4add-dd56-bc32f1315851"
      },
      "source": [
        "df.iloc[2] = df.iloc[2].map(f_str)\n",
        "print(df)"
      ],
      "execution_count": 145,
      "outputs": [
        {
          "output_type": "stream",
          "text": [
            "          a         b           c          d\n",
            "0        11    OneTwo          13         14\n",
            "1        21    TwoTwo          23         24\n",
            "2  ThreeOne  ThreeTwo  ThreeThree  ThreeFour\n"
          ],
          "name": "stdout"
        }
      ]
    },
    {
      "cell_type": "code",
      "metadata": {
        "id": "7HK6jSMQ0XWb",
        "colab_type": "code",
        "colab": {
          "base_uri": "https://localhost:8080/",
          "height": 68
        },
        "outputId": "b5fa7d5c-43e6-41c0-d159-7cbaf1b78daf"
      },
      "source": [
        "import pandas as pd\n",
        "df = pd.DataFrame({'age': [24,42], 'state':['NY', 'CA'], 'point':[64,92]},\n",
        "                  index = ['Alice', 'Bob'])\n",
        "print(df)"
      ],
      "execution_count": 146,
      "outputs": [
        {
          "output_type": "stream",
          "text": [
            "       age state  point\n",
            "Alice   24    NY     64\n",
            "Bob     42    CA     92\n"
          ],
          "name": "stdout"
        }
      ]
    },
    {
      "cell_type": "code",
      "metadata": {
        "id": "dwBLjP791Fd1",
        "colab_type": "code",
        "colab": {
          "base_uri": "https://localhost:8080/",
          "height": 221
        },
        "outputId": "fc46f596-e990-4ca4-8fc6-6745cb46659a"
      },
      "source": [
        "for column_name in df:\n",
        "    print(type(column_name))\n",
        "    print(column_name)\n",
        "    print('======\\n')"
      ],
      "execution_count": 148,
      "outputs": [
        {
          "output_type": "stream",
          "text": [
            "<class 'str'>\n",
            "age\n",
            "======\n",
            "\n",
            "<class 'str'>\n",
            "state\n",
            "======\n",
            "\n",
            "<class 'str'>\n",
            "point\n",
            "======\n",
            "\n"
          ],
          "name": "stdout"
        }
      ]
    },
    {
      "cell_type": "code",
      "metadata": {
        "id": "pqIDuURG1u07",
        "colab_type": "code",
        "colab": {
          "base_uri": "https://localhost:8080/",
          "height": 68
        },
        "outputId": "1f80209f-dfbb-49e6-ab57-252d5731ef40"
      },
      "source": [
        "for column_name in df.__iter__():\n",
        "    print(0)"
      ],
      "execution_count": 150,
      "outputs": [
        {
          "output_type": "stream",
          "text": [
            "0\n",
            "0\n",
            "0\n"
          ],
          "name": "stdout"
        }
      ]
    },
    {
      "cell_type": "code",
      "metadata": {
        "id": "-9xDBkvB10RC",
        "colab_type": "code",
        "colab": {
          "base_uri": "https://localhost:8080/",
          "height": 680
        },
        "outputId": "988bee65-c0ab-4d6c-8ac7-7e9b6a0eca52"
      },
      "source": [
        "for column_name, item in df.iteritems():\n",
        "    print(type(column_name))\n",
        "    print(column_name)\n",
        "    print('~~~~~~')\n",
        "    print(type(item))\n",
        "    print(item)\n",
        "    print('------')\n",
        "    print(item['Alice'])\n",
        "    print(item[0])\n",
        "    print(item.Alice)\n",
        "    print('=======\\n')"
      ],
      "execution_count": 151,
      "outputs": [
        {
          "output_type": "stream",
          "text": [
            "<class 'str'>\n",
            "age\n",
            "~~~~~~\n",
            "<class 'pandas.core.series.Series'>\n",
            "Alice    24\n",
            "Bob      42\n",
            "Name: age, dtype: int64\n",
            "------\n",
            "24\n",
            "24\n",
            "24\n",
            "=======\n",
            "\n",
            "<class 'str'>\n",
            "state\n",
            "~~~~~~\n",
            "<class 'pandas.core.series.Series'>\n",
            "Alice    NY\n",
            "Bob      CA\n",
            "Name: state, dtype: object\n",
            "------\n",
            "NY\n",
            "NY\n",
            "NY\n",
            "=======\n",
            "\n",
            "<class 'str'>\n",
            "point\n",
            "~~~~~~\n",
            "<class 'pandas.core.series.Series'>\n",
            "Alice    64\n",
            "Bob      92\n",
            "Name: point, dtype: int64\n",
            "------\n",
            "64\n",
            "64\n",
            "64\n",
            "=======\n",
            "\n"
          ],
          "name": "stdout"
        }
      ]
    },
    {
      "cell_type": "code",
      "metadata": {
        "id": "SaPK9q4e2KKj",
        "colab_type": "code",
        "colab": {
          "base_uri": "https://localhost:8080/",
          "height": 493
        },
        "outputId": "26f28db4-b633-40eb-e395-5720e198f526"
      },
      "source": [
        "for index, row in df.iterrows():\n",
        "    print(type(index))\n",
        "    print(index)\n",
        "    print('~~~~~')\n",
        "    print(type(row))\n",
        "    print(row)\n",
        "    print('------')\n",
        "    print(row['point'])\n",
        "    print(row[2])\n",
        "    print(row.point)\n",
        "    print('======\\n')"
      ],
      "execution_count": 152,
      "outputs": [
        {
          "output_type": "stream",
          "text": [
            "<class 'str'>\n",
            "Alice\n",
            "~~~~~\n",
            "<class 'pandas.core.series.Series'>\n",
            "age      24\n",
            "state    NY\n",
            "point    64\n",
            "Name: Alice, dtype: object\n",
            "------\n",
            "64\n",
            "64\n",
            "64\n",
            "======\n",
            "\n",
            "<class 'str'>\n",
            "Bob\n",
            "~~~~~\n",
            "<class 'pandas.core.series.Series'>\n",
            "age      42\n",
            "state    CA\n",
            "point    92\n",
            "Name: Bob, dtype: object\n",
            "------\n",
            "92\n",
            "92\n",
            "92\n",
            "======\n",
            "\n"
          ],
          "name": "stdout"
        }
      ]
    },
    {
      "cell_type": "code",
      "metadata": {
        "id": "tLVzoeQp2kpT",
        "colab_type": "code",
        "colab": {
          "base_uri": "https://localhost:8080/",
          "height": 255
        },
        "outputId": "bdc2024c-8e39-4184-8a70-d774c43bfde3"
      },
      "source": [
        "for row in df.itertuples():\n",
        "    print(type(row))\n",
        "    print(row)\n",
        "    print('------')\n",
        "    print(row[3])\n",
        "    print(row.point)\n",
        "    print('======\\n')"
      ],
      "execution_count": 153,
      "outputs": [
        {
          "output_type": "stream",
          "text": [
            "<class 'pandas.core.frame.Pandas'>\n",
            "Pandas(Index='Alice', age=24, state='NY', point=64)\n",
            "------\n",
            "64\n",
            "64\n",
            "======\n",
            "\n",
            "<class 'pandas.core.frame.Pandas'>\n",
            "Pandas(Index='Bob', age=42, state='CA', point=92)\n",
            "------\n",
            "92\n",
            "92\n",
            "======\n",
            "\n"
          ],
          "name": "stdout"
        }
      ]
    },
    {
      "cell_type": "code",
      "metadata": {
        "id": "rr4mDGj-29k6",
        "colab_type": "code",
        "colab": {
          "base_uri": "https://localhost:8080/",
          "height": 221
        },
        "outputId": "ff5576db-cbb6-4ecf-b030-31ad022c0f47"
      },
      "source": [
        "for row in df.itertuples(name = None):\n",
        "    print(type(row))\n",
        "    print(row)\n",
        "    print('------')\n",
        "    print(row[3])\n",
        "    print('======\\n')"
      ],
      "execution_count": 154,
      "outputs": [
        {
          "output_type": "stream",
          "text": [
            "<class 'tuple'>\n",
            "('Alice', 24, 'NY', 64)\n",
            "------\n",
            "64\n",
            "======\n",
            "\n",
            "<class 'tuple'>\n",
            "('Bob', 42, 'CA', 92)\n",
            "------\n",
            "92\n",
            "======\n",
            "\n"
          ],
          "name": "stdout"
        }
      ]
    },
    {
      "cell_type": "code",
      "metadata": {
        "id": "o8mmJrqC3Of5",
        "colab_type": "code",
        "colab": {
          "base_uri": "https://localhost:8080/",
          "height": 119
        },
        "outputId": "170b189a-b948-4ae7-89d9-305b020b33b3"
      },
      "source": [
        "print(df['age'])\n",
        "print(type(df['age']))\n",
        "for age in df['age']:\n",
        "    print(age)"
      ],
      "execution_count": 155,
      "outputs": [
        {
          "output_type": "stream",
          "text": [
            "Alice    24\n",
            "Bob      42\n",
            "Name: age, dtype: int64\n",
            "<class 'pandas.core.series.Series'>\n",
            "24\n",
            "42\n"
          ],
          "name": "stdout"
        }
      ]
    },
    {
      "cell_type": "code",
      "metadata": {
        "id": "4XuBevyE4hTC",
        "colab_type": "code",
        "colab": {
          "base_uri": "https://localhost:8080/",
          "height": 51
        },
        "outputId": "897114c5-6d29-4c88-df46-9ec04c716bb0"
      },
      "source": [
        "for age, point in zip(df['age'], df['point']):\n",
        "    print(age, point)"
      ],
      "execution_count": 156,
      "outputs": [
        {
          "output_type": "stream",
          "text": [
            "24 64\n",
            "42 92\n"
          ],
          "name": "stdout"
        }
      ]
    },
    {
      "cell_type": "code",
      "metadata": {
        "id": "2oVFUBP24r4h",
        "colab_type": "code",
        "colab": {
          "base_uri": "https://localhost:8080/",
          "height": 51
        },
        "outputId": "b40cc945-7ff7-432b-ec73-94a3bed6f3e9"
      },
      "source": [
        "print(df.index)\n",
        "print(type(df.index))"
      ],
      "execution_count": 157,
      "outputs": [
        {
          "output_type": "stream",
          "text": [
            "Index(['Alice', 'Bob'], dtype='object')\n",
            "<class 'pandas.core.indexes.base.Index'>\n"
          ],
          "name": "stdout"
        }
      ]
    },
    {
      "cell_type": "code",
      "metadata": {
        "id": "Bdxcnqrk4yMy",
        "colab_type": "code",
        "colab": {
          "base_uri": "https://localhost:8080/",
          "height": 85
        },
        "outputId": "b30a6980-da9c-482e-c6fb-b481e4438966"
      },
      "source": [
        "for index in df.index:\n",
        "    print(index)\n",
        "for index, state in zip(df.index, df['state']):\n",
        "    print(index, state)"
      ],
      "execution_count": 159,
      "outputs": [
        {
          "output_type": "stream",
          "text": [
            "Alice\n",
            "Bob\n",
            "Alice NY\n",
            "Bob CA\n"
          ],
          "name": "stdout"
        }
      ]
    },
    {
      "cell_type": "code",
      "metadata": {
        "id": "ujR0ad6V44Db",
        "colab_type": "code",
        "colab": {
          "base_uri": "https://localhost:8080/",
          "height": 68
        },
        "outputId": "d2f661c6-454d-4fc7-b17d-062326c29267"
      },
      "source": [
        "for index, row in df.iterrows():\n",
        "    row['point'] += row['age']\n",
        "print(df)"
      ],
      "execution_count": 160,
      "outputs": [
        {
          "output_type": "stream",
          "text": [
            "       age state  point\n",
            "Alice   24    NY     64\n",
            "Bob     42    CA     92\n"
          ],
          "name": "stdout"
        }
      ]
    },
    {
      "cell_type": "code",
      "metadata": {
        "id": "Pn5rkLZy5XaB",
        "colab_type": "code",
        "colab": {
          "base_uri": "https://localhost:8080/",
          "height": 111
        },
        "outputId": "0bbf34aa-663e-4b73-a3b4-3f942e86c0f3"
      },
      "source": [
        "df"
      ],
      "execution_count": 161,
      "outputs": [
        {
          "output_type": "execute_result",
          "data": {
            "text/html": [
              "<div>\n",
              "<style scoped>\n",
              "    .dataframe tbody tr th:only-of-type {\n",
              "        vertical-align: middle;\n",
              "    }\n",
              "\n",
              "    .dataframe tbody tr th {\n",
              "        vertical-align: top;\n",
              "    }\n",
              "\n",
              "    .dataframe thead th {\n",
              "        text-align: right;\n",
              "    }\n",
              "</style>\n",
              "<table border=\"1\" class=\"dataframe\">\n",
              "  <thead>\n",
              "    <tr style=\"text-align: right;\">\n",
              "      <th></th>\n",
              "      <th>age</th>\n",
              "      <th>state</th>\n",
              "      <th>point</th>\n",
              "    </tr>\n",
              "  </thead>\n",
              "  <tbody>\n",
              "    <tr>\n",
              "      <th>Alice</th>\n",
              "      <td>24</td>\n",
              "      <td>NY</td>\n",
              "      <td>64</td>\n",
              "    </tr>\n",
              "    <tr>\n",
              "      <th>Bob</th>\n",
              "      <td>42</td>\n",
              "      <td>CA</td>\n",
              "      <td>92</td>\n",
              "    </tr>\n",
              "  </tbody>\n",
              "</table>\n",
              "</div>"
            ],
            "text/plain": [
              "       age state  point\n",
              "Alice   24    NY     64\n",
              "Bob     42    CA     92"
            ]
          },
          "metadata": {
            "tags": []
          },
          "execution_count": 161
        }
      ]
    },
    {
      "cell_type": "code",
      "metadata": {
        "id": "ZvVqjsBG5gmK",
        "colab_type": "code",
        "colab": {
          "base_uri": "https://localhost:8080/",
          "height": 68
        },
        "outputId": "de59323c-052f-489c-a920-5e7bfed7b9fe"
      },
      "source": [
        "for index, row in df.iterrows():\n",
        "    df.at[index, 'point'] += row['age']\n",
        "print(df)"
      ],
      "execution_count": 162,
      "outputs": [
        {
          "output_type": "stream",
          "text": [
            "       age state  point\n",
            "Alice   24    NY     88\n",
            "Bob     42    CA    134\n"
          ],
          "name": "stdout"
        }
      ]
    },
    {
      "cell_type": "code",
      "metadata": {
        "id": "Z-MiF1_M5sQ5",
        "colab_type": "code",
        "colab": {
          "base_uri": "https://localhost:8080/",
          "height": 68
        },
        "outputId": "a53dce26-5621-4ce3-a29d-ec0c13827c02"
      },
      "source": [
        "df['point'] += df['age']\n",
        "print(df)"
      ],
      "execution_count": 163,
      "outputs": [
        {
          "output_type": "stream",
          "text": [
            "       age state  point\n",
            "Alice   24    NY    112\n",
            "Bob     42    CA    176\n"
          ],
          "name": "stdout"
        }
      ]
    },
    {
      "cell_type": "code",
      "metadata": {
        "id": "g4U2q-bA57EA",
        "colab_type": "code",
        "colab": {}
      },
      "source": [
        "df['new'] = df['point'] + df['age'] * 2"
      ],
      "execution_count": 164,
      "outputs": []
    },
    {
      "cell_type": "code",
      "metadata": {
        "id": "52wE6EjZ5-hK",
        "colab_type": "code",
        "colab": {
          "base_uri": "https://localhost:8080/",
          "height": 68
        },
        "outputId": "c1c92592-45c5-4318-e9a1-1cb274be792e"
      },
      "source": [
        "print(df)"
      ],
      "execution_count": 165,
      "outputs": [
        {
          "output_type": "stream",
          "text": [
            "       age state  point  new\n",
            "Alice   24    NY    112  160\n",
            "Bob     42    CA    176  260\n"
          ],
          "name": "stdout"
        }
      ]
    },
    {
      "cell_type": "code",
      "metadata": {
        "id": "qqdrSJKX5_Cx",
        "colab_type": "code",
        "colab": {
          "base_uri": "https://localhost:8080/",
          "height": 122
        },
        "outputId": "df4137ec-2baa-4efd-b101-f529f61580c1"
      },
      "source": [
        "df['age_sqrt'] = pd.np.sqrt(df['age'])\n",
        "print(df)"
      ],
      "execution_count": 166,
      "outputs": [
        {
          "output_type": "stream",
          "text": [
            "       age state  point  new  age_sqrt\n",
            "Alice   24    NY    112  160  4.898979\n",
            "Bob     42    CA    176  260  6.480741\n"
          ],
          "name": "stdout"
        },
        {
          "output_type": "stream",
          "text": [
            "/usr/local/lib/python3.6/dist-packages/ipykernel_launcher.py:1: FutureWarning: The pandas.np module is deprecated and will be removed from pandas in a future version. Import numpy directly instead\n",
            "  \"\"\"Entry point for launching an IPython kernel.\n"
          ],
          "name": "stderr"
        }
      ]
    },
    {
      "cell_type": "code",
      "metadata": {
        "id": "RdApQDI46HqQ",
        "colab_type": "code",
        "colab": {
          "base_uri": "https://localhost:8080/",
          "height": 68
        },
        "outputId": "e1859d4e-029e-451a-c05c-a6583f84b908"
      },
      "source": [
        "df['state_0'] = df['state'].str.lower().str[0]\n",
        "print(df)"
      ],
      "execution_count": 167,
      "outputs": [
        {
          "output_type": "stream",
          "text": [
            "       age state  point  new  age_sqrt state_0\n",
            "Alice   24    NY    112  160  4.898979       n\n",
            "Bob     42    CA    176  260  6.480741       c\n"
          ],
          "name": "stdout"
        }
      ]
    },
    {
      "cell_type": "code",
      "metadata": {
        "id": "JTrFOYVa6TEh",
        "colab_type": "code",
        "colab": {
          "base_uri": "https://localhost:8080/",
          "height": 88
        },
        "outputId": "ae18a8c3-dc87-4db9-87fb-d99cd78d5504"
      },
      "source": [
        "import pandas as pd\n",
        "df = pd.DataFrame(pd.np.arange(1000).reshape(100,10))\n",
        "print(df.shape)"
      ],
      "execution_count": 168,
      "outputs": [
        {
          "output_type": "stream",
          "text": [
            "(100, 10)\n"
          ],
          "name": "stdout"
        },
        {
          "output_type": "stream",
          "text": [
            "/usr/local/lib/python3.6/dist-packages/ipykernel_launcher.py:2: FutureWarning: The pandas.np module is deprecated and will be removed from pandas in a future version. Import numpy directly instead\n",
            "  \n"
          ],
          "name": "stderr"
        }
      ]
    },
    {
      "cell_type": "code",
      "metadata": {
        "id": "m7iimFQl64Gb",
        "colab_type": "code",
        "colab": {
          "base_uri": "https://localhost:8080/",
          "height": 119
        },
        "outputId": "8ca79841-2913-4768-dc12-007169ad412e"
      },
      "source": [
        "print(df.head())"
      ],
      "execution_count": 169,
      "outputs": [
        {
          "output_type": "stream",
          "text": [
            "    0   1   2   3   4   5   6   7   8   9\n",
            "0   0   1   2   3   4   5   6   7   8   9\n",
            "1  10  11  12  13  14  15  16  17  18  19\n",
            "2  20  21  22  23  24  25  26  27  28  29\n",
            "3  30  31  32  33  34  35  36  37  38  39\n",
            "4  40  41  42  43  44  45  46  47  48  49\n"
          ],
          "name": "stdout"
        }
      ]
    },
    {
      "cell_type": "code",
      "metadata": {
        "id": "mhXYPLQf66hi",
        "colab_type": "code",
        "colab": {
          "base_uri": "https://localhost:8080/",
          "height": 119
        },
        "outputId": "847e1d29-a364-417f-ce82-a9343399247d"
      },
      "source": [
        "print(df.tail())"
      ],
      "execution_count": 170,
      "outputs": [
        {
          "output_type": "stream",
          "text": [
            "      0    1    2    3    4    5    6    7    8    9\n",
            "95  950  951  952  953  954  955  956  957  958  959\n",
            "96  960  961  962  963  964  965  966  967  968  969\n",
            "97  970  971  972  973  974  975  976  977  978  979\n",
            "98  980  981  982  983  984  985  986  987  988  989\n",
            "99  990  991  992  993  994  995  996  997  998  999\n"
          ],
          "name": "stdout"
        }
      ]
    },
    {
      "cell_type": "code",
      "metadata": {
        "id": "IiwOVgkE67wR",
        "colab_type": "code",
        "colab": {}
      },
      "source": [
        ""
      ],
      "execution_count": null,
      "outputs": []
    }
  ]
}