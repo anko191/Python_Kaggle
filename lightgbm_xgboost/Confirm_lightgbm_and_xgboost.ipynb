{
  "nbformat": 4,
  "nbformat_minor": 0,
  "metadata": {
    "kernelspec": {
      "display_name": "Python 3",
      "language": "python",
      "name": "python3"
    },
    "language_info": {
      "codemirror_mode": {
        "name": "ipython",
        "version": 3
      },
      "file_extension": ".py",
      "mimetype": "text/x-python",
      "name": "python",
      "nbconvert_exporter": "python",
      "pygments_lexer": "ipython3",
      "version": "3.7.6"
    },
    "colab": {
      "name": "Confirm_lightgbm_and_xgboost.ipynb",
      "provenance": []
    }
  },
  "cells": [
    {
      "cell_type": "code",
      "metadata": {
        "id": "oJPgfUPrQceK",
        "colab_type": "code",
        "colab": {}
      },
      "source": [
        "import sys, os\n",
        "sys.path.append(os.pardir)"
      ],
      "execution_count": null,
      "outputs": []
    },
    {
      "cell_type": "code",
      "metadata": {
        "id": "BoRpG1JuQceO",
        "colab_type": "code",
        "colab": {}
      },
      "source": [
        "%pwd"
      ],
      "execution_count": null,
      "outputs": []
    },
    {
      "cell_type": "code",
      "metadata": {
        "id": "OI3EGqluQceS",
        "colab_type": "code",
        "colab": {}
      },
      "source": [
        "import os\n",
        "for dirname, _, filenames in os.walk('----'):\n",
        "    for filename in filenames:\n",
        "        print(os.path.join(dirname, filename))"
      ],
      "execution_count": null,
      "outputs": []
    },
    {
      "cell_type": "code",
      "metadata": {
        "id": "ACG9FSGCQceV",
        "colab_type": "code",
        "colab": {}
      },
      "source": [
        "%cd C:\\\\Users\\\\ばやし\\\\Documents\\\\MEGAsync\\\\nifty"
      ],
      "execution_count": null,
      "outputs": []
    },
    {
      "cell_type": "code",
      "metadata": {
        "id": "idw7lUWFQceY",
        "colab_type": "code",
        "colab": {}
      },
      "source": [
        "%ls"
      ],
      "execution_count": null,
      "outputs": []
    },
    {
      "cell_type": "code",
      "metadata": {
        "id": "KLpJOGexQceb",
        "colab_type": "code",
        "colab": {}
      },
      "source": [
        "import numpy as np\n",
        "import pandas as pd\n",
        "\n",
        "import matplotlib.pyplot as plt\n",
        "%matplotlib inline\n",
        "\n",
        "import lightgbm as lgb\n",
        "\n",
        "from sklearn.metrics import confusion_matrix\n",
        "from sklearn.metrics import accuracy_score"
      ],
      "execution_count": null,
      "outputs": []
    },
    {
      "cell_type": "code",
      "metadata": {
        "id": "QEqKWuwYQced",
        "colab_type": "code",
        "colab": {}
      },
      "source": [
        "import os\n",
        "path = os.getcwd()\n",
        "print(path)"
      ],
      "execution_count": null,
      "outputs": []
    },
    {
      "cell_type": "code",
      "metadata": {
        "id": "ua2uRG-gQceg",
        "colab_type": "code",
        "colab": {}
      },
      "source": [
        "import pathlib\n",
        "p = pathlib.Path('confirmlgb/datasets_89887_215882_kmnist_classmap.csv')\n",
        "print(p.cwd())      # カレントディレクトリ\n",
        "print(p.resolve())"
      ],
      "execution_count": null,
      "outputs": []
    },
    {
      "cell_type": "code",
      "metadata": {
        "id": "UrVXVFJyQcek",
        "colab_type": "code",
        "colab": {},
        "outputId": "ad97aae7-db93-4b17-ae29-64e482ed255b"
      },
      "source": [
        "classes = pd.read_csv('confirmlgb/datasets_89887_215882_kmnist_classmap.csv')\n",
        "print(classes.shape)\n",
        "classes"
      ],
      "execution_count": null,
      "outputs": [
        {
          "output_type": "stream",
          "text": [
            "(10, 3)\n"
          ],
          "name": "stdout"
        },
        {
          "output_type": "execute_result",
          "data": {
            "text/html": [
              "<div>\n",
              "<style scoped>\n",
              "    .dataframe tbody tr th:only-of-type {\n",
              "        vertical-align: middle;\n",
              "    }\n",
              "\n",
              "    .dataframe tbody tr th {\n",
              "        vertical-align: top;\n",
              "    }\n",
              "\n",
              "    .dataframe thead th {\n",
              "        text-align: right;\n",
              "    }\n",
              "</style>\n",
              "<table border=\"1\" class=\"dataframe\">\n",
              "  <thead>\n",
              "    <tr style=\"text-align: right;\">\n",
              "      <th></th>\n",
              "      <th>index</th>\n",
              "      <th>codepoint</th>\n",
              "      <th>char</th>\n",
              "    </tr>\n",
              "  </thead>\n",
              "  <tbody>\n",
              "    <tr>\n",
              "      <th>0</th>\n",
              "      <td>0</td>\n",
              "      <td>U+304A</td>\n",
              "      <td>お</td>\n",
              "    </tr>\n",
              "    <tr>\n",
              "      <th>1</th>\n",
              "      <td>1</td>\n",
              "      <td>U+304D</td>\n",
              "      <td>き</td>\n",
              "    </tr>\n",
              "    <tr>\n",
              "      <th>2</th>\n",
              "      <td>2</td>\n",
              "      <td>U+3059</td>\n",
              "      <td>す</td>\n",
              "    </tr>\n",
              "    <tr>\n",
              "      <th>3</th>\n",
              "      <td>3</td>\n",
              "      <td>U+3064</td>\n",
              "      <td>つ</td>\n",
              "    </tr>\n",
              "    <tr>\n",
              "      <th>4</th>\n",
              "      <td>4</td>\n",
              "      <td>U+306A</td>\n",
              "      <td>な</td>\n",
              "    </tr>\n",
              "    <tr>\n",
              "      <th>5</th>\n",
              "      <td>5</td>\n",
              "      <td>U+306F</td>\n",
              "      <td>は</td>\n",
              "    </tr>\n",
              "    <tr>\n",
              "      <th>6</th>\n",
              "      <td>6</td>\n",
              "      <td>U+307E</td>\n",
              "      <td>ま</td>\n",
              "    </tr>\n",
              "    <tr>\n",
              "      <th>7</th>\n",
              "      <td>7</td>\n",
              "      <td>U+3084</td>\n",
              "      <td>や</td>\n",
              "    </tr>\n",
              "    <tr>\n",
              "      <th>8</th>\n",
              "      <td>8</td>\n",
              "      <td>U+308C</td>\n",
              "      <td>れ</td>\n",
              "    </tr>\n",
              "    <tr>\n",
              "      <th>9</th>\n",
              "      <td>9</td>\n",
              "      <td>U+3092</td>\n",
              "      <td>を</td>\n",
              "    </tr>\n",
              "  </tbody>\n",
              "</table>\n",
              "</div>"
            ],
            "text/plain": [
              "   index codepoint char\n",
              "0      0    U+304A    お\n",
              "1      1    U+304D    き\n",
              "2      2    U+3059    す\n",
              "3      3    U+3064    つ\n",
              "4      4    U+306A    な\n",
              "5      5    U+306F    は\n",
              "6      6    U+307E    ま\n",
              "7      7    U+3084    や\n",
              "8      8    U+308C    れ\n",
              "9      9    U+3092    を"
            ]
          },
          "metadata": {
            "tags": []
          },
          "execution_count": 19
        }
      ]
    },
    {
      "cell_type": "code",
      "metadata": {
        "id": "QX57BLGuQcen",
        "colab_type": "code",
        "colab": {}
      },
      "source": [
        "import os\n",
        "for dirname, _, filenames in os.walk('------'):\n",
        "    for filename in filenames:\n",
        "        print(os.path.join(dirname, filename))"
      ],
      "execution_count": null,
      "outputs": []
    },
    {
      "cell_type": "code",
      "metadata": {
        "id": "oq5Exzp_Qces",
        "colab_type": "code",
        "colab": {}
      },
      "source": [
        "# loading training data\n",
        "X_train = np.load('confirmlgb\\kmnist-train-imgs.npz')['arr_0']\n",
        "y_train = np.load('confirmlgb\\kmnist-train-labels.npz')['arr_0']\n",
        "\n",
        "# loading test data\n",
        "X_test = np.load('confirmlgb\\kmnist-test-imgs.npz')['arr_0']\n",
        "y_test = np.load('confirmlgb\\kmnist-test-labels.npz')['arr_0']"
      ],
      "execution_count": null,
      "outputs": []
    },
    {
      "cell_type": "code",
      "metadata": {
        "id": "qz-X7x8qQcev",
        "colab_type": "code",
        "colab": {},
        "outputId": "1dbf0916-9454-4759-f69e-410681898811"
      },
      "source": [
        "# confirm datasize\n",
        "print(X_train.shape)\n",
        "print(X_test.shape)"
      ],
      "execution_count": null,
      "outputs": [
        {
          "output_type": "stream",
          "text": [
            "(60000, 28, 28)\n",
            "(10000, 28, 28)\n"
          ],
          "name": "stdout"
        }
      ]
    },
    {
      "cell_type": "code",
      "metadata": {
        "id": "yz9rN7rZQcey",
        "colab_type": "code",
        "colab": {},
        "outputId": "2c3305fe-7706-4998-d29c-0e86c0545fb5"
      },
      "source": [
        "print(y_train[0:5])\n",
        "print(classes)"
      ],
      "execution_count": null,
      "outputs": [
        {
          "output_type": "stream",
          "text": [
            "[8 7 0 1 4]\n",
            "   index codepoint char\n",
            "0      0    U+304A    お\n",
            "1      1    U+304D    き\n",
            "2      2    U+3059    す\n",
            "3      3    U+3064    つ\n",
            "4      4    U+306A    な\n",
            "5      5    U+306F    は\n",
            "6      6    U+307E    ま\n",
            "7      7    U+3084    や\n",
            "8      8    U+308C    れ\n",
            "9      9    U+3092    を\n"
          ],
          "name": "stdout"
        }
      ]
    },
    {
      "cell_type": "code",
      "metadata": {
        "id": "6AAiuRNGQce0",
        "colab_type": "code",
        "colab": {},
        "outputId": "233b6760-353f-4733-db27-4ec233eb723b"
      },
      "source": [
        "labelindex = classes.set_index('index').to_dict()['char']\n",
        "labelindex"
      ],
      "execution_count": null,
      "outputs": [
        {
          "output_type": "execute_result",
          "data": {
            "text/plain": [
              "{0: 'お',\n",
              " 1: 'き',\n",
              " 2: 'す',\n",
              " 3: 'つ',\n",
              " 4: 'な',\n",
              " 5: 'は',\n",
              " 6: 'ま',\n",
              " 7: 'や',\n",
              " 8: 'れ',\n",
              " 9: 'を'}"
            ]
          },
          "metadata": {
            "tags": []
          },
          "execution_count": 24
        }
      ]
    },
    {
      "cell_type": "code",
      "metadata": {
        "id": "NJicxy8pQce3",
        "colab_type": "code",
        "colab": {},
        "outputId": "4115fe23-e7f5-48f6-b134-aafdcece8a9f"
      },
      "source": [
        "print(X_train.min(), '-', X_train.max())"
      ],
      "execution_count": null,
      "outputs": [
        {
          "output_type": "stream",
          "text": [
            "0 - 255\n"
          ],
          "name": "stdout"
        }
      ]
    },
    {
      "cell_type": "code",
      "metadata": {
        "id": "jHDIkkdTQce6",
        "colab_type": "code",
        "colab": {},
        "outputId": "927ca848-ec5a-4bed-f8a1-e2e39d79abca"
      },
      "source": [
        "plt.imshow(X_train[423], cmap = plt.cm.gray)"
      ],
      "execution_count": null,
      "outputs": [
        {
          "output_type": "execute_result",
          "data": {
            "text/plain": [
              "<matplotlib.image.AxesImage at 0x1bdc1a15288>"
            ]
          },
          "metadata": {
            "tags": []
          },
          "execution_count": 27
        },
        {
          "output_type": "display_data",
          "data": {
            "image/png": "[encoded data removed]",
            "text/plain": [
              "<Figure size 432x288 with 1 Axes>"
            ]
          },
          "metadata": {
            "tags": [],
            "needs_background": "light"
          }
        }
      ]
    },
    {
      "cell_type": "code",
      "metadata": {
        "id": "gEDcAFLZQce9",
        "colab_type": "code",
        "colab": {},
        "outputId": "2c156a70-4096-469c-ebf3-f673ea0f67b7"
      },
      "source": [
        "print(y_train[423], labelindex[1])"
      ],
      "execution_count": null,
      "outputs": [
        {
          "output_type": "stream",
          "text": [
            "1 き\n"
          ],
          "name": "stdout"
        }
      ]
    },
    {
      "cell_type": "code",
      "metadata": {
        "id": "BKO3J2qoQcfA",
        "colab_type": "code",
        "colab": {},
        "outputId": "dbc6c45b-12e4-423b-d826-7b6c5a905051"
      },
      "source": [
        "X_train[0, 10:15, 10:15]"
      ],
      "execution_count": null,
      "outputs": [
        {
          "output_type": "execute_result",
          "data": {
            "text/plain": [
              "array([[  0,   0, 133,  91,   7],\n",
              "       [  0,   0, 128, 128,  20],\n",
              "       [  0,   0,  95, 224,  20],\n",
              "       [  0,   0, 112, 159,  64],\n",
              "       [  0,   1, 211, 234, 253]], dtype=uint8)"
            ]
          },
          "metadata": {
            "tags": []
          },
          "execution_count": 29
        }
      ]
    },
    {
      "cell_type": "code",
      "metadata": {
        "id": "DcsAFc6xQcfE",
        "colab_type": "code",
        "colab": {},
        "outputId": "55d9aab4-3c70-4706-ee7d-f7a8d8c2bf1c"
      },
      "source": [
        "plt.imshow(X_train[0, 10:15, 10:15], cmap=plt.cm.gray)"
      ],
      "execution_count": null,
      "outputs": [
        {
          "output_type": "execute_result",
          "data": {
            "text/plain": [
              "<matplotlib.image.AxesImage at 0x1bdc1a7ad08>"
            ]
          },
          "metadata": {
            "tags": []
          },
          "execution_count": 31
        },
        {
          "output_type": "display_data",
          "data": {
            "image/png": "[encoded data removed]",
            "text/plain": [
              "<Figure size 432x288 with 1 Axes>"
            ]
          },
          "metadata": {
            "tags": [],
            "needs_background": "light"
          }
        }
      ]
    },
    {
      "cell_type": "code",
      "metadata": {
        "id": "7PbKxlLfQcfH",
        "colab_type": "code",
        "colab": {}
      },
      "source": [
        "X_train = X_train / 255\n",
        "X_test = X_test / 255"
      ],
      "execution_count": null,
      "outputs": []
    },
    {
      "cell_type": "code",
      "metadata": {
        "id": "Mi9sE4MCQcfJ",
        "colab_type": "code",
        "colab": {}
      },
      "source": [
        "X_train = X_train.reshape(X_train.shape[0], 784)\n",
        "X_test = X_test.reshape(X_test.shape[0], 784)"
      ],
      "execution_count": null,
      "outputs": []
    },
    {
      "cell_type": "code",
      "metadata": {
        "id": "vJoYGbneQcfM",
        "colab_type": "code",
        "colab": {},
        "outputId": "69d71adc-7582-4eef-878c-6ae679c091de"
      },
      "source": [
        "lgb.LGBMClassifier()"
      ],
      "execution_count": null,
      "outputs": [
        {
          "output_type": "execute_result",
          "data": {
            "text/plain": [
              "LGBMClassifier(boosting_type='gbdt', class_weight=None, colsample_bytree=1.0,\n",
              "               importance_type='split', learning_rate=0.1, max_depth=-1,\n",
              "               min_child_samples=20, min_child_weight=0.001, min_split_gain=0.0,\n",
              "               n_estimators=100, n_jobs=-1, num_leaves=31, objective=None,\n",
              "               random_state=None, reg_alpha=0.0, reg_lambda=0.0, silent=True,\n",
              "               subsample=1.0, subsample_for_bin=200000, subsample_freq=0)"
            ]
          },
          "metadata": {
            "tags": []
          },
          "execution_count": 34
        }
      ]
    },
    {
      "cell_type": "code",
      "metadata": {
        "id": "lBu6HE6-QcfO",
        "colab_type": "code",
        "colab": {}
      },
      "source": [
        "train_data = lgb.Dataset(X_train, label=y_train)\n",
        "eval_data = lgb.Dataset(X_test, label=y_test, reference=train_data)"
      ],
      "execution_count": null,
      "outputs": []
    },
    {
      "cell_type": "code",
      "metadata": {
        "id": "QUiFzLjmQcfR",
        "colab_type": "code",
        "colab": {}
      },
      "source": [
        "params = {\n",
        "    'task':'train',\n",
        "    'boosting_type':'gbdt',\n",
        "    'objective':'multiclass',\n",
        "    'num_class':10,\n",
        "    'verbose':2,\n",
        "}"
      ],
      "execution_count": null,
      "outputs": []
    },
    {
      "cell_type": "code",
      "metadata": {
        "id": "gUG_q4xxQcfU",
        "colab_type": "code",
        "colab": {},
        "outputId": "c750045d-eb2a-4dd6-a8fa-495b59210cdb"
      },
      "source": [
        "gbm = lgb.train(\n",
        "    params,\n",
        "    train_data,\n",
        "    valid_sets = eval_data,\n",
        "    num_boost_round=100,\n",
        "    verbose_eval=5,\n",
        ")"
      ],
      "execution_count": null,
      "outputs": [
        {
          "output_type": "stream",
          "text": [
            "[5]\tvalid_0's multi_logloss: 1.71401\n",
            "[10]\tvalid_0's multi_logloss: 1.43197\n",
            "[15]\tvalid_0's multi_logloss: 1.2474\n",
            "[20]\tvalid_0's multi_logloss: 1.11132\n",
            "[25]\tvalid_0's multi_logloss: 1.00722\n",
            "[30]\tvalid_0's multi_logloss: 0.924201\n",
            "[35]\tvalid_0's multi_logloss: 0.856528\n",
            "[40]\tvalid_0's multi_logloss: 0.799088\n",
            "[45]\tvalid_0's multi_logloss: 0.751136\n",
            "[50]\tvalid_0's multi_logloss: 0.711042\n",
            "[55]\tvalid_0's multi_logloss: 0.675216\n",
            "[60]\tvalid_0's multi_logloss: 0.645093\n",
            "[65]\tvalid_0's multi_logloss: 0.617719\n",
            "[70]\tvalid_0's multi_logloss: 0.594623\n",
            "[75]\tvalid_0's multi_logloss: 0.573648\n",
            "[80]\tvalid_0's multi_logloss: 0.5548\n",
            "[85]\tvalid_0's multi_logloss: 0.537461\n",
            "[90]\tvalid_0's multi_logloss: 0.52171\n",
            "[95]\tvalid_0's multi_logloss: 0.508122\n",
            "[100]\tvalid_0's multi_logloss: 0.49569\n"
          ],
          "name": "stdout"
        }
      ]
    },
    {
      "cell_type": "code",
      "metadata": {
        "id": "gKrnDFi-QcfX",
        "colab_type": "code",
        "colab": {},
        "outputId": "4f50b05f-50d4-4c21-b2e7-55e96358ed10"
      },
      "source": [
        "preds = gbm.predict(X_test)\n",
        "y_pred = []\n",
        "for x in preds:\n",
        "    y_pred.append(np.argmax(x))\n",
        "confusion_matrix(y_test, y_pred)"
      ],
      "execution_count": null,
      "outputs": [
        {
          "output_type": "execute_result",
          "data": {
            "text/plain": [
              "array([[872,   3,   2,   4,  31,  16,   3,  34,  31,   4],\n",
              "       [  2, 840,  34,   4,  24,   5,  49,   6,  15,  21],\n",
              "       [  6,  22, 826,  48,  17,   7,  27,  14,  21,  12],\n",
              "       [  2,  13,  31, 917,   8,   4,   6,   7,   3,   9],\n",
              "       [ 35,  22,  24,  13, 834,   8,  23,   9,  18,  14],\n",
              "       [  7,  25, 101,   7,  16, 802,  26,   2,  12,   2],\n",
              "       [  2,  18,  52,   4,  19,   5, 885,   9,   3,   3],\n",
              "       [  9,  21,  12,   5,  73,   2,  34, 787,  37,  20],\n",
              "       [  5,  34,  10,  32,   2,   7,  21,   1, 883,   5],\n",
              "       [  5,  21,  30,   7,  34,   3,  12,  26,  25, 837]], dtype=int64)"
            ]
          },
          "metadata": {
            "tags": []
          },
          "execution_count": 39
        }
      ]
    },
    {
      "cell_type": "code",
      "metadata": {
        "id": "trlRBsURQcfa",
        "colab_type": "code",
        "colab": {},
        "outputId": "544cf43e-7d7e-4448-f613-ec4626387ba7"
      },
      "source": [
        "accuracy_score(y_test,y_pred)"
      ],
      "execution_count": null,
      "outputs": [
        {
          "output_type": "execute_result",
          "data": {
            "text/plain": [
              "0.8483"
            ]
          },
          "metadata": {
            "tags": []
          },
          "execution_count": 40
        }
      ]
    },
    {
      "cell_type": "code",
      "metadata": {
        "id": "K-ZqzTQJQcfc",
        "colab_type": "code",
        "colab": {},
        "outputId": "152a7f29-049b-4a18-9cd4-90ad8dc33ab5"
      },
      "source": [
        "from sklearn.metrics import classification_report\n",
        "import pprint\n",
        "pprint.pprint(classification_report(y_test, y_pred))"
      ],
      "execution_count": null,
      "outputs": [
        {
          "output_type": "stream",
          "text": [
            "('              precision    recall  f1-score   support\\n'\n",
            " '\\n'\n",
            " '           0       0.92      0.87      0.90      1000\\n'\n",
            " '           1       0.82      0.84      0.83      1000\\n'\n",
            " '           2       0.74      0.83      0.78      1000\\n'\n",
            " '           3       0.88      0.92      0.90      1000\\n'\n",
            " '           4       0.79      0.83      0.81      1000\\n'\n",
            " '           5       0.93      0.80      0.86      1000\\n'\n",
            " '           6       0.81      0.89      0.85      1000\\n'\n",
            " '           7       0.88      0.79      0.83      1000\\n'\n",
            " '           8       0.84      0.88      0.86      1000\\n'\n",
            " '           9       0.90      0.84      0.87      1000\\n'\n",
            " '\\n'\n",
            " '    accuracy                           0.85     10000\\n'\n",
            " '   macro avg       0.85      0.85      0.85     10000\\n'\n",
            " 'weighted avg       0.85      0.85      0.85     10000\\n')\n"
          ],
          "name": "stdout"
        }
      ]
    },
    {
      "cell_type": "code",
      "metadata": {
        "id": "5Ao56FxcQcfe",
        "colab_type": "code",
        "colab": {}
      },
      "source": [
        "import xgboost as xgb"
      ],
      "execution_count": null,
      "outputs": []
    },
    {
      "cell_type": "code",
      "metadata": {
        "id": "m-j9vk9iQcfg",
        "colab_type": "code",
        "colab": {}
      },
      "source": [
        "import pandas as pd"
      ],
      "execution_count": null,
      "outputs": []
    },
    {
      "cell_type": "code",
      "metadata": {
        "id": "ElMy_AEGQcfi",
        "colab_type": "code",
        "colab": {}
      },
      "source": [
        "from sklearn.datasets import load_iris"
      ],
      "execution_count": null,
      "outputs": []
    },
    {
      "cell_type": "code",
      "metadata": {
        "id": "5vXfKKElQcfm",
        "colab_type": "code",
        "colab": {}
      },
      "source": [
        "iris = load_iris()\n",
        "iris_data = pd.DataFrame(iris.data, columns = iris.feature_names)\n",
        "iris_target = pd.Series(iris.target)"
      ],
      "execution_count": null,
      "outputs": []
    },
    {
      "cell_type": "code",
      "metadata": {
        "id": "nRfFahN8Qcfo",
        "colab_type": "code",
        "colab": {}
      },
      "source": [
        "from sklearn.model_selection import train_test_split\n",
        "train_x, test_x, train_y, test_y = train_test_split(iris_data, iris_target, test_size = 0.2, shuffle=True)"
      ],
      "execution_count": null,
      "outputs": []
    },
    {
      "cell_type": "code",
      "metadata": {
        "id": "bFdk-esIQcfq",
        "colab_type": "code",
        "colab": {}
      },
      "source": [
        "dtrain = xgb.DMatrix(train_x, label=train_y)"
      ],
      "execution_count": null,
      "outputs": []
    },
    {
      "cell_type": "code",
      "metadata": {
        "id": "qzv_nkJSQcfs",
        "colab_type": "code",
        "colab": {}
      },
      "source": [
        "param = {\n",
        "    'max_depth':2,\n",
        "    'eta':1,\n",
        "    'objective':'multi:softmax',\n",
        "    'num_class':3\n",
        "}"
      ],
      "execution_count": null,
      "outputs": []
    },
    {
      "cell_type": "code",
      "metadata": {
        "id": "yuUgyrUvQcfu",
        "colab_type": "code",
        "colab": {}
      },
      "source": [
        "num_round = 10\n",
        "bst = xgb.train(param, dtrain, num_round)"
      ],
      "execution_count": null,
      "outputs": []
    },
    {
      "cell_type": "code",
      "metadata": {
        "id": "6I3op5AAQcfw",
        "colab_type": "code",
        "colab": {}
      },
      "source": [
        "dtest = xgb.DMatrix(test_x)\n",
        "pred = bst.predict(dtest)"
      ],
      "execution_count": null,
      "outputs": []
    },
    {
      "cell_type": "code",
      "metadata": {
        "id": "ikRtow2CQcfz",
        "colab_type": "code",
        "colab": {},
        "outputId": "d2ec2c02-6ee9-4360-ed2a-f6180f20df43"
      },
      "source": [
        "from sklearn.metrics import accuracy_score\n",
        "score = accuracy_score(test_y, pred)\n",
        "print('score:{0:.4f}'.format(score))"
      ],
      "execution_count": null,
      "outputs": [
        {
          "output_type": "stream",
          "text": [
            "score:0.9000\n"
          ],
          "name": "stdout"
        }
      ]
    },
    {
      "cell_type": "code",
      "metadata": {
        "id": "laapqJeZQcf1",
        "colab_type": "code",
        "colab": {},
        "outputId": "1fac47db-6446-4893-d5ca-7dbe0177a635"
      },
      "source": [
        "xgb.plot_importance(bst)"
      ],
      "execution_count": null,
      "outputs": [
        {
          "output_type": "execute_result",
          "data": {
            "text/plain": [
              "<matplotlib.axes._subplots.AxesSubplot at 0x1f4e5929b88>"
            ]
          },
          "metadata": {
            "tags": []
          },
          "execution_count": 13
        },
        {
          "output_type": "display_data",
          "data": {
            "image/png": "[encoded data removed]",
            "text/plain": [
              "<Figure size 432x288 with 1 Axes>"
            ]
          },
          "metadata": {
            "tags": [],
            "needs_background": "light"
          }
        }
      ]
    },
    {
      "cell_type": "code",
      "metadata": {
        "id": "7TKox49SQcf3",
        "colab_type": "code",
        "colab": {}
      },
      "source": [
        "# validation data\n",
        "train_x, valid_x, train_y, valid_y = train_test_split(train_x, train_y, test_size = 0.2, shuffle=True)"
      ],
      "execution_count": null,
      "outputs": []
    },
    {
      "cell_type": "code",
      "metadata": {
        "id": "4kRzeT9FQcf5",
        "colab_type": "code",
        "colab": {}
      },
      "source": [
        "dtrain = xgb.DMatrix(train_x, label = train_y)\n",
        "dvalid = xgb.DMatrix(valid_x, label = valid_y)"
      ],
      "execution_count": null,
      "outputs": []
    },
    {
      "cell_type": "code",
      "metadata": {
        "id": "n_ShtJZjQcf8",
        "colab_type": "code",
        "colab": {}
      },
      "source": [
        "param = {\n",
        "    'max_depth':2,\n",
        "    'eta':0.5,\n",
        "    'objective':'multi:softmax',\n",
        "    'num_class':3,\n",
        "    'eval_metric':'mlogloss'\n",
        "}"
      ],
      "execution_count": null,
      "outputs": []
    },
    {
      "cell_type": "code",
      "metadata": {
        "id": "-zbuXrR-Qcf_",
        "colab_type": "code",
        "colab": {},
        "outputId": "b79c1233-53f5-4de7-d8d2-5b65faf3836c"
      },
      "source": [
        "evallist = [(dvalid, 'eval'), (dtrain, 'train')]\n",
        "num_round = 10000\n",
        "bst = xgb.train(param, dtrain, num_round, evallist, early_stopping_rounds = 5)"
      ],
      "execution_count": null,
      "outputs": [
        {
          "output_type": "stream",
          "text": [
            "[0]\teval-mlogloss:0.581298\ttrain-mlogloss:0.569124\n",
            "Multiple eval metrics have been passed: 'train-mlogloss' will be used for early stopping.\n",
            "\n",
            "Will train until train-mlogloss hasn't improved in 5 rounds.\n",
            "[1]\teval-mlogloss:0.359793\ttrain-mlogloss:0.349287\n",
            "[2]\teval-mlogloss:0.230961\ttrain-mlogloss:0.23338\n",
            "[3]\teval-mlogloss:0.155827\ttrain-mlogloss:0.162387\n",
            "[4]\teval-mlogloss:0.118333\ttrain-mlogloss:0.12206\n",
            "[5]\teval-mlogloss:0.087906\ttrain-mlogloss:0.094474\n",
            "[6]\teval-mlogloss:0.063091\ttrain-mlogloss:0.07661\n",
            "[7]\teval-mlogloss:0.05355\ttrain-mlogloss:0.063228\n",
            "[8]\teval-mlogloss:0.048077\ttrain-mlogloss:0.053667\n",
            "[9]\teval-mlogloss:0.043627\ttrain-mlogloss:0.047337\n",
            "[10]\teval-mlogloss:0.041952\ttrain-mlogloss:0.043372\n",
            "[11]\teval-mlogloss:0.039058\ttrain-mlogloss:0.041295\n",
            "[12]\teval-mlogloss:0.037492\ttrain-mlogloss:0.039357\n",
            "[13]\teval-mlogloss:0.03786\ttrain-mlogloss:0.037616\n",
            "[14]\teval-mlogloss:0.039217\ttrain-mlogloss:0.036393\n",
            "[15]\teval-mlogloss:0.040841\ttrain-mlogloss:0.035384\n",
            "[16]\teval-mlogloss:0.037192\ttrain-mlogloss:0.034474\n",
            "[17]\teval-mlogloss:0.036534\ttrain-mlogloss:0.033521\n",
            "[18]\teval-mlogloss:0.036338\ttrain-mlogloss:0.032595\n",
            "[19]\teval-mlogloss:0.036035\ttrain-mlogloss:0.031826\n",
            "[20]\teval-mlogloss:0.036139\ttrain-mlogloss:0.030945\n",
            "[21]\teval-mlogloss:0.03766\ttrain-mlogloss:0.030128\n",
            "[22]\teval-mlogloss:0.034963\ttrain-mlogloss:0.029619\n",
            "[23]\teval-mlogloss:0.035827\ttrain-mlogloss:0.028892\n",
            "[24]\teval-mlogloss:0.034023\ttrain-mlogloss:0.028353\n",
            "[25]\teval-mlogloss:0.034846\ttrain-mlogloss:0.027752\n",
            "[26]\teval-mlogloss:0.033205\ttrain-mlogloss:0.027284\n",
            "[27]\teval-mlogloss:0.033663\ttrain-mlogloss:0.026738\n",
            "[28]\teval-mlogloss:0.031555\ttrain-mlogloss:0.026245\n",
            "[29]\teval-mlogloss:0.031464\ttrain-mlogloss:0.025852\n",
            "[30]\teval-mlogloss:0.030418\ttrain-mlogloss:0.025591\n",
            "[31]\teval-mlogloss:0.030273\ttrain-mlogloss:0.025373\n",
            "[32]\teval-mlogloss:0.029317\ttrain-mlogloss:0.02515\n",
            "[33]\teval-mlogloss:0.028739\ttrain-mlogloss:0.024956\n",
            "[34]\teval-mlogloss:0.028589\ttrain-mlogloss:0.024787\n",
            "[35]\teval-mlogloss:0.027771\ttrain-mlogloss:0.024611\n",
            "[36]\teval-mlogloss:0.027263\ttrain-mlogloss:0.024454\n",
            "[37]\teval-mlogloss:0.027161\ttrain-mlogloss:0.024325\n",
            "[38]\teval-mlogloss:0.026458\ttrain-mlogloss:0.024184\n",
            "[39]\teval-mlogloss:0.026044\ttrain-mlogloss:0.024067\n",
            "[40]\teval-mlogloss:0.025205\ttrain-mlogloss:0.023941\n",
            "[41]\teval-mlogloss:0.025131\ttrain-mlogloss:0.023815\n",
            "[42]\teval-mlogloss:0.024359\ttrain-mlogloss:0.0237\n",
            "[43]\teval-mlogloss:0.02429\ttrain-mlogloss:0.023592\n",
            "[44]\teval-mlogloss:0.023815\ttrain-mlogloss:0.023503\n",
            "[45]\teval-mlogloss:0.02341\ttrain-mlogloss:0.023395\n",
            "[46]\teval-mlogloss:0.023019\ttrain-mlogloss:0.023296\n",
            "[47]\teval-mlogloss:0.022559\ttrain-mlogloss:0.023226\n",
            "[48]\teval-mlogloss:0.022533\ttrain-mlogloss:0.023143\n",
            "[49]\teval-mlogloss:0.022361\ttrain-mlogloss:0.023058\n",
            "[50]\teval-mlogloss:0.022425\ttrain-mlogloss:0.022984\n",
            "[51]\teval-mlogloss:0.021969\ttrain-mlogloss:0.022911\n",
            "[52]\teval-mlogloss:0.02185\ttrain-mlogloss:0.022843\n",
            "[53]\teval-mlogloss:0.02156\ttrain-mlogloss:0.02277\n",
            "[54]\teval-mlogloss:0.021488\ttrain-mlogloss:0.022706\n",
            "[55]\teval-mlogloss:0.021107\ttrain-mlogloss:0.022647\n",
            "[56]\teval-mlogloss:0.021045\ttrain-mlogloss:0.022582\n",
            "[57]\teval-mlogloss:0.020755\ttrain-mlogloss:0.022525\n",
            "[58]\teval-mlogloss:0.02075\ttrain-mlogloss:0.022468\n",
            "[59]\teval-mlogloss:0.020482\ttrain-mlogloss:0.022406\n",
            "[60]\teval-mlogloss:0.020171\ttrain-mlogloss:0.022358\n",
            "[61]\teval-mlogloss:0.020175\ttrain-mlogloss:0.0223\n",
            "[62]\teval-mlogloss:0.019944\ttrain-mlogloss:0.022244\n",
            "[63]\teval-mlogloss:0.019894\ttrain-mlogloss:0.022193\n",
            "[64]\teval-mlogloss:0.019596\ttrain-mlogloss:0.022145\n",
            "[65]\teval-mlogloss:0.019602\ttrain-mlogloss:0.022096\n",
            "[66]\teval-mlogloss:0.019377\ttrain-mlogloss:0.022045\n",
            "[67]\teval-mlogloss:0.019165\ttrain-mlogloss:0.022\n",
            "[68]\teval-mlogloss:0.019123\ttrain-mlogloss:0.021953\n",
            "[69]\teval-mlogloss:0.018873\ttrain-mlogloss:0.021912\n",
            "[70]\teval-mlogloss:0.018763\ttrain-mlogloss:0.021871\n",
            "[71]\teval-mlogloss:0.018609\ttrain-mlogloss:0.021834\n",
            "[72]\teval-mlogloss:0.018515\ttrain-mlogloss:0.021797\n",
            "[73]\teval-mlogloss:0.018418\ttrain-mlogloss:0.021764\n",
            "[74]\teval-mlogloss:0.018268\ttrain-mlogloss:0.021732\n",
            "[75]\teval-mlogloss:0.018267\ttrain-mlogloss:0.021687\n",
            "[76]\teval-mlogloss:0.018181\ttrain-mlogloss:0.021644\n",
            "[77]\teval-mlogloss:0.018024\ttrain-mlogloss:0.021604\n",
            "[78]\teval-mlogloss:0.017882\ttrain-mlogloss:0.021571\n",
            "[79]\teval-mlogloss:0.017707\ttrain-mlogloss:0.021542\n",
            "[80]\teval-mlogloss:0.017652\ttrain-mlogloss:0.021512\n",
            "[81]\teval-mlogloss:0.017549\ttrain-mlogloss:0.021485\n",
            "[82]\teval-mlogloss:0.017496\ttrain-mlogloss:0.021458\n",
            "[83]\teval-mlogloss:0.01739\ttrain-mlogloss:0.021432\n",
            "[84]\teval-mlogloss:0.017342\ttrain-mlogloss:0.021407\n",
            "[85]\teval-mlogloss:0.017203\ttrain-mlogloss:0.021383\n",
            "[86]\teval-mlogloss:0.017179\ttrain-mlogloss:0.021358\n",
            "[87]\teval-mlogloss:0.017105\ttrain-mlogloss:0.021335\n",
            "[88]\teval-mlogloss:0.017075\ttrain-mlogloss:0.021313\n",
            "[89]\teval-mlogloss:0.016949\ttrain-mlogloss:0.021292\n",
            "[90]\teval-mlogloss:0.016938\ttrain-mlogloss:0.02127\n",
            "[91]\teval-mlogloss:0.016866\ttrain-mlogloss:0.02125\n",
            "[92]\teval-mlogloss:0.016812\ttrain-mlogloss:0.02123\n",
            "[93]\teval-mlogloss:0.016799\ttrain-mlogloss:0.021211\n",
            "[94]\teval-mlogloss:0.01669\ttrain-mlogloss:0.021191\n",
            "[95]\teval-mlogloss:0.01669\ttrain-mlogloss:0.021171\n",
            "[96]\teval-mlogloss:0.01664\ttrain-mlogloss:0.021154\n",
            "[97]\teval-mlogloss:0.016546\ttrain-mlogloss:0.021138\n",
            "[98]\teval-mlogloss:0.016595\ttrain-mlogloss:0.021119\n",
            "[99]\teval-mlogloss:0.016537\ttrain-mlogloss:0.021103\n",
            "[100]\teval-mlogloss:0.016532\ttrain-mlogloss:0.021086\n",
            "[101]\teval-mlogloss:0.016437\ttrain-mlogloss:0.02107\n",
            "[102]\teval-mlogloss:0.016442\ttrain-mlogloss:0.021054\n",
            "[103]\teval-mlogloss:0.016358\ttrain-mlogloss:0.021041\n",
            "[104]\teval-mlogloss:0.016332\ttrain-mlogloss:0.021024\n",
            "[105]\teval-mlogloss:0.016343\ttrain-mlogloss:0.021008\n",
            "[106]\teval-mlogloss:0.016295\ttrain-mlogloss:0.020995\n",
            "[107]\teval-mlogloss:0.016285\ttrain-mlogloss:0.020948\n",
            "[108]\teval-mlogloss:0.016211\ttrain-mlogloss:0.020907\n",
            "[109]\teval-mlogloss:0.016056\ttrain-mlogloss:0.020891\n",
            "[110]\teval-mlogloss:0.016001\ttrain-mlogloss:0.020878\n",
            "[111]\teval-mlogloss:0.015949\ttrain-mlogloss:0.020843\n",
            "[112]\teval-mlogloss:0.015918\ttrain-mlogloss:0.020831\n",
            "[113]\teval-mlogloss:0.015832\ttrain-mlogloss:0.020819\n",
            "[114]\teval-mlogloss:0.015816\ttrain-mlogloss:0.020807\n",
            "[115]\teval-mlogloss:0.015767\ttrain-mlogloss:0.020796\n",
            "[116]\teval-mlogloss:0.015775\ttrain-mlogloss:0.020768\n",
            "[117]\teval-mlogloss:0.015695\ttrain-mlogloss:0.020743\n",
            "[118]\teval-mlogloss:0.015665\ttrain-mlogloss:0.020721\n",
            "[119]\teval-mlogloss:0.015532\ttrain-mlogloss:0.020709\n",
            "[120]\teval-mlogloss:0.015482\ttrain-mlogloss:0.020698\n",
            "[121]\teval-mlogloss:0.015499\ttrain-mlogloss:0.020679\n",
            "[122]\teval-mlogloss:0.01548\ttrain-mlogloss:0.020661\n",
            "[123]\teval-mlogloss:0.015391\ttrain-mlogloss:0.02065\n",
            "[124]\teval-mlogloss:0.015349\ttrain-mlogloss:0.02064\n",
            "[125]\teval-mlogloss:0.015242\ttrain-mlogloss:0.02063\n",
            "[126]\teval-mlogloss:0.015251\ttrain-mlogloss:0.02062\n",
            "[127]\teval-mlogloss:0.015254\ttrain-mlogloss:0.020611\n",
            "[128]\teval-mlogloss:0.015225\ttrain-mlogloss:0.020602\n",
            "[129]\teval-mlogloss:0.015202\ttrain-mlogloss:0.020592\n",
            "[130]\teval-mlogloss:0.015197\ttrain-mlogloss:0.020584\n",
            "[131]\teval-mlogloss:0.015203\ttrain-mlogloss:0.020575\n",
            "[132]\teval-mlogloss:0.015176\ttrain-mlogloss:0.020567\n",
            "[133]\teval-mlogloss:0.015159\ttrain-mlogloss:0.020558\n",
            "[134]\teval-mlogloss:0.015164\ttrain-mlogloss:0.020549\n",
            "[135]\teval-mlogloss:0.015103\ttrain-mlogloss:0.020541\n",
            "[136]\teval-mlogloss:0.015113\ttrain-mlogloss:0.020533\n",
            "[137]\teval-mlogloss:0.015118\ttrain-mlogloss:0.020525\n",
            "[138]\teval-mlogloss:0.015091\ttrain-mlogloss:0.020517\n",
            "[139]\teval-mlogloss:0.015101\ttrain-mlogloss:0.020508\n",
            "[140]\teval-mlogloss:0.015106\ttrain-mlogloss:0.020501\n",
            "[141]\teval-mlogloss:0.015049\ttrain-mlogloss:0.020494\n",
            "[142]\teval-mlogloss:0.015059\ttrain-mlogloss:0.020485\n",
            "[143]\teval-mlogloss:0.015064\ttrain-mlogloss:0.020478\n",
            "[144]\teval-mlogloss:0.015038\ttrain-mlogloss:0.020471\n",
            "[145]\teval-mlogloss:0.015048\ttrain-mlogloss:0.020463\n",
            "[146]\teval-mlogloss:0.015045\ttrain-mlogloss:0.020456\n",
            "[147]\teval-mlogloss:0.01506\ttrain-mlogloss:0.020441\n",
            "[148]\teval-mlogloss:0.015049\ttrain-mlogloss:0.020428\n",
            "[149]\teval-mlogloss:0.014991\ttrain-mlogloss:0.02042\n",
            "[150]\teval-mlogloss:0.014995\ttrain-mlogloss:0.020413\n",
            "[151]\teval-mlogloss:0.014968\ttrain-mlogloss:0.020406\n",
            "[152]\teval-mlogloss:0.014975\ttrain-mlogloss:0.020399\n",
            "[153]\teval-mlogloss:0.014978\ttrain-mlogloss:0.020392\n",
            "[154]\teval-mlogloss:0.014956\ttrain-mlogloss:0.020386\n"
          ],
          "name": "stdout"
        },
        {
          "output_type": "stream",
          "text": [
            "[155]\teval-mlogloss:0.014963\ttrain-mlogloss:0.020379\n",
            "[156]\teval-mlogloss:0.014967\ttrain-mlogloss:0.020372\n",
            "[157]\teval-mlogloss:0.014917\ttrain-mlogloss:0.020366\n",
            "[158]\teval-mlogloss:0.014925\ttrain-mlogloss:0.020359\n",
            "[159]\teval-mlogloss:0.014925\ttrain-mlogloss:0.020353\n",
            "[160]\teval-mlogloss:0.01494\ttrain-mlogloss:0.020341\n",
            "[161]\teval-mlogloss:0.014933\ttrain-mlogloss:0.020329\n",
            "[162]\teval-mlogloss:0.014902\ttrain-mlogloss:0.020321\n",
            "[163]\teval-mlogloss:0.014885\ttrain-mlogloss:0.020315\n",
            "[164]\teval-mlogloss:0.014898\ttrain-mlogloss:0.020309\n",
            "[165]\teval-mlogloss:0.014895\ttrain-mlogloss:0.020302\n",
            "[166]\teval-mlogloss:0.014857\ttrain-mlogloss:0.020297\n",
            "[167]\teval-mlogloss:0.01487\ttrain-mlogloss:0.020291\n",
            "[168]\teval-mlogloss:0.014868\ttrain-mlogloss:0.020284\n",
            "[169]\teval-mlogloss:0.014857\ttrain-mlogloss:0.020279\n",
            "[170]\teval-mlogloss:0.014864\ttrain-mlogloss:0.020272\n",
            "[171]\teval-mlogloss:0.014863\ttrain-mlogloss:0.020267\n",
            "[172]\teval-mlogloss:0.014874\ttrain-mlogloss:0.020261\n",
            "[173]\teval-mlogloss:0.014827\ttrain-mlogloss:0.020255\n",
            "[174]\teval-mlogloss:0.01484\ttrain-mlogloss:0.020249\n",
            "[175]\teval-mlogloss:0.014838\ttrain-mlogloss:0.020243\n",
            "[176]\teval-mlogloss:0.014828\ttrain-mlogloss:0.020238\n",
            "[177]\teval-mlogloss:0.014834\ttrain-mlogloss:0.020232\n",
            "[178]\teval-mlogloss:0.014834\ttrain-mlogloss:0.020227\n",
            "[179]\teval-mlogloss:0.014844\ttrain-mlogloss:0.020221\n",
            "[180]\teval-mlogloss:0.014824\ttrain-mlogloss:0.020216\n",
            "[181]\teval-mlogloss:0.01483\ttrain-mlogloss:0.02021\n",
            "[182]\teval-mlogloss:0.014808\ttrain-mlogloss:0.020205\n",
            "[183]\teval-mlogloss:0.014817\ttrain-mlogloss:0.020199\n",
            "[184]\teval-mlogloss:0.014821\ttrain-mlogloss:0.020194\n",
            "[185]\teval-mlogloss:0.014777\ttrain-mlogloss:0.020189\n",
            "[186]\teval-mlogloss:0.014785\ttrain-mlogloss:0.020184\n",
            "[187]\teval-mlogloss:0.014785\ttrain-mlogloss:0.020179\n",
            "[188]\teval-mlogloss:0.014791\ttrain-mlogloss:0.020174\n",
            "[189]\teval-mlogloss:0.014784\ttrain-mlogloss:0.020161\n",
            "[190]\teval-mlogloss:0.014768\ttrain-mlogloss:0.020155\n",
            "[191]\teval-mlogloss:0.014772\ttrain-mlogloss:0.02015\n",
            "[192]\teval-mlogloss:0.014731\ttrain-mlogloss:0.020146\n",
            "[193]\teval-mlogloss:0.014739\ttrain-mlogloss:0.02014\n",
            "[194]\teval-mlogloss:0.014739\ttrain-mlogloss:0.020136\n",
            "[195]\teval-mlogloss:0.014745\ttrain-mlogloss:0.020131\n",
            "[196]\teval-mlogloss:0.014739\ttrain-mlogloss:0.020119\n",
            "[197]\teval-mlogloss:0.014722\ttrain-mlogloss:0.020113\n",
            "[198]\teval-mlogloss:0.014727\ttrain-mlogloss:0.020108\n",
            "[199]\teval-mlogloss:0.014706\ttrain-mlogloss:0.020104\n",
            "[200]\teval-mlogloss:0.014713\ttrain-mlogloss:0.020099\n",
            "[201]\teval-mlogloss:0.014717\ttrain-mlogloss:0.020094\n",
            "[202]\teval-mlogloss:0.014676\ttrain-mlogloss:0.02009\n",
            "[203]\teval-mlogloss:0.014683\ttrain-mlogloss:0.020085\n",
            "[204]\teval-mlogloss:0.014683\ttrain-mlogloss:0.020081\n",
            "[205]\teval-mlogloss:0.014689\ttrain-mlogloss:0.020076\n",
            "[206]\teval-mlogloss:0.014683\ttrain-mlogloss:0.020064\n",
            "[207]\teval-mlogloss:0.014661\ttrain-mlogloss:0.020059\n",
            "[208]\teval-mlogloss:0.014667\ttrain-mlogloss:0.020054\n",
            "[209]\teval-mlogloss:0.014653\ttrain-mlogloss:0.02005\n",
            "[210]\teval-mlogloss:0.014661\ttrain-mlogloss:0.020046\n",
            "[211]\teval-mlogloss:0.014666\ttrain-mlogloss:0.020041\n",
            "[212]\teval-mlogloss:0.014646\ttrain-mlogloss:0.020037\n",
            "[213]\teval-mlogloss:0.014653\ttrain-mlogloss:0.020033\n",
            "[214]\teval-mlogloss:0.014616\ttrain-mlogloss:0.020029\n",
            "[215]\teval-mlogloss:0.014626\ttrain-mlogloss:0.020025\n",
            "[216]\teval-mlogloss:0.014632\ttrain-mlogloss:0.020021\n",
            "[217]\teval-mlogloss:0.014617\ttrain-mlogloss:0.020017\n",
            "[218]\teval-mlogloss:0.014625\ttrain-mlogloss:0.020012\n",
            "[219]\teval-mlogloss:0.014626\ttrain-mlogloss:0.020008\n",
            "[220]\teval-mlogloss:0.014639\ttrain-mlogloss:0.019996\n",
            "[221]\teval-mlogloss:0.014628\ttrain-mlogloss:0.019985\n",
            "[222]\teval-mlogloss:0.014617\ttrain-mlogloss:0.019975\n",
            "[223]\teval-mlogloss:0.014606\ttrain-mlogloss:0.019964\n",
            "[224]\teval-mlogloss:0.014595\ttrain-mlogloss:0.019954\n",
            "[225]\teval-mlogloss:0.014565\ttrain-mlogloss:0.019944\n",
            "[226]\teval-mlogloss:0.014545\ttrain-mlogloss:0.019937\n",
            "[227]\teval-mlogloss:0.014522\ttrain-mlogloss:0.019932\n",
            "[228]\teval-mlogloss:0.014508\ttrain-mlogloss:0.019928\n",
            "[229]\teval-mlogloss:0.014515\ttrain-mlogloss:0.019924\n",
            "[230]\teval-mlogloss:0.014516\ttrain-mlogloss:0.01992\n",
            "[231]\teval-mlogloss:0.014522\ttrain-mlogloss:0.019916\n",
            "[232]\teval-mlogloss:0.014508\ttrain-mlogloss:0.019912\n",
            "[233]\teval-mlogloss:0.014516\ttrain-mlogloss:0.019908\n",
            "[234]\teval-mlogloss:0.01452\ttrain-mlogloss:0.019905\n",
            "[235]\teval-mlogloss:0.014485\ttrain-mlogloss:0.019901\n",
            "[236]\teval-mlogloss:0.014492\ttrain-mlogloss:0.019897\n",
            "[237]\teval-mlogloss:0.014496\ttrain-mlogloss:0.019893\n",
            "[238]\teval-mlogloss:0.014478\ttrain-mlogloss:0.01989\n",
            "[239]\teval-mlogloss:0.014484\ttrain-mlogloss:0.019886\n",
            "[240]\teval-mlogloss:0.014471\ttrain-mlogloss:0.019883\n",
            "[241]\teval-mlogloss:0.014479\ttrain-mlogloss:0.019879\n",
            "[242]\teval-mlogloss:0.014484\ttrain-mlogloss:0.019875\n",
            "[243]\teval-mlogloss:0.014451\ttrain-mlogloss:0.019872\n",
            "[244]\teval-mlogloss:0.014459\ttrain-mlogloss:0.019869\n",
            "[245]\teval-mlogloss:0.014461\ttrain-mlogloss:0.019865\n",
            "[246]\teval-mlogloss:0.014474\ttrain-mlogloss:0.019855\n",
            "[247]\teval-mlogloss:0.014465\ttrain-mlogloss:0.019845\n",
            "[248]\teval-mlogloss:0.014456\ttrain-mlogloss:0.019835\n",
            "[249]\teval-mlogloss:0.014446\ttrain-mlogloss:0.019826\n",
            "[250]\teval-mlogloss:0.014437\ttrain-mlogloss:0.019817\n",
            "[251]\teval-mlogloss:0.014435\ttrain-mlogloss:0.019808\n",
            "[252]\teval-mlogloss:0.014409\ttrain-mlogloss:0.019802\n",
            "[253]\teval-mlogloss:0.014389\ttrain-mlogloss:0.019798\n",
            "[254]\teval-mlogloss:0.014359\ttrain-mlogloss:0.019795\n",
            "[255]\teval-mlogloss:0.014367\ttrain-mlogloss:0.019791\n",
            "[256]\teval-mlogloss:0.014372\ttrain-mlogloss:0.019788\n",
            "[257]\teval-mlogloss:0.014361\ttrain-mlogloss:0.019785\n",
            "[258]\teval-mlogloss:0.014367\ttrain-mlogloss:0.019781\n",
            "[259]\teval-mlogloss:0.014371\ttrain-mlogloss:0.019778\n",
            "[260]\teval-mlogloss:0.014354\ttrain-mlogloss:0.019775\n",
            "[261]\teval-mlogloss:0.01436\ttrain-mlogloss:0.019771\n",
            "[262]\teval-mlogloss:0.014331\ttrain-mlogloss:0.019769\n",
            "[263]\teval-mlogloss:0.014338\ttrain-mlogloss:0.019765\n",
            "[264]\teval-mlogloss:0.014343\ttrain-mlogloss:0.019762\n",
            "[265]\teval-mlogloss:0.014332\ttrain-mlogloss:0.019759\n",
            "[266]\teval-mlogloss:0.014338\ttrain-mlogloss:0.019756\n",
            "[267]\teval-mlogloss:0.014341\ttrain-mlogloss:0.019753\n",
            "[268]\teval-mlogloss:0.014354\ttrain-mlogloss:0.019743\n",
            "[269]\teval-mlogloss:0.014347\ttrain-mlogloss:0.019734\n",
            "[270]\teval-mlogloss:0.014339\ttrain-mlogloss:0.019726\n",
            "[271]\teval-mlogloss:0.01433\ttrain-mlogloss:0.019718\n",
            "[272]\teval-mlogloss:0.014322\ttrain-mlogloss:0.01971\n",
            "[273]\teval-mlogloss:0.014314\ttrain-mlogloss:0.019702\n",
            "[274]\teval-mlogloss:0.014291\ttrain-mlogloss:0.019694\n",
            "[275]\teval-mlogloss:0.014268\ttrain-mlogloss:0.019689\n",
            "[276]\teval-mlogloss:0.014257\ttrain-mlogloss:0.019685\n",
            "[277]\teval-mlogloss:0.01424\ttrain-mlogloss:0.019682\n",
            "[278]\teval-mlogloss:0.014247\ttrain-mlogloss:0.019679\n",
            "[279]\teval-mlogloss:0.014251\ttrain-mlogloss:0.019676\n",
            "[280]\teval-mlogloss:0.014242\ttrain-mlogloss:0.019673\n",
            "[281]\teval-mlogloss:0.014247\ttrain-mlogloss:0.01967\n",
            "[282]\teval-mlogloss:0.014251\ttrain-mlogloss:0.019667\n",
            "[283]\teval-mlogloss:0.014234\ttrain-mlogloss:0.019664\n",
            "[284]\teval-mlogloss:0.01424\ttrain-mlogloss:0.019661\n",
            "[285]\teval-mlogloss:0.014213\ttrain-mlogloss:0.019659\n",
            "[286]\teval-mlogloss:0.01422\ttrain-mlogloss:0.019656\n",
            "[287]\teval-mlogloss:0.014224\ttrain-mlogloss:0.019653\n",
            "[288]\teval-mlogloss:0.014225\ttrain-mlogloss:0.01965\n",
            "[289]\teval-mlogloss:0.014227\ttrain-mlogloss:0.019642\n",
            "[290]\teval-mlogloss:0.014211\ttrain-mlogloss:0.019639\n",
            "[291]\teval-mlogloss:0.014216\ttrain-mlogloss:0.019636\n",
            "[292]\teval-mlogloss:0.014229\ttrain-mlogloss:0.019628\n",
            "[293]\teval-mlogloss:0.014222\ttrain-mlogloss:0.019621\n",
            "[294]\teval-mlogloss:0.014215\ttrain-mlogloss:0.019614\n",
            "[295]\teval-mlogloss:0.014207\ttrain-mlogloss:0.019607\n",
            "[296]\teval-mlogloss:0.0142\ttrain-mlogloss:0.0196\n",
            "[297]\teval-mlogloss:0.014181\ttrain-mlogloss:0.019593\n",
            "[298]\teval-mlogloss:0.014159\ttrain-mlogloss:0.019588\n",
            "[299]\teval-mlogloss:0.014141\ttrain-mlogloss:0.019585\n",
            "[300]\teval-mlogloss:0.014134\ttrain-mlogloss:0.019583\n",
            "[301]\teval-mlogloss:0.01414\ttrain-mlogloss:0.01958\n",
            "[302]\teval-mlogloss:0.014144\ttrain-mlogloss:0.019577\n",
            "[303]\teval-mlogloss:0.014119\ttrain-mlogloss:0.019575\n",
            "[304]\teval-mlogloss:0.014125\ttrain-mlogloss:0.019572\n",
            "[305]\teval-mlogloss:0.014128\ttrain-mlogloss:0.019569\n",
            "[306]\teval-mlogloss:0.01412\ttrain-mlogloss:0.019567\n",
            "[307]\teval-mlogloss:0.014125\ttrain-mlogloss:0.019564\n",
            "[308]\teval-mlogloss:0.014128\ttrain-mlogloss:0.019561\n",
            "[309]\teval-mlogloss:0.014142\ttrain-mlogloss:0.019555\n",
            "[310]\teval-mlogloss:0.014135\ttrain-mlogloss:0.019548\n"
          ],
          "name": "stdout"
        },
        {
          "output_type": "stream",
          "text": [
            "[311]\teval-mlogloss:0.014129\ttrain-mlogloss:0.019541\n",
            "[312]\teval-mlogloss:0.014122\ttrain-mlogloss:0.019535\n",
            "[313]\teval-mlogloss:0.014116\ttrain-mlogloss:0.019529\n",
            "[314]\teval-mlogloss:0.014109\ttrain-mlogloss:0.019523\n",
            "[315]\teval-mlogloss:0.014103\ttrain-mlogloss:0.019517\n",
            "[316]\teval-mlogloss:0.014086\ttrain-mlogloss:0.019511\n",
            "[317]\teval-mlogloss:0.014065\ttrain-mlogloss:0.019507\n",
            "[318]\teval-mlogloss:0.014058\ttrain-mlogloss:0.019504\n",
            "[319]\teval-mlogloss:0.014061\ttrain-mlogloss:0.019501\n",
            "[320]\teval-mlogloss:0.014045\ttrain-mlogloss:0.019499\n",
            "[321]\teval-mlogloss:0.01405\ttrain-mlogloss:0.019496\n",
            "[322]\teval-mlogloss:0.014052\ttrain-mlogloss:0.019493\n",
            "[323]\teval-mlogloss:0.014045\ttrain-mlogloss:0.019491\n",
            "[324]\teval-mlogloss:0.014049\ttrain-mlogloss:0.019489\n",
            "[325]\teval-mlogloss:0.014052\ttrain-mlogloss:0.019486\n",
            "[326]\teval-mlogloss:0.014028\ttrain-mlogloss:0.019484\n",
            "[327]\teval-mlogloss:0.014033\ttrain-mlogloss:0.019481\n",
            "[328]\teval-mlogloss:0.014019\ttrain-mlogloss:0.019479\n",
            "[329]\teval-mlogloss:0.014024\ttrain-mlogloss:0.019477\n",
            "[330]\teval-mlogloss:0.014027\ttrain-mlogloss:0.019474\n",
            "[331]\teval-mlogloss:0.01402\ttrain-mlogloss:0.019472\n",
            "[332]\teval-mlogloss:0.014024\ttrain-mlogloss:0.01947\n",
            "[333]\teval-mlogloss:0.014028\ttrain-mlogloss:0.019467\n",
            "[334]\teval-mlogloss:0.014041\ttrain-mlogloss:0.019461\n",
            "[335]\teval-mlogloss:0.014036\ttrain-mlogloss:0.019455\n",
            "[336]\teval-mlogloss:0.014031\ttrain-mlogloss:0.01945\n",
            "[337]\teval-mlogloss:0.014026\ttrain-mlogloss:0.019444\n",
            "[338]\teval-mlogloss:0.014012\ttrain-mlogloss:0.019439\n",
            "[339]\teval-mlogloss:0.013993\ttrain-mlogloss:0.019435\n",
            "[340]\teval-mlogloss:0.013978\ttrain-mlogloss:0.019433\n",
            "[341]\teval-mlogloss:0.013981\ttrain-mlogloss:0.01943\n",
            "[342]\teval-mlogloss:0.013975\ttrain-mlogloss:0.019428\n",
            "[343]\teval-mlogloss:0.013979\ttrain-mlogloss:0.019426\n",
            "[344]\teval-mlogloss:0.013982\ttrain-mlogloss:0.019423\n",
            "[345]\teval-mlogloss:0.013968\ttrain-mlogloss:0.019421\n",
            "[346]\teval-mlogloss:0.013972\ttrain-mlogloss:0.019419\n",
            "[347]\teval-mlogloss:0.013952\ttrain-mlogloss:0.019417\n",
            "[348]\teval-mlogloss:0.013957\ttrain-mlogloss:0.019415\n",
            "[349]\teval-mlogloss:0.01396\ttrain-mlogloss:0.019413\n",
            "[350]\teval-mlogloss:0.013953\ttrain-mlogloss:0.019411\n",
            "[351]\teval-mlogloss:0.013958\ttrain-mlogloss:0.019409\n",
            "[352]\teval-mlogloss:0.013961\ttrain-mlogloss:0.019407\n",
            "[353]\teval-mlogloss:0.013975\ttrain-mlogloss:0.019401\n",
            "[354]\teval-mlogloss:0.01397\ttrain-mlogloss:0.019395\n",
            "[355]\teval-mlogloss:0.013966\ttrain-mlogloss:0.01939\n",
            "[356]\teval-mlogloss:0.013961\ttrain-mlogloss:0.019385\n",
            "[357]\teval-mlogloss:0.013956\ttrain-mlogloss:0.01938\n",
            "[358]\teval-mlogloss:0.013944\ttrain-mlogloss:0.019375\n",
            "[359]\teval-mlogloss:0.013938\ttrain-mlogloss:0.01937\n",
            "[360]\teval-mlogloss:0.013932\ttrain-mlogloss:0.019365\n",
            "[361]\teval-mlogloss:0.013926\ttrain-mlogloss:0.019361\n",
            "[362]\teval-mlogloss:0.013921\ttrain-mlogloss:0.019356\n",
            "[363]\teval-mlogloss:0.013925\ttrain-mlogloss:0.019351\n",
            "[364]\teval-mlogloss:0.013906\ttrain-mlogloss:0.019348\n",
            "[365]\teval-mlogloss:0.013891\ttrain-mlogloss:0.019346\n",
            "[366]\teval-mlogloss:0.013894\ttrain-mlogloss:0.019343\n",
            "[367]\teval-mlogloss:0.013875\ttrain-mlogloss:0.019342\n",
            "[368]\teval-mlogloss:0.013878\ttrain-mlogloss:0.019339\n",
            "[369]\teval-mlogloss:0.01388\ttrain-mlogloss:0.019337\n",
            "[370]\teval-mlogloss:0.013875\ttrain-mlogloss:0.019335\n",
            "[371]\teval-mlogloss:0.013878\ttrain-mlogloss:0.019333\n",
            "[372]\teval-mlogloss:0.01388\ttrain-mlogloss:0.019331\n",
            "[373]\teval-mlogloss:0.013867\ttrain-mlogloss:0.019329\n",
            "[374]\teval-mlogloss:0.01387\ttrain-mlogloss:0.019327\n",
            "[375]\teval-mlogloss:0.013872\ttrain-mlogloss:0.019326\n",
            "[376]\teval-mlogloss:0.013867\ttrain-mlogloss:0.019324\n",
            "[377]\teval-mlogloss:0.01387\ttrain-mlogloss:0.019322\n",
            "[378]\teval-mlogloss:0.013873\ttrain-mlogloss:0.01932\n",
            "[379]\teval-mlogloss:0.013886\ttrain-mlogloss:0.019315\n",
            "[380]\teval-mlogloss:0.013882\ttrain-mlogloss:0.01931\n",
            "[381]\teval-mlogloss:0.013878\ttrain-mlogloss:0.019306\n",
            "[382]\teval-mlogloss:0.013868\ttrain-mlogloss:0.019302\n",
            "[383]\teval-mlogloss:0.013862\ttrain-mlogloss:0.019297\n",
            "[384]\teval-mlogloss:0.013857\ttrain-mlogloss:0.019293\n",
            "[385]\teval-mlogloss:0.013852\ttrain-mlogloss:0.019289\n",
            "[386]\teval-mlogloss:0.013848\ttrain-mlogloss:0.019285\n",
            "[387]\teval-mlogloss:0.013832\ttrain-mlogloss:0.019282\n",
            "[388]\teval-mlogloss:0.013827\ttrain-mlogloss:0.01928\n",
            "[389]\teval-mlogloss:0.013829\ttrain-mlogloss:0.019278\n",
            "[390]\teval-mlogloss:0.013812\ttrain-mlogloss:0.019277\n",
            "[391]\teval-mlogloss:0.013815\ttrain-mlogloss:0.019274\n",
            "[392]\teval-mlogloss:0.013817\ttrain-mlogloss:0.019273\n",
            "[393]\teval-mlogloss:0.013805\ttrain-mlogloss:0.019271\n",
            "[394]\teval-mlogloss:0.013808\ttrain-mlogloss:0.019269\n",
            "[395]\teval-mlogloss:0.01381\ttrain-mlogloss:0.019267\n",
            "[396]\teval-mlogloss:0.013805\ttrain-mlogloss:0.019265\n",
            "[397]\teval-mlogloss:0.013808\ttrain-mlogloss:0.019264\n",
            "[398]\teval-mlogloss:0.013809\ttrain-mlogloss:0.019262\n",
            "[399]\teval-mlogloss:0.013792\ttrain-mlogloss:0.01926\n",
            "[400]\teval-mlogloss:0.013795\ttrain-mlogloss:0.019258\n",
            "[401]\teval-mlogloss:0.013799\ttrain-mlogloss:0.019257\n",
            "[402]\teval-mlogloss:0.013812\ttrain-mlogloss:0.019252\n",
            "[403]\teval-mlogloss:0.013808\ttrain-mlogloss:0.019248\n",
            "[404]\teval-mlogloss:0.013805\ttrain-mlogloss:0.019244\n",
            "[405]\teval-mlogloss:0.013801\ttrain-mlogloss:0.019241\n",
            "[406]\teval-mlogloss:0.013806\ttrain-mlogloss:0.019237\n",
            "[407]\teval-mlogloss:0.013801\ttrain-mlogloss:0.019233\n",
            "[408]\teval-mlogloss:0.013796\ttrain-mlogloss:0.019229\n",
            "[409]\teval-mlogloss:0.013792\ttrain-mlogloss:0.019226\n",
            "[410]\teval-mlogloss:0.013787\ttrain-mlogloss:0.019222\n",
            "[411]\teval-mlogloss:0.013783\ttrain-mlogloss:0.019218\n",
            "[412]\teval-mlogloss:0.013763\ttrain-mlogloss:0.019216\n",
            "[413]\teval-mlogloss:0.01375\ttrain-mlogloss:0.019214\n",
            "[414]\teval-mlogloss:0.013752\ttrain-mlogloss:0.019212\n",
            "[415]\teval-mlogloss:0.013748\ttrain-mlogloss:0.019211\n",
            "[416]\teval-mlogloss:0.013751\ttrain-mlogloss:0.019209\n",
            "[417]\teval-mlogloss:0.013753\ttrain-mlogloss:0.019207\n",
            "[418]\teval-mlogloss:0.013741\ttrain-mlogloss:0.019206\n",
            "[419]\teval-mlogloss:0.013744\ttrain-mlogloss:0.019204\n",
            "[420]\teval-mlogloss:0.013746\ttrain-mlogloss:0.019202\n",
            "[421]\teval-mlogloss:0.013729\ttrain-mlogloss:0.019201\n",
            "[422]\teval-mlogloss:0.013732\ttrain-mlogloss:0.019199\n",
            "[423]\teval-mlogloss:0.013734\ttrain-mlogloss:0.019198\n",
            "[424]\teval-mlogloss:0.01373\ttrain-mlogloss:0.019196\n",
            "[425]\teval-mlogloss:0.013732\ttrain-mlogloss:0.019194\n",
            "[426]\teval-mlogloss:0.013737\ttrain-mlogloss:0.019193\n",
            "[427]\teval-mlogloss:0.013749\ttrain-mlogloss:0.019189\n",
            "[428]\teval-mlogloss:0.013745\ttrain-mlogloss:0.019186\n",
            "[429]\teval-mlogloss:0.013742\ttrain-mlogloss:0.019182\n",
            "[430]\teval-mlogloss:0.013739\ttrain-mlogloss:0.019179\n",
            "[431]\teval-mlogloss:0.013736\ttrain-mlogloss:0.019175\n",
            "[432]\teval-mlogloss:0.013728\ttrain-mlogloss:0.019172\n",
            "[433]\teval-mlogloss:0.013724\ttrain-mlogloss:0.019169\n",
            "[434]\teval-mlogloss:0.013719\ttrain-mlogloss:0.019166\n",
            "[435]\teval-mlogloss:0.013715\ttrain-mlogloss:0.019162\n",
            "[436]\teval-mlogloss:0.013711\ttrain-mlogloss:0.019159\n",
            "[437]\teval-mlogloss:0.013717\ttrain-mlogloss:0.019156\n",
            "[438]\teval-mlogloss:0.013702\ttrain-mlogloss:0.019154\n",
            "[439]\teval-mlogloss:0.01369\ttrain-mlogloss:0.019152\n",
            "[440]\teval-mlogloss:0.013692\ttrain-mlogloss:0.019151\n",
            "[441]\teval-mlogloss:0.013693\ttrain-mlogloss:0.019149\n",
            "[442]\teval-mlogloss:0.013678\ttrain-mlogloss:0.019148\n",
            "[443]\teval-mlogloss:0.01368\ttrain-mlogloss:0.019146\n",
            "[444]\teval-mlogloss:0.013681\ttrain-mlogloss:0.019144\n",
            "[445]\teval-mlogloss:0.013678\ttrain-mlogloss:0.019143\n",
            "[446]\teval-mlogloss:0.01368\ttrain-mlogloss:0.019141\n",
            "[447]\teval-mlogloss:0.013681\ttrain-mlogloss:0.01914\n",
            "[448]\teval-mlogloss:0.01367\ttrain-mlogloss:0.019139\n",
            "[449]\teval-mlogloss:0.013672\ttrain-mlogloss:0.019137\n",
            "[450]\teval-mlogloss:0.013673\ttrain-mlogloss:0.019136\n",
            "[451]\teval-mlogloss:0.01367\ttrain-mlogloss:0.019134\n",
            "[452]\teval-mlogloss:0.013672\ttrain-mlogloss:0.019133\n",
            "[453]\teval-mlogloss:0.013673\ttrain-mlogloss:0.019131\n",
            "[454]\teval-mlogloss:0.013659\ttrain-mlogloss:0.01913\n",
            "[455]\teval-mlogloss:0.013661\ttrain-mlogloss:0.019128\n",
            "[456]\teval-mlogloss:0.013666\ttrain-mlogloss:0.019127\n",
            "[457]\teval-mlogloss:0.013677\ttrain-mlogloss:0.019124\n",
            "[458]\teval-mlogloss:0.013675\ttrain-mlogloss:0.019121\n",
            "[459]\teval-mlogloss:0.013672\ttrain-mlogloss:0.019118\n",
            "[460]\teval-mlogloss:0.013669\ttrain-mlogloss:0.019115\n",
            "[461]\teval-mlogloss:0.013666\ttrain-mlogloss:0.019112\n",
            "[462]\teval-mlogloss:0.013663\ttrain-mlogloss:0.019109\n",
            "[463]\teval-mlogloss:0.013669\ttrain-mlogloss:0.019106\n",
            "[464]\teval-mlogloss:0.013665\ttrain-mlogloss:0.019103\n",
            "[465]\teval-mlogloss:0.013661\ttrain-mlogloss:0.019101\n",
            "[466]\teval-mlogloss:0.013657\ttrain-mlogloss:0.019098\n"
          ],
          "name": "stdout"
        },
        {
          "output_type": "stream",
          "text": [
            "[467]\teval-mlogloss:0.013654\ttrain-mlogloss:0.019095\n",
            "[468]\teval-mlogloss:0.013637\ttrain-mlogloss:0.019093\n",
            "[469]\teval-mlogloss:0.013626\ttrain-mlogloss:0.019092\n",
            "[470]\teval-mlogloss:0.013628\ttrain-mlogloss:0.01909\n",
            "[471]\teval-mlogloss:0.013629\ttrain-mlogloss:0.019089\n",
            "[472]\teval-mlogloss:0.013626\ttrain-mlogloss:0.019088\n",
            "[473]\teval-mlogloss:0.013628\ttrain-mlogloss:0.019086\n",
            "[474]\teval-mlogloss:0.013628\ttrain-mlogloss:0.019085\n",
            "[475]\teval-mlogloss:0.013618\ttrain-mlogloss:0.019083\n",
            "[476]\teval-mlogloss:0.01362\ttrain-mlogloss:0.019082\n",
            "[477]\teval-mlogloss:0.013621\ttrain-mlogloss:0.019081\n",
            "[478]\teval-mlogloss:0.013607\ttrain-mlogloss:0.01908\n",
            "[479]\teval-mlogloss:0.01361\ttrain-mlogloss:0.019078\n",
            "[480]\teval-mlogloss:0.013611\ttrain-mlogloss:0.019077\n",
            "[481]\teval-mlogloss:0.013614\ttrain-mlogloss:0.019076\n",
            "[482]\teval-mlogloss:0.013625\ttrain-mlogloss:0.019073\n",
            "[483]\teval-mlogloss:0.013623\ttrain-mlogloss:0.01907\n",
            "[484]\teval-mlogloss:0.013629\ttrain-mlogloss:0.019068\n",
            "[485]\teval-mlogloss:0.013625\ttrain-mlogloss:0.019065\n",
            "[486]\teval-mlogloss:0.013621\ttrain-mlogloss:0.019062\n",
            "[487]\teval-mlogloss:0.013618\ttrain-mlogloss:0.01906\n",
            "[488]\teval-mlogloss:0.013615\ttrain-mlogloss:0.019057\n",
            "[489]\teval-mlogloss:0.013612\ttrain-mlogloss:0.019055\n",
            "[490]\teval-mlogloss:0.013606\ttrain-mlogloss:0.019053\n",
            "[491]\teval-mlogloss:0.013602\ttrain-mlogloss:0.01905\n",
            "[492]\teval-mlogloss:0.013598\ttrain-mlogloss:0.019048\n",
            "[493]\teval-mlogloss:0.013595\ttrain-mlogloss:0.019045\n",
            "[494]\teval-mlogloss:0.013592\ttrain-mlogloss:0.019043\n",
            "[495]\teval-mlogloss:0.013589\ttrain-mlogloss:0.019041\n",
            "[496]\teval-mlogloss:0.013595\ttrain-mlogloss:0.019038\n",
            "[497]\teval-mlogloss:0.013582\ttrain-mlogloss:0.019037\n",
            "[498]\teval-mlogloss:0.013571\ttrain-mlogloss:0.019035\n",
            "[499]\teval-mlogloss:0.013573\ttrain-mlogloss:0.019034\n",
            "[500]\teval-mlogloss:0.013574\ttrain-mlogloss:0.019033\n",
            "[501]\teval-mlogloss:0.013562\ttrain-mlogloss:0.019032\n",
            "[502]\teval-mlogloss:0.013563\ttrain-mlogloss:0.01903\n",
            "[503]\teval-mlogloss:0.013564\ttrain-mlogloss:0.019029\n",
            "[504]\teval-mlogloss:0.013562\ttrain-mlogloss:0.019028\n",
            "[505]\teval-mlogloss:0.013564\ttrain-mlogloss:0.019026\n",
            "[506]\teval-mlogloss:0.013565\ttrain-mlogloss:0.019025\n",
            "[507]\teval-mlogloss:0.013568\ttrain-mlogloss:0.019024\n",
            "[508]\teval-mlogloss:0.013578\ttrain-mlogloss:0.019022\n",
            "[509]\teval-mlogloss:0.013576\ttrain-mlogloss:0.01902\n",
            "[510]\teval-mlogloss:0.013573\ttrain-mlogloss:0.019017\n",
            "[511]\teval-mlogloss:0.01357\ttrain-mlogloss:0.019015\n",
            "[512]\teval-mlogloss:0.013566\ttrain-mlogloss:0.019013\n",
            "[513]\teval-mlogloss:0.013562\ttrain-mlogloss:0.019011\n",
            "[514]\teval-mlogloss:0.013558\ttrain-mlogloss:0.019009\n",
            "[515]\teval-mlogloss:0.013555\ttrain-mlogloss:0.019007\n",
            "[516]\teval-mlogloss:0.013553\ttrain-mlogloss:0.019004\n",
            "[517]\teval-mlogloss:0.01355\ttrain-mlogloss:0.019002\n",
            "[518]\teval-mlogloss:0.013556\ttrain-mlogloss:0.019\n",
            "[519]\teval-mlogloss:0.013544\ttrain-mlogloss:0.018999\n",
            "[520]\teval-mlogloss:0.013544\ttrain-mlogloss:0.018998\n",
            "[521]\teval-mlogloss:0.013534\ttrain-mlogloss:0.018996\n",
            "[522]\teval-mlogloss:0.013535\ttrain-mlogloss:0.018995\n",
            "[523]\teval-mlogloss:0.013536\ttrain-mlogloss:0.018994\n",
            "[524]\teval-mlogloss:0.013524\ttrain-mlogloss:0.018993\n",
            "[525]\teval-mlogloss:0.013526\ttrain-mlogloss:0.018992\n",
            "[526]\teval-mlogloss:0.013527\ttrain-mlogloss:0.01899\n",
            "[527]\teval-mlogloss:0.013525\ttrain-mlogloss:0.018989\n",
            "[528]\teval-mlogloss:0.013526\ttrain-mlogloss:0.018988\n",
            "[529]\teval-mlogloss:0.013527\ttrain-mlogloss:0.018987\n",
            "[530]\teval-mlogloss:0.013517\ttrain-mlogloss:0.018986\n",
            "[531]\teval-mlogloss:0.013519\ttrain-mlogloss:0.018985\n",
            "[532]\teval-mlogloss:0.01352\ttrain-mlogloss:0.018984\n",
            "[533]\teval-mlogloss:0.013509\ttrain-mlogloss:0.018983\n",
            "[534]\teval-mlogloss:0.01351\ttrain-mlogloss:0.018982\n",
            "[535]\teval-mlogloss:0.013511\ttrain-mlogloss:0.01898\n",
            "[536]\teval-mlogloss:0.013515\ttrain-mlogloss:0.018979\n",
            "[537]\teval-mlogloss:0.013525\ttrain-mlogloss:0.018977\n",
            "[538]\teval-mlogloss:0.013531\ttrain-mlogloss:0.018975\n",
            "[539]\teval-mlogloss:0.013528\ttrain-mlogloss:0.018973\n",
            "[540]\teval-mlogloss:0.013525\ttrain-mlogloss:0.018971\n",
            "[541]\teval-mlogloss:0.013522\ttrain-mlogloss:0.018969\n",
            "[542]\teval-mlogloss:0.01352\ttrain-mlogloss:0.018967\n",
            "[543]\teval-mlogloss:0.013517\ttrain-mlogloss:0.018965\n",
            "[544]\teval-mlogloss:0.013515\ttrain-mlogloss:0.018964\n",
            "[545]\teval-mlogloss:0.013511\ttrain-mlogloss:0.018962\n",
            "[546]\teval-mlogloss:0.013508\ttrain-mlogloss:0.01896\n",
            "[547]\teval-mlogloss:0.013505\ttrain-mlogloss:0.018958\n",
            "[548]\teval-mlogloss:0.013502\ttrain-mlogloss:0.018956\n",
            "[549]\teval-mlogloss:0.0135\ttrain-mlogloss:0.018954\n",
            "[550]\teval-mlogloss:0.013506\ttrain-mlogloss:0.018953\n",
            "[551]\teval-mlogloss:0.013494\ttrain-mlogloss:0.018951\n",
            "[552]\teval-mlogloss:0.013495\ttrain-mlogloss:0.01895\n",
            "[553]\teval-mlogloss:0.013485\ttrain-mlogloss:0.018949\n",
            "[554]\teval-mlogloss:0.013486\ttrain-mlogloss:0.018948\n",
            "[555]\teval-mlogloss:0.013487\ttrain-mlogloss:0.018947\n",
            "[556]\teval-mlogloss:0.013476\ttrain-mlogloss:0.018946\n",
            "[557]\teval-mlogloss:0.013478\ttrain-mlogloss:0.018945\n",
            "[558]\teval-mlogloss:0.013478\ttrain-mlogloss:0.018944\n",
            "[559]\teval-mlogloss:0.013477\ttrain-mlogloss:0.018943\n",
            "[560]\teval-mlogloss:0.013478\ttrain-mlogloss:0.018942\n",
            "[561]\teval-mlogloss:0.013479\ttrain-mlogloss:0.018941\n",
            "[562]\teval-mlogloss:0.013482\ttrain-mlogloss:0.01894\n",
            "[563]\teval-mlogloss:0.013491\ttrain-mlogloss:0.018938\n",
            "[564]\teval-mlogloss:0.013489\ttrain-mlogloss:0.018936\n",
            "[565]\teval-mlogloss:0.013487\ttrain-mlogloss:0.018934\n",
            "[566]\teval-mlogloss:0.013485\ttrain-mlogloss:0.018933\n",
            "[567]\teval-mlogloss:0.013483\ttrain-mlogloss:0.018931\n",
            "[568]\teval-mlogloss:0.01348\ttrain-mlogloss:0.018929\n",
            "[569]\teval-mlogloss:0.013476\ttrain-mlogloss:0.018928\n",
            "[570]\teval-mlogloss:0.013474\ttrain-mlogloss:0.018926\n",
            "[571]\teval-mlogloss:0.013471\ttrain-mlogloss:0.018924\n",
            "[572]\teval-mlogloss:0.013469\ttrain-mlogloss:0.018923\n",
            "[573]\teval-mlogloss:0.013475\ttrain-mlogloss:0.018921\n",
            "[574]\teval-mlogloss:0.013472\ttrain-mlogloss:0.01892\n",
            "[575]\teval-mlogloss:0.013469\ttrain-mlogloss:0.018918\n",
            "[576]\teval-mlogloss:0.013466\ttrain-mlogloss:0.018916\n",
            "[577]\teval-mlogloss:0.013464\ttrain-mlogloss:0.018915\n",
            "[578]\teval-mlogloss:0.013462\ttrain-mlogloss:0.018913\n",
            "[579]\teval-mlogloss:0.01346\ttrain-mlogloss:0.018912\n",
            "[580]\teval-mlogloss:0.013457\ttrain-mlogloss:0.01891\n",
            "[581]\teval-mlogloss:0.013454\ttrain-mlogloss:0.018909\n",
            "[582]\teval-mlogloss:0.013451\ttrain-mlogloss:0.018907\n",
            "[583]\teval-mlogloss:0.013449\ttrain-mlogloss:0.018906\n",
            "[584]\teval-mlogloss:0.013439\ttrain-mlogloss:0.018905\n",
            "[585]\teval-mlogloss:0.01344\ttrain-mlogloss:0.018904\n",
            "[586]\teval-mlogloss:0.013439\ttrain-mlogloss:0.018903\n",
            "[587]\teval-mlogloss:0.01344\ttrain-mlogloss:0.018902\n",
            "[588]\teval-mlogloss:0.01344\ttrain-mlogloss:0.018901\n",
            "[589]\teval-mlogloss:0.013441\ttrain-mlogloss:0.0189\n",
            "[590]\teval-mlogloss:0.013432\ttrain-mlogloss:0.018899\n",
            "[591]\teval-mlogloss:0.013433\ttrain-mlogloss:0.018898\n",
            "[592]\teval-mlogloss:0.013433\ttrain-mlogloss:0.018897\n",
            "[593]\teval-mlogloss:0.013432\ttrain-mlogloss:0.018896\n",
            "[594]\teval-mlogloss:0.013433\ttrain-mlogloss:0.018895\n",
            "[595]\teval-mlogloss:0.013433\ttrain-mlogloss:0.018894\n",
            "[596]\teval-mlogloss:0.013434\ttrain-mlogloss:0.018893\n",
            "[597]\teval-mlogloss:0.013424\ttrain-mlogloss:0.018892\n",
            "[598]\teval-mlogloss:0.013425\ttrain-mlogloss:0.018891\n",
            "[599]\teval-mlogloss:0.013425\ttrain-mlogloss:0.01889\n",
            "[600]\teval-mlogloss:0.013429\ttrain-mlogloss:0.018889\n",
            "[601]\teval-mlogloss:0.013437\ttrain-mlogloss:0.018888\n",
            "[602]\teval-mlogloss:0.013435\ttrain-mlogloss:0.018886\n",
            "[603]\teval-mlogloss:0.013434\ttrain-mlogloss:0.018885\n",
            "[604]\teval-mlogloss:0.01344\ttrain-mlogloss:0.018884\n",
            "[605]\teval-mlogloss:0.013437\ttrain-mlogloss:0.018882\n",
            "[606]\teval-mlogloss:0.013434\ttrain-mlogloss:0.018881\n",
            "[607]\teval-mlogloss:0.013432\ttrain-mlogloss:0.018879\n",
            "[608]\teval-mlogloss:0.01343\ttrain-mlogloss:0.018878\n",
            "[609]\teval-mlogloss:0.013427\ttrain-mlogloss:0.018877\n",
            "[610]\teval-mlogloss:0.013424\ttrain-mlogloss:0.018875\n",
            "[611]\teval-mlogloss:0.013422\ttrain-mlogloss:0.018874\n",
            "[612]\teval-mlogloss:0.013419\ttrain-mlogloss:0.018873\n",
            "[613]\teval-mlogloss:0.013417\ttrain-mlogloss:0.018871\n",
            "[614]\teval-mlogloss:0.013415\ttrain-mlogloss:0.01887\n",
            "[615]\teval-mlogloss:0.013414\ttrain-mlogloss:0.018869\n",
            "[616]\teval-mlogloss:0.01342\ttrain-mlogloss:0.018867\n",
            "[617]\teval-mlogloss:0.013417\ttrain-mlogloss:0.018866\n",
            "[618]\teval-mlogloss:0.013414\ttrain-mlogloss:0.018865\n",
            "[619]\teval-mlogloss:0.013412\ttrain-mlogloss:0.018864\n",
            "[620]\teval-mlogloss:0.013403\ttrain-mlogloss:0.018863\n",
            "[621]\teval-mlogloss:0.013404\ttrain-mlogloss:0.018862\n",
            "[622]\teval-mlogloss:0.013404\ttrain-mlogloss:0.018861\n"
          ],
          "name": "stdout"
        },
        {
          "output_type": "stream",
          "text": [
            "[623]\teval-mlogloss:0.013402\ttrain-mlogloss:0.018859\n",
            "[624]\teval-mlogloss:0.013394\ttrain-mlogloss:0.018859\n",
            "[625]\teval-mlogloss:0.013394\ttrain-mlogloss:0.018858\n",
            "[626]\teval-mlogloss:0.013395\ttrain-mlogloss:0.018857\n",
            "[627]\teval-mlogloss:0.013395\ttrain-mlogloss:0.018856\n",
            "[628]\teval-mlogloss:0.013394\ttrain-mlogloss:0.018855\n",
            "[629]\teval-mlogloss:0.013394\ttrain-mlogloss:0.018854\n",
            "[630]\teval-mlogloss:0.013394\ttrain-mlogloss:0.018853\n",
            "[631]\teval-mlogloss:0.013398\ttrain-mlogloss:0.018852\n",
            "[632]\teval-mlogloss:0.013406\ttrain-mlogloss:0.018851\n",
            "[633]\teval-mlogloss:0.013404\ttrain-mlogloss:0.01885\n",
            "[634]\teval-mlogloss:0.013401\ttrain-mlogloss:0.018849\n",
            "[635]\teval-mlogloss:0.013399\ttrain-mlogloss:0.018847\n",
            "[636]\teval-mlogloss:0.013396\ttrain-mlogloss:0.018846\n",
            "[637]\teval-mlogloss:0.013394\ttrain-mlogloss:0.018845\n",
            "[638]\teval-mlogloss:0.013392\ttrain-mlogloss:0.018844\n",
            "[639]\teval-mlogloss:0.01339\ttrain-mlogloss:0.018843\n",
            "[640]\teval-mlogloss:0.013388\ttrain-mlogloss:0.018842\n",
            "[641]\teval-mlogloss:0.013394\ttrain-mlogloss:0.01884\n",
            "[642]\teval-mlogloss:0.013391\ttrain-mlogloss:0.018839\n",
            "[643]\teval-mlogloss:0.013389\ttrain-mlogloss:0.018838\n",
            "[644]\teval-mlogloss:0.013387\ttrain-mlogloss:0.018837\n",
            "[645]\teval-mlogloss:0.013385\ttrain-mlogloss:0.018836\n",
            "[646]\teval-mlogloss:0.013383\ttrain-mlogloss:0.018835\n",
            "[647]\teval-mlogloss:0.013381\ttrain-mlogloss:0.018834\n",
            "[648]\teval-mlogloss:0.013378\ttrain-mlogloss:0.018833\n",
            "[649]\teval-mlogloss:0.013376\ttrain-mlogloss:0.018832\n",
            "[650]\teval-mlogloss:0.013375\ttrain-mlogloss:0.01883\n",
            "[651]\teval-mlogloss:0.013373\ttrain-mlogloss:0.018829\n",
            "[652]\teval-mlogloss:0.013379\ttrain-mlogloss:0.018828\n",
            "[653]\teval-mlogloss:0.01337\ttrain-mlogloss:0.018827\n",
            "[654]\teval-mlogloss:0.013376\ttrain-mlogloss:0.018826\n",
            "[655]\teval-mlogloss:0.013367\ttrain-mlogloss:0.018825\n",
            "[656]\teval-mlogloss:0.013368\ttrain-mlogloss:0.018824\n",
            "[657]\teval-mlogloss:0.013368\ttrain-mlogloss:0.018824\n",
            "[658]\teval-mlogloss:0.013368\ttrain-mlogloss:0.018823\n",
            "[659]\teval-mlogloss:0.01336\ttrain-mlogloss:0.018822\n",
            "[660]\teval-mlogloss:0.01336\ttrain-mlogloss:0.018821\n",
            "[661]\teval-mlogloss:0.01336\ttrain-mlogloss:0.01882\n",
            "[662]\teval-mlogloss:0.01336\ttrain-mlogloss:0.018819\n",
            "[663]\teval-mlogloss:0.013352\ttrain-mlogloss:0.018819\n",
            "[664]\teval-mlogloss:0.013353\ttrain-mlogloss:0.018818\n",
            "[665]\teval-mlogloss:0.013353\ttrain-mlogloss:0.018817\n",
            "[666]\teval-mlogloss:0.01336\ttrain-mlogloss:0.018816\n",
            "[667]\teval-mlogloss:0.013359\ttrain-mlogloss:0.018815\n",
            "[668]\teval-mlogloss:0.013363\ttrain-mlogloss:0.018814\n",
            "[669]\teval-mlogloss:0.013369\ttrain-mlogloss:0.018813\n",
            "[670]\teval-mlogloss:0.01336\ttrain-mlogloss:0.018812\n",
            "[671]\teval-mlogloss:0.013367\ttrain-mlogloss:0.018811\n",
            "[672]\teval-mlogloss:0.013358\ttrain-mlogloss:0.01881\n",
            "[673]\teval-mlogloss:0.013364\ttrain-mlogloss:0.018809\n",
            "[674]\teval-mlogloss:0.013356\ttrain-mlogloss:0.018808\n",
            "[675]\teval-mlogloss:0.013355\ttrain-mlogloss:0.018807\n",
            "[676]\teval-mlogloss:0.013353\ttrain-mlogloss:0.018806\n",
            "[677]\teval-mlogloss:0.013351\ttrain-mlogloss:0.018805\n",
            "[678]\teval-mlogloss:0.013358\ttrain-mlogloss:0.018804\n",
            "[679]\teval-mlogloss:0.013348\ttrain-mlogloss:0.018803\n",
            "[680]\teval-mlogloss:0.013355\ttrain-mlogloss:0.018802\n",
            "[681]\teval-mlogloss:0.013346\ttrain-mlogloss:0.018801\n",
            "[682]\teval-mlogloss:0.013352\ttrain-mlogloss:0.0188\n",
            "[683]\teval-mlogloss:0.013349\ttrain-mlogloss:0.018799\n",
            "[684]\teval-mlogloss:0.013348\ttrain-mlogloss:0.018798\n",
            "[685]\teval-mlogloss:0.013354\ttrain-mlogloss:0.018798\n",
            "[686]\teval-mlogloss:0.013344\ttrain-mlogloss:0.018797\n",
            "[687]\teval-mlogloss:0.01335\ttrain-mlogloss:0.018796\n",
            "[688]\teval-mlogloss:0.013342\ttrain-mlogloss:0.018795\n",
            "[689]\teval-mlogloss:0.013348\ttrain-mlogloss:0.018794\n",
            "[690]\teval-mlogloss:0.013339\ttrain-mlogloss:0.018793\n",
            "[691]\teval-mlogloss:0.013338\ttrain-mlogloss:0.018792\n",
            "[692]\teval-mlogloss:0.013336\ttrain-mlogloss:0.018791\n",
            "[693]\teval-mlogloss:0.013342\ttrain-mlogloss:0.01879\n",
            "[694]\teval-mlogloss:0.013333\ttrain-mlogloss:0.018789\n",
            "[695]\teval-mlogloss:0.013339\ttrain-mlogloss:0.018788\n",
            "[696]\teval-mlogloss:0.01333\ttrain-mlogloss:0.018787\n",
            "[697]\teval-mlogloss:0.013336\ttrain-mlogloss:0.018786\n",
            "[698]\teval-mlogloss:0.013328\ttrain-mlogloss:0.018786\n",
            "[699]\teval-mlogloss:0.013328\ttrain-mlogloss:0.018785\n",
            "[700]\teval-mlogloss:0.013329\ttrain-mlogloss:0.018784\n",
            "[701]\teval-mlogloss:0.013329\ttrain-mlogloss:0.018783\n",
            "[702]\teval-mlogloss:0.013335\ttrain-mlogloss:0.018783\n",
            "[703]\teval-mlogloss:0.013326\ttrain-mlogloss:0.018782\n",
            "[704]\teval-mlogloss:0.013325\ttrain-mlogloss:0.018781\n",
            "[705]\teval-mlogloss:0.013317\ttrain-mlogloss:0.01878\n",
            "[706]\teval-mlogloss:0.013318\ttrain-mlogloss:0.018779\n",
            "[707]\teval-mlogloss:0.013318\ttrain-mlogloss:0.018779\n",
            "[708]\teval-mlogloss:0.013318\ttrain-mlogloss:0.018778\n",
            "[709]\teval-mlogloss:0.013324\ttrain-mlogloss:0.018777\n",
            "[710]\teval-mlogloss:0.013316\ttrain-mlogloss:0.018776\n",
            "[711]\teval-mlogloss:0.013316\ttrain-mlogloss:0.018775\n",
            "[712]\teval-mlogloss:0.013316\ttrain-mlogloss:0.018775\n",
            "[713]\teval-mlogloss:0.01332\ttrain-mlogloss:0.018774\n",
            "[714]\teval-mlogloss:0.013327\ttrain-mlogloss:0.018773\n",
            "[715]\teval-mlogloss:0.013325\ttrain-mlogloss:0.018772\n",
            "[716]\teval-mlogloss:0.013323\ttrain-mlogloss:0.018771\n",
            "[717]\teval-mlogloss:0.013321\ttrain-mlogloss:0.018771\n",
            "[718]\teval-mlogloss:0.013319\ttrain-mlogloss:0.01877\n",
            "[719]\teval-mlogloss:0.013317\ttrain-mlogloss:0.018769\n",
            "[720]\teval-mlogloss:0.013315\ttrain-mlogloss:0.018768\n",
            "[721]\teval-mlogloss:0.01332\ttrain-mlogloss:0.018767\n",
            "[722]\teval-mlogloss:0.013318\ttrain-mlogloss:0.018766\n",
            "[723]\teval-mlogloss:0.013316\ttrain-mlogloss:0.018765\n",
            "[724]\teval-mlogloss:0.013314\ttrain-mlogloss:0.018765\n",
            "[725]\teval-mlogloss:0.013312\ttrain-mlogloss:0.018764\n",
            "[726]\teval-mlogloss:0.013318\ttrain-mlogloss:0.018763\n",
            "[727]\teval-mlogloss:0.013309\ttrain-mlogloss:0.018762\n",
            "[728]\teval-mlogloss:0.013315\ttrain-mlogloss:0.018761\n",
            "[729]\teval-mlogloss:0.013307\ttrain-mlogloss:0.018761\n",
            "[730]\teval-mlogloss:0.013312\ttrain-mlogloss:0.01876\n",
            "[731]\teval-mlogloss:0.013304\ttrain-mlogloss:0.018759\n",
            "[732]\teval-mlogloss:0.01331\ttrain-mlogloss:0.018758\n",
            "[733]\teval-mlogloss:0.013302\ttrain-mlogloss:0.018757\n",
            "[734]\teval-mlogloss:0.013302\ttrain-mlogloss:0.018757\n",
            "[735]\teval-mlogloss:0.013307\ttrain-mlogloss:0.018756\n",
            "[736]\teval-mlogloss:0.013298\ttrain-mlogloss:0.018755\n",
            "[737]\teval-mlogloss:0.013304\ttrain-mlogloss:0.018754\n",
            "[738]\teval-mlogloss:0.013296\ttrain-mlogloss:0.018753\n",
            "[739]\teval-mlogloss:0.013301\ttrain-mlogloss:0.018753\n",
            "[740]\teval-mlogloss:0.013299\ttrain-mlogloss:0.018752\n",
            "[741]\teval-mlogloss:0.013305\ttrain-mlogloss:0.018751\n",
            "[742]\teval-mlogloss:0.013296\ttrain-mlogloss:0.01875\n",
            "[743]\teval-mlogloss:0.013302\ttrain-mlogloss:0.018749\n",
            "[744]\teval-mlogloss:0.013293\ttrain-mlogloss:0.018749\n",
            "[745]\teval-mlogloss:0.013299\ttrain-mlogloss:0.018748\n",
            "[746]\teval-mlogloss:0.013291\ttrain-mlogloss:0.018747\n",
            "[747]\teval-mlogloss:0.013297\ttrain-mlogloss:0.018746\n",
            "[748]\teval-mlogloss:0.013289\ttrain-mlogloss:0.018746\n",
            "[749]\teval-mlogloss:0.013295\ttrain-mlogloss:0.018745\n",
            "[750]\teval-mlogloss:0.013294\ttrain-mlogloss:0.018744\n",
            "[751]\teval-mlogloss:0.013298\ttrain-mlogloss:0.018743\n",
            "[752]\teval-mlogloss:0.013304\ttrain-mlogloss:0.018743\n",
            "[753]\teval-mlogloss:0.013296\ttrain-mlogloss:0.018742\n",
            "[754]\teval-mlogloss:0.013301\ttrain-mlogloss:0.018741\n",
            "[755]\teval-mlogloss:0.013293\ttrain-mlogloss:0.01874\n",
            "[756]\teval-mlogloss:0.013299\ttrain-mlogloss:0.01874\n",
            "[757]\teval-mlogloss:0.013292\ttrain-mlogloss:0.018739\n",
            "[758]\teval-mlogloss:0.013297\ttrain-mlogloss:0.018738\n",
            "[759]\teval-mlogloss:0.013289\ttrain-mlogloss:0.018737\n",
            "[760]\teval-mlogloss:0.013294\ttrain-mlogloss:0.018737\n",
            "[761]\teval-mlogloss:0.013286\ttrain-mlogloss:0.018736\n",
            "[762]\teval-mlogloss:0.013291\ttrain-mlogloss:0.018735\n",
            "[763]\teval-mlogloss:0.013284\ttrain-mlogloss:0.018734\n",
            "[764]\teval-mlogloss:0.013289\ttrain-mlogloss:0.018734\n",
            "[765]\teval-mlogloss:0.013281\ttrain-mlogloss:0.018733\n",
            "[766]\teval-mlogloss:0.013287\ttrain-mlogloss:0.018732\n",
            "[767]\teval-mlogloss:0.013287\ttrain-mlogloss:0.018732\n",
            "[768]\teval-mlogloss:0.013285\ttrain-mlogloss:0.018731\n",
            "[769]\teval-mlogloss:0.01329\ttrain-mlogloss:0.01873\n",
            "[770]\teval-mlogloss:0.013282\ttrain-mlogloss:0.018729\n",
            "[771]\teval-mlogloss:0.013287\ttrain-mlogloss:0.018729\n",
            "[772]\teval-mlogloss:0.013279\ttrain-mlogloss:0.018728\n",
            "[773]\teval-mlogloss:0.013285\ttrain-mlogloss:0.018727\n",
            "[774]\teval-mlogloss:0.013277\ttrain-mlogloss:0.018727\n",
            "[775]\teval-mlogloss:0.013277\ttrain-mlogloss:0.018726\n",
            "[776]\teval-mlogloss:0.013282\ttrain-mlogloss:0.018725\n",
            "[777]\teval-mlogloss:0.013273\ttrain-mlogloss:0.018724\n",
            "[778]\teval-mlogloss:0.013279\ttrain-mlogloss:0.018724\n"
          ],
          "name": "stdout"
        },
        {
          "output_type": "stream",
          "text": [
            "[779]\teval-mlogloss:0.013271\ttrain-mlogloss:0.018723\n",
            "[780]\teval-mlogloss:0.013276\ttrain-mlogloss:0.018722\n",
            "[781]\teval-mlogloss:0.013269\ttrain-mlogloss:0.018722\n",
            "[782]\teval-mlogloss:0.013274\ttrain-mlogloss:0.018721\n",
            "[783]\teval-mlogloss:0.013267\ttrain-mlogloss:0.01872\n",
            "[784]\teval-mlogloss:0.013272\ttrain-mlogloss:0.01872\n",
            "[785]\teval-mlogloss:0.013281\ttrain-mlogloss:0.018719\n",
            "[786]\teval-mlogloss:0.013274\ttrain-mlogloss:0.018718\n",
            "[787]\teval-mlogloss:0.013279\ttrain-mlogloss:0.018718\n",
            "[788]\teval-mlogloss:0.013272\ttrain-mlogloss:0.018717\n",
            "[789]\teval-mlogloss:0.013277\ttrain-mlogloss:0.018716\n",
            "[790]\teval-mlogloss:0.01327\ttrain-mlogloss:0.018716\n",
            "[791]\teval-mlogloss:0.013276\ttrain-mlogloss:0.018715\n",
            "[792]\teval-mlogloss:0.013269\ttrain-mlogloss:0.018714\n",
            "[793]\teval-mlogloss:0.013274\ttrain-mlogloss:0.018714\n",
            "[794]\teval-mlogloss:0.013266\ttrain-mlogloss:0.018713\n",
            "[795]\teval-mlogloss:0.013271\ttrain-mlogloss:0.018712\n",
            "[796]\teval-mlogloss:0.013264\ttrain-mlogloss:0.018712\n",
            "[797]\teval-mlogloss:0.013269\ttrain-mlogloss:0.018711\n",
            "[798]\teval-mlogloss:0.013262\ttrain-mlogloss:0.01871\n",
            "[799]\teval-mlogloss:0.013267\ttrain-mlogloss:0.01871\n",
            "[800]\teval-mlogloss:0.013267\ttrain-mlogloss:0.018709\n",
            "[801]\teval-mlogloss:0.013271\ttrain-mlogloss:0.018708\n",
            "[802]\teval-mlogloss:0.013263\ttrain-mlogloss:0.018708\n",
            "[803]\teval-mlogloss:0.013268\ttrain-mlogloss:0.018707\n",
            "[804]\teval-mlogloss:0.013261\ttrain-mlogloss:0.018706\n",
            "[805]\teval-mlogloss:0.013266\ttrain-mlogloss:0.018706\n",
            "[806]\teval-mlogloss:0.013258\ttrain-mlogloss:0.018705\n",
            "[807]\teval-mlogloss:0.013264\ttrain-mlogloss:0.018704\n",
            "[808]\teval-mlogloss:0.013256\ttrain-mlogloss:0.018704\n",
            "[809]\teval-mlogloss:0.013262\ttrain-mlogloss:0.018703\n",
            "[810]\teval-mlogloss:0.013255\ttrain-mlogloss:0.018702\n",
            "[811]\teval-mlogloss:0.01326\ttrain-mlogloss:0.018702\n",
            "[812]\teval-mlogloss:0.013252\ttrain-mlogloss:0.018701\n",
            "[813]\teval-mlogloss:0.013257\ttrain-mlogloss:0.018701\n",
            "[814]\teval-mlogloss:0.01325\ttrain-mlogloss:0.0187\n",
            "[815]\teval-mlogloss:0.013255\ttrain-mlogloss:0.018699\n",
            "[816]\teval-mlogloss:0.013248\ttrain-mlogloss:0.018699\n",
            "[817]\teval-mlogloss:0.013253\ttrain-mlogloss:0.018698\n",
            "[818]\teval-mlogloss:0.013258\ttrain-mlogloss:0.018697\n",
            "[819]\teval-mlogloss:0.01325\ttrain-mlogloss:0.018697\n",
            "[820]\teval-mlogloss:0.013255\ttrain-mlogloss:0.018696\n",
            "[821]\teval-mlogloss:0.013247\ttrain-mlogloss:0.018696\n",
            "[822]\teval-mlogloss:0.013252\ttrain-mlogloss:0.018695\n",
            "[823]\teval-mlogloss:0.013245\ttrain-mlogloss:0.018694\n",
            "[824]\teval-mlogloss:0.01325\ttrain-mlogloss:0.018694\n",
            "[825]\teval-mlogloss:0.013243\ttrain-mlogloss:0.018693\n",
            "[826]\teval-mlogloss:0.013248\ttrain-mlogloss:0.018693\n",
            "[827]\teval-mlogloss:0.013242\ttrain-mlogloss:0.018692\n",
            "[828]\teval-mlogloss:0.013251\ttrain-mlogloss:0.018691\n",
            "[829]\teval-mlogloss:0.013244\ttrain-mlogloss:0.018691\n",
            "[830]\teval-mlogloss:0.013249\ttrain-mlogloss:0.01869\n",
            "[831]\teval-mlogloss:0.013243\ttrain-mlogloss:0.01869\n",
            "[832]\teval-mlogloss:0.013248\ttrain-mlogloss:0.018689\n",
            "[833]\teval-mlogloss:0.013248\ttrain-mlogloss:0.018688\n",
            "[834]\teval-mlogloss:0.013253\ttrain-mlogloss:0.018688\n",
            "[835]\teval-mlogloss:0.013245\ttrain-mlogloss:0.018687\n",
            "[836]\teval-mlogloss:0.01325\ttrain-mlogloss:0.018687\n",
            "[837]\teval-mlogloss:0.013243\ttrain-mlogloss:0.018686\n",
            "[838]\teval-mlogloss:0.013247\ttrain-mlogloss:0.018685\n",
            "[839]\teval-mlogloss:0.01324\ttrain-mlogloss:0.018685\n",
            "[840]\teval-mlogloss:0.013245\ttrain-mlogloss:0.018684\n",
            "[841]\teval-mlogloss:0.013239\ttrain-mlogloss:0.018684\n",
            "[842]\teval-mlogloss:0.013243\ttrain-mlogloss:0.018683\n",
            "[843]\teval-mlogloss:0.013237\ttrain-mlogloss:0.018682\n",
            "[844]\teval-mlogloss:0.013242\ttrain-mlogloss:0.018682\n",
            "[845]\teval-mlogloss:0.013242\ttrain-mlogloss:0.018681\n",
            "[846]\teval-mlogloss:0.013246\ttrain-mlogloss:0.018681\n",
            "[847]\teval-mlogloss:0.013239\ttrain-mlogloss:0.01868\n",
            "[848]\teval-mlogloss:0.013244\ttrain-mlogloss:0.01868\n",
            "[849]\teval-mlogloss:0.013237\ttrain-mlogloss:0.018679\n",
            "[850]\teval-mlogloss:0.013236\ttrain-mlogloss:0.018679\n",
            "[851]\teval-mlogloss:0.013241\ttrain-mlogloss:0.018678\n",
            "[852]\teval-mlogloss:0.013238\ttrain-mlogloss:0.018677\n",
            "[853]\teval-mlogloss:0.013235\ttrain-mlogloss:0.018677\n",
            "[854]\teval-mlogloss:0.013233\ttrain-mlogloss:0.018676\n",
            "[855]\teval-mlogloss:0.013232\ttrain-mlogloss:0.018676\n",
            "[856]\teval-mlogloss:0.01323\ttrain-mlogloss:0.018675\n",
            "[857]\teval-mlogloss:0.013235\ttrain-mlogloss:0.018675\n",
            "[858]\teval-mlogloss:0.013233\ttrain-mlogloss:0.018674\n",
            "[859]\teval-mlogloss:0.013231\ttrain-mlogloss:0.018674\n",
            "[860]\teval-mlogloss:0.013236\ttrain-mlogloss:0.018673\n",
            "[861]\teval-mlogloss:0.013229\ttrain-mlogloss:0.018673\n",
            "[862]\teval-mlogloss:0.013233\ttrain-mlogloss:0.018672\n",
            "[863]\teval-mlogloss:0.013226\ttrain-mlogloss:0.018671\n",
            "[864]\teval-mlogloss:0.013226\ttrain-mlogloss:0.018671\n",
            "[865]\teval-mlogloss:0.013234\ttrain-mlogloss:0.01867\n",
            "[866]\teval-mlogloss:0.013232\ttrain-mlogloss:0.01867\n",
            "[867]\teval-mlogloss:0.01323\ttrain-mlogloss:0.018669\n",
            "[868]\teval-mlogloss:0.013229\ttrain-mlogloss:0.018669\n",
            "[869]\teval-mlogloss:0.013233\ttrain-mlogloss:0.018668\n",
            "[870]\teval-mlogloss:0.01323\ttrain-mlogloss:0.018668\n",
            "[871]\teval-mlogloss:0.013228\ttrain-mlogloss:0.018667\n",
            "[872]\teval-mlogloss:0.013233\ttrain-mlogloss:0.018667\n",
            "[873]\teval-mlogloss:0.01323\ttrain-mlogloss:0.018666\n",
            "[874]\teval-mlogloss:0.013228\ttrain-mlogloss:0.018666\n",
            "[875]\teval-mlogloss:0.013227\ttrain-mlogloss:0.018665\n",
            "[876]\teval-mlogloss:0.013226\ttrain-mlogloss:0.018665\n",
            "[877]\teval-mlogloss:0.013224\ttrain-mlogloss:0.018664\n",
            "[878]\teval-mlogloss:0.013228\ttrain-mlogloss:0.018664\n",
            "[879]\teval-mlogloss:0.013225\ttrain-mlogloss:0.018663\n",
            "[880]\teval-mlogloss:0.013223\ttrain-mlogloss:0.018663\n",
            "[881]\teval-mlogloss:0.013221\ttrain-mlogloss:0.018662\n",
            "[882]\teval-mlogloss:0.013219\ttrain-mlogloss:0.018662\n",
            "[883]\teval-mlogloss:0.013219\ttrain-mlogloss:0.018661\n",
            "[884]\teval-mlogloss:0.013217\ttrain-mlogloss:0.018661\n",
            "[885]\teval-mlogloss:0.013215\ttrain-mlogloss:0.018661\n",
            "[886]\teval-mlogloss:0.013219\ttrain-mlogloss:0.01866\n",
            "[887]\teval-mlogloss:0.013216\ttrain-mlogloss:0.01866\n",
            "[888]\teval-mlogloss:0.013214\ttrain-mlogloss:0.018659\n",
            "[889]\teval-mlogloss:0.013219\ttrain-mlogloss:0.018659\n",
            "[890]\teval-mlogloss:0.013216\ttrain-mlogloss:0.018658\n",
            "[891]\teval-mlogloss:0.013214\ttrain-mlogloss:0.018658\n",
            "[892]\teval-mlogloss:0.013213\ttrain-mlogloss:0.018657\n",
            "[893]\teval-mlogloss:0.01322\ttrain-mlogloss:0.018657\n",
            "[894]\teval-mlogloss:0.013218\ttrain-mlogloss:0.018656\n",
            "[895]\teval-mlogloss:0.013216\ttrain-mlogloss:0.018656\n",
            "[896]\teval-mlogloss:0.013216\ttrain-mlogloss:0.018655\n",
            "[897]\teval-mlogloss:0.013214\ttrain-mlogloss:0.018655\n",
            "[898]\teval-mlogloss:0.013212\ttrain-mlogloss:0.018655\n",
            "[899]\teval-mlogloss:0.013216\ttrain-mlogloss:0.018654\n",
            "[900]\teval-mlogloss:0.013214\ttrain-mlogloss:0.018654\n",
            "[901]\teval-mlogloss:0.013211\ttrain-mlogloss:0.018653\n",
            "[902]\teval-mlogloss:0.013216\ttrain-mlogloss:0.018653\n",
            "[903]\teval-mlogloss:0.013213\ttrain-mlogloss:0.018652\n",
            "[904]\teval-mlogloss:0.013211\ttrain-mlogloss:0.018652\n",
            "[905]\teval-mlogloss:0.01321\ttrain-mlogloss:0.018651\n",
            "[906]\teval-mlogloss:0.013214\ttrain-mlogloss:0.018651\n",
            "[907]\teval-mlogloss:0.013211\ttrain-mlogloss:0.018651\n",
            "[908]\teval-mlogloss:0.013209\ttrain-mlogloss:0.01865\n",
            "[909]\teval-mlogloss:0.013208\ttrain-mlogloss:0.01865\n",
            "[910]\teval-mlogloss:0.013206\ttrain-mlogloss:0.018649\n",
            "[911]\teval-mlogloss:0.013204\ttrain-mlogloss:0.018649\n",
            "[912]\teval-mlogloss:0.013208\ttrain-mlogloss:0.018649\n",
            "[913]\teval-mlogloss:0.013206\ttrain-mlogloss:0.018648\n",
            "[914]\teval-mlogloss:0.013205\ttrain-mlogloss:0.018648\n",
            "[915]\teval-mlogloss:0.013208\ttrain-mlogloss:0.018647\n",
            "[916]\teval-mlogloss:0.013206\ttrain-mlogloss:0.018647\n",
            "[917]\teval-mlogloss:0.013203\ttrain-mlogloss:0.018646\n",
            "[918]\teval-mlogloss:0.013202\ttrain-mlogloss:0.018646\n",
            "[919]\teval-mlogloss:0.013201\ttrain-mlogloss:0.018646\n",
            "[920]\teval-mlogloss:0.013199\ttrain-mlogloss:0.018645\n",
            "[921]\teval-mlogloss:0.013198\ttrain-mlogloss:0.018645\n",
            "[922]\teval-mlogloss:0.013201\ttrain-mlogloss:0.018644\n",
            "[923]\teval-mlogloss:0.013199\ttrain-mlogloss:0.018644\n",
            "[924]\teval-mlogloss:0.013197\ttrain-mlogloss:0.018644\n",
            "[925]\teval-mlogloss:0.013201\ttrain-mlogloss:0.018643\n",
            "[926]\teval-mlogloss:0.013198\ttrain-mlogloss:0.018643\n",
            "[927]\teval-mlogloss:0.013197\ttrain-mlogloss:0.018642\n",
            "[928]\teval-mlogloss:0.013204\ttrain-mlogloss:0.018642\n",
            "[929]\teval-mlogloss:0.013202\ttrain-mlogloss:0.018642\n",
            "[930]\teval-mlogloss:0.013201\ttrain-mlogloss:0.018641\n",
            "[931]\teval-mlogloss:0.013199\ttrain-mlogloss:0.018641\n",
            "[932]\teval-mlogloss:0.013197\ttrain-mlogloss:0.01864\n",
            "[933]\teval-mlogloss:0.0132\ttrain-mlogloss:0.01864\n",
            "[934]\teval-mlogloss:0.013198\ttrain-mlogloss:0.01864\n"
          ],
          "name": "stdout"
        },
        {
          "output_type": "stream",
          "text": [
            "[935]\teval-mlogloss:0.013196\ttrain-mlogloss:0.018639\n",
            "[936]\teval-mlogloss:0.0132\ttrain-mlogloss:0.018639\n",
            "[937]\teval-mlogloss:0.013197\ttrain-mlogloss:0.018639\n",
            "[938]\teval-mlogloss:0.013195\ttrain-mlogloss:0.018638\n",
            "[939]\teval-mlogloss:0.013194\ttrain-mlogloss:0.018638\n",
            "[940]\teval-mlogloss:0.013198\ttrain-mlogloss:0.018637\n",
            "[941]\teval-mlogloss:0.013195\ttrain-mlogloss:0.018637\n",
            "[942]\teval-mlogloss:0.013194\ttrain-mlogloss:0.018637\n",
            "[943]\teval-mlogloss:0.013192\ttrain-mlogloss:0.018636\n",
            "[944]\teval-mlogloss:0.01319\ttrain-mlogloss:0.018636\n",
            "[945]\teval-mlogloss:0.013188\ttrain-mlogloss:0.018636\n",
            "[946]\teval-mlogloss:0.013192\ttrain-mlogloss:0.018635\n",
            "[947]\teval-mlogloss:0.01319\ttrain-mlogloss:0.018635\n",
            "[948]\teval-mlogloss:0.013194\ttrain-mlogloss:0.018634\n",
            "[949]\teval-mlogloss:0.013191\ttrain-mlogloss:0.018634\n",
            "[950]\teval-mlogloss:0.013189\ttrain-mlogloss:0.018634\n",
            "[951]\teval-mlogloss:0.013187\ttrain-mlogloss:0.018633\n",
            "[952]\teval-mlogloss:0.013187\ttrain-mlogloss:0.018633\n",
            "[953]\teval-mlogloss:0.013185\ttrain-mlogloss:0.018633\n",
            "[954]\teval-mlogloss:0.013183\ttrain-mlogloss:0.018632\n",
            "[955]\teval-mlogloss:0.013187\ttrain-mlogloss:0.018632\n",
            "[956]\teval-mlogloss:0.013184\ttrain-mlogloss:0.018632\n",
            "[957]\teval-mlogloss:0.013182\ttrain-mlogloss:0.018631\n",
            "[958]\teval-mlogloss:0.013186\ttrain-mlogloss:0.018631\n",
            "[959]\teval-mlogloss:0.013184\ttrain-mlogloss:0.018631\n",
            "[960]\teval-mlogloss:0.013182\ttrain-mlogloss:0.01863\n",
            "[961]\teval-mlogloss:0.013189\ttrain-mlogloss:0.01863\n",
            "[962]\teval-mlogloss:0.013187\ttrain-mlogloss:0.01863\n",
            "[963]\teval-mlogloss:0.013186\ttrain-mlogloss:0.018629\n",
            "[964]\teval-mlogloss:0.013184\ttrain-mlogloss:0.018629\n",
            "[965]\teval-mlogloss:0.013183\ttrain-mlogloss:0.018628\n",
            "[966]\teval-mlogloss:0.013186\ttrain-mlogloss:0.018628\n",
            "[967]\teval-mlogloss:0.013184\ttrain-mlogloss:0.018628\n",
            "[968]\teval-mlogloss:0.013182\ttrain-mlogloss:0.018628\n",
            "[969]\teval-mlogloss:0.013185\ttrain-mlogloss:0.018627\n",
            "[970]\teval-mlogloss:0.013183\ttrain-mlogloss:0.018627\n",
            "[971]\teval-mlogloss:0.013181\ttrain-mlogloss:0.018627\n",
            "[972]\teval-mlogloss:0.01318\ttrain-mlogloss:0.018626\n",
            "[973]\teval-mlogloss:0.013183\ttrain-mlogloss:0.018626\n",
            "[974]\teval-mlogloss:0.013181\ttrain-mlogloss:0.018626\n",
            "[975]\teval-mlogloss:0.01318\ttrain-mlogloss:0.018625\n",
            "[976]\teval-mlogloss:0.013178\ttrain-mlogloss:0.018625\n",
            "[977]\teval-mlogloss:0.013176\ttrain-mlogloss:0.018625\n",
            "[978]\teval-mlogloss:0.013175\ttrain-mlogloss:0.018624\n",
            "[979]\teval-mlogloss:0.013174\ttrain-mlogloss:0.018624\n",
            "[980]\teval-mlogloss:0.013177\ttrain-mlogloss:0.018624\n",
            "[981]\teval-mlogloss:0.013175\ttrain-mlogloss:0.018623\n",
            "[982]\teval-mlogloss:0.013179\ttrain-mlogloss:0.018623\n",
            "[983]\teval-mlogloss:0.013176\ttrain-mlogloss:0.018623\n",
            "[984]\teval-mlogloss:0.013175\ttrain-mlogloss:0.018622\n",
            "[985]\teval-mlogloss:0.013174\ttrain-mlogloss:0.018622\n",
            "[986]\teval-mlogloss:0.013172\ttrain-mlogloss:0.018622\n",
            "[987]\teval-mlogloss:0.013171\ttrain-mlogloss:0.018621\n",
            "[988]\teval-mlogloss:0.013177\ttrain-mlogloss:0.018621\n",
            "[989]\teval-mlogloss:0.013175\ttrain-mlogloss:0.018621\n",
            "[990]\teval-mlogloss:0.013174\ttrain-mlogloss:0.01862\n",
            "[991]\teval-mlogloss:0.013173\ttrain-mlogloss:0.01862\n",
            "[992]\teval-mlogloss:0.013176\ttrain-mlogloss:0.01862\n",
            "[993]\teval-mlogloss:0.013174\ttrain-mlogloss:0.01862\n",
            "[994]\teval-mlogloss:0.013177\ttrain-mlogloss:0.018619\n",
            "[995]\teval-mlogloss:0.013175\ttrain-mlogloss:0.018619\n",
            "[996]\teval-mlogloss:0.013174\ttrain-mlogloss:0.018619\n",
            "[997]\teval-mlogloss:0.013173\ttrain-mlogloss:0.018618\n",
            "[998]\teval-mlogloss:0.013171\ttrain-mlogloss:0.018618\n",
            "[999]\teval-mlogloss:0.01317\ttrain-mlogloss:0.018618\n",
            "[1000]\teval-mlogloss:0.013173\ttrain-mlogloss:0.018617\n",
            "[1001]\teval-mlogloss:0.013171\ttrain-mlogloss:0.018617\n",
            "[1002]\teval-mlogloss:0.013169\ttrain-mlogloss:0.018617\n",
            "[1003]\teval-mlogloss:0.013167\ttrain-mlogloss:0.018616\n",
            "[1004]\teval-mlogloss:0.013167\ttrain-mlogloss:0.018616\n",
            "[1005]\teval-mlogloss:0.013165\ttrain-mlogloss:0.018616\n",
            "[1006]\teval-mlogloss:0.013164\ttrain-mlogloss:0.018616\n",
            "[1007]\teval-mlogloss:0.013167\ttrain-mlogloss:0.018615\n",
            "[1008]\teval-mlogloss:0.013165\ttrain-mlogloss:0.018615\n",
            "[1009]\teval-mlogloss:0.013168\ttrain-mlogloss:0.018615\n",
            "[1010]\teval-mlogloss:0.013166\ttrain-mlogloss:0.018614\n",
            "[1011]\teval-mlogloss:0.013164\ttrain-mlogloss:0.018614\n",
            "[1012]\teval-mlogloss:0.013163\ttrain-mlogloss:0.018614\n",
            "[1013]\teval-mlogloss:0.013162\ttrain-mlogloss:0.018614\n",
            "[1014]\teval-mlogloss:0.013165\ttrain-mlogloss:0.018613\n",
            "[1015]\teval-mlogloss:0.013163\ttrain-mlogloss:0.018613\n",
            "[1016]\teval-mlogloss:0.013162\ttrain-mlogloss:0.018613\n",
            "[1017]\teval-mlogloss:0.01316\ttrain-mlogloss:0.018613\n",
            "[1018]\teval-mlogloss:0.013159\ttrain-mlogloss:0.018612\n",
            "[1019]\teval-mlogloss:0.013158\ttrain-mlogloss:0.018612\n",
            "[1020]\teval-mlogloss:0.013161\ttrain-mlogloss:0.018612\n",
            "[1021]\teval-mlogloss:0.01316\ttrain-mlogloss:0.018611\n",
            "[1022]\teval-mlogloss:0.013165\ttrain-mlogloss:0.018611\n",
            "[1023]\teval-mlogloss:0.013164\ttrain-mlogloss:0.018611\n",
            "[1024]\teval-mlogloss:0.013162\ttrain-mlogloss:0.018611\n",
            "[1025]\teval-mlogloss:0.013161\ttrain-mlogloss:0.01861\n",
            "[1026]\teval-mlogloss:0.013164\ttrain-mlogloss:0.01861\n",
            "[1027]\teval-mlogloss:0.013162\ttrain-mlogloss:0.01861\n",
            "[1028]\teval-mlogloss:0.013162\ttrain-mlogloss:0.01861\n",
            "[1029]\teval-mlogloss:0.01316\ttrain-mlogloss:0.018609\n",
            "[1030]\teval-mlogloss:0.013158\ttrain-mlogloss:0.018609\n",
            "[1031]\teval-mlogloss:0.013157\ttrain-mlogloss:0.018609\n",
            "[1032]\teval-mlogloss:0.01316\ttrain-mlogloss:0.018608\n",
            "[1033]\teval-mlogloss:0.013159\ttrain-mlogloss:0.018608\n",
            "[1034]\teval-mlogloss:0.013162\ttrain-mlogloss:0.018608\n",
            "[1035]\teval-mlogloss:0.013159\ttrain-mlogloss:0.018608\n",
            "[1036]\teval-mlogloss:0.013158\ttrain-mlogloss:0.018607\n",
            "[1037]\teval-mlogloss:0.013156\ttrain-mlogloss:0.018607\n",
            "[1038]\teval-mlogloss:0.013156\ttrain-mlogloss:0.018607\n",
            "[1039]\teval-mlogloss:0.013154\ttrain-mlogloss:0.018607\n",
            "[1040]\teval-mlogloss:0.013153\ttrain-mlogloss:0.018606\n",
            "[1041]\teval-mlogloss:0.013156\ttrain-mlogloss:0.018606\n",
            "[1042]\teval-mlogloss:0.013154\ttrain-mlogloss:0.018606\n",
            "[1043]\teval-mlogloss:0.013152\ttrain-mlogloss:0.018606\n",
            "[1044]\teval-mlogloss:0.013156\ttrain-mlogloss:0.018605\n",
            "[1045]\teval-mlogloss:0.013154\ttrain-mlogloss:0.018605\n",
            "[1046]\teval-mlogloss:0.013152\ttrain-mlogloss:0.018605\n",
            "[1047]\teval-mlogloss:0.013151\ttrain-mlogloss:0.018605\n",
            "[1048]\teval-mlogloss:0.013154\ttrain-mlogloss:0.018604\n",
            "[1049]\teval-mlogloss:0.013152\ttrain-mlogloss:0.018604\n",
            "[1050]\teval-mlogloss:0.013152\ttrain-mlogloss:0.018604\n",
            "[1051]\teval-mlogloss:0.01315\ttrain-mlogloss:0.018604\n",
            "[1052]\teval-mlogloss:0.013148\ttrain-mlogloss:0.018603\n",
            "[1053]\teval-mlogloss:0.013147\ttrain-mlogloss:0.018603\n",
            "[1054]\teval-mlogloss:0.01315\ttrain-mlogloss:0.018603\n",
            "[1055]\teval-mlogloss:0.013149\ttrain-mlogloss:0.018603\n",
            "[1056]\teval-mlogloss:0.013154\ttrain-mlogloss:0.018602\n",
            "[1057]\teval-mlogloss:0.013153\ttrain-mlogloss:0.018602\n",
            "[1058]\teval-mlogloss:0.013151\ttrain-mlogloss:0.018602\n",
            "[1059]\teval-mlogloss:0.01315\ttrain-mlogloss:0.018602\n",
            "[1060]\teval-mlogloss:0.013153\ttrain-mlogloss:0.018601\n",
            "[1061]\teval-mlogloss:0.013151\ttrain-mlogloss:0.018601\n",
            "[1062]\teval-mlogloss:0.013151\ttrain-mlogloss:0.018601\n",
            "[1063]\teval-mlogloss:0.013149\ttrain-mlogloss:0.018601\n",
            "[1064]\teval-mlogloss:0.013147\ttrain-mlogloss:0.0186\n",
            "[1065]\teval-mlogloss:0.013146\ttrain-mlogloss:0.0186\n",
            "[1066]\teval-mlogloss:0.01315\ttrain-mlogloss:0.0186\n",
            "[1067]\teval-mlogloss:0.013148\ttrain-mlogloss:0.0186\n",
            "[1068]\teval-mlogloss:0.013147\ttrain-mlogloss:0.018599\n",
            "[1069]\teval-mlogloss:0.01315\ttrain-mlogloss:0.018599\n",
            "[1070]\teval-mlogloss:0.013148\ttrain-mlogloss:0.018599\n",
            "[1071]\teval-mlogloss:0.013146\ttrain-mlogloss:0.018599\n",
            "[1072]\teval-mlogloss:0.013145\ttrain-mlogloss:0.018599\n",
            "[1073]\teval-mlogloss:0.013145\ttrain-mlogloss:0.018598\n",
            "[1074]\teval-mlogloss:0.013143\ttrain-mlogloss:0.018598\n",
            "[1075]\teval-mlogloss:0.013142\ttrain-mlogloss:0.018598\n",
            "[1076]\teval-mlogloss:0.013145\ttrain-mlogloss:0.018598\n",
            "[1077]\teval-mlogloss:0.013143\ttrain-mlogloss:0.018597\n",
            "[1078]\teval-mlogloss:0.013142\ttrain-mlogloss:0.018597\n",
            "[1079]\teval-mlogloss:0.013145\ttrain-mlogloss:0.018597\n",
            "[1080]\teval-mlogloss:0.013143\ttrain-mlogloss:0.018597\n",
            "[1081]\teval-mlogloss:0.013142\ttrain-mlogloss:0.018596\n",
            "[1082]\teval-mlogloss:0.013141\ttrain-mlogloss:0.018596\n",
            "[1083]\teval-mlogloss:0.013144\ttrain-mlogloss:0.018596\n",
            "[1084]\teval-mlogloss:0.013142\ttrain-mlogloss:0.018596\n",
            "[1085]\teval-mlogloss:0.013141\ttrain-mlogloss:0.018596\n",
            "[1086]\teval-mlogloss:0.01314\ttrain-mlogloss:0.018595\n",
            "[1087]\teval-mlogloss:0.013138\ttrain-mlogloss:0.018595\n",
            "[1088]\teval-mlogloss:0.013137\ttrain-mlogloss:0.018595\n"
          ],
          "name": "stdout"
        },
        {
          "output_type": "stream",
          "text": [
            "[1089]\teval-mlogloss:0.013142\ttrain-mlogloss:0.018595\n",
            "[1090]\teval-mlogloss:0.013141\ttrain-mlogloss:0.018594\n",
            "[1091]\teval-mlogloss:0.013144\ttrain-mlogloss:0.018594\n",
            "[1092]\teval-mlogloss:0.013142\ttrain-mlogloss:0.018594\n",
            "[1093]\teval-mlogloss:0.013141\ttrain-mlogloss:0.018594\n",
            "[1094]\teval-mlogloss:0.01314\ttrain-mlogloss:0.018594\n",
            "[1095]\teval-mlogloss:0.013143\ttrain-mlogloss:0.018593\n",
            "[1096]\teval-mlogloss:0.013141\ttrain-mlogloss:0.018593\n",
            "[1097]\teval-mlogloss:0.01314\ttrain-mlogloss:0.018593\n",
            "[1098]\teval-mlogloss:0.013139\ttrain-mlogloss:0.018593\n",
            "[1099]\teval-mlogloss:0.013138\ttrain-mlogloss:0.018593\n",
            "[1100]\teval-mlogloss:0.013137\ttrain-mlogloss:0.018592\n",
            "[1101]\teval-mlogloss:0.013136\ttrain-mlogloss:0.018592\n",
            "[1102]\teval-mlogloss:0.013138\ttrain-mlogloss:0.018592\n",
            "[1103]\teval-mlogloss:0.013137\ttrain-mlogloss:0.018592\n",
            "[1104]\teval-mlogloss:0.013135\ttrain-mlogloss:0.018591\n",
            "[1105]\teval-mlogloss:0.013139\ttrain-mlogloss:0.018591\n",
            "[1106]\teval-mlogloss:0.013137\ttrain-mlogloss:0.018591\n",
            "[1107]\teval-mlogloss:0.013136\ttrain-mlogloss:0.018591\n",
            "[1108]\teval-mlogloss:0.013135\ttrain-mlogloss:0.018591\n",
            "[1109]\teval-mlogloss:0.013135\ttrain-mlogloss:0.01859\n",
            "[1110]\teval-mlogloss:0.013133\ttrain-mlogloss:0.01859\n",
            "[1111]\teval-mlogloss:0.013132\ttrain-mlogloss:0.01859\n",
            "[1112]\teval-mlogloss:0.013135\ttrain-mlogloss:0.01859\n",
            "[1113]\teval-mlogloss:0.013133\ttrain-mlogloss:0.01859\n",
            "[1114]\teval-mlogloss:0.013132\ttrain-mlogloss:0.018589\n",
            "[1115]\teval-mlogloss:0.013131\ttrain-mlogloss:0.018589\n",
            "[1116]\teval-mlogloss:0.013134\ttrain-mlogloss:0.018589\n",
            "[1117]\teval-mlogloss:0.013133\ttrain-mlogloss:0.018589\n",
            "[1118]\teval-mlogloss:0.013132\ttrain-mlogloss:0.018589\n",
            "[1119]\teval-mlogloss:0.013137\ttrain-mlogloss:0.018588\n",
            "[1120]\teval-mlogloss:0.013135\ttrain-mlogloss:0.018588\n",
            "[1121]\teval-mlogloss:0.013135\ttrain-mlogloss:0.018588\n",
            "[1122]\teval-mlogloss:0.013134\ttrain-mlogloss:0.018588\n",
            "[1123]\teval-mlogloss:0.013132\ttrain-mlogloss:0.018588\n",
            "[1124]\teval-mlogloss:0.013135\ttrain-mlogloss:0.018587\n",
            "[1125]\teval-mlogloss:0.013133\ttrain-mlogloss:0.018587\n",
            "[1126]\teval-mlogloss:0.013132\ttrain-mlogloss:0.018587\n",
            "[1127]\teval-mlogloss:0.013131\ttrain-mlogloss:0.018587\n",
            "[1128]\teval-mlogloss:0.013134\ttrain-mlogloss:0.018587\n",
            "[1129]\teval-mlogloss:0.013132\ttrain-mlogloss:0.018586\n",
            "[1130]\teval-mlogloss:0.013131\ttrain-mlogloss:0.018586\n",
            "[1131]\teval-mlogloss:0.01313\ttrain-mlogloss:0.018586\n",
            "[1132]\teval-mlogloss:0.013133\ttrain-mlogloss:0.018586\n",
            "[1133]\teval-mlogloss:0.013131\ttrain-mlogloss:0.018586\n",
            "[1134]\teval-mlogloss:0.013131\ttrain-mlogloss:0.018586\n",
            "Stopping. Best iteration:\n",
            "[1129]\teval-mlogloss:0.013132\ttrain-mlogloss:0.018586\n",
            "\n"
          ],
          "name": "stdout"
        }
      ]
    },
    {
      "cell_type": "code",
      "metadata": {
        "id": "oi4JvJikQcgB",
        "colab_type": "code",
        "colab": {},
        "outputId": "9b7030ce-7d52-49bf-8b66-28a057a94625"
      },
      "source": [
        "print('Best Score:{0:.4f}, Iteration:{1:d}, Ntree_Limit:{2:d}'.format(\n",
        "    bst.best_score, bst.best_iteration, bst.best_ntree_limit))"
      ],
      "execution_count": null,
      "outputs": [
        {
          "output_type": "stream",
          "text": [
            "Best Score:0.0186, Iteration:1129, Ntree_Limit:1130\n"
          ],
          "name": "stdout"
        }
      ]
    },
    {
      "cell_type": "code",
      "metadata": {
        "id": "4BkyxbSzQcgE",
        "colab_type": "code",
        "colab": {}
      },
      "source": [
        "dtest = xgb.DMatrix(test_x,label = test_y)\n",
        "pred = ypred = bst.predict(dtest, ntree_limit = bst.best_ntree_limit)"
      ],
      "execution_count": null,
      "outputs": []
    },
    {
      "cell_type": "code",
      "metadata": {
        "id": "4Syedt4JQcgH",
        "colab_type": "code",
        "colab": {},
        "outputId": "26e79981-537d-4871-ba35-50b066524685"
      },
      "source": [
        "from sklearn.metrics import accuracy_score\n",
        "# accuracy_score(dtest, ypred)\n",
        "import numpy as np\n",
        "print('score:{0:.4f}'.format(accuracy_score(test_y,pred)))"
      ],
      "execution_count": null,
      "outputs": [
        {
          "output_type": "stream",
          "text": [
            "score:0.9000\n"
          ],
          "name": "stdout"
        }
      ]
    },
    {
      "cell_type": "code",
      "metadata": {
        "id": "gUAbJJiaQcgK",
        "colab_type": "code",
        "colab": {}
      },
      "source": [
        ""
      ],
      "execution_count": null,
      "outputs": []
    }
  ]
}