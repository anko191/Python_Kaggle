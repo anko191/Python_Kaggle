{
  "nbformat": 4,
  "nbformat_minor": 0,
  "metadata": {
    "colab": {
      "name": "pandas_basicInfo",
      "provenance": [],
      "collapsed_sections": [],
      "authorship_tag": "ABX9TyOCehlu+7WQqjRgbBruZ2yt",
      "include_colab_link": true
    },
    "kernelspec": {
      "name": "python3",
      "display_name": "Python 3"
    }
  },
  "cells": [
    {
      "cell_type": "markdown",
      "metadata": {
        "id": "view-in-github",
        "colab_type": "text"
      },
      "source": [
        "<a href=\"https://colab.research.google.com/github/anko191/Python_Kaggle/blob/master/pandas/pandas_basicInfo.ipynb\" target=\"_parent\"><img src=\"https://colab.research.google.com/assets/colab-badge.svg\" alt=\"Open In Colab\"/></a>"
      ]
    },
    {
      "cell_type": "code",
      "metadata": {
        "id": "sU7J9JNoDJfW",
        "colab_type": "code",
        "colab": {
          "base_uri": "https://localhost:8080/",
          "height": 34
        },
        "outputId": "e2ad013b-03d1-46c5-a22c-217cd3d68042"
      },
      "source": [
        "import pandas as pd\n",
        "print(pd.__version__)"
      ],
      "execution_count": null,
      "outputs": [
        {
          "output_type": "stream",
          "text": [
            "1.0.5\n"
          ],
          "name": "stdout"
        }
      ]
    },
    {
      "cell_type": "code",
      "metadata": {
        "id": "OuwrTxKLDMRg",
        "colab_type": "code",
        "colab": {
          "base_uri": "https://localhost:8080/",
          "height": 1000
        },
        "outputId": "89869f42-f182-4279-bc1c-9aceed4573ad"
      },
      "source": [
        "pd.show_versions()"
      ],
      "execution_count": null,
      "outputs": [
        {
          "output_type": "stream",
          "text": [
            "/usr/local/lib/python3.6/dist-packages/psycopg2/__init__.py:144: UserWarning: The psycopg2 wheel package will be renamed from release 2.8; in order to keep installing from binary please use \"pip install psycopg2-binary\" instead. For details see: <http://initd.org/psycopg/docs/install.html#binary-install-from-pypi>.\n",
            "  \"\"\")\n",
            "/usr/local/lib/python3.6/dist-packages/pandas_datareader/compat/__init__.py:7: FutureWarning: pandas.util.testing is deprecated. Use the functions in the public API at pandas.testing instead.\n",
            "  from pandas.util.testing import assert_frame_equal\n"
          ],
          "name": "stderr"
        },
        {
          "output_type": "stream",
          "text": [
            "\n",
            "INSTALLED VERSIONS\n",
            "------------------\n",
            "commit           : None\n",
            "python           : 3.6.9.final.0\n",
            "python-bits      : 64\n",
            "OS               : Linux\n",
            "OS-release       : 4.19.104+\n",
            "machine          : x86_64\n",
            "processor        : x86_64\n",
            "byteorder        : little\n",
            "LC_ALL           : None\n",
            "LANG             : en_US.UTF-8\n",
            "LOCALE           : en_US.UTF-8\n",
            "\n",
            "pandas           : 1.0.5\n",
            "numpy            : 1.18.5\n",
            "pytz             : 2018.9\n",
            "dateutil         : 2.8.1\n",
            "pip              : 19.3.1\n",
            "setuptools       : 49.1.0\n",
            "Cython           : 0.29.21\n",
            "pytest           : 3.6.4\n",
            "hypothesis       : None\n",
            "sphinx           : 1.8.5\n",
            "blosc            : None\n",
            "feather          : 0.4.1\n",
            "xlsxwriter       : None\n",
            "lxml.etree       : 4.2.6\n",
            "html5lib         : 1.0.1\n",
            "pymysql          : None\n",
            "psycopg2         : 2.7.6.1 (dt dec pq3 ext lo64)\n",
            "jinja2           : 2.11.2\n",
            "IPython          : 5.5.0\n",
            "pandas_datareader: 0.8.1\n",
            "bs4              : 4.6.3\n",
            "bottleneck       : 1.3.2\n",
            "fastparquet      : None\n",
            "gcsfs            : None\n",
            "lxml.etree       : 4.2.6\n",
            "matplotlib       : 3.2.2\n",
            "numexpr          : 2.7.1\n",
            "odfpy            : None\n",
            "openpyxl         : 2.5.9\n",
            "pandas_gbq       : 0.11.0\n",
            "pyarrow          : 0.14.1\n",
            "pytables         : None\n",
            "pytest           : 3.6.4\n",
            "pyxlsb           : None\n",
            "s3fs             : 0.4.2\n",
            "scipy            : 1.4.1\n",
            "sqlalchemy       : 1.3.18\n",
            "tables           : 3.4.4\n",
            "tabulate         : 0.8.7\n",
            "xarray           : 0.15.1\n",
            "xlrd             : 1.1.0\n",
            "xlwt             : 1.3.0\n",
            "xlsxwriter       : None\n",
            "numba            : 0.48.0\n"
          ],
          "name": "stdout"
        }
      ]
    },
    {
      "cell_type": "markdown",
      "metadata": {
        "id": "3Ml4PU5tDrPP",
        "colab_type": "text"
      },
      "source": [
        "# get numbers of rows, columns, contents(size)\n",
        "use titanic data"
      ]
    },
    {
      "cell_type": "code",
      "metadata": {
        "id": "WgG0kl7DDQR5",
        "colab_type": "code",
        "colab": {
          "base_uri": "https://localhost:8080/",
          "height": 153
        },
        "outputId": "e4f8db60-853e-4a3b-9f60-12327b5a87e6"
      },
      "source": [
        "import pandas as pd\n",
        "df = pd.read_csv('./train.csv')\n",
        "print(df.head())"
      ],
      "execution_count": null,
      "outputs": [
        {
          "output_type": "stream",
          "text": [
            "   PassengerId  Survived  Pclass  ...     Fare Cabin  Embarked\n",
            "0            1         0       3  ...   7.2500   NaN         S\n",
            "1            2         1       1  ...  71.2833   C85         C\n",
            "2            3         1       3  ...   7.9250   NaN         S\n",
            "3            4         1       1  ...  53.1000  C123         S\n",
            "4            5         0       3  ...   8.0500   NaN         S\n",
            "\n",
            "[5 rows x 12 columns]\n"
          ],
          "name": "stdout"
        }
      ]
    },
    {
      "cell_type": "code",
      "metadata": {
        "id": "LwZ2szpdEFec",
        "colab_type": "code",
        "colab": {
          "base_uri": "https://localhost:8080/",
          "height": 340
        },
        "outputId": "f62db499-fc71-48e6-b988-920725e53266"
      },
      "source": [
        "df.info()"
      ],
      "execution_count": null,
      "outputs": [
        {
          "output_type": "stream",
          "text": [
            "<class 'pandas.core.frame.DataFrame'>\n",
            "RangeIndex: 891 entries, 0 to 890\n",
            "Data columns (total 12 columns):\n",
            " #   Column       Non-Null Count  Dtype  \n",
            "---  ------       --------------  -----  \n",
            " 0   PassengerId  891 non-null    int64  \n",
            " 1   Survived     891 non-null    int64  \n",
            " 2   Pclass       891 non-null    int64  \n",
            " 3   Name         891 non-null    object \n",
            " 4   Sex          891 non-null    object \n",
            " 5   Age          714 non-null    float64\n",
            " 6   SibSp        891 non-null    int64  \n",
            " 7   Parch        891 non-null    int64  \n",
            " 8   Ticket       891 non-null    object \n",
            " 9   Fare         891 non-null    float64\n",
            " 10  Cabin        204 non-null    object \n",
            " 11  Embarked     889 non-null    object \n",
            "dtypes: float64(2), int64(5), object(5)\n",
            "memory usage: 83.7+ KB\n"
          ],
          "name": "stdout"
        }
      ]
    },
    {
      "cell_type": "markdown",
      "metadata": {
        "id": "wNDeiScpEWk6",
        "colab_type": "text"
      },
      "source": [
        "## reutrn rows numbers"
      ]
    },
    {
      "cell_type": "code",
      "metadata": {
        "id": "6q9q5STJEM0A",
        "colab_type": "code",
        "colab": {
          "base_uri": "https://localhost:8080/",
          "height": 34
        },
        "outputId": "b53e0975-9fa1-45a0-de09-07e135f3d35f"
      },
      "source": [
        "print(len(df))"
      ],
      "execution_count": null,
      "outputs": [
        {
          "output_type": "stream",
          "text": [
            "891\n"
          ],
          "name": "stdout"
        }
      ]
    },
    {
      "cell_type": "markdown",
      "metadata": {
        "id": "8sYZZUogEZNZ",
        "colab_type": "text"
      },
      "source": [
        "return columns "
      ]
    },
    {
      "cell_type": "code",
      "metadata": {
        "id": "P0Iq8WVRESop",
        "colab_type": "code",
        "colab": {
          "base_uri": "https://localhost:8080/",
          "height": 34
        },
        "outputId": "cf93b39e-cb04-4b18-e6f5-5ebe0a00d9b4"
      },
      "source": [
        "print(len(df.columns))"
      ],
      "execution_count": null,
      "outputs": [
        {
          "output_type": "stream",
          "text": [
            "12\n"
          ],
          "name": "stdout"
        }
      ]
    },
    {
      "cell_type": "code",
      "metadata": {
        "id": "V4BYZ6VrEc8A",
        "colab_type": "code",
        "colab": {
          "base_uri": "https://localhost:8080/",
          "height": 68
        },
        "outputId": "1e3deba3-615f-4b44-e5c7-6448b9b4bd93"
      },
      "source": [
        "print(df.shape)\n",
        "print(df.shape[0])\n",
        "print(df.shape[1])"
      ],
      "execution_count": null,
      "outputs": [
        {
          "output_type": "stream",
          "text": [
            "(891, 12)\n",
            "891\n",
            "12\n"
          ],
          "name": "stdout"
        }
      ]
    },
    {
      "cell_type": "code",
      "metadata": {
        "id": "e7OzqXpSEx0S",
        "colab_type": "code",
        "colab": {
          "base_uri": "https://localhost:8080/",
          "height": 51
        },
        "outputId": "70344c19-2b9b-484a-ce75-1fd5a5d37751"
      },
      "source": [
        "row, col = df.shape\n",
        "print(row)\n",
        "print(col)"
      ],
      "execution_count": null,
      "outputs": [
        {
          "output_type": "stream",
          "text": [
            "891\n",
            "12\n"
          ],
          "name": "stdout"
        }
      ]
    },
    {
      "cell_type": "markdown",
      "metadata": {
        "id": "Fq7Od9NdE3o1",
        "colab_type": "text"
      },
      "source": [
        "## get size"
      ]
    },
    {
      "cell_type": "code",
      "metadata": {
        "id": "Ko6tZexBE0DY",
        "colab_type": "code",
        "colab": {
          "base_uri": "https://localhost:8080/",
          "height": 51
        },
        "outputId": "4dd640c0-8e6b-48c0-a519-4db1da1a0f04"
      },
      "source": [
        "print(df.size)\n",
        "print(df.shape[0] * df.shape[1])"
      ],
      "execution_count": null,
      "outputs": [
        {
          "output_type": "stream",
          "text": [
            "10692\n",
            "10692\n"
          ],
          "name": "stdout"
        }
      ]
    },
    {
      "cell_type": "markdown",
      "metadata": {
        "id": "v1g2j9v5E8Gs",
        "colab_type": "text"
      },
      "source": [
        "### Attension set_index ...? the columns removed from data."
      ]
    },
    {
      "cell_type": "code",
      "metadata": {
        "id": "-HQBA6ZBE6zC",
        "colab_type": "code",
        "colab": {
          "base_uri": "https://localhost:8080/",
          "height": 85
        },
        "outputId": "35b33f36-3986-4aa6-93e9-07654bcf9c3f"
      },
      "source": [
        "df_multiindex = df.set_index(['Sex', 'Pclass', 'Embarked', 'PassengerId'])\n",
        "print(len(df_multiindex))\n",
        "print(len(df_multiindex.columns))\n",
        "print(df_multiindex.shape)\n",
        "print(df_multiindex.size)"
      ],
      "execution_count": null,
      "outputs": [
        {
          "output_type": "stream",
          "text": [
            "891\n",
            "8\n",
            "(891, 8)\n",
            "7128\n"
          ],
          "name": "stdout"
        }
      ]
    },
    {
      "cell_type": "markdown",
      "metadata": {
        "id": "AjLRBCp4FsKP",
        "colab_type": "text"
      },
      "source": [
        "## get size of pandas.Series' size"
      ]
    },
    {
      "cell_type": "code",
      "metadata": {
        "id": "94AoUmyVFUp7",
        "colab_type": "code",
        "colab": {
          "base_uri": "https://localhost:8080/",
          "height": 119
        },
        "outputId": "c988dafa-ec94-4a95-da7f-8c6a87eaee23"
      },
      "source": [
        "s = df['PassengerId']\n",
        "print(s.head())"
      ],
      "execution_count": null,
      "outputs": [
        {
          "output_type": "stream",
          "text": [
            "0    1\n",
            "1    2\n",
            "2    3\n",
            "3    4\n",
            "4    5\n",
            "Name: PassengerId, dtype: int64\n"
          ],
          "name": "stdout"
        }
      ]
    },
    {
      "cell_type": "code",
      "metadata": {
        "id": "1dn7YtT_Fxl5",
        "colab_type": "code",
        "colab": {
          "base_uri": "https://localhost:8080/",
          "height": 68
        },
        "outputId": "15ead89f-d895-475e-c1f6-c4faf0d381bb"
      },
      "source": [
        "print(len(s))\n",
        "print(s.size)\n",
        "print(s.shape)"
      ],
      "execution_count": null,
      "outputs": [
        {
          "output_type": "stream",
          "text": [
            "891\n",
            "891\n",
            "(891,)\n"
          ],
          "name": "stdout"
        }
      ]
    },
    {
      "cell_type": "markdown",
      "metadata": {
        "id": "gzMN9E3pGZEd",
        "colab_type": "text"
      },
      "source": [
        "# pandas data conversion by astype"
      ]
    },
    {
      "cell_type": "code",
      "metadata": {
        "id": "b8Nqb2IyF0uo",
        "colab_type": "code",
        "colab": {
          "base_uri": "https://localhost:8080/",
          "height": 34
        },
        "outputId": "20e81a31-7340-4798-857e-092592873213"
      },
      "source": [
        "import pandas as pd\n",
        "import numpy as np\n",
        "s = pd.Series([0,1,2], dtype = np.float64)\n",
        "print(s.dtype)"
      ],
      "execution_count": null,
      "outputs": [
        {
          "output_type": "stream",
          "text": [
            "float64\n"
          ],
          "name": "stdout"
        }
      ]
    },
    {
      "cell_type": "code",
      "metadata": {
        "id": "1NrpAO1xGtOQ",
        "colab_type": "code",
        "colab": {}
      },
      "source": [
        "s = pd.Series([0,1,2], dtype='f8')"
      ],
      "execution_count": null,
      "outputs": []
    },
    {
      "cell_type": "markdown",
      "metadata": {
        "id": "itajBOixHPPp",
        "colab_type": "text"
      },
      "source": [
        "### object type"
      ]
    },
    {
      "cell_type": "code",
      "metadata": {
        "id": "dzd9hDejGwzB",
        "colab_type": "code",
        "colab": {
          "base_uri": "https://localhost:8080/",
          "height": 156
        },
        "outputId": "45383215-0911-4a85-a0ef-f537e8a967fd"
      },
      "source": [
        "s_object = pd.Series([0, 0.1, 'abc', pd.np.nan]) # pd.np.nan = NaN\n",
        "print(s_object)"
      ],
      "execution_count": null,
      "outputs": [
        {
          "output_type": "stream",
          "text": [
            "0      0\n",
            "1    0.1\n",
            "2    abc\n",
            "3    NaN\n",
            "dtype: object\n"
          ],
          "name": "stdout"
        },
        {
          "output_type": "stream",
          "text": [
            "/usr/local/lib/python3.6/dist-packages/ipykernel_launcher.py:1: FutureWarning: The pandas.np module is deprecated and will be removed from pandas in a future version. Import numpy directly instead\n",
            "  \"\"\"Entry point for launching an IPython kernel.\n"
          ],
          "name": "stderr"
        }
      ]
    },
    {
      "cell_type": "markdown",
      "metadata": {
        "id": "_p_315W2HrVL",
        "colab_type": "text"
      },
      "source": [
        "#### use .map()"
      ]
    },
    {
      "cell_type": "code",
      "metadata": {
        "id": "tX8WmZpvHYH7",
        "colab_type": "code",
        "colab": {
          "base_uri": "https://localhost:8080/",
          "height": 102
        },
        "outputId": "ec1d6bb8-94dd-4514-970e-e766294f6797"
      },
      "source": [
        "print(s_object.map(type))"
      ],
      "execution_count": null,
      "outputs": [
        {
          "output_type": "stream",
          "text": [
            "0      <class 'int'>\n",
            "1    <class 'float'>\n",
            "2      <class 'str'>\n",
            "3    <class 'float'>\n",
            "dtype: object\n"
          ],
          "name": "stdout"
        }
      ]
    },
    {
      "cell_type": "code",
      "metadata": {
        "id": "CBqglWrXHlv3",
        "colab_type": "code",
        "colab": {
          "base_uri": "https://localhost:8080/",
          "height": 102
        },
        "outputId": "37bc50d1-7e28-44c8-e403-97dc895e9f09"
      },
      "source": [
        "s_str_astype = s_object.astype(str)\n",
        "print(s_str_astype)"
      ],
      "execution_count": null,
      "outputs": [
        {
          "output_type": "stream",
          "text": [
            "0      0\n",
            "1    0.1\n",
            "2    abc\n",
            "3    nan\n",
            "dtype: object\n"
          ],
          "name": "stdout"
        }
      ]
    },
    {
      "cell_type": "code",
      "metadata": {
        "id": "Djfnf_-FH0Go",
        "colab_type": "code",
        "colab": {
          "base_uri": "https://localhost:8080/",
          "height": 102
        },
        "outputId": "33eec43f-fead-474f-857f-1139af0560ff"
      },
      "source": [
        "print(s_str_astype.map(type))"
      ],
      "execution_count": null,
      "outputs": [
        {
          "output_type": "stream",
          "text": [
            "0    <class 'str'>\n",
            "1    <class 'str'>\n",
            "2    <class 'str'>\n",
            "3    <class 'str'>\n",
            "dtype: object\n"
          ],
          "name": "stdout"
        }
      ]
    },
    {
      "cell_type": "markdown",
      "metadata": {
        "id": "LTmBYaQQH_6O",
        "colab_type": "text"
      },
      "source": [
        "#### special type str.len()"
      ]
    },
    {
      "cell_type": "code",
      "metadata": {
        "id": "aSWsIYNnH1_o",
        "colab_type": "code",
        "colab": {
          "base_uri": "https://localhost:8080/",
          "height": 187
        },
        "outputId": "aeb6c287-8145-49d0-d8c4-ebc663864ea4"
      },
      "source": [
        "print(s_str_astype.str.len())\n",
        "print(s_object.str.len())"
      ],
      "execution_count": null,
      "outputs": [
        {
          "output_type": "stream",
          "text": [
            "0    1\n",
            "1    3\n",
            "2    3\n",
            "3    3\n",
            "dtype: int64\n",
            "0    NaN\n",
            "1    NaN\n",
            "2    3.0\n",
            "3    NaN\n",
            "dtype: float64\n"
          ],
          "name": "stdout"
        }
      ]
    },
    {
      "cell_type": "markdown",
      "metadata": {
        "id": "3OCfYunCIN3v",
        "colab_type": "text"
      },
      "source": [
        "### Occured NaN !! Convert to str"
      ]
    },
    {
      "cell_type": "code",
      "metadata": {
        "id": "brxuSIpBIJSf",
        "colab_type": "code",
        "colab": {
          "base_uri": "https://localhost:8080/",
          "height": 102
        },
        "outputId": "c7167fb2-dc60-4903-fb2b-307d84522f58"
      },
      "source": [
        "print(s_object.astype(str).str.len())"
      ],
      "execution_count": null,
      "outputs": [
        {
          "output_type": "stream",
          "text": [
            "0    1\n",
            "1    3\n",
            "2    3\n",
            "3    3\n",
            "dtype: int64\n"
          ],
          "name": "stdout"
        }
      ]
    },
    {
      "cell_type": "markdown",
      "metadata": {
        "id": "8LndiNbxIjX9",
        "colab_type": "text"
      },
      "source": [
        "### NaN ... can use isnull(), dropna()"
      ]
    },
    {
      "cell_type": "code",
      "metadata": {
        "id": "vxwKeM-KIU34",
        "colab_type": "code",
        "colab": {
          "base_uri": "https://localhost:8080/",
          "height": 170
        },
        "outputId": "5338afd2-db7c-4a68-c0b5-f88fd5bd4777"
      },
      "source": [
        "print(s_object.isnull())\n",
        "print(s_object.dropna())"
      ],
      "execution_count": null,
      "outputs": [
        {
          "output_type": "stream",
          "text": [
            "0    False\n",
            "1    False\n",
            "2    False\n",
            "3     True\n",
            "dtype: bool\n",
            "0      0\n",
            "1    0.1\n",
            "2    abc\n",
            "dtype: object\n"
          ],
          "name": "stdout"
        }
      ]
    },
    {
      "cell_type": "code",
      "metadata": {
        "id": "b1ijtlZkIq0g",
        "colab_type": "code",
        "colab": {
          "base_uri": "https://localhost:8080/",
          "height": 102
        },
        "outputId": "8afbf9f6-10ff-4021-d979-3df8c01c3b2d"
      },
      "source": [
        "print(s_str_astype)"
      ],
      "execution_count": null,
      "outputs": [
        {
          "output_type": "stream",
          "text": [
            "0      0\n",
            "1    0.1\n",
            "2    abc\n",
            "3    nan\n",
            "dtype: object\n"
          ],
          "name": "stdout"
        }
      ]
    },
    {
      "cell_type": "code",
      "metadata": {
        "id": "u7mWYhfsIup3",
        "colab_type": "code",
        "colab": {
          "base_uri": "https://localhost:8080/",
          "height": 102
        },
        "outputId": "557516f8-064e-4291-e702-0cc4466f53b4"
      },
      "source": [
        "print(s_str_astype.map(type))"
      ],
      "execution_count": null,
      "outputs": [
        {
          "output_type": "stream",
          "text": [
            "0    <class 'str'>\n",
            "1    <class 'str'>\n",
            "2    <class 'str'>\n",
            "3    <class 'str'>\n",
            "dtype: object\n"
          ],
          "name": "stdout"
        }
      ]
    },
    {
      "cell_type": "markdown",
      "metadata": {
        "id": "RzlPgfl7JZLh",
        "colab_type": "text"
      },
      "source": [
        "### Handling of missing values\n",
        "use replace?"
      ]
    },
    {
      "cell_type": "code",
      "metadata": {
        "id": "cKLTGzFyIwhH",
        "colab_type": "code",
        "colab": {
          "base_uri": "https://localhost:8080/",
          "height": 156
        },
        "outputId": "74172faf-981f-47ab-a79a-9cd6a2de4f11"
      },
      "source": [
        "s_str_astype_nan = s_str_astype.replace('nan',pd.np.nan)\n",
        "print(s_str_astype_nan)"
      ],
      "execution_count": null,
      "outputs": [
        {
          "output_type": "stream",
          "text": [
            "0      0\n",
            "1    0.1\n",
            "2    abc\n",
            "3    NaN\n",
            "dtype: object\n"
          ],
          "name": "stdout"
        },
        {
          "output_type": "stream",
          "text": [
            "/usr/local/lib/python3.6/dist-packages/ipykernel_launcher.py:1: FutureWarning: The pandas.np module is deprecated and will be removed from pandas in a future version. Import numpy directly instead\n",
            "  \"\"\"Entry point for launching an IPython kernel.\n"
          ],
          "name": "stderr"
        }
      ]
    },
    {
      "cell_type": "code",
      "metadata": {
        "id": "RMJ6anCIJ6dW",
        "colab_type": "code",
        "colab": {
          "base_uri": "https://localhost:8080/",
          "height": 102
        },
        "outputId": "f650f292-b268-4006-a9ae-c519a3fa0c08"
      },
      "source": [
        "print(s_str_astype_nan.map(type))"
      ],
      "execution_count": null,
      "outputs": [
        {
          "output_type": "stream",
          "text": [
            "0      <class 'str'>\n",
            "1      <class 'str'>\n",
            "2      <class 'str'>\n",
            "3    <class 'float'>\n",
            "dtype: object\n"
          ],
          "name": "stdout"
        }
      ]
    },
    {
      "cell_type": "code",
      "metadata": {
        "id": "OxmXyLv2KDEQ",
        "colab_type": "code",
        "colab": {
          "base_uri": "https://localhost:8080/",
          "height": 102
        },
        "outputId": "71bce7f7-2529-47aa-e7d9-c3fb0e5e0bb1"
      },
      "source": [
        "print(s_str_astype_nan.isnull())"
      ],
      "execution_count": null,
      "outputs": [
        {
          "output_type": "stream",
          "text": [
            "0    False\n",
            "1    False\n",
            "2    False\n",
            "3     True\n",
            "dtype: bool\n"
          ],
          "name": "stdout"
        }
      ]
    },
    {
      "cell_type": "code",
      "metadata": {
        "id": "vF7wi2nOKI5_",
        "colab_type": "code",
        "colab": {
          "base_uri": "https://localhost:8080/",
          "height": 85
        },
        "outputId": "362707e2-3b53-41da-d55d-d24f79bf9d95"
      },
      "source": [
        "import pandas as pd\n",
        "df = pd.read_csv('./sample_header.csv')\n",
        "print(df)"
      ],
      "execution_count": null,
      "outputs": [
        {
          "output_type": "stream",
          "text": [
            "    a   b   c   d\n",
            "0  11  12  13  14\n",
            "1  21  22  23  24\n",
            "2  31  32  33  34\n"
          ],
          "name": "stdout"
        }
      ]
    },
    {
      "cell_type": "code",
      "metadata": {
        "id": "giKsRQs_LkRy",
        "colab_type": "code",
        "colab": {
          "base_uri": "https://localhost:8080/",
          "height": 85
        },
        "outputId": "c5cfe933-3933-4e35-86b2-b5f4ef9a5022"
      },
      "source": [
        "s = df['c']\n",
        "print(s)"
      ],
      "execution_count": null,
      "outputs": [
        {
          "output_type": "stream",
          "text": [
            "0    13\n",
            "1    23\n",
            "2    33\n",
            "Name: c, dtype: int64\n"
          ],
          "name": "stdout"
        }
      ]
    },
    {
      "cell_type": "markdown",
      "metadata": {
        "id": "ZRF-LH3hLoWh",
        "colab_type": "text"
      },
      "source": [
        "### change dtype"
      ]
    },
    {
      "cell_type": "code",
      "metadata": {
        "id": "4JSluT1_Ll5C",
        "colab_type": "code",
        "colab": {
          "base_uri": "https://localhost:8080/",
          "height": 153
        },
        "outputId": "d577d48c-c1c7-4fa2-b401-9dcfde4b96f4"
      },
      "source": [
        "s_f = s.astype('float64')\n",
        "print(s_f)\n",
        "print(s)"
      ],
      "execution_count": null,
      "outputs": [
        {
          "output_type": "stream",
          "text": [
            "0    13.0\n",
            "1    23.0\n",
            "2    33.0\n",
            "Name: c, dtype: float64\n",
            "0    13\n",
            "1    23\n",
            "2    33\n",
            "Name: c, dtype: int64\n"
          ],
          "name": "stdout"
        }
      ]
    },
    {
      "cell_type": "code",
      "metadata": {
        "id": "LI3FHk45LsZQ",
        "colab_type": "code",
        "colab": {
          "base_uri": "https://localhost:8080/",
          "height": 34
        },
        "outputId": "67a34b11-c120-4ed6-99b4-262fad7f5237"
      },
      "source": [
        "s_f = s.astype('float')\n",
        "print(s_f.dtype)"
      ],
      "execution_count": null,
      "outputs": [
        {
          "output_type": "stream",
          "text": [
            "float64\n"
          ],
          "name": "stdout"
        }
      ]
    },
    {
      "cell_type": "code",
      "metadata": {
        "id": "_5Xn4fbSLvzw",
        "colab_type": "code",
        "colab": {
          "base_uri": "https://localhost:8080/",
          "height": 34
        },
        "outputId": "d86931c6-afc7-4c14-ba02-eb1657cddedb"
      },
      "source": [
        "s_f = s.astype(float)\n",
        "print(s_f.dtype)"
      ],
      "execution_count": null,
      "outputs": [
        {
          "output_type": "stream",
          "text": [
            "float64\n"
          ],
          "name": "stdout"
        }
      ]
    },
    {
      "cell_type": "code",
      "metadata": {
        "id": "YUwyB5NELyVe",
        "colab_type": "code",
        "colab": {
          "base_uri": "https://localhost:8080/",
          "height": 34
        },
        "outputId": "b0360d5a-2563-4e84-ae4e-0854c880e601"
      },
      "source": [
        "s_f = s.astype('f8')\n",
        "print(s_f.dtype)"
      ],
      "execution_count": null,
      "outputs": [
        {
          "output_type": "stream",
          "text": [
            "float64\n"
          ],
          "name": "stdout"
        }
      ]
    },
    {
      "cell_type": "code",
      "metadata": {
        "id": "Sfm8A18lL03n",
        "colab_type": "code",
        "colab": {
          "base_uri": "https://localhost:8080/",
          "height": 153
        },
        "outputId": "dcef75a8-dfc6-47f7-ffd7-6750f9e76b77"
      },
      "source": [
        "s_s = s.astype(str)\n",
        "print(s_s)\n",
        "print(s_s.map(type))"
      ],
      "execution_count": null,
      "outputs": [
        {
          "output_type": "stream",
          "text": [
            "0    13\n",
            "1    23\n",
            "2    33\n",
            "Name: c, dtype: object\n",
            "0    <class 'str'>\n",
            "1    <class 'str'>\n",
            "2    <class 'str'>\n",
            "Name: c, dtype: object\n"
          ],
          "name": "stdout"
        }
      ]
    },
    {
      "cell_type": "code",
      "metadata": {
        "id": "pxku5IZPME-m",
        "colab_type": "code",
        "colab": {
          "base_uri": "https://localhost:8080/",
          "height": 153
        },
        "outputId": "09d76d4c-0675-4f9a-deec-ef4d3d6c25be"
      },
      "source": [
        "s_o = s.astype('object')\n",
        "print(s_o)\n",
        "print(s_o.map(type))"
      ],
      "execution_count": null,
      "outputs": [
        {
          "output_type": "stream",
          "text": [
            "0    13\n",
            "1    23\n",
            "2    33\n",
            "Name: c, dtype: object\n",
            "0    <class 'int'>\n",
            "1    <class 'int'>\n",
            "2    <class 'int'>\n",
            "Name: c, dtype: object\n"
          ],
          "name": "stdout"
        }
      ]
    },
    {
      "cell_type": "markdown",
      "metadata": {
        "id": "Q0jGKq4jMaAE",
        "colab_type": "text"
      },
      "source": [
        "## change at once dtypes"
      ]
    },
    {
      "cell_type": "code",
      "metadata": {
        "id": "cxpQofKiMJ9X",
        "colab_type": "code",
        "colab": {
          "base_uri": "https://localhost:8080/",
          "height": 85
        },
        "outputId": "08b99dfb-da8b-49ee-b85d-aa188ac8648a"
      },
      "source": [
        "print(df)"
      ],
      "execution_count": null,
      "outputs": [
        {
          "output_type": "stream",
          "text": [
            "    a   b   c   d\n",
            "0  11  12  13  14\n",
            "1  21  22  23  24\n",
            "2  31  32  33  34\n"
          ],
          "name": "stdout"
        }
      ]
    },
    {
      "cell_type": "code",
      "metadata": {
        "id": "WQtSxPJPMgZO",
        "colab_type": "code",
        "colab": {
          "base_uri": "https://localhost:8080/",
          "height": 102
        },
        "outputId": "e3b7b31e-c720-4623-e00c-35d7d40edb63"
      },
      "source": [
        "print(df.dtypes)"
      ],
      "execution_count": null,
      "outputs": [
        {
          "output_type": "stream",
          "text": [
            "a    int64\n",
            "b    int64\n",
            "c    int64\n",
            "d    int64\n",
            "dtype: object\n"
          ],
          "name": "stdout"
        }
      ]
    },
    {
      "cell_type": "code",
      "metadata": {
        "id": "yFGTGHesMhVF",
        "colab_type": "code",
        "colab": {}
      },
      "source": [
        "df_f = df.astype('float64')"
      ],
      "execution_count": null,
      "outputs": []
    },
    {
      "cell_type": "code",
      "metadata": {
        "id": "Z-dQqZG6MpwN",
        "colab_type": "code",
        "colab": {
          "base_uri": "https://localhost:8080/",
          "height": 102
        },
        "outputId": "f9c2d17a-6840-4850-a243-f9d66bd8d40e"
      },
      "source": [
        "print(df_f.dtypes)"
      ],
      "execution_count": null,
      "outputs": [
        {
          "output_type": "stream",
          "text": [
            "a    float64\n",
            "b    float64\n",
            "c    float64\n",
            "d    float64\n",
            "dtype: object\n"
          ],
          "name": "stdout"
        }
      ]
    },
    {
      "cell_type": "markdown",
      "metadata": {
        "id": "a37t_aZbMzBN",
        "colab_type": "text"
      },
      "source": [
        "## change dtypes optional columns, indivisually"
      ]
    },
    {
      "cell_type": "code",
      "metadata": {
        "id": "WdM73tDmMt5V",
        "colab_type": "code",
        "colab": {
          "base_uri": "https://localhost:8080/",
          "height": 85
        },
        "outputId": "a69f6e3b-c7cd-47e9-a3b3-170eedcf00b4"
      },
      "source": [
        "df_fcol = df.astype({'a':float})\n",
        "print(df_fcol)"
      ],
      "execution_count": null,
      "outputs": [
        {
          "output_type": "stream",
          "text": [
            "      a   b   c   d\n",
            "0  11.0  12  13  14\n",
            "1  21.0  22  23  24\n",
            "2  31.0  32  33  34\n"
          ],
          "name": "stdout"
        }
      ]
    },
    {
      "cell_type": "code",
      "metadata": {
        "id": "_A2I-ZdLM9Cm",
        "colab_type": "code",
        "colab": {
          "base_uri": "https://localhost:8080/",
          "height": 85
        },
        "outputId": "7272f869-5ff7-4022-e19e-e37c8bfa7302"
      },
      "source": [
        "df_fcol2 = df.astype({'a': 'float32', 'c':'int8'})\n",
        "print(df_fcol2)"
      ],
      "execution_count": null,
      "outputs": [
        {
          "output_type": "stream",
          "text": [
            "      a   b   c   d\n",
            "0  11.0  12  13  14\n",
            "1  21.0  22  23  24\n",
            "2  31.0  32  33  34\n"
          ],
          "name": "stdout"
        }
      ]
    },
    {
      "cell_type": "code",
      "metadata": {
        "id": "fZgb2YA2NE2W",
        "colab_type": "code",
        "colab": {
          "base_uri": "https://localhost:8080/",
          "height": 102
        },
        "outputId": "810ea403-640f-4614-bea9-1e6819bbe2be"
      },
      "source": [
        "print(df_fcol2.dtypes)"
      ],
      "execution_count": null,
      "outputs": [
        {
          "output_type": "stream",
          "text": [
            "a    float32\n",
            "b      int64\n",
            "c       int8\n",
            "d      int64\n",
            "dtype: object\n"
          ],
          "name": "stdout"
        }
      ]
    },
    {
      "cell_type": "markdown",
      "metadata": {
        "id": "H2o3n_pbNbim",
        "colab_type": "text"
      },
      "source": [
        "### read_csv"
      ]
    },
    {
      "cell_type": "code",
      "metadata": {
        "id": "_ha4FQmTNMRe",
        "colab_type": "code",
        "colab": {
          "base_uri": "https://localhost:8080/",
          "height": 85
        },
        "outputId": "800bc26e-8bdf-469e-ab6c-78e28063649c"
      },
      "source": [
        "import pandas as pd\n",
        "df = pd.read_csv('./sample_header_index_dtype.csv', index_col=0)\n",
        "print(df)"
      ],
      "execution_count": null,
      "outputs": [
        {
          "output_type": "stream",
          "text": [
            "       a    b      c  d\n",
            "ONE    1    1  100.0  x\n",
            "TWO    2   20    NaN  y\n",
            "THREE  3  300  300.0  z\n"
          ],
          "name": "stdout"
        }
      ]
    },
    {
      "cell_type": "code",
      "metadata": {
        "id": "nkbVBwDxOMZz",
        "colab_type": "code",
        "colab": {
          "base_uri": "https://localhost:8080/",
          "height": 170
        },
        "outputId": "da126252-06bb-41ae-a466-f6e1f0cd9228"
      },
      "source": [
        "print(df.dtypes)\n",
        "print(df.applymap(type))"
      ],
      "execution_count": null,
      "outputs": [
        {
          "output_type": "stream",
          "text": [
            "a      int64\n",
            "b      int64\n",
            "c    float64\n",
            "d     object\n",
            "dtype: object\n",
            "                   a              b                c              d\n",
            "ONE    <class 'int'>  <class 'int'>  <class 'float'>  <class 'str'>\n",
            "TWO    <class 'int'>  <class 'int'>  <class 'float'>  <class 'str'>\n",
            "THREE  <class 'int'>  <class 'int'>  <class 'float'>  <class 'str'>\n"
          ],
          "name": "stdout"
        }
      ]
    },
    {
      "cell_type": "code",
      "metadata": {
        "id": "TQHWEEseOca7",
        "colab_type": "code",
        "colab": {
          "base_uri": "https://localhost:8080/",
          "height": 85
        },
        "outputId": "6b44a6ac-9835-48a8-9582-a79a0d0fadaf"
      },
      "source": [
        "df_str = pd.read_csv('./sample_header_index_dtype.csv',index_col=0, dtype = str)\n",
        "print(df_str)"
      ],
      "execution_count": null,
      "outputs": [
        {
          "output_type": "stream",
          "text": [
            "       a    b    c  d\n",
            "ONE    1  001  100  x\n",
            "TWO    2  020  NaN  y\n",
            "THREE  3  300  300  z\n"
          ],
          "name": "stdout"
        }
      ]
    },
    {
      "cell_type": "code",
      "metadata": {
        "id": "wc-2DgKMOpjG",
        "colab_type": "code",
        "colab": {
          "base_uri": "https://localhost:8080/",
          "height": 102
        },
        "outputId": "ab3a9aff-bd18-4af6-d7c9-478a2cf8795a"
      },
      "source": [
        "print(df_str.dtypes)"
      ],
      "execution_count": null,
      "outputs": [
        {
          "output_type": "stream",
          "text": [
            "a    object\n",
            "b    object\n",
            "c    object\n",
            "d    object\n",
            "dtype: object\n"
          ],
          "name": "stdout"
        }
      ]
    },
    {
      "cell_type": "code",
      "metadata": {
        "id": "whs-CKlxOxz-",
        "colab_type": "code",
        "colab": {
          "base_uri": "https://localhost:8080/",
          "height": 85
        },
        "outputId": "64d28496-a50a-4efc-878d-46696dd24885"
      },
      "source": [
        "print(df_str.applymap(type)) # NaN -> float"
      ],
      "execution_count": null,
      "outputs": [
        {
          "output_type": "stream",
          "text": [
            "                   a              b                c              d\n",
            "ONE    <class 'str'>  <class 'str'>    <class 'str'>  <class 'str'>\n",
            "TWO    <class 'str'>  <class 'str'>  <class 'float'>  <class 'str'>\n",
            "THREE  <class 'str'>  <class 'str'>    <class 'str'>  <class 'str'>\n"
          ],
          "name": "stdout"
        }
      ]
    },
    {
      "cell_type": "markdown",
      "metadata": {
        "id": "gOAeh3j4PQze",
        "colab_type": "text"
      },
      "source": [
        "## astype(str) , NaN -> 'nan'"
      ]
    },
    {
      "cell_type": "code",
      "metadata": {
        "id": "4nkjsGINO0hK",
        "colab_type": "code",
        "colab": {
          "base_uri": "https://localhost:8080/",
          "height": 85
        },
        "outputId": "024be223-859d-4b98-bf2c-e3c6f884c779"
      },
      "source": [
        "print(df.astype(str).applymap(type))"
      ],
      "execution_count": null,
      "outputs": [
        {
          "output_type": "stream",
          "text": [
            "                   a              b              c              d\n",
            "ONE    <class 'str'>  <class 'str'>  <class 'str'>  <class 'str'>\n",
            "TWO    <class 'str'>  <class 'str'>  <class 'str'>  <class 'str'>\n",
            "THREE  <class 'str'>  <class 'str'>  <class 'str'>  <class 'str'>\n"
          ],
          "name": "stdout"
        }
      ]
    },
    {
      "cell_type": "markdown",
      "metadata": {
        "id": "DutiSJfePfRv",
        "colab_type": "text"
      },
      "source": [
        "### each columns..."
      ]
    },
    {
      "cell_type": "code",
      "metadata": {
        "id": "LnXNBtAnPVqg",
        "colab_type": "code",
        "colab": {
          "base_uri": "https://localhost:8080/",
          "height": 85
        },
        "outputId": "de6f3a3e-480c-4fb7-f986-9c69412f9f8c"
      },
      "source": [
        "df_col = pd.read_csv('./sample_header_index_dtype.csv', index_col = 0, dtype={'a':float, 'b':str})\n",
        "print(df_col)"
      ],
      "execution_count": null,
      "outputs": [
        {
          "output_type": "stream",
          "text": [
            "         a    b      c  d\n",
            "ONE    1.0  001  100.0  x\n",
            "TWO    2.0  020    NaN  y\n",
            "THREE  3.0  300  300.0  z\n"
          ],
          "name": "stdout"
        }
      ]
    },
    {
      "cell_type": "code",
      "metadata": {
        "id": "G0b722oDPoll",
        "colab_type": "code",
        "colab": {
          "base_uri": "https://localhost:8080/",
          "height": 102
        },
        "outputId": "8497e6af-802e-420f-d457-af7d87ce9645"
      },
      "source": [
        "print(df_col.dtypes)"
      ],
      "execution_count": null,
      "outputs": [
        {
          "output_type": "stream",
          "text": [
            "a    float64\n",
            "b     object\n",
            "c    float64\n",
            "d     object\n",
            "dtype: object\n"
          ],
          "name": "stdout"
        }
      ]
    },
    {
      "cell_type": "code",
      "metadata": {
        "id": "mui-G1zUP9nr",
        "colab_type": "code",
        "colab": {
          "base_uri": "https://localhost:8080/",
          "height": 85
        },
        "outputId": "b82973db-282b-497e-dd42-7b7d7fc4e151"
      },
      "source": [
        "df_mix = pd.DataFrame({'col_int':[0,1,2], 'col_float':[0.1, 0.2, 0.3]}, index = ['A','B','C'])\n",
        "print(df_mix)"
      ],
      "execution_count": null,
      "outputs": [
        {
          "output_type": "stream",
          "text": [
            "   col_int  col_float\n",
            "A        0        0.1\n",
            "B        1        0.2\n",
            "C        2        0.3\n"
          ],
          "name": "stdout"
        }
      ]
    },
    {
      "cell_type": "code",
      "metadata": {
        "id": "ysp4ShwSQyVg",
        "colab_type": "code",
        "colab": {
          "base_uri": "https://localhost:8080/",
          "height": 68
        },
        "outputId": "3c02ac0e-21bd-48e5-e8a9-444bffa4b763"
      },
      "source": [
        "print(df_mix.dtypes)"
      ],
      "execution_count": null,
      "outputs": [
        {
          "output_type": "stream",
          "text": [
            "col_int        int64\n",
            "col_float    float64\n",
            "dtype: object\n"
          ],
          "name": "stdout"
        }
      ]
    },
    {
      "cell_type": "markdown",
      "metadata": {
        "id": "IPEo2ZaaQ8pZ",
        "colab_type": "text"
      },
      "source": [
        "### + operation is equal to float"
      ]
    },
    {
      "cell_type": "code",
      "metadata": {
        "id": "ovq6ynF2Q6J9",
        "colab_type": "code",
        "colab": {
          "base_uri": "https://localhost:8080/",
          "height": 85
        },
        "outputId": "bc71a0f9-b2c2-4461-e9ca-61e6f12d0767"
      },
      "source": [
        "print(df_mix['col_int'] + df_mix['col_float'])"
      ],
      "execution_count": null,
      "outputs": [
        {
          "output_type": "stream",
          "text": [
            "A    0.1\n",
            "B    1.2\n",
            "C    2.3\n",
            "dtype: float64\n"
          ],
          "name": "stdout"
        }
      ]
    },
    {
      "cell_type": "markdown",
      "metadata": {
        "id": "FisxPwYgRjOZ",
        "colab_type": "text"
      },
      "source": [
        "### implicit conversion"
      ]
    },
    {
      "cell_type": "code",
      "metadata": {
        "id": "pB7532FCRM2G",
        "colab_type": "code",
        "colab": {
          "base_uri": "https://localhost:8080/",
          "height": 136
        },
        "outputId": "11699c29-b85c-4bda-92f9-2737a4e4d1db"
      },
      "source": [
        "print(df_mix / 1)\n",
        "print((df_mix / 1).dtypes)"
      ],
      "execution_count": null,
      "outputs": [
        {
          "output_type": "stream",
          "text": [
            "   col_int  col_float\n",
            "A      0.0        0.1\n",
            "B      1.0        0.2\n",
            "C      2.0        0.3\n",
            "col_int      float64\n",
            "col_float    float64\n",
            "dtype: object\n"
          ],
          "name": "stdout"
        }
      ]
    },
    {
      "cell_type": "code",
      "metadata": {
        "id": "Y8cJXIVaRsvM",
        "colab_type": "code",
        "colab": {
          "base_uri": "https://localhost:8080/",
          "height": 255
        },
        "outputId": "ed3303cc-5863-44e4-9ff3-c14d4fc9cd3e"
      },
      "source": [
        "print(df_mix * 1)\n",
        "print((df_mix * 1).dtypes)\n",
        "print(df_mix * 1.0)\n",
        "print((df_mix * 1.0).dtypes)"
      ],
      "execution_count": null,
      "outputs": [
        {
          "output_type": "stream",
          "text": [
            "   col_int  col_float\n",
            "A        0        0.1\n",
            "B        1        0.2\n",
            "C        2        0.3\n",
            "col_int        int64\n",
            "col_float    float64\n",
            "dtype: object\n",
            "   col_int  col_float\n",
            "A      0.0        0.1\n",
            "B      1.0        0.2\n",
            "C      2.0        0.3\n",
            "col_int      float64\n",
            "col_float    float64\n",
            "dtype: object\n"
          ],
          "name": "stdout"
        }
      ]
    },
    {
      "cell_type": "markdown",
      "metadata": {
        "id": "hspg5gDxR46s",
        "colab_type": "text"
      },
      "source": [
        "## loc, iloc, transpose()"
      ]
    },
    {
      "cell_type": "code",
      "metadata": {
        "id": "OZcjgWnFRz4D",
        "colab_type": "code",
        "colab": {
          "base_uri": "https://localhost:8080/",
          "height": 187
        },
        "outputId": "63cbd290-2fcd-4d3a-f0d9-0c6847f9275c"
      },
      "source": [
        "print(df_mix.loc['A'])\n",
        "print(df_mix.T)\n",
        "print(df_mix.T.dtypes)"
      ],
      "execution_count": null,
      "outputs": [
        {
          "output_type": "stream",
          "text": [
            "col_int      0.0\n",
            "col_float    0.1\n",
            "Name: A, dtype: float64\n",
            "             A    B    C\n",
            "col_int    0.0  1.0  2.0\n",
            "col_float  0.1  0.2  0.3\n",
            "A    float64\n",
            "B    float64\n",
            "C    float64\n",
            "dtype: object\n"
          ],
          "name": "stdout"
        }
      ]
    },
    {
      "cell_type": "markdown",
      "metadata": {
        "id": "2i6JcgdnSEyw",
        "colab_type": "text"
      },
      "source": [
        "### .at[]"
      ]
    },
    {
      "cell_type": "code",
      "metadata": {
        "id": "9kGDQ2HsSAct",
        "colab_type": "code",
        "colab": {
          "base_uri": "https://localhost:8080/",
          "height": 136
        },
        "outputId": "830ed056-f488-4e5d-cdf2-d36f0a6fed8f"
      },
      "source": [
        "df_mix.at['A', 'col_int'] = 10.9\n",
        "df_mix.at['A', 'col_float'] = 10\n",
        "print(df_mix)\n",
        "print(df_mix.dtypes) ## data not convert on original [int, float] only !! str doesnt mean!"
      ],
      "execution_count": null,
      "outputs": [
        {
          "output_type": "stream",
          "text": [
            "   col_int  col_float\n",
            "A       10       10.0\n",
            "B        1        0.2\n",
            "C        2        0.3\n",
            "col_int        int64\n",
            "col_float    float64\n",
            "dtype: object\n"
          ],
          "name": "stdout"
        }
      ]
    },
    {
      "cell_type": "markdown",
      "metadata": {
        "id": "5N_rTZGVS2hC",
        "colab_type": "text"
      },
      "source": [
        "# head and tale"
      ]
    },
    {
      "cell_type": "markdown",
      "metadata": {
        "id": "o9SgvyS5TMBc",
        "colab_type": "text"
      },
      "source": [
        "## use 'iris' set"
      ]
    },
    {
      "cell_type": "code",
      "metadata": {
        "id": "S9RpGdlaSaCH",
        "colab_type": "code",
        "colab": {
          "base_uri": "https://localhost:8080/",
          "height": 34
        },
        "outputId": "063e466d-7ee3-48d0-a664-e46de388ae23"
      },
      "source": [
        "import pandas as pd\n",
        "import seaborn as sns\n",
        "df = sns.load_dataset(\"iris\")\n",
        "print(df.shape)"
      ],
      "execution_count": null,
      "outputs": [
        {
          "output_type": "stream",
          "text": [
            "(150, 5)\n"
          ],
          "name": "stdout"
        }
      ]
    },
    {
      "cell_type": "markdown",
      "metadata": {
        "id": "5_OpKLjpTkaz",
        "colab_type": "text"
      },
      "source": [
        "### head()"
      ]
    },
    {
      "cell_type": "code",
      "metadata": {
        "id": "db-f7TXZThJ2",
        "colab_type": "code",
        "colab": {
          "base_uri": "https://localhost:8080/",
          "height": 119
        },
        "outputId": "487bb8d5-635f-4a5b-bd61-ce79b67eb804"
      },
      "source": [
        "print(df.head())"
      ],
      "execution_count": null,
      "outputs": [
        {
          "output_type": "stream",
          "text": [
            "   sepal_length  sepal_width  petal_length  petal_width species\n",
            "0           5.1          3.5           1.4          0.2  setosa\n",
            "1           4.9          3.0           1.4          0.2  setosa\n",
            "2           4.7          3.2           1.3          0.2  setosa\n",
            "3           4.6          3.1           1.5          0.2  setosa\n",
            "4           5.0          3.6           1.4          0.2  setosa\n"
          ],
          "name": "stdout"
        }
      ]
    },
    {
      "cell_type": "code",
      "metadata": {
        "id": "UHEq52bZTmkT",
        "colab_type": "code",
        "colab": {
          "base_uri": "https://localhost:8080/",
          "height": 119
        },
        "outputId": "0bbe83f9-e41a-49cd-c5c4-ac89e37d063f"
      },
      "source": [
        "print(df.tail())"
      ],
      "execution_count": null,
      "outputs": [
        {
          "output_type": "stream",
          "text": [
            "     sepal_length  sepal_width  petal_length  petal_width    species\n",
            "145           6.7          3.0           5.2          2.3  virginica\n",
            "146           6.3          2.5           5.0          1.9  virginica\n",
            "147           6.5          3.0           5.2          2.0  virginica\n",
            "148           6.2          3.4           5.4          2.3  virginica\n",
            "149           5.9          3.0           5.1          1.8  virginica\n"
          ],
          "name": "stdout"
        }
      ]
    },
    {
      "cell_type": "code",
      "metadata": {
        "id": "EmbwE6OETpQ9",
        "colab_type": "code",
        "colab": {
          "base_uri": "https://localhost:8080/",
          "height": 119
        },
        "outputId": "a7aa6d3c-7a43-46a1-df4e-477a9e7adfbe"
      },
      "source": [
        "print(df[50:55])"
      ],
      "execution_count": null,
      "outputs": [
        {
          "output_type": "stream",
          "text": [
            "    sepal_length  sepal_width  petal_length  petal_width     species\n",
            "50           7.0          3.2           4.7          1.4  versicolor\n",
            "51           6.4          3.2           4.5          1.5  versicolor\n",
            "52           6.9          3.1           4.9          1.5  versicolor\n",
            "53           5.5          2.3           4.0          1.3  versicolor\n",
            "54           6.5          2.8           4.6          1.5  versicolor\n"
          ],
          "name": "stdout"
        }
      ]
    },
    {
      "cell_type": "code",
      "metadata": {
        "id": "ZB-rqBHATrb9",
        "colab_type": "code",
        "colab": {
          "base_uri": "https://localhost:8080/",
          "height": 68
        },
        "outputId": "b3035c6f-f94a-427a-b011-e67fc001fe8a"
      },
      "source": [
        "print(df.head(1))\n",
        "print(type(df.head(1)))"
      ],
      "execution_count": null,
      "outputs": [
        {
          "output_type": "stream",
          "text": [
            "   sepal_length  sepal_width  petal_length  petal_width species\n",
            "0           5.1          3.5           1.4          0.2  setosa\n",
            "<class 'pandas.core.frame.DataFrame'>\n"
          ],
          "name": "stdout"
        }
      ]
    },
    {
      "cell_type": "markdown",
      "metadata": {
        "id": "ktQBzQ41T__X",
        "colab_type": "text"
      },
      "source": [
        "### using iloc.. get in pandas.Series"
      ]
    },
    {
      "cell_type": "code",
      "metadata": {
        "id": "wWV5J1oKT6Bl",
        "colab_type": "code",
        "colab": {
          "base_uri": "https://localhost:8080/",
          "height": 153
        },
        "outputId": "248e9011-9257-4708-9326-280aabee48eb"
      },
      "source": [
        "print(df.iloc[0])\n",
        "print(type(df.iloc[0]))\n",
        "print(df.iloc[0]['sepal_length'])"
      ],
      "execution_count": null,
      "outputs": [
        {
          "output_type": "stream",
          "text": [
            "sepal_length       5.1\n",
            "sepal_width        3.5\n",
            "petal_length       1.4\n",
            "petal_width        0.2\n",
            "species         setosa\n",
            "Name: 0, dtype: object\n",
            "<class 'pandas.core.series.Series'>\n",
            "5.1\n"
          ],
          "name": "stdout"
        }
      ]
    },
    {
      "cell_type": "code",
      "metadata": {
        "id": "6kjPKbWBUTUP",
        "colab_type": "code",
        "colab": {
          "base_uri": "https://localhost:8080/",
          "height": 153
        },
        "outputId": "11d568ec-5637-4f2e-a3d4-93ce4b34a6b4"
      },
      "source": [
        "print(df.iloc[-1])\n",
        "print(type(df.iloc[-1]))\n",
        "print(df.iloc[-1]['sepal_length'])"
      ],
      "execution_count": null,
      "outputs": [
        {
          "output_type": "stream",
          "text": [
            "sepal_length          5.9\n",
            "sepal_width             3\n",
            "petal_length          5.1\n",
            "petal_width           1.8\n",
            "species         virginica\n",
            "Name: 149, dtype: object\n",
            "<class 'pandas.core.series.Series'>\n",
            "5.9\n"
          ],
          "name": "stdout"
        }
      ]
    },
    {
      "cell_type": "markdown",
      "metadata": {
        "id": "f5DoUcEoUrcZ",
        "colab_type": "text"
      },
      "source": [
        "### change set..."
      ]
    },
    {
      "cell_type": "code",
      "metadata": {
        "id": "iolPIJYKUc_8",
        "colab_type": "code",
        "colab": {
          "base_uri": "https://localhost:8080/",
          "height": 34
        },
        "outputId": "267ccbb3-9073-49c6-8733-e35f36f9e0c5"
      },
      "source": [
        "import pandas as pd\n",
        "import numpy as np\n",
        "print(pd.__version__)"
      ],
      "execution_count": null,
      "outputs": [
        {
          "output_type": "stream",
          "text": [
            "1.0.5\n"
          ],
          "name": "stdout"
        }
      ]
    },
    {
      "cell_type": "markdown",
      "metadata": {
        "id": "kumAF2u2U0QF",
        "colab_type": "text"
      },
      "source": [
        "### number of decimal places"
      ]
    },
    {
      "cell_type": "code",
      "metadata": {
        "id": "STIGn7QuUyNs",
        "colab_type": "code",
        "colab": {
          "base_uri": "https://localhost:8080/",
          "height": 34
        },
        "outputId": "79771e72-5989-4671-c29d-de966c076aad"
      },
      "source": [
        "print(pd.options.display.precision) # default 6"
      ],
      "execution_count": null,
      "outputs": [
        {
          "output_type": "stream",
          "text": [
            "6\n"
          ],
          "name": "stdout"
        }
      ]
    },
    {
      "cell_type": "code",
      "metadata": {
        "id": "EXkHLInMU8Hs",
        "colab_type": "code",
        "colab": {
          "base_uri": "https://localhost:8080/",
          "height": 136
        },
        "outputId": "ca722398-d16c-4d5c-879f-27b04e05aefe"
      },
      "source": [
        "s_decimal = pd.Series([123.456, 12.3456, 1.23456, 0.123456, 0.0123456, 0.00123456])\n",
        "print(s_decimal)"
      ],
      "execution_count": null,
      "outputs": [
        {
          "output_type": "stream",
          "text": [
            "0    123.456000\n",
            "1     12.345600\n",
            "2      1.234560\n",
            "3      0.123456\n",
            "4      0.012346\n",
            "5      0.001235\n",
            "dtype: float64\n"
          ],
          "name": "stdout"
        }
      ]
    },
    {
      "cell_type": "code",
      "metadata": {
        "id": "mezucZNCV0mF",
        "colab_type": "code",
        "colab": {
          "base_uri": "https://localhost:8080/",
          "height": 34
        },
        "outputId": "7093a71d-d1dd-4810-98c7-555eadbf69e6"
      },
      "source": [
        "print(s_decimal[5])"
      ],
      "execution_count": null,
      "outputs": [
        {
          "output_type": "stream",
          "text": [
            "0.00123456\n"
          ],
          "name": "stdout"
        }
      ]
    },
    {
      "cell_type": "code",
      "metadata": {
        "id": "Y8xobw5PV2ft",
        "colab_type": "code",
        "colab": {
          "base_uri": "https://localhost:8080/",
          "height": 136
        },
        "outputId": "fc47f452-3d34-428f-d177-2b60dc2b2b0c"
      },
      "source": [
        "pd.options.display.precision = 4\n",
        "print(s_decimal)"
      ],
      "execution_count": null,
      "outputs": [
        {
          "output_type": "stream",
          "text": [
            "0    123.4560\n",
            "1     12.3456\n",
            "2      1.2346\n",
            "3      0.1235\n",
            "4      0.0123\n",
            "5      0.0012\n",
            "dtype: float64\n"
          ],
          "name": "stdout"
        }
      ]
    },
    {
      "cell_type": "code",
      "metadata": {
        "id": "RLAW8JGwV7ZN",
        "colab_type": "code",
        "colab": {
          "base_uri": "https://localhost:8080/",
          "height": 136
        },
        "outputId": "f47b0a20-9b4d-4117-efb3-a1deee67ce1f"
      },
      "source": [
        "pd.options.display.precision = 2\n",
        "print(s_decimal)"
      ],
      "execution_count": null,
      "outputs": [
        {
          "output_type": "stream",
          "text": [
            "0    1.23e+02\n",
            "1    1.23e+01\n",
            "2    1.23e+00\n",
            "3    1.23e-01\n",
            "4    1.23e-02\n",
            "5    1.23e-03\n",
            "dtype: float64\n"
          ],
          "name": "stdout"
        }
      ]
    },
    {
      "cell_type": "markdown",
      "metadata": {
        "id": "qqaBvq80WQfm",
        "colab_type": "text"
      },
      "source": [
        "# set significant digits -> display.float_format"
      ]
    },
    {
      "cell_type": "code",
      "metadata": {
        "id": "Kh1RVZq7V-On",
        "colab_type": "code",
        "colab": {
          "base_uri": "https://localhost:8080/",
          "height": 34
        },
        "outputId": "e31a2f3a-695c-43b2-d2ef-4daeca006816"
      },
      "source": [
        "print(pd.options.display.float_format)"
      ],
      "execution_count": null,
      "outputs": [
        {
          "output_type": "stream",
          "text": [
            "None\n"
          ],
          "name": "stdout"
        }
      ]
    },
    {
      "cell_type": "markdown",
      "metadata": {
        "id": "gvSuZBDbWsUX",
        "colab_type": "text"
      },
      "source": [
        "write '.[??]f'"
      ]
    },
    {
      "cell_type": "code",
      "metadata": {
        "id": "aUP07zMgWX0b",
        "colab_type": "code",
        "colab": {}
      },
      "source": [
        "pd.options.display.float_format = '{:.2f}'.format"
      ],
      "execution_count": null,
      "outputs": []
    },
    {
      "cell_type": "code",
      "metadata": {
        "id": "OcrIxh-dW5bc",
        "colab_type": "code",
        "colab": {
          "base_uri": "https://localhost:8080/",
          "height": 136
        },
        "outputId": "809957a9-11d9-4946-b30e-9fbf51aff5ec"
      },
      "source": [
        "print(s_decimal)"
      ],
      "execution_count": null,
      "outputs": [
        {
          "output_type": "stream",
          "text": [
            "0   123.46\n",
            "1    12.35\n",
            "2     1.23\n",
            "3     0.12\n",
            "4     0.01\n",
            "5     0.00\n",
            "dtype: float64\n"
          ],
          "name": "stdout"
        }
      ]
    },
    {
      "cell_type": "markdown",
      "metadata": {
        "id": "dciUK2EUXArq",
        "colab_type": "text"
      },
      "source": [
        "## f -> . ?  , g -> all, e -> sort"
      ]
    },
    {
      "cell_type": "code",
      "metadata": {
        "id": "ZcJMeAI7W6gs",
        "colab_type": "code",
        "colab": {
          "base_uri": "https://localhost:8080/",
          "height": 255
        },
        "outputId": "87b613ba-e491-467d-9826-d6aa28d3af5c"
      },
      "source": [
        "pd.options.display.float_format = '{:.4g}'.format\n",
        "print(s_decimal)\n",
        "pd.options.display.float_format = '{:.4e}'.format\n",
        "print(s_decimal)"
      ],
      "execution_count": null,
      "outputs": [
        {
          "output_type": "stream",
          "text": [
            "0      123.5\n",
            "1      12.35\n",
            "2      1.235\n",
            "3     0.1235\n",
            "4    0.01235\n",
            "5   0.001235\n",
            "dtype: float64\n",
            "0   1.2346e+02\n",
            "1   1.2346e+01\n",
            "2   1.2346e+00\n",
            "3   1.2346e-01\n",
            "4   1.2346e-02\n",
            "5   1.2346e-03\n",
            "dtype: float64\n"
          ],
          "name": "stdout"
        }
      ]
    },
    {
      "cell_type": "code",
      "metadata": {
        "id": "0uO87gozXVRG",
        "colab_type": "code",
        "colab": {
          "base_uri": "https://localhost:8080/",
          "height": 136
        },
        "outputId": "3f729f92-37f8-45f9-debd-4549e4bf79fc"
      },
      "source": [
        "pd.options.display.float_format = '{: <10.2%}'.format\n",
        "print(s_decimal)"
      ],
      "execution_count": null,
      "outputs": [
        {
          "output_type": "stream",
          "text": [
            "0   12345.60% \n",
            "1   1234.56%  \n",
            "2   123.46%   \n",
            "3   12.35%    \n",
            "4   1.23%     \n",
            "5   0.12%     \n",
            "dtype: float64\n"
          ],
          "name": "stdout"
        }
      ]
    },
    {
      "cell_type": "markdown",
      "metadata": {
        "id": "hr9Jj-ktY6Sx",
        "colab_type": "text"
      },
      "source": [
        "### max display numbers of rows"
      ]
    },
    {
      "cell_type": "code",
      "metadata": {
        "id": "ZJVxIdOBX4fQ",
        "colab_type": "code",
        "colab": {
          "base_uri": "https://localhost:8080/",
          "height": 34
        },
        "outputId": "5a374cb7-e4b5-40f9-df86-4f73d06f2759"
      },
      "source": [
        "print(pd.options.display.max_rows)"
      ],
      "execution_count": null,
      "outputs": [
        {
          "output_type": "stream",
          "text": [
            "60\n"
          ],
          "name": "stdout"
        }
      ]
    },
    {
      "cell_type": "code",
      "metadata": {
        "id": "U_HTb5cCZIEs",
        "colab_type": "code",
        "colab": {
          "base_uri": "https://localhost:8080/",
          "height": 255
        },
        "outputId": "d0e78c12-63c3-41c2-98e4-18cc23f98e89"
      },
      "source": [
        "df_tall = pd.DataFrame(np.arange(300).reshape((100,3)))\n",
        "pd.options.display.max_rows = 10\n",
        "print(df_tall)"
      ],
      "execution_count": null,
      "outputs": [
        {
          "output_type": "stream",
          "text": [
            "      0    1    2\n",
            "0     0    1    2\n",
            "1     3    4    5\n",
            "2     6    7    8\n",
            "3     9   10   11\n",
            "4    12   13   14\n",
            "..  ...  ...  ...\n",
            "95  285  286  287\n",
            "96  288  289  290\n",
            "97  291  292  293\n",
            "98  294  295  296\n",
            "99  297  298  299\n",
            "\n",
            "[100 rows x 3 columns]\n"
          ],
          "name": "stdout"
        }
      ]
    },
    {
      "cell_type": "markdown",
      "metadata": {
        "id": "RWWi1OxgZbJp",
        "colab_type": "text"
      },
      "source": [
        "## max display columns numbers"
      ]
    },
    {
      "cell_type": "code",
      "metadata": {
        "id": "623B0N7AZOzI",
        "colab_type": "code",
        "colab": {
          "base_uri": "https://localhost:8080/",
          "height": 34
        },
        "outputId": "606e44f2-8f61-4d20-8d9d-a0668c55d538"
      },
      "source": [
        "print(pd.options.display.max_columns)"
      ],
      "execution_count": null,
      "outputs": [
        {
          "output_type": "stream",
          "text": [
            "0\n"
          ],
          "name": "stdout"
        }
      ]
    },
    {
      "cell_type": "code",
      "metadata": {
        "id": "wErbHf91ZfhV",
        "colab_type": "code",
        "colab": {
          "base_uri": "https://localhost:8080/",
          "height": 119
        },
        "outputId": "1cf50ed3-52b1-4a3e-d8c3-8383ea88325d"
      },
      "source": [
        "df_wide = pd.DataFrame(np.arange(90).reshape((3,30)))\n",
        "print(df_wide)"
      ],
      "execution_count": null,
      "outputs": [
        {
          "output_type": "stream",
          "text": [
            "   0   1   2   3   4   5   6   7   8   ...  21  22  23  24  25  26  27  28  29\n",
            "0   0   1   2   3   4   5   6   7   8  ...  21  22  23  24  25  26  27  28  29\n",
            "1  30  31  32  33  34  35  36  37  38  ...  51  52  53  54  55  56  57  58  59\n",
            "2  60  61  62  63  64  65  66  67  68  ...  81  82  83  84  85  86  87  88  89\n",
            "\n",
            "[3 rows x 30 columns]\n"
          ],
          "name": "stdout"
        }
      ]
    },
    {
      "cell_type": "code",
      "metadata": {
        "id": "OXJakUYDZnlr",
        "colab_type": "code",
        "colab": {
          "base_uri": "https://localhost:8080/",
          "height": 119
        },
        "outputId": "f05be068-0980-41f5-980b-9f6e007c421f"
      },
      "source": [
        "pd.options.display.max_columns = 10\n",
        "print(df_wide)"
      ],
      "execution_count": null,
      "outputs": [
        {
          "output_type": "stream",
          "text": [
            "   0   1   2   3   4   ...  25  26  27  28  29\n",
            "0   0   1   2   3   4  ...  25  26  27  28  29\n",
            "1  30  31  32  33  34  ...  55  56  57  58  59\n",
            "2  60  61  62  63  64  ...  85  86  87  88  89\n",
            "\n",
            "[3 rows x 30 columns]\n"
          ],
          "name": "stdout"
        }
      ]
    },
    {
      "cell_type": "code",
      "metadata": {
        "id": "j1WfQkw4ZtLr",
        "colab_type": "code",
        "colab": {
          "base_uri": "https://localhost:8080/",
          "height": 170
        },
        "outputId": "9efa8fbb-5675-4934-e051-3e6add80258f"
      },
      "source": [
        "pd.options.display.max_columns = None\n",
        "print(df_wide)"
      ],
      "execution_count": null,
      "outputs": [
        {
          "output_type": "stream",
          "text": [
            "    0   1   2   3   4   5   6   7   8   9  10  11  12  13  14  15  16  17  18  \\\n",
            "0   0   1   2   3   4   5   6   7   8   9  10  11  12  13  14  15  16  17  18   \n",
            "1  30  31  32  33  34  35  36  37  38  39  40  41  42  43  44  45  46  47  48   \n",
            "2  60  61  62  63  64  65  66  67  68  69  70  71  72  73  74  75  76  77  78   \n",
            "\n",
            "   19  20  21  22  23  24  25  26  27  28  29  \n",
            "0  19  20  21  22  23  24  25  26  27  28  29  \n",
            "1  49  50  51  52  53  54  55  56  57  58  59  \n",
            "2  79  80  81  82  83  84  85  86  87  88  89  \n"
          ],
          "name": "stdout"
        }
      ]
    },
    {
      "cell_type": "markdown",
      "metadata": {
        "id": "6TaB4NYzaEoq",
        "colab_type": "text"
      },
      "source": [
        "## Abbreviation"
      ]
    },
    {
      "cell_type": "code",
      "metadata": {
        "id": "cXfxERC6Z3yr",
        "colab_type": "code",
        "colab": {
          "base_uri": "https://localhost:8080/",
          "height": 204
        },
        "outputId": "c51f8ad1-58fb-4bd2-ede8-f7f311f4c554"
      },
      "source": [
        "print(pd.options.display.show_dimensions)\n",
        "pd.options.display.max_columns = 10\n",
        "print(df_wide)\n",
        "df = pd.DataFrame(np.arange(12).reshape((3,4)))\n",
        "print(df)"
      ],
      "execution_count": null,
      "outputs": [
        {
          "output_type": "stream",
          "text": [
            "truncate\n",
            "   0   1   2   3   4   ...  25  26  27  28  29\n",
            "0   0   1   2   3   4  ...  25  26  27  28  29\n",
            "1  30  31  32  33  34  ...  55  56  57  58  59\n",
            "2  60  61  62  63  64  ...  85  86  87  88  89\n",
            "\n",
            "[3 rows x 30 columns]\n",
            "   0  1   2   3\n",
            "0  0  1   2   3\n",
            "1  4  5   6   7\n",
            "2  8  9  10  11\n"
          ],
          "name": "stdout"
        }
      ]
    },
    {
      "cell_type": "code",
      "metadata": {
        "id": "ruy1LRJGacaj",
        "colab_type": "code",
        "colab": {
          "base_uri": "https://localhost:8080/",
          "height": 357
        },
        "outputId": "044ec9d3-9730-4a0d-9a8a-48d8de3eaee4"
      },
      "source": [
        "pd.options.display.show_dimensions = True\n",
        "print(df_wide)\n",
        "print(df)\n",
        "pd.options.display.show_dimensions = False\n",
        "print(df_wide)\n",
        "print(df)"
      ],
      "execution_count": null,
      "outputs": [
        {
          "output_type": "stream",
          "text": [
            "   0   1   2   3   4   ...  25  26  27  28  29\n",
            "0   0   1   2   3   4  ...  25  26  27  28  29\n",
            "1  30  31  32  33  34  ...  55  56  57  58  59\n",
            "2  60  61  62  63  64  ...  85  86  87  88  89\n",
            "\n",
            "[3 rows x 30 columns]\n",
            "   0  1   2   3\n",
            "0  0  1   2   3\n",
            "1  4  5   6   7\n",
            "2  8  9  10  11\n",
            "\n",
            "[3 rows x 4 columns]\n",
            "   0   1   2   3   4   ...  25  26  27  28  29\n",
            "0   0   1   2   3   4  ...  25  26  27  28  29\n",
            "1  30  31  32  33  34  ...  55  56  57  58  59\n",
            "2  60  61  62  63  64  ...  85  86  87  88  89\n",
            "   0  1   2   3\n",
            "0  0  1   2   3\n",
            "1  4  5   6   7\n",
            "2  8  9  10  11\n"
          ],
          "name": "stdout"
        }
      ]
    },
    {
      "cell_type": "markdown",
      "metadata": {
        "id": "141yEtLJbIXa",
        "colab_type": "text"
      },
      "source": [
        "## Maximum overall display width"
      ]
    },
    {
      "cell_type": "code",
      "metadata": {
        "id": "sN4WQmqea6SS",
        "colab_type": "code",
        "colab": {
          "base_uri": "https://localhost:8080/",
          "height": 34
        },
        "outputId": "59bffe8c-3530-488d-e5b8-2d8f252c5fed"
      },
      "source": [
        "print(pd.options.display.width)\n"
      ],
      "execution_count": null,
      "outputs": [
        {
          "output_type": "stream",
          "text": [
            "80\n"
          ],
          "name": "stdout"
        }
      ]
    },
    {
      "cell_type": "code",
      "metadata": {
        "id": "9umyY-YRbQy6",
        "colab_type": "code",
        "colab": {}
      },
      "source": [
        "pd.options.display.max_columns = None"
      ],
      "execution_count": null,
      "outputs": []
    },
    {
      "cell_type": "code",
      "metadata": {
        "id": "mRw6KlvZbaeK",
        "colab_type": "code",
        "colab": {
          "base_uri": "https://localhost:8080/",
          "height": 170
        },
        "outputId": "0a69e8a5-d49d-4ac5-9561-7b3cd9db160f"
      },
      "source": [
        "print(df_wide)\n",
        "pd.options.display.width = 60"
      ],
      "execution_count": null,
      "outputs": [
        {
          "output_type": "stream",
          "text": [
            "    0   1   2   3   4   5   6   7   8   9  10  11  12  13  14  15  16  17  18  \\\n",
            "0   0   1   2   3   4   5   6   7   8   9  10  11  12  13  14  15  16  17  18   \n",
            "1  30  31  32  33  34  35  36  37  38  39  40  41  42  43  44  45  46  47  48   \n",
            "2  60  61  62  63  64  65  66  67  68  69  70  71  72  73  74  75  76  77  78   \n",
            "\n",
            "   19  20  21  22  23  24  25  26  27  28  29  \n",
            "0  19  20  21  22  23  24  25  26  27  28  29  \n",
            "1  49  50  51  52  53  54  55  56  57  58  59  \n",
            "2  79  80  81  82  83  84  85  86  87  88  89  \n"
          ],
          "name": "stdout"
        }
      ]
    },
    {
      "cell_type": "code",
      "metadata": {
        "id": "SmcagM1CbdXq",
        "colab_type": "code",
        "colab": {
          "base_uri": "https://localhost:8080/",
          "height": 255
        },
        "outputId": "422bb3ae-1b78-4370-883a-7db986c2d1ed"
      },
      "source": [
        "print(df_wide)"
      ],
      "execution_count": null,
      "outputs": [
        {
          "output_type": "stream",
          "text": [
            "    0   1   2   3   4   5   6   7   8   9  10  11  12  13  \\\n",
            "0   0   1   2   3   4   5   6   7   8   9  10  11  12  13   \n",
            "1  30  31  32  33  34  35  36  37  38  39  40  41  42  43   \n",
            "2  60  61  62  63  64  65  66  67  68  69  70  71  72  73   \n",
            "\n",
            "   14  15  16  17  18  19  20  21  22  23  24  25  26  27  \\\n",
            "0  14  15  16  17  18  19  20  21  22  23  24  25  26  27   \n",
            "1  44  45  46  47  48  49  50  51  52  53  54  55  56  57   \n",
            "2  74  75  76  77  78  79  80  81  82  83  84  85  86  87   \n",
            "\n",
            "   28  29  \n",
            "0  28  29  \n",
            "1  58  59  \n",
            "2  88  89  \n"
          ],
          "name": "stdout"
        }
      ]
    },
    {
      "cell_type": "code",
      "metadata": {
        "id": "6nJ1u-ANbfjL",
        "colab_type": "code",
        "colab": {}
      },
      "source": [
        "pd.options.display.width = None"
      ],
      "execution_count": null,
      "outputs": []
    },
    {
      "cell_type": "code",
      "metadata": {
        "id": "zaLLZrOubo5L",
        "colab_type": "code",
        "colab": {
          "base_uri": "https://localhost:8080/",
          "height": 170
        },
        "outputId": "c2863dc6-7dbd-455f-c741-1ebb5d116bc0"
      },
      "source": [
        "print(df_wide)"
      ],
      "execution_count": null,
      "outputs": [
        {
          "output_type": "stream",
          "text": [
            "    0   1   2   3   4   5   6   7   8   9  10  11  12  13  14  15  16  17  18  \\\n",
            "0   0   1   2   3   4   5   6   7   8   9  10  11  12  13  14  15  16  17  18   \n",
            "1  30  31  32  33  34  35  36  37  38  39  40  41  42  43  44  45  46  47  48   \n",
            "2  60  61  62  63  64  65  66  67  68  69  70  71  72  73  74  75  76  77  78   \n",
            "\n",
            "   19  20  21  22  23  24  25  26  27  28  29  \n",
            "0  19  20  21  22  23  24  25  26  27  28  29  \n",
            "1  49  50  51  52  53  54  55  56  57  58  59  \n",
            "2  79  80  81  82  83  84  85  86  87  88  89  \n"
          ],
          "name": "stdout"
        }
      ]
    },
    {
      "cell_type": "markdown",
      "metadata": {
        "id": "mi9vIRn3btT-",
        "colab_type": "text"
      },
      "source": [
        "## each columns max_colwidth"
      ]
    },
    {
      "cell_type": "code",
      "metadata": {
        "id": "hX_F8kTfbp4S",
        "colab_type": "code",
        "colab": {
          "base_uri": "https://localhost:8080/",
          "height": 34
        },
        "outputId": "9540e5e1-df37-42d1-edc8-8502d81ebda0"
      },
      "source": [
        "print(pd.options.display.max_colwidth)"
      ],
      "execution_count": null,
      "outputs": [
        {
          "output_type": "stream",
          "text": [
            "50\n"
          ],
          "name": "stdout"
        }
      ]
    },
    {
      "cell_type": "code",
      "metadata": {
        "id": "3ytq201cbxD6",
        "colab_type": "code",
        "colab": {
          "base_uri": "https://localhost:8080/",
          "height": 153
        },
        "outputId": "5b0074b8-8dc9-4fb9-e3c0-180b38786225"
      },
      "source": [
        "df_long_col = pd.DataFrame({'col' : ['a' * 10, 'a' * 30, 'a' * 60]})\n",
        "print(df_long_col)\n",
        "pd.options.display.max_colwidth = 80\n",
        "print(df_long_col)"
      ],
      "execution_count": null,
      "outputs": [
        {
          "output_type": "stream",
          "text": [
            "                                                 col\n",
            "0                                         aaaaaaaaaa\n",
            "1                     aaaaaaaaaaaaaaaaaaaaaaaaaaaaaa\n",
            "2  aaaaaaaaaaaaaaaaaaaaaaaaaaaaaaaaaaaaaaaaaaaaaa...\n",
            "                                                            col\n",
            "0                                                    aaaaaaaaaa\n",
            "1                                aaaaaaaaaaaaaaaaaaaaaaaaaaaaaa\n",
            "2  aaaaaaaaaaaaaaaaaaaaaaaaaaaaaaaaaaaaaaaaaaaaaaaaaaaaaaaaaaaa\n"
          ],
          "name": "stdout"
        }
      ]
    },
    {
      "cell_type": "markdown",
      "metadata": {
        "id": "PHHheI1zcwyJ",
        "colab_type": "text"
      },
      "source": [
        "# Right-justified and left-justified"
      ]
    },
    {
      "cell_type": "code",
      "metadata": {
        "id": "ut6GsKh1cFIy",
        "colab_type": "code",
        "colab": {
          "base_uri": "https://localhost:8080/",
          "height": 34
        },
        "outputId": "ce011f74-ee90-4b0c-8cb7-ccf693931b5b"
      },
      "source": [
        "print(pd.options.display.colheader_justify)"
      ],
      "execution_count": null,
      "outputs": [
        {
          "output_type": "stream",
          "text": [
            "right\n"
          ],
          "name": "stdout"
        }
      ]
    },
    {
      "cell_type": "code",
      "metadata": {
        "id": "9G6Zrokwc58K",
        "colab_type": "code",
        "colab": {
          "base_uri": "https://localhost:8080/",
          "height": 153
        },
        "outputId": "27ce6c0d-56d4-4406-d083-77205730e80c"
      },
      "source": [
        "print(df_long_col)\n",
        "pd.options.display.colheader_justify = 'left'\n",
        "print(df_long_col)"
      ],
      "execution_count": null,
      "outputs": [
        {
          "output_type": "stream",
          "text": [
            "                                                            col\n",
            "0                                                    aaaaaaaaaa\n",
            "1                                aaaaaaaaaaaaaaaaaaaaaaaaaaaaaa\n",
            "2  aaaaaaaaaaaaaaaaaaaaaaaaaaaaaaaaaaaaaaaaaaaaaaaaaaaaaaaaaaaa\n",
            "  col                                                          \n",
            "0                                                    aaaaaaaaaa\n",
            "1                                aaaaaaaaaaaaaaaaaaaaaaaaaaaaaa\n",
            "2  aaaaaaaaaaaaaaaaaaaaaaaaaaaaaaaaaaaaaaaaaaaaaaaaaaaaaaaaaaaa\n"
          ],
          "name": "stdout"
        }
      ]
    },
    {
      "cell_type": "markdown",
      "metadata": {
        "id": "pJkYVQV4dPYb",
        "colab_type": "text"
      },
      "source": [
        "## confirm options of pandas"
      ]
    },
    {
      "cell_type": "code",
      "metadata": {
        "id": "HQpQrZWnc_lC",
        "colab_type": "code",
        "colab": {
          "base_uri": "https://localhost:8080/",
          "height": 34
        },
        "outputId": "1426b54a-2673-4ad2-86d2-f165b06cb302"
      },
      "source": [
        "import pandas as pd\n",
        "import pprint\n",
        "print(pd.__version__)"
      ],
      "execution_count": 1,
      "outputs": [
        {
          "output_type": "stream",
          "text": [
            "1.0.5\n"
          ],
          "name": "stdout"
        }
      ]
    },
    {
      "cell_type": "code",
      "metadata": {
        "id": "5R-OL-_adXAo",
        "colab_type": "code",
        "colab": {
          "base_uri": "https://localhost:8080/",
          "height": 34
        },
        "outputId": "2e95dea5-3ada-4229-e400-bdd257b48bc5"
      },
      "source": [
        "print(pd.options.display.max_rows)"
      ],
      "execution_count": 2,
      "outputs": [
        {
          "output_type": "stream",
          "text": [
            "60\n"
          ],
          "name": "stdout"
        }
      ]
    },
    {
      "cell_type": "code",
      "metadata": {
        "id": "naz00kGsdj7u",
        "colab_type": "code",
        "colab": {}
      },
      "source": [
        "pd.options.display.max_rows = 100"
      ],
      "execution_count": 3,
      "outputs": []
    },
    {
      "cell_type": "markdown",
      "metadata": {
        "id": "y_K7WGOSdqJA",
        "colab_type": "text"
      },
      "source": [
        "# Use dir !"
      ]
    },
    {
      "cell_type": "code",
      "metadata": {
        "id": "FGrBmMOGdnDk",
        "colab_type": "code",
        "colab": {
          "base_uri": "https://localhost:8080/",
          "height": 34
        },
        "outputId": "1c25cdcc-ca67-4443-b44b-e5ea682152d1"
      },
      "source": [
        "print(dir(pd.options))"
      ],
      "execution_count": 4,
      "outputs": [
        {
          "output_type": "stream",
          "text": [
            "['compute', 'display', 'io', 'mode', 'plotting']\n"
          ],
          "name": "stdout"
        }
      ]
    },
    {
      "cell_type": "code",
      "metadata": {
        "id": "1zORfCXJdohM",
        "colab_type": "code",
        "colab": {
          "base_uri": "https://localhost:8080/",
          "height": 476
        },
        "outputId": "5abbe6a7-eb5e-4f43-91c4-85038e2b06a4"
      },
      "source": [
        "pprint.pprint(dir(pd.options.display))"
      ],
      "execution_count": 5,
      "outputs": [
        {
          "output_type": "stream",
          "text": [
            "['chop_threshold',\n",
            " 'colheader_justify',\n",
            " 'column_space',\n",
            " 'date_dayfirst',\n",
            " 'date_yearfirst',\n",
            " 'encoding',\n",
            " 'expand_frame_repr',\n",
            " 'float_format',\n",
            " 'html',\n",
            " 'large_repr',\n",
            " 'latex',\n",
            " 'max_categories',\n",
            " 'max_columns',\n",
            " 'max_colwidth',\n",
            " 'max_info_columns',\n",
            " 'max_info_rows',\n",
            " 'max_rows',\n",
            " 'max_seq_items',\n",
            " 'memory_usage',\n",
            " 'min_rows',\n",
            " 'multi_sparse',\n",
            " 'notebook_repr_html',\n",
            " 'pprint_nest_depth',\n",
            " 'precision',\n",
            " 'show_dimensions',\n",
            " 'unicode',\n",
            " 'width']\n"
          ],
          "name": "stdout"
        }
      ]
    },
    {
      "cell_type": "code",
      "metadata": {
        "id": "_xjYpftmdud9",
        "colab_type": "code",
        "colab": {
          "base_uri": "https://localhost:8080/",
          "height": 1000
        },
        "outputId": "f33a0f98-268d-4d7e-f547-8bae44ed29bf"
      },
      "source": [
        "pd.describe_option()"
      ],
      "execution_count": 7,
      "outputs": [
        {
          "output_type": "stream",
          "text": [
            "compute.use_bottleneck : bool\n",
            "    Use the bottleneck library to accelerate if it is installed,\n",
            "    the default is True\n",
            "    Valid values: False,True\n",
            "    [default: True] [currently: True]\n",
            "compute.use_numexpr : bool\n",
            "    Use the numexpr library to accelerate computation if it is installed,\n",
            "    the default is True\n",
            "    Valid values: False,True\n",
            "    [default: True] [currently: True]\n",
            "display.chop_threshold : float or None\n",
            "    if set to a float value, all float values smaller then the given threshold\n",
            "    will be displayed as exactly 0 by repr and friends.\n",
            "    [default: None] [currently: None]\n",
            "display.colheader_justify : 'left'/'right'\n",
            "    Controls the justification of column headers. used by DataFrameFormatter.\n",
            "    [default: right] [currently: right]\n",
            "display.column_space No description available.\n",
            "    [default: 12] [currently: 12]\n",
            "display.date_dayfirst : boolean\n",
            "    When True, prints and parses dates with the day first, eg 20/01/2005\n",
            "    [default: False] [currently: False]\n",
            "display.date_yearfirst : boolean\n",
            "    When True, prints and parses dates with the year first, eg 2005/01/20\n",
            "    [default: False] [currently: False]\n",
            "display.encoding : str/unicode\n",
            "    Defaults to the detected encoding of the console.\n",
            "    Specifies the encoding to be used for strings returned by to_string,\n",
            "    these are generally strings meant to be displayed on the console.\n",
            "    [default: UTF-8] [currently: UTF-8]\n",
            "display.expand_frame_repr : boolean\n",
            "    Whether to print out the full DataFrame repr for wide DataFrames across\n",
            "    multiple lines, `max_columns` is still respected, but the output will\n",
            "    wrap-around across multiple \"pages\" if its width exceeds `display.width`.\n",
            "    [default: True] [currently: True]\n",
            "display.float_format : callable\n",
            "    The callable should accept a floating point number and return\n",
            "    a string with the desired format of the number. This is used\n",
            "    in some places like SeriesFormatter.\n",
            "    See formats.format.EngFormatter for an example.\n",
            "    [default: None] [currently: None]\n",
            "display.html.border : int\n",
            "    A ``border=value`` attribute is inserted in the ``<table>`` tag\n",
            "    for the DataFrame HTML repr.\n",
            "    [default: 1] [currently: 1]\n",
            "display.html.table_schema : boolean\n",
            "    Whether to publish a Table Schema representation for frontends\n",
            "    that support it.\n",
            "    (default: False)\n",
            "    [default: False] [currently: False]\n",
            "display.html.use_mathjax : boolean\n",
            "    When True, Jupyter notebook will process table contents using MathJax,\n",
            "    rendering mathematical expressions enclosed by the dollar symbol.\n",
            "    (default: True)\n",
            "    [default: True] [currently: True]\n",
            "display.large_repr : 'truncate'/'info'\n",
            "    For DataFrames exceeding max_rows/max_cols, the repr (and HTML repr) can\n",
            "    show a truncated table (the default from 0.13), or switch to the view from\n",
            "    df.info() (the behaviour in earlier versions of pandas).\n",
            "    [default: truncate] [currently: truncate]\n",
            "display.latex.escape : bool\n",
            "    This specifies if the to_latex method of a Dataframe uses escapes special\n",
            "    characters.\n",
            "    Valid values: False,True\n",
            "    [default: True] [currently: True]\n",
            "display.latex.longtable :bool\n",
            "    This specifies if the to_latex method of a Dataframe uses the longtable\n",
            "    format.\n",
            "    Valid values: False,True\n",
            "    [default: False] [currently: False]\n",
            "display.latex.multicolumn : bool\n",
            "    This specifies if the to_latex method of a Dataframe uses multicolumns\n",
            "    to pretty-print MultiIndex columns.\n",
            "    Valid values: False,True\n",
            "    [default: True] [currently: True]\n",
            "display.latex.multicolumn_format : bool\n",
            "    This specifies if the to_latex method of a Dataframe uses multicolumns\n",
            "    to pretty-print MultiIndex columns.\n",
            "    Valid values: False,True\n",
            "    [default: l] [currently: l]\n",
            "display.latex.multirow : bool\n",
            "    This specifies if the to_latex method of a Dataframe uses multirows\n",
            "    to pretty-print MultiIndex rows.\n",
            "    Valid values: False,True\n",
            "    [default: False] [currently: False]\n",
            "display.latex.repr : boolean\n",
            "    Whether to produce a latex DataFrame representation for jupyter\n",
            "    environments that support it.\n",
            "    (default: False)\n",
            "    [default: False] [currently: False]\n",
            "display.max_categories : int\n",
            "    This sets the maximum number of categories pandas should output when\n",
            "    printing out a `Categorical` or a Series of dtype \"category\".\n",
            "    [default: 8] [currently: 8]\n",
            "display.max_columns : int\n",
            "    If max_cols is exceeded, switch to truncate view. Depending on\n",
            "    `large_repr`, objects are either centrally truncated or printed as\n",
            "    a summary view. 'None' value means unlimited.\n",
            "\n",
            "    In case python/IPython is running in a terminal and `large_repr`\n",
            "    equals 'truncate' this can be set to 0 and pandas will auto-detect\n",
            "    the width of the terminal and print a truncated object which fits\n",
            "    the screen width. The IPython notebook, IPython qtconsole, or IDLE\n",
            "    do not run in a terminal and hence it is not possible to do\n",
            "    correct auto-detection.\n",
            "    [default: 0] [currently: 0]\n",
            "display.max_colwidth : int or None\n",
            "    The maximum width in characters of a column in the repr of\n",
            "    a pandas data structure. When the column overflows, a \"...\"\n",
            "    placeholder is embedded in the output. A 'None' value means unlimited.\n",
            "    [default: 50] [currently: 50]\n",
            "display.max_info_columns : int\n",
            "    max_info_columns is used in DataFrame.info method to decide if\n",
            "    per column information will be printed.\n",
            "    [default: 100] [currently: 100]\n",
            "display.max_info_rows : int or None\n",
            "    df.info() will usually show null-counts for each column.\n",
            "    For large frames this can be quite slow. max_info_rows and max_info_cols\n",
            "    limit this null check only to frames with smaller dimensions than\n",
            "    specified.\n",
            "    [default: 1690785] [currently: 1690785]\n",
            "display.max_rows : int\n",
            "    If max_rows is exceeded, switch to truncate view. Depending on\n",
            "    `large_repr`, objects are either centrally truncated or printed as\n",
            "    a summary view. 'None' value means unlimited.\n",
            "\n",
            "    In case python/IPython is running in a terminal and `large_repr`\n",
            "    equals 'truncate' this can be set to 0 and pandas will auto-detect\n",
            "    the height of the terminal and print a truncated object which fits\n",
            "    the screen height. The IPython notebook, IPython qtconsole, or\n",
            "    IDLE do not run in a terminal and hence it is not possible to do\n",
            "    correct auto-detection.\n",
            "    [default: 60] [currently: 100]\n",
            "display.max_seq_items : int or None\n",
            "    when pretty-printing a long sequence, no more then `max_seq_items`\n",
            "    will be printed. If items are omitted, they will be denoted by the\n",
            "    addition of \"...\" to the resulting string.\n",
            "\n",
            "    If set to None, the number of items to be printed is unlimited.\n",
            "    [default: 100] [currently: 100]\n",
            "display.memory_usage : bool, string or None\n",
            "    This specifies if the memory usage of a DataFrame should be displayed when\n",
            "    df.info() is called. Valid values True,False,'deep'\n",
            "    [default: True] [currently: True]\n",
            "display.min_rows : int\n",
            "    The numbers of rows to show in a truncated view (when `max_rows` is\n",
            "    exceeded). Ignored when `max_rows` is set to None or 0. When set to\n",
            "    None, follows the value of `max_rows`.\n",
            "    [default: 10] [currently: 10]\n",
            "display.multi_sparse : boolean\n",
            "    \"sparsify\" MultiIndex display (don't display repeated\n",
            "    elements in outer levels within groups)\n",
            "    [default: True] [currently: True]\n",
            "display.notebook_repr_html : boolean\n",
            "    When True, IPython notebook will use html representation for\n",
            "    pandas objects (if it is available).\n",
            "    [default: True] [currently: True]\n",
            "display.pprint_nest_depth : int\n",
            "    Controls the number of nested levels to process when pretty-printing\n",
            "    [default: 3] [currently: 3]\n",
            "display.precision : int\n",
            "    Floating point output precision (number of significant digits). This is\n",
            "    only a suggestion\n",
            "    [default: 6] [currently: 6]\n",
            "display.show_dimensions : boolean or 'truncate'\n",
            "    Whether to print out dimensions at the end of DataFrame repr.\n",
            "    If 'truncate' is specified, only print out the dimensions if the\n",
            "    frame is truncated (e.g. not display all rows and/or columns)\n",
            "    [default: truncate] [currently: truncate]\n",
            "display.unicode.ambiguous_as_wide : boolean\n",
            "    Whether to use the Unicode East Asian Width to calculate the display text\n",
            "    width.\n",
            "    Enabling this may affect to the performance (default: False)\n",
            "    [default: False] [currently: False]\n",
            "display.unicode.east_asian_width : boolean\n",
            "    Whether to use the Unicode East Asian Width to calculate the display text\n",
            "    width.\n",
            "    Enabling this may affect to the performance (default: False)\n",
            "    [default: False] [currently: False]\n",
            "display.width : int\n",
            "    Width of the display in characters. In case python/IPython is running in\n",
            "    a terminal this can be set to None and pandas will correctly auto-detect\n",
            "    the width.\n",
            "    Note that the IPython notebook, IPython qtconsole, or IDLE do not run in a\n",
            "    terminal and hence it is not possible to correctly detect the width.\n",
            "    [default: 80] [currently: 80]\n",
            "io.excel.ods.reader : string\n",
            "    The default Excel reader engine for 'ods' files. Available options:\n",
            "    auto, odf.\n",
            "    [default: auto] [currently: auto]\n",
            "io.excel.xls.reader : string\n",
            "    The default Excel reader engine for 'xls' files. Available options:\n",
            "    auto, xlrd.\n",
            "    [default: auto] [currently: auto]\n",
            "io.excel.xls.writer : string\n",
            "    The default Excel writer engine for 'xls' files. Available options:\n",
            "    auto, xlwt.\n",
            "    [default: auto] [currently: auto]\n",
            "io.excel.xlsb.reader : string\n",
            "    The default Excel reader engine for 'xlsb' files. Available options:\n",
            "    auto, pyxlsb.\n",
            "    [default: auto] [currently: auto]\n",
            "io.excel.xlsm.reader : string\n",
            "    The default Excel reader engine for 'xlsm' files. Available options:\n",
            "    auto, xlrd, openpyxl.\n",
            "    [default: auto] [currently: auto]\n",
            "io.excel.xlsm.writer : string\n",
            "    The default Excel writer engine for 'xlsm' files. Available options:\n",
            "    auto, openpyxl.\n",
            "    [default: auto] [currently: auto]\n",
            "io.excel.xlsx.reader : string\n",
            "    The default Excel reader engine for 'xlsx' files. Available options:\n",
            "    auto, xlrd, openpyxl.\n",
            "    [default: auto] [currently: auto]\n",
            "io.excel.xlsx.writer : string\n",
            "    The default Excel writer engine for 'xlsx' files. Available options:\n",
            "    auto, openpyxl, xlsxwriter.\n",
            "    [default: auto] [currently: auto]\n",
            "io.hdf.default_format : format\n",
            "    default format writing format, if None, then\n",
            "    put will default to 'fixed' and append will default to 'table'\n",
            "    [default: None] [currently: None]\n",
            "io.hdf.dropna_table : boolean\n",
            "    drop ALL nan rows when appending to a table\n",
            "    [default: False] [currently: False]\n",
            "io.parquet.engine : string\n",
            "    The default parquet reader/writer engine. Available options:\n",
            "    'auto', 'pyarrow', 'fastparquet', the default is 'auto'\n",
            "    [default: auto] [currently: auto]\n",
            "mode.chained_assignment : string\n",
            "    Raise an exception, warn, or no action if trying to use chained assignment,\n",
            "    The default is warn\n",
            "    [default: warn] [currently: warn]\n",
            "mode.sim_interactive : boolean\n",
            "    Whether to simulate interactive mode for purposes of testing\n",
            "    [default: False] [currently: False]\n",
            "mode.use_inf_as_na : boolean\n",
            "    True means treat None, NaN, INF, -INF as NA (old way),\n",
            "    False means None and NaN are null, but INF, -INF are not NA\n",
            "    (new way).\n",
            "    [default: False] [currently: False]\n",
            "mode.use_inf_as_null : boolean\n",
            "    use_inf_as_null had been deprecated and will be removed in a future\n",
            "    version. Use `use_inf_as_na` instead.\n",
            "    [default: False] [currently: False]\n",
            "    (Deprecated, use `mode.use_inf_as_na` instead.)\n",
            "plotting.backend : str\n",
            "    The plotting backend to use. The default value is \"matplotlib\", the\n",
            "    backend provided with pandas. Other backends can be specified by\n",
            "    prodiving the name of the module that implements the backend.\n",
            "    [default: matplotlib] [currently: matplotlib]\n",
            "plotting.matplotlib.register_converters : bool or 'auto'.\n",
            "    Whether to register converters with matplotlib's units registry for\n",
            "    dates, times, datetimes, and Periods. Toggling to False will remove\n",
            "    the converters, restoring any converters that pandas overwrote.\n",
            "    [default: auto] [currently: auto]\n"
          ],
          "name": "stdout"
        }
      ]
    },
    {
      "cell_type": "code",
      "metadata": {
        "id": "n3_-bkKLd00t",
        "colab_type": "code",
        "colab": {
          "base_uri": "https://localhost:8080/",
          "height": 187
        },
        "outputId": "7a3bd0a3-f1b2-41ff-efd0-0153115cb90d"
      },
      "source": [
        "pd.describe_option('compute')"
      ],
      "execution_count": 8,
      "outputs": [
        {
          "output_type": "stream",
          "text": [
            "compute.use_bottleneck : bool\n",
            "    Use the bottleneck library to accelerate if it is installed,\n",
            "    the default is True\n",
            "    Valid values: False,True\n",
            "    [default: True] [currently: True]\n",
            "compute.use_numexpr : bool\n",
            "    Use the numexpr library to accelerate computation if it is installed,\n",
            "    the default is True\n",
            "    Valid values: False,True\n",
            "    [default: True] [currently: True]\n"
          ],
          "name": "stdout"
        }
      ]
    },
    {
      "cell_type": "markdown",
      "metadata": {
        "id": "9QM7DIWVeNl1",
        "colab_type": "text"
      },
      "source": [
        "## 正規表現使って見れる"
      ]
    },
    {
      "cell_type": "code",
      "metadata": {
        "id": "2gw8H8LbeBMM",
        "colab_type": "code",
        "colab": {
          "base_uri": "https://localhost:8080/",
          "height": 374
        },
        "outputId": "37e135c3-4f88-4102-dbf8-38bed17625cc"
      },
      "source": [
        "pd.describe_option('max.*col')"
      ],
      "execution_count": 9,
      "outputs": [
        {
          "output_type": "stream",
          "text": [
            "display.max_columns : int\n",
            "    If max_cols is exceeded, switch to truncate view. Depending on\n",
            "    `large_repr`, objects are either centrally truncated or printed as\n",
            "    a summary view. 'None' value means unlimited.\n",
            "\n",
            "    In case python/IPython is running in a terminal and `large_repr`\n",
            "    equals 'truncate' this can be set to 0 and pandas will auto-detect\n",
            "    the width of the terminal and print a truncated object which fits\n",
            "    the screen width. The IPython notebook, IPython qtconsole, or IDLE\n",
            "    do not run in a terminal and hence it is not possible to do\n",
            "    correct auto-detection.\n",
            "    [default: 0] [currently: 0]\n",
            "display.max_colwidth : int or None\n",
            "    The maximum width in characters of a column in the repr of\n",
            "    a pandas data structure. When the column overflows, a \"...\"\n",
            "    placeholder is embedded in the output. A 'None' value means unlimited.\n",
            "    [default: 50] [currently: 50]\n",
            "display.max_info_columns : int\n",
            "    max_info_columns is used in DataFrame.info method to decide if\n",
            "    per column information will be printed.\n",
            "    [default: 100] [currently: 100]\n"
          ],
          "name": "stdout"
        }
      ]
    },
    {
      "cell_type": "code",
      "metadata": {
        "id": "hjB_T6YteSXs",
        "colab_type": "code",
        "colab": {
          "base_uri": "https://localhost:8080/",
          "height": 34
        },
        "outputId": "89e8a502-88dc-4f3e-8e74-d4ec9c6b916b"
      },
      "source": [
        "print(pd.get_option('display.max_rows'))"
      ],
      "execution_count": 10,
      "outputs": [
        {
          "output_type": "stream",
          "text": [
            "100\n"
          ],
          "name": "stdout"
        }
      ]
    },
    {
      "cell_type": "code",
      "metadata": {
        "id": "OHQXexh5eqYV",
        "colab_type": "code",
        "colab": {}
      },
      "source": [
        "pd.set_option('display.max_rows', 60)"
      ],
      "execution_count": 12,
      "outputs": []
    },
    {
      "cell_type": "code",
      "metadata": {
        "id": "HLkRgESmetz1",
        "colab_type": "code",
        "colab": {
          "base_uri": "https://localhost:8080/",
          "height": 34
        },
        "outputId": "910d7dfd-a38d-4695-ce28-31c85bebc582"
      },
      "source": [
        "d = {'display.max_rows':80,\n",
        "     'display.max_columns':80,\n",
        "     'display.max_colwidth':80}\n",
        "[pd.set_option(k, v) for k,v in d.items()]\n",
        "print({i: pd.get_option(i) for i in d.keys()})"
      ],
      "execution_count": 13,
      "outputs": [
        {
          "output_type": "stream",
          "text": [
            "{'display.max_rows': 80, 'display.max_columns': 80, 'display.max_colwidth': 80}\n"
          ],
          "name": "stdout"
        }
      ]
    },
    {
      "cell_type": "markdown",
      "metadata": {
        "id": "3cpsWwIxfZ3D",
        "colab_type": "text"
      },
      "source": [
        "## return default settings... reset_option()"
      ]
    },
    {
      "cell_type": "code",
      "metadata": {
        "id": "dtb0Uf0ZfNzj",
        "colab_type": "code",
        "colab": {
          "base_uri": "https://localhost:8080/",
          "height": 34
        },
        "outputId": "198f12f5-5a67-4ae0-b8e7-6dd50ac4af2d"
      },
      "source": [
        "print(pd.options.display.max_rows)"
      ],
      "execution_count": 14,
      "outputs": [
        {
          "output_type": "stream",
          "text": [
            "80\n"
          ],
          "name": "stdout"
        }
      ]
    },
    {
      "cell_type": "code",
      "metadata": {
        "id": "7UPWZoasfhIk",
        "colab_type": "code",
        "colab": {}
      },
      "source": [
        "pd.reset_option('display.max_rows')"
      ],
      "execution_count": 15,
      "outputs": []
    },
    {
      "cell_type": "code",
      "metadata": {
        "id": "6JyskaUTfkl-",
        "colab_type": "code",
        "colab": {
          "base_uri": "https://localhost:8080/",
          "height": 34
        },
        "outputId": "544f486e-2c0e-4ff4-f415-c9faabb1d819"
      },
      "source": [
        "print(pd.options.display.max_rows)"
      ],
      "execution_count": 16,
      "outputs": [
        {
          "output_type": "stream",
          "text": [
            "60\n"
          ],
          "name": "stdout"
        }
      ]
    },
    {
      "cell_type": "markdown",
      "metadata": {
        "id": "zYCk_ggHfuxm",
        "colab_type": "text"
      },
      "source": [
        "### display's all reset use ^"
      ]
    },
    {
      "cell_type": "code",
      "metadata": {
        "id": "uxTonbhKfntM",
        "colab_type": "code",
        "colab": {
          "base_uri": "https://localhost:8080/",
          "height": 34
        },
        "outputId": "648ffef8-7713-4a3f-b489-1da73ad66e39"
      },
      "source": [
        "pd.reset_option('^display', silent = True)\n",
        "print(pd.options.display.max_rows)"
      ],
      "execution_count": 17,
      "outputs": [
        {
          "output_type": "stream",
          "text": [
            "60\n"
          ],
          "name": "stdout"
        }
      ]
    },
    {
      "cell_type": "markdown",
      "metadata": {
        "id": "W-0ml1VRf9hC",
        "colab_type": "text"
      },
      "source": [
        "### 'all' reset all"
      ]
    },
    {
      "cell_type": "code",
      "metadata": {
        "id": "g2cH37kXf6db",
        "colab_type": "code",
        "colab": {
          "base_uri": "https://localhost:8080/",
          "height": 204
        },
        "outputId": "a59777d8-0d34-41ec-ffed-05830aa7109c"
      },
      "source": [
        "pd.reset_option('all')"
      ],
      "execution_count": 18,
      "outputs": [
        {
          "output_type": "stream",
          "text": [
            "\n",
            ": boolean\n",
            "    use_inf_as_null had been deprecated and will be removed in a future\n",
            "    version. Use `use_inf_as_na` instead.\n",
            "\n"
          ],
          "name": "stdout"
        },
        {
          "output_type": "stream",
          "text": [
            "/usr/local/lib/python3.6/dist-packages/pandas/_config/config.py:620: FutureWarning: \n",
            ": boolean\n",
            "    use_inf_as_null had been deprecated and will be removed in a future\n",
            "    version. Use `use_inf_as_na` instead.\n",
            "\n",
            "  warnings.warn(d.msg, FutureWarning)\n"
          ],
          "name": "stderr"
        }
      ]
    },
    {
      "cell_type": "markdown",
      "metadata": {
        "id": "t8Hm1X4NgDkW",
        "colab_type": "text"
      },
      "source": [
        "### if you dont show FutureWarning, use 'slient = True'"
      ]
    },
    {
      "cell_type": "code",
      "metadata": {
        "id": "2-3tdkUggBYc",
        "colab_type": "code",
        "colab": {}
      },
      "source": [
        "pd.reset_option('all', silent=True)"
      ],
      "execution_count": 19,
      "outputs": []
    },
    {
      "cell_type": "markdown",
      "metadata": {
        "id": "-lQ_0gj5gOru",
        "colab_type": "text"
      },
      "source": [
        "# Temporarily change setting in a 'with block'"
      ]
    },
    {
      "cell_type": "code",
      "metadata": {
        "id": "ux9Yizw5gKdM",
        "colab_type": "code",
        "colab": {
          "base_uri": "https://localhost:8080/",
          "height": 51
        },
        "outputId": "3404e7c4-18ad-4e94-d96b-f287fa5791e5"
      },
      "source": [
        "with pd.option_context('display.max_rows', 100): # context only?\n",
        "    print(pd.options.display.max_rows)\n",
        "print(pd.options.display.max_rows)"
      ],
      "execution_count": 23,
      "outputs": [
        {
          "output_type": "stream",
          "text": [
            "100\n",
            "60\n"
          ],
          "name": "stdout"
        }
      ]
    },
    {
      "cell_type": "code",
      "metadata": {
        "id": "aIawq5K7gaz_",
        "colab_type": "code",
        "colab": {
          "base_uri": "https://localhost:8080/",
          "height": 85
        },
        "outputId": "b96c6e6f-2304-4400-b0e6-d7423fb18681"
      },
      "source": [
        "with pd.option_context('display.max_rows', 100, 'display.max_columns', 100):\n",
        "    print(pd.options.display.max_rows)\n",
        "    print(pd.options.display.max_columns)\n",
        "print(pd.options.display.max_rows)\n",
        "print(pd.options.display.max_columns)"
      ],
      "execution_count": 25,
      "outputs": [
        {
          "output_type": "stream",
          "text": [
            "100\n",
            "100\n",
            "60\n",
            "0\n"
          ],
          "name": "stdout"
        }
      ]
    },
    {
      "cell_type": "markdown",
      "metadata": {
        "id": "Zls7OwRZg4kY",
        "colab_type": "text"
      },
      "source": [
        "# swap index and values in pandas.Series"
      ]
    },
    {
      "cell_type": "code",
      "metadata": {
        "id": "tGi2Cq7Zgx19",
        "colab_type": "code",
        "colab": {
          "base_uri": "https://localhost:8080/",
          "height": 119
        },
        "outputId": "5723bd54-6df6-40d8-93e8-1bc1dcff43b2"
      },
      "source": [
        "import pandas as pd\n",
        "import timeit\n",
        "s = pd.Series(['a','b','c','d','e'])\n",
        "print(s)"
      ],
      "execution_count": 26,
      "outputs": [
        {
          "output_type": "stream",
          "text": [
            "0    a\n",
            "1    b\n",
            "2    c\n",
            "3    d\n",
            "4    e\n",
            "dtype: object\n"
          ],
          "name": "stdout"
        }
      ]
    },
    {
      "cell_type": "markdown",
      "metadata": {
        "id": "oB_G2U8Vi9ZP",
        "colab_type": "text"
      },
      "source": [
        "## Series, the first argument 'data', the second argument 'index', ok?"
      ]
    },
    {
      "cell_type": "code",
      "metadata": {
        "id": "2otkUQvEi3mk",
        "colab_type": "code",
        "colab": {
          "base_uri": "https://localhost:8080/",
          "height": 119
        },
        "outputId": "456a7590-f844-4b32-c1eb-06c188979603"
      },
      "source": [
        "s_swap = pd.Series(s.index.values, s.values) # swap\n",
        "print(s_swap)"
      ],
      "execution_count": 28,
      "outputs": [
        {
          "output_type": "stream",
          "text": [
            "a    0\n",
            "b    1\n",
            "c    2\n",
            "d    3\n",
            "e    4\n",
            "dtype: int64\n"
          ],
          "name": "stdout"
        }
      ]
    },
    {
      "cell_type": "markdown",
      "metadata": {
        "id": "vTG1Dpjpja6j",
        "colab_type": "text"
      },
      "source": [
        "# timeit get times"
      ]
    },
    {
      "cell_type": "code",
      "metadata": {
        "id": "GG-zCYMfjFwi",
        "colab_type": "code",
        "colab": {
          "base_uri": "https://localhost:8080/",
          "height": 51
        },
        "outputId": "3f02859b-26df-4ab6-d0b7-815bb76059ac"
      },
      "source": [
        "loop = 10000\n",
        "result = timeit.timeit(lambda:pd.Series(s.index.values, s.values), number = loop)\n",
        "print(result / loop)\n",
        "result = timeit.timeit(lambda : pd.Series(s.index, s), number = loop)\n",
        "print(result / loop)"
      ],
      "execution_count": 29,
      "outputs": [
        {
          "output_type": "stream",
          "text": [
            "0.00017270306769999024\n",
            "0.00024163662169999044\n"
          ],
          "name": "stdout"
        }
      ]
    },
    {
      "cell_type": "markdown",
      "metadata": {
        "id": "PFiUzuSkjqnx",
        "colab_type": "text"
      },
      "source": [
        "## .values so fast!"
      ]
    },
    {
      "cell_type": "markdown",
      "metadata": {
        "id": "utlYEpFwjxl5",
        "colab_type": "text"
      },
      "source": [
        "# Get rows and columns number in pandas.DataFrame"
      ]
    },
    {
      "cell_type": "code",
      "metadata": {
        "id": "-WipfIhOjo18",
        "colab_type": "code",
        "colab": {
          "base_uri": "https://localhost:8080/",
          "height": 153
        },
        "outputId": "a17b701f-cbf7-4ab4-eefe-9c2d7c0f9cec"
      },
      "source": [
        "import pandas as pd\n",
        "df = pd.read_csv('./sample_pandas_normal.csv', index_col = 0)\n",
        "print(df)"
      ],
      "execution_count": 30,
      "outputs": [
        {
          "output_type": "stream",
          "text": [
            "         age state  point\n",
            "name                     \n",
            "Alice     24    NY     64\n",
            "Bob       42    CA     92\n",
            "Charlie   18    CA     70\n",
            "Dave      68    TX     70\n",
            "Ellen     24    CA     88\n",
            "Frank     30    NY     57\n"
          ],
          "name": "stdout"
        }
      ]
    },
    {
      "cell_type": "markdown",
      "metadata": {
        "id": "c9yeZZIokT1S",
        "colab_type": "text"
      },
      "source": [
        "### get_loc()"
      ]
    },
    {
      "cell_type": "code",
      "metadata": {
        "id": "1bi0i5XDkGlW",
        "colab_type": "code",
        "colab": {
          "base_uri": "https://localhost:8080/",
          "height": 51
        },
        "outputId": "29e648a2-a992-4014-8b37-e9053915a671"
      },
      "source": [
        "print(df.index.get_loc('Alice'))\n",
        "print(df.index.get_loc('Ellen'))"
      ],
      "execution_count": 31,
      "outputs": [
        {
          "output_type": "stream",
          "text": [
            "0\n",
            "4\n"
          ],
          "name": "stdout"
        }
      ]
    },
    {
      "cell_type": "code",
      "metadata": {
        "id": "YQR8k11ykbCZ",
        "colab_type": "code",
        "colab": {
          "base_uri": "https://localhost:8080/",
          "height": 51
        },
        "outputId": "f0a322de-5706-479e-d270-c1d1498758e2"
      },
      "source": [
        "print(df.columns.get_loc('age'))\n",
        "print(df.columns.get_loc('point'))"
      ],
      "execution_count": 33,
      "outputs": [
        {
          "output_type": "stream",
          "text": [
            "0\n",
            "2\n"
          ],
          "name": "stdout"
        }
      ]
    },
    {
      "cell_type": "markdown",
      "metadata": {
        "id": "ywngJy4Mltbr",
        "colab_type": "text"
      },
      "source": [
        "# Duplicate row and column name"
      ]
    },
    {
      "cell_type": "code",
      "metadata": {
        "id": "tW5gVuPrlfOZ",
        "colab_type": "code",
        "colab": {
          "base_uri": "https://localhost:8080/",
          "height": 153
        },
        "outputId": "c9bfeede-ddbb-4078-c25a-a3348e66a4e1"
      },
      "source": [
        "df_dup = df.rename(index = {'Charlie':'Bob'})\n",
        "print(df_dup)"
      ],
      "execution_count": 34,
      "outputs": [
        {
          "output_type": "stream",
          "text": [
            "       age state  point\n",
            "name                   \n",
            "Alice   24    NY     64\n",
            "Bob     42    CA     92\n",
            "Bob     18    CA     70\n",
            "Dave    68    TX     70\n",
            "Ellen   24    CA     88\n",
            "Frank   30    NY     57\n"
          ],
          "name": "stdout"
        }
      ]
    },
    {
      "cell_type": "code",
      "metadata": {
        "id": "H_Sglx7jl1Uc",
        "colab_type": "code",
        "colab": {
          "base_uri": "https://localhost:8080/",
          "height": 51
        },
        "outputId": "e2fe9818-6668-4007-befc-18de4d76a5b4"
      },
      "source": [
        "print(df_dup.index.get_loc('Bob'))\n",
        "print(type(df_dup.index.get_loc('Bob')))"
      ],
      "execution_count": 35,
      "outputs": [
        {
          "output_type": "stream",
          "text": [
            "slice(1, 3, None)\n",
            "<class 'slice'>\n"
          ],
          "name": "stdout"
        }
      ]
    },
    {
      "cell_type": "code",
      "metadata": {
        "id": "44McGtg3mPRB",
        "colab_type": "code",
        "colab": {}
      },
      "source": [
        "df_dup.rename(index = {'Ellen':'Bob'},inplace=True)"
      ],
      "execution_count": 36,
      "outputs": []
    },
    {
      "cell_type": "code",
      "metadata": {
        "id": "s9M5RuHfmVGK",
        "colab_type": "code",
        "colab": {
          "base_uri": "https://localhost:8080/",
          "height": 153
        },
        "outputId": "3c3a5c4d-bcc5-440a-dc31-1ddd1ea32935"
      },
      "source": [
        "print(df_dup)"
      ],
      "execution_count": 37,
      "outputs": [
        {
          "output_type": "stream",
          "text": [
            "       age state  point\n",
            "name                   \n",
            "Alice   24    NY     64\n",
            "Bob     42    CA     92\n",
            "Bob     18    CA     70\n",
            "Dave    68    TX     70\n",
            "Bob     24    CA     88\n",
            "Frank   30    NY     57\n"
          ],
          "name": "stdout"
        }
      ]
    },
    {
      "cell_type": "code",
      "metadata": {
        "id": "6D3_LzfDmWKA",
        "colab_type": "code",
        "colab": {
          "base_uri": "https://localhost:8080/",
          "height": 34
        },
        "outputId": "6d1ece0f-623b-4a11-c1a9-44ef9d43eafd"
      },
      "source": [
        "print(df_dup.index.get_loc('Bob')) # return ndarray"
      ],
      "execution_count": 38,
      "outputs": [
        {
          "output_type": "stream",
          "text": [
            "[False  True  True False  True False]\n"
          ],
          "name": "stdout"
        }
      ]
    },
    {
      "cell_type": "code",
      "metadata": {
        "id": "79VB6l9img45",
        "colab_type": "code",
        "colab": {
          "base_uri": "https://localhost:8080/",
          "height": 187
        },
        "outputId": "78e8d263-dc15-420b-a9e0-b682402f8e81"
      },
      "source": [
        "print(df_dup[df_dup.index.get_loc('Bob')])\n",
        "print(df_dup.iloc[df_dup.index.get_loc('Bob'), 0])"
      ],
      "execution_count": 40,
      "outputs": [
        {
          "output_type": "stream",
          "text": [
            "      age state  point\n",
            "name                  \n",
            "Bob    42    CA     92\n",
            "Bob    18    CA     70\n",
            "Bob    24    CA     88\n",
            "name\n",
            "Bob    42\n",
            "Bob    18\n",
            "Bob    24\n",
            "Name: age, dtype: int64\n"
          ],
          "name": "stdout"
        }
      ]
    },
    {
      "cell_type": "code",
      "metadata": {
        "id": "Z_yMC9BSnBXx",
        "colab_type": "code",
        "colab": {
          "base_uri": "https://localhost:8080/",
          "height": 102
        },
        "outputId": "d3b7d936-3714-4ae7-b296-aeb9a3452862"
      },
      "source": [
        "print(df_dup.query('index == \"Bob\"'))"
      ],
      "execution_count": 41,
      "outputs": [
        {
          "output_type": "stream",
          "text": [
            "      age state  point\n",
            "name                  \n",
            "Bob    42    CA     92\n",
            "Bob    18    CA     70\n",
            "Bob    24    CA     88\n"
          ],
          "name": "stdout"
        }
      ]
    },
    {
      "cell_type": "code",
      "metadata": {
        "id": "UKbhvb9xnpGw",
        "colab_type": "code",
        "colab": {
          "base_uri": "https://localhost:8080/",
          "height": 34
        },
        "outputId": "e2057306-df44-46fc-d198-ca11b965fe9d"
      },
      "source": [
        "l_index = list(df.index)\n",
        "print(l_index)"
      ],
      "execution_count": 42,
      "outputs": [
        {
          "output_type": "stream",
          "text": [
            "['Alice', 'Bob', 'Charlie', 'Dave', 'Ellen', 'Frank']\n"
          ],
          "name": "stdout"
        }
      ]
    },
    {
      "cell_type": "code",
      "metadata": {
        "id": "rBLFieJbnsxx",
        "colab_type": "code",
        "colab": {
          "base_uri": "https://localhost:8080/",
          "height": 34
        },
        "outputId": "e1c8c3b9-bd85-4971-c814-641505dd3a24"
      },
      "source": [
        "print(type(l_index))"
      ],
      "execution_count": 43,
      "outputs": [
        {
          "output_type": "stream",
          "text": [
            "<class 'list'>\n"
          ],
          "name": "stdout"
        }
      ]
    },
    {
      "cell_type": "code",
      "metadata": {
        "id": "EzPumkCTnt2o",
        "colab_type": "code",
        "colab": {
          "base_uri": "https://localhost:8080/",
          "height": 34
        },
        "outputId": "7f00bb4a-c628-47c7-8917-383556b9c816"
      },
      "source": [
        "l_columns=list(df.columns)\n",
        "print(l_columns)"
      ],
      "execution_count": 44,
      "outputs": [
        {
          "output_type": "stream",
          "text": [
            "['age', 'state', 'point']\n"
          ],
          "name": "stdout"
        }
      ]
    },
    {
      "cell_type": "code",
      "metadata": {
        "id": "IhBJ1BnAnx4Y",
        "colab_type": "code",
        "colab": {
          "base_uri": "https://localhost:8080/",
          "height": 34
        },
        "outputId": "3810c874-66b3-442d-c06a-5757d693822e"
      },
      "source": [
        "print(type(l_columns))"
      ],
      "execution_count": 45,
      "outputs": [
        {
          "output_type": "stream",
          "text": [
            "<class 'list'>\n"
          ],
          "name": "stdout"
        }
      ]
    },
    {
      "cell_type": "code",
      "metadata": {
        "id": "8tNavKOonzbI",
        "colab_type": "code",
        "colab": {
          "base_uri": "https://localhost:8080/",
          "height": 34
        },
        "outputId": "f694da0e-3a73-48c4-f259-b69f63165f29"
      },
      "source": [
        "print(l_index.index('Bob'))"
      ],
      "execution_count": 46,
      "outputs": [
        {
          "output_type": "stream",
          "text": [
            "1\n"
          ],
          "name": "stdout"
        }
      ]
    },
    {
      "cell_type": "code",
      "metadata": {
        "id": "jBMeGF5vn3Nw",
        "colab_type": "code",
        "colab": {
          "base_uri": "https://localhost:8080/",
          "height": 34
        },
        "outputId": "e257d54f-cba2-4c62-b44d-b5f54ecbd91b"
      },
      "source": [
        "l_index_dup = list(df_dup.index)\n",
        "print(l_index_dup)"
      ],
      "execution_count": 47,
      "outputs": [
        {
          "output_type": "stream",
          "text": [
            "['Alice', 'Bob', 'Bob', 'Dave', 'Bob', 'Frank']\n"
          ],
          "name": "stdout"
        }
      ]
    },
    {
      "cell_type": "code",
      "metadata": {
        "id": "7JE85S-4n98g",
        "colab_type": "code",
        "colab": {
          "base_uri": "https://localhost:8080/",
          "height": 34
        },
        "outputId": "218444b4-1341-4dda-a576-7ed8cbbf1f65"
      },
      "source": [
        "print([i for i,x in enumerate(l_index_dup) if x == 'Bob'])"
      ],
      "execution_count": 48,
      "outputs": [
        {
          "output_type": "stream",
          "text": [
            "[1, 2, 4]\n"
          ],
          "name": "stdout"
        }
      ]
    },
    {
      "cell_type": "code",
      "metadata": {
        "id": "3WZEOrkvoBtQ",
        "colab_type": "code",
        "colab": {
          "base_uri": "https://localhost:8080/",
          "height": 266
        },
        "outputId": "51efdb87-12f1-4c2b-fca3-b6cce56fa4ee"
      },
      "source": [
        "df"
      ],
      "execution_count": 49,
      "outputs": [
        {
          "output_type": "execute_result",
          "data": {
            "text/html": [
              "<div>\n",
              "<style scoped>\n",
              "    .dataframe tbody tr th:only-of-type {\n",
              "        vertical-align: middle;\n",
              "    }\n",
              "\n",
              "    .dataframe tbody tr th {\n",
              "        vertical-align: top;\n",
              "    }\n",
              "\n",
              "    .dataframe thead th {\n",
              "        text-align: right;\n",
              "    }\n",
              "</style>\n",
              "<table border=\"1\" class=\"dataframe\">\n",
              "  <thead>\n",
              "    <tr style=\"text-align: right;\">\n",
              "      <th></th>\n",
              "      <th>age</th>\n",
              "      <th>state</th>\n",
              "      <th>point</th>\n",
              "    </tr>\n",
              "    <tr>\n",
              "      <th>name</th>\n",
              "      <th></th>\n",
              "      <th></th>\n",
              "      <th></th>\n",
              "    </tr>\n",
              "  </thead>\n",
              "  <tbody>\n",
              "    <tr>\n",
              "      <th>Alice</th>\n",
              "      <td>24</td>\n",
              "      <td>NY</td>\n",
              "      <td>64</td>\n",
              "    </tr>\n",
              "    <tr>\n",
              "      <th>Bob</th>\n",
              "      <td>42</td>\n",
              "      <td>CA</td>\n",
              "      <td>92</td>\n",
              "    </tr>\n",
              "    <tr>\n",
              "      <th>Charlie</th>\n",
              "      <td>18</td>\n",
              "      <td>CA</td>\n",
              "      <td>70</td>\n",
              "    </tr>\n",
              "    <tr>\n",
              "      <th>Dave</th>\n",
              "      <td>68</td>\n",
              "      <td>TX</td>\n",
              "      <td>70</td>\n",
              "    </tr>\n",
              "    <tr>\n",
              "      <th>Ellen</th>\n",
              "      <td>24</td>\n",
              "      <td>CA</td>\n",
              "      <td>88</td>\n",
              "    </tr>\n",
              "    <tr>\n",
              "      <th>Frank</th>\n",
              "      <td>30</td>\n",
              "      <td>NY</td>\n",
              "      <td>57</td>\n",
              "    </tr>\n",
              "  </tbody>\n",
              "</table>\n",
              "</div>"
            ],
            "text/plain": [
              "         age state  point\n",
              "name                     \n",
              "Alice     24    NY     64\n",
              "Bob       42    CA     92\n",
              "Charlie   18    CA     70\n",
              "Dave      68    TX     70\n",
              "Ellen     24    CA     88\n",
              "Frank     30    NY     57"
            ]
          },
          "metadata": {
            "tags": []
          },
          "execution_count": 49
        }
      ]
    },
    {
      "cell_type": "markdown",
      "metadata": {
        "id": "uwr3Qv6voIMs",
        "colab_type": "text"
      },
      "source": [
        "# query()"
      ]
    },
    {
      "cell_type": "code",
      "metadata": {
        "id": "fQcv5sGDoF8Y",
        "colab_type": "code",
        "colab": {
          "base_uri": "https://localhost:8080/",
          "height": 102
        },
        "outputId": "26c70280-0578-48aa-e823-91b512ca0a89"
      },
      "source": [
        "print(df.query('state == \"CA\"'))"
      ],
      "execution_count": 50,
      "outputs": [
        {
          "output_type": "stream",
          "text": [
            "         age state  point\n",
            "name                     \n",
            "Bob       42    CA     92\n",
            "Charlie   18    CA     70\n",
            "Ellen     24    CA     88\n"
          ],
          "name": "stdout"
        }
      ]
    },
    {
      "cell_type": "code",
      "metadata": {
        "id": "ONFptycCoLZ6",
        "colab_type": "code",
        "colab": {
          "base_uri": "https://localhost:8080/",
          "height": 34
        },
        "outputId": "35597d74-117e-4401-e923-34f6422269c0"
      },
      "source": [
        "print(list(df.query('state == \"CA\"').index))"
      ],
      "execution_count": 51,
      "outputs": [
        {
          "output_type": "stream",
          "text": [
            "['Bob', 'Charlie', 'Ellen']\n"
          ],
          "name": "stdout"
        }
      ]
    },
    {
      "cell_type": "code",
      "metadata": {
        "id": "zRncIq3apqsw",
        "colab_type": "code",
        "colab": {
          "base_uri": "https://localhost:8080/",
          "height": 102
        },
        "outputId": "08583b4e-4e8b-4c3d-d1aa-d15de259dd51"
      },
      "source": [
        "print(df.query('state == \"TX\"'))\n",
        "print(list(df.query('state == \"TX\"').index))\n",
        "print(df.query('state == \"TX\"').index[0])"
      ],
      "execution_count": 52,
      "outputs": [
        {
          "output_type": "stream",
          "text": [
            "      age state  point\n",
            "name                  \n",
            "Dave   68    TX     70\n",
            "['Dave']\n",
            "Dave\n"
          ],
          "name": "stdout"
        }
      ]
    },
    {
      "cell_type": "code",
      "metadata": {
        "id": "Rb9FZ_ebp86g",
        "colab_type": "code",
        "colab": {
          "base_uri": "https://localhost:8080/",
          "height": 136
        },
        "outputId": "92b9b119-11a6-4f12-95e3-a99ec8cb98ae"
      },
      "source": [
        "print(df.reset_index())"
      ],
      "execution_count": 53,
      "outputs": [
        {
          "output_type": "stream",
          "text": [
            "      name  age state  point\n",
            "0    Alice   24    NY     64\n",
            "1      Bob   42    CA     92\n",
            "2  Charlie   18    CA     70\n",
            "3     Dave   68    TX     70\n",
            "4    Ellen   24    CA     88\n",
            "5    Frank   30    NY     57\n"
          ],
          "name": "stdout"
        }
      ]
    },
    {
      "cell_type": "code",
      "metadata": {
        "id": "zX4OsoSEqHSg",
        "colab_type": "code",
        "colab": {
          "base_uri": "https://localhost:8080/",
          "height": 68
        },
        "outputId": "6a46669f-1291-4621-e568-cd2ed0209157"
      },
      "source": [
        "print(list(df.reset_index().query('state == \"CA\"').index))\n",
        "print(list(df.reset_index().query('state == \"TX\"').index))\n",
        "print(df.reset_index().query('state==\"TX\"').index[0])"
      ],
      "execution_count": 54,
      "outputs": [
        {
          "output_type": "stream",
          "text": [
            "[1, 2, 4]\n",
            "[3]\n",
            "3\n"
          ],
          "name": "stdout"
        }
      ]
    },
    {
      "cell_type": "code",
      "metadata": {
        "id": "Ii5Qb3IIqST8",
        "colab_type": "code",
        "colab": {}
      },
      "source": [
        ""
      ],
      "execution_count": null,
      "outputs": []
    }
  ]
}