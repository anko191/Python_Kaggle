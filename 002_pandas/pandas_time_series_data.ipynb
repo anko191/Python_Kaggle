{
  "nbformat": 4,
  "nbformat_minor": 0,
  "metadata": {
    "colab": {
      "name": "pandas_time_series_data",
      "provenance": [],
      "collapsed_sections": [],
      "authorship_tag": "ABX9TyOEKMXxOLDihb4afqeVsMWs",
      "include_colab_link": true
    },
    "kernelspec": {
      "name": "python3",
      "display_name": "Python 3"
    }
  },
  "cells": [
    {
      "cell_type": "markdown",
      "metadata": {
        "id": "view-in-github",
        "colab_type": "text"
      },
      "source": [
        "<a href=\"https://colab.research.google.com/github/anko191/Python_Kaggle/blob/master/pandas/pandas_time_series_data.ipynb\" target=\"_parent\"><img src=\"https://colab.research.google.com/assets/colab-badge.svg\" alt=\"Open In Colab\"/></a>"
      ]
    },
    {
      "cell_type": "code",
      "metadata": {
        "id": "njiXy6JZWygH",
        "colab_type": "code",
        "colab": {
          "base_uri": "https://localhost:8080/",
          "height": 238
        },
        "outputId": "97b4f272-15f7-4a93-8d80-767291f913b4"
      },
      "source": [
        "import pandas as pd\n",
        "df = pd.read_csv('/content/sample_date.csv')\n",
        "print(df)"
      ],
      "execution_count": 219,
      "outputs": [
        {
          "output_type": "stream",
          "text": [
            "          date  val_1  val_2\n",
            "0   2017-11-01     65     76\n",
            "1   2017-11-07     26     66\n",
            "2   2017-11-18     47     47\n",
            "3   2017-11-27     20     38\n",
            "4   2017-12-05     65     85\n",
            "5   2017-12-12      4     29\n",
            "6   2017-12-22     31     54\n",
            "7   2017-12-29     21      8\n",
            "8   2018-01-03     98     76\n",
            "9   2018-01-08     48     64\n",
            "10  2018-01-19     18     48\n",
            "11  2018-01-23     86     70\n"
          ],
          "name": "stdout"
        }
      ]
    },
    {
      "cell_type": "code",
      "metadata": {
        "id": "SQjGYoI5Xh23",
        "colab_type": "code",
        "colab": {
          "base_uri": "https://localhost:8080/",
          "height": 34
        },
        "outputId": "49fd23e8-d7f2-422b-9fa2-9d3e733fd1c0"
      },
      "source": [
        "print(df['date'].dtype)"
      ],
      "execution_count": 220,
      "outputs": [
        {
          "output_type": "stream",
          "text": [
            "object\n"
          ],
          "name": "stdout"
        }
      ]
    },
    {
      "cell_type": "code",
      "metadata": {
        "id": "a0QqDWRbXkPu",
        "colab_type": "code",
        "colab": {
          "base_uri": "https://localhost:8080/",
          "height": 34
        },
        "outputId": "bb7e1b43-8d80-411d-eb56-b8bc57538503"
      },
      "source": [
        "df['date'] = pd.to_datetime(df['date'])\n",
        "print(df['date'].dtype)"
      ],
      "execution_count": 221,
      "outputs": [
        {
          "output_type": "stream",
          "text": [
            "datetime64[ns]\n"
          ],
          "name": "stdout"
        }
      ]
    },
    {
      "cell_type": "code",
      "metadata": {
        "id": "IpOGxQh_XpVG",
        "colab_type": "code",
        "colab": {
          "base_uri": "https://localhost:8080/",
          "height": 255
        },
        "outputId": "df931310-b8f0-4928-d0e3-a25307ac42ab"
      },
      "source": [
        "df.set_index('date', inplace=True)\n",
        "print(df)"
      ],
      "execution_count": 222,
      "outputs": [
        {
          "output_type": "stream",
          "text": [
            "            val_1  val_2\n",
            "date                    \n",
            "2017-11-01     65     76\n",
            "2017-11-07     26     66\n",
            "2017-11-18     47     47\n",
            "2017-11-27     20     38\n",
            "2017-12-05     65     85\n",
            "2017-12-12      4     29\n",
            "2017-12-22     31     54\n",
            "2017-12-29     21      8\n",
            "2018-01-03     98     76\n",
            "2018-01-08     48     64\n",
            "2018-01-19     18     48\n",
            "2018-01-23     86     70\n"
          ],
          "name": "stdout"
        }
      ]
    },
    {
      "cell_type": "code",
      "metadata": {
        "id": "e-bp4tCcXsiu",
        "colab_type": "code",
        "colab": {
          "base_uri": "https://localhost:8080/",
          "height": 34
        },
        "outputId": "52372446-d29c-43ca-d4ae-b7fa88bcbacb"
      },
      "source": [
        "print(df.index[0])"
      ],
      "execution_count": 223,
      "outputs": [
        {
          "output_type": "stream",
          "text": [
            "2017-11-01 00:00:00\n"
          ],
          "name": "stdout"
        }
      ]
    },
    {
      "cell_type": "code",
      "metadata": {
        "id": "oNoAcz81XuPu",
        "colab_type": "code",
        "colab": {
          "base_uri": "https://localhost:8080/",
          "height": 187
        },
        "outputId": "46b68a1e-20dc-48de-9871-3709e406d473"
      },
      "source": [
        "print(df['2017'])"
      ],
      "execution_count": 224,
      "outputs": [
        {
          "output_type": "stream",
          "text": [
            "            val_1  val_2\n",
            "date                    \n",
            "2017-11-01     65     76\n",
            "2017-11-07     26     66\n",
            "2017-11-18     47     47\n",
            "2017-11-27     20     38\n",
            "2017-12-05     65     85\n",
            "2017-12-12      4     29\n",
            "2017-12-22     31     54\n",
            "2017-12-29     21      8\n"
          ],
          "name": "stdout"
        }
      ]
    },
    {
      "cell_type": "code",
      "metadata": {
        "id": "-i3Pnml6X1TF",
        "colab_type": "code",
        "colab": {
          "base_uri": "https://localhost:8080/",
          "height": 34
        },
        "outputId": "8b22e335-faf6-473f-c99b-7c34aa21706f"
      },
      "source": [
        "print(df.loc['01/19/2018', 'val_1'])"
      ],
      "execution_count": 225,
      "outputs": [
        {
          "output_type": "stream",
          "text": [
            "18\n"
          ],
          "name": "stdout"
        }
      ]
    },
    {
      "cell_type": "code",
      "metadata": {
        "id": "6q0HKAyyX4iH",
        "colab_type": "code",
        "colab": {
          "base_uri": "https://localhost:8080/",
          "height": 238
        },
        "outputId": "5154148e-f9e9-4181-afbd-0faf498d4301"
      },
      "source": [
        "df_jp = pd.read_csv('/content/sample_date_jp.csv')\n",
        "print(df_jp)"
      ],
      "execution_count": 226,
      "outputs": [
        {
          "output_type": "stream",
          "text": [
            "           date  val_1  val_2\n",
            "0    2017年11月1日     65     76\n",
            "1    2017年11月7日     26     66\n",
            "2   2017年11月18日     47     47\n",
            "3   2017年11月27日     20     38\n",
            "4    2017年12月5日     65     85\n",
            "5   2017年12月12日      4     29\n",
            "6   2017年12月22日     31     54\n",
            "7   2017年12月29日     21      8\n",
            "8     2018年1月3日     98     76\n",
            "9     2018年1月8日     48     64\n",
            "10   2018年1月19日     18     48\n",
            "11   2018年1月23日     86     70\n"
          ],
          "name": "stdout"
        }
      ]
    },
    {
      "cell_type": "code",
      "metadata": {
        "id": "a8eoYSS6YIue",
        "colab_type": "code",
        "colab": {
          "base_uri": "https://localhost:8080/",
          "height": 255
        },
        "outputId": "ff219b89-da27-4ac9-8acf-4492a8a58dae"
      },
      "source": [
        "df_jp['date'] = pd.to_datetime(df_jp['date'], format='%Y年%m月%d日')\n",
        "df_jp.set_index('date', inplace=True)\n",
        "print(df_jp)"
      ],
      "execution_count": 227,
      "outputs": [
        {
          "output_type": "stream",
          "text": [
            "            val_1  val_2\n",
            "date                    \n",
            "2017-11-01     65     76\n",
            "2017-11-07     26     66\n",
            "2017-11-18     47     47\n",
            "2017-11-27     20     38\n",
            "2017-12-05     65     85\n",
            "2017-12-12      4     29\n",
            "2017-12-22     31     54\n",
            "2017-12-29     21      8\n",
            "2018-01-03     98     76\n",
            "2018-01-08     48     64\n",
            "2018-01-19     18     48\n",
            "2018-01-23     86     70\n"
          ],
          "name": "stdout"
        }
      ]
    },
    {
      "cell_type": "code",
      "metadata": {
        "id": "3xn2mvg4YUh_",
        "colab_type": "code",
        "colab": {
          "base_uri": "https://localhost:8080/",
          "height": 255
        },
        "outputId": "6a4b9231-1c9f-4138-d240-4c75e30f1b97"
      },
      "source": [
        "df = pd.read_csv('/content/sample_date.csv', index_col = 'date', parse_dates = True)\n",
        "print(df)"
      ],
      "execution_count": 228,
      "outputs": [
        {
          "output_type": "stream",
          "text": [
            "            val_1  val_2\n",
            "date                    \n",
            "2017-11-01     65     76\n",
            "2017-11-07     26     66\n",
            "2017-11-18     47     47\n",
            "2017-11-27     20     38\n",
            "2017-12-05     65     85\n",
            "2017-12-12      4     29\n",
            "2017-12-22     31     54\n",
            "2017-12-29     21      8\n",
            "2018-01-03     98     76\n",
            "2018-01-08     48     64\n",
            "2018-01-19     18     48\n",
            "2018-01-23     86     70\n"
          ],
          "name": "stdout"
        }
      ]
    },
    {
      "cell_type": "code",
      "metadata": {
        "id": "XtV0Rp37Y1w-",
        "colab_type": "code",
        "colab": {
          "base_uri": "https://localhost:8080/",
          "height": 255
        },
        "outputId": "af19cb66-5e58-49ff-dce0-d022c7583995"
      },
      "source": [
        "parser = lambda date: pd.to_datetime(date, format='%Y年%m月%d日')\n",
        "\n",
        "df_jp = pd.read_csv('/content/sample_date_jp.csv', index_col='date', parse_dates=True, date_parser=parser)\n",
        "print(df_jp)"
      ],
      "execution_count": 230,
      "outputs": [
        {
          "output_type": "stream",
          "text": [
            "            val_1  val_2\n",
            "date                    \n",
            "2017-11-01     65     76\n",
            "2017-11-07     26     66\n",
            "2017-11-18     47     47\n",
            "2017-11-27     20     38\n",
            "2017-12-05     65     85\n",
            "2017-12-12      4     29\n",
            "2017-12-22     31     54\n",
            "2017-12-29     21      8\n",
            "2018-01-03     98     76\n",
            "2018-01-08     48     64\n",
            "2018-01-19     18     48\n",
            "2018-01-23     86     70\n"
          ],
          "name": "stdout"
        }
      ]
    },
    {
      "cell_type": "code",
      "metadata": {
        "id": "mZFtXEm2Y4wl",
        "colab_type": "code",
        "colab": {
          "base_uri": "https://localhost:8080/",
          "height": 255
        },
        "outputId": "e7994134-4c35-4ef1-d700-b8154d7b267c"
      },
      "source": [
        "import pandas as pd\n",
        "df = pd.read_csv('/content/sample_date.csv', index_col = 0, parse_dates = True)\n",
        "print(df)"
      ],
      "execution_count": 231,
      "outputs": [
        {
          "output_type": "stream",
          "text": [
            "            val_1  val_2\n",
            "date                    \n",
            "2017-11-01     65     76\n",
            "2017-11-07     26     66\n",
            "2017-11-18     47     47\n",
            "2017-11-27     20     38\n",
            "2017-12-05     65     85\n",
            "2017-12-12      4     29\n",
            "2017-12-22     31     54\n",
            "2017-12-29     21      8\n",
            "2018-01-03     98     76\n",
            "2018-01-08     48     64\n",
            "2018-01-19     18     48\n",
            "2018-01-23     86     70\n"
          ],
          "name": "stdout"
        }
      ]
    },
    {
      "cell_type": "code",
      "metadata": {
        "id": "JZDqOn2hbQIn",
        "colab_type": "code",
        "colab": {
          "base_uri": "https://localhost:8080/",
          "height": 357
        },
        "outputId": "3b8d60f6-3566-4649-a3b1-8438e008b4a0"
      },
      "source": [
        "print(df.resample('W').sum())\n",
        "print(df.resample('M').sum())"
      ],
      "execution_count": 232,
      "outputs": [
        {
          "output_type": "stream",
          "text": [
            "            val_1  val_2\n",
            "date                    \n",
            "2017-11-05     65     76\n",
            "2017-11-12     26     66\n",
            "2017-11-19     47     47\n",
            "2017-11-26      0      0\n",
            "2017-12-03     20     38\n",
            "2017-12-10     65     85\n",
            "2017-12-17      4     29\n",
            "2017-12-24     31     54\n",
            "2017-12-31     21      8\n",
            "2018-01-07     98     76\n",
            "2018-01-14     48     64\n",
            "2018-01-21     18     48\n",
            "2018-01-28     86     70\n",
            "            val_1  val_2\n",
            "date                    \n",
            "2017-11-30    158    227\n",
            "2017-12-31    121    176\n",
            "2018-01-31    250    258\n"
          ],
          "name": "stdout"
        }
      ]
    },
    {
      "cell_type": "code",
      "metadata": {
        "id": "lKsQ9labbeQ0",
        "colab_type": "code",
        "colab": {
          "base_uri": "https://localhost:8080/",
          "height": 85
        },
        "outputId": "6c9fe895-0006-45db-a365-30ebe11a5c41"
      },
      "source": [
        "print(df.resample('Y').sum())"
      ],
      "execution_count": 233,
      "outputs": [
        {
          "output_type": "stream",
          "text": [
            "            val_1  val_2\n",
            "date                    \n",
            "2017-12-31    279    403\n",
            "2018-12-31    250    258\n"
          ],
          "name": "stdout"
        }
      ]
    },
    {
      "cell_type": "code",
      "metadata": {
        "id": "Do3LNl8Tbvkc",
        "colab_type": "code",
        "colab": {
          "base_uri": "https://localhost:8080/",
          "height": 136
        },
        "outputId": "0558eb4c-440e-4f1a-ccce-8a9eff6aba79"
      },
      "source": [
        "print(df.resample('3W').sum())"
      ],
      "execution_count": 234,
      "outputs": [
        {
          "output_type": "stream",
          "text": [
            "            val_1  val_2\n",
            "date                    \n",
            "2017-11-05     65     76\n",
            "2017-11-26     73    113\n",
            "2017-12-17     89    152\n",
            "2018-01-07    150    138\n",
            "2018-01-28    152    182\n"
          ],
          "name": "stdout"
        }
      ]
    },
    {
      "cell_type": "code",
      "metadata": {
        "id": "03V_e7fUbzUs",
        "colab_type": "code",
        "colab": {
          "base_uri": "https://localhost:8080/",
          "height": 102
        },
        "outputId": "aefedad1-db32-4da0-c52c-60c330f7d8d4"
      },
      "source": [
        "print(df.resample('Y').agg(['sum', 'mean', 'max', 'min']))"
      ],
      "execution_count": 235,
      "outputs": [
        {
          "output_type": "stream",
          "text": [
            "           val_1                 val_2                \n",
            "             sum    mean max min   sum    mean max min\n",
            "date                                                  \n",
            "2017-12-31   279  34.875  65   4   403  50.375  85   8\n",
            "2018-12-31   250  62.500  98  18   258  64.500  76  48\n"
          ],
          "name": "stdout"
        }
      ]
    },
    {
      "cell_type": "code",
      "metadata": {
        "id": "80cCDskBcMNc",
        "colab_type": "code",
        "colab": {
          "base_uri": "https://localhost:8080/",
          "height": 34
        },
        "outputId": "e48958ad-f949-4936-d028-5d73972f43f9"
      },
      "source": [
        "print(df.index.weekday)"
      ],
      "execution_count": 236,
      "outputs": [
        {
          "output_type": "stream",
          "text": [
            "Int64Index([2, 1, 5, 0, 1, 1, 4, 4, 2, 0, 4, 1], dtype='int64', name='date')\n"
          ],
          "name": "stdout"
        }
      ]
    },
    {
      "cell_type": "code",
      "metadata": {
        "id": "LnMCcFbdcUlt",
        "colab_type": "code",
        "colab": {
          "base_uri": "https://localhost:8080/",
          "height": 928
        },
        "outputId": "ec64cd4a-d8c6-4cda-f83e-25ef404fddd9"
      },
      "source": [
        "df_w = df.set_index([df.index.weekday, df.index])\n",
        "print(df_w)\n",
        "df_w.index.names = ['weekday', 'date']\n",
        "print(df_w)\n",
        "df_w.sort_index()"
      ],
      "execution_count": 238,
      "outputs": [
        {
          "output_type": "stream",
          "text": [
            "                 val_1  val_2\n",
            "date date                    \n",
            "2    2017-11-01     65     76\n",
            "1    2017-11-07     26     66\n",
            "5    2017-11-18     47     47\n",
            "0    2017-11-27     20     38\n",
            "1    2017-12-05     65     85\n",
            "     2017-12-12      4     29\n",
            "4    2017-12-22     31     54\n",
            "     2017-12-29     21      8\n",
            "2    2018-01-03     98     76\n",
            "0    2018-01-08     48     64\n",
            "4    2018-01-19     18     48\n",
            "1    2018-01-23     86     70\n",
            "                    val_1  val_2\n",
            "weekday date                    \n",
            "2       2017-11-01     65     76\n",
            "1       2017-11-07     26     66\n",
            "5       2017-11-18     47     47\n",
            "0       2017-11-27     20     38\n",
            "1       2017-12-05     65     85\n",
            "        2017-12-12      4     29\n",
            "4       2017-12-22     31     54\n",
            "        2017-12-29     21      8\n",
            "2       2018-01-03     98     76\n",
            "0       2018-01-08     48     64\n",
            "4       2018-01-19     18     48\n",
            "1       2018-01-23     86     70\n"
          ],
          "name": "stdout"
        },
        {
          "output_type": "execute_result",
          "data": {
            "text/html": [
              "<div>\n",
              "<style scoped>\n",
              "    .dataframe tbody tr th:only-of-type {\n",
              "        vertical-align: middle;\n",
              "    }\n",
              "\n",
              "    .dataframe tbody tr th {\n",
              "        vertical-align: top;\n",
              "    }\n",
              "\n",
              "    .dataframe thead th {\n",
              "        text-align: right;\n",
              "    }\n",
              "</style>\n",
              "<table border=\"1\" class=\"dataframe\">\n",
              "  <thead>\n",
              "    <tr style=\"text-align: right;\">\n",
              "      <th></th>\n",
              "      <th></th>\n",
              "      <th>val_1</th>\n",
              "      <th>val_2</th>\n",
              "    </tr>\n",
              "    <tr>\n",
              "      <th>weekday</th>\n",
              "      <th>date</th>\n",
              "      <th></th>\n",
              "      <th></th>\n",
              "    </tr>\n",
              "  </thead>\n",
              "  <tbody>\n",
              "    <tr>\n",
              "      <th rowspan=\"2\" valign=\"top\">0</th>\n",
              "      <th>2017-11-27</th>\n",
              "      <td>20</td>\n",
              "      <td>38</td>\n",
              "    </tr>\n",
              "    <tr>\n",
              "      <th>2018-01-08</th>\n",
              "      <td>48</td>\n",
              "      <td>64</td>\n",
              "    </tr>\n",
              "    <tr>\n",
              "      <th rowspan=\"4\" valign=\"top\">1</th>\n",
              "      <th>2017-11-07</th>\n",
              "      <td>26</td>\n",
              "      <td>66</td>\n",
              "    </tr>\n",
              "    <tr>\n",
              "      <th>2017-12-05</th>\n",
              "      <td>65</td>\n",
              "      <td>85</td>\n",
              "    </tr>\n",
              "    <tr>\n",
              "      <th>2017-12-12</th>\n",
              "      <td>4</td>\n",
              "      <td>29</td>\n",
              "    </tr>\n",
              "    <tr>\n",
              "      <th>2018-01-23</th>\n",
              "      <td>86</td>\n",
              "      <td>70</td>\n",
              "    </tr>\n",
              "    <tr>\n",
              "      <th rowspan=\"2\" valign=\"top\">2</th>\n",
              "      <th>2017-11-01</th>\n",
              "      <td>65</td>\n",
              "      <td>76</td>\n",
              "    </tr>\n",
              "    <tr>\n",
              "      <th>2018-01-03</th>\n",
              "      <td>98</td>\n",
              "      <td>76</td>\n",
              "    </tr>\n",
              "    <tr>\n",
              "      <th rowspan=\"3\" valign=\"top\">4</th>\n",
              "      <th>2017-12-22</th>\n",
              "      <td>31</td>\n",
              "      <td>54</td>\n",
              "    </tr>\n",
              "    <tr>\n",
              "      <th>2017-12-29</th>\n",
              "      <td>21</td>\n",
              "      <td>8</td>\n",
              "    </tr>\n",
              "    <tr>\n",
              "      <th>2018-01-19</th>\n",
              "      <td>18</td>\n",
              "      <td>48</td>\n",
              "    </tr>\n",
              "    <tr>\n",
              "      <th>5</th>\n",
              "      <th>2017-11-18</th>\n",
              "      <td>47</td>\n",
              "      <td>47</td>\n",
              "    </tr>\n",
              "  </tbody>\n",
              "</table>\n",
              "</div>"
            ],
            "text/plain": [
              "                    val_1  val_2\n",
              "weekday date                    \n",
              "0       2017-11-27     20     38\n",
              "        2018-01-08     48     64\n",
              "1       2017-11-07     26     66\n",
              "        2017-12-05     65     85\n",
              "        2017-12-12      4     29\n",
              "        2018-01-23     86     70\n",
              "2       2017-11-01     65     76\n",
              "        2018-01-03     98     76\n",
              "4       2017-12-22     31     54\n",
              "        2017-12-29     21      8\n",
              "        2018-01-19     18     48\n",
              "5       2017-11-18     47     47"
            ]
          },
          "metadata": {
            "tags": []
          },
          "execution_count": 238
        }
      ]
    },
    {
      "cell_type": "code",
      "metadata": {
        "id": "xC0Mmtsqc7S1",
        "colab_type": "code",
        "colab": {
          "base_uri": "https://localhost:8080/",
          "height": 153
        },
        "outputId": "8896b675-8a35-45e5-ab46-84ad5119a25a"
      },
      "source": [
        "print(df_w.groupby(level='weekday').agg(['sum', 'mean']))"
      ],
      "execution_count": 239,
      "outputs": [
        {
          "output_type": "stream",
          "text": [
            "        val_1            val_2           \n",
            "          sum       mean   sum       mean\n",
            "weekday                                  \n",
            "0          68  34.000000   102  51.000000\n",
            "1         181  45.250000   250  62.500000\n",
            "2         163  81.500000   152  76.000000\n",
            "4          70  23.333333   110  36.666667\n",
            "5          47  47.000000    47  47.000000\n"
          ],
          "name": "stdout"
        }
      ]
    },
    {
      "cell_type": "code",
      "metadata": {
        "id": "q4LZEZWveMQe",
        "colab_type": "code",
        "colab": {
          "base_uri": "https://localhost:8080/",
          "height": 68
        },
        "outputId": "df0057c6-392c-46a4-c96d-1f0f6c80913f"
      },
      "source": [
        "print(df.index.year)"
      ],
      "execution_count": 240,
      "outputs": [
        {
          "output_type": "stream",
          "text": [
            "Int64Index([2017, 2017, 2017, 2017, 2017, 2017, 2017, 2017, 2018, 2018, 2018,\n",
            "            2018],\n",
            "           dtype='int64', name='date')\n"
          ],
          "name": "stdout"
        }
      ]
    },
    {
      "cell_type": "code",
      "metadata": {
        "id": "CCVO-bBFeWbG",
        "colab_type": "code",
        "colab": {}
      },
      "source": [
        "df_y = df.set_index([df.index.year, df.index])"
      ],
      "execution_count": 241,
      "outputs": []
    },
    {
      "cell_type": "code",
      "metadata": {
        "id": "GAFnJuwHecQ8",
        "colab_type": "code",
        "colab": {}
      },
      "source": [
        "df_y.index.names=['year', 'date']"
      ],
      "execution_count": 242,
      "outputs": []
    },
    {
      "cell_type": "code",
      "metadata": {
        "id": "JbLZ5P1mee02",
        "colab_type": "code",
        "colab": {
          "base_uri": "https://localhost:8080/",
          "height": 452
        },
        "outputId": "3a1ff6dd-f8a4-46b8-ca39-3d0f29d3eb8b"
      },
      "source": [
        "df_y"
      ],
      "execution_count": 243,
      "outputs": [
        {
          "output_type": "execute_result",
          "data": {
            "text/html": [
              "<div>\n",
              "<style scoped>\n",
              "    .dataframe tbody tr th:only-of-type {\n",
              "        vertical-align: middle;\n",
              "    }\n",
              "\n",
              "    .dataframe tbody tr th {\n",
              "        vertical-align: top;\n",
              "    }\n",
              "\n",
              "    .dataframe thead th {\n",
              "        text-align: right;\n",
              "    }\n",
              "</style>\n",
              "<table border=\"1\" class=\"dataframe\">\n",
              "  <thead>\n",
              "    <tr style=\"text-align: right;\">\n",
              "      <th></th>\n",
              "      <th></th>\n",
              "      <th>val_1</th>\n",
              "      <th>val_2</th>\n",
              "    </tr>\n",
              "    <tr>\n",
              "      <th>year</th>\n",
              "      <th>date</th>\n",
              "      <th></th>\n",
              "      <th></th>\n",
              "    </tr>\n",
              "  </thead>\n",
              "  <tbody>\n",
              "    <tr>\n",
              "      <th rowspan=\"8\" valign=\"top\">2017</th>\n",
              "      <th>2017-11-01</th>\n",
              "      <td>65</td>\n",
              "      <td>76</td>\n",
              "    </tr>\n",
              "    <tr>\n",
              "      <th>2017-11-07</th>\n",
              "      <td>26</td>\n",
              "      <td>66</td>\n",
              "    </tr>\n",
              "    <tr>\n",
              "      <th>2017-11-18</th>\n",
              "      <td>47</td>\n",
              "      <td>47</td>\n",
              "    </tr>\n",
              "    <tr>\n",
              "      <th>2017-11-27</th>\n",
              "      <td>20</td>\n",
              "      <td>38</td>\n",
              "    </tr>\n",
              "    <tr>\n",
              "      <th>2017-12-05</th>\n",
              "      <td>65</td>\n",
              "      <td>85</td>\n",
              "    </tr>\n",
              "    <tr>\n",
              "      <th>2017-12-12</th>\n",
              "      <td>4</td>\n",
              "      <td>29</td>\n",
              "    </tr>\n",
              "    <tr>\n",
              "      <th>2017-12-22</th>\n",
              "      <td>31</td>\n",
              "      <td>54</td>\n",
              "    </tr>\n",
              "    <tr>\n",
              "      <th>2017-12-29</th>\n",
              "      <td>21</td>\n",
              "      <td>8</td>\n",
              "    </tr>\n",
              "    <tr>\n",
              "      <th rowspan=\"4\" valign=\"top\">2018</th>\n",
              "      <th>2018-01-03</th>\n",
              "      <td>98</td>\n",
              "      <td>76</td>\n",
              "    </tr>\n",
              "    <tr>\n",
              "      <th>2018-01-08</th>\n",
              "      <td>48</td>\n",
              "      <td>64</td>\n",
              "    </tr>\n",
              "    <tr>\n",
              "      <th>2018-01-19</th>\n",
              "      <td>18</td>\n",
              "      <td>48</td>\n",
              "    </tr>\n",
              "    <tr>\n",
              "      <th>2018-01-23</th>\n",
              "      <td>86</td>\n",
              "      <td>70</td>\n",
              "    </tr>\n",
              "  </tbody>\n",
              "</table>\n",
              "</div>"
            ],
            "text/plain": [
              "                 val_1  val_2\n",
              "year date                    \n",
              "2017 2017-11-01     65     76\n",
              "     2017-11-07     26     66\n",
              "     2017-11-18     47     47\n",
              "     2017-11-27     20     38\n",
              "     2017-12-05     65     85\n",
              "     2017-12-12      4     29\n",
              "     2017-12-22     31     54\n",
              "     2017-12-29     21      8\n",
              "2018 2018-01-03     98     76\n",
              "     2018-01-08     48     64\n",
              "     2018-01-19     18     48\n",
              "     2018-01-23     86     70"
            ]
          },
          "metadata": {
            "tags": []
          },
          "execution_count": 243
        }
      ]
    },
    {
      "cell_type": "code",
      "metadata": {
        "id": "X6f1_O7Nefd0",
        "colab_type": "code",
        "colab": {
          "base_uri": "https://localhost:8080/",
          "height": 255
        },
        "outputId": "7e47aa63-85da-444c-de10-4a4072b68489"
      },
      "source": [
        "# quarter\n",
        "df_w2 = df.set_index([df.index.week, df.index])\n",
        "df_w2.index.names=['week', 'date']\n",
        "print(df_w2)"
      ],
      "execution_count": 244,
      "outputs": [
        {
          "output_type": "stream",
          "text": [
            "                 val_1  val_2\n",
            "week date                    \n",
            "44   2017-11-01     65     76\n",
            "45   2017-11-07     26     66\n",
            "46   2017-11-18     47     47\n",
            "48   2017-11-27     20     38\n",
            "49   2017-12-05     65     85\n",
            "50   2017-12-12      4     29\n",
            "51   2017-12-22     31     54\n",
            "52   2017-12-29     21      8\n",
            "1    2018-01-03     98     76\n",
            "2    2018-01-08     48     64\n",
            "3    2018-01-19     18     48\n",
            "4    2018-01-23     86     70\n"
          ],
          "name": "stdout"
        }
      ]
    },
    {
      "cell_type": "code",
      "metadata": {
        "id": "ZIP8ExKQe0QV",
        "colab_type": "code",
        "colab": {
          "base_uri": "https://localhost:8080/",
          "height": 255
        },
        "outputId": "f706db1f-03cf-417a-8ccd-b364de8550bf"
      },
      "source": [
        "print(df_w2.sum(level='week'))"
      ],
      "execution_count": 245,
      "outputs": [
        {
          "output_type": "stream",
          "text": [
            "      val_1  val_2\n",
            "week              \n",
            "44       65     76\n",
            "45       26     66\n",
            "46       47     47\n",
            "48       20     38\n",
            "49       65     85\n",
            "50        4     29\n",
            "51       31     54\n",
            "52       21      8\n",
            "1        98     76\n",
            "2        48     64\n",
            "3        18     48\n",
            "4        86     70\n"
          ],
          "name": "stdout"
        }
      ]
    },
    {
      "cell_type": "code",
      "metadata": {
        "id": "uYhy_j-Re2tF",
        "colab_type": "code",
        "colab": {
          "base_uri": "https://localhost:8080/",
          "height": 136
        },
        "outputId": "9b3272a7-fe9c-4244-f6bd-4a3477f0d03b"
      },
      "source": [
        "import pandas as pd\n",
        "import datetime\n",
        "df = pd.read_csv('/content/sample_datetime_multi.csv')\n",
        "print(df)"
      ],
      "execution_count": 246,
      "outputs": [
        {
          "output_type": "stream",
          "text": [
            "                  A                   B\n",
            "0  2017-11-01 12:24   2017年11月1日 12時24分\n",
            "1  2017-11-18 23:00  2017年11月18日 23時00分\n",
            "2   2017-12-05 5:05    2017年12月5日 5時05分\n",
            "3   2017-12-22 8:54   2017年12月22日 8時54分\n",
            "4  2018-01-08 14:20    2018年1月8日 14時20分\n",
            "5  2018-01-19 20:01   2018年1月19日 20時01分\n"
          ],
          "name": "stdout"
        }
      ]
    },
    {
      "cell_type": "code",
      "metadata": {
        "id": "HuLDLC8hjQY4",
        "colab_type": "code",
        "colab": {
          "base_uri": "https://localhost:8080/",
          "height": 68
        },
        "outputId": "d0654425-7e36-44de-e64a-9bcf713f0bbc"
      },
      "source": [
        "print(df.dtypes)"
      ],
      "execution_count": 247,
      "outputs": [
        {
          "output_type": "stream",
          "text": [
            "A    object\n",
            "B    object\n",
            "dtype: object\n"
          ],
          "name": "stdout"
        }
      ]
    },
    {
      "cell_type": "code",
      "metadata": {
        "id": "6sm8s7LOjR7m",
        "colab_type": "code",
        "colab": {
          "base_uri": "https://localhost:8080/",
          "height": 255
        },
        "outputId": "b071ca94-cd09-45e4-cb40-f58250e40d28"
      },
      "source": [
        "print(pd.to_datetime(df['A']))\n",
        "print(pd.to_datetime(df['B'], format='%Y年%m月%d日 %H時%M分'))"
      ],
      "execution_count": 250,
      "outputs": [
        {
          "output_type": "stream",
          "text": [
            "0   2017-11-01 12:24:00\n",
            "1   2017-11-18 23:00:00\n",
            "2   2017-12-05 05:05:00\n",
            "3   2017-12-22 08:54:00\n",
            "4   2018-01-08 14:20:00\n",
            "5   2018-01-19 20:01:00\n",
            "Name: A, dtype: datetime64[ns]\n",
            "0   2017-11-01 12:24:00\n",
            "1   2017-11-18 23:00:00\n",
            "2   2017-12-05 05:05:00\n",
            "3   2017-12-22 08:54:00\n",
            "4   2018-01-08 14:20:00\n",
            "5   2018-01-19 20:01:00\n",
            "Name: B, dtype: datetime64[ns]\n"
          ],
          "name": "stdout"
        }
      ]
    },
    {
      "cell_type": "code",
      "metadata": {
        "id": "2Mz9wCsGjgDA",
        "colab_type": "code",
        "colab": {}
      },
      "source": [
        "print(df['X'][0].strftime('%Y/%m/%d'))"
      ],
      "execution_count": null,
      "outputs": []
    },
    {
      "cell_type": "code",
      "metadata": {
        "id": "SLcz0oBGkTYB",
        "colab_type": "code",
        "colab": {}
      },
      "source": [
        "print(df[df['X'].dt.dayofweek == 4])"
      ],
      "execution_count": null,
      "outputs": []
    },
    {
      "cell_type": "code",
      "metadata": {
        "id": "_N00LK-8kxFm",
        "colab_type": "code",
        "colab": {}
      },
      "source": [
        "print(df_i.index.minute)\n",
        "print(df_i.index.strftime('%y/%m/%d'))\n",
        "df_i['min'] = df_i.index.minute\n",
        "df_i['str'] = df_i.index.strftime('%y/%m/%d')\n",
        "print(df_i)"
      ],
      "execution_count": null,
      "outputs": []
    },
    {
      "cell_type": "code",
      "metadata": {
        "id": "EHVJNUrwlAE5",
        "colab_type": "code",
        "colab": {
          "base_uri": "https://localhost:8080/",
          "height": 136
        },
        "outputId": "fac75a1a-5934-4558-b3ca-5b997b9afe88"
      },
      "source": [
        "df_csv = pd.read_csv('/content/sample_datetime_multi.csv', parse_dates=[0])\n",
        "print(df_csv)"
      ],
      "execution_count": 251,
      "outputs": [
        {
          "output_type": "stream",
          "text": [
            "                    A                   B\n",
            "0 2017-11-01 12:24:00   2017年11月1日 12時24分\n",
            "1 2017-11-18 23:00:00  2017年11月18日 23時00分\n",
            "2 2017-12-05 05:05:00    2017年12月5日 5時05分\n",
            "3 2017-12-22 08:54:00   2017年12月22日 8時54分\n",
            "4 2018-01-08 14:20:00    2018年1月8日 14時20分\n",
            "5 2018-01-19 20:01:00   2018年1月19日 20時01分\n"
          ],
          "name": "stdout"
        }
      ]
    },
    {
      "cell_type": "code",
      "metadata": {
        "id": "GcOInKQLlHEd",
        "colab_type": "code",
        "colab": {
          "base_uri": "https://localhost:8080/",
          "height": 68
        },
        "outputId": "e6c57bb2-7133-49ee-a26a-3040a463c76e"
      },
      "source": [
        "print(df_csv.dtypes)"
      ],
      "execution_count": 252,
      "outputs": [
        {
          "output_type": "stream",
          "text": [
            "A    datetime64[ns]\n",
            "B            object\n",
            "dtype: object\n"
          ],
          "name": "stdout"
        }
      ]
    },
    {
      "cell_type": "code",
      "metadata": {
        "id": "fxsrOq6FlJcu",
        "colab_type": "code",
        "colab": {
          "base_uri": "https://localhost:8080/",
          "height": 136
        },
        "outputId": "37d879de-78d1-44f3-ebd5-3df5097fca2b"
      },
      "source": [
        "df_csv_jp = pd.read_csv('/content/sample_datetime_multi.csv',\n",
        "                        parse_dates =[1],\n",
        "                        date_parser=lambda date:pd.to_datetime(date, format='%Y年%m月%d日　%H時%M分'))\n",
        "print(df_csv_jp)"
      ],
      "execution_count": 253,
      "outputs": [
        {
          "output_type": "stream",
          "text": [
            "                  A                   B\n",
            "0  2017-11-01 12:24 2017-11-01 12:24:00\n",
            "1  2017-11-18 23:00 2017-11-18 23:00:00\n",
            "2   2017-12-05 5:05 2017-12-05 05:05:00\n",
            "3   2017-12-22 8:54 2017-12-22 08:54:00\n",
            "4  2018-01-08 14:20 2018-01-08 14:20:00\n",
            "5  2018-01-19 20:01 2018-01-19 20:01:00\n"
          ],
          "name": "stdout"
        }
      ]
    },
    {
      "cell_type": "code",
      "metadata": {
        "id": "n_qERnPMlcdn",
        "colab_type": "code",
        "colab": {
          "base_uri": "https://localhost:8080/",
          "height": 85
        },
        "outputId": "25e3b960-7b00-4cdb-b8f9-b8515184a7bb"
      },
      "source": [
        "import pandas as pd\n",
        "print(pd.date_range('2020-01-01', '2020-12-31', freq = 'BMS'))"
      ],
      "execution_count": 254,
      "outputs": [
        {
          "output_type": "stream",
          "text": [
            "DatetimeIndex(['2020-01-01', '2020-02-03', '2020-03-02', '2020-04-01',\n",
            "               '2020-05-01', '2020-06-01', '2020-07-01', '2020-08-03',\n",
            "               '2020-09-01', '2020-10-01', '2020-11-02', '2020-12-01'],\n",
            "              dtype='datetime64[ns]', freq='BMS')\n"
          ],
          "name": "stdout"
        }
      ]
    },
    {
      "cell_type": "code",
      "metadata": {
        "id": "HQtIjsAdmTPV",
        "colab_type": "code",
        "colab": {
          "base_uri": "https://localhost:8080/",
          "height": 272
        },
        "outputId": "d42bbaae-439e-4539-91a0-e2f5cc08eb8b"
      },
      "source": [
        "print(pd.date_range('2020-01-01', '2020-12-31', freq='W-WED'))"
      ],
      "execution_count": 256,
      "outputs": [
        {
          "output_type": "stream",
          "text": [
            "DatetimeIndex(['2020-01-01', '2020-01-08', '2020-01-15', '2020-01-22',\n",
            "               '2020-01-29', '2020-02-05', '2020-02-12', '2020-02-19',\n",
            "               '2020-02-26', '2020-03-04', '2020-03-11', '2020-03-18',\n",
            "               '2020-03-25', '2020-04-01', '2020-04-08', '2020-04-15',\n",
            "               '2020-04-22', '2020-04-29', '2020-05-06', '2020-05-13',\n",
            "               '2020-05-20', '2020-05-27', '2020-06-03', '2020-06-10',\n",
            "               '2020-06-17', '2020-06-24', '2020-07-01', '2020-07-08',\n",
            "               '2020-07-15', '2020-07-22', '2020-07-29', '2020-08-05',\n",
            "               '2020-08-12', '2020-08-19', '2020-08-26', '2020-09-02',\n",
            "               '2020-09-09', '2020-09-16', '2020-09-23', '2020-09-30',\n",
            "               '2020-10-07', '2020-10-14', '2020-10-21', '2020-10-28',\n",
            "               '2020-11-04', '2020-11-11', '2020-11-18', '2020-11-25',\n",
            "               '2020-12-02', '2020-12-09', '2020-12-16', '2020-12-23',\n",
            "               '2020-12-30'],\n",
            "              dtype='datetime64[ns]', freq='W-WED')\n"
          ],
          "name": "stdout"
        }
      ]
    },
    {
      "cell_type": "code",
      "metadata": {
        "id": "dTrMrdxOmoxs",
        "colab_type": "code",
        "colab": {
          "base_uri": "https://localhost:8080/",
          "height": 85
        },
        "outputId": "0f57a628-9dc5-4387-8efe-7d953bd0a6e7"
      },
      "source": [
        "print(pd.date_range('2020-01-01', '2020-12-31', freq = 'WOM-2MON'))"
      ],
      "execution_count": 257,
      "outputs": [
        {
          "output_type": "stream",
          "text": [
            "DatetimeIndex(['2020-01-13', '2020-02-10', '2020-03-09', '2020-04-13',\n",
            "               '2020-05-11', '2020-06-08', '2020-07-13', '2020-08-10',\n",
            "               '2020-09-14', '2020-10-12', '2020-11-09', '2020-12-14'],\n",
            "              dtype='datetime64[ns]', freq='WOM-2MON')\n"
          ],
          "name": "stdout"
        }
      ]
    },
    {
      "cell_type": "code",
      "metadata": {
        "id": "ZSY8EWLInA48",
        "colab_type": "code",
        "colab": {
          "base_uri": "https://localhost:8080/",
          "height": 442
        },
        "outputId": "9dc98724-e438-4d26-b729-161a3473561f"
      },
      "source": [
        "print(pd.date_range('2018-01-01', '2018-01-02', freq = '30min30S100ms100us'))"
      ],
      "execution_count": 258,
      "outputs": [
        {
          "output_type": "stream",
          "text": [
            "DatetimeIndex([       '2018-01-01 00:00:00', '2018-01-01 00:30:30.100100',\n",
            "               '2018-01-01 01:01:00.200200', '2018-01-01 01:31:30.300300',\n",
            "               '2018-01-01 02:02:00.400400', '2018-01-01 02:32:30.500500',\n",
            "               '2018-01-01 03:03:00.600600', '2018-01-01 03:33:30.700700',\n",
            "               '2018-01-01 04:04:00.800800', '2018-01-01 04:34:30.900900',\n",
            "               '2018-01-01 05:05:01.001000', '2018-01-01 05:35:31.101100',\n",
            "               '2018-01-01 06:06:01.201200', '2018-01-01 06:36:31.301300',\n",
            "               '2018-01-01 07:07:01.401400', '2018-01-01 07:37:31.501500',\n",
            "               '2018-01-01 08:08:01.601600', '2018-01-01 08:38:31.701700',\n",
            "               '2018-01-01 09:09:01.801800', '2018-01-01 09:39:31.901900',\n",
            "               '2018-01-01 10:10:02.002000', '2018-01-01 10:40:32.102100',\n",
            "               '2018-01-01 11:11:02.202200', '2018-01-01 11:41:32.302300',\n",
            "               '2018-01-01 12:12:02.402400', '2018-01-01 12:42:32.502500',\n",
            "               '2018-01-01 13:13:02.602600', '2018-01-01 13:43:32.702700',\n",
            "               '2018-01-01 14:14:02.802800', '2018-01-01 14:44:32.902900',\n",
            "               '2018-01-01 15:15:03.003000', '2018-01-01 15:45:33.103100',\n",
            "               '2018-01-01 16:16:03.203200', '2018-01-01 16:46:33.303300',\n",
            "               '2018-01-01 17:17:03.403400', '2018-01-01 17:47:33.503500',\n",
            "               '2018-01-01 18:18:03.603600', '2018-01-01 18:48:33.703700',\n",
            "               '2018-01-01 19:19:03.803800', '2018-01-01 19:49:33.903900',\n",
            "               '2018-01-01 20:20:04.004000', '2018-01-01 20:50:34.104100',\n",
            "               '2018-01-01 21:21:04.204200', '2018-01-01 21:51:34.304300',\n",
            "               '2018-01-01 22:22:04.404400', '2018-01-01 22:52:34.504500',\n",
            "               '2018-01-01 23:23:04.604600', '2018-01-01 23:53:34.704700'],\n",
            "              dtype='datetime64[ns]', freq='1830100100U')\n"
          ],
          "name": "stdout"
        }
      ]
    },
    {
      "cell_type": "code",
      "metadata": {
        "id": "-dKP80q5ny6M",
        "colab_type": "code",
        "colab": {
          "base_uri": "https://localhost:8080/",
          "height": 306
        },
        "outputId": "6fc34466-d779-4ebd-83b9-e3cbd9650300"
      },
      "source": [
        "import pandas as pd\n",
        "df = pd.DataFrame({'value':range(1,32,2)},\n",
        "                  index = pd.date_range('2018-08-01', '2018-08-31', freq = '2D'))\n",
        "print(df)"
      ],
      "execution_count": 259,
      "outputs": [
        {
          "output_type": "stream",
          "text": [
            "            value\n",
            "2018-08-01      1\n",
            "2018-08-03      3\n",
            "2018-08-05      5\n",
            "2018-08-07      7\n",
            "2018-08-09      9\n",
            "2018-08-11     11\n",
            "2018-08-13     13\n",
            "2018-08-15     15\n",
            "2018-08-17     17\n",
            "2018-08-19     19\n",
            "2018-08-21     21\n",
            "2018-08-23     23\n",
            "2018-08-25     25\n",
            "2018-08-27     27\n",
            "2018-08-29     29\n",
            "2018-08-31     31\n"
          ],
          "name": "stdout"
        }
      ]
    },
    {
      "cell_type": "code",
      "metadata": {
        "id": "l61-MQpjoIw8",
        "colab_type": "code",
        "colab": {
          "base_uri": "https://localhost:8080/",
          "height": 119
        },
        "outputId": "385b1207-a39f-41f2-8cfb-3cffb2edb585"
      },
      "source": [
        "print(df.asfreq('W-WED'))"
      ],
      "execution_count": 260,
      "outputs": [
        {
          "output_type": "stream",
          "text": [
            "            value\n",
            "2018-08-01    1.0\n",
            "2018-08-08    NaN\n",
            "2018-08-15   15.0\n",
            "2018-08-22    NaN\n",
            "2018-08-29   29.0\n"
          ],
          "name": "stdout"
        }
      ]
    },
    {
      "cell_type": "code",
      "metadata": {
        "id": "vOWrvNzdoUXj",
        "colab_type": "code",
        "colab": {
          "base_uri": "https://localhost:8080/",
          "height": 102
        },
        "outputId": "77d46d04-0c3e-4be3-de0a-f9e4b9d8eb98"
      },
      "source": [
        "print(df.asfreq('W', fill_value = 0))"
      ],
      "execution_count": 261,
      "outputs": [
        {
          "output_type": "stream",
          "text": [
            "            value\n",
            "2018-08-05      5\n",
            "2018-08-12      0\n",
            "2018-08-19     19\n",
            "2018-08-26      0\n"
          ],
          "name": "stdout"
        }
      ]
    },
    {
      "cell_type": "code",
      "metadata": {
        "id": "pfKN4R9Voefb",
        "colab_type": "code",
        "colab": {
          "base_uri": "https://localhost:8080/",
          "height": 187
        },
        "outputId": "8cb6dfc8-c9bd-4fef-ef43-2de4b189740c"
      },
      "source": [
        "print(df.asfreq('W', method = 'pad'))\n",
        "print(df.asfreq('W', method= 'ffill'))"
      ],
      "execution_count": 262,
      "outputs": [
        {
          "output_type": "stream",
          "text": [
            "            value\n",
            "2018-08-05      5\n",
            "2018-08-12     11\n",
            "2018-08-19     19\n",
            "2018-08-26     25\n",
            "            value\n",
            "2018-08-05      5\n",
            "2018-08-12     11\n",
            "2018-08-19     19\n",
            "2018-08-26     25\n"
          ],
          "name": "stdout"
        }
      ]
    },
    {
      "cell_type": "code",
      "metadata": {
        "id": "_FQf0M7Uolrt",
        "colab_type": "code",
        "colab": {
          "base_uri": "https://localhost:8080/",
          "height": 561
        },
        "outputId": "ff4d9fd0-0f2e-449e-a372-7dda93bed2c7"
      },
      "source": [
        "df_3D = pd.DataFrame({'value':range(1,32,3)},\n",
        "                     index = pd.date_range('2018-08-01', '2018-08-31', freq = '3D'))\n",
        "print(df_3D.asfreq('D', method = 'bfill'))"
      ],
      "execution_count": 263,
      "outputs": [
        {
          "output_type": "stream",
          "text": [
            "            value\n",
            "2018-08-01      1\n",
            "2018-08-02      4\n",
            "2018-08-03      4\n",
            "2018-08-04      4\n",
            "2018-08-05      7\n",
            "2018-08-06      7\n",
            "2018-08-07      7\n",
            "2018-08-08     10\n",
            "2018-08-09     10\n",
            "2018-08-10     10\n",
            "2018-08-11     13\n",
            "2018-08-12     13\n",
            "2018-08-13     13\n",
            "2018-08-14     16\n",
            "2018-08-15     16\n",
            "2018-08-16     16\n",
            "2018-08-17     19\n",
            "2018-08-18     19\n",
            "2018-08-19     19\n",
            "2018-08-20     22\n",
            "2018-08-21     22\n",
            "2018-08-22     22\n",
            "2018-08-23     25\n",
            "2018-08-24     25\n",
            "2018-08-25     25\n",
            "2018-08-26     28\n",
            "2018-08-27     28\n",
            "2018-08-28     28\n",
            "2018-08-29     31\n",
            "2018-08-30     31\n",
            "2018-08-31     31\n"
          ],
          "name": "stdout"
        }
      ]
    },
    {
      "cell_type": "code",
      "metadata": {
        "id": "XUydkvS8o8ED",
        "colab_type": "code",
        "colab": {
          "base_uri": "https://localhost:8080/",
          "height": 187
        },
        "outputId": "97da2e45-4f51-40d0-a692-108ddf7638e8"
      },
      "source": [
        "df_h = pd.DataFrame({'value': range(9)},\n",
        "                    index = pd.date_range('2018-08-01', '2018-08-5',freq='12H'))\n",
        "print(df_h)"
      ],
      "execution_count": 265,
      "outputs": [
        {
          "output_type": "stream",
          "text": [
            "                     value\n",
            "2018-08-01 00:00:00      0\n",
            "2018-08-01 12:00:00      1\n",
            "2018-08-02 00:00:00      2\n",
            "2018-08-02 12:00:00      3\n",
            "2018-08-03 00:00:00      4\n",
            "2018-08-03 12:00:00      5\n",
            "2018-08-04 00:00:00      6\n",
            "2018-08-04 12:00:00      7\n",
            "2018-08-05 00:00:00      8\n"
          ],
          "name": "stdout"
        }
      ]
    },
    {
      "cell_type": "code",
      "metadata": {
        "id": "oFv7dCwHpHE1",
        "colab_type": "code",
        "colab": {
          "base_uri": "https://localhost:8080/",
          "height": 119
        },
        "outputId": "3573b97c-3204-4820-d97a-358c1adda6f3"
      },
      "source": [
        "print(df_h.resample('D').mean())"
      ],
      "execution_count": 267,
      "outputs": [
        {
          "output_type": "stream",
          "text": [
            "            value\n",
            "2018-08-01    0.5\n",
            "2018-08-02    2.5\n",
            "2018-08-03    4.5\n",
            "2018-08-04    6.5\n",
            "2018-08-05    8.0\n"
          ],
          "name": "stdout"
        }
      ]
    },
    {
      "cell_type": "code",
      "metadata": {
        "id": "rj1yCZ-wpU09",
        "colab_type": "code",
        "colab": {
          "base_uri": "https://localhost:8080/",
          "height": 306
        },
        "outputId": "2fb59d87-e6e1-4427-a863-313543acbd65"
      },
      "source": [
        "import pandas as pd\n",
        "\n",
        "df = pd.DataFrame({'value': range(1, 32, 2)},\n",
        "                  index=pd.date_range('2018-08-01', '2018-08-31', freq='2D'))\n",
        "\n",
        "print(df)"
      ],
      "execution_count": 268,
      "outputs": [
        {
          "output_type": "stream",
          "text": [
            "            value\n",
            "2018-08-01      1\n",
            "2018-08-03      3\n",
            "2018-08-05      5\n",
            "2018-08-07      7\n",
            "2018-08-09      9\n",
            "2018-08-11     11\n",
            "2018-08-13     13\n",
            "2018-08-15     15\n",
            "2018-08-17     17\n",
            "2018-08-19     19\n",
            "2018-08-21     21\n",
            "2018-08-23     23\n",
            "2018-08-25     25\n",
            "2018-08-27     27\n",
            "2018-08-29     29\n",
            "2018-08-31     31\n"
          ],
          "name": "stdout"
        }
      ]
    },
    {
      "cell_type": "code",
      "metadata": {
        "id": "yl3tD3m6pYC7",
        "colab_type": "code",
        "colab": {
          "base_uri": "https://localhost:8080/",
          "height": 119
        },
        "outputId": "f0755827-9cee-4cb3-cd22-bcd75f8593f4"
      },
      "source": [
        "print(df.resample('W').mean())"
      ],
      "execution_count": 269,
      "outputs": [
        {
          "output_type": "stream",
          "text": [
            "            value\n",
            "2018-08-05      3\n",
            "2018-08-12      9\n",
            "2018-08-19     16\n",
            "2018-08-26     23\n",
            "2018-09-02     29\n"
          ],
          "name": "stdout"
        }
      ]
    },
    {
      "cell_type": "code",
      "metadata": {
        "id": "uPoxzswcpclb",
        "colab_type": "code",
        "colab": {
          "base_uri": "https://localhost:8080/",
          "height": 136
        },
        "outputId": "bbc17ca4-78a1-4f8e-f880-39577c76793c"
      },
      "source": [
        "print(df.resample('W').ohlc())"
      ],
      "execution_count": 270,
      "outputs": [
        {
          "output_type": "stream",
          "text": [
            "           value               \n",
            "            open high low close\n",
            "2018-08-05     1    5   1     5\n",
            "2018-08-12     7   11   7    11\n",
            "2018-08-19    13   19  13    19\n",
            "2018-08-26    21   25  21    25\n",
            "2018-09-02    27   31  27    31\n"
          ],
          "name": "stdout"
        }
      ]
    },
    {
      "cell_type": "code",
      "metadata": {
        "id": "abbF1XYApoec",
        "colab_type": "code",
        "colab": {
          "base_uri": "https://localhost:8080/",
          "height": 238
        },
        "outputId": "d9e6e5ac-7efa-449b-9e65-11e89c73f179"
      },
      "source": [
        "print(df.resample('W').apply(list))\n",
        "print(df.resample('W').agg(['min', 'max', 'sum']))"
      ],
      "execution_count": 271,
      "outputs": [
        {
          "output_type": "stream",
          "text": [
            "                       value\n",
            "2018-08-05         [1, 3, 5]\n",
            "2018-08-12        [7, 9, 11]\n",
            "2018-08-19  [13, 15, 17, 19]\n",
            "2018-08-26      [21, 23, 25]\n",
            "2018-09-02      [27, 29, 31]\n",
            "           value        \n",
            "             min max sum\n",
            "2018-08-05     1   5   9\n",
            "2018-08-12     7  11  27\n",
            "2018-08-19    13  19  64\n",
            "2018-08-26    21  25  69\n",
            "2018-09-02    27  31  87\n"
          ],
          "name": "stdout"
        }
      ]
    },
    {
      "cell_type": "code",
      "metadata": {
        "id": "Dz9hRUYHp2sE",
        "colab_type": "code",
        "colab": {
          "base_uri": "https://localhost:8080/",
          "height": 119
        },
        "outputId": "5470be75-e276-4bdd-9cc3-358eca3a1b32"
      },
      "source": [
        "print(df.resample('W', label = 'left').apply(list))"
      ],
      "execution_count": 272,
      "outputs": [
        {
          "output_type": "stream",
          "text": [
            "                       value\n",
            "2018-07-29         [1, 3, 5]\n",
            "2018-08-05        [7, 9, 11]\n",
            "2018-08-12  [13, 15, 17, 19]\n",
            "2018-08-19      [21, 23, 25]\n",
            "2018-08-26      [27, 29, 31]\n"
          ],
          "name": "stdout"
        }
      ]
    },
    {
      "cell_type": "code",
      "metadata": {
        "id": "SMWWKuBeqVnc",
        "colab_type": "code",
        "colab": {
          "base_uri": "https://localhost:8080/",
          "height": 545
        },
        "outputId": "3ab7d321-a2cb-417f-e553-570fcb1c6ad7"
      },
      "source": [
        "df"
      ],
      "execution_count": 273,
      "outputs": [
        {
          "output_type": "execute_result",
          "data": {
            "text/html": [
              "<div>\n",
              "<style scoped>\n",
              "    .dataframe tbody tr th:only-of-type {\n",
              "        vertical-align: middle;\n",
              "    }\n",
              "\n",
              "    .dataframe tbody tr th {\n",
              "        vertical-align: top;\n",
              "    }\n",
              "\n",
              "    .dataframe thead th {\n",
              "        text-align: right;\n",
              "    }\n",
              "</style>\n",
              "<table border=\"1\" class=\"dataframe\">\n",
              "  <thead>\n",
              "    <tr style=\"text-align: right;\">\n",
              "      <th></th>\n",
              "      <th>value</th>\n",
              "    </tr>\n",
              "  </thead>\n",
              "  <tbody>\n",
              "    <tr>\n",
              "      <th>2018-08-01</th>\n",
              "      <td>1</td>\n",
              "    </tr>\n",
              "    <tr>\n",
              "      <th>2018-08-03</th>\n",
              "      <td>3</td>\n",
              "    </tr>\n",
              "    <tr>\n",
              "      <th>2018-08-05</th>\n",
              "      <td>5</td>\n",
              "    </tr>\n",
              "    <tr>\n",
              "      <th>2018-08-07</th>\n",
              "      <td>7</td>\n",
              "    </tr>\n",
              "    <tr>\n",
              "      <th>2018-08-09</th>\n",
              "      <td>9</td>\n",
              "    </tr>\n",
              "    <tr>\n",
              "      <th>2018-08-11</th>\n",
              "      <td>11</td>\n",
              "    </tr>\n",
              "    <tr>\n",
              "      <th>2018-08-13</th>\n",
              "      <td>13</td>\n",
              "    </tr>\n",
              "    <tr>\n",
              "      <th>2018-08-15</th>\n",
              "      <td>15</td>\n",
              "    </tr>\n",
              "    <tr>\n",
              "      <th>2018-08-17</th>\n",
              "      <td>17</td>\n",
              "    </tr>\n",
              "    <tr>\n",
              "      <th>2018-08-19</th>\n",
              "      <td>19</td>\n",
              "    </tr>\n",
              "    <tr>\n",
              "      <th>2018-08-21</th>\n",
              "      <td>21</td>\n",
              "    </tr>\n",
              "    <tr>\n",
              "      <th>2018-08-23</th>\n",
              "      <td>23</td>\n",
              "    </tr>\n",
              "    <tr>\n",
              "      <th>2018-08-25</th>\n",
              "      <td>25</td>\n",
              "    </tr>\n",
              "    <tr>\n",
              "      <th>2018-08-27</th>\n",
              "      <td>27</td>\n",
              "    </tr>\n",
              "    <tr>\n",
              "      <th>2018-08-29</th>\n",
              "      <td>29</td>\n",
              "    </tr>\n",
              "    <tr>\n",
              "      <th>2018-08-31</th>\n",
              "      <td>31</td>\n",
              "    </tr>\n",
              "  </tbody>\n",
              "</table>\n",
              "</div>"
            ],
            "text/plain": [
              "            value\n",
              "2018-08-01      1\n",
              "2018-08-03      3\n",
              "2018-08-05      5\n",
              "2018-08-07      7\n",
              "2018-08-09      9\n",
              "2018-08-11     11\n",
              "2018-08-13     13\n",
              "2018-08-15     15\n",
              "2018-08-17     17\n",
              "2018-08-19     19\n",
              "2018-08-21     21\n",
              "2018-08-23     23\n",
              "2018-08-25     25\n",
              "2018-08-27     27\n",
              "2018-08-29     29\n",
              "2018-08-31     31"
            ]
          },
          "metadata": {
            "tags": []
          },
          "execution_count": 273
        }
      ]
    },
    {
      "cell_type": "code",
      "metadata": {
        "id": "-bds_nquqjFT",
        "colab_type": "code",
        "colab": {}
      },
      "source": [
        "df_reset = df.reset_index()"
      ],
      "execution_count": 275,
      "outputs": []
    },
    {
      "cell_type": "code",
      "metadata": {
        "id": "oWp9EYQyqlNe",
        "colab_type": "code",
        "colab": {
          "base_uri": "https://localhost:8080/",
          "height": 306
        },
        "outputId": "5e260a8a-cd1d-406a-f7c8-e730c63f1edc"
      },
      "source": [
        "print(df_reset)"
      ],
      "execution_count": 276,
      "outputs": [
        {
          "output_type": "stream",
          "text": [
            "        index  value\n",
            "0  2018-08-01      1\n",
            "1  2018-08-03      3\n",
            "2  2018-08-05      5\n",
            "3  2018-08-07      7\n",
            "4  2018-08-09      9\n",
            "5  2018-08-11     11\n",
            "6  2018-08-13     13\n",
            "7  2018-08-15     15\n",
            "8  2018-08-17     17\n",
            "9  2018-08-19     19\n",
            "10 2018-08-21     21\n",
            "11 2018-08-23     23\n",
            "12 2018-08-25     25\n",
            "13 2018-08-27     27\n",
            "14 2018-08-29     29\n",
            "15 2018-08-31     31\n"
          ],
          "name": "stdout"
        }
      ]
    },
    {
      "cell_type": "code",
      "metadata": {
        "id": "LAWTHCe-qn99",
        "colab_type": "code",
        "colab": {
          "base_uri": "https://localhost:8080/",
          "height": 136
        },
        "outputId": "b1acbb96-a292-488c-9124-df5ee791ed0a"
      },
      "source": [
        "print(df_reset.resample('W', on ='index').sum())"
      ],
      "execution_count": 277,
      "outputs": [
        {
          "output_type": "stream",
          "text": [
            "            value\n",
            "index            \n",
            "2018-08-05      9\n",
            "2018-08-12     27\n",
            "2018-08-19     64\n",
            "2018-08-26     69\n",
            "2018-09-02     87\n"
          ],
          "name": "stdout"
        }
      ]
    },
    {
      "cell_type": "code",
      "metadata": {
        "id": "V3ayrZ0hqvAL",
        "colab_type": "code",
        "colab": {
          "base_uri": "https://localhost:8080/",
          "height": 85
        },
        "outputId": "5e022ddf-a06a-473e-9d4d-8d92bafdafa0"
      },
      "source": [
        "import pandas as pd\n",
        "df = pd.DataFrame({'value': [1,15,31]},\n",
        "                  index = pd.to_datetime(['2018-01-01', '2018-01-15', '2018-01-31']))\n",
        "print(df)"
      ],
      "execution_count": 278,
      "outputs": [
        {
          "output_type": "stream",
          "text": [
            "            value\n",
            "2018-01-01      1\n",
            "2018-01-15     15\n",
            "2018-01-31     31\n"
          ],
          "name": "stdout"
        }
      ]
    },
    {
      "cell_type": "code",
      "metadata": {
        "id": "O3oe2_CPq53_",
        "colab_type": "code",
        "colab": {
          "base_uri": "https://localhost:8080/",
          "height": 153
        },
        "outputId": "a57548cb-3d28-40b1-c7c4-403fb2320eaa"
      },
      "source": [
        "print(df.asfreq('5D', fill_value = 15))"
      ],
      "execution_count": 279,
      "outputs": [
        {
          "output_type": "stream",
          "text": [
            "            value\n",
            "2018-01-01      1\n",
            "2018-01-06     15\n",
            "2018-01-11     15\n",
            "2018-01-16     15\n",
            "2018-01-21     15\n",
            "2018-01-26     15\n",
            "2018-01-31     31\n"
          ],
          "name": "stdout"
        }
      ]
    },
    {
      "cell_type": "code",
      "metadata": {
        "id": "wN-XR12xrI47",
        "colab_type": "code",
        "colab": {
          "base_uri": "https://localhost:8080/",
          "height": 153
        },
        "outputId": "ac8f3f59-3f87-4901-e37e-685445db8eea"
      },
      "source": [
        "print(df.asfreq('5D', method = 'pad'))"
      ],
      "execution_count": 280,
      "outputs": [
        {
          "output_type": "stream",
          "text": [
            "            value\n",
            "2018-01-01      1\n",
            "2018-01-06      1\n",
            "2018-01-11      1\n",
            "2018-01-16     15\n",
            "2018-01-21     15\n",
            "2018-01-26     15\n",
            "2018-01-31     31\n"
          ],
          "name": "stdout"
        }
      ]
    },
    {
      "cell_type": "code",
      "metadata": {
        "id": "7y7lyiEDrMO8",
        "colab_type": "code",
        "colab": {
          "base_uri": "https://localhost:8080/",
          "height": 153
        },
        "outputId": "36c6a8ac-8994-44b2-d8e8-a3ed58a6db5e"
      },
      "source": [
        "print(df.resample('5D').nearest())"
      ],
      "execution_count": 281,
      "outputs": [
        {
          "output_type": "stream",
          "text": [
            "            value\n",
            "2018-01-01      1\n",
            "2018-01-06      1\n",
            "2018-01-11     15\n",
            "2018-01-16     15\n",
            "2018-01-21     15\n",
            "2018-01-26     31\n",
            "2018-01-31     31\n"
          ],
          "name": "stdout"
        }
      ]
    },
    {
      "cell_type": "code",
      "metadata": {
        "id": "MqzE1E9XrYYD",
        "colab_type": "code",
        "colab": {
          "base_uri": "https://localhost:8080/",
          "height": 153
        },
        "outputId": "9a7c49a8-6263-43b1-dabf-ea7a6f80f834"
      },
      "source": [
        "print(df.resample('5D').interpolate())"
      ],
      "execution_count": 282,
      "outputs": [
        {
          "output_type": "stream",
          "text": [
            "            value\n",
            "2018-01-01    1.0\n",
            "2018-01-06    6.0\n",
            "2018-01-11   11.0\n",
            "2018-01-16   16.0\n",
            "2018-01-21   21.0\n",
            "2018-01-26   26.0\n",
            "2018-01-31   31.0\n"
          ],
          "name": "stdout"
        }
      ]
    },
    {
      "cell_type": "code",
      "metadata": {
        "id": "GDfNe1gCrddF",
        "colab_type": "code",
        "colab": {
          "base_uri": "https://localhost:8080/",
          "height": 561
        },
        "outputId": "016c85c9-5787-4619-eae5-45618d43bd6c"
      },
      "source": [
        "print(df.resample('D').interpolate())"
      ],
      "execution_count": 283,
      "outputs": [
        {
          "output_type": "stream",
          "text": [
            "            value\n",
            "2018-01-01    1.0\n",
            "2018-01-02    2.0\n",
            "2018-01-03    3.0\n",
            "2018-01-04    4.0\n",
            "2018-01-05    5.0\n",
            "2018-01-06    6.0\n",
            "2018-01-07    7.0\n",
            "2018-01-08    8.0\n",
            "2018-01-09    9.0\n",
            "2018-01-10   10.0\n",
            "2018-01-11   11.0\n",
            "2018-01-12   12.0\n",
            "2018-01-13   13.0\n",
            "2018-01-14   14.0\n",
            "2018-01-15   15.0\n",
            "2018-01-16   16.0\n",
            "2018-01-17   17.0\n",
            "2018-01-18   18.0\n",
            "2018-01-19   19.0\n",
            "2018-01-20   20.0\n",
            "2018-01-21   21.0\n",
            "2018-01-22   22.0\n",
            "2018-01-23   23.0\n",
            "2018-01-24   24.0\n",
            "2018-01-25   25.0\n",
            "2018-01-26   26.0\n",
            "2018-01-27   27.0\n",
            "2018-01-28   28.0\n",
            "2018-01-29   29.0\n",
            "2018-01-30   30.0\n",
            "2018-01-31   31.0\n"
          ],
          "name": "stdout"
        }
      ]
    },
    {
      "cell_type": "code",
      "metadata": {
        "id": "VmWfhTc3rnCk",
        "colab_type": "code",
        "colab": {
          "base_uri": "https://localhost:8080/",
          "height": 561
        },
        "outputId": "4c5a363d-dc83-4ae1-8600-afbea07ecf9d"
      },
      "source": [
        "print(df.resample('D').interpolate('spline',order=2))"
      ],
      "execution_count": 284,
      "outputs": [
        {
          "output_type": "stream",
          "text": [
            "            value\n",
            "2018-01-01    1.0\n",
            "2018-01-02    2.0\n",
            "2018-01-03    3.0\n",
            "2018-01-04    4.0\n",
            "2018-01-05    5.0\n",
            "2018-01-06    6.0\n",
            "2018-01-07    7.0\n",
            "2018-01-08    8.0\n",
            "2018-01-09    9.0\n",
            "2018-01-10   10.0\n",
            "2018-01-11   11.0\n",
            "2018-01-12   12.0\n",
            "2018-01-13   13.0\n",
            "2018-01-14   14.0\n",
            "2018-01-15   15.0\n",
            "2018-01-16   16.0\n",
            "2018-01-17   17.0\n",
            "2018-01-18   18.0\n",
            "2018-01-19   19.0\n",
            "2018-01-20   20.0\n",
            "2018-01-21   21.0\n",
            "2018-01-22   22.0\n",
            "2018-01-23   23.0\n",
            "2018-01-24   24.0\n",
            "2018-01-25   25.0\n",
            "2018-01-26   26.0\n",
            "2018-01-27   27.0\n",
            "2018-01-28   28.0\n",
            "2018-01-29   29.0\n",
            "2018-01-30   30.0\n",
            "2018-01-31   31.0\n"
          ],
          "name": "stdout"
        }
      ]
    },
    {
      "cell_type": "code",
      "metadata": {
        "id": "TUQ8nb_Yrw97",
        "colab_type": "code",
        "colab": {
          "base_uri": "https://localhost:8080/",
          "height": 173
        },
        "outputId": "98ab9f2b-1185-46ca-8fd9-cff40a0779d3"
      },
      "source": [
        "df_nan = pd.DataFrame({'value': [1, pd.np.nan, pd.np.nan, pd.np.nan, 31]},\n",
        "                      index=pd.to_datetime(['2018-01-01', '2018-01-02', '2018-01-15', '2018-01-20', '2018-01-31']))\n",
        "\n",
        "print(df_nan)"
      ],
      "execution_count": 285,
      "outputs": [
        {
          "output_type": "stream",
          "text": [
            "            value\n",
            "2018-01-01    1.0\n",
            "2018-01-02    NaN\n",
            "2018-01-15    NaN\n",
            "2018-01-20    NaN\n",
            "2018-01-31   31.0\n"
          ],
          "name": "stdout"
        },
        {
          "output_type": "stream",
          "text": [
            "/usr/local/lib/python3.6/dist-packages/ipykernel_launcher.py:1: FutureWarning: The pandas.np module is deprecated and will be removed from pandas in a future version. Import numpy directly instead\n",
            "  \"\"\"Entry point for launching an IPython kernel.\n"
          ],
          "name": "stderr"
        }
      ]
    },
    {
      "cell_type": "code",
      "metadata": {
        "id": "BogdQ1kmry5z",
        "colab_type": "code",
        "colab": {
          "base_uri": "https://localhost:8080/",
          "height": 119
        },
        "outputId": "0f6d0485-5114-44bd-ddd7-af0659d473af"
      },
      "source": [
        "print(df_nan.interpolate())"
      ],
      "execution_count": 286,
      "outputs": [
        {
          "output_type": "stream",
          "text": [
            "            value\n",
            "2018-01-01    1.0\n",
            "2018-01-02    8.5\n",
            "2018-01-15   16.0\n",
            "2018-01-20   23.5\n",
            "2018-01-31   31.0\n"
          ],
          "name": "stdout"
        }
      ]
    },
    {
      "cell_type": "code",
      "metadata": {
        "id": "89b2lQK0r1PF",
        "colab_type": "code",
        "colab": {
          "base_uri": "https://localhost:8080/",
          "height": 119
        },
        "outputId": "5357f5e5-a1d6-4021-8e9e-ab16a00a6c5d"
      },
      "source": [
        "print(df_nan.interpolate('time'))"
      ],
      "execution_count": 287,
      "outputs": [
        {
          "output_type": "stream",
          "text": [
            "            value\n",
            "2018-01-01    1.0\n",
            "2018-01-02    2.0\n",
            "2018-01-15   15.0\n",
            "2018-01-20   20.0\n",
            "2018-01-31   31.0\n"
          ],
          "name": "stdout"
        }
      ]
    },
    {
      "cell_type": "code",
      "metadata": {
        "id": "_-kJbOetr4FD",
        "colab_type": "code",
        "colab": {
          "base_uri": "https://localhost:8080/",
          "height": 204
        },
        "outputId": "01b92f70-69e4-43f6-c572-13ab3e0e8132"
      },
      "source": [
        "import pandas as pd\n",
        "s = pd.Series(range(10))\n",
        "print(s)"
      ],
      "execution_count": 288,
      "outputs": [
        {
          "output_type": "stream",
          "text": [
            "0    0\n",
            "1    1\n",
            "2    2\n",
            "3    3\n",
            "4    4\n",
            "5    5\n",
            "6    6\n",
            "7    7\n",
            "8    8\n",
            "9    9\n",
            "dtype: int64\n"
          ],
          "name": "stdout"
        }
      ]
    },
    {
      "cell_type": "code",
      "metadata": {
        "id": "dCPjYpV1sKll",
        "colab_type": "code",
        "colab": {
          "base_uri": "https://localhost:8080/",
          "height": 34
        },
        "outputId": "c20a62b9-23bb-438e-d165-1a54469345e8"
      },
      "source": [
        "print(s.rolling(3))"
      ],
      "execution_count": 289,
      "outputs": [
        {
          "output_type": "stream",
          "text": [
            "Rolling [window=3,center=False,axis=0]\n"
          ],
          "name": "stdout"
        }
      ]
    },
    {
      "cell_type": "code",
      "metadata": {
        "id": "KB75ns_nsMYj",
        "colab_type": "code",
        "colab": {
          "base_uri": "https://localhost:8080/",
          "height": 204
        },
        "outputId": "5cacdd87-90f5-4ae4-acc6-304295be6c14"
      },
      "source": [
        "print(s.rolling(3).sum())"
      ],
      "execution_count": 290,
      "outputs": [
        {
          "output_type": "stream",
          "text": [
            "0     NaN\n",
            "1     NaN\n",
            "2     3.0\n",
            "3     6.0\n",
            "4     9.0\n",
            "5    12.0\n",
            "6    15.0\n",
            "7    18.0\n",
            "8    21.0\n",
            "9    24.0\n",
            "dtype: float64\n"
          ],
          "name": "stdout"
        }
      ]
    },
    {
      "cell_type": "code",
      "metadata": {
        "id": "7owXUohcsOQU",
        "colab_type": "code",
        "colab": {
          "base_uri": "https://localhost:8080/",
          "height": 204
        },
        "outputId": "4f9c9fc1-1414-4124-d920-916eb4f7fca2"
      },
      "source": [
        "print(s.rolling(4).sum())"
      ],
      "execution_count": 291,
      "outputs": [
        {
          "output_type": "stream",
          "text": [
            "0     NaN\n",
            "1     NaN\n",
            "2     NaN\n",
            "3     6.0\n",
            "4    10.0\n",
            "5    14.0\n",
            "6    18.0\n",
            "7    22.0\n",
            "8    26.0\n",
            "9    30.0\n",
            "dtype: float64\n"
          ],
          "name": "stdout"
        }
      ]
    },
    {
      "cell_type": "code",
      "metadata": {
        "id": "G3iNE5V-tEDs",
        "colab_type": "code",
        "colab": {
          "base_uri": "https://localhost:8080/",
          "height": 204
        },
        "outputId": "10f73e90-28e6-4947-d6e6-05ee80cbe692"
      },
      "source": [
        "print(s.rolling(3, center=True).sum())"
      ],
      "execution_count": 292,
      "outputs": [
        {
          "output_type": "stream",
          "text": [
            "0     NaN\n",
            "1     3.0\n",
            "2     6.0\n",
            "3     9.0\n",
            "4    12.0\n",
            "5    15.0\n",
            "6    18.0\n",
            "7    21.0\n",
            "8    24.0\n",
            "9     NaN\n",
            "dtype: float64\n"
          ],
          "name": "stdout"
        }
      ]
    },
    {
      "cell_type": "code",
      "metadata": {
        "id": "yX90OAimtIvU",
        "colab_type": "code",
        "colab": {
          "base_uri": "https://localhost:8080/",
          "height": 391
        },
        "outputId": "f095bfb0-5224-44bd-bfdd-e35fc6702fc4"
      },
      "source": [
        "print(s.rolling(3, min_periods=2).sum())\n",
        "print(s.rolling(3, min_periods=1).sum())"
      ],
      "execution_count": 295,
      "outputs": [
        {
          "output_type": "stream",
          "text": [
            "0     NaN\n",
            "1     1.0\n",
            "2     3.0\n",
            "3     6.0\n",
            "4     9.0\n",
            "5    12.0\n",
            "6    15.0\n",
            "7    18.0\n",
            "8    21.0\n",
            "9    24.0\n",
            "dtype: float64\n",
            "0     0.0\n",
            "1     1.0\n",
            "2     3.0\n",
            "3     6.0\n",
            "4     9.0\n",
            "5    12.0\n",
            "6    15.0\n",
            "7    18.0\n",
            "8    21.0\n",
            "9    24.0\n",
            "dtype: float64\n"
          ],
          "name": "stdout"
        }
      ]
    },
    {
      "cell_type": "code",
      "metadata": {
        "id": "qpq5QmvOtYM7",
        "colab_type": "code",
        "colab": {}
      },
      "source": [
        "df = pd.DataFrame({'a': range(10), 'b': range(10, 0, -1),\n",
        "                   'c': range(10, 20), 'd': range(20, 10, -1)})\n"
      ],
      "execution_count": 296,
      "outputs": []
    },
    {
      "cell_type": "code",
      "metadata": {
        "id": "zxgsazkPuFKL",
        "colab_type": "code",
        "colab": {
          "base_uri": "https://localhost:8080/",
          "height": 204
        },
        "outputId": "faad05c8-3ae2-49d4-d8b7-d7ba5e0068ef"
      },
      "source": [
        "print(df.rolling(2).sum())"
      ],
      "execution_count": 297,
      "outputs": [
        {
          "output_type": "stream",
          "text": [
            "      a     b     c     d\n",
            "0   NaN   NaN   NaN   NaN\n",
            "1   1.0  19.0  21.0  39.0\n",
            "2   3.0  17.0  23.0  37.0\n",
            "3   5.0  15.0  25.0  35.0\n",
            "4   7.0  13.0  27.0  33.0\n",
            "5   9.0  11.0  29.0  31.0\n",
            "6  11.0   9.0  31.0  29.0\n",
            "7  13.0   7.0  33.0  27.0\n",
            "8  15.0   5.0  35.0  25.0\n",
            "9  17.0   3.0  37.0  23.0\n"
          ],
          "name": "stdout"
        }
      ]
    },
    {
      "cell_type": "code",
      "metadata": {
        "id": "ZBsRuk_-uHTz",
        "colab_type": "code",
        "colab": {
          "base_uri": "https://localhost:8080/",
          "height": 204
        },
        "outputId": "12fa0ae3-7cce-4d41-a43f-23875ca18332"
      },
      "source": [
        "print(df.rolling(2,axis=1).sum())"
      ],
      "execution_count": 298,
      "outputs": [
        {
          "output_type": "stream",
          "text": [
            "    a     b     c     d\n",
            "0 NaN  10.0  20.0  30.0\n",
            "1 NaN  10.0  20.0  30.0\n",
            "2 NaN  10.0  20.0  30.0\n",
            "3 NaN  10.0  20.0  30.0\n",
            "4 NaN  10.0  20.0  30.0\n",
            "5 NaN  10.0  20.0  30.0\n",
            "6 NaN  10.0  20.0  30.0\n",
            "7 NaN  10.0  20.0  30.0\n",
            "8 NaN  10.0  20.0  30.0\n",
            "9 NaN  10.0  20.0  30.0\n"
          ],
          "name": "stdout"
        }
      ]
    },
    {
      "cell_type": "code",
      "metadata": {
        "id": "jptmrioVuI10",
        "colab_type": "code",
        "colab": {
          "base_uri": "https://localhost:8080/",
          "height": 306
        },
        "outputId": "a45f98f7-497a-461c-8249-b73532e820dc"
      },
      "source": [
        "import pandas as pd\n",
        "\n",
        "df = pd.DataFrame({'value': range(1, 32, 2)},\n",
        "                  index=pd.date_range('2018-01-01', '2018-01-31', freq='2D'))\n",
        "\n",
        "print(df)"
      ],
      "execution_count": 299,
      "outputs": [
        {
          "output_type": "stream",
          "text": [
            "            value\n",
            "2018-01-01      1\n",
            "2018-01-03      3\n",
            "2018-01-05      5\n",
            "2018-01-07      7\n",
            "2018-01-09      9\n",
            "2018-01-11     11\n",
            "2018-01-13     13\n",
            "2018-01-15     15\n",
            "2018-01-17     17\n",
            "2018-01-19     19\n",
            "2018-01-21     21\n",
            "2018-01-23     23\n",
            "2018-01-25     25\n",
            "2018-01-27     27\n",
            "2018-01-29     29\n",
            "2018-01-31     31\n"
          ],
          "name": "stdout"
        }
      ]
    },
    {
      "cell_type": "code",
      "metadata": {
        "id": "NR7qOkmmucmU",
        "colab_type": "code",
        "colab": {
          "base_uri": "https://localhost:8080/",
          "height": 119
        },
        "outputId": "d90f7b78-9566-4760-c64f-373f41d6ac5c"
      },
      "source": [
        "import pandas as pd\n",
        "\n",
        "df = pd.DataFrame({'a': range(1, 6),\n",
        "                   'b': [x**2 for x in range(1, 6)],\n",
        "                   'c': [x**3 for x in range(1, 6)]})\n",
        "\n",
        "print(df)"
      ],
      "execution_count": 300,
      "outputs": [
        {
          "output_type": "stream",
          "text": [
            "   a   b    c\n",
            "0  1   1    1\n",
            "1  2   4    8\n",
            "2  3   9   27\n",
            "3  4  16   64\n",
            "4  5  25  125\n"
          ],
          "name": "stdout"
        }
      ]
    },
    {
      "cell_type": "code",
      "metadata": {
        "id": "F8XbUUGsu7hU",
        "colab_type": "code",
        "colab": {
          "base_uri": "https://localhost:8080/",
          "height": 119
        },
        "outputId": "9b36628f-01b4-47d0-cf56-0d309009abb1"
      },
      "source": [
        "print(df.diff())"
      ],
      "execution_count": 301,
      "outputs": [
        {
          "output_type": "stream",
          "text": [
            "     a    b     c\n",
            "0  NaN  NaN   NaN\n",
            "1  1.0  3.0   7.0\n",
            "2  1.0  5.0  19.0\n",
            "3  1.0  7.0  37.0\n",
            "4  1.0  9.0  61.0\n"
          ],
          "name": "stdout"
        }
      ]
    },
    {
      "cell_type": "code",
      "metadata": {
        "id": "slRrFWjSvPKc",
        "colab_type": "code",
        "colab": {
          "base_uri": "https://localhost:8080/",
          "height": 119
        },
        "outputId": "27703f8e-36fb-473d-fdca-14ed6c74b497"
      },
      "source": [
        "print(df.diff(2))"
      ],
      "execution_count": 302,
      "outputs": [
        {
          "output_type": "stream",
          "text": [
            "     a     b     c\n",
            "0  NaN   NaN   NaN\n",
            "1  NaN   NaN   NaN\n",
            "2  2.0   8.0  26.0\n",
            "3  2.0  12.0  56.0\n",
            "4  2.0  16.0  98.0\n"
          ],
          "name": "stdout"
        }
      ]
    },
    {
      "cell_type": "code",
      "metadata": {
        "id": "Tkw_1tRevRLz",
        "colab_type": "code",
        "colab": {
          "base_uri": "https://localhost:8080/",
          "height": 119
        },
        "outputId": "e4877e43-2c31-4e8e-a654-68b8b499477f"
      },
      "source": [
        "print(df.diff(-1))"
      ],
      "execution_count": 303,
      "outputs": [
        {
          "output_type": "stream",
          "text": [
            "     a    b     c\n",
            "0 -1.0 -3.0  -7.0\n",
            "1 -1.0 -5.0 -19.0\n",
            "2 -1.0 -7.0 -37.0\n",
            "3 -1.0 -9.0 -61.0\n",
            "4  NaN  NaN   NaN\n"
          ],
          "name": "stdout"
        }
      ]
    },
    {
      "cell_type": "code",
      "metadata": {
        "id": "iFjVWuJNvSHd",
        "colab_type": "code",
        "colab": {
          "base_uri": "https://localhost:8080/",
          "height": 119
        },
        "outputId": "69e36e13-e2f8-4436-c5b9-4504b1ff8628"
      },
      "source": [
        "print(df.diff(axis = 1))"
      ],
      "execution_count": 304,
      "outputs": [
        {
          "output_type": "stream",
          "text": [
            "    a     b      c\n",
            "0 NaN   0.0    0.0\n",
            "1 NaN   2.0    4.0\n",
            "2 NaN   6.0   18.0\n",
            "3 NaN  12.0   48.0\n",
            "4 NaN  20.0  100.0\n"
          ],
          "name": "stdout"
        }
      ]
    },
    {
      "cell_type": "code",
      "metadata": {
        "id": "0qGhioonvUFD",
        "colab_type": "code",
        "colab": {
          "base_uri": "https://localhost:8080/",
          "height": 119
        },
        "outputId": "ffbac4e3-812f-4b69-cf39-cba64ff6a2ce"
      },
      "source": [
        "print(df.diff(-1, axis = 1))"
      ],
      "execution_count": 305,
      "outputs": [
        {
          "output_type": "stream",
          "text": [
            "      a      b   c\n",
            "0   0.0    0.0 NaN\n",
            "1  -2.0   -4.0 NaN\n",
            "2  -6.0  -18.0 NaN\n",
            "3 -12.0  -48.0 NaN\n",
            "4 -20.0 -100.0 NaN\n"
          ],
          "name": "stdout"
        }
      ]
    },
    {
      "cell_type": "code",
      "metadata": {
        "id": "QIiVeiyCvaNr",
        "colab_type": "code",
        "colab": {}
      },
      "source": [
        "df['b_diff'] = df['b'].diff(-1)"
      ],
      "execution_count": 306,
      "outputs": []
    },
    {
      "cell_type": "code",
      "metadata": {
        "id": "J0g_qBpdvho9",
        "colab_type": "code",
        "colab": {
          "base_uri": "https://localhost:8080/",
          "height": 119
        },
        "outputId": "8b8c8cc9-0384-47d9-b66e-dc56feecd824"
      },
      "source": [
        "print(df)"
      ],
      "execution_count": 307,
      "outputs": [
        {
          "output_type": "stream",
          "text": [
            "   a   b    c  b_diff\n",
            "0  1   1    1    -3.0\n",
            "1  2   4    8    -5.0\n",
            "2  3   9   27    -7.0\n",
            "3  4  16   64    -9.0\n",
            "4  5  25  125     NaN\n"
          ],
          "name": "stdout"
        }
      ]
    },
    {
      "cell_type": "code",
      "metadata": {
        "id": "pdF4WW8yvicT",
        "colab_type": "code",
        "colab": {
          "base_uri": "https://localhost:8080/",
          "height": 119
        },
        "outputId": "4d51faf1-bbce-495b-c634-dafcc0d9656d"
      },
      "source": [
        "import pandas as pd\n",
        "\n",
        "df = pd.DataFrame({'a': range(1, 6),\n",
        "                   'b': [x**2 for x in range(1, 6)],\n",
        "                   'c': [x**3 for x in range(1, 6)]})\n",
        "\n",
        "print(df)"
      ],
      "execution_count": 308,
      "outputs": [
        {
          "output_type": "stream",
          "text": [
            "   a   b    c\n",
            "0  1   1    1\n",
            "1  2   4    8\n",
            "2  3   9   27\n",
            "3  4  16   64\n",
            "4  5  25  125\n"
          ],
          "name": "stdout"
        }
      ]
    },
    {
      "cell_type": "code",
      "metadata": {
        "id": "ueFn9LT0vlUr",
        "colab_type": "code",
        "colab": {
          "base_uri": "https://localhost:8080/",
          "height": 119
        },
        "outputId": "3cb54238-07f3-4354-dd87-75b6d4613b19"
      },
      "source": [
        "print(df.pct_change())"
      ],
      "execution_count": 309,
      "outputs": [
        {
          "output_type": "stream",
          "text": [
            "          a         b         c\n",
            "0       NaN       NaN       NaN\n",
            "1  1.000000  3.000000  7.000000\n",
            "2  0.500000  1.250000  2.375000\n",
            "3  0.333333  0.777778  1.370370\n",
            "4  0.250000  0.562500  0.953125\n"
          ],
          "name": "stdout"
        }
      ]
    },
    {
      "cell_type": "code",
      "metadata": {
        "id": "Og7yqHoOv99b",
        "colab_type": "code",
        "colab": {
          "base_uri": "https://localhost:8080/",
          "height": 119
        },
        "outputId": "36b168e4-f6eb-47c2-d6e9-e44708a1a5f2"
      },
      "source": [
        "print(df.pct_change(2))"
      ],
      "execution_count": 310,
      "outputs": [
        {
          "output_type": "stream",
          "text": [
            "          a         b         c\n",
            "0       NaN       NaN       NaN\n",
            "1       NaN       NaN       NaN\n",
            "2  2.000000  8.000000  26.00000\n",
            "3  1.000000  3.000000   7.00000\n",
            "4  0.666667  1.777778   3.62963\n"
          ],
          "name": "stdout"
        }
      ]
    },
    {
      "cell_type": "code",
      "metadata": {
        "id": "ztEws60ov_5b",
        "colab_type": "code",
        "colab": {
          "base_uri": "https://localhost:8080/",
          "height": 119
        },
        "outputId": "18554adb-bec5-4f2d-ec45-403f1bc262eb"
      },
      "source": [
        "print(df.pct_change(2))"
      ],
      "execution_count": 311,
      "outputs": [
        {
          "output_type": "stream",
          "text": [
            "          a         b         c\n",
            "0       NaN       NaN       NaN\n",
            "1       NaN       NaN       NaN\n",
            "2  2.000000  8.000000  26.00000\n",
            "3  1.000000  3.000000   7.00000\n",
            "4  0.666667  1.777778   3.62963\n"
          ],
          "name": "stdout"
        }
      ]
    },
    {
      "cell_type": "code",
      "metadata": {
        "id": "EbV6_gofwFdL",
        "colab_type": "code",
        "colab": {
          "base_uri": "https://localhost:8080/",
          "height": 119
        },
        "outputId": "733f3309-471e-4178-ed74-253031e129d7"
      },
      "source": [
        "print(df.pct_change(-1))"
      ],
      "execution_count": 312,
      "outputs": [
        {
          "output_type": "stream",
          "text": [
            "          a         b         c\n",
            "0 -0.500000 -0.750000 -0.875000\n",
            "1 -0.333333 -0.555556 -0.703704\n",
            "2 -0.250000 -0.437500 -0.578125\n",
            "3 -0.200000 -0.360000 -0.488000\n",
            "4       NaN       NaN       NaN\n"
          ],
          "name": "stdout"
        }
      ]
    },
    {
      "cell_type": "code",
      "metadata": {
        "id": "X71RaMhdwG8C",
        "colab_type": "code",
        "colab": {
          "base_uri": "https://localhost:8080/",
          "height": 85
        },
        "outputId": "3c78b913-743c-4d70-bc34-c11c83fbc400"
      },
      "source": [
        "print(df.diff(2).dropna())"
      ],
      "execution_count": 313,
      "outputs": [
        {
          "output_type": "stream",
          "text": [
            "     a     b     c\n",
            "2  2.0   8.0  26.0\n",
            "3  2.0  12.0  56.0\n",
            "4  2.0  16.0  98.0\n"
          ],
          "name": "stdout"
        }
      ]
    },
    {
      "cell_type": "code",
      "metadata": {
        "id": "v6_42SXxwNIr",
        "colab_type": "code",
        "colab": {
          "base_uri": "https://localhost:8080/",
          "height": 119
        },
        "outputId": "a6c3b355-81c0-4eff-d391-875074cde831"
      },
      "source": [
        "print(df.diff().fillna(0))"
      ],
      "execution_count": 314,
      "outputs": [
        {
          "output_type": "stream",
          "text": [
            "     a    b     c\n",
            "0  0.0  0.0   0.0\n",
            "1  1.0  3.0   7.0\n",
            "2  1.0  5.0  19.0\n",
            "3  1.0  7.0  37.0\n",
            "4  1.0  9.0  61.0\n"
          ],
          "name": "stdout"
        }
      ]
    },
    {
      "cell_type": "code",
      "metadata": {
        "id": "FVFCPH3OwPrb",
        "colab_type": "code",
        "colab": {
          "base_uri": "https://localhost:8080/",
          "height": 119
        },
        "outputId": "765103b9-ed9e-441e-e088-3ed701f11e9d"
      },
      "source": [
        "print(df.diff(2).fillna(method='bfill'))"
      ],
      "execution_count": 315,
      "outputs": [
        {
          "output_type": "stream",
          "text": [
            "     a     b     c\n",
            "0  2.0   8.0  26.0\n",
            "1  2.0   8.0  26.0\n",
            "2  2.0   8.0  26.0\n",
            "3  2.0  12.0  56.0\n",
            "4  2.0  16.0  98.0\n"
          ],
          "name": "stdout"
        }
      ]
    },
    {
      "cell_type": "code",
      "metadata": {
        "id": "sYj_1JjXwSHU",
        "colab_type": "code",
        "colab": {
          "base_uri": "https://localhost:8080/",
          "height": 170
        },
        "outputId": "8b9f1bf7-cf92-445f-b0c8-8ee9c3849338"
      },
      "source": [
        "import pandas as pd\n",
        "\n",
        "df = pd.DataFrame({'value': range(1, 16, 2)},\n",
        "                  index=pd.date_range('2018-01-01', '2018-01-15', freq='2D'))\n",
        "\n",
        "print(df)"
      ],
      "execution_count": 316,
      "outputs": [
        {
          "output_type": "stream",
          "text": [
            "            value\n",
            "2018-01-01      1\n",
            "2018-01-03      3\n",
            "2018-01-05      5\n",
            "2018-01-07      7\n",
            "2018-01-09      9\n",
            "2018-01-11     11\n",
            "2018-01-13     13\n",
            "2018-01-15     15\n"
          ],
          "name": "stdout"
        }
      ]
    },
    {
      "cell_type": "code",
      "metadata": {
        "id": "jEAT0A-TwwG8",
        "colab_type": "code",
        "colab": {
          "base_uri": "https://localhost:8080/",
          "height": 119
        },
        "outputId": "1cd858f4-6e35-4ed8-f9ff-002186e45fc1"
      },
      "source": [
        "import pandas as pd\n",
        "\n",
        "df = pd.DataFrame({'a': range(1, 6),\n",
        "                   'b': [x**2 for x in range(1, 6)],\n",
        "                   'c': [x**3 for x in range(1, 6)]})\n",
        "\n",
        "print(df)"
      ],
      "execution_count": 317,
      "outputs": [
        {
          "output_type": "stream",
          "text": [
            "   a   b    c\n",
            "0  1   1    1\n",
            "1  2   4    8\n",
            "2  3   9   27\n",
            "3  4  16   64\n",
            "4  5  25  125\n"
          ],
          "name": "stdout"
        }
      ]
    },
    {
      "cell_type": "code",
      "metadata": {
        "id": "dh2l9HIow4U7",
        "colab_type": "code",
        "colab": {
          "base_uri": "https://localhost:8080/",
          "height": 119
        },
        "outputId": "bc898a8e-5e78-42d6-92cd-ce359048d7f7"
      },
      "source": [
        "print(df.shift())"
      ],
      "execution_count": 318,
      "outputs": [
        {
          "output_type": "stream",
          "text": [
            "     a     b     c\n",
            "0  NaN   NaN   NaN\n",
            "1  1.0   1.0   1.0\n",
            "2  2.0   4.0   8.0\n",
            "3  3.0   9.0  27.0\n",
            "4  4.0  16.0  64.0\n"
          ],
          "name": "stdout"
        }
      ]
    },
    {
      "cell_type": "code",
      "metadata": {
        "id": "HIOEWCwdw5Mi",
        "colab_type": "code",
        "colab": {
          "base_uri": "https://localhost:8080/",
          "height": 119
        },
        "outputId": "65a58ec9-a6ce-4a69-d9d6-cd0ba07f6875"
      },
      "source": [
        "print(df.shift(2))"
      ],
      "execution_count": 319,
      "outputs": [
        {
          "output_type": "stream",
          "text": [
            "     a    b     c\n",
            "0  NaN  NaN   NaN\n",
            "1  NaN  NaN   NaN\n",
            "2  1.0  1.0   1.0\n",
            "3  2.0  4.0   8.0\n",
            "4  3.0  9.0  27.0\n"
          ],
          "name": "stdout"
        }
      ]
    },
    {
      "cell_type": "code",
      "metadata": {
        "id": "ky8KZeJtw6xr",
        "colab_type": "code",
        "colab": {
          "base_uri": "https://localhost:8080/",
          "height": 119
        },
        "outputId": "793968b2-c542-426c-bd03-0a15ef0e471a"
      },
      "source": [
        "print(df.shift(-1))"
      ],
      "execution_count": 320,
      "outputs": [
        {
          "output_type": "stream",
          "text": [
            "     a     b      c\n",
            "0  2.0   4.0    8.0\n",
            "1  3.0   9.0   27.0\n",
            "2  4.0  16.0   64.0\n",
            "3  5.0  25.0  125.0\n",
            "4  NaN   NaN    NaN\n"
          ],
          "name": "stdout"
        }
      ]
    },
    {
      "cell_type": "code",
      "metadata": {
        "id": "SP2uoUtKw8Hr",
        "colab_type": "code",
        "colab": {
          "base_uri": "https://localhost:8080/",
          "height": 119
        },
        "outputId": "3d097c20-14c0-4394-bcee-99b24bdb6f27"
      },
      "source": [
        "print(df.shift(axis = 1))"
      ],
      "execution_count": 321,
      "outputs": [
        {
          "output_type": "stream",
          "text": [
            "    a    b     c\n",
            "0 NaN  1.0   1.0\n",
            "1 NaN  2.0   4.0\n",
            "2 NaN  3.0   9.0\n",
            "3 NaN  4.0  16.0\n",
            "4 NaN  5.0  25.0\n"
          ],
          "name": "stdout"
        }
      ]
    },
    {
      "cell_type": "code",
      "metadata": {
        "id": "50LWTGL_w_I7",
        "colab_type": "code",
        "colab": {
          "base_uri": "https://localhost:8080/",
          "height": 170
        },
        "outputId": "9075045f-0417-4ce0-eb15-d4b8880a0073"
      },
      "source": [
        "import pandas as pd\n",
        "df = pd.DataFrame({'value': range(1,16,2)},\n",
        "                  index = pd.date_range('2018-01-01', '2018-01-15', freq='2D'))\n",
        "print(df)"
      ],
      "execution_count": 322,
      "outputs": [
        {
          "output_type": "stream",
          "text": [
            "            value\n",
            "2018-01-01      1\n",
            "2018-01-03      3\n",
            "2018-01-05      5\n",
            "2018-01-07      7\n",
            "2018-01-09      9\n",
            "2018-01-11     11\n",
            "2018-01-13     13\n",
            "2018-01-15     15\n"
          ],
          "name": "stdout"
        }
      ]
    },
    {
      "cell_type": "code",
      "metadata": {
        "id": "vxrCAEEVyAD2",
        "colab_type": "code",
        "colab": {
          "base_uri": "https://localhost:8080/",
          "height": 170
        },
        "outputId": "302a1f6d-93d2-475d-cd6c-4cbee7d3ca6e"
      },
      "source": [
        "print(df.shift())"
      ],
      "execution_count": 323,
      "outputs": [
        {
          "output_type": "stream",
          "text": [
            "            value\n",
            "2018-01-01    NaN\n",
            "2018-01-03    1.0\n",
            "2018-01-05    3.0\n",
            "2018-01-07    5.0\n",
            "2018-01-09    7.0\n",
            "2018-01-11    9.0\n",
            "2018-01-13   11.0\n",
            "2018-01-15   13.0\n"
          ],
          "name": "stdout"
        }
      ]
    },
    {
      "cell_type": "code",
      "metadata": {
        "id": "9JWcV87_yCGT",
        "colab_type": "code",
        "colab": {
          "base_uri": "https://localhost:8080/",
          "height": 170
        },
        "outputId": "4f81503c-c455-4a7f-c881-379aaebb1840"
      },
      "source": [
        "print(df.shift(freq='W'))"
      ],
      "execution_count": 324,
      "outputs": [
        {
          "output_type": "stream",
          "text": [
            "            value\n",
            "2018-01-07      1\n",
            "2018-01-07      3\n",
            "2018-01-07      5\n",
            "2018-01-14      7\n",
            "2018-01-14      9\n",
            "2018-01-14     11\n",
            "2018-01-14     13\n",
            "2018-01-21     15\n"
          ],
          "name": "stdout"
        }
      ]
    },
    {
      "cell_type": "code",
      "metadata": {
        "id": "i5e8kjqSyu6c",
        "colab_type": "code",
        "colab": {
          "base_uri": "https://localhost:8080/",
          "height": 170
        },
        "outputId": "057acdf0-ce04-4b4c-bbf6-69ed133ebf6d"
      },
      "source": [
        "print(df.shift(freq='M'))"
      ],
      "execution_count": 325,
      "outputs": [
        {
          "output_type": "stream",
          "text": [
            "            value\n",
            "2018-01-31      1\n",
            "2018-01-31      3\n",
            "2018-01-31      5\n",
            "2018-01-31      7\n",
            "2018-01-31      9\n",
            "2018-01-31     11\n",
            "2018-01-31     13\n",
            "2018-01-31     15\n"
          ],
          "name": "stdout"
        }
      ]
    },
    {
      "cell_type": "code",
      "metadata": {
        "id": "lo_ylQIMyw97",
        "colab_type": "code",
        "colab": {
          "base_uri": "https://localhost:8080/",
          "height": 170
        },
        "outputId": "aa362a72-d774-4342-8e1b-d1aa495eec2d"
      },
      "source": [
        "print(df.shift(freq='7D'))"
      ],
      "execution_count": 326,
      "outputs": [
        {
          "output_type": "stream",
          "text": [
            "            value\n",
            "2018-01-08      1\n",
            "2018-01-10      3\n",
            "2018-01-12      5\n",
            "2018-01-14      7\n",
            "2018-01-16      9\n",
            "2018-01-18     11\n",
            "2018-01-20     13\n",
            "2018-01-22     15\n"
          ],
          "name": "stdout"
        }
      ]
    },
    {
      "cell_type": "code",
      "metadata": {
        "id": "KHc_pYoUyyxz",
        "colab_type": "code",
        "colab": {
          "base_uri": "https://localhost:8080/",
          "height": 170
        },
        "outputId": "9b4bb3fe-f9c3-48d3-83d0-003cac865395"
      },
      "source": [
        "print(df.shift(freq='31D'))"
      ],
      "execution_count": 327,
      "outputs": [
        {
          "output_type": "stream",
          "text": [
            "            value\n",
            "2018-02-01      1\n",
            "2018-02-03      3\n",
            "2018-02-05      5\n",
            "2018-02-07      7\n",
            "2018-02-09      9\n",
            "2018-02-11     11\n",
            "2018-02-13     13\n",
            "2018-02-15     15\n"
          ],
          "name": "stdout"
        }
      ]
    },
    {
      "cell_type": "code",
      "metadata": {
        "id": "vf_oJr63y0et",
        "colab_type": "code",
        "colab": {
          "base_uri": "https://localhost:8080/",
          "height": 134
        },
        "outputId": "b2be72fe-e6dc-490f-b692-e13c1610cfd3"
      },
      "source": [
        "df_m = pd.DataFrame({'value': range(1,13)},\n",
        "                    index = pd.date_range8'-----------)"
      ],
      "execution_count": 328,
      "outputs": [
        {
          "output_type": "error",
          "ename": "SyntaxError",
          "evalue": "ignored",
          "traceback": [
            "\u001b[0;36m  File \u001b[0;32m\"<ipython-input-328-43694616c030>\"\u001b[0;36m, line \u001b[0;32m2\u001b[0m\n\u001b[0;31m    index = pd.date_range8'-----------)\u001b[0m\n\u001b[0m                                       ^\u001b[0m\n\u001b[0;31mSyntaxError\u001b[0m\u001b[0;31m:\u001b[0m EOL while scanning string literal\n"
          ]
        }
      ]
    },
    {
      "cell_type": "code",
      "metadata": {
        "id": "xJwq7Fiky59t",
        "colab_type": "code",
        "colab": {
          "base_uri": "https://localhost:8080/",
          "height": 238
        },
        "outputId": "6daf35e4-84fa-40e3-afb9-c1bfa080f16d"
      },
      "source": [
        "df_m = pd.DataFrame({'value': range(1, 13)},\n",
        "                    index=pd.date_range('2018-01-01', '2018-12-31', freq='M'))\n",
        "\n",
        "print(df_m)"
      ],
      "execution_count": 329,
      "outputs": [
        {
          "output_type": "stream",
          "text": [
            "            value\n",
            "2018-01-31      1\n",
            "2018-02-28      2\n",
            "2018-03-31      3\n",
            "2018-04-30      4\n",
            "2018-05-31      5\n",
            "2018-06-30      6\n",
            "2018-07-31      7\n",
            "2018-08-31      8\n",
            "2018-09-30      9\n",
            "2018-10-31     10\n",
            "2018-11-30     11\n",
            "2018-12-31     12\n"
          ],
          "name": "stdout"
        }
      ]
    },
    {
      "cell_type": "code",
      "metadata": {
        "id": "47xI3wrPy7cq",
        "colab_type": "code",
        "colab": {
          "base_uri": "https://localhost:8080/",
          "height": 238
        },
        "outputId": "40be3603-41c3-460e-b6e2-41a541bf492f"
      },
      "source": [
        "print(df_m.shift(freq='M'))"
      ],
      "execution_count": 330,
      "outputs": [
        {
          "output_type": "stream",
          "text": [
            "            value\n",
            "2018-02-28      1\n",
            "2018-03-31      2\n",
            "2018-04-30      3\n",
            "2018-05-31      4\n",
            "2018-06-30      5\n",
            "2018-07-31      6\n",
            "2018-08-31      7\n",
            "2018-09-30      8\n",
            "2018-10-31      9\n",
            "2018-11-30     10\n",
            "2018-12-31     11\n",
            "2019-01-31     12\n"
          ],
          "name": "stdout"
        }
      ]
    },
    {
      "cell_type": "code",
      "metadata": {
        "id": "7FCO8wPMy99D",
        "colab_type": "code",
        "colab": {
          "base_uri": "https://localhost:8080/",
          "height": 34
        },
        "outputId": "25960d13-3ce6-4c36-a2ae-cc31b214924e"
      },
      "source": [
        "import pandas as pd\n",
        "s = '2018-01-01T12:00+09:00'\n",
        "print(s)"
      ],
      "execution_count": 331,
      "outputs": [
        {
          "output_type": "stream",
          "text": [
            "2018-01-01T12:00+09:00\n"
          ],
          "name": "stdout"
        }
      ]
    },
    {
      "cell_type": "code",
      "metadata": {
        "id": "uIXPPQBG0MCb",
        "colab_type": "code",
        "colab": {
          "base_uri": "https://localhost:8080/",
          "height": 34
        },
        "outputId": "173ad998-1221-4ba4-a778-e6f547620d89"
      },
      "source": [
        "ts =pd.to_datetime(s)\n",
        "print(ts)"
      ],
      "execution_count": 332,
      "outputs": [
        {
          "output_type": "stream",
          "text": [
            "2018-01-01 12:00:00+09:00\n"
          ],
          "name": "stdout"
        }
      ]
    },
    {
      "cell_type": "code",
      "metadata": {
        "id": "wxiaQHNw0O3r",
        "colab_type": "code",
        "colab": {
          "base_uri": "https://localhost:8080/",
          "height": 34
        },
        "outputId": "a0c5f277-76d6-41e3-b602-c8fcf12e8ca2"
      },
      "source": [
        "print(ts.tz)"
      ],
      "execution_count": 333,
      "outputs": [
        {
          "output_type": "stream",
          "text": [
            "pytz.FixedOffset(540)\n"
          ],
          "name": "stdout"
        }
      ]
    },
    {
      "cell_type": "code",
      "metadata": {
        "id": "gaTigxO90QVF",
        "colab_type": "code",
        "colab": {}
      },
      "source": [
        "ts_utc = pd.to_datetime(s, utc = True)"
      ],
      "execution_count": 334,
      "outputs": []
    },
    {
      "cell_type": "code",
      "metadata": {
        "id": "nY60Jhu00Vm0",
        "colab_type": "code",
        "colab": {
          "base_uri": "https://localhost:8080/",
          "height": 34
        },
        "outputId": "b45cc069-b2d0-45ce-ea8e-8c8b3c6b734f"
      },
      "source": [
        "print(ts_utc)"
      ],
      "execution_count": 335,
      "outputs": [
        {
          "output_type": "stream",
          "text": [
            "2018-01-01 03:00:00+00:00\n"
          ],
          "name": "stdout"
        }
      ]
    },
    {
      "cell_type": "code",
      "metadata": {
        "id": "faffOgME0X7z",
        "colab_type": "code",
        "colab": {
          "base_uri": "https://localhost:8080/",
          "height": 34
        },
        "outputId": "6b4abdae-0f06-4d5b-80cd-2e633a1dab18"
      },
      "source": [
        "s_without_tz = '2018-01-01T12:00'\n",
        "\n",
        "ts_naive = pd.to_datetime(s_without_tz)\n",
        "print(ts_naive)"
      ],
      "execution_count": 336,
      "outputs": [
        {
          "output_type": "stream",
          "text": [
            "2018-01-01 12:00:00\n"
          ],
          "name": "stdout"
        }
      ]
    },
    {
      "cell_type": "code",
      "metadata": {
        "id": "2oSZ6AII0bvi",
        "colab_type": "code",
        "colab": {
          "base_uri": "https://localhost:8080/",
          "height": 34
        },
        "outputId": "9bc1d652-1545-46f5-e9e6-65449d142c07"
      },
      "source": [
        "print(ts_naive.tz)"
      ],
      "execution_count": 337,
      "outputs": [
        {
          "output_type": "stream",
          "text": [
            "None\n"
          ],
          "name": "stdout"
        }
      ]
    },
    {
      "cell_type": "code",
      "metadata": {
        "id": "iVME3MR30hPV",
        "colab_type": "code",
        "colab": {
          "base_uri": "https://localhost:8080/",
          "height": 34
        },
        "outputId": "76231db1-4056-4cd3-ad48-a7d2c63e8b89"
      },
      "source": [
        "print(ts_utc)"
      ],
      "execution_count": 338,
      "outputs": [
        {
          "output_type": "stream",
          "text": [
            "2018-01-01 03:00:00+00:00\n"
          ],
          "name": "stdout"
        }
      ]
    },
    {
      "cell_type": "code",
      "metadata": {
        "id": "rh3KKHCW0m4j",
        "colab_type": "code",
        "colab": {
          "base_uri": "https://localhost:8080/",
          "height": 34
        },
        "outputId": "976d3624-53b6-486e-bbbe-ddb69e8aee52"
      },
      "source": [
        "print(ts_utc.tz)"
      ],
      "execution_count": 339,
      "outputs": [
        {
          "output_type": "stream",
          "text": [
            "UTC\n"
          ],
          "name": "stdout"
        }
      ]
    },
    {
      "cell_type": "code",
      "metadata": {
        "id": "9wu1ZW8c0oUL",
        "colab_type": "code",
        "colab": {}
      },
      "source": [
        "ts_jst = ts_utc.tz_convert('Asia/Tokyo')"
      ],
      "execution_count": 340,
      "outputs": []
    },
    {
      "cell_type": "markdown",
      "metadata": {
        "id": "YXJ2oiyT1tnQ",
        "colab_type": "text"
      },
      "source": [
        ""
      ]
    },
    {
      "cell_type": "code",
      "metadata": {
        "id": "XUDF6OhO0rTK",
        "colab_type": "code",
        "colab": {
          "base_uri": "https://localhost:8080/",
          "height": 34
        },
        "outputId": "090ebac2-91da-40c3-debb-e5c8d739b20c"
      },
      "source": [
        "print(ts_jst)"
      ],
      "execution_count": 341,
      "outputs": [
        {
          "output_type": "stream",
          "text": [
            "2018-01-01 12:00:00+09:00\n"
          ],
          "name": "stdout"
        }
      ]
    },
    {
      "cell_type": "code",
      "metadata": {
        "id": "lAWw5iRE0sUL",
        "colab_type": "code",
        "colab": {
          "base_uri": "https://localhost:8080/",
          "height": 34
        },
        "outputId": "7bf02868-3390-416c-ec75-347f19391bdb"
      },
      "source": [
        "print(ts_utc.value)"
      ],
      "execution_count": 342,
      "outputs": [
        {
          "output_type": "stream",
          "text": [
            "1514775600000000000\n"
          ],
          "name": "stdout"
        }
      ]
    },
    {
      "cell_type": "code",
      "metadata": {
        "id": "_34hNyA_0vXz",
        "colab_type": "code",
        "colab": {
          "base_uri": "https://localhost:8080/",
          "height": 34
        },
        "outputId": "bf91e05a-e366-4408-ed06-d244e7e426d8"
      },
      "source": [
        "print(ts_jst.value)"
      ],
      "execution_count": 344,
      "outputs": [
        {
          "output_type": "stream",
          "text": [
            "1514775600000000000\n"
          ],
          "name": "stdout"
        }
      ]
    },
    {
      "cell_type": "code",
      "metadata": {
        "id": "yDCP2mCu0wnt",
        "colab_type": "code",
        "colab": {}
      },
      "source": [
        "ts_pst = ts_utc.tz_convert('US/Pacific')"
      ],
      "execution_count": 345,
      "outputs": []
    },
    {
      "cell_type": "code",
      "metadata": {
        "id": "NREDqEeG03s7",
        "colab_type": "code",
        "colab": {
          "base_uri": "https://localhost:8080/",
          "height": 34
        },
        "outputId": "a3573095-aafe-41f0-c5ca-76efafae63f6"
      },
      "source": [
        "print(ts_pst)"
      ],
      "execution_count": 346,
      "outputs": [
        {
          "output_type": "stream",
          "text": [
            "2017-12-31 19:00:00-08:00\n"
          ],
          "name": "stdout"
        }
      ]
    },
    {
      "cell_type": "code",
      "metadata": {
        "id": "TR1OPabN04iE",
        "colab_type": "code",
        "colab": {
          "base_uri": "https://localhost:8080/",
          "height": 34
        },
        "outputId": "883cab23-0cd6-4438-f699-b75a0750aa5a"
      },
      "source": [
        "ts_jst_localize = ts_naive.tz_localize('Asia/Tokyo')\n",
        "print(ts_jst_localize)"
      ],
      "execution_count": 347,
      "outputs": [
        {
          "output_type": "stream",
          "text": [
            "2018-01-01 12:00:00+09:00\n"
          ],
          "name": "stdout"
        }
      ]
    },
    {
      "cell_type": "code",
      "metadata": {
        "id": "n4qSB8Za1uGy",
        "colab_type": "code",
        "colab": {
          "base_uri": "https://localhost:8080/",
          "height": 34
        },
        "outputId": "7e02d63b-0eca-4620-9105-3940dbf0a942"
      },
      "source": [
        "print(ts_jst_localize.tz)"
      ],
      "execution_count": 348,
      "outputs": [
        {
          "output_type": "stream",
          "text": [
            "Asia/Tokyo\n"
          ],
          "name": "stdout"
        }
      ]
    },
    {
      "cell_type": "code",
      "metadata": {
        "id": "Z6t-ZgP61vb9",
        "colab_type": "code",
        "colab": {
          "base_uri": "https://localhost:8080/",
          "height": 51
        },
        "outputId": "2c6e36bf-ef7d-416e-c3d1-cf67f7daf1c5"
      },
      "source": [
        "print(ts_jst)\n",
        "print(ts_jst.tz)"
      ],
      "execution_count": 349,
      "outputs": [
        {
          "output_type": "stream",
          "text": [
            "2018-01-01 12:00:00+09:00\n",
            "Asia/Tokyo\n"
          ],
          "name": "stdout"
        }
      ]
    },
    {
      "cell_type": "code",
      "metadata": {
        "id": "CupuHKpw1zBm",
        "colab_type": "code",
        "colab": {
          "base_uri": "https://localhost:8080/",
          "height": 34
        },
        "outputId": "1e13ef88-1cc5-4d61-8a5d-d3723daef987"
      },
      "source": [
        "print(ts_jst.tz_convert(None))"
      ],
      "execution_count": 352,
      "outputs": [
        {
          "output_type": "stream",
          "text": [
            "2018-01-01 03:00:00\n"
          ],
          "name": "stdout"
        }
      ]
    },
    {
      "cell_type": "code",
      "metadata": {
        "id": "C1orGbg_12Fz",
        "colab_type": "code",
        "colab": {
          "base_uri": "https://localhost:8080/",
          "height": 34
        },
        "outputId": "a1a7ea47-b7c2-42b5-a50e-73cfd02b0747"
      },
      "source": [
        "print(ts_jst.tz_localize(None))"
      ],
      "execution_count": 354,
      "outputs": [
        {
          "output_type": "stream",
          "text": [
            "2018-01-01 12:00:00\n"
          ],
          "name": "stdout"
        }
      ]
    },
    {
      "cell_type": "code",
      "metadata": {
        "id": "XSc-DJcX164P",
        "colab_type": "code",
        "colab": {
          "base_uri": "https://localhost:8080/",
          "height": 102
        },
        "outputId": "4a77d497-1021-4ed9-f133-4d6b229e8881"
      },
      "source": [
        "df = pd.DataFrame({'date': ['2018-01-01T12:00',\n",
        "                            '2018-01-02T00:00',\n",
        "                            '2018-01-03T10:00',\n",
        "                            '2018-01-03T19:00'],\n",
        "                   'value': ['A', 'B', 'C', 'D']})\n",
        "\n",
        "print(df)"
      ],
      "execution_count": 355,
      "outputs": [
        {
          "output_type": "stream",
          "text": [
            "               date value\n",
            "0  2018-01-01T12:00     A\n",
            "1  2018-01-02T00:00     B\n",
            "2  2018-01-03T10:00     C\n",
            "3  2018-01-03T19:00     D\n"
          ],
          "name": "stdout"
        }
      ]
    },
    {
      "cell_type": "code",
      "metadata": {
        "id": "AcYi_djB1-Xr",
        "colab_type": "code",
        "colab": {
          "base_uri": "https://localhost:8080/",
          "height": 102
        },
        "outputId": "9478a597-cb6e-4c41-cb80-15eb3b36c625"
      },
      "source": [
        "s_naive = pd.to_datetime(df['date'])\n",
        "print(s_naive)"
      ],
      "execution_count": 356,
      "outputs": [
        {
          "output_type": "stream",
          "text": [
            "0   2018-01-01 12:00:00\n",
            "1   2018-01-02 00:00:00\n",
            "2   2018-01-03 10:00:00\n",
            "3   2018-01-03 19:00:00\n",
            "Name: date, dtype: datetime64[ns]\n"
          ],
          "name": "stdout"
        }
      ]
    },
    {
      "cell_type": "code",
      "metadata": {
        "id": "wqLAKIu02A6D",
        "colab_type": "code",
        "colab": {
          "base_uri": "https://localhost:8080/",
          "height": 102
        },
        "outputId": "48aca1df-5b04-494d-af56-f882b81d4935"
      },
      "source": [
        "s_utc = pd.to_datetime(df['date'], utc=True)\n",
        "print(s_utc)"
      ],
      "execution_count": 357,
      "outputs": [
        {
          "output_type": "stream",
          "text": [
            "0   2018-01-01 12:00:00+00:00\n",
            "1   2018-01-02 00:00:00+00:00\n",
            "2   2018-01-03 10:00:00+00:00\n",
            "3   2018-01-03 19:00:00+00:00\n",
            "Name: date, dtype: datetime64[ns, UTC]\n"
          ],
          "name": "stdout"
        }
      ]
    },
    {
      "cell_type": "code",
      "metadata": {
        "id": "jdViBpMz2Dai",
        "colab_type": "code",
        "colab": {
          "base_uri": "https://localhost:8080/",
          "height": 102
        },
        "outputId": "e4bf894f-c6ce-4163-e6b7-046618dbfddd"
      },
      "source": [
        "print(s_naive.dt.tz_localize('Asia/Tokyo'))"
      ],
      "execution_count": 358,
      "outputs": [
        {
          "output_type": "stream",
          "text": [
            "0   2018-01-01 12:00:00+09:00\n",
            "1   2018-01-02 00:00:00+09:00\n",
            "2   2018-01-03 10:00:00+09:00\n",
            "3   2018-01-03 19:00:00+09:00\n",
            "Name: date, dtype: datetime64[ns, Asia/Tokyo]\n"
          ],
          "name": "stdout"
        }
      ]
    },
    {
      "cell_type": "code",
      "metadata": {
        "id": "u4tGNfP-2GXC",
        "colab_type": "code",
        "colab": {
          "base_uri": "https://localhost:8080/",
          "height": 119
        },
        "outputId": "b911ce76-8198-4bc4-839b-746d534b64e2"
      },
      "source": [
        "df['date'] = pd.to_datetime(df['date'])\n",
        "df_ts = df.set_index('date')\n",
        "print(df_ts)"
      ],
      "execution_count": 359,
      "outputs": [
        {
          "output_type": "stream",
          "text": [
            "                    value\n",
            "date                     \n",
            "2018-01-01 12:00:00     A\n",
            "2018-01-02 00:00:00     B\n",
            "2018-01-03 10:00:00     C\n",
            "2018-01-03 19:00:00     D\n"
          ],
          "name": "stdout"
        }
      ]
    },
    {
      "cell_type": "code",
      "metadata": {
        "id": "gHzO8hdM2LEr",
        "colab_type": "code",
        "colab": {
          "base_uri": "https://localhost:8080/",
          "height": 68
        },
        "outputId": "2a1ca45a-0825-475b-d3a4-0cb12c8a6895"
      },
      "source": [
        "print(df_ts.index)"
      ],
      "execution_count": 360,
      "outputs": [
        {
          "output_type": "stream",
          "text": [
            "DatetimeIndex(['2018-01-01 12:00:00', '2018-01-02 00:00:00',\n",
            "               '2018-01-03 10:00:00', '2018-01-03 19:00:00'],\n",
            "              dtype='datetime64[ns]', name='date', freq=None)\n"
          ],
          "name": "stdout"
        }
      ]
    },
    {
      "cell_type": "code",
      "metadata": {
        "id": "-kNvbb5g2MDK",
        "colab_type": "code",
        "colab": {
          "base_uri": "https://localhost:8080/",
          "height": 85
        },
        "outputId": "523f18c6-ee0d-4e56-c7bb-262dd111c9a2"
      },
      "source": [
        "print(df_ts['2018-01-03'])"
      ],
      "execution_count": 361,
      "outputs": [
        {
          "output_type": "stream",
          "text": [
            "                    value\n",
            "date                     \n",
            "2018-01-03 10:00:00     C\n",
            "2018-01-03 19:00:00     D\n"
          ],
          "name": "stdout"
        }
      ]
    },
    {
      "cell_type": "code",
      "metadata": {
        "id": "z0gq1qnL2MxD",
        "colab_type": "code",
        "colab": {
          "base_uri": "https://localhost:8080/",
          "height": 68
        },
        "outputId": "528e614d-77e0-4a04-d325-bbc224afd210"
      },
      "source": [
        "print(df_ts.index.tz_localize('Asia/Tokyo'))\n"
      ],
      "execution_count": 362,
      "outputs": [
        {
          "output_type": "stream",
          "text": [
            "DatetimeIndex(['2018-01-01 12:00:00+09:00', '2018-01-02 00:00:00+09:00',\n",
            "               '2018-01-03 10:00:00+09:00', '2018-01-03 19:00:00+09:00'],\n",
            "              dtype='datetime64[ns, Asia/Tokyo]', name='date', freq=None)\n"
          ],
          "name": "stdout"
        }
      ]
    },
    {
      "cell_type": "code",
      "metadata": {
        "id": "2IrWyM212OTL",
        "colab_type": "code",
        "colab": {
          "base_uri": "https://localhost:8080/",
          "height": 102
        },
        "outputId": "317492f9-191f-40b8-b643-8db217f26bd5"
      },
      "source": [
        "df = pd.DataFrame({'date': ['2018-01-01T12:00+09:00',\n",
        "                            '2018-01-02T00:00+09:00',\n",
        "                            '2018-01-03T10:00-05:00',\n",
        "                            '2018-01-03T19:00-08:00'],\n",
        "                   'value': ['A', 'B', 'C', 'D']})\n",
        "\n",
        "print(df)"
      ],
      "execution_count": 363,
      "outputs": [
        {
          "output_type": "stream",
          "text": [
            "                     date value\n",
            "0  2018-01-01T12:00+09:00     A\n",
            "1  2018-01-02T00:00+09:00     B\n",
            "2  2018-01-03T10:00-05:00     C\n",
            "3  2018-01-03T19:00-08:00     D\n"
          ],
          "name": "stdout"
        }
      ]
    },
    {
      "cell_type": "code",
      "metadata": {
        "id": "KsnDbYUP3HK8",
        "colab_type": "code",
        "colab": {
          "base_uri": "https://localhost:8080/",
          "height": 102
        },
        "outputId": "1cc058b0-1e4a-434d-bd9b-5e4fe048ce3c"
      },
      "source": [
        "print(pd.to_datetime(df['date']))"
      ],
      "execution_count": 364,
      "outputs": [
        {
          "output_type": "stream",
          "text": [
            "0    2018-01-01 12:00:00+09:00\n",
            "1    2018-01-02 00:00:00+09:00\n",
            "2    2018-01-03 10:00:00-05:00\n",
            "3    2018-01-03 19:00:00-08:00\n",
            "Name: date, dtype: object\n"
          ],
          "name": "stdout"
        }
      ]
    },
    {
      "cell_type": "code",
      "metadata": {
        "id": "ft-YWg8N3SRL",
        "colab_type": "code",
        "colab": {
          "base_uri": "https://localhost:8080/",
          "height": 34
        },
        "outputId": "13f935d9-43cc-4934-8612-55593a9a7020"
      },
      "source": [
        "print(pd.to_datetime(df['date'])[0].tzinfo)"
      ],
      "execution_count": 367,
      "outputs": [
        {
          "output_type": "stream",
          "text": [
            "tzoffset(None, 32400)\n"
          ],
          "name": "stdout"
        }
      ]
    },
    {
      "cell_type": "code",
      "metadata": {
        "id": "WDhx8zVI3Wri",
        "colab_type": "code",
        "colab": {
          "base_uri": "https://localhost:8080/",
          "height": 119
        },
        "outputId": "a99e4c44-5517-4516-ed5e-97258f2a33c9"
      },
      "source": [
        "df['date'] = pd.to_datetime(df['date'])\n",
        "df_dt = df.set_index('date')\n",
        "print(df_dt)"
      ],
      "execution_count": 368,
      "outputs": [
        {
          "output_type": "stream",
          "text": [
            "                          value\n",
            "date                           \n",
            "2018-01-01 12:00:00+09:00     A\n",
            "2018-01-02 00:00:00+09:00     B\n",
            "2018-01-03 10:00:00-05:00     C\n",
            "2018-01-03 19:00:00-08:00     D\n"
          ],
          "name": "stdout"
        }
      ]
    },
    {
      "cell_type": "code",
      "metadata": {
        "id": "X6rqjhfn3go8",
        "colab_type": "code",
        "colab": {}
      },
      "source": [
        ""
      ],
      "execution_count": null,
      "outputs": []
    }
  ]
}