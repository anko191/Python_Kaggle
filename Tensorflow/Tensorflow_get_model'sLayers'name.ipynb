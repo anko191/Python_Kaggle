{
  "nbformat": 4,
  "nbformat_minor": 0,
  "metadata": {
    "colab": {
      "name": "Tensorflow_get_model'sLayers'name",
      "provenance": [],
      "authorship_tag": "ABX9TyPq7u9QZdbog7KwqIG+9pW2",
      "include_colab_link": true
    },
    "kernelspec": {
      "name": "python3",
      "display_name": "Python 3"
    }
  },
  "cells": [
    {
      "cell_type": "markdown",
      "metadata": {
        "id": "view-in-github",
        "colab_type": "text"
      },
      "source": [
        "<a href=\"https://colab.research.google.com/github/anko191/Python_Kaggle/blob/master/Tensorflow/Tensorflow_get_model'sLayers'name.ipynb\" target=\"_parent\"><img src=\"https://colab.research.google.com/assets/colab-badge.svg\" alt=\"Open In Colab\"/></a>"
      ]
    },
    {
      "cell_type": "code",
      "metadata": {
        "id": "CC-sbfaOeYYQ",
        "colab_type": "code",
        "colab": {
          "base_uri": "https://localhost:8080/",
          "height": 34
        },
        "outputId": "795c3303-c1cb-4327-a8e4-3f96de777536"
      },
      "source": [
        "import tensorflow as tf\n",
        "import pprint\n",
        "print(tf.__version__)"
      ],
      "execution_count": 1,
      "outputs": [
        {
          "output_type": "stream",
          "text": [
            "2.3.0\n"
          ],
          "name": "stdout"
        }
      ]
    },
    {
      "cell_type": "code",
      "metadata": {
        "id": "l5_WAk2VelB8",
        "colab_type": "code",
        "colab": {
          "base_uri": "https://localhost:8080/",
          "height": 935
        },
        "outputId": "fca4356f-ed51-40c5-afe3-b6653c39fd33"
      },
      "source": [
        "model = tf.keras.applications.VGG16(weights=None)\n",
        "model.summary()"
      ],
      "execution_count": 2,
      "outputs": [
        {
          "output_type": "stream",
          "text": [
            "Model: \"vgg16\"\n",
            "_________________________________________________________________\n",
            "Layer (type)                 Output Shape              Param #   \n",
            "=================================================================\n",
            "input_1 (InputLayer)         [(None, 224, 224, 3)]     0         \n",
            "_________________________________________________________________\n",
            "block1_conv1 (Conv2D)        (None, 224, 224, 64)      1792      \n",
            "_________________________________________________________________\n",
            "block1_conv2 (Conv2D)        (None, 224, 224, 64)      36928     \n",
            "_________________________________________________________________\n",
            "block1_pool (MaxPooling2D)   (None, 112, 112, 64)      0         \n",
            "_________________________________________________________________\n",
            "block2_conv1 (Conv2D)        (None, 112, 112, 128)     73856     \n",
            "_________________________________________________________________\n",
            "block2_conv2 (Conv2D)        (None, 112, 112, 128)     147584    \n",
            "_________________________________________________________________\n",
            "block2_pool (MaxPooling2D)   (None, 56, 56, 128)       0         \n",
            "_________________________________________________________________\n",
            "block3_conv1 (Conv2D)        (None, 56, 56, 256)       295168    \n",
            "_________________________________________________________________\n",
            "block3_conv2 (Conv2D)        (None, 56, 56, 256)       590080    \n",
            "_________________________________________________________________\n",
            "block3_conv3 (Conv2D)        (None, 56, 56, 256)       590080    \n",
            "_________________________________________________________________\n",
            "block3_pool (MaxPooling2D)   (None, 28, 28, 256)       0         \n",
            "_________________________________________________________________\n",
            "block4_conv1 (Conv2D)        (None, 28, 28, 512)       1180160   \n",
            "_________________________________________________________________\n",
            "block4_conv2 (Conv2D)        (None, 28, 28, 512)       2359808   \n",
            "_________________________________________________________________\n",
            "block4_conv3 (Conv2D)        (None, 28, 28, 512)       2359808   \n",
            "_________________________________________________________________\n",
            "block4_pool (MaxPooling2D)   (None, 14, 14, 512)       0         \n",
            "_________________________________________________________________\n",
            "block5_conv1 (Conv2D)        (None, 14, 14, 512)       2359808   \n",
            "_________________________________________________________________\n",
            "block5_conv2 (Conv2D)        (None, 14, 14, 512)       2359808   \n",
            "_________________________________________________________________\n",
            "block5_conv3 (Conv2D)        (None, 14, 14, 512)       2359808   \n",
            "_________________________________________________________________\n",
            "block5_pool (MaxPooling2D)   (None, 7, 7, 512)         0         \n",
            "_________________________________________________________________\n",
            "flatten (Flatten)            (None, 25088)             0         \n",
            "_________________________________________________________________\n",
            "fc1 (Dense)                  (None, 4096)              102764544 \n",
            "_________________________________________________________________\n",
            "fc2 (Dense)                  (None, 4096)              16781312  \n",
            "_________________________________________________________________\n",
            "predictions (Dense)          (None, 1000)              4097000   \n",
            "=================================================================\n",
            "Total params: 138,357,544\n",
            "Trainable params: 138,357,544\n",
            "Non-trainable params: 0\n",
            "_________________________________________________________________\n"
          ],
          "name": "stdout"
        }
      ]
    },
    {
      "cell_type": "code",
      "metadata": {
        "id": "e9qpkxGkeqP0",
        "colab_type": "code",
        "colab": {
          "base_uri": "https://localhost:8080/",
          "height": 102
        },
        "outputId": "ab90793b-8ee6-4bd1-ba53-5a185269680a"
      },
      "source": [
        "names = [l.name for l in model.layers]\n",
        "pprint.pprint(names, compact = True)"
      ],
      "execution_count": 3,
      "outputs": [
        {
          "output_type": "stream",
          "text": [
            "['input_1', 'block1_conv1', 'block1_conv2', 'block1_pool', 'block2_conv1',\n",
            " 'block2_conv2', 'block2_pool', 'block3_conv1', 'block3_conv2', 'block3_conv3',\n",
            " 'block3_pool', 'block4_conv1', 'block4_conv2', 'block4_conv3', 'block4_pool',\n",
            " 'block5_conv1', 'block5_conv2', 'block5_conv3', 'block5_pool', 'flatten',\n",
            " 'fc1', 'fc2', 'predictions']\n"
          ],
          "name": "stdout"
        }
      ]
    },
    {
      "cell_type": "code",
      "metadata": {
        "id": "jv92xI3-fDTV",
        "colab_type": "code",
        "colab": {
          "base_uri": "https://localhost:8080/",
          "height": 408
        },
        "outputId": "0e6aa5a8-5fa1-4896-b57d-0ed2f65c69b3"
      },
      "source": [
        "pprint.pprint(model.layers)"
      ],
      "execution_count": 4,
      "outputs": [
        {
          "output_type": "stream",
          "text": [
            "[<tensorflow.python.keras.engine.input_layer.InputLayer object at 0x7ff5a9813208>,\n",
            " <tensorflow.python.keras.layers.convolutional.Conv2D object at 0x7ff5dfd581d0>,\n",
            " <tensorflow.python.keras.layers.convolutional.Conv2D object at 0x7ff5a97bb9b0>,\n",
            " <tensorflow.python.keras.layers.pooling.MaxPooling2D object at 0x7ff5a97bbfd0>,\n",
            " <tensorflow.python.keras.layers.convolutional.Conv2D object at 0x7ff5a97e1a20>,\n",
            " <tensorflow.python.keras.layers.convolutional.Conv2D object at 0x7ff5a32b0550>,\n",
            " <tensorflow.python.keras.layers.pooling.MaxPooling2D object at 0x7ff5a32b0940>,\n",
            " <tensorflow.python.keras.layers.convolutional.Conv2D object at 0x7ff5a32ba4e0>,\n",
            " <tensorflow.python.keras.layers.convolutional.Conv2D object at 0x7ff5a32c1358>,\n",
            " <tensorflow.python.keras.layers.convolutional.Conv2D object at 0x7ff5a32c1780>,\n",
            " <tensorflow.python.keras.layers.pooling.MaxPooling2D object at 0x7ff5a32ca390>,\n",
            " <tensorflow.python.keras.layers.convolutional.Conv2D object at 0x7ff5a32cab38>,\n",
            " <tensorflow.python.keras.layers.convolutional.Conv2D object at 0x7ff5a32d49b0>,\n",
            " <tensorflow.python.keras.layers.convolutional.Conv2D object at 0x7ff5a32d4a90>,\n",
            " <tensorflow.python.keras.layers.pooling.MaxPooling2D object at 0x7ff5a32dc9b0>,\n",
            " <tensorflow.python.keras.layers.convolutional.Conv2D object at 0x7ff5a32e21d0>,\n",
            " <tensorflow.python.keras.layers.convolutional.Conv2D object at 0x7ff5a32e2ef0>,\n",
            " <tensorflow.python.keras.layers.convolutional.Conv2D object at 0x7ff5a32ec470>,\n",
            " <tensorflow.python.keras.layers.pooling.MaxPooling2D object at 0x7ff5a32eccc0>,\n",
            " <tensorflow.python.keras.layers.core.Flatten object at 0x7ff5a3278b70>,\n",
            " <tensorflow.python.keras.layers.core.Dense object at 0x7ff5a327f390>,\n",
            " <tensorflow.python.keras.layers.core.Dense object at 0x7ff5a327f668>,\n",
            " <tensorflow.python.keras.layers.core.Dense object at 0x7ff5a327fbe0>]\n"
          ],
          "name": "stdout"
        }
      ]
    },
    {
      "cell_type": "code",
      "metadata": {
        "id": "6jjyi5cGfUcc",
        "colab_type": "code",
        "colab": {
          "base_uri": "https://localhost:8080/",
          "height": 35
        },
        "outputId": "e8694c26-98a3-465b-bc25-b80a4afbf606"
      },
      "source": [
        "model.layers[0].name"
      ],
      "execution_count": 5,
      "outputs": [
        {
          "output_type": "execute_result",
          "data": {
            "application/vnd.google.colaboratory.intrinsic+json": {
              "type": "string"
            },
            "text/plain": [
              "'input_1'"
            ]
          },
          "metadata": {
            "tags": []
          },
          "execution_count": 5
        }
      ]
    },
    {
      "cell_type": "code",
      "metadata": {
        "id": "iTKka06ffZrE",
        "colab_type": "code",
        "colab": {
          "base_uri": "https://localhost:8080/",
          "height": 34
        },
        "outputId": "a500994e-087f-4138-d1d0-66bd4abddc1a"
      },
      "source": [
        "names_pool = [l.name for l in model.layers if 'pool' in l.name]\n",
        "print(names_pool)"
      ],
      "execution_count": 6,
      "outputs": [
        {
          "output_type": "stream",
          "text": [
            "['block1_pool', 'block2_pool', 'block3_pool', 'block4_pool', 'block5_pool']\n"
          ],
          "name": "stdout"
        }
      ]
    },
    {
      "cell_type": "code",
      "metadata": {
        "id": "eZeEvpU0ff7M",
        "colab_type": "code",
        "colab": {
          "base_uri": "https://localhost:8080/",
          "height": 34
        },
        "outputId": "63094954-3cff-48a2-aae2-20354b65c031"
      },
      "source": [
        "# Dense only exstraction\n",
        "names_dense = [l.name for l in model.layers if isinstance(l, tf.keras.layers.Dense)]\n",
        "print(names_dense)"
      ],
      "execution_count": 7,
      "outputs": [
        {
          "output_type": "stream",
          "text": [
            "['fc1', 'fc2', 'predictions']\n"
          ],
          "name": "stdout"
        }
      ]
    },
    {
      "cell_type": "code",
      "metadata": {
        "id": "fzm2Km-qfx00",
        "colab_type": "code",
        "colab": {
          "base_uri": "https://localhost:8080/",
          "height": 51
        },
        "outputId": "e68b8222-22d7-4d8d-e0ca-76f910471b9c"
      },
      "source": [
        "# multiple is ok\n",
        "names_dense_pool = [l.name for l in model.layers\n",
        "                    if isinstance(l, (tf.keras.layers.Dense, tf.keras.layers.MaxPooling2D))]\n",
        "pprint.pprint(names_dense_pool, compact=True)"
      ],
      "execution_count": 8,
      "outputs": [
        {
          "output_type": "stream",
          "text": [
            "['block1_pool', 'block2_pool', 'block3_pool', 'block4_pool', 'block5_pool',\n",
            " 'fc1', 'fc2', 'predictions']\n"
          ],
          "name": "stdout"
        }
      ]
    },
    {
      "cell_type": "code",
      "metadata": {
        "id": "sURN-vbagBVm",
        "colab_type": "code",
        "colab": {
          "base_uri": "https://localhost:8080/",
          "height": 51
        },
        "outputId": "9662a7a2-5f53-4255-8e85-716900bc4691"
      },
      "source": [
        "names_not_conv = [l.name for l in model.layers\n",
        "                  if not isinstance(l, tf.keras.layers.Conv2D)]\n",
        "pprint.pprint(names_not_conv, compact = True)"
      ],
      "execution_count": 10,
      "outputs": [
        {
          "output_type": "stream",
          "text": [
            "['input_1', 'block1_pool', 'block2_pool', 'block3_pool', 'block4_pool',\n",
            " 'block5_pool', 'flatten', 'fc1', 'fc2', 'predictions']\n"
          ],
          "name": "stdout"
        }
      ]
    },
    {
      "cell_type": "code",
      "metadata": {
        "id": "LpXLIFySgcaG",
        "colab_type": "code",
        "colab": {
          "base_uri": "https://localhost:8080/",
          "height": 34
        },
        "outputId": "fe555a8d-7081-466a-890f-d8a33f3ab5ff"
      },
      "source": [
        "print(model.layers[-1].name)"
      ],
      "execution_count": 11,
      "outputs": [
        {
          "output_type": "stream",
          "text": [
            "predictions\n"
          ],
          "name": "stdout"
        }
      ]
    },
    {
      "cell_type": "code",
      "metadata": {
        "id": "hjsKLpVIgtOc",
        "colab_type": "code",
        "colab": {
          "base_uri": "https://localhost:8080/",
          "height": 34
        },
        "outputId": "c84a0045-552a-4c28-e472-31903a666a3b"
      },
      "source": [
        "names_slice = [l.name for l in model.layers[5:10]]\n",
        "print(names_slice)"
      ],
      "execution_count": 12,
      "outputs": [
        {
          "output_type": "stream",
          "text": [
            "['block2_conv2', 'block2_pool', 'block3_conv1', 'block3_conv2', 'block3_conv3']\n"
          ],
          "name": "stdout"
        }
      ]
    },
    {
      "cell_type": "code",
      "metadata": {
        "id": "IgyRXMgEg5vl",
        "colab_type": "code",
        "colab": {}
      },
      "source": [
        ""
      ],
      "execution_count": null,
      "outputs": []
    }
  ]
}