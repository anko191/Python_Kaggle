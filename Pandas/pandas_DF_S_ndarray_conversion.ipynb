{
  "nbformat": 4,
  "nbformat_minor": 0,
  "metadata": {
    "colab": {
      "name": "pandas_DF_S_ndarray_conversion",
      "provenance": [],
      "collapsed_sections": [],
      "authorship_tag": "ABX9TyOBlYU3ll6P8Xl1du1jVsMe",
      "include_colab_link": true
    },
    "kernelspec": {
      "name": "python3",
      "display_name": "Python 3"
    }
  },
  "cells": [
    {
      "cell_type": "markdown",
      "metadata": {
        "id": "view-in-github",
        "colab_type": "text"
      },
      "source": [
        "<a href=\"https://colab.research.google.com/github/anko191/Python_Kaggle/blob/master/pandas/pandas_DF_S_ndarray_conversion.ipynb\" target=\"_parent\"><img src=\"https://colab.research.google.com/assets/colab-badge.svg\" alt=\"Open In Colab\"/></a>"
      ]
    },
    {
      "cell_type": "markdown",
      "metadata": {
        "id": "tbu-WtAeyAb8",
        "colab_type": "text"
      },
      "source": [
        "DataFrame..."
      ]
    },
    {
      "cell_type": "code",
      "metadata": {
        "id": "sm2ixlnuyK8r",
        "colab_type": "code",
        "colab": {
          "base_uri": "https://localhost:8080/",
          "height": 136
        },
        "outputId": "af886d0e-7949-49ea-ba4b-9d30fcec3007"
      },
      "source": [
        "import numpy as np\n",
        "import pandas as pd\n",
        "df = pd.DataFrame(data = [[1,2,3], [4,5,6]], columns = ['a','b','c'])\n",
        "print(df)\n",
        "a_df = df.values\n",
        "print(a_df)\n",
        "print(type(a_df))\n",
        "print(a_df.dtype)"
      ],
      "execution_count": 84,
      "outputs": [
        {
          "output_type": "stream",
          "text": [
            "   a  b  c\n",
            "0  1  2  3\n",
            "1  4  5  6\n",
            "[[1 2 3]\n",
            " [4 5 6]]\n",
            "<class 'numpy.ndarray'>\n",
            "int64\n"
          ],
          "name": "stdout"
        }
      ]
    },
    {
      "cell_type": "code",
      "metadata": {
        "id": "xZAOGHqtyY9_",
        "colab_type": "code",
        "colab": {
          "base_uri": "https://localhost:8080/",
          "height": 68
        },
        "outputId": "b1d962a1-64fa-4e35-de97-14a70874aa4a"
      },
      "source": [
        "s = df['a']\n",
        "print(s)"
      ],
      "execution_count": 85,
      "outputs": [
        {
          "output_type": "stream",
          "text": [
            "0    1\n",
            "1    4\n",
            "Name: a, dtype: int64\n"
          ],
          "name": "stdout"
        }
      ]
    },
    {
      "cell_type": "code",
      "metadata": {
        "id": "iVxrjGClyfSG",
        "colab_type": "code",
        "colab": {
          "base_uri": "https://localhost:8080/",
          "height": 68
        },
        "outputId": "b746d71e-dcd9-4bec-ed6e-05bdda846fdc"
      },
      "source": [
        "a_s = s.values\n",
        "print(a_s)\n",
        "print(type(a_s))\n",
        "print(a_s.dtype)"
      ],
      "execution_count": 86,
      "outputs": [
        {
          "output_type": "stream",
          "text": [
            "[1 4]\n",
            "<class 'numpy.ndarray'>\n",
            "int64\n"
          ],
          "name": "stdout"
        }
      ]
    },
    {
      "cell_type": "code",
      "metadata": {
        "id": "gAowo6smyjqO",
        "colab_type": "code",
        "colab": {
          "base_uri": "https://localhost:8080/",
          "height": 136
        },
        "outputId": "00b04933-bd8f-4e9a-b312-6afb2dd6fb77"
      },
      "source": [
        "df_f = pd.DataFrame([[0.1, 0.2, 0.3], [0.4, 0.5, 0.6]])\n",
        "print(df_f)\n",
        "a_df_f = df_f.values\n",
        "print(a_df_f)\n",
        "print(type(a_df_f))\n",
        "print(a_df_f.dtype)"
      ],
      "execution_count": 87,
      "outputs": [
        {
          "output_type": "stream",
          "text": [
            "     0    1    2\n",
            "0  0.1  0.2  0.3\n",
            "1  0.4  0.5  0.6\n",
            "[[0.1 0.2 0.3]\n",
            " [0.4 0.5 0.6]]\n",
            "<class 'numpy.ndarray'>\n",
            "float64\n"
          ],
          "name": "stdout"
        }
      ]
    },
    {
      "cell_type": "code",
      "metadata": {
        "id": "MBTs3R19yuEO",
        "colab_type": "code",
        "colab": {
          "base_uri": "https://localhost:8080/",
          "height": 272
        },
        "outputId": "b252e1c0-90ae-4451-e5d9-86f560b11b73"
      },
      "source": [
        "df_multi = pd.read_csv('./sample_pandas_normal.csv')\n",
        "print(df_multi)\n",
        "a_df_multi = df_multi.values\n",
        "print(a_df_multi)\n",
        "print(type(a_df_multi))\n",
        "print(a_df_multi.dtype)"
      ],
      "execution_count": 88,
      "outputs": [
        {
          "output_type": "stream",
          "text": [
            "      name  age state  point\n",
            "0    Alice   24    NY     64\n",
            "1      Bob   42    CA     92\n",
            "2  Charlie   18    CA     70\n",
            "3     Dave   68    TX     70\n",
            "4    Ellen   24    CA     88\n",
            "5    Frank   30    NY     57\n",
            "[['Alice' 24 'NY' 64]\n",
            " ['Bob' 42 'CA' 92]\n",
            " ['Charlie' 18 'CA' 70]\n",
            " ['Dave' 68 'TX' 70]\n",
            " ['Ellen' 24 'CA' 88]\n",
            " ['Frank' 30 'NY' 57]]\n",
            "<class 'numpy.ndarray'>\n",
            "object\n"
          ],
          "name": "stdout"
        }
      ]
    },
    {
      "cell_type": "code",
      "metadata": {
        "id": "xWTPaX-Uy8oe",
        "colab_type": "code",
        "colab": {
          "base_uri": "https://localhost:8080/",
          "height": 119
        },
        "outputId": "f0c27f51-9cfc-4487-b78b-617e7aed5bd8"
      },
      "source": [
        "a_df_int = df_multi[['age', 'point']].values\n",
        "print(a_df_int)"
      ],
      "execution_count": 89,
      "outputs": [
        {
          "output_type": "stream",
          "text": [
            "[[24 64]\n",
            " [42 92]\n",
            " [18 70]\n",
            " [68 70]\n",
            " [24 88]\n",
            " [30 57]]\n"
          ],
          "name": "stdout"
        }
      ]
    },
    {
      "cell_type": "code",
      "metadata": {
        "id": "59atvTy_zIpu",
        "colab_type": "code",
        "colab": {
          "base_uri": "https://localhost:8080/",
          "height": 51
        },
        "outputId": "b449ce9b-c67f-4d21-f0d4-10b0d88e288a"
      },
      "source": [
        "print(a_df_int.T)"
      ],
      "execution_count": 90,
      "outputs": [
        {
          "output_type": "stream",
          "text": [
            "[[24 42 18 68 24 30]\n",
            " [64 92 70 70 88 57]]\n"
          ],
          "name": "stdout"
        }
      ]
    },
    {
      "cell_type": "code",
      "metadata": {
        "id": "msj1RSiczKQ-",
        "colab_type": "code",
        "colab": {
          "base_uri": "https://localhost:8080/",
          "height": 119
        },
        "outputId": "cae22e94-efb6-44cf-d6b0-e65354e7b026"
      },
      "source": [
        "a_df_int = df_multi.select_dtypes(include=int).values\n",
        "print(a_df_int)"
      ],
      "execution_count": 91,
      "outputs": [
        {
          "output_type": "stream",
          "text": [
            "[[24 64]\n",
            " [42 92]\n",
            " [18 70]\n",
            " [68 70]\n",
            " [24 88]\n",
            " [30 57]]\n"
          ],
          "name": "stdout"
        }
      ]
    },
    {
      "cell_type": "code",
      "metadata": {
        "id": "theSMbdczSdn",
        "colab_type": "code",
        "colab": {
          "base_uri": "https://localhost:8080/",
          "height": 119
        },
        "outputId": "3269f117-28c8-4e4c-b743-1eb285753ded"
      },
      "source": [
        "import numpy as np\n",
        "import pandas as pd\n",
        "a = np.arange(4)\n",
        "print(a)\n",
        "s = pd.Series(a)\n",
        "print(s)"
      ],
      "execution_count": 92,
      "outputs": [
        {
          "output_type": "stream",
          "text": [
            "[0 1 2 3]\n",
            "0    0\n",
            "1    1\n",
            "2    2\n",
            "3    3\n",
            "dtype: int64\n"
          ],
          "name": "stdout"
        }
      ]
    },
    {
      "cell_type": "code",
      "metadata": {
        "id": "sh2SC6N7zd2m",
        "colab_type": "code",
        "colab": {
          "base_uri": "https://localhost:8080/",
          "height": 102
        },
        "outputId": "f782b22b-7c52-42f0-8366-b1c07c87c595"
      },
      "source": [
        "index = ['A', 'B', 'C', 'D']\n",
        "name = 'sample'\n",
        "s = pd.Series(data = a, index = index, name = name, dtype = 'float')\n",
        "print(s)"
      ],
      "execution_count": 93,
      "outputs": [
        {
          "output_type": "stream",
          "text": [
            "A    0.0\n",
            "B    1.0\n",
            "C    2.0\n",
            "D    3.0\n",
            "Name: sample, dtype: float64\n"
          ],
          "name": "stdout"
        }
      ]
    },
    {
      "cell_type": "code",
      "metadata": {
        "id": "42EDoVKVzmpG",
        "colab_type": "code",
        "colab": {
          "base_uri": "https://localhost:8080/",
          "height": 85
        },
        "outputId": "253812d0-dc0d-483e-fc7d-5bca4fe9308a"
      },
      "source": [
        "a = np.arange(12).reshape((4,3))\n",
        "print(a)"
      ],
      "execution_count": 94,
      "outputs": [
        {
          "output_type": "stream",
          "text": [
            "[[ 0  1  2]\n",
            " [ 3  4  5]\n",
            " [ 6  7  8]\n",
            " [ 9 10 11]]\n"
          ],
          "name": "stdout"
        }
      ]
    },
    {
      "cell_type": "code",
      "metadata": {
        "id": "OqXe8GPGzp7u",
        "colab_type": "code",
        "colab": {
          "base_uri": "https://localhost:8080/",
          "height": 170
        },
        "outputId": "74916485-0b91-4738-a191-632a1528d56a"
      },
      "source": [
        "s = pd.Series(a[2])\n",
        "print(s)\n",
        "s = pd.Series(a.T[2])\n",
        "print(s)"
      ],
      "execution_count": 95,
      "outputs": [
        {
          "output_type": "stream",
          "text": [
            "0    6\n",
            "1    7\n",
            "2    8\n",
            "dtype: int64\n",
            "0     2\n",
            "1     5\n",
            "2     8\n",
            "3    11\n",
            "dtype: int64\n"
          ],
          "name": "stdout"
        }
      ]
    },
    {
      "cell_type": "code",
      "metadata": {
        "id": "LPGM1d8nzyQu",
        "colab_type": "code",
        "colab": {
          "base_uri": "https://localhost:8080/",
          "height": 170
        },
        "outputId": "8655ec4c-2d21-4ec2-c196-64f3218f8f8a"
      },
      "source": [
        "a = np.arange(12).reshape((4,3))\n",
        "print(a)\n",
        "df = pd.DataFrame(a)\n",
        "print(df)"
      ],
      "execution_count": 96,
      "outputs": [
        {
          "output_type": "stream",
          "text": [
            "[[ 0  1  2]\n",
            " [ 3  4  5]\n",
            " [ 6  7  8]\n",
            " [ 9 10 11]]\n",
            "   0   1   2\n",
            "0  0   1   2\n",
            "1  3   4   5\n",
            "2  6   7   8\n",
            "3  9  10  11\n"
          ],
          "name": "stdout"
        }
      ]
    },
    {
      "cell_type": "code",
      "metadata": {
        "id": "Mu0f7BB8z3d-",
        "colab_type": "code",
        "colab": {
          "base_uri": "https://localhost:8080/",
          "height": 102
        },
        "outputId": "3dc2996e-98a4-40c1-c97e-e8f633ca9b1e"
      },
      "source": [
        "index = ['A', 'B', 'C', 'D']\n",
        "columns = ['a', 'b', 'c']\n",
        "df = pd.DataFrame(data = a, index = index, columns=columns, dtype = 'float')\n",
        "print(df)"
      ],
      "execution_count": 97,
      "outputs": [
        {
          "output_type": "stream",
          "text": [
            "     a     b     c\n",
            "A  0.0   1.0   2.0\n",
            "B  3.0   4.0   5.0\n",
            "C  6.0   7.0   8.0\n",
            "D  9.0  10.0  11.0\n"
          ],
          "name": "stdout"
        }
      ]
    },
    {
      "cell_type": "code",
      "metadata": {
        "id": "gPvGONQ70A8O",
        "colab_type": "code",
        "colab": {
          "base_uri": "https://localhost:8080/",
          "height": 102
        },
        "outputId": "7e1467ba-b273-4864-a66a-f8690d2774b3"
      },
      "source": [
        "df = pd.DataFrame(data = [[1,2,3], [4,5,6]], columns = ['a','b','c'])\n",
        "print(df)\n",
        "a_values = df.values\n",
        "print(a_values)"
      ],
      "execution_count": 98,
      "outputs": [
        {
          "output_type": "stream",
          "text": [
            "   a  b  c\n",
            "0  1  2  3\n",
            "1  4  5  6\n",
            "[[1 2 3]\n",
            " [4 5 6]]\n"
          ],
          "name": "stdout"
        }
      ]
    },
    {
      "cell_type": "code",
      "metadata": {
        "id": "_4cGlNAf0j86",
        "colab_type": "code",
        "colab": {
          "base_uri": "https://localhost:8080/",
          "height": 68
        },
        "outputId": "525b1b59-6bf0-4b75-abaf-802618b3ec86"
      },
      "source": [
        "print(np.shares_memory(a_values, df))\n",
        "a_values[0,0] = 100\n",
        "print(a_values)"
      ],
      "execution_count": 99,
      "outputs": [
        {
          "output_type": "stream",
          "text": [
            "True\n",
            "[[100   2   3]\n",
            " [  4   5   6]]\n"
          ],
          "name": "stdout"
        }
      ]
    },
    {
      "cell_type": "code",
      "metadata": {
        "id": "BwqmAV2T0_SO",
        "colab_type": "code",
        "colab": {
          "base_uri": "https://localhost:8080/",
          "height": 68
        },
        "outputId": "b9ec6f56-26b7-460f-d1f8-36d980c82487"
      },
      "source": [
        "print(df)"
      ],
      "execution_count": 100,
      "outputs": [
        {
          "output_type": "stream",
          "text": [
            "     a  b  c\n",
            "0  100  2  3\n",
            "1    4  5  6\n"
          ],
          "name": "stdout"
        }
      ]
    },
    {
      "cell_type": "code",
      "metadata": {
        "id": "1OQGKvqH1BJP",
        "colab_type": "code",
        "colab": {
          "base_uri": "https://localhost:8080/",
          "height": 119
        },
        "outputId": "e6266695-d2fe-4a58-8bdb-5fb7f5082560"
      },
      "source": [
        "df_if = pd.DataFrame(data = [[1,0.1], [2,0.2]], columns = ['int', 'float'])\n",
        "print(df)\n",
        "a_values_if = df_if.values\n",
        "print(a_values_if)\n",
        "print(np.shares_memory(a_values_if, df_if))"
      ],
      "execution_count": 102,
      "outputs": [
        {
          "output_type": "stream",
          "text": [
            "     a  b  c\n",
            "0  100  2  3\n",
            "1    4  5  6\n",
            "[[1.  0.1]\n",
            " [2.  0.2]]\n",
            "False\n"
          ],
          "name": "stdout"
        }
      ]
    },
    {
      "cell_type": "code",
      "metadata": {
        "id": "ypUv5AiU1Ozw",
        "colab_type": "code",
        "colab": {
          "base_uri": "https://localhost:8080/",
          "height": 68
        },
        "outputId": "d955e431-dc8a-439b-996c-2fd369acb4c0"
      },
      "source": [
        "print(df)"
      ],
      "execution_count": 103,
      "outputs": [
        {
          "output_type": "stream",
          "text": [
            "     a  b  c\n",
            "0  100  2  3\n",
            "1    4  5  6\n"
          ],
          "name": "stdout"
        }
      ]
    },
    {
      "cell_type": "code",
      "metadata": {
        "id": "7N2QUpan1f0o",
        "colab_type": "code",
        "colab": {
          "base_uri": "https://localhost:8080/",
          "height": 51
        },
        "outputId": "2ee91b5f-e182-46a9-93cb-6af689047685"
      },
      "source": [
        "print(df.iloc[:, ::2].values)"
      ],
      "execution_count": 104,
      "outputs": [
        {
          "output_type": "stream",
          "text": [
            "[[100   3]\n",
            " [  4   6]]\n"
          ],
          "name": "stdout"
        }
      ]
    },
    {
      "cell_type": "code",
      "metadata": {
        "id": "Ph9QG_3I1iC_",
        "colab_type": "code",
        "colab": {
          "base_uri": "https://localhost:8080/",
          "height": 34
        },
        "outputId": "d24af482-9ff6-4686-9ec6-619ab70ab656"
      },
      "source": [
        "print(np.shares_memory(df.iloc[:, ::2].values, df))"
      ],
      "execution_count": 105,
      "outputs": [
        {
          "output_type": "stream",
          "text": [
            "True\n"
          ],
          "name": "stdout"
        }
      ]
    },
    {
      "cell_type": "code",
      "metadata": {
        "id": "qSkfV3bU1lVd",
        "colab_type": "code",
        "colab": {
          "base_uri": "https://localhost:8080/",
          "height": 51
        },
        "outputId": "3a79ae71-2298-49bd-dc33-84f32af5c421"
      },
      "source": [
        "a = np.array([[1,2,3], [4,5,6]])\n",
        "print(a)"
      ],
      "execution_count": 106,
      "outputs": [
        {
          "output_type": "stream",
          "text": [
            "[[1 2 3]\n",
            " [4 5 6]]\n"
          ],
          "name": "stdout"
        }
      ]
    },
    {
      "cell_type": "code",
      "metadata": {
        "id": "6k4krTn61to0",
        "colab_type": "code",
        "colab": {
          "base_uri": "https://localhost:8080/",
          "height": 68
        },
        "outputId": "e4702276-ddb7-4552-e98a-f9c2c5608136"
      },
      "source": [
        "df_a = pd.DataFrame(a, columns = ['a', 'b', 'c'])\n",
        "print(df_a)"
      ],
      "execution_count": 107,
      "outputs": [
        {
          "output_type": "stream",
          "text": [
            "   a  b  c\n",
            "0  1  2  3\n",
            "1  4  5  6\n"
          ],
          "name": "stdout"
        }
      ]
    },
    {
      "cell_type": "code",
      "metadata": {
        "id": "SKD5fnaI1yYn",
        "colab_type": "code",
        "colab": {
          "base_uri": "https://localhost:8080/",
          "height": 51
        },
        "outputId": "e355e70e-1d43-42cf-bbbf-bfa1b0a3c83c"
      },
      "source": [
        "df_a.iat[1,0] = 10\n",
        "print(a)"
      ],
      "execution_count": 108,
      "outputs": [
        {
          "output_type": "stream",
          "text": [
            "[[ 1  2  3]\n",
            " [10  5  6]]\n"
          ],
          "name": "stdout"
        }
      ]
    },
    {
      "cell_type": "code",
      "metadata": {
        "id": "V9_TUrT512_m",
        "colab_type": "code",
        "colab": {
          "base_uri": "https://localhost:8080/",
          "height": 68
        },
        "outputId": "0d3735a3-142d-49eb-d8cb-06a93c684290"
      },
      "source": [
        "df = pd.DataFrame(data = [[1,2,3], [4,5,6]], columns = ['a', 'b', 'c'])\n",
        "print(df)"
      ],
      "execution_count": 109,
      "outputs": [
        {
          "output_type": "stream",
          "text": [
            "   a  b  c\n",
            "0  1  2  3\n",
            "1  4  5  6\n"
          ],
          "name": "stdout"
        }
      ]
    },
    {
      "cell_type": "code",
      "metadata": {
        "id": "mdcksWdV2K6m",
        "colab_type": "code",
        "colab": {
          "base_uri": "https://localhost:8080/",
          "height": 51
        },
        "outputId": "fa257335-dd8c-481f-891c-e9d2a125a9e7"
      },
      "source": [
        "a = df.to_numpy()\n",
        "print(a)"
      ],
      "execution_count": 112,
      "outputs": [
        {
          "output_type": "stream",
          "text": [
            "[[1 2 3]\n",
            " [4 5 6]]\n"
          ],
          "name": "stdout"
        }
      ]
    },
    {
      "cell_type": "code",
      "metadata": {
        "id": "2YmcE_1F2Mf9",
        "colab_type": "code",
        "colab": {
          "base_uri": "https://localhost:8080/",
          "height": 34
        },
        "outputId": "7584888e-731c-46b2-bcca-17413620d5d3"
      },
      "source": [
        "print(type(a))"
      ],
      "execution_count": 113,
      "outputs": [
        {
          "output_type": "stream",
          "text": [
            "<class 'numpy.ndarray'>\n"
          ],
          "name": "stdout"
        }
      ]
    },
    {
      "cell_type": "code",
      "metadata": {
        "id": "q5VlC1JD2Nbd",
        "colab_type": "code",
        "colab": {}
      },
      "source": [
        "a_copy = df.to_numpy(copy=True)\n"
      ],
      "execution_count": 114,
      "outputs": []
    },
    {
      "cell_type": "code",
      "metadata": {
        "id": "jhr8Jf_k2U0F",
        "colab_type": "code",
        "colab": {
          "base_uri": "https://localhost:8080/",
          "height": 153
        },
        "outputId": "6a444aa7-6bf2-4090-83db-42f80f793d16"
      },
      "source": [
        "import pandas as pd\n",
        "l_1d = [0,1,2]\n",
        "s = pd.Series(l_1d)\n",
        "print(s)\n",
        "s = pd.Series(l_1d, index = ['row1', 'row2', 'row3'])\n",
        "print(s)"
      ],
      "execution_count": 115,
      "outputs": [
        {
          "output_type": "stream",
          "text": [
            "0    0\n",
            "1    1\n",
            "2    2\n",
            "dtype: int64\n",
            "row1    0\n",
            "row2    1\n",
            "row3    2\n",
            "dtype: int64\n"
          ],
          "name": "stdout"
        }
      ]
    },
    {
      "cell_type": "code",
      "metadata": {
        "id": "hbBF_4nW25El",
        "colab_type": "code",
        "colab": {
          "base_uri": "https://localhost:8080/",
          "height": 119
        },
        "outputId": "4d3670be-79c6-44ed-8aa7-b875522db48c"
      },
      "source": [
        "l_2d = [[0,1,2], [3,4,5]]\n",
        "df = pd.DataFrame(l_2d)\n",
        "print(df)\n",
        "df = pd.DataFrame(l_2d, index = ['row1', 'row2'], columns = ['col1', 'col2', 'col3'])\n",
        "print(df)"
      ],
      "execution_count": 116,
      "outputs": [
        {
          "output_type": "stream",
          "text": [
            "   0  1  2\n",
            "0  0  1  2\n",
            "1  3  4  5\n",
            "      col1  col2  col3\n",
            "row1     0     1     2\n",
            "row2     3     4     5\n"
          ],
          "name": "stdout"
        }
      ]
    },
    {
      "cell_type": "code",
      "metadata": {
        "id": "JqAzOg2q3GKF",
        "colab_type": "code",
        "colab": {
          "base_uri": "https://localhost:8080/",
          "height": 34
        },
        "outputId": "adde1ff1-e13c-4d2e-cb84-9a6299ca7d38"
      },
      "source": [
        "l_1d_index = [['Alice', 0], ['Bob', 1], ['Charlie', 2]]\n",
        "index, value = zip(*l_1d_index)\n",
        "print(index)"
      ],
      "execution_count": 117,
      "outputs": [
        {
          "output_type": "stream",
          "text": [
            "('Alice', 'Bob', 'Charlie')\n"
          ],
          "name": "stdout"
        }
      ]
    },
    {
      "cell_type": "code",
      "metadata": {
        "id": "OmIuc0oC3Q5U",
        "colab_type": "code",
        "colab": {
          "base_uri": "https://localhost:8080/",
          "height": 102
        },
        "outputId": "d003686f-fb8d-4a04-9f66-dda319047d4d"
      },
      "source": [
        "print(value)\n",
        "s_index = pd.Series(value,index=index)\n",
        "print(s_index)"
      ],
      "execution_count": 119,
      "outputs": [
        {
          "output_type": "stream",
          "text": [
            "(0, 1, 2)\n",
            "Alice      0\n",
            "Bob        1\n",
            "Charlie    2\n",
            "dtype: int64\n"
          ],
          "name": "stdout"
        }
      ]
    },
    {
      "cell_type": "code",
      "metadata": {
        "id": "L6ssY1zg3V_M",
        "colab_type": "code",
        "colab": {
          "base_uri": "https://localhost:8080/",
          "height": 85
        },
        "outputId": "e39fe3b9-d420-462a-a8c7-964fbf132997"
      },
      "source": [
        "l_2d_index = [['Alice', 0, 0.0], ['Bob', 1, 0.1], ['Charlie',2,0.2]]\n",
        "df_index = pd.DataFrame(l_2d_index, columns = ['name', 'val1', 'val2'])\n",
        "print(df_index)"
      ],
      "execution_count": 120,
      "outputs": [
        {
          "output_type": "stream",
          "text": [
            "      name  val1  val2\n",
            "0    Alice     0   0.0\n",
            "1      Bob     1   0.1\n",
            "2  Charlie     2   0.2\n"
          ],
          "name": "stdout"
        }
      ]
    },
    {
      "cell_type": "code",
      "metadata": {
        "id": "XjwgiaxR3k34",
        "colab_type": "code",
        "colab": {
          "base_uri": "https://localhost:8080/",
          "height": 102
        },
        "outputId": "14159d09-e009-4bc8-ab10-12bfdb84fe1b"
      },
      "source": [
        "df_index_set = df_index.set_index('name')\n",
        "print(df_index_set)"
      ],
      "execution_count": 121,
      "outputs": [
        {
          "output_type": "stream",
          "text": [
            "         val1  val2\n",
            "name               \n",
            "Alice       0   0.0\n",
            "Bob         1   0.1\n",
            "Charlie     2   0.2\n"
          ],
          "name": "stdout"
        }
      ]
    },
    {
      "cell_type": "code",
      "metadata": {
        "id": "pKttKlNx3q0V",
        "colab_type": "code",
        "colab": {
          "base_uri": "https://localhost:8080/",
          "height": 170
        },
        "outputId": "1aaee276-3f8a-4824-e365-b4e0a0bea106"
      },
      "source": [
        "l_2d_index_columns = [['name', 'val1', 'val2'], ['Alice', 0,0.0], ['Bob', 1, 0.1], ['Charlie', 2, 0.2]]\n",
        "df_index_columns = pd.DataFrame(l_2d_index_columns[1:], columns = l_2d_index_columns[0])\n",
        "print(df_index_columns)\n",
        "df_index_columns_set=df_index_columns.set_index('name')\n",
        "print(df_index_columns_set)"
      ],
      "execution_count": 122,
      "outputs": [
        {
          "output_type": "stream",
          "text": [
            "      name  val1  val2\n",
            "0    Alice     0   0.0\n",
            "1      Bob     1   0.1\n",
            "2  Charlie     2   0.2\n",
            "         val1  val2\n",
            "name               \n",
            "Alice       0   0.0\n",
            "Bob         1   0.1\n",
            "Charlie     2   0.2\n"
          ],
          "name": "stdout"
        }
      ]
    },
    {
      "cell_type": "code",
      "metadata": {
        "id": "gS_qLzfV4MN5",
        "colab_type": "code",
        "colab": {
          "base_uri": "https://localhost:8080/",
          "height": 119
        },
        "outputId": "9b7dfbae-4493-425b-f227-43547fcd0f87"
      },
      "source": [
        "s = pd.Series([0,1,2])\n",
        "print(s)\n",
        "l_1d = s.values.tolist()\n",
        "print(l_1d)\n",
        "df = pd.DataFrame([[0,1,2], [3,4,5]])\n",
        "l_2d = df.values.tolist()\n",
        "print(l_2d)"
      ],
      "execution_count": 123,
      "outputs": [
        {
          "output_type": "stream",
          "text": [
            "0    0\n",
            "1    1\n",
            "2    2\n",
            "dtype: int64\n",
            "[0, 1, 2]\n",
            "[[0, 1, 2], [3, 4, 5]]\n"
          ],
          "name": "stdout"
        }
      ]
    },
    {
      "cell_type": "code",
      "metadata": {
        "id": "g6vG-6ka4YY1",
        "colab_type": "code",
        "colab": {
          "base_uri": "https://localhost:8080/",
          "height": 102
        },
        "outputId": "808d488a-673d-4845-df4c-8914da236305"
      },
      "source": [
        "s_index = pd.Series([0,1,2], index = ['row1', 'row2', 'row3'])\n",
        "print(s_index)\n",
        "l_1d = s_index.values.tolist()\n",
        "print(l_1d)"
      ],
      "execution_count": 124,
      "outputs": [
        {
          "output_type": "stream",
          "text": [
            "row1    0\n",
            "row2    1\n",
            "row3    2\n",
            "dtype: int64\n",
            "[0, 1, 2]\n"
          ],
          "name": "stdout"
        }
      ]
    },
    {
      "cell_type": "code",
      "metadata": {
        "id": "z3yHw3Jq49wk",
        "colab_type": "code",
        "colab": {
          "base_uri": "https://localhost:8080/",
          "height": 34
        },
        "outputId": "f762187e-9a34-4003-85c8-46377a0812f8"
      },
      "source": [
        "print(s_index.reset_index().values.tolist())"
      ],
      "execution_count": 127,
      "outputs": [
        {
          "output_type": "stream",
          "text": [
            "[['row1', 0], ['row2', 1], ['row3', 2]]\n"
          ],
          "name": "stdout"
        }
      ]
    },
    {
      "cell_type": "code",
      "metadata": {
        "id": "QlKoP-695hRl",
        "colab_type": "code",
        "colab": {
          "base_uri": "https://localhost:8080/",
          "height": 34
        },
        "outputId": "144efbe1-b4f8-41f9-93c8-070dc6297a0a"
      },
      "source": [
        "print(df_index.reset_index().T.reset_index().T.values.tolist())"
      ],
      "execution_count": 128,
      "outputs": [
        {
          "output_type": "stream",
          "text": [
            "[['index', 'name', 'val1', 'val2'], [0, 'Alice', 0, 0.0], [1, 'Bob', 1, 0.1], [2, 'Charlie', 2, 0.2]]\n"
          ],
          "name": "stdout"
        }
      ]
    },
    {
      "cell_type": "code",
      "metadata": {
        "id": "Op6blye95n_r",
        "colab_type": "code",
        "colab": {
          "base_uri": "https://localhost:8080/",
          "height": 85
        },
        "outputId": "07d3bb74-1ab7-4bbe-bfca-cd71fbcda38f"
      },
      "source": [
        "print(s_index)"
      ],
      "execution_count": 129,
      "outputs": [
        {
          "output_type": "stream",
          "text": [
            "row1    0\n",
            "row2    1\n",
            "row3    2\n",
            "dtype: int64\n"
          ],
          "name": "stdout"
        }
      ]
    },
    {
      "cell_type": "code",
      "metadata": {
        "id": "PIkntlne6HA9",
        "colab_type": "code",
        "colab": {
          "base_uri": "https://localhost:8080/",
          "height": 34
        },
        "outputId": "bdb0c77e-a82d-49f0-b82f-583098275d9c"
      },
      "source": [
        "print(s_index.index)"
      ],
      "execution_count": 130,
      "outputs": [
        {
          "output_type": "stream",
          "text": [
            "Index(['row1', 'row2', 'row3'], dtype='object')\n"
          ],
          "name": "stdout"
        }
      ]
    },
    {
      "cell_type": "code",
      "metadata": {
        "id": "vfBCYXTs6H47",
        "colab_type": "code",
        "colab": {
          "base_uri": "https://localhost:8080/",
          "height": 34
        },
        "outputId": "77cd2d39-af0a-44cf-8856-ca05f0c43573"
      },
      "source": [
        "print(s_index.index.tolist())"
      ],
      "execution_count": 131,
      "outputs": [
        {
          "output_type": "stream",
          "text": [
            "['row1', 'row2', 'row3']\n"
          ],
          "name": "stdout"
        }
      ]
    },
    {
      "cell_type": "code",
      "metadata": {
        "id": "Itln2lH_6Kwj",
        "colab_type": "code",
        "colab": {
          "base_uri": "https://localhost:8080/",
          "height": 102
        },
        "outputId": "84850d99-31c1-43e2-e0a8-9e5d2ccb508f"
      },
      "source": [
        "print(df_index)\n",
        "print(df_index.index)"
      ],
      "execution_count": 132,
      "outputs": [
        {
          "output_type": "stream",
          "text": [
            "      name  val1  val2\n",
            "0    Alice     0   0.0\n",
            "1      Bob     1   0.1\n",
            "2  Charlie     2   0.2\n",
            "RangeIndex(start=0, stop=3, step=1)\n"
          ],
          "name": "stdout"
        }
      ]
    },
    {
      "cell_type": "code",
      "metadata": {
        "id": "YPi98pAm6NXL",
        "colab_type": "code",
        "colab": {
          "base_uri": "https://localhost:8080/",
          "height": 34
        },
        "outputId": "eed45b44-d6bb-460c-faa0-7d121581d141"
      },
      "source": [
        "print(df_index.columns.tolist())"
      ],
      "execution_count": 133,
      "outputs": [
        {
          "output_type": "stream",
          "text": [
            "['name', 'val1', 'val2']\n"
          ],
          "name": "stdout"
        }
      ]
    },
    {
      "cell_type": "code",
      "metadata": {
        "id": "8t06X1rb6Pv0",
        "colab_type": "code",
        "colab": {
          "base_uri": "https://localhost:8080/",
          "height": 85
        },
        "outputId": "e4bd735a-a72e-4195-c543-ffb7260bb8e7"
      },
      "source": [
        "import pandas as pd\n",
        "import pprint\n",
        "from collections import OrderedDict\n",
        "df = pd.DataFrame({'col1':[1,2,3], 'col2':['a','x','あ']}, index = ['row1','row2','row3'])\n",
        "print(df)"
      ],
      "execution_count": 134,
      "outputs": [
        {
          "output_type": "stream",
          "text": [
            "      col1 col2\n",
            "row1     1    a\n",
            "row2     2    x\n",
            "row3     3    あ\n"
          ],
          "name": "stdout"
        }
      ]
    },
    {
      "cell_type": "code",
      "metadata": {
        "id": "FLTgQ4or6-SF",
        "colab_type": "code",
        "colab": {
          "base_uri": "https://localhost:8080/",
          "height": 68
        },
        "outputId": "4d12f90f-1a29-4bb0-e031-2d091acb0f5c"
      },
      "source": [
        "d = df.to_dict()\n",
        "pprint.pprint(d)\n",
        "print(type(d))"
      ],
      "execution_count": 135,
      "outputs": [
        {
          "output_type": "stream",
          "text": [
            "{'col1': {'row1': 1, 'row2': 2, 'row3': 3},\n",
            " 'col2': {'row1': 'a', 'row2': 'x', 'row3': 'あ'}}\n",
            "<class 'dict'>\n"
          ],
          "name": "stdout"
        }
      ]
    },
    {
      "cell_type": "code",
      "metadata": {
        "id": "LWHRqlBz7Ets",
        "colab_type": "code",
        "colab": {
          "base_uri": "https://localhost:8080/",
          "height": 68
        },
        "outputId": "44344c2a-2383-4255-dd00-0b0fc581be68"
      },
      "source": [
        "d_dict = df.to_dict(orient='dict')\n",
        "pprint.pprint(d_dict)\n",
        "print(d_dict['col1'])"
      ],
      "execution_count": 137,
      "outputs": [
        {
          "output_type": "stream",
          "text": [
            "{'col1': {'row1': 1, 'row2': 2, 'row3': 3},\n",
            " 'col2': {'row1': 'a', 'row2': 'x', 'row3': 'あ'}}\n",
            "{'row1': 1, 'row2': 2, 'row3': 3}\n"
          ],
          "name": "stdout"
        }
      ]
    },
    {
      "cell_type": "code",
      "metadata": {
        "id": "KbojrQvl7QXq",
        "colab_type": "code",
        "colab": {
          "base_uri": "https://localhost:8080/",
          "height": 34
        },
        "outputId": "63878868-5550-4c0e-d86c-9af828350e2b"
      },
      "source": [
        "d_list = df.to_dict(orient='list')\n",
        "pprint.pprint(d_list)\n"
      ],
      "execution_count": 138,
      "outputs": [
        {
          "output_type": "stream",
          "text": [
            "{'col1': [1, 2, 3], 'col2': ['a', 'x', 'あ']}\n"
          ],
          "name": "stdout"
        }
      ]
    },
    {
      "cell_type": "code",
      "metadata": {
        "id": "ts5Ifanc7Z42",
        "colab_type": "code",
        "colab": {
          "base_uri": "https://localhost:8080/",
          "height": 153
        },
        "outputId": "5e624526-3253-4ffc-df63-5a34e254291b"
      },
      "source": [
        "d_series = df.to_dict(orient='series')\n",
        "pprint.pprint(d_series)"
      ],
      "execution_count": 139,
      "outputs": [
        {
          "output_type": "stream",
          "text": [
            "{'col1': row1    1\n",
            "row2    2\n",
            "row3    3\n",
            "Name: col1, dtype: int64,\n",
            " 'col2': row1    a\n",
            "row2    x\n",
            "row3    あ\n",
            "Name: col2, dtype: object}\n"
          ],
          "name": "stdout"
        }
      ]
    },
    {
      "cell_type": "code",
      "metadata": {
        "id": "O70uyZC77j2M",
        "colab_type": "code",
        "colab": {
          "base_uri": "https://localhost:8080/",
          "height": 68
        },
        "outputId": "b515e77f-d5ac-4aa4-db59-09360d0344ce"
      },
      "source": [
        "d_split = df.to_dict(orient='split')\n",
        "pprint.pprint(d_split)"
      ],
      "execution_count": 140,
      "outputs": [
        {
          "output_type": "stream",
          "text": [
            "{'columns': ['col1', 'col2'],\n",
            " 'data': [[1, 'a'], [2, 'x'], [3, 'あ']],\n",
            " 'index': ['row1', 'row2', 'row3']}\n"
          ],
          "name": "stdout"
        }
      ]
    },
    {
      "cell_type": "code",
      "metadata": {
        "id": "28qhOruV7sDE",
        "colab_type": "code",
        "colab": {
          "base_uri": "https://localhost:8080/",
          "height": 51
        },
        "outputId": "20bc713c-31c8-4d15-cedd-d0f71f96a8c3"
      },
      "source": [
        "l_records = df.to_dict(orient='record')\n",
        "pprint.pprint(l_records)\n",
        "print(type(l_records))\n"
      ],
      "execution_count": 141,
      "outputs": [
        {
          "output_type": "stream",
          "text": [
            "[{'col1': 1, 'col2': 'a'}, {'col1': 2, 'col2': 'x'}, {'col1': 3, 'col2': 'あ'}]\n",
            "<class 'list'>\n"
          ],
          "name": "stdout"
        }
      ]
    },
    {
      "cell_type": "code",
      "metadata": {
        "id": "FX7CIBbP76Bc",
        "colab_type": "code",
        "colab": {
          "base_uri": "https://localhost:8080/",
          "height": 68
        },
        "outputId": "3a905add-5b2d-4976-ff39-58f58fcdfc6e"
      },
      "source": [
        "d_index = df.to_dict(orient='index')\n",
        "pprint.pprint(d_index)"
      ],
      "execution_count": 142,
      "outputs": [
        {
          "output_type": "stream",
          "text": [
            "{'row1': {'col1': 1, 'col2': 'a'},\n",
            " 'row2': {'col1': 2, 'col2': 'x'},\n",
            " 'row3': {'col1': 3, 'col2': 'あ'}}\n"
          ],
          "name": "stdout"
        }
      ]
    },
    {
      "cell_type": "code",
      "metadata": {
        "id": "zHdpfkYY8Zk6",
        "colab_type": "code",
        "colab": {
          "base_uri": "https://localhost:8080/",
          "height": 68
        },
        "outputId": "16dd42af-8360-49f0-ad59-ef7fd216d837"
      },
      "source": [
        "od = df.to_dict(into=OrderedDict)\n",
        "pprint.pprint(od)"
      ],
      "execution_count": 143,
      "outputs": [
        {
          "output_type": "stream",
          "text": [
            "OrderedDict([('col1', OrderedDict([('row1', 1), ('row2', 2), ('row3', 3)])),\n",
            "             ('col2',\n",
            "              OrderedDict([('row1', 'a'), ('row2', 'x'), ('row3', 'あ')]))])\n"
          ],
          "name": "stdout"
        }
      ]
    },
    {
      "cell_type": "code",
      "metadata": {
        "id": "oPrtkjWm8j0S",
        "colab_type": "code",
        "colab": {
          "base_uri": "https://localhost:8080/",
          "height": 34
        },
        "outputId": "3b7a352a-2364-4c7b-b943-535cbbad1158"
      },
      "source": [
        "print(df.index)"
      ],
      "execution_count": 144,
      "outputs": [
        {
          "output_type": "stream",
          "text": [
            "Index(['row1', 'row2', 'row3'], dtype='object')\n"
          ],
          "name": "stdout"
        }
      ]
    },
    {
      "cell_type": "code",
      "metadata": {
        "id": "Y0eugE098wrj",
        "colab_type": "code",
        "colab": {
          "base_uri": "https://localhost:8080/",
          "height": 102
        },
        "outputId": "c47dd2d1-e2db-462d-c313-35f003f539a6"
      },
      "source": [
        "print(df['col1'])\n",
        "d_col = dict(zip(df.index, df['col1']))\n",
        "print(d_col)"
      ],
      "execution_count": 145,
      "outputs": [
        {
          "output_type": "stream",
          "text": [
            "row1    1\n",
            "row2    2\n",
            "row3    3\n",
            "Name: col1, dtype: int64\n",
            "{'row1': 1, 'row2': 2, 'row3': 3}\n"
          ],
          "name": "stdout"
        }
      ]
    },
    {
      "cell_type": "code",
      "metadata": {
        "id": "aDbHXw5E80hq",
        "colab_type": "code",
        "colab": {
          "base_uri": "https://localhost:8080/",
          "height": 34
        },
        "outputId": "e7ed3e84-6205-4501-97a9-5d2d49edd728"
      },
      "source": [
        "d_row = dict(zip(df.columns, df.loc['row1']))\n",
        "print(d_row)"
      ],
      "execution_count": 146,
      "outputs": [
        {
          "output_type": "stream",
          "text": [
            "{'col1': 1, 'col2': 'a'}\n"
          ],
          "name": "stdout"
        }
      ]
    },
    {
      "cell_type": "code",
      "metadata": {
        "id": "l0QJ7zKG8_rL",
        "colab_type": "code",
        "colab": {}
      },
      "source": [
        "od = df['col1'].to_dict(OrderedDict)"
      ],
      "execution_count": 147,
      "outputs": []
    },
    {
      "cell_type": "code",
      "metadata": {
        "id": "9RXGhpzK9L-K",
        "colab_type": "code",
        "colab": {}
      },
      "source": [
        ""
      ],
      "execution_count": null,
      "outputs": []
    }
  ]
}