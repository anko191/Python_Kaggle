{
  "nbformat": 4,
  "nbformat_minor": 0,
  "metadata": {
    "colab": {
      "name": "wine_classification.ipynb",
      "provenance": [],
      "authorship_tag": "ABX9TyNUe3z6P70PdJbasSlHBT9t",
      "include_colab_link": true
    },
    "kernelspec": {
      "name": "python3",
      "display_name": "Python 3"
    }
  },
  "cells": [
    {
      "cell_type": "markdown",
      "metadata": {
        "id": "view-in-github",
        "colab_type": "text"
      },
      "source": [
        "<a href=\"https://colab.research.google.com/github/anko191/Python_Kaggle/blob/master/lightgbm_xgboost/wine_classification.ipynb\" target=\"_parent\"><img src=\"https://colab.research.google.com/assets/colab-badge.svg\" alt=\"Open In Colab\"/></a>"
      ]
    },
    {
      "cell_type": "code",
      "metadata": {
        "id": "mH224jQvluoM"
      },
      "source": [
        "import lightgbm as lgb\n",
        "from sklearn.datasets import load_wine\n",
        "from sklearn.model_selection import train_test_split\n",
        "\n",
        "import pandas as pd\n",
        "import numpy as np\n",
        "import matplotlib.pyplot as plt"
      ],
      "execution_count": 1,
      "outputs": []
    },
    {
      "cell_type": "code",
      "metadata": {
        "id": "miwPbTZJmA7u"
      },
      "source": [
        "wine = load_wine()"
      ],
      "execution_count": 2,
      "outputs": []
    },
    {
      "cell_type": "code",
      "metadata": {
        "id": "UGVq5H7TmPCs",
        "outputId": "41bcabd6-1339-4a1b-b9a9-6abfb0cf15b7",
        "colab": {
          "base_uri": "https://localhost:8080/",
          "height": 666
        }
      },
      "source": [
        "wine"
      ],
      "execution_count": 3,
      "outputs": [
        {
          "output_type": "execute_result",
          "data": {
            "text/plain": [
              "{'DESCR': '.. _wine_dataset:\\n\\nWine recognition dataset\\n------------------------\\n\\n**Data Set Characteristics:**\\n\\n    :Number of Instances: 178 (50 in each of three classes)\\n    :Number of Attributes: 13 numeric, predictive attributes and the class\\n    :Attribute Information:\\n \\t\\t- Alcohol\\n \\t\\t- Malic acid\\n \\t\\t- Ash\\n\\t\\t- Alcalinity of ash  \\n \\t\\t- Magnesium\\n\\t\\t- Total phenols\\n \\t\\t- Flavanoids\\n \\t\\t- Nonflavanoid phenols\\n \\t\\t- Proanthocyanins\\n\\t\\t- Color intensity\\n \\t\\t- Hue\\n \\t\\t- OD280/OD315 of diluted wines\\n \\t\\t- Proline\\n\\n    - class:\\n            - class_0\\n            - class_1\\n            - class_2\\n\\t\\t\\n    :Summary Statistics:\\n    \\n    ============================= ==== ===== ======= =====\\n                                   Min   Max   Mean     SD\\n    ============================= ==== ===== ======= =====\\n    Alcohol:                      11.0  14.8    13.0   0.8\\n    Malic Acid:                   0.74  5.80    2.34  1.12\\n    Ash:                          1.36  3.23    2.36  0.27\\n    Alcalinity of Ash:            10.6  30.0    19.5   3.3\\n    Magnesium:                    70.0 162.0    99.7  14.3\\n    Total Phenols:                0.98  3.88    2.29  0.63\\n    Flavanoids:                   0.34  5.08    2.03  1.00\\n    Nonflavanoid Phenols:         0.13  0.66    0.36  0.12\\n    Proanthocyanins:              0.41  3.58    1.59  0.57\\n    Colour Intensity:              1.3  13.0     5.1   2.3\\n    Hue:                          0.48  1.71    0.96  0.23\\n    OD280/OD315 of diluted wines: 1.27  4.00    2.61  0.71\\n    Proline:                       278  1680     746   315\\n    ============================= ==== ===== ======= =====\\n\\n    :Missing Attribute Values: None\\n    :Class Distribution: class_0 (59), class_1 (71), class_2 (48)\\n    :Creator: R.A. Fisher\\n    :Donor: Michael Marshall (MARSHALL%PLU@io.arc.nasa.gov)\\n    :Date: July, 1988\\n\\nThis is a copy of UCI ML Wine recognition datasets.\\nhttps://archive.ics.uci.edu/ml/machine-learning-databases/wine/wine.data\\n\\nThe data is the results of a chemical analysis of wines grown in the same\\nregion in Italy by three different cultivators. There are thirteen different\\nmeasurements taken for different constituents found in the three types of\\nwine.\\n\\nOriginal Owners: \\n\\nForina, M. et al, PARVUS - \\nAn Extendible Package for Data Exploration, Classification and Correlation. \\nInstitute of Pharmaceutical and Food Analysis and Technologies,\\nVia Brigata Salerno, 16147 Genoa, Italy.\\n\\nCitation:\\n\\nLichman, M. (2013). UCI Machine Learning Repository\\n[https://archive.ics.uci.edu/ml]. Irvine, CA: University of California,\\nSchool of Information and Computer Science. \\n\\n.. topic:: References\\n\\n  (1) S. Aeberhard, D. Coomans and O. de Vel, \\n  Comparison of Classifiers in High Dimensional Settings, \\n  Tech. Rep. no. 92-02, (1992), Dept. of Computer Science and Dept. of  \\n  Mathematics and Statistics, James Cook University of North Queensland. \\n  (Also submitted to Technometrics). \\n\\n  The data was used with many others for comparing various \\n  classifiers. The classes are separable, though only RDA \\n  has achieved 100% correct classification. \\n  (RDA : 100%, QDA 99.4%, LDA 98.9%, 1NN 96.1% (z-transformed data)) \\n  (All results using the leave-one-out technique) \\n\\n  (2) S. Aeberhard, D. Coomans and O. de Vel, \\n  \"THE CLASSIFICATION PERFORMANCE OF RDA\" \\n  Tech. Rep. no. 92-01, (1992), Dept. of Computer Science and Dept. of \\n  Mathematics and Statistics, James Cook University of North Queensland. \\n  (Also submitted to Journal of Chemometrics).\\n',\n",
              " 'data': array([[1.423e+01, 1.710e+00, 2.430e+00, ..., 1.040e+00, 3.920e+00,\n",
              "         1.065e+03],\n",
              "        [1.320e+01, 1.780e+00, 2.140e+00, ..., 1.050e+00, 3.400e+00,\n",
              "         1.050e+03],\n",
              "        [1.316e+01, 2.360e+00, 2.670e+00, ..., 1.030e+00, 3.170e+00,\n",
              "         1.185e+03],\n",
              "        ...,\n",
              "        [1.327e+01, 4.280e+00, 2.260e+00, ..., 5.900e-01, 1.560e+00,\n",
              "         8.350e+02],\n",
              "        [1.317e+01, 2.590e+00, 2.370e+00, ..., 6.000e-01, 1.620e+00,\n",
              "         8.400e+02],\n",
              "        [1.413e+01, 4.100e+00, 2.740e+00, ..., 6.100e-01, 1.600e+00,\n",
              "         5.600e+02]]),\n",
              " 'feature_names': ['alcohol',\n",
              "  'malic_acid',\n",
              "  'ash',\n",
              "  'alcalinity_of_ash',\n",
              "  'magnesium',\n",
              "  'total_phenols',\n",
              "  'flavanoids',\n",
              "  'nonflavanoid_phenols',\n",
              "  'proanthocyanins',\n",
              "  'color_intensity',\n",
              "  'hue',\n",
              "  'od280/od315_of_diluted_wines',\n",
              "  'proline'],\n",
              " 'target': array([0, 0, 0, 0, 0, 0, 0, 0, 0, 0, 0, 0, 0, 0, 0, 0, 0, 0, 0, 0, 0, 0,\n",
              "        0, 0, 0, 0, 0, 0, 0, 0, 0, 0, 0, 0, 0, 0, 0, 0, 0, 0, 0, 0, 0, 0,\n",
              "        0, 0, 0, 0, 0, 0, 0, 0, 0, 0, 0, 0, 0, 0, 0, 1, 1, 1, 1, 1, 1, 1,\n",
              "        1, 1, 1, 1, 1, 1, 1, 1, 1, 1, 1, 1, 1, 1, 1, 1, 1, 1, 1, 1, 1, 1,\n",
              "        1, 1, 1, 1, 1, 1, 1, 1, 1, 1, 1, 1, 1, 1, 1, 1, 1, 1, 1, 1, 1, 1,\n",
              "        1, 1, 1, 1, 1, 1, 1, 1, 1, 1, 1, 1, 1, 1, 1, 1, 1, 1, 1, 1, 2, 2,\n",
              "        2, 2, 2, 2, 2, 2, 2, 2, 2, 2, 2, 2, 2, 2, 2, 2, 2, 2, 2, 2, 2, 2,\n",
              "        2, 2, 2, 2, 2, 2, 2, 2, 2, 2, 2, 2, 2, 2, 2, 2, 2, 2, 2, 2, 2, 2,\n",
              "        2, 2]),\n",
              " 'target_names': array(['class_0', 'class_1', 'class_2'], dtype='<U7')}"
            ]
          },
          "metadata": {
            "tags": []
          },
          "execution_count": 3
        }
      ]
    },
    {
      "cell_type": "code",
      "metadata": {
        "id": "yVFDtW0ZmPgc",
        "outputId": "37081c61-82e8-4d5d-9fc6-1280af8f841c",
        "colab": {
          "base_uri": "https://localhost:8080/",
          "height": 224
        }
      },
      "source": [
        "df = pd.DataFrame(wine.data, columns = wine.feature_names)\n",
        "df['target'] = wine.target_names[wine.target]\n",
        "df.head()"
      ],
      "execution_count": 4,
      "outputs": [
        {
          "output_type": "execute_result",
          "data": {
            "text/html": [
              "<div>\n",
              "<style scoped>\n",
              "    .dataframe tbody tr th:only-of-type {\n",
              "        vertical-align: middle;\n",
              "    }\n",
              "\n",
              "    .dataframe tbody tr th {\n",
              "        vertical-align: top;\n",
              "    }\n",
              "\n",
              "    .dataframe thead th {\n",
              "        text-align: right;\n",
              "    }\n",
              "</style>\n",
              "<table border=\"1\" class=\"dataframe\">\n",
              "  <thead>\n",
              "    <tr style=\"text-align: right;\">\n",
              "      <th></th>\n",
              "      <th>alcohol</th>\n",
              "      <th>malic_acid</th>\n",
              "      <th>ash</th>\n",
              "      <th>alcalinity_of_ash</th>\n",
              "      <th>magnesium</th>\n",
              "      <th>total_phenols</th>\n",
              "      <th>flavanoids</th>\n",
              "      <th>nonflavanoid_phenols</th>\n",
              "      <th>proanthocyanins</th>\n",
              "      <th>color_intensity</th>\n",
              "      <th>hue</th>\n",
              "      <th>od280/od315_of_diluted_wines</th>\n",
              "      <th>proline</th>\n",
              "      <th>target</th>\n",
              "    </tr>\n",
              "  </thead>\n",
              "  <tbody>\n",
              "    <tr>\n",
              "      <th>0</th>\n",
              "      <td>14.23</td>\n",
              "      <td>1.71</td>\n",
              "      <td>2.43</td>\n",
              "      <td>15.6</td>\n",
              "      <td>127.0</td>\n",
              "      <td>2.80</td>\n",
              "      <td>3.06</td>\n",
              "      <td>0.28</td>\n",
              "      <td>2.29</td>\n",
              "      <td>5.64</td>\n",
              "      <td>1.04</td>\n",
              "      <td>3.92</td>\n",
              "      <td>1065.0</td>\n",
              "      <td>class_0</td>\n",
              "    </tr>\n",
              "    <tr>\n",
              "      <th>1</th>\n",
              "      <td>13.20</td>\n",
              "      <td>1.78</td>\n",
              "      <td>2.14</td>\n",
              "      <td>11.2</td>\n",
              "      <td>100.0</td>\n",
              "      <td>2.65</td>\n",
              "      <td>2.76</td>\n",
              "      <td>0.26</td>\n",
              "      <td>1.28</td>\n",
              "      <td>4.38</td>\n",
              "      <td>1.05</td>\n",
              "      <td>3.40</td>\n",
              "      <td>1050.0</td>\n",
              "      <td>class_0</td>\n",
              "    </tr>\n",
              "    <tr>\n",
              "      <th>2</th>\n",
              "      <td>13.16</td>\n",
              "      <td>2.36</td>\n",
              "      <td>2.67</td>\n",
              "      <td>18.6</td>\n",
              "      <td>101.0</td>\n",
              "      <td>2.80</td>\n",
              "      <td>3.24</td>\n",
              "      <td>0.30</td>\n",
              "      <td>2.81</td>\n",
              "      <td>5.68</td>\n",
              "      <td>1.03</td>\n",
              "      <td>3.17</td>\n",
              "      <td>1185.0</td>\n",
              "      <td>class_0</td>\n",
              "    </tr>\n",
              "    <tr>\n",
              "      <th>3</th>\n",
              "      <td>14.37</td>\n",
              "      <td>1.95</td>\n",
              "      <td>2.50</td>\n",
              "      <td>16.8</td>\n",
              "      <td>113.0</td>\n",
              "      <td>3.85</td>\n",
              "      <td>3.49</td>\n",
              "      <td>0.24</td>\n",
              "      <td>2.18</td>\n",
              "      <td>7.80</td>\n",
              "      <td>0.86</td>\n",
              "      <td>3.45</td>\n",
              "      <td>1480.0</td>\n",
              "      <td>class_0</td>\n",
              "    </tr>\n",
              "    <tr>\n",
              "      <th>4</th>\n",
              "      <td>13.24</td>\n",
              "      <td>2.59</td>\n",
              "      <td>2.87</td>\n",
              "      <td>21.0</td>\n",
              "      <td>118.0</td>\n",
              "      <td>2.80</td>\n",
              "      <td>2.69</td>\n",
              "      <td>0.39</td>\n",
              "      <td>1.82</td>\n",
              "      <td>4.32</td>\n",
              "      <td>1.04</td>\n",
              "      <td>2.93</td>\n",
              "      <td>735.0</td>\n",
              "      <td>class_0</td>\n",
              "    </tr>\n",
              "  </tbody>\n",
              "</table>\n",
              "</div>"
            ],
            "text/plain": [
              "   alcohol  malic_acid   ash  ...  od280/od315_of_diluted_wines  proline   target\n",
              "0    14.23        1.71  2.43  ...                          3.92   1065.0  class_0\n",
              "1    13.20        1.78  2.14  ...                          3.40   1050.0  class_0\n",
              "2    13.16        2.36  2.67  ...                          3.17   1185.0  class_0\n",
              "3    14.37        1.95  2.50  ...                          3.45   1480.0  class_0\n",
              "4    13.24        2.59  2.87  ...                          2.93    735.0  class_0\n",
              "\n",
              "[5 rows x 14 columns]"
            ]
          },
          "metadata": {
            "tags": []
          },
          "execution_count": 4
        }
      ]
    },
    {
      "cell_type": "code",
      "metadata": {
        "id": "LEpOeTmRmitM"
      },
      "source": [
        "X,y = wine.data, wine.target\n",
        "X_train, X_test, y_train, y_test = train_test_split(X, y)\n",
        "\n",
        "# データセットを生成する\n",
        "lgb_train = lgb.Dataset(X_train, y_train, feature_name = wine.feature_names)\n",
        "\n",
        "lgb_eval = lgb.Dataset(X_test, y_test, reference = lgb_train)\n",
        "\n",
        "# param\n",
        "lgbm_params = {\n",
        "    'objective':'multiclass',\n",
        "    'num_class':3,\n",
        "}"
      ],
      "execution_count": 7,
      "outputs": []
    },
    {
      "cell_type": "code",
      "metadata": {
        "id": "UwgT1ptQnKNF",
        "outputId": "9b0e09ea-7898-445d-dca6-592d55242f48",
        "colab": {
          "base_uri": "https://localhost:8080/",
          "height": 1000
        }
      },
      "source": [
        "model = lgb.train(lgbm_params, lgb_train, valid_sets = lgb_eval)\n",
        "\n",
        "# predict test\n",
        "y_pred = model.predict(X_test, num_iteration = model.best_iteration)\n",
        "y_pred_max = np.argmax(y_pred, axis = 1)\n",
        "\n",
        "# 精度を計算する\n",
        "accuracy = sum(y_test == y_pred_max) / len(y_test)\n",
        "print('accuracy:{0}'.format(accuracy))"
      ],
      "execution_count": 8,
      "outputs": [
        {
          "output_type": "stream",
          "text": [
            "[1]\tvalid_0's multi_logloss: 0.982701\n",
            "[2]\tvalid_0's multi_logloss: 0.904789\n",
            "[3]\tvalid_0's multi_logloss: 0.835672\n",
            "[4]\tvalid_0's multi_logloss: 0.775764\n",
            "[5]\tvalid_0's multi_logloss: 0.717664\n",
            "[6]\tvalid_0's multi_logloss: 0.667076\n",
            "[7]\tvalid_0's multi_logloss: 0.624061\n",
            "[8]\tvalid_0's multi_logloss: 0.585307\n",
            "[9]\tvalid_0's multi_logloss: 0.551015\n",
            "[10]\tvalid_0's multi_logloss: 0.514047\n",
            "[11]\tvalid_0's multi_logloss: 0.479409\n",
            "[12]\tvalid_0's multi_logloss: 0.447101\n",
            "[13]\tvalid_0's multi_logloss: 0.418492\n",
            "[14]\tvalid_0's multi_logloss: 0.394879\n",
            "[15]\tvalid_0's multi_logloss: 0.371715\n",
            "[16]\tvalid_0's multi_logloss: 0.354436\n",
            "[17]\tvalid_0's multi_logloss: 0.334285\n",
            "[18]\tvalid_0's multi_logloss: 0.315986\n",
            "[19]\tvalid_0's multi_logloss: 0.298296\n",
            "[20]\tvalid_0's multi_logloss: 0.284895\n",
            "[21]\tvalid_0's multi_logloss: 0.270079\n",
            "[22]\tvalid_0's multi_logloss: 0.257147\n",
            "[23]\tvalid_0's multi_logloss: 0.246891\n",
            "[24]\tvalid_0's multi_logloss: 0.235394\n",
            "[25]\tvalid_0's multi_logloss: 0.224736\n",
            "[26]\tvalid_0's multi_logloss: 0.212088\n",
            "[27]\tvalid_0's multi_logloss: 0.202796\n",
            "[28]\tvalid_0's multi_logloss: 0.195825\n",
            "[29]\tvalid_0's multi_logloss: 0.185339\n",
            "[30]\tvalid_0's multi_logloss: 0.178099\n",
            "[31]\tvalid_0's multi_logloss: 0.168774\n",
            "[32]\tvalid_0's multi_logloss: 0.161005\n",
            "[33]\tvalid_0's multi_logloss: 0.155986\n",
            "[34]\tvalid_0's multi_logloss: 0.147469\n",
            "[35]\tvalid_0's multi_logloss: 0.142033\n",
            "[36]\tvalid_0's multi_logloss: 0.138675\n",
            "[37]\tvalid_0's multi_logloss: 0.132302\n",
            "[38]\tvalid_0's multi_logloss: 0.127054\n",
            "[39]\tvalid_0's multi_logloss: 0.121276\n",
            "[40]\tvalid_0's multi_logloss: 0.116951\n",
            "[41]\tvalid_0's multi_logloss: 0.1141\n",
            "[42]\tvalid_0's multi_logloss: 0.108999\n",
            "[43]\tvalid_0's multi_logloss: 0.106366\n",
            "[44]\tvalid_0's multi_logloss: 0.104197\n",
            "[45]\tvalid_0's multi_logloss: 0.0997183\n",
            "[46]\tvalid_0's multi_logloss: 0.0984848\n",
            "[47]\tvalid_0's multi_logloss: 0.0957651\n",
            "[48]\tvalid_0's multi_logloss: 0.0948422\n",
            "[49]\tvalid_0's multi_logloss: 0.0911511\n",
            "[50]\tvalid_0's multi_logloss: 0.0889856\n",
            "[51]\tvalid_0's multi_logloss: 0.0855659\n",
            "[52]\tvalid_0's multi_logloss: 0.0849245\n",
            "[53]\tvalid_0's multi_logloss: 0.0831468\n",
            "[54]\tvalid_0's multi_logloss: 0.0823582\n",
            "[55]\tvalid_0's multi_logloss: 0.078762\n",
            "[56]\tvalid_0's multi_logloss: 0.0783938\n",
            "[57]\tvalid_0's multi_logloss: 0.076391\n",
            "[58]\tvalid_0's multi_logloss: 0.0746983\n",
            "[59]\tvalid_0's multi_logloss: 0.073764\n",
            "[60]\tvalid_0's multi_logloss: 0.0738749\n",
            "[61]\tvalid_0's multi_logloss: 0.0717472\n",
            "[62]\tvalid_0's multi_logloss: 0.0722422\n",
            "[63]\tvalid_0's multi_logloss: 0.0710475\n",
            "[64]\tvalid_0's multi_logloss: 0.0695742\n",
            "[65]\tvalid_0's multi_logloss: 0.0682873\n",
            "[66]\tvalid_0's multi_logloss: 0.0668683\n",
            "[67]\tvalid_0's multi_logloss: 0.0651111\n",
            "[68]\tvalid_0's multi_logloss: 0.0652177\n",
            "[69]\tvalid_0's multi_logloss: 0.0661749\n",
            "[70]\tvalid_0's multi_logloss: 0.0640367\n",
            "[71]\tvalid_0's multi_logloss: 0.0636528\n",
            "[72]\tvalid_0's multi_logloss: 0.0621104\n",
            "[73]\tvalid_0's multi_logloss: 0.0604607\n",
            "[74]\tvalid_0's multi_logloss: 0.0604049\n",
            "[75]\tvalid_0's multi_logloss: 0.0599983\n",
            "[76]\tvalid_0's multi_logloss: 0.0580943\n",
            "[77]\tvalid_0's multi_logloss: 0.0576275\n",
            "[78]\tvalid_0's multi_logloss: 0.0585791\n",
            "[79]\tvalid_0's multi_logloss: 0.0562511\n",
            "[80]\tvalid_0's multi_logloss: 0.0560316\n",
            "[81]\tvalid_0's multi_logloss: 0.0555726\n",
            "[82]\tvalid_0's multi_logloss: 0.0538157\n",
            "[83]\tvalid_0's multi_logloss: 0.053461\n",
            "[84]\tvalid_0's multi_logloss: 0.0536488\n",
            "[85]\tvalid_0's multi_logloss: 0.0532172\n",
            "[86]\tvalid_0's multi_logloss: 0.0522866\n",
            "[87]\tvalid_0's multi_logloss: 0.0516522\n",
            "[88]\tvalid_0's multi_logloss: 0.0524516\n",
            "[89]\tvalid_0's multi_logloss: 0.0527681\n",
            "[90]\tvalid_0's multi_logloss: 0.0517967\n",
            "[91]\tvalid_0's multi_logloss: 0.0505868\n",
            "[92]\tvalid_0's multi_logloss: 0.0497616\n",
            "[93]\tvalid_0's multi_logloss: 0.0495751\n",
            "[94]\tvalid_0's multi_logloss: 0.0493452\n",
            "[95]\tvalid_0's multi_logloss: 0.0484174\n",
            "[96]\tvalid_0's multi_logloss: 0.0488507\n",
            "[97]\tvalid_0's multi_logloss: 0.0471842\n",
            "[98]\tvalid_0's multi_logloss: 0.0465718\n",
            "[99]\tvalid_0's multi_logloss: 0.0483225\n",
            "[100]\tvalid_0's multi_logloss: 0.0469253\n",
            "accuracy:0.9555555555555556\n"
          ],
          "name": "stdout"
        }
      ]
    },
    {
      "cell_type": "code",
      "metadata": {
        "id": "F0JB_hFRnf7k",
        "outputId": "9476e4f7-4a32-4121-8510-695e5db980ec",
        "colab": {
          "base_uri": "https://localhost:8080/",
          "height": 366
        }
      },
      "source": [
        "# 特徴量をプロット\n",
        "lgb.plot_importance(model, figsize = (12, 6))\n",
        "plt.show()"
      ],
      "execution_count": 9,
      "outputs": [
        {
          "output_type": "display_data",
          "data": {
            "image/png": "[encoded data removed]",
            "text/plain": [
              "<Figure size 864x432 with 1 Axes>"
            ]
          },
          "metadata": {
            "tags": [],
            "needs_background": "light"
          }
        }
      ]
    },
    {
      "cell_type": "code",
      "metadata": {
        "id": "czPCol5pnlSU"
      },
      "source": [
        ""
      ],
      "execution_count": null,
      "outputs": []
    }
  ]
}