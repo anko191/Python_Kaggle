{
  "nbformat": 4,
  "nbformat_minor": 0,
  "metadata": {
    "colab": {
      "name": "Numpy_acquisition_transformation",
      "provenance": [],
      "collapsed_sections": [],
      "authorship_tag": "ABX9TyP29SkVTJegiDFtwhyrRK+X",
      "include_colab_link": true
    },
    "kernelspec": {
      "name": "python3",
      "display_name": "Python 3"
    }
  },
  "cells": [
    {
      "cell_type": "markdown",
      "metadata": {
        "id": "view-in-github",
        "colab_type": "text"
      },
      "source": [
        "<a href=\"https://colab.research.google.com/github/anko191/Python_Kaggle/blob/master/numpy/Numpy_acquisition_transformation.ipynb\" target=\"_parent\"><img src=\"https://colab.research.google.com/assets/colab-badge.svg\" alt=\"Open In Colab\"/></a>"
      ]
    },
    {
      "cell_type": "markdown",
      "metadata": {
        "id": "n5gpNfVlcQR4",
        "colab_type": "text"
      },
      "source": [
        "# Geometry acquisition and transformation"
      ]
    },
    {
      "cell_type": "code",
      "metadata": {
        "id": "shZQvZ4JcZCv",
        "colab_type": "code",
        "colab": {
          "base_uri": "https://localhost:8080/",
          "height": 34
        },
        "outputId": "03c08d73-37d3-41bf-aa32-7991ebb65446"
      },
      "source": [
        "import numpy as np\n",
        "a_1d = np.arange(3)\n",
        "print(a_1d)"
      ],
      "execution_count": null,
      "outputs": [
        {
          "output_type": "stream",
          "text": [
            "[0 1 2]\n"
          ],
          "name": "stdout"
        }
      ]
    },
    {
      "cell_type": "code",
      "metadata": {
        "id": "Diuw1KC5c7Ya",
        "colab_type": "code",
        "colab": {
          "base_uri": "https://localhost:8080/",
          "height": 68
        },
        "outputId": "e0613fdf-a622-4c8f-8681-b1a7b4c5d40d"
      },
      "source": [
        "a_2d = np.arange(12).reshape((3,4))\n",
        "print(a_2d)"
      ],
      "execution_count": null,
      "outputs": [
        {
          "output_type": "stream",
          "text": [
            "[[ 0  1  2  3]\n",
            " [ 4  5  6  7]\n",
            " [ 8  9 10 11]]\n"
          ],
          "name": "stdout"
        }
      ]
    },
    {
      "cell_type": "code",
      "metadata": {
        "id": "Bi3QsUzlc-Nj",
        "colab_type": "code",
        "colab": {
          "base_uri": "https://localhost:8080/",
          "height": 136
        },
        "outputId": "fed38a02-ba06-4acc-8ffe-d7aa04955aee"
      },
      "source": [
        "a_3d = np.arange(24).reshape((2,3,4))\n",
        "print(a_3d)"
      ],
      "execution_count": null,
      "outputs": [
        {
          "output_type": "stream",
          "text": [
            "[[[ 0  1  2  3]\n",
            "  [ 4  5  6  7]\n",
            "  [ 8  9 10 11]]\n",
            "\n",
            " [[12 13 14 15]\n",
            "  [16 17 18 19]\n",
            "  [20 21 22 23]]]\n"
          ],
          "name": "stdout"
        }
      ]
    },
    {
      "cell_type": "markdown",
      "metadata": {
        "id": "mn_zckMtdCgF",
        "colab_type": "text"
      },
      "source": [
        "## number of dimension  'ndim'"
      ]
    },
    {
      "cell_type": "code",
      "metadata": {
        "id": "FoyrnrC1dAzE",
        "colab_type": "code",
        "colab": {
          "base_uri": "https://localhost:8080/",
          "height": 34
        },
        "outputId": "0882b14f-40cc-4c5c-e77d-ffd6c59ad366"
      },
      "source": [
        "print(a_1d.ndim)"
      ],
      "execution_count": null,
      "outputs": [
        {
          "output_type": "stream",
          "text": [
            "1\n"
          ],
          "name": "stdout"
        }
      ]
    },
    {
      "cell_type": "code",
      "metadata": {
        "id": "gw52rGNwdI9a",
        "colab_type": "code",
        "colab": {
          "base_uri": "https://localhost:8080/",
          "height": 34
        },
        "outputId": "ec3bbc70-9eb8-4044-bd20-362f9b2896ee"
      },
      "source": [
        "print(type(a_1d.ndim))"
      ],
      "execution_count": null,
      "outputs": [
        {
          "output_type": "stream",
          "text": [
            "<class 'int'>\n"
          ],
          "name": "stdout"
        }
      ]
    },
    {
      "cell_type": "code",
      "metadata": {
        "id": "h8YVLbwpdK6i",
        "colab_type": "code",
        "colab": {
          "base_uri": "https://localhost:8080/",
          "height": 51
        },
        "outputId": "279d3d34-c709-400a-b2aa-be44d2cb45f3"
      },
      "source": [
        "print(a_2d.ndim)\n",
        "print(a_3d.ndim)"
      ],
      "execution_count": null,
      "outputs": [
        {
          "output_type": "stream",
          "text": [
            "2\n",
            "3\n"
          ],
          "name": "stdout"
        }
      ]
    },
    {
      "cell_type": "markdown",
      "metadata": {
        "id": "G06j_j5jdO_c",
        "colab_type": "text"
      },
      "source": [
        "## shape is 'shape' ( each size )"
      ]
    },
    {
      "cell_type": "code",
      "metadata": {
        "id": "D7Qmr1m1dNGb",
        "colab_type": "code",
        "colab": {
          "base_uri": "https://localhost:8080/",
          "height": 34
        },
        "outputId": "51a910d2-6754-42cf-b7d7-bcdfca531a93"
      },
      "source": [
        "print(a_1d.shape)"
      ],
      "execution_count": null,
      "outputs": [
        {
          "output_type": "stream",
          "text": [
            "(3,)\n"
          ],
          "name": "stdout"
        }
      ]
    },
    {
      "cell_type": "code",
      "metadata": {
        "id": "LsxocM8EdTRy",
        "colab_type": "code",
        "colab": {
          "base_uri": "https://localhost:8080/",
          "height": 34
        },
        "outputId": "de157f4e-f617-4f43-d100-2fe78901129e"
      },
      "source": [
        "print(type(a_1d.shape))"
      ],
      "execution_count": null,
      "outputs": [
        {
          "output_type": "stream",
          "text": [
            "<class 'tuple'>\n"
          ],
          "name": "stdout"
        }
      ]
    },
    {
      "cell_type": "code",
      "metadata": {
        "id": "5entSPEMdVMy",
        "colab_type": "code",
        "colab": {
          "base_uri": "https://localhost:8080/",
          "height": 51
        },
        "outputId": "12903b7b-f1c0-40cb-fc22-dc0267463267"
      },
      "source": [
        "print(a_2d.shape)\n",
        "print(a_3d.shape)"
      ],
      "execution_count": null,
      "outputs": [
        {
          "output_type": "stream",
          "text": [
            "(3, 4)\n",
            "(2, 3, 4)\n"
          ],
          "name": "stdout"
        }
      ]
    },
    {
      "cell_type": "code",
      "metadata": {
        "id": "fsOhkwkCduTT",
        "colab_type": "code",
        "colab": {
          "base_uri": "https://localhost:8080/",
          "height": 51
        },
        "outputId": "ba0a8d2a-78e7-446d-b26f-5f36ea03c5d3"
      },
      "source": [
        "print(a_2d.shape[0])\n",
        "print(a_2d.shape[1])"
      ],
      "execution_count": null,
      "outputs": [
        {
          "output_type": "stream",
          "text": [
            "3\n",
            "4\n"
          ],
          "name": "stdout"
        }
      ]
    },
    {
      "cell_type": "code",
      "metadata": {
        "id": "ePt3fQvod0CK",
        "colab_type": "code",
        "colab": {
          "base_uri": "https://localhost:8080/",
          "height": 34
        },
        "outputId": "c9fadd95-8cd1-46ae-ff9d-709e46170d99"
      },
      "source": [
        "row, col = a_2d.shape\n",
        "print(row)"
      ],
      "execution_count": null,
      "outputs": [
        {
          "output_type": "stream",
          "text": [
            "3\n"
          ],
          "name": "stdout"
        }
      ]
    },
    {
      "cell_type": "code",
      "metadata": {
        "id": "wDE3SSt-d3Cx",
        "colab_type": "code",
        "colab": {
          "base_uri": "https://localhost:8080/",
          "height": 34
        },
        "outputId": "01ca1ca4-6736-47a1-d79a-f770cc9f3f4b"
      },
      "source": [
        "print(col)"
      ],
      "execution_count": null,
      "outputs": [
        {
          "output_type": "stream",
          "text": [
            "4\n"
          ],
          "name": "stdout"
        }
      ]
    },
    {
      "cell_type": "markdown",
      "metadata": {
        "id": "f7W2qbfdeIBV",
        "colab_type": "text"
      },
      "source": [
        "## size is '.size'\n",
        "numbers of all elements"
      ]
    },
    {
      "cell_type": "code",
      "metadata": {
        "id": "HbRkCnz9d4Bb",
        "colab_type": "code",
        "colab": {
          "base_uri": "https://localhost:8080/",
          "height": 34
        },
        "outputId": "1310b697-258e-42ac-93a5-704c4bf56cf1"
      },
      "source": [
        "print(a_1d.size)"
      ],
      "execution_count": null,
      "outputs": [
        {
          "output_type": "stream",
          "text": [
            "3\n"
          ],
          "name": "stdout"
        }
      ]
    },
    {
      "cell_type": "code",
      "metadata": {
        "id": "Iiy2qw0WeLLE",
        "colab_type": "code",
        "colab": {
          "base_uri": "https://localhost:8080/",
          "height": 68
        },
        "outputId": "7b694f88-028d-4e7b-ea62-bc9fb2479580"
      },
      "source": [
        "print(type(a_1d.size))\n",
        "print(a_2d.size)\n",
        "print(a_3d.size)"
      ],
      "execution_count": null,
      "outputs": [
        {
          "output_type": "stream",
          "text": [
            "<class 'int'>\n",
            "12\n",
            "24\n"
          ],
          "name": "stdout"
        }
      ]
    },
    {
      "cell_type": "markdown",
      "metadata": {
        "id": "c6FBVTZVeXlc",
        "colab_type": "text"
      },
      "source": [
        "## first dimension size is 'len()'"
      ]
    },
    {
      "cell_type": "code",
      "metadata": {
        "id": "CtdW9NUWeQpC",
        "colab_type": "code",
        "colab": {
          "base_uri": "https://localhost:8080/",
          "height": 85
        },
        "outputId": "1df6a20e-b6e7-40ce-8e7a-cac59335534c"
      },
      "source": [
        "print(len(a_1d))\n",
        "print(a_1d.shape[0])\n",
        "print(a_1d.size)\n",
        "print(len(a_2d))"
      ],
      "execution_count": null,
      "outputs": [
        {
          "output_type": "stream",
          "text": [
            "3\n",
            "3\n",
            "3\n",
            "3\n"
          ],
          "name": "stdout"
        }
      ]
    },
    {
      "cell_type": "code",
      "metadata": {
        "id": "aEqV056aegHy",
        "colab_type": "code",
        "colab": {
          "base_uri": "https://localhost:8080/",
          "height": 34
        },
        "outputId": "73c4230d-045e-41f7-a64d-4f29077f5827"
      },
      "source": [
        "print(a_2d.shape)"
      ],
      "execution_count": null,
      "outputs": [
        {
          "output_type": "stream",
          "text": [
            "(3, 4)\n"
          ],
          "name": "stdout"
        }
      ]
    },
    {
      "cell_type": "code",
      "metadata": {
        "id": "MddWLkLJeio6",
        "colab_type": "code",
        "colab": {
          "base_uri": "https://localhost:8080/",
          "height": 34
        },
        "outputId": "3356be26-3051-479a-fe70-e74ff0791551"
      },
      "source": [
        "print(a_2d.shape[0])"
      ],
      "execution_count": null,
      "outputs": [
        {
          "output_type": "stream",
          "text": [
            "3\n"
          ],
          "name": "stdout"
        }
      ]
    },
    {
      "cell_type": "code",
      "metadata": {
        "id": "haHH1zNOem0k",
        "colab_type": "code",
        "colab": {
          "base_uri": "https://localhost:8080/",
          "height": 51
        },
        "outputId": "82d00796-c413-4a32-d8a6-589c2d6f2ea1"
      },
      "source": [
        "print(len(a_3d))\n",
        "print(a_3d.shape[0])"
      ],
      "execution_count": null,
      "outputs": [
        {
          "output_type": "stream",
          "text": [
            "2\n",
            "2\n"
          ],
          "name": "stdout"
        }
      ]
    },
    {
      "cell_type": "markdown",
      "metadata": {
        "id": "bAZJOmwfe1xM",
        "colab_type": "text"
      },
      "source": [
        "# How to use 'reshape' and what means '-1' ?"
      ]
    },
    {
      "cell_type": "markdown",
      "metadata": {
        "id": "AZxRgXYfe81_",
        "colab_type": "text"
      },
      "source": [
        "## ndarray.reshape() method"
      ]
    },
    {
      "cell_type": "code",
      "metadata": {
        "id": "9lHC7VFpeqZi",
        "colab_type": "code",
        "colab": {
          "base_uri": "https://localhost:8080/",
          "height": 68
        },
        "outputId": "d2f2dfde-f071-4026-a5fd-a2c2e5870073"
      },
      "source": [
        "import numpy as np\n",
        "a = np.arange(24)\n",
        "print(a)\n",
        "print(a.shape)\n",
        "print(a.ndim)"
      ],
      "execution_count": null,
      "outputs": [
        {
          "output_type": "stream",
          "text": [
            "[ 0  1  2  3  4  5  6  7  8  9 10 11 12 13 14 15 16 17 18 19 20 21 22 23]\n",
            "(24,)\n",
            "1\n"
          ],
          "name": "stdout"
        }
      ]
    },
    {
      "cell_type": "markdown",
      "metadata": {
        "id": "sowKKjyGfI0d",
        "colab_type": "text"
      },
      "source": [
        "## numpy.ndarray -> reshape() list or tuple"
      ]
    },
    {
      "cell_type": "code",
      "metadata": {
        "id": "ugnIRDqEfFCi",
        "colab_type": "code",
        "colab": {
          "base_uri": "https://localhost:8080/",
          "height": 119
        },
        "outputId": "08c0cb08-6f46-45a4-e4bc-d9f37540b09e"
      },
      "source": [
        "a_4_6 = a.reshape([4,6])\n",
        "print(a_4_6)\n",
        "print(a_4_6.shape)\n",
        "print(a_4_6.ndim)"
      ],
      "execution_count": null,
      "outputs": [
        {
          "output_type": "stream",
          "text": [
            "[[ 0  1  2  3  4  5]\n",
            " [ 6  7  8  9 10 11]\n",
            " [12 13 14 15 16 17]\n",
            " [18 19 20 21 22 23]]\n",
            "(4, 6)\n",
            "2\n"
          ],
          "name": "stdout"
        }
      ]
    },
    {
      "cell_type": "code",
      "metadata": {
        "id": "odonNXnefSq6",
        "colab_type": "code",
        "colab": {
          "base_uri": "https://localhost:8080/",
          "height": 170
        },
        "outputId": "568f7e66-38a3-4e43-b051-87852e86e942"
      },
      "source": [
        "a_2_3_4 = a.reshape([2,3,4])\n",
        "print(a_2_3_4)\n",
        "print(a_2_3_4.shape)\n",
        "print(a_2_3_4.ndim)"
      ],
      "execution_count": null,
      "outputs": [
        {
          "output_type": "stream",
          "text": [
            "[[[ 0  1  2  3]\n",
            "  [ 4  5  6  7]\n",
            "  [ 8  9 10 11]]\n",
            "\n",
            " [[12 13 14 15]\n",
            "  [16 17 18 19]\n",
            "  [20 21 22 23]]]\n",
            "(2, 3, 4)\n",
            "3\n"
          ],
          "name": "stdout"
        }
      ]
    },
    {
      "cell_type": "code",
      "metadata": {
        "id": "k7IUJZlkfiAr",
        "colab_type": "code",
        "colab": {
          "base_uri": "https://localhost:8080/",
          "height": 204
        },
        "outputId": "68ebf427-0a5d-4185-dfcf-bacc538ec63b"
      },
      "source": [
        "print(a.reshape(4,6))\n",
        "print(a.reshape(2,3,4))"
      ],
      "execution_count": null,
      "outputs": [
        {
          "output_type": "stream",
          "text": [
            "[[ 0  1  2  3  4  5]\n",
            " [ 6  7  8  9 10 11]\n",
            " [12 13 14 15 16 17]\n",
            " [18 19 20 21 22 23]]\n",
            "[[[ 0  1  2  3]\n",
            "  [ 4  5  6  7]\n",
            "  [ 8  9 10 11]]\n",
            "\n",
            " [[12 13 14 15]\n",
            "  [16 17 18 19]\n",
            "  [20 21 22 23]]]\n"
          ],
          "name": "stdout"
        }
      ]
    },
    {
      "cell_type": "markdown",
      "metadata": {
        "id": "x9xMEycUfoxk",
        "colab_type": "text"
      },
      "source": [
        "## numpy.reshape() can use argument !"
      ]
    },
    {
      "cell_type": "code",
      "metadata": {
        "id": "PdRnRfoyflPb",
        "colab_type": "code",
        "colab": {
          "base_uri": "https://localhost:8080/",
          "height": 204
        },
        "outputId": "aff98184-5976-44fd-e00c-c14c573ab22f"
      },
      "source": [
        "print(np.reshape(a, [4,6]))\n",
        "print(np.reshape(a, [2,3,4]))\n"
      ],
      "execution_count": null,
      "outputs": [
        {
          "output_type": "stream",
          "text": [
            "[[ 0  1  2  3  4  5]\n",
            " [ 6  7  8  9 10 11]\n",
            " [12 13 14 15 16 17]\n",
            " [18 19 20 21 22 23]]\n",
            "[[[ 0  1  2  3]\n",
            "  [ 4  5  6  7]\n",
            "  [ 8  9 10 11]]\n",
            "\n",
            " [[12 13 14 15]\n",
            "  [16 17 18 19]\n",
            "  [20 21 22 23]]]\n"
          ],
          "name": "stdout"
        }
      ]
    },
    {
      "cell_type": "markdown",
      "metadata": {
        "id": "NDJKGlKlfyUK",
        "colab_type": "text"
      },
      "source": [
        "### numpy.reshape(ndarray, [])  VS numpy.ndarray.reshape([]) !?"
      ]
    },
    {
      "cell_type": "code",
      "metadata": {
        "id": "CYNC60C5fvkq",
        "colab_type": "code",
        "colab": {
          "base_uri": "https://localhost:8080/",
          "height": 85
        },
        "outputId": "85e4014e-4aa7-4d7f-ca50-d00acb9540a9"
      },
      "source": [
        "print(a.reshape(4,6))"
      ],
      "execution_count": null,
      "outputs": [
        {
          "output_type": "stream",
          "text": [
            "[[ 0  1  2  3  4  5]\n",
            " [ 6  7  8  9 10 11]\n",
            " [12 13 14 15 16 17]\n",
            " [18 19 20 21 22 23]]\n"
          ],
          "name": "stdout"
        }
      ]
    },
    {
      "cell_type": "markdown",
      "metadata": {
        "id": "KTtXSfG9gLUh",
        "colab_type": "text"
      },
      "source": [
        "## order = 'C' : C language, order = 'F' : FORTRAN, obey rows and columns"
      ]
    },
    {
      "cell_type": "code",
      "metadata": {
        "id": "egh1kKTOf6_i",
        "colab_type": "code",
        "colab": {
          "base_uri": "https://localhost:8080/",
          "height": 391
        },
        "outputId": "6b58610e-6ed2-4a90-c389-ccc7d518f84b"
      },
      "source": [
        "print(a.reshape([4,6], order = 'C'))\n",
        "print(a.reshape([4,6], order = 'F'))\n",
        "print(a.reshape([2,3,4], order = 'C'))\n",
        "print(a.reshape([2,3,4], order = 'F'))"
      ],
      "execution_count": null,
      "outputs": [
        {
          "output_type": "stream",
          "text": [
            "[[ 0  1  2  3  4  5]\n",
            " [ 6  7  8  9 10 11]\n",
            " [12 13 14 15 16 17]\n",
            " [18 19 20 21 22 23]]\n",
            "[[ 0  4  8 12 16 20]\n",
            " [ 1  5  9 13 17 21]\n",
            " [ 2  6 10 14 18 22]\n",
            " [ 3  7 11 15 19 23]]\n",
            "[[[ 0  1  2  3]\n",
            "  [ 4  5  6  7]\n",
            "  [ 8  9 10 11]]\n",
            "\n",
            " [[12 13 14 15]\n",
            "  [16 17 18 19]\n",
            "  [20 21 22 23]]]\n",
            "[[[ 0  6 12 18]\n",
            "  [ 2  8 14 20]\n",
            "  [ 4 10 16 22]]\n",
            "\n",
            " [[ 1  7 13 19]\n",
            "  [ 3  9 15 21]\n",
            "  [ 5 11 17 23]]]\n"
          ],
          "name": "stdout"
        }
      ]
    },
    {
      "cell_type": "code",
      "metadata": {
        "id": "EZ5sKBC5gFT6",
        "colab_type": "code",
        "colab": {
          "base_uri": "https://localhost:8080/",
          "height": 85
        },
        "outputId": "763bbd6f-e113-4b75-ebad-95b24dea2e40"
      },
      "source": [
        "print(np.reshape(a, [4,6], order = 'F'))"
      ],
      "execution_count": null,
      "outputs": [
        {
          "output_type": "stream",
          "text": [
            "[[ 0  4  8 12 16 20]\n",
            " [ 1  5  9 13 17 21]\n",
            " [ 2  6 10 14 18 22]\n",
            " [ 3  7 11 15 19 23]]\n"
          ],
          "name": "stdout"
        }
      ]
    },
    {
      "cell_type": "markdown",
      "metadata": {
        "id": "9FiXHKCwgqQS",
        "colab_type": "text"
      },
      "source": [
        "# '-1'\n",
        "is ' decide automation '"
      ]
    },
    {
      "cell_type": "code",
      "metadata": {
        "id": "IeKSyE4fgbVi",
        "colab_type": "code",
        "colab": {
          "base_uri": "https://localhost:8080/",
          "height": 85
        },
        "outputId": "7f2c4d07-2a78-414c-b23a-b0d04418cc08"
      },
      "source": [
        "print(a.reshape([4,-1])) # ok 6 !"
      ],
      "execution_count": null,
      "outputs": [
        {
          "output_type": "stream",
          "text": [
            "[[ 0  1  2  3  4  5]\n",
            " [ 6  7  8  9 10 11]\n",
            " [12 13 14 15 16 17]\n",
            " [18 19 20 21 22 23]]\n"
          ],
          "name": "stdout"
        }
      ]
    },
    {
      "cell_type": "code",
      "metadata": {
        "id": "3O16kRzBhLZa",
        "colab_type": "code",
        "colab": {
          "base_uri": "https://localhost:8080/",
          "height": 136
        },
        "outputId": "107c4896-eb0a-4ef9-9110-d575a844a713"
      },
      "source": [
        "print(a.reshape([2,-1,4]))"
      ],
      "execution_count": null,
      "outputs": [
        {
          "output_type": "stream",
          "text": [
            "[[[ 0  1  2  3]\n",
            "  [ 4  5  6  7]\n",
            "  [ 8  9 10 11]]\n",
            "\n",
            " [[12 13 14 15]\n",
            "  [16 17 18 19]\n",
            "  [20 21 22 23]]]\n"
          ],
          "name": "stdout"
        }
      ]
    },
    {
      "cell_type": "markdown",
      "metadata": {
        "id": "SnrfzzFhhXMV",
        "colab_type": "text"
      },
      "source": [
        "## .reshape() return view  !! This is that memory share each other !"
      ]
    },
    {
      "cell_type": "code",
      "metadata": {
        "id": "PlSY6i_mhNjL",
        "colab_type": "code",
        "colab": {
          "base_uri": "https://localhost:8080/",
          "height": 85
        },
        "outputId": "22c3af2c-3cb6-4731-8ab9-71497c53ead1"
      },
      "source": [
        "a = np.arange(8)\n",
        "print(a)\n",
        "a_2_4 = a.reshape([2,4])\n",
        "print(a_2_4)\n",
        "print(np.shares_memory(a, a_2_4))"
      ],
      "execution_count": null,
      "outputs": [
        {
          "output_type": "stream",
          "text": [
            "[0 1 2 3 4 5 6 7]\n",
            "[[0 1 2 3]\n",
            " [4 5 6 7]]\n",
            "True\n"
          ],
          "name": "stdout"
        }
      ]
    },
    {
      "cell_type": "code",
      "metadata": {
        "id": "N5k6kwTbhmSO",
        "colab_type": "code",
        "colab": {
          "base_uri": "https://localhost:8080/",
          "height": 68
        },
        "outputId": "4a1046cc-400b-4994-d31a-32c4e4d3ed7f"
      },
      "source": [
        "a[0] = 100\n",
        "print(a)\n",
        "print(a_2_4)"
      ],
      "execution_count": null,
      "outputs": [
        {
          "output_type": "stream",
          "text": [
            "[100   1   2   3   4   5   6   7]\n",
            "[[100   1   2   3]\n",
            " [  4   5   6   7]]\n"
          ],
          "name": "stdout"
        }
      ]
    },
    {
      "cell_type": "code",
      "metadata": {
        "id": "VRwbRw06hqwi",
        "colab_type": "code",
        "colab": {
          "base_uri": "https://localhost:8080/",
          "height": 68
        },
        "outputId": "b1fe6589-5255-4f7f-c70e-367c1140ee9a"
      },
      "source": [
        "a_2_4[0,0] = 0\n",
        "print(a_2_4)\n",
        "print(a)"
      ],
      "execution_count": null,
      "outputs": [
        {
          "output_type": "stream",
          "text": [
            "[[0 1 2 3]\n",
            " [4 5 6 7]]\n",
            "[0 1 2 3 4 5 6 7]\n"
          ],
          "name": "stdout"
        }
      ]
    },
    {
      "cell_type": "markdown",
      "metadata": {
        "id": "Z7pu0wOFhu1h",
        "colab_type": "text"
      },
      "source": [
        "## if you copy use 'copy'"
      ]
    },
    {
      "cell_type": "code",
      "metadata": {
        "id": "29rJ7q2Khtd7",
        "colab_type": "code",
        "colab": {
          "base_uri": "https://localhost:8080/",
          "height": 68
        },
        "outputId": "5f584993-5e3b-4119-fe78-bd546be824b0"
      },
      "source": [
        "a = np.arange(8)\n",
        "a_2_4_copy = a.reshape([2,4]).copy()\n",
        "print(a_2_4_copy)\n",
        "print(np.shares_memory(a, a_2_4_copy))"
      ],
      "execution_count": null,
      "outputs": [
        {
          "output_type": "stream",
          "text": [
            "[[0 1 2 3]\n",
            " [4 5 6 7]]\n",
            "False\n"
          ],
          "name": "stdout"
        }
      ]
    },
    {
      "cell_type": "code",
      "metadata": {
        "id": "6NtgDitoh3iz",
        "colab_type": "code",
        "colab": {
          "base_uri": "https://localhost:8080/",
          "height": 119
        },
        "outputId": "25e5b94f-1e05-4ccc-88a6-068e4e8b54f0"
      },
      "source": [
        "a[0] = 100\n",
        "print(a)\n",
        "print(a_2_4_copy)\n",
        "a_2_4_copy[0,0] = 200\n",
        "print(a_2_4_copy)\n",
        "print(a)"
      ],
      "execution_count": null,
      "outputs": [
        {
          "output_type": "stream",
          "text": [
            "[100   1   2   3   4   5   6   7]\n",
            "[[0 1 2 3]\n",
            " [4 5 6 7]]\n",
            "[[200   1   2   3]\n",
            " [  4   5   6   7]]\n",
            "[100   1   2   3   4   5   6   7]\n"
          ],
          "name": "stdout"
        }
      ]
    },
    {
      "cell_type": "code",
      "metadata": {
        "id": "t1zaCkZIh-O8",
        "colab_type": "code",
        "colab": {
          "base_uri": "https://localhost:8080/",
          "height": 119
        },
        "outputId": "1e0e82d7-361c-4aca-e943-5e40cd05a9db"
      },
      "source": [
        "a = np.arange(6).reshape(2,3)\n",
        "print(a)\n",
        "a_step = a[:, ::2]\n",
        "print(a_step)\n",
        "print(a_step.reshape(-1))\n",
        "print(np.shares_memory(a_step, a_step.reshape(-1)))"
      ],
      "execution_count": null,
      "outputs": [
        {
          "output_type": "stream",
          "text": [
            "[[0 1 2]\n",
            " [3 4 5]]\n",
            "[[0 2]\n",
            " [3 5]]\n",
            "[0 2 3 5]\n",
            "False\n"
          ],
          "name": "stdout"
        }
      ]
    },
    {
      "cell_type": "code",
      "metadata": {
        "id": "DSK7myNAiWe0",
        "colab_type": "code",
        "colab": {
          "base_uri": "https://localhost:8080/",
          "height": 119
        },
        "outputId": "f13a3274-a94e-40dc-cad3-74583828c1ff"
      },
      "source": [
        "a = np.arange(8).reshape(2,4)\n",
        "print(a)\n",
        "a_step = a[:, ::2]\n",
        "print(a_step)\n",
        "print(a_step.reshape(-1))\n",
        "print(np.shares_memory(a_step, a_step.reshape(-1)))"
      ],
      "execution_count": null,
      "outputs": [
        {
          "output_type": "stream",
          "text": [
            "[[0 1 2 3]\n",
            " [4 5 6 7]]\n",
            "[[0 2]\n",
            " [4 6]]\n",
            "[0 2 4 6]\n",
            "True\n"
          ],
          "name": "stdout"
        }
      ]
    },
    {
      "cell_type": "markdown",
      "metadata": {
        "id": "t7rzlvXxjVxV",
        "colab_type": "text"
      },
      "source": [
        "# Add dimension !? np.newaxis, np.expand_dims()"
      ]
    },
    {
      "cell_type": "markdown",
      "metadata": {
        "id": "flCYQVBQjcq4",
        "colab_type": "text"
      },
      "source": [
        "## np.newaxis is alias for 'None' ( equal )"
      ]
    },
    {
      "cell_type": "code",
      "metadata": {
        "id": "e-yZWvpeiepi",
        "colab_type": "code",
        "colab": {
          "base_uri": "https://localhost:8080/",
          "height": 34
        },
        "outputId": "ae4ef846-eb33-47df-d8c3-d8a41a099b28"
      },
      "source": [
        "import numpy as np\n",
        "print(np.newaxis is None)"
      ],
      "execution_count": null,
      "outputs": [
        {
          "output_type": "stream",
          "text": [
            "True\n"
          ],
          "name": "stdout"
        }
      ]
    },
    {
      "cell_type": "markdown",
      "metadata": {
        "id": "JNCunrRWj5Io",
        "colab_type": "text"
      },
      "source": [
        "### adding new 1 size dimension"
      ]
    },
    {
      "cell_type": "code",
      "metadata": {
        "id": "hLRqsNf2jj1j",
        "colab_type": "code",
        "colab": {
          "base_uri": "https://localhost:8080/",
          "height": 187
        },
        "outputId": "02e81e10-1943-4a92-81be-312fa475a99c"
      },
      "source": [
        "a = np.arange(6).reshape(2,3)\n",
        "print(a)\n",
        "print(a.shape)\n",
        "print(a[:, :, np.newaxis])"
      ],
      "execution_count": null,
      "outputs": [
        {
          "output_type": "stream",
          "text": [
            "[[0 1 2]\n",
            " [3 4 5]]\n",
            "(2, 3)\n",
            "[[[0]\n",
            "  [1]\n",
            "  [2]]\n",
            "\n",
            " [[3]\n",
            "  [4]\n",
            "  [5]]]\n"
          ],
          "name": "stdout"
        }
      ]
    },
    {
      "cell_type": "code",
      "metadata": {
        "id": "5XsrVLyxjvHF",
        "colab_type": "code",
        "colab": {
          "base_uri": "https://localhost:8080/",
          "height": 34
        },
        "outputId": "ff306f81-9c58-4866-b995-d8cd04bf2381"
      },
      "source": [
        "print(a[:, :, np.newaxis].shape)"
      ],
      "execution_count": null,
      "outputs": [
        {
          "output_type": "stream",
          "text": [
            "(2, 3, 1)\n"
          ],
          "name": "stdout"
        }
      ]
    },
    {
      "cell_type": "code",
      "metadata": {
        "id": "1v-ppxkakDiT",
        "colab_type": "code",
        "colab": {
          "base_uri": "https://localhost:8080/",
          "height": 68
        },
        "outputId": "022a8efd-0631-4195-8627-a7695d308811"
      },
      "source": [
        "print(a[:, np.newaxis, :])"
      ],
      "execution_count": null,
      "outputs": [
        {
          "output_type": "stream",
          "text": [
            "[[[0 1 2]]\n",
            "\n",
            " [[3 4 5]]]\n"
          ],
          "name": "stdout"
        }
      ]
    },
    {
      "cell_type": "code",
      "metadata": {
        "id": "1rsBNf_jkNjk",
        "colab_type": "code",
        "colab": {
          "base_uri": "https://localhost:8080/",
          "height": 34
        },
        "outputId": "6239f1f0-91a8-4eaa-cb4b-c5582a14c3a7"
      },
      "source": [
        "print(a[:, np.newaxis, :].shape)"
      ],
      "execution_count": null,
      "outputs": [
        {
          "output_type": "stream",
          "text": [
            "(2, 1, 3)\n"
          ],
          "name": "stdout"
        }
      ]
    },
    {
      "cell_type": "code",
      "metadata": {
        "id": "hObkdGLckTFr",
        "colab_type": "code",
        "colab": {
          "base_uri": "https://localhost:8080/",
          "height": 68
        },
        "outputId": "cc6e23b8-1454-46cd-e933-98a64b5b7bdc"
      },
      "source": [
        "print(a[np.newaxis, :, :])\n",
        "print(a[np.newaxis, :, :].shape)"
      ],
      "execution_count": null,
      "outputs": [
        {
          "output_type": "stream",
          "text": [
            "[[[0 1 2]\n",
            "  [3 4 5]]]\n",
            "(1, 2, 3)\n"
          ],
          "name": "stdout"
        }
      ]
    },
    {
      "cell_type": "markdown",
      "metadata": {
        "id": "aIP2EW26kby7",
        "colab_type": "text"
      },
      "source": [
        "## []'s end is optional"
      ]
    },
    {
      "cell_type": "code",
      "metadata": {
        "id": "gv8O4_NHkXpr",
        "colab_type": "code",
        "colab": {
          "base_uri": "https://localhost:8080/",
          "height": 85
        },
        "outputId": "2e199341-c1b8-4df0-8109-046b36d4682b"
      },
      "source": [
        "print(a[:, np.newaxis])\n",
        "print(a[:, np.newaxis].shape)"
      ],
      "execution_count": null,
      "outputs": [
        {
          "output_type": "stream",
          "text": [
            "[[[0 1 2]]\n",
            "\n",
            " [[3 4 5]]]\n",
            "(2, 1, 3)\n"
          ],
          "name": "stdout"
        }
      ]
    },
    {
      "cell_type": "code",
      "metadata": {
        "id": "XPt8sOxkkomb",
        "colab_type": "code",
        "colab": {
          "base_uri": "https://localhost:8080/",
          "height": 68
        },
        "outputId": "5d517d26-1fd3-4b09-f3f0-33038f337f79"
      },
      "source": [
        "print(a[np.newaxis])\n",
        "print(a[np.newaxis].shape)"
      ],
      "execution_count": null,
      "outputs": [
        {
          "output_type": "stream",
          "text": [
            "[[[0 1 2]\n",
            "  [3 4 5]]]\n",
            "(1, 2, 3)\n"
          ],
          "name": "stdout"
        }
      ]
    },
    {
      "cell_type": "markdown",
      "metadata": {
        "id": "VjRJysyVkyH8",
        "colab_type": "text"
      },
      "source": [
        "## consective : is replaced by \" ... \" .     !?"
      ]
    },
    {
      "cell_type": "code",
      "metadata": {
        "id": "dmDN_VvEktst",
        "colab_type": "code",
        "colab": {
          "base_uri": "https://localhost:8080/",
          "height": 153
        },
        "outputId": "74944859-1fb9-45f3-d7e3-8f3dcf43ff1f"
      },
      "source": [
        "print(a[..., np.newaxis])\n",
        "print(a[..., np.newaxis].shape)"
      ],
      "execution_count": null,
      "outputs": [
        {
          "output_type": "stream",
          "text": [
            "[[[0]\n",
            "  [1]\n",
            "  [2]]\n",
            "\n",
            " [[3]\n",
            "  [4]\n",
            "  [5]]]\n",
            "(2, 3, 1)\n"
          ],
          "name": "stdout"
        }
      ]
    },
    {
      "cell_type": "markdown",
      "metadata": {
        "id": "UjOfJaOtlFIV",
        "colab_type": "text"
      },
      "source": [
        "## multiple ok"
      ]
    },
    {
      "cell_type": "code",
      "metadata": {
        "id": "2tlpspZYlBbb",
        "colab_type": "code",
        "colab": {
          "base_uri": "https://localhost:8080/",
          "height": 153
        },
        "outputId": "be58c86e-9fe5-469b-9486-2636294162cd"
      },
      "source": [
        "print(a[np.newaxis, :, np.newaxis, :, np.newaxis])"
      ],
      "execution_count": null,
      "outputs": [
        {
          "output_type": "stream",
          "text": [
            "[[[[[0]\n",
            "    [1]\n",
            "    [2]]]\n",
            "\n",
            "\n",
            "  [[[3]\n",
            "    [4]\n",
            "    [5]]]]]\n"
          ],
          "name": "stdout"
        }
      ]
    },
    {
      "cell_type": "code",
      "metadata": {
        "id": "YOAVfASHlLHc",
        "colab_type": "code",
        "colab": {
          "base_uri": "https://localhost:8080/",
          "height": 34
        },
        "outputId": "9c7504dc-1072-4100-a012-55d62538c6af"
      },
      "source": [
        "print(a[np.newaxis, :, np.newaxis, :, np.newaxis].shape)"
      ],
      "execution_count": null,
      "outputs": [
        {
          "output_type": "stream",
          "text": [
            "(1, 2, 1, 3, 1)\n"
          ],
          "name": "stdout"
        }
      ]
    },
    {
      "cell_type": "markdown",
      "metadata": {
        "id": "rL3ysL6rlh2R",
        "colab_type": "text"
      },
      "source": [
        "## control broadcast"
      ]
    },
    {
      "cell_type": "code",
      "metadata": {
        "id": "h7Rw5Q1wlQ9z",
        "colab_type": "code",
        "colab": {
          "base_uri": "https://localhost:8080/",
          "height": 204
        },
        "outputId": "78eb707f-ffb2-43d2-902c-53201556c7fc"
      },
      "source": [
        "a = np.zeros(27, dtype = np.int).reshape(3,3,3)\n",
        "print(a)"
      ],
      "execution_count": null,
      "outputs": [
        {
          "output_type": "stream",
          "text": [
            "[[[0 0 0]\n",
            "  [0 0 0]\n",
            "  [0 0 0]]\n",
            "\n",
            " [[0 0 0]\n",
            "  [0 0 0]\n",
            "  [0 0 0]]\n",
            "\n",
            " [[0 0 0]\n",
            "  [0 0 0]\n",
            "  [0 0 0]]]\n"
          ],
          "name": "stdout"
        }
      ]
    },
    {
      "cell_type": "code",
      "metadata": {
        "id": "WfQYF1L_lnvL",
        "colab_type": "code",
        "colab": {
          "base_uri": "https://localhost:8080/",
          "height": 102
        },
        "outputId": "f5f89a8c-005e-49fc-c28a-26811b71e53d"
      },
      "source": [
        "print(a.shape)\n",
        "b = np.arange(9).reshape(3,3)\n",
        "print(b)\n",
        "print(b.shape)"
      ],
      "execution_count": null,
      "outputs": [
        {
          "output_type": "stream",
          "text": [
            "(3, 3, 3)\n",
            "[[0 1 2]\n",
            " [3 4 5]\n",
            " [6 7 8]]\n",
            "(3, 3)\n"
          ],
          "name": "stdout"
        }
      ]
    },
    {
      "cell_type": "code",
      "metadata": {
        "id": "e57vE1pUls7D",
        "colab_type": "code",
        "colab": {
          "base_uri": "https://localhost:8080/",
          "height": 204
        },
        "outputId": "c204a1e4-4a1e-444c-dead-a9ba65d0ed83"
      },
      "source": [
        "print(a + b)"
      ],
      "execution_count": null,
      "outputs": [
        {
          "output_type": "stream",
          "text": [
            "[[[0 1 2]\n",
            "  [3 4 5]\n",
            "  [6 7 8]]\n",
            "\n",
            " [[0 1 2]\n",
            "  [3 4 5]\n",
            "  [6 7 8]]\n",
            "\n",
            " [[0 1 2]\n",
            "  [3 4 5]\n",
            "  [6 7 8]]]\n"
          ],
          "name": "stdout"
        }
      ]
    },
    {
      "cell_type": "markdown",
      "metadata": {
        "id": "CZvNju42lz-6",
        "colab_type": "text"
      },
      "source": [
        "### omg automation transformation ... a ? "
      ]
    },
    {
      "cell_type": "code",
      "metadata": {
        "id": "EIW-IsNzluhj",
        "colab_type": "code",
        "colab": {
          "base_uri": "https://localhost:8080/",
          "height": 34
        },
        "outputId": "5cc20bdf-20b3-4caf-dd37-e82045dbfa68"
      },
      "source": [
        "print(b[np.newaxis, :, :].shape)"
      ],
      "execution_count": null,
      "outputs": [
        {
          "output_type": "stream",
          "text": [
            "(1, 3, 3)\n"
          ],
          "name": "stdout"
        }
      ]
    },
    {
      "cell_type": "code",
      "metadata": {
        "id": "0zN4UTxnl5Jc",
        "colab_type": "code",
        "colab": {
          "base_uri": "https://localhost:8080/",
          "height": 204
        },
        "outputId": "130b01fa-733c-43fd-8a1b-1ba2892a02d3"
      },
      "source": [
        "print(a + b[np.newaxis, :, :])"
      ],
      "execution_count": null,
      "outputs": [
        {
          "output_type": "stream",
          "text": [
            "[[[0 1 2]\n",
            "  [3 4 5]\n",
            "  [6 7 8]]\n",
            "\n",
            " [[0 1 2]\n",
            "  [3 4 5]\n",
            "  [6 7 8]]\n",
            "\n",
            " [[0 1 2]\n",
            "  [3 4 5]\n",
            "  [6 7 8]]]\n"
          ],
          "name": "stdout"
        }
      ]
    },
    {
      "cell_type": "markdown",
      "metadata": {
        "id": "7fLa6xEcmAJM",
        "colab_type": "text"
      },
      "source": [
        "### change adding position, then difference result"
      ]
    },
    {
      "cell_type": "code",
      "metadata": {
        "id": "jCxg1TeQl8aT",
        "colab_type": "code",
        "colab": {
          "base_uri": "https://localhost:8080/",
          "height": 221
        },
        "outputId": "38150042-6de8-4a3d-84d9-78bdd343cdc5"
      },
      "source": [
        "print(b[:, np.newaxis, :].shape)\n",
        "print(a+b[:, np.newaxis, :])"
      ],
      "execution_count": null,
      "outputs": [
        {
          "output_type": "stream",
          "text": [
            "(3, 1, 3)\n",
            "[[[0 1 2]\n",
            "  [0 1 2]\n",
            "  [0 1 2]]\n",
            "\n",
            " [[3 4 5]\n",
            "  [3 4 5]\n",
            "  [3 4 5]]\n",
            "\n",
            " [[6 7 8]\n",
            "  [6 7 8]\n",
            "  [6 7 8]]]\n"
          ],
          "name": "stdout"
        }
      ]
    },
    {
      "cell_type": "code",
      "metadata": {
        "id": "zBEWJ88HmJJk",
        "colab_type": "code",
        "colab": {
          "base_uri": "https://localhost:8080/",
          "height": 221
        },
        "outputId": "6d9038bc-d32a-4db6-9801-abba6e936cd9"
      },
      "source": [
        "print(b[:, :, np.newaxis].shape)\n",
        "print(a + b[:, :, np.newaxis])"
      ],
      "execution_count": null,
      "outputs": [
        {
          "output_type": "stream",
          "text": [
            "(3, 3, 1)\n",
            "[[[0 0 0]\n",
            "  [1 1 1]\n",
            "  [2 2 2]]\n",
            "\n",
            " [[3 3 3]\n",
            "  [4 4 4]\n",
            "  [5 5 5]]\n",
            "\n",
            " [[6 6 6]\n",
            "  [7 7 7]\n",
            "  [8 8 8]]]\n"
          ],
          "name": "stdout"
        }
      ]
    },
    {
      "cell_type": "markdown",
      "metadata": {
        "id": "l7uawJv5nQxH",
        "colab_type": "text"
      },
      "source": [
        "## np.expand_dims() new dimension"
      ]
    },
    {
      "cell_type": "code",
      "metadata": {
        "id": "B1SDr69cmNhz",
        "colab_type": "code",
        "colab": {
          "base_uri": "https://localhost:8080/",
          "height": 85
        },
        "outputId": "f6605390-c841-426f-a95a-262250824db8"
      },
      "source": [
        "a = np.arange(6).reshape(2,3)\n",
        "print(a)\n",
        "print(np.expand_dims(a, 0))"
      ],
      "execution_count": null,
      "outputs": [
        {
          "output_type": "stream",
          "text": [
            "[[0 1 2]\n",
            " [3 4 5]]\n",
            "[[[0 1 2]\n",
            "  [3 4 5]]]\n"
          ],
          "name": "stdout"
        }
      ]
    },
    {
      "cell_type": "code",
      "metadata": {
        "id": "MeQUcU_pnX0H",
        "colab_type": "code",
        "colab": {
          "base_uri": "https://localhost:8080/",
          "height": 34
        },
        "outputId": "a052b871-fdce-4791-e138-1a2d7968d54b"
      },
      "source": [
        "print(np.expand_dims(a,0).shape)"
      ],
      "execution_count": null,
      "outputs": [
        {
          "output_type": "stream",
          "text": [
            "(1, 2, 3)\n"
          ],
          "name": "stdout"
        }
      ]
    },
    {
      "cell_type": "markdown",
      "metadata": {
        "id": "voc-LX3xnfI6",
        "colab_type": "text"
      },
      "source": [
        "## new 1 dimension first !"
      ]
    },
    {
      "cell_type": "code",
      "metadata": {
        "id": "vGRdc7X3neg1",
        "colab_type": "code",
        "colab": {
          "base_uri": "https://localhost:8080/",
          "height": 68
        },
        "outputId": "70d63915-731e-4d11-a3a3-2b44cdd8ea59"
      },
      "source": [
        "print(np.expand_dims(a,0).shape)\n",
        "print(np.expand_dims(a,1).shape)\n",
        "print(np.expand_dims(a, 2).shape)"
      ],
      "execution_count": null,
      "outputs": [
        {
          "output_type": "stream",
          "text": [
            "(1, 2, 3)\n",
            "(2, 1, 3)\n",
            "(2, 3, 1)\n"
          ],
          "name": "stdout"
        }
      ]
    },
    {
      "cell_type": "markdown",
      "metadata": {
        "id": "l4dEYiO0ntOH",
        "colab_type": "text"
      },
      "source": [
        "## negative numerics is ok"
      ]
    },
    {
      "cell_type": "code",
      "metadata": {
        "id": "rd4aQhQSnoLz",
        "colab_type": "code",
        "colab": {
          "base_uri": "https://localhost:8080/",
          "height": 68
        },
        "outputId": "1c0a784f-61bf-421a-d6cf-fbc1fdf1ef2f"
      },
      "source": [
        "print(np.expand_dims(a, -1).shape)\n",
        "print(np.expand_dims(a, -2).shape)\n",
        "print(np.expand_dims(a, -3).shape)"
      ],
      "execution_count": null,
      "outputs": [
        {
          "output_type": "stream",
          "text": [
            "(2, 3, 1)\n",
            "(2, 1, 3)\n",
            "(1, 2, 3)\n"
          ],
          "name": "stdout"
        }
      ]
    },
    {
      "cell_type": "markdown",
      "metadata": {
        "id": "RUbrp65PoErv",
        "colab_type": "text"
      },
      "source": [
        "## reshape do same"
      ]
    },
    {
      "cell_type": "code",
      "metadata": {
        "id": "xMzrEK2HnxA8",
        "colab_type": "code",
        "colab": {
          "base_uri": "https://localhost:8080/",
          "height": 221
        },
        "outputId": "a36f6753-5d98-4b7a-c92c-7da54eb12971"
      },
      "source": [
        "a = np.arange(6).reshape(2,3)\n",
        "print(a)\n",
        "print(a.shape)\n",
        "print(a[np.newaxis])\n",
        "print(a[np.newaxis].shape)\n",
        "print(np.expand_dims(a,0))\n",
        "print(np.expand_dims(a, 0).shape)\n",
        "print(a.reshape(1,2,3))\n",
        "print(a.reshape(1,2,3).shape)"
      ],
      "execution_count": null,
      "outputs": [
        {
          "output_type": "stream",
          "text": [
            "[[0 1 2]\n",
            " [3 4 5]]\n",
            "(2, 3)\n",
            "[[[0 1 2]\n",
            "  [3 4 5]]]\n",
            "(1, 2, 3)\n",
            "[[[0 1 2]\n",
            "  [3 4 5]]]\n",
            "(1, 2, 3)\n",
            "[[[0 1 2]\n",
            "  [3 4 5]]]\n",
            "(1, 2, 3)\n"
          ],
          "name": "stdout"
        }
      ]
    },
    {
      "cell_type": "markdown",
      "metadata": {
        "id": "zbeUoZ_RoXSh",
        "colab_type": "text"
      },
      "source": [
        "## tuple *(ndarray) automatically change"
      ]
    },
    {
      "cell_type": "code",
      "metadata": {
        "id": "PBK8x4ThoS4E",
        "colab_type": "code",
        "colab": {
          "base_uri": "https://localhost:8080/",
          "height": 68
        },
        "outputId": "52f42c54-5205-483e-b8f9-d6d393254a87"
      },
      "source": [
        "print(a.reshape(1, *a.shape))\n",
        "print(a.reshape(1, *a.shape).shape)"
      ],
      "execution_count": null,
      "outputs": [
        {
          "output_type": "stream",
          "text": [
            "[[[0 1 2]\n",
            "  [3 4 5]]]\n",
            "(1, 2, 3)\n"
          ],
          "name": "stdout"
        }
      ]
    },
    {
      "cell_type": "markdown",
      "metadata": {
        "id": "D-n44mM6op1j",
        "colab_type": "text"
      },
      "source": [
        "# Transpose and axis switching ."
      ]
    },
    {
      "cell_type": "code",
      "metadata": {
        "id": "8eGAB_J2ogps",
        "colab_type": "code",
        "colab": {
          "base_uri": "https://localhost:8080/",
          "height": 102
        },
        "outputId": "839cb478-17fe-4f00-e7eb-b18bd45f2e0b"
      },
      "source": [
        "import numpy as np\n",
        "a_2d = np.arange(6).reshape(2,3)\n",
        "print(a_2d)\n",
        "a_2d_T = a_2d.T\n",
        "print(a_2d_T)"
      ],
      "execution_count": null,
      "outputs": [
        {
          "output_type": "stream",
          "text": [
            "[[0 1 2]\n",
            " [3 4 5]]\n",
            "[[0 3]\n",
            " [1 4]\n",
            " [2 5]]\n"
          ],
          "name": "stdout"
        }
      ]
    },
    {
      "cell_type": "code",
      "metadata": {
        "id": "xnz3i5xdpZ_e",
        "colab_type": "code",
        "colab": {
          "base_uri": "https://localhost:8080/",
          "height": 34
        },
        "outputId": "8afdba94-490d-46c3-d855-9e3b78b60099"
      },
      "source": [
        "print(np.shares_memory(a_2d, a_2d_T))"
      ],
      "execution_count": null,
      "outputs": [
        {
          "output_type": "stream",
          "text": [
            "True\n"
          ],
          "name": "stdout"
        }
      ]
    },
    {
      "cell_type": "code",
      "metadata": {
        "id": "b1wkIzx4pk1z",
        "colab_type": "code",
        "colab": {
          "base_uri": "https://localhost:8080/",
          "height": 68
        },
        "outputId": "d931b6de-0cdb-4589-e48d-13dd7bfdd902"
      },
      "source": [
        "a_2d_T[0,1] = 100\n",
        "print(a_2d_T)"
      ],
      "execution_count": null,
      "outputs": [
        {
          "output_type": "stream",
          "text": [
            "[[  0 100]\n",
            " [  1   4]\n",
            " [  2   5]]\n"
          ],
          "name": "stdout"
        }
      ]
    },
    {
      "cell_type": "code",
      "metadata": {
        "id": "iBnqQYjapxbs",
        "colab_type": "code",
        "colab": {
          "base_uri": "https://localhost:8080/",
          "height": 136
        },
        "outputId": "19578228-f074-41ec-947c-fa74d60e524a"
      },
      "source": [
        "print(a_2d)\n",
        "a_2d[1,0] = 3\n",
        "print(a_2d)\n",
        "print(a_2d_T)"
      ],
      "execution_count": null,
      "outputs": [
        {
          "output_type": "stream",
          "text": [
            "[[  0   1   2]\n",
            " [100   4   5]]\n",
            "[[0 1 2]\n",
            " [3 4 5]]\n",
            "[[0 3]\n",
            " [1 4]\n",
            " [2 5]]\n"
          ],
          "name": "stdout"
        }
      ]
    },
    {
      "cell_type": "markdown",
      "metadata": {
        "id": "ihVrB4VBqBEU",
        "colab_type": "text"
      },
      "source": [
        "## ndarray method transpose()"
      ]
    },
    {
      "cell_type": "code",
      "metadata": {
        "id": "AvOK5trVp088",
        "colab_type": "code",
        "colab": {
          "base_uri": "https://localhost:8080/",
          "height": 68
        },
        "outputId": "28cc8aac-c6de-4628-9ff6-47bc6be90286"
      },
      "source": [
        "print(a_2d.transpose())"
      ],
      "execution_count": null,
      "outputs": [
        {
          "output_type": "stream",
          "text": [
            "[[0 3]\n",
            " [1 4]\n",
            " [2 5]]\n"
          ],
          "name": "stdout"
        }
      ]
    },
    {
      "cell_type": "markdown",
      "metadata": {
        "id": "eDzbdbh5qGxF",
        "colab_type": "text"
      },
      "source": [
        "## numpy.transpose()"
      ]
    },
    {
      "cell_type": "code",
      "metadata": {
        "id": "2wwW2_TAqFzs",
        "colab_type": "code",
        "colab": {
          "base_uri": "https://localhost:8080/",
          "height": 68
        },
        "outputId": "102ee62a-e5f3-44b7-c969-da777ea9b163"
      },
      "source": [
        "print(np.transpose(a_2d))"
      ],
      "execution_count": null,
      "outputs": [
        {
          "output_type": "stream",
          "text": [
            "[[0 3]\n",
            " [1 4]\n",
            " [2 5]]\n"
          ],
          "name": "stdout"
        }
      ]
    },
    {
      "cell_type": "markdown",
      "metadata": {
        "id": "KFGL1simqi5b",
        "colab_type": "text"
      },
      "source": [
        "## ops ! 1 only dimension have no effect !"
      ]
    },
    {
      "cell_type": "code",
      "metadata": {
        "id": "MOK5StUyqMi0",
        "colab_type": "code",
        "colab": {
          "base_uri": "https://localhost:8080/",
          "height": 85
        },
        "outputId": "31f553c3-f52c-4611-b75c-a4801011cc3a"
      },
      "source": [
        "a_1d = np.arange(3)\n",
        "print(a_1d)\n",
        "print(a_1d.T)\n",
        "print(a_1d.transpose())\n",
        "print(np.transpose(a_1d))"
      ],
      "execution_count": null,
      "outputs": [
        {
          "output_type": "stream",
          "text": [
            "[0 1 2]\n",
            "[0 1 2]\n",
            "[0 1 2]\n",
            "[0 1 2]\n"
          ],
          "name": "stdout"
        }
      ]
    },
    {
      "cell_type": "code",
      "metadata": {
        "id": "C71eSnhYqg-0",
        "colab_type": "code",
        "colab": {
          "base_uri": "https://localhost:8080/",
          "height": 68
        },
        "outputId": "b0ce4ce8-127b-4d1c-e163-6510eaa4f31d"
      },
      "source": [
        "a_row = a_1d.reshape(1, -1)\n",
        "print(a_row)\n",
        "print(a_row.shape)\n",
        "print(a_row.ndim)"
      ],
      "execution_count": null,
      "outputs": [
        {
          "output_type": "stream",
          "text": [
            "[[0 1 2]]\n",
            "(1, 3)\n",
            "2\n"
          ],
          "name": "stdout"
        }
      ]
    },
    {
      "cell_type": "code",
      "metadata": {
        "id": "H9NHP5W5rbAO",
        "colab_type": "code",
        "colab": {
          "base_uri": "https://localhost:8080/",
          "height": 102
        },
        "outputId": "8cc9ecb0-0671-4e48-b223-52d7ed9cb0aa"
      },
      "source": [
        "a_col = a_1d.reshape(-1,1)\n",
        "print(a_col)\n",
        "print(a_col.shape)\n",
        "print(a_col.ndim)"
      ],
      "execution_count": null,
      "outputs": [
        {
          "output_type": "stream",
          "text": [
            "[[0]\n",
            " [1]\n",
            " [2]]\n",
            "(3, 1)\n",
            "2\n"
          ],
          "name": "stdout"
        }
      ]
    },
    {
      "cell_type": "code",
      "metadata": {
        "id": "U9TF8ASSrht0",
        "colab_type": "code",
        "colab": {
          "base_uri": "https://localhost:8080/",
          "height": 85
        },
        "outputId": "d8086148-f861-4a3b-be46-2af1e82fe90c"
      },
      "source": [
        "print(a_row.T)\n",
        "print(a_col.T)"
      ],
      "execution_count": null,
      "outputs": [
        {
          "output_type": "stream",
          "text": [
            "[[0]\n",
            " [1]\n",
            " [2]]\n",
            "[[0 1 2]]\n"
          ],
          "name": "stdout"
        }
      ]
    },
    {
      "cell_type": "markdown",
      "metadata": {
        "id": "SjKrua2or36f",
        "colab_type": "text"
      },
      "source": [
        "## 3 dimension"
      ]
    },
    {
      "cell_type": "code",
      "metadata": {
        "id": "5yztedbvrnLm",
        "colab_type": "code",
        "colab": {
          "base_uri": "https://localhost:8080/",
          "height": 408
        },
        "outputId": "f57aed7a-b032-490c-ed55-c0f0cbe90a32"
      },
      "source": [
        "a_3d = np.arange(24).reshape(2,3,4)\n",
        "print(a_3d)\n",
        "print(a_3d.T)\n",
        "print(a_3d.T.shape)"
      ],
      "execution_count": null,
      "outputs": [
        {
          "output_type": "stream",
          "text": [
            "[[[ 0  1  2  3]\n",
            "  [ 4  5  6  7]\n",
            "  [ 8  9 10 11]]\n",
            "\n",
            " [[12 13 14 15]\n",
            "  [16 17 18 19]\n",
            "  [20 21 22 23]]]\n",
            "[[[ 0 12]\n",
            "  [ 4 16]\n",
            "  [ 8 20]]\n",
            "\n",
            " [[ 1 13]\n",
            "  [ 5 17]\n",
            "  [ 9 21]]\n",
            "\n",
            " [[ 2 14]\n",
            "  [ 6 18]\n",
            "  [10 22]]\n",
            "\n",
            " [[ 3 15]\n",
            "  [ 7 19]\n",
            "  [11 23]]]\n",
            "(4, 3, 2)\n"
          ],
          "name": "stdout"
        }
      ]
    },
    {
      "cell_type": "markdown",
      "metadata": {
        "id": "0P5U3MWisGM0",
        "colab_type": "text"
      },
      "source": [
        "## can designate (2,1,0), (0,1,2)..."
      ]
    },
    {
      "cell_type": "code",
      "metadata": {
        "id": "xzE6b9mDr9RU",
        "colab_type": "code",
        "colab": {
          "base_uri": "https://localhost:8080/",
          "height": 289
        },
        "outputId": "48396956-b2a8-4aec-fb64-98f1d3eb75c9"
      },
      "source": [
        "print(a_3d.transpose(2,1,0))\n",
        "print(a_3d.transpose(2,1,0).shape)"
      ],
      "execution_count": null,
      "outputs": [
        {
          "output_type": "stream",
          "text": [
            "[[[ 0 12]\n",
            "  [ 4 16]\n",
            "  [ 8 20]]\n",
            "\n",
            " [[ 1 13]\n",
            "  [ 5 17]\n",
            "  [ 9 21]]\n",
            "\n",
            " [[ 2 14]\n",
            "  [ 6 18]\n",
            "  [10 22]]\n",
            "\n",
            " [[ 3 15]\n",
            "  [ 7 19]\n",
            "  [11 23]]]\n",
            "(4, 3, 2)\n"
          ],
          "name": "stdout"
        }
      ]
    },
    {
      "cell_type": "code",
      "metadata": {
        "id": "SePxpZo5sNnd",
        "colab_type": "code",
        "colab": {
          "base_uri": "https://localhost:8080/",
          "height": 34
        },
        "outputId": "16ecb266-7fa5-4891-dd71-331265e700ca"
      },
      "source": [
        "print(np.transpose(a_3d, (2,1,0)).shape) # tuple only !"
      ],
      "execution_count": null,
      "outputs": [
        {
          "output_type": "stream",
          "text": [
            "(4, 3, 2)\n"
          ],
          "name": "stdout"
        }
      ]
    },
    {
      "cell_type": "markdown",
      "metadata": {
        "id": "qhCzXBbNsdy9",
        "colab_type": "text"
      },
      "source": [
        "## multiple matrix at once ! n's contents ... (n, rows, columns) can change rows and columns easily!"
      ]
    },
    {
      "cell_type": "code",
      "metadata": {
        "id": "ODoWEkZDsU_w",
        "colab_type": "code",
        "colab": {
          "base_uri": "https://localhost:8080/",
          "height": 323
        },
        "outputId": "9ef3a8d8-2225-4b26-ad31-8c0ef5e57a4f"
      },
      "source": [
        "print(a_3d)\n",
        "print(a_3d.shape)\n",
        "print(a_3d.transpose(0, 2, 1))\n",
        "print(a_3d.transpose(0,2,1).shape)"
      ],
      "execution_count": null,
      "outputs": [
        {
          "output_type": "stream",
          "text": [
            "[[[ 0  1  2  3]\n",
            "  [ 4  5  6  7]\n",
            "  [ 8  9 10 11]]\n",
            "\n",
            " [[12 13 14 15]\n",
            "  [16 17 18 19]\n",
            "  [20 21 22 23]]]\n",
            "(2, 3, 4)\n",
            "[[[ 0  4  8]\n",
            "  [ 1  5  9]\n",
            "  [ 2  6 10]\n",
            "  [ 3  7 11]]\n",
            "\n",
            " [[12 16 20]\n",
            "  [13 17 21]\n",
            "  [14 18 22]\n",
            "  [15 19 23]]]\n",
            "(2, 4, 3)\n"
          ],
          "name": "stdout"
        }
      ]
    },
    {
      "cell_type": "markdown",
      "metadata": {
        "id": "xWR_2I0vs4BH",
        "colab_type": "text"
      },
      "source": [
        "## if contents (rows, columns, n) ... ?!"
      ]
    },
    {
      "cell_type": "code",
      "metadata": {
        "id": "4X6JA6aEs2V_",
        "colab_type": "code",
        "colab": {
          "base_uri": "https://localhost:8080/",
          "height": 204
        },
        "outputId": "9cc09426-428d-473f-84c1-ae6143fc3c69"
      },
      "source": [
        "print(a_3d.transpose(1, 0, 2))\n",
        "print(a_3d.transpose(1,0, 2).shape)\n",
        "print(a_3d[:,:,0])"
      ],
      "execution_count": null,
      "outputs": [
        {
          "output_type": "stream",
          "text": [
            "[[[ 0  1  2  3]\n",
            "  [12 13 14 15]]\n",
            "\n",
            " [[ 4  5  6  7]\n",
            "  [16 17 18 19]]\n",
            "\n",
            " [[ 8  9 10 11]\n",
            "  [20 21 22 23]]]\n",
            "(3, 2, 4)\n",
            "[[ 0  4  8]\n",
            " [12 16 20]]\n"
          ],
          "name": "stdout"
        }
      ]
    },
    {
      "cell_type": "code",
      "metadata": {
        "id": "FdCe7LaRtEF7",
        "colab_type": "code",
        "colab": {
          "base_uri": "https://localhost:8080/",
          "height": 68
        },
        "outputId": "d21de54f-ed6f-43c0-ecc0-9bcb1cbc89e2"
      },
      "source": [
        "print(a_3d.transpose(1,0,2)[:,:,0])"
      ],
      "execution_count": null,
      "outputs": [
        {
          "output_type": "stream",
          "text": [
            "[[ 0 12]\n",
            " [ 4 16]\n",
            " [ 8 20]]\n"
          ],
          "name": "stdout"
        }
      ]
    },
    {
      "cell_type": "markdown",
      "metadata": {
        "id": "JhveCMtpteuX",
        "colab_type": "text"
      },
      "source": [
        "# Brouadcast.. rules"
      ]
    },
    {
      "cell_type": "code",
      "metadata": {
        "id": "zgguyAiltMVO",
        "colab_type": "code",
        "colab": {
          "base_uri": "https://localhost:8080/",
          "height": 119
        },
        "outputId": "22db4547-85da-4362-d017-f99fbc596754"
      },
      "source": [
        "import numpy as np\n",
        "a = np.zeros((3,3), np.int)\n",
        "print(a)\n",
        "print(a.shape)\n",
        "b = np.arange(3)\n",
        "print(b)\n",
        "print(b.shape)"
      ],
      "execution_count": null,
      "outputs": [
        {
          "output_type": "stream",
          "text": [
            "[[0 0 0]\n",
            " [0 0 0]\n",
            " [0 0 0]]\n",
            "(3, 3)\n",
            "[0 1 2]\n",
            "(3,)\n"
          ],
          "name": "stdout"
        }
      ]
    },
    {
      "cell_type": "code",
      "metadata": {
        "id": "FfeObj8DtvEm",
        "colab_type": "code",
        "colab": {
          "base_uri": "https://localhost:8080/",
          "height": 68
        },
        "outputId": "a3d91575-f72e-4b67-caec-f87bc05107d9"
      },
      "source": [
        "print(a + b)"
      ],
      "execution_count": null,
      "outputs": [
        {
          "output_type": "stream",
          "text": [
            "[[0 1 2]\n",
            " [0 1 2]\n",
            " [0 1 2]]\n"
          ],
          "name": "stdout"
        }
      ]
    },
    {
      "cell_type": "code",
      "metadata": {
        "id": "JIuE_Qj2txUU",
        "colab_type": "code",
        "colab": {
          "base_uri": "https://localhost:8080/",
          "height": 51
        },
        "outputId": "9c8368a0-6e67-44e7-ab2b-98f21a9b6e3f"
      },
      "source": [
        "b_1_3 = b.reshape(1,3)\n",
        "print(b_1_3)\n",
        "print(b_1_3.shape)"
      ],
      "execution_count": null,
      "outputs": [
        {
          "output_type": "stream",
          "text": [
            "[[0 1 2]]\n",
            "(1, 3)\n"
          ],
          "name": "stdout"
        }
      ]
    },
    {
      "cell_type": "code",
      "metadata": {
        "id": "lrEbnPAluW9H",
        "colab_type": "code",
        "colab": {
          "base_uri": "https://localhost:8080/",
          "height": 68
        },
        "outputId": "b7d4a32b-1326-496d-bc9a-917917575904"
      },
      "source": [
        "print(np.tile(b_1_3, (3,1)))"
      ],
      "execution_count": null,
      "outputs": [
        {
          "output_type": "stream",
          "text": [
            "[[0 1 2]\n",
            " [0 1 2]\n",
            " [0 1 2]]\n"
          ],
          "name": "stdout"
        }
      ]
    },
    {
      "cell_type": "code",
      "metadata": {
        "id": "mMKSHRw1uaWn",
        "colab_type": "code",
        "colab": {
          "base_uri": "https://localhost:8080/",
          "height": 136
        },
        "outputId": "6720e009-8cee-479f-8011-797237e5a65a"
      },
      "source": [
        "b_3_1 = b.reshape(3,1)\n",
        "print(b_3_1)\n",
        "print(b_3_1.shape)\n",
        "print(a + b_3_1)"
      ],
      "execution_count": null,
      "outputs": [
        {
          "output_type": "stream",
          "text": [
            "[[0]\n",
            " [1]\n",
            " [2]]\n",
            "(3, 1)\n",
            "[[0 0 0]\n",
            " [1 1 1]\n",
            " [2 2 2]]\n"
          ],
          "name": "stdout"
        }
      ]
    },
    {
      "cell_type": "code",
      "metadata": {
        "id": "YKG_pgTeukKd",
        "colab_type": "code",
        "colab": {
          "base_uri": "https://localhost:8080/",
          "height": 68
        },
        "outputId": "b7a81fac-32a8-4aa0-e0f4-a6e18defb5d7"
      },
      "source": [
        "print(np.tile(b_3_1, (1,3)))"
      ],
      "execution_count": null,
      "outputs": [
        {
          "output_type": "stream",
          "text": [
            "[[0 0 0]\n",
            " [1 1 1]\n",
            " [2 2 2]]\n"
          ],
          "name": "stdout"
        }
      ]
    },
    {
      "cell_type": "code",
      "metadata": {
        "id": "5Kb4jGNButIl",
        "colab_type": "code",
        "colab": {
          "base_uri": "https://localhost:8080/",
          "height": 170
        },
        "outputId": "22ad9215-3101-4ebc-a0fd-bceaccc63372"
      },
      "source": [
        "print(b_1_3)\n",
        "print(b_1_3.shape)\n",
        "print(b_3_1)\n",
        "print(b_3_1.shape)\n",
        "print(b_1_3 + b_3_1)"
      ],
      "execution_count": null,
      "outputs": [
        {
          "output_type": "stream",
          "text": [
            "[[0 1 2]]\n",
            "(1, 3)\n",
            "[[0]\n",
            " [1]\n",
            " [2]]\n",
            "(3, 1)\n",
            "[[0 1 2]\n",
            " [1 2 3]\n",
            " [2 3 4]]\n"
          ],
          "name": "stdout"
        }
      ]
    },
    {
      "cell_type": "code",
      "metadata": {
        "id": "cv8VBrQQu0Hn",
        "colab_type": "code",
        "colab": {
          "base_uri": "https://localhost:8080/",
          "height": 170
        },
        "outputId": "4939bddf-5fd7-4a30-8adf-4e6b66ff8d10"
      },
      "source": [
        "print(np.tile(b_1_3, (3,1)))\n",
        "print(np.tile(b_3_1, (1,3)))\n",
        "print(np.tile(b_1_3, (3,1)) + np.tile(b_3_1, (1,3)))"
      ],
      "execution_count": null,
      "outputs": [
        {
          "output_type": "stream",
          "text": [
            "[[0 1 2]\n",
            " [0 1 2]\n",
            " [0 1 2]]\n",
            "[[0 0 0]\n",
            " [1 1 1]\n",
            " [2 2 2]]\n",
            "[[0 1 2]\n",
            " [1 2 3]\n",
            " [2 3 4]]\n"
          ],
          "name": "stdout"
        }
      ]
    },
    {
      "cell_type": "code",
      "metadata": {
        "id": "z55cwnNbu8k9",
        "colab_type": "code",
        "colab": {
          "base_uri": "https://localhost:8080/",
          "height": 170
        },
        "outputId": "b4539f85-45b3-42e3-82cb-2892b90c9f3b"
      },
      "source": [
        "c = np.arange(4)\n",
        "print(c)\n",
        "print(c.shape)\n",
        "print(b_3_1)\n",
        "print(b_3_1.shape)\n",
        "print(c + b_3_1)"
      ],
      "execution_count": null,
      "outputs": [
        {
          "output_type": "stream",
          "text": [
            "[0 1 2 3]\n",
            "(4,)\n",
            "[[0]\n",
            " [1]\n",
            " [2]]\n",
            "(3, 1)\n",
            "[[0 1 2 3]\n",
            " [1 2 3 4]\n",
            " [2 3 4 5]]\n"
          ],
          "name": "stdout"
        }
      ]
    },
    {
      "cell_type": "code",
      "metadata": {
        "id": "myBOTeuFvCdd",
        "colab_type": "code",
        "colab": {
          "base_uri": "https://localhost:8080/",
          "height": 170
        },
        "outputId": "53c7cc50-d798-4d66-e401-291a4effdb3c"
      },
      "source": [
        "print(np.tile(c.reshape(1,4), (3,1)))\n",
        "print(np.tile(b_3_1, (1,4)))\n",
        "print(np.tile(c.reshape(1,4), (3,1)) + np.tile(b_3_1, (1, 4)))"
      ],
      "execution_count": null,
      "outputs": [
        {
          "output_type": "stream",
          "text": [
            "[[0 1 2 3]\n",
            " [0 1 2 3]\n",
            " [0 1 2 3]]\n",
            "[[0 0 0 0]\n",
            " [1 1 1 1]\n",
            " [2 2 2 2]]\n",
            "[[0 1 2 3]\n",
            " [1 2 3 4]\n",
            " [2 3 4 5]]\n"
          ],
          "name": "stdout"
        }
      ]
    },
    {
      "cell_type": "code",
      "metadata": {
        "id": "cOVeDQClvNL9",
        "colab_type": "code",
        "colab": {
          "base_uri": "https://localhost:8080/",
          "height": 136
        },
        "outputId": "8b0e251d-2232-4f89-b3a8-94a8f12516cd"
      },
      "source": [
        "a = np.zeros((2,3,4), dtype = np.int)\n",
        "print(a)"
      ],
      "execution_count": null,
      "outputs": [
        {
          "output_type": "stream",
          "text": [
            "[[[0 0 0 0]\n",
            "  [0 0 0 0]\n",
            "  [0 0 0 0]]\n",
            "\n",
            " [[0 0 0 0]\n",
            "  [0 0 0 0]\n",
            "  [0 0 0 0]]]\n"
          ],
          "name": "stdout"
        }
      ]
    },
    {
      "cell_type": "code",
      "metadata": {
        "id": "uyADTVYmvU1t",
        "colab_type": "code",
        "colab": {
          "base_uri": "https://localhost:8080/",
          "height": 187
        },
        "outputId": "946af9ac-02a0-40e6-9f59-f06ddb4ffc11"
      },
      "source": [
        "import numpy as np\n",
        "a = np.zeros((2,3,4), dtype = np.int)\n",
        "print(a)\n",
        "print(a.shape)\n",
        "b = np.arange(3)\n",
        "print(b)\n",
        "print(b.shape)"
      ],
      "execution_count": 2,
      "outputs": [
        {
          "output_type": "stream",
          "text": [
            "[[[0 0 0 0]\n",
            "  [0 0 0 0]\n",
            "  [0 0 0 0]]\n",
            "\n",
            " [[0 0 0 0]\n",
            "  [0 0 0 0]\n",
            "  [0 0 0 0]]]\n",
            "(2, 3, 4)\n",
            "[0 1 2]\n",
            "(3,)\n"
          ],
          "name": "stdout"
        }
      ]
    },
    {
      "cell_type": "code",
      "metadata": {
        "id": "k_X77XWpYPQz",
        "colab_type": "code",
        "colab": {
          "base_uri": "https://localhost:8080/",
          "height": 68
        },
        "outputId": "d18f293b-8ac7-4e0f-b65e-557b0a5cdafe"
      },
      "source": [
        "b_3_1 = b.reshape(3,1)\n",
        "print(b_3_1)"
      ],
      "execution_count": 3,
      "outputs": [
        {
          "output_type": "stream",
          "text": [
            "[[0]\n",
            " [1]\n",
            " [2]]\n"
          ],
          "name": "stdout"
        }
      ]
    },
    {
      "cell_type": "code",
      "metadata": {
        "id": "xFvz_xULYhuA",
        "colab_type": "code",
        "colab": {
          "base_uri": "https://localhost:8080/",
          "height": 34
        },
        "outputId": "5e8f762a-c135-4fe3-bb66-0ba71ddb04a8"
      },
      "source": [
        "print(b_3_1.shape)"
      ],
      "execution_count": 4,
      "outputs": [
        {
          "output_type": "stream",
          "text": [
            "(3, 1)\n"
          ],
          "name": "stdout"
        }
      ]
    },
    {
      "cell_type": "code",
      "metadata": {
        "id": "jJYjZRaIYi__",
        "colab_type": "code",
        "colab": {
          "base_uri": "https://localhost:8080/",
          "height": 136
        },
        "outputId": "175b1ccf-d0e0-42b8-e8b8-e6a4271db100"
      },
      "source": [
        "print(a + b_3_1)"
      ],
      "execution_count": 5,
      "outputs": [
        {
          "output_type": "stream",
          "text": [
            "[[[0 0 0 0]\n",
            "  [1 1 1 1]\n",
            "  [2 2 2 2]]\n",
            "\n",
            " [[0 0 0 0]\n",
            "  [1 1 1 1]\n",
            "  [2 2 2 2]]]\n"
          ],
          "name": "stdout"
        }
      ]
    },
    {
      "cell_type": "markdown",
      "metadata": {
        "id": "0wDBcDuZYmYi",
        "colab_type": "text"
      },
      "source": [
        "### naaaaaaaaaaaan\n",
        "NG<br>\n",
        "(2,3,4)<br>\n",
        "(　　3)<br>\n",
        "<br>\n",
        "OK<br>\n",
        "(2,3,4)<br>\n",
        "(　3,1) -> (1,3,1) -> (2,3,4)"
      ]
    },
    {
      "cell_type": "markdown",
      "metadata": {
        "id": "PaZ2RsHgZQKX",
        "colab_type": "text"
      },
      "source": [
        "## Multiplication broadcasts"
      ]
    },
    {
      "cell_type": "markdown",
      "metadata": {
        "id": "DzO89XxiZXSh",
        "colab_type": "text"
      },
      "source": [
        "## Elemental ( Adamant ) product"
      ]
    },
    {
      "cell_type": "code",
      "metadata": {
        "id": "OnfY-KbeYla_",
        "colab_type": "code",
        "colab": {
          "base_uri": "https://localhost:8080/",
          "height": 51
        },
        "outputId": "48311d56-6d7d-4990-fa3d-ad9d1c613722"
      },
      "source": [
        "a = b = np.arange(3)\n",
        "print(a)\n",
        "print(a.shape)"
      ],
      "execution_count": 6,
      "outputs": [
        {
          "output_type": "stream",
          "text": [
            "[0 1 2]\n",
            "(3,)\n"
          ],
          "name": "stdout"
        }
      ]
    },
    {
      "cell_type": "markdown",
      "metadata": {
        "id": "G-4bdmzQZi6t",
        "colab_type": "text"
      },
      "source": [
        "## you can use a*b or np.multipy(a,b)"
      ]
    },
    {
      "cell_type": "code",
      "metadata": {
        "id": "3YlnPx9KZfIS",
        "colab_type": "code",
        "colab": {
          "base_uri": "https://localhost:8080/",
          "height": 51
        },
        "outputId": "5f6472a6-e61e-4934-94c6-c8ea642a2f06"
      },
      "source": [
        "print(a * b)\n",
        "print(np.multiply(a,b))"
      ],
      "execution_count": 7,
      "outputs": [
        {
          "output_type": "stream",
          "text": [
            "[0 1 4]\n",
            "[0 1 4]\n"
          ],
          "name": "stdout"
        }
      ]
    },
    {
      "cell_type": "markdown",
      "metadata": {
        "id": "RGr3Tf30bM65",
        "colab_type": "text"
      },
      "source": [
        "## if the shape is different,broadcast."
      ]
    },
    {
      "cell_type": "code",
      "metadata": {
        "id": "bJLNYjLXZhx5",
        "colab_type": "code",
        "colab": {
          "base_uri": "https://localhost:8080/",
          "height": 102
        },
        "outputId": "157b2557-3fbb-47b3-bb7f-af4bb31fe70c"
      },
      "source": [
        "a_1_3 = a.reshape(1,3)\n",
        "print(a_1_3)\n",
        "print(a_1_3.shape)\n",
        "b_3_1 = b.reshape(3,1)\n",
        "print(b_3_1)"
      ],
      "execution_count": 8,
      "outputs": [
        {
          "output_type": "stream",
          "text": [
            "[[0 1 2]]\n",
            "(1, 3)\n",
            "[[0]\n",
            " [1]\n",
            " [2]]\n"
          ],
          "name": "stdout"
        }
      ]
    },
    {
      "cell_type": "code",
      "metadata": {
        "id": "raSc1K_kbnx6",
        "colab_type": "code",
        "colab": {
          "base_uri": "https://localhost:8080/",
          "height": 136
        },
        "outputId": "d89b221e-f83f-4b9d-d3dc-c91d689cecc0"
      },
      "source": [
        "print(b_3_1.shape)\n",
        "print(a_1_3 * b_3_1)\n",
        "print(np.multiply(a_1_3, b_3_1))"
      ],
      "execution_count": 9,
      "outputs": [
        {
          "output_type": "stream",
          "text": [
            "(3, 1)\n",
            "[[0 0 0]\n",
            " [0 1 2]\n",
            " [0 2 4]]\n",
            "[[0 0 0]\n",
            " [0 1 2]\n",
            " [0 2 4]]\n"
          ],
          "name": "stdout"
        }
      ]
    },
    {
      "cell_type": "code",
      "metadata": {
        "id": "geZ7mz2Mbt7_",
        "colab_type": "code",
        "colab": {
          "base_uri": "https://localhost:8080/",
          "height": 34
        },
        "outputId": "35efa1db-26fb-4619-dd52-15c1666efe69"
      },
      "source": [
        "print(a)"
      ],
      "execution_count": 10,
      "outputs": [
        {
          "output_type": "stream",
          "text": [
            "[0 1 2]\n"
          ],
          "name": "stdout"
        }
      ]
    },
    {
      "cell_type": "code",
      "metadata": {
        "id": "dKEyqYembzzf",
        "colab_type": "code",
        "colab": {
          "base_uri": "https://localhost:8080/",
          "height": 68
        },
        "outputId": "88ac231a-e124-44f1-c3bb-a3bb060d0b75"
      },
      "source": [
        "print(b_3_1)"
      ],
      "execution_count": 11,
      "outputs": [
        {
          "output_type": "stream",
          "text": [
            "[[0]\n",
            " [1]\n",
            " [2]]\n"
          ],
          "name": "stdout"
        }
      ]
    },
    {
      "cell_type": "code",
      "metadata": {
        "id": "lB-rGNMfb1MX",
        "colab_type": "code",
        "colab": {
          "base_uri": "https://localhost:8080/",
          "height": 68
        },
        "outputId": "d6e24a95-75d6-4caf-ea42-a5a0925cbb07"
      },
      "source": [
        "print(a * b_3_1)"
      ],
      "execution_count": 12,
      "outputs": [
        {
          "output_type": "stream",
          "text": [
            "[[0 0 0]\n",
            " [0 1 2]\n",
            " [0 2 4]]\n"
          ],
          "name": "stdout"
        }
      ]
    },
    {
      "cell_type": "code",
      "metadata": {
        "id": "kVa5Z2QLb88P",
        "colab_type": "code",
        "colab": {
          "base_uri": "https://localhost:8080/",
          "height": 68
        },
        "outputId": "9275a984-c1ec-43a0-8331-c3151f9025a7"
      },
      "source": [
        "print(np.multiply(a, b_3_1))"
      ],
      "execution_count": 13,
      "outputs": [
        {
          "output_type": "stream",
          "text": [
            "[[0 0 0]\n",
            " [0 1 2]\n",
            " [0 2 4]]\n"
          ],
          "name": "stdout"
        }
      ]
    },
    {
      "cell_type": "markdown",
      "metadata": {
        "id": "RO9cPh3ucGID",
        "colab_type": "text"
      },
      "source": [
        "# Matrix Product, use 'np.matmul()', @,'np.dot()'"
      ]
    },
    {
      "cell_type": "markdown",
      "metadata": {
        "id": "N3A0HtoZc1uH",
        "colab_type": "text"
      },
      "source": [
        "2D @ 2D <br>\n",
        "(n,m) @ (m,p) = (n,p)<br><br>\n",
        "\n",
        "1D @ 2D or 2D @ 1D<br>\n",
        "(m, ) @ (m, p) -> (1, m) @ (m, p) = (1, p) -> (p, )<br>\n",
        "(n, m)@ (m,　) -> (n, m) @ (m, 1) = (n, 1) -> (n, )<br>\n",
        "\n",
        "1D @ 1D<br>\n",
        "(m, ) @ (m, ) -> (1, m) @ (m, 1) = (1, 1) -> scalar<br>"
      ]
    },
    {
      "cell_type": "code",
      "metadata": {
        "id": "TngV9qhlcADf",
        "colab_type": "code",
        "colab": {
          "base_uri": "https://localhost:8080/",
          "height": 34
        },
        "outputId": "9b2e1201-06e5-4530-e0fb-c03488809b3d"
      },
      "source": [
        "print(a_1_3)"
      ],
      "execution_count": 15,
      "outputs": [
        {
          "output_type": "stream",
          "text": [
            "[[0 1 2]]\n"
          ],
          "name": "stdout"
        }
      ]
    },
    {
      "cell_type": "code",
      "metadata": {
        "id": "saNnX0gFd-Wj",
        "colab_type": "code",
        "colab": {
          "base_uri": "https://localhost:8080/",
          "height": 68
        },
        "outputId": "98441875-64b0-442e-a96e-239b8684e5ce"
      },
      "source": [
        "print(b_3_1)"
      ],
      "execution_count": 16,
      "outputs": [
        {
          "output_type": "stream",
          "text": [
            "[[0]\n",
            " [1]\n",
            " [2]]\n"
          ],
          "name": "stdout"
        }
      ]
    },
    {
      "cell_type": "code",
      "metadata": {
        "id": "0NAMABOeeBRB",
        "colab_type": "code",
        "colab": {
          "base_uri": "https://localhost:8080/",
          "height": 34
        },
        "outputId": "768c3ff9-bb3f-48fa-9299-338120e736d6"
      },
      "source": [
        "print(a_1_3 @ b_3_1)"
      ],
      "execution_count": 17,
      "outputs": [
        {
          "output_type": "stream",
          "text": [
            "[[5]]\n"
          ],
          "name": "stdout"
        }
      ]
    },
    {
      "cell_type": "code",
      "metadata": {
        "id": "JcN3TD2Peco5",
        "colab_type": "code",
        "colab": {
          "base_uri": "https://localhost:8080/",
          "height": 34
        },
        "outputId": "59ef98b9-3ecd-4020-afb0-488e5799b732"
      },
      "source": [
        "print(np.matmul(a_1_3, b_3_1))"
      ],
      "execution_count": 18,
      "outputs": [
        {
          "output_type": "stream",
          "text": [
            "[[5]]\n"
          ],
          "name": "stdout"
        }
      ]
    },
    {
      "cell_type": "code",
      "metadata": {
        "id": "nVyC_j17efDR",
        "colab_type": "code",
        "colab": {
          "base_uri": "https://localhost:8080/",
          "height": 34
        },
        "outputId": "70b268c7-d576-4a8e-a58e-2905fa873fbe"
      },
      "source": [
        "print(np.dot(a_1_3, b_3_1))"
      ],
      "execution_count": 19,
      "outputs": [
        {
          "output_type": "stream",
          "text": [
            "[[5]]\n"
          ],
          "name": "stdout"
        }
      ]
    },
    {
      "cell_type": "code",
      "metadata": {
        "id": "gsqbPG4feiSQ",
        "colab_type": "code",
        "colab": {
          "base_uri": "https://localhost:8080/",
          "height": 34
        },
        "outputId": "e0442859-55b8-444b-c71e-b80d7af1ddb4"
      },
      "source": [
        "print((a_1_3 @ b_3_1).shape)"
      ],
      "execution_count": 20,
      "outputs": [
        {
          "output_type": "stream",
          "text": [
            "(1, 1)\n"
          ],
          "name": "stdout"
        }
      ]
    },
    {
      "cell_type": "code",
      "metadata": {
        "id": "cIF1BXFIeklY",
        "colab_type": "code",
        "colab": {
          "base_uri": "https://localhost:8080/",
          "height": 51
        },
        "outputId": "2f336730-fd46-40a8-8c40-c1c6c4436051"
      },
      "source": [
        "print(a_1_3)\n",
        "print(b)"
      ],
      "execution_count": 21,
      "outputs": [
        {
          "output_type": "stream",
          "text": [
            "[[0 1 2]]\n",
            "[0 1 2]\n"
          ],
          "name": "stdout"
        }
      ]
    },
    {
      "cell_type": "code",
      "metadata": {
        "id": "pdOfCz2nenlX",
        "colab_type": "code",
        "colab": {
          "base_uri": "https://localhost:8080/",
          "height": 85
        },
        "outputId": "6ff51486-0a3a-4eb3-d703-ba62abe6e71c"
      },
      "source": [
        "print(a_1_3 @ b)\n",
        "print(np.matmul(a_1_3, b))\n",
        "print(np.dot(a_1_3, b))\n",
        "print((a_1_3 @ b).shape)"
      ],
      "execution_count": 22,
      "outputs": [
        {
          "output_type": "stream",
          "text": [
            "[5]\n",
            "[5]\n",
            "[5]\n",
            "(1,)\n"
          ],
          "name": "stdout"
        }
      ]
    },
    {
      "cell_type": "code",
      "metadata": {
        "id": "pjhs8sEyeweR",
        "colab_type": "code",
        "colab": {
          "base_uri": "https://localhost:8080/",
          "height": 51
        },
        "outputId": "88f7dda5-210c-4c12-b500-601179d13581"
      },
      "source": [
        "print(a)\n",
        "print(b)"
      ],
      "execution_count": 23,
      "outputs": [
        {
          "output_type": "stream",
          "text": [
            "[0 1 2]\n",
            "[0 1 2]\n"
          ],
          "name": "stdout"
        }
      ]
    },
    {
      "cell_type": "code",
      "metadata": {
        "id": "R5VeGaALeyzo",
        "colab_type": "code",
        "colab": {
          "base_uri": "https://localhost:8080/",
          "height": 68
        },
        "outputId": "edcf4c6f-0883-4e92-d1cc-e3ab770d43e8"
      },
      "source": [
        "print(a @ b)\n",
        "print(np.matmul(a,b))\n",
        "print(np.dot(a,b))"
      ],
      "execution_count": 24,
      "outputs": [
        {
          "output_type": "stream",
          "text": [
            "5\n",
            "5\n",
            "5\n"
          ],
          "name": "stdout"
        }
      ]
    },
    {
      "cell_type": "code",
      "metadata": {
        "id": "NsZNYO_re975",
        "colab_type": "code",
        "colab": {
          "base_uri": "https://localhost:8080/",
          "height": 68
        },
        "outputId": "2bb06bf7-a793-48dc-d21a-a273d7380d65"
      },
      "source": [
        "a = np.arange(6).reshape(2,3)\n",
        "print(a)\n",
        "b = np.arange(2).reshape(1,2)\n",
        "print(b)"
      ],
      "execution_count": 25,
      "outputs": [
        {
          "output_type": "stream",
          "text": [
            "[[0 1 2]\n",
            " [3 4 5]]\n",
            "[[0 1]]\n"
          ],
          "name": "stdout"
        }
      ]
    },
    {
      "cell_type": "code",
      "metadata": {
        "id": "mTDpp-Z4fE9o",
        "colab_type": "code",
        "colab": {
          "base_uri": "https://localhost:8080/",
          "height": 102
        },
        "outputId": "f5e3f90d-141e-48f6-9a09-b0108699900e"
      },
      "source": [
        "print(np.tile(b, (3,1)))\n",
        "print(a @ np.tile(b, (3,1)))"
      ],
      "execution_count": 26,
      "outputs": [
        {
          "output_type": "stream",
          "text": [
            "[[0 1]\n",
            " [0 1]\n",
            " [0 1]]\n",
            "[[ 0  3]\n",
            " [ 0 12]]\n"
          ],
          "name": "stdout"
        }
      ]
    },
    {
      "cell_type": "markdown",
      "metadata": {
        "id": "6SAMYU0LfP3-",
        "colab_type": "text"
      },
      "source": [
        "### function to get result of broadcast"
      ]
    },
    {
      "cell_type": "markdown",
      "metadata": {
        "id": "r_rVurfWfaCh",
        "colab_type": "text"
      },
      "source": [
        "#### np.broadcast_to"
      ]
    },
    {
      "cell_type": "code",
      "metadata": {
        "id": "M-QX0zE7fKpJ",
        "colab_type": "code",
        "colab": {
          "base_uri": "https://localhost:8080/",
          "height": 34
        },
        "outputId": "939c8904-19fd-4ddf-f00c-c05cb715d758"
      },
      "source": [
        "a = np.arange(3)\n",
        "print(a.shape)"
      ],
      "execution_count": 27,
      "outputs": [
        {
          "output_type": "stream",
          "text": [
            "(3,)\n"
          ],
          "name": "stdout"
        }
      ]
    },
    {
      "cell_type": "code",
      "metadata": {
        "id": "7DyV1zrafUpA",
        "colab_type": "code",
        "colab": {
          "base_uri": "https://localhost:8080/",
          "height": 68
        },
        "outputId": "d4187c98-c341-4bc6-edc4-d08d3253ba80"
      },
      "source": [
        "print(np.broadcast_to(a, (3,3)))"
      ],
      "execution_count": 28,
      "outputs": [
        {
          "output_type": "stream",
          "text": [
            "[[0 1 2]\n",
            " [0 1 2]\n",
            " [0 1 2]]\n"
          ],
          "name": "stdout"
        }
      ]
    },
    {
      "cell_type": "markdown",
      "metadata": {
        "id": "4JH-8OHCfeO_",
        "colab_type": "text"
      },
      "source": [
        "### multiple array broadcasted, : 'np.broadcast_arrays()'"
      ]
    },
    {
      "cell_type": "code",
      "metadata": {
        "id": "bakdIMulfX6y",
        "colab_type": "code",
        "colab": {
          "base_uri": "https://localhost:8080/",
          "height": 51
        },
        "outputId": "d0cfabfe-3d48-4023-ae2d-6bfe623cdc8d"
      },
      "source": [
        "a = np.arange(3)\n",
        "print(a)\n",
        "print(a.shape)"
      ],
      "execution_count": 29,
      "outputs": [
        {
          "output_type": "stream",
          "text": [
            "[0 1 2]\n",
            "(3,)\n"
          ],
          "name": "stdout"
        }
      ]
    },
    {
      "cell_type": "code",
      "metadata": {
        "id": "ZIkRbgPffoE0",
        "colab_type": "code",
        "colab": {
          "base_uri": "https://localhost:8080/",
          "height": 85
        },
        "outputId": "f4a3e4bb-1232-483c-88ba-0dc1690b26e3"
      },
      "source": [
        "b = np.arange(3).reshape(3,1)\n",
        "print(b)\n",
        "print(b.shape)"
      ],
      "execution_count": 34,
      "outputs": [
        {
          "output_type": "stream",
          "text": [
            "[[0]\n",
            " [1]\n",
            " [2]]\n",
            "(3, 1)\n"
          ],
          "name": "stdout"
        }
      ]
    },
    {
      "cell_type": "code",
      "metadata": {
        "id": "ik5bD_Xcfqvo",
        "colab_type": "code",
        "colab": {
          "base_uri": "https://localhost:8080/",
          "height": 51
        },
        "outputId": "546a60fe-e515-4961-c8e3-f5d24b54de1b"
      },
      "source": [
        "arrays = np.broadcast_arrays(a, b)\n",
        "print(type(arrays))\n",
        "print(len(arrays))"
      ],
      "execution_count": 32,
      "outputs": [
        {
          "output_type": "stream",
          "text": [
            "<class 'list'>\n",
            "2\n"
          ],
          "name": "stdout"
        }
      ]
    },
    {
      "cell_type": "code",
      "metadata": {
        "id": "n27IT5hafuwI",
        "colab_type": "code",
        "colab": {
          "base_uri": "https://localhost:8080/",
          "height": 136
        },
        "outputId": "2ea15f7b-c684-4bce-89e6-796fe1d93a93"
      },
      "source": [
        "print(arrays[0])\n",
        "print(arrays[1])\n",
        "print(type(arrays[0]))"
      ],
      "execution_count": 33,
      "outputs": [
        {
          "output_type": "stream",
          "text": [
            "[[0 1 2]\n",
            " [0 1 2]\n",
            " [0 1 2]]\n",
            "[[0 0 0]\n",
            " [1 1 1]\n",
            " [2 2 2]]\n",
            "<class 'numpy.ndarray'>\n"
          ],
          "name": "stdout"
        }
      ]
    },
    {
      "cell_type": "code",
      "metadata": {
        "id": "1D8Uv6-Nf23Q",
        "colab_type": "code",
        "colab": {}
      },
      "source": [
        ""
      ],
      "execution_count": null,
      "outputs": []
    }
  ]
}