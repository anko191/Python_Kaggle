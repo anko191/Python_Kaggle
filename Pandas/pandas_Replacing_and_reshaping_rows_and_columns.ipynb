{
  "nbformat": 4,
  "nbformat_minor": 0,
  "metadata": {
    "colab": {
      "name": "pandas_Replacing_and_reshaping_rows_and_columns",
      "provenance": [],
      "collapsed_sections": [],
      "authorship_tag": "ABX9TyMD+5H/afWlmL81tWJ2D4y5",
      "include_colab_link": true
    },
    "kernelspec": {
      "name": "python3",
      "display_name": "Python 3"
    }
  },
  "cells": [
    {
      "cell_type": "markdown",
      "metadata": {
        "id": "view-in-github",
        "colab_type": "text"
      },
      "source": [
        "<a href=\"https://colab.research.google.com/github/anko191/Python_Kaggle/blob/master/pandas/pandas_Replacing_and_reshaping_rows_and_columns.ipynb\" target=\"_parent\"><img src=\"https://colab.research.google.com/assets/colab-badge.svg\" alt=\"Open In Colab\"/></a>"
      ]
    },
    {
      "cell_type": "code",
      "metadata": {
        "id": "lWOpwx9x7ZXi",
        "colab_type": "code",
        "colab": {
          "base_uri": "https://localhost:8080/",
          "height": 136
        },
        "outputId": "9f800efa-4b98-4add-ad78-84aeaf0d18dc"
      },
      "source": [
        "import pandas as pd\n",
        "df = pd.DataFrame({'X':[0,1,2], 'Y':[3,4,5]},\n",
        "                  index = ['A', 'B', 'C'])\n",
        "print(df)\n",
        "print(df.T)"
      ],
      "execution_count": 171,
      "outputs": [
        {
          "output_type": "stream",
          "text": [
            "   X  Y\n",
            "A  0  3\n",
            "B  1  4\n",
            "C  2  5\n",
            "   A  B  C\n",
            "X  0  1  2\n",
            "Y  3  4  5\n"
          ],
          "name": "stdout"
        }
      ]
    },
    {
      "cell_type": "code",
      "metadata": {
        "id": "WZZ7xeFh76aJ",
        "colab_type": "code",
        "colab": {
          "base_uri": "https://localhost:8080/",
          "height": 68
        },
        "outputId": "d769cf86-2ede-4fad-ea8a-b5322bd15884"
      },
      "source": [
        "print(df.dtypes)"
      ],
      "execution_count": 172,
      "outputs": [
        {
          "output_type": "stream",
          "text": [
            "X    int64\n",
            "Y    int64\n",
            "dtype: object\n"
          ],
          "name": "stdout"
        }
      ]
    },
    {
      "cell_type": "code",
      "metadata": {
        "id": "T8WkEd0N8Adp",
        "colab_type": "code",
        "colab": {
          "base_uri": "https://localhost:8080/",
          "height": 85
        },
        "outputId": "87a1a7fc-a208-44a8-94ac-f962d991587d"
      },
      "source": [
        "print(df.T.dtypes)"
      ],
      "execution_count": 173,
      "outputs": [
        {
          "output_type": "stream",
          "text": [
            "A    int64\n",
            "B    int64\n",
            "C    int64\n",
            "dtype: object\n"
          ],
          "name": "stdout"
        }
      ]
    },
    {
      "cell_type": "code",
      "metadata": {
        "id": "THh71O6E8B_w",
        "colab_type": "code",
        "colab": {
          "base_uri": "https://localhost:8080/",
          "height": 85
        },
        "outputId": "1fb057bb-b3a4-401a-ad49-fad9f149f9a2"
      },
      "source": [
        "df_mix = pd.DataFrame({'col_int': [0, 1, 2], 'col_float': [0.1, 0.2, 0.3]}, index=['A', 'B', 'C'])\n",
        "print(df_mix)"
      ],
      "execution_count": 174,
      "outputs": [
        {
          "output_type": "stream",
          "text": [
            "   col_int  col_float\n",
            "A        0        0.1\n",
            "B        1        0.2\n",
            "C        2        0.3\n"
          ],
          "name": "stdout"
        }
      ]
    },
    {
      "cell_type": "code",
      "metadata": {
        "id": "XQxA6bJr8GDI",
        "colab_type": "code",
        "colab": {
          "base_uri": "https://localhost:8080/",
          "height": 68
        },
        "outputId": "af248ee8-312b-4831-acaf-6fb0a886b12d"
      },
      "source": [
        "print(df_mix.dtypes)"
      ],
      "execution_count": 175,
      "outputs": [
        {
          "output_type": "stream",
          "text": [
            "col_int        int64\n",
            "col_float    float64\n",
            "dtype: object\n"
          ],
          "name": "stdout"
        }
      ]
    },
    {
      "cell_type": "code",
      "metadata": {
        "id": "xcl02_rL8Ijg",
        "colab_type": "code",
        "colab": {
          "base_uri": "https://localhost:8080/",
          "height": 68
        },
        "outputId": "4a11d690-2544-45a9-faa3-3cd9dba2a323"
      },
      "source": [
        "print(df_mix.T)"
      ],
      "execution_count": 176,
      "outputs": [
        {
          "output_type": "stream",
          "text": [
            "             A    B    C\n",
            "col_int    0.0  1.0  2.0\n",
            "col_float  0.1  0.2  0.3\n"
          ],
          "name": "stdout"
        }
      ]
    },
    {
      "cell_type": "code",
      "metadata": {
        "id": "L4IRCFKE8J8F",
        "colab_type": "code",
        "colab": {
          "base_uri": "https://localhost:8080/",
          "height": 85
        },
        "outputId": "d62a7e46-1e90-4257-b396-fd1d7538e25c"
      },
      "source": [
        "print(df_mix.T.dtypes)"
      ],
      "execution_count": 177,
      "outputs": [
        {
          "output_type": "stream",
          "text": [
            "A    float64\n",
            "B    float64\n",
            "C    float64\n",
            "dtype: object\n"
          ],
          "name": "stdout"
        }
      ]
    },
    {
      "cell_type": "code",
      "metadata": {
        "id": "uGEjmxLg8L1X",
        "colab_type": "code",
        "colab": {
          "base_uri": "https://localhost:8080/",
          "height": 85
        },
        "outputId": "6f716a0f-750a-4a38-cd4e-49ef502503b7"
      },
      "source": [
        "df_mix2 = pd.DataFrame({'col_int': [0, 1, 2], 'col_float': [0.1, 0.2, 0.3], 'col_str': ['a', 'b', 'c']},\n",
        "                       index=['A', 'B', 'C'])\n",
        "print(df_mix2)"
      ],
      "execution_count": 178,
      "outputs": [
        {
          "output_type": "stream",
          "text": [
            "   col_int  col_float col_str\n",
            "A        0        0.1       a\n",
            "B        1        0.2       b\n",
            "C        2        0.3       c\n"
          ],
          "name": "stdout"
        }
      ]
    },
    {
      "cell_type": "code",
      "metadata": {
        "id": "di8xI20n9fNY",
        "colab_type": "code",
        "colab": {
          "base_uri": "https://localhost:8080/",
          "height": 221
        },
        "outputId": "a4462f23-d5a6-4f28-cb0b-e4ab6a98e7fb"
      },
      "source": [
        "print(df_mix2.dtypes)\n",
        "print(df_mix2.T)\n",
        "print(df_mix2.T.dtypes)"
      ],
      "execution_count": 179,
      "outputs": [
        {
          "output_type": "stream",
          "text": [
            "col_int        int64\n",
            "col_float    float64\n",
            "col_str       object\n",
            "dtype: object\n",
            "             A    B    C\n",
            "col_int      0    1    2\n",
            "col_float  0.1  0.2  0.3\n",
            "col_str      a    b    c\n",
            "A    object\n",
            "B    object\n",
            "C    object\n",
            "dtype: object\n"
          ],
          "name": "stdout"
        }
      ]
    },
    {
      "cell_type": "code",
      "metadata": {
        "id": "0ITEK8Ro9jaY",
        "colab_type": "code",
        "colab": {
          "base_uri": "https://localhost:8080/",
          "height": 85
        },
        "outputId": "b35d3bdb-b485-49b1-a751-2d80242a5dd1"
      },
      "source": [
        "print(df_mix2.T.T)"
      ],
      "execution_count": 180,
      "outputs": [
        {
          "output_type": "stream",
          "text": [
            "  col_int col_float col_str\n",
            "A       0       0.1       a\n",
            "B       1       0.2       b\n",
            "C       2       0.3       c\n"
          ],
          "name": "stdout"
        }
      ]
    },
    {
      "cell_type": "code",
      "metadata": {
        "id": "6pabjbyg9krZ",
        "colab_type": "code",
        "colab": {
          "base_uri": "https://localhost:8080/",
          "height": 85
        },
        "outputId": "128f3b4a-c36c-4a53-c870-293adf7502ce"
      },
      "source": [
        "print(df_mix2.T.T.dtypes)"
      ],
      "execution_count": 181,
      "outputs": [
        {
          "output_type": "stream",
          "text": [
            "col_int      object\n",
            "col_float    object\n",
            "col_str      object\n",
            "dtype: object\n"
          ],
          "name": "stdout"
        }
      ]
    },
    {
      "cell_type": "code",
      "metadata": {
        "id": "yFoG1m-W9mfg",
        "colab_type": "code",
        "colab": {
          "base_uri": "https://localhost:8080/",
          "height": 85
        },
        "outputId": "fc73871a-d936-4467-b7c1-ca24861530cf"
      },
      "source": [
        "df = pd.DataFrame({'X': [0, 1, 2], 'Y': [3, 4, 5]}, index=['A', 'B', 'C'])\n",
        "print(df)"
      ],
      "execution_count": 182,
      "outputs": [
        {
          "output_type": "stream",
          "text": [
            "   X  Y\n",
            "A  0  3\n",
            "B  1  4\n",
            "C  2  5\n"
          ],
          "name": "stdout"
        }
      ]
    },
    {
      "cell_type": "code",
      "metadata": {
        "id": "kT5cVBeP9zQh",
        "colab_type": "code",
        "colab": {
          "base_uri": "https://localhost:8080/",
          "height": 68
        },
        "outputId": "4949ccd1-a8ed-4994-8be1-278867ce9d72"
      },
      "source": [
        "df_T_copy = df.T.copy()\n",
        "print(df_T_copy)"
      ],
      "execution_count": 183,
      "outputs": [
        {
          "output_type": "stream",
          "text": [
            "   A  B  C\n",
            "X  0  1  2\n",
            "Y  3  4  5\n"
          ],
          "name": "stdout"
        }
      ]
    },
    {
      "cell_type": "code",
      "metadata": {
        "id": "eQ990VK--LP6",
        "colab_type": "code",
        "colab": {
          "base_uri": "https://localhost:8080/",
          "height": 136
        },
        "outputId": "2b26bf1b-0161-453b-bdf2-8967b012625a"
      },
      "source": [
        "df_transpose_copy = df.transpose(copy = True)\n",
        "print(df_transpose_copy)\n",
        "df.at['A', 'X'] = 100\n",
        "print(df)"
      ],
      "execution_count": 184,
      "outputs": [
        {
          "output_type": "stream",
          "text": [
            "   A  B  C\n",
            "X  0  1  2\n",
            "Y  3  4  5\n",
            "     X  Y\n",
            "A  100  3\n",
            "B    1  4\n",
            "C    2  5\n"
          ],
          "name": "stdout"
        }
      ]
    },
    {
      "cell_type": "code",
      "metadata": {
        "id": "UtMBUo1Q-SBC",
        "colab_type": "code",
        "colab": {
          "base_uri": "https://localhost:8080/",
          "height": 68
        },
        "outputId": "b8b4aa98-66f6-4c17-81a7-00cfb2c92a39"
      },
      "source": [
        "print(df_T_copy)"
      ],
      "execution_count": 185,
      "outputs": [
        {
          "output_type": "stream",
          "text": [
            "   A  B  C\n",
            "X  0  1  2\n",
            "Y  3  4  5\n"
          ],
          "name": "stdout"
        }
      ]
    },
    {
      "cell_type": "code",
      "metadata": {
        "id": "c-Jonbaz-TRV",
        "colab_type": "code",
        "colab": {
          "base_uri": "https://localhost:8080/",
          "height": 68
        },
        "outputId": "d11b64a1-e19c-4482-e093-fefa1f0403b0"
      },
      "source": [
        "print(df_transpose_copy)"
      ],
      "execution_count": 186,
      "outputs": [
        {
          "output_type": "stream",
          "text": [
            "   A  B  C\n",
            "X  0  1  2\n",
            "Y  3  4  5\n"
          ],
          "name": "stdout"
        }
      ]
    },
    {
      "cell_type": "code",
      "metadata": {
        "id": "Kwb76WHD-V23",
        "colab_type": "code",
        "colab": {
          "base_uri": "https://localhost:8080/",
          "height": 136
        },
        "outputId": "6e730e16-5766-4bdf-c03e-1f86924d56ec"
      },
      "source": [
        "df = pd.DataFrame({'A': ['a', 'a', 'a', 'b', 'b', 'b'],\n",
        "                   'B': ['x', 'y', 'z', 'x', 'y', 'z'],\n",
        "                   'C': [1, 2, 3, 4, 5, 6],\n",
        "                   'D': [10, 20, 30, 40, 50, 60]})\n",
        "\n",
        "print(df)"
      ],
      "execution_count": 187,
      "outputs": [
        {
          "output_type": "stream",
          "text": [
            "   A  B  C   D\n",
            "0  a  x  1  10\n",
            "1  a  y  2  20\n",
            "2  a  z  3  30\n",
            "3  b  x  4  40\n",
            "4  b  y  5  50\n",
            "5  b  z  6  60\n"
          ],
          "name": "stdout"
        }
      ]
    },
    {
      "cell_type": "code",
      "metadata": {
        "id": "mAXuRC9a-zXP",
        "colab_type": "code",
        "colab": {
          "base_uri": "https://localhost:8080/",
          "height": 442
        },
        "outputId": "3bfc3949-523d-404c-c23d-2d9a78b505fd"
      },
      "source": [
        "s = df.stack()\n",
        "print(s)"
      ],
      "execution_count": 188,
      "outputs": [
        {
          "output_type": "stream",
          "text": [
            "0  A     a\n",
            "   B     x\n",
            "   C     1\n",
            "   D    10\n",
            "1  A     a\n",
            "   B     y\n",
            "   C     2\n",
            "   D    20\n",
            "2  A     a\n",
            "   B     z\n",
            "   C     3\n",
            "   D    30\n",
            "3  A     b\n",
            "   B     x\n",
            "   C     4\n",
            "   D    40\n",
            "4  A     b\n",
            "   B     y\n",
            "   C     5\n",
            "   D    50\n",
            "5  A     b\n",
            "   B     z\n",
            "   C     6\n",
            "   D    60\n",
            "dtype: object\n"
          ],
          "name": "stdout"
        }
      ]
    },
    {
      "cell_type": "code",
      "metadata": {
        "id": "bUXDkbRZ-5h3",
        "colab_type": "code",
        "colab": {
          "base_uri": "https://localhost:8080/",
          "height": 459
        },
        "outputId": "55727f7e-477f-42ab-f5fd-9d87bf691a14"
      },
      "source": [
        "print(type(s))\n",
        "print(s.index)"
      ],
      "execution_count": 189,
      "outputs": [
        {
          "output_type": "stream",
          "text": [
            "<class 'pandas.core.series.Series'>\n",
            "MultiIndex([(0, 'A'),\n",
            "            (0, 'B'),\n",
            "            (0, 'C'),\n",
            "            (0, 'D'),\n",
            "            (1, 'A'),\n",
            "            (1, 'B'),\n",
            "            (1, 'C'),\n",
            "            (1, 'D'),\n",
            "            (2, 'A'),\n",
            "            (2, 'B'),\n",
            "            (2, 'C'),\n",
            "            (2, 'D'),\n",
            "            (3, 'A'),\n",
            "            (3, 'B'),\n",
            "            (3, 'C'),\n",
            "            (3, 'D'),\n",
            "            (4, 'A'),\n",
            "            (4, 'B'),\n",
            "            (4, 'C'),\n",
            "            (4, 'D'),\n",
            "            (5, 'A'),\n",
            "            (5, 'B'),\n",
            "            (5, 'C'),\n",
            "            (5, 'D')],\n",
            "           )\n"
          ],
          "name": "stdout"
        }
      ]
    },
    {
      "cell_type": "code",
      "metadata": {
        "id": "o_fPtuSb-7je",
        "colab_type": "code",
        "colab": {
          "base_uri": "https://localhost:8080/",
          "height": 136
        },
        "outputId": "c11a2fce-f1f4-46e9-da3c-088ce04accc3"
      },
      "source": [
        "print(s.unstack())"
      ],
      "execution_count": 190,
      "outputs": [
        {
          "output_type": "stream",
          "text": [
            "   A  B  C   D\n",
            "0  a  x  1  10\n",
            "1  a  y  2  20\n",
            "2  a  z  3  30\n",
            "3  b  x  4  40\n",
            "4  b  y  5  50\n",
            "5  b  z  6  60\n"
          ],
          "name": "stdout"
        }
      ]
    },
    {
      "cell_type": "code",
      "metadata": {
        "id": "1j4yK1fW_BVw",
        "colab_type": "code",
        "colab": {
          "base_uri": "https://localhost:8080/",
          "height": 102
        },
        "outputId": "7859e717-9288-4579-c2f1-6f8cfc000472"
      },
      "source": [
        "print(s.unstack(level = 0))"
      ],
      "execution_count": 191,
      "outputs": [
        {
          "output_type": "stream",
          "text": [
            "    0   1   2   3   4   5\n",
            "A   a   a   a   b   b   b\n",
            "B   x   y   z   x   y   z\n",
            "C   1   2   3   4   5   6\n",
            "D  10  20  30  40  50  60\n"
          ],
          "name": "stdout"
        }
      ]
    },
    {
      "cell_type": "code",
      "metadata": {
        "id": "I2mdNzOO_HO3",
        "colab_type": "code",
        "colab": {
          "base_uri": "https://localhost:8080/",
          "height": 102
        },
        "outputId": "bde08db7-7448-4055-91ef-bc4e6270685d"
      },
      "source": [
        "print(df.T)"
      ],
      "execution_count": 192,
      "outputs": [
        {
          "output_type": "stream",
          "text": [
            "    0   1   2   3   4   5\n",
            "A   a   a   a   b   b   b\n",
            "B   x   y   z   x   y   z\n",
            "C   1   2   3   4   5   6\n",
            "D  10  20  30  40  50  60\n"
          ],
          "name": "stdout"
        }
      ]
    },
    {
      "cell_type": "code",
      "metadata": {
        "id": "dGxOR8l8_I_n",
        "colab_type": "code",
        "colab": {
          "base_uri": "https://localhost:8080/",
          "height": 272
        },
        "outputId": "581f1b9b-ea02-4fec-c36b-495726b07f37"
      },
      "source": [
        "df_m = df.set_index(['A', 'B'])\n",
        "print(df_m)\n",
        "print(df_m.index)"
      ],
      "execution_count": 193,
      "outputs": [
        {
          "output_type": "stream",
          "text": [
            "     C   D\n",
            "A B       \n",
            "a x  1  10\n",
            "  y  2  20\n",
            "  z  3  30\n",
            "b x  4  40\n",
            "  y  5  50\n",
            "  z  6  60\n",
            "MultiIndex([('a', 'x'),\n",
            "            ('a', 'y'),\n",
            "            ('a', 'z'),\n",
            "            ('b', 'x'),\n",
            "            ('b', 'y'),\n",
            "            ('b', 'z')],\n",
            "           names=['A', 'B'])\n"
          ],
          "name": "stdout"
        }
      ]
    },
    {
      "cell_type": "code",
      "metadata": {
        "id": "aD48jrvG_Nof",
        "colab_type": "code",
        "colab": {
          "base_uri": "https://localhost:8080/",
          "height": 102
        },
        "outputId": "519f9b31-6061-4e5b-8cad-c76f91247d68"
      },
      "source": [
        "df_mu = df_m.unstack()\n",
        "print(df_mu)"
      ],
      "execution_count": 194,
      "outputs": [
        {
          "output_type": "stream",
          "text": [
            "   C         D        \n",
            "B  x  y  z   x   y   z\n",
            "A                     \n",
            "a  1  2  3  10  20  30\n",
            "b  4  5  6  40  50  60\n"
          ],
          "name": "stdout"
        }
      ]
    },
    {
      "cell_type": "code",
      "metadata": {
        "id": "ZJfecjX-_ZWf",
        "colab_type": "code",
        "colab": {
          "base_uri": "https://localhost:8080/",
          "height": 136
        },
        "outputId": "e01c5f9d-cfe8-44f1-f6e9-6124db1fce42"
      },
      "source": [
        "print(df_mu.columns)"
      ],
      "execution_count": 195,
      "outputs": [
        {
          "output_type": "stream",
          "text": [
            "MultiIndex([('C', 'x'),\n",
            "            ('C', 'y'),\n",
            "            ('C', 'z'),\n",
            "            ('D', 'x'),\n",
            "            ('D', 'y'),\n",
            "            ('D', 'z')],\n",
            "           names=[None, 'B'])\n"
          ],
          "name": "stdout"
        }
      ]
    },
    {
      "cell_type": "code",
      "metadata": {
        "id": "w8WfVDis_b1v",
        "colab_type": "code",
        "colab": {
          "base_uri": "https://localhost:8080/",
          "height": 221
        },
        "outputId": "142b7fcf-d15d-4516-db75-9adb220f2106"
      },
      "source": [
        "print(df_m.unstack(level = 0))\n",
        "print(df_m.unstack(level='A'))"
      ],
      "execution_count": 196,
      "outputs": [
        {
          "output_type": "stream",
          "text": [
            "   C      D    \n",
            "A  a  b   a   b\n",
            "B              \n",
            "x  1  4  10  40\n",
            "y  2  5  20  50\n",
            "z  3  6  30  60\n",
            "   C      D    \n",
            "A  a  b   a   b\n",
            "B              \n",
            "x  1  4  10  40\n",
            "y  2  5  20  50\n",
            "z  3  6  30  60\n"
          ],
          "name": "stdout"
        }
      ]
    },
    {
      "cell_type": "code",
      "metadata": {
        "id": "fb59FVwM_yJf",
        "colab_type": "code",
        "colab": {
          "base_uri": "https://localhost:8080/",
          "height": 272
        },
        "outputId": "479d2d96-0bea-4906-df47-9a82a62119ef"
      },
      "source": [
        "print(df_mu)\n",
        "print(df_mu.swaplevel(axis = 1))\n",
        "print(df_mu.swaplevel(axis = 1).sort_index(axis=1))"
      ],
      "execution_count": 197,
      "outputs": [
        {
          "output_type": "stream",
          "text": [
            "   C         D        \n",
            "B  x  y  z   x   y   z\n",
            "A                     \n",
            "a  1  2  3  10  20  30\n",
            "b  4  5  6  40  50  60\n",
            "B  x  y  z   x   y   z\n",
            "   C  C  C   D   D   D\n",
            "A                     \n",
            "a  1  2  3  10  20  30\n",
            "b  4  5  6  40  50  60\n",
            "B  x      y      z    \n",
            "   C   D  C   D  C   D\n",
            "A                     \n",
            "a  1  10  2  20  3  30\n",
            "b  4  40  5  50  6  60\n"
          ],
          "name": "stdout"
        }
      ]
    },
    {
      "cell_type": "code",
      "metadata": {
        "id": "40TRDyhu_-7H",
        "colab_type": "code",
        "colab": {
          "base_uri": "https://localhost:8080/",
          "height": 255
        },
        "outputId": "511fb544-a905-43d4-efd0-e0568607e7d3"
      },
      "source": [
        "print(df_mu.stack())\n",
        "print(df_mu.stack(level = 0))"
      ],
      "execution_count": 198,
      "outputs": [
        {
          "output_type": "stream",
          "text": [
            "     C   D\n",
            "A B       \n",
            "a x  1  10\n",
            "  y  2  20\n",
            "  z  3  30\n",
            "b x  4  40\n",
            "  y  5  50\n",
            "  z  6  60\n",
            "B     x   y   z\n",
            "A              \n",
            "a C   1   2   3\n",
            "  D  10  20  30\n",
            "b C   4   5   6\n",
            "  D  40  50  60\n"
          ],
          "name": "stdout"
        }
      ]
    },
    {
      "cell_type": "code",
      "metadata": {
        "id": "98cRBz9VAiCG",
        "colab_type": "code",
        "colab": {
          "base_uri": "https://localhost:8080/",
          "height": 204
        },
        "outputId": "5b0f549a-0ca8-4d2a-81ca-2a7a872a6f50"
      },
      "source": [
        "print(df)\n",
        "print(df.pivot(index = 'A', columns = 'B', values='C'))"
      ],
      "execution_count": 199,
      "outputs": [
        {
          "output_type": "stream",
          "text": [
            "   A  B  C   D\n",
            "0  a  x  1  10\n",
            "1  a  y  2  20\n",
            "2  a  z  3  30\n",
            "3  b  x  4  40\n",
            "4  b  y  5  50\n",
            "5  b  z  6  60\n",
            "B  x  y  z\n",
            "A         \n",
            "a  1  2  3\n",
            "b  4  5  6\n"
          ],
          "name": "stdout"
        }
      ]
    },
    {
      "cell_type": "code",
      "metadata": {
        "id": "2njlseMqCIKm",
        "colab_type": "code",
        "colab": {
          "base_uri": "https://localhost:8080/",
          "height": 187
        },
        "outputId": "8341663d-2c7d-4ba5-edb9-bad64f063f44"
      },
      "source": [
        "print(df.pivot(index = 'A', columns = 'B', values = ['C', 'D']))\n",
        "print(df.pivot(index='A', columns = 'B'))"
      ],
      "execution_count": 200,
      "outputs": [
        {
          "output_type": "stream",
          "text": [
            "   C         D        \n",
            "B  x  y  z   x   y   z\n",
            "A                     \n",
            "a  1  2  3  10  20  30\n",
            "b  4  5  6  40  50  60\n",
            "   C         D        \n",
            "B  x  y  z   x   y   z\n",
            "A                     \n",
            "a  1  2  3  10  20  30\n",
            "b  4  5  6  40  50  60\n"
          ],
          "name": "stdout"
        }
      ]
    },
    {
      "cell_type": "code",
      "metadata": {
        "id": "FzXKiBnyCX_O",
        "colab_type": "code",
        "colab": {
          "base_uri": "https://localhost:8080/",
          "height": 102
        },
        "outputId": "ff36a0a0-e7b5-4be4-8ea6-cb1add0ee917"
      },
      "source": [
        "print(df.set_index(['A', 'B']).unstack('B'))"
      ],
      "execution_count": 201,
      "outputs": [
        {
          "output_type": "stream",
          "text": [
            "   C         D        \n",
            "B  x  y  z   x   y   z\n",
            "A                     \n",
            "a  1  2  3  10  20  30\n",
            "b  4  5  6  40  50  60\n"
          ],
          "name": "stdout"
        }
      ]
    },
    {
      "cell_type": "code",
      "metadata": {
        "id": "TUhzq3wqCwTW",
        "colab_type": "code",
        "colab": {
          "base_uri": "https://localhost:8080/",
          "height": 136
        },
        "outputId": "3918df12-8bd4-44ea-dce0-92f50e4fb9db"
      },
      "source": [
        "df.loc[1, 'B'] = 'x'\n",
        "print(df)"
      ],
      "execution_count": 202,
      "outputs": [
        {
          "output_type": "stream",
          "text": [
            "   A  B  C   D\n",
            "0  a  x  1  10\n",
            "1  a  x  2  20\n",
            "2  a  z  3  30\n",
            "3  b  x  4  40\n",
            "4  b  y  5  50\n",
            "5  b  z  6  60\n"
          ],
          "name": "stdout"
        }
      ]
    },
    {
      "cell_type": "code",
      "metadata": {
        "id": "4DE1TxuiC1sm",
        "colab_type": "code",
        "colab": {
          "base_uri": "https://localhost:8080/",
          "height": 187
        },
        "outputId": "d6ae33c0-429e-47d9-ab09-91a75db96e2e"
      },
      "source": [
        "print(df.pivot_table(index='A', columns='B'))\n",
        "print(df.pivot_table(index='A', columns = 'B', aggfunc = sum))"
      ],
      "execution_count": 203,
      "outputs": [
        {
          "output_type": "stream",
          "text": [
            "     C               D            \n",
            "B    x    y    z     x     y     z\n",
            "A                                 \n",
            "a  1.5  NaN  3.0  15.0   NaN  30.0\n",
            "b  4.0  5.0  6.0  40.0  50.0  60.0\n",
            "     C               D            \n",
            "B    x    y    z     x     y     z\n",
            "A                                 \n",
            "a  3.0  NaN  3.0  30.0   NaN  30.0\n",
            "b  4.0  5.0  6.0  40.0  50.0  60.0\n"
          ],
          "name": "stdout"
        }
      ]
    },
    {
      "cell_type": "code",
      "metadata": {
        "id": "pHuzx_cbD3um",
        "colab_type": "code",
        "colab": {}
      },
      "source": [
        "df = pd.read_csv('/content/estat_0003215840.csv')\n",
        "df = df[['男女別・性比', '人口', '年齢各歳', 'value']]"
      ],
      "execution_count": 204,
      "outputs": []
    },
    {
      "cell_type": "code",
      "metadata": {
        "id": "J8-h5BvrEO5-",
        "colab_type": "code",
        "colab": {
          "base_uri": "https://localhost:8080/",
          "height": 204
        },
        "outputId": "32df9971-c636-4c92-fddc-df08ec1458c1"
      },
      "source": [
        "print(df.head(10))"
      ],
      "execution_count": 205,
      "outputs": [
        {
          "output_type": "stream",
          "text": [
            "  男女別・性比   人口 年齢各歳     value\n",
            "0    男女計  総人口   総数  126706.0\n",
            "1    男女計  総人口   0歳     963.0\n",
            "2    男女計  総人口   1歳    1000.0\n",
            "3    男女計  総人口   2歳     960.0\n",
            "4    男女計  総人口   3歳     975.0\n",
            "5    男女計  総人口   4歳    1011.0\n",
            "6    男女計  総人口   5歳    1017.0\n",
            "7    男女計  総人口   6歳    1045.0\n",
            "8    男女計  総人口   7歳    1049.0\n",
            "9    男女計  総人口   8歳    1060.0\n"
          ],
          "name": "stdout"
        }
      ]
    },
    {
      "cell_type": "code",
      "metadata": {
        "id": "vvOcN_NAEP0F",
        "colab_type": "code",
        "colab": {
          "base_uri": "https://localhost:8080/",
          "height": 34
        },
        "outputId": "f1a2166e-2df3-45f8-b213-7f0796eaaec8"
      },
      "source": [
        "print(df['男女別・性比'].unique())"
      ],
      "execution_count": 206,
      "outputs": [
        {
          "output_type": "stream",
          "text": [
            "['男女計' '男' '女' '人口性比']\n"
          ],
          "name": "stdout"
        }
      ]
    },
    {
      "cell_type": "code",
      "metadata": {
        "id": "qWE2DT3PEX2v",
        "colab_type": "code",
        "colab": {
          "base_uri": "https://localhost:8080/",
          "height": 34
        },
        "outputId": "675ec8ca-1b80-4b6f-f32b-aebbe0fd6c99"
      },
      "source": [
        "print(df['人口'].unique())"
      ],
      "execution_count": 207,
      "outputs": [
        {
          "output_type": "stream",
          "text": [
            "['総人口' '日本人人口']\n"
          ],
          "name": "stdout"
        }
      ]
    },
    {
      "cell_type": "code",
      "metadata": {
        "id": "MQRZcGUYEZ7-",
        "colab_type": "code",
        "colab": {
          "base_uri": "https://localhost:8080/",
          "height": 170
        },
        "outputId": "98e63bfc-bd95-44b6-cdba-ea68341369d5"
      },
      "source": [
        "print(df[['男女別・性比', '人口']].drop_duplicates())"
      ],
      "execution_count": 209,
      "outputs": [
        {
          "output_type": "stream",
          "text": [
            "    男女別・性比     人口\n",
            "0      男女計    総人口\n",
            "102    男女計  日本人人口\n",
            "204      男    総人口\n",
            "306      男  日本人人口\n",
            "408      女    総人口\n",
            "510      女  日本人人口\n",
            "612   人口性比    総人口\n",
            "714   人口性比  日本人人口\n"
          ],
          "name": "stdout"
        }
      ]
    },
    {
      "cell_type": "code",
      "metadata": {
        "id": "BiPFFjLeEfb1",
        "colab_type": "code",
        "colab": {
          "base_uri": "https://localhost:8080/",
          "height": 221
        },
        "outputId": "cd2faac3-0578-446a-8b98-ce5253a9fc69"
      },
      "source": [
        "df_jp = df.query('人口 == \"日本人人口\"')\n",
        "\n",
        "print(df_jp.pivot(index='年齢各歳', columns='男女別・性比', values='value').head(10))\n"
      ],
      "execution_count": 210,
      "outputs": [
        {
          "output_type": "stream",
          "text": [
            "男女別・性比   人口性比      女      男     男女計\n",
            "年齢各歳                               \n",
            "0歳      105.0  462.0  485.0   947.0\n",
            "100歳以上   15.0   59.0    9.0    67.0\n",
            "10歳     105.0  518.0  544.0  1061.0\n",
            "11歳     104.8  515.0  540.0  1054.0\n",
            "12歳     104.9  516.0  541.0  1057.0\n",
            "13歳     104.6  535.0  560.0  1095.0\n",
            "14歳     105.2  543.0  571.0  1115.0\n",
            "15歳     105.1  560.0  588.0  1148.0\n",
            "16歳     105.3  567.0  597.0  1163.0\n",
            "17歳     106.2  577.0  613.0  1189.0\n"
          ],
          "name": "stdout"
        }
      ]
    },
    {
      "cell_type": "code",
      "metadata": {
        "id": "AgWrf1WwE1a1",
        "colab_type": "code",
        "colab": {
          "base_uri": "https://localhost:8080/",
          "height": 255
        },
        "outputId": "17b818bc-5947-4c22-dd62-da8555051367"
      },
      "source": [
        "print(df.set_index(['年齢各歳', '人口', '男女別・性比']).unstack(['人口', '男女別・性比']).sort_index(axis=1).head(10))"
      ],
      "execution_count": 211,
      "outputs": [
        {
          "output_type": "stream",
          "text": [
            "        value                                                   \n",
            "人口      日本人人口                          総人口                      \n",
            "男女別・性比   人口性比      女      男     男女計   人口性比      女      男     男女計\n",
            "年齢各歳                                                            \n",
            "0歳      105.0  462.0  485.0   947.0  105.0  470.0  493.0   963.0\n",
            "100歳以上   15.0   59.0    9.0    67.0   15.0   59.0    9.0    67.0\n",
            "10歳     105.0  518.0  544.0  1061.0  105.1  523.0  549.0  1072.0\n",
            "11歳     104.8  515.0  540.0  1054.0  104.8  520.0  545.0  1065.0\n",
            "12歳     104.9  516.0  541.0  1057.0  104.9  521.0  546.0  1067.0\n",
            "13歳     104.6  535.0  560.0  1095.0  104.6  540.0  565.0  1105.0\n",
            "14歳     105.2  543.0  571.0  1115.0  105.2  548.0  576.0  1124.0\n",
            "15歳     105.1  560.0  588.0  1148.0  105.1  565.0  594.0  1158.0\n",
            "16歳     105.3  567.0  597.0  1163.0  105.3  572.0  602.0  1174.0\n",
            "17歳     106.2  577.0  613.0  1189.0  106.2  583.0  619.0  1202.0\n"
          ],
          "name": "stdout"
        }
      ]
    },
    {
      "cell_type": "code",
      "metadata": {
        "id": "RQNUWSUfE7ON",
        "colab_type": "code",
        "colab": {
          "base_uri": "https://localhost:8080/",
          "height": 238
        },
        "outputId": "ce4eb227-55ef-4790-a019-0cbe3edce4db"
      },
      "source": [
        "df_pt = df.pivot_table(index='年齢各歳', columns=['人口', '男女別・性比'], values='value')\n",
        "\n",
        "print(df_pt.head(10))"
      ],
      "execution_count": 212,
      "outputs": [
        {
          "output_type": "stream",
          "text": [
            "人口      日本人人口                          総人口                      \n",
            "男女別・性比   人口性比      女      男     男女計   人口性比      女      男     男女計\n",
            "年齢各歳                                                            \n",
            "0歳      105.0  462.0  485.0   947.0  105.0  470.0  493.0   963.0\n",
            "100歳以上   15.0   59.0    9.0    67.0   15.0   59.0    9.0    67.0\n",
            "10歳     105.0  518.0  544.0  1061.0  105.1  523.0  549.0  1072.0\n",
            "11歳     104.8  515.0  540.0  1054.0  104.8  520.0  545.0  1065.0\n",
            "12歳     104.9  516.0  541.0  1057.0  104.9  521.0  546.0  1067.0\n",
            "13歳     104.6  535.0  560.0  1095.0  104.6  540.0  565.0  1105.0\n",
            "14歳     105.2  543.0  571.0  1115.0  105.2  548.0  576.0  1124.0\n",
            "15歳     105.1  560.0  588.0  1148.0  105.1  565.0  594.0  1158.0\n",
            "16歳     105.3  567.0  597.0  1163.0  105.3  572.0  602.0  1174.0\n",
            "17歳     106.2  577.0  613.0  1189.0  106.2  583.0  619.0  1202.0\n"
          ],
          "name": "stdout"
        }
      ]
    },
    {
      "cell_type": "code",
      "metadata": {
        "id": "8C_Eg-ujFC6F",
        "colab_type": "code",
        "colab": {
          "base_uri": "https://localhost:8080/",
          "height": 221
        },
        "outputId": "4b1f9fde-b71f-49eb-d563-e05d56ef5d86"
      },
      "source": [
        "print(df_pt.loc[:, ('日本人人口', '男')].head(10))"
      ],
      "execution_count": 213,
      "outputs": [
        {
          "output_type": "stream",
          "text": [
            "年齢各歳\n",
            "0歳        485.0\n",
            "100歳以上      9.0\n",
            "10歳       544.0\n",
            "11歳       540.0\n",
            "12歳       541.0\n",
            "13歳       560.0\n",
            "14歳       571.0\n",
            "15歳       588.0\n",
            "16歳       597.0\n",
            "17歳       613.0\n",
            "Name: (日本人人口, 男), dtype: float64\n"
          ],
          "name": "stdout"
        }
      ]
    },
    {
      "cell_type": "code",
      "metadata": {
        "id": "RFbYBq5TFFJe",
        "colab_type": "code",
        "colab": {
          "base_uri": "https://localhost:8080/",
          "height": 238
        },
        "outputId": "9d767578-e34d-401a-deb9-28b24685df3c"
      },
      "source": [
        "print(df_pt.loc[:, ('日本人人口', ['男', '女'])].head(10))"
      ],
      "execution_count": 214,
      "outputs": [
        {
          "output_type": "stream",
          "text": [
            "人口      日本人人口       \n",
            "男女別・性比      女      男\n",
            "年齢各歳                \n",
            "0歳      462.0  485.0\n",
            "100歳以上   59.0    9.0\n",
            "10歳     518.0  544.0\n",
            "11歳     515.0  540.0\n",
            "12歳     516.0  541.0\n",
            "13歳     535.0  560.0\n",
            "14歳     543.0  571.0\n",
            "15歳     560.0  588.0\n",
            "16歳     567.0  597.0\n",
            "17歳     577.0  613.0\n"
          ],
          "name": "stdout"
        }
      ]
    },
    {
      "cell_type": "code",
      "metadata": {
        "id": "clbnUeJpFGYl",
        "colab_type": "code",
        "colab": {}
      },
      "source": [
        ""
      ],
      "execution_count": null,
      "outputs": []
    }
  ]
}