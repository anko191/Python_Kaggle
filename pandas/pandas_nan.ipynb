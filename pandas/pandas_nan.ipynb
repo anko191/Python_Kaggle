{
  "nbformat": 4,
  "nbformat_minor": 0,
  "metadata": {
    "colab": {
      "name": "pandas_nan",
      "provenance": [],
      "collapsed_sections": [],
      "authorship_tag": "ABX9TyOc0GFUPEXecRJUpTdEwBol",
      "include_colab_link": true
    },
    "kernelspec": {
      "name": "python3",
      "display_name": "Python 3"
    }
  },
  "cells": [
    {
      "cell_type": "markdown",
      "metadata": {
        "id": "view-in-github",
        "colab_type": "text"
      },
      "source": [
        "<a href=\"https://colab.research.google.com/github/anko191/Python_Kaggle/blob/master/pandas/pandas_nan.ipynb\" target=\"_parent\"><img src=\"https://colab.research.google.com/assets/colab-badge.svg\" alt=\"Open In Colab\"/></a>"
      ]
    },
    {
      "cell_type": "code",
      "metadata": {
        "id": "yTydWDvcaOiB",
        "colab_type": "code",
        "colab": {
          "base_uri": "https://localhost:8080/",
          "height": 136
        },
        "outputId": "ea324041-fc7d-493a-8ff7-fbc1d67b712b"
      },
      "source": [
        "import pandas as pd\n",
        "import numpy as np\n",
        "import math\n",
        "df = pd.read_csv('/content/sample_pandas_normal_nan.csv')\n",
        "print(df)"
      ],
      "execution_count": 138,
      "outputs": [
        {
          "output_type": "stream",
          "text": [
            "      name   age state  point  other\n",
            "0    Alice  24.0    NY    NaN    NaN\n",
            "1      NaN   NaN   NaN    NaN    NaN\n",
            "2  Charlie   NaN    CA    NaN    NaN\n",
            "3     Dave  68.0    TX   70.0    NaN\n",
            "4    Ellen   NaN    CA   88.0    NaN\n",
            "5    Frank  30.0   NaN    NaN    NaN\n"
          ],
          "name": "stdout"
        }
      ]
    },
    {
      "cell_type": "code",
      "metadata": {
        "id": "Btt5PROIaWK5",
        "colab_type": "code",
        "colab": {
          "base_uri": "https://localhost:8080/",
          "height": 34
        },
        "outputId": "8f7d95b7-bf81-44ad-f96c-7473db2e962b"
      },
      "source": [
        "pd.isnull(df.at[0,'point'])\n",
        "np.isnan(df.at[0,'point'])\n",
        "math.isnan(df.at[0,'point'])"
      ],
      "execution_count": 139,
      "outputs": [
        {
          "output_type": "execute_result",
          "data": {
            "text/plain": [
              "True"
            ]
          },
          "metadata": {
            "tags": []
          },
          "execution_count": 139
        }
      ]
    },
    {
      "cell_type": "code",
      "metadata": {
        "id": "zZH68pVubHuw",
        "colab_type": "code",
        "colab": {
          "base_uri": "https://localhost:8080/",
          "height": 34
        },
        "outputId": "1596340d-2c56-4471-ad7a-b6c34e529cdf"
      },
      "source": [
        "print(df.at[0,'point'] == np.nan)"
      ],
      "execution_count": 140,
      "outputs": [
        {
          "output_type": "stream",
          "text": [
            "False\n"
          ],
          "name": "stdout"
        }
      ]
    },
    {
      "cell_type": "code",
      "metadata": {
        "id": "DUEEFcXDbJ-w",
        "colab_type": "code",
        "colab": {
          "base_uri": "https://localhost:8080/",
          "height": 173
        },
        "outputId": "bb185c22-6fe7-4462-ea7d-9c6b3a364f28"
      },
      "source": [
        "s_nan = pd.Series([None, np.nan, math.nan, pd.np.nan])\n",
        "print(s_nan)\n",
        "print(s_nan[0])"
      ],
      "execution_count": 141,
      "outputs": [
        {
          "output_type": "stream",
          "text": [
            "0   NaN\n",
            "1   NaN\n",
            "2   NaN\n",
            "3   NaN\n",
            "dtype: float64\n",
            "nan\n"
          ],
          "name": "stdout"
        },
        {
          "output_type": "stream",
          "text": [
            "/usr/local/lib/python3.6/dist-packages/ipykernel_launcher.py:1: FutureWarning: The pandas.np module is deprecated and will be removed from pandas in a future version. Import numpy directly instead\n",
            "  \"\"\"Entry point for launching an IPython kernel.\n"
          ],
          "name": "stderr"
        }
      ]
    },
    {
      "cell_type": "code",
      "metadata": {
        "id": "QZURKxBwbiaI",
        "colab_type": "code",
        "colab": {
          "base_uri": "https://localhost:8080/",
          "height": 102
        },
        "outputId": "0c92d9b9-bfd3-4dce-f338-0e117bdb8383"
      },
      "source": [
        "print(s_nan.isnull())"
      ],
      "execution_count": 142,
      "outputs": [
        {
          "output_type": "stream",
          "text": [
            "0    True\n",
            "1    True\n",
            "2    True\n",
            "3    True\n",
            "dtype: bool\n"
          ],
          "name": "stdout"
        }
      ]
    },
    {
      "cell_type": "code",
      "metadata": {
        "id": "T4RjyHeMbklB",
        "colab_type": "code",
        "colab": {
          "base_uri": "https://localhost:8080/",
          "height": 241
        },
        "outputId": "f2cea217-0f80-4e70-b1e6-562f6bc7304b"
      },
      "source": [
        "s_nan_str = pd.Series([None, pd.np.nan, 'NaN', 'nan'])\n",
        "print(s_nan_str)\n",
        "print(s_nan_str.isnull())"
      ],
      "execution_count": 143,
      "outputs": [
        {
          "output_type": "stream",
          "text": [
            "0    None\n",
            "1     NaN\n",
            "2     NaN\n",
            "3     nan\n",
            "dtype: object\n",
            "0     True\n",
            "1     True\n",
            "2    False\n",
            "3    False\n",
            "dtype: bool\n"
          ],
          "name": "stdout"
        },
        {
          "output_type": "stream",
          "text": [
            "/usr/local/lib/python3.6/dist-packages/ipykernel_launcher.py:1: FutureWarning: The pandas.np module is deprecated and will be removed from pandas in a future version. Import numpy directly instead\n",
            "  \"\"\"Entry point for launching an IPython kernel.\n"
          ],
          "name": "stderr"
        }
      ]
    },
    {
      "cell_type": "code",
      "metadata": {
        "id": "sxRS4z7vcN3A",
        "colab_type": "code",
        "colab": {
          "base_uri": "https://localhost:8080/",
          "height": 156
        },
        "outputId": "f0255f8b-9306-4e29-8cbb-7c951ef009ae"
      },
      "source": [
        "s_nan_str_replace = s_nan_str.replace({'NaN':pd.np.nan, 'nan':pd.np.nan})\n",
        "print(s_nan_str_replace)"
      ],
      "execution_count": 144,
      "outputs": [
        {
          "output_type": "stream",
          "text": [
            "0   NaN\n",
            "1   NaN\n",
            "2   NaN\n",
            "3   NaN\n",
            "dtype: float64\n"
          ],
          "name": "stdout"
        },
        {
          "output_type": "stream",
          "text": [
            "/usr/local/lib/python3.6/dist-packages/ipykernel_launcher.py:1: FutureWarning: The pandas.np module is deprecated and will be removed from pandas in a future version. Import numpy directly instead\n",
            "  \"\"\"Entry point for launching an IPython kernel.\n"
          ],
          "name": "stderr"
        }
      ]
    },
    {
      "cell_type": "code",
      "metadata": {
        "id": "SmWkz_zPcanw",
        "colab_type": "code",
        "colab": {
          "base_uri": "https://localhost:8080/",
          "height": 102
        },
        "outputId": "5ec8f620-1b50-445b-bc8c-7dd9fb7ec69d"
      },
      "source": [
        "print(s_nan_str_replace.isnull())"
      ],
      "execution_count": 146,
      "outputs": [
        {
          "output_type": "stream",
          "text": [
            "0    True\n",
            "1    True\n",
            "2    True\n",
            "3    True\n",
            "dtype: bool\n"
          ],
          "name": "stdout"
        }
      ]
    },
    {
      "cell_type": "code",
      "metadata": {
        "id": "Ln4H0IMXcnpg",
        "colab_type": "code",
        "colab": {
          "base_uri": "https://localhost:8080/",
          "height": 136
        },
        "outputId": "4ba98dcc-48ca-420d-8fb4-8b93cb97c91f"
      },
      "source": [
        "print(df)"
      ],
      "execution_count": 147,
      "outputs": [
        {
          "output_type": "stream",
          "text": [
            "      name   age state  point  other\n",
            "0    Alice  24.0    NY    NaN    NaN\n",
            "1      NaN   NaN   NaN    NaN    NaN\n",
            "2  Charlie   NaN    CA    NaN    NaN\n",
            "3     Dave  68.0    TX   70.0    NaN\n",
            "4    Ellen   NaN    CA   88.0    NaN\n",
            "5    Frank  30.0   NaN    NaN    NaN\n"
          ],
          "name": "stdout"
        }
      ]
    },
    {
      "cell_type": "code",
      "metadata": {
        "id": "zsH3kx5Fcz_X",
        "colab_type": "code",
        "colab": {
          "base_uri": "https://localhost:8080/",
          "height": 119
        },
        "outputId": "c849379a-e2da-4c68-f2b4-d3f484ed3fe0"
      },
      "source": [
        "print(df.dropna(how = 'all'))"
      ],
      "execution_count": 148,
      "outputs": [
        {
          "output_type": "stream",
          "text": [
            "      name   age state  point  other\n",
            "0    Alice  24.0    NY    NaN    NaN\n",
            "2  Charlie   NaN    CA    NaN    NaN\n",
            "3     Dave  68.0    TX   70.0    NaN\n",
            "4    Ellen   NaN    CA   88.0    NaN\n",
            "5    Frank  30.0   NaN    NaN    NaN\n"
          ],
          "name": "stdout"
        }
      ]
    },
    {
      "cell_type": "code",
      "metadata": {
        "id": "tcPjr05jc2AX",
        "colab_type": "code",
        "colab": {
          "base_uri": "https://localhost:8080/",
          "height": 136
        },
        "outputId": "78628161-ef01-4e6b-9219-f7d0c72b0bb6"
      },
      "source": [
        "print(df.dropna(how='all', axis = 1))"
      ],
      "execution_count": 149,
      "outputs": [
        {
          "output_type": "stream",
          "text": [
            "      name   age state  point\n",
            "0    Alice  24.0    NY    NaN\n",
            "1      NaN   NaN   NaN    NaN\n",
            "2  Charlie   NaN    CA    NaN\n",
            "3     Dave  68.0    TX   70.0\n",
            "4    Ellen   NaN    CA   88.0\n",
            "5    Frank  30.0   NaN    NaN\n"
          ],
          "name": "stdout"
        }
      ]
    },
    {
      "cell_type": "code",
      "metadata": {
        "id": "D7glb6cgc6Sf",
        "colab_type": "code",
        "colab": {
          "base_uri": "https://localhost:8080/",
          "height": 119
        },
        "outputId": "17a412b0-55f6-4f9c-e78c-c5ebba315841"
      },
      "source": [
        "print(df.dropna(how='all').dropna(how='all', axis = 1))"
      ],
      "execution_count": 152,
      "outputs": [
        {
          "output_type": "stream",
          "text": [
            "      name   age state  point\n",
            "0    Alice  24.0    NY    NaN\n",
            "2  Charlie   NaN    CA    NaN\n",
            "3     Dave  68.0    TX   70.0\n",
            "4    Ellen   NaN    CA   88.0\n",
            "5    Frank  30.0   NaN    NaN\n"
          ],
          "name": "stdout"
        }
      ]
    },
    {
      "cell_type": "code",
      "metadata": {
        "id": "KwFKbIRIc_eo",
        "colab_type": "code",
        "colab": {}
      },
      "source": [
        "df2 = df.dropna(how='all').dropna(how = 'all', axis = 1)"
      ],
      "execution_count": 153,
      "outputs": []
    },
    {
      "cell_type": "code",
      "metadata": {
        "id": "n0KYInHEdKr4",
        "colab_type": "code",
        "colab": {
          "base_uri": "https://localhost:8080/",
          "height": 204
        },
        "outputId": "e4f9cc9e-9d4c-4d15-d275-f907d5d8112b"
      },
      "source": [
        "df2"
      ],
      "execution_count": 154,
      "outputs": [
        {
          "output_type": "execute_result",
          "data": {
            "text/html": [
              "<div>\n",
              "<style scoped>\n",
              "    .dataframe tbody tr th:only-of-type {\n",
              "        vertical-align: middle;\n",
              "    }\n",
              "\n",
              "    .dataframe tbody tr th {\n",
              "        vertical-align: top;\n",
              "    }\n",
              "\n",
              "    .dataframe thead th {\n",
              "        text-align: right;\n",
              "    }\n",
              "</style>\n",
              "<table border=\"1\" class=\"dataframe\">\n",
              "  <thead>\n",
              "    <tr style=\"text-align: right;\">\n",
              "      <th></th>\n",
              "      <th>name</th>\n",
              "      <th>age</th>\n",
              "      <th>state</th>\n",
              "      <th>point</th>\n",
              "    </tr>\n",
              "  </thead>\n",
              "  <tbody>\n",
              "    <tr>\n",
              "      <th>0</th>\n",
              "      <td>Alice</td>\n",
              "      <td>24.0</td>\n",
              "      <td>NY</td>\n",
              "      <td>NaN</td>\n",
              "    </tr>\n",
              "    <tr>\n",
              "      <th>2</th>\n",
              "      <td>Charlie</td>\n",
              "      <td>NaN</td>\n",
              "      <td>CA</td>\n",
              "      <td>NaN</td>\n",
              "    </tr>\n",
              "    <tr>\n",
              "      <th>3</th>\n",
              "      <td>Dave</td>\n",
              "      <td>68.0</td>\n",
              "      <td>TX</td>\n",
              "      <td>70.0</td>\n",
              "    </tr>\n",
              "    <tr>\n",
              "      <th>4</th>\n",
              "      <td>Ellen</td>\n",
              "      <td>NaN</td>\n",
              "      <td>CA</td>\n",
              "      <td>88.0</td>\n",
              "    </tr>\n",
              "    <tr>\n",
              "      <th>5</th>\n",
              "      <td>Frank</td>\n",
              "      <td>30.0</td>\n",
              "      <td>NaN</td>\n",
              "      <td>NaN</td>\n",
              "    </tr>\n",
              "  </tbody>\n",
              "</table>\n",
              "</div>"
            ],
            "text/plain": [
              "      name   age state  point\n",
              "0    Alice  24.0    NY    NaN\n",
              "2  Charlie   NaN    CA    NaN\n",
              "3     Dave  68.0    TX   70.0\n",
              "4    Ellen   NaN    CA   88.0\n",
              "5    Frank  30.0   NaN    NaN"
            ]
          },
          "metadata": {
            "tags": []
          },
          "execution_count": 154
        }
      ]
    },
    {
      "cell_type": "code",
      "metadata": {
        "id": "Aa_DdQj6dLKP",
        "colab_type": "code",
        "colab": {
          "base_uri": "https://localhost:8080/",
          "height": 51
        },
        "outputId": "708171cf-b85b-415b-c57b-459fb747fcdd"
      },
      "source": [
        "print(df2.dropna(how='any'))"
      ],
      "execution_count": 155,
      "outputs": [
        {
          "output_type": "stream",
          "text": [
            "   name   age state  point\n",
            "3  Dave  68.0    TX   70.0\n"
          ],
          "name": "stdout"
        }
      ]
    },
    {
      "cell_type": "code",
      "metadata": {
        "id": "x4BYmfn2dPJH",
        "colab_type": "code",
        "colab": {
          "base_uri": "https://localhost:8080/",
          "height": 51
        },
        "outputId": "7f9565e9-9725-43de-a695-7e2a715520c4"
      },
      "source": [
        "print(df2.dropna())"
      ],
      "execution_count": 156,
      "outputs": [
        {
          "output_type": "stream",
          "text": [
            "   name   age state  point\n",
            "3  Dave  68.0    TX   70.0\n"
          ],
          "name": "stdout"
        }
      ]
    },
    {
      "cell_type": "code",
      "metadata": {
        "id": "UOxyzCWHdQrY",
        "colab_type": "code",
        "colab": {
          "base_uri": "https://localhost:8080/",
          "height": 119
        },
        "outputId": "11607371-1ac8-4d39-bbc5-ea3e084e6ef0"
      },
      "source": [
        "print(df2.dropna(how = 'any', axis = 1))"
      ],
      "execution_count": 157,
      "outputs": [
        {
          "output_type": "stream",
          "text": [
            "      name\n",
            "0    Alice\n",
            "2  Charlie\n",
            "3     Dave\n",
            "4    Ellen\n",
            "5    Frank\n"
          ],
          "name": "stdout"
        }
      ]
    },
    {
      "cell_type": "code",
      "metadata": {
        "id": "yVymnciAdkIY",
        "colab_type": "code",
        "colab": {
          "base_uri": "https://localhost:8080/",
          "height": 85
        },
        "outputId": "f044e942-a2b5-473f-e9c1-87e1561b3680"
      },
      "source": [
        "print(df.dropna(thresh=3))"
      ],
      "execution_count": 158,
      "outputs": [
        {
          "output_type": "stream",
          "text": [
            "    name   age state  point  other\n",
            "0  Alice  24.0    NY    NaN    NaN\n",
            "3   Dave  68.0    TX   70.0    NaN\n",
            "4  Ellen   NaN    CA   88.0    NaN\n"
          ],
          "name": "stdout"
        }
      ]
    },
    {
      "cell_type": "code",
      "metadata": {
        "id": "2fmLQDHIdpVf",
        "colab_type": "code",
        "colab": {
          "base_uri": "https://localhost:8080/",
          "height": 136
        },
        "outputId": "63516d6f-bb6b-48bf-a593-187646ad4edd"
      },
      "source": [
        "print(df.dropna(thresh=3, axis = 1))"
      ],
      "execution_count": 159,
      "outputs": [
        {
          "output_type": "stream",
          "text": [
            "      name   age state\n",
            "0    Alice  24.0    NY\n",
            "1      NaN   NaN   NaN\n",
            "2  Charlie   NaN    CA\n",
            "3     Dave  68.0    TX\n",
            "4    Ellen   NaN    CA\n",
            "5    Frank  30.0   NaN\n"
          ],
          "name": "stdout"
        }
      ]
    },
    {
      "cell_type": "code",
      "metadata": {
        "id": "VELxNLgJdv9I",
        "colab_type": "code",
        "colab": {
          "base_uri": "https://localhost:8080/",
          "height": 85
        },
        "outputId": "a518311f-9994-4a00-be5a-8edc379a111b"
      },
      "source": [
        "print(df.dropna(subset=['age']))"
      ],
      "execution_count": 160,
      "outputs": [
        {
          "output_type": "stream",
          "text": [
            "    name   age state  point  other\n",
            "0  Alice  24.0    NY    NaN    NaN\n",
            "3   Dave  68.0    TX   70.0    NaN\n",
            "5  Frank  30.0   NaN    NaN    NaN\n"
          ],
          "name": "stdout"
        }
      ]
    },
    {
      "cell_type": "code",
      "metadata": {
        "id": "QdQDCoiyeeyn",
        "colab_type": "code",
        "colab": {
          "base_uri": "https://localhost:8080/",
          "height": 68
        },
        "outputId": "94941461-7243-419c-ec59-e1fcbb60ba4e"
      },
      "source": [
        "print(df.dropna(subset=['age', 'state']))"
      ],
      "execution_count": 161,
      "outputs": [
        {
          "output_type": "stream",
          "text": [
            "    name   age state  point  other\n",
            "0  Alice  24.0    NY    NaN    NaN\n",
            "3   Dave  68.0    TX   70.0    NaN\n"
          ],
          "name": "stdout"
        }
      ]
    },
    {
      "cell_type": "code",
      "metadata": {
        "id": "hu2HPZdPehuj",
        "colab_type": "code",
        "colab": {
          "base_uri": "https://localhost:8080/",
          "height": 119
        },
        "outputId": "f9f640a0-d8f2-49f4-d6af-3b003da3bdee"
      },
      "source": [
        "print(df.dropna(subset=['age', 'state'], how = 'all'))"
      ],
      "execution_count": 162,
      "outputs": [
        {
          "output_type": "stream",
          "text": [
            "      name   age state  point  other\n",
            "0    Alice  24.0    NY    NaN    NaN\n",
            "2  Charlie   NaN    CA    NaN    NaN\n",
            "3     Dave  68.0    TX   70.0    NaN\n",
            "4    Ellen   NaN    CA   88.0    NaN\n",
            "5    Frank  30.0   NaN    NaN    NaN\n"
          ],
          "name": "stdout"
        }
      ]
    },
    {
      "cell_type": "code",
      "metadata": {
        "id": "yzyQZHZHeoz_",
        "colab_type": "code",
        "colab": {
          "base_uri": "https://localhost:8080/",
          "height": 255
        },
        "outputId": "0773c293-e9a9-4690-fda6-7b12d0ec01c0"
      },
      "source": [
        "print(df.dropna(subset=[0,4],axis= 1))\n",
        "print(df.dropna(subset=[0,4],axis=1, how='all'))"
      ],
      "execution_count": 164,
      "outputs": [
        {
          "output_type": "stream",
          "text": [
            "      name state\n",
            "0    Alice    NY\n",
            "1      NaN   NaN\n",
            "2  Charlie    CA\n",
            "3     Dave    TX\n",
            "4    Ellen    CA\n",
            "5    Frank   NaN\n",
            "      name   age state  point\n",
            "0    Alice  24.0    NY    NaN\n",
            "1      NaN   NaN   NaN    NaN\n",
            "2  Charlie   NaN    CA    NaN\n",
            "3     Dave  68.0    TX   70.0\n",
            "4    Ellen   NaN    CA   88.0\n",
            "5    Frank  30.0   NaN    NaN\n"
          ],
          "name": "stdout"
        }
      ]
    },
    {
      "cell_type": "code",
      "metadata": {
        "id": "T_V6TNgGfJ7v",
        "colab_type": "code",
        "colab": {
          "base_uri": "https://localhost:8080/",
          "height": 136
        },
        "outputId": "2fce2b73-0994-4c9f-f91f-4eb673e5211f"
      },
      "source": [
        "print(df.fillna(0))"
      ],
      "execution_count": 165,
      "outputs": [
        {
          "output_type": "stream",
          "text": [
            "      name   age state  point  other\n",
            "0    Alice  24.0    NY    0.0    0.0\n",
            "1        0   0.0     0    0.0    0.0\n",
            "2  Charlie   0.0    CA    0.0    0.0\n",
            "3     Dave  68.0    TX   70.0    0.0\n",
            "4    Ellen   0.0    CA   88.0    0.0\n",
            "5    Frank  30.0     0    0.0    0.0\n"
          ],
          "name": "stdout"
        }
      ]
    },
    {
      "cell_type": "code",
      "metadata": {
        "id": "mmk0NqZAfQdX",
        "colab_type": "code",
        "colab": {
          "base_uri": "https://localhost:8080/",
          "height": 136
        },
        "outputId": "36c489df-e0c8-4d8c-af3e-705e05d1790b"
      },
      "source": [
        "print(df.fillna({'name':'XXX', 'age':20, 'point':20}))"
      ],
      "execution_count": 166,
      "outputs": [
        {
          "output_type": "stream",
          "text": [
            "      name   age state  point  other\n",
            "0    Alice  24.0    NY   20.0    NaN\n",
            "1      XXX  20.0   NaN   20.0    NaN\n",
            "2  Charlie  20.0    CA   20.0    NaN\n",
            "3     Dave  68.0    TX   70.0    NaN\n",
            "4    Ellen  20.0    CA   88.0    NaN\n",
            "5    Frank  30.0   NaN   20.0    NaN\n"
          ],
          "name": "stdout"
        }
      ]
    },
    {
      "cell_type": "code",
      "metadata": {
        "id": "fALJ_g_2fr2w",
        "colab_type": "code",
        "colab": {
          "base_uri": "https://localhost:8080/",
          "height": 187
        },
        "outputId": "963de2b1-2ea0-4106-8dc2-4037d08e890e"
      },
      "source": [
        "s_for_fill = pd.Series(['ZZZ', 100], index = ['name', 'age'])\n",
        "print(s_for_fill)\n",
        "print(df.fillna(s_for_fill))"
      ],
      "execution_count": 167,
      "outputs": [
        {
          "output_type": "stream",
          "text": [
            "name    ZZZ\n",
            "age     100\n",
            "dtype: object\n",
            "      name    age state  point  other\n",
            "0    Alice   24.0    NY    NaN    NaN\n",
            "1      ZZZ  100.0   NaN    NaN    NaN\n",
            "2  Charlie  100.0    CA    NaN    NaN\n",
            "3     Dave   68.0    TX   70.0    NaN\n",
            "4    Ellen  100.0    CA   88.0    NaN\n",
            "5    Frank   30.0   NaN    NaN    NaN\n"
          ],
          "name": "stdout"
        }
      ]
    },
    {
      "cell_type": "code",
      "metadata": {
        "id": "46FxaC8MgNns",
        "colab_type": "code",
        "colab": {
          "base_uri": "https://localhost:8080/",
          "height": 85
        },
        "outputId": "db3d33ab-7544-4f98-c9a7-a173e0191619"
      },
      "source": [
        "print(df.mean())"
      ],
      "execution_count": 168,
      "outputs": [
        {
          "output_type": "stream",
          "text": [
            "age      40.666667\n",
            "point    79.000000\n",
            "other          NaN\n",
            "dtype: float64\n"
          ],
          "name": "stdout"
        }
      ]
    },
    {
      "cell_type": "code",
      "metadata": {
        "id": "bkgQlB4ygl4X",
        "colab_type": "code",
        "colab": {
          "base_uri": "https://localhost:8080/",
          "height": 136
        },
        "outputId": "80434c12-d4a6-47c6-ab27-7427795c2c53"
      },
      "source": [
        "print(df.fillna(df.mean()))"
      ],
      "execution_count": 169,
      "outputs": [
        {
          "output_type": "stream",
          "text": [
            "      name        age state  point  other\n",
            "0    Alice  24.000000    NY   79.0    NaN\n",
            "1      NaN  40.666667   NaN   79.0    NaN\n",
            "2  Charlie  40.666667    CA   79.0    NaN\n",
            "3     Dave  68.000000    TX   70.0    NaN\n",
            "4    Ellen  40.666667    CA   88.0    NaN\n",
            "5    Frank  30.000000   NaN   79.0    NaN\n"
          ],
          "name": "stdout"
        }
      ]
    },
    {
      "cell_type": "code",
      "metadata": {
        "id": "6UdnuFeLgn13",
        "colab_type": "code",
        "colab": {
          "base_uri": "https://localhost:8080/",
          "height": 136
        },
        "outputId": "09e654cb-d6ae-4cb0-de55-07911a873dc0"
      },
      "source": [
        "print(df.fillna(df.mode().iloc[0])) ## df.mode() return DataFrame"
      ],
      "execution_count": 171,
      "outputs": [
        {
          "output_type": "stream",
          "text": [
            "      name   age state  point  other\n",
            "0    Alice  24.0    NY   70.0    NaN\n",
            "1    Alice  24.0    CA   70.0    NaN\n",
            "2  Charlie  24.0    CA   70.0    NaN\n",
            "3     Dave  68.0    TX   70.0    NaN\n",
            "4    Ellen  24.0    CA   88.0    NaN\n",
            "5    Frank  30.0    CA   70.0    NaN\n"
          ],
          "name": "stdout"
        }
      ]
    },
    {
      "cell_type": "code",
      "metadata": {
        "id": "FCL4BdRZgv9w",
        "colab_type": "code",
        "colab": {
          "base_uri": "https://localhost:8080/",
          "height": 136
        },
        "outputId": "9d880bce-c2c1-4725-f528-7bce50431aed"
      },
      "source": [
        "print(df.fillna(method = 'ffill'))"
      ],
      "execution_count": 172,
      "outputs": [
        {
          "output_type": "stream",
          "text": [
            "      name   age state  point  other\n",
            "0    Alice  24.0    NY    NaN    NaN\n",
            "1    Alice  24.0    NY    NaN    NaN\n",
            "2  Charlie  24.0    CA    NaN    NaN\n",
            "3     Dave  68.0    TX   70.0    NaN\n",
            "4    Ellen  68.0    CA   88.0    NaN\n",
            "5    Frank  30.0    CA   88.0    NaN\n"
          ],
          "name": "stdout"
        }
      ]
    },
    {
      "cell_type": "code",
      "metadata": {
        "id": "i1SPAAkphMjv",
        "colab_type": "code",
        "colab": {
          "base_uri": "https://localhost:8080/",
          "height": 136
        },
        "outputId": "c46945b0-3a11-4dd4-a352-2d1a1c394ffe"
      },
      "source": [
        "print(df.fillna(method = 'bfill'))"
      ],
      "execution_count": 173,
      "outputs": [
        {
          "output_type": "stream",
          "text": [
            "      name   age state  point  other\n",
            "0    Alice  24.0    NY   70.0    NaN\n",
            "1  Charlie  68.0    CA   70.0    NaN\n",
            "2  Charlie  68.0    CA   70.0    NaN\n",
            "3     Dave  68.0    TX   70.0    NaN\n",
            "4    Ellen  30.0    CA   88.0    NaN\n",
            "5    Frank  30.0   NaN    NaN    NaN\n"
          ],
          "name": "stdout"
        }
      ]
    },
    {
      "cell_type": "code",
      "metadata": {
        "id": "7oVrf2HthPdA",
        "colab_type": "code",
        "colab": {
          "base_uri": "https://localhost:8080/",
          "height": 136
        },
        "outputId": "cc7534d2-da81-4fb5-d63c-b6b9cc735837"
      },
      "source": [
        "print(df.fillna(method = 'bfill', limit = 1).fillna(method='ffill', limit = 1))"
      ],
      "execution_count": 174,
      "outputs": [
        {
          "output_type": "stream",
          "text": [
            "      name   age state  point  other\n",
            "0    Alice  24.0    NY    NaN    NaN\n",
            "1  Charlie  24.0    CA    NaN    NaN\n",
            "2  Charlie  68.0    CA   70.0    NaN\n",
            "3     Dave  68.0    TX   70.0    NaN\n",
            "4    Ellen  30.0    CA   88.0    NaN\n",
            "5    Frank  30.0    CA   88.0    NaN\n"
          ],
          "name": "stdout"
        }
      ]
    },
    {
      "cell_type": "code",
      "metadata": {
        "id": "hTODHlQ9hel3",
        "colab_type": "code",
        "colab": {
          "base_uri": "https://localhost:8080/",
          "height": 136
        },
        "outputId": "9992b66d-7edf-4ed9-9fda-1d9a8b3e7e4e"
      },
      "source": [
        "s = df['age']\n",
        "print(s)"
      ],
      "execution_count": 175,
      "outputs": [
        {
          "output_type": "stream",
          "text": [
            "0    24.0\n",
            "1     NaN\n",
            "2     NaN\n",
            "3    68.0\n",
            "4     NaN\n",
            "5    30.0\n",
            "Name: age, dtype: float64\n"
          ],
          "name": "stdout"
        }
      ]
    },
    {
      "cell_type": "code",
      "metadata": {
        "id": "go_EHzBOhj_X",
        "colab_type": "code",
        "colab": {
          "base_uri": "https://localhost:8080/",
          "height": 136
        },
        "outputId": "66c1078f-4dfe-4157-b26c-063440d64f6e"
      },
      "source": [
        "print(s.fillna(100))"
      ],
      "execution_count": 176,
      "outputs": [
        {
          "output_type": "stream",
          "text": [
            "0     24.0\n",
            "1    100.0\n",
            "2    100.0\n",
            "3     68.0\n",
            "4    100.0\n",
            "5     30.0\n",
            "Name: age, dtype: float64\n"
          ],
          "name": "stdout"
        }
      ]
    },
    {
      "cell_type": "code",
      "metadata": {
        "id": "XnAc_8qohlin",
        "colab_type": "code",
        "colab": {
          "base_uri": "https://localhost:8080/",
          "height": 136
        },
        "outputId": "87791149-29ce-4091-fa04-948f603f4488"
      },
      "source": [
        "print(s.fillna({1:100,4:0}))"
      ],
      "execution_count": 177,
      "outputs": [
        {
          "output_type": "stream",
          "text": [
            "0     24.0\n",
            "1    100.0\n",
            "2      NaN\n",
            "3     68.0\n",
            "4      0.0\n",
            "5     30.0\n",
            "Name: age, dtype: float64\n"
          ],
          "name": "stdout"
        }
      ]
    },
    {
      "cell_type": "code",
      "metadata": {
        "id": "QEakeQXBhndX",
        "colab_type": "code",
        "colab": {
          "base_uri": "https://localhost:8080/",
          "height": 136
        },
        "outputId": "97305a73-d58c-41bc-bf7f-84869d257ad4"
      },
      "source": [
        "print(s.fillna(method='bfill',limit = 1))"
      ],
      "execution_count": 178,
      "outputs": [
        {
          "output_type": "stream",
          "text": [
            "0    24.0\n",
            "1     NaN\n",
            "2    68.0\n",
            "3    68.0\n",
            "4    30.0\n",
            "5    30.0\n",
            "Name: age, dtype: float64\n"
          ],
          "name": "stdout"
        }
      ]
    },
    {
      "cell_type": "code",
      "metadata": {
        "id": "2TGh52aqhzZn",
        "colab_type": "code",
        "colab": {
          "base_uri": "https://localhost:8080/",
          "height": 340
        },
        "outputId": "51cf473e-2c8d-494e-aa1d-c686a3f09ca0"
      },
      "source": [
        "print(df)\n",
        "print(df['point'].isnull())\n",
        "print(df[df['point'].isnull()])"
      ],
      "execution_count": 179,
      "outputs": [
        {
          "output_type": "stream",
          "text": [
            "      name   age state  point  other\n",
            "0    Alice  24.0    NY    NaN    NaN\n",
            "1      NaN   NaN   NaN    NaN    NaN\n",
            "2  Charlie   NaN    CA    NaN    NaN\n",
            "3     Dave  68.0    TX   70.0    NaN\n",
            "4    Ellen   NaN    CA   88.0    NaN\n",
            "5    Frank  30.0   NaN    NaN    NaN\n",
            "0     True\n",
            "1     True\n",
            "2     True\n",
            "3    False\n",
            "4    False\n",
            "5     True\n",
            "Name: point, dtype: bool\n",
            "      name   age state  point  other\n",
            "0    Alice  24.0    NY    NaN    NaN\n",
            "1      NaN   NaN   NaN    NaN    NaN\n",
            "2  Charlie   NaN    CA    NaN    NaN\n",
            "5    Frank  30.0   NaN    NaN    NaN\n"
          ],
          "name": "stdout"
        }
      ]
    },
    {
      "cell_type": "code",
      "metadata": {
        "id": "e-UVD7ZIiJOQ",
        "colab_type": "code",
        "colab": {
          "base_uri": "https://localhost:8080/",
          "height": 119
        },
        "outputId": "bd09e377-9085-4b29-fe2e-f7b84e9eeb2d"
      },
      "source": [
        "print(df.iloc[2].isnull())"
      ],
      "execution_count": 180,
      "outputs": [
        {
          "output_type": "stream",
          "text": [
            "name     False\n",
            "age       True\n",
            "state    False\n",
            "point     True\n",
            "other     True\n",
            "Name: 2, dtype: bool\n"
          ],
          "name": "stdout"
        }
      ]
    },
    {
      "cell_type": "code",
      "metadata": {
        "id": "C63usf9aiQWI",
        "colab_type": "code",
        "colab": {
          "base_uri": "https://localhost:8080/",
          "height": 136
        },
        "outputId": "7d1591af-e7f1-46fb-90b5-2e72945bb082"
      },
      "source": [
        "print(df.loc[:, df.iloc[2].isnull()])"
      ],
      "execution_count": 181,
      "outputs": [
        {
          "output_type": "stream",
          "text": [
            "    age  point  other\n",
            "0  24.0    NaN    NaN\n",
            "1   NaN    NaN    NaN\n",
            "2   NaN    NaN    NaN\n",
            "3  68.0   70.0    NaN\n",
            "4   NaN   88.0    NaN\n",
            "5  30.0    NaN    NaN\n"
          ],
          "name": "stdout"
        }
      ]
    },
    {
      "cell_type": "code",
      "metadata": {
        "id": "Cl4m7VwLif6f",
        "colab_type": "code",
        "colab": {
          "base_uri": "https://localhost:8080/",
          "height": 204
        },
        "outputId": "cb59a3b8-6f1d-435f-e392-8ffde82a71c7"
      },
      "source": [
        "print(df2.isnull().any(axis = 1))\n",
        "print(df2[df2.isnull().any(axis = 1)])"
      ],
      "execution_count": 182,
      "outputs": [
        {
          "output_type": "stream",
          "text": [
            "0     True\n",
            "2     True\n",
            "3    False\n",
            "4     True\n",
            "5     True\n",
            "dtype: bool\n",
            "      name   age state  point\n",
            "0    Alice  24.0    NY    NaN\n",
            "2  Charlie   NaN    CA    NaN\n",
            "4    Ellen   NaN    CA   88.0\n",
            "5    Frank  30.0   NaN    NaN\n"
          ],
          "name": "stdout"
        }
      ]
    },
    {
      "cell_type": "code",
      "metadata": {
        "id": "FLRTu8rFi0S3",
        "colab_type": "code",
        "colab": {
          "base_uri": "https://localhost:8080/",
          "height": 204
        },
        "outputId": "e68166fe-c396-40be-b080-44046df1924b"
      },
      "source": [
        "print(df2.isnull().any())\n",
        "print(df2.loc[:, df2.isnull().any()])"
      ],
      "execution_count": 183,
      "outputs": [
        {
          "output_type": "stream",
          "text": [
            "name     False\n",
            "age       True\n",
            "state     True\n",
            "point     True\n",
            "dtype: bool\n",
            "    age state  point\n",
            "0  24.0    NY    NaN\n",
            "2   NaN    CA    NaN\n",
            "3  68.0    TX   70.0\n",
            "4   NaN    CA   88.0\n",
            "5  30.0   NaN    NaN\n"
          ],
          "name": "stdout"
        }
      ]
    },
    {
      "cell_type": "code",
      "metadata": {
        "id": "NQK1ivORi7Qf",
        "colab_type": "code",
        "colab": {
          "base_uri": "https://localhost:8080/",
          "height": 136
        },
        "outputId": "9008b3e1-3fdb-491c-b305-d4e905ee0115"
      },
      "source": [
        "import pandas as pd\n",
        "df = pd.read_csv('/content/sample_pandas_normal_nan.csv')\n",
        "print(df)"
      ],
      "execution_count": 184,
      "outputs": [
        {
          "output_type": "stream",
          "text": [
            "      name   age state  point  other\n",
            "0    Alice  24.0    NY    NaN    NaN\n",
            "1      NaN   NaN   NaN    NaN    NaN\n",
            "2  Charlie   NaN    CA    NaN    NaN\n",
            "3     Dave  68.0    TX   70.0    NaN\n",
            "4    Ellen   NaN    CA   88.0    NaN\n",
            "5    Frank  30.0   NaN    NaN    NaN\n"
          ],
          "name": "stdout"
        }
      ]
    },
    {
      "cell_type": "code",
      "metadata": {
        "id": "lEgBwDJUm2Nh",
        "colab_type": "code",
        "colab": {
          "base_uri": "https://localhost:8080/",
          "height": 136
        },
        "outputId": "b0232ecb-8ae3-4748-97c7-bc2ee6423ce8"
      },
      "source": [
        "print(df.isnull())"
      ],
      "execution_count": 185,
      "outputs": [
        {
          "output_type": "stream",
          "text": [
            "    name    age  state  point  other\n",
            "0  False  False  False   True   True\n",
            "1   True   True   True   True   True\n",
            "2  False   True  False   True   True\n",
            "3  False  False  False  False   True\n",
            "4  False   True  False  False   True\n",
            "5  False  False   True   True   True\n"
          ],
          "name": "stdout"
        }
      ]
    },
    {
      "cell_type": "code",
      "metadata": {
        "id": "BNRHyqKRm49t",
        "colab_type": "code",
        "colab": {
          "base_uri": "https://localhost:8080/",
          "height": 119
        },
        "outputId": "c64f4dc0-86bf-4418-8c85-6d14e751dfbc"
      },
      "source": [
        "print(df.isnull().all())"
      ],
      "execution_count": 186,
      "outputs": [
        {
          "output_type": "stream",
          "text": [
            "name     False\n",
            "age      False\n",
            "state    False\n",
            "point    False\n",
            "other     True\n",
            "dtype: bool\n"
          ],
          "name": "stdout"
        }
      ]
    },
    {
      "cell_type": "code",
      "metadata": {
        "id": "6arrSYqhm63H",
        "colab_type": "code",
        "colab": {
          "base_uri": "https://localhost:8080/",
          "height": 136
        },
        "outputId": "b7a0bca4-134f-4db8-db82-7e5ba58f88fd"
      },
      "source": [
        "print(df.isnull().all(axis = 1))"
      ],
      "execution_count": 187,
      "outputs": [
        {
          "output_type": "stream",
          "text": [
            "0    False\n",
            "1     True\n",
            "2    False\n",
            "3    False\n",
            "4    False\n",
            "5    False\n",
            "dtype: bool\n"
          ],
          "name": "stdout"
        }
      ]
    },
    {
      "cell_type": "code",
      "metadata": {
        "id": "RkYBlrG_m-pf",
        "colab_type": "code",
        "colab": {
          "base_uri": "https://localhost:8080/",
          "height": 119
        },
        "outputId": "50271e6e-2a97-44b5-e26c-38d661d92329"
      },
      "source": [
        "print(df.isnull().any())"
      ],
      "execution_count": 188,
      "outputs": [
        {
          "output_type": "stream",
          "text": [
            "name     True\n",
            "age      True\n",
            "state    True\n",
            "point    True\n",
            "other    True\n",
            "dtype: bool\n"
          ],
          "name": "stdout"
        }
      ]
    },
    {
      "cell_type": "code",
      "metadata": {
        "id": "F53gabsQnFC_",
        "colab_type": "code",
        "colab": {
          "base_uri": "https://localhost:8080/",
          "height": 136
        },
        "outputId": "9f81c0c2-8884-4613-cad8-20af7f64a14e"
      },
      "source": [
        "print(df.isnull().any(axis = 1))"
      ],
      "execution_count": 189,
      "outputs": [
        {
          "output_type": "stream",
          "text": [
            "0    True\n",
            "1    True\n",
            "2    True\n",
            "3    True\n",
            "4    True\n",
            "5    True\n",
            "dtype: bool\n"
          ],
          "name": "stdout"
        }
      ]
    },
    {
      "cell_type": "code",
      "metadata": {
        "id": "WIavJu_anHoI",
        "colab_type": "code",
        "colab": {
          "base_uri": "https://localhost:8080/",
          "height": 119
        },
        "outputId": "a571de1f-9ffc-4e68-e3a6-b553749d59fc"
      },
      "source": [
        "print(df.isnull().sum())"
      ],
      "execution_count": 191,
      "outputs": [
        {
          "output_type": "stream",
          "text": [
            "name     1\n",
            "age      3\n",
            "state    2\n",
            "point    4\n",
            "other    6\n",
            "dtype: int64\n"
          ],
          "name": "stdout"
        }
      ]
    },
    {
      "cell_type": "code",
      "metadata": {
        "id": "32eRcExdnLCI",
        "colab_type": "code",
        "colab": {
          "base_uri": "https://localhost:8080/",
          "height": 136
        },
        "outputId": "7e5d0425-2d82-4ccf-a602-4e1d6a30f3d7"
      },
      "source": [
        "print(df.isnull().sum(axis = 1))"
      ],
      "execution_count": 192,
      "outputs": [
        {
          "output_type": "stream",
          "text": [
            "0    2\n",
            "1    5\n",
            "2    3\n",
            "3    1\n",
            "4    2\n",
            "5    3\n",
            "dtype: int64\n"
          ],
          "name": "stdout"
        }
      ]
    },
    {
      "cell_type": "code",
      "metadata": {
        "id": "EVOqIbhNnO8P",
        "colab_type": "code",
        "colab": {
          "base_uri": "https://localhost:8080/",
          "height": 235
        },
        "outputId": "63d9c437-89d3-4aa3-cd15-5814294f40eb"
      },
      "source": [
        "df"
      ],
      "execution_count": 193,
      "outputs": [
        {
          "output_type": "execute_result",
          "data": {
            "text/html": [
              "<div>\n",
              "<style scoped>\n",
              "    .dataframe tbody tr th:only-of-type {\n",
              "        vertical-align: middle;\n",
              "    }\n",
              "\n",
              "    .dataframe tbody tr th {\n",
              "        vertical-align: top;\n",
              "    }\n",
              "\n",
              "    .dataframe thead th {\n",
              "        text-align: right;\n",
              "    }\n",
              "</style>\n",
              "<table border=\"1\" class=\"dataframe\">\n",
              "  <thead>\n",
              "    <tr style=\"text-align: right;\">\n",
              "      <th></th>\n",
              "      <th>name</th>\n",
              "      <th>age</th>\n",
              "      <th>state</th>\n",
              "      <th>point</th>\n",
              "      <th>other</th>\n",
              "    </tr>\n",
              "  </thead>\n",
              "  <tbody>\n",
              "    <tr>\n",
              "      <th>0</th>\n",
              "      <td>Alice</td>\n",
              "      <td>24.0</td>\n",
              "      <td>NY</td>\n",
              "      <td>NaN</td>\n",
              "      <td>NaN</td>\n",
              "    </tr>\n",
              "    <tr>\n",
              "      <th>1</th>\n",
              "      <td>NaN</td>\n",
              "      <td>NaN</td>\n",
              "      <td>NaN</td>\n",
              "      <td>NaN</td>\n",
              "      <td>NaN</td>\n",
              "    </tr>\n",
              "    <tr>\n",
              "      <th>2</th>\n",
              "      <td>Charlie</td>\n",
              "      <td>NaN</td>\n",
              "      <td>CA</td>\n",
              "      <td>NaN</td>\n",
              "      <td>NaN</td>\n",
              "    </tr>\n",
              "    <tr>\n",
              "      <th>3</th>\n",
              "      <td>Dave</td>\n",
              "      <td>68.0</td>\n",
              "      <td>TX</td>\n",
              "      <td>70.0</td>\n",
              "      <td>NaN</td>\n",
              "    </tr>\n",
              "    <tr>\n",
              "      <th>4</th>\n",
              "      <td>Ellen</td>\n",
              "      <td>NaN</td>\n",
              "      <td>CA</td>\n",
              "      <td>88.0</td>\n",
              "      <td>NaN</td>\n",
              "    </tr>\n",
              "    <tr>\n",
              "      <th>5</th>\n",
              "      <td>Frank</td>\n",
              "      <td>30.0</td>\n",
              "      <td>NaN</td>\n",
              "      <td>NaN</td>\n",
              "      <td>NaN</td>\n",
              "    </tr>\n",
              "  </tbody>\n",
              "</table>\n",
              "</div>"
            ],
            "text/plain": [
              "      name   age state  point  other\n",
              "0    Alice  24.0    NY    NaN    NaN\n",
              "1      NaN   NaN   NaN    NaN    NaN\n",
              "2  Charlie   NaN    CA    NaN    NaN\n",
              "3     Dave  68.0    TX   70.0    NaN\n",
              "4    Ellen   NaN    CA   88.0    NaN\n",
              "5    Frank  30.0   NaN    NaN    NaN"
            ]
          },
          "metadata": {
            "tags": []
          },
          "execution_count": 193
        }
      ]
    },
    {
      "cell_type": "code",
      "metadata": {
        "id": "IFBiPZ_vnPlX",
        "colab_type": "code",
        "colab": {
          "base_uri": "https://localhost:8080/",
          "height": 119
        },
        "outputId": "72212d28-8a37-447a-fc58-39aa4b02bf3d"
      },
      "source": [
        "print(df.count())"
      ],
      "execution_count": 194,
      "outputs": [
        {
          "output_type": "stream",
          "text": [
            "name     5\n",
            "age      3\n",
            "state    4\n",
            "point    2\n",
            "other    0\n",
            "dtype: int64\n"
          ],
          "name": "stdout"
        }
      ]
    },
    {
      "cell_type": "code",
      "metadata": {
        "id": "FGgGj8M8nR33",
        "colab_type": "code",
        "colab": {
          "base_uri": "https://localhost:8080/",
          "height": 136
        },
        "outputId": "7cc7f33f-fd5d-4fbd-92a8-731b64591834"
      },
      "source": [
        "print(df.count(axis = 1))"
      ],
      "execution_count": 195,
      "outputs": [
        {
          "output_type": "stream",
          "text": [
            "0    3\n",
            "1    0\n",
            "2    2\n",
            "3    4\n",
            "4    3\n",
            "5    2\n",
            "dtype: int64\n"
          ],
          "name": "stdout"
        }
      ]
    },
    {
      "cell_type": "code",
      "metadata": {
        "id": "CYxYSmg4nVMv",
        "colab_type": "code",
        "colab": {
          "base_uri": "https://localhost:8080/",
          "height": 119
        },
        "outputId": "77474895-37b1-43c1-ae03-a8fb2ced90b5"
      },
      "source": [
        "print(df.isnull().values)"
      ],
      "execution_count": 196,
      "outputs": [
        {
          "output_type": "stream",
          "text": [
            "[[False False False  True  True]\n",
            " [ True  True  True  True  True]\n",
            " [False  True False  True  True]\n",
            " [False False False False  True]\n",
            " [False  True False False  True]\n",
            " [False False  True  True  True]]\n"
          ],
          "name": "stdout"
        }
      ]
    },
    {
      "cell_type": "code",
      "metadata": {
        "id": "9W1YpZ9ZnZdA",
        "colab_type": "code",
        "colab": {
          "base_uri": "https://localhost:8080/",
          "height": 34
        },
        "outputId": "7e99cc74-858a-4ee4-a1d3-754145326627"
      },
      "source": [
        "print(df.isnull().values.sum())"
      ],
      "execution_count": 197,
      "outputs": [
        {
          "output_type": "stream",
          "text": [
            "16\n"
          ],
          "name": "stdout"
        }
      ]
    },
    {
      "cell_type": "code",
      "metadata": {
        "id": "UwbVVeSLnc7g",
        "colab_type": "code",
        "colab": {
          "base_uri": "https://localhost:8080/",
          "height": 34
        },
        "outputId": "975a2569-5e20-4a96-ec1e-9cfa0559b6c6"
      },
      "source": [
        "print(df.count().sum())"
      ],
      "execution_count": 198,
      "outputs": [
        {
          "output_type": "stream",
          "text": [
            "14\n"
          ],
          "name": "stdout"
        }
      ]
    },
    {
      "cell_type": "code",
      "metadata": {
        "id": "VQBP4skCnhdo",
        "colab_type": "code",
        "colab": {
          "base_uri": "https://localhost:8080/",
          "height": 34
        },
        "outputId": "2f8b1885-c2e0-446b-e6fd-7f606921957a"
      },
      "source": [
        "print(df.isnull().values.sum() != 0)"
      ],
      "execution_count": 199,
      "outputs": [
        {
          "output_type": "stream",
          "text": [
            "True\n"
          ],
          "name": "stdout"
        }
      ]
    },
    {
      "cell_type": "code",
      "metadata": {
        "id": "vP7wbZ21nmX4",
        "colab_type": "code",
        "colab": {
          "base_uri": "https://localhost:8080/",
          "height": 34
        },
        "outputId": "66a0fdb8-9818-45b5-9c15-0147f9819a0c"
      },
      "source": [
        "print(df.size)"
      ],
      "execution_count": 200,
      "outputs": [
        {
          "output_type": "stream",
          "text": [
            "30\n"
          ],
          "name": "stdout"
        }
      ]
    },
    {
      "cell_type": "code",
      "metadata": {
        "id": "eEom1C4mnoGP",
        "colab_type": "code",
        "colab": {
          "base_uri": "https://localhost:8080/",
          "height": 34
        },
        "outputId": "7fbd68b2-13ae-4a8d-d636-d6ffc0e6542f"
      },
      "source": [
        "print(df.isnull().values.sum() == df.size)"
      ],
      "execution_count": 201,
      "outputs": [
        {
          "output_type": "stream",
          "text": [
            "False\n"
          ],
          "name": "stdout"
        }
      ]
    },
    {
      "cell_type": "code",
      "metadata": {
        "id": "ULLFDDVYnq4P",
        "colab_type": "code",
        "colab": {
          "base_uri": "https://localhost:8080/",
          "height": 136
        },
        "outputId": "13384720-2a47-42ac-c71d-e0000b13072a"
      },
      "source": [
        "s = df['state']\n",
        "print(s)"
      ],
      "execution_count": 202,
      "outputs": [
        {
          "output_type": "stream",
          "text": [
            "0     NY\n",
            "1    NaN\n",
            "2     CA\n",
            "3     TX\n",
            "4     CA\n",
            "5    NaN\n",
            "Name: state, dtype: object\n"
          ],
          "name": "stdout"
        }
      ]
    },
    {
      "cell_type": "code",
      "metadata": {
        "id": "VdpYYqPZn-Kg",
        "colab_type": "code",
        "colab": {
          "base_uri": "https://localhost:8080/",
          "height": 136
        },
        "outputId": "15acec9c-c30f-4597-c5b6-b1607aaa312c"
      },
      "source": [
        "print(s.isnull())"
      ],
      "execution_count": 203,
      "outputs": [
        {
          "output_type": "stream",
          "text": [
            "0    False\n",
            "1     True\n",
            "2    False\n",
            "3    False\n",
            "4    False\n",
            "5     True\n",
            "Name: state, dtype: bool\n"
          ],
          "name": "stdout"
        }
      ]
    },
    {
      "cell_type": "code",
      "metadata": {
        "id": "HrMl0y6Vn_Eo",
        "colab_type": "code",
        "colab": {
          "base_uri": "https://localhost:8080/",
          "height": 34
        },
        "outputId": "55bef1dd-8890-40c8-c0f0-c0e2a3f40282"
      },
      "source": [
        "print(s.isnull().any())"
      ],
      "execution_count": 204,
      "outputs": [
        {
          "output_type": "stream",
          "text": [
            "True\n"
          ],
          "name": "stdout"
        }
      ]
    },
    {
      "cell_type": "code",
      "metadata": {
        "id": "5nxSz36EoAiQ",
        "colab_type": "code",
        "colab": {
          "base_uri": "https://localhost:8080/",
          "height": 34
        },
        "outputId": "e1d75747-90a1-4ff5-ba42-20c1cb662ef0"
      },
      "source": [
        "print(s.isnull().sum())"
      ],
      "execution_count": 205,
      "outputs": [
        {
          "output_type": "stream",
          "text": [
            "2\n"
          ],
          "name": "stdout"
        }
      ]
    },
    {
      "cell_type": "code",
      "metadata": {
        "id": "ZgI3OMLGoCzo",
        "colab_type": "code",
        "colab": {
          "base_uri": "https://localhost:8080/",
          "height": 34
        },
        "outputId": "0df9299f-221a-4f20-ec97-4cd6627ece16"
      },
      "source": [
        "print(s.count())"
      ],
      "execution_count": 206,
      "outputs": [
        {
          "output_type": "stream",
          "text": [
            "4\n"
          ],
          "name": "stdout"
        }
      ]
    },
    {
      "cell_type": "code",
      "metadata": {
        "id": "UaxDJbXKoD0Q",
        "colab_type": "code",
        "colab": {
          "base_uri": "https://localhost:8080/",
          "height": 326
        },
        "outputId": "a7707dd7-cfc1-4494-c227-e01108870f1e"
      },
      "source": [
        "\n",
        "import pandas as pd\n",
        "df = pd.DataFrame({'col1':[0,pd.np.nan, pd.np.nan, 3,4],\n",
        "                   'col2':[pd.np.nan, 1, 2, pd.np.nan, pd.np.nan],\n",
        "                   'col3':[4,pd.np.nan, pd.np.nan, 7, 10]})\n",
        "df"
      ],
      "execution_count": 207,
      "outputs": [
        {
          "output_type": "stream",
          "text": [
            "/usr/local/lib/python3.6/dist-packages/ipykernel_launcher.py:2: FutureWarning: The pandas.np module is deprecated and will be removed from pandas in a future version. Import numpy directly instead\n",
            "  \n",
            "/usr/local/lib/python3.6/dist-packages/ipykernel_launcher.py:3: FutureWarning: The pandas.np module is deprecated and will be removed from pandas in a future version. Import numpy directly instead\n",
            "  This is separate from the ipykernel package so we can avoid doing imports until\n",
            "/usr/local/lib/python3.6/dist-packages/ipykernel_launcher.py:4: FutureWarning: The pandas.np module is deprecated and will be removed from pandas in a future version. Import numpy directly instead\n",
            "  after removing the cwd from sys.path.\n"
          ],
          "name": "stderr"
        },
        {
          "output_type": "execute_result",
          "data": {
            "text/html": [
              "<div>\n",
              "<style scoped>\n",
              "    .dataframe tbody tr th:only-of-type {\n",
              "        vertical-align: middle;\n",
              "    }\n",
              "\n",
              "    .dataframe tbody tr th {\n",
              "        vertical-align: top;\n",
              "    }\n",
              "\n",
              "    .dataframe thead th {\n",
              "        text-align: right;\n",
              "    }\n",
              "</style>\n",
              "<table border=\"1\" class=\"dataframe\">\n",
              "  <thead>\n",
              "    <tr style=\"text-align: right;\">\n",
              "      <th></th>\n",
              "      <th>col1</th>\n",
              "      <th>col2</th>\n",
              "      <th>col3</th>\n",
              "    </tr>\n",
              "  </thead>\n",
              "  <tbody>\n",
              "    <tr>\n",
              "      <th>0</th>\n",
              "      <td>0.0</td>\n",
              "      <td>NaN</td>\n",
              "      <td>4.0</td>\n",
              "    </tr>\n",
              "    <tr>\n",
              "      <th>1</th>\n",
              "      <td>NaN</td>\n",
              "      <td>1.0</td>\n",
              "      <td>NaN</td>\n",
              "    </tr>\n",
              "    <tr>\n",
              "      <th>2</th>\n",
              "      <td>NaN</td>\n",
              "      <td>2.0</td>\n",
              "      <td>NaN</td>\n",
              "    </tr>\n",
              "    <tr>\n",
              "      <th>3</th>\n",
              "      <td>3.0</td>\n",
              "      <td>NaN</td>\n",
              "      <td>7.0</td>\n",
              "    </tr>\n",
              "    <tr>\n",
              "      <th>4</th>\n",
              "      <td>4.0</td>\n",
              "      <td>NaN</td>\n",
              "      <td>10.0</td>\n",
              "    </tr>\n",
              "  </tbody>\n",
              "</table>\n",
              "</div>"
            ],
            "text/plain": [
              "   col1  col2  col3\n",
              "0   0.0   NaN   4.0\n",
              "1   NaN   1.0   NaN\n",
              "2   NaN   2.0   NaN\n",
              "3   3.0   NaN   7.0\n",
              "4   4.0   NaN  10.0"
            ]
          },
          "metadata": {
            "tags": []
          },
          "execution_count": 207
        }
      ]
    },
    {
      "cell_type": "code",
      "metadata": {
        "id": "bPPeWzfTor6z",
        "colab_type": "code",
        "colab": {
          "base_uri": "https://localhost:8080/",
          "height": 119
        },
        "outputId": "b7e894e5-3e47-4c7c-8326-4a7de39f9cac"
      },
      "source": [
        "print(df.interpolate())"
      ],
      "execution_count": 208,
      "outputs": [
        {
          "output_type": "stream",
          "text": [
            "   col1  col2  col3\n",
            "0   0.0   NaN   4.0\n",
            "1   1.0   1.0   5.0\n",
            "2   2.0   2.0   6.0\n",
            "3   3.0   2.0   7.0\n",
            "4   4.0   2.0  10.0\n"
          ],
          "name": "stdout"
        }
      ]
    },
    {
      "cell_type": "code",
      "metadata": {
        "id": "hY6UWzujqF4J",
        "colab_type": "code",
        "colab": {
          "base_uri": "https://localhost:8080/",
          "height": 119
        },
        "outputId": "d7f6ddde-23db-454c-e763-ead1e66d3d9d"
      },
      "source": [
        "print(df.interpolate(axis = 1))"
      ],
      "execution_count": 209,
      "outputs": [
        {
          "output_type": "stream",
          "text": [
            "   col1  col2  col3\n",
            "0   0.0   2.0   4.0\n",
            "1   NaN   1.0   1.0\n",
            "2   NaN   2.0   2.0\n",
            "3   3.0   5.0   7.0\n",
            "4   4.0   7.0  10.0\n"
          ],
          "name": "stdout"
        }
      ]
    },
    {
      "cell_type": "code",
      "metadata": {
        "id": "DIX02AaBqLeH",
        "colab_type": "code",
        "colab": {
          "base_uri": "https://localhost:8080/",
          "height": 119
        },
        "outputId": "172b0146-5196-453a-91d3-d426cf4e9ce3"
      },
      "source": [
        "print(df.interpolate(limit=1))"
      ],
      "execution_count": 210,
      "outputs": [
        {
          "output_type": "stream",
          "text": [
            "   col1  col2  col3\n",
            "0   0.0   NaN   4.0\n",
            "1   1.0   1.0   5.0\n",
            "2   NaN   2.0   NaN\n",
            "3   3.0   2.0   7.0\n",
            "4   4.0   NaN  10.0\n"
          ],
          "name": "stdout"
        }
      ]
    },
    {
      "cell_type": "code",
      "metadata": {
        "id": "Mk_PiPCfqaOQ",
        "colab_type": "code",
        "colab": {
          "base_uri": "https://localhost:8080/",
          "height": 119
        },
        "outputId": "453023ca-4ec0-4735-b798-2339ba0dac50"
      },
      "source": [
        "print(df.interpolate(limit=1,limit_direction='forward'))"
      ],
      "execution_count": 211,
      "outputs": [
        {
          "output_type": "stream",
          "text": [
            "   col1  col2  col3\n",
            "0   0.0   NaN   4.0\n",
            "1   1.0   1.0   5.0\n",
            "2   NaN   2.0   NaN\n",
            "3   3.0   2.0   7.0\n",
            "4   4.0   NaN  10.0\n"
          ],
          "name": "stdout"
        }
      ]
    },
    {
      "cell_type": "code",
      "metadata": {
        "id": "UJLQl_lJqdi4",
        "colab_type": "code",
        "colab": {
          "base_uri": "https://localhost:8080/",
          "height": 119
        },
        "outputId": "f0f5d053-704f-4128-9dfa-6ee8521d5f93"
      },
      "source": [
        "print(df.interpolate(limit=1,limit_direction='backward'))"
      ],
      "execution_count": 212,
      "outputs": [
        {
          "output_type": "stream",
          "text": [
            "   col1  col2  col3\n",
            "0   0.0   1.0   4.0\n",
            "1   NaN   1.0   NaN\n",
            "2   2.0   2.0   6.0\n",
            "3   3.0   NaN   7.0\n",
            "4   4.0   NaN  10.0\n"
          ],
          "name": "stdout"
        }
      ]
    },
    {
      "cell_type": "code",
      "metadata": {
        "id": "vDiYmVb9qlW4",
        "colab_type": "code",
        "colab": {
          "base_uri": "https://localhost:8080/",
          "height": 119
        },
        "outputId": "bcf5f0eb-3ad2-4c74-c79d-6015b97c3a8d"
      },
      "source": [
        "print(df.interpolate(limit=1,limit_direction='both'))"
      ],
      "execution_count": 213,
      "outputs": [
        {
          "output_type": "stream",
          "text": [
            "   col1  col2  col3\n",
            "0   0.0   1.0   4.0\n",
            "1   1.0   1.0   5.0\n",
            "2   2.0   2.0   6.0\n",
            "3   3.0   2.0   7.0\n",
            "4   4.0   NaN  10.0\n"
          ],
          "name": "stdout"
        }
      ]
    },
    {
      "cell_type": "code",
      "metadata": {
        "id": "t-2tR_dyqoMY",
        "colab_type": "code",
        "colab": {
          "base_uri": "https://localhost:8080/",
          "height": 119
        },
        "outputId": "f0b1e9bb-2749-4fe5-b333-0325a1f0db1d"
      },
      "source": [
        "print(df.interpolate(limit_direction='both'))"
      ],
      "execution_count": 214,
      "outputs": [
        {
          "output_type": "stream",
          "text": [
            "   col1  col2  col3\n",
            "0   0.0   1.0   4.0\n",
            "1   1.0   1.0   5.0\n",
            "2   2.0   2.0   6.0\n",
            "3   3.0   2.0   7.0\n",
            "4   4.0   2.0  10.0\n"
          ],
          "name": "stdout"
        }
      ]
    },
    {
      "cell_type": "code",
      "metadata": {
        "id": "hbmiczOOqseg",
        "colab_type": "code",
        "colab": {
          "base_uri": "https://localhost:8080/",
          "height": 221
        },
        "outputId": "915f7f69-1b96-4441-f3ba-123b8b9b748f"
      },
      "source": [
        "print(df.interpolate(limit_area='outside'))\n",
        "print(df.interpolate(limit_area='outside',limit_direction='both'))"
      ],
      "execution_count": 216,
      "outputs": [
        {
          "output_type": "stream",
          "text": [
            "   col1  col2  col3\n",
            "0   0.0   NaN   4.0\n",
            "1   NaN   1.0   NaN\n",
            "2   NaN   2.0   NaN\n",
            "3   3.0   2.0   7.0\n",
            "4   4.0   2.0  10.0\n",
            "   col1  col2  col3\n",
            "0   0.0   1.0   4.0\n",
            "1   NaN   1.0   NaN\n",
            "2   NaN   2.0   NaN\n",
            "3   3.0   2.0   7.0\n",
            "4   4.0   2.0  10.0\n"
          ],
          "name": "stdout"
        }
      ]
    },
    {
      "cell_type": "code",
      "metadata": {
        "id": "GPqeErs-rUSI",
        "colab_type": "code",
        "colab": {}
      },
      "source": [
        "df_copy = df.copy()"
      ],
      "execution_count": 217,
      "outputs": []
    },
    {
      "cell_type": "code",
      "metadata": {
        "id": "8uxG3BlerbFg",
        "colab_type": "code",
        "colab": {
          "base_uri": "https://localhost:8080/",
          "height": 119
        },
        "outputId": "9332c986-a8dc-4261-e7dd-a8295c164901"
      },
      "source": [
        "df_copy.interpolate(inplace=True)\n",
        "print(df_copy)"
      ],
      "execution_count": 218,
      "outputs": [
        {
          "output_type": "stream",
          "text": [
            "   col1  col2  col3\n",
            "0   0.0   NaN   4.0\n",
            "1   1.0   1.0   5.0\n",
            "2   2.0   2.0   6.0\n",
            "3   3.0   2.0   7.0\n",
            "4   4.0   2.0  10.0\n"
          ],
          "name": "stdout"
        }
      ]
    },
    {
      "cell_type": "code",
      "metadata": {
        "id": "TeiTKBTFreAQ",
        "colab_type": "code",
        "colab": {
          "base_uri": "https://localhost:8080/",
          "height": 207
        },
        "outputId": "6fc873a6-e96a-41c9-d240-4184b88d9953"
      },
      "source": [
        "s = pd.Series([0, pd.np.nan, pd.np.nan, pd.np.nan, 4, pd.np.nan, pd.np.nan],\n",
        "              index=[0, 2, 5, 6, 8, 10, 14])\n",
        "print(s)"
      ],
      "execution_count": 219,
      "outputs": [
        {
          "output_type": "stream",
          "text": [
            "0     0.0\n",
            "2     NaN\n",
            "5     NaN\n",
            "6     NaN\n",
            "8     4.0\n",
            "10    NaN\n",
            "14    NaN\n",
            "dtype: float64\n"
          ],
          "name": "stdout"
        },
        {
          "output_type": "stream",
          "text": [
            "/usr/local/lib/python3.6/dist-packages/ipykernel_launcher.py:1: FutureWarning: The pandas.np module is deprecated and will be removed from pandas in a future version. Import numpy directly instead\n",
            "  \"\"\"Entry point for launching an IPython kernel.\n"
          ],
          "name": "stderr"
        }
      ]
    },
    {
      "cell_type": "code",
      "metadata": {
        "id": "pOIyxnnhrsP_",
        "colab_type": "code",
        "colab": {
          "base_uri": "https://localhost:8080/",
          "height": 153
        },
        "outputId": "c95e0809-d718-4ab3-de8a-0b0443cd3689"
      },
      "source": [
        "print(s.interpolate())"
      ],
      "execution_count": 220,
      "outputs": [
        {
          "output_type": "stream",
          "text": [
            "0     0.0\n",
            "2     1.0\n",
            "5     2.0\n",
            "6     3.0\n",
            "8     4.0\n",
            "10    4.0\n",
            "14    4.0\n",
            "dtype: float64\n"
          ],
          "name": "stdout"
        }
      ]
    },
    {
      "cell_type": "code",
      "metadata": {
        "id": "V32Ap1hPrtzf",
        "colab_type": "code",
        "colab": {
          "base_uri": "https://localhost:8080/",
          "height": 153
        },
        "outputId": "cee539f8-5d9c-4fd2-d17b-b6a2c1875ac9"
      },
      "source": [
        "print(s.interpolate('index'))"
      ],
      "execution_count": 221,
      "outputs": [
        {
          "output_type": "stream",
          "text": [
            "0     0.0\n",
            "2     1.0\n",
            "5     2.5\n",
            "6     3.0\n",
            "8     4.0\n",
            "10    4.0\n",
            "14    4.0\n",
            "dtype: float64\n"
          ],
          "name": "stdout"
        }
      ]
    },
    {
      "cell_type": "code",
      "metadata": {
        "id": "mB2yRE4urvIn",
        "colab_type": "code",
        "colab": {
          "base_uri": "https://localhost:8080/",
          "height": 153
        },
        "outputId": "ea2b339f-bd8d-4470-f838-51a47c9b0bb7"
      },
      "source": [
        "print(s.interpolate('values'))"
      ],
      "execution_count": 222,
      "outputs": [
        {
          "output_type": "stream",
          "text": [
            "0     0.0\n",
            "2     1.0\n",
            "5     2.5\n",
            "6     3.0\n",
            "8     4.0\n",
            "10    4.0\n",
            "14    4.0\n",
            "dtype: float64\n"
          ],
          "name": "stdout"
        }
      ]
    },
    {
      "cell_type": "code",
      "metadata": {
        "id": "ChHIBftQrw1_",
        "colab_type": "code",
        "colab": {
          "base_uri": "https://localhost:8080/",
          "height": 71
        },
        "outputId": "bff73fb7-d376-48ac-843b-4f1c69930c42"
      },
      "source": [
        "s = pd.Series([0, 10, pd.np.nan, pd.np.nan, 4, pd.np.nan, pd.np.nan],\n",
        "              index=[0, 2, 5, 6, 8, 10, 14])"
      ],
      "execution_count": 223,
      "outputs": [
        {
          "output_type": "stream",
          "text": [
            "/usr/local/lib/python3.6/dist-packages/ipykernel_launcher.py:1: FutureWarning: The pandas.np module is deprecated and will be removed from pandas in a future version. Import numpy directly instead\n",
            "  \"\"\"Entry point for launching an IPython kernel.\n"
          ],
          "name": "stderr"
        }
      ]
    },
    {
      "cell_type": "code",
      "metadata": {
        "id": "sTpqcG0_sODh",
        "colab_type": "code",
        "colab": {
          "base_uri": "https://localhost:8080/",
          "height": 153
        },
        "outputId": "f922e46e-8af8-479b-ffb8-e5b2f8ef6e94"
      },
      "source": [
        "print(s.interpolate('spline',order=2))"
      ],
      "execution_count": 224,
      "outputs": [
        {
          "output_type": "stream",
          "text": [
            "0      0.00\n",
            "2     10.00\n",
            "5     13.75\n",
            "6     12.00\n",
            "8      4.00\n",
            "10   -10.00\n",
            "14   -56.00\n",
            "dtype: float64\n"
          ],
          "name": "stdout"
        }
      ]
    },
    {
      "cell_type": "code",
      "metadata": {
        "id": "BS4f1FYwsiro",
        "colab_type": "code",
        "colab": {
          "base_uri": "https://localhost:8080/",
          "height": 153
        },
        "outputId": "776f8d78-43e2-479f-ee62-512311d3c8c0"
      },
      "source": [
        "s.index = range(7)\n",
        "print(s.interpolate('spline',order=2))"
      ],
      "execution_count": 225,
      "outputs": [
        {
          "output_type": "stream",
          "text": [
            "0     0.0\n",
            "1    10.0\n",
            "2    14.0\n",
            "3    12.0\n",
            "4     4.0\n",
            "5   -10.0\n",
            "6   -30.0\n",
            "dtype: float64\n"
          ],
          "name": "stdout"
        }
      ]
    },
    {
      "cell_type": "code",
      "metadata": {
        "id": "e5tyTEewsmy4",
        "colab_type": "code",
        "colab": {
          "base_uri": "https://localhost:8080/",
          "height": 173
        },
        "outputId": "d2ebbe37-075c-4f07-a5ff-ad532a75c0ed"
      },
      "source": [
        "df_nan = pd.DataFrame({'value': [1, pd.np.nan, pd.np.nan, pd.np.nan, 31]},\n",
        "                      index=pd.to_datetime(['2018-01-01', '2018-01-02', '2018-01-15', '2018-01-20', '2018-01-31']))\n",
        "\n",
        "print(df_nan)"
      ],
      "execution_count": 226,
      "outputs": [
        {
          "output_type": "stream",
          "text": [
            "            value\n",
            "2018-01-01    1.0\n",
            "2018-01-02    NaN\n",
            "2018-01-15    NaN\n",
            "2018-01-20    NaN\n",
            "2018-01-31   31.0\n"
          ],
          "name": "stdout"
        },
        {
          "output_type": "stream",
          "text": [
            "/usr/local/lib/python3.6/dist-packages/ipykernel_launcher.py:1: FutureWarning: The pandas.np module is deprecated and will be removed from pandas in a future version. Import numpy directly instead\n",
            "  \"\"\"Entry point for launching an IPython kernel.\n"
          ],
          "name": "stderr"
        }
      ]
    },
    {
      "cell_type": "code",
      "metadata": {
        "id": "2mMa2UTEtIKQ",
        "colab_type": "code",
        "colab": {
          "base_uri": "https://localhost:8080/",
          "height": 119
        },
        "outputId": "f370164a-48db-4b86-c317-20d706e483aa"
      },
      "source": [
        "print(df_nan.interpolate())"
      ],
      "execution_count": 227,
      "outputs": [
        {
          "output_type": "stream",
          "text": [
            "            value\n",
            "2018-01-01    1.0\n",
            "2018-01-02    8.5\n",
            "2018-01-15   16.0\n",
            "2018-01-20   23.5\n",
            "2018-01-31   31.0\n"
          ],
          "name": "stdout"
        }
      ]
    },
    {
      "cell_type": "code",
      "metadata": {
        "id": "ZqeRDzRrtLU4",
        "colab_type": "code",
        "colab": {
          "base_uri": "https://localhost:8080/",
          "height": 119
        },
        "outputId": "c35a0e74-fb8d-4067-82ab-65b23244ab74"
      },
      "source": [
        "print(df_nan.interpolate('time'))"
      ],
      "execution_count": 228,
      "outputs": [
        {
          "output_type": "stream",
          "text": [
            "            value\n",
            "2018-01-01    1.0\n",
            "2018-01-02    2.0\n",
            "2018-01-15   15.0\n",
            "2018-01-20   20.0\n",
            "2018-01-31   31.0\n"
          ],
          "name": "stdout"
        }
      ]
    },
    {
      "cell_type": "code",
      "metadata": {
        "id": "lkz9aDHKtPfI",
        "colab_type": "code",
        "colab": {}
      },
      "source": [
        ""
      ],
      "execution_count": null,
      "outputs": []
    }
  ]
}