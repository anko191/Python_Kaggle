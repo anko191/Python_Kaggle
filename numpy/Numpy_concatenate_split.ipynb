{
  "nbformat": 4,
  "nbformat_minor": 0,
  "metadata": {
    "colab": {
      "name": "Numpy_concatenate_split",
      "provenance": [],
      "collapsed_sections": [],
      "authorship_tag": "ABX9TyMu3kioMdudhtxhtcSxLUMQ",
      "include_colab_link": true
    },
    "kernelspec": {
      "name": "python3",
      "display_name": "Python 3"
    }
  },
  "cells": [
    {
      "cell_type": "markdown",
      "metadata": {
        "id": "view-in-github",
        "colab_type": "text"
      },
      "source": [
        "<a href=\"https://colab.research.google.com/github/anko191/Python_Kaggle/blob/master/numpy/Numpy_concatenate_split.ipynb\" target=\"_parent\"><img src=\"https://colab.research.google.com/assets/colab-badge.svg\" alt=\"Open In Colab\"/></a>"
      ]
    },
    {
      "cell_type": "markdown",
      "metadata": {
        "id": "N89uHHVCGqKw",
        "colab_type": "text"
      },
      "source": [
        "# 結合 concatenate, stack, block"
      ]
    },
    {
      "cell_type": "code",
      "metadata": {
        "id": "2UaKTezSHB7e",
        "colab_type": "code",
        "colab": {
          "base_uri": "https://localhost:8080/",
          "height": 51
        },
        "outputId": "cf1aee03-ef45-4b6f-bafc-f9e8e61f5eec"
      },
      "source": [
        "import numpy as np\n",
        "a1 = np.ones((2,3), int)\n",
        "print(a1)"
      ],
      "execution_count": null,
      "outputs": [
        {
          "output_type": "stream",
          "text": [
            "[[1 1 1]\n",
            " [1 1 1]]\n"
          ],
          "name": "stdout"
        }
      ]
    },
    {
      "cell_type": "code",
      "metadata": {
        "id": "ZTxZaHpVHJF7",
        "colab_type": "code",
        "colab": {
          "base_uri": "https://localhost:8080/",
          "height": 51
        },
        "outputId": "64a5015c-fec4-4c9e-f633-bf74207640a8"
      },
      "source": [
        "a2 = np.full((2,3), 2)\n",
        "print(a2)"
      ],
      "execution_count": null,
      "outputs": [
        {
          "output_type": "stream",
          "text": [
            "[[2 2 2]\n",
            " [2 2 2]]\n"
          ],
          "name": "stdout"
        }
      ]
    },
    {
      "cell_type": "code",
      "metadata": {
        "id": "wg4hidwpHU-A",
        "colab_type": "code",
        "colab": {
          "base_uri": "https://localhost:8080/",
          "height": 85
        },
        "outputId": "2190730a-a6bb-499b-ad5d-684d73f91133"
      },
      "source": [
        "print(np.concatenate([a1, a2]))"
      ],
      "execution_count": null,
      "outputs": [
        {
          "output_type": "stream",
          "text": [
            "[[1 1 1]\n",
            " [1 1 1]\n",
            " [2 2 2]\n",
            " [2 2 2]]\n"
          ],
          "name": "stdout"
        }
      ]
    },
    {
      "cell_type": "code",
      "metadata": {
        "id": "TP0BlKIoHXh0",
        "colab_type": "code",
        "colab": {
          "base_uri": "https://localhost:8080/",
          "height": 153
        },
        "outputId": "236b949e-a9fd-48e1-d035-5e87dc0e6fd4"
      },
      "source": [
        "a3 = np.full((2,3), 3)\n",
        "print(a3)\n",
        "print(np.concatenate([a1,a2,a3]))"
      ],
      "execution_count": null,
      "outputs": [
        {
          "output_type": "stream",
          "text": [
            "[[3 3 3]\n",
            " [3 3 3]]\n",
            "[[1 1 1]\n",
            " [1 1 1]\n",
            " [2 2 2]\n",
            " [2 2 2]\n",
            " [3 3 3]\n",
            " [3 3 3]]\n"
          ],
          "name": "stdout"
        }
      ]
    },
    {
      "cell_type": "code",
      "metadata": {
        "id": "gS-BTI0xHdqB",
        "colab_type": "code",
        "colab": {
          "base_uri": "https://localhost:8080/",
          "height": 85
        },
        "outputId": "735472a0-6918-438b-8e1e-75b79bd0aba8"
      },
      "source": [
        "print(np.concatenate([a1,a2], 0))"
      ],
      "execution_count": null,
      "outputs": [
        {
          "output_type": "stream",
          "text": [
            "[[1 1 1]\n",
            " [1 1 1]\n",
            " [2 2 2]\n",
            " [2 2 2]]\n"
          ],
          "name": "stdout"
        }
      ]
    },
    {
      "cell_type": "code",
      "metadata": {
        "id": "OmiIloZKHl1G",
        "colab_type": "code",
        "colab": {
          "base_uri": "https://localhost:8080/",
          "height": 51
        },
        "outputId": "92c2295e-64c0-496a-b738-8e0319291520"
      },
      "source": [
        "print(np.concatenate([a1,a2], 1))"
      ],
      "execution_count": null,
      "outputs": [
        {
          "output_type": "stream",
          "text": [
            "[[1 1 1 2 2 2]\n",
            " [1 1 1 2 2 2]]\n"
          ],
          "name": "stdout"
        }
      ]
    },
    {
      "cell_type": "code",
      "metadata": {
        "id": "diUULPxoHocZ",
        "colab_type": "code",
        "colab": {
          "base_uri": "https://localhost:8080/",
          "height": 68
        },
        "outputId": "f1723724-bb13-4211-87d5-497091255e39"
      },
      "source": [
        "a1 = np.ones(3, int)\n",
        "print(a1)\n",
        "a2 = np.full(3,2)\n",
        "print(a2)\n",
        "print(np.concatenate([a1,a2], 0))"
      ],
      "execution_count": null,
      "outputs": [
        {
          "output_type": "stream",
          "text": [
            "[1 1 1]\n",
            "[2 2 2]\n",
            "[1 1 1 2 2 2]\n"
          ],
          "name": "stdout"
        }
      ]
    },
    {
      "cell_type": "markdown",
      "metadata": {
        "id": "b03uytIfH6jb",
        "colab_type": "text"
      },
      "source": [
        "# numpy.stack()\n",
        "new dimension"
      ]
    },
    {
      "cell_type": "code",
      "metadata": {
        "id": "bMS_02PiH2No",
        "colab_type": "code",
        "colab": {
          "base_uri": "https://localhost:8080/",
          "height": 51
        },
        "outputId": "0121ef80-dbae-4b9e-b515-b4f3b5118049"
      },
      "source": [
        "print(np.stack([a1,a2]))"
      ],
      "execution_count": null,
      "outputs": [
        {
          "output_type": "stream",
          "text": [
            "[[1 1 1]\n",
            " [2 2 2]]\n"
          ],
          "name": "stdout"
        }
      ]
    },
    {
      "cell_type": "code",
      "metadata": {
        "id": "QadYhAJVISDO",
        "colab_type": "code",
        "colab": {
          "base_uri": "https://localhost:8080/",
          "height": 68
        },
        "outputId": "cc8c007e-ac47-4283-b8a9-754d830dc599"
      },
      "source": [
        "print(np.stack([a1,a2], 1))"
      ],
      "execution_count": null,
      "outputs": [
        {
          "output_type": "stream",
          "text": [
            "[[1 2]\n",
            " [1 2]\n",
            " [1 2]]\n"
          ],
          "name": "stdout"
        }
      ]
    },
    {
      "cell_type": "code",
      "metadata": {
        "id": "Aj8vJsEPIp-w",
        "colab_type": "code",
        "colab": {
          "base_uri": "https://localhost:8080/",
          "height": 34
        },
        "outputId": "b18ca2a8-cd87-4fdd-a646-ea4508389493"
      },
      "source": [
        "a2_ = np.full(4,2)\n",
        "print(a2_)"
      ],
      "execution_count": null,
      "outputs": [
        {
          "output_type": "stream",
          "text": [
            "[2 2 2 2]\n"
          ],
          "name": "stdout"
        }
      ]
    },
    {
      "cell_type": "code",
      "metadata": {
        "id": "P3n6dd0pIzQQ",
        "colab_type": "code",
        "colab": {
          "base_uri": "https://localhost:8080/",
          "height": 68
        },
        "outputId": "93e9424d-9080-40f9-eee4-c407f6e2b385"
      },
      "source": [
        "a1 = np.ones((3,4), int)\n",
        "print(a1)"
      ],
      "execution_count": null,
      "outputs": [
        {
          "output_type": "stream",
          "text": [
            "[[1 1 1 1]\n",
            " [1 1 1 1]\n",
            " [1 1 1 1]]\n"
          ],
          "name": "stdout"
        }
      ]
    },
    {
      "cell_type": "code",
      "metadata": {
        "id": "JhPNc15bI2mP",
        "colab_type": "code",
        "colab": {
          "base_uri": "https://localhost:8080/",
          "height": 68
        },
        "outputId": "027d12bb-70ae-4393-c8d2-b28f248b13d6"
      },
      "source": [
        "a2 = np.full((3,4), 2)\n",
        "print(a2)"
      ],
      "execution_count": null,
      "outputs": [
        {
          "output_type": "stream",
          "text": [
            "[[2 2 2 2]\n",
            " [2 2 2 2]\n",
            " [2 2 2 2]]\n"
          ],
          "name": "stdout"
        }
      ]
    },
    {
      "cell_type": "code",
      "metadata": {
        "id": "FkyRDXMzI43Y",
        "colab_type": "code",
        "colab": {
          "base_uri": "https://localhost:8080/",
          "height": 136
        },
        "outputId": "8a35ee40-f5a9-4fd3-f63f-4754dcb15c60"
      },
      "source": [
        "print(np.stack([a1, a2]))"
      ],
      "execution_count": null,
      "outputs": [
        {
          "output_type": "stream",
          "text": [
            "[[[1 1 1 1]\n",
            "  [1 1 1 1]\n",
            "  [1 1 1 1]]\n",
            "\n",
            " [[2 2 2 2]\n",
            "  [2 2 2 2]\n",
            "  [2 2 2 2]]]\n"
          ],
          "name": "stdout"
        }
      ]
    },
    {
      "cell_type": "code",
      "metadata": {
        "id": "mcp58UFlI_VY",
        "colab_type": "code",
        "colab": {
          "base_uri": "https://localhost:8080/",
          "height": 153
        },
        "outputId": "c83f68d4-a216-4ba8-8ae2-78032076468a"
      },
      "source": [
        "print(np.stack([a1, a2], 1))"
      ],
      "execution_count": null,
      "outputs": [
        {
          "output_type": "stream",
          "text": [
            "[[[1 1 1 1]\n",
            "  [2 2 2 2]]\n",
            "\n",
            " [[1 1 1 1]\n",
            "  [2 2 2 2]]\n",
            "\n",
            " [[1 1 1 1]\n",
            "  [2 2 2 2]]]\n"
          ],
          "name": "stdout"
        }
      ]
    },
    {
      "cell_type": "code",
      "metadata": {
        "id": "dmbCz5LzJER4",
        "colab_type": "code",
        "colab": {
          "base_uri": "https://localhost:8080/",
          "height": 68
        },
        "outputId": "09305181-e280-4399-d72d-895bb3e17ab0"
      },
      "source": [
        "print(np.stack([a1,a2], 1)[:,0,:])"
      ],
      "execution_count": null,
      "outputs": [
        {
          "output_type": "stream",
          "text": [
            "[[1 1 1 1]\n",
            " [1 1 1 1]\n",
            " [1 1 1 1]]\n"
          ],
          "name": "stdout"
        }
      ]
    },
    {
      "cell_type": "code",
      "metadata": {
        "id": "kY59X6nVJLyL",
        "colab_type": "code",
        "colab": {
          "base_uri": "https://localhost:8080/",
          "height": 68
        },
        "outputId": "f8d9a3c6-79a2-4133-8d93-01d1fa425ea9"
      },
      "source": [
        "print(np.stack([a1,a2], 1)[:,1,:])"
      ],
      "execution_count": null,
      "outputs": [
        {
          "output_type": "stream",
          "text": [
            "[[2 2 2 2]\n",
            " [2 2 2 2]\n",
            " [2 2 2 2]]\n"
          ],
          "name": "stdout"
        }
      ]
    },
    {
      "cell_type": "code",
      "metadata": {
        "id": "Fr-zOSFbJN1o",
        "colab_type": "code",
        "colab": {
          "base_uri": "https://localhost:8080/",
          "height": 255
        },
        "outputId": "4f0e0fd0-ca36-454b-b46a-29cb532d2e96"
      },
      "source": [
        "print(np.stack([a1, a2], 2))"
      ],
      "execution_count": null,
      "outputs": [
        {
          "output_type": "stream",
          "text": [
            "[[[1 2]\n",
            "  [1 2]\n",
            "  [1 2]\n",
            "  [1 2]]\n",
            "\n",
            " [[1 2]\n",
            "  [1 2]\n",
            "  [1 2]\n",
            "  [1 2]]\n",
            "\n",
            " [[1 2]\n",
            "  [1 2]\n",
            "  [1 2]\n",
            "  [1 2]]]\n"
          ],
          "name": "stdout"
        }
      ]
    },
    {
      "cell_type": "markdown",
      "metadata": {
        "id": "H9nGh05GJbBq",
        "colab_type": "text"
      },
      "source": [
        "axis = -1 is last axis... this case is axis = 2"
      ]
    },
    {
      "cell_type": "code",
      "metadata": {
        "id": "X4vbvrC3JRuf",
        "colab_type": "code",
        "colab": {
          "base_uri": "https://localhost:8080/",
          "height": 255
        },
        "outputId": "2d061202-45fd-4459-b839-2206aeaf5479"
      },
      "source": [
        "print(np.stack([a1, a2], -1))"
      ],
      "execution_count": null,
      "outputs": [
        {
          "output_type": "stream",
          "text": [
            "[[[1 2]\n",
            "  [1 2]\n",
            "  [1 2]\n",
            "  [1 2]]\n",
            "\n",
            " [[1 2]\n",
            "  [1 2]\n",
            "  [1 2]\n",
            "  [1 2]]\n",
            "\n",
            " [[1 2]\n",
            "  [1 2]\n",
            "  [1 2]\n",
            "  [1 2]]]\n"
          ],
          "name": "stdout"
        }
      ]
    },
    {
      "cell_type": "markdown",
      "metadata": {
        "id": "gXYA1jdPJskF",
        "colab_type": "text"
      },
      "source": [
        "# numpy.block()\n",
        "np.block([a1, a2]))\n",
        "\n",
        "argument type is equal to .block(??)"
      ]
    },
    {
      "cell_type": "code",
      "metadata": {
        "id": "-c3RJAIjJhz8",
        "colab_type": "code",
        "colab": {
          "base_uri": "https://localhost:8080/",
          "height": 51
        },
        "outputId": "44eac1de-0e4c-4581-b3b5-32589986207e"
      },
      "source": [
        "a1 = np.ones((2,3), int)\n",
        "a2 = np.full((2,3),2)\n",
        "print(np.block([a1, a2]))"
      ],
      "execution_count": null,
      "outputs": [
        {
          "output_type": "stream",
          "text": [
            "[[1 1 1 2 2 2]\n",
            " [1 1 1 2 2 2]]\n"
          ],
          "name": "stdout"
        }
      ]
    },
    {
      "cell_type": "code",
      "metadata": {
        "id": "19AzRroMKBBg",
        "colab_type": "code",
        "colab": {
          "base_uri": "https://localhost:8080/",
          "height": 153
        },
        "outputId": "792f886f-8812-4288-ab4d-90619711196d"
      },
      "source": [
        "print(np.block([[a1], [a2]]))\n",
        "print(np.block([[a1, a2], [a2,a1]]))"
      ],
      "execution_count": null,
      "outputs": [
        {
          "output_type": "stream",
          "text": [
            "[[1 1 1]\n",
            " [1 1 1]\n",
            " [2 2 2]\n",
            " [2 2 2]]\n",
            "[[1 1 1 2 2 2]\n",
            " [1 1 1 2 2 2]\n",
            " [2 2 2 1 1 1]\n",
            " [2 2 2 1 1 1]]\n"
          ],
          "name": "stdout"
        }
      ]
    },
    {
      "cell_type": "code",
      "metadata": {
        "id": "lQ4UwsWdKH8n",
        "colab_type": "code",
        "colab": {
          "base_uri": "https://localhost:8080/",
          "height": 34
        },
        "outputId": "32d44557-0113-4ed9-a6f4-52f053067cf3"
      },
      "source": [
        "print(np.block([[[a1]], [[a2]]]).shape)"
      ],
      "execution_count": null,
      "outputs": [
        {
          "output_type": "stream",
          "text": [
            "(2, 2, 3)\n"
          ],
          "name": "stdout"
        }
      ]
    },
    {
      "cell_type": "code",
      "metadata": {
        "id": "rP19VsBVKR8f",
        "colab_type": "code",
        "colab": {
          "base_uri": "https://localhost:8080/",
          "height": 185
        },
        "outputId": "8416f785-5e47-411b-fe6b-d96253c6a76c"
      },
      "source": [
        "a3 = np.full(6,3)\n",
        "print(a)"
      ],
      "execution_count": null,
      "outputs": [
        {
          "output_type": "error",
          "ename": "NameError",
          "evalue": "ignored",
          "traceback": [
            "\u001b[0;31m---------------------------------------------------------------------------\u001b[0m",
            "\u001b[0;31mNameError\u001b[0m                                 Traceback (most recent call last)",
            "\u001b[0;32m<ipython-input-24-2d679d1a761b>\u001b[0m in \u001b[0;36m<module>\u001b[0;34m()\u001b[0m\n\u001b[1;32m      1\u001b[0m \u001b[0ma3\u001b[0m \u001b[0;34m=\u001b[0m \u001b[0mnp\u001b[0m\u001b[0;34m.\u001b[0m\u001b[0mfull\u001b[0m\u001b[0;34m(\u001b[0m\u001b[0;36m6\u001b[0m\u001b[0;34m,\u001b[0m\u001b[0;36m3\u001b[0m\u001b[0;34m)\u001b[0m\u001b[0;34m\u001b[0m\u001b[0;34m\u001b[0m\u001b[0m\n\u001b[0;32m----> 2\u001b[0;31m \u001b[0mprint\u001b[0m\u001b[0;34m(\u001b[0m\u001b[0ma\u001b[0m\u001b[0;34m)\u001b[0m\u001b[0;34m\u001b[0m\u001b[0;34m\u001b[0m\u001b[0m\n\u001b[0m",
            "\u001b[0;31mNameError\u001b[0m: name 'a' is not defined"
          ]
        }
      ]
    },
    {
      "cell_type": "code",
      "metadata": {
        "id": "LXq4xaKlKXAA",
        "colab_type": "code",
        "colab": {
          "base_uri": "https://localhost:8080/",
          "height": 68
        },
        "outputId": "82841c6e-eb3a-4dd3-8b36-2f9d12747081"
      },
      "source": [
        "print(np.block([[a1, a2], [a3]]))"
      ],
      "execution_count": null,
      "outputs": [
        {
          "output_type": "stream",
          "text": [
            "[[1 1 1 2 2 2]\n",
            " [1 1 1 2 2 2]\n",
            " [3 3 3 3 3 3]]\n"
          ],
          "name": "stdout"
        }
      ]
    },
    {
      "cell_type": "markdown",
      "metadata": {
        "id": "1Brp_JxiKdat",
        "colab_type": "text"
      },
      "source": [
        "# numpy.vstack() vertical concatenate^^"
      ]
    },
    {
      "cell_type": "code",
      "metadata": {
        "id": "u1LR5KrDKaqA",
        "colab_type": "code",
        "colab": {
          "base_uri": "https://localhost:8080/",
          "height": 85
        },
        "outputId": "8deba331-817d-4323-9cb5-7d60ae11be67"
      },
      "source": [
        "print(np.vstack([a1,a2]))"
      ],
      "execution_count": null,
      "outputs": [
        {
          "output_type": "stream",
          "text": [
            "[[1 1 1]\n",
            " [1 1 1]\n",
            " [2 2 2]\n",
            " [2 2 2]]\n"
          ],
          "name": "stdout"
        }
      ]
    },
    {
      "cell_type": "markdown",
      "metadata": {
        "id": "22jQtZpSKvgU",
        "colab_type": "text"
      },
      "source": [
        "# numpy.hstack() is horizontal concatenate^^"
      ]
    },
    {
      "cell_type": "code",
      "metadata": {
        "id": "tivToQoLKlin",
        "colab_type": "code",
        "colab": {
          "base_uri": "https://localhost:8080/",
          "height": 51
        },
        "outputId": "1b33f7de-ae89-4dac-b5c4-719238b9a4a1"
      },
      "source": [
        "print(a2)"
      ],
      "execution_count": null,
      "outputs": [
        {
          "output_type": "stream",
          "text": [
            "[[2 2 2]\n",
            " [2 2 2]]\n"
          ],
          "name": "stdout"
        }
      ]
    },
    {
      "cell_type": "code",
      "metadata": {
        "id": "nu5PUH_eK1ov",
        "colab_type": "code",
        "colab": {
          "base_uri": "https://localhost:8080/",
          "height": 51
        },
        "outputId": "50ac2ee4-22a9-4dec-91a6-97692d318b75"
      },
      "source": [
        "print(np.hstack([a1, a2]))"
      ],
      "execution_count": null,
      "outputs": [
        {
          "output_type": "stream",
          "text": [
            "[[1 1 1 2 2 2]\n",
            " [1 1 1 2 2 2]]\n"
          ],
          "name": "stdout"
        }
      ]
    },
    {
      "cell_type": "code",
      "metadata": {
        "id": "4szNXlHyK3jI",
        "colab_type": "code",
        "colab": {
          "base_uri": "https://localhost:8080/",
          "height": 34
        },
        "outputId": "bee6cc44-4fef-4188-ac0e-7a9fe1d14ba8"
      },
      "source": [
        "a1 = np.ones(3,int)\n",
        "a2 = np.full(3,2)\n",
        "print(np.hstack([a1, a2]))"
      ],
      "execution_count": null,
      "outputs": [
        {
          "output_type": "stream",
          "text": [
            "[1 1 1 2 2 2]\n"
          ],
          "name": "stdout"
        }
      ]
    },
    {
      "cell_type": "markdown",
      "metadata": {
        "id": "uMwssjcULPSt",
        "colab_type": "text"
      },
      "source": [
        "# numpy.dstack() is depth concatenate^^"
      ]
    },
    {
      "cell_type": "code",
      "metadata": {
        "id": "saGOrYaDK_fn",
        "colab_type": "code",
        "colab": {
          "base_uri": "https://localhost:8080/",
          "height": 255
        },
        "outputId": "19fbf18d-3e35-4e24-8928-8a1b6ac23006"
      },
      "source": [
        "a1 = np.ones((3,4), int)\n",
        "a2 = np.full((3,4), 2)\n",
        "print(np.dstack([a1, a2]))"
      ],
      "execution_count": null,
      "outputs": [
        {
          "output_type": "stream",
          "text": [
            "[[[1 2]\n",
            "  [1 2]\n",
            "  [1 2]\n",
            "  [1 2]]\n",
            "\n",
            " [[1 2]\n",
            "  [1 2]\n",
            "  [1 2]\n",
            "  [1 2]]\n",
            "\n",
            " [[1 2]\n",
            "  [1 2]\n",
            "  [1 2]\n",
            "  [1 2]]]\n"
          ],
          "name": "stdout"
        }
      ]
    },
    {
      "cell_type": "markdown",
      "metadata": {
        "id": "TsF2dyEoLwNg",
        "colab_type": "text"
      },
      "source": [
        "# np.tile()"
      ]
    },
    {
      "cell_type": "code",
      "metadata": {
        "id": "nHebRnW9LjO3",
        "colab_type": "code",
        "colab": {
          "base_uri": "https://localhost:8080/",
          "height": 34
        },
        "outputId": "7617b115-1fbc-4800-d36a-66fff554fe80"
      },
      "source": [
        "import numpy as np\n",
        "a = np.arange(3)\n",
        "print(a)"
      ],
      "execution_count": null,
      "outputs": [
        {
          "output_type": "stream",
          "text": [
            "[0 1 2]\n"
          ],
          "name": "stdout"
        }
      ]
    },
    {
      "cell_type": "code",
      "metadata": {
        "id": "EyxCMC3TL0sQ",
        "colab_type": "code",
        "colab": {
          "base_uri": "https://localhost:8080/",
          "height": 51
        },
        "outputId": "23ed1c12-934b-4ff3-d1b9-293d57718943"
      },
      "source": [
        "a_tile = np.tile(a, 3)\n",
        "print(a_tile)\n",
        "print(a)"
      ],
      "execution_count": null,
      "outputs": [
        {
          "output_type": "stream",
          "text": [
            "[0 1 2 0 1 2 0 1 2]\n",
            "[0 1 2]\n"
          ],
          "name": "stdout"
        }
      ]
    },
    {
      "cell_type": "code",
      "metadata": {
        "id": "YDNjDsHvL3JA",
        "colab_type": "code",
        "colab": {
          "base_uri": "https://localhost:8080/",
          "height": 136
        },
        "outputId": "a9043ffe-f2cf-4433-d2fb-f4988a230863"
      },
      "source": [
        "print(np.tile(a , (2,3,4)))"
      ],
      "execution_count": null,
      "outputs": [
        {
          "output_type": "stream",
          "text": [
            "[[[0 1 2 0 1 2 0 1 2 0 1 2]\n",
            "  [0 1 2 0 1 2 0 1 2 0 1 2]\n",
            "  [0 1 2 0 1 2 0 1 2 0 1 2]]\n",
            "\n",
            " [[0 1 2 0 1 2 0 1 2 0 1 2]\n",
            "  [0 1 2 0 1 2 0 1 2 0 1 2]\n",
            "  [0 1 2 0 1 2 0 1 2 0 1 2]]]\n"
          ],
          "name": "stdout"
        }
      ]
    },
    {
      "cell_type": "code",
      "metadata": {
        "id": "rR0NVunBMdBl",
        "colab_type": "code",
        "colab": {
          "base_uri": "https://localhost:8080/",
          "height": 51
        },
        "outputId": "7e899096-3aec-4ce4-881c-f65bc0d62726"
      },
      "source": [
        "a_2d = np.arange(6).reshape(2,3)\n",
        "print(a_2d)"
      ],
      "execution_count": null,
      "outputs": [
        {
          "output_type": "stream",
          "text": [
            "[[0 1 2]\n",
            " [3 4 5]]\n"
          ],
          "name": "stdout"
        }
      ]
    },
    {
      "cell_type": "code",
      "metadata": {
        "id": "WwFmrRiDMRY_",
        "colab_type": "code",
        "colab": {
          "base_uri": "https://localhost:8080/",
          "height": 51
        },
        "outputId": "6182c41a-a410-488d-e0cb-5b5ad11ad16a"
      },
      "source": [
        "print(np.tile(a_2d, (2, )))"
      ],
      "execution_count": null,
      "outputs": [
        {
          "output_type": "stream",
          "text": [
            "[[0 1 2 0 1 2]\n",
            " [3 4 5 3 4 5]]\n"
          ],
          "name": "stdout"
        }
      ]
    },
    {
      "cell_type": "code",
      "metadata": {
        "id": "yv9e60TPMiw-",
        "colab_type": "code",
        "colab": {
          "base_uri": "https://localhost:8080/",
          "height": 51
        },
        "outputId": "8e47f241-a8de-473a-b278-27bd99d5b593"
      },
      "source": [
        "print(np.tile(a_2d, (1,2)))"
      ],
      "execution_count": null,
      "outputs": [
        {
          "output_type": "stream",
          "text": [
            "[[0 1 2 0 1 2]\n",
            " [3 4 5 3 4 5]]\n"
          ],
          "name": "stdout"
        }
      ]
    },
    {
      "cell_type": "markdown",
      "metadata": {
        "id": "ly5ucQcLM5OQ",
        "colab_type": "text"
      },
      "source": [
        "IF you repeat axis = 0, reps = (2,1)"
      ]
    },
    {
      "cell_type": "code",
      "metadata": {
        "id": "E-IIO0wDMqOW",
        "colab_type": "code",
        "colab": {
          "base_uri": "https://localhost:8080/",
          "height": 85
        },
        "outputId": "6a1a2103-881f-4a18-bbff-54cfa9fc1cec"
      },
      "source": [
        "print(np.tile(a_2d, (2,1)))"
      ],
      "execution_count": null,
      "outputs": [
        {
          "output_type": "stream",
          "text": [
            "[[0 1 2]\n",
            " [3 4 5]\n",
            " [0 1 2]\n",
            " [3 4 5]]\n"
          ],
          "name": "stdout"
        }
      ]
    },
    {
      "cell_type": "code",
      "metadata": {
        "id": "1Gmo0DkvNG9_",
        "colab_type": "code",
        "colab": {
          "base_uri": "https://localhost:8080/",
          "height": 170
        },
        "outputId": "f42ad718-9dea-4a0e-afc4-c4624ff66fdd"
      },
      "source": [
        "print(np.tile(a_2d, (2,2,2)))"
      ],
      "execution_count": null,
      "outputs": [
        {
          "output_type": "stream",
          "text": [
            "[[[0 1 2 0 1 2]\n",
            "  [3 4 5 3 4 5]\n",
            "  [0 1 2 0 1 2]\n",
            "  [3 4 5 3 4 5]]\n",
            "\n",
            " [[0 1 2 0 1 2]\n",
            "  [3 4 5 3 4 5]\n",
            "  [0 1 2 0 1 2]\n",
            "  [3 4 5 3 4 5]]]\n"
          ],
          "name": "stdout"
        }
      ]
    },
    {
      "cell_type": "markdown",
      "metadata": {
        "id": "1T0cwNuBN9id",
        "colab_type": "text"
      },
      "source": [
        "# image transition aaaaaaaaaaa"
      ]
    },
    {
      "cell_type": "code",
      "metadata": {
        "id": "deNi4G6oNeR9",
        "colab_type": "code",
        "colab": {
          "base_uri": "https://localhost:8080/",
          "height": 355
        },
        "outputId": "ee041eca-39c1-44de-88a8-9c0dc41e9775"
      },
      "source": [
        "import numpy as np\n",
        "from PIL import Image\n",
        "\n",
        "img = np.array(Image.open('data/src/lena_square.png').rresize((128, 128)))\n",
        "print(img.shape)\n",
        "img_tile = np.tile(img, (2,3,1))\n",
        "print(img_tile.shape)\n",
        "Image.fromarray(img_tile).save('data/dst/lena_numpy_tile.jpg')"
      ],
      "execution_count": null,
      "outputs": [
        {
          "output_type": "error",
          "ename": "FileNotFoundError",
          "evalue": "ignored",
          "traceback": [
            "\u001b[0;31m---------------------------------------------------------------------------\u001b[0m",
            "\u001b[0;31mFileNotFoundError\u001b[0m                         Traceback (most recent call last)",
            "\u001b[0;32m<ipython-input-41-0f0524217d1c>\u001b[0m in \u001b[0;36m<module>\u001b[0;34m()\u001b[0m\n\u001b[1;32m      2\u001b[0m \u001b[0;32mfrom\u001b[0m \u001b[0mPIL\u001b[0m \u001b[0;32mimport\u001b[0m \u001b[0mImage\u001b[0m\u001b[0;34m\u001b[0m\u001b[0;34m\u001b[0m\u001b[0m\n\u001b[1;32m      3\u001b[0m \u001b[0;34m\u001b[0m\u001b[0m\n\u001b[0;32m----> 4\u001b[0;31m \u001b[0mimg\u001b[0m \u001b[0;34m=\u001b[0m \u001b[0mnp\u001b[0m\u001b[0;34m.\u001b[0m\u001b[0marray\u001b[0m\u001b[0;34m(\u001b[0m\u001b[0mImage\u001b[0m\u001b[0;34m.\u001b[0m\u001b[0mopen\u001b[0m\u001b[0;34m(\u001b[0m\u001b[0;34m'data/src/lena_square.png'\u001b[0m\u001b[0;34m)\u001b[0m\u001b[0;34m.\u001b[0m\u001b[0mrresize\u001b[0m\u001b[0;34m(\u001b[0m\u001b[0;34m(\u001b[0m\u001b[0;36m128\u001b[0m\u001b[0;34m,\u001b[0m \u001b[0;36m128\u001b[0m\u001b[0;34m)\u001b[0m\u001b[0;34m)\u001b[0m\u001b[0;34m)\u001b[0m\u001b[0;34m\u001b[0m\u001b[0;34m\u001b[0m\u001b[0m\n\u001b[0m\u001b[1;32m      5\u001b[0m \u001b[0mprint\u001b[0m\u001b[0;34m(\u001b[0m\u001b[0mimg\u001b[0m\u001b[0;34m.\u001b[0m\u001b[0mshape\u001b[0m\u001b[0;34m)\u001b[0m\u001b[0;34m\u001b[0m\u001b[0;34m\u001b[0m\u001b[0m\n\u001b[1;32m      6\u001b[0m \u001b[0mimg_tile\u001b[0m \u001b[0;34m=\u001b[0m \u001b[0mnp\u001b[0m\u001b[0;34m.\u001b[0m\u001b[0mtile\u001b[0m\u001b[0;34m(\u001b[0m\u001b[0mimg\u001b[0m\u001b[0;34m,\u001b[0m \u001b[0;34m(\u001b[0m\u001b[0;36m2\u001b[0m\u001b[0;34m,\u001b[0m\u001b[0;36m3\u001b[0m\u001b[0;34m,\u001b[0m\u001b[0;36m1\u001b[0m\u001b[0;34m)\u001b[0m\u001b[0;34m)\u001b[0m\u001b[0;34m\u001b[0m\u001b[0;34m\u001b[0m\u001b[0m\n",
            "\u001b[0;32m/usr/local/lib/python3.6/dist-packages/PIL/Image.py\u001b[0m in \u001b[0;36mopen\u001b[0;34m(fp, mode)\u001b[0m\n\u001b[1;32m   2807\u001b[0m \u001b[0;34m\u001b[0m\u001b[0m\n\u001b[1;32m   2808\u001b[0m     \u001b[0;32mif\u001b[0m \u001b[0mfilename\u001b[0m\u001b[0;34m:\u001b[0m\u001b[0;34m\u001b[0m\u001b[0;34m\u001b[0m\u001b[0m\n\u001b[0;32m-> 2809\u001b[0;31m         \u001b[0mfp\u001b[0m \u001b[0;34m=\u001b[0m \u001b[0mbuiltins\u001b[0m\u001b[0;34m.\u001b[0m\u001b[0mopen\u001b[0m\u001b[0;34m(\u001b[0m\u001b[0mfilename\u001b[0m\u001b[0;34m,\u001b[0m \u001b[0;34m\"rb\"\u001b[0m\u001b[0;34m)\u001b[0m\u001b[0;34m\u001b[0m\u001b[0;34m\u001b[0m\u001b[0m\n\u001b[0m\u001b[1;32m   2810\u001b[0m         \u001b[0mexclusive_fp\u001b[0m \u001b[0;34m=\u001b[0m \u001b[0;32mTrue\u001b[0m\u001b[0;34m\u001b[0m\u001b[0;34m\u001b[0m\u001b[0m\n\u001b[1;32m   2811\u001b[0m \u001b[0;34m\u001b[0m\u001b[0m\n",
            "\u001b[0;31mFileNotFoundError\u001b[0m: [Errno 2] No such file or directory: 'data/src/lena_square.png'"
          ]
        }
      ]
    },
    {
      "cell_type": "markdown",
      "metadata": {
        "id": "A7r084D0Q82p",
        "colab_type": "text"
      },
      "source": [
        "# numpy.split()"
      ]
    },
    {
      "cell_type": "code",
      "metadata": {
        "id": "U92jQ_yHOxqN",
        "colab_type": "code",
        "colab": {
          "base_uri": "https://localhost:8080/",
          "height": 85
        },
        "outputId": "9a9f7bda-f74e-4cbb-85d1-880d1d23ff84"
      },
      "source": [
        "import numpy as np\n",
        "a = np.arange(16).reshape(4,4)\n",
        "print(a)"
      ],
      "execution_count": 1,
      "outputs": [
        {
          "output_type": "stream",
          "text": [
            "[[ 0  1  2  3]\n",
            " [ 4  5  6  7]\n",
            " [ 8  9 10 11]\n",
            " [12 13 14 15]]\n"
          ],
          "name": "stdout"
        }
      ]
    },
    {
      "cell_type": "code",
      "metadata": {
        "id": "CGTbtEgkRdjv",
        "colab_type": "code",
        "colab": {
          "base_uri": "https://localhost:8080/",
          "height": 51
        },
        "outputId": "431dc494-d467-4f45-c24d-d97543c77e94"
      },
      "source": [
        "a_split = np.split(a,2)\n",
        "print(type(a_split))\n",
        "print(len(a_split))"
      ],
      "execution_count": 3,
      "outputs": [
        {
          "output_type": "stream",
          "text": [
            "<class 'list'>\n",
            "2\n"
          ],
          "name": "stdout"
        }
      ]
    },
    {
      "cell_type": "code",
      "metadata": {
        "id": "dIaaiyY6R8p-",
        "colab_type": "code",
        "colab": {
          "base_uri": "https://localhost:8080/",
          "height": 51
        },
        "outputId": "e62f69a5-6fa6-4242-8c68-0b0e49e81d96"
      },
      "source": [
        "print(a_split[0])"
      ],
      "execution_count": 4,
      "outputs": [
        {
          "output_type": "stream",
          "text": [
            "[[0 1 2 3]\n",
            " [4 5 6 7]]\n"
          ],
          "name": "stdout"
        }
      ]
    },
    {
      "cell_type": "code",
      "metadata": {
        "id": "NQUOZoYSSEOP",
        "colab_type": "code",
        "colab": {
          "base_uri": "https://localhost:8080/",
          "height": 34
        },
        "outputId": "8c7c423c-e2fa-479a-9c59-01c49f90b683"
      },
      "source": [
        "print(type(a_split[0]))"
      ],
      "execution_count": 5,
      "outputs": [
        {
          "output_type": "stream",
          "text": [
            "<class 'numpy.ndarray'>\n"
          ],
          "name": "stdout"
        }
      ]
    },
    {
      "cell_type": "markdown",
      "metadata": {
        "id": "q_PjYc6NSIfX",
        "colab_type": "text"
      },
      "source": [
        "unpack tuple"
      ]
    },
    {
      "cell_type": "code",
      "metadata": {
        "id": "w0W5C0-bSFzP",
        "colab_type": "code",
        "colab": {
          "base_uri": "https://localhost:8080/",
          "height": 85
        },
        "outputId": "1fb8b5e9-0ff2-4df4-9263-fa537c3035f2"
      },
      "source": [
        "a0, a1 = np.split(a,2)\n",
        "print(a0)\n",
        "print(a1)"
      ],
      "execution_count": 6,
      "outputs": [
        {
          "output_type": "stream",
          "text": [
            "[[0 1 2 3]\n",
            " [4 5 6 7]]\n",
            "[[ 8  9 10 11]\n",
            " [12 13 14 15]]\n"
          ],
          "name": "stdout"
        }
      ]
    },
    {
      "cell_type": "markdown",
      "metadata": {
        "id": "GpYr0vFtSW3z",
        "colab_type": "text"
      },
      "source": [
        "# indices_or_sections\n",
        "整数 int を指定する<br>等分割\n",
        "\n",
        "uses numpy.array_split() if you are trouble in.\n",
        "\n",
        "\n",
        "and designate array"
      ]
    },
    {
      "cell_type": "code",
      "metadata": {
        "id": "c3D2rASTSMfe",
        "colab_type": "code",
        "colab": {
          "base_uri": "https://localhost:8080/",
          "height": 51
        },
        "outputId": "c9459a94-8a1e-49f8-abad-e09133832e6c"
      },
      "source": [
        "a0, a1, a2 = np.split(a, [1,3])\n",
        "print(a0,a1,a2)"
      ],
      "execution_count": 7,
      "outputs": [
        {
          "output_type": "stream",
          "text": [
            "[[0 1 2 3]] [[ 4  5  6  7]\n",
            " [ 8  9 10 11]] [[12 13 14 15]]\n"
          ],
          "name": "stdout"
        }
      ]
    },
    {
      "cell_type": "code",
      "metadata": {
        "id": "O12dkNkWTSgp",
        "colab_type": "code",
        "colab": {
          "base_uri": "https://localhost:8080/",
          "height": 68
        },
        "outputId": "f1caeac9-32d6-49a0-fcd9-76e03dafc2af"
      },
      "source": [
        "a0, a1 = np.split(a, [1])\n",
        "print(a0, a1)"
      ],
      "execution_count": 8,
      "outputs": [
        {
          "output_type": "stream",
          "text": [
            "[[0 1 2 3]] [[ 4  5  6  7]\n",
            " [ 8  9 10 11]\n",
            " [12 13 14 15]]\n"
          ],
          "name": "stdout"
        }
      ]
    },
    {
      "cell_type": "markdown",
      "metadata": {
        "id": "1OtP3u4fTmeS",
        "colab_type": "text"
      },
      "source": [
        "numpy.split(first, second, third)\n",
        "\n",
        "third argument is axis !!"
      ]
    },
    {
      "cell_type": "code",
      "metadata": {
        "id": "3IIokIxPTaVf",
        "colab_type": "code",
        "colab": {
          "base_uri": "https://localhost:8080/",
          "height": 68
        },
        "outputId": "ad6c0b46-cbfa-46b8-cef0-50555e385029"
      },
      "source": [
        "a0, a1 = np.split(a, 2, 0)\n",
        "print(a0,a1)"
      ],
      "execution_count": 9,
      "outputs": [
        {
          "output_type": "stream",
          "text": [
            "[[0 1 2 3]\n",
            " [4 5 6 7]] [[ 8  9 10 11]\n",
            " [12 13 14 15]]\n"
          ],
          "name": "stdout"
        }
      ]
    },
    {
      "cell_type": "code",
      "metadata": {
        "id": "otounDvzTwb-",
        "colab_type": "code",
        "colab": {
          "base_uri": "https://localhost:8080/",
          "height": 136
        },
        "outputId": "96ba314e-ac41-456b-e11e-5e2bac365869"
      },
      "source": [
        "a0, a1 = np.split(a, 2, 1)\n",
        "print(a0, a1)"
      ],
      "execution_count": 10,
      "outputs": [
        {
          "output_type": "stream",
          "text": [
            "[[ 0  1]\n",
            " [ 4  5]\n",
            " [ 8  9]\n",
            " [12 13]] [[ 2  3]\n",
            " [ 6  7]\n",
            " [10 11]\n",
            " [14 15]]\n"
          ],
          "name": "stdout"
        }
      ]
    },
    {
      "cell_type": "code",
      "metadata": {
        "id": "zDc84LpPT2r-",
        "colab_type": "code",
        "colab": {
          "base_uri": "https://localhost:8080/",
          "height": 136
        },
        "outputId": "a7bb10c6-2dbc-4a89-e4e3-18c95c974f00"
      },
      "source": [
        "a_3d = np.arange(24).reshape(2,3,4)\n",
        "print(a_3d)"
      ],
      "execution_count": 11,
      "outputs": [
        {
          "output_type": "stream",
          "text": [
            "[[[ 0  1  2  3]\n",
            "  [ 4  5  6  7]\n",
            "  [ 8  9 10 11]]\n",
            "\n",
            " [[12 13 14 15]\n",
            "  [16 17 18 19]\n",
            "  [20 21 22 23]]]\n"
          ],
          "name": "stdout"
        }
      ]
    },
    {
      "cell_type": "code",
      "metadata": {
        "id": "WMpF7XMeUDIN",
        "colab_type": "code",
        "colab": {
          "base_uri": "https://localhost:8080/",
          "height": 34
        },
        "outputId": "7ecc394d-bf1c-49d1-8e58-654e2a637760"
      },
      "source": [
        "print(a_3d.shape)"
      ],
      "execution_count": 12,
      "outputs": [
        {
          "output_type": "stream",
          "text": [
            "(2, 3, 4)\n"
          ],
          "name": "stdout"
        }
      ]
    },
    {
      "cell_type": "code",
      "metadata": {
        "id": "6t1sC_dxUEy-",
        "colab_type": "code",
        "colab": {
          "base_uri": "https://localhost:8080/",
          "height": 357
        },
        "outputId": "00e6cb10-1e04-4ceb-b88a-a9447f2b649c"
      },
      "source": [
        "a0, a1 = np.split(a_3d, 2, 0)\n",
        "print(a0)\n",
        "print(a1)\n",
        "a0, a1 = np.split(a_3d, [1], 2)\n",
        "print(a0)\n",
        "print(a1)"
      ],
      "execution_count": 13,
      "outputs": [
        {
          "output_type": "stream",
          "text": [
            "[[[ 0  1  2  3]\n",
            "  [ 4  5  6  7]\n",
            "  [ 8  9 10 11]]]\n",
            "[[[12 13 14 15]\n",
            "  [16 17 18 19]\n",
            "  [20 21 22 23]]]\n",
            "[[[ 0]\n",
            "  [ 4]\n",
            "  [ 8]]\n",
            "\n",
            " [[12]\n",
            "  [16]\n",
            "  [20]]]\n",
            "[[[ 1  2  3]\n",
            "  [ 5  6  7]\n",
            "  [ 9 10 11]]\n",
            "\n",
            " [[13 14 15]\n",
            "  [17 18 19]\n",
            "  [21 22 23]]]\n"
          ],
          "name": "stdout"
        }
      ]
    },
    {
      "cell_type": "code",
      "metadata": {
        "id": "aHAbQXpQUUVm",
        "colab_type": "code",
        "colab": {
          "base_uri": "https://localhost:8080/",
          "height": 68
        },
        "outputId": "318b427d-9e4c-4aaf-ece1-4ac0648135f9"
      },
      "source": [
        "a = np.arange(15).reshape(3,5)\n",
        "print(a)"
      ],
      "execution_count": 14,
      "outputs": [
        {
          "output_type": "stream",
          "text": [
            "[[ 0  1  2  3  4]\n",
            " [ 5  6  7  8  9]\n",
            " [10 11 12 13 14]]\n"
          ],
          "name": "stdout"
        }
      ]
    },
    {
      "cell_type": "markdown",
      "metadata": {
        "id": "Dg6NtQxseJFO",
        "colab_type": "text"
      },
      "source": [
        "# numpy.array_split() as much as possible split in equal parts"
      ]
    },
    {
      "cell_type": "code",
      "metadata": {
        "id": "W0-WdesIdvks",
        "colab_type": "code",
        "colab": {
          "base_uri": "https://localhost:8080/",
          "height": 68
        },
        "outputId": "cae3ac40-3cb2-4e99-c615-5f09b4f08623"
      },
      "source": [
        "a0, a1 = np.array_split(a, 2, 0)\n",
        "print(a0)\n",
        "print(a1)"
      ],
      "execution_count": 16,
      "outputs": [
        {
          "output_type": "stream",
          "text": [
            "[[0 1 2 3 4]\n",
            " [5 6 7 8 9]]\n",
            "[[10 11 12 13 14]]\n"
          ],
          "name": "stdout"
        }
      ]
    },
    {
      "cell_type": "code",
      "metadata": {
        "id": "QfFHUzkkeZyL",
        "colab_type": "code",
        "colab": {
          "base_uri": "https://localhost:8080/",
          "height": 170
        },
        "outputId": "bf260b55-d317-4804-bfc7-cafa549ac909"
      },
      "source": [
        "a0, a1, a2 = np.array_split(a, 3, 1)\n",
        "print(a0)\n",
        "print(a1)\n",
        "print(a2)"
      ],
      "execution_count": 17,
      "outputs": [
        {
          "output_type": "stream",
          "text": [
            "[[ 0  1]\n",
            " [ 5  6]\n",
            " [10 11]]\n",
            "[[ 2  3]\n",
            " [ 7  8]\n",
            " [12 13]]\n",
            "[[ 4]\n",
            " [ 9]\n",
            " [14]]\n"
          ],
          "name": "stdout"
        }
      ]
    },
    {
      "cell_type": "markdown",
      "metadata": {
        "id": "5-Uls78Fek30",
        "colab_type": "text"
      },
      "source": [
        "# numpy.vsplit() is vertical split"
      ]
    },
    {
      "cell_type": "code",
      "metadata": {
        "id": "i7u12Ryrei6E",
        "colab_type": "code",
        "colab": {
          "base_uri": "https://localhost:8080/",
          "height": 85
        },
        "outputId": "ceade2a0-f813-46bc-dec9-cf4102b9f6fc"
      },
      "source": [
        "a = np.arange(16).reshape(4,4)\n",
        "print(a)\n"
      ],
      "execution_count": 18,
      "outputs": [
        {
          "output_type": "stream",
          "text": [
            "[[ 0  1  2  3]\n",
            " [ 4  5  6  7]\n",
            " [ 8  9 10 11]\n",
            " [12 13 14 15]]\n"
          ],
          "name": "stdout"
        }
      ]
    },
    {
      "cell_type": "code",
      "metadata": {
        "id": "IWbX-EW8errU",
        "colab_type": "code",
        "colab": {
          "base_uri": "https://localhost:8080/",
          "height": 85
        },
        "outputId": "8647817d-8be8-4a4e-8572-fef8ed878d3b"
      },
      "source": [
        "a0, a1 = np.vsplit(a,2)\n",
        "print(a0)\n",
        "print(a1)"
      ],
      "execution_count": 19,
      "outputs": [
        {
          "output_type": "stream",
          "text": [
            "[[0 1 2 3]\n",
            " [4 5 6 7]]\n",
            "[[ 8  9 10 11]\n",
            " [12 13 14 15]]\n"
          ],
          "name": "stdout"
        }
      ]
    },
    {
      "cell_type": "markdown",
      "metadata": {
        "id": "I4v-XEpGe68_",
        "colab_type": "text"
      },
      "source": [
        "# numpy.hsplit() horizontal split"
      ]
    },
    {
      "cell_type": "code",
      "metadata": {
        "id": "4V09WAyeewSc",
        "colab_type": "code",
        "colab": {
          "base_uri": "https://localhost:8080/",
          "height": 221
        },
        "outputId": "f54c9395-f3bb-44b0-848e-7a7567c0e1a1"
      },
      "source": [
        "a = np.arange(16).reshape(4,4)\n",
        "print(a)\n",
        "a0, a1 = np.hsplit(a, 2)\n",
        "print(a0)\n",
        "print(a1)"
      ],
      "execution_count": 20,
      "outputs": [
        {
          "output_type": "stream",
          "text": [
            "[[ 0  1  2  3]\n",
            " [ 4  5  6  7]\n",
            " [ 8  9 10 11]\n",
            " [12 13 14 15]]\n",
            "[[ 0  1]\n",
            " [ 4  5]\n",
            " [ 8  9]\n",
            " [12 13]]\n",
            "[[ 2  3]\n",
            " [ 6  7]\n",
            " [10 11]\n",
            " [14 15]]\n"
          ],
          "name": "stdout"
        }
      ]
    },
    {
      "cell_type": "code",
      "metadata": {
        "id": "gMAuaWqKfCFT",
        "colab_type": "code",
        "colab": {
          "base_uri": "https://localhost:8080/",
          "height": 68
        },
        "outputId": "3a865265-fc95-4043-8874-663aad4a4330"
      },
      "source": [
        "a_1d = np.arange(6)\n",
        "print(a_1d)\n",
        "a0, a1 = np.hsplit(a_1d, 2)\n",
        "print(a0)\n",
        "print(a1)"
      ],
      "execution_count": 21,
      "outputs": [
        {
          "output_type": "stream",
          "text": [
            "[0 1 2 3 4 5]\n",
            "[0 1 2]\n",
            "[3 4 5]\n"
          ],
          "name": "stdout"
        }
      ]
    },
    {
      "cell_type": "markdown",
      "metadata": {
        "id": "uMRReNeDfgUk",
        "colab_type": "text"
      },
      "source": [
        "## hsplit is equal parts.\n",
        "if your argument is 2, split in 2 equal parts.\n",
        "numpy.hsplit(a, 2)"
      ]
    },
    {
      "cell_type": "markdown",
      "metadata": {
        "id": "LOoNQ4gaf2kr",
        "colab_type": "text"
      },
      "source": [
        "# numpy.dsplit() is depth"
      ]
    },
    {
      "cell_type": "code",
      "metadata": {
        "id": "GZmwNO4Gffwk",
        "colab_type": "code",
        "colab": {
          "base_uri": "https://localhost:8080/",
          "height": 374
        },
        "outputId": "aa486a7d-5f52-40eb-c4ea-ea217ed7ddc4"
      },
      "source": [
        "a_3d = np.arange(24).reshape(2,3,4)\n",
        "print(a_3d)\n",
        "a0,a1 = np.dsplit(a_3d,2) # same, axis = 2\n",
        "print(a0)\n",
        "print(a1)"
      ],
      "execution_count": 23,
      "outputs": [
        {
          "output_type": "stream",
          "text": [
            "[[[ 0  1  2  3]\n",
            "  [ 4  5  6  7]\n",
            "  [ 8  9 10 11]]\n",
            "\n",
            " [[12 13 14 15]\n",
            "  [16 17 18 19]\n",
            "  [20 21 22 23]]]\n",
            "[[[ 0  1]\n",
            "  [ 4  5]\n",
            "  [ 8  9]]\n",
            "\n",
            " [[12 13]\n",
            "  [16 17]\n",
            "  [20 21]]]\n",
            "[[[ 2  3]\n",
            "  [ 6  7]\n",
            "  [10 11]]\n",
            "\n",
            " [[14 15]\n",
            "  [18 19]\n",
            "  [22 23]]]\n"
          ],
          "name": "stdout"
        }
      ]
    },
    {
      "cell_type": "markdown",
      "metadata": {
        "id": "PEHf0N_ggh9U",
        "colab_type": "text"
      },
      "source": [
        "designate list\n"
      ]
    },
    {
      "cell_type": "code",
      "metadata": {
        "id": "x3MP4oAagF47",
        "colab_type": "code",
        "colab": {
          "base_uri": "https://localhost:8080/",
          "height": 255
        },
        "outputId": "4719af4a-0a11-40f2-a3be-8b61e9763f4b"
      },
      "source": [
        "a0, a1 = np.dsplit(a_3d, [1])\n",
        "print(a0)\n",
        "print(a1)"
      ],
      "execution_count": 24,
      "outputs": [
        {
          "output_type": "stream",
          "text": [
            "[[[ 0]\n",
            "  [ 4]\n",
            "  [ 8]]\n",
            "\n",
            " [[12]\n",
            "  [16]\n",
            "  [20]]]\n",
            "[[[ 1  2  3]\n",
            "  [ 5  6  7]\n",
            "  [ 9 10 11]]\n",
            "\n",
            " [[13 14 15]\n",
            "  [17 18 19]\n",
            "  [21 22 23]]]\n"
          ],
          "name": "stdout"
        }
      ]
    },
    {
      "cell_type": "markdown",
      "metadata": {
        "id": "aYFq3fgpgsDo",
        "colab_type": "text"
      },
      "source": [
        "## numpy.dsplit() is for 3over-dimension only"
      ]
    },
    {
      "cell_type": "markdown",
      "metadata": {
        "id": "aNTgeTT2g4Qh",
        "colab_type": "text"
      },
      "source": [
        "# split array is view of original array"
      ]
    },
    {
      "cell_type": "code",
      "metadata": {
        "id": "YXZF4n_GgoDr",
        "colab_type": "code",
        "colab": {
          "base_uri": "https://localhost:8080/",
          "height": 136
        },
        "outputId": "372c27ae-5b2d-4e25-d224-2b41e11958cb"
      },
      "source": [
        "a = np.arange(16).reshape(4,4)\n",
        "print(a)\n",
        "l = np.split(a, 2)\n",
        "print(l[0])\n",
        "print(np.shares_memory(a, l[0]))"
      ],
      "execution_count": 26,
      "outputs": [
        {
          "output_type": "stream",
          "text": [
            "[[ 0  1  2  3]\n",
            " [ 4  5  6  7]\n",
            " [ 8  9 10 11]\n",
            " [12 13 14 15]]\n",
            "[[0 1 2 3]\n",
            " [4 5 6 7]]\n",
            "True\n"
          ],
          "name": "stdout"
        }
      ]
    },
    {
      "cell_type": "markdown",
      "metadata": {
        "id": "QeHNhT0YhGRl",
        "colab_type": "text"
      },
      "source": [
        "## if you change numerics, original numerics has changed"
      ]
    },
    {
      "cell_type": "code",
      "metadata": {
        "id": "QH9YgyihhEH-",
        "colab_type": "code",
        "colab": {
          "base_uri": "https://localhost:8080/",
          "height": 119
        },
        "outputId": "021fda02-e361-4297-8351-e68509b4bd42"
      },
      "source": [
        "a[0,0] = 100\n",
        "print(a)\n",
        "print(l[0])"
      ],
      "execution_count": 27,
      "outputs": [
        {
          "output_type": "stream",
          "text": [
            "[[100   1   2   3]\n",
            " [  4   5   6   7]\n",
            " [  8   9  10  11]\n",
            " [ 12  13  14  15]]\n",
            "[[100   1   2   3]\n",
            " [  4   5   6   7]]\n"
          ],
          "name": "stdout"
        }
      ]
    },
    {
      "cell_type": "markdown",
      "metadata": {
        "id": "Q7mYC4fchRXv",
        "colab_type": "text"
      },
      "source": [
        "## if you process separately, you use 'copy()'."
      ]
    },
    {
      "cell_type": "code",
      "metadata": {
        "id": "fxs0Q-0IhOUS",
        "colab_type": "code",
        "colab": {
          "base_uri": "https://localhost:8080/",
          "height": 34
        },
        "outputId": "75d1c844-f9dd-46af-e9db-d6acccea6cf3"
      },
      "source": [
        "a = np.arange(16).reshape(4,4)\n",
        "l_copy = np.split(a.copy(), 2)\n",
        "print(np.shares_memory(a, l_copy[0]))"
      ],
      "execution_count": 28,
      "outputs": [
        {
          "output_type": "stream",
          "text": [
            "False\n"
          ],
          "name": "stdout"
        }
      ]
    },
    {
      "cell_type": "code",
      "metadata": {
        "id": "uUuDs8-phjEU",
        "colab_type": "code",
        "colab": {
          "base_uri": "https://localhost:8080/",
          "height": 119
        },
        "outputId": "c7ac0c89-1273-4cdf-eed7-119e9733e1bf"
      },
      "source": [
        "a[0,0] = 100\n",
        "print(a)\n",
        "print(l_copy[0])"
      ],
      "execution_count": 29,
      "outputs": [
        {
          "output_type": "stream",
          "text": [
            "[[100   1   2   3]\n",
            " [  4   5   6   7]\n",
            " [  8   9  10  11]\n",
            " [ 12  13  14  15]]\n",
            "[[0 1 2 3]\n",
            " [4 5 6 7]]\n"
          ],
          "name": "stdout"
        }
      ]
    },
    {
      "cell_type": "code",
      "metadata": {
        "id": "5Xur0OTphnFa",
        "colab_type": "code",
        "colab": {}
      },
      "source": [
        ""
      ],
      "execution_count": null,
      "outputs": []
    }
  ]
}