{
  "nbformat": 4,
  "nbformat_minor": 0,
  "metadata": {
    "colab": {
      "name": "Numpy_dataprocessing",
      "provenance": [],
      "collapsed_sections": [],
      "authorship_tag": "ABX9TyN6DztHaVVn8OmZbScms8sc",
      "include_colab_link": true
    },
    "kernelspec": {
      "name": "python3",
      "display_name": "Python 3"
    }
  },
  "cells": [
    {
      "cell_type": "markdown",
      "metadata": {
        "id": "view-in-github",
        "colab_type": "text"
      },
      "source": [
        "<a href=\"https://colab.research.google.com/github/anko191/Python_Kaggle/blob/master/numpy/Numpy_dataprocessing.ipynb\" target=\"_parent\"><img src=\"https://colab.research.google.com/assets/colab-badge.svg\" alt=\"Open In Colab\"/></a>"
      ]
    },
    {
      "cell_type": "markdown",
      "metadata": {
        "id": "Kop_TheRNKS0",
        "colab_type": "text"
      },
      "source": [
        "# sum, average, max, min"
      ]
    },
    {
      "cell_type": "code",
      "metadata": {
        "id": "UhBPzqkvTSSi",
        "colab_type": "code",
        "colab": {
          "base_uri": "https://localhost:8080/",
          "height": 85
        },
        "outputId": "a792d0c6-7ff8-41ae-b9af-da249b322dea"
      },
      "source": [
        "import numpy as np\n",
        "a = np.arange(12).reshape(3,4)\n",
        "print(a.shape)\n",
        "print(a)"
      ],
      "execution_count": 1,
      "outputs": [
        {
          "output_type": "stream",
          "text": [
            "(3, 4)\n",
            "[[ 0  1  2  3]\n",
            " [ 4  5  6  7]\n",
            " [ 8  9 10 11]]\n"
          ],
          "name": "stdout"
        }
      ]
    },
    {
      "cell_type": "code",
      "metadata": {
        "id": "1yhJed_WTZdQ",
        "colab_type": "code",
        "colab": {
          "base_uri": "https://localhost:8080/",
          "height": 34
        },
        "outputId": "2d65fb4c-d962-4c19-f9f0-554ef3f55169"
      },
      "source": [
        "print(np.sum(a))"
      ],
      "execution_count": 2,
      "outputs": [
        {
          "output_type": "stream",
          "text": [
            "66\n"
          ],
          "name": "stdout"
        }
      ]
    },
    {
      "cell_type": "code",
      "metadata": {
        "id": "CQ8m5PpuTdUI",
        "colab_type": "code",
        "colab": {
          "base_uri": "https://localhost:8080/",
          "height": 51
        },
        "outputId": "6ef33fcc-b379-4d06-b0dd-f790d575eafc"
      },
      "source": [
        "print(np.sum(a, axis = 0))\n",
        "print(np.sum(a, axis = 1))"
      ],
      "execution_count": 3,
      "outputs": [
        {
          "output_type": "stream",
          "text": [
            "[12 15 18 21]\n",
            "[ 6 22 38]\n"
          ],
          "name": "stdout"
        }
      ]
    },
    {
      "cell_type": "code",
      "metadata": {
        "id": "8kePieJKTg-H",
        "colab_type": "code",
        "colab": {
          "base_uri": "https://localhost:8080/",
          "height": 68
        },
        "outputId": "da69fd19-3b45-4de6-c99a-431fd458ddd2"
      },
      "source": [
        "print(a.sum())\n",
        "print(a.sum(axis = 0))\n",
        "print(a.sum(axis = 1))"
      ],
      "execution_count": 4,
      "outputs": [
        {
          "output_type": "stream",
          "text": [
            "66\n",
            "[12 15 18 21]\n",
            "[ 6 22 38]\n"
          ],
          "name": "stdout"
        }
      ]
    },
    {
      "cell_type": "code",
      "metadata": {
        "id": "iytEXGwxTrNX",
        "colab_type": "code",
        "colab": {
          "base_uri": "https://localhost:8080/",
          "height": 68
        },
        "outputId": "d83faacf-7168-43ca-8ac6-62785d3aa585"
      },
      "source": [
        "print(np.mean(a))\n",
        "print(np.mean(a, axis = 0))\n",
        "print(np.mean(a, axis = 1))"
      ],
      "execution_count": 5,
      "outputs": [
        {
          "output_type": "stream",
          "text": [
            "5.5\n",
            "[4. 5. 6. 7.]\n",
            "[1.5 5.5 9.5]\n"
          ],
          "name": "stdout"
        }
      ]
    },
    {
      "cell_type": "code",
      "metadata": {
        "id": "dA4cVw40TytW",
        "colab_type": "code",
        "colab": {
          "base_uri": "https://localhost:8080/",
          "height": 85
        },
        "outputId": "1d28e0bd-1574-4fff-c161-774949807faa"
      },
      "source": [
        "print(np.min(a))\n",
        "print(np.min(a, axis = 0))\n",
        "print(a.max())\n",
        "print(a.max(axis = 1))"
      ],
      "execution_count": 6,
      "outputs": [
        {
          "output_type": "stream",
          "text": [
            "0\n",
            "[0 1 2 3]\n",
            "11\n",
            "[ 3  7 11]\n"
          ],
          "name": "stdout"
        }
      ]
    },
    {
      "cell_type": "code",
      "metadata": {
        "id": "8tb4jtuET4V-",
        "colab_type": "code",
        "colab": {
          "base_uri": "https://localhost:8080/",
          "height": 153
        },
        "outputId": "07b42d6d-690e-41c6-9cae-4fae95620d80"
      },
      "source": [
        "b = np.arange(24).reshape(2,3,4)\n",
        "print(b.shape)\n",
        "print(b)"
      ],
      "execution_count": 7,
      "outputs": [
        {
          "output_type": "stream",
          "text": [
            "(2, 3, 4)\n",
            "[[[ 0  1  2  3]\n",
            "  [ 4  5  6  7]\n",
            "  [ 8  9 10 11]]\n",
            "\n",
            " [[12 13 14 15]\n",
            "  [16 17 18 19]\n",
            "  [20 21 22 23]]]\n"
          ],
          "name": "stdout"
        }
      ]
    },
    {
      "cell_type": "code",
      "metadata": {
        "id": "hsSAXwsIUAFA",
        "colab_type": "code",
        "colab": {
          "base_uri": "https://localhost:8080/",
          "height": 102
        },
        "outputId": "524ebca9-34f9-4fae-8537-46c7c3bb43c6"
      },
      "source": [
        "print(b.sum(axis = 0))\n",
        "print(b.sum(axis = 1))\n"
      ],
      "execution_count": 8,
      "outputs": [
        {
          "output_type": "stream",
          "text": [
            "[[12 14 16 18]\n",
            " [20 22 24 26]\n",
            " [28 30 32 34]]\n",
            "[[12 15 18 21]\n",
            " [48 51 54 57]]\n"
          ],
          "name": "stdout"
        }
      ]
    },
    {
      "cell_type": "code",
      "metadata": {
        "id": "P-pOAOTHUFav",
        "colab_type": "code",
        "colab": {
          "base_uri": "https://localhost:8080/",
          "height": 51
        },
        "outputId": "8e887d58-00b9-40a2-9f04-3333e7efb70a"
      },
      "source": [
        "print(b.sum(axis = 2))"
      ],
      "execution_count": 9,
      "outputs": [
        {
          "output_type": "stream",
          "text": [
            "[[ 6 22 38]\n",
            " [54 70 86]]\n"
          ],
          "name": "stdout"
        }
      ]
    },
    {
      "cell_type": "markdown",
      "metadata": {
        "id": "bo9CeEq9UZcN",
        "colab_type": "text"
      },
      "source": [
        "original : 2 x 3 x 4\n",
        "<br>axis = 0 : _ x 3 x 4 -> 3 x 4\n",
        "<br>axis = 1 : 2 x _ x 4 -> 2 x 4\n",
        "<br>axis = 2 : 2 x 3 x _ -> 2 x 3"
      ]
    },
    {
      "cell_type": "code",
      "metadata": {
        "id": "aytzOEhzULKP",
        "colab_type": "code",
        "colab": {
          "base_uri": "https://localhost:8080/",
          "height": 68
        },
        "outputId": "7beedf5b-8ffe-4f4d-d363-b056c716fddd"
      },
      "source": [
        "# sum(axis = 0)\n",
        "print(b[0, :, :] + b[1, :, :])"
      ],
      "execution_count": 10,
      "outputs": [
        {
          "output_type": "stream",
          "text": [
            "[[12 14 16 18]\n",
            " [20 22 24 26]\n",
            " [28 30 32 34]]\n"
          ],
          "name": "stdout"
        }
      ]
    },
    {
      "cell_type": "code",
      "metadata": {
        "id": "Dyfak0XBUytg",
        "colab_type": "code",
        "colab": {
          "base_uri": "https://localhost:8080/",
          "height": 51
        },
        "outputId": "48a1e766-218b-484e-872c-47bc60bd817f"
      },
      "source": [
        "# sum(axis = 1)\n",
        "print(b[:, 0, :] + b[:, 1, :] + b[:, 2, :])"
      ],
      "execution_count": 11,
      "outputs": [
        {
          "output_type": "stream",
          "text": [
            "[[12 15 18 21]\n",
            " [48 51 54 57]]\n"
          ],
          "name": "stdout"
        }
      ]
    },
    {
      "cell_type": "code",
      "metadata": {
        "id": "jooDl_3CU4o3",
        "colab_type": "code",
        "colab": {
          "base_uri": "https://localhost:8080/",
          "height": 51
        },
        "outputId": "48d8f231-a5f3-4a5b-c036-d1777ae14cbd"
      },
      "source": [
        "# sum(axis = 2)\n",
        "print(b[:,:,0] + b[:,:,1] + b[:,:,2] + b[:,:,3])"
      ],
      "execution_count": 12,
      "outputs": [
        {
          "output_type": "stream",
          "text": [
            "[[ 6 22 38]\n",
            " [54 70 86]]\n"
          ],
          "name": "stdout"
        }
      ]
    },
    {
      "cell_type": "markdown",
      "metadata": {
        "id": "dzRaGXtDU_5I",
        "colab_type": "text"
      },
      "source": [
        "## set multiple value in tuple to axis...\n",
        "original : 2 x 3 x 4\n",
        "<br>axis = (0,1) : _ x _ x 4 -> 4\n",
        "<br>axis = (0,2) : _ x 3 x _ -> 3\n",
        "<br>axis = (1,2) : 2 x _ x _ -> 2"
      ]
    },
    {
      "cell_type": "code",
      "metadata": {
        "id": "Yea2N015U92m",
        "colab_type": "code",
        "colab": {
          "base_uri": "https://localhost:8080/",
          "height": 187
        },
        "outputId": "9c88d594-df0a-48c1-d876-5c10d4e8667f"
      },
      "source": [
        "print(b)\n",
        "print(b.sum(axis = (0,1)))\n",
        "print(b.sum(axis = (0, 2)))\n",
        "print(b.sum(axis = (1,2)))"
      ],
      "execution_count": 14,
      "outputs": [
        {
          "output_type": "stream",
          "text": [
            "[[[ 0  1  2  3]\n",
            "  [ 4  5  6  7]\n",
            "  [ 8  9 10 11]]\n",
            "\n",
            " [[12 13 14 15]\n",
            "  [16 17 18 19]\n",
            "  [20 21 22 23]]]\n",
            "[60 66 72 78]\n",
            "[ 60  92 124]\n",
            "[ 66 210]\n"
          ],
          "name": "stdout"
        }
      ]
    },
    {
      "cell_type": "markdown",
      "metadata": {
        "id": "ZnMXOak0WvY0",
        "colab_type": "text"
      },
      "source": [
        "# np.clip\n",
        "np.clip(ndarray, min, max) -> convert min ~ max values only."
      ]
    },
    {
      "cell_type": "code",
      "metadata": {
        "id": "-O8DehgbVhAp",
        "colab_type": "code",
        "colab": {
          "base_uri": "https://localhost:8080/",
          "height": 51
        },
        "outputId": "369cc419-50fa-4102-a4a6-a517d3d86680"
      },
      "source": [
        "import numpy as np\n",
        "a = np.arange(10)\n",
        "print(a)\n",
        "print(np.clip(a, 2, 7))"
      ],
      "execution_count": 15,
      "outputs": [
        {
          "output_type": "stream",
          "text": [
            "[0 1 2 3 4 5 6 7 8 9]\n",
            "[2 2 2 3 4 5 6 7 7 7]\n"
          ],
          "name": "stdout"
        }
      ]
    },
    {
      "cell_type": "markdown",
      "metadata": {
        "id": "yOUhL3sBXeMU",
        "colab_type": "text"
      },
      "source": [
        "## Want to specify only one of then, Use 'None'"
      ]
    },
    {
      "cell_type": "code",
      "metadata": {
        "id": "ZhvLCPwhW1G2",
        "colab_type": "code",
        "colab": {
          "base_uri": "https://localhost:8080/",
          "height": 51
        },
        "outputId": "90e89958-8b1e-4050-ea36-27dad603d1a0"
      },
      "source": [
        "print(np.clip(a, None, 7))\n",
        "print(np.clip(a, 2, None))"
      ],
      "execution_count": 16,
      "outputs": [
        {
          "output_type": "stream",
          "text": [
            "[0 1 2 3 4 5 6 7 7 7]\n",
            "[2 2 2 3 4 5 6 7 8 9]\n"
          ],
          "name": "stdout"
        }
      ]
    },
    {
      "cell_type": "code",
      "metadata": {
        "id": "Wxx7fGGlX0Eu",
        "colab_type": "code",
        "colab": {
          "base_uri": "https://localhost:8080/",
          "height": 51
        },
        "outputId": "3324b3a4-fea9-425c-82f4-1861abcfa875"
      },
      "source": [
        "a_clip = np.clip(a, 2, 7)\n",
        "print(a_clip)\n",
        "print(a)"
      ],
      "execution_count": 17,
      "outputs": [
        {
          "output_type": "stream",
          "text": [
            "[2 2 2 3 4 5 6 7 7 7]\n",
            "[0 1 2 3 4 5 6 7 8 9]\n"
          ],
          "name": "stdout"
        }
      ]
    },
    {
      "cell_type": "markdown",
      "metadata": {
        "id": "D2YU8AibX645",
        "colab_type": "text"
      },
      "source": [
        "### ndarry.clip()"
      ]
    },
    {
      "cell_type": "code",
      "metadata": {
        "id": "GUpZKMkaX30u",
        "colab_type": "code",
        "colab": {
          "base_uri": "https://localhost:8080/",
          "height": 68
        },
        "outputId": "0a9bb2ad-4d49-46f4-f691-433dc1651383"
      },
      "source": [
        "print(a.clip(2,7))\n",
        "print(a.clip(None, 7))\n",
        "print(a.clip(2, None))"
      ],
      "execution_count": 19,
      "outputs": [
        {
          "output_type": "stream",
          "text": [
            "[2 2 2 3 4 5 6 7 7 7]\n",
            "[0 1 2 3 4 5 6 7 7 7]\n",
            "[2 2 2 3 4 5 6 7 8 9]\n"
          ],
          "name": "stdout"
        }
      ]
    },
    {
      "cell_type": "code",
      "metadata": {
        "id": "2iGXf80vYBg8",
        "colab_type": "code",
        "colab": {
          "base_uri": "https://localhost:8080/",
          "height": 68
        },
        "outputId": "d0cd0167-2fba-41a5-9392-3b68e0e1b156"
      },
      "source": [
        "print(a.clip(2))\n",
        "print(a.clip(min = 2))\n",
        "print(a.clip(max = 7))"
      ],
      "execution_count": 20,
      "outputs": [
        {
          "output_type": "stream",
          "text": [
            "[2 2 2 3 4 5 6 7 8 9]\n",
            "[2 2 2 3 4 5 6 7 8 9]\n",
            "[0 1 2 3 4 5 6 7 7 7]\n"
          ],
          "name": "stdout"
        }
      ]
    },
    {
      "cell_type": "markdown",
      "metadata": {
        "id": "InaUIjiKYWq0",
        "colab_type": "text"
      },
      "source": [
        "# Normalization and standardization"
      ]
    },
    {
      "cell_type": "markdown",
      "metadata": {
        "id": "luKmme0vY5Pk",
        "colab_type": "text"
      },
      "source": [
        "## Normalization Min 0, Max 1\n",
        "$ x^{'}=\\frac{x-min(x)}{max(x) - min(x)}$\n"
      ]
    },
    {
      "cell_type": "markdown",
      "metadata": {
        "id": "6Hx3iprSZsXN",
        "colab_type": "text"
      },
      "source": [
        "## Normalization and standardization ave 0, var 1\n",
        "$ x^{'}= \\frac{x-μ}{σ} $"
      ]
    },
    {
      "cell_type": "markdown",
      "metadata": {
        "id": "bz_7Gvirag3n",
        "colab_type": "text"
      },
      "source": [
        "## Standard deviation of the population.\n",
        "$ σ^{2}=\\frac{1}{n}\\sum_{i=1}^{n}(x_i - μ)^2 $"
      ]
    },
    {
      "cell_type": "markdown",
      "metadata": {
        "id": "AqsVPImgarQw",
        "colab_type": "text"
      },
      "source": [
        "## Sample standard deviation\n",
        "$u^{2}=\\frac{1}{n-1}\\sum_{i=1}^{n}(x_i - \\overline{x})^2$"
      ]
    },
    {
      "cell_type": "markdown",
      "metadata": {
        "id": "d95JIf3VbD01",
        "colab_type": "text"
      },
      "source": [
        "## Library that do Normalization and Standardization"
      ]
    },
    {
      "cell_type": "markdown",
      "metadata": {
        "id": "VU3dxBIjbJYm",
        "colab_type": "text"
      },
      "source": [
        "## Scipy\n",
        "### using scipy.stats.zscore()"
      ]
    },
    {
      "cell_type": "code",
      "metadata": {
        "id": "c-6zreCvYTkV",
        "colab_type": "code",
        "colab": {
          "base_uri": "https://localhost:8080/",
          "height": 68
        },
        "outputId": "9fbf0cf7-4d4a-4961-a7f6-4f3547653cab"
      },
      "source": [
        "import scipy.stats\n",
        "l = [0,1,2,3,4]\n",
        "print(l)\n",
        "print(scipy.stats.zscore(l))\n",
        "print(type(scipy.stats.zscore(l)))"
      ],
      "execution_count": 21,
      "outputs": [
        {
          "output_type": "stream",
          "text": [
            "[0, 1, 2, 3, 4]\n",
            "[-1.41421356 -0.70710678  0.          0.70710678  1.41421356]\n",
            "<class 'numpy.ndarray'>\n"
          ],
          "name": "stdout"
        }
      ]
    },
    {
      "cell_type": "markdown",
      "metadata": {
        "id": "Ecb2afGrb8wF",
        "colab_type": "text"
      },
      "source": [
        "### if you designate argument 'ddof = 0', divide 'n'. But 'ddof = 1' divide 'n-1'."
      ]
    },
    {
      "cell_type": "code",
      "metadata": {
        "id": "5rPE7o_6b38N",
        "colab_type": "code",
        "colab": {
          "base_uri": "https://localhost:8080/",
          "height": 34
        },
        "outputId": "1ae7952d-5ac3-455c-bad7-d47bc666fa3d"
      },
      "source": [
        "print(scipy.stats.zscore(l, ddof = 1))"
      ],
      "execution_count": 22,
      "outputs": [
        {
          "output_type": "stream",
          "text": [
            "[-1.26491106 -0.63245553  0.          0.63245553  1.26491106]\n"
          ],
          "name": "stdout"
        }
      ]
    },
    {
      "cell_type": "code",
      "metadata": {
        "id": "ERR8pQdzceYj",
        "colab_type": "code",
        "colab": {
          "base_uri": "https://localhost:8080/",
          "height": 85
        },
        "outputId": "82d9c0e1-35a8-43ff-925c-daa0c055fb08"
      },
      "source": [
        "l_2d = [[0,1,2], [3,4,5], [6,7,8]]\n",
        "print(l_2d)\n",
        "print(scipy.stats.zscore(l_2d))"
      ],
      "execution_count": 24,
      "outputs": [
        {
          "output_type": "stream",
          "text": [
            "[[0, 1, 2], [3, 4, 5], [6, 7, 8]]\n",
            "[[-1.22474487 -1.22474487 -1.22474487]\n",
            " [ 0.          0.          0.        ]\n",
            " [ 1.22474487  1.22474487  1.22474487]]\n"
          ],
          "name": "stdout"
        }
      ]
    },
    {
      "cell_type": "code",
      "metadata": {
        "id": "rRf7Zjdjc_GT",
        "colab_type": "code",
        "colab": {
          "base_uri": "https://localhost:8080/",
          "height": 68
        },
        "outputId": "91fe71f9-6d5c-4f33-ce58-ecf66c70f940"
      },
      "source": [
        "print(scipy.stats.zscore(l_2d, ddof = 1))"
      ],
      "execution_count": 25,
      "outputs": [
        {
          "output_type": "stream",
          "text": [
            "[[-1. -1. -1.]\n",
            " [ 0.  0.  0.]\n",
            " [ 1.  1.  1.]]\n"
          ],
          "name": "stdout"
        }
      ]
    },
    {
      "cell_type": "code",
      "metadata": {
        "id": "jdfoky4odCub",
        "colab_type": "code",
        "colab": {
          "base_uri": "https://localhost:8080/",
          "height": 119
        },
        "outputId": "6d672dda-175f-435f-c103-0db38d3ed309"
      },
      "source": [
        "print(scipy.stats.zscore(l_2d, axis = 1))\n",
        "print(scipy.stats.zscore(l_2d, axis = 1, ddof = 1))"
      ],
      "execution_count": 26,
      "outputs": [
        {
          "output_type": "stream",
          "text": [
            "[[-1.22474487  0.          1.22474487]\n",
            " [-1.22474487  0.          1.22474487]\n",
            " [-1.22474487  0.          1.22474487]]\n",
            "[[-1.  0.  1.]\n",
            " [-1.  0.  1.]\n",
            " [-1.  0.  1.]]\n"
          ],
          "name": "stdout"
        }
      ]
    },
    {
      "cell_type": "code",
      "metadata": {
        "id": "5MIJA3QGf7w2",
        "colab_type": "code",
        "colab": {
          "base_uri": "https://localhost:8080/",
          "height": 119
        },
        "outputId": "87d79dd6-dad0-492b-8867-51394472d37a"
      },
      "source": [
        "print(scipy.stats.zscore(l_2d, axis = None))\n",
        "print(scipy.stats.zscore(l_2d, axis = None, ddof = 1))"
      ],
      "execution_count": 27,
      "outputs": [
        {
          "output_type": "stream",
          "text": [
            "[[-1.54919334 -1.161895   -0.77459667]\n",
            " [-0.38729833  0.          0.38729833]\n",
            " [ 0.77459667  1.161895    1.54919334]]\n",
            "[[-1.46059349 -1.09544512 -0.73029674]\n",
            " [-0.36514837  0.          0.36514837]\n",
            " [ 0.73029674  1.09544512  1.46059349]]\n"
          ],
          "name": "stdout"
        }
      ]
    },
    {
      "cell_type": "markdown",
      "metadata": {
        "id": "N4l7ab2ojbn1",
        "colab_type": "text"
      },
      "source": [
        "## scikit-learn\n",
        "## sklearn.preprocessing module"
      ]
    },
    {
      "cell_type": "code",
      "metadata": {
        "id": "Wb4UaV3ZgKPs",
        "colab_type": "code",
        "colab": {
          "base_uri": "https://localhost:8080/",
          "height": 51
        },
        "outputId": "def79b37-0da9-40ab-d5eb-75eb7bdba6b5"
      },
      "source": [
        "from sklearn import preprocessing\n",
        "l = [0,1,2,3,4]\n",
        "print(l)\n",
        "l_2d = [[0,1,2], [3,4,5], [6,7,8]]\n",
        "print(l_2d)"
      ],
      "execution_count": 28,
      "outputs": [
        {
          "output_type": "stream",
          "text": [
            "[0, 1, 2, 3, 4]\n",
            "[[0, 1, 2], [3, 4, 5], [6, 7, 8]]\n"
          ],
          "name": "stdout"
        }
      ]
    },
    {
      "cell_type": "markdown",
      "metadata": {
        "id": "992uL96ykWuB",
        "colab_type": "text"
      },
      "source": [
        "### Min-MaxNormalization\n",
        "use 'MinMaxScaler'"
      ]
    },
    {
      "cell_type": "markdown",
      "metadata": {
        "id": "TVpIAWxskvB0",
        "colab_type": "text"
      },
      "source": [
        "and use fit_transform()"
      ]
    },
    {
      "cell_type": "code",
      "metadata": {
        "id": "_-sCTMm9j0ka",
        "colab_type": "code",
        "colab": {
          "base_uri": "https://localhost:8080/",
          "height": 85
        },
        "outputId": "2f495221-daf2-490a-8bc3-c1cd790eb934"
      },
      "source": [
        "mm = preprocessing.MinMaxScaler()\n",
        "l_2d_min_max = mm.fit_transform(l_2d)\n",
        "print(l_2d_min_max)\n",
        "print(type(l_2d_min_max))"
      ],
      "execution_count": 29,
      "outputs": [
        {
          "output_type": "stream",
          "text": [
            "[[0.  0.  0. ]\n",
            " [0.5 0.5 0.5]\n",
            " [1.  1.  1. ]]\n",
            "<class 'numpy.ndarray'>\n"
          ],
          "name": "stdout"
        }
      ]
    },
    {
      "cell_type": "markdown",
      "metadata": {
        "id": "yRnErxXTk1DX",
        "colab_type": "text"
      },
      "source": [
        "### can use minmax_scale() function"
      ]
    },
    {
      "cell_type": "code",
      "metadata": {
        "id": "N0C0hzLHkj84",
        "colab_type": "code",
        "colab": {
          "base_uri": "https://localhost:8080/",
          "height": 136
        },
        "outputId": "07229589-d58d-4d2a-8ec7-4b5b221359f4"
      },
      "source": [
        "print(preprocessing.minmax_scale(l))\n",
        "print(preprocessing.minmax_scale(l_2d))\n",
        "print(preprocessing.minmax_scale(l_2d, axis = 1))"
      ],
      "execution_count": 30,
      "outputs": [
        {
          "output_type": "stream",
          "text": [
            "[0.   0.25 0.5  0.75 1.  ]\n",
            "[[0.  0.  0. ]\n",
            " [0.5 0.5 0.5]\n",
            " [1.  1.  1. ]]\n",
            "[[0.  0.5 1. ]\n",
            " [0.  0.5 1. ]\n",
            " [0.  0.5 1. ]]\n"
          ],
          "name": "stdout"
        }
      ]
    },
    {
      "cell_type": "markdown",
      "metadata": {
        "id": "aFk2hlO-lEwq",
        "colab_type": "text"
      },
      "source": [
        "### Standardization ave 0, var 1 using 'StandardScaler' or 'scale'\n",
        "#### and fit_transform(l_2d)"
      ]
    },
    {
      "cell_type": "code",
      "metadata": {
        "id": "I1-0deGck_R5",
        "colab_type": "code",
        "colab": {
          "base_uri": "https://localhost:8080/",
          "height": 204
        },
        "outputId": "226024d5-3feb-4d52-d0e8-27aa67bb02bf"
      },
      "source": [
        "ss = preprocessing.StandardScaler()\n",
        "l_2d_standardization = ss.fit_transform(l_2d)\n",
        "print(l_2d_standardization)\n",
        "print(type(l_2d_standardization))\n",
        "print(preprocessing.scale(l))\n",
        "print(preprocessing.scale(l_2d))\n",
        "print(preprocessing.scale(l_2d, axis = 1))"
      ],
      "execution_count": 31,
      "outputs": [
        {
          "output_type": "stream",
          "text": [
            "[[-1.22474487 -1.22474487 -1.22474487]\n",
            " [ 0.          0.          0.        ]\n",
            " [ 1.22474487  1.22474487  1.22474487]]\n",
            "<class 'numpy.ndarray'>\n",
            "[-1.41421356 -0.70710678  0.          0.70710678  1.41421356]\n",
            "[[-1.22474487 -1.22474487 -1.22474487]\n",
            " [ 0.          0.          0.        ]\n",
            " [ 1.22474487  1.22474487  1.22474487]]\n",
            "[[-1.22474487  0.          1.22474487]\n",
            " [-1.22474487  0.          1.22474487]\n",
            " [-1.22474487  0.          1.22474487]]\n"
          ],
          "name": "stdout"
        }
      ]
    },
    {
      "cell_type": "markdown",
      "metadata": {
        "id": "Ok1JO6cHmNZT",
        "colab_type": "text"
      },
      "source": [
        "## Normalization and Standardization Python's \"list\"\n",
        "min(), max(), module.statistics, \n",
        "<br> use pprintf for easy visualizing\n",
        "<br>\n",
        "statistics.stdev() -> divide (n-1) and statistics.pstdev() -> divide n"
      ]
    },
    {
      "cell_type": "code",
      "metadata": {
        "id": "CnevI0G9lp4q",
        "colab_type": "code",
        "colab": {
          "base_uri": "https://localhost:8080/",
          "height": 51
        },
        "outputId": "fddfb512-92e0-49be-8ebc-69ccccfbae1f"
      },
      "source": [
        "import statistics\n",
        "import pprint\n",
        "l = [0,1,2,3,4]\n",
        "print(l)\n",
        "def min_max(l):\n",
        "    l_min = min(l)\n",
        "    l_max = max(l)\n",
        "    return [(i - l_min) / (l_max - l_min) for i in l]\n",
        "print(min_max(l))"
      ],
      "execution_count": 32,
      "outputs": [
        {
          "output_type": "stream",
          "text": [
            "[0, 1, 2, 3, 4]\n",
            "[0.0, 0.25, 0.5, 0.75, 1.0]\n"
          ],
          "name": "stdout"
        }
      ]
    },
    {
      "cell_type": "code",
      "metadata": {
        "id": "iNXdTo3FnKck",
        "colab_type": "code",
        "colab": {
          "base_uri": "https://localhost:8080/",
          "height": 102
        },
        "outputId": "a59e2bd7-cbbf-45f7-de67-ae532eb76acf"
      },
      "source": [
        "def standardization(l):\n",
        "    l_mean = statistics.mean(l)\n",
        "    l_stdev = statistics.stdev(l)\n",
        "    return [(i-l_mean) / l_stdev for i in l]\n",
        "pprint.pprint(standardization(l))"
      ],
      "execution_count": 33,
      "outputs": [
        {
          "output_type": "stream",
          "text": [
            "[-1.2649110640673518,\n",
            " -0.6324555320336759,\n",
            " 0.0,\n",
            " 0.6324555320336759,\n",
            " 1.2649110640673518]\n"
          ],
          "name": "stdout"
        }
      ]
    },
    {
      "cell_type": "code",
      "metadata": {
        "id": "LBqvej8EnW_D",
        "colab_type": "code",
        "colab": {
          "base_uri": "https://localhost:8080/",
          "height": 102
        },
        "outputId": "6560d415-395e-4c04-dc18-7081a2b0b9f2"
      },
      "source": [
        "def standardization_p(l):\n",
        "    l_mean = statistics.mean(l)\n",
        "    l_pstdev = statistics.pstdev(l)\n",
        "    return [(i-l_mean)/l_pstdev for i in l]\n",
        "pprint.pprint(standardization_p(l))"
      ],
      "execution_count": 35,
      "outputs": [
        {
          "output_type": "stream",
          "text": [
            "[-1.414213562373095,\n",
            " -0.7071067811865475,\n",
            " 0.0,\n",
            " 0.7071067811865475,\n",
            " 1.414213562373095]\n"
          ],
          "name": "stdout"
        }
      ]
    },
    {
      "cell_type": "markdown",
      "metadata": {
        "id": "3qjNYHe2osVY",
        "colab_type": "text"
      },
      "source": [
        "## two dimension, ... NumPy ..."
      ]
    },
    {
      "cell_type": "code",
      "metadata": {
        "id": "RFDfnXiJoiCf",
        "colab_type": "code",
        "colab": {
          "base_uri": "https://localhost:8080/",
          "height": 187
        },
        "outputId": "70bf968c-9175-4a64-efd7-8e795f69d79f"
      },
      "source": [
        "l_2d = [[0,1,2], [3,4,5], [6,7,8]]\n",
        "print(l_2d)\n",
        "pprint.pprint([min_max(l_1d) for l_1d in l_2d], width = 40)\n",
        "pprint.pprint([standardization(l_1d) for l_1d in l_2d], width = 40)\n",
        "pprint.pprint([standardization_p(l_1d) for l_1d in l_2d])"
      ],
      "execution_count": 37,
      "outputs": [
        {
          "output_type": "stream",
          "text": [
            "[[0, 1, 2], [3, 4, 5], [6, 7, 8]]\n",
            "[[0.0, 0.5, 1.0],\n",
            " [0.0, 0.5, 1.0],\n",
            " [0.0, 0.5, 1.0]]\n",
            "[[-1.0, 0.0, 1.0],\n",
            " [-1.0, 0.0, 1.0],\n",
            " [-1.0, 0.0, 1.0]]\n",
            "[[-1.224744871391589, 0.0, 1.224744871391589],\n",
            " [-1.224744871391589, 0.0, 1.224744871391589],\n",
            " [-1.224744871391589, 0.0, 1.224744871391589]]\n"
          ],
          "name": "stdout"
        }
      ]
    },
    {
      "cell_type": "code",
      "metadata": {
        "id": "mVYqQmc4pXcx",
        "colab_type": "code",
        "colab": {
          "base_uri": "https://localhost:8080/",
          "height": 170
        },
        "outputId": "4e6a1dd2-63f7-4fc6-cfb3-c2b8db244a3b"
      },
      "source": [
        "l_2d_min_max_col = list(zip(*[min_max(l_1d) for l_1d in list(zip(*l_2d))]))\n",
        "pprint.pprint(l_2d_min_max_col, width = 40)\n",
        "l_2d_standardization_col = list(zip(*[standardization(l_1d) for l_1d in list(zip(*l_2d))]))\n",
        "pprint.pprint(l_2d_standardization_col, width = 40)\n",
        "l_2d_standardization_p_col = list(zip(*[standardization_p(l_1d) for l_1d in list(zip(*l_2d))]))\n",
        "pprint.pprint(l_2d_standardization_p_col)"
      ],
      "execution_count": 38,
      "outputs": [
        {
          "output_type": "stream",
          "text": [
            "[(0.0, 0.0, 0.0),\n",
            " (0.5, 0.5, 0.5),\n",
            " (1.0, 1.0, 1.0)]\n",
            "[(-1.0, -1.0, -1.0),\n",
            " (0.0, 0.0, 0.0),\n",
            " (1.0, 1.0, 1.0)]\n",
            "[(-1.2247448713915892, -1.2247448713915892, -1.2247448713915892),\n",
            " (0.0, 0.0, 0.0),\n",
            " (1.2247448713915892, 1.2247448713915892, 1.2247448713915892)]\n"
          ],
          "name": "stdout"
        }
      ]
    },
    {
      "cell_type": "markdown",
      "metadata": {
        "id": "XGG4U9NJrAvn",
        "colab_type": "text"
      },
      "source": [
        "## NumPy 's ndarray's Nor, Sta"
      ]
    },
    {
      "cell_type": "markdown",
      "metadata": {
        "id": "YeY0ic8tsW72",
        "colab_type": "text"
      },
      "source": [
        "### ndarray.std() -> ddof = 0, ddof = 1"
      ]
    },
    {
      "cell_type": "code",
      "metadata": {
        "id": "pEqIpXpYqR1z",
        "colab_type": "code",
        "colab": {
          "base_uri": "https://localhost:8080/",
          "height": 85
        },
        "outputId": "7bcdd824-5a71-479b-e4fc-50a2ca81ddb8"
      },
      "source": [
        "import numpy as np\n",
        "import scipy.stats\n",
        "from sklearn import preprocessing\n",
        "a = np.array([0,1,2,3,4])\n",
        "print(a)\n",
        "print((a - a.min()) / (a.max() - a.min()))\n",
        "print((a - a.mean()) / a.std())\n",
        "print((a - a.mean()) / a.std(ddof = 1))"
      ],
      "execution_count": 40,
      "outputs": [
        {
          "output_type": "stream",
          "text": [
            "[0 1 2 3 4]\n",
            "[0.   0.25 0.5  0.75 1.  ]\n",
            "[-1.41421356 -0.70710678  0.          0.70710678  1.41421356]\n",
            "[-1.26491106 -0.63245553  0.          0.63245553  1.26491106]\n"
          ],
          "name": "stdout"
        }
      ]
    },
    {
      "cell_type": "markdown",
      "metadata": {
        "id": "akwvzfazsjS9",
        "colab_type": "text"
      },
      "source": [
        "### keep dimension using 'keepdims = True'"
      ]
    },
    {
      "cell_type": "code",
      "metadata": {
        "id": "9rikOvgEshou",
        "colab_type": "code",
        "colab": {
          "base_uri": "https://localhost:8080/",
          "height": 119
        },
        "outputId": "cc29faaf-8947-4eeb-d730-38845140760f"
      },
      "source": [
        "a_2d = np.array([[0,1,2], [3,4,5], [6,7,8]])\n",
        "print(a_2d)\n",
        "def min_max(x, axis = None):\n",
        "    x_min = x.min(axis = axis, keepdims = True)\n",
        "    x_max = x.max(axis = axis, keepdims = True)\n",
        "    return (x - x_min) / (x_max - x_min)\n",
        "print(min_max(a_2d))"
      ],
      "execution_count": 41,
      "outputs": [
        {
          "output_type": "stream",
          "text": [
            "[[0 1 2]\n",
            " [3 4 5]\n",
            " [6 7 8]]\n",
            "[[0.    0.125 0.25 ]\n",
            " [0.375 0.5   0.625]\n",
            " [0.75  0.875 1.   ]]\n"
          ],
          "name": "stdout"
        }
      ]
    },
    {
      "cell_type": "code",
      "metadata": {
        "id": "c1PDqShYs95t",
        "colab_type": "code",
        "colab": {
          "base_uri": "https://localhost:8080/",
          "height": 136
        },
        "outputId": "54a79739-688f-4f92-b502-90c5ae7d862b"
      },
      "source": [
        "print(min_max(a_2d, axis = 0))\n",
        "print(min_max(a_2d, axis = 1))\n",
        "print(min_max(a))"
      ],
      "execution_count": 42,
      "outputs": [
        {
          "output_type": "stream",
          "text": [
            "[[0.  0.  0. ]\n",
            " [0.5 0.5 0.5]\n",
            " [1.  1.  1. ]]\n",
            "[[0.  0.5 1. ]\n",
            " [0.  0.5 1. ]\n",
            " [0.  0.5 1. ]]\n",
            "[0.   0.25 0.5  0.75 1.  ]\n"
          ],
          "name": "stdout"
        }
      ]
    },
    {
      "cell_type": "code",
      "metadata": {
        "id": "cUBiOIXmtKw-",
        "colab_type": "code",
        "colab": {
          "base_uri": "https://localhost:8080/",
          "height": 255
        },
        "outputId": "fa91bae5-356c-4f31-9293-9a50405ed03f"
      },
      "source": [
        "def standardization(x, axis = None, ddof = 0):\n",
        "    x_mean = x.mean(axis = axis, keepdims = True)\n",
        "    x_std = x.std(axis = axis, keepdims = True, ddof = ddof)\n",
        "    return (x-x_mean)/x_std\n",
        "print(standardization(a_2d))\n",
        "print(standardization(a_2d, ddof = 1))\n",
        "print(standardization(a_2d, axis = 0))\n",
        "print(standardization(a_2d, axis = 0,ddof = 1))\n",
        "print(standardization(a))\n",
        "print(standardization(a, ddof = 1))"
      ],
      "execution_count": 44,
      "outputs": [
        {
          "output_type": "stream",
          "text": [
            "[[-1.54919334 -1.161895   -0.77459667]\n",
            " [-0.38729833  0.          0.38729833]\n",
            " [ 0.77459667  1.161895    1.54919334]]\n",
            "[[-1.46059349 -1.09544512 -0.73029674]\n",
            " [-0.36514837  0.          0.36514837]\n",
            " [ 0.73029674  1.09544512  1.46059349]]\n",
            "[[-1.22474487 -1.22474487 -1.22474487]\n",
            " [ 0.          0.          0.        ]\n",
            " [ 1.22474487  1.22474487  1.22474487]]\n",
            "[[-1. -1. -1.]\n",
            " [ 0.  0.  0.]\n",
            " [ 1.  1.  1.]]\n",
            "[-1.41421356 -0.70710678  0.          0.70710678  1.41421356]\n",
            "[-1.26491106 -0.63245553  0.          0.63245553  1.26491106]\n"
          ],
          "name": "stdout"
        }
      ]
    },
    {
      "cell_type": "markdown",
      "metadata": {
        "id": "MGpM3cgTtsyw",
        "colab_type": "text"
      },
      "source": [
        "## Scipy -> scipy.stats.zscore(a)\n"
      ]
    },
    {
      "cell_type": "code",
      "metadata": {
        "id": "vwN0DbF-tXe1",
        "colab_type": "code",
        "colab": {
          "base_uri": "https://localhost:8080/",
          "height": 136
        },
        "outputId": "c7578655-b805-4c1f-ad4d-3067c3f31bef"
      },
      "source": [
        "print(scipy.stats.zscore(a))\n",
        "print(scipy.stats.zscore(a_2d))\n",
        "print(scipy.stats.zscore(a_2d, axis = None, ddof = 1))"
      ],
      "execution_count": 46,
      "outputs": [
        {
          "output_type": "stream",
          "text": [
            "[-1.41421356 -0.70710678  0.          0.70710678  1.41421356]\n",
            "[[-1.22474487 -1.22474487 -1.22474487]\n",
            " [ 0.          0.          0.        ]\n",
            " [ 1.22474487  1.22474487  1.22474487]]\n",
            "[[-1.46059349 -1.09544512 -0.73029674]\n",
            " [-0.36514837  0.          0.36514837]\n",
            " [ 0.73029674  1.09544512  1.46059349]]\n"
          ],
          "name": "stdout"
        }
      ]
    },
    {
      "cell_type": "markdown",
      "metadata": {
        "id": "SK2gIaRet_gY",
        "colab_type": "text"
      },
      "source": [
        "## if you use sklearn.preprocessing, astype() int to float"
      ]
    },
    {
      "cell_type": "code",
      "metadata": {
        "id": "xecGCLHTt5I1",
        "colab_type": "code",
        "colab": {
          "base_uri": "https://localhost:8080/",
          "height": 255
        },
        "outputId": "cfc39e8e-4f9a-4cb3-baa7-78ac2bba70ee"
      },
      "source": [
        "mm = preprocessing.MinMaxScaler()\n",
        "print(mm.fit_transform(a_2d.astype(float)))\n",
        "print(preprocessing.minmax_scale(a.astype(float)))\n",
        "print(preprocessing.minmax_scale(a_2d.astype(float), axis = 1))\n",
        "ss = preprocessing.StandardScaler()\n",
        "print(ss.fit_transform(a_2d.astype(float)))\n",
        "print(preprocessing.scale(a.astype(float)))\n",
        "print(preprocessing.scale(a_2d.astype(float), axis = 1))"
      ],
      "execution_count": 50,
      "outputs": [
        {
          "output_type": "stream",
          "text": [
            "[[0.  0.  0. ]\n",
            " [0.5 0.5 0.5]\n",
            " [1.  1.  1. ]]\n",
            "[0.   0.25 0.5  0.75 1.  ]\n",
            "[[0.  0.5 1. ]\n",
            " [0.  0.5 1. ]\n",
            " [0.  0.5 1. ]]\n",
            "[[-1.22474487 -1.22474487 -1.22474487]\n",
            " [ 0.          0.          0.        ]\n",
            " [ 1.22474487  1.22474487  1.22474487]]\n",
            "[-1.41421356 -0.70710678  0.          0.70710678  1.41421356]\n",
            "[[-1.22474487  0.          1.22474487]\n",
            " [-1.22474487  0.          1.22474487]\n",
            " [-1.22474487  0.          1.22474487]]\n"
          ],
          "name": "stdout"
        }
      ]
    },
    {
      "cell_type": "markdown",
      "metadata": {
        "id": "S4i5Pt62uwU6",
        "colab_type": "text"
      },
      "source": [
        "## Use Pandas\n",
        "### pandas.DataFrame, pandas.Series 's Normalization and Standardization"
      ]
    },
    {
      "cell_type": "code",
      "metadata": {
        "id": "ZvBkj94SueGh",
        "colab_type": "code",
        "colab": {
          "base_uri": "https://localhost:8080/",
          "height": 289
        },
        "outputId": "e4a98950-0434-486e-9c79-5dffd48f5e2e"
      },
      "source": [
        "import pandas as pd\n",
        "import scipy.stats\n",
        "from sklearn import preprocessing \n",
        "df = pd.DataFrame([[0,1,2],[3,4,5],[6,7,8]], columns = ['col1', 'col2', 'col3'], index = ['a', 'b', 'c'])\n",
        "print(df)\n",
        "print((df - df.min()) / (df.max() - df.min()))\n",
        "print(((df.T - df.T.min()) / (df.T.max() - df.T.min())).T)\n",
        "print((df - df.values.min()) / (df.values.max() - df.values.min()))"
      ],
      "execution_count": 51,
      "outputs": [
        {
          "output_type": "stream",
          "text": [
            "   col1  col2  col3\n",
            "a     0     1     2\n",
            "b     3     4     5\n",
            "c     6     7     8\n",
            "   col1  col2  col3\n",
            "a   0.0   0.0   0.0\n",
            "b   0.5   0.5   0.5\n",
            "c   1.0   1.0   1.0\n",
            "   col1  col2  col3\n",
            "a   0.0   0.5   1.0\n",
            "b   0.0   0.5   1.0\n",
            "c   0.0   0.5   1.0\n",
            "    col1   col2   col3\n",
            "a  0.000  0.125  0.250\n",
            "b  0.375  0.500  0.625\n",
            "c  0.750  0.875  1.000\n"
          ],
          "name": "stdout"
        }
      ]
    },
    {
      "cell_type": "markdown",
      "metadata": {
        "id": "LIc294HDv5a8",
        "colab_type": "text"
      },
      "source": [
        "### Next ave 0, var 1 standardization, normalization"
      ]
    },
    {
      "cell_type": "code",
      "metadata": {
        "id": "LNiA_Ygvvnlo",
        "colab_type": "code",
        "colab": {
          "base_uri": "https://localhost:8080/",
          "height": 425
        },
        "outputId": "89d38b9a-63c0-4018-fa15-779624f571ee"
      },
      "source": [
        "print((df - df.mean()) / df.std())\n",
        "print((df - df.mean()) / df.std(ddof = 0))\n",
        "print(((df.T - df.T.mean()) / df.T.std()).T)\n",
        "print(((df.T - df.T.mean()) / df.T.std(ddof = 0)).T)\n",
        "\n",
        "# If you use .values, this is 'ndarray'... That is std(ddof = 0) defalut. !!\n",
        "\n",
        "print((df - df.values.mean()) / df.values.std())\n",
        "print((df - df.values.mean()) / df.values.std(ddof = 1))"
      ],
      "execution_count": 54,
      "outputs": [
        {
          "output_type": "stream",
          "text": [
            "   col1  col2  col3\n",
            "a  -1.0  -1.0  -1.0\n",
            "b   0.0   0.0   0.0\n",
            "c   1.0   1.0   1.0\n",
            "       col1      col2      col3\n",
            "a -1.224745 -1.224745 -1.224745\n",
            "b  0.000000  0.000000  0.000000\n",
            "c  1.224745  1.224745  1.224745\n",
            "   col1  col2  col3\n",
            "a  -1.0   0.0   1.0\n",
            "b  -1.0   0.0   1.0\n",
            "c  -1.0   0.0   1.0\n",
            "       col1  col2      col3\n",
            "a -1.224745   0.0  1.224745\n",
            "b -1.224745   0.0  1.224745\n",
            "c -1.224745   0.0  1.224745\n",
            "       col1      col2      col3\n",
            "a -1.549193 -1.161895 -0.774597\n",
            "b -0.387298  0.000000  0.387298\n",
            "c  0.774597  1.161895  1.549193\n",
            "       col1      col2      col3\n",
            "a -1.460593 -1.095445 -0.730297\n",
            "b -0.365148  0.000000  0.365148\n",
            "c  0.730297  1.095445  1.460593\n"
          ],
          "name": "stdout"
        }
      ]
    },
    {
      "cell_type": "code",
      "metadata": {
        "id": "xtk72JbGwaAZ",
        "colab_type": "code",
        "colab": {
          "base_uri": "https://localhost:8080/",
          "height": 85
        },
        "outputId": "93f7b401-e25a-495a-c04e-2baad16cf59c"
      },
      "source": [
        "df_ = df.copy()\n",
        "s = df_['col1']\n",
        "df_['col1_min_max'] = (s - s.min()) / (s.max() - s.min())\n",
        "df_['col1_standardization'] = (s - s.mean()) / s.std()\n",
        "print(df_)"
      ],
      "execution_count": 55,
      "outputs": [
        {
          "output_type": "stream",
          "text": [
            "   col1  col2  col3  col1_min_max  col1_standardization\n",
            "a     0     1     2           0.0                  -1.0\n",
            "b     3     4     5           0.5                   0.0\n",
            "c     6     7     8           1.0                   1.0\n"
          ],
          "name": "stdout"
        }
      ]
    },
    {
      "cell_type": "markdown",
      "metadata": {
        "id": "uc2jh3Wixgmv",
        "colab_type": "text"
      },
      "source": [
        "## Scipy, scikit-learn ... with pandas.DataFrame"
      ]
    },
    {
      "cell_type": "code",
      "metadata": {
        "id": "JySNwneJxTte",
        "colab_type": "code",
        "colab": {
          "base_uri": "https://localhost:8080/",
          "height": 136
        },
        "outputId": "f188f81f-463e-41e5-f46d-9d8074d84444"
      },
      "source": [
        "print(scipy.stats.zscore(df))\n",
        "print(type(scipy.stats.zscore(df)))\n",
        "print(scipy.stats.zscore(df, axis = None, ddof = 1))"
      ],
      "execution_count": 56,
      "outputs": [
        {
          "output_type": "stream",
          "text": [
            "[[-1.22474487 -1.22474487 -1.22474487]\n",
            " [ 0.          0.          0.        ]\n",
            " [ 1.22474487  1.22474487  1.22474487]]\n",
            "<class 'numpy.ndarray'>\n",
            "[[-1.46059349 -1.09544512 -0.73029674]\n",
            " [-0.36514837  0.          0.36514837]\n",
            " [ 0.73029674  1.09544512  1.46059349]]\n"
          ],
          "name": "stdout"
        }
      ]
    },
    {
      "cell_type": "markdown",
      "metadata": {
        "id": "XWKMiiuAx8Og",
        "colab_type": "text"
      },
      "source": [
        "### return pandas.DataFrame standarded values...."
      ]
    },
    {
      "cell_type": "code",
      "metadata": {
        "id": "zMCqI-VXxuG0",
        "colab_type": "code",
        "colab": {
          "base_uri": "https://localhost:8080/",
          "height": 85
        },
        "outputId": "26ef896d-160a-46fb-b5b1-fa7ce90b2283"
      },
      "source": [
        "df_standardization = pd.DataFrame(scipy.stats.zscore(df), index = df.index, columns = df.columns)\n",
        "print(df_standardization)"
      ],
      "execution_count": 58,
      "outputs": [
        {
          "output_type": "stream",
          "text": [
            "       col1      col2      col3\n",
            "a -1.224745 -1.224745 -1.224745\n",
            "b  0.000000  0.000000  0.000000\n",
            "c  1.224745  1.224745  1.224745\n"
          ],
          "name": "stdout"
        }
      ]
    },
    {
      "cell_type": "code",
      "metadata": {
        "id": "zrkeut9uyH21",
        "colab_type": "code",
        "colab": {
          "base_uri": "https://localhost:8080/",
          "height": 85
        },
        "outputId": "ee3aa9d9-6b5b-41f5-db6e-f52c6be3b5e0"
      },
      "source": [
        "df_ = df.copy()\n",
        "df_['col1_standardization'] = scipy.stats.zscore(df_['col1'])\n",
        "print(df_)"
      ],
      "execution_count": 59,
      "outputs": [
        {
          "output_type": "stream",
          "text": [
            "   col1  col2  col3  col1_standardization\n",
            "a     0     1     2             -1.224745\n",
            "b     3     4     5              0.000000\n",
            "c     6     7     8              1.224745\n"
          ],
          "name": "stdout"
        }
      ]
    },
    {
      "cell_type": "markdown",
      "metadata": {
        "id": "_ZFY53NRyiMe",
        "colab_type": "text"
      },
      "source": [
        "### Example of sklearn.preprocessing"
      ]
    },
    {
      "cell_type": "code",
      "metadata": {
        "id": "kaY9JHCLyYiD",
        "colab_type": "code",
        "colab": {
          "base_uri": "https://localhost:8080/",
          "height": 153
        },
        "outputId": "c02ef56d-8335-4468-8072-9e24c1aa1ca0"
      },
      "source": [
        "mm = preprocessing.MinMaxScaler()\n",
        "print(mm.fit_transform(df))\n",
        "print(type(mm.fit_transform(df)))\n",
        "print(preprocessing.minmax_scale(df))\n",
        "print(type(preprocessing.minmax_scale(df)))\n"
      ],
      "execution_count": 61,
      "outputs": [
        {
          "output_type": "stream",
          "text": [
            "[[0.  0.  0. ]\n",
            " [0.5 0.5 0.5]\n",
            " [1.  1.  1. ]]\n",
            "<class 'numpy.ndarray'>\n",
            "[[0.  0.  0. ]\n",
            " [0.5 0.5 0.5]\n",
            " [1.  1.  1. ]]\n",
            "<class 'numpy.ndarray'>\n"
          ],
          "name": "stdout"
        }
      ]
    },
    {
      "cell_type": "code",
      "metadata": {
        "id": "c6lD2yqtywok",
        "colab_type": "code",
        "colab": {
          "base_uri": "https://localhost:8080/",
          "height": 153
        },
        "outputId": "c59a8235-7b07-4489-e468-d6a7a44c2e9f"
      },
      "source": [
        "df_min_max = pd.DataFrame(mm.fit_transform(df), index = df.index, columns = df.columns)\n",
        "print(df_min_max)\n",
        "df_ = df.copy()\n",
        "s = df_['col1'].astype(float)\n",
        "df_['col1_min_max'] = preprocessing.minmax_scale(s)\n",
        "df_['col1_standardization'] = preprocessing.scale(s)\n",
        "print(df_)"
      ],
      "execution_count": 62,
      "outputs": [
        {
          "output_type": "stream",
          "text": [
            "   col1  col2  col3\n",
            "a   0.0   0.0   0.0\n",
            "b   0.5   0.5   0.5\n",
            "c   1.0   1.0   1.0\n",
            "   col1  col2  col3  col1_min_max  col1_standardization\n",
            "a     0     1     2           0.0             -1.224745\n",
            "b     3     4     5           0.5              0.000000\n",
            "c     6     7     8           1.0              1.224745\n"
          ],
          "name": "stdout"
        }
      ]
    },
    {
      "cell_type": "markdown",
      "metadata": {
        "id": "BmHGqH9Dz02l",
        "colab_type": "text"
      },
      "source": [
        "# Get Max and Min 's index\n",
        "## use numpy.argmax()\n",
        "## numpy.ndarray.argmax()\n",
        "## numpy.argmin()\n",
        "## numpy.ndarray.argmin()"
      ]
    },
    {
      "cell_type": "code",
      "metadata": {
        "id": "yMVUrLODzrCs",
        "colab_type": "code",
        "colab": {
          "base_uri": "https://localhost:8080/",
          "height": 34
        },
        "outputId": "e3b08d32-fd69-4235-8dae-48ac08917e2a"
      },
      "source": [
        "import numpy as np\n",
        "a = np.array([1,100,10])\n",
        "print(a)\n"
      ],
      "execution_count": 63,
      "outputs": [
        {
          "output_type": "stream",
          "text": [
            "[  1 100  10]\n"
          ],
          "name": "stdout"
        }
      ]
    },
    {
      "cell_type": "markdown",
      "metadata": {
        "id": "AzH0gJZ20rNH",
        "colab_type": "text"
      },
      "source": [
        "### if you designate np.argmax(ndarray), return max values' index"
      ]
    },
    {
      "cell_type": "code",
      "metadata": {
        "id": "UqpX7Dyq0pJ2",
        "colab_type": "code",
        "colab": {
          "base_uri": "https://localhost:8080/",
          "height": 34
        },
        "outputId": "152c6dbc-3925-4582-ad43-1bc0ad9670e0"
      },
      "source": [
        "print(np.argmax(a))"
      ],
      "execution_count": 64,
      "outputs": [
        {
          "output_type": "stream",
          "text": [
            "1\n"
          ],
          "name": "stdout"
        }
      ]
    },
    {
      "cell_type": "code",
      "metadata": {
        "id": "5mQcoaR100ib",
        "colab_type": "code",
        "colab": {
          "base_uri": "https://localhost:8080/",
          "height": 51
        },
        "outputId": "eee215c2-3194-4791-e094-887f1add5b14"
      },
      "source": [
        "a = np.array([1,10,10])\n",
        "print(a)\n",
        "print(np.argmax(a))"
      ],
      "execution_count": 65,
      "outputs": [
        {
          "output_type": "stream",
          "text": [
            "[ 1 10 10]\n",
            "1\n"
          ],
          "name": "stdout"
        }
      ]
    },
    {
      "cell_type": "markdown",
      "metadata": {
        "id": "_XtSqvBZ06MU",
        "colab_type": "text"
      },
      "source": [
        "### two dimension"
      ]
    },
    {
      "cell_type": "code",
      "metadata": {
        "id": "cAnd-4G503lC",
        "colab_type": "code",
        "colab": {
          "base_uri": "https://localhost:8080/",
          "height": 68
        },
        "outputId": "751884fb-f1c0-4ecd-ccae-5b516ae61a58"
      },
      "source": [
        "a_2d = np.array([[20,50,30], [60,40,10]])\n",
        "print(a_2d)\n",
        "print(np.argmax(a_2d)) # flatten"
      ],
      "execution_count": 66,
      "outputs": [
        {
          "output_type": "stream",
          "text": [
            "[[20 50 30]\n",
            " [60 40 10]]\n",
            "3\n"
          ],
          "name": "stdout"
        }
      ]
    },
    {
      "cell_type": "markdown",
      "metadata": {
        "id": "6ywZPnat1FA5",
        "colab_type": "text"
      },
      "source": [
        "### ndarray.flatten() do 2 -> 1"
      ]
    },
    {
      "cell_type": "code",
      "metadata": {
        "id": "TVxBJJCG1Dj7",
        "colab_type": "code",
        "colab": {
          "base_uri": "https://localhost:8080/",
          "height": 51
        },
        "outputId": "e1fb1ce5-e964-4e32-fd76-d2f611d8be32"
      },
      "source": [
        "print(a_2d.flatten())\n",
        "print(np.argmax(a_2d.flatten()))"
      ],
      "execution_count": 67,
      "outputs": [
        {
          "output_type": "stream",
          "text": [
            "[20 50 30 60 40 10]\n",
            "3\n"
          ],
          "name": "stdout"
        }
      ]
    },
    {
      "cell_type": "markdown",
      "metadata": {
        "id": "ZiZfMNrT1Ps8",
        "colab_type": "text"
      },
      "source": [
        "### MAXindex in each rows and columns...\n",
        "can set second arguments axis = ?"
      ]
    },
    {
      "cell_type": "code",
      "metadata": {
        "id": "GT7_rMX-1MK7",
        "colab_type": "code",
        "colab": {
          "base_uri": "https://localhost:8080/",
          "height": 51
        },
        "outputId": "e8f6274a-4323-4047-d763-1343f35768af"
      },
      "source": [
        "print(np.argmax(a_2d, axis = 0))\n",
        "print(np.max(a_2d, axis = 0))"
      ],
      "execution_count": 68,
      "outputs": [
        {
          "output_type": "stream",
          "text": [
            "[1 0 0]\n",
            "[60 50 30]\n"
          ],
          "name": "stdout"
        }
      ]
    },
    {
      "cell_type": "code",
      "metadata": {
        "id": "jeZyJuc-1cU6",
        "colab_type": "code",
        "colab": {
          "base_uri": "https://localhost:8080/",
          "height": 51
        },
        "outputId": "87d16a9f-2521-4b0d-996e-1f8dfd60b7ea"
      },
      "source": [
        "print(np.argmax(a_2d, axis = 1))\n",
        "print(np.max(a_2d, axis = 1))"
      ],
      "execution_count": 69,
      "outputs": [
        {
          "output_type": "stream",
          "text": [
            "[1 0]\n",
            "[50 60]\n"
          ],
          "name": "stdout"
        }
      ]
    },
    {
      "cell_type": "code",
      "metadata": {
        "id": "mvPJwjV31gaO",
        "colab_type": "code",
        "colab": {
          "base_uri": "https://localhost:8080/",
          "height": 51
        },
        "outputId": "b7812791-21f3-48e7-ebba-9c2227e21416"
      },
      "source": [
        "print(a_2d)"
      ],
      "execution_count": 70,
      "outputs": [
        {
          "output_type": "stream",
          "text": [
            "[[20 50 30]\n",
            " [60 40 10]]\n"
          ],
          "name": "stdout"
        }
      ]
    },
    {
      "cell_type": "markdown",
      "metadata": {
        "id": "utP6uWFs1tLu",
        "colab_type": "text"
      },
      "source": [
        "### ALL MAX INDEX ... use np.unravel_index()\n",
        "* the first arguments : flattened ndarray's \"index\"\n",
        "* the second argumants : original ndarray's \"shape\"\n",
        "<br>return tuple's index"
      ]
    },
    {
      "cell_type": "code",
      "metadata": {
        "id": "_p-k84Ac1kKy",
        "colab_type": "code",
        "colab": {
          "base_uri": "https://localhost:8080/",
          "height": 34
        },
        "outputId": "d6ca6ec8-7f73-4850-eebb-c6fa156d1c87"
      },
      "source": [
        "idx = np.unravel_index(np.argmax(a_2d), a_2d.shape)\n",
        "print(idx)"
      ],
      "execution_count": 72,
      "outputs": [
        {
          "output_type": "stream",
          "text": [
            "(1, 0)\n"
          ],
          "name": "stdout"
        }
      ]
    },
    {
      "cell_type": "code",
      "metadata": {
        "id": "GJB2FYTB2RQF",
        "colab_type": "code",
        "colab": {
          "base_uri": "https://localhost:8080/",
          "height": 51
        },
        "outputId": "95fa675a-73ca-417f-ecae-194df4235330"
      },
      "source": [
        "print(a_2d[idx])\n",
        "print(np.max(a_2d))"
      ],
      "execution_count": 73,
      "outputs": [
        {
          "output_type": "stream",
          "text": [
            "60\n",
            "60\n"
          ],
          "name": "stdout"
        }
      ]
    },
    {
      "cell_type": "markdown",
      "metadata": {
        "id": "2AxgubL_2hw0",
        "colab_type": "text"
      },
      "source": [
        "But this way, if max values are so many, dont find.<br>Insted, use 'np.where()'"
      ]
    },
    {
      "cell_type": "markdown",
      "metadata": {
        "id": "EXGrWymh2syn",
        "colab_type": "text"
      },
      "source": [
        "### ndarray's argmax() method"
      ]
    },
    {
      "cell_type": "code",
      "metadata": {
        "id": "ySaVHyag2WES",
        "colab_type": "code",
        "colab": {
          "base_uri": "https://localhost:8080/",
          "height": 68
        },
        "outputId": "713d2287-02d8-410b-8b89-f72b398c0ba5"
      },
      "source": [
        "a = np.array([1,100,10])\n",
        "print(a)\n",
        "print(a.argmax())\n",
        "print(a.max())"
      ],
      "execution_count": 74,
      "outputs": [
        {
          "output_type": "stream",
          "text": [
            "[  1 100  10]\n",
            "1\n",
            "100\n"
          ],
          "name": "stdout"
        }
      ]
    },
    {
      "cell_type": "markdown",
      "metadata": {
        "id": "Wqn43q3Q29O9",
        "colab_type": "text"
      },
      "source": [
        "if many dimension are, designate axis for propose."
      ]
    },
    {
      "cell_type": "code",
      "metadata": {
        "id": "GP75yLsY2zDK",
        "colab_type": "code",
        "colab": {
          "base_uri": "https://localhost:8080/",
          "height": 136
        },
        "outputId": "877cd584-202e-4129-99af-a980754a998f"
      },
      "source": [
        "a_2d = np.array([[20,50,30], [60,40,10]])\n",
        "print(a_2d)\n",
        "print(a_2d.argmax())\n",
        "print(a_2d.argmax(axis = 0))\n",
        "print(a_2d.max(axis = 0))\n",
        "print(a_2d.argmax(axis = 1))\n",
        "print(a_2d.max(axis = 1))"
      ],
      "execution_count": 75,
      "outputs": [
        {
          "output_type": "stream",
          "text": [
            "[[20 50 30]\n",
            " [60 40 10]]\n",
            "3\n",
            "[1 0 0]\n",
            "[60 50 30]\n",
            "[1 0]\n",
            "[50 60]\n"
          ],
          "name": "stdout"
        }
      ]
    },
    {
      "cell_type": "code",
      "metadata": {
        "id": "F_LFhmKz3l46",
        "colab_type": "code",
        "colab": {
          "base_uri": "https://localhost:8080/",
          "height": 34
        },
        "outputId": "10f8b7fa-e784-48e5-db2a-772b523e8d81"
      },
      "source": [
        "print(np.unravel_index(a_2d.argmax(), a_2d.shape))"
      ],
      "execution_count": 78,
      "outputs": [
        {
          "output_type": "stream",
          "text": [
            "(1, 0)\n"
          ],
          "name": "stdout"
        }
      ]
    },
    {
      "cell_type": "markdown",
      "metadata": {
        "id": "_63gglZ033jF",
        "colab_type": "text"
      },
      "source": [
        "## np.argmin(), "
      ]
    },
    {
      "cell_type": "code",
      "metadata": {
        "id": "SRDyNNqa3qSy",
        "colab_type": "code",
        "colab": {
          "base_uri": "https://localhost:8080/",
          "height": 255
        },
        "outputId": "fcdd68b5-197c-41ca-d4e7-678f832e3230"
      },
      "source": [
        "import numpy as np\n",
        "a = np.array([1,100,10])\n",
        "print(a)\n",
        "print(np.argmin(a))\n",
        "print(a.argmin())\n",
        "a_2d = np.array([[20, 50, 30], [60,40,10]])\n",
        "print(a_2d)\n",
        "print(np.argmin(a_2d))\n",
        "print(a_2d.argmin())\n",
        "print(np.argmin(a_2d, axis = 0))\n",
        "print(a_2d.argmin(axis = 0))\n",
        "print(np.min(a_2d, axis = 0))\n",
        "print(a_2d.min(axis = 0))\n",
        "print(np.argmin(a_2d, axis = 1))\n",
        "print(np.min(a_2d, axis = 1))\n",
        "print(a_2d.min(axis = 1))"
      ],
      "execution_count": 79,
      "outputs": [
        {
          "output_type": "stream",
          "text": [
            "[  1 100  10]\n",
            "0\n",
            "0\n",
            "[[20 50 30]\n",
            " [60 40 10]]\n",
            "5\n",
            "5\n",
            "[0 1 1]\n",
            "[0 1 1]\n",
            "[20 40 10]\n",
            "[20 40 10]\n",
            "[0 2]\n",
            "[20 10]\n",
            "[20 10]\n"
          ],
          "name": "stdout"
        }
      ]
    },
    {
      "cell_type": "code",
      "metadata": {
        "id": "sK6800pv4O01",
        "colab_type": "code",
        "colab": {
          "base_uri": "https://localhost:8080/",
          "height": 85
        },
        "outputId": "79d0a58c-b9e1-47dc-a3f6-4c0d1aee1fa5"
      },
      "source": [
        "idx = np.unravel_index(np.argmin(a_2d), a_2d.shape)\n",
        "print(idx)\n",
        "print(a_2d[idx])\n",
        "print(np.min(a_2d))\n",
        "print(np.unravel_index(a_2d.argmin(), a_2d.shape))"
      ],
      "execution_count": 80,
      "outputs": [
        {
          "output_type": "stream",
          "text": [
            "(1, 2)\n",
            "10\n",
            "10\n",
            "(1, 2)\n"
          ],
          "name": "stdout"
        }
      ]
    },
    {
      "cell_type": "markdown",
      "metadata": {
        "id": "qW5Wp_bi4fde",
        "colab_type": "text"
      },
      "source": [
        "## USE np.where()\n",
        "so smart"
      ]
    },
    {
      "cell_type": "code",
      "metadata": {
        "id": "IAW4gM5E4brp",
        "colab_type": "code",
        "colab": {
          "base_uri": "https://localhost:8080/",
          "height": 119
        },
        "outputId": "e02b2ce6-e51f-4d68-e15e-2c793ae561b4"
      },
      "source": [
        "a_2d = np.array([[10,20,30], [30,20,10]])\n",
        "print(a_2d)\n",
        "print(np.max(a_2d))\n",
        "print(np.min(a_2d))\n",
        "print(np.unravel_index(np.argmax(a_2d), a_2d.shape))\n",
        "print(np.unravel_index(np.argmin(a_2d), a_2d.shape))\n",
        "\n",
        "# only 1 return .. !?"
      ],
      "execution_count": 82,
      "outputs": [
        {
          "output_type": "stream",
          "text": [
            "[[10 20 30]\n",
            " [30 20 10]]\n",
            "30\n",
            "10\n",
            "(0, 2)\n",
            "(0, 0)\n"
          ],
          "name": "stdout"
        }
      ]
    },
    {
      "cell_type": "markdown",
      "metadata": {
        "id": "llRiSUUL48Xl",
        "colab_type": "text"
      },
      "source": [
        "use np.where()\n"
      ]
    },
    {
      "cell_type": "code",
      "metadata": {
        "id": "3j46naGQ4yky",
        "colab_type": "code",
        "colab": {
          "base_uri": "https://localhost:8080/",
          "height": 85
        },
        "outputId": "15c2a736-17ff-4ce8-e55b-eec46fa44c95"
      },
      "source": [
        "print(np.where(a_2d == np.max(a_2d)))\n",
        "print(list(zip(*np.where(a_2d == np.max(a_2d)))))\n",
        "print(np.where(a_2d == np.min(a_2d)))\n",
        "print(list(zip(*np.where(a_2d == np.min(a_2d)))))"
      ],
      "execution_count": 83,
      "outputs": [
        {
          "output_type": "stream",
          "text": [
            "(array([0, 1]), array([2, 0]))\n",
            "[(0, 2), (1, 0)]\n",
            "(array([0, 1]), array([0, 2]))\n",
            "[(0, 0), (1, 2)]\n"
          ],
          "name": "stdout"
        }
      ]
    },
    {
      "cell_type": "markdown",
      "metadata": {
        "id": "16GS4fgD5VGq",
        "colab_type": "text"
      },
      "source": [
        "# conver One-Hot representation by 'eye' or 'indentity'"
      ]
    },
    {
      "cell_type": "markdown",
      "metadata": {
        "id": "KeSbco9j6LNj",
        "colab_type": "text"
      },
      "source": [
        "## numpy.eye()\n",
        "make 2 dimension in 1 diagonally aigned and the rest 0."
      ]
    },
    {
      "cell_type": "code",
      "metadata": {
        "id": "kqv9KBTr5Kqx",
        "colab_type": "code",
        "colab": {
          "base_uri": "https://localhost:8080/",
          "height": 102
        },
        "outputId": "38656215-e919-410e-f4d4-0c58f54a6cf3"
      },
      "source": [
        "e = np.eye(4)\n",
        "print(e)\n",
        "print(e.dtype)"
      ],
      "execution_count": 85,
      "outputs": [
        {
          "output_type": "stream",
          "text": [
            "[[1. 0. 0. 0.]\n",
            " [0. 1. 0. 0.]\n",
            " [0. 0. 1. 0.]\n",
            " [0. 0. 0. 1.]]\n",
            "float64\n"
          ],
          "name": "stdout"
        }
      ]
    },
    {
      "cell_type": "code",
      "metadata": {
        "id": "KSLfPU276c64",
        "colab_type": "code",
        "colab": {
          "base_uri": "https://localhost:8080/",
          "height": 102
        },
        "outputId": "362206b9-55e9-4607-a348-1e6ffc2e51e5"
      },
      "source": [
        "e = np.eye(4, M=3, k = 1, dtype = np.int8) # M is columns size, k is 1's start position.\n",
        "print(e)\n",
        "print(e.dtype)"
      ],
      "execution_count": 90,
      "outputs": [
        {
          "output_type": "stream",
          "text": [
            "[[0 1 0]\n",
            " [0 0 1]\n",
            " [0 0 0]\n",
            " [0 0 0]]\n",
            "int8\n"
          ],
          "name": "stdout"
        }
      ]
    },
    {
      "cell_type": "code",
      "metadata": {
        "id": "kswLWZMq6j7R",
        "colab_type": "code",
        "colab": {
          "base_uri": "https://localhost:8080/",
          "height": 102
        },
        "outputId": "da719e54-8df0-4741-bcf8-84eb823fb892"
      },
      "source": [
        "i = np.identity(4)\n",
        "print(i)\n",
        "print(i.dtype)"
      ],
      "execution_count": 91,
      "outputs": [
        {
          "output_type": "stream",
          "text": [
            "[[1. 0. 0. 0.]\n",
            " [0. 1. 0. 0.]\n",
            " [0. 0. 1. 0.]\n",
            " [0. 0. 0. 1.]]\n",
            "float64\n"
          ],
          "name": "stdout"
        }
      ]
    },
    {
      "cell_type": "code",
      "metadata": {
        "id": "-TzMvvDe637A",
        "colab_type": "code",
        "colab": {
          "base_uri": "https://localhost:8080/",
          "height": 102
        },
        "outputId": "13f257ef-93ea-4179-dc03-5d41f37fc7de"
      },
      "source": [
        "i = np.identity(4, dtype = np.uint8)\n",
        "print(i)\n",
        "print(i.dtype)"
      ],
      "execution_count": 92,
      "outputs": [
        {
          "output_type": "stream",
          "text": [
            "[[1 0 0 0]\n",
            " [0 1 0 0]\n",
            " [0 0 1 0]\n",
            " [0 0 0 1]]\n",
            "uint8\n"
          ],
          "name": "stdout"
        }
      ]
    },
    {
      "cell_type": "code",
      "metadata": {
        "id": "FBnyA74O7EmT",
        "colab_type": "code",
        "colab": {}
      },
      "source": [
        "from numpy import eye\n",
        "return eye(n, dtype = dtype)"
      ],
      "execution_count": null,
      "outputs": []
    },
    {
      "cell_type": "markdown",
      "metadata": {
        "id": "BB9czgFJ7VUC",
        "colab_type": "text"
      },
      "source": [
        "## convert one-hot representation"
      ]
    },
    {
      "cell_type": "code",
      "metadata": {
        "id": "g51PZQXO7X33",
        "colab_type": "code",
        "colab": {
          "base_uri": "https://localhost:8080/",
          "height": 119
        },
        "outputId": "1bd9b8c1-4107-40f8-b0f9-6ebd4f9326ec"
      },
      "source": [
        "a = [3,0,8,1,9]\n",
        "a_one_hot = np.identity(10)[a] # index position y = 1, x = 3... y = 2, x = 0...\n",
        "print(a)\n",
        "print(a_one_hot)"
      ],
      "execution_count": 95,
      "outputs": [
        {
          "output_type": "stream",
          "text": [
            "[3, 0, 8, 1, 9]\n",
            "[[0. 0. 0. 1. 0. 0. 0. 0. 0. 0.]\n",
            " [1. 0. 0. 0. 0. 0. 0. 0. 0. 0.]\n",
            " [0. 0. 0. 0. 0. 0. 0. 0. 1. 0.]\n",
            " [0. 1. 0. 0. 0. 0. 0. 0. 0. 0.]\n",
            " [0. 0. 0. 0. 0. 0. 0. 0. 0. 1.]]\n"
          ],
          "name": "stdout"
        }
      ]
    },
    {
      "cell_type": "code",
      "metadata": {
        "id": "zxGP-gZA7c7I",
        "colab_type": "code",
        "colab": {
          "base_uri": "https://localhost:8080/",
          "height": 119
        },
        "outputId": "8ae9652e-0b6d-4190-d103-9c6c116f6cba"
      },
      "source": [
        "a = [2,2,0,1,0]\n",
        "a_one_hot = np.identity(3)[a]\n",
        "print(a)\n",
        "print(a_one_hot)"
      ],
      "execution_count": 94,
      "outputs": [
        {
          "output_type": "stream",
          "text": [
            "[2, 2, 0, 1, 0]\n",
            "[[0. 0. 1.]\n",
            " [0. 0. 1.]\n",
            " [1. 0. 0.]\n",
            " [0. 1. 0.]\n",
            " [1. 0. 0.]]\n"
          ],
          "name": "stdout"
        }
      ]
    },
    {
      "cell_type": "markdown",
      "metadata": {
        "id": "_ZPHXp8A8GOp",
        "colab_type": "text"
      },
      "source": [
        "# scroll ndarray 'np.roll'\n",
        "shift , scroll..."
      ]
    },
    {
      "cell_type": "code",
      "metadata": {
        "id": "HZ9ehgPa7nEp",
        "colab_type": "code",
        "colab": {
          "base_uri": "https://localhost:8080/",
          "height": 68
        },
        "outputId": "bac2c5d3-7842-4bc2-966d-0d3366200cd2"
      },
      "source": [
        "import numpy as np\n",
        "a = np.arange(10)\n",
        "print(a)\n",
        "a_roll = np.roll(a, 3) # 3bit right shift,,, rollllling \n",
        "print(a_roll)\n",
        "print(a)"
      ],
      "execution_count": 97,
      "outputs": [
        {
          "output_type": "stream",
          "text": [
            "[0 1 2 3 4 5 6 7 8 9]\n",
            "[7 8 9 0 1 2 3 4 5 6]\n",
            "[0 1 2 3 4 5 6 7 8 9]\n"
          ],
          "name": "stdout"
        }
      ]
    },
    {
      "cell_type": "code",
      "metadata": {
        "id": "-JNj0oOS84T4",
        "colab_type": "code",
        "colab": {
          "base_uri": "https://localhost:8080/",
          "height": 51
        },
        "outputId": "154821a8-7d51-46a8-8efc-6f9867b8217d"
      },
      "source": [
        "a_roll[0] = 100\n",
        "print(a_roll)\n",
        "print(a)\n",
        "# not view"
      ],
      "execution_count": 98,
      "outputs": [
        {
          "output_type": "stream",
          "text": [
            "[100   8   9   0   1   2   3   4   5   6]\n",
            "[0 1 2 3 4 5 6 7 8 9]\n"
          ],
          "name": "stdout"
        }
      ]
    },
    {
      "cell_type": "code",
      "metadata": {
        "id": "NEOts9Tl9od3",
        "colab_type": "code",
        "colab": {
          "base_uri": "https://localhost:8080/",
          "height": 51
        },
        "outputId": "cc7937d3-604b-4a61-b35f-61ed672971c9"
      },
      "source": [
        "print(np.roll(a, -3))\n",
        "print(np.roll(a, 12))"
      ],
      "execution_count": 99,
      "outputs": [
        {
          "output_type": "stream",
          "text": [
            "[3 4 5 6 7 8 9 0 1 2]\n",
            "[8 9 0 1 2 3 4 5 6 7]\n"
          ],
          "name": "stdout"
        }
      ]
    },
    {
      "cell_type": "code",
      "metadata": {
        "id": "RzXXx2lt9wa_",
        "colab_type": "code",
        "colab": {
          "base_uri": "https://localhost:8080/",
          "height": 170
        },
        "outputId": "1c55e23c-d327-4a40-d0f8-9b1642fb1494"
      },
      "source": [
        "a_2d = np.arange(12).reshape(3,4)\n",
        "print(a_2d) # flattened 1 dimension\n",
        "print(np.roll(a_2d, 2))\n",
        "print(np.roll(a_2d, 5))"
      ],
      "execution_count": 100,
      "outputs": [
        {
          "output_type": "stream",
          "text": [
            "[[ 0  1  2  3]\n",
            " [ 4  5  6  7]\n",
            " [ 8  9 10 11]]\n",
            "[[10 11  0  1]\n",
            " [ 2  3  4  5]\n",
            " [ 6  7  8  9]]\n",
            "[[ 7  8  9 10]\n",
            " [11  0  1  2]\n",
            " [ 3  4  5  6]]\n"
          ],
          "name": "stdout"
        }
      ]
    },
    {
      "cell_type": "markdown",
      "metadata": {
        "id": "GB8kkPOj98QF",
        "colab_type": "text"
      },
      "source": [
        "but designate axis, shift along that axis."
      ]
    },
    {
      "cell_type": "code",
      "metadata": {
        "id": "2Z8NZu1X951S",
        "colab_type": "code",
        "colab": {
          "base_uri": "https://localhost:8080/",
          "height": 119
        },
        "outputId": "90a79b60-f747-42cd-ae7b-6529d520e771"
      },
      "source": [
        "print(np.roll(a_2d, 1, axis = 0))\n",
        "print(np.roll(a_2d, 2, axis = 1))"
      ],
      "execution_count": 101,
      "outputs": [
        {
          "output_type": "stream",
          "text": [
            "[[ 8  9 10 11]\n",
            " [ 0  1  2  3]\n",
            " [ 4  5  6  7]]\n",
            "[[ 2  3  0  1]\n",
            " [ 6  7  4  5]\n",
            " [10 11  8  9]]\n"
          ],
          "name": "stdout"
        }
      ]
    },
    {
      "cell_type": "markdown",
      "metadata": {
        "id": "3H14E2D3-TG4",
        "colab_type": "text"
      },
      "source": [
        "by using tuple( ? , ?) ... shit along (?, ?)"
      ]
    },
    {
      "cell_type": "code",
      "metadata": {
        "id": "zgO84ZC--JH3",
        "colab_type": "code",
        "colab": {
          "base_uri": "https://localhost:8080/",
          "height": 68
        },
        "outputId": "9e6c0bc2-6e50-453e-f277-6cddc7ae3329"
      },
      "source": [
        "print(np.roll(a_2d, (1,2), axis = (0,1)))"
      ],
      "execution_count": 102,
      "outputs": [
        {
          "output_type": "stream",
          "text": [
            "[[10 11  8  9]\n",
            " [ 2  3  0  1]\n",
            " [ 6  7  4  5]]\n"
          ],
          "name": "stdout"
        }
      ]
    },
    {
      "cell_type": "code",
      "metadata": {
        "id": "4dkgdmdx-Z4h",
        "colab_type": "code",
        "colab": {
          "base_uri": "https://localhost:8080/",
          "height": 374
        },
        "outputId": "6c21fca1-7204-43c9-eecd-442fc055e2e3"
      },
      "source": [
        "a_3d = np.arange(24).reshape(2,3,4)\n",
        "print(a_3d)\n",
        "print(np.roll(a_3d, 3))\n",
        "print(np.roll(a_3d, 2, axis = 2))"
      ],
      "execution_count": 103,
      "outputs": [
        {
          "output_type": "stream",
          "text": [
            "[[[ 0  1  2  3]\n",
            "  [ 4  5  6  7]\n",
            "  [ 8  9 10 11]]\n",
            "\n",
            " [[12 13 14 15]\n",
            "  [16 17 18 19]\n",
            "  [20 21 22 23]]]\n",
            "[[[21 22 23  0]\n",
            "  [ 1  2  3  4]\n",
            "  [ 5  6  7  8]]\n",
            "\n",
            " [[ 9 10 11 12]\n",
            "  [13 14 15 16]\n",
            "  [17 18 19 20]]]\n",
            "[[[ 2  3  0  1]\n",
            "  [ 6  7  4  5]\n",
            "  [10 11  8  9]]\n",
            "\n",
            " [[14 15 12 13]\n",
            "  [18 19 16 17]\n",
            "  [22 23 20 21]]]\n"
          ],
          "name": "stdout"
        }
      ]
    },
    {
      "cell_type": "markdown",
      "metadata": {
        "id": "GKc4xp_V_AyX",
        "colab_type": "text"
      },
      "source": [
        "## image scrolling..."
      ]
    },
    {
      "cell_type": "code",
      "metadata": {
        "id": "HD33VnuS-jgH",
        "colab_type": "code",
        "colab": {}
      },
      "source": [
        "import numpy as np\n",
        "from PIL import Image\n",
        "img = np.array(Image.open('data/src/lena.jpg'))\n",
        "print(img.shape)\n",
        "img_scroll = np.roll(img, (50,100), axis = (0,1))\n",
        "Image.fromarray(img_scroll).save('data/dst/lena_numpy_roll.jpg')"
      ],
      "execution_count": null,
      "outputs": []
    },
    {
      "cell_type": "markdown",
      "metadata": {
        "id": "nQcCedM9_ZMr",
        "colab_type": "text"
      },
      "source": [
        "# Matrix Operations ( Inverse matrix, determinant, eigenvalue )\n"
      ]
    },
    {
      "cell_type": "code",
      "metadata": {
        "id": "wB2s8chg_pyI",
        "colab_type": "code",
        "colab": {
          "base_uri": "https://localhost:8080/",
          "height": 51
        },
        "outputId": "9a682b00-6dda-4cdd-d9fa-4dda5a779307"
      },
      "source": [
        "l_2d = [[0,1,2], [3,4,5]]\n",
        "print(l_2d)\n",
        "print(type(l_2d))"
      ],
      "execution_count": 104,
      "outputs": [
        {
          "output_type": "stream",
          "text": [
            "[[0, 1, 2], [3, 4, 5]]\n",
            "<class 'list'>\n"
          ],
          "name": "stdout"
        }
      ]
    },
    {
      "cell_type": "code",
      "metadata": {
        "id": "tVSQjzu__van",
        "colab_type": "code",
        "colab": {
          "base_uri": "https://localhost:8080/",
          "height": 51
        },
        "outputId": "9cc1df6b-176b-48fe-a13b-a0e080055702"
      },
      "source": [
        "arr = np.array([[0,1,2], [3,4,5]])\n",
        "print(arr)"
      ],
      "execution_count": 105,
      "outputs": [
        {
          "output_type": "stream",
          "text": [
            "[[0 1 2]\n",
            " [3 4 5]]\n"
          ],
          "name": "stdout"
        }
      ]
    },
    {
      "cell_type": "code",
      "metadata": {
        "id": "Uw-OfjAG_2HW",
        "colab_type": "code",
        "colab": {
          "base_uri": "https://localhost:8080/",
          "height": 34
        },
        "outputId": "b5c04d6c-cd6b-46df-cb81-428d22a52053"
      },
      "source": [
        "print(type(arr))"
      ],
      "execution_count": 106,
      "outputs": [
        {
          "output_type": "stream",
          "text": [
            "<class 'numpy.ndarray'>\n"
          ],
          "name": "stdout"
        }
      ]
    },
    {
      "cell_type": "code",
      "metadata": {
        "id": "FN0E1q0y_2_W",
        "colab_type": "code",
        "colab": {
          "base_uri": "https://localhost:8080/",
          "height": 34
        },
        "outputId": "45812c42-7760-434e-ed12-8381147e1010"
      },
      "source": [
        "arr = np.arange(6)\n",
        "print(arr)"
      ],
      "execution_count": 107,
      "outputs": [
        {
          "output_type": "stream",
          "text": [
            "[0 1 2 3 4 5]\n"
          ],
          "name": "stdout"
        }
      ]
    },
    {
      "cell_type": "code",
      "metadata": {
        "id": "eApUlqHc_55n",
        "colab_type": "code",
        "colab": {
          "base_uri": "https://localhost:8080/",
          "height": 51
        },
        "outputId": "e87a23c6-ee3d-4fdf-9c34-8e7771f247bf"
      },
      "source": [
        "arr = np.arange(6).reshape((2,3))\n",
        "print(arr)"
      ],
      "execution_count": 108,
      "outputs": [
        {
          "output_type": "stream",
          "text": [
            "[[0 1 2]\n",
            " [3 4 5]]\n"
          ],
          "name": "stdout"
        }
      ]
    },
    {
      "cell_type": "markdown",
      "metadata": {
        "id": "Bha44YkC_-VU",
        "colab_type": "text"
      },
      "source": [
        "## NumPy Matrix, numpy.matrix, numpy.matrix()"
      ]
    },
    {
      "cell_type": "code",
      "metadata": {
        "id": "BDwVwG0x_8lW",
        "colab_type": "code",
        "colab": {
          "base_uri": "https://localhost:8080/",
          "height": 51
        },
        "outputId": "8f75b18f-72b8-4a9e-b9ae-0098861e8c63"
      },
      "source": [
        "mat = np.matrix([[0,1,2], [3,4,5]])\n",
        "print(mat)"
      ],
      "execution_count": 109,
      "outputs": [
        {
          "output_type": "stream",
          "text": [
            "[[0 1 2]\n",
            " [3 4 5]]\n"
          ],
          "name": "stdout"
        }
      ]
    },
    {
      "cell_type": "code",
      "metadata": {
        "id": "enGnoN_GAGB3",
        "colab_type": "code",
        "colab": {
          "base_uri": "https://localhost:8080/",
          "height": 85
        },
        "outputId": "c4412c67-c638-47d6-988d-1d660a699b4e"
      },
      "source": [
        "print(type(mat))\n",
        "mat = np.matrix(arr)\n",
        "print(mat)\n",
        "print(type(mat))"
      ],
      "execution_count": 110,
      "outputs": [
        {
          "output_type": "stream",
          "text": [
            "<class 'numpy.matrix'>\n",
            "[[0 1 2]\n",
            " [3 4 5]]\n",
            "<class 'numpy.matrix'>\n"
          ],
          "name": "stdout"
        }
      ]
    },
    {
      "cell_type": "markdown",
      "metadata": {
        "id": "gBPQusviAPck",
        "colab_type": "text"
      },
      "source": [
        "## numpy.matrix is special for '2 dimension'"
      ]
    },
    {
      "cell_type": "code",
      "metadata": {
        "id": "tXSRHQwpAJbH",
        "colab_type": "code",
        "colab": {
          "base_uri": "https://localhost:8080/",
          "height": 68
        },
        "outputId": "4acda3be-1138-4e61-da7d-7f880156dc36"
      },
      "source": [
        "mat_1d = np.matrix([0,1,2])\n",
        "print(mat_1d)\n",
        "print(type(mat_1d))\n",
        "print(mat_1d.shape)"
      ],
      "execution_count": 111,
      "outputs": [
        {
          "output_type": "stream",
          "text": [
            "[[0 1 2]]\n",
            "<class 'numpy.matrix'>\n",
            "(1, 3)\n"
          ],
          "name": "stdout"
        }
      ]
    },
    {
      "cell_type": "markdown",
      "metadata": {
        "id": "34fgUo8FAeOU",
        "colab_type": "text"
      },
      "source": [
        "### difference both list and ndarray"
      ]
    },
    {
      "cell_type": "code",
      "metadata": {
        "id": "FJmg-1ZCAX-W",
        "colab_type": "code",
        "colab": {
          "base_uri": "https://localhost:8080/",
          "height": 68
        },
        "outputId": "aa584d0e-5745-4dad-9985-fa984b2904d4"
      },
      "source": [
        "print(l_2d)\n",
        "print(l_2d[0][1])\n",
        "l_2d[0][1] = 100\n",
        "print(l_2d)"
      ],
      "execution_count": 112,
      "outputs": [
        {
          "output_type": "stream",
          "text": [
            "[[0, 1, 2], [3, 4, 5]]\n",
            "1\n",
            "[[0, 100, 2], [3, 4, 5]]\n"
          ],
          "name": "stdout"
        }
      ]
    },
    {
      "cell_type": "code",
      "metadata": {
        "id": "4eCh29B9Amug",
        "colab_type": "code",
        "colab": {
          "base_uri": "https://localhost:8080/",
          "height": 102
        },
        "outputId": "db6ec050-e402-4351-fe78-7d38d7aad737"
      },
      "source": [
        "print(arr)\n",
        "print(arr[0,1])\n",
        "arr[0,1] = 100\n",
        "print(arr)"
      ],
      "execution_count": 113,
      "outputs": [
        {
          "output_type": "stream",
          "text": [
            "[[0 1 2]\n",
            " [3 4 5]]\n",
            "1\n",
            "[[  0 100   2]\n",
            " [  3   4   5]]\n"
          ],
          "name": "stdout"
        }
      ]
    },
    {
      "cell_type": "markdown",
      "metadata": {
        "id": "PQUVqiTvAwam",
        "colab_type": "text"
      },
      "source": [
        "## Transposition .. .T difference both list and ndarray"
      ]
    },
    {
      "cell_type": "code",
      "metadata": {
        "id": "QO0JPuhLArAY",
        "colab_type": "code",
        "colab": {
          "base_uri": "https://localhost:8080/",
          "height": 51
        },
        "outputId": "d28e2bf8-c763-4db2-9a9e-5a7965104ec0"
      },
      "source": [
        "l_2d = [[0,1,2], [3,4,5]]\n",
        "print(l_2d)\n",
        "print([list(x) for x in list(zip(*l_2d))])\n"
      ],
      "execution_count": 114,
      "outputs": [
        {
          "output_type": "stream",
          "text": [
            "[[0, 1, 2], [3, 4, 5]]\n",
            "[[0, 3], [1, 4], [2, 5]]\n"
          ],
          "name": "stdout"
        }
      ]
    },
    {
      "cell_type": "code",
      "metadata": {
        "id": "p28qltEPBAre",
        "colab_type": "code",
        "colab": {
          "base_uri": "https://localhost:8080/",
          "height": 102
        },
        "outputId": "2810bd9d-8f87-4391-f9ff-0e6888315c02"
      },
      "source": [
        "arr = np.arange(6).reshape((2,3))\n",
        "print(arr)\n",
        "print(arr.T)"
      ],
      "execution_count": 115,
      "outputs": [
        {
          "output_type": "stream",
          "text": [
            "[[0 1 2]\n",
            " [3 4 5]]\n",
            "[[0 3]\n",
            " [1 4]\n",
            " [2 5]]\n"
          ],
          "name": "stdout"
        }
      ]
    },
    {
      "cell_type": "markdown",
      "metadata": {
        "id": "v84CgD_KBp_V",
        "colab_type": "text"
      },
      "source": [
        "## + and - , if it is list, error. + is list connection, not plus."
      ]
    },
    {
      "cell_type": "code",
      "metadata": {
        "id": "xvkbAsJEBkdK",
        "colab_type": "code",
        "colab": {
          "base_uri": "https://localhost:8080/",
          "height": 34
        },
        "outputId": "c99de7c6-44e7-4e60-d90a-dc287e300031"
      },
      "source": [
        "l_2d_1 = [[0,1,2], [3,4,5]]\n",
        "l_2d_2 = [[0,2,4], [6,8,10]]\n",
        "print(l_2d_1 + l_2d_2)"
      ],
      "execution_count": 116,
      "outputs": [
        {
          "output_type": "stream",
          "text": [
            "[[0, 1, 2], [3, 4, 5], [0, 2, 4], [6, 8, 10]]\n"
          ],
          "name": "stdout"
        }
      ]
    },
    {
      "cell_type": "code",
      "metadata": {
        "id": "GuaEQ129B6CW",
        "colab_type": "code",
        "colab": {
          "base_uri": "https://localhost:8080/",
          "height": 119
        },
        "outputId": "d85e3972-f2f4-45df-c8d6-6f07f1b4f0f4"
      },
      "source": [
        "arr1 = np.arange(6).reshape((2,3))\n",
        "arr2 = np.arange(0,12,2).reshape((2,3))\n",
        "print(arr2)\n",
        "print(arr1 + arr2)\n",
        "print(arr1 - arr2)"
      ],
      "execution_count": 119,
      "outputs": [
        {
          "output_type": "stream",
          "text": [
            "[[ 0  2  4]\n",
            " [ 6  8 10]]\n",
            "[[ 0  3  6]\n",
            " [ 9 12 15]]\n",
            "[[ 0 -1 -2]\n",
            " [-3 -4 -5]]\n"
          ],
          "name": "stdout"
        }
      ]
    },
    {
      "cell_type": "code",
      "metadata": {
        "id": "1yAA2dCyDWwS",
        "colab_type": "code",
        "colab": {
          "base_uri": "https://localhost:8080/",
          "height": 85
        },
        "outputId": "bd859ab8-4b70-456e-85da-9335b1f3645a"
      },
      "source": [
        "mat1 = np.matrix(arr1)\n",
        "mat2 = np.matrix(arr2)\n",
        "print(mat1 + mat2)\n",
        "print(mat1 - mat2)"
      ],
      "execution_count": 120,
      "outputs": [
        {
          "output_type": "stream",
          "text": [
            "[[ 0  3  6]\n",
            " [ 9 12 15]]\n",
            "[[ 0 -1 -2]\n",
            " [-3 -4 -5]]\n"
          ],
          "name": "stdout"
        }
      ]
    },
    {
      "cell_type": "markdown",
      "metadata": {
        "id": "gFktnkusDKo3",
        "colab_type": "text"
      },
      "source": [
        "## scolar double list vs ndarray"
      ]
    },
    {
      "cell_type": "code",
      "metadata": {
        "id": "pXDZUnarCJt3",
        "colab_type": "code",
        "colab": {
          "base_uri": "https://localhost:8080/",
          "height": 102
        },
        "outputId": "eb048471-c36b-4e8b-d29d-c1c03e55b567"
      },
      "source": [
        "print(l_2d_1 * 2)\n",
        "print(arr1 * 2)\n",
        "print(mat1 * 2)"
      ],
      "execution_count": 121,
      "outputs": [
        {
          "output_type": "stream",
          "text": [
            "[[0, 1, 2], [3, 4, 5], [0, 1, 2], [3, 4, 5]]\n",
            "[[ 0  2  4]\n",
            " [ 6  8 10]]\n",
            "[[ 0  2  4]\n",
            " [ 6  8 10]]\n"
          ],
          "name": "stdout"
        }
      ]
    },
    {
      "cell_type": "code",
      "metadata": {
        "id": "b1YZgGQEDTJN",
        "colab_type": "code",
        "colab": {
          "base_uri": "https://localhost:8080/",
          "height": 119
        },
        "outputId": "95ce4417-5dce-4064-d625-35332b167285"
      },
      "source": [
        "print(np.multiply(arr1, arr2))\n",
        "print(np.multiply(mat1, mat2))\n",
        "print(arr1 * arr2)"
      ],
      "execution_count": 122,
      "outputs": [
        {
          "output_type": "stream",
          "text": [
            "[[ 0  2  8]\n",
            " [18 32 50]]\n",
            "[[ 0  2  8]\n",
            " [18 32 50]]\n",
            "[[ 0  2  8]\n",
            " [18 32 50]]\n"
          ],
          "name": "stdout"
        }
      ]
    },
    {
      "cell_type": "markdown",
      "metadata": {
        "id": "Fe0_fD20D0fC",
        "colab_type": "text"
      },
      "source": [
        "## processional product numpy.dot(), numpy.matmul(). @"
      ]
    },
    {
      "cell_type": "code",
      "metadata": {
        "id": "6K-6AzajDqrl",
        "colab_type": "code",
        "colab": {
          "base_uri": "https://localhost:8080/",
          "height": 187
        },
        "outputId": "1cd145ba-3b28-4d57-b7b1-e7ba280bfe43"
      },
      "source": [
        "arr1 = np.arange(4).reshape((2,2))\n",
        "print(arr1)\n",
        "arr2 = np.arange(6).reshape((2,3))\n",
        "print(np.dot(arr1, arr2))\n",
        "print(arr1.dot(arr2))\n",
        "print(np.matmul(arr1,arr2))\n",
        "print(arr1 @ arr2)"
      ],
      "execution_count": 123,
      "outputs": [
        {
          "output_type": "stream",
          "text": [
            "[[0 1]\n",
            " [2 3]]\n",
            "[[ 3  4  5]\n",
            " [ 9 14 19]]\n",
            "[[ 3  4  5]\n",
            " [ 9 14 19]]\n",
            "[[ 3  4  5]\n",
            " [ 9 14 19]]\n",
            "[[ 3  4  5]\n",
            " [ 9 14 19]]\n"
          ],
          "name": "stdout"
        }
      ]
    },
    {
      "cell_type": "markdown",
      "metadata": {
        "id": "5SJY_ykHEHGI",
        "colab_type": "text"
      },
      "source": [
        "## in numpy.matrix, can use * !"
      ]
    },
    {
      "cell_type": "code",
      "metadata": {
        "id": "-UopalKHEFp1",
        "colab_type": "code",
        "colab": {
          "base_uri": "https://localhost:8080/",
          "height": 187
        },
        "outputId": "6e4c9a05-6d8a-404d-fa44-cf09bdf970e4"
      },
      "source": [
        "mat1 = np.matrix(arr1)\n",
        "mat2 = np.matrix(arr2)\n",
        "print(np.dot(mat1, mat2))\n",
        "print(mat1.dot(mat2))\n",
        "print(np.matmul(mat1, mat2))\n",
        "print(mat1 @ mat2 )\n",
        "print(mat1 * mat2)"
      ],
      "execution_count": 124,
      "outputs": [
        {
          "output_type": "stream",
          "text": [
            "[[ 3  4  5]\n",
            " [ 9 14 19]]\n",
            "[[ 3  4  5]\n",
            " [ 9 14 19]]\n",
            "[[ 3  4  5]\n",
            " [ 9 14 19]]\n",
            "[[ 3  4  5]\n",
            " [ 9 14 19]]\n",
            "[[ 3  4  5]\n",
            " [ 9 14 19]]\n"
          ],
          "name": "stdout"
        }
      ]
    },
    {
      "cell_type": "markdown",
      "metadata": {
        "id": "TQYgymQyEWbi",
        "colab_type": "text"
      },
      "source": [
        "## A power ride ** "
      ]
    },
    {
      "cell_type": "code",
      "metadata": {
        "id": "tDKzi5FVEUB-",
        "colab_type": "code",
        "colab": {
          "base_uri": "https://localhost:8080/",
          "height": 51
        },
        "outputId": "6b94f480-3cd1-439e-8c99-a19f22ff1ae3"
      },
      "source": [
        "arr = np.arange(1,5).reshape(2,2)\n",
        "print(arr)"
      ],
      "execution_count": 125,
      "outputs": [
        {
          "output_type": "stream",
          "text": [
            "[[1 2]\n",
            " [3 4]]\n"
          ],
          "name": "stdout"
        }
      ]
    },
    {
      "cell_type": "code",
      "metadata": {
        "id": "FFWtTysSEdjW",
        "colab_type": "code",
        "colab": {
          "base_uri": "https://localhost:8080/",
          "height": 51
        },
        "outputId": "82df557b-b9f5-4862-fc8a-406b4a384216"
      },
      "source": [
        "print(arr**2)"
      ],
      "execution_count": 127,
      "outputs": [
        {
          "output_type": "stream",
          "text": [
            "[[ 1  4]\n",
            " [ 9 16]]\n"
          ],
          "name": "stdout"
        }
      ]
    },
    {
      "cell_type": "code",
      "metadata": {
        "id": "B0e7FoSwEecF",
        "colab_type": "code",
        "colab": {
          "base_uri": "https://localhost:8080/",
          "height": 153
        },
        "outputId": "c1492991-1098-4885-ea25-03844555d000"
      },
      "source": [
        "mat = np.matrix(arr)\n",
        "print(mat)\n",
        "print(mat**2)\n",
        "print(mat**2 == mat * mat)\n",
        "print(mat**3 == mat * mat * mat)"
      ],
      "execution_count": 128,
      "outputs": [
        {
          "output_type": "stream",
          "text": [
            "[[1 2]\n",
            " [3 4]]\n",
            "[[ 7 10]\n",
            " [15 22]]\n",
            "[[ True  True]\n",
            " [ True  True]]\n",
            "[[ True  True]\n",
            " [ True  True]]\n"
          ],
          "name": "stdout"
        }
      ]
    },
    {
      "cell_type": "code",
      "metadata": {
        "id": "IkG2m76BElaa",
        "colab_type": "code",
        "colab": {
          "base_uri": "https://localhost:8080/",
          "height": 51
        },
        "outputId": "81a7feb5-ea8f-465c-a4d6-cfee8226c51c"
      },
      "source": [
        "arr_f = np.array(arr, dtype = float)\n",
        "print(arr_f **-1)"
      ],
      "execution_count": 129,
      "outputs": [
        {
          "output_type": "stream",
          "text": [
            "[[1.         0.5       ]\n",
            " [0.33333333 0.25      ]]\n"
          ],
          "name": "stdout"
        }
      ]
    },
    {
      "cell_type": "markdown",
      "metadata": {
        "id": "nL8MQ8YWEuVD",
        "colab_type": "text"
      },
      "source": [
        "### Inverse matrix **-1 to numpy.matrix"
      ]
    },
    {
      "cell_type": "code",
      "metadata": {
        "id": "5R20y8kVEqB8",
        "colab_type": "code",
        "colab": {
          "base_uri": "https://localhost:8080/",
          "height": 85
        },
        "outputId": "c8e61dbd-6791-4906-c189-c272738aef39"
      },
      "source": [
        "print(mat**-1)\n",
        "print(mat**-2)\n"
      ],
      "execution_count": 130,
      "outputs": [
        {
          "output_type": "stream",
          "text": [
            "[[-2.   1. ]\n",
            " [ 1.5 -0.5]]\n",
            "[[ 5.5  -2.5 ]\n",
            " [-3.75  1.75]]\n"
          ],
          "name": "stdout"
        }
      ]
    },
    {
      "cell_type": "markdown",
      "metadata": {
        "id": "9gTtj8tpFT3H",
        "colab_type": "text"
      },
      "source": [
        "## inner product of the vectors\n",
        "numpy.inner()"
      ]
    },
    {
      "cell_type": "code",
      "metadata": {
        "id": "24MHfjq2FR62",
        "colab_type": "code",
        "colab": {
          "base_uri": "https://localhost:8080/",
          "height": 85
        },
        "outputId": "1e2b6512-c11b-46cc-f776-5ae359a6eade"
      },
      "source": [
        "v = np.array([0,1,2])\n",
        "print(v)\n",
        "print(v.shape)\n",
        "print(np.inner(v,v))\n",
        "print(type(np.inner(v,v)))"
      ],
      "execution_count": 131,
      "outputs": [
        {
          "output_type": "stream",
          "text": [
            "[0 1 2]\n",
            "(3,)\n",
            "5\n",
            "<class 'numpy.int64'>\n"
          ],
          "name": "stdout"
        }
      ]
    },
    {
      "cell_type": "code",
      "metadata": {
        "id": "qDp7GQcgFe_d",
        "colab_type": "code",
        "colab": {
          "base_uri": "https://localhost:8080/",
          "height": 68
        },
        "outputId": "10e10c50-daa4-46b7-fdb0-8c42d2e67b1b"
      },
      "source": [
        "print(np.dot(v,v))\n",
        "print(np.matmul(v,v))\n",
        "print(v @ v)"
      ],
      "execution_count": 132,
      "outputs": [
        {
          "output_type": "stream",
          "text": [
            "5\n",
            "5\n",
            "5\n"
          ],
          "name": "stdout"
        }
      ]
    },
    {
      "cell_type": "code",
      "metadata": {
        "id": "wLaIrgygFpik",
        "colab_type": "code",
        "colab": {
          "base_uri": "https://localhost:8080/",
          "height": 119
        },
        "outputId": "959ff7ad-1e1f-4872-b178-45df25afe497"
      },
      "source": [
        "arr_row = np.arange(3).reshape(1,3)\n",
        "print(arr_row)\n",
        "print(arr_row.shape)\n",
        "arr_col = np.arange(3).reshape(3,1)\n",
        "print(arr_col)\n",
        "print(arr_col.shape)"
      ],
      "execution_count": 133,
      "outputs": [
        {
          "output_type": "stream",
          "text": [
            "[[0 1 2]]\n",
            "(1, 3)\n",
            "[[0]\n",
            " [1]\n",
            " [2]]\n",
            "(3, 1)\n"
          ],
          "name": "stdout"
        }
      ]
    },
    {
      "cell_type": "code",
      "metadata": {
        "id": "uYra3bS5FxW2",
        "colab_type": "code",
        "colab": {
          "base_uri": "https://localhost:8080/",
          "height": 68
        },
        "outputId": "dc98a849-a021-48ee-9a88-13e87b4b314b"
      },
      "source": [
        "arr = np.arange(9).reshape(3,3)\n",
        "print(arr)"
      ],
      "execution_count": 134,
      "outputs": [
        {
          "output_type": "stream",
          "text": [
            "[[0 1 2]\n",
            " [3 4 5]\n",
            " [6 7 8]]\n"
          ],
          "name": "stdout"
        }
      ]
    },
    {
      "cell_type": "code",
      "metadata": {
        "id": "Ezh84oY4F1IE",
        "colab_type": "code",
        "colab": {
          "base_uri": "https://localhost:8080/",
          "height": 34
        },
        "outputId": "4d20b963-4930-4a29-8ab6-9be1bf07635a"
      },
      "source": [
        "print(v)"
      ],
      "execution_count": 135,
      "outputs": [
        {
          "output_type": "stream",
          "text": [
            "[0 1 2]\n"
          ],
          "name": "stdout"
        }
      ]
    },
    {
      "cell_type": "code",
      "metadata": {
        "id": "zfKVp4fCF1ud",
        "colab_type": "code",
        "colab": {
          "base_uri": "https://localhost:8080/",
          "height": 34
        },
        "outputId": "6d75b54f-50cf-46b2-dbd9-27a93441452a"
      },
      "source": [
        "print(v @ arr)"
      ],
      "execution_count": 136,
      "outputs": [
        {
          "output_type": "stream",
          "text": [
            "[15 18 21]\n"
          ],
          "name": "stdout"
        }
      ]
    },
    {
      "cell_type": "code",
      "metadata": {
        "id": "p4qHepz3F253",
        "colab_type": "code",
        "colab": {
          "base_uri": "https://localhost:8080/",
          "height": 34
        },
        "outputId": "b75f3184-8c24-4d8d-f370-c07d97883930"
      },
      "source": [
        "print(arr_row)"
      ],
      "execution_count": 137,
      "outputs": [
        {
          "output_type": "stream",
          "text": [
            "[[0 1 2]]\n"
          ],
          "name": "stdout"
        }
      ]
    },
    {
      "cell_type": "code",
      "metadata": {
        "id": "RKT4mTGRF4Ut",
        "colab_type": "code",
        "colab": {
          "base_uri": "https://localhost:8080/",
          "height": 34
        },
        "outputId": "4c5285c9-8f3e-49e0-a01a-9fabd8712a09"
      },
      "source": [
        "print(arr_row @ arr)"
      ],
      "execution_count": 138,
      "outputs": [
        {
          "output_type": "stream",
          "text": [
            "[[15 18 21]]\n"
          ],
          "name": "stdout"
        }
      ]
    },
    {
      "cell_type": "code",
      "metadata": {
        "id": "BPsqDec4F5eM",
        "colab_type": "code",
        "colab": {
          "base_uri": "https://localhost:8080/",
          "height": 34
        },
        "outputId": "b9b18b52-6e19-4c83-f2fe-90fa2773ac14"
      },
      "source": [
        "print(arr @ v) # v -> transformed (3,1) automation"
      ],
      "execution_count": 140,
      "outputs": [
        {
          "output_type": "stream",
          "text": [
            "[ 5 14 23]\n"
          ],
          "name": "stdout"
        }
      ]
    },
    {
      "cell_type": "code",
      "metadata": {
        "id": "RZWZO_ZlF-ed",
        "colab_type": "code",
        "colab": {
          "base_uri": "https://localhost:8080/",
          "height": 68
        },
        "outputId": "79251432-d343-4ded-ca96-1d2d5b1e9f4f"
      },
      "source": [
        "print(arr @ arr_col)"
      ],
      "execution_count": 141,
      "outputs": [
        {
          "output_type": "stream",
          "text": [
            "[[ 5]\n",
            " [14]\n",
            " [23]]\n"
          ],
          "name": "stdout"
        }
      ]
    },
    {
      "cell_type": "markdown",
      "metadata": {
        "id": "elTQUjrAGI2w",
        "colab_type": "text"
      },
      "source": [
        "### Inverse Matrix, numpy.linalg.inv(), **-1, .l attribute"
      ]
    },
    {
      "cell_type": "code",
      "metadata": {
        "id": "ZYltfa6jGGiT",
        "colab_type": "code",
        "colab": {
          "base_uri": "https://localhost:8080/",
          "height": 85
        },
        "outputId": "4ad43d8b-14d5-4d0f-894a-a761accfaaeb"
      },
      "source": [
        "arr = np.array([[2,5], [1,3]])\n",
        "arr_inv = np.linalg.inv(arr)\n",
        "print(arr_inv)\n",
        "mat = np.matrix([[2,5], [1,3]])\n",
        "mat_inv = np.linalg.inv(mat)\n",
        "print(mat_inv)"
      ],
      "execution_count": 142,
      "outputs": [
        {
          "output_type": "stream",
          "text": [
            "[[ 3. -5.]\n",
            " [-1.  2.]]\n",
            "[[ 3. -5.]\n",
            " [-1.  2.]]\n"
          ],
          "name": "stdout"
        }
      ]
    },
    {
      "cell_type": "code",
      "metadata": {
        "id": "Xd58muxqGcmB",
        "colab_type": "code",
        "colab": {
          "base_uri": "https://localhost:8080/",
          "height": 51
        },
        "outputId": "c39a381d-b28e-4f76-f268-835a673e4bbe"
      },
      "source": [
        "mat_inv = mat**-1\n",
        "print(mat_inv)"
      ],
      "execution_count": 143,
      "outputs": [
        {
          "output_type": "stream",
          "text": [
            "[[ 3. -5.]\n",
            " [-1.  2.]]\n"
          ],
          "name": "stdout"
        }
      ]
    },
    {
      "cell_type": "code",
      "metadata": {
        "id": "zMRacwD8GhK7",
        "colab_type": "code",
        "colab": {
          "base_uri": "https://localhost:8080/",
          "height": 51
        },
        "outputId": "e8a841a3-25c6-4602-d7fe-e7dea23f988a"
      },
      "source": [
        "mat_inv = mat.I\n",
        "print(mat_inv)"
      ],
      "execution_count": 144,
      "outputs": [
        {
          "output_type": "stream",
          "text": [
            "[[ 3. -5.]\n",
            " [-1.  2.]]\n"
          ],
          "name": "stdout"
        }
      ]
    },
    {
      "cell_type": "markdown",
      "metadata": {
        "id": "eW8K6L90GnRe",
        "colab_type": "text"
      },
      "source": [
        "### Original Matrix * Inverse Matrix = Unit Matrix"
      ]
    },
    {
      "cell_type": "code",
      "metadata": {
        "id": "Dg1ka51pGju0",
        "colab_type": "code",
        "colab": {
          "base_uri": "https://localhost:8080/",
          "height": 51
        },
        "outputId": "808883db-dda1-41ee-e510-0bc3ecb3b1f4"
      },
      "source": [
        "result = mat * mat.I\n",
        "print(result)"
      ],
      "execution_count": 145,
      "outputs": [
        {
          "output_type": "stream",
          "text": [
            "[[1. 0.]\n",
            " [0. 1.]]\n"
          ],
          "name": "stdout"
        }
      ]
    },
    {
      "cell_type": "markdown",
      "metadata": {
        "id": "_hSzvn6ZGvi8",
        "colab_type": "text"
      },
      "source": [
        "### .I has numpy.matrix only"
      ]
    },
    {
      "cell_type": "markdown",
      "metadata": {
        "id": "8k2uvByzG5tm",
        "colab_type": "text"
      },
      "source": [
        "## 擬似逆行列: numpy.linalg.pinv() なんだこれ?\n",
        "### 逆行列が存在しない（特異行列である）場合"
      ]
    },
    {
      "cell_type": "code",
      "metadata": {
        "id": "GL8PrTn_Gtyk",
        "colab_type": "code",
        "colab": {
          "base_uri": "https://localhost:8080/",
          "height": 51
        },
        "outputId": "a52a2539-5d10-4a1f-a13c-544037d12d9e"
      },
      "source": [
        "arr_s = np.array([[0,0], [1,3]])\n",
        "print(arr_s)"
      ],
      "execution_count": 147,
      "outputs": [
        {
          "output_type": "stream",
          "text": [
            "[[0 0]\n",
            " [1 3]]\n"
          ],
          "name": "stdout"
        }
      ]
    },
    {
      "cell_type": "markdown",
      "metadata": {
        "id": "tbLZKw7PHHAo",
        "colab_type": "text"
      },
      "source": [
        "if you use np.linalg.inv(arr_s), occur error."
      ]
    },
    {
      "cell_type": "code",
      "metadata": {
        "id": "3NZVuVl5HFCM",
        "colab_type": "code",
        "colab": {
          "base_uri": "https://localhost:8080/",
          "height": 51
        },
        "outputId": "97caa988-47aa-4872-9b39-c39cbb5fc0f8"
      },
      "source": [
        "arr_pinv = np.linalg.pinv(arr_s)\n",
        "print(arr_pinv)"
      ],
      "execution_count": 148,
      "outputs": [
        {
          "output_type": "stream",
          "text": [
            "[[0.  0.1]\n",
            " [0.  0.3]]\n"
          ],
          "name": "stdout"
        }
      ]
    },
    {
      "cell_type": "code",
      "metadata": {
        "id": "PF0CdBYrHOSO",
        "colab_type": "code",
        "colab": {
          "base_uri": "https://localhost:8080/",
          "height": 85
        },
        "outputId": "8e46f421-d933-43ff-9ff8-4f49772dc551"
      },
      "source": [
        "print(arr_s @ arr_inv)\n",
        "print(np.linalg.pinv(arr_pinv))"
      ],
      "execution_count": 149,
      "outputs": [
        {
          "output_type": "stream",
          "text": [
            "[[0. 0.]\n",
            " [0. 1.]]\n",
            "[[0. 0.]\n",
            " [1. 3.]]\n"
          ],
          "name": "stdout"
        }
      ]
    },
    {
      "cell_type": "code",
      "metadata": {
        "id": "UXiNGBG3HXlU",
        "colab_type": "code",
        "colab": {
          "base_uri": "https://localhost:8080/",
          "height": 51
        },
        "outputId": "fffbc1ca-0c4b-47c5-fa6a-4d22301556fb"
      },
      "source": [
        "mat_s = np.mat([[0,0],[1,3]])\n",
        "print(np.linalg.pinv(mat_s))"
      ],
      "execution_count": 151,
      "outputs": [
        {
          "output_type": "stream",
          "text": [
            "[[0.  0.1]\n",
            " [0.  0.3]]\n"
          ],
          "name": "stdout"
        }
      ]
    },
    {
      "cell_type": "markdown",
      "metadata": {
        "id": "wTBc2rs2Hj5Q",
        "colab_type": "text"
      },
      "source": [
        "## Calculate the matrix formula ... numpy.linalg.det()"
      ]
    },
    {
      "cell_type": "code",
      "metadata": {
        "id": "fGE8GqxkHg98",
        "colab_type": "code",
        "colab": {
          "base_uri": "https://localhost:8080/",
          "height": 34
        },
        "outputId": "86147a28-2516-4478-f250-f848e042f4aa"
      },
      "source": [
        "arr = np.array([[0,1],[2,3]])\n",
        "det = np.linalg.det(arr)\n",
        "print(det)"
      ],
      "execution_count": 152,
      "outputs": [
        {
          "output_type": "stream",
          "text": [
            "-2.0\n"
          ],
          "name": "stdout"
        }
      ]
    },
    {
      "cell_type": "markdown",
      "metadata": {
        "id": "MdpeYe2-H0kh",
        "colab_type": "text"
      },
      "source": [
        "## Eigenvalues and eigenvectors... numpy.linalg.eig()"
      ]
    },
    {
      "cell_type": "code",
      "metadata": {
        "id": "hURrS5O6HxvP",
        "colab_type": "code",
        "colab": {
          "base_uri": "https://localhost:8080/",
          "height": 34
        },
        "outputId": "cc264c7d-17ab-4b69-a3ef-138915e30b40"
      },
      "source": [
        "arr = np.array([[8,1], [4,5]])\n",
        "w,v = np.linalg.eig(arr)\n",
        "print(w)"
      ],
      "execution_count": 154,
      "outputs": [
        {
          "output_type": "stream",
          "text": [
            "[9. 4.]\n"
          ],
          "name": "stdout"
        }
      ]
    },
    {
      "cell_type": "code",
      "metadata": {
        "id": "355TVCDLIFsL",
        "colab_type": "code",
        "colab": {
          "base_uri": "https://localhost:8080/",
          "height": 51
        },
        "outputId": "bfd9b5fb-8c10-49f5-d408-8e906b99a01b"
      },
      "source": [
        "print(v)"
      ],
      "execution_count": 155,
      "outputs": [
        {
          "output_type": "stream",
          "text": [
            "[[ 0.70710678 -0.24253563]\n",
            " [ 0.70710678  0.9701425 ]]\n"
          ],
          "name": "stdout"
        }
      ]
    },
    {
      "cell_type": "code",
      "metadata": {
        "id": "zq7C5aogIHtj",
        "colab_type": "code",
        "colab": {
          "base_uri": "https://localhost:8080/",
          "height": 51
        },
        "outputId": "c1943603-d228-4ed0-8623-48d16b6a4110"
      },
      "source": [
        "print('value: ', w[0])\n",
        "print('vector: ', v[:, 0] / v[0,0])"
      ],
      "execution_count": 156,
      "outputs": [
        {
          "output_type": "stream",
          "text": [
            "value:  9.0\n",
            "vector:  [1. 1.]\n"
          ],
          "name": "stdout"
        }
      ]
    },
    {
      "cell_type": "code",
      "metadata": {
        "id": "dyqFdjM2IOZc",
        "colab_type": "code",
        "colab": {
          "base_uri": "https://localhost:8080/",
          "height": 51
        },
        "outputId": "25de20f8-2b18-49f9-d823-62703e55436c"
      },
      "source": [
        "print(w[np.argmax(w)])\n",
        "print(v[:, np.argmax(w)])"
      ],
      "execution_count": 158,
      "outputs": [
        {
          "output_type": "stream",
          "text": [
            "9.0\n",
            "[0.70710678 0.70710678]\n"
          ],
          "name": "stdout"
        }
      ]
    },
    {
      "cell_type": "code",
      "metadata": {
        "id": "V4ZBx8r1ISWj",
        "colab_type": "code",
        "colab": {
          "base_uri": "https://localhost:8080/",
          "height": 51
        },
        "outputId": "25e63e93-4c39-4944-b7b9-dac18351313f"
      },
      "source": [
        "def get_eigenpairs(arr):\n",
        "    w, v = np.linalg.eig(arr)\n",
        "    eigenpairs = []\n",
        "\n",
        "    for i, val in enumerate(w):\n",
        "        vec = v[:, i] / np.min(np.abs(v[:, i][v[:, i] != 0]))\n",
        "        eigenpairs.append((val, vec))\n",
        "\n",
        "    return eigenpairs\n",
        "\n",
        "eigenpairs = get_eigenpairs(arr)\n",
        "\n",
        "for val, vec in eigenpairs:\n",
        "    print('value: {}, vector: {}'.format(val, vec))\n",
        "# value: 9.0, vector: [1. 1.]\n",
        "# value: 4.0, vector: [-1.  4.]"
      ],
      "execution_count": 159,
      "outputs": [
        {
          "output_type": "stream",
          "text": [
            "value: 9.0, vector: [1. 1.]\n",
            "value: 4.0, vector: [-1.  4.]\n"
          ],
          "name": "stdout"
        }
      ]
    },
    {
      "cell_type": "code",
      "metadata": {
        "id": "MkWpX0mfI4lV",
        "colab_type": "code",
        "colab": {
          "base_uri": "https://localhost:8080/",
          "height": 68
        },
        "outputId": "a94e6e3c-b772-4f3c-d74f-2807bd6826eb"
      },
      "source": [
        "arr = np.array([[1, 1, 2], [0, 2, -1], [0, 0, 3]])\n",
        "\n",
        "eigenpairs = get_eigenpairs(arr)\n",
        "\n",
        "for val, vec in eigenpairs:\n",
        "    print('value: {}, vector: {}'.format(val, vec))\n",
        "# value: 1.0, vector: [1. 0. 0.]\n",
        "# value: 2.0, vector: [1. 1. 0.]\n",
        "# value: 3.0, vector: [ 1. -2.  2.]"
      ],
      "execution_count": 160,
      "outputs": [
        {
          "output_type": "stream",
          "text": [
            "value: 1.0, vector: [1. 0. 0.]\n",
            "value: 2.0, vector: [1. 1. 0.]\n",
            "value: 3.0, vector: [ 1. -2.  2.]\n"
          ],
          "name": "stdout"
        }
      ]
    },
    {
      "cell_type": "code",
      "metadata": {
        "id": "mHDVQ6q6I55V",
        "colab_type": "code",
        "colab": {
          "base_uri": "https://localhost:8080/",
          "height": 51
        },
        "outputId": "c37d72d9-22e7-4c47-e293-f5e6398a69cc"
      },
      "source": [
        "arr = np.array([[3, 2], [-2, 3]])\n",
        "\n",
        "eigenpairs = get_eigenpairs(arr)\n",
        "\n",
        "for val, vec in eigenpairs:\n",
        "    print('value: {}, vector: {}'.format(val, vec))\n",
        "# value: (3+2.0000000000000004j), vector: [0.-1.j 1.+0.j]\n",
        "# value: (3-2.0000000000000004j), vector: [0.+1.j 1.-0.j]"
      ],
      "execution_count": 161,
      "outputs": [
        {
          "output_type": "stream",
          "text": [
            "value: (3+2.0000000000000004j), vector: [0.-1.j 1.+0.j]\n",
            "value: (3-2.0000000000000004j), vector: [0.+1.j 1.-0.j]\n"
          ],
          "name": "stdout"
        }
      ]
    },
    {
      "cell_type": "code",
      "metadata": {
        "id": "yzkvjjYXJCP7",
        "colab_type": "code",
        "colab": {}
      },
      "source": [
        ""
      ],
      "execution_count": null,
      "outputs": []
    }
  ]
}