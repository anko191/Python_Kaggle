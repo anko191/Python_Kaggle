{
  "nbformat": 4,
  "nbformat_minor": 0,
  "metadata": {
    "colab": {
      "name": "Pipeline.ipynb",
      "provenance": [],
      "authorship_tag": "ABX9TyNyCTiHdu4ZEICF2T8PmDfD",
      "include_colab_link": true
    },
    "kernelspec": {
      "name": "python3",
      "display_name": "Python 3"
    }
  },
  "cells": [
    {
      "cell_type": "markdown",
      "metadata": {
        "id": "view-in-github",
        "colab_type": "text"
      },
      "source": [
        "<a href=\"https://colab.research.google.com/github/anko191/Python_Kaggle/blob/master/Pipeline/Pipeline.ipynb\" target=\"_parent\"><img src=\"https://colab.research.google.com/assets/colab-badge.svg\" alt=\"Open In Colab\"/></a>"
      ]
    },
    {
      "cell_type": "markdown",
      "metadata": {
        "id": "C2bh3g4eMigb",
        "colab_type": "text"
      },
      "source": [
        "# Pipeline\n",
        "パイプラインはデータの全処理とモデリングのコードを整理しておくためのシンプルな方法<br>具体的には、パイプラインは、<b>前処理とモデリングのステップを束ねている(バンドル)ので、</b><br>バンドル全体をあたかも単一のステップであるかのように使用できます。"
      ]
    },
    {
      "cell_type": "markdown",
      "metadata": {
        "id": "0aLdsHiPM9zQ",
        "colab_type": "text"
      },
      "source": [
        "## Many benefits\n",
        "* Cleaner Code\n",
        "    * 各ステップでトレーニングデータとバリデーションデータを手動で管理する必要がない\n",
        "* Fewer Bugs\n",
        "    * 全処理を忘れたり、ステップを間違えて適用したりしなくなる\n",
        "* Easier to Productionize\n",
        "    * プロトタイプから展開可能なものにやるのは難しいけど、パイプラインが役立つよ\n",
        "* More Options for Model Validation\n",
        "    * モデル検証のためのより多くのオプション。次のチュートリアルでクロスバリデーションの例を見ます。"
      ]
    },
    {
      "cell_type": "code",
      "metadata": {
        "id": "yZ3B2jEVMqyb",
        "colab_type": "code",
        "colab": {}
      },
      "source": [
        ""
      ],
      "execution_count": null,
      "outputs": []
    }
  ]
}