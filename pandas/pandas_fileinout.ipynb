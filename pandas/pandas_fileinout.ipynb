{
  "nbformat": 4,
  "nbformat_minor": 0,
  "metadata": {
    "colab": {
      "name": "pandas_fileinout",
      "provenance": [],
      "collapsed_sections": [],
      "authorship_tag": "ABX9TyPjwHBe048VxCQ5ep7dSEvS",
      "include_colab_link": true
    },
    "kernelspec": {
      "name": "python3",
      "display_name": "Python 3"
    }
  },
  "cells": [
    {
      "cell_type": "markdown",
      "metadata": {
        "id": "view-in-github",
        "colab_type": "text"
      },
      "source": [
        "<a href=\"https://colab.research.google.com/github/anko191/Python_Kaggle/blob/master/pandas/pandas_fileinout.ipynb\" target=\"_parent\"><img src=\"https://colab.research.google.com/assets/colab-badge.svg\" alt=\"Open In Colab\"/></a>"
      ]
    },
    {
      "cell_type": "markdown",
      "metadata": {
        "id": "SB857bvyqwj8",
        "colab_type": "text"
      },
      "source": [
        "# csv"
      ]
    },
    {
      "cell_type": "markdown",
      "metadata": {
        "id": "62LZwMP8rcR1",
        "colab_type": "text"
      },
      "source": [
        "* read_csv() : delimiter ','\n",
        "* read_table() : delimiter '\\t'"
      ]
    },
    {
      "cell_type": "code",
      "metadata": {
        "id": "LuePVv-sqxS_",
        "colab_type": "code",
        "colab": {
          "base_uri": "https://localhost:8080/",
          "height": 68
        },
        "outputId": "8c89128b-aa03-4d28-9621-4e7fa421ba37"
      },
      "source": [
        "import pandas as pd\n",
        "df = pd.read_csv('./sample.csv')\n",
        "print(df)"
      ],
      "execution_count": 5,
      "outputs": [
        {
          "output_type": "stream",
          "text": [
            "   11  12  13  14\n",
            "0  21  22  23  24\n",
            "1  31  32  33  34\n"
          ],
          "name": "stdout"
        }
      ]
    },
    {
      "cell_type": "code",
      "metadata": {
        "id": "wNk873h8sdu4",
        "colab_type": "code",
        "colab": {
          "base_uri": "https://localhost:8080/",
          "height": 34
        },
        "outputId": "7ec9e521-59cd-47e0-b036-417dd36bb914"
      },
      "source": [
        "print(df.columns)"
      ],
      "execution_count": 6,
      "outputs": [
        {
          "output_type": "stream",
          "text": [
            "Index(['11', '12', '13', '14'], dtype='object')\n"
          ],
          "name": "stdout"
        }
      ]
    },
    {
      "cell_type": "markdown",
      "metadata": {
        "id": "y4O0aGJrsgWK",
        "colab_type": "text"
      },
      "source": [
        "## default, auto setting Index one line..."
      ]
    },
    {
      "cell_type": "markdown",
      "metadata": {
        "id": "P7iLEbovsntu",
        "colab_type": "text"
      },
      "source": [
        "### To avoid this, use 'header=None'"
      ]
    },
    {
      "cell_type": "code",
      "metadata": {
        "id": "xK5Q4H06sf-u",
        "colab_type": "code",
        "colab": {
          "base_uri": "https://localhost:8080/",
          "height": 85
        },
        "outputId": "8f34a779-8a3a-4f97-9d57-8b44fafc6079"
      },
      "source": [
        "df_none = pd.read_csv('./sample.csv', header = None)\n",
        "print(df_none)"
      ],
      "execution_count": 7,
      "outputs": [
        {
          "output_type": "stream",
          "text": [
            "    0   1   2   3\n",
            "0  11  12  13  14\n",
            "1  21  22  23  24\n",
            "2  31  32  33  34\n"
          ],
          "name": "stdout"
        }
      ]
    },
    {
      "cell_type": "markdown",
      "metadata": {
        "id": "-YABTieqs-5O",
        "colab_type": "text"
      },
      "source": [
        "### optional columns name can!"
      ]
    },
    {
      "cell_type": "code",
      "metadata": {
        "id": "ckym5eVvswcX",
        "colab_type": "code",
        "colab": {
          "base_uri": "https://localhost:8080/",
          "height": 85
        },
        "outputId": "ae786be3-55f0-4f49-d9fb-2c06dd900389"
      },
      "source": [
        "df_names = pd.read_csv('./sample.csv', names =('A','B','C','D'))\n",
        "print(df_names)"
      ],
      "execution_count": 8,
      "outputs": [
        {
          "output_type": "stream",
          "text": [
            "    A   B   C   D\n",
            "0  11  12  13  14\n",
            "1  21  22  23  24\n",
            "2  31  32  33  34\n"
          ],
          "name": "stdout"
        }
      ]
    },
    {
      "cell_type": "code",
      "metadata": {
        "id": "jWPm8DJDtHKG",
        "colab_type": "code",
        "colab": {
          "base_uri": "https://localhost:8080/",
          "height": 85
        },
        "outputId": "5ce139f8-0031-4e08-a7f6-290bf4acfd7e"
      },
      "source": [
        "df_header = pd.read_csv('./sample_header.csv')\n",
        "print(df_header)"
      ],
      "execution_count": 9,
      "outputs": [
        {
          "output_type": "stream",
          "text": [
            "    a   b   c   d\n",
            "0  11  12  13  14\n",
            "1  21  22  23  24\n",
            "2  31  32  33  34\n"
          ],
          "name": "stdout"
        }
      ]
    },
    {
      "cell_type": "markdown",
      "metadata": {
        "id": "QGCan2Vfuxsc",
        "colab_type": "text"
      },
      "source": [
        "## header = 2, ... start third(1 + 2) line"
      ]
    },
    {
      "cell_type": "code",
      "metadata": {
        "id": "QhHlqbhTuui6",
        "colab_type": "code",
        "colab": {
          "base_uri": "https://localhost:8080/",
          "height": 51
        },
        "outputId": "0a844903-6cf0-4fd0-d6d6-2edf50f6e3d6"
      },
      "source": [
        "df_header_2 = pd.read_csv('./sample_header.csv',header=2)\n",
        "print(df_header_2)"
      ],
      "execution_count": 10,
      "outputs": [
        {
          "output_type": "stream",
          "text": [
            "   21  22  23  24\n",
            "0  31  32  33  34\n"
          ],
          "name": "stdout"
        }
      ]
    },
    {
      "cell_type": "code",
      "metadata": {
        "id": "I79QoPshu-qd",
        "colab_type": "code",
        "colab": {
          "base_uri": "https://localhost:8080/",
          "height": 102
        },
        "outputId": "9649a716-b878-4b98-8793-8fc995b0c86d"
      },
      "source": [
        "df_header_index = pd.read_csv('./sample_header_index.csv')\n",
        "print(df_header_index)\n",
        "print(df_header_index.index)"
      ],
      "execution_count": 11,
      "outputs": [
        {
          "output_type": "stream",
          "text": [
            "  Unnamed: 0   a   b   c   d\n",
            "0        ONE  11  12  13  14\n",
            "1        TWO  21  22  23  24\n",
            "2      THREE  31  32  33  34\n",
            "RangeIndex(start=0, stop=3, step=1)\n"
          ],
          "name": "stdout"
        }
      ]
    },
    {
      "cell_type": "markdown",
      "metadata": {
        "id": "Q6zNeEGrveOF",
        "colab_type": "text"
      },
      "source": [
        "## wmm... not detect index"
      ]
    },
    {
      "cell_type": "markdown",
      "metadata": {
        "id": "0aHmrwzivki0",
        "colab_type": "text"
      },
      "source": [
        "### You can use 'index_col = 0', detect index_col= ? , ? columns !!! "
      ]
    },
    {
      "cell_type": "code",
      "metadata": {
        "id": "PND4J1qHvdxt",
        "colab_type": "code",
        "colab": {
          "base_uri": "https://localhost:8080/",
          "height": 102
        },
        "outputId": "b228b4b4-6d2e-422f-80a5-42e501f4568e"
      },
      "source": [
        "df_header_index_col = pd.read_csv('./sample_header_index.csv', index_col = 0)\n",
        "print(df_header_index_col)\n",
        "print(df_header_index_col.index)"
      ],
      "execution_count": 12,
      "outputs": [
        {
          "output_type": "stream",
          "text": [
            "        a   b   c   d\n",
            "ONE    11  12  13  14\n",
            "TWO    21  22  23  24\n",
            "THREE  31  32  33  34\n",
            "Index(['ONE', 'TWO', 'THREE'], dtype='object')\n"
          ],
          "name": "stdout"
        }
      ]
    },
    {
      "cell_type": "markdown",
      "metadata": {
        "id": "_NjsLn6Kv3X0",
        "colab_type": "text"
      },
      "source": [
        "## read columns that be designated"
      ]
    },
    {
      "cell_type": "code",
      "metadata": {
        "id": "VEXUrVY7v0Hu",
        "colab_type": "code",
        "colab": {
          "base_uri": "https://localhost:8080/",
          "height": 85
        },
        "outputId": "34d93b3a-92ae-4501-f6c2-fa07b1e76a28"
      },
      "source": [
        "df_none_usecols = pd.read_csv('./sample.csv', header=None,usecols=[1,3])\n",
        "print(df_none_usecols)"
      ],
      "execution_count": 13,
      "outputs": [
        {
          "output_type": "stream",
          "text": [
            "    1   3\n",
            "0  12  14\n",
            "1  22  24\n",
            "2  32  34\n"
          ],
          "name": "stdout"
        }
      ]
    },
    {
      "cell_type": "code",
      "metadata": {
        "id": "Ohk4j2SRv_KN",
        "colab_type": "code",
        "colab": {
          "base_uri": "https://localhost:8080/",
          "height": 85
        },
        "outputId": "4151a1e2-83cb-4639-abb7-15ade3e9b9c7"
      },
      "source": [
        "df_none_usecols = pd.read_csv('./sample.csv', header=None, usecols=[2])\n",
        "print(df_none_usecols)"
      ],
      "execution_count": 14,
      "outputs": [
        {
          "output_type": "stream",
          "text": [
            "    2\n",
            "0  13\n",
            "1  23\n",
            "2  33\n"
          ],
          "name": "stdout"
        }
      ]
    },
    {
      "cell_type": "code",
      "metadata": {
        "id": "NoZK_wOxwE5s",
        "colab_type": "code",
        "colab": {
          "base_uri": "https://localhost:8080/",
          "height": 85
        },
        "outputId": "ea4bdee3-5cda-4895-b663-1870ee189dd5"
      },
      "source": [
        "df_header_usecols=pd.read_csv('./sample_header.csv',usecols=['a','c'])\n",
        "print(df_header_usecols)"
      ],
      "execution_count": 16,
      "outputs": [
        {
          "output_type": "stream",
          "text": [
            "    a   c\n",
            "0  11  13\n",
            "1  21  23\n",
            "2  31  33\n"
          ],
          "name": "stdout"
        }
      ]
    },
    {
      "cell_type": "markdown",
      "metadata": {
        "id": "VgrU6q2fwQpo",
        "colab_type": "text"
      },
      "source": [
        "# lambda function is useful."
      ]
    },
    {
      "cell_type": "code",
      "metadata": {
        "id": "8Qjq2y2TwMjp",
        "colab_type": "code",
        "colab": {
          "base_uri": "https://localhost:8080/",
          "height": 85
        },
        "outputId": "08771385-68a3-4cc0-86c8-9cc0379312e3"
      },
      "source": [
        "df_header_usecols = pd.read_csv('./sample_header.csv', usecols = lambda x: x is not 'b')\n",
        "print(df_header_usecols)"
      ],
      "execution_count": 17,
      "outputs": [
        {
          "output_type": "stream",
          "text": [
            "    a   c   d\n",
            "0  11  13  14\n",
            "1  21  23  24\n",
            "2  31  33  34\n"
          ],
          "name": "stdout"
        }
      ]
    },
    {
      "cell_type": "code",
      "metadata": {
        "id": "YH_P9pYTwbc8",
        "colab_type": "code",
        "colab": {
          "base_uri": "https://localhost:8080/",
          "height": 85
        },
        "outputId": "7b2c7ce4-525c-4830-acf8-9c57bcfa4187"
      },
      "source": [
        "df_header_usecols = pd.read_csv('./sample_header.csv', usecols = lambda x: x not in ['a','c'])\n",
        "print(df_header_usecols)"
      ],
      "execution_count": 18,
      "outputs": [
        {
          "output_type": "stream",
          "text": [
            "    b   d\n",
            "0  12  14\n",
            "1  22  24\n",
            "2  32  34\n"
          ],
          "name": "stdout"
        }
      ]
    },
    {
      "cell_type": "code",
      "metadata": {
        "id": "JG9fkPWfwnh8",
        "colab_type": "code",
        "colab": {
          "base_uri": "https://localhost:8080/",
          "height": 85
        },
        "outputId": "17e0d937-f080-455c-bbbb-12c82845df9f"
      },
      "source": [
        "df_index_usecols = pd.read_csv('./sample_header_index.csv', index_col=0, usecols = [0,1,3])\n",
        "print(df_index_usecols)"
      ],
      "execution_count": 19,
      "outputs": [
        {
          "output_type": "stream",
          "text": [
            "        a   c\n",
            "ONE    11  13\n",
            "TWO    21  23\n",
            "THREE  31  33\n"
          ],
          "name": "stdout"
        }
      ]
    },
    {
      "cell_type": "markdown",
      "metadata": {
        "id": "Hl0NYFufyvog",
        "colab_type": "text"
      },
      "source": [
        "## skip rows, argument skiprows"
      ]
    },
    {
      "cell_type": "code",
      "metadata": {
        "id": "mCGkVLOSxM7V",
        "colab_type": "code",
        "colab": {
          "base_uri": "https://localhost:8080/",
          "height": 119
        },
        "outputId": "48e41e32-d4b7-435c-9ae3-a4f3566ec7d4"
      },
      "source": [
        "df_none = pd.read_csv('./sample.csv', header=None)\n",
        "print(df_none)\n",
        "df_none = pd.read_csv('./sample.csv', header =None, skiprows = 2)\n",
        "print(df_none)"
      ],
      "execution_count": 20,
      "outputs": [
        {
          "output_type": "stream",
          "text": [
            "    0   1   2   3\n",
            "0  11  12  13  14\n",
            "1  21  22  23  24\n",
            "2  31  32  33  34\n",
            "    0   1   2   3\n",
            "0  31  32  33  34\n"
          ],
          "name": "stdout"
        }
      ]
    },
    {
      "cell_type": "code",
      "metadata": {
        "id": "cGX7IW4Gy-nP",
        "colab_type": "code",
        "colab": {
          "base_uri": "https://localhost:8080/",
          "height": 51
        },
        "outputId": "3b5e6875-9ec7-4015-9fa4-1973ebd708d8"
      },
      "source": [
        "df_none_skiprows = pd.read_csv('./sample.csv', header = None, skiprows=[0,2])\n",
        "print(df_none_skiprows)"
      ],
      "execution_count": 21,
      "outputs": [
        {
          "output_type": "stream",
          "text": [
            "    0   1   2   3\n",
            "0  21  22  23  24\n"
          ],
          "name": "stdout"
        }
      ]
    },
    {
      "cell_type": "code",
      "metadata": {
        "id": "5-sMCLvUzJVj",
        "colab_type": "code",
        "colab": {
          "base_uri": "https://localhost:8080/",
          "height": 68
        },
        "outputId": "68e52123-1295-4dac-acec-fce308645aa7"
      },
      "source": [
        "df_none_skiprows = pd.read_csv('./sample.csv', header =None, skiprows = [1])\n",
        "print(df_none_skiprows)"
      ],
      "execution_count": 22,
      "outputs": [
        {
          "output_type": "stream",
          "text": [
            "    0   1   2   3\n",
            "0  11  12  13  14\n",
            "1  31  32  33  34\n"
          ],
          "name": "stdout"
        }
      ]
    },
    {
      "cell_type": "code",
      "metadata": {
        "id": "LA5Gytn7zPMC",
        "colab_type": "code",
        "colab": {
          "base_uri": "https://localhost:8080/",
          "height": 68
        },
        "outputId": "28e0dabe-b126-47b3-f324-7c1946980d86"
      },
      "source": [
        "df_none_skipfooter = pd.read_csv('./sample.csv', header = None, skipfooter = 1, engine = 'python')\n",
        "print(df_none_skipfooter)"
      ],
      "execution_count": 23,
      "outputs": [
        {
          "output_type": "stream",
          "text": [
            "    0   1   2   3\n",
            "0  11  12  13  14\n",
            "1  21  22  23  24\n"
          ],
          "name": "stdout"
        }
      ]
    },
    {
      "cell_type": "code",
      "metadata": {
        "id": "_rvSYbHq09x6",
        "colab_type": "code",
        "colab": {
          "base_uri": "https://localhost:8080/",
          "height": 68
        },
        "outputId": "d95ebd31-97de-4d5f-d19f-7846cc7cae01"
      },
      "source": [
        "df_none_nrows = pd.read_csv('./sample.csv', header = None, nrows = 2)\n",
        "print(df_none_nrows)"
      ],
      "execution_count": 24,
      "outputs": [
        {
          "output_type": "stream",
          "text": [
            "    0   1   2   3\n",
            "0  11  12  13  14\n",
            "1  21  22  23  24\n"
          ],
          "name": "stdout"
        }
      ]
    },
    {
      "cell_type": "code",
      "metadata": {
        "id": "N111D78N1C0D",
        "colab_type": "code",
        "colab": {
          "base_uri": "https://localhost:8080/",
          "height": 170
        },
        "outputId": "eb1045b2-6ad5-43ed-b8b7-29a548ac218f"
      },
      "source": [
        "df_default = pd.read_csv('./sample_header_index_dtype.csv',index_col = 0)\n",
        "print(df_default)\n",
        "print(df_default.dtypes)"
      ],
      "execution_count": 25,
      "outputs": [
        {
          "output_type": "stream",
          "text": [
            "       a    b      c  d\n",
            "ONE    1    1  100.0  x\n",
            "TWO    2   20    NaN  y\n",
            "THREE  3  300  300.0  z\n",
            "a      int64\n",
            "b      int64\n",
            "c    float64\n",
            "d     object\n",
            "dtype: object\n"
          ],
          "name": "stdout"
        }
      ]
    },
    {
      "cell_type": "code",
      "metadata": {
        "id": "ho0yMW7y1Voi",
        "colab_type": "code",
        "colab": {
          "base_uri": "https://localhost:8080/",
          "height": 85
        },
        "outputId": "39c34fbe-6659-498e-ed41-a4d6adbf3ef3"
      },
      "source": [
        "print(df_default.applymap(type))"
      ],
      "execution_count": 26,
      "outputs": [
        {
          "output_type": "stream",
          "text": [
            "                   a              b                c              d\n",
            "ONE    <class 'int'>  <class 'int'>  <class 'float'>  <class 'str'>\n",
            "TWO    <class 'int'>  <class 'int'>  <class 'float'>  <class 'str'>\n",
            "THREE  <class 'int'>  <class 'int'>  <class 'float'>  <class 'str'>\n"
          ],
          "name": "stdout"
        }
      ]
    },
    {
      "cell_type": "code",
      "metadata": {
        "id": "R0Qxpmpw1cxR",
        "colab_type": "code",
        "colab": {}
      },
      "source": [
        "df_str = pd.read_csv('./sample_header_index_dtype.csv',index_col = 0, dtype=str)"
      ],
      "execution_count": 27,
      "outputs": []
    },
    {
      "cell_type": "code",
      "metadata": {
        "id": "9V-uIZtX2XaD",
        "colab_type": "code",
        "colab": {
          "base_uri": "https://localhost:8080/",
          "height": 170
        },
        "outputId": "435a6642-7809-4cda-ef72-27d9572e9f1a"
      },
      "source": [
        "df_str_cast = df_str.astype({'a':int})\n",
        "print(df_str_cast)\n",
        "print(df_str_cast.dtypes)"
      ],
      "execution_count": 28,
      "outputs": [
        {
          "output_type": "stream",
          "text": [
            "       a    b    c  d\n",
            "ONE    1  001  100  x\n",
            "TWO    2  020  NaN  y\n",
            "THREE  3  300  300  z\n",
            "a     int64\n",
            "b    object\n",
            "c    object\n",
            "d    object\n",
            "dtype: object\n"
          ],
          "name": "stdout"
        }
      ]
    },
    {
      "cell_type": "code",
      "metadata": {
        "id": "IG7Hz9-Y2ehC",
        "colab_type": "code",
        "colab": {}
      },
      "source": [
        "df_str_col = pd.read_csv('./sample_header_index_dtype.csv', index_col=0, dtype={'b':str, 'c':str})"
      ],
      "execution_count": 29,
      "outputs": []
    },
    {
      "cell_type": "code",
      "metadata": {
        "id": "3LTnQUAD2mD6",
        "colab_type": "code",
        "colab": {
          "base_uri": "https://localhost:8080/",
          "height": 85
        },
        "outputId": "7dc3f2c4-3a8b-4172-a827-2b04cf9ef655"
      },
      "source": [
        "print(df_str_col)"
      ],
      "execution_count": 30,
      "outputs": [
        {
          "output_type": "stream",
          "text": [
            "       a    b    c  d\n",
            "ONE    1  001  100  x\n",
            "TWO    2  020  NaN  y\n",
            "THREE  3  300  300  z\n"
          ],
          "name": "stdout"
        }
      ]
    },
    {
      "cell_type": "markdown",
      "metadata": {
        "id": "pCKdHbfO2z_7",
        "colab_type": "text"
      },
      "source": [
        "# NaN"
      ]
    },
    {
      "cell_type": "code",
      "metadata": {
        "id": "4XLIo7is2pZp",
        "colab_type": "code",
        "colab": {
          "base_uri": "https://localhost:8080/",
          "height": 85
        },
        "outputId": "5170f892-7036-400a-cdc9-bb35ec58f10e"
      },
      "source": [
        "df_nan = pd.read_csv('./sample_header_index_nan.csv', index_col = 0)\n",
        "print(df_nan)"
      ],
      "execution_count": 31,
      "outputs": [
        {
          "output_type": "stream",
          "text": [
            "         a   b\n",
            "ONE    NaN NaN\n",
            "TWO      - NaN\n",
            "THREE  NaN NaN\n"
          ],
          "name": "stdout"
        }
      ]
    },
    {
      "cell_type": "code",
      "metadata": {
        "id": "oiIL5VAy3MLF",
        "colab_type": "code",
        "colab": {
          "base_uri": "https://localhost:8080/",
          "height": 85
        },
        "outputId": "4cc246ed-5c13-4d08-e7bf-d1780debce82"
      },
      "source": [
        "print(df_nan.isnull())"
      ],
      "execution_count": 32,
      "outputs": [
        {
          "output_type": "stream",
          "text": [
            "           a     b\n",
            "ONE     True  True\n",
            "TWO    False  True\n",
            "THREE   True  True\n"
          ],
          "name": "stdout"
        }
      ]
    },
    {
      "cell_type": "code",
      "metadata": {
        "id": "_GP2lfqp3OGy",
        "colab_type": "code",
        "colab": {}
      },
      "source": [
        "df_nan_set_na = pd.read_csv('./sample_header_index_nan.csv', index_col=0, na_values='-')"
      ],
      "execution_count": 34,
      "outputs": []
    },
    {
      "cell_type": "code",
      "metadata": {
        "id": "juTr6nbb3V2K",
        "colab_type": "code",
        "colab": {
          "base_uri": "https://localhost:8080/",
          "height": 85
        },
        "outputId": "76039946-a377-4b56-ed9d-b595979bc5c4"
      },
      "source": [
        "print(df_nan_set_na)"
      ],
      "execution_count": 35,
      "outputs": [
        {
          "output_type": "stream",
          "text": [
            "        a   b\n",
            "ONE   NaN NaN\n",
            "TWO   NaN NaN\n",
            "THREE NaN NaN\n"
          ],
          "name": "stdout"
        }
      ]
    },
    {
      "cell_type": "code",
      "metadata": {
        "id": "hzW7lNe03YmZ",
        "colab_type": "code",
        "colab": {
          "base_uri": "https://localhost:8080/",
          "height": 85
        },
        "outputId": "7b24673d-9c80-4756-a755-84339d58194a"
      },
      "source": [
        "print(df_nan_set_na.isnull()) "
      ],
      "execution_count": 36,
      "outputs": [
        {
          "output_type": "stream",
          "text": [
            "          a     b\n",
            "ONE    True  True\n",
            "TWO    True  True\n",
            "THREE  True  True\n"
          ],
          "name": "stdout"
        }
      ]
    },
    {
      "cell_type": "markdown",
      "metadata": {
        "id": "_-gwVebh3iJ2",
        "colab_type": "text"
      },
      "source": [
        "## designate missing values, na_values, keep_default_na"
      ]
    },
    {
      "cell_type": "code",
      "metadata": {
        "id": "qCwY06g23cdy",
        "colab_type": "code",
        "colab": {}
      },
      "source": [
        "df_p = pd.read_csv('./sample_header_index_nan.csv', index_col=0, na_values=[',', 'NaN', 'null'], keep_default_na = False)"
      ],
      "execution_count": 37,
      "outputs": []
    },
    {
      "cell_type": "code",
      "metadata": {
        "id": "95YSTgk23vsf",
        "colab_type": "code",
        "colab": {
          "base_uri": "https://localhost:8080/",
          "height": 85
        },
        "outputId": "575e87a1-9fe5-4029-bea5-6fb54c0dba1e"
      },
      "source": [
        "print(df_p)"
      ],
      "execution_count": 38,
      "outputs": [
        {
          "output_type": "stream",
          "text": [
            "         a    b\n",
            "ONE         NaN\n",
            "TWO      -  nan\n",
            "THREE  NaN  N/A\n"
          ],
          "name": "stdout"
        }
      ]
    },
    {
      "cell_type": "code",
      "metadata": {
        "id": "Cp2sZg1U3wuJ",
        "colab_type": "code",
        "colab": {
          "base_uri": "https://localhost:8080/",
          "height": 85
        },
        "outputId": "5f36810c-c027-425c-a8f7-e294725ee9c2"
      },
      "source": [
        "print(df_p.isnull())"
      ],
      "execution_count": 39,
      "outputs": [
        {
          "output_type": "stream",
          "text": [
            "           a      b\n",
            "ONE    False   True\n",
            "TWO    False  False\n",
            "THREE   True  False\n"
          ],
          "name": "stdout"
        }
      ]
    },
    {
      "cell_type": "markdown",
      "metadata": {
        "id": "lv1CQqd-31ro",
        "colab_type": "text"
      },
      "source": [
        "## Dont treat any values as a missing values"
      ]
    },
    {
      "cell_type": "code",
      "metadata": {
        "id": "RFLewhkw3yaR",
        "colab_type": "code",
        "colab": {
          "base_uri": "https://localhost:8080/",
          "height": 153
        },
        "outputId": "d7508c42-e453-4f15-d9eb-5944f26bc04c"
      },
      "source": [
        "df_f = pd.read_csv('./sample_header_index_nan.csv', index_col = 0, na_filter = False)\n",
        "print(df_f)\n",
        "print(df_f.isnull())"
      ],
      "execution_count": 40,
      "outputs": [
        {
          "output_type": "stream",
          "text": [
            "          a    b\n",
            "ONE          NaN\n",
            "TWO       -  nan\n",
            "THREE  null  N/A\n",
            "           a      b\n",
            "ONE    False  False\n",
            "TWO    False  False\n",
            "THREE  False  False\n"
          ],
          "name": "stdout"
        }
      ]
    },
    {
      "cell_type": "markdown",
      "metadata": {
        "id": "w9m0UP864MvV",
        "colab_type": "text"
      },
      "source": [
        "## loading zip files too."
      ]
    },
    {
      "cell_type": "markdown",
      "metadata": {
        "id": "nYvRFbvI4RSZ",
        "colab_type": "text"
      },
      "source": [
        "# And loading Web files"
      ]
    },
    {
      "cell_type": "code",
      "metadata": {
        "id": "mIBG3wG14Gjz",
        "colab_type": "code",
        "colab": {
          "base_uri": "https://localhost:8080/",
          "height": 275
        },
        "outputId": "6902e9d8-f87a-43c2-b6f5-02c7431304aa"
      },
      "source": [
        "df = pd.read_csv('http://www.post.japanpost.jp/zipcode/dl/oogaki/zip/13tokyo.zip',header=None,encoding='shift_jis')\n",
        "print(df.shape)\n",
        "pd.options.display.max_columns = 100\n",
        "print(df.head())"
      ],
      "execution_count": 42,
      "outputs": [
        {
          "output_type": "stream",
          "text": [
            "(4048, 15)\n",
            "      0    1        2       3      4                5    6     7           8   \\\n",
            "0  13101  100  1000000  ﾄｳｷﾖｳﾄ  ﾁﾖﾀﾞｸ  ｲｶﾆｹｲｻｲｶﾞﾅｲﾊﾞｱｲ  東京都  千代田区  以下に掲載がない場合   \n",
            "1  13101  102  1020072  ﾄｳｷﾖｳﾄ  ﾁﾖﾀﾞｸ          ｲｲﾀﾞﾊﾞｼ  東京都  千代田区         飯田橋   \n",
            "2  13101  102  1020082  ﾄｳｷﾖｳﾄ  ﾁﾖﾀﾞｸ         ｲﾁﾊﾞﾝﾁﾖｳ  東京都  千代田区         一番町   \n",
            "3  13101  101  1010032  ﾄｳｷﾖｳﾄ  ﾁﾖﾀﾞｸ          ｲﾜﾓﾄﾁﾖｳ  東京都  千代田区         岩本町   \n",
            "4  13101  101  1010047  ﾄｳｷﾖｳﾄ  ﾁﾖﾀﾞｸ           ｳﾁｶﾝﾀﾞ  東京都  千代田区         内神田   \n",
            "\n",
            "   9   10  11  12  13  14  \n",
            "0   0   0   0   0   0   0  \n",
            "1   0   0   1   0   0   0  \n",
            "2   0   0   0   0   0   0  \n",
            "3   0   0   1   0   0   0  \n",
            "4   0   0   1   0   0   0  \n"
          ],
          "name": "stdout"
        }
      ]
    },
    {
      "cell_type": "code",
      "metadata": {
        "id": "_O7ucqkE4iY0",
        "colab_type": "code",
        "colab": {
          "base_uri": "https://localhost:8080/",
          "height": 238
        },
        "outputId": "258a3415-e861-483f-d8a0-3b19301ac1ad"
      },
      "source": [
        "print(df.tail())"
      ],
      "execution_count": 43,
      "outputs": [
        {
          "output_type": "stream",
          "text": [
            "         0      1        2       3                  4                5    6   \\\n",
            "4043  13401  10015  1001511  ﾄｳｷﾖｳﾄ  ﾊﾁｼﾞﾖｳｼﾞﾏﾊﾁｼﾞﾖｳﾏﾁ              ﾐﾂﾈ  東京都   \n",
            "4044  13402  10017  1001701  ﾄｳｷﾖｳﾄ           ｱｵｶﾞｼﾏﾑﾗ     ｱｵｶﾞｼﾏﾑﾗｲﾁｴﾝ  東京都   \n",
            "4045  13421  10021  1002100  ﾄｳｷﾖｳﾄ           ｵｶﾞｻﾜﾗﾑﾗ  ｲｶﾆｹｲｻｲｶﾞﾅｲﾊﾞｱｲ  東京都   \n",
            "4046  13421  10021  1002101  ﾄｳｷﾖｳﾄ           ｵｶﾞｻﾜﾗﾑﾗ            ﾁﾁｼﾞﾏ  東京都   \n",
            "4047  13421  10022  1002211  ﾄｳｷﾖｳﾄ           ｵｶﾞｻﾜﾗﾑﾗ            ﾊﾊｼﾞﾏ  東京都   \n",
            "\n",
            "          7           8   9   10  11  12  13  14  \n",
            "4043  八丈島八丈町          三根   0   0   0   0   0   0  \n",
            "4044    青ヶ島村      青ヶ島村一円   0   0   0   0   0   0  \n",
            "4045    小笠原村  以下に掲載がない場合   0   0   0   0   0   0  \n",
            "4046    小笠原村          父島   0   0   0   0   0   0  \n",
            "4047    小笠原村          母島   0   0   0   0   0   0  \n"
          ],
          "name": "stdout"
        }
      ]
    },
    {
      "cell_type": "markdown",
      "metadata": {
        "id": "tZQcpKO84ya7",
        "colab_type": "text"
      },
      "source": [
        "# if you want to tsv, use read_table()\n",
        "## or pd.read_csv(files, index_col = 0, sep='\\n')"
      ]
    },
    {
      "cell_type": "markdown",
      "metadata": {
        "id": "5kqxnKXj5mbu",
        "colab_type": "text"
      },
      "source": [
        "# to csv!"
      ]
    },
    {
      "cell_type": "code",
      "metadata": {
        "id": "PL8qkrKG4v1L",
        "colab_type": "code",
        "colab": {
          "base_uri": "https://localhost:8080/",
          "height": 153
        },
        "outputId": "3b94f715-d9cd-421c-c719-54a9a2c294f6"
      },
      "source": [
        "import pandas as pd\n",
        "df = pd.read_csv('./sample_pandas_normal.csv', index_col = 0)\n",
        "print(df)"
      ],
      "execution_count": 44,
      "outputs": [
        {
          "output_type": "stream",
          "text": [
            "         age state  point\n",
            "name                     \n",
            "Alice     24    NY     64\n",
            "Bob       42    CA     92\n",
            "Charlie   18    CA     70\n",
            "Dave      68    TX     70\n",
            "Ellen     24    CA     88\n",
            "Frank     30    NY     57\n"
          ],
          "name": "stdout"
        }
      ]
    },
    {
      "cell_type": "markdown",
      "metadata": {
        "id": "Fq2r2a176OCi",
        "colab_type": "text"
      },
      "source": [
        "## to_csv()"
      ]
    },
    {
      "cell_type": "code",
      "metadata": {
        "id": "o61twzSC6CVL",
        "colab_type": "code",
        "colab": {}
      },
      "source": [
        "df.to_csv('./to_csv_out.csv')"
      ],
      "execution_count": 45,
      "outputs": []
    },
    {
      "cell_type": "code",
      "metadata": {
        "id": "_j3USvL36SWv",
        "colab_type": "code",
        "colab": {
          "base_uri": "https://localhost:8080/",
          "height": 34
        },
        "outputId": "afdadc98-662d-457b-eb9d-94da94a3b266"
      },
      "source": [
        "print('./to_csv_out.csv')"
      ],
      "execution_count": 47,
      "outputs": [
        {
          "output_type": "stream",
          "text": [
            "./to_csv_out.csv\n"
          ],
          "name": "stdout"
        }
      ]
    },
    {
      "cell_type": "markdown",
      "metadata": {
        "id": "7ZL_j8wk60u8",
        "colab_type": "text"
      },
      "source": [
        "## to_csv only certain columns : argument"
      ]
    },
    {
      "cell_type": "code",
      "metadata": {
        "id": "q6qP7s0R6VCL",
        "colab_type": "code",
        "colab": {}
      },
      "source": [
        "df.to_csv('./to_csv_out_columns.csv', columns = ['age'])"
      ],
      "execution_count": 48,
      "outputs": []
    },
    {
      "cell_type": "markdown",
      "metadata": {
        "id": "_5cQOPui7XJh",
        "colab_type": "text"
      },
      "source": [
        "## header, index"
      ]
    },
    {
      "cell_type": "code",
      "metadata": {
        "id": "_u8jfPX069np",
        "colab_type": "code",
        "colab": {}
      },
      "source": [
        "df.to_csv('./to_csv_out_header_index.csv', header=False, index=False)\n"
      ],
      "execution_count": 49,
      "outputs": []
    },
    {
      "cell_type": "markdown",
      "metadata": {
        "id": "IUJs0mCv7gzi",
        "colab_type": "text"
      },
      "source": [
        "### encoding default 'utf-8', in case japanese encoding='cp932'"
      ]
    },
    {
      "cell_type": "markdown",
      "metadata": {
        "id": "Q69DsQv47pVb",
        "colab_type": "text"
      },
      "source": [
        "## sep=??"
      ]
    },
    {
      "cell_type": "code",
      "metadata": {
        "id": "IxEEzvXF7drA",
        "colab_type": "code",
        "colab": {}
      },
      "source": [
        "df.to_csv('./to_csv_out.tsv', sep='\\t')"
      ],
      "execution_count": 50,
      "outputs": []
    },
    {
      "cell_type": "markdown",
      "metadata": {
        "id": "UDGYUTVD7085",
        "colab_type": "text"
      },
      "source": [
        "# write mode , mode='w', mode = 'x', mode='a'..."
      ]
    },
    {
      "cell_type": "code",
      "metadata": {
        "id": "Nmd2OQj87uZ3",
        "colab_type": "code",
        "colab": {
          "base_uri": "https://localhost:8080/",
          "height": 421
        },
        "outputId": "1b8bdeb1-2626-4953-8585-34c46408c848"
      },
      "source": [
        "df.to_csv('./to_csv_out_a.csv')\n",
        "df.to_csv('./to_csv_out_a.csv', header = False, mode = 'a')\n",
        "nya = pd.read_csv('./to_csv_out_a.csv')\n",
        "nya"
      ],
      "execution_count": 51,
      "outputs": [
        {
          "output_type": "execute_result",
          "data": {
            "text/html": [
              "<div>\n",
              "<style scoped>\n",
              "    .dataframe tbody tr th:only-of-type {\n",
              "        vertical-align: middle;\n",
              "    }\n",
              "\n",
              "    .dataframe tbody tr th {\n",
              "        vertical-align: top;\n",
              "    }\n",
              "\n",
              "    .dataframe thead th {\n",
              "        text-align: right;\n",
              "    }\n",
              "</style>\n",
              "<table border=\"1\" class=\"dataframe\">\n",
              "  <thead>\n",
              "    <tr style=\"text-align: right;\">\n",
              "      <th></th>\n",
              "      <th>name</th>\n",
              "      <th>age</th>\n",
              "      <th>state</th>\n",
              "      <th>point</th>\n",
              "    </tr>\n",
              "  </thead>\n",
              "  <tbody>\n",
              "    <tr>\n",
              "      <th>0</th>\n",
              "      <td>Alice</td>\n",
              "      <td>24</td>\n",
              "      <td>NY</td>\n",
              "      <td>64</td>\n",
              "    </tr>\n",
              "    <tr>\n",
              "      <th>1</th>\n",
              "      <td>Bob</td>\n",
              "      <td>42</td>\n",
              "      <td>CA</td>\n",
              "      <td>92</td>\n",
              "    </tr>\n",
              "    <tr>\n",
              "      <th>2</th>\n",
              "      <td>Charlie</td>\n",
              "      <td>18</td>\n",
              "      <td>CA</td>\n",
              "      <td>70</td>\n",
              "    </tr>\n",
              "    <tr>\n",
              "      <th>3</th>\n",
              "      <td>Dave</td>\n",
              "      <td>68</td>\n",
              "      <td>TX</td>\n",
              "      <td>70</td>\n",
              "    </tr>\n",
              "    <tr>\n",
              "      <th>4</th>\n",
              "      <td>Ellen</td>\n",
              "      <td>24</td>\n",
              "      <td>CA</td>\n",
              "      <td>88</td>\n",
              "    </tr>\n",
              "    <tr>\n",
              "      <th>5</th>\n",
              "      <td>Frank</td>\n",
              "      <td>30</td>\n",
              "      <td>NY</td>\n",
              "      <td>57</td>\n",
              "    </tr>\n",
              "    <tr>\n",
              "      <th>6</th>\n",
              "      <td>Alice</td>\n",
              "      <td>24</td>\n",
              "      <td>NY</td>\n",
              "      <td>64</td>\n",
              "    </tr>\n",
              "    <tr>\n",
              "      <th>7</th>\n",
              "      <td>Bob</td>\n",
              "      <td>42</td>\n",
              "      <td>CA</td>\n",
              "      <td>92</td>\n",
              "    </tr>\n",
              "    <tr>\n",
              "      <th>8</th>\n",
              "      <td>Charlie</td>\n",
              "      <td>18</td>\n",
              "      <td>CA</td>\n",
              "      <td>70</td>\n",
              "    </tr>\n",
              "    <tr>\n",
              "      <th>9</th>\n",
              "      <td>Dave</td>\n",
              "      <td>68</td>\n",
              "      <td>TX</td>\n",
              "      <td>70</td>\n",
              "    </tr>\n",
              "    <tr>\n",
              "      <th>10</th>\n",
              "      <td>Ellen</td>\n",
              "      <td>24</td>\n",
              "      <td>CA</td>\n",
              "      <td>88</td>\n",
              "    </tr>\n",
              "    <tr>\n",
              "      <th>11</th>\n",
              "      <td>Frank</td>\n",
              "      <td>30</td>\n",
              "      <td>NY</td>\n",
              "      <td>57</td>\n",
              "    </tr>\n",
              "  </tbody>\n",
              "</table>\n",
              "</div>"
            ],
            "text/plain": [
              "       name  age state  point\n",
              "0     Alice   24    NY     64\n",
              "1       Bob   42    CA     92\n",
              "2   Charlie   18    CA     70\n",
              "3      Dave   68    TX     70\n",
              "4     Ellen   24    CA     88\n",
              "5     Frank   30    NY     57\n",
              "6     Alice   24    NY     64\n",
              "7       Bob   42    CA     92\n",
              "8   Charlie   18    CA     70\n",
              "9      Dave   68    TX     70\n",
              "10    Ellen   24    CA     88\n",
              "11    Frank   30    NY     57"
            ]
          },
          "metadata": {
            "tags": []
          },
          "execution_count": 51
        }
      ]
    },
    {
      "cell_type": "markdown",
      "metadata": {
        "id": "D44HPQ8Q8sJH",
        "colab_type": "text"
      },
      "source": [
        "# flaoting ... show maker"
      ]
    },
    {
      "cell_type": "code",
      "metadata": {
        "id": "5mLJqrH18Iaq",
        "colab_type": "code",
        "colab": {
          "base_uri": "https://localhost:8080/",
          "height": 51
        },
        "outputId": "e4fb4d97-3118-43c3-cdf3-da2c872147cd"
      },
      "source": [
        "print('%.3f' % 0.123456789)\n",
        "print('%.3f' % 123456789)"
      ],
      "execution_count": 52,
      "outputs": [
        {
          "output_type": "stream",
          "text": [
            "0.123\n",
            "123456789.000\n"
          ],
          "name": "stdout"
        }
      ]
    },
    {
      "cell_type": "code",
      "metadata": {
        "id": "TnTTwG0j85Kw",
        "colab_type": "code",
        "colab": {}
      },
      "source": [
        "df.to_csv('./??.csv', float_format='%.3e')\n",
        "df.to_csv('./??.csv', float_format='%.3f')"
      ],
      "execution_count": null,
      "outputs": []
    },
    {
      "cell_type": "markdown",
      "metadata": {
        "id": "R0f2C_wq9Nn_",
        "colab_type": "text"
      },
      "source": [
        "## optional format ! "
      ]
    },
    {
      "cell_type": "code",
      "metadata": {
        "id": "x6NP0a9S9QJF",
        "colab_type": "code",
        "colab": {}
      },
      "source": [
        "df['col1' ] = df['col1'].map('{:3.f}'.format)\n",
        "df['col2'] = df['col2'].map('{:.3e'.format)\n",
        "df['col3'] = df['col3'].map('{:#010x}'.format)"
      ],
      "execution_count": null,
      "outputs": []
    }
  ]
}