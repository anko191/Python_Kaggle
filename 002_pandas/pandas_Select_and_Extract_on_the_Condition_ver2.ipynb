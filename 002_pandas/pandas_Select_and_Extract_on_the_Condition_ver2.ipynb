{
  "nbformat": 4,
  "nbformat_minor": 0,
  "metadata": {
    "colab": {
      "name": "pandas_Select_and_Extract_on_the_Condition",
      "provenance": [],
      "collapsed_sections": [],
      "authorship_tag": "ABX9TyMoH/wF9ec9zabOz0Neb+8v",
      "include_colab_link": true
    },
    "kernelspec": {
      "name": "python3",
      "display_name": "Python 3"
    }
  },
  "cells": [
    {
      "cell_type": "markdown",
      "metadata": {
        "id": "view-in-github",
        "colab_type": "text"
      },
      "source": [
        "<a href=\"https://colab.research.google.com/github/anko191/Python_Kaggle/blob/master/pandas_Select_and_Extract_on_the_Condition.ipynb\" target=\"_parent\"><img src=\"https://colab.research.google.com/assets/colab-badge.svg\" alt=\"Open In Colab\"/></a>"
      ]
    },
    {
      "cell_type": "markdown",
      "metadata": {
        "id": "z4yKDtvE2OQp",
        "colab_type": "text"
      },
      "source": [
        "# Select and Extract rows, columns and elements on the condition"
      ]
    },
    {
      "cell_type": "code",
      "metadata": {
        "id": "f0UEiHVw3TLx",
        "colab_type": "code",
        "colab": {
          "base_uri": "https://localhost:8080/",
          "height": 136
        },
        "outputId": "80e13706-3e3a-42e8-e123-14268dc4372a"
      },
      "source": [
        "import pandas as pd\n",
        "df = pd.read_csv('./sample_pandas_normal.csv')\n",
        "print(df)"
      ],
      "execution_count": null,
      "outputs": [
        {
          "output_type": "stream",
          "text": [
            "      name  age state  point\n",
            "0    Alice   24    NY     64\n",
            "1      Bob   42    CA     92\n",
            "2  Charlie   18    CA     70\n",
            "3     Dave   68    TX     70\n",
            "4    Ellen   24    CA     88\n",
            "5    Frank   30    NY     57\n"
          ],
          "name": "stdout"
        }
      ]
    },
    {
      "cell_type": "markdown",
      "metadata": {
        "id": "K822WsHO3wr1",
        "colab_type": "text"
      },
      "source": [
        "## numexpr\n",
        "## !pip install numexpr if data the ten thousand over"
      ]
    },
    {
      "cell_type": "markdown",
      "metadata": {
        "id": "kw4JWixF4MMR",
        "colab_type": "text"
      },
      "source": [
        "## Comparison operator"
      ]
    },
    {
      "cell_type": "code",
      "metadata": {
        "id": "VeittjI93tnd",
        "colab_type": "code",
        "colab": {
          "base_uri": "https://localhost:8080/",
          "height": 85
        },
        "outputId": "a829e223-4fea-4d78-d759-382bbdfa36fb"
      },
      "source": [
        "print(df[df['age'] < 25])"
      ],
      "execution_count": null,
      "outputs": [
        {
          "output_type": "stream",
          "text": [
            "      name  age state  point\n",
            "0    Alice   24    NY     64\n",
            "2  Charlie   18    CA     70\n",
            "4    Ellen   24    CA     88\n"
          ],
          "name": "stdout"
        }
      ]
    },
    {
      "cell_type": "markdown",
      "metadata": {
        "id": "fXyQEpbz4ULw",
        "colab_type": "text"
      },
      "source": [
        "## in query mode"
      ]
    },
    {
      "cell_type": "code",
      "metadata": {
        "id": "NmDK20mi4Qz8",
        "colab_type": "code",
        "colab": {
          "base_uri": "https://localhost:8080/",
          "height": 85
        },
        "outputId": "e2e62402-f021-45c6-b208-949025e5a27c"
      },
      "source": [
        "print(df.query('age < 25'))"
      ],
      "execution_count": null,
      "outputs": [
        {
          "output_type": "stream",
          "text": [
            "      name  age state  point\n",
            "0    Alice   24    NY     64\n",
            "2  Charlie   18    CA     70\n",
            "4    Ellen   24    CA     88\n"
          ],
          "name": "stdout"
        }
      ]
    },
    {
      "cell_type": "markdown",
      "metadata": {
        "id": "f4RLQds_4WN3",
        "colab_type": "text"
      },
      "source": [
        "## not"
      ]
    },
    {
      "cell_type": "code",
      "metadata": {
        "id": "VU5s7T0g4Tgy",
        "colab_type": "code",
        "colab": {
          "base_uri": "https://localhost:8080/",
          "height": 85
        },
        "outputId": "99475526-209a-4e19-886f-30d04f98ab9e"
      },
      "source": [
        "print(df.query('not age < 25'))"
      ],
      "execution_count": null,
      "outputs": [
        {
          "output_type": "stream",
          "text": [
            "    name  age state  point\n",
            "1    Bob   42    CA     92\n",
            "3   Dave   68    TX     70\n",
            "5  Frank   30    NY     57\n"
          ],
          "name": "stdout"
        }
      ]
    },
    {
      "cell_type": "markdown",
      "metadata": {
        "id": "7wU9uDhH4xqS",
        "colab_type": "text"
      },
      "source": [
        "## can compare one column with another column"
      ]
    },
    {
      "cell_type": "code",
      "metadata": {
        "id": "ZdtXqHkF4Y9i",
        "colab_type": "code",
        "colab": {
          "base_uri": "https://localhost:8080/",
          "height": 153
        },
        "outputId": "4f2798a3-2d7e-4f9a-e67a-1984597c2f34"
      },
      "source": [
        "print(df.query('24 <= age < 50'))\n",
        "print(df.query('age < point / 3'))"
      ],
      "execution_count": null,
      "outputs": [
        {
          "output_type": "stream",
          "text": [
            "    name  age state  point\n",
            "0  Alice   24    NY     64\n",
            "1    Bob   42    CA     92\n",
            "4  Ellen   24    CA     88\n",
            "5  Frank   30    NY     57\n",
            "      name  age state  point\n",
            "2  Charlie   18    CA     70\n",
            "4    Ellen   24    CA     88\n"
          ],
          "name": "stdout"
        }
      ]
    },
    {
      "cell_type": "markdown",
      "metadata": {
        "id": "1CCRay6j4w-q",
        "colab_type": "text"
      },
      "source": [
        "== and !="
      ]
    },
    {
      "cell_type": "code",
      "metadata": {
        "id": "VCXrFEg04v_Z",
        "colab_type": "code",
        "colab": {
          "base_uri": "https://localhost:8080/",
          "height": 153
        },
        "outputId": "bc0c8dbf-516b-4686-d9cb-67f78125a68e"
      },
      "source": [
        "print(df.query('state == \"CA\"'))\n",
        "print(df.query('state != \"CA\"'))"
      ],
      "execution_count": null,
      "outputs": [
        {
          "output_type": "stream",
          "text": [
            "      name  age state  point\n",
            "1      Bob   42    CA     92\n",
            "2  Charlie   18    CA     70\n",
            "4    Ellen   24    CA     88\n",
            "    name  age state  point\n",
            "0  Alice   24    NY     64\n",
            "3   Dave   68    TX     70\n",
            "5  Frank   30    NY     57\n"
          ],
          "name": "stdout"
        }
      ]
    },
    {
      "cell_type": "markdown",
      "metadata": {
        "id": "voV_pgZa5SIL",
        "colab_type": "text"
      },
      "source": [
        "## \"in\" operation\n",
        "isin() function"
      ]
    },
    {
      "cell_type": "code",
      "metadata": {
        "id": "kV8KMsTI5LVB",
        "colab_type": "code",
        "colab": {
          "base_uri": "https://localhost:8080/",
          "height": 85
        },
        "outputId": "f95e187a-b43b-4fec-acfc-c47f2aec3787"
      },
      "source": [
        "print(df[df['state'].isin(['NY','TX'])])"
      ],
      "execution_count": null,
      "outputs": [
        {
          "output_type": "stream",
          "text": [
            "    name  age state  point\n",
            "0  Alice   24    NY     64\n",
            "3   Dave   68    TX     70\n",
            "5  Frank   30    NY     57\n"
          ],
          "name": "stdout"
        }
      ]
    },
    {
      "cell_type": "markdown",
      "metadata": {
        "id": "qW8LnJAC5tTr",
        "colab_type": "text"
      },
      "source": [
        "## in query method can use \"in\""
      ]
    },
    {
      "cell_type": "code",
      "metadata": {
        "id": "Anek75I-5Zrq",
        "colab_type": "code",
        "colab": {
          "base_uri": "https://localhost:8080/",
          "height": 85
        },
        "outputId": "708fa00e-6fce-4185-b180-ee09daaaf00a"
      },
      "source": [
        "print(df.query('state in [\"NY\",\"TX\"]'))"
      ],
      "execution_count": null,
      "outputs": [
        {
          "output_type": "stream",
          "text": [
            "    name  age state  point\n",
            "0  Alice   24    NY     64\n",
            "3   Dave   68    TX     70\n",
            "5  Frank   30    NY     57\n"
          ],
          "name": "stdout"
        }
      ]
    },
    {
      "cell_type": "code",
      "metadata": {
        "id": "3GNEwH4e50Qx",
        "colab_type": "code",
        "colab": {
          "base_uri": "https://localhost:8080/",
          "height": 85
        },
        "outputId": "3106258a-5aff-489a-cd1d-262c943671b6"
      },
      "source": [
        "print(df.query('state == [\"NY\", \"TX\"]'))"
      ],
      "execution_count": null,
      "outputs": [
        {
          "output_type": "stream",
          "text": [
            "    name  age state  point\n",
            "0  Alice   24    NY     64\n",
            "3   Dave   68    TX     70\n",
            "5  Frank   30    NY     57\n"
          ],
          "name": "stdout"
        }
      ]
    },
    {
      "cell_type": "markdown",
      "metadata": {
        "id": "UpeRXKIZ559Q",
        "colab_type": "text"
      },
      "source": [
        "## Conditional designation in \"string method\"\n",
        "* str.contains() : including certain string \n",
        "* str.endswith() : end\n",
        "* str.startswith() : start\n",
        "* str.match() : matches the pattern of the regular expression"
      ]
    },
    {
      "cell_type": "code",
      "metadata": {
        "id": "JYBiB0uR54GK",
        "colab_type": "code",
        "colab": {
          "base_uri": "https://localhost:8080/",
          "height": 85
        },
        "outputId": "701a3698-3fce-47db-fc5c-f555fa9f6e82"
      },
      "source": [
        "print(df.query('name.str.endswith(\"e\")', engine = 'python'))"
      ],
      "execution_count": null,
      "outputs": [
        {
          "output_type": "stream",
          "text": [
            "      name  age state  point\n",
            "0    Alice   24    NY     64\n",
            "2  Charlie   18    CA     70\n",
            "3     Dave   68    TX     70\n"
          ],
          "name": "stdout"
        }
      ]
    },
    {
      "cell_type": "code",
      "metadata": {
        "id": "AELMJ_Hb6udl",
        "colab_type": "code",
        "colab": {
          "base_uri": "https://localhost:8080/",
          "height": 68
        },
        "outputId": "b2fc89f6-902b-411b-cf7c-d076dca56358"
      },
      "source": [
        "print(df.query('name.str.contains(\"li\")', engine = 'python'))"
      ],
      "execution_count": null,
      "outputs": [
        {
          "output_type": "stream",
          "text": [
            "      name  age state  point\n",
            "0    Alice   24    NY     64\n",
            "2  Charlie   18    CA     70\n"
          ],
          "name": "stdout"
        }
      ]
    },
    {
      "cell_type": "code",
      "metadata": {
        "id": "dZLEvZWE6003",
        "colab_type": "code",
        "colab": {
          "base_uri": "https://localhost:8080/",
          "height": 68
        },
        "outputId": "8be1ba96-3ac3-4a1e-cb8e-6386e9fad622"
      },
      "source": [
        "print(df.query('name.str.match(\".*i.*e\")', engine = 'python'))"
      ],
      "execution_count": null,
      "outputs": [
        {
          "output_type": "stream",
          "text": [
            "      name  age state  point\n",
            "0    Alice   24    NY     64\n",
            "2  Charlie   18    CA     70\n"
          ],
          "name": "stdout"
        }
      ]
    },
    {
      "cell_type": "code",
      "metadata": {
        "id": "b-rohrKV68tS",
        "colab_type": "code",
        "colab": {
          "base_uri": "https://localhost:8080/",
          "height": 68
        },
        "outputId": "42815ea0-53be-4565-a191-8134915317fb"
      },
      "source": [
        "print(df.query('age.astype(\"str\").str.endswith(\"8\")', engine = 'python'))"
      ],
      "execution_count": null,
      "outputs": [
        {
          "output_type": "stream",
          "text": [
            "      name  age state  point\n",
            "2  Charlie   18    CA     70\n",
            "3     Dave   68    TX     70\n"
          ],
          "name": "stdout"
        }
      ]
    },
    {
      "cell_type": "markdown",
      "metadata": {
        "id": "P68zDt7B7NUr",
        "colab_type": "text"
      },
      "source": [
        "## Note when there is a missing value NaN"
      ]
    },
    {
      "cell_type": "code",
      "metadata": {
        "id": "oNfvrOEX7L6y",
        "colab_type": "code",
        "colab": {}
      },
      "source": [
        "df.at[0,'name'] = None"
      ],
      "execution_count": null,
      "outputs": []
    },
    {
      "cell_type": "code",
      "metadata": {
        "id": "ECw3jzVN7VhE",
        "colab_type": "code",
        "colab": {
          "base_uri": "https://localhost:8080/",
          "height": 136
        },
        "outputId": "d29559ad-b283-4866-9c1e-7635552263d9"
      },
      "source": [
        "print(df)"
      ],
      "execution_count": null,
      "outputs": [
        {
          "output_type": "stream",
          "text": [
            "      name  age state  point\n",
            "0     None   24    NY     64\n",
            "1      Bob   42    CA     92\n",
            "2  Charlie   18    CA     70\n",
            "3     Dave   68    TX     70\n",
            "4    Ellen   24    CA     88\n",
            "5    Frank   30    NY     57\n"
          ],
          "name": "stdout"
        }
      ]
    },
    {
      "cell_type": "code",
      "metadata": {
        "id": "MU2GNY2U7WNh",
        "colab_type": "code",
        "colab": {
          "base_uri": "https://localhost:8080/",
          "height": 68
        },
        "outputId": "0c338b7f-e434-407f-9495-b7c1add35d9f"
      },
      "source": [
        "print(df[df['name'].str.endswith('e', na = False)]) # NaN is not contained"
      ],
      "execution_count": null,
      "outputs": [
        {
          "output_type": "stream",
          "text": [
            "      name  age state  point\n",
            "2  Charlie   18    CA     70\n",
            "3     Dave   68    TX     70\n"
          ],
          "name": "stdout"
        }
      ]
    },
    {
      "cell_type": "code",
      "metadata": {
        "id": "WgvyhoOj7eB5",
        "colab_type": "code",
        "colab": {
          "base_uri": "https://localhost:8080/",
          "height": 136
        },
        "outputId": "7006be88-73f1-48fa-eb3b-7aa95b90029c"
      },
      "source": [
        "df['name'].fillna('Alice', inplace = True)\n",
        "print(df)"
      ],
      "execution_count": null,
      "outputs": [
        {
          "output_type": "stream",
          "text": [
            "      name  age state  point\n",
            "0    Alice   24    NY     64\n",
            "1      Bob   42    CA     92\n",
            "2  Charlie   18    CA     70\n",
            "3     Dave   68    TX     70\n",
            "4    Ellen   24    CA     88\n",
            "5    Frank   30    NY     57\n"
          ],
          "name": "stdout"
        }
      ]
    },
    {
      "cell_type": "markdown",
      "metadata": {
        "id": "itHWuYI47s8q",
        "colab_type": "text"
      },
      "source": [
        "## to index columns\n",
        "\"index\""
      ]
    },
    {
      "cell_type": "code",
      "metadata": {
        "id": "w1kAQ_gB7rkL",
        "colab_type": "code",
        "colab": {
          "base_uri": "https://localhost:8080/",
          "height": 85
        },
        "outputId": "1f01d708-2c86-45ae-f361-d6c11c942d10"
      },
      "source": [
        "print(df.query('index % 2 == 0'))"
      ],
      "execution_count": null,
      "outputs": [
        {
          "output_type": "stream",
          "text": [
            "      name  age state  point\n",
            "0    Alice   24    NY     64\n",
            "2  Charlie   18    CA     70\n",
            "4    Ellen   24    CA     88\n"
          ],
          "name": "stdout"
        }
      ]
    },
    {
      "cell_type": "markdown",
      "metadata": {
        "id": "fKAHeIkk729I",
        "colab_type": "text"
      },
      "source": [
        "## set_index()"
      ]
    },
    {
      "cell_type": "code",
      "metadata": {
        "id": "87U8WdGm7xPx",
        "colab_type": "code",
        "colab": {
          "base_uri": "https://localhost:8080/",
          "height": 153
        },
        "outputId": "791c5050-a55a-4dfb-90a1-ae860b3667b1"
      },
      "source": [
        "df_name = df.set_index('name')\n",
        "print(df_name)"
      ],
      "execution_count": null,
      "outputs": [
        {
          "output_type": "stream",
          "text": [
            "         age state  point\n",
            "name                     \n",
            "Alice     24    NY     64\n",
            "Bob       42    CA     92\n",
            "Charlie   18    CA     70\n",
            "Dave      68    TX     70\n",
            "Ellen     24    CA     88\n",
            "Frank     30    NY     57\n"
          ],
          "name": "stdout"
        }
      ]
    },
    {
      "cell_type": "code",
      "metadata": {
        "id": "y42Jh4sB767K",
        "colab_type": "code",
        "colab": {
          "base_uri": "https://localhost:8080/",
          "height": 102
        },
        "outputId": "86a530dc-6773-432c-c934-591795b774e6"
      },
      "source": [
        "print(df_name.query('name.str.endswith(\"e\")', engine = 'python'))"
      ],
      "execution_count": null,
      "outputs": [
        {
          "output_type": "stream",
          "text": [
            "         age state  point\n",
            "name                     \n",
            "Alice     24    NY     64\n",
            "Charlie   18    CA     70\n",
            "Dave      68    TX     70\n"
          ],
          "name": "stdout"
        }
      ]
    },
    {
      "cell_type": "code",
      "metadata": {
        "id": "26SZujAL8BoT",
        "colab_type": "code",
        "colab": {
          "base_uri": "https://localhost:8080/",
          "height": 102
        },
        "outputId": "682e3237-f58d-4a8d-9808-d9f22ddc1c82"
      },
      "source": [
        "print(df_name.query('index.str.endswith(\"e\")', engine = 'python'))"
      ],
      "execution_count": null,
      "outputs": [
        {
          "output_type": "stream",
          "text": [
            "         age state  point\n",
            "name                     \n",
            "Alice     24    NY     64\n",
            "Charlie   18    CA     70\n",
            "Dave      68    TX     70\n"
          ],
          "name": "stdout"
        }
      ]
    },
    {
      "cell_type": "markdown",
      "metadata": {
        "id": "N5j1zqus8MfW",
        "colab_type": "text"
      },
      "source": [
        "## use \"variable numerics\"\n",
        "using \"@\" !!"
      ]
    },
    {
      "cell_type": "code",
      "metadata": {
        "id": "tVpBzErP8JCp",
        "colab_type": "code",
        "colab": {
          "base_uri": "https://localhost:8080/",
          "height": 68
        },
        "outputId": "f0ce9bad-5d0f-4739-e92a-d53632f95924"
      },
      "source": [
        "val = 80\n",
        "print(df.query('point > @val'))"
      ],
      "execution_count": null,
      "outputs": [
        {
          "output_type": "stream",
          "text": [
            "    name  age state  point\n",
            "1    Bob   42    CA     92\n",
            "4  Ellen   24    CA     88\n"
          ],
          "name": "stdout"
        }
      ]
    },
    {
      "cell_type": "markdown",
      "metadata": {
        "id": "sPfK9_Ga8VQd",
        "colab_type": "text"
      },
      "source": [
        "### multiple condition & or |"
      ]
    },
    {
      "cell_type": "code",
      "metadata": {
        "id": "kN8Q8SWN8Tux",
        "colab_type": "code",
        "colab": {
          "base_uri": "https://localhost:8080/",
          "height": 68
        },
        "outputId": "254e4982-6cbc-4bb7-8218-891e3f4e0d13"
      },
      "source": [
        "print(df[(df['age'] < 25) & (df['point'] > 65)])"
      ],
      "execution_count": null,
      "outputs": [
        {
          "output_type": "stream",
          "text": [
            "      name  age state  point\n",
            "2  Charlie   18    CA     70\n",
            "4    Ellen   24    CA     88\n"
          ],
          "name": "stdout"
        }
      ]
    },
    {
      "cell_type": "code",
      "metadata": {
        "id": "06uNvwMV8eeb",
        "colab_type": "code",
        "colab": {
          "base_uri": "https://localhost:8080/",
          "height": 119
        },
        "outputId": "70a4f1c2-71d3-4150-f61a-23a12abf0198"
      },
      "source": [
        "print(df.query('age < 25 & point > 65'))\n",
        "print(df.query('age < 25 and point > 65'))"
      ],
      "execution_count": null,
      "outputs": [
        {
          "output_type": "stream",
          "text": [
            "      name  age state  point\n",
            "2  Charlie   18    CA     70\n",
            "4    Ellen   24    CA     88\n",
            "      name  age state  point\n",
            "2  Charlie   18    CA     70\n",
            "4    Ellen   24    CA     88\n"
          ],
          "name": "stdout"
        }
      ]
    },
    {
      "cell_type": "code",
      "metadata": {
        "id": "53D8_ps78kuK",
        "colab_type": "code",
        "colab": {
          "base_uri": "https://localhost:8080/",
          "height": 221
        },
        "outputId": "b202a7f7-c55b-4b4d-fe3a-6332aa2ccfe9"
      },
      "source": [
        "print(df.query('age < 25 | point > 65'))\n",
        "print(df.query('age < 25 or point > 65'))"
      ],
      "execution_count": null,
      "outputs": [
        {
          "output_type": "stream",
          "text": [
            "      name  age state  point\n",
            "0    Alice   24    NY     64\n",
            "1      Bob   42    CA     92\n",
            "2  Charlie   18    CA     70\n",
            "3     Dave   68    TX     70\n",
            "4    Ellen   24    CA     88\n",
            "      name  age state  point\n",
            "0    Alice   24    NY     64\n",
            "1      Bob   42    CA     92\n",
            "2  Charlie   18    CA     70\n",
            "3     Dave   68    TX     70\n",
            "4    Ellen   24    CA     88\n"
          ],
          "name": "stdout"
        }
      ]
    },
    {
      "cell_type": "code",
      "metadata": {
        "id": "x6D1hTl28tWY",
        "colab_type": "code",
        "colab": {
          "base_uri": "https://localhost:8080/",
          "height": 170
        },
        "outputId": "8b0963d7-ed4c-4314-ae55-c5c04a763189"
      },
      "source": [
        "print(df.query('not age < 25 and not point > 65'))\n",
        "print(df.query('age == 24 | point > 80 & state == \"CA\"'))\n",
        "print(df.query('(age == 24 | point > 80) & state == \"CA\"'))"
      ],
      "execution_count": null,
      "outputs": [
        {
          "output_type": "stream",
          "text": [
            "    name  age state  point\n",
            "5  Frank   30    NY     57\n",
            "    name  age state  point\n",
            "0  Alice   24    NY     64\n",
            "1    Bob   42    CA     92\n",
            "4  Ellen   24    CA     88\n",
            "    name  age state  point\n",
            "1    Bob   42    CA     92\n",
            "4  Ellen   24    CA     88\n"
          ],
          "name": "stdout"
        }
      ]
    },
    {
      "cell_type": "markdown",
      "metadata": {
        "id": "yeL_db9P9Wht",
        "colab_type": "text"
      },
      "source": [
        "## Notes on the query method"
      ]
    },
    {
      "cell_type": "code",
      "metadata": {
        "id": "mbG_rLBZ9Mis",
        "colab_type": "code",
        "colab": {
          "base_uri": "https://localhost:8080/",
          "height": 136
        },
        "outputId": "7acb12cb-55ca-4659-d3fa-2258745681a5"
      },
      "source": [
        "df.columns = ['名前', 'age.year', 'state name', 3]\n",
        "print(df)"
      ],
      "execution_count": null,
      "outputs": [
        {
          "output_type": "stream",
          "text": [
            "        名前  age.year state name   3\n",
            "0    Alice        24         NY  64\n",
            "1      Bob        42         CA  92\n",
            "2  Charlie        18         CA  70\n",
            "3     Dave        68         TX  70\n",
            "4    Ellen        24         CA  88\n",
            "5    Frank        30         NY  57\n"
          ],
          "name": "stdout"
        }
      ]
    },
    {
      "cell_type": "markdown",
      "metadata": {
        "id": "RDLNs8X89iig",
        "colab_type": "text"
      },
      "source": [
        "### Japanese ok"
      ]
    },
    {
      "cell_type": "code",
      "metadata": {
        "id": "WzuaV_rK9gFp",
        "colab_type": "code",
        "colab": {
          "base_uri": "https://localhost:8080/",
          "height": 119
        },
        "outputId": "2365a9e4-e720-44a8-f0a9-2e38cbe47620"
      },
      "source": [
        "print(df.query('名前 == [\"Alice\", \"Dave\"]'))\n",
        "print(df.query('名前.str.contains(\"li\")', engine = 'python'))"
      ],
      "execution_count": null,
      "outputs": [
        {
          "output_type": "stream",
          "text": [
            "      名前  age.year state name   3\n",
            "0  Alice        24         NY  64\n",
            "3   Dave        68         TX  70\n",
            "        名前  age.year state name   3\n",
            "0    Alice        24         NY  64\n",
            "2  Charlie        18         CA  70\n"
          ],
          "name": "stdout"
        }
      ]
    },
    {
      "cell_type": "markdown",
      "metadata": {
        "id": "lg5XfHXG9tEb",
        "colab_type": "text"
      },
      "source": [
        "## but . and space \" \" containing is NG"
      ]
    },
    {
      "cell_type": "code",
      "metadata": {
        "id": "I1hnPuQS9saz",
        "colab_type": "code",
        "colab": {}
      },
      "source": [
        "# print(df.query('age.year < 25'))\n",
        "# UndefinedVariableError: name 'age' is not defined\n",
        "\n",
        "# print(df.query('state name == \"CA\"'))\n",
        "# SyntaxError: invalid syntax\n",
        "\n",
        "# print(df.query('3 > 75'))\n",
        "# KeyError: False"
      ],
      "execution_count": null,
      "outputs": []
    },
    {
      "cell_type": "markdown",
      "metadata": {
        "id": "AG6MOiqF90Mv",
        "colab_type": "text"
      },
      "source": [
        "## but boolindex is ok"
      ]
    },
    {
      "cell_type": "code",
      "metadata": {
        "id": "JR5Rg4Qb9y9K",
        "colab_type": "code",
        "colab": {
          "base_uri": "https://localhost:8080/",
          "height": 204
        },
        "outputId": "cae89541-ce39-47dd-e118-bef16261479f"
      },
      "source": [
        "print(df[df['age.year'] < 25])\n",
        "print(df[df['state name'] == 'CA'])\n",
        "print(df[df[3] > 75])"
      ],
      "execution_count": null,
      "outputs": [
        {
          "output_type": "stream",
          "text": [
            "        名前  age.year state name   3\n",
            "0    Alice        24         NY  64\n",
            "2  Charlie        18         CA  70\n",
            "4    Ellen        24         CA  88\n",
            "        名前  age.year state name   3\n",
            "1      Bob        42         CA  92\n",
            "2  Charlie        18         CA  70\n",
            "4    Ellen        24         CA  88\n",
            "      名前  age.year state name   3\n",
            "1    Bob        42         CA  92\n",
            "4  Ellen        24         CA  88\n"
          ],
          "name": "stdout"
        }
      ]
    },
    {
      "cell_type": "markdown",
      "metadata": {
        "id": "KK6Uw_eK9-8T",
        "colab_type": "text"
      },
      "source": [
        "## can change \"rename()\""
      ]
    },
    {
      "cell_type": "code",
      "metadata": {
        "id": "5HrNhXfr97o5",
        "colab_type": "code",
        "colab": {
          "base_uri": "https://localhost:8080/",
          "height": 136
        },
        "outputId": "6b8892a0-fc13-4263-8e5c-1b7f4fdaa622"
      },
      "source": [
        "df.rename(columns = {3:'point'}, inplace = True)\n",
        "print(df)"
      ],
      "execution_count": null,
      "outputs": [
        {
          "output_type": "stream",
          "text": [
            "        名前  age.year state name  point\n",
            "0    Alice        24         NY     64\n",
            "1      Bob        42         CA     92\n",
            "2  Charlie        18         CA     70\n",
            "3     Dave        68         TX     70\n",
            "4    Ellen        24         CA     88\n",
            "5    Frank        30         NY     57\n"
          ],
          "name": "stdout"
        }
      ]
    },
    {
      "cell_type": "markdown",
      "metadata": {
        "id": "5vaWrdwN-Q4D",
        "colab_type": "text"
      },
      "source": [
        "## can use replace()"
      ]
    },
    {
      "cell_type": "code",
      "metadata": {
        "id": "lX9mK3s4-OYS",
        "colab_type": "code",
        "colab": {
          "base_uri": "https://localhost:8080/",
          "height": 136
        },
        "outputId": "920b87f2-ad60-43c1-a8ce-2e424d8ccac7"
      },
      "source": [
        "df.columns = [str(s).replace(' ', '_').replace('.','_') for s in df.columns]\n",
        "print(df)"
      ],
      "execution_count": null,
      "outputs": [
        {
          "output_type": "stream",
          "text": [
            "        名前  age_year state_name  point\n",
            "0    Alice        24         NY     64\n",
            "1      Bob        42         CA     92\n",
            "2  Charlie        18         CA     70\n",
            "3     Dave        68         TX     70\n",
            "4    Ellen        24         CA     88\n",
            "5    Frank        30         NY     57\n"
          ],
          "name": "stdout"
        }
      ]
    },
    {
      "cell_type": "markdown",
      "metadata": {
        "id": "7xFbyoiq-c0m",
        "colab_type": "text"
      },
      "source": [
        "### renew in \"inplace = True\""
      ]
    },
    {
      "cell_type": "code",
      "metadata": {
        "id": "om8jPMLH-Z2J",
        "colab_type": "code",
        "colab": {
          "base_uri": "https://localhost:8080/",
          "height": 85
        },
        "outputId": "c8a9a728-fd45-4841-d2fc-ba0ead996460"
      },
      "source": [
        "df.query('age_year > 25', inplace = True)\n",
        "print(df)"
      ],
      "execution_count": null,
      "outputs": [
        {
          "output_type": "stream",
          "text": [
            "      名前  age_year state_name  point\n",
            "1    Bob        42         CA     92\n",
            "3   Dave        68         TX     70\n",
            "5  Frank        30         NY     57\n"
          ],
          "name": "stdout"
        }
      ]
    },
    {
      "cell_type": "markdown",
      "metadata": {
        "id": "gAGiAr2JC88K",
        "colab_type": "text"
      },
      "source": [
        "# Extract rows, AND, OR, NOT"
      ]
    },
    {
      "cell_type": "code",
      "metadata": {
        "id": "-wPr_9-w-iLq",
        "colab_type": "code",
        "colab": {
          "base_uri": "https://localhost:8080/",
          "height": 136
        },
        "outputId": "4988b983-a0f0-40e7-e379-800b0f8f75d1"
      },
      "source": [
        "import pandas as pd\n",
        "df = pd.read_csv('/content/sample_pandas_normal.csv')\n",
        "print(df)"
      ],
      "execution_count": 1,
      "outputs": [
        {
          "output_type": "stream",
          "text": [
            "      name  age state  point\n",
            "0    Alice   24    NY     64\n",
            "1      Bob   42    CA     92\n",
            "2  Charlie   18    CA     70\n",
            "3     Dave   68    TX     70\n",
            "4    Ellen   24    CA     88\n",
            "5    Frank   30    NY     57\n"
          ],
          "name": "stdout"
        }
      ]
    },
    {
      "cell_type": "code",
      "metadata": {
        "id": "r79B7dDTlk4g",
        "colab_type": "code",
        "colab": {
          "base_uri": "https://localhost:8080/",
          "height": 85
        },
        "outputId": "0aa96f90-5b05-4280-fbad-168e22f2f226"
      },
      "source": [
        "mask = [True, False, True, False, True, False]\n",
        "df_mask = df[mask]\n",
        "print(df_mask)"
      ],
      "execution_count": 2,
      "outputs": [
        {
          "output_type": "stream",
          "text": [
            "      name  age state  point\n",
            "0    Alice   24    NY     64\n",
            "2  Charlie   18    CA     70\n",
            "4    Ellen   24    CA     88\n"
          ],
          "name": "stdout"
        }
      ]
    },
    {
      "cell_type": "code",
      "metadata": {
        "id": "UgS-K46MlrpN",
        "colab_type": "code",
        "colab": {
          "base_uri": "https://localhost:8080/",
          "height": 255
        },
        "outputId": "d5362ec9-5954-4a0a-e29f-bf5a803f1fe2"
      },
      "source": [
        "print(df['age'] < 35)\n",
        "print(~(df['state'] == 'NY'))"
      ],
      "execution_count": 3,
      "outputs": [
        {
          "output_type": "stream",
          "text": [
            "0     True\n",
            "1    False\n",
            "2     True\n",
            "3    False\n",
            "4     True\n",
            "5     True\n",
            "Name: age, dtype: bool\n",
            "0    False\n",
            "1     True\n",
            "2     True\n",
            "3     True\n",
            "4     True\n",
            "5    False\n",
            "Name: state, dtype: bool\n"
          ],
          "name": "stdout"
        }
      ]
    },
    {
      "cell_type": "code",
      "metadata": {
        "id": "ALD-iWiGl9tM",
        "colab_type": "code",
        "colab": {
          "base_uri": "https://localhost:8080/",
          "height": 136
        },
        "outputId": "cea18d44-b0c8-4624-b85e-bc9dbe0e9dcd"
      },
      "source": [
        "print((df['age'] < 35) & ~(df['state' ] == 'NY'))"
      ],
      "execution_count": 4,
      "outputs": [
        {
          "output_type": "stream",
          "text": [
            "0    False\n",
            "1    False\n",
            "2     True\n",
            "3    False\n",
            "4     True\n",
            "5    False\n",
            "dtype: bool\n"
          ],
          "name": "stdout"
        }
      ]
    },
    {
      "cell_type": "code",
      "metadata": {
        "id": "NzOktEi3mGZU",
        "colab_type": "code",
        "colab": {
          "base_uri": "https://localhost:8080/",
          "height": 68
        },
        "outputId": "5a8cd757-0428-4816-9492-3af716c76bfe"
      },
      "source": [
        "df_and = df[(df['age'] < 35) & ~(df['state'] == 'NY')]\n",
        "print(df_and)"
      ],
      "execution_count": 5,
      "outputs": [
        {
          "output_type": "stream",
          "text": [
            "      name  age state  point\n",
            "2  Charlie   18    CA     70\n",
            "4    Ellen   24    CA     88\n"
          ],
          "name": "stdout"
        }
      ]
    },
    {
      "cell_type": "code",
      "metadata": {
        "id": "tUuhWi4vmhKs",
        "colab_type": "code",
        "colab": {
          "base_uri": "https://localhost:8080/",
          "height": 136
        },
        "outputId": "39b03d94-35bb-49f9-99ca-718b3a897828"
      },
      "source": [
        "print((df['age'] < 20) | (df['point'] > 90))"
      ],
      "execution_count": 8,
      "outputs": [
        {
          "output_type": "stream",
          "text": [
            "0    False\n",
            "1     True\n",
            "2     True\n",
            "3    False\n",
            "4    False\n",
            "5    False\n",
            "dtype: bool\n"
          ],
          "name": "stdout"
        }
      ]
    },
    {
      "cell_type": "code",
      "metadata": {
        "id": "Dfmt0F7_m0xU",
        "colab_type": "code",
        "colab": {
          "base_uri": "https://localhost:8080/",
          "height": 68
        },
        "outputId": "12d70995-833a-4c10-fb67-ac86ceddba2b"
      },
      "source": [
        "df_or = df[(df['age'] < 20) | (df['point'] > 90)]\n",
        "print(df_or)"
      ],
      "execution_count": 9,
      "outputs": [
        {
          "output_type": "stream",
          "text": [
            "      name  age state  point\n",
            "1      Bob   42    CA     92\n",
            "2  Charlie   18    CA     70\n"
          ],
          "name": "stdout"
        }
      ]
    },
    {
      "cell_type": "code",
      "metadata": {
        "id": "QFz-_5mmm5IU",
        "colab_type": "code",
        "colab": {
          "base_uri": "https://localhost:8080/",
          "height": 85
        },
        "outputId": "ce9c9d19-0a31-4b03-9720-4e37dfae5cff"
      },
      "source": [
        "import pandas as pd\n",
        "df = pd.read_csv('/content/sample_pandas_normal.csv').head(3)\n",
        "print(df)"
      ],
      "execution_count": 10,
      "outputs": [
        {
          "output_type": "stream",
          "text": [
            "      name  age state  point\n",
            "0    Alice   24    NY     64\n",
            "1      Bob   42    CA     92\n",
            "2  Charlie   18    CA     70\n"
          ],
          "name": "stdout"
        }
      ]
    },
    {
      "cell_type": "code",
      "metadata": {
        "id": "euLyN0MunyYW",
        "colab_type": "code",
        "colab": {
          "base_uri": "https://localhost:8080/",
          "height": 68
        },
        "outputId": "e19b5501-9b8b-436e-89db-20040f989e77"
      },
      "source": [
        "mask = [True, False, True]\n",
        "df_mask = df[mask]\n",
        "print(df_mask)"
      ],
      "execution_count": 11,
      "outputs": [
        {
          "output_type": "stream",
          "text": [
            "      name  age state  point\n",
            "0    Alice   24    NY     64\n",
            "2  Charlie   18    CA     70\n"
          ],
          "name": "stdout"
        }
      ]
    },
    {
      "cell_type": "code",
      "metadata": {
        "id": "AUKHfFYIoEdN",
        "colab_type": "code",
        "colab": {
          "base_uri": "https://localhost:8080/",
          "height": 136
        },
        "outputId": "7e175bc0-de45-49ca-d912-7bec635da27e"
      },
      "source": [
        "print(df['state'] == 'CA')\n",
        "print(df[df['state'] == 'CA'])"
      ],
      "execution_count": 12,
      "outputs": [
        {
          "output_type": "stream",
          "text": [
            "0    False\n",
            "1     True\n",
            "2     True\n",
            "Name: state, dtype: bool\n",
            "      name  age state  point\n",
            "1      Bob   42    CA     92\n",
            "2  Charlie   18    CA     70\n"
          ],
          "name": "stdout"
        }
      ]
    },
    {
      "cell_type": "code",
      "metadata": {
        "id": "sZCs0sgHoKYM",
        "colab_type": "code",
        "colab": {
          "base_uri": "https://localhost:8080/",
          "height": 85
        },
        "outputId": "2cd86c49-914e-47fe-9a9f-97d47640a90b"
      },
      "source": [
        "print(df['name'].str.contains('li'))"
      ],
      "execution_count": 13,
      "outputs": [
        {
          "output_type": "stream",
          "text": [
            "0     True\n",
            "1    False\n",
            "2     True\n",
            "Name: name, dtype: bool\n"
          ],
          "name": "stdout"
        }
      ]
    },
    {
      "cell_type": "code",
      "metadata": {
        "id": "ZnlVSdMPoYWs",
        "colab_type": "code",
        "colab": {
          "base_uri": "https://localhost:8080/",
          "height": 85
        },
        "outputId": "c6613ff6-e331-49fa-db44-010830b3a349"
      },
      "source": [
        "df_nan = df.copy()\n",
        "df_nan.iloc[2,0] = float('nan')\n",
        "print(df_nan)"
      ],
      "execution_count": 14,
      "outputs": [
        {
          "output_type": "stream",
          "text": [
            "    name  age state  point\n",
            "0  Alice   24    NY     64\n",
            "1    Bob   42    CA     92\n",
            "2    NaN   18    CA     70\n"
          ],
          "name": "stdout"
        }
      ]
    },
    {
      "cell_type": "code",
      "metadata": {
        "id": "GDHC8RyQog7N",
        "colab_type": "code",
        "colab": {
          "base_uri": "https://localhost:8080/",
          "height": 85
        },
        "outputId": "a799936e-e019-4a69-f760-e4c1e5fcc25f"
      },
      "source": [
        "print(df_nan['name'].str.contains('li', na = False))"
      ],
      "execution_count": 15,
      "outputs": [
        {
          "output_type": "stream",
          "text": [
            "0     True\n",
            "1    False\n",
            "2    False\n",
            "Name: name, dtype: bool\n"
          ],
          "name": "stdout"
        }
      ]
    },
    {
      "cell_type": "code",
      "metadata": {
        "id": "EKvFoARWoxX8",
        "colab_type": "code",
        "colab": {
          "base_uri": "https://localhost:8080/",
          "height": 85
        },
        "outputId": "4ee576d0-f477-4ff3-d04d-327fde971355"
      },
      "source": [
        "print(df_nan['name'].str.contains('li', na = True))"
      ],
      "execution_count": 16,
      "outputs": [
        {
          "output_type": "stream",
          "text": [
            "0     True\n",
            "1    False\n",
            "2     True\n",
            "Name: name, dtype: bool\n"
          ],
          "name": "stdout"
        }
      ]
    },
    {
      "cell_type": "code",
      "metadata": {
        "id": "s6B788VLo1Ym",
        "colab_type": "code",
        "colab": {
          "base_uri": "https://localhost:8080/",
          "height": 153
        },
        "outputId": "acb10d1d-a5d5-41ab-eb87-3ab5e8165e40"
      },
      "source": [
        "print(df['name'].str.contains('LI'))\n",
        "# case = False dont distinguish\n",
        "print(df['name'].str.contains('LI', case = False))"
      ],
      "execution_count": 17,
      "outputs": [
        {
          "output_type": "stream",
          "text": [
            "0    False\n",
            "1    False\n",
            "2    False\n",
            "Name: name, dtype: bool\n",
            "0     True\n",
            "1    False\n",
            "2     True\n",
            "Name: name, dtype: bool\n"
          ],
          "name": "stdout"
        }
      ]
    },
    {
      "cell_type": "code",
      "metadata": {
        "id": "_hzImY3mpDr1",
        "colab_type": "code",
        "colab": {
          "base_uri": "https://localhost:8080/",
          "height": 153
        },
        "outputId": "830e2b62-7c28-4069-bbf0-75bcab37eb38"
      },
      "source": [
        "print(df['name'].str.contains('i.*e'))\n",
        "print(df['name'].str.contains('i.*e', regex = False))"
      ],
      "execution_count": 18,
      "outputs": [
        {
          "output_type": "stream",
          "text": [
            "0     True\n",
            "1    False\n",
            "2     True\n",
            "Name: name, dtype: bool\n",
            "0    False\n",
            "1    False\n",
            "2    False\n",
            "Name: name, dtype: bool\n"
          ],
          "name": "stdout"
        }
      ]
    },
    {
      "cell_type": "code",
      "metadata": {
        "id": "iUzqRv9kpc_F",
        "colab_type": "code",
        "colab": {}
      },
      "source": [
        "df_q = df.copy()"
      ],
      "execution_count": 19,
      "outputs": []
    },
    {
      "cell_type": "code",
      "metadata": {
        "id": "2w4qtZ_5teYd",
        "colab_type": "code",
        "colab": {
          "base_uri": "https://localhost:8080/",
          "height": 221
        },
        "outputId": "869b9fa3-3d82-4fe6-ca9a-6b2e29b59c8c"
      },
      "source": [
        "df_q.iloc[2,0] += '?'\n",
        "print(df_q)\n",
        "print(df_q['name'].str.contains('?', regex = False))\n",
        "print(df_q['name'].str.contains('\\?'))"
      ],
      "execution_count": 20,
      "outputs": [
        {
          "output_type": "stream",
          "text": [
            "       name  age state  point\n",
            "0     Alice   24    NY     64\n",
            "1       Bob   42    CA     92\n",
            "2  Charlie?   18    CA     70\n",
            "0    False\n",
            "1    False\n",
            "2     True\n",
            "Name: name, dtype: bool\n",
            "0    False\n",
            "1    False\n",
            "2     True\n",
            "Name: name, dtype: bool\n"
          ],
          "name": "stdout"
        }
      ]
    },
    {
      "cell_type": "code",
      "metadata": {
        "id": "zWtTNIsCtmyH",
        "colab_type": "code",
        "colab": {
          "base_uri": "https://localhost:8080/",
          "height": 136
        },
        "outputId": "bfee2d9f-d970-452c-c807-ea5150cd2326"
      },
      "source": [
        "print(df['name'].str.endswith('e'))\n",
        "print(df[df['name'].str.endswith('e')])"
      ],
      "execution_count": 21,
      "outputs": [
        {
          "output_type": "stream",
          "text": [
            "0     True\n",
            "1    False\n",
            "2     True\n",
            "Name: name, dtype: bool\n",
            "      name  age state  point\n",
            "0    Alice   24    NY     64\n",
            "2  Charlie   18    CA     70\n"
          ],
          "name": "stdout"
        }
      ]
    },
    {
      "cell_type": "code",
      "metadata": {
        "id": "nomugBWdt3n1",
        "colab_type": "code",
        "colab": {
          "base_uri": "https://localhost:8080/",
          "height": 119
        },
        "outputId": "aabbf772-e12d-4f8c-ff4f-2b0b6c95e554"
      },
      "source": [
        "print(df['name'].str.startswith('B'))\n",
        "print(df[df['name'].str.startswith('B')])"
      ],
      "execution_count": 22,
      "outputs": [
        {
          "output_type": "stream",
          "text": [
            "0    False\n",
            "1     True\n",
            "2    False\n",
            "Name: name, dtype: bool\n",
            "  name  age state  point\n",
            "1  Bob   42    CA     92\n"
          ],
          "name": "stdout"
        }
      ]
    },
    {
      "cell_type": "code",
      "metadata": {
        "id": "4GsyTannuEKd",
        "colab_type": "code",
        "colab": {
          "base_uri": "https://localhost:8080/",
          "height": 85
        },
        "outputId": "0c47cd8a-8902-4d25-d203-08b8e38cff06"
      },
      "source": [
        "print(df['name'].str.match('.*i.*e'))"
      ],
      "execution_count": 23,
      "outputs": [
        {
          "output_type": "stream",
          "text": [
            "0     True\n",
            "1    False\n",
            "2     True\n",
            "Name: name, dtype: bool\n"
          ],
          "name": "stdout"
        }
      ]
    },
    {
      "cell_type": "code",
      "metadata": {
        "id": "PAgbDMa7wKn2",
        "colab_type": "code",
        "colab": {
          "base_uri": "https://localhost:8080/",
          "height": 68
        },
        "outputId": "4a5e1707-3bd5-4ab0-fe93-fed25dd56d97"
      },
      "source": [
        "print(df[df['name'].str.match('.*i.*e')]) # i and "
      ],
      "execution_count": 27,
      "outputs": [
        {
          "output_type": "stream",
          "text": [
            "      name  age state  point\n",
            "0    Alice   24    NY     64\n",
            "2  Charlie   18    CA     70\n"
          ],
          "name": "stdout"
        }
      ]
    },
    {
      "cell_type": "code",
      "metadata": {
        "id": "AzDrlGmJwWNm",
        "colab_type": "code",
        "colab": {
          "base_uri": "https://localhost:8080/",
          "height": 85
        },
        "outputId": "0f21e069-1f7f-446d-fcf9-df04890994de"
      },
      "source": [
        "print(df['name'].str.match('i.*e'))"
      ],
      "execution_count": 28,
      "outputs": [
        {
          "output_type": "stream",
          "text": [
            "0    False\n",
            "1    False\n",
            "2    False\n",
            "Name: name, dtype: bool\n"
          ],
          "name": "stdout"
        }
      ]
    },
    {
      "cell_type": "code",
      "metadata": {
        "id": "H1mfkVA5wxt1",
        "colab_type": "code",
        "colab": {}
      },
      "source": [
        "df = pd.read_csv('/content/sample_pandas_normal.csv')"
      ],
      "execution_count": 29,
      "outputs": []
    },
    {
      "cell_type": "code",
      "metadata": {
        "id": "kwVeTGnyxXu9",
        "colab_type": "code",
        "colab": {
          "base_uri": "https://localhost:8080/",
          "height": 235
        },
        "outputId": "49059a34-d036-437b-9e9f-1ea7dd9ee890"
      },
      "source": [
        "df"
      ],
      "execution_count": 30,
      "outputs": [
        {
          "output_type": "execute_result",
          "data": {
            "text/html": [
              "<div>\n",
              "<style scoped>\n",
              "    .dataframe tbody tr th:only-of-type {\n",
              "        vertical-align: middle;\n",
              "    }\n",
              "\n",
              "    .dataframe tbody tr th {\n",
              "        vertical-align: top;\n",
              "    }\n",
              "\n",
              "    .dataframe thead th {\n",
              "        text-align: right;\n",
              "    }\n",
              "</style>\n",
              "<table border=\"1\" class=\"dataframe\">\n",
              "  <thead>\n",
              "    <tr style=\"text-align: right;\">\n",
              "      <th></th>\n",
              "      <th>name</th>\n",
              "      <th>age</th>\n",
              "      <th>state</th>\n",
              "      <th>point</th>\n",
              "    </tr>\n",
              "  </thead>\n",
              "  <tbody>\n",
              "    <tr>\n",
              "      <th>0</th>\n",
              "      <td>Alice</td>\n",
              "      <td>24</td>\n",
              "      <td>NY</td>\n",
              "      <td>64</td>\n",
              "    </tr>\n",
              "    <tr>\n",
              "      <th>1</th>\n",
              "      <td>Bob</td>\n",
              "      <td>42</td>\n",
              "      <td>CA</td>\n",
              "      <td>92</td>\n",
              "    </tr>\n",
              "    <tr>\n",
              "      <th>2</th>\n",
              "      <td>Charlie</td>\n",
              "      <td>18</td>\n",
              "      <td>CA</td>\n",
              "      <td>70</td>\n",
              "    </tr>\n",
              "    <tr>\n",
              "      <th>3</th>\n",
              "      <td>Dave</td>\n",
              "      <td>68</td>\n",
              "      <td>TX</td>\n",
              "      <td>70</td>\n",
              "    </tr>\n",
              "    <tr>\n",
              "      <th>4</th>\n",
              "      <td>Ellen</td>\n",
              "      <td>24</td>\n",
              "      <td>CA</td>\n",
              "      <td>88</td>\n",
              "    </tr>\n",
              "    <tr>\n",
              "      <th>5</th>\n",
              "      <td>Frank</td>\n",
              "      <td>30</td>\n",
              "      <td>NY</td>\n",
              "      <td>57</td>\n",
              "    </tr>\n",
              "  </tbody>\n",
              "</table>\n",
              "</div>"
            ],
            "text/plain": [
              "      name  age state  point\n",
              "0    Alice   24    NY     64\n",
              "1      Bob   42    CA     92\n",
              "2  Charlie   18    CA     70\n",
              "3     Dave   68    TX     70\n",
              "4    Ellen   24    CA     88\n",
              "5    Frank   30    NY     57"
            ]
          },
          "metadata": {
            "tags": []
          },
          "execution_count": 30
        }
      ]
    },
    {
      "cell_type": "code",
      "metadata": {
        "id": "gHpXls9ixYGm",
        "colab_type": "code",
        "colab": {
          "base_uri": "https://localhost:8080/",
          "height": 136
        },
        "outputId": "58e70ad1-afd0-4b7e-c3d9-4930c38f6fce"
      },
      "source": [
        "print(df.duplicated())"
      ],
      "execution_count": 31,
      "outputs": [
        {
          "output_type": "stream",
          "text": [
            "0    False\n",
            "1    False\n",
            "2    False\n",
            "3    False\n",
            "4    False\n",
            "5    False\n",
            "dtype: bool\n"
          ],
          "name": "stdout"
        }
      ]
    },
    {
      "cell_type": "code",
      "metadata": {
        "id": "CWboOOkCxbK-",
        "colab_type": "code",
        "colab": {}
      },
      "source": [
        "df = df.append({'name':'Dave', 'age':68, 'state':'TX', 'point':70}, ignore_index = True)"
      ],
      "execution_count": 33,
      "outputs": []
    },
    {
      "cell_type": "code",
      "metadata": {
        "id": "WVJP4RShxqat",
        "colab_type": "code",
        "colab": {
          "base_uri": "https://localhost:8080/",
          "height": 266
        },
        "outputId": "7f1e8379-1c3c-41d1-b382-87515aba71a3"
      },
      "source": [
        "df"
      ],
      "execution_count": 34,
      "outputs": [
        {
          "output_type": "execute_result",
          "data": {
            "text/html": [
              "<div>\n",
              "<style scoped>\n",
              "    .dataframe tbody tr th:only-of-type {\n",
              "        vertical-align: middle;\n",
              "    }\n",
              "\n",
              "    .dataframe tbody tr th {\n",
              "        vertical-align: top;\n",
              "    }\n",
              "\n",
              "    .dataframe thead th {\n",
              "        text-align: right;\n",
              "    }\n",
              "</style>\n",
              "<table border=\"1\" class=\"dataframe\">\n",
              "  <thead>\n",
              "    <tr style=\"text-align: right;\">\n",
              "      <th></th>\n",
              "      <th>name</th>\n",
              "      <th>age</th>\n",
              "      <th>state</th>\n",
              "      <th>point</th>\n",
              "    </tr>\n",
              "  </thead>\n",
              "  <tbody>\n",
              "    <tr>\n",
              "      <th>0</th>\n",
              "      <td>Alice</td>\n",
              "      <td>24</td>\n",
              "      <td>NY</td>\n",
              "      <td>64</td>\n",
              "    </tr>\n",
              "    <tr>\n",
              "      <th>1</th>\n",
              "      <td>Bob</td>\n",
              "      <td>42</td>\n",
              "      <td>CA</td>\n",
              "      <td>92</td>\n",
              "    </tr>\n",
              "    <tr>\n",
              "      <th>2</th>\n",
              "      <td>Charlie</td>\n",
              "      <td>18</td>\n",
              "      <td>CA</td>\n",
              "      <td>70</td>\n",
              "    </tr>\n",
              "    <tr>\n",
              "      <th>3</th>\n",
              "      <td>Dave</td>\n",
              "      <td>68</td>\n",
              "      <td>TX</td>\n",
              "      <td>70</td>\n",
              "    </tr>\n",
              "    <tr>\n",
              "      <th>4</th>\n",
              "      <td>Ellen</td>\n",
              "      <td>24</td>\n",
              "      <td>CA</td>\n",
              "      <td>88</td>\n",
              "    </tr>\n",
              "    <tr>\n",
              "      <th>5</th>\n",
              "      <td>Frank</td>\n",
              "      <td>30</td>\n",
              "      <td>NY</td>\n",
              "      <td>57</td>\n",
              "    </tr>\n",
              "    <tr>\n",
              "      <th>6</th>\n",
              "      <td>Dave</td>\n",
              "      <td>68</td>\n",
              "      <td>TX</td>\n",
              "      <td>70</td>\n",
              "    </tr>\n",
              "  </tbody>\n",
              "</table>\n",
              "</div>"
            ],
            "text/plain": [
              "      name  age state  point\n",
              "0    Alice   24    NY     64\n",
              "1      Bob   42    CA     92\n",
              "2  Charlie   18    CA     70\n",
              "3     Dave   68    TX     70\n",
              "4    Ellen   24    CA     88\n",
              "5    Frank   30    NY     57\n",
              "6     Dave   68    TX     70"
            ]
          },
          "metadata": {
            "tags": []
          },
          "execution_count": 34
        }
      ]
    },
    {
      "cell_type": "code",
      "metadata": {
        "id": "4JdETU57xthu",
        "colab_type": "code",
        "colab": {
          "base_uri": "https://localhost:8080/",
          "height": 153
        },
        "outputId": "70ca4f74-9b67-45b7-a109-4c5fa69900a2"
      },
      "source": [
        "print(df.duplicated())"
      ],
      "execution_count": 35,
      "outputs": [
        {
          "output_type": "stream",
          "text": [
            "0    False\n",
            "1    False\n",
            "2    False\n",
            "3    False\n",
            "4    False\n",
            "5    False\n",
            "6     True\n",
            "dtype: bool\n"
          ],
          "name": "stdout"
        }
      ]
    },
    {
      "cell_type": "code",
      "metadata": {
        "id": "8a7-nWdSxvfN",
        "colab_type": "code",
        "colab": {
          "base_uri": "https://localhost:8080/",
          "height": 51
        },
        "outputId": "e26b4d41-8050-40c6-86c4-7d5f2cdc2b41"
      },
      "source": [
        "print(df[df.duplicated()])"
      ],
      "execution_count": 36,
      "outputs": [
        {
          "output_type": "stream",
          "text": [
            "   name  age state  point\n",
            "6  Dave   68    TX     70\n"
          ],
          "name": "stdout"
        }
      ]
    },
    {
      "cell_type": "code",
      "metadata": {
        "id": "DfCkgJm-xxLV",
        "colab_type": "code",
        "colab": {
          "base_uri": "https://localhost:8080/",
          "height": 153
        },
        "outputId": "e1bd5626-ed1b-467d-aff2-981fc7b629d1"
      },
      "source": [
        "print(df.duplicated(keep = 'last'))"
      ],
      "execution_count": 37,
      "outputs": [
        {
          "output_type": "stream",
          "text": [
            "0    False\n",
            "1    False\n",
            "2    False\n",
            "3     True\n",
            "4    False\n",
            "5    False\n",
            "6    False\n",
            "dtype: bool\n"
          ],
          "name": "stdout"
        }
      ]
    },
    {
      "cell_type": "code",
      "metadata": {
        "id": "2book7cnyBQf",
        "colab_type": "code",
        "colab": {
          "base_uri": "https://localhost:8080/",
          "height": 153
        },
        "outputId": "7a8897b7-d6ce-4915-8d8f-c8e196911597"
      },
      "source": [
        "print(df.duplicated(keep = False))"
      ],
      "execution_count": 38,
      "outputs": [
        {
          "output_type": "stream",
          "text": [
            "0    False\n",
            "1    False\n",
            "2    False\n",
            "3     True\n",
            "4    False\n",
            "5    False\n",
            "6     True\n",
            "dtype: bool\n"
          ],
          "name": "stdout"
        }
      ]
    },
    {
      "cell_type": "code",
      "metadata": {
        "id": "FjarYd8PyD2N",
        "colab_type": "code",
        "colab": {
          "base_uri": "https://localhost:8080/",
          "height": 153
        },
        "outputId": "ad355e2b-a5aa-4f20-a969-aa8c82a98e4d"
      },
      "source": [
        "print(df.duplicated(subset = 'state'))"
      ],
      "execution_count": 39,
      "outputs": [
        {
          "output_type": "stream",
          "text": [
            "0    False\n",
            "1    False\n",
            "2     True\n",
            "3    False\n",
            "4     True\n",
            "5     True\n",
            "6     True\n",
            "dtype: bool\n"
          ],
          "name": "stdout"
        }
      ]
    },
    {
      "cell_type": "code",
      "metadata": {
        "id": "t_O5926pys0C",
        "colab_type": "code",
        "colab": {
          "base_uri": "https://localhost:8080/",
          "height": 153
        },
        "outputId": "47ed270b-bdbb-4def-eb57-bc92d2309a88"
      },
      "source": [
        "print(df.duplicated(subset =['state', 'point']))"
      ],
      "execution_count": 40,
      "outputs": [
        {
          "output_type": "stream",
          "text": [
            "0    False\n",
            "1    False\n",
            "2    False\n",
            "3    False\n",
            "4    False\n",
            "5    False\n",
            "6     True\n",
            "dtype: bool\n"
          ],
          "name": "stdout"
        }
      ]
    },
    {
      "cell_type": "code",
      "metadata": {
        "id": "nrhOInLjyz5O",
        "colab_type": "code",
        "colab": {
          "base_uri": "https://localhost:8080/",
          "height": 68
        },
        "outputId": "4e326dfb-724d-4ff6-e6ef-882e3ad0506c"
      },
      "source": [
        "print(df.duplicated().value_counts())"
      ],
      "execution_count": 41,
      "outputs": [
        {
          "output_type": "stream",
          "text": [
            "False    6\n",
            "True     1\n",
            "dtype: int64\n"
          ],
          "name": "stdout"
        }
      ]
    },
    {
      "cell_type": "code",
      "metadata": {
        "id": "oiHoNPoBy42m",
        "colab_type": "code",
        "colab": {
          "base_uri": "https://localhost:8080/",
          "height": 34
        },
        "outputId": "c31cf09f-49b5-45d2-c02c-fc25c2264696"
      },
      "source": [
        "print(df.duplicated().value_counts()[True])"
      ],
      "execution_count": 42,
      "outputs": [
        {
          "output_type": "stream",
          "text": [
            "1\n"
          ],
          "name": "stdout"
        }
      ]
    },
    {
      "cell_type": "code",
      "metadata": {
        "id": "shcYcpLey8Bu",
        "colab_type": "code",
        "colab": {
          "base_uri": "https://localhost:8080/",
          "height": 34
        },
        "outputId": "225be01d-1ed9-417f-dd9d-5129d325ce79"
      },
      "source": [
        "print(df.duplicated(keep = False).value_counts()[True])"
      ],
      "execution_count": 43,
      "outputs": [
        {
          "output_type": "stream",
          "text": [
            "2\n"
          ],
          "name": "stdout"
        }
      ]
    },
    {
      "cell_type": "code",
      "metadata": {
        "id": "UHId-AbGzBQu",
        "colab_type": "code",
        "colab": {
          "base_uri": "https://localhost:8080/",
          "height": 136
        },
        "outputId": "b0c48e04-ad6d-4400-8d87-41533be1eeb1"
      },
      "source": [
        "print(df.drop_duplicates())"
      ],
      "execution_count": 44,
      "outputs": [
        {
          "output_type": "stream",
          "text": [
            "      name  age state  point\n",
            "0    Alice   24    NY     64\n",
            "1      Bob   42    CA     92\n",
            "2  Charlie   18    CA     70\n",
            "3     Dave   68    TX     70\n",
            "4    Ellen   24    CA     88\n",
            "5    Frank   30    NY     57\n"
          ],
          "name": "stdout"
        }
      ]
    },
    {
      "cell_type": "code",
      "metadata": {
        "id": "zpnTE0f2zFmO",
        "colab_type": "code",
        "colab": {
          "base_uri": "https://localhost:8080/",
          "height": 85
        },
        "outputId": "7b8d7380-faa7-443b-e76e-5d163c794699"
      },
      "source": [
        "df.drop_duplicates(subset = 'state', keep = 'last', inplace = True)\n",
        "print(df)"
      ],
      "execution_count": 45,
      "outputs": [
        {
          "output_type": "stream",
          "text": [
            "    name  age state  point\n",
            "4  Ellen   24    CA     88\n",
            "5  Frank   30    NY     57\n",
            "6   Dave   68    TX     70\n"
          ],
          "name": "stdout"
        }
      ]
    },
    {
      "cell_type": "code",
      "metadata": {
        "id": "KqWJp4tRzm8u",
        "colab_type": "code",
        "colab": {
          "base_uri": "https://localhost:8080/",
          "height": 136
        },
        "outputId": "36abda28-11b9-4d36-9df6-0cd8d01a1fe2"
      },
      "source": [
        "df = pd.read_csv('/content/sample_pandas_normal.csv')\n",
        "print(df)"
      ],
      "execution_count": 46,
      "outputs": [
        {
          "output_type": "stream",
          "text": [
            "      name  age state  point\n",
            "0    Alice   24    NY     64\n",
            "1      Bob   42    CA     92\n",
            "2  Charlie   18    CA     70\n",
            "3     Dave   68    TX     70\n",
            "4    Ellen   24    CA     88\n",
            "5    Frank   30    NY     57\n"
          ],
          "name": "stdout"
        }
      ]
    },
    {
      "cell_type": "code",
      "metadata": {
        "id": "fUPateH2zsc9",
        "colab_type": "code",
        "colab": {
          "base_uri": "https://localhost:8080/",
          "height": 102
        },
        "outputId": "cd31b943-7e07-40b5-e483-88a9fdf4d8af"
      },
      "source": [
        "print(df.groupby('state').mean())"
      ],
      "execution_count": 47,
      "outputs": [
        {
          "output_type": "stream",
          "text": [
            "        age      point\n",
            "state                 \n",
            "CA     28.0  83.333333\n",
            "NY     27.0  60.500000\n",
            "TX     68.0  70.000000\n"
          ],
          "name": "stdout"
        }
      ]
    },
    {
      "cell_type": "code",
      "metadata": {
        "id": "BXWNB5S3z1tV",
        "colab_type": "code",
        "colab": {
          "base_uri": "https://localhost:8080/",
          "height": 102
        },
        "outputId": "22f3985d-c89b-43f3-fccd-7f643816c7e7"
      },
      "source": [
        "print(df.groupby('state').agg(\n",
        "    {'name': lambda x:','.join(x),\n",
        "     'age':'mean',\n",
        "     'point':'mean'}\n",
        "))"
      ],
      "execution_count": 48,
      "outputs": [
        {
          "output_type": "stream",
          "text": [
            "                    name  age      point\n",
            "state                                   \n",
            "CA     Bob,Charlie,Ellen   28  83.333333\n",
            "NY           Alice,Frank   27  60.500000\n",
            "TX                  Dave   68  70.000000\n"
          ],
          "name": "stdout"
        }
      ]
    },
    {
      "cell_type": "code",
      "metadata": {
        "id": "QytVVmho0iYe",
        "colab_type": "code",
        "colab": {
          "base_uri": "https://localhost:8080/",
          "height": 102
        },
        "outputId": "e737a49d-4e59-4d97-a2d5-0768a6163a29"
      },
      "source": [
        "print(df.groupby('state').agg(\n",
        "    {'name':list,\n",
        "     'age':'mean',\n",
        "     'point':'mean'}\n",
        "))"
      ],
      "execution_count": 50,
      "outputs": [
        {
          "output_type": "stream",
          "text": [
            "                        name  age      point\n",
            "state                                       \n",
            "CA     [Bob, Charlie, Ellen]   28  83.333333\n",
            "NY            [Alice, Frank]   27  60.500000\n",
            "TX                    [Dave]   68  70.000000\n"
          ],
          "name": "stdout"
        }
      ]
    },
    {
      "cell_type": "code",
      "metadata": {
        "id": "FgIHdw100q0O",
        "colab_type": "code",
        "colab": {
          "base_uri": "https://localhost:8080/",
          "height": 102
        },
        "outputId": "b525847a-080b-47e6-98f6-2f8c31039387"
      },
      "source": [
        "df = pd.DataFrame({'a':[1,2,1,3],\n",
        "                   'b':[0.4,1.1,0.1,0.8],\n",
        "                   'c':['X','Y','X','Z'],\n",
        "                   'd':[[0,0], [0,1],[1,0],[1,1]],\n",
        "                   'e':[True, True, False, True]})\n",
        "df['f'] = pd.to_datetime(['2018-01-01', '2018-03-15', '2018-02-20','2018-03-15'])\n",
        "print(df)"
      ],
      "execution_count": 51,
      "outputs": [
        {
          "output_type": "stream",
          "text": [
            "   a    b  c       d      e          f\n",
            "0  1  0.4  X  [0, 0]   True 2018-01-01\n",
            "1  2  1.1  Y  [0, 1]   True 2018-03-15\n",
            "2  1  0.1  X  [1, 0]  False 2018-02-20\n",
            "3  3  0.8  Z  [1, 1]   True 2018-03-15\n"
          ],
          "name": "stdout"
        }
      ]
    },
    {
      "cell_type": "code",
      "metadata": {
        "id": "EAoFaJrI2DRq",
        "colab_type": "code",
        "colab": {
          "base_uri": "https://localhost:8080/",
          "height": 136
        },
        "outputId": "34d92808-0f07-48a1-aa78-ba0bea1099fe"
      },
      "source": [
        "print(df.dtypes)"
      ],
      "execution_count": 52,
      "outputs": [
        {
          "output_type": "stream",
          "text": [
            "a             int64\n",
            "b           float64\n",
            "c            object\n",
            "d            object\n",
            "e              bool\n",
            "f    datetime64[ns]\n",
            "dtype: object\n"
          ],
          "name": "stdout"
        }
      ]
    },
    {
      "cell_type": "code",
      "metadata": {
        "id": "udCHuem-2Fln",
        "colab_type": "code",
        "colab": {
          "base_uri": "https://localhost:8080/",
          "height": 102
        },
        "outputId": "2ebf9f80-abfe-477f-be78-29293dbdc98e"
      },
      "source": [
        "print(df.select_dtypes(include=int))"
      ],
      "execution_count": 53,
      "outputs": [
        {
          "output_type": "stream",
          "text": [
            "   a\n",
            "0  1\n",
            "1  2\n",
            "2  1\n",
            "3  3\n"
          ],
          "name": "stdout"
        }
      ]
    },
    {
      "cell_type": "code",
      "metadata": {
        "id": "BHAwGbWQ6JcL",
        "colab_type": "code",
        "colab": {
          "base_uri": "https://localhost:8080/",
          "height": 102
        },
        "outputId": "10155104-2901-457c-9810-60cac39791ed"
      },
      "source": [
        "print(df.select_dtypes(include = [int, float, 'datetime']))"
      ],
      "execution_count": 54,
      "outputs": [
        {
          "output_type": "stream",
          "text": [
            "   a    b          f\n",
            "0  1  0.4 2018-01-01\n",
            "1  2  1.1 2018-03-15\n",
            "2  1  0.1 2018-02-20\n",
            "3  3  0.8 2018-03-15\n"
          ],
          "name": "stdout"
        }
      ]
    },
    {
      "cell_type": "code",
      "metadata": {
        "id": "N2mKroS06TaP",
        "colab_type": "code",
        "colab": {
          "base_uri": "https://localhost:8080/",
          "height": 102
        },
        "outputId": "f7c10120-ffd3-4894-ae17-28927851c017"
      },
      "source": [
        "print(df.select_dtypes(include = 'number'))"
      ],
      "execution_count": 55,
      "outputs": [
        {
          "output_type": "stream",
          "text": [
            "   a    b\n",
            "0  1  0.4\n",
            "1  2  1.1\n",
            "2  1  0.1\n",
            "3  3  0.8\n"
          ],
          "name": "stdout"
        }
      ]
    },
    {
      "cell_type": "code",
      "metadata": {
        "id": "yZnje3EX6W-P",
        "colab_type": "code",
        "colab": {
          "base_uri": "https://localhost:8080/",
          "height": 102
        },
        "outputId": "d70af735-937a-445c-a87b-c8f137a0d7d1"
      },
      "source": [
        "print(df.select_dtypes(include = object))"
      ],
      "execution_count": 56,
      "outputs": [
        {
          "output_type": "stream",
          "text": [
            "   c       d\n",
            "0  X  [0, 0]\n",
            "1  Y  [0, 1]\n",
            "2  X  [1, 0]\n",
            "3  Z  [1, 1]\n"
          ],
          "name": "stdout"
        }
      ]
    },
    {
      "cell_type": "code",
      "metadata": {
        "id": "xcJFw7t46a6g",
        "colab_type": "code",
        "colab": {
          "base_uri": "https://localhost:8080/",
          "height": 34
        },
        "outputId": "274a55c0-75a7-4470-c576-f000b5606b6a"
      },
      "source": [
        "print(type(df.at[0, 'c']))"
      ],
      "execution_count": 57,
      "outputs": [
        {
          "output_type": "stream",
          "text": [
            "<class 'str'>\n"
          ],
          "name": "stdout"
        }
      ]
    },
    {
      "cell_type": "code",
      "metadata": {
        "id": "n8p44SUz6efn",
        "colab_type": "code",
        "colab": {
          "base_uri": "https://localhost:8080/",
          "height": 102
        },
        "outputId": "7f0c7f29-a82b-4af9-aeea-9094109eccb1"
      },
      "source": [
        "print(df.select_dtypes(exclude=[bool, 'datetime']))"
      ],
      "execution_count": 58,
      "outputs": [
        {
          "output_type": "stream",
          "text": [
            "   a    b  c       d\n",
            "0  1  0.4  X  [0, 0]\n",
            "1  2  1.1  Y  [0, 1]\n",
            "2  1  0.1  X  [1, 0]\n",
            "3  3  0.8  Z  [1, 1]\n"
          ],
          "name": "stdout"
        }
      ]
    },
    {
      "cell_type": "code",
      "metadata": {
        "id": "eLM-e9xz6m7Q",
        "colab_type": "code",
        "colab": {
          "base_uri": "https://localhost:8080/",
          "height": 153
        },
        "outputId": "b1d3077f-3f71-4af6-bc93-f5225e53ff60"
      },
      "source": [
        "df = pd.read_csv('/content/sample_pandas_normal.csv', index_col = 0)\n",
        "print(df)"
      ],
      "execution_count": 59,
      "outputs": [
        {
          "output_type": "stream",
          "text": [
            "         age state  point\n",
            "name                     \n",
            "Alice     24    NY     64\n",
            "Bob       42    CA     92\n",
            "Charlie   18    CA     70\n",
            "Dave      68    TX     70\n",
            "Ellen     24    CA     88\n",
            "Frank     30    NY     57\n"
          ],
          "name": "stdout"
        }
      ]
    },
    {
      "cell_type": "code",
      "metadata": {
        "id": "anv-mgzp7CAQ",
        "colab_type": "code",
        "colab": {
          "base_uri": "https://localhost:8080/",
          "height": 34
        },
        "outputId": "43c1f56c-0727-4283-dade-45811314d4af"
      },
      "source": [
        "print(df.index)"
      ],
      "execution_count": 60,
      "outputs": [
        {
          "output_type": "stream",
          "text": [
            "Index(['Alice', 'Bob', 'Charlie', 'Dave', 'Ellen', 'Frank'], dtype='object', name='name')\n"
          ],
          "name": "stdout"
        }
      ]
    },
    {
      "cell_type": "code",
      "metadata": {
        "id": "opcvAR3I7FGw",
        "colab_type": "code",
        "colab": {
          "base_uri": "https://localhost:8080/",
          "height": 34
        },
        "outputId": "0dca24df-ac8e-4e95-aa81-309632f64c75"
      },
      "source": [
        "print(df.index.str.contains('li'))"
      ],
      "execution_count": 61,
      "outputs": [
        {
          "output_type": "stream",
          "text": [
            "[ True False  True False False False]\n"
          ],
          "name": "stdout"
        }
      ]
    },
    {
      "cell_type": "code",
      "metadata": {
        "id": "4cNqkeP67H2k",
        "colab_type": "code",
        "colab": {
          "base_uri": "https://localhost:8080/",
          "height": 85
        },
        "outputId": "65546c90-3e60-4957-cfb5-6441cf83b197"
      },
      "source": [
        "print(df[df.index.str.contains('li')])"
      ],
      "execution_count": 62,
      "outputs": [
        {
          "output_type": "stream",
          "text": [
            "         age state  point\n",
            "name                     \n",
            "Alice     24    NY     64\n",
            "Charlie   18    CA     70\n"
          ],
          "name": "stdout"
        }
      ]
    },
    {
      "cell_type": "code",
      "metadata": {
        "id": "Mb26pqHu7Lsv",
        "colab_type": "code",
        "colab": {
          "base_uri": "https://localhost:8080/",
          "height": 34
        },
        "outputId": "9f31308d-2ab0-4c02-d7c6-95b910981a65"
      },
      "source": [
        "print(df.index.str.endswith('e'))"
      ],
      "execution_count": 63,
      "outputs": [
        {
          "output_type": "stream",
          "text": [
            "[ True False  True  True False False]\n"
          ],
          "name": "stdout"
        }
      ]
    },
    {
      "cell_type": "code",
      "metadata": {
        "id": "iwF0K_yb7NyI",
        "colab_type": "code",
        "colab": {
          "base_uri": "https://localhost:8080/",
          "height": 85
        },
        "outputId": "13ed3b85-6226-4845-f7f9-ed6a70ee0026"
      },
      "source": [
        "print(df.query('index.str.contains(\"li\")', engine = 'python'))"
      ],
      "execution_count": 64,
      "outputs": [
        {
          "output_type": "stream",
          "text": [
            "         age state  point\n",
            "name                     \n",
            "Alice     24    NY     64\n",
            "Charlie   18    CA     70\n"
          ],
          "name": "stdout"
        }
      ]
    },
    {
      "cell_type": "code",
      "metadata": {
        "id": "8OYkj7uQ7b74",
        "colab_type": "code",
        "colab": {
          "base_uri": "https://localhost:8080/",
          "height": 34
        },
        "outputId": "e97f3de1-ebe0-4c49-926b-24ab363015ca"
      },
      "source": [
        "print(df.columns)"
      ],
      "execution_count": 65,
      "outputs": [
        {
          "output_type": "stream",
          "text": [
            "Index(['age', 'state', 'point'], dtype='object')\n"
          ],
          "name": "stdout"
        }
      ]
    },
    {
      "cell_type": "code",
      "metadata": {
        "id": "qaHRhRWS7i7X",
        "colab_type": "code",
        "colab": {
          "base_uri": "https://localhost:8080/",
          "height": 34
        },
        "outputId": "e6c6f7da-8adb-43c0-b21c-ce40b1fb4965"
      },
      "source": [
        "print(df.columns.str.endswith('e'))"
      ],
      "execution_count": 66,
      "outputs": [
        {
          "output_type": "stream",
          "text": [
            "[ True  True False]\n"
          ],
          "name": "stdout"
        }
      ]
    },
    {
      "cell_type": "code",
      "metadata": {
        "id": "3DsgU9KU7kt3",
        "colab_type": "code",
        "colab": {
          "base_uri": "https://localhost:8080/",
          "height": 153
        },
        "outputId": "c4e7ecc0-4690-4119-872f-ccabcbe63fb9"
      },
      "source": [
        "print(df.loc[:, df.columns.str.endswith('e')])\n"
      ],
      "execution_count": 67,
      "outputs": [
        {
          "output_type": "stream",
          "text": [
            "         age state\n",
            "name              \n",
            "Alice     24    NY\n",
            "Bob       42    CA\n",
            "Charlie   18    CA\n",
            "Dave      68    TX\n",
            "Ellen     24    CA\n",
            "Frank     30    NY\n"
          ],
          "name": "stdout"
        }
      ]
    },
    {
      "cell_type": "code",
      "metadata": {
        "id": "k4_kdzpF7xlP",
        "colab_type": "code",
        "colab": {
          "base_uri": "https://localhost:8080/",
          "height": 85
        },
        "outputId": "8c9fd129-53c5-4a21-ed9d-05ba867031ce"
      },
      "source": [
        "print(df.loc[df.index.str.contains('li'), df.columns.str.endswith('e')])"
      ],
      "execution_count": 68,
      "outputs": [
        {
          "output_type": "stream",
          "text": [
            "         age state\n",
            "name              \n",
            "Alice     24    NY\n",
            "Charlie   18    CA\n"
          ],
          "name": "stdout"
        }
      ]
    },
    {
      "cell_type": "code",
      "metadata": {
        "id": "5hKerVLY8PNP",
        "colab_type": "code",
        "colab": {}
      },
      "source": [
        ""
      ],
      "execution_count": null,
      "outputs": []
    }
  ]
}
