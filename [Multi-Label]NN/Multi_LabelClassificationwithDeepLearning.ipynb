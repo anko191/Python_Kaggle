{
  "nbformat": 4,
  "nbformat_minor": 0,
  "metadata": {
    "colab": {
      "name": "Multi-LabelClassificationwithDeepLearning",
      "provenance": [],
      "authorship_tag": "ABX9TyPNJrsU2XaG0/Sxpt9pOfii",
      "include_colab_link": true
    },
    "kernelspec": {
      "name": "python3",
      "display_name": "Python 3"
    }
  },
  "cells": [
    {
      "cell_type": "markdown",
      "metadata": {
        "id": "view-in-github",
        "colab_type": "text"
      },
      "source": [
        "<a href=\"https://colab.research.google.com/github/anko191/Python_Kaggle/blob/master/%5BMulti-Label%5DNN/Multi_LabelClassificationwithDeepLearning.ipynb\" target=\"_parent\"><img src=\"https://colab.research.google.com/assets/colab-badge.svg\" alt=\"Open In Colab\"/></a>"
      ]
    },
    {
      "cell_type": "markdown",
      "metadata": {
        "id": "uMu4c0_YSneu"
      },
      "source": [
        "# 始めに\n",
        "* Multi-label classificationはzeroも入るし、もっと多いクラスのラベルを持ったりする\n",
        "* クラスラベルがお互いに、排他的である普通の分類とは違って、\n",
        "    * ﾏﾙﾁラベル分類では、複数の相互に排他的でないクラスでないクラスや「ラベル」\n",
        "    * をサポートする特殊な機械学習アルゴリズムが必要となる\n",
        "* Deep Learning neural networksは、マルチラベル分類問題ためのもの\n",
        "    * Keras libraryを使用して簡単に定義して評価できる\n",
        "\n"
      ]
    },
    {
      "cell_type": "markdown",
      "metadata": {
        "id": "avW9RKIAtRMy"
      },
      "source": [
        "# multilabel分類 - \n",
        "\n",
        "\n",
        "* ゼロ以上の相互に排他的でないクラス・ラベルを予測するモデリングタスク。\n",
        "* NN Modelは、マルチラベル分類タスクのために設定できる\n",
        "* 以下3つに分かれています\n",
        "    * Multi-Label Classification\n",
        "    * Neural Networks for Multiple Labels\n",
        "    * Neural Network for Multi-Label Classification\n"
      ]
    },
    {
      "cell_type": "markdown",
      "metadata": {
        "id": "PHeDlkDYlmIH"
      },
      "source": [
        "## Multi-Label Classification\n",
        "* 普通は分類タスクでは、単一のラベルを予測\n",
        "* 別の方法では、2つ以上のクラス・ラベルにわたって尤度を予測する\n",
        "    * クラスは相互に排他的であり、\n",
        "    * 分類タスクは入力が1つのクラスにのみ属すると仮定することを意味\n",
        "* 分類作業の中には、**複数のクラス・ラベルを予測する**必要があります\n",
        "* これはクラス・ラベルまたは、クラス・メンバーシップが相互に排他的ではないことを意味\n",
        "* これらのタスクは multi-label classification(multiple label classification)"
      ]
    },
    {
      "cell_type": "markdown",
      "metadata": {
        "id": "lcT1KR9asRBk"
      },
      "source": [
        "* sklearnの、**make_multilabel_classification()** を使う。\n",
        "    * a synthetic multi-label classification dataset を作成\n",
        "    * 合成マルチラベル分類データセット\n",
        "* このデータセットは、**10個の入力特徴量**, **1000個のサンプルを持ちます**\n",
        "    * 各サンプルに対して3つのクラスラベル出力を持ち、\n",
        "    * 各クラスは1つまたは2つの値(0 or 1, present or not present (存在するしない))"
      ]
    },
    {
      "cell_type": "markdown",
      "metadata": {
        "id": "dEQCdp-etGdr"
      },
      "source": [
        "### multi-label classification task"
      ]
    },
    {
      "cell_type": "code",
      "metadata": {
        "id": "Aq8RYbSKRzKW"
      },
      "source": [
        "from sklearn.datasets import make_multilabel_classification"
      ],
      "execution_count": 1,
      "outputs": []
    },
    {
      "cell_type": "markdown",
      "metadata": {
        "id": "CUMaNu0UtdqQ"
      },
      "source": [
        "### データセットを定義しましょう"
      ]
    },
    {
      "cell_type": "code",
      "metadata": {
        "id": "xoo5cM0etcwU",
        "outputId": "59036c5a-e8ba-485e-a4ff-f3523cc5adb5",
        "colab": {
          "base_uri": "https://localhost:8080/",
          "height": 34
        }
      },
      "source": [
        "X, y = make_multilabel_classification(n_samples = 1000, n_features = 10,\n",
        "                                      n_classes = 3, n_labels = 2,\n",
        "                                      random_state = 1)\n",
        "print(X.shape, y.shape)"
      ],
      "execution_count": 2,
      "outputs": [
        {
          "output_type": "stream",
          "text": [
            "(1000, 10) (1000, 3)\n"
          ],
          "name": "stdout"
        }
      ]
    },
    {
      "cell_type": "code",
      "metadata": {
        "id": "EzfnjvBot3hE",
        "outputId": "61abd667-3662-4ade-b150-0863cb41d976",
        "colab": {
          "base_uri": "https://localhost:8080/",
          "height": 187
        }
      },
      "source": [
        "for i in range(10):\n",
        "    print(X[i], y[i])"
      ],
      "execution_count": 3,
      "outputs": [
        {
          "output_type": "stream",
          "text": [
            "[ 3.  3.  6.  7.  8.  2. 11. 11.  1.  3.] [1 1 0]\n",
            "[7. 6. 4. 4. 6. 8. 3. 4. 6. 4.] [0 0 0]\n",
            "[ 5.  5. 13.  7.  6.  3.  6. 11.  4.  2.] [1 1 0]\n",
            "[1. 1. 5. 5. 7. 3. 4. 6. 4. 4.] [1 1 1]\n",
            "[ 4.  2.  3. 13.  7.  2.  4. 12.  1.  7.] [0 1 0]\n",
            "[ 4.  3.  3.  2.  5.  2.  3.  7.  2. 10.] [0 0 0]\n",
            "[ 3.  3.  3. 11.  6.  3.  4. 14.  1.  3.] [0 1 0]\n",
            "[ 2.  1.  7.  8.  4.  5. 10.  4.  6.  6.] [1 1 1]\n",
            "[ 5.  1.  9.  5.  3.  4. 11.  8.  1.  8.] [1 1 1]\n",
            "[ 2. 11.  7.  6.  2.  2.  9. 11.  9.  3.] [1 1 1]\n"
          ],
          "name": "stdout"
        }
      ]
    },
    {
      "cell_type": "markdown",
      "metadata": {
        "id": "x9dNnWAXukRY"
      },
      "source": [
        "* 出力クラス・ラベルが3つのクラス・ラベルのそれぞれについて0または1の値を持っている"
      ]
    },
    {
      "cell_type": "markdown",
      "metadata": {
        "id": "vnRbF-VAugys"
      },
      "source": [
        "## Neural Networks for Multiple Labels\n",
        "* 出力のノード数として問題に存在するターゲットラベルの数を指定するだけ\n",
        "* 例えば、3つの出力ラベルを持つタスクでは、\n",
        "    * 出力層に3つのノードを持つニューラルネットワークの出力層が必要になります\n",
        "* 出力層の各ノードは、sigmoid activation を利用しなければならない\n",
        "    * ラベルを0, 1の間の値で予測\n",
        "* 最後に、モデルは2値cross-entropy loss functionで適合させないといけない。\n",
        "* 要約すると、\n",
        "    * 出力層のノードの数はラベルの数と一致する\n",
        "    * 出力層の各ノードのsigmoid activation\n",
        "    * Binary cross-entropy loss function\n",
        "* Keras deeplearning libraryを使用\n",
        "* 多層パーセプトロン(MLP)モデルを定義します。\n",
        "\n",
        "* 各サンプルは 10 inputs と 3 outputsの出力を持っています\n",
        "    * 従って、networkは最初の隠れそうのinput_dim の 10inputsと、\n",
        "    * 出力層の3つのノードを期待する入力層を必要とします。\n",
        "* 隠れ層では、一般的な **ReLU activation function**を使います\n",
        "    * 隠れ層には、試行錯誤の末に選ばれた20個のノードがあります。\n",
        "    * 我々は、\n",
        "        * binary cross-entropy loss\n",
        "        * Adam (確率的勾配降下)"
      ]
    },
    {
      "cell_type": "markdown",
      "metadata": {
        "id": "fnuA9ZPaxxoy"
      },
      "source": [
        "### model を定義"
      ]
    },
    {
      "cell_type": "code",
      "metadata": {
        "id": "-EWieIrst8ya"
      },
      "source": [
        "def get_model(n_inputs, n_outputs):\n",
        "    model = Sequential()\n",
        "    model.add(Dense(20, input_dim = n_inputs, kernel_initializer = 'he_uniform', activation = 'relu'))\n",
        "    model.add(Dense(n_outputs, activation = 'sigmoid'))\n",
        "    model.compile(loss = 'binary_crossentropy', optimizer = 'adam')\n",
        "\n",
        "    return model"
      ],
      "execution_count": 4,
      "outputs": []
    },
    {
      "cell_type": "markdown",
      "metadata": {
        "id": "azyWUNMXyVI2"
      },
      "source": [
        "## Neural Network for Multi-Label Classification\n",
        "* MLP(Multilayer Perceptron) for multi-label crassification を定義出来たので、\n",
        "* どのように評価されるか探ってみましょう"
      ]
    },
    {
      "cell_type": "markdown",
      "metadata": {
        "id": "kvPkxxNVyvTO"
      },
      "source": [
        "* **データセットが小さい場合は**\n",
        "    * 同じデータセットでニューラルネットワークモデルを繰り返し評価し、\n",
        "    * 繰り返しの平均性のを報告するのが良い方法です\n",
        "* このことを考慮に入れて、我々は、10倍と3回の繰り返しのk-fold交差検証を用いて、多出力回帰タスクでMLPモデルを評価します。\n",
        "* 以下の evaluate_model() 関数は、データセットを受け取り、モデルを評価し、評価スコアのリスト（この場合は精度スコア）を返します。"
      ]
    },
    {
      "cell_type": "markdown",
      "metadata": {
        "id": "5inVGwU8zWNa"
      },
      "source": [
        "## 完成版"
      ]
    },
    {
      "cell_type": "code",
      "metadata": {
        "id": "6IMPbF3yyLa8"
      },
      "source": [
        "# mlp for multi-label classification\n",
        "from numpy import mean, std\n",
        "from sklearn.datasets import make_multilabel_classification\n",
        "from sklearn.model_selection import RepeatedKFold\n",
        "from keras.models import Sequential\n",
        "from keras.layers import Dense\n",
        "from sklearn.metrics import accuracy_score"
      ],
      "execution_count": 5,
      "outputs": []
    },
    {
      "cell_type": "code",
      "metadata": {
        "id": "fRixztoWzxPJ"
      },
      "source": [
        "# get the dataset\n",
        "def get_dataset():\n",
        "    X, y = make_multilabel_classification(n_samples = 1000,\n",
        "                                          n_features = 10,\n",
        "                                          n_classes = 3,\n",
        "                                          n_labels = 2,\n",
        "                                          random_state = 1,\n",
        "                                          )\n",
        "    return X,y"
      ],
      "execution_count": 9,
      "outputs": []
    },
    {
      "cell_type": "code",
      "metadata": {
        "id": "qEfM4GqN0Bds"
      },
      "source": [
        "# get the model\n",
        "def get_model(n_inputs, n_outputs):\n",
        "    model = Sequential()\n",
        "    model.add(Dense(20, input_dim = n_inputs, kernel_initializer='he_uniform', activation = 'relu'))\n",
        "    model.add(Dense(n_outputs, activation = 'sigmoid'))\n",
        "    model.compile(loss = 'binary_crossentropy', optimizer='adam')\n",
        "    return model"
      ],
      "execution_count": 10,
      "outputs": []
    },
    {
      "cell_type": "code",
      "metadata": {
        "id": "hDOteAAb0hTz"
      },
      "source": [
        "# evaluate a model using repeated k-fold cross-validation\n",
        "def evaluate_model(X, y):\n",
        "    results = list()\n",
        "    n_inputs, n_outputs = X.shape[1], y.shape[1]\n",
        "    # define evaluation procedure\n",
        "    cv = RepeatedKFold(n_splits = 10, n_repeats = 3, random_state=1)\n",
        "    # enumerate folds\n",
        "    for train_ix, test_ix in cv.split(X):\n",
        "        X_train, X_test = X[train_ix], X[test_ix]\n",
        "        y_train, y_test = y[train_ix], y[test_ix]\n",
        "        # define model\n",
        "        model = get_model(n_inputs, n_outputs)\n",
        "        # fit model\n",
        "        model.fit(X_train, y_train, verbose = 1, epochs = 100)\n",
        "        # make a prediction on the test set\n",
        "        pred_y = model.predict(X_test)\n",
        "        # round probabilities to class labels\n",
        "        pred_y = pred_y.round()\n",
        "        # calculate accuracy\n",
        "        acc = accuracy_score(y_test, pred_y)\n",
        "        # store result\n",
        "        print('>%.3f'%acc)\n",
        "        results.append(acc)\n",
        "    return results\n",
        "# load dataset\n",
        "X,y = get_dataset()\n",
        "# evaluate model\n",
        "results = evaluate_model(X, y)\n",
        "# summarize performance\n",
        "print('Accuracy: %.3f (%.3f)'%(mean(results), std(results)))"
      ],
      "execution_count": null,
      "outputs": []
    },
    {
      "cell_type": "markdown",
      "metadata": {
        "id": "U9DRaMeT3QUi"
      },
      "source": [
        "* このコードは、独自のマルチラベル分類タスクでMLPモデルを評価するためのテンプレートとして使用することができます。\n",
        "* モデル内のノードやレイヤーの数は、簡単に適応させることができ、\n",
        "* データセットの複雑さに合わせて調整することができます。"
      ]
    },
    {
      "cell_type": "markdown",
      "metadata": {
        "id": "xIQTqIv-3yWZ"
      },
      "source": [
        "* モデル構成が選択されると、それを使用して、利用可能なすべてのデータに最終モデルを適合させ、新しいデータの予測を行うことができます。\n",
        "\n",
        "* 以下の例は、\n",
        "    * 最初にマルチラベル分類データセット全体にMLPモデルを適合させ、\n",
        "    * 次に保存されたモデルでpredict()関数を呼び出して、\n",
        "    * データの新しい行の予測を行うことで、これを実証しています。"
      ]
    },
    {
      "cell_type": "markdown",
      "metadata": {
        "id": "BroJ9lec38fo"
      },
      "source": [
        "* 例題を実行すると、モデルが適合し、新しい行の予測を行います。\n",
        "* 予想通り、予測には、マルチラベル分類タスクに必要な3つの出力変数、\n",
        "    * すなわち、**各クラス・ラベルの確率**が含まれています。"
      ]
    },
    {
      "cell_type": "code",
      "metadata": {
        "id": "4MZ-_m5g1_wz",
        "outputId": "836c1ff6-0efd-43cc-c97b-77769474192c",
        "colab": {
          "base_uri": "https://localhost:8080/",
          "height": 51
        }
      },
      "source": [
        "from numpy import asarray\n",
        "from sklearn.datasets import make_multilabel_classification\n",
        "from keras.models import Sequential\n",
        "from keras.layers import Dense\n",
        "\n",
        "# def get the dataset\n",
        "def get_dataset():\n",
        "    X,y = make_multilabel_classification(n_samples = 1000,\n",
        "                                         n_features = 10,\n",
        "                                         n_classes = 3,\n",
        "                                         n_labels = 2,\n",
        "                                         random_state = 1)\n",
        "    return X,y\n",
        "# get the model\n",
        "def get_model(n_inputs, n_outputs):\n",
        "    model = Sequential()\n",
        "    model.add(Dense(20, input_dim = n_inputs, \n",
        "                    kernel_initializer='he_uniform',\n",
        "                    activation = 'relu'))\n",
        "    model.add(Dense(n_outputs, activation = 'sigmoid'))\n",
        "    model.compile(loss = 'binary_crossentropy', optimizer='adam')\n",
        "    return model\n",
        "# load dataset\n",
        "X,y = get_dataset()\n",
        "n_inputs, n_outputs = X.shape[1], y.shape[1]\n",
        "# get model\n",
        "model = get_model(n_inputs, n_outputs)\n",
        "# fit the model on all data\n",
        "model.fit(X, y, verbose = 0, epochs = 100)\n",
        "# make a prediction for new data\n",
        "row = [3,3,6,7,8,2,11,11,1,3]\n",
        "newX = asarray([row])\n",
        "print(newX)\n",
        "pred_y = model.predict(newX)\n",
        "print('Predicted: %s'%pred_y[0])"
      ],
      "execution_count": 13,
      "outputs": [
        {
          "output_type": "stream",
          "text": [
            "[[ 3  3  6  7  8  2 11 11  1  3]]\n",
            "Predicted: [0.99935555 0.9362115  0.03240624]\n"
          ],
          "name": "stdout"
        }
      ]
    },
    {
      "cell_type": "code",
      "metadata": {
        "id": "ZbMP4w2m5--b"
      },
      "source": [
        ""
      ],
      "execution_count": null,
      "outputs": []
    }
  ]
}