{
  "nbformat": 4,
  "nbformat_minor": 0,
  "metadata": {
    "colab": {
      "name": "For_gaining_scores.ipynb",
      "provenance": [],
      "authorship_tag": "ABX9TyOY1xWYwlk8UDEOgkiPrrXI",
      "include_colab_link": true
    },
    "kernelspec": {
      "name": "python3",
      "display_name": "Python 3"
    }
  },
  "cells": [
    {
      "cell_type": "markdown",
      "metadata": {
        "id": "view-in-github",
        "colab_type": "text"
      },
      "source": [
        "<a href=\"https://colab.research.google.com/github/anko191/Python_Kaggle/blob/master/Tensorflow/For_gaining_scores.ipynb\" target=\"_parent\"><img src=\"https://colab.research.google.com/assets/colab-badge.svg\" alt=\"Open In Colab\"/></a>"
      ]
    },
    {
      "cell_type": "markdown",
      "metadata": {
        "id": "74FZLY3zgjev"
      },
      "source": [
        "## 予測値をp_min ~ p_max の間に落とし込む"
      ]
    },
    {
      "cell_type": "code",
      "metadata": {
        "id": "uyqSDKBfgjH-"
      },
      "source": [
        "p_min = 0.001\n",
        "p_max = 0.999"
      ],
      "execution_count": null,
      "outputs": []
    },
    {
      "cell_type": "code",
      "metadata": {
        "id": "0LE9EUYs9lo7"
      },
      "source": [
        "def metric(y_true, y_pred):\n",
        "    y_pred = tf.clip_by_value(y_pred, p_min, p_max)\n",
        "    return -K.mean(y_true * K.log(y_pred) + (1 - y_true) * K.log(1 - y_pred))"
      ],
      "execution_count": null,
      "outputs": []
    },
    {
      "cell_type": "markdown",
      "metadata": {
        "id": "9FObbIv2g22O"
      },
      "source": [
        "## BinaryCrossentropyのlabel_smoothingを使う\n",
        "* import tensorflow.keras.losses as LOSS"
      ]
    },
    {
      "cell_type": "code",
      "metadata": {
        "id": "ShOsma6Yg3Iy"
      },
      "source": [
        "model.compile(optimizer = optimizer,\n",
        "                loss = LOSS.BinaryCrossentropy(label_smoothing = 0.001),\n",
        "                metrics = metric,\n",
        "                )"
      ],
      "execution_count": null,
      "outputs": []
    }
  ]
}