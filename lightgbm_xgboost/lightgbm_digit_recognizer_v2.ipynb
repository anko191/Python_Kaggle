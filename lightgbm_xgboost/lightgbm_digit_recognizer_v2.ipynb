{
  "nbformat": 4,
  "nbformat_minor": 0,
  "metadata": {
    "kernelspec": {
      "display_name": "Python 3",
      "language": "python",
      "name": "python3"
    },
    "language_info": {
      "codemirror_mode": {
        "name": "ipython",
        "version": 3
      },
      "file_extension": ".py",
      "mimetype": "text/x-python",
      "name": "python",
      "nbconvert_exporter": "python",
      "pygments_lexer": "ipython3",
      "version": "3.7.6"
    },
    "colab": {
      "name": "lightgbm_digit-recognizer_v2.ipynb",
      "provenance": [],
      "include_colab_link": true
    }
  },
  "cells": [
    {
      "cell_type": "markdown",
      "metadata": {
        "id": "view-in-github",
        "colab_type": "text"
      },
      "source": [
        "<a href=\"https://colab.research.google.com/github/anko191/Python_Kaggle/blob/master/lightgbm_xgboost/lightgbm_digit_recognizer_v2.ipynb\" target=\"_parent\"><img src=\"https://colab.research.google.com/assets/colab-badge.svg\" alt=\"Open In Colab\"/></a>"
      ]
    },
    {
      "cell_type": "code",
      "metadata": {
        "id": "M53pbbYYQ8OE",
        "colab_type": "code",
        "colab": {}
      },
      "source": [
        "import sys, os\n",
        "sys.path.append(os.pardir)\n",
        "%pwd"
      ],
      "execution_count": null,
      "outputs": []
    },
    {
      "cell_type": "code",
      "metadata": {
        "scrolled": true,
        "id": "90OvxemEQ8OJ",
        "colab_type": "code",
        "colab": {}
      },
      "source": [
        "# This Python 3 environment comes with many helpful analytics libraries installed\n",
        "# It is defined by the kaggle/python Docker image: https://github.com/kaggle/docker-python\n",
        "# For example, here's several helpful packages to load\n",
        "\n",
        "import numpy as np # linear algebra\n",
        "import pandas as pd # data processing, CSV file I/O (e.g. pd.read_csv)\n",
        "\n",
        "# Input data files are available in the read-only \"../input/\" directory\n",
        "# For example, running this (by clicking run or pressing Shift+Enter) will list all files under the input directory\n",
        "\n",
        "import os\n",
        "for dirname, _, filenames in os.walk('--'):\n",
        "    for filename in filenames:\n",
        "        print(os.path.join(dirname, filename))\n",
        "\n",
        "# You can write up to 5GB to the current directory (/kaggle/working/) that gets preserved as output when you create a version using \"Save & Run All\" \n",
        "# You can also write temporary files to /kaggle/temp/, but they won't be saved outside of the current session"
      ],
      "execution_count": null,
      "outputs": []
    },
    {
      "cell_type": "code",
      "metadata": {
        "id": "oX-go5aJQ8OM",
        "colab_type": "code",
        "colab": {},
        "outputId": "f8ed3068-d5a7-481b-8eeb-3870ae4d419e"
      },
      "source": [
        "train = pd.read_csv('--')\n",
        "test = pd.read_csv('--')\n",
        "sub = pd.read_csv('--')\n",
        "\n",
        "from sklearn.model_selection import train_test_split\n",
        "T_train, T_valid = train_test_split(train, test_size = 0.2, shuffle=True)\n",
        "y_train, X_train = T_train.iloc[:,0], T_train.iloc[:,1:]\n",
        "y_valid, X_valid = T_valid.iloc[:,0], T_valid.iloc[:,1:]\n",
        "X_test = test\n",
        "\n",
        "import matplotlib.pyplot as plt\n",
        "X_train = X_train.values\n",
        "y_train = y_train.values\n",
        "X_valid = X_valid.values\n",
        "y_valid = y_valid.values\n",
        "X_test = X_test.values\n",
        "X_train,X_valid = X_train/255, X_valid/255\n",
        "X_train.shape\n",
        "X_valid.shape"
      ],
      "execution_count": null,
      "outputs": [
        {
          "output_type": "execute_result",
          "data": {
            "text/plain": [
              "(8400, 784)"
            ]
          },
          "metadata": {
            "tags": []
          },
          "execution_count": 7
        }
      ]
    },
    {
      "cell_type": "code",
      "metadata": {
        "id": "io415e_8Q8OP",
        "colab_type": "code",
        "colab": {},
        "outputId": "a82466d1-448a-4554-9d4e-272a7a3b5094"
      },
      "source": [
        "import lightgbm as lgb\n",
        "lgb.LGBMClassifier(max_bin=255, min_data_in_leaf=20, min_sum_hessian_in_leaf=0.001,\n",
        "               num_iterations=100, save_binary=False)"
      ],
      "execution_count": null,
      "outputs": [
        {
          "output_type": "execute_result",
          "data": {
            "text/plain": [
              "LGBMClassifier(max_bin=255, min_data_in_leaf=20, min_sum_hessian_in_leaf=0.001,\n",
              "               num_iterations=100, save_binary=False)"
            ]
          },
          "metadata": {
            "tags": []
          },
          "execution_count": 8
        }
      ]
    },
    {
      "cell_type": "code",
      "metadata": {
        "id": "mbPc6E3eQ8OR",
        "colab_type": "code",
        "colab": {},
        "outputId": "fe653d1d-ca04-473d-da61-50cfb89bce4b"
      },
      "source": [
        "train_data = lgb.Dataset(X_train, label = y_train)\n",
        "valid_data = lgb.Dataset(X_valid, label = y_valid, reference=train_data)\n",
        "params = {\n",
        "    'task':'train',\n",
        "    'boosting_type':'gbdt',\n",
        "    'objective':'multiclass',\n",
        "    'num_class':10,\n",
        "    'verbose':0,\n",
        "}\n",
        "gbm = lgb.train(\n",
        "    params,\n",
        "    train_data,\n",
        "    valid_sets = valid_data,\n",
        "    num_boost_round=100,\n",
        "    verbose_eval=5,\n",
        ")"
      ],
      "execution_count": null,
      "outputs": [
        {
          "output_type": "stream",
          "text": [
            "[5]\tvalid_0's multi_logloss: 1.28053\n",
            "[10]\tvalid_0's multi_logloss: 0.87798\n",
            "[15]\tvalid_0's multi_logloss: 0.646354\n",
            "[20]\tvalid_0's multi_logloss: 0.49882\n",
            "[25]\tvalid_0's multi_logloss: 0.401073\n",
            "[30]\tvalid_0's multi_logloss: 0.33211\n",
            "[35]\tvalid_0's multi_logloss: 0.282697\n",
            "[40]\tvalid_0's multi_logloss: 0.246893\n",
            "[45]\tvalid_0's multi_logloss: 0.219228\n",
            "[50]\tvalid_0's multi_logloss: 0.197791\n",
            "[55]\tvalid_0's multi_logloss: 0.180916\n",
            "[60]\tvalid_0's multi_logloss: 0.16747\n",
            "[65]\tvalid_0's multi_logloss: 0.156897\n",
            "[70]\tvalid_0's multi_logloss: 0.14806\n",
            "[75]\tvalid_0's multi_logloss: 0.140428\n",
            "[80]\tvalid_0's multi_logloss: 0.134517\n",
            "[85]\tvalid_0's multi_logloss: 0.129129\n",
            "[90]\tvalid_0's multi_logloss: 0.124539\n",
            "[95]\tvalid_0's multi_logloss: 0.120199\n",
            "[100]\tvalid_0's multi_logloss: 0.116641\n"
          ],
          "name": "stdout"
        }
      ]
    },
    {
      "cell_type": "code",
      "metadata": {
        "id": "syJw18oqQ8OU",
        "colab_type": "code",
        "colab": {}
      },
      "source": [
        "preds = gbm.predict(X_valid)\n",
        "y_pred = []\n",
        "for x in preds:\n",
        "    y_pred.append(np.argmax(x))\n",
        "from sklearn.metrics import accuracy_score"
      ],
      "execution_count": null,
      "outputs": []
    },
    {
      "cell_type": "code",
      "metadata": {
        "id": "BwXkZezUQ8OX",
        "colab_type": "code",
        "colab": {},
        "outputId": "1d9faa50-33fc-48cd-fc1d-fc19a9e0ce4b"
      },
      "source": [
        "y_valid"
      ],
      "execution_count": null,
      "outputs": [
        {
          "output_type": "execute_result",
          "data": {
            "text/plain": [
              "array([8, 0, 7, ..., 0, 3, 0], dtype=int64)"
            ]
          },
          "metadata": {
            "tags": []
          },
          "execution_count": 14
        }
      ]
    },
    {
      "cell_type": "code",
      "metadata": {
        "id": "OA1Y4dehQ8Oa",
        "colab_type": "code",
        "colab": {},
        "outputId": "18681885-c388-49b9-fa4f-2595bfd61138"
      },
      "source": [
        "np.array(y_pred)"
      ],
      "execution_count": null,
      "outputs": [
        {
          "output_type": "execute_result",
          "data": {
            "text/plain": [
              "array([8, 0, 7, ..., 0, 3, 0], dtype=int64)"
            ]
          },
          "metadata": {
            "tags": []
          },
          "execution_count": 19
        }
      ]
    },
    {
      "cell_type": "code",
      "metadata": {
        "id": "jW7WBhwpQ8Oc",
        "colab_type": "code",
        "colab": {},
        "outputId": "4b676741-949a-47c0-cc50-fcf694586ba1"
      },
      "source": [
        "print(accuracy_score(y_valid, y_pred))"
      ],
      "execution_count": null,
      "outputs": [
        {
          "output_type": "stream",
          "text": [
            "0.965952380952381\n"
          ],
          "name": "stdout"
        }
      ]
    },
    {
      "cell_type": "code",
      "metadata": {
        "id": "m00oz0cAQ8Og",
        "colab_type": "code",
        "colab": {},
        "outputId": "1db69e72-091c-4653-fb1e-8f5ffb034a8f"
      },
      "source": [
        "from sklearn.model_selection import KFold\n",
        "kf = KFold(n_splits = 4, shuffle =True)\n",
        "kf"
      ],
      "execution_count": null,
      "outputs": [
        {
          "output_type": "execute_result",
          "data": {
            "text/plain": [
              "KFold(n_splits=4, random_state=None, shuffle=True)"
            ]
          },
          "metadata": {
            "tags": []
          },
          "execution_count": 22
        }
      ]
    },
    {
      "cell_type": "code",
      "metadata": {
        "id": "OIU6tDhAQ8Oi",
        "colab_type": "code",
        "colab": {},
        "outputId": "ca87c7bc-33e7-4e39-c3b5-4e5607b2d0ec"
      },
      "source": [
        "train = pd.read_csv('--')\n",
        "test = pd.read_csv('--')\n",
        "sub = pd.read_csv('--')\n",
        "\n",
        "for tr_idx, va_idx in kf.split(train):\n",
        "    T_train, T_valid = train.iloc[tr_idx,:], train.iloc[va_idx,:]\n",
        "    y_train, X_train = T_train.iloc[:,0], T_train.iloc[:,1:]\n",
        "    y_valid, X_valid = T_valid.iloc[:,0], T_valid.iloc[:,1:]\n",
        "    X_train = X_train.values\n",
        "    y_train = y_train.values\n",
        "    X_valid = X_valid.values\n",
        "    y_valid = y_valid.values\n",
        "    X_test = test\n",
        "    X_test = X_test.values\n",
        "    X_train,X_valid = X_train/255, X_valid/255\n",
        "    train_data = lgb.Dataset(X_train, label = y_train)\n",
        "    valid_data = lgb.Dataset(X_valid, label = y_valid, reference=train_data)\n",
        "    params = {\n",
        "        'task':'train',\n",
        "        'boosting_type':'gbdt',\n",
        "        'objective':'multiclass',\n",
        "        'num_class':10,\n",
        "        'verbose':0,\n",
        "    }\n",
        "    gbm = lgb.train(\n",
        "        params,\n",
        "        train_data,\n",
        "        valid_sets = valid_data,\n",
        "        num_boost_round=100,\n",
        "        verbose_eval=5,\n",
        "    )\n",
        "    preds = gbm.predict(X_valid)\n",
        "    y_pred = []\n",
        "    for x in preds:\n",
        "        y_pred.append(np.argmax(x))\n",
        "    from sklearn.metrics import accuracy_score\n",
        "    np.array(y_pred)\n",
        "    print(accuracy_score(y_valid, y_pred))"
      ],
      "execution_count": null,
      "outputs": [
        {
          "output_type": "stream",
          "text": [
            "[5]\tvalid_0's multi_logloss: 1.2728\n",
            "[10]\tvalid_0's multi_logloss: 0.870071\n",
            "[15]\tvalid_0's multi_logloss: 0.63694\n",
            "[20]\tvalid_0's multi_logloss: 0.49009\n",
            "[25]\tvalid_0's multi_logloss: 0.393308\n",
            "[30]\tvalid_0's multi_logloss: 0.323331\n",
            "[35]\tvalid_0's multi_logloss: 0.273624\n",
            "[40]\tvalid_0's multi_logloss: 0.236815\n",
            "[45]\tvalid_0's multi_logloss: 0.209617\n",
            "[50]\tvalid_0's multi_logloss: 0.188694\n",
            "[55]\tvalid_0's multi_logloss: 0.171966\n",
            "[60]\tvalid_0's multi_logloss: 0.158346\n",
            "[65]\tvalid_0's multi_logloss: 0.147501\n",
            "[70]\tvalid_0's multi_logloss: 0.138896\n",
            "[75]\tvalid_0's multi_logloss: 0.130986\n",
            "[80]\tvalid_0's multi_logloss: 0.124493\n",
            "[85]\tvalid_0's multi_logloss: 0.118958\n",
            "[90]\tvalid_0's multi_logloss: 0.113991\n",
            "[95]\tvalid_0's multi_logloss: 0.110021\n",
            "[100]\tvalid_0's multi_logloss: 0.10651\n",
            "0.9689523809523809\n",
            "[5]\tvalid_0's multi_logloss: 1.27263\n",
            "[10]\tvalid_0's multi_logloss: 0.868949\n",
            "[15]\tvalid_0's multi_logloss: 0.637313\n",
            "[20]\tvalid_0's multi_logloss: 0.490574\n",
            "[25]\tvalid_0's multi_logloss: 0.39323\n",
            "[30]\tvalid_0's multi_logloss: 0.324813\n",
            "[35]\tvalid_0's multi_logloss: 0.276229\n",
            "[40]\tvalid_0's multi_logloss: 0.240914\n",
            "[45]\tvalid_0's multi_logloss: 0.214243\n",
            "[50]\tvalid_0's multi_logloss: 0.193303\n",
            "[55]\tvalid_0's multi_logloss: 0.176725\n",
            "[60]\tvalid_0's multi_logloss: 0.163988\n",
            "[65]\tvalid_0's multi_logloss: 0.15345\n",
            "[70]\tvalid_0's multi_logloss: 0.144947\n",
            "[75]\tvalid_0's multi_logloss: 0.137623\n",
            "[80]\tvalid_0's multi_logloss: 0.131533\n",
            "[85]\tvalid_0's multi_logloss: 0.126106\n",
            "[90]\tvalid_0's multi_logloss: 0.12157\n",
            "[95]\tvalid_0's multi_logloss: 0.117601\n",
            "[100]\tvalid_0's multi_logloss: 0.114128\n",
            "0.9654285714285714\n",
            "[5]\tvalid_0's multi_logloss: 1.27181\n",
            "[10]\tvalid_0's multi_logloss: 0.872976\n",
            "[15]\tvalid_0's multi_logloss: 0.643255\n",
            "[20]\tvalid_0's multi_logloss: 0.496032\n",
            "[25]\tvalid_0's multi_logloss: 0.397316\n",
            "[30]\tvalid_0's multi_logloss: 0.329073\n",
            "[35]\tvalid_0's multi_logloss: 0.279342\n",
            "[40]\tvalid_0's multi_logloss: 0.242997\n",
            "[45]\tvalid_0's multi_logloss: 0.215945\n",
            "[50]\tvalid_0's multi_logloss: 0.195242\n",
            "[55]\tvalid_0's multi_logloss: 0.178167\n",
            "[60]\tvalid_0's multi_logloss: 0.164672\n",
            "[65]\tvalid_0's multi_logloss: 0.153754\n",
            "[70]\tvalid_0's multi_logloss: 0.144716\n",
            "[75]\tvalid_0's multi_logloss: 0.137133\n",
            "[80]\tvalid_0's multi_logloss: 0.130885\n",
            "[85]\tvalid_0's multi_logloss: 0.125794\n",
            "[90]\tvalid_0's multi_logloss: 0.121278\n",
            "[95]\tvalid_0's multi_logloss: 0.117344\n",
            "[100]\tvalid_0's multi_logloss: 0.11402\n",
            "0.969047619047619\n",
            "[5]\tvalid_0's multi_logloss: 1.27304\n",
            "[10]\tvalid_0's multi_logloss: 0.87083\n",
            "[15]\tvalid_0's multi_logloss: 0.636101\n",
            "[20]\tvalid_0's multi_logloss: 0.487782\n",
            "[25]\tvalid_0's multi_logloss: 0.38922\n",
            "[30]\tvalid_0's multi_logloss: 0.320251\n",
            "[35]\tvalid_0's multi_logloss: 0.271045\n",
            "[40]\tvalid_0's multi_logloss: 0.235541\n",
            "[45]\tvalid_0's multi_logloss: 0.207605\n",
            "[50]\tvalid_0's multi_logloss: 0.186902\n",
            "[55]\tvalid_0's multi_logloss: 0.170174\n",
            "[60]\tvalid_0's multi_logloss: 0.157586\n",
            "[65]\tvalid_0's multi_logloss: 0.146622\n",
            "[70]\tvalid_0's multi_logloss: 0.137425\n",
            "[75]\tvalid_0's multi_logloss: 0.130209\n",
            "[80]\tvalid_0's multi_logloss: 0.124019\n",
            "[85]\tvalid_0's multi_logloss: 0.11873\n",
            "[90]\tvalid_0's multi_logloss: 0.114136\n",
            "[95]\tvalid_0's multi_logloss: 0.1103\n",
            "[100]\tvalid_0's multi_logloss: 0.106943\n",
            "0.9676190476190476\n"
          ],
          "name": "stdout"
        }
      ]
    },
    {
      "cell_type": "code",
      "metadata": {
        "id": "7Det4ZoKQ8Ok",
        "colab_type": "code",
        "colab": {}
      },
      "source": [
        "preds = gbm.predict(X_test)\n",
        "y_pred = []\n",
        "for x in preds:\n",
        "    y_pred.append(np.argmax(x))\n",
        "sub['Label'] = list(map(int,y_pred))\n",
        "sub.to_csv('submission.csv', index = False)"
      ],
      "execution_count": null,
      "outputs": []
    },
    {
      "cell_type": "code",
      "metadata": {
        "id": "TQGJOOA0Q8Om",
        "colab_type": "code",
        "colab": {}
      },
      "source": [
        ""
      ],
      "execution_count": null,
      "outputs": []
    }
  ]
}