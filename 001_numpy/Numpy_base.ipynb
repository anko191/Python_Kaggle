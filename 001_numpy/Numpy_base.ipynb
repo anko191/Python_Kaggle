{
  "nbformat": 4,
  "nbformat_minor": 0,
  "metadata": {
    "colab": {
      "name": "Numpy_base",
      "provenance": [],
      "collapsed_sections": [],
      "authorship_tag": "ABX9TyOc0TGBVYpwvMFVvKhaYGbn",
      "include_colab_link": true
    },
    "kernelspec": {
      "name": "python3",
      "display_name": "Python 3"
    }
  },
  "cells": [
    {
      "cell_type": "markdown",
      "metadata": {
        "id": "view-in-github",
        "colab_type": "text"
      },
      "source": [
        "<a href=\"https://colab.research.google.com/github/anko191/Python_Kaggle/blob/master/numpy/Numpy_base.ipynb\" target=\"_parent\"><img src=\"https://colab.research.google.com/assets/colab-badge.svg\" alt=\"Open In Colab\"/></a>"
      ]
    },
    {
      "cell_type": "markdown",
      "metadata": {
        "id": "uTCqjrpXKoOe",
        "colab_type": "text"
      },
      "source": [
        "#ConfirmVersion"
      ]
    },
    {
      "cell_type": "code",
      "metadata": {
        "id": "l4gibcAYJu-o",
        "colab_type": "code",
        "colab": {
          "base_uri": "https://localhost:8080/",
          "height": 34
        },
        "outputId": "7653b758-9b1c-4bd6-9b4f-158435127a03"
      },
      "source": [
        "import numpy as np\n",
        "print(np.__version__)"
      ],
      "execution_count": 1,
      "outputs": [
        {
          "output_type": "stream",
          "text": [
            "1.18.5\n"
          ],
          "name": "stdout"
        }
      ]
    },
    {
      "cell_type": "markdown",
      "metadata": {
        "id": "2bMNDlCLKsBY",
        "colab_type": "text"
      },
      "source": [
        "#Datacasting"
      ]
    },
    {
      "cell_type": "code",
      "metadata": {
        "id": "4AYwuRPuJ6Du",
        "colab_type": "code",
        "colab": {
          "base_uri": "https://localhost:8080/",
          "height": 34
        },
        "outputId": "54ab82c4-47c8-4924-8cf8-bf723690d2c1"
      },
      "source": [
        "a = np.array([1,2,3], dtype = np.int64)\n",
        "print(a.dtype)\n",
        "# or 'i8'"
      ],
      "execution_count": 2,
      "outputs": [
        {
          "output_type": "stream",
          "text": [
            "int64\n"
          ],
          "name": "stdout"
        }
      ]
    },
    {
      "cell_type": "code",
      "metadata": {
        "id": "g_8QZNRYM1d3",
        "colab_type": "code",
        "colab": {
          "base_uri": "https://localhost:8080/",
          "height": 34
        },
        "outputId": "cbb5a6e3-2e81-41ee-a6ec-0f965b118c0c"
      },
      "source": [
        "a = np.array([1,2,3], dtype = int)\n",
        "print(a.dtype)"
      ],
      "execution_count": 5,
      "outputs": [
        {
          "output_type": "stream",
          "text": [
            "int64\n"
          ],
          "name": "stdout"
        }
      ]
    },
    {
      "cell_type": "markdown",
      "metadata": {
        "id": "dLkbJ_HiNGTK",
        "colab_type": "text"
      },
      "source": [
        "## Confirm max and min dtypes"
      ]
    },
    {
      "cell_type": "code",
      "metadata": {
        "id": "3AqADBh9NBXt",
        "colab_type": "code",
        "colab": {
          "base_uri": "https://localhost:8080/",
          "height": 34
        },
        "outputId": "0d9a3690-8084-436e-e706-da881625aa1b"
      },
      "source": [
        "ii64 = np.iinfo(np.int64)\n",
        "print(type(ii64))"
      ],
      "execution_count": 6,
      "outputs": [
        {
          "output_type": "stream",
          "text": [
            "<class 'numpy.iinfo'>\n"
          ],
          "name": "stdout"
        }
      ]
    },
    {
      "cell_type": "code",
      "metadata": {
        "id": "HJ3iCqJZNOE9",
        "colab_type": "code",
        "colab": {
          "base_uri": "https://localhost:8080/",
          "height": 119
        },
        "outputId": "6c79be2f-a391-4993-9bba-ad0527ffde03"
      },
      "source": [
        "print(ii64)"
      ],
      "execution_count": 7,
      "outputs": [
        {
          "output_type": "stream",
          "text": [
            "Machine parameters for int64\n",
            "---------------------------------------------------------------\n",
            "min = -9223372036854775808\n",
            "max = 9223372036854775807\n",
            "---------------------------------------------------------------\n",
            "\n"
          ],
          "name": "stdout"
        }
      ]
    },
    {
      "cell_type": "code",
      "metadata": {
        "id": "eFh4EMVANQAm",
        "colab_type": "code",
        "colab": {
          "base_uri": "https://localhost:8080/",
          "height": 68
        },
        "outputId": "d7159e21-6636-4735-ee44-2eae30637918"
      },
      "source": [
        "print(ii64.max)\n",
        "print(ii64.min)\n",
        "print(ii64.bits)"
      ],
      "execution_count": 8,
      "outputs": [
        {
          "output_type": "stream",
          "text": [
            "9223372036854775807\n",
            "-9223372036854775808\n",
            "64\n"
          ],
          "name": "stdout"
        }
      ]
    },
    {
      "cell_type": "code",
      "metadata": {
        "id": "gq01nnQtNU7-",
        "colab_type": "code",
        "colab": {
          "base_uri": "https://localhost:8080/",
          "height": 323
        },
        "outputId": "5f06c3a6-a10c-49a9-a5e6-811adc9bbff9"
      },
      "source": [
        "print(np.iinfo('i4'))\n",
        "print(np.iinfo('i2'))\n",
        "print(np.iinfo('uint64'))"
      ],
      "execution_count": 11,
      "outputs": [
        {
          "output_type": "stream",
          "text": [
            "Machine parameters for int32\n",
            "---------------------------------------------------------------\n",
            "min = -2147483648\n",
            "max = 2147483647\n",
            "---------------------------------------------------------------\n",
            "\n",
            "Machine parameters for int16\n",
            "---------------------------------------------------------------\n",
            "min = -32768\n",
            "max = 32767\n",
            "---------------------------------------------------------------\n",
            "\n",
            "Machine parameters for uint64\n",
            "---------------------------------------------------------------\n",
            "min = 0\n",
            "max = 18446744073709551615\n",
            "---------------------------------------------------------------\n",
            "\n"
          ],
          "name": "stdout"
        }
      ]
    },
    {
      "cell_type": "code",
      "metadata": {
        "id": "hn0Zqf2QNbye",
        "colab_type": "code",
        "colab": {
          "base_uri": "https://localhost:8080/",
          "height": 338
        },
        "outputId": "b05b9464-0121-4837-8f01-f18f2de95973"
      },
      "source": [
        "# but ndarray is not iinfo()\n",
        "a = np.array([1,2,3], dtype = np.int8)\n",
        "print(type(a))\n",
        "print(np.iinfo(a))"
      ],
      "execution_count": 12,
      "outputs": [
        {
          "output_type": "stream",
          "text": [
            "<class 'numpy.ndarray'>\n"
          ],
          "name": "stdout"
        },
        {
          "output_type": "error",
          "ename": "ValueError",
          "evalue": "ignored",
          "traceback": [
            "\u001b[0;31m---------------------------------------------------------------------------\u001b[0m",
            "\u001b[0;31mValueError\u001b[0m                                Traceback (most recent call last)",
            "\u001b[0;32m<ipython-input-12-340d65bcb0ec>\u001b[0m in \u001b[0;36m<module>\u001b[0;34m()\u001b[0m\n\u001b[1;32m      2\u001b[0m \u001b[0ma\u001b[0m \u001b[0;34m=\u001b[0m \u001b[0mnp\u001b[0m\u001b[0;34m.\u001b[0m\u001b[0marray\u001b[0m\u001b[0;34m(\u001b[0m\u001b[0;34m[\u001b[0m\u001b[0;36m1\u001b[0m\u001b[0;34m,\u001b[0m\u001b[0;36m2\u001b[0m\u001b[0;34m,\u001b[0m\u001b[0;36m3\u001b[0m\u001b[0;34m]\u001b[0m\u001b[0;34m,\u001b[0m \u001b[0mdtype\u001b[0m \u001b[0;34m=\u001b[0m \u001b[0mnp\u001b[0m\u001b[0;34m.\u001b[0m\u001b[0mint8\u001b[0m\u001b[0;34m)\u001b[0m\u001b[0;34m\u001b[0m\u001b[0;34m\u001b[0m\u001b[0m\n\u001b[1;32m      3\u001b[0m \u001b[0mprint\u001b[0m\u001b[0;34m(\u001b[0m\u001b[0mtype\u001b[0m\u001b[0;34m(\u001b[0m\u001b[0ma\u001b[0m\u001b[0;34m)\u001b[0m\u001b[0;34m)\u001b[0m\u001b[0;34m\u001b[0m\u001b[0;34m\u001b[0m\u001b[0m\n\u001b[0;32m----> 4\u001b[0;31m \u001b[0mprint\u001b[0m\u001b[0;34m(\u001b[0m\u001b[0mnp\u001b[0m\u001b[0;34m.\u001b[0m\u001b[0miinfo\u001b[0m\u001b[0;34m(\u001b[0m\u001b[0ma\u001b[0m\u001b[0;34m)\u001b[0m\u001b[0;34m)\u001b[0m\u001b[0;34m\u001b[0m\u001b[0;34m\u001b[0m\u001b[0m\n\u001b[0m",
            "\u001b[0;32m/usr/local/lib/python3.6/dist-packages/numpy/core/getlimits.py\u001b[0m in \u001b[0;36m__init__\u001b[0;34m(self, int_type)\u001b[0m\n\u001b[1;32m    504\u001b[0m         \u001b[0mself\u001b[0m\u001b[0;34m.\u001b[0m\u001b[0mkey\u001b[0m \u001b[0;34m=\u001b[0m \u001b[0;34m\"%s%d\"\u001b[0m \u001b[0;34m%\u001b[0m \u001b[0;34m(\u001b[0m\u001b[0mself\u001b[0m\u001b[0;34m.\u001b[0m\u001b[0mkind\u001b[0m\u001b[0;34m,\u001b[0m \u001b[0mself\u001b[0m\u001b[0;34m.\u001b[0m\u001b[0mbits\u001b[0m\u001b[0;34m)\u001b[0m\u001b[0;34m\u001b[0m\u001b[0;34m\u001b[0m\u001b[0m\n\u001b[1;32m    505\u001b[0m         \u001b[0;32mif\u001b[0m \u001b[0mself\u001b[0m\u001b[0;34m.\u001b[0m\u001b[0mkind\u001b[0m \u001b[0;32mnot\u001b[0m \u001b[0;32min\u001b[0m \u001b[0;34m'iu'\u001b[0m\u001b[0;34m:\u001b[0m\u001b[0;34m\u001b[0m\u001b[0;34m\u001b[0m\u001b[0m\n\u001b[0;32m--> 506\u001b[0;31m             \u001b[0;32mraise\u001b[0m \u001b[0mValueError\u001b[0m\u001b[0;34m(\u001b[0m\u001b[0;34m\"Invalid integer data type %r.\"\u001b[0m \u001b[0;34m%\u001b[0m \u001b[0;34m(\u001b[0m\u001b[0mself\u001b[0m\u001b[0;34m.\u001b[0m\u001b[0mkind\u001b[0m\u001b[0;34m,\u001b[0m\u001b[0;34m)\u001b[0m\u001b[0;34m)\u001b[0m\u001b[0;34m\u001b[0m\u001b[0;34m\u001b[0m\u001b[0m\n\u001b[0m\u001b[1;32m    507\u001b[0m \u001b[0;34m\u001b[0m\u001b[0m\n\u001b[1;32m    508\u001b[0m     \u001b[0;34m@\u001b[0m\u001b[0mproperty\u001b[0m\u001b[0;34m\u001b[0m\u001b[0;34m\u001b[0m\u001b[0m\n",
            "\u001b[0;31mValueError\u001b[0m: Invalid integer data type 'O'."
          ]
        }
      ]
    },
    {
      "cell_type": "code",
      "metadata": {
        "id": "HvFO97a5OEle",
        "colab_type": "code",
        "colab": {
          "base_uri": "https://localhost:8080/",
          "height": 221
        },
        "outputId": "e80dfbb7-c98d-4112-ace1-8fdf72558ef6"
      },
      "source": [
        "print(np.iinfo(a.dtype))\n",
        "print(np.iinfo(a[0]))"
      ],
      "execution_count": 14,
      "outputs": [
        {
          "output_type": "stream",
          "text": [
            "Machine parameters for int8\n",
            "---------------------------------------------------------------\n",
            "min = -128\n",
            "max = 127\n",
            "---------------------------------------------------------------\n",
            "\n",
            "Machine parameters for int8\n",
            "---------------------------------------------------------------\n",
            "min = -128\n",
            "max = 127\n",
            "---------------------------------------------------------------\n",
            "\n"
          ],
          "name": "stdout"
        }
      ]
    },
    {
      "cell_type": "markdown",
      "metadata": {
        "id": "-VfogslHONyS",
        "colab_type": "text"
      },
      "source": [
        "### using np.finfo() to float"
      ]
    },
    {
      "cell_type": "code",
      "metadata": {
        "id": "9_I7jiA8OJam",
        "colab_type": "code",
        "colab": {
          "base_uri": "https://localhost:8080/",
          "height": 187
        },
        "outputId": "9af8a946-e8b7-4da1-a9e8-c6a0268d8861"
      },
      "source": [
        "fi64 = np.finfo(np.float64)\n",
        "print(fi64)"
      ],
      "execution_count": 15,
      "outputs": [
        {
          "output_type": "stream",
          "text": [
            "Machine parameters for float64\n",
            "---------------------------------------------------------------\n",
            "precision =  15   resolution = 1.0000000000000001e-15\n",
            "machep =    -52   eps =        2.2204460492503131e-16\n",
            "negep =     -53   epsneg =     1.1102230246251565e-16\n",
            "minexp =  -1022   tiny =       2.2250738585072014e-308\n",
            "maxexp =   1024   max =        1.7976931348623157e+308\n",
            "nexp =       11   min =        -max\n",
            "---------------------------------------------------------------\n",
            "\n"
          ],
          "name": "stdout"
        }
      ]
    },
    {
      "cell_type": "markdown",
      "metadata": {
        "id": "GLX2G-btSsBo",
        "colab_type": "text"
      },
      "source": [
        "## array string"
      ]
    },
    {
      "cell_type": "code",
      "metadata": {
        "id": "U-wce_mCOWK2",
        "colab_type": "code",
        "colab": {
          "base_uri": "https://localhost:8080/",
          "height": 51
        },
        "outputId": "521596c6-7166-43c9-9ad6-da437eec7e7d"
      },
      "source": [
        "a_str = np.array([1,2,3], dtype=str)\n",
        "print(a_str)\n",
        "print(a_str.dtype)"
      ],
      "execution_count": 16,
      "outputs": [
        {
          "output_type": "stream",
          "text": [
            "['1' '2' '3']\n",
            "<U1\n"
          ],
          "name": "stdout"
        }
      ]
    },
    {
      "cell_type": "markdown",
      "metadata": {
        "id": "JVs7YnlQSws0",
        "colab_type": "text"
      },
      "source": [
        "###<U1 リトルエンディアン"
      ]
    },
    {
      "cell_type": "code",
      "metadata": {
        "id": "tJr5FAucSvYg",
        "colab_type": "code",
        "colab": {
          "base_uri": "https://localhost:8080/",
          "height": 34
        },
        "outputId": "873f2c26-2895-4013-feda-4226f0aa6dbb"
      },
      "source": [
        "a_str[0] = 'abcde'\n",
        "print(a_str)"
      ],
      "execution_count": 17,
      "outputs": [
        {
          "output_type": "stream",
          "text": [
            "['a' '2' '3']\n"
          ],
          "name": "stdout"
        }
      ]
    },
    {
      "cell_type": "markdown",
      "metadata": {
        "id": "Ytqy8bW4S8tH",
        "colab_type": "text"
      },
      "source": [
        "1 string only.\n",
        "The way to escape this problem is using dtype='U??'"
      ]
    },
    {
      "cell_type": "code",
      "metadata": {
        "id": "G8alK7jYS7ra",
        "colab_type": "code",
        "colab": {
          "base_uri": "https://localhost:8080/",
          "height": 34
        },
        "outputId": "aa2bb32f-6e80-4aa9-a0cd-59ca64def71a"
      },
      "source": [
        "a_str10 = np.array([1,2,3], dtype='U10')\n",
        "a_str10[0] = 'abcde'\n",
        "print(a_str10)"
      ],
      "execution_count": 19,
      "outputs": [
        {
          "output_type": "stream",
          "text": [
            "['abcde' '2' '3']\n"
          ],
          "name": "stdout"
        }
      ]
    },
    {
      "cell_type": "markdown",
      "metadata": {
        "id": "2ktdZhxrTTwh",
        "colab_type": "text"
      },
      "source": [
        "### object型 Pythonobject multi-dataset"
      ]
    },
    {
      "cell_type": "code",
      "metadata": {
        "id": "0w0RReo5TPiX",
        "colab_type": "code",
        "colab": {
          "base_uri": "https://localhost:8080/",
          "height": 34
        },
        "outputId": "6874e760-a030-4638-eef7-6f4be3b66de5"
      },
      "source": [
        "a_object = np.array([1,0.1,'one'], dtype = object)\n",
        "print(a_object)"
      ],
      "execution_count": 20,
      "outputs": [
        {
          "output_type": "stream",
          "text": [
            "[1 0.1 'one']\n"
          ],
          "name": "stdout"
        }
      ]
    },
    {
      "cell_type": "code",
      "metadata": {
        "id": "pPp3JjrSTdyW",
        "colab_type": "code",
        "colab": {
          "base_uri": "https://localhost:8080/",
          "height": 51
        },
        "outputId": "262d788b-fd89-405c-9d34-708d2cd0d568"
      },
      "source": [
        "print(type(a_object[0]))\n",
        "print(type(a_object[1]))"
      ],
      "execution_count": 21,
      "outputs": [
        {
          "output_type": "stream",
          "text": [
            "<class 'int'>\n",
            "<class 'float'>\n"
          ],
          "name": "stdout"
        }
      ]
    },
    {
      "cell_type": "markdown",
      "metadata": {
        "id": "23udkwyqTrf0",
        "colab_type": "text"
      },
      "source": [
        "This can be achieve by using 'list',<br>\n",
        "but caluculation is different."
      ]
    },
    {
      "cell_type": "code",
      "metadata": {
        "id": "Jp_1E7-NTiZq",
        "colab_type": "code",
        "colab": {
          "base_uri": "https://localhost:8080/",
          "height": 51
        },
        "outputId": "a9f458d3-ef57-4d07-879e-e767992485b8"
      },
      "source": [
        "l = [1,0.1,'oneONE']\n",
        "print(a_object * 2)\n",
        "print(l*2)"
      ],
      "execution_count": 22,
      "outputs": [
        {
          "output_type": "stream",
          "text": [
            "[2 0.2 'oneone']\n",
            "[1, 0.1, 'oneONE', 1, 0.1, 'oneONE']\n"
          ],
          "name": "stdout"
        }
      ]
    },
    {
      "cell_type": "markdown",
      "metadata": {
        "id": "8-4GJSB6UL5X",
        "colab_type": "text"
      },
      "source": [
        "# data type casting by using astype()"
      ]
    },
    {
      "cell_type": "code",
      "metadata": {
        "id": "aV6K3FKJUJlx",
        "colab_type": "code",
        "colab": {
          "base_uri": "https://localhost:8080/",
          "height": 51
        },
        "outputId": "9fcaae1b-7bb2-41ea-a259-b699d3150742"
      },
      "source": [
        "a = np.array([1,2,3])\n",
        "print(a)\n",
        "a_float = a.astype(np.float32)\n",
        "print(a_float)"
      ],
      "execution_count": 25,
      "outputs": [
        {
          "output_type": "stream",
          "text": [
            "[1 2 3]\n",
            "[1. 2. 3.]\n"
          ],
          "name": "stdout"
        }
      ]
    },
    {
      "cell_type": "code",
      "metadata": {
        "id": "UiMECKqPUW5x",
        "colab_type": "code",
        "colab": {
          "base_uri": "https://localhost:8080/",
          "height": 34
        },
        "outputId": "e8a284b2-2b97-4814-ab50-19fdc7358b97"
      },
      "source": [
        "a_float = a.astype(float)\n",
        "print(a_float.dtype)"
      ],
      "execution_count": 26,
      "outputs": [
        {
          "output_type": "stream",
          "text": [
            "float64\n"
          ],
          "name": "stdout"
        }
      ]
    },
    {
      "cell_type": "code",
      "metadata": {
        "id": "gfMwDfZUUhqK",
        "colab_type": "code",
        "colab": {
          "base_uri": "https://localhost:8080/",
          "height": 34
        },
        "outputId": "ba82bbf9-6fe9-4aaf-fde7-350097786e47"
      },
      "source": [
        "a_str = a.astype(str)\n",
        "print(a_str.dtype)"
      ],
      "execution_count": 28,
      "outputs": [
        {
          "output_type": "stream",
          "text": [
            "<U21\n"
          ],
          "name": "stdout"
        }
      ]
    },
    {
      "cell_type": "code",
      "metadata": {
        "id": "itKRv66qUkWg",
        "colab_type": "code",
        "colab": {
          "base_uri": "https://localhost:8080/",
          "height": 34
        },
        "outputId": "df61e46f-acd7-481e-fcbc-200a426150b9"
      },
      "source": [
        "a_int = a.astype('int32')\n",
        "print(a_int.dtype)"
      ],
      "execution_count": 30,
      "outputs": [
        {
          "output_type": "stream",
          "text": [
            "int32\n"
          ],
          "name": "stdout"
        }
      ]
    },
    {
      "cell_type": "markdown",
      "metadata": {
        "id": "qfoiuSimUsE2",
        "colab_type": "text"
      },
      "source": [
        "Points to note when converting(casting) with astype()"
      ]
    },
    {
      "cell_type": "code",
      "metadata": {
        "id": "WZNv5wykUoPt",
        "colab_type": "code",
        "colab": {
          "base_uri": "https://localhost:8080/",
          "height": 102
        },
        "outputId": "1872ab40-3e6d-451a-f5d0-f3e01fd0009b"
      },
      "source": [
        "a = np.arange(50).reshape((5,10)) / 10 - 2\n",
        "print(a)"
      ],
      "execution_count": 33,
      "outputs": [
        {
          "output_type": "stream",
          "text": [
            "[[-2.  -1.9 -1.8 -1.7 -1.6 -1.5 -1.4 -1.3 -1.2 -1.1]\n",
            " [-1.  -0.9 -0.8 -0.7 -0.6 -0.5 -0.4 -0.3 -0.2 -0.1]\n",
            " [ 0.   0.1  0.2  0.3  0.4  0.5  0.6  0.7  0.8  0.9]\n",
            " [ 1.   1.1  1.2  1.3  1.4  1.5  1.6  1.7  1.8  1.9]\n",
            " [ 2.   2.1  2.2  2.3  2.4  2.5  2.6  2.7  2.8  2.9]]\n"
          ],
          "name": "stdout"
        }
      ]
    },
    {
      "cell_type": "code",
      "metadata": {
        "id": "MfKhYtllU9IE",
        "colab_type": "code",
        "colab": {
          "base_uri": "https://localhost:8080/",
          "height": 102
        },
        "outputId": "0791e66f-6b08-494d-945b-6fd9321e640a"
      },
      "source": [
        "a_int = a.astype('int64')\n",
        "print(a_int)"
      ],
      "execution_count": 34,
      "outputs": [
        {
          "output_type": "stream",
          "text": [
            "[[-2 -1 -1 -1 -1 -1 -1 -1 -1 -1]\n",
            " [-1  0  0  0  0  0  0  0  0  0]\n",
            " [ 0  0  0  0  0  0  0  0  0  0]\n",
            " [ 1  1  1  1  1  1  1  1  1  1]\n",
            " [ 2  2  2  2  2  2  2  2  2  2]]\n"
          ],
          "name": "stdout"
        }
      ]
    },
    {
      "cell_type": "code",
      "metadata": {
        "id": "QXEu6OmMVGLw",
        "colab_type": "code",
        "colab": {
          "base_uri": "https://localhost:8080/",
          "height": 102
        },
        "outputId": "fae59f31-5eaf-402d-b6a9-d220f9b52468"
      },
      "source": [
        "# using round() is converting numerics to even. 0.5 -> 0\n",
        "print(np.round(a).astype(int))"
      ],
      "execution_count": 35,
      "outputs": [
        {
          "output_type": "stream",
          "text": [
            "[[-2 -2 -2 -2 -2 -2 -1 -1 -1 -1]\n",
            " [-1 -1 -1 -1 -1  0  0  0  0  0]\n",
            " [ 0  0  0  0  0  0  1  1  1  1]\n",
            " [ 1  1  1  1  1  2  2  2  2  2]\n",
            " [ 2  2  2  2  2  2  3  3  3  3]]\n"
          ],
          "name": "stdout"
        }
      ]
    },
    {
      "cell_type": "code",
      "metadata": {
        "id": "VFrm6kXKVaNp",
        "colab_type": "code",
        "colab": {
          "base_uri": "https://localhost:8080/",
          "height": 102
        },
        "outputId": "09cc0273-f636-423f-efbe-ac39b23f558f"
      },
      "source": [
        "# To want to 0.5 -> 1\n",
        "my_round_int = lambda x:np.round((x*2 + 1)//2)\n",
        "print(my_round_int(a).astype(int))"
      ],
      "execution_count": 36,
      "outputs": [
        {
          "output_type": "stream",
          "text": [
            "[[-2 -2 -2 -2 -2 -1 -1 -1 -1 -1]\n",
            " [-1 -1 -1 -1 -1  0  0  0  0  0]\n",
            " [ 0  0  0  0  0  1  1  1  1  1]\n",
            " [ 1  1  1  1  1  2  2  2  2  2]\n",
            " [ 2  2  2  2  2  3  3  3  3  3]]\n"
          ],
          "name": "stdout"
        }
      ]
    },
    {
      "cell_type": "code",
      "metadata": {
        "id": "zQjjjpGkVyI5",
        "colab_type": "code",
        "colab": {
          "base_uri": "https://localhost:8080/",
          "height": 51
        },
        "outputId": "d657e4b2-d563-4e92-d57a-93e5036af88b"
      },
      "source": [
        "# implicit conversion\n",
        "a = np.array([1,2,3])\n",
        "print((a//1).dtype)\n",
        "print((a//1.0).dtype)"
      ],
      "execution_count": 37,
      "outputs": [
        {
          "output_type": "stream",
          "text": [
            "int64\n",
            "float64\n"
          ],
          "name": "stdout"
        }
      ]
    },
    {
      "cell_type": "code",
      "metadata": {
        "id": "5hAkB7a8W6ri",
        "colab_type": "code",
        "colab": {
          "base_uri": "https://localhost:8080/",
          "height": 68
        },
        "outputId": "92d63a3d-8940-4296-9ead-1b0533eb693f"
      },
      "source": [
        "ones_int16 = np.ones(3, np.int16)\n",
        "print(ones_int16)\n",
        "ones_int32 = np.ones(3, np.int32)\n",
        "print(ones_int32)\n",
        "print((ones_int16 + ones_int32).dtype)"
      ],
      "execution_count": 38,
      "outputs": [
        {
          "output_type": "stream",
          "text": [
            "[1 1 1]\n",
            "[1 1 1]\n",
            "int32\n"
          ],
          "name": "stdout"
        }
      ]
    },
    {
      "cell_type": "markdown",
      "metadata": {
        "id": "aQM0JuDiXdPD",
        "colab_type": "text"
      },
      "source": [
        "# list, array, numpy.ndarray difference\n",
        "\n",
        "* リスト\n",
        "* 配列\n",
        "* 多次元配列"
      ]
    },
    {
      "cell_type": "markdown",
      "metadata": {
        "id": "pxo2n9H4X6nN",
        "colab_type": "text"
      },
      "source": [
        "## list"
      ]
    },
    {
      "cell_type": "code",
      "metadata": {
        "id": "MVsrN-rlXIpJ",
        "colab_type": "code",
        "colab": {}
      },
      "source": [
        "# buildin\n",
        "l = ['apple',100,0.123]\n",
        "l_2d = [[0,1,2],[3,4,5],[6,7,8]]"
      ],
      "execution_count": 39,
      "outputs": []
    },
    {
      "cell_type": "markdown",
      "metadata": {
        "id": "uGRhUdSHYM7E",
        "colab_type": "text"
      },
      "source": [
        "## array\n",
        "import<br>same dtype only<br>one dimension only"
      ]
    },
    {
      "cell_type": "code",
      "metadata": {
        "id": "E6lxuEemYDPy",
        "colab_type": "code",
        "colab": {
          "base_uri": "https://localhost:8080/",
          "height": 51
        },
        "outputId": "6dbe09e2-f01b-4374-bba6-bb849c923293"
      },
      "source": [
        "import array\n",
        "arr_int = array.array('i', [0,1,2])\n",
        "print(arr_int)\n",
        "arr_float = array.array('f', [0.0, 0.1, 0.2])\n",
        "print(arr_float)"
      ],
      "execution_count": 40,
      "outputs": [
        {
          "output_type": "stream",
          "text": [
            "array('i', [0, 1, 2])\n",
            "array('f', [0.0, 0.10000000149011612, 0.20000000298023224])\n"
          ],
          "name": "stdout"
        }
      ]
    },
    {
      "cell_type": "markdown",
      "metadata": {
        "id": "2fDKjulFYtKN",
        "colab_type": "text"
      },
      "source": [
        "#numpy.ndarray\n",
        "import<br>samedtype(but object type is usable)<br>multi dimension<br>matrix calculation<br>so many usings and so fast"
      ]
    },
    {
      "cell_type": "code",
      "metadata": {
        "id": "JRcyW8XhYgKu",
        "colab_type": "code",
        "colab": {
          "base_uri": "https://localhost:8080/",
          "height": 51
        },
        "outputId": "2a7b4269-9c82-41da-cb25-54a7302eada6"
      },
      "source": [
        "import numpy as np\n",
        "arr = np.array([0,1,2])\n",
        "arr_2d = np.array([[0,1,2], [3,4,5]])\n",
        "print(arr_2d)"
      ],
      "execution_count": 42,
      "outputs": [
        {
          "output_type": "stream",
          "text": [
            "[[0 1 2]\n",
            " [3 4 5]]\n"
          ],
          "name": "stdout"
        }
      ]
    },
    {
      "cell_type": "code",
      "metadata": {
        "id": "npSHbEBLZNud",
        "colab_type": "code",
        "colab": {
          "base_uri": "https://localhost:8080/",
          "height": 51
        },
        "outputId": "a2ba0390-d44b-4916-fd7a-183d69369183"
      },
      "source": [
        "print(arr_2d[1,1])\n",
        "print(arr_2d[0,1:])"
      ],
      "execution_count": 43,
      "outputs": [
        {
          "output_type": "stream",
          "text": [
            "4\n",
            "[1 2]\n"
          ],
          "name": "stdout"
        }
      ]
    },
    {
      "cell_type": "markdown",
      "metadata": {
        "id": "M2bRzEpfZfxk",
        "colab_type": "text"
      },
      "source": [
        "**for each elements**"
      ]
    },
    {
      "cell_type": "code",
      "metadata": {
        "id": "rOCysqFcZUva",
        "colab_type": "code",
        "colab": {
          "base_uri": "https://localhost:8080/",
          "height": 51
        },
        "outputId": "a7add55f-a9a6-41ac-fa5a-999ea0ec7197"
      },
      "source": [
        "print(np.sqrt(arr_2d))"
      ],
      "execution_count": 44,
      "outputs": [
        {
          "output_type": "stream",
          "text": [
            "[[0.         1.         1.41421356]\n",
            " [1.73205081 2.         2.23606798]]\n"
          ],
          "name": "stdout"
        }
      ]
    },
    {
      "cell_type": "code",
      "metadata": {
        "id": "YSVeCTJNZllp",
        "colab_type": "code",
        "colab": {
          "base_uri": "https://localhost:8080/",
          "height": 51
        },
        "outputId": "8b604e4a-8ebf-4ae6-bba8-805bf26b1045"
      },
      "source": [
        "arr_1 = np.array([[1,2], [3,4]])\n",
        "arr_2 = np.array([[1,2,3], [4,5,6]])\n",
        "print(np.dot(arr_1, arr_2))"
      ],
      "execution_count": 45,
      "outputs": [
        {
          "output_type": "stream",
          "text": [
            "[[ 9 12 15]\n",
            " [19 26 33]]\n"
          ],
          "name": "stdout"
        }
      ]
    },
    {
      "cell_type": "markdown",
      "metadata": {
        "id": "SPp1I-LKZycJ",
        "colab_type": "text"
      },
      "source": [
        "nd = N - dimensional"
      ]
    },
    {
      "cell_type": "markdown",
      "metadata": {
        "id": "ckhtaVBYaKbX",
        "colab_type": "text"
      },
      "source": [
        "# using ndarray can make use of pandas"
      ]
    },
    {
      "cell_type": "code",
      "metadata": {
        "id": "wLumfPAWZtGy",
        "colab_type": "code",
        "colab": {}
      },
      "source": [
        "import pandas as pd\n",
        "df = pd.read_csv('data/src/~~', index_col = 0)\n",
        "df['sex'] = ['Female', 'Male'...]\n",
        "print(df)\n",
        "print(df.mean())\n",
        "print(df.pivot_table(index = 'state', columns = 'sex', aggfunc='mean'))"
      ],
      "execution_count": null,
      "outputs": []
    },
    {
      "cell_type": "code",
      "metadata": {
        "id": "DT-zLL0TaGIy",
        "colab_type": "code",
        "colab": {}
      },
      "source": [
        ""
      ],
      "execution_count": null,
      "outputs": []
    }
  ]
}