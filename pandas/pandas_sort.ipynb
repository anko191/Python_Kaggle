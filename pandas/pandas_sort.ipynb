{
  "nbformat": 4,
  "nbformat_minor": 0,
  "metadata": {
    "colab": {
      "name": "pandas_sort",
      "provenance": [],
      "collapsed_sections": [],
      "authorship_tag": "ABX9TyPTolytJBlXTq3Nbu1RNr+2",
      "include_colab_link": true
    },
    "kernelspec": {
      "name": "python3",
      "display_name": "Python 3"
    }
  },
  "cells": [
    {
      "cell_type": "markdown",
      "metadata": {
        "id": "view-in-github",
        "colab_type": "text"
      },
      "source": [
        "<a href=\"https://colab.research.google.com/github/anko191/Python_Kaggle/blob/master/pandas/pandas_sort.ipynb\" target=\"_parent\"><img src=\"https://colab.research.google.com/assets/colab-badge.svg\" alt=\"Open In Colab\"/></a>"
      ]
    },
    {
      "cell_type": "code",
      "metadata": {
        "id": "DQheAtxzcz81",
        "colab_type": "code",
        "colab": {
          "base_uri": "https://localhost:8080/",
          "height": 136
        },
        "outputId": "6ca71d9f-0218-47e7-9673-cc282a61dd91"
      },
      "source": [
        "import pandas as pd\n",
        "df = pd.read_csv('/content/sample_pandas_normal.csv')\n",
        "print(df)"
      ],
      "execution_count": 1,
      "outputs": [
        {
          "output_type": "stream",
          "text": [
            "      name  age state  point\n",
            "0    Alice   24    NY     64\n",
            "1      Bob   42    CA     92\n",
            "2  Charlie   18    CA     70\n",
            "3     Dave   68    TX     70\n",
            "4    Ellen   24    CA     88\n",
            "5    Frank   30    NY     57\n"
          ],
          "name": "stdout"
        }
      ]
    },
    {
      "cell_type": "code",
      "metadata": {
        "id": "exPUfLC_dC1F",
        "colab_type": "code",
        "colab": {
          "base_uri": "https://localhost:8080/",
          "height": 136
        },
        "outputId": "6ff78a80-2cde-4a22-cad4-7ae2c343dadc"
      },
      "source": [
        "df_s = df.sort_values('state')\n",
        "print(df_s)"
      ],
      "execution_count": 9,
      "outputs": [
        {
          "output_type": "stream",
          "text": [
            "      name  age state  point\n",
            "1      Bob   42    CA     92\n",
            "2  Charlie   18    CA     70\n",
            "4    Ellen   24    CA     88\n",
            "0    Alice   24    NY     64\n",
            "5    Frank   30    NY     57\n",
            "3     Dave   68    TX     70\n"
          ],
          "name": "stdout"
        }
      ]
    },
    {
      "cell_type": "code",
      "metadata": {
        "id": "mUEc0sWGdGnL",
        "colab_type": "code",
        "colab": {}
      },
      "source": [
        "df_s = df_s.reset_index(drop = True)"
      ],
      "execution_count": 10,
      "outputs": []
    },
    {
      "cell_type": "code",
      "metadata": {
        "id": "1GmETpepdMob",
        "colab_type": "code",
        "colab": {
          "base_uri": "https://localhost:8080/",
          "height": 136
        },
        "outputId": "5588b890-1129-4d22-c5df-37f044ccafb0"
      },
      "source": [
        "print(df_s)"
      ],
      "execution_count": 11,
      "outputs": [
        {
          "output_type": "stream",
          "text": [
            "      name  age state  point\n",
            "0      Bob   42    CA     92\n",
            "1  Charlie   18    CA     70\n",
            "2    Ellen   24    CA     88\n",
            "3    Alice   24    NY     64\n",
            "4    Frank   30    NY     57\n",
            "5     Dave   68    TX     70\n"
          ],
          "name": "stdout"
        }
      ]
    },
    {
      "cell_type": "code",
      "metadata": {
        "id": "EaOSYcXxdNTa",
        "colab_type": "code",
        "colab": {
          "base_uri": "https://localhost:8080/",
          "height": 136
        },
        "outputId": "bc58f429-906c-4b35-87fa-cdcf9211ff70"
      },
      "source": [
        "df_s = df.sort_values('state', ascending = False)\n",
        "print(df_s)"
      ],
      "execution_count": 12,
      "outputs": [
        {
          "output_type": "stream",
          "text": [
            "      name  age state  point\n",
            "3     Dave   68    TX     70\n",
            "0    Alice   24    NY     64\n",
            "5    Frank   30    NY     57\n",
            "1      Bob   42    CA     92\n",
            "2  Charlie   18    CA     70\n",
            "4    Ellen   24    CA     88\n"
          ],
          "name": "stdout"
        }
      ]
    },
    {
      "cell_type": "code",
      "metadata": {
        "id": "cMoiQd4Idj2d",
        "colab_type": "code",
        "colab": {
          "base_uri": "https://localhost:8080/",
          "height": 136
        },
        "outputId": "6a1642f1-8669-4f72-b89b-8057b4aad7f1"
      },
      "source": [
        "df_s = df_s.reset_index(drop = True)\n",
        "print(df_s)"
      ],
      "execution_count": 13,
      "outputs": [
        {
          "output_type": "stream",
          "text": [
            "      name  age state  point\n",
            "0     Dave   68    TX     70\n",
            "1    Alice   24    NY     64\n",
            "2    Frank   30    NY     57\n",
            "3      Bob   42    CA     92\n",
            "4  Charlie   18    CA     70\n",
            "5    Ellen   24    CA     88\n"
          ],
          "name": "stdout"
        }
      ]
    },
    {
      "cell_type": "code",
      "metadata": {
        "id": "MM80sCV_dp1L",
        "colab_type": "code",
        "colab": {
          "base_uri": "https://localhost:8080/",
          "height": 136
        },
        "outputId": "56d83625-8dcb-4641-c9ad-dbf934cd46a6"
      },
      "source": [
        "df_s = df.sort_values(['state', 'age'])\n",
        "print(df_s)"
      ],
      "execution_count": 14,
      "outputs": [
        {
          "output_type": "stream",
          "text": [
            "      name  age state  point\n",
            "2  Charlie   18    CA     70\n",
            "4    Ellen   24    CA     88\n",
            "1      Bob   42    CA     92\n",
            "0    Alice   24    NY     64\n",
            "5    Frank   30    NY     57\n",
            "3     Dave   68    TX     70\n"
          ],
          "name": "stdout"
        }
      ]
    },
    {
      "cell_type": "code",
      "metadata": {
        "id": "Bi867jSLd0OT",
        "colab_type": "code",
        "colab": {
          "base_uri": "https://localhost:8080/",
          "height": 136
        },
        "outputId": "6e000633-9ffb-49c0-c5e6-91c74aa281a3"
      },
      "source": [
        "df_s = df.sort_values(['age', 'state'])\n",
        "print(df_s)"
      ],
      "execution_count": 15,
      "outputs": [
        {
          "output_type": "stream",
          "text": [
            "      name  age state  point\n",
            "2  Charlie   18    CA     70\n",
            "4    Ellen   24    CA     88\n",
            "0    Alice   24    NY     64\n",
            "5    Frank   30    NY     57\n",
            "1      Bob   42    CA     92\n",
            "3     Dave   68    TX     70\n"
          ],
          "name": "stdout"
        }
      ]
    },
    {
      "cell_type": "code",
      "metadata": {
        "id": "Pr79xjsRd3Ti",
        "colab_type": "code",
        "colab": {
          "base_uri": "https://localhost:8080/",
          "height": 136
        },
        "outputId": "782dcd4f-1c90-423b-bf03-dc3cc4c8a92e"
      },
      "source": [
        "df_s = df.sort_values(['age', 'state'], ascending = [True, False])\n",
        "print(df_s)"
      ],
      "execution_count": 16,
      "outputs": [
        {
          "output_type": "stream",
          "text": [
            "      name  age state  point\n",
            "2  Charlie   18    CA     70\n",
            "0    Alice   24    NY     64\n",
            "4    Ellen   24    CA     88\n",
            "5    Frank   30    NY     57\n",
            "1      Bob   42    CA     92\n",
            "3     Dave   68    TX     70\n"
          ],
          "name": "stdout"
        }
      ]
    },
    {
      "cell_type": "code",
      "metadata": {
        "id": "_a-kEhD-d97L",
        "colab_type": "code",
        "colab": {
          "base_uri": "https://localhost:8080/",
          "height": 190
        },
        "outputId": "fa815de2-da76-4d0b-91f0-d49e3910e97e"
      },
      "source": [
        "df_nan = df.copy()\n",
        "df_nan.iloc[:2, 1] = pd.np.nan\n",
        "print(df_nan)"
      ],
      "execution_count": 17,
      "outputs": [
        {
          "output_type": "stream",
          "text": [
            "      name   age state  point\n",
            "0    Alice   NaN    NY     64\n",
            "1      Bob   NaN    CA     92\n",
            "2  Charlie  18.0    CA     70\n",
            "3     Dave  68.0    TX     70\n",
            "4    Ellen  24.0    CA     88\n",
            "5    Frank  30.0    NY     57\n"
          ],
          "name": "stdout"
        },
        {
          "output_type": "stream",
          "text": [
            "/usr/local/lib/python3.6/dist-packages/ipykernel_launcher.py:2: FutureWarning: The pandas.np module is deprecated and will be removed from pandas in a future version. Import numpy directly instead\n",
            "  \n"
          ],
          "name": "stderr"
        }
      ]
    },
    {
      "cell_type": "code",
      "metadata": {
        "id": "uRFnHCEieTIT",
        "colab_type": "code",
        "colab": {
          "base_uri": "https://localhost:8080/",
          "height": 136
        },
        "outputId": "af2e049a-8800-40b9-e685-d0e47d1bd64b"
      },
      "source": [
        "# default nan tail\n",
        "df_nan_s = df_nan.sort_values('age')\n",
        "print(df_nan_s)"
      ],
      "execution_count": 18,
      "outputs": [
        {
          "output_type": "stream",
          "text": [
            "      name   age state  point\n",
            "2  Charlie  18.0    CA     70\n",
            "4    Ellen  24.0    CA     88\n",
            "5    Frank  30.0    NY     57\n",
            "3     Dave  68.0    TX     70\n",
            "0    Alice   NaN    NY     64\n",
            "1      Bob   NaN    CA     92\n"
          ],
          "name": "stdout"
        }
      ]
    },
    {
      "cell_type": "code",
      "metadata": {
        "id": "lvi-JhD3ecx7",
        "colab_type": "code",
        "colab": {
          "base_uri": "https://localhost:8080/",
          "height": 136
        },
        "outputId": "69693c7a-2034-4e4a-9ce9-534efdb00a7a"
      },
      "source": [
        "df_nan_s = df_nan.sort_values('age', na_position='first')\n",
        "print(df_nan_s)"
      ],
      "execution_count": 19,
      "outputs": [
        {
          "output_type": "stream",
          "text": [
            "      name   age state  point\n",
            "0    Alice   NaN    NY     64\n",
            "1      Bob   NaN    CA     92\n",
            "2  Charlie  18.0    CA     70\n",
            "4    Ellen  24.0    CA     88\n",
            "5    Frank  30.0    NY     57\n",
            "3     Dave  68.0    TX     70\n"
          ],
          "name": "stdout"
        }
      ]
    },
    {
      "cell_type": "code",
      "metadata": {
        "id": "unyuwUpmeha0",
        "colab_type": "code",
        "colab": {
          "base_uri": "https://localhost:8080/",
          "height": 136
        },
        "outputId": "9ca1471f-7e74-4e33-cdcc-d98244780b92"
      },
      "source": [
        "df.sort_values('state', inplace = True)\n",
        "print(df)"
      ],
      "execution_count": 30,
      "outputs": [
        {
          "output_type": "stream",
          "text": [
            "      name  age state  point\n",
            "1      Bob   42    CA     92\n",
            "2  Charlie   18    CA     70\n",
            "4    Ellen   24    CA     88\n",
            "0    Alice   24    NY     64\n",
            "5    Frank   30    NY     57\n",
            "3     Dave   68    TX     70\n"
          ],
          "name": "stdout"
        }
      ]
    },
    {
      "cell_type": "code",
      "metadata": {
        "id": "yf2jLgYCiyyT",
        "colab_type": "code",
        "colab": {
          "base_uri": "https://localhost:8080/",
          "height": 255
        },
        "outputId": "bd531926-a6eb-41e2-aa08-fc0e4274dfc2"
      },
      "source": [
        "df_d = df.drop(['name', 'state'], axis = 1)\n",
        "print(df_d)\n",
        "df_d.sort_values(by = 0, axis = 1, ascending = False, inplace = True)\n",
        "print(df_d)"
      ],
      "execution_count": 27,
      "outputs": [
        {
          "output_type": "stream",
          "text": [
            "   age  point\n",
            "1   42     92\n",
            "2   18     70\n",
            "4   24     88\n",
            "0   24     64\n",
            "5   30     57\n",
            "3   68     70\n",
            "   point  age\n",
            "1     92   42\n",
            "2     70   18\n",
            "4     88   24\n",
            "0     64   24\n",
            "5     57   30\n",
            "3     70   68\n"
          ],
          "name": "stdout"
        }
      ]
    },
    {
      "cell_type": "code",
      "metadata": {
        "id": "J0HTa-gzkSTR",
        "colab_type": "code",
        "colab": {
          "base_uri": "https://localhost:8080/",
          "height": 255
        },
        "outputId": "952314a3-8278-4ceb-e144-5746b656de42"
      },
      "source": [
        "df_d = df.drop(['name', 'state'], axis = 1)\n",
        "print(df_d)\n",
        "df_d.sort_values(by=5, axis = 1, ascending = True, inplace = True)\n",
        "print(df_d)"
      ],
      "execution_count": 42,
      "outputs": [
        {
          "output_type": "stream",
          "text": [
            "   age  point\n",
            "1   42     92\n",
            "2   18     70\n",
            "4   24     88\n",
            "0   24     64\n",
            "5   30     57\n",
            "3   68     70\n",
            "   age  point\n",
            "1   42     92\n",
            "2   18     70\n",
            "4   24     88\n",
            "0   24     64\n",
            "5   30     57\n",
            "3   68     70\n"
          ],
          "name": "stdout"
        }
      ]
    },
    {
      "cell_type": "code",
      "metadata": {
        "id": "cVVeZdEHkfv0",
        "colab_type": "code",
        "colab": {
          "base_uri": "https://localhost:8080/",
          "height": 136
        },
        "outputId": "1918a2c1-191b-44e8-f170-ec14d6ebd3f4"
      },
      "source": [
        "df_s = df.sort_index()\n",
        "print(df_s)"
      ],
      "execution_count": 43,
      "outputs": [
        {
          "output_type": "stream",
          "text": [
            "      name  age state  point\n",
            "0    Alice   24    NY     64\n",
            "1      Bob   42    CA     92\n",
            "2  Charlie   18    CA     70\n",
            "3     Dave   68    TX     70\n",
            "4    Ellen   24    CA     88\n",
            "5    Frank   30    NY     57\n"
          ],
          "name": "stdout"
        }
      ]
    },
    {
      "cell_type": "code",
      "metadata": {
        "id": "4ErHBJz0l-J0",
        "colab_type": "code",
        "colab": {
          "base_uri": "https://localhost:8080/",
          "height": 136
        },
        "outputId": "c5785129-c1ad-4a6f-9aea-d487a81c08bd"
      },
      "source": [
        "df_s = df.sort_index(axis = 1)\n",
        "print(df_s)"
      ],
      "execution_count": 44,
      "outputs": [
        {
          "output_type": "stream",
          "text": [
            "   age     name  point state\n",
            "1   42      Bob     92    CA\n",
            "2   18  Charlie     70    CA\n",
            "4   24    Ellen     88    CA\n",
            "0   24    Alice     64    NY\n",
            "5   30    Frank     57    NY\n",
            "3   68     Dave     70    TX\n"
          ],
          "name": "stdout"
        }
      ]
    },
    {
      "cell_type": "code",
      "metadata": {
        "id": "KKPRHqikmX6S",
        "colab_type": "code",
        "colab": {
          "base_uri": "https://localhost:8080/",
          "height": 136
        },
        "outputId": "426ccfc0-d8ef-42b2-ccb0-476a33bffd62"
      },
      "source": [
        "df.sort_index(axis = 1, ascending = False, inplace = True)\n",
        "print(df)"
      ],
      "execution_count": 45,
      "outputs": [
        {
          "output_type": "stream",
          "text": [
            "  state  point     name  age\n",
            "1    CA     92      Bob   42\n",
            "2    CA     70  Charlie   18\n",
            "4    CA     88    Ellen   24\n",
            "0    NY     64    Alice   24\n",
            "5    NY     57    Frank   30\n",
            "3    TX     70     Dave   68\n"
          ],
          "name": "stdout"
        }
      ]
    },
    {
      "cell_type": "code",
      "metadata": {
        "id": "dqj99HAbmb3K",
        "colab_type": "code",
        "colab": {
          "base_uri": "https://localhost:8080/",
          "height": 136
        },
        "outputId": "03d82270-ab4f-4e5d-9fb8-cf37d92352f5"
      },
      "source": [
        "import pandas as pd\n",
        "df = pd.read_csv('/content/sample_pandas_normal.csv')\n",
        "print(df)"
      ],
      "execution_count": 46,
      "outputs": [
        {
          "output_type": "stream",
          "text": [
            "      name  age state  point\n",
            "0    Alice   24    NY     64\n",
            "1      Bob   42    CA     92\n",
            "2  Charlie   18    CA     70\n",
            "3     Dave   68    TX     70\n",
            "4    Ellen   24    CA     88\n",
            "5    Frank   30    NY     57\n"
          ],
          "name": "stdout"
        }
      ]
    },
    {
      "cell_type": "code",
      "metadata": {
        "id": "-T7VhzQSmqNb",
        "colab_type": "code",
        "colab": {
          "base_uri": "https://localhost:8080/",
          "height": 136
        },
        "outputId": "f3a4ff5f-136a-4421-bd54-3774a7c8384b"
      },
      "source": [
        "df_s = df.sample(frac=1)\n",
        "print(df_s)"
      ],
      "execution_count": 47,
      "outputs": [
        {
          "output_type": "stream",
          "text": [
            "      name  age state  point\n",
            "3     Dave   68    TX     70\n",
            "2  Charlie   18    CA     70\n",
            "5    Frank   30    NY     57\n",
            "4    Ellen   24    CA     88\n",
            "0    Alice   24    NY     64\n",
            "1      Bob   42    CA     92\n"
          ],
          "name": "stdout"
        }
      ]
    },
    {
      "cell_type": "code",
      "metadata": {
        "id": "q4mmLCkAn4yD",
        "colab_type": "code",
        "colab": {
          "base_uri": "https://localhost:8080/",
          "height": 136
        },
        "outputId": "5825f3b7-f1ab-4f10-a24f-d4a903e76a25"
      },
      "source": [
        "df_s = df.sample(frac=1, random_state = 0)\n",
        "print(df_s)"
      ],
      "execution_count": 48,
      "outputs": [
        {
          "output_type": "stream",
          "text": [
            "      name  age state  point\n",
            "5    Frank   30    NY     57\n",
            "2  Charlie   18    CA     70\n",
            "1      Bob   42    CA     92\n",
            "3     Dave   68    TX     70\n",
            "0    Alice   24    NY     64\n",
            "4    Ellen   24    CA     88\n"
          ],
          "name": "stdout"
        }
      ]
    },
    {
      "cell_type": "code",
      "metadata": {
        "id": "kU1aAu5mn9TL",
        "colab_type": "code",
        "colab": {
          "base_uri": "https://localhost:8080/",
          "height": 136
        },
        "outputId": "428f055e-79cc-4f72-cf4c-d8ba4bfddaea"
      },
      "source": [
        "df_s = df.sample(frac = 1).reset_index(drop=True)\n",
        "print(df_s)"
      ],
      "execution_count": 49,
      "outputs": [
        {
          "output_type": "stream",
          "text": [
            "      name  age state  point\n",
            "0      Bob   42    CA     92\n",
            "1    Alice   24    NY     64\n",
            "2    Ellen   24    CA     88\n",
            "3  Charlie   18    CA     70\n",
            "4    Frank   30    NY     57\n",
            "5     Dave   68    TX     70\n"
          ],
          "name": "stdout"
        }
      ]
    },
    {
      "cell_type": "code",
      "metadata": {
        "id": "ON2-McIqoHCi",
        "colab_type": "code",
        "colab": {
          "base_uri": "https://localhost:8080/",
          "height": 136
        },
        "outputId": "89dd4fce-0238-4ca6-808d-f931364108f6"
      },
      "source": [
        "df = df.sample(frac=1).reset_index(drop=True)\n",
        "print(df)"
      ],
      "execution_count": 50,
      "outputs": [
        {
          "output_type": "stream",
          "text": [
            "      name  age state  point\n",
            "0  Charlie   18    CA     70\n",
            "1     Dave   68    TX     70\n",
            "2      Bob   42    CA     92\n",
            "3    Frank   30    NY     57\n",
            "4    Ellen   24    CA     88\n",
            "5    Alice   24    NY     64\n"
          ],
          "name": "stdout"
        }
      ]
    },
    {
      "cell_type": "code",
      "metadata": {
        "id": "NRpKUdyxoKq7",
        "colab_type": "code",
        "colab": {}
      },
      "source": [
        "df = df.sample(frac=1, random_state= 1)"
      ],
      "execution_count": 51,
      "outputs": []
    },
    {
      "cell_type": "code",
      "metadata": {
        "id": "f6-eoy8WoVG7",
        "colab_type": "code",
        "colab": {
          "base_uri": "https://localhost:8080/",
          "height": 168
        },
        "outputId": "1be3f5aa-7d1b-438a-eb92-6c97a3f384d4"
      },
      "source": [
        "print(dff)"
      ],
      "execution_count": 52,
      "outputs": [
        {
          "output_type": "error",
          "ename": "NameError",
          "evalue": "ignored",
          "traceback": [
            "\u001b[0;31m---------------------------------------------------------------------------\u001b[0m",
            "\u001b[0;31mNameError\u001b[0m                                 Traceback (most recent call last)",
            "\u001b[0;32m<ipython-input-52-cfadb282d441>\u001b[0m in \u001b[0;36m<module>\u001b[0;34m()\u001b[0m\n\u001b[0;32m----> 1\u001b[0;31m \u001b[0mprint\u001b[0m\u001b[0;34m(\u001b[0m\u001b[0mdff\u001b[0m\u001b[0;34m)\u001b[0m\u001b[0;34m\u001b[0m\u001b[0;34m\u001b[0m\u001b[0m\n\u001b[0m",
            "\u001b[0;31mNameError\u001b[0m: name 'dff' is not defined"
          ]
        }
      ]
    },
    {
      "cell_type": "code",
      "metadata": {
        "id": "NaAwP6REoVrz",
        "colab_type": "code",
        "colab": {
          "base_uri": "https://localhost:8080/",
          "height": 235
        },
        "outputId": "10f42f25-69fb-4d4c-fffe-6825bd5c4ed4"
      },
      "source": [
        "df.reset_index(drop=True)"
      ],
      "execution_count": 54,
      "outputs": [
        {
          "output_type": "execute_result",
          "data": {
            "text/html": [
              "<div>\n",
              "<style scoped>\n",
              "    .dataframe tbody tr th:only-of-type {\n",
              "        vertical-align: middle;\n",
              "    }\n",
              "\n",
              "    .dataframe tbody tr th {\n",
              "        vertical-align: top;\n",
              "    }\n",
              "\n",
              "    .dataframe thead th {\n",
              "        text-align: right;\n",
              "    }\n",
              "</style>\n",
              "<table border=\"1\" class=\"dataframe\">\n",
              "  <thead>\n",
              "    <tr style=\"text-align: right;\">\n",
              "      <th></th>\n",
              "      <th>name</th>\n",
              "      <th>age</th>\n",
              "      <th>state</th>\n",
              "      <th>point</th>\n",
              "    </tr>\n",
              "  </thead>\n",
              "  <tbody>\n",
              "    <tr>\n",
              "      <th>0</th>\n",
              "      <td>Bob</td>\n",
              "      <td>42</td>\n",
              "      <td>CA</td>\n",
              "      <td>92</td>\n",
              "    </tr>\n",
              "    <tr>\n",
              "      <th>1</th>\n",
              "      <td>Dave</td>\n",
              "      <td>68</td>\n",
              "      <td>TX</td>\n",
              "      <td>70</td>\n",
              "    </tr>\n",
              "    <tr>\n",
              "      <th>2</th>\n",
              "      <td>Ellen</td>\n",
              "      <td>24</td>\n",
              "      <td>CA</td>\n",
              "      <td>88</td>\n",
              "    </tr>\n",
              "    <tr>\n",
              "      <th>3</th>\n",
              "      <td>Charlie</td>\n",
              "      <td>18</td>\n",
              "      <td>CA</td>\n",
              "      <td>70</td>\n",
              "    </tr>\n",
              "    <tr>\n",
              "      <th>4</th>\n",
              "      <td>Frank</td>\n",
              "      <td>30</td>\n",
              "      <td>NY</td>\n",
              "      <td>57</td>\n",
              "    </tr>\n",
              "    <tr>\n",
              "      <th>5</th>\n",
              "      <td>Alice</td>\n",
              "      <td>24</td>\n",
              "      <td>NY</td>\n",
              "      <td>64</td>\n",
              "    </tr>\n",
              "  </tbody>\n",
              "</table>\n",
              "</div>"
            ],
            "text/plain": [
              "      name  age state  point\n",
              "0      Bob   42    CA     92\n",
              "1     Dave   68    TX     70\n",
              "2    Ellen   24    CA     88\n",
              "3  Charlie   18    CA     70\n",
              "4    Frank   30    NY     57\n",
              "5    Alice   24    NY     64"
            ]
          },
          "metadata": {
            "tags": []
          },
          "execution_count": 54
        }
      ]
    },
    {
      "cell_type": "code",
      "metadata": {
        "id": "w84IINsNoWAC",
        "colab_type": "code",
        "colab": {}
      },
      "source": [
        ""
      ],
      "execution_count": null,
      "outputs": []
    }
  ]
}