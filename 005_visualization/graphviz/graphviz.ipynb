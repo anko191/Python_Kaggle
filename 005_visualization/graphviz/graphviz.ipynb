{
 "cells": [
  {
   "cell_type": "code",
   "execution_count": 1,
   "metadata": {},
   "outputs": [],
   "source": [
    "from PIL import Image\n",
    "from IPython.display import display"
   ]
  },
  {
   "cell_type": "code",
   "execution_count": 2,
   "metadata": {},
   "outputs": [],
   "source": [
    "def sh(path):\n",
    "    display(Image.open(path))"
   ]
  },
  {
   "cell_type": "code",
   "execution_count": 3,
   "metadata": {
    "scrolled": true
   },
   "outputs": [
    {
     "data": {
      "image/png": "[encoded data removed]",
      "text/plain": [
       "<PIL.PngImagePlugin.PngImageFile image mode=RGBA size=258x598 at 0x24AF617CC10>"
      ]
     },
     "metadata": {},
     "output_type": "display_data"
    }
   ],
   "source": [
    "from graphviz import Digraph, Graph\n",
    "\n",
    "G = Digraph(format=\"svg\")\n",
    "G.attr(\"node\", shape=\"square\", style=\"filled\")\n",
    "G.edge(\"start\",\"state1\",label=\"0.8\")\n",
    "G.edge(\"start\",\"state2\",label=\"0.2\")\n",
    "G.edge(\"state1\",\"state1\",label=\"0.5\")\n",
    "G.edge(\"state2\",\"state2\", label=\"0.8\")\n",
    "G.edge(\"state1\",\"state2\",label=\"0.5\")\n",
    "G.edge(\"state2\",\"end\",label=\"0.2\")\n",
    "G.edge(\"end\",\"count\",label=\"1.0\")\n",
    "G.edge(\"count\",\"start\",label=\"1.0\")\n",
    "G.node(\"start\", shape=\"circle\", color=\"pink\")\n",
    "G.render(\"graphs\") #png/直下\n",
    "sh(\"graphs.png\")"
   ]
  },
  {
   "cell_type": "code",
   "execution_count": 6,
   "metadata": {},
   "outputs": [
    {
     "data": {
      "image/svg+xml": [
       "<?xml version=\"1.0\" encoding=\"UTF-8\" standalone=\"no\"?>\r\n",
       "<!DOCTYPE svg PUBLIC \"-//W3C//DTD SVG 1.1//EN\"\r\n",
       " \"http://www.w3.org/Graphics/SVG/1.1/DTD/svg11.dtd\">\r\n",
       "<!-- Generated by graphviz version 2.38.0 (20140413.2041)\r\n",
       " -->\r\n",
       "<!-- Title: %3 Pages: 1 -->\r\n",
       "<svg width=\"278pt\" height=\"131pt\"\r\n",
       " viewBox=\"0.00 0.00 278.00 131.00\" xmlns=\"http://www.w3.org/2000/svg\" xmlns:xlink=\"http://www.w3.org/1999/xlink\">\r\n",
       "<g id=\"graph0\" class=\"graph\" transform=\"scale(1 1) rotate(0) translate(4 127)\">\r\n",
       "<title>%3</title>\r\n",
       "<polygon fill=\"white\" stroke=\"none\" points=\"-4,4 -4,-127 274,-127 274,4 -4,4\"/>\r\n",
       "<!-- 0 -->\r\n",
       "<g id=\"node1\" class=\"node\"><title>0</title>\r\n",
       "<ellipse fill=\"none\" stroke=\"black\" cx=\"135\" cy=\"-105\" rx=\"27\" ry=\"18\"/>\r\n",
       "<text text-anchor=\"middle\" x=\"135\" y=\"-101.3\" font-family=\"Times New Roman,serif\" font-size=\"14.00\">0</text>\r\n",
       "</g>\r\n",
       "<!-- 1 -->\r\n",
       "<g id=\"node2\" class=\"node\"><title>1</title>\r\n",
       "<ellipse fill=\"none\" stroke=\"black\" cx=\"27\" cy=\"-18\" rx=\"27\" ry=\"18\"/>\r\n",
       "<text text-anchor=\"middle\" x=\"27\" y=\"-14.3\" font-family=\"Times New Roman,serif\" font-size=\"14.00\">1</text>\r\n",
       "</g>\r\n",
       "<!-- 0&#45;&gt;1 -->\r\n",
       "<g id=\"edge1\" class=\"edge\"><title>0&#45;&gt;1</title>\r\n",
       "<path fill=\"none\" stroke=\"black\" d=\"M118.125,-90.7188C100.292,-76.6838 71.9906,-54.4092 51.6584,-38.4071\"/>\r\n",
       "<polygon fill=\"black\" stroke=\"black\" points=\"53.7793,-35.6223 43.7565,-32.188 49.45,-41.123 53.7793,-35.6223\"/>\r\n",
       "<text text-anchor=\"middle\" x=\"97\" y=\"-57.8\" font-family=\"Times New Roman,serif\" font-size=\"14.00\">1.0</text>\r\n",
       "</g>\r\n",
       "<!-- 2 -->\r\n",
       "<g id=\"node3\" class=\"node\"><title>2</title>\r\n",
       "<ellipse fill=\"none\" stroke=\"black\" cx=\"99\" cy=\"-18\" rx=\"27\" ry=\"18\"/>\r\n",
       "<text text-anchor=\"middle\" x=\"99\" y=\"-14.3\" font-family=\"Times New Roman,serif\" font-size=\"14.00\">2</text>\r\n",
       "</g>\r\n",
       "<!-- 0&#45;&gt;2 -->\r\n",
       "<g id=\"edge2\" class=\"edge\"><title>0&#45;&gt;2</title>\r\n",
       "<path fill=\"none\" stroke=\"black\" d=\"M127.888,-87.2067C122.776,-75.1377 115.788,-58.6384 109.965,-44.8906\"/>\r\n",
       "<polygon fill=\"black\" stroke=\"black\" points=\"113.098,-43.3123 105.975,-35.4692 106.652,-46.0423 113.098,-43.3123\"/>\r\n",
       "<text text-anchor=\"middle\" x=\"129\" y=\"-57.8\" font-family=\"Times New Roman,serif\" font-size=\"14.00\">2.5</text>\r\n",
       "</g>\r\n",
       "<!-- 3 -->\r\n",
       "<g id=\"node4\" class=\"node\"><title>3</title>\r\n",
       "<ellipse fill=\"none\" stroke=\"black\" cx=\"171\" cy=\"-18\" rx=\"27\" ry=\"18\"/>\r\n",
       "<text text-anchor=\"middle\" x=\"171\" y=\"-14.3\" font-family=\"Times New Roman,serif\" font-size=\"14.00\">3</text>\r\n",
       "</g>\r\n",
       "<!-- 0&#45;&gt;3 -->\r\n",
       "<g id=\"edge3\" class=\"edge\"><title>0&#45;&gt;3</title>\r\n",
       "<path fill=\"none\" stroke=\"black\" d=\"M142.112,-87.2067C147.224,-75.1377 154.212,-58.6384 160.035,-44.8906\"/>\r\n",
       "<polygon fill=\"black\" stroke=\"black\" points=\"163.348,-46.0423 164.025,-35.4692 156.902,-43.3123 163.348,-46.0423\"/>\r\n",
       "<text text-anchor=\"middle\" x=\"164\" y=\"-57.8\" font-family=\"Times New Roman,serif\" font-size=\"14.00\">1.2</text>\r\n",
       "</g>\r\n",
       "<!-- 4 -->\r\n",
       "<g id=\"node5\" class=\"node\"><title>4</title>\r\n",
       "<ellipse fill=\"none\" stroke=\"black\" cx=\"243\" cy=\"-18\" rx=\"27\" ry=\"18\"/>\r\n",
       "<text text-anchor=\"middle\" x=\"243\" y=\"-14.3\" font-family=\"Times New Roman,serif\" font-size=\"14.00\">4</text>\r\n",
       "</g>\r\n",
       "<!-- 0&#45;&gt;4 -->\r\n",
       "<g id=\"edge4\" class=\"edge\"><title>0&#45;&gt;4</title>\r\n",
       "<path fill=\"none\" stroke=\"black\" d=\"M151.875,-90.7188C169.708,-76.6838 198.009,-54.4092 218.342,-38.4071\"/>\r\n",
       "<polygon fill=\"black\" stroke=\"black\" points=\"220.55,-41.123 226.243,-32.188 216.221,-35.6223 220.55,-41.123\"/>\r\n",
       "<text text-anchor=\"middle\" x=\"204\" y=\"-57.8\" font-family=\"Times New Roman,serif\" font-size=\"14.00\">3.2</text>\r\n",
       "</g>\r\n",
       "</g>\r\n",
       "</svg>\r\n"
      ],
      "text/plain": [
       "<graphviz.dot.Digraph at 0x24af617c670>"
      ]
     },
     "execution_count": 6,
     "metadata": {},
     "output_type": "execute_result"
    }
   ],
   "source": [
    "ya = Digraph(format=\"svg\")\n",
    "ya.edge(\"0\",\"1\", label=\"1.0\")\n",
    "ya.edge(\"0\",\"2\", label=\"2.5\")\n",
    "ya.edge(\"0\",\"3\", label=\"1.2\")\n",
    "ya.edge(\"0\",\"4\", label=\"3.2\")\n",
    "ya"
   ]
  },
  {
   "cell_type": "code",
   "execution_count": 123,
   "metadata": {
    "scrolled": true
   },
   "outputs": [
    {
     "data": {
      "image/svg+xml": [
       "<?xml version=\"1.0\" encoding=\"UTF-8\" standalone=\"no\"?>\r\n",
       "<!DOCTYPE svg PUBLIC \"-//W3C//DTD SVG 1.1//EN\"\r\n",
       " \"http://www.w3.org/Graphics/SVG/1.1/DTD/svg11.dtd\">\r\n",
       "<!-- Generated by graphviz version 2.38.0 (20140413.2041)\r\n",
       " -->\r\n",
       "<!-- Title: %3 Pages: 1 -->\r\n",
       "<svg width=\"494pt\" height=\"404pt\"\r\n",
       " viewBox=\"0.00 0.00 494.00 404.00\" xmlns=\"http://www.w3.org/2000/svg\" xmlns:xlink=\"http://www.w3.org/1999/xlink\">\r\n",
       "<g id=\"graph0\" class=\"graph\" transform=\"scale(1 1) rotate(0) translate(4 400)\">\r\n",
       "<title>%3</title>\r\n",
       "<polygon fill=\"white\" stroke=\"none\" points=\"-4,4 -4,-400 490,-400 490,4 -4,4\"/>\r\n",
       "<!-- features -->\r\n",
       "<g id=\"node1\" class=\"node\"><title>features</title>\r\n",
       "<polygon fill=\"#ffffff\" stroke=\"black\" points=\"297,-396 189,-396 189,-288 297,-288 297,-396\"/>\r\n",
       "<text text-anchor=\"middle\" x=\"243\" y=\"-338.2\" font-family=\"Times New Roman,serif\" font-size=\"16.00\">features</text>\r\n",
       "</g>\r\n",
       "<!-- categorical -->\r\n",
       "<g id=\"node2\" class=\"node\"><title>categorical</title>\r\n",
       "<polygon fill=\"#ffffff\" stroke=\"black\" points=\"234,-252 126,-252 126,-144 234,-144 234,-252\"/>\r\n",
       "<text text-anchor=\"middle\" x=\"180\" y=\"-194.2\" font-family=\"Times New Roman,serif\" font-size=\"16.00\">categorical</text>\r\n",
       "</g>\r\n",
       "<!-- features&#45;&#45;categorical -->\r\n",
       "<g id=\"edge1\" class=\"edge\"><title>features&#45;&#45;categorical</title>\r\n",
       "<path fill=\"none\" stroke=\"black\" d=\"M219.362,-287.72C214.194,-276.073 208.725,-263.746 203.561,-252.106\"/>\r\n",
       "</g>\r\n",
       "<!-- numerical -->\r\n",
       "<g id=\"node3\" class=\"node\"><title>numerical</title>\r\n",
       "<polygon fill=\"#ffffff\" stroke=\"black\" points=\"360,-252 252,-252 252,-144 360,-144 360,-252\"/>\r\n",
       "<text text-anchor=\"middle\" x=\"306\" y=\"-194.2\" font-family=\"Times New Roman,serif\" font-size=\"16.00\">numerical</text>\r\n",
       "</g>\r\n",
       "<!-- features&#45;&#45;numerical -->\r\n",
       "<g id=\"edge2\" class=\"edge\"><title>features&#45;&#45;numerical</title>\r\n",
       "<path fill=\"none\" stroke=\"black\" d=\"M266.638,-287.72C271.806,-276.073 277.275,-263.746 282.439,-252.106\"/>\r\n",
       "</g>\r\n",
       "<!-- target&#45;enc -->\r\n",
       "<g id=\"node4\" class=\"node\"><title>target&#45;enc</title>\r\n",
       "<polygon fill=\"#ffffff\" stroke=\"black\" points=\"108,-108 0,-108 0,-0 108,-0 108,-108\"/>\r\n",
       "<text text-anchor=\"middle\" x=\"54\" y=\"-50.2\" font-family=\"Times New Roman,serif\" font-size=\"16.00\">target&#45;enc</text>\r\n",
       "</g>\r\n",
       "<!-- categorical&#45;&#45;target&#45;enc -->\r\n",
       "<g id=\"edge3\" class=\"edge\"><title>categorical&#45;&#45;target&#45;enc</title>\r\n",
       "<path fill=\"none\" stroke=\"black\" d=\"M132.724,-143.72C122.389,-132.073 111.451,-119.746 101.122,-108.106\"/>\r\n",
       "</g>\r\n",
       "<!-- count&#45;enc -->\r\n",
       "<g id=\"node5\" class=\"node\"><title>count&#45;enc</title>\r\n",
       "<polygon fill=\"#ffffff\" stroke=\"black\" points=\"234,-108 126,-108 126,-0 234,-0 234,-108\"/>\r\n",
       "<text text-anchor=\"middle\" x=\"180\" y=\"-50.2\" font-family=\"Times New Roman,serif\" font-size=\"16.00\">count&#45;enc</text>\r\n",
       "</g>\r\n",
       "<!-- categorical&#45;&#45;count&#45;enc -->\r\n",
       "<g id=\"edge4\" class=\"edge\"><title>categorical&#45;&#45;count&#45;enc</title>\r\n",
       "<path fill=\"none\" stroke=\"black\" d=\"M180,-143.72C180,-132.073 180,-119.746 180,-108.106\"/>\r\n",
       "</g>\r\n",
       "<!-- VarianceThresh -->\r\n",
       "<g id=\"node6\" class=\"node\"><title>VarianceThresh</title>\r\n",
       "<polygon fill=\"#ffffff\" stroke=\"black\" points=\"360,-108 252,-108 252,-0 360,-0 360,-108\"/>\r\n",
       "<text text-anchor=\"middle\" x=\"306\" y=\"-50.2\" font-family=\"Times New Roman,serif\" font-size=\"16.00\">VarianceThresh</text>\r\n",
       "</g>\r\n",
       "<!-- numerical&#45;&#45;VarianceThresh -->\r\n",
       "<g id=\"edge5\" class=\"edge\"><title>numerical&#45;&#45;VarianceThresh</title>\r\n",
       "<path fill=\"none\" stroke=\"black\" d=\"M306,-143.72C306,-132.073 306,-119.746 306,-108.106\"/>\r\n",
       "</g>\r\n",
       "<!-- nanka -->\r\n",
       "<g id=\"node7\" class=\"node\"><title>nanka</title>\r\n",
       "<polygon fill=\"#ffffff\" stroke=\"black\" points=\"486,-108 378,-108 378,-0 486,-0 486,-108\"/>\r\n",
       "<text text-anchor=\"middle\" x=\"432\" y=\"-50.2\" font-family=\"Times New Roman,serif\" font-size=\"16.00\">nanka</text>\r\n",
       "</g>\r\n",
       "<!-- numerical&#45;&#45;nanka -->\r\n",
       "<g id=\"edge6\" class=\"edge\"><title>numerical&#45;&#45;nanka</title>\r\n",
       "<path fill=\"none\" stroke=\"black\" d=\"M353.276,-143.72C363.611,-132.073 374.549,-119.746 384.878,-108.106\"/>\r\n",
       "</g>\r\n",
       "</g>\r\n",
       "</svg>\r\n"
      ],
      "text/plain": [
       "<graphviz.dot.Graph at 0x20a0419f8b0>"
      ]
     },
     "execution_count": 123,
     "metadata": {},
     "output_type": "execute_result"
    }
   ],
   "source": [
    "G = Graph(format = \"svg\",node_attr={'fixedsize':'true','width':'1.5'},)\n",
    "G.attr(\"node\",shape=\"square\",style=\"filled\", fillcolor=\"#ffffff\", fontsize=\"16\")\n",
    "G.node(\"features\")\n",
    "G.node(\"categorical\")\n",
    "G.node(\"numerical\")\n",
    "G.node(\"target-enc\")\n",
    "G.node(\"count-enc\")\n",
    "G.node(\"VarianceThresh\")\n",
    "G.node(\"nanka\")\n",
    "G.edge(\"features\", \"categorical\")\n",
    "G.edge(\"features\", \"numerical\")\n",
    "G.edge(\"categorical\", \"target-enc\")\n",
    "G.edge(\"categorical\", \"count-enc\")\n",
    "G.edge(\"numerical\", \"VarianceThresh\")\n",
    "G.edge(\"numerical\",\"nanka\")\n",
    "G.render(\"test\")\n",
    "G"
   ]
  },
  {
   "cell_type": "code",
   "execution_count": 27,
   "metadata": {},
   "outputs": [],
   "source": [
    "#sh(\"graphs.png\")"
   ]
  },
  {
   "cell_type": "code",
   "execution_count": 57,
   "metadata": {},
   "outputs": [
    {
     "data": {
      "image/png": "[encoded data removed]",
      "text/plain": [
       "<PIL.PngImagePlugin.PngImageFile image mode=RGBA size=197x231 at 0x20A6D3B4D90>"
      ]
     },
     "metadata": {},
     "output_type": "display_data"
    }
   ],
   "source": [
    "yaba = Digraph(format=\"png\")\n",
    "yaba.attr(\"node\", shape=\"square\", style=\"filled\")\n",
    "yaba.edge(\"yaba\",\"tuyo\",label=\" e?\")\n",
    "yaba.edge(\"tuyo\",\"yaba\",label=\" sugoi\")\n",
    "yaba.edge(\"yaba\",\"tuyo\",label=\" magatte~~\")\n",
    "yaba.node(\"yaba\",shape=\"circle\", label=\"\",fillcolor='#f4fff2')\n",
    "yaba.node(\"tuyo\",label=\"node_chan\", fontcolor=\"red\")\n",
    "yaba.render('nya')\n",
    "\n",
    "sh('nya.png')"
   ]
  },
  {
   "cell_type": "code",
   "execution_count": 128,
   "metadata": {},
   "outputs": [
    {
     "name": "stdin",
     "output_type": "stream",
     "text": [
      " 5\n",
      " 1 2 1\n",
      " 1 3 1\n",
      " 2 4 1\n",
      " 3 5 1\n"
     ]
    },
    {
     "data": {
      "image/svg+xml": [
       "<?xml version=\"1.0\" encoding=\"UTF-8\" standalone=\"no\"?>\r\n",
       "<!DOCTYPE svg PUBLIC \"-//W3C//DTD SVG 1.1//EN\"\r\n",
       " \"http://www.w3.org/Graphics/SVG/1.1/DTD/svg11.dtd\">\r\n",
       "<!-- Generated by graphviz version 2.38.0 (20140413.2041)\r\n",
       " -->\r\n",
       "<!-- Title: %3 Pages: 1 -->\r\n",
       "<svg width=\"134pt\" height=\"218pt\"\r\n",
       " viewBox=\"0.00 0.00 134.00 218.00\" xmlns=\"http://www.w3.org/2000/svg\" xmlns:xlink=\"http://www.w3.org/1999/xlink\">\r\n",
       "<g id=\"graph0\" class=\"graph\" transform=\"scale(1 1) rotate(0) translate(4 214)\">\r\n",
       "<title>%3</title>\r\n",
       "<polygon fill=\"white\" stroke=\"none\" points=\"-4,4 -4,-214 130,-214 130,4 -4,4\"/>\r\n",
       "<!-- 1 -->\r\n",
       "<g id=\"node1\" class=\"node\"><title>1</title>\r\n",
       "<ellipse fill=\"none\" stroke=\"black\" cx=\"68\" cy=\"-192\" rx=\"27\" ry=\"18\"/>\r\n",
       "<text text-anchor=\"middle\" x=\"68\" y=\"-188.3\" font-family=\"Times New Roman,serif\" font-size=\"14.00\">1</text>\r\n",
       "</g>\r\n",
       "<!-- 2 -->\r\n",
       "<g id=\"node2\" class=\"node\"><title>2</title>\r\n",
       "<ellipse fill=\"none\" stroke=\"black\" cx=\"27\" cy=\"-105\" rx=\"27\" ry=\"18\"/>\r\n",
       "<text text-anchor=\"middle\" x=\"27\" y=\"-101.3\" font-family=\"Times New Roman,serif\" font-size=\"14.00\">2</text>\r\n",
       "</g>\r\n",
       "<!-- 1&#45;&#45;2 -->\r\n",
       "<g id=\"edge1\" class=\"edge\"><title>1&#45;&#45;2</title>\r\n",
       "<path fill=\"none\" stroke=\"black\" d=\"M60.0948,-174.611C52.8346,-159.56 42.1334,-137.374 34.8809,-122.339\"/>\r\n",
       "<text text-anchor=\"middle\" x=\"53.5\" y=\"-144.8\" font-family=\"Times New Roman,serif\" font-size=\"14.00\">1</text>\r\n",
       "</g>\r\n",
       "<!-- 3 -->\r\n",
       "<g id=\"node3\" class=\"node\"><title>3</title>\r\n",
       "<ellipse fill=\"none\" stroke=\"black\" cx=\"99\" cy=\"-105\" rx=\"27\" ry=\"18\"/>\r\n",
       "<text text-anchor=\"middle\" x=\"99\" y=\"-101.3\" font-family=\"Times New Roman,serif\" font-size=\"14.00\">3</text>\r\n",
       "</g>\r\n",
       "<!-- 1&#45;&#45;3 -->\r\n",
       "<g id=\"edge2\" class=\"edge\"><title>1&#45;&#45;3</title>\r\n",
       "<path fill=\"none\" stroke=\"black\" d=\"M74.1246,-174.207C79.5593,-159.305 87.4572,-137.649 92.8881,-122.758\"/>\r\n",
       "<text text-anchor=\"middle\" x=\"88.5\" y=\"-144.8\" font-family=\"Times New Roman,serif\" font-size=\"14.00\">1</text>\r\n",
       "</g>\r\n",
       "<!-- 4 -->\r\n",
       "<g id=\"node4\" class=\"node\"><title>4</title>\r\n",
       "<ellipse fill=\"none\" stroke=\"black\" cx=\"27\" cy=\"-18\" rx=\"27\" ry=\"18\"/>\r\n",
       "<text text-anchor=\"middle\" x=\"27\" y=\"-14.3\" font-family=\"Times New Roman,serif\" font-size=\"14.00\">4</text>\r\n",
       "</g>\r\n",
       "<!-- 2&#45;&#45;4 -->\r\n",
       "<g id=\"edge3\" class=\"edge\"><title>2&#45;&#45;4</title>\r\n",
       "<path fill=\"none\" stroke=\"black\" d=\"M27,-86.799C27,-72.0519 27,-50.9152 27,-36.1754\"/>\r\n",
       "<text text-anchor=\"middle\" x=\"30.5\" y=\"-57.8\" font-family=\"Times New Roman,serif\" font-size=\"14.00\">1</text>\r\n",
       "</g>\r\n",
       "<!-- 5 -->\r\n",
       "<g id=\"node5\" class=\"node\"><title>5</title>\r\n",
       "<ellipse fill=\"none\" stroke=\"black\" cx=\"99\" cy=\"-18\" rx=\"27\" ry=\"18\"/>\r\n",
       "<text text-anchor=\"middle\" x=\"99\" y=\"-14.3\" font-family=\"Times New Roman,serif\" font-size=\"14.00\">5</text>\r\n",
       "</g>\r\n",
       "<!-- 3&#45;&#45;5 -->\r\n",
       "<g id=\"edge4\" class=\"edge\"><title>3&#45;&#45;5</title>\r\n",
       "<path fill=\"none\" stroke=\"black\" d=\"M99,-86.799C99,-72.0519 99,-50.9152 99,-36.1754\"/>\r\n",
       "<text text-anchor=\"middle\" x=\"102.5\" y=\"-57.8\" font-family=\"Times New Roman,serif\" font-size=\"14.00\">1</text>\r\n",
       "</g>\r\n",
       "</g>\r\n",
       "</svg>\r\n"
      ],
      "text/plain": [
       "<graphviz.dot.Graph at 0x20a01a163a0>"
      ]
     },
     "execution_count": 128,
     "metadata": {},
     "output_type": "execute_result"
    }
   ],
   "source": [
    "N = int(input())\n",
    "G = [input().split() for _ in range(N-1)]\n",
    "\n",
    "Grap = Graph(format=\"png\")\n",
    "for i in range(N):\n",
    "    Grap.node(str(i+1))\n",
    "for i in range(N-1):\n",
    "    Grap.edge(str(G[i][0]),str(G[i][1]),label=str(G[i][2]))\n",
    "Grap"
   ]
  },
  {
   "cell_type": "code",
   "execution_count": null,
   "metadata": {},
   "outputs": [],
   "source": []
  }
 ],
 "metadata": {
  "kernelspec": {
   "display_name": "Python 3",
   "language": "python",
   "name": "python3"
  },
  "language_info": {
   "codemirror_mode": {
    "name": "ipython",
    "version": 3
   },
   "file_extension": ".py",
   "mimetype": "text/x-python",
   "name": "python",
   "nbconvert_exporter": "python",
   "pygments_lexer": "ipython3",
   "version": "3.8.5"
  },
  "toc": {
   "base_numbering": 1,
   "nav_menu": {},
   "number_sections": true,
   "sideBar": true,
   "skip_h1_title": false,
   "title_cell": "Table of Contents",
   "title_sidebar": "Contents",
   "toc_cell": false,
   "toc_position": {},
   "toc_section_display": true,
   "toc_window_display": false
  }
 },
 "nbformat": 4,
 "nbformat_minor": 4
}
