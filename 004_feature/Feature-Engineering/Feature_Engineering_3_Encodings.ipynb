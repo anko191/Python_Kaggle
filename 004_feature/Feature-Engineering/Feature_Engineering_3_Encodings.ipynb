{
  "nbformat": 4,
  "nbformat_minor": 0,
  "metadata": {
    "colab": {
      "name": "Feature_Engineering_3_Encodings.ipynb",
      "provenance": [],
      "authorship_tag": "ABX9TyNEGNdnT36mKb4SV7NFZiso",
      "include_colab_link": true
    },
    "kernelspec": {
      "name": "python3",
      "display_name": "Python 3"
    }
  },
  "cells": [
    {
      "cell_type": "markdown",
      "metadata": {
        "id": "view-in-github",
        "colab_type": "text"
      },
      "source": [
        "<a href=\"https://colab.research.google.com/github/anko191/Python_Kaggle/blob/master/Feature_Engineering/Feature_Engineering_3_Encodings.ipynb\" target=\"_parent\"><img src=\"https://colab.research.google.com/assets/colab-badge.svg\" alt=\"Open In Colab\"/></a>"
      ]
    },
    {
      "cell_type": "markdown",
      "metadata": {
        "id": "BSDwxkvu61-B",
        "colab_type": "text"
      },
      "source": [
        "# Categorical Encoding か\n",
        "* count encoding\n",
        "* target encoding\n",
        "* CatBoost encoding\n",
        "を学びましょう"
      ]
    },
    {
      "cell_type": "code",
      "metadata": {
        "id": "Tv0rBTai65fB",
        "colab_type": "code",
        "colab": {}
      },
      "source": [
        "# とりあえず必要なもの\n",
        "\n",
        "import pandas as pd\n",
        "from sklearn.preprocessing import LabelEncoder\n",
        "\n",
        "ks = pd.read_csv('/content/ks-projects-201801.csv',\n",
        "                 parse_dates=['deadline', 'launched'])\n",
        "\n",
        "# Drop live projects\n",
        "ks = ks.query('state != \"live\"')\n",
        "\n",
        "# Add outcome column, \"successful\" == 1, others are 0\n",
        "ks = ks.assign(outcome=(ks['state'] == 'successful').astype(int))\n",
        "\n",
        "# Timestamp features\n",
        "ks = ks.assign(hour=ks.launched.dt.hour,\n",
        "               day=ks.launched.dt.day,\n",
        "               month=ks.launched.dt.month,\n",
        "               year=ks.launched.dt.year)\n",
        "\n",
        "# Label encoding\n",
        "cat_features = ['category', 'currency', 'country']\n",
        "encoder = LabelEncoder()\n",
        "encoded = ks[cat_features].astype(str).apply(encoder.fit_transform)\n",
        "\n",
        "data_cols = ['goal', 'hour', 'day', 'month', 'year', 'outcome']\n",
        "data = ks[data_cols].join(encoded)\n",
        "\n",
        "# Defining  functions that will help us test our encodings\n",
        "import lightgbm as lgb\n",
        "from sklearn import metrics\n",
        "\n",
        "def get_data_splits(dataframe, valid_fraction=0.1):\n",
        "    valid_fraction = 0.1\n",
        "    valid_size = int(len(dataframe) * valid_fraction)\n",
        "\n",
        "    train = dataframe[:-valid_size * 2]\n",
        "    # valid size == test size, last two sections of the data\n",
        "    valid = dataframe[-valid_size * 2:-valid_size]\n",
        "    test = dataframe[-valid_size:]\n",
        "    \n",
        "    return train, valid, test\n",
        "\n",
        "def train_model(train, valid):\n",
        "    feature_cols = train.columns.drop('outcome')\n",
        "\n",
        "    dtrain = lgb.Dataset(train[feature_cols], label=train['outcome'])\n",
        "    dvalid = lgb.Dataset(valid[feature_cols], label=valid['outcome'])\n",
        "\n",
        "    param = {'num_leaves': 64, \n",
        "             'objective': 'binary', \n",
        "             'metric': 'auc', \n",
        "             'seed': 7}\n",
        "    bst = lgb.train(param, dtrain, num_boost_round=1000, valid_sets=[dvalid], \n",
        "                    early_stopping_rounds=10, verbose_eval=False)\n",
        "\n",
        "    valid_pred = bst.predict(valid[feature_cols])\n",
        "    valid_score = metrics.roc_auc_score(valid['outcome'], valid_pred)\n",
        "    print(f\"Validation AUC score: {valid_score:.4f}\")"
      ],
      "execution_count": 25,
      "outputs": []
    },
    {
      "cell_type": "code",
      "metadata": {
        "id": "530_gD-67Ubf",
        "colab_type": "code",
        "colab": {
          "base_uri": "https://localhost:8080/",
          "height": 34
        },
        "outputId": "dc6b4b5e-d2e0-4034-de05-f25840f68bb4"
      },
      "source": [
        "train, valid,test = get_data_splits(data)\n",
        "train_model(train, valid)"
      ],
      "execution_count": 26,
      "outputs": [
        {
          "output_type": "stream",
          "text": [
            "Validation AUC score: 0.7467\n"
          ],
          "name": "stdout"
        }
      ]
    },
    {
      "cell_type": "markdown",
      "metadata": {
        "id": "JM3tYkHW7i1f",
        "colab_type": "text"
      },
      "source": [
        "## Count Encoding なんぞこれ\n",
        "<b>データセット中で出現した回数で置き換えられる！！</b><br>\n",
        "例えば、'GB'っていうのが10回でたら、'GB'は10という数字に置き換えられる！！"
      ]
    },
    {
      "cell_type": "code",
      "metadata": {
        "id": "PsLkuMhh84zC",
        "colab_type": "code",
        "colab": {
          "base_uri": "https://localhost:8080/",
          "height": 292
        },
        "outputId": "6123c391-eb5f-4d23-c7bb-f68d5d4b5988"
      },
      "source": [
        "!pip install category_encoders"
      ],
      "execution_count": 28,
      "outputs": [
        {
          "output_type": "stream",
          "text": [
            "Collecting category_encoders\n",
            "\u001b[?25l  Downloading https://files.pythonhosted.org/packages/44/57/fcef41c248701ee62e8325026b90c432adea35555cbc870aff9cfba23727/category_encoders-2.2.2-py2.py3-none-any.whl (80kB)\n",
            "\r\u001b[K     |████                            | 10kB 15.3MB/s eta 0:00:01\r\u001b[K     |████████▏                       | 20kB 2.1MB/s eta 0:00:01\r\u001b[K     |████████████▏                   | 30kB 2.7MB/s eta 0:00:01\r\u001b[K     |████████████████▎               | 40kB 3.0MB/s eta 0:00:01\r\u001b[K     |████████████████████▎           | 51kB 2.4MB/s eta 0:00:01\r\u001b[K     |████████████████████████▍       | 61kB 2.7MB/s eta 0:00:01\r\u001b[K     |████████████████████████████▍   | 71kB 3.0MB/s eta 0:00:01\r\u001b[K     |████████████████████████████████| 81kB 2.3MB/s \n",
            "\u001b[?25hRequirement already satisfied: numpy>=1.14.0 in /usr/local/lib/python3.6/dist-packages (from category_encoders) (1.18.5)\n",
            "Requirement already satisfied: pandas>=0.21.1 in /usr/local/lib/python3.6/dist-packages (from category_encoders) (1.0.5)\n",
            "Requirement already satisfied: scipy>=1.0.0 in /usr/local/lib/python3.6/dist-packages (from category_encoders) (1.4.1)\n",
            "Requirement already satisfied: statsmodels>=0.9.0 in /usr/local/lib/python3.6/dist-packages (from category_encoders) (0.10.2)\n",
            "Requirement already satisfied: scikit-learn>=0.20.0 in /usr/local/lib/python3.6/dist-packages (from category_encoders) (0.22.2.post1)\n",
            "Requirement already satisfied: patsy>=0.5.1 in /usr/local/lib/python3.6/dist-packages (from category_encoders) (0.5.1)\n",
            "Requirement already satisfied: pytz>=2017.2 in /usr/local/lib/python3.6/dist-packages (from pandas>=0.21.1->category_encoders) (2018.9)\n",
            "Requirement already satisfied: python-dateutil>=2.6.1 in /usr/local/lib/python3.6/dist-packages (from pandas>=0.21.1->category_encoders) (2.8.1)\n",
            "Requirement already satisfied: joblib>=0.11 in /usr/local/lib/python3.6/dist-packages (from scikit-learn>=0.20.0->category_encoders) (0.16.0)\n",
            "Requirement already satisfied: six in /usr/local/lib/python3.6/dist-packages (from patsy>=0.5.1->category_encoders) (1.15.0)\n",
            "Installing collected packages: category-encoders\n",
            "Successfully installed category-encoders-2.2.2\n"
          ],
          "name": "stdout"
        }
      ]
    },
    {
      "cell_type": "code",
      "metadata": {
        "id": "JfBFjKid7bGU",
        "colab_type": "code",
        "colab": {
          "base_uri": "https://localhost:8080/",
          "height": 88
        },
        "outputId": "960bf8dd-f5e0-4ec0-b7f9-bfb8a46bb210"
      },
      "source": [
        "import category_encoders as ce\n",
        "cat_features = ['category', 'currency', 'country']\n",
        "\n",
        "# Create the encoder\n",
        "count_enc = ce.CountEncoder()\n",
        "\n",
        "# _count を名前に追加するぞ\n",
        "count_encoded = count_enc.fit_transform(ks[cat_features])\n",
        "data = data.join(count_encoded.add_suffix(\"_count\"))\n",
        "\n",
        "# Train a model\n",
        "train, valid, test = get_data_splits(data)\n",
        "train_model(train, valid)"
      ],
      "execution_count": 29,
      "outputs": [
        {
          "output_type": "stream",
          "text": [
            "/usr/local/lib/python3.6/dist-packages/statsmodels/tools/_testing.py:19: FutureWarning: pandas.util.testing is deprecated. Use the functions in the public API at pandas.testing instead.\n",
            "  import pandas.util.testing as tm\n"
          ],
          "name": "stderr"
        },
        {
          "output_type": "stream",
          "text": [
            "Validation AUC score: 0.7486\n"
          ],
          "name": "stdout"
        }
      ]
    },
    {
      "cell_type": "markdown",
      "metadata": {
        "id": "xAim9qI-9AYW",
        "colab_type": "text"
      },
      "source": [
        "ちょっとだけ上がってるｗ"
      ]
    },
    {
      "cell_type": "markdown",
      "metadata": {
        "id": "uHw0Ph0q9CXB",
        "colab_type": "text"
      },
      "source": [
        "## Target Encoding なにこれ？\n",
        "<b>カテゴリ値を、その特徴の値に対するターゲットの平均値に置き換えます。</b><br>例えば、\"CA\"が与えられた場合、国 == \"CA\"のすべての行の平均結果を計算すると、約0.28になる。<br>\n",
        "これは、出現頻度の少ない値の分散を減らすために、データセット全体のターゲット確率とブレンドされることが多いです。<br>\n",
        "* ターゲットを利用して新しい特徴を作成\n",
        "    * そのため、検証データやテストデータをターゲットエンコーディングに含めると、\n",
        "    * **ターゲットリーク**となります。\n",
        "    * その代わり、学習データセットからのみ、それを学習して、他に適用させろ"
      ]
    },
    {
      "cell_type": "code",
      "metadata": {
        "id": "zGRJ78pg8wrG",
        "colab_type": "code",
        "colab": {
          "base_uri": "https://localhost:8080/",
          "height": 34
        },
        "outputId": "cd02ca2d-85b9-4600-f73c-5f413f2dcff4"
      },
      "source": [
        "target_enc = ce.TargetEncoder(cols = cat_features)\n",
        "target_enc.fit(train[cat_features], train['outcome'])\n",
        "\n",
        "train_TE = train.join(target_enc.transform(train[cat_features]).add_suffix('_target'))\n",
        "valid_TE = valid.join(target_enc.transform(valid[cat_features]).add_suffix('_target'))\n",
        "\n",
        "train_model(train_TE, valid_TE)"
      ],
      "execution_count": 30,
      "outputs": [
        {
          "output_type": "stream",
          "text": [
            "Validation AUC score: 0.7491\n"
          ],
          "name": "stdout"
        }
      ]
    },
    {
      "cell_type": "markdown",
      "metadata": {
        "id": "mqL9tupq-I-O",
        "colab_type": "text"
      },
      "source": [
        "またちょっとあがったね"
      ]
    },
    {
      "cell_type": "markdown",
      "metadata": {
        "id": "Muz7bz6N-MUp",
        "colab_type": "text"
      },
      "source": [
        "## CatBoost Encoding なにこれ\n",
        "* 与えられた値に対するターゲットの確率に基づいています"
      ]
    },
    {
      "cell_type": "code",
      "metadata": {
        "id": "pAeoHJPz-Gdd",
        "colab_type": "code",
        "colab": {
          "base_uri": "https://localhost:8080/",
          "height": 34
        },
        "outputId": "f3b39f51-e329-47cd-fe7b-e8c87a4ff691"
      },
      "source": [
        "target_enc = ce.CatBoostEncoder(cols = cat_features)\n",
        "target_enc.fit(train[cat_features], train['outcome'])\n",
        "\n",
        "train_CBE = train.join(target_enc.transform(train[cat_features]).add_suffix('_cb'))\n",
        "valid_CBE = valid.join(target_enc.transform(valid[cat_features]).add_suffix('_cb'))\n",
        "\n",
        "train_model(train_CBE, valid_CBE)"
      ],
      "execution_count": 31,
      "outputs": [
        {
          "output_type": "stream",
          "text": [
            "Validation AUC score: 0.7492\n"
          ],
          "name": "stdout"
        }
      ]
    },
    {
      "cell_type": "markdown",
      "metadata": {
        "id": "zJ2OrKUm-1LK",
        "colab_type": "text"
      },
      "source": [
        "はいはい"
      ]
    },
    {
      "cell_type": "markdown",
      "metadata": {
        "id": "_XIC1dAj_YHD",
        "colab_type": "text"
      },
      "source": [
        "これらのエンコーディングは、カウントや平均などのデータセットから計算されていますね<br>\n",
        "どのようなデータをしようすればいいのかな？検証データ使うのかな？テストデータ使えるかな？"
      ]
    },
    {
      "cell_type": "markdown",
      "metadata": {
        "id": "feEBxDXW_jdF",
        "colab_type": "text"
      },
      "source": [
        "* 学習データからのみやる必要があります。\n",
        "    * 検証セットとテストセットのデータをエンコーディングに含めると、モデルの性能を過大評価することになります。\n",
        "    "
      ]
    },
    {
      "cell_type": "code",
      "metadata": {
        "id": "hryh_dAS-yp1",
        "colab_type": "code",
        "colab": {}
      },
      "source": [
        "import category_encoders as ce\n",
        "\n",
        "cat_features = ['ip', 'app', 'device', 'os', 'channel']\n",
        "train, valid, test = get_data_splits(clicks)"
      ],
      "execution_count": null,
      "outputs": []
    },
    {
      "cell_type": "code",
      "metadata": {
        "id": "rp5ZhMFI_vST",
        "colab_type": "code",
        "colab": {}
      },
      "source": [
        "# Create the count encoder\n",
        "count_enc = ce.CountEncoder(cols = cat_features)\n",
        "\n",
        "# Learn encoding from the training set\n",
        "count_enc.fit(train[cat_features]) # いらないの\n",
        "\n",
        "# Apply encoding to the train and validation sets as new columns\n",
        "# Make sure to add `_count` as a suffix to the new columns\n",
        "train_encoded = train.join(count_enc.transform(train[cat_features]).add_suffix('_count'))\n",
        "valid_encoded = valid.join(count_enc.transform(valid[cat_features]).add_suffix('_count'))\n",
        "\n",
        "# Check your answer\n",
        "q_2.check()"
      ],
      "execution_count": null,
      "outputs": []
    },
    {
      "cell_type": "code",
      "metadata": {
        "id": "kr3l-ZLwArMX",
        "colab_type": "code",
        "colab": {}
      },
      "source": [
        "def get_data_splits(dataframe, valid_fraction=0.1):\n",
        "    \"\"\"Splits a dataframe into train, validation, and test sets.\n",
        "\n",
        "    First, orders by the column 'click_time'. Set the size of the \n",
        "    validation and test sets with the valid_fraction keyword argument.\n",
        "    \"\"\"\n",
        "\n",
        "    dataframe = dataframe.sort_values('click_time')\n",
        "    valid_rows = int(len(dataframe) * valid_fraction)\n",
        "    train = dataframe[:-valid_rows * 2]\n",
        "    # valid size == test size, last two sections of the data\n",
        "    valid = dataframe[-valid_rows * 2:-valid_rows]\n",
        "    test = dataframe[-valid_rows:]\n",
        "    \n",
        "    return train, valid, test\n",
        "\n",
        "def train_model(train, valid, test=None, feature_cols=None):\n",
        "    if feature_cols is None:\n",
        "        feature_cols = train.columns.drop(['click_time', 'attributed_time',\n",
        "                                           'is_attributed'])\n",
        "    dtrain = lgb.Dataset(train[feature_cols], label=train['is_attributed'])\n",
        "    dvalid = lgb.Dataset(valid[feature_cols], label=valid['is_attributed'])\n",
        "    \n",
        "    param = {'num_leaves': 64, 'objective': 'binary', \n",
        "             'metric': 'auc', 'seed': 7}\n",
        "    num_round = 1000\n",
        "    bst = lgb.train(param, dtrain, num_round, valid_sets=[dvalid], \n",
        "                    early_stopping_rounds=20, verbose_eval=False)\n",
        "    \n",
        "    valid_pred = bst.predict(valid[feature_cols])\n",
        "    valid_score = metrics.roc_auc_score(valid['is_attributed'], valid_pred)\n",
        "    print(f\"Validation AUC score: {valid_score}\")\n",
        "    \n",
        "    if test is not None: \n",
        "        test_pred = bst.predict(test[feature_cols])\n",
        "        test_score = metrics.roc_auc_score(test['is_attributed'], test_pred)\n",
        "        return bst, valid_score, test_score\n",
        "    else:\n",
        "        return bst, valid_score"
      ],
      "execution_count": null,
      "outputs": []
    },
    {
      "cell_type": "code",
      "metadata": {
        "id": "4nqIP5C7A3Qh",
        "colab_type": "code",
        "colab": {}
      },
      "source": [
        "# Train the model on the encoded datasets\n",
        "# This can take around 30 seconds to complete\n",
        "_ = train_model(train_encoded, valid_encoded)"
      ],
      "execution_count": null,
      "outputs": []
    },
    {
      "cell_type": "markdown",
      "metadata": {
        "id": "JONNFdDVBHoH",
        "colab_type": "text"
      },
      "source": [
        "### なんでカウンティんぐエンコーディングそんないいん？？\n",
        "* 希少な値は、同じようなカウントを持つ傾向がある\n",
        "* 予測時に希少な値をまとめて分類することが出来る。\n",
        "* カウントが大きい共通の値は、他の値と正確なカウントが同じである可能性が低い\n",
        "* そのために、共通の値 / 重要な値には独自のグループ訳がされるんよ"
      ]
    },
    {
      "cell_type": "markdown",
      "metadata": {
        "id": "UcQDueIdBf99",
        "colab_type": "text"
      },
      "source": [
        "### Target encoding　するぞ"
      ]
    },
    {
      "cell_type": "code",
      "metadata": {
        "id": "VKblQgnoBEHl",
        "colab_type": "code",
        "colab": {}
      },
      "source": [
        "# Create the target encoder. You can find this easily by using tab completion.\n",
        "# Start typing ce. the press Tab to bring up a list of classes and functions.\n",
        "target_enc = ce.TargetEncoder(cols = cat_features)\n",
        "\n",
        "# Learn encoding from the training set. Use the 'is_attributed' column as the target.\n",
        "target_enc.fit(train[cat_features], train['is_attributed'])\n",
        "\n",
        "# Apply encoding to the train and validation sets as new columns\n",
        "# Make sure to add `_target` as a suffix to the new columns\n",
        "train_encoded = train.join(target_enc.transform(train[cat_features]).add_suffix('_target'))\n",
        "valid_encoded = valid.join(target_enc.transform(valid[cat_features]).add_suffix('_target'))\n",
        "\n",
        "# Check your answer\n",
        "q_4.check()"
      ],
      "execution_count": null,
      "outputs": []
    },
    {
      "cell_type": "code",
      "metadata": {
        "id": "C-Hm2vV7CH9M",
        "colab_type": "code",
        "colab": {}
      },
      "source": [
        "_ = train_model(train_encoded, valid_encoded)"
      ],
      "execution_count": null,
      "outputs": []
    },
    {
      "cell_type": "markdown",
      "metadata": {
        "id": "3cVg58fpCPXH",
        "colab_type": "text"
      },
      "source": [
        "#### IP Encodingを消してみる\n",
        "符号化された特徴量から、 ip を除外し、ターゲット符号化でモデルを再学習すると、<br>スコアが増加し、ベースラインのスコアを上回ることに気付く\n",
        "<br>IPアドレスをエンコードするとスコアがベースラインより低くなるが、\n",
        "<br>エンコードしないとベースラインより高くなるのはなぜだと思いますか？"
      ]
    },
    {
      "cell_type": "markdown",
      "metadata": {
        "id": "T2-PZ8uuCtZb",
        "colab_type": "text"
      },
      "source": [
        "* ターゲット・エンコーディングは，カテゴリカル特徴量の各レベルのターゲットの母集団平均を測定しようとする．\n",
        "* これは、レベルごとのデータが少ない場合、推定された平均は \"真の \"平均から遠く離れ、分散が多くなることを意味します。\n",
        "* IPアドレスごとのデータが少ないので、推定値は他の特徴よりもはるかにノイズが多い可能性があります。モデルは非常に予測性が高いので、この特徴に大きく依存します。\n",
        "* これにより、他の特徴での分割が少なくなり、それらの特徴はIPアドレスを考慮して残された誤差だけで適合されます。\n",
        "* そのため、トレーニング・データにない新しいIPアドレスを見たとき（これはほとんどの新しいデータであると思われます）、モデルのパフォーマンスは非常に悪くなります。* 今後は、異なるエンコーディングを試す際にIP特徴を除外することにします。"
      ]
    },
    {
      "cell_type": "markdown",
      "metadata": {
        "id": "0rUVMHslDBEy",
        "colab_type": "text"
      },
      "source": [
        "### CatBoost Encoder\n",
        "LightGBMモデルと相性が良いようですね"
      ]
    },
    {
      "cell_type": "code",
      "metadata": {
        "id": "xp26fmglCKal",
        "colab_type": "code",
        "colab": {}
      },
      "source": [
        "# Remove IP from the encoded features\n",
        "cat_features = ['app', 'device', 'os', 'channel']\n",
        "\n",
        "# Create the CatBoost encoder\n",
        "cb_enc = ce.CatBoostEncoder(cols=cat_features, random_state=7)\n",
        "\n",
        "# Learn encoding from the training set\n",
        "cb_enc.fit(train[cat_features], train['is_attributed'])\n",
        "\n",
        "# Apply encoding to the train and validation sets as new columns\n",
        "# Make sure to add `_cb` as a suffix to the new columns\n",
        "train_encoded = train.join(cb_enc.transform(train[cat_features]).add_suffix('_cb'))\n",
        "valid_encoded = valid.join(cb_enc.transform(valid[cat_features]).add_suffix('_cb'))\n",
        "\n",
        "# Check your answer\n",
        "q_6.check()"
      ],
      "execution_count": null,
      "outputs": []
    },
    {
      "cell_type": "code",
      "metadata": {
        "id": "UaTS7nJzDliJ",
        "colab_type": "code",
        "colab": {}
      },
      "source": [
        "_ = train_model(train_encoded, valid_encoded)"
      ],
      "execution_count": null,
      "outputs": []
    }
  ]
}