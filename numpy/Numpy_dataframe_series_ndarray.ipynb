{
  "nbformat": 4,
  "nbformat_minor": 0,
  "metadata": {
    "colab": {
      "name": "Numpy_dataframe_series_ndarray",
      "provenance": [],
      "authorship_tag": "ABX9TyN1Z2oewRDN4kAAyodc9qk3",
      "include_colab_link": true
    },
    "kernelspec": {
      "name": "python3",
      "display_name": "Python 3"
    }
  },
  "cells": [
    {
      "cell_type": "markdown",
      "metadata": {
        "id": "view-in-github",
        "colab_type": "text"
      },
      "source": [
        "<a href=\"https://colab.research.google.com/github/anko191/C/blob/master/numpy/Numpy_dataframe_series_ndarray.ipynb\" target=\"_parent\"><img src=\"https://colab.research.google.com/assets/colab-badge.svg\" alt=\"Open In Colab\"/></a>"
      ]
    },
    {
      "cell_type": "code",
      "metadata": {
        "id": "VELU16selEQc",
        "colab_type": "code",
        "colab": {
          "base_uri": "https://localhost:8080/",
          "height": 51
        },
        "outputId": "10f32bdc-3ae1-4854-9b78-5256cd39915b"
      },
      "source": [
        "df = pd.DataFrame(data = [[1,2,3], [4,5,6]], columns=['a','b','c'])\n",
        "a = df.to_numpy()\n",
        "print(a)"
      ],
      "execution_count": 48,
      "outputs": [
        {
          "output_type": "stream",
          "text": [
            "[[1 2 3]\n",
            " [4 5 6]]\n"
          ],
          "name": "stdout"
        }
      ]
    },
    {
      "cell_type": "code",
      "metadata": {
        "id": "VCY5aqrAnvfC",
        "colab_type": "code",
        "colab": {
          "base_uri": "https://localhost:8080/",
          "height": 153
        },
        "outputId": "f05cda93-bd57-4d49-c00b-85294cda2369"
      },
      "source": [
        "a_copy = df.to_numpy(copy = True)\n",
        "print(a_copy)\n",
        "print(np.shares_memory(df, a_copy))\n",
        "a_copy[0,0] = 10\n",
        "print(a_copy)\n",
        "print(df)"
      ],
      "execution_count": 51,
      "outputs": [
        {
          "output_type": "stream",
          "text": [
            "[[1 2 3]\n",
            " [4 5 6]]\n",
            "False\n",
            "[[10  2  3]\n",
            " [ 4  5  6]]\n",
            "   a  b  c\n",
            "0  1  2  3\n",
            "1  4  5  6\n"
          ],
          "name": "stdout"
        }
      ]
    },
    {
      "cell_type": "code",
      "metadata": {
        "id": "GPDlXlZdoFRi",
        "colab_type": "code",
        "colab": {
          "base_uri": "https://localhost:8080/",
          "height": 68
        },
        "outputId": "e1346282-b02c-4a32-81c9-2805a36aa69c"
      },
      "source": [
        "a_f = df.to_numpy(dtype=float)\n",
        "print(a_f)\n",
        "print(np.shares_memory(df, a_f))"
      ],
      "execution_count": 52,
      "outputs": [
        {
          "output_type": "stream",
          "text": [
            "[[1. 2. 3.]\n",
            " [4. 5. 6.]]\n",
            "False\n"
          ],
          "name": "stdout"
        }
      ]
    },
    {
      "cell_type": "markdown",
      "metadata": {
        "id": "30a9nXh7on4E",
        "colab_type": "text"
      },
      "source": [
        "# list -> ndarray , numpy.array()\n",
        "# ndarray -> list, tolist()"
      ]
    },
    {
      "cell_type": "code",
      "metadata": {
        "id": "UOH0VKeaoaf_",
        "colab_type": "code",
        "colab": {
          "base_uri": "https://localhost:8080/",
          "height": 51
        },
        "outputId": "61cce8d5-0d4a-4b71-cfcb-f2b33b3f1df0"
      },
      "source": [
        "l_2d = [[0,1,2], [3,4,5]]\n",
        "arr_2d = np.array(l_2d)\n",
        "print(arr_2d)"
      ],
      "execution_count": 53,
      "outputs": [
        {
          "output_type": "stream",
          "text": [
            "[[0 1 2]\n",
            " [3 4 5]]\n"
          ],
          "name": "stdout"
        }
      ]
    },
    {
      "cell_type": "code",
      "metadata": {
        "id": "izQfpiVHpKr0",
        "colab_type": "code",
        "colab": {
          "base_uri": "https://localhost:8080/",
          "height": 51
        },
        "outputId": "a93aabb7-30b6-4825-e5c0-aed35bfca988"
      },
      "source": [
        "arr_ld = np.arange(3)\n",
        "print(arr_ld)\n",
        "l_ld = arr_ld.tolist()\n",
        "print(l_ld)"
      ],
      "execution_count": 54,
      "outputs": [
        {
          "output_type": "stream",
          "text": [
            "[0 1 2]\n",
            "[0, 1, 2]\n"
          ],
          "name": "stdout"
        }
      ]
    },
    {
      "cell_type": "code",
      "metadata": {
        "id": "9ksvcnCNpQPh",
        "colab_type": "code",
        "colab": {}
      },
      "source": [
        ""
      ],
      "execution_count": null,
      "outputs": []
    }
  ]
}
