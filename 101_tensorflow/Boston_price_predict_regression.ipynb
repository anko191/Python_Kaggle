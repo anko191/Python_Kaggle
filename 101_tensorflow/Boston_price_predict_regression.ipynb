{
  "nbformat": 4,
  "nbformat_minor": 0,
  "metadata": {
    "colab": {
      "name": "Untitled18.ipynb",
      "provenance": [],
      "authorship_tag": "ABX9TyO15HSYckaghe2wlgKVEJ6J",
      "include_colab_link": true
    },
    "kernelspec": {
      "name": "python3",
      "display_name": "Python 3"
    }
  },
  "cells": [
    {
      "cell_type": "markdown",
      "metadata": {
        "id": "view-in-github",
        "colab_type": "text"
      },
      "source": [
        "<a href=\"https://colab.research.google.com/github/anko191/Python_Kaggle/blob/master/Tensorflow/Boston_price_predict_regression.ipynb\" target=\"_parent\"><img src=\"https://colab.research.google.com/assets/colab-badge.svg\" alt=\"Open In Colab\"/></a>"
      ]
    },
    {
      "cell_type": "markdown",
      "metadata": {
        "id": "-0LC2DG2C-q9"
      },
      "source": [
        "# 回帰分析 Regression for tensoflow"
      ]
    },
    {
      "cell_type": "code",
      "metadata": {
        "id": "SR7n6DNKCc_P",
        "outputId": "47626e3a-9e6d-4d44-bba8-f6fd64316df1",
        "colab": {
          "base_uri": "https://localhost:8080/",
          "height": 34
        }
      },
      "source": [
        "import tensorflow as tf\n",
        "from tensorflow import keras\n",
        "import numpy as np\n",
        "print(tf.__version__)"
      ],
      "execution_count": 1,
      "outputs": [
        {
          "output_type": "stream",
          "text": [
            "2.3.0\n"
          ],
          "name": "stdout"
        }
      ]
    },
    {
      "cell_type": "markdown",
      "metadata": {
        "id": "iYM69LD1DC0M"
      },
      "source": [
        "## データのダウンロード"
      ]
    },
    {
      "cell_type": "code",
      "metadata": {
        "id": "gr3xxf1ZCjyl",
        "outputId": "becc76c5-5a89-4169-a038-d47bc5bf5f6a",
        "colab": {
          "base_uri": "https://localhost:8080/",
          "height": 51
        }
      },
      "source": [
        "boston_housing = keras.datasets.boston_housing\n",
        "\n",
        "(train_data, train_labels), (test_data, test_labels) = boston_housing.load_data()\n",
        "\n",
        "# Shuffle the training set\n",
        "order = np.argsort(np.random.random(train_labels.shape))\n",
        "train_data = train_data[order]\n",
        "train_labels = train_labels[order]"
      ],
      "execution_count": 2,
      "outputs": [
        {
          "output_type": "stream",
          "text": [
            "Downloading data from https://storage.googleapis.com/tensorflow/tf-keras-datasets/boston_housing.npz\n",
            "57344/57026 [==============================] - 0s 0us/step\n"
          ],
          "name": "stdout"
        }
      ]
    },
    {
      "cell_type": "code",
      "metadata": {
        "id": "OThGaeeZC6v7",
        "outputId": "4cffbf5f-5358-4e0e-c11b-09194ca10390",
        "colab": {
          "base_uri": "https://localhost:8080/",
          "height": 51
        }
      },
      "source": [
        "print(\"Training set: {}\".format(train_data.shape))\n",
        "print(\"Testing set {}\".format(test_data.shape))"
      ],
      "execution_count": 3,
      "outputs": [
        {
          "output_type": "stream",
          "text": [
            "Training set: (404, 13)\n",
            "Testing set (102, 13)\n"
          ],
          "name": "stdout"
        }
      ]
    },
    {
      "cell_type": "markdown",
      "metadata": {
        "id": "S4CWZEYhDh0W"
      },
      "source": [
        "* データセットの13の異なる特徴\n",
        "    * crim/(町ごとの1人当たりの犯罪率) 低い方がいいね\n",
        "    * zn/(25000平方フィート以上の住宅地の割合) めっちゃ広いやつあるって？\n",
        "    * indus/(町ごとの非小売業の面積の割合) 多いほうがいい？\n",
        "    * chas/チャールズ側のダミー変数(tractが川に接しているとき1, そうでない時は0) なにこれ\n",
        "    * nox/NO2の濃度(1000万個当たりの) 低いほうが良い\n",
        "    * rm/1住戸あたりの平均部屋数 (大きい方が良いね)\n",
        "    * age/1940年以前に建てられた持ち家住宅の割合 低い方がいいのかなぁ？不明\n",
        "    * dis/ボストンの5つの雇用センターまでの距離の加重平均 近いほうがいいね\n",
        "    * rad/放射線状の高速道路へのアクセス性の指標　大きいほうが良い\n",
        "    * tax/10000ドルあたりの全額固定資産税の税率 これなに？低いほうが良い？\n",
        "    * ptratio/町別の生徒数と教師数の比率\n",
        "    * black/1000(Bk-0.63)^2、bkは町ごとの黒人の割合である 0.63に近づくほど小さくなる\n",
        "    * lstat/人口のステータスの低さ(percent) 人は多いほうが良いのかな～わからん\n",
        "    * medv/1000ドル台の持ち家の価値の中央値 なにこれ"
      ]
    },
    {
      "cell_type": "markdown",
      "metadata": {
        "id": "K3a0cIGrDeOP"
      },
      "source": [
        "## (重要)リストで配列が保存されているとき、何をするか？"
      ]
    },
    {
      "cell_type": "code",
      "metadata": {
        "id": "PFSbS0hyDdIz",
        "outputId": "e6c49a93-d8a9-4e44-c88f-79e85f906611",
        "colab": {
          "base_uri": "https://localhost:8080/",
          "height": 68
        }
      },
      "source": [
        "print(train_data[0])"
      ],
      "execution_count": 4,
      "outputs": [
        {
          "output_type": "stream",
          "text": [
            "[1.9657e-01 2.2000e+01 5.8600e+00 0.0000e+00 4.3100e-01 6.2260e+00\n",
            " 7.9200e+01 8.0555e+00 7.0000e+00 3.3000e+02 1.9100e+01 3.7614e+02\n",
            " 1.0150e+01]\n"
          ],
          "name": "stdout"
        }
      ]
    },
    {
      "cell_type": "code",
      "metadata": {
        "id": "CuPhCm7DJDT1"
      },
      "source": [
        "import pandas as pd"
      ],
      "execution_count": 5,
      "outputs": []
    },
    {
      "cell_type": "code",
      "metadata": {
        "id": "WC3WaGMaJEqT",
        "outputId": "69d26842-cfd0-4674-e548-117fa10bf14a",
        "colab": {
          "base_uri": "https://localhost:8080/",
          "height": 204
        }
      },
      "source": [
        "column_names = ['crim', 'zn', 'indus', 'chas', 'nox', 'rm', 'age', 'dis', 'tax', 'ptratio', 'black', 'lstat','medv']\n",
        "df = pd.DataFrame(train_data, columns = column_names)\n",
        "df.head()"
      ],
      "execution_count": 6,
      "outputs": [
        {
          "output_type": "execute_result",
          "data": {
            "text/html": [
              "<div>\n",
              "<style scoped>\n",
              "    .dataframe tbody tr th:only-of-type {\n",
              "        vertical-align: middle;\n",
              "    }\n",
              "\n",
              "    .dataframe tbody tr th {\n",
              "        vertical-align: top;\n",
              "    }\n",
              "\n",
              "    .dataframe thead th {\n",
              "        text-align: right;\n",
              "    }\n",
              "</style>\n",
              "<table border=\"1\" class=\"dataframe\">\n",
              "  <thead>\n",
              "    <tr style=\"text-align: right;\">\n",
              "      <th></th>\n",
              "      <th>crim</th>\n",
              "      <th>zn</th>\n",
              "      <th>indus</th>\n",
              "      <th>chas</th>\n",
              "      <th>nox</th>\n",
              "      <th>rm</th>\n",
              "      <th>age</th>\n",
              "      <th>dis</th>\n",
              "      <th>tax</th>\n",
              "      <th>ptratio</th>\n",
              "      <th>black</th>\n",
              "      <th>lstat</th>\n",
              "      <th>medv</th>\n",
              "    </tr>\n",
              "  </thead>\n",
              "  <tbody>\n",
              "    <tr>\n",
              "      <th>0</th>\n",
              "      <td>0.19657</td>\n",
              "      <td>22.0</td>\n",
              "      <td>5.86</td>\n",
              "      <td>0.0</td>\n",
              "      <td>0.431</td>\n",
              "      <td>6.226</td>\n",
              "      <td>79.2</td>\n",
              "      <td>8.0555</td>\n",
              "      <td>7.0</td>\n",
              "      <td>330.0</td>\n",
              "      <td>19.1</td>\n",
              "      <td>376.14</td>\n",
              "      <td>10.15</td>\n",
              "    </tr>\n",
              "    <tr>\n",
              "      <th>1</th>\n",
              "      <td>0.44791</td>\n",
              "      <td>0.0</td>\n",
              "      <td>6.20</td>\n",
              "      <td>1.0</td>\n",
              "      <td>0.507</td>\n",
              "      <td>6.726</td>\n",
              "      <td>66.5</td>\n",
              "      <td>3.6519</td>\n",
              "      <td>8.0</td>\n",
              "      <td>307.0</td>\n",
              "      <td>17.4</td>\n",
              "      <td>360.20</td>\n",
              "      <td>8.05</td>\n",
              "    </tr>\n",
              "    <tr>\n",
              "      <th>2</th>\n",
              "      <td>11.08740</td>\n",
              "      <td>0.0</td>\n",
              "      <td>18.10</td>\n",
              "      <td>0.0</td>\n",
              "      <td>0.718</td>\n",
              "      <td>6.411</td>\n",
              "      <td>100.0</td>\n",
              "      <td>1.8589</td>\n",
              "      <td>24.0</td>\n",
              "      <td>666.0</td>\n",
              "      <td>20.2</td>\n",
              "      <td>318.75</td>\n",
              "      <td>15.02</td>\n",
              "    </tr>\n",
              "    <tr>\n",
              "      <th>3</th>\n",
              "      <td>0.06664</td>\n",
              "      <td>0.0</td>\n",
              "      <td>4.05</td>\n",
              "      <td>0.0</td>\n",
              "      <td>0.510</td>\n",
              "      <td>6.546</td>\n",
              "      <td>33.1</td>\n",
              "      <td>3.1323</td>\n",
              "      <td>5.0</td>\n",
              "      <td>296.0</td>\n",
              "      <td>16.6</td>\n",
              "      <td>390.96</td>\n",
              "      <td>5.33</td>\n",
              "    </tr>\n",
              "    <tr>\n",
              "      <th>4</th>\n",
              "      <td>8.26725</td>\n",
              "      <td>0.0</td>\n",
              "      <td>18.10</td>\n",
              "      <td>1.0</td>\n",
              "      <td>0.668</td>\n",
              "      <td>5.875</td>\n",
              "      <td>89.6</td>\n",
              "      <td>1.1296</td>\n",
              "      <td>24.0</td>\n",
              "      <td>666.0</td>\n",
              "      <td>20.2</td>\n",
              "      <td>347.88</td>\n",
              "      <td>8.88</td>\n",
              "    </tr>\n",
              "  </tbody>\n",
              "</table>\n",
              "</div>"
            ],
            "text/plain": [
              "       crim    zn  indus  chas    nox  ...   tax  ptratio  black   lstat   medv\n",
              "0   0.19657  22.0   5.86   0.0  0.431  ...   7.0    330.0   19.1  376.14  10.15\n",
              "1   0.44791   0.0   6.20   1.0  0.507  ...   8.0    307.0   17.4  360.20   8.05\n",
              "2  11.08740   0.0  18.10   0.0  0.718  ...  24.0    666.0   20.2  318.75  15.02\n",
              "3   0.06664   0.0   4.05   0.0  0.510  ...   5.0    296.0   16.6  390.96   5.33\n",
              "4   8.26725   0.0  18.10   1.0  0.668  ...  24.0    666.0   20.2  347.88   8.88\n",
              "\n",
              "[5 rows x 13 columns]"
            ]
          },
          "metadata": {
            "tags": []
          },
          "execution_count": 6
        }
      ]
    },
    {
      "cell_type": "code",
      "metadata": {
        "id": "Ib04fk2LJecj",
        "outputId": "69b3e095-a8c8-4922-c29b-80bcbf8ad90d",
        "colab": {
          "base_uri": "https://localhost:8080/",
          "height": 317
        }
      },
      "source": [
        "df.describe()"
      ],
      "execution_count": 7,
      "outputs": [
        {
          "output_type": "execute_result",
          "data": {
            "text/html": [
              "<div>\n",
              "<style scoped>\n",
              "    .dataframe tbody tr th:only-of-type {\n",
              "        vertical-align: middle;\n",
              "    }\n",
              "\n",
              "    .dataframe tbody tr th {\n",
              "        vertical-align: top;\n",
              "    }\n",
              "\n",
              "    .dataframe thead th {\n",
              "        text-align: right;\n",
              "    }\n",
              "</style>\n",
              "<table border=\"1\" class=\"dataframe\">\n",
              "  <thead>\n",
              "    <tr style=\"text-align: right;\">\n",
              "      <th></th>\n",
              "      <th>crim</th>\n",
              "      <th>zn</th>\n",
              "      <th>indus</th>\n",
              "      <th>chas</th>\n",
              "      <th>nox</th>\n",
              "      <th>rm</th>\n",
              "      <th>age</th>\n",
              "      <th>dis</th>\n",
              "      <th>tax</th>\n",
              "      <th>ptratio</th>\n",
              "      <th>black</th>\n",
              "      <th>lstat</th>\n",
              "      <th>medv</th>\n",
              "    </tr>\n",
              "  </thead>\n",
              "  <tbody>\n",
              "    <tr>\n",
              "      <th>count</th>\n",
              "      <td>404.000000</td>\n",
              "      <td>404.000000</td>\n",
              "      <td>404.000000</td>\n",
              "      <td>404.000000</td>\n",
              "      <td>404.000000</td>\n",
              "      <td>404.000000</td>\n",
              "      <td>404.000000</td>\n",
              "      <td>404.000000</td>\n",
              "      <td>404.000000</td>\n",
              "      <td>404.000000</td>\n",
              "      <td>404.000000</td>\n",
              "      <td>404.000000</td>\n",
              "      <td>404.000000</td>\n",
              "    </tr>\n",
              "    <tr>\n",
              "      <th>mean</th>\n",
              "      <td>3.745111</td>\n",
              "      <td>11.480198</td>\n",
              "      <td>11.104431</td>\n",
              "      <td>0.061881</td>\n",
              "      <td>0.557356</td>\n",
              "      <td>6.267082</td>\n",
              "      <td>69.010644</td>\n",
              "      <td>3.740271</td>\n",
              "      <td>9.440594</td>\n",
              "      <td>405.898515</td>\n",
              "      <td>18.475990</td>\n",
              "      <td>354.783168</td>\n",
              "      <td>12.740817</td>\n",
              "    </tr>\n",
              "    <tr>\n",
              "      <th>std</th>\n",
              "      <td>9.240734</td>\n",
              "      <td>23.767711</td>\n",
              "      <td>6.811308</td>\n",
              "      <td>0.241238</td>\n",
              "      <td>0.117293</td>\n",
              "      <td>0.709788</td>\n",
              "      <td>27.940665</td>\n",
              "      <td>2.030215</td>\n",
              "      <td>8.698360</td>\n",
              "      <td>166.374543</td>\n",
              "      <td>2.200382</td>\n",
              "      <td>94.111148</td>\n",
              "      <td>7.254545</td>\n",
              "    </tr>\n",
              "    <tr>\n",
              "      <th>min</th>\n",
              "      <td>0.006320</td>\n",
              "      <td>0.000000</td>\n",
              "      <td>0.460000</td>\n",
              "      <td>0.000000</td>\n",
              "      <td>0.385000</td>\n",
              "      <td>3.561000</td>\n",
              "      <td>2.900000</td>\n",
              "      <td>1.129600</td>\n",
              "      <td>1.000000</td>\n",
              "      <td>188.000000</td>\n",
              "      <td>12.600000</td>\n",
              "      <td>0.320000</td>\n",
              "      <td>1.730000</td>\n",
              "    </tr>\n",
              "    <tr>\n",
              "      <th>25%</th>\n",
              "      <td>0.081437</td>\n",
              "      <td>0.000000</td>\n",
              "      <td>5.130000</td>\n",
              "      <td>0.000000</td>\n",
              "      <td>0.453000</td>\n",
              "      <td>5.874750</td>\n",
              "      <td>45.475000</td>\n",
              "      <td>2.077100</td>\n",
              "      <td>4.000000</td>\n",
              "      <td>279.000000</td>\n",
              "      <td>17.225000</td>\n",
              "      <td>374.672500</td>\n",
              "      <td>6.890000</td>\n",
              "    </tr>\n",
              "    <tr>\n",
              "      <th>50%</th>\n",
              "      <td>0.268880</td>\n",
              "      <td>0.000000</td>\n",
              "      <td>9.690000</td>\n",
              "      <td>0.000000</td>\n",
              "      <td>0.538000</td>\n",
              "      <td>6.198500</td>\n",
              "      <td>78.500000</td>\n",
              "      <td>3.142300</td>\n",
              "      <td>5.000000</td>\n",
              "      <td>330.000000</td>\n",
              "      <td>19.100000</td>\n",
              "      <td>391.250000</td>\n",
              "      <td>11.395000</td>\n",
              "    </tr>\n",
              "    <tr>\n",
              "      <th>75%</th>\n",
              "      <td>3.674808</td>\n",
              "      <td>12.500000</td>\n",
              "      <td>18.100000</td>\n",
              "      <td>0.000000</td>\n",
              "      <td>0.631000</td>\n",
              "      <td>6.609000</td>\n",
              "      <td>94.100000</td>\n",
              "      <td>5.118000</td>\n",
              "      <td>24.000000</td>\n",
              "      <td>666.000000</td>\n",
              "      <td>20.200000</td>\n",
              "      <td>396.157500</td>\n",
              "      <td>17.092500</td>\n",
              "    </tr>\n",
              "    <tr>\n",
              "      <th>max</th>\n",
              "      <td>88.976200</td>\n",
              "      <td>100.000000</td>\n",
              "      <td>27.740000</td>\n",
              "      <td>1.000000</td>\n",
              "      <td>0.871000</td>\n",
              "      <td>8.725000</td>\n",
              "      <td>100.000000</td>\n",
              "      <td>10.710300</td>\n",
              "      <td>24.000000</td>\n",
              "      <td>711.000000</td>\n",
              "      <td>22.000000</td>\n",
              "      <td>396.900000</td>\n",
              "      <td>37.970000</td>\n",
              "    </tr>\n",
              "  </tbody>\n",
              "</table>\n",
              "</div>"
            ],
            "text/plain": [
              "             crim          zn       indus  ...       black       lstat        medv\n",
              "count  404.000000  404.000000  404.000000  ...  404.000000  404.000000  404.000000\n",
              "mean     3.745111   11.480198   11.104431  ...   18.475990  354.783168   12.740817\n",
              "std      9.240734   23.767711    6.811308  ...    2.200382   94.111148    7.254545\n",
              "min      0.006320    0.000000    0.460000  ...   12.600000    0.320000    1.730000\n",
              "25%      0.081437    0.000000    5.130000  ...   17.225000  374.672500    6.890000\n",
              "50%      0.268880    0.000000    9.690000  ...   19.100000  391.250000   11.395000\n",
              "75%      3.674808   12.500000   18.100000  ...   20.200000  396.157500   17.092500\n",
              "max     88.976200  100.000000   27.740000  ...   22.000000  396.900000   37.970000\n",
              "\n",
              "[8 rows x 13 columns]"
            ]
          },
          "metadata": {
            "tags": []
          },
          "execution_count": 7
        }
      ]
    },
    {
      "cell_type": "markdown",
      "metadata": {
        "id": "--AuG19EKDMR"
      },
      "source": [
        "## 与えられたlabelデータについて\n",
        "* ラベルは数千ドル単位の住居価格(これがtarget)1970年代なかばの価格らしい"
      ]
    },
    {
      "cell_type": "code",
      "metadata": {
        "id": "bKGVjN67J5yL",
        "outputId": "0bfc17ec-18cb-48c8-a655-bcee16af3375",
        "colab": {
          "base_uri": "https://localhost:8080/",
          "height": 34
        }
      },
      "source": [
        "print(train_labels[0:10])"
      ],
      "execution_count": 18,
      "outputs": [
        {
          "output_type": "stream",
          "text": [
            "[19.4 23.9 22.  34.7  7.2 20.1 28.2 14.6 21.  16.8]\n"
          ],
          "name": "stdout"
        }
      ]
    },
    {
      "cell_type": "markdown",
      "metadata": {
        "id": "EExlNhKhKrqb"
      },
      "source": [
        "## 特徴を正規化する\n",
        "* 全部大きさが違うよね？範囲も違うし。正規化しようや\n",
        "* 、**特徴の平均を減算して標準偏差で割ればいいんだよ**"
      ]
    },
    {
      "cell_type": "code",
      "metadata": {
        "id": "PcxUmk56KOHr",
        "outputId": "4a96d659-463c-469d-d299-820141bc801b",
        "colab": {
          "base_uri": "https://localhost:8080/",
          "height": 85
        }
      },
      "source": [
        "# testデータは使う\n",
        "mean = train_data.mean(axis = 0)\n",
        "std = train_data.std(axis = 0)\n",
        "train_data = (train_data - mean) / std\n",
        "test_data = (test_data - mean) / std\n",
        "print(mean)"
      ],
      "execution_count": 8,
      "outputs": [
        {
          "output_type": "stream",
          "text": [
            "[3.74511057e+00 1.14801980e+01 1.11044307e+01 6.18811881e-02\n",
            " 5.57355941e-01 6.26708168e+00 6.90106436e+01 3.74027079e+00\n",
            " 9.44059406e+00 4.05898515e+02 1.84759901e+01 3.54783168e+02\n",
            " 1.27408168e+01]\n"
          ],
          "name": "stdout"
        }
      ]
    },
    {
      "cell_type": "code",
      "metadata": {
        "id": "SUw2ubiCLW69",
        "outputId": "22c218e6-a8f2-4544-f98d-0daea4ce8dac",
        "colab": {
          "base_uri": "https://localhost:8080/",
          "height": 68
        }
      },
      "source": [
        "print(train_data[0])"
      ],
      "execution_count": 9,
      "outputs": [
        {
          "output_type": "stream",
          "text": [
            "[-0.38448681  0.44315777 -0.77091415 -0.25683275 -1.07860233 -0.0579506\n",
            "  0.36513056  2.12813934 -0.28092883 -0.45675632  0.28394328  0.22721339\n",
            " -0.35757299]\n"
          ],
          "name": "stdout"
        }
      ]
    },
    {
      "cell_type": "markdown",
      "metadata": {
        "id": "myhc5y7AMCKp"
      },
      "source": [
        "## モデルを作成する\n",
        "* 2つの隠れ層\n",
        "* 単一の連続値を返すSequential モデルを使用\n",
        "* model関数を作れ"
      ]
    },
    {
      "cell_type": "code",
      "metadata": {
        "id": "EcU7IklpLgUS",
        "outputId": "4f2b6ac4-8fb0-4df8-d82c-a85808c815a4",
        "colab": {
          "base_uri": "https://localhost:8080/",
          "height": 255
        }
      },
      "source": [
        "def get_model():\n",
        "    model = keras.Sequential([\n",
        "                              keras.layers.Dense(64, activation = tf.nn.relu,\n",
        "                                                 input_shape = (train_data.shape[1],)),\n",
        "                              keras.layers.Dense(64, activation = tf.nn.relu),\n",
        "                              keras.layers.Dense(1)\n",
        "    ])\n",
        "# optimizerの一つよ、adamとかの\n",
        "# https://qiita.com/cnloni/items/ad7dcb7521b936d9fc18\n",
        "# optimizer = tf.train.RMSPropOptimizer(0.001)\n",
        "    optimizer = tf.keras.optimizers.RMSprop(learning_rate = 0.001)\n",
        "# https://www.tensorflow.org/api_docs/python/tf/keras/optimizers/RMSprop\n",
        "    model.compile(loss = 'mse',\n",
        "                optimizer = optimizer,\n",
        "                metrics = ['mae', 'acc'])\n",
        "    return model\n",
        "model = get_model()\n",
        "model.summary()"
      ],
      "execution_count": 10,
      "outputs": [
        {
          "output_type": "stream",
          "text": [
            "Model: \"sequential\"\n",
            "_________________________________________________________________\n",
            "Layer (type)                 Output Shape              Param #   \n",
            "=================================================================\n",
            "dense (Dense)                (None, 64)                896       \n",
            "_________________________________________________________________\n",
            "dense_1 (Dense)              (None, 64)                4160      \n",
            "_________________________________________________________________\n",
            "dense_2 (Dense)              (None, 1)                 65        \n",
            "=================================================================\n",
            "Total params: 5,121\n",
            "Trainable params: 5,121\n",
            "Non-trainable params: 0\n",
            "_________________________________________________________________\n"
          ],
          "name": "stdout"
        }
      ]
    },
    {
      "cell_type": "markdown",
      "metadata": {
        "id": "UUuPd2I2PTr6"
      },
      "source": [
        "## モデルで訓練！！\n",
        "* 500 epochs訓練されて、訓練と検証制度をhistory objectに記録"
      ]
    },
    {
      "cell_type": "code",
      "metadata": {
        "id": "GeMMsfYbNjRe",
        "outputId": "0e39d92f-72ae-4429-b295-0602da42bea9",
        "colab": {
          "base_uri": "https://localhost:8080/",
          "height": 119
        }
      },
      "source": [
        "# Display training progress by printing a single dot for each completed epoch.\n",
        "class PrintDot(keras.callbacks.Callback):\n",
        "    def on_epoch_end(self, epoch, logs):\n",
        "        if epoch % 100 == 0:\n",
        "            print('')\n",
        "        print('.', end ='')\n",
        "EPOCHS = 500\n",
        "\n",
        "# Store\n",
        "history = model.fit(train_data, train_labels, epochs = EPOCHS,\n",
        "                    validation_split=0.2, verbose = 0,\n",
        "                    callbacks = [PrintDot()])"
      ],
      "execution_count": 11,
      "outputs": [
        {
          "output_type": "stream",
          "text": [
            "\n",
            "....................................................................................................\n",
            "....................................................................................................\n",
            "....................................................................................................\n",
            "....................................................................................................\n",
            "...................................................................................................."
          ],
          "name": "stdout"
        }
      ]
    },
    {
      "cell_type": "code",
      "metadata": {
        "id": "qlTMG4jFRwxo",
        "outputId": "8de98c8e-e16b-4c78-d88b-751fc91222b9",
        "colab": {
          "base_uri": "https://localhost:8080/",
          "height": 34
        }
      },
      "source": [
        "history.history.keys()"
      ],
      "execution_count": 12,
      "outputs": [
        {
          "output_type": "execute_result",
          "data": {
            "text/plain": [
              "dict_keys(['loss', 'mae', 'acc', 'val_loss', 'val_mae', 'val_acc'])"
            ]
          },
          "metadata": {
            "tags": []
          },
          "execution_count": 12
        }
      ]
    },
    {
      "cell_type": "code",
      "metadata": {
        "id": "hCZMIjmtRQuC",
        "outputId": "e4caf0a2-7309-42dc-aa5c-802195f60e05",
        "colab": {
          "base_uri": "https://localhost:8080/",
          "height": 283
        }
      },
      "source": [
        "import matplotlib.pyplot as plt\n",
        "def plot_history(history):\n",
        "    plt.figure()\n",
        "    plt.xlabel('Epoch')\n",
        "    plt.ylabel('Mean Abs Error [1000$]')\n",
        "    plt.plot(history.epoch, np.array(history.history['mae']),\n",
        "             label = 'Train Loss')\n",
        "    plt.plot(history.epoch, np.array(history.history['val_mae']),\n",
        "             label = 'Val loss')\n",
        "    plt.legend()\n",
        "    plt.ylim([0,5])\n",
        "plot_history(history)"
      ],
      "execution_count": 13,
      "outputs": [
        {
          "output_type": "display_data",
          "data": {
            "image/png": "[encoded data removed]",
            "text/plain": [
              "<Figure size 432x288 with 1 Axes>"
            ]
          },
          "metadata": {
            "tags": [],
            "needs_background": "light"
          }
        }
      ]
    },
    {
      "cell_type": "code",
      "metadata": {
        "id": "KoolErGwRr72",
        "outputId": "89514f9a-01cd-46d7-aafa-df60a08e0429",
        "colab": {
          "base_uri": "https://localhost:8080/",
          "height": 351
        }
      },
      "source": [
        "model = get_model()\n",
        " \n",
        "# The patience parameter is the amount of epochs to check for improvement.\n",
        "early_stop = keras.callbacks.EarlyStopping(monitor='val_loss', patience=20)\n",
        " \n",
        "history = model.fit(train_data, train_labels, epochs=EPOCHS,\n",
        "                    validation_split=0.2, verbose=0,\n",
        "                    callbacks=[early_stop, PrintDot()])\n",
        " \n",
        "plot_history(history)"
      ],
      "execution_count": 14,
      "outputs": [
        {
          "output_type": "stream",
          "text": [
            "\n",
            "....................................................................................................\n",
            "....................................................................................................\n",
            "..........................................."
          ],
          "name": "stdout"
        },
        {
          "output_type": "display_data",
          "data": {
            "image/png": "[encoded data removed]",
            "text/plain": [
              "<Figure size 432x288 with 1 Axes>"
            ]
          },
          "metadata": {
            "tags": [],
            "needs_background": "light"
          }
        }
      ]
    },
    {
      "cell_type": "markdown",
      "metadata": {
        "id": "RCCS0s5Pv6Xn"
      },
      "source": [
        "* 俺が変なの追加したから。。。ｗｗｗ\n",
        "    * mode.evaluateは、\n",
        "    * model.metrics_namesで **戻り値を確認できる** "
      ]
    },
    {
      "cell_type": "code",
      "metadata": {
        "id": "tI-OAoy2vvst",
        "outputId": "99af5d07-c7d4-4e74-c5e8-f35f0aff0ca4",
        "colab": {
          "base_uri": "https://localhost:8080/",
          "height": 34
        }
      },
      "source": [
        "model.metrics_names"
      ],
      "execution_count": 18,
      "outputs": [
        {
          "output_type": "execute_result",
          "data": {
            "text/plain": [
              "['loss', 'mae', 'acc']"
            ]
          },
          "metadata": {
            "tags": []
          },
          "execution_count": 18
        }
      ]
    },
    {
      "cell_type": "code",
      "metadata": {
        "id": "bbDLZTn9SJsc",
        "outputId": "560a7d56-955d-45fb-f662-44c0b48c7547",
        "colab": {
          "base_uri": "https://localhost:8080/",
          "height": 51
        }
      },
      "source": [
        "loss,mae,acc = model.evaluate(test_data, test_labels, verbose=0)\n",
        "print(a)\n",
        "print(\"Testing set Mean Abs Error: ${:7.2f}\".format(mae * 1000))"
      ],
      "execution_count": 19,
      "outputs": [
        {
          "output_type": "stream",
          "text": [
            "[16.364669799804688, 2.579582929611206, 0.0]\n",
            "Testing set Mean Abs Error: $2579.58\n"
          ],
          "name": "stdout"
        }
      ]
    },
    {
      "cell_type": "markdown",
      "metadata": {
        "id": "QshfiLUNv3_z"
      },
      "source": [
        "* model.metrics_names属性"
      ]
    },
    {
      "cell_type": "code",
      "metadata": {
        "id": "Qj5rVlPnv3d3",
        "outputId": "0476e73d-e6cd-42b0-9964-4948239e62f3",
        "colab": {
          "base_uri": "https://localhost:8080/",
          "height": 34
        }
      },
      "source": [
        "test_data.shape"
      ],
      "execution_count": 21,
      "outputs": [
        {
          "output_type": "execute_result",
          "data": {
            "text/plain": [
              "(102, 13)"
            ]
          },
          "metadata": {
            "tags": []
          },
          "execution_count": 21
        }
      ]
    },
    {
      "cell_type": "markdown",
      "metadata": {
        "id": "0rMkVKzpzS0e"
      },
      "source": [
        "## 予測して終了"
      ]
    },
    {
      "cell_type": "code",
      "metadata": {
        "id": "dCqNTDE6SSLS",
        "outputId": "6d270390-b9c5-4c28-d317-e88ef11c2bf8",
        "colab": {
          "base_uri": "https://localhost:8080/",
          "height": 272
        }
      },
      "source": [
        "test_predictions = model.predict(test_data).flatten()\n",
        "print(test_predictions)"
      ],
      "execution_count": 22,
      "outputs": [
        {
          "output_type": "stream",
          "text": [
            "[ 8.607756 19.233452 21.584705 36.51179  24.144747 22.283878 26.645071\n",
            " 21.734545 19.583416 22.456114 20.997665 15.799197 17.079739 42.398296\n",
            " 22.135178 20.46775  26.774715 18.316326 19.165047 26.461187 11.230872\n",
            " 12.403314 20.131824 15.473519 18.75645  23.95086  29.932446 29.963692\n",
            " 11.558347 19.895367 19.638851 14.715654 30.81037  24.961578 19.290348\n",
            "  7.573844 16.884504 17.354975 21.75111  25.451721 30.967293 26.665302\n",
            " 13.754413 44.100628 28.511185 24.950264 27.770355 18.102127 24.740608\n",
            " 22.601189 34.441364 18.646685 11.314967 14.701375 35.20331  27.62281\n",
            " 12.231806 48.245815 32.468838 22.871874 25.690073 17.60387  16.146786\n",
            " 19.675077 23.697193 20.292952 13.710595 21.124039 10.96178   7.350443\n",
            " 26.037792 29.351902 27.223122 12.87186  24.06054  18.47247  19.426525\n",
            " 23.838312 34.917133 10.655436 21.1847   37.38222  16.178452 13.524886\n",
            " 16.777742 17.473232 23.747128 20.879879 21.66186  31.590816 19.587246\n",
            " 19.0672   25.832626 42.990414 36.672688 20.605246 35.05883  46.912315\n",
            " 26.531113 48.057835 31.506832 20.757801]\n"
          ],
          "name": "stdout"
        }
      ]
    },
    {
      "cell_type": "code",
      "metadata": {
        "id": "yziAV-4qzT1J"
      },
      "source": [
        ""
      ],
      "execution_count": null,
      "outputs": []
    }
  ]
}