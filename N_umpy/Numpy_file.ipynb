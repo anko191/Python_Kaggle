{
  "nbformat": 4,
  "nbformat_minor": 0,
  "metadata": {
    "colab": {
      "name": "Numpy_file",
      "provenance": [],
      "authorship_tag": "ABX9TyNdqaGCyBG+WLMrVoxi8n1z",
      "include_colab_link": true
    },
    "kernelspec": {
      "name": "python3",
      "display_name": "Python 3"
    }
  },
  "cells": [
    {
      "cell_type": "markdown",
      "metadata": {
        "id": "view-in-github",
        "colab_type": "text"
      },
      "source": [
        "<a href=\"https://colab.research.google.com/github/anko191/Python_Kaggle/blob/master/numpy/Numpy_file.ipynb\" target=\"_parent\"><img src=\"https://colab.research.google.com/assets/colab-badge.svg\" alt=\"Open In Colab\"/></a>"
      ]
    },
    {
      "cell_type": "code",
      "metadata": {
        "id": "OAPUpIcsdRvT",
        "colab_type": "code",
        "colab": {}
      },
      "source": [
        "# import numpy as np\n",
        "# import pandas as pd\n",
        "# a = np.array([[1,2,3], [5,6,7]], dtype = int)\n",
        "# a = pd.DataFrame(a,columns=['a','b','c']).to_csv('sample.csv')"
      ],
      "execution_count": 25,
      "outputs": []
    },
    {
      "cell_type": "markdown",
      "metadata": {
        "id": "3hwN4w0OcdbN",
        "colab_type": "text"
      },
      "source": [
        "# loading csv file "
      ]
    },
    {
      "cell_type": "code",
      "metadata": {
        "id": "6ywVwjTocX6H",
        "colab_type": "code",
        "colab": {
          "base_uri": "https://localhost:8080/",
          "height": 68
        },
        "outputId": "6e725eae-5944-47f9-a61a-e26710c02faf"
      },
      "source": [
        "import numpy as np\n",
        "with open('/content/sample.txt') as f:\n",
        "    print(f.read())\n"
      ],
      "execution_count": 27,
      "outputs": [
        {
          "output_type": "stream",
          "text": [
            "11 12 13 14\n",
            "21 22 23 24\n",
            "31 32 33 34\n"
          ],
          "name": "stdout"
        }
      ]
    },
    {
      "cell_type": "code",
      "metadata": {
        "id": "eJLINAyOctG-",
        "colab_type": "code",
        "colab": {
          "base_uri": "https://localhost:8080/",
          "height": 85
        },
        "outputId": "52f996ab-41ab-410b-8d61-834239a9d6bc"
      },
      "source": [
        "a = np.loadtxt('/content/sample.txt')\n",
        "print(a)\n",
        "print(a.dtype) # default type is float64"
      ],
      "execution_count": 29,
      "outputs": [
        {
          "output_type": "stream",
          "text": [
            "[[11. 12. 13. 14.]\n",
            " [21. 22. 23. 24.]\n",
            " [31. 32. 33. 34.]]\n",
            "float64\n"
          ],
          "name": "stdout"
        }
      ]
    },
    {
      "cell_type": "markdown",
      "metadata": {
        "id": "MjWakbAidDxr",
        "colab_type": "text"
      },
      "source": [
        "## designate dlimiter"
      ]
    },
    {
      "cell_type": "code",
      "metadata": {
        "id": "3dkS5m_6dDoM",
        "colab_type": "code",
        "colab": {
          "base_uri": "https://localhost:8080/",
          "height": 119
        },
        "outputId": "00157960-26c8-413b-b152-4c02bae3cc0e"
      },
      "source": [
        "with open('/content/sample.txt') as f:\n",
        "    print(f.read())\n",
        "print(np.loadtxt('/content/sample.txt',delimiter=' '))"
      ],
      "execution_count": 33,
      "outputs": [
        {
          "output_type": "stream",
          "text": [
            "11 12 13 14\n",
            "21 22 23 24\n",
            "31 32 33 34\n",
            "[[11. 12. 13. 14.]\n",
            " [21. 22. 23. 24.]\n",
            " [31. 32. 33. 34.]]\n"
          ],
          "name": "stdout"
        }
      ]
    },
    {
      "cell_type": "markdown",
      "metadata": {
        "id": "d3A5e41ugLpE",
        "colab_type": "text"
      },
      "source": [
        "designate data type"
      ]
    },
    {
      "cell_type": "code",
      "metadata": {
        "id": "5-fZoQcydK3V",
        "colab_type": "code",
        "colab": {
          "base_uri": "https://localhost:8080/",
          "height": 68
        },
        "outputId": "bac9e6f1-132b-4929-b4c2-329b550f1571"
      },
      "source": [
        "print(np.loadtxt('/content/sample.txt', delimiter=' ', dtype='int64'))"
      ],
      "execution_count": 37,
      "outputs": [
        {
          "output_type": "stream",
          "text": [
            "[[11 12 13 14]\n",
            " [21 22 23 24]\n",
            " [31 32 33 34]]\n"
          ],
          "name": "stdout"
        }
      ]
    },
    {
      "cell_type": "markdown",
      "metadata": {
        "id": "HtPAUXfLg3Jk",
        "colab_type": "text"
      },
      "source": [
        "## Designate reading columns and row"
      ]
    },
    {
      "cell_type": "code",
      "metadata": {
        "id": "y_6WePoKgX-y",
        "colab_type": "code",
        "colab": {
          "base_uri": "https://localhost:8080/",
          "height": 85
        },
        "outputId": "68e27af9-89f6-4f01-8ced-4672871ecf95"
      },
      "source": [
        "with open('/content/sample.csv') as f:\n",
        "    print(f.read())"
      ],
      "execution_count": 38,
      "outputs": [
        {
          "output_type": "stream",
          "text": [
            ",a,b,c\n",
            "0,1,2,3\n",
            "1,5,6,7\n",
            "\n"
          ],
          "name": "stdout"
        }
      ]
    },
    {
      "cell_type": "markdown",
      "metadata": {
        "id": "wFrpy1nQhJhC",
        "colab_type": "text"
      },
      "source": [
        "### using skiprows and usecols"
      ]
    },
    {
      "cell_type": "code",
      "metadata": {
        "id": "P2aIm1sghFPd",
        "colab_type": "code",
        "colab": {
          "base_uri": "https://localhost:8080/",
          "height": 51
        },
        "outputId": "31172f17-8e00-40c3-a45a-f42adaf2f1d1"
      },
      "source": [
        "a = np.loadtxt('/content/sample.csv', delimiter=',', dtype=int,skiprows=1, usecols=[1,2,3])\n",
        "print(a)"
      ],
      "execution_count": 40,
      "outputs": [
        {
          "output_type": "stream",
          "text": [
            "[[1 2 3]\n",
            " [5 6 7]]\n"
          ],
          "name": "stdout"
        }
      ]
    },
    {
      "cell_type": "markdown",
      "metadata": {
        "id": "R6FtGUYAhbpg",
        "colab_type": "text"
      },
      "source": [
        "まあ pandasを使ったほうが良いんだけどね"
      ]
    },
    {
      "cell_type": "code",
      "metadata": {
        "id": "yQpOLnfahXOe",
        "colab_type": "code",
        "colab": {
          "base_uri": "https://localhost:8080/",
          "height": 51
        },
        "outputId": "2c0464eb-a18d-45b4-a8f8-78d57f845fc6"
      },
      "source": [
        "a = np.arange(6).reshape((2,3))\n",
        "print(a)"
      ],
      "execution_count": 44,
      "outputs": [
        {
          "output_type": "stream",
          "text": [
            "[[0 1 2]\n",
            " [3 4 5]]\n"
          ],
          "name": "stdout"
        }
      ]
    },
    {
      "cell_type": "code",
      "metadata": {
        "id": "i-1UpJQUh1A1",
        "colab_type": "code",
        "colab": {}
      },
      "source": [
        "np.savetxt('/content/np_savetxt_5e.txt', a, fmt='%.5e')"
      ],
      "execution_count": 45,
      "outputs": []
    },
    {
      "cell_type": "code",
      "metadata": {
        "id": "_UOVtDspiBT4",
        "colab_type": "code",
        "colab": {}
      },
      "source": [
        "np.savetxt('/content/np_savetxt.csv', a, delimiter=',', fmt='%d')"
      ],
      "execution_count": 46,
      "outputs": []
    },
    {
      "cell_type": "code",
      "metadata": {
        "id": "hgxVwbHpiRSl",
        "colab_type": "code",
        "colab": {}
      },
      "source": [
        ""
      ],
      "execution_count": null,
      "outputs": []
    }
  ]
}