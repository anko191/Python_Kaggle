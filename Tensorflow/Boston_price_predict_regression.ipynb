{
  "nbformat": 4,
  "nbformat_minor": 0,
  "metadata": {
    "colab": {
      "name": "Untitled18.ipynb",
      "provenance": [],
      "authorship_tag": "ABX9TyNpQRyq8LkImZv0tasuMhri",
      "include_colab_link": true
    },
    "kernelspec": {
      "name": "python3",
      "display_name": "Python 3"
    }
  },
  "cells": [
    {
      "cell_type": "markdown",
      "metadata": {
        "id": "view-in-github",
        "colab_type": "text"
      },
      "source": [
        "<a href=\"https://colab.research.google.com/github/anko191/Python_Kaggle/blob/master/Tensorflow/Boston_price_predict_regression.ipynb\" target=\"_parent\"><img src=\"https://colab.research.google.com/assets/colab-badge.svg\" alt=\"Open In Colab\"/></a>"
      ]
    },
    {
      "cell_type": "markdown",
      "metadata": {
        "id": "-0LC2DG2C-q9"
      },
      "source": [
        "# 回帰分析 Regression for tensoflow"
      ]
    },
    {
      "cell_type": "code",
      "metadata": {
        "id": "SR7n6DNKCc_P",
        "outputId": "139ea2b4-2c3c-43d2-a3ae-9c6428b1b31b",
        "colab": {
          "base_uri": "https://localhost:8080/",
          "height": 34
        }
      },
      "source": [
        "import tensorflow as tf\n",
        "from tensorflow import keras\n",
        "import numpy as np\n",
        "print(tf.__version__)"
      ],
      "execution_count": 9,
      "outputs": [
        {
          "output_type": "stream",
          "text": [
            "2.3.0\n"
          ],
          "name": "stdout"
        }
      ]
    },
    {
      "cell_type": "markdown",
      "metadata": {
        "id": "iYM69LD1DC0M"
      },
      "source": [
        "## データのダウンロード"
      ]
    },
    {
      "cell_type": "code",
      "metadata": {
        "id": "gr3xxf1ZCjyl",
        "outputId": "d30c3909-a0d4-43f7-c823-82af6bea4f3b",
        "colab": {
          "base_uri": "https://localhost:8080/",
          "height": 51
        }
      },
      "source": [
        "boston_housing = keras.datasets.boston_housing\n",
        "\n",
        "(train_data, train_labels), (test_data, test_labels) = boston_housing.load_data()\n",
        "\n",
        "# Shuffle the training set\n",
        "order = np.argsort(np.random.random(train_labels.shape))\n",
        "train_data = train_data[order]\n",
        "train_labels = train_labels[order]"
      ],
      "execution_count": 10,
      "outputs": [
        {
          "output_type": "stream",
          "text": [
            "Downloading data from https://storage.googleapis.com/tensorflow/tf-keras-datasets/boston_housing.npz\n",
            "57344/57026 [==============================] - 0s 0us/step\n"
          ],
          "name": "stdout"
        }
      ]
    },
    {
      "cell_type": "code",
      "metadata": {
        "id": "OThGaeeZC6v7",
        "outputId": "541ffdb9-7520-4cf7-fc40-ace27634805d",
        "colab": {
          "base_uri": "https://localhost:8080/",
          "height": 51
        }
      },
      "source": [
        "print(\"Training set: {}\".format(train_data.shape))\n",
        "print(\"Testing set {}\".format(test_data.shape))"
      ],
      "execution_count": 11,
      "outputs": [
        {
          "output_type": "stream",
          "text": [
            "Training set: (404, 13)\n",
            "Testing set (102, 13)\n"
          ],
          "name": "stdout"
        }
      ]
    },
    {
      "cell_type": "markdown",
      "metadata": {
        "id": "S4CWZEYhDh0W"
      },
      "source": [
        "* データセットの13の異なる特徴\n",
        "    * crim/(町ごとの1人当たりの犯罪率) 低い方がいいね\n",
        "    * zn/(25000平方フィート以上の住宅地の割合) めっちゃ広いやつあるって？\n",
        "    * indus/(町ごとの非小売業の面積の割合) 多いほうがいい？\n",
        "    * chas/チャールズ側のダミー変数(tractが川に接しているとき1, そうでない時は0) なにこれ\n",
        "    * nox/NO2の濃度(1000万個当たりの) 低いほうが良い\n",
        "    * rm/1住戸あたりの平均部屋数 (大きい方が良いね)\n",
        "    * age/1940年以前に建てられた持ち家住宅の割合 低い方がいいのかなぁ？不明\n",
        "    * dis/ボストンの5つの雇用センターまでの距離の加重平均 近いほうがいいね\n",
        "    * rad/放射線状の高速道路へのアクセス性の指標　大きいほうが良い\n",
        "    * tax/10000ドルあたりの全額固定資産税の税率 これなに？低いほうが良い？\n",
        "    * ptratio/町別の生徒数と教師数の比率\n",
        "    * black/1000(Bk-0.63)^2、bkは町ごとの黒人の割合である 0.63に近づくほど小さくなる\n",
        "    * lstat/人口のステータスの低さ(percent) 人は多いほうが良いのかな～わからん\n",
        "    * medv/1000ドル台の持ち家の価値の中央値 なにこれ"
      ]
    },
    {
      "cell_type": "markdown",
      "metadata": {
        "id": "K3a0cIGrDeOP"
      },
      "source": [
        "## (重要)リストで配列が保存されているとき、何をするか？"
      ]
    },
    {
      "cell_type": "code",
      "metadata": {
        "id": "PFSbS0hyDdIz",
        "outputId": "b95be4b3-9160-4cb3-f96d-062ddfe6edad",
        "colab": {
          "base_uri": "https://localhost:8080/",
          "height": 68
        }
      },
      "source": [
        "print(train_data[0])"
      ],
      "execution_count": 14,
      "outputs": [
        {
          "output_type": "stream",
          "text": [
            "[3.4660e-02 3.5000e+01 6.0600e+00 0.0000e+00 4.3790e-01 6.0310e+00\n",
            " 2.3300e+01 6.6407e+00 1.0000e+00 3.0400e+02 1.6900e+01 3.6225e+02\n",
            " 7.8300e+00]\n"
          ],
          "name": "stdout"
        }
      ]
    },
    {
      "cell_type": "code",
      "metadata": {
        "id": "CuPhCm7DJDT1"
      },
      "source": [
        "import pandas as pd"
      ],
      "execution_count": 15,
      "outputs": []
    },
    {
      "cell_type": "code",
      "metadata": {
        "id": "WC3WaGMaJEqT",
        "outputId": "a55eac40-f31f-402b-915d-861090311f1a",
        "colab": {
          "base_uri": "https://localhost:8080/",
          "height": 224
        }
      },
      "source": [
        "column_names = ['crim', 'zn', 'indus', 'chas', 'nox', 'rm', 'age', 'dis', 'tax', 'ptratio', 'black', 'lstat','medv']\n",
        "df = pd.DataFrame(train_data, columns = column_names)\n",
        "df.head()"
      ],
      "execution_count": 16,
      "outputs": [
        {
          "output_type": "execute_result",
          "data": {
            "text/html": [
              "<div>\n",
              "<style scoped>\n",
              "    .dataframe tbody tr th:only-of-type {\n",
              "        vertical-align: middle;\n",
              "    }\n",
              "\n",
              "    .dataframe tbody tr th {\n",
              "        vertical-align: top;\n",
              "    }\n",
              "\n",
              "    .dataframe thead th {\n",
              "        text-align: right;\n",
              "    }\n",
              "</style>\n",
              "<table border=\"1\" class=\"dataframe\">\n",
              "  <thead>\n",
              "    <tr style=\"text-align: right;\">\n",
              "      <th></th>\n",
              "      <th>crim</th>\n",
              "      <th>zn</th>\n",
              "      <th>indus</th>\n",
              "      <th>chas</th>\n",
              "      <th>nox</th>\n",
              "      <th>rm</th>\n",
              "      <th>age</th>\n",
              "      <th>dis</th>\n",
              "      <th>tax</th>\n",
              "      <th>ptratio</th>\n",
              "      <th>black</th>\n",
              "      <th>lstat</th>\n",
              "      <th>medv</th>\n",
              "    </tr>\n",
              "  </thead>\n",
              "  <tbody>\n",
              "    <tr>\n",
              "      <th>0</th>\n",
              "      <td>0.03466</td>\n",
              "      <td>35.0</td>\n",
              "      <td>6.06</td>\n",
              "      <td>0.0</td>\n",
              "      <td>0.4379</td>\n",
              "      <td>6.031</td>\n",
              "      <td>23.3</td>\n",
              "      <td>6.6407</td>\n",
              "      <td>1.0</td>\n",
              "      <td>304.0</td>\n",
              "      <td>16.9</td>\n",
              "      <td>362.25</td>\n",
              "      <td>7.83</td>\n",
              "    </tr>\n",
              "    <tr>\n",
              "      <th>1</th>\n",
              "      <td>0.06076</td>\n",
              "      <td>0.0</td>\n",
              "      <td>11.93</td>\n",
              "      <td>0.0</td>\n",
              "      <td>0.5730</td>\n",
              "      <td>6.976</td>\n",
              "      <td>91.0</td>\n",
              "      <td>2.1675</td>\n",
              "      <td>1.0</td>\n",
              "      <td>273.0</td>\n",
              "      <td>21.0</td>\n",
              "      <td>396.90</td>\n",
              "      <td>5.64</td>\n",
              "    </tr>\n",
              "    <tr>\n",
              "      <th>2</th>\n",
              "      <td>0.03537</td>\n",
              "      <td>34.0</td>\n",
              "      <td>6.09</td>\n",
              "      <td>0.0</td>\n",
              "      <td>0.4330</td>\n",
              "      <td>6.590</td>\n",
              "      <td>40.4</td>\n",
              "      <td>5.4917</td>\n",
              "      <td>7.0</td>\n",
              "      <td>329.0</td>\n",
              "      <td>16.1</td>\n",
              "      <td>395.75</td>\n",
              "      <td>9.50</td>\n",
              "    </tr>\n",
              "    <tr>\n",
              "      <th>3</th>\n",
              "      <td>0.02729</td>\n",
              "      <td>0.0</td>\n",
              "      <td>7.07</td>\n",
              "      <td>0.0</td>\n",
              "      <td>0.4690</td>\n",
              "      <td>7.185</td>\n",
              "      <td>61.1</td>\n",
              "      <td>4.9671</td>\n",
              "      <td>2.0</td>\n",
              "      <td>242.0</td>\n",
              "      <td>17.8</td>\n",
              "      <td>392.83</td>\n",
              "      <td>4.03</td>\n",
              "    </tr>\n",
              "    <tr>\n",
              "      <th>4</th>\n",
              "      <td>16.81180</td>\n",
              "      <td>0.0</td>\n",
              "      <td>18.10</td>\n",
              "      <td>0.0</td>\n",
              "      <td>0.7000</td>\n",
              "      <td>5.277</td>\n",
              "      <td>98.1</td>\n",
              "      <td>1.4261</td>\n",
              "      <td>24.0</td>\n",
              "      <td>666.0</td>\n",
              "      <td>20.2</td>\n",
              "      <td>396.90</td>\n",
              "      <td>30.81</td>\n",
              "    </tr>\n",
              "  </tbody>\n",
              "</table>\n",
              "</div>"
            ],
            "text/plain": [
              "       crim    zn  indus  chas     nox  ...   tax  ptratio  black   lstat   medv\n",
              "0   0.03466  35.0   6.06   0.0  0.4379  ...   1.0    304.0   16.9  362.25   7.83\n",
              "1   0.06076   0.0  11.93   0.0  0.5730  ...   1.0    273.0   21.0  396.90   5.64\n",
              "2   0.03537  34.0   6.09   0.0  0.4330  ...   7.0    329.0   16.1  395.75   9.50\n",
              "3   0.02729   0.0   7.07   0.0  0.4690  ...   2.0    242.0   17.8  392.83   4.03\n",
              "4  16.81180   0.0  18.10   0.0  0.7000  ...  24.0    666.0   20.2  396.90  30.81\n",
              "\n",
              "[5 rows x 13 columns]"
            ]
          },
          "metadata": {
            "tags": []
          },
          "execution_count": 16
        }
      ]
    },
    {
      "cell_type": "code",
      "metadata": {
        "id": "Ib04fk2LJecj",
        "outputId": "1cdec41c-9c4f-4775-8678-d6ff560360ba",
        "colab": {
          "base_uri": "https://localhost:8080/",
          "height": 317
        }
      },
      "source": [
        "df.describe()"
      ],
      "execution_count": 17,
      "outputs": [
        {
          "output_type": "execute_result",
          "data": {
            "text/html": [
              "<div>\n",
              "<style scoped>\n",
              "    .dataframe tbody tr th:only-of-type {\n",
              "        vertical-align: middle;\n",
              "    }\n",
              "\n",
              "    .dataframe tbody tr th {\n",
              "        vertical-align: top;\n",
              "    }\n",
              "\n",
              "    .dataframe thead th {\n",
              "        text-align: right;\n",
              "    }\n",
              "</style>\n",
              "<table border=\"1\" class=\"dataframe\">\n",
              "  <thead>\n",
              "    <tr style=\"text-align: right;\">\n",
              "      <th></th>\n",
              "      <th>crim</th>\n",
              "      <th>zn</th>\n",
              "      <th>indus</th>\n",
              "      <th>chas</th>\n",
              "      <th>nox</th>\n",
              "      <th>rm</th>\n",
              "      <th>age</th>\n",
              "      <th>dis</th>\n",
              "      <th>tax</th>\n",
              "      <th>ptratio</th>\n",
              "      <th>black</th>\n",
              "      <th>lstat</th>\n",
              "      <th>medv</th>\n",
              "    </tr>\n",
              "  </thead>\n",
              "  <tbody>\n",
              "    <tr>\n",
              "      <th>count</th>\n",
              "      <td>404.000000</td>\n",
              "      <td>404.000000</td>\n",
              "      <td>404.000000</td>\n",
              "      <td>404.000000</td>\n",
              "      <td>404.000000</td>\n",
              "      <td>404.000000</td>\n",
              "      <td>404.000000</td>\n",
              "      <td>404.000000</td>\n",
              "      <td>404.000000</td>\n",
              "      <td>404.000000</td>\n",
              "      <td>404.000000</td>\n",
              "      <td>404.000000</td>\n",
              "      <td>404.000000</td>\n",
              "    </tr>\n",
              "    <tr>\n",
              "      <th>mean</th>\n",
              "      <td>3.745111</td>\n",
              "      <td>11.480198</td>\n",
              "      <td>11.104431</td>\n",
              "      <td>0.061881</td>\n",
              "      <td>0.557356</td>\n",
              "      <td>6.267082</td>\n",
              "      <td>69.010644</td>\n",
              "      <td>3.740271</td>\n",
              "      <td>9.440594</td>\n",
              "      <td>405.898515</td>\n",
              "      <td>18.475990</td>\n",
              "      <td>354.783168</td>\n",
              "      <td>12.740817</td>\n",
              "    </tr>\n",
              "    <tr>\n",
              "      <th>std</th>\n",
              "      <td>9.240734</td>\n",
              "      <td>23.767711</td>\n",
              "      <td>6.811308</td>\n",
              "      <td>0.241238</td>\n",
              "      <td>0.117293</td>\n",
              "      <td>0.709788</td>\n",
              "      <td>27.940665</td>\n",
              "      <td>2.030215</td>\n",
              "      <td>8.698360</td>\n",
              "      <td>166.374543</td>\n",
              "      <td>2.200382</td>\n",
              "      <td>94.111148</td>\n",
              "      <td>7.254545</td>\n",
              "    </tr>\n",
              "    <tr>\n",
              "      <th>min</th>\n",
              "      <td>0.006320</td>\n",
              "      <td>0.000000</td>\n",
              "      <td>0.460000</td>\n",
              "      <td>0.000000</td>\n",
              "      <td>0.385000</td>\n",
              "      <td>3.561000</td>\n",
              "      <td>2.900000</td>\n",
              "      <td>1.129600</td>\n",
              "      <td>1.000000</td>\n",
              "      <td>188.000000</td>\n",
              "      <td>12.600000</td>\n",
              "      <td>0.320000</td>\n",
              "      <td>1.730000</td>\n",
              "    </tr>\n",
              "    <tr>\n",
              "      <th>25%</th>\n",
              "      <td>0.081437</td>\n",
              "      <td>0.000000</td>\n",
              "      <td>5.130000</td>\n",
              "      <td>0.000000</td>\n",
              "      <td>0.453000</td>\n",
              "      <td>5.874750</td>\n",
              "      <td>45.475000</td>\n",
              "      <td>2.077100</td>\n",
              "      <td>4.000000</td>\n",
              "      <td>279.000000</td>\n",
              "      <td>17.225000</td>\n",
              "      <td>374.672500</td>\n",
              "      <td>6.890000</td>\n",
              "    </tr>\n",
              "    <tr>\n",
              "      <th>50%</th>\n",
              "      <td>0.268880</td>\n",
              "      <td>0.000000</td>\n",
              "      <td>9.690000</td>\n",
              "      <td>0.000000</td>\n",
              "      <td>0.538000</td>\n",
              "      <td>6.198500</td>\n",
              "      <td>78.500000</td>\n",
              "      <td>3.142300</td>\n",
              "      <td>5.000000</td>\n",
              "      <td>330.000000</td>\n",
              "      <td>19.100000</td>\n",
              "      <td>391.250000</td>\n",
              "      <td>11.395000</td>\n",
              "    </tr>\n",
              "    <tr>\n",
              "      <th>75%</th>\n",
              "      <td>3.674808</td>\n",
              "      <td>12.500000</td>\n",
              "      <td>18.100000</td>\n",
              "      <td>0.000000</td>\n",
              "      <td>0.631000</td>\n",
              "      <td>6.609000</td>\n",
              "      <td>94.100000</td>\n",
              "      <td>5.118000</td>\n",
              "      <td>24.000000</td>\n",
              "      <td>666.000000</td>\n",
              "      <td>20.200000</td>\n",
              "      <td>396.157500</td>\n",
              "      <td>17.092500</td>\n",
              "    </tr>\n",
              "    <tr>\n",
              "      <th>max</th>\n",
              "      <td>88.976200</td>\n",
              "      <td>100.000000</td>\n",
              "      <td>27.740000</td>\n",
              "      <td>1.000000</td>\n",
              "      <td>0.871000</td>\n",
              "      <td>8.725000</td>\n",
              "      <td>100.000000</td>\n",
              "      <td>10.710300</td>\n",
              "      <td>24.000000</td>\n",
              "      <td>711.000000</td>\n",
              "      <td>22.000000</td>\n",
              "      <td>396.900000</td>\n",
              "      <td>37.970000</td>\n",
              "    </tr>\n",
              "  </tbody>\n",
              "</table>\n",
              "</div>"
            ],
            "text/plain": [
              "             crim          zn       indus  ...       black       lstat        medv\n",
              "count  404.000000  404.000000  404.000000  ...  404.000000  404.000000  404.000000\n",
              "mean     3.745111   11.480198   11.104431  ...   18.475990  354.783168   12.740817\n",
              "std      9.240734   23.767711    6.811308  ...    2.200382   94.111148    7.254545\n",
              "min      0.006320    0.000000    0.460000  ...   12.600000    0.320000    1.730000\n",
              "25%      0.081437    0.000000    5.130000  ...   17.225000  374.672500    6.890000\n",
              "50%      0.268880    0.000000    9.690000  ...   19.100000  391.250000   11.395000\n",
              "75%      3.674808   12.500000   18.100000  ...   20.200000  396.157500   17.092500\n",
              "max     88.976200  100.000000   27.740000  ...   22.000000  396.900000   37.970000\n",
              "\n",
              "[8 rows x 13 columns]"
            ]
          },
          "metadata": {
            "tags": []
          },
          "execution_count": 17
        }
      ]
    },
    {
      "cell_type": "markdown",
      "metadata": {
        "id": "--AuG19EKDMR"
      },
      "source": [
        "## 与えられたlabelデータについて\n",
        "* ラベルは数千ドル単位の住居価格(これがtarget)1970年代なかばの価格らしい"
      ]
    },
    {
      "cell_type": "code",
      "metadata": {
        "id": "bKGVjN67J5yL",
        "outputId": "0bfc17ec-18cb-48c8-a655-bcee16af3375",
        "colab": {
          "base_uri": "https://localhost:8080/",
          "height": 34
        }
      },
      "source": [
        "print(train_labels[0:10])"
      ],
      "execution_count": 18,
      "outputs": [
        {
          "output_type": "stream",
          "text": [
            "[19.4 23.9 22.  34.7  7.2 20.1 28.2 14.6 21.  16.8]\n"
          ],
          "name": "stdout"
        }
      ]
    },
    {
      "cell_type": "markdown",
      "metadata": {
        "id": "EExlNhKhKrqb"
      },
      "source": [
        "## 特徴を正規化する\n",
        "* 全部大きさが違うよね？範囲も違うし。正規化しようや\n",
        "* 、**特徴の平均を減算して標準偏差で割ればいいんだよ**"
      ]
    },
    {
      "cell_type": "code",
      "metadata": {
        "id": "PcxUmk56KOHr",
        "outputId": "a70f3922-0128-44ce-9d65-1a6665817f7b",
        "colab": {
          "base_uri": "https://localhost:8080/",
          "height": 85
        }
      },
      "source": [
        "# testデータは使う\n",
        "mean = train_data.mean(axis = 0)\n",
        "std = train_data.std(axis = 0)\n",
        "train_data = (train_data - mean) / std\n",
        "test_data = (test_data - mean) / std\n",
        "print(mean)"
      ],
      "execution_count": 19,
      "outputs": [
        {
          "output_type": "stream",
          "text": [
            "[3.74511057e+00 1.14801980e+01 1.11044307e+01 6.18811881e-02\n",
            " 5.57355941e-01 6.26708168e+00 6.90106436e+01 3.74027079e+00\n",
            " 9.44059406e+00 4.05898515e+02 1.84759901e+01 3.54783168e+02\n",
            " 1.27408168e+01]\n"
          ],
          "name": "stdout"
        }
      ]
    },
    {
      "cell_type": "code",
      "metadata": {
        "id": "SUw2ubiCLW69",
        "outputId": "ca93be7a-2ee1-401a-8b36-1f8e95be17c8",
        "colab": {
          "base_uri": "https://localhost:8080/",
          "height": 68
        }
      },
      "source": [
        "print(train_data[0])"
      ],
      "execution_count": 20,
      "outputs": [
        {
          "output_type": "stream",
          "text": [
            "[-0.40202987  0.99079651 -0.7415148  -0.25683275 -1.0197024  -0.33302132\n",
            " -1.63801833  1.43040316 -0.97156928 -0.61322399 -0.71712291  0.07943894\n",
            " -0.67776904]\n"
          ],
          "name": "stdout"
        }
      ]
    },
    {
      "cell_type": "markdown",
      "metadata": {
        "id": "myhc5y7AMCKp"
      },
      "source": [
        "## モデルを作成する\n",
        "* 2つの隠れ層\n",
        "* 単一の連続値を返すSequential モデルを使用\n",
        "* model関数を作れ"
      ]
    },
    {
      "cell_type": "code",
      "metadata": {
        "id": "EcU7IklpLgUS",
        "outputId": "70c04601-c572-473a-f332-7af1a17649c6",
        "colab": {
          "base_uri": "https://localhost:8080/",
          "height": 255
        }
      },
      "source": [
        "def get_model():\n",
        "    model = keras.Sequential([\n",
        "                              keras.layers.Dense(64, activation = tf.nn.relu,\n",
        "                                                 input_shape = (train_data.shape[1],)),\n",
        "                              keras.layers.Dense(64, activation = tf.nn.relu),\n",
        "                              keras.layers.Dense(1)\n",
        "    ])\n",
        "# optimizerの一つよ、adamとかの\n",
        "# https://qiita.com/cnloni/items/ad7dcb7521b936d9fc18\n",
        "# optimizer = tf.train.RMSPropOptimizer(0.001)\n",
        "    optimizer = tf.keras.optimizers.RMSprop(learning_rate = 0.001)\n",
        "# https://www.tensorflow.org/api_docs/python/tf/keras/optimizers/RMSprop\n",
        "    model.compile(loss = 'mse',\n",
        "                optimizer = optimizer,\n",
        "                metrics = ['mae', 'acc'])\n",
        "    return model\n",
        "model = get_model()\n",
        "model.summary()"
      ],
      "execution_count": 25,
      "outputs": [
        {
          "output_type": "stream",
          "text": [
            "Model: \"sequential_1\"\n",
            "_________________________________________________________________\n",
            "Layer (type)                 Output Shape              Param #   \n",
            "=================================================================\n",
            "dense_4 (Dense)              (None, 64)                896       \n",
            "_________________________________________________________________\n",
            "dense_5 (Dense)              (None, 64)                4160      \n",
            "_________________________________________________________________\n",
            "dense_6 (Dense)              (None, 1)                 65        \n",
            "=================================================================\n",
            "Total params: 5,121\n",
            "Trainable params: 5,121\n",
            "Non-trainable params: 0\n",
            "_________________________________________________________________\n"
          ],
          "name": "stdout"
        }
      ]
    },
    {
      "cell_type": "markdown",
      "metadata": {
        "id": "UUuPd2I2PTr6"
      },
      "source": [
        "## モデルで訓練！！\n",
        "* 500 epochs訓練されて、訓練と検証制度をhistory objectに記録"
      ]
    },
    {
      "cell_type": "code",
      "metadata": {
        "id": "GeMMsfYbNjRe",
        "outputId": "d0319761-9dc2-4964-c031-d5081d69607b",
        "colab": {
          "base_uri": "https://localhost:8080/",
          "height": 119
        }
      },
      "source": [
        "# Display training progress by printing a single dot for each completed epoch.\n",
        "class PrintDot(keras.callbacks.Callback):\n",
        "    def on_epoch_end(self, epoch, logs):\n",
        "        if epoch % 100 == 0:\n",
        "            print('')\n",
        "        print('.', end ='')\n",
        "EPOCHS = 500\n",
        "\n",
        "# Store\n",
        "history = model.fit(train_data, train_labels, epochs = EPOCHS,\n",
        "                    validation_split=0.2, verbose = 0,\n",
        "                    callbacks = [PrintDot()])"
      ],
      "execution_count": 26,
      "outputs": [
        {
          "output_type": "stream",
          "text": [
            "\n",
            "....................................................................................................\n",
            "....................................................................................................\n",
            "....................................................................................................\n",
            "....................................................................................................\n",
            "...................................................................................................."
          ],
          "name": "stdout"
        }
      ]
    },
    {
      "cell_type": "code",
      "metadata": {
        "id": "qlTMG4jFRwxo",
        "outputId": "8c076496-8a6e-43a3-bd96-18a7f6fc3c35",
        "colab": {
          "base_uri": "https://localhost:8080/",
          "height": 34
        }
      },
      "source": [
        "history.history.keys()"
      ],
      "execution_count": 30,
      "outputs": [
        {
          "output_type": "execute_result",
          "data": {
            "text/plain": [
              "dict_keys(['loss', 'mae', 'acc', 'val_loss', 'val_mae', 'val_acc'])"
            ]
          },
          "metadata": {
            "tags": []
          },
          "execution_count": 30
        }
      ]
    },
    {
      "cell_type": "code",
      "metadata": {
        "id": "hCZMIjmtRQuC",
        "outputId": "c09b86ca-0142-47e6-b917-c5ef8d9d6b64",
        "colab": {
          "base_uri": "https://localhost:8080/",
          "height": 283
        }
      },
      "source": [
        "import matplotlib.pyplot as plt\n",
        "def plot_history(history):\n",
        "    plt.figure()\n",
        "    plt.xlabel('Epoch')\n",
        "    plt.ylabel('Mean Abs Error [1000$]')\n",
        "    plt.plot(history.epoch, np.array(history.history['mae']),\n",
        "             label = 'Train Loss')\n",
        "    plt.plot(history.epoch, np.array(history.history['val_mae']),\n",
        "             label = 'Val loss')\n",
        "    plt.legend()\n",
        "    plt.ylim([0,5])\n",
        "plot_history(history)"
      ],
      "execution_count": 32,
      "outputs": [
        {
          "output_type": "display_data",
          "data": {
            "image/png": "[encoded data removed]",
            "text/plain": [
              "<Figure size 432x288 with 1 Axes>"
            ]
          },
          "metadata": {
            "tags": [],
            "needs_background": "light"
          }
        }
      ]
    },
    {
      "cell_type": "code",
      "metadata": {
        "id": "KoolErGwRr72",
        "outputId": "a30bae29-3ca2-4123-8a03-f4c3ec5f84cf",
        "colab": {
          "base_uri": "https://localhost:8080/",
          "height": 317
        }
      },
      "source": [
        "model = get_model()\n",
        " \n",
        "# The patience parameter is the amount of epochs to check for improvement.\n",
        "early_stop = keras.callbacks.EarlyStopping(monitor='val_loss', patience=20)\n",
        " \n",
        "history = model.fit(train_data, train_labels, epochs=EPOCHS,\n",
        "                    validation_split=0.2, verbose=0,\n",
        "                    callbacks=[early_stop, PrintDot()])\n",
        " \n",
        "plot_history(history)"
      ],
      "execution_count": 34,
      "outputs": [
        {
          "output_type": "stream",
          "text": [
            "\n",
            "....................................................."
          ],
          "name": "stdout"
        },
        {
          "output_type": "display_data",
          "data": {
            "image/png": "[encoded data removed]",
            "text/plain": [
              "<Figure size 432x288 with 1 Axes>"
            ]
          },
          "metadata": {
            "tags": [],
            "needs_background": "light"
          }
        }
      ]
    },
    {
      "cell_type": "code",
      "metadata": {
        "id": "bbDLZTn9SJsc",
        "outputId": "d666a65c-89b5-4544-c803-2370c2c8f66f",
        "colab": {
          "base_uri": "https://localhost:8080/",
          "height": 202
        }
      },
      "source": [
        "(loss, mae) = model.evaluate(test_data, test_labels, verbose=0)\n",
        " \n",
        "print(\"Testing set Mean Abs Error: ${:7.2f}\".format(mae * 1000))"
      ],
      "execution_count": 39,
      "outputs": [
        {
          "output_type": "error",
          "ename": "ValueError",
          "evalue": "ignored",
          "traceback": [
            "\u001b[0;31m---------------------------------------------------------------------------\u001b[0m",
            "\u001b[0;31mValueError\u001b[0m                                Traceback (most recent call last)",
            "\u001b[0;32m<ipython-input-39-9df793d6cdcb>\u001b[0m in \u001b[0;36m<module>\u001b[0;34m()\u001b[0m\n\u001b[0;32m----> 1\u001b[0;31m \u001b[0;34m(\u001b[0m\u001b[0mloss\u001b[0m\u001b[0;34m,\u001b[0m \u001b[0mmae\u001b[0m\u001b[0;34m)\u001b[0m \u001b[0;34m=\u001b[0m \u001b[0mmodel\u001b[0m\u001b[0;34m.\u001b[0m\u001b[0mevaluate\u001b[0m\u001b[0;34m(\u001b[0m\u001b[0mtest_data\u001b[0m\u001b[0;34m,\u001b[0m\u001b[0mverbose\u001b[0m\u001b[0;34m=\u001b[0m\u001b[0;36m0\u001b[0m\u001b[0;34m)\u001b[0m\u001b[0;34m\u001b[0m\u001b[0;34m\u001b[0m\u001b[0m\n\u001b[0m\u001b[1;32m      2\u001b[0m \u001b[0;34m\u001b[0m\u001b[0m\n\u001b[1;32m      3\u001b[0m \u001b[0mprint\u001b[0m\u001b[0;34m(\u001b[0m\u001b[0;34m\"Testing set Mean Abs Error: ${:7.2f}\"\u001b[0m\u001b[0;34m.\u001b[0m\u001b[0mformat\u001b[0m\u001b[0;34m(\u001b[0m\u001b[0mmae\u001b[0m \u001b[0;34m*\u001b[0m \u001b[0;36m1000\u001b[0m\u001b[0;34m)\u001b[0m\u001b[0;34m)\u001b[0m\u001b[0;34m\u001b[0m\u001b[0;34m\u001b[0m\u001b[0m\n",
            "\u001b[0;31mValueError\u001b[0m: too many values to unpack (expected 2)"
          ]
        }
      ]
    },
    {
      "cell_type": "code",
      "metadata": {
        "id": "dCqNTDE6SSLS"
      },
      "source": [
        ""
      ],
      "execution_count": null,
      "outputs": []
    }
  ]
}