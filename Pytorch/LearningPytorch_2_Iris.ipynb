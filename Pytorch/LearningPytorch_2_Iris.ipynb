{
  "nbformat": 4,
  "nbformat_minor": 0,
  "metadata": {
    "colab": {
      "name": "LearningPytorch_2_Iris",
      "provenance": [],
      "collapsed_sections": [],
      "authorship_tag": "ABX9TyNIHpNi3HN+bb47AOpyc0OL",
      "include_colab_link": true
    },
    "kernelspec": {
      "name": "python3",
      "display_name": "Python 3"
    },
    "accelerator": "GPU"
  },
  "cells": [
    {
      "cell_type": "markdown",
      "metadata": {
        "id": "view-in-github",
        "colab_type": "text"
      },
      "source": [
        "<a href=\"https://colab.research.google.com/github/anko191/Python_Kaggle/blob/master/Pytorch/LearningPytorch_2_Iris.ipynb\" target=\"_parent\"><img src=\"https://colab.research.google.com/assets/colab-badge.svg\" alt=\"Open In Colab\"/></a>"
      ]
    },
    {
      "cell_type": "code",
      "metadata": {
        "id": "ODa6V1DEhRrr",
        "colab_type": "code",
        "colab": {}
      },
      "source": [
        "import torch\n",
        "import torch.nn as nn\n",
        "import torch.nn.functional as F\n",
        "from sklearn.datasets import load_iris"
      ],
      "execution_count": 1,
      "outputs": []
    },
    {
      "cell_type": "code",
      "metadata": {
        "id": "QqY8Ekg5h21H",
        "colab_type": "code",
        "colab": {}
      },
      "source": [
        "# GPU の設定\n",
        "device = torch.device('cuda' if torch.cuda.is_available() else 'cpu')"
      ],
      "execution_count": 2,
      "outputs": []
    },
    {
      "cell_type": "code",
      "metadata": {
        "id": "F4961uEniCcg",
        "colab_type": "code",
        "colab": {}
      },
      "source": [
        "# Iris データセット読み込み\n",
        "x, t = load_iris(return_X_y=True)"
      ],
      "execution_count": 3,
      "outputs": []
    },
    {
      "cell_type": "code",
      "metadata": {
        "id": "lZEmJzQDiYNA",
        "colab_type": "code",
        "colab": {}
      },
      "source": [
        "x = torch.tensor(x, dtype = torch.float32)\n",
        "t = torch.tensor(t, dtype = torch.int64)"
      ],
      "execution_count": 4,
      "outputs": []
    },
    {
      "cell_type": "code",
      "metadata": {
        "id": "AwOXm9w2igRI",
        "colab_type": "code",
        "colab": {}
      },
      "source": [
        "# DataSetに格納\n",
        "dataset = torch.utils.data.TensorDataset(x,t)"
      ],
      "execution_count": 5,
      "outputs": []
    },
    {
      "cell_type": "code",
      "metadata": {
        "id": "z5IcU1cgiltA",
        "colab_type": "code",
        "colab": {}
      },
      "source": [
        "# datasetの分割\n",
        "n_train = int(len(dataset) * 0.6)\n",
        "n_val = int(len(dataset) * 0.2)\n",
        "n_test = len(dataset) - n_train - n_val"
      ],
      "execution_count": 6,
      "outputs": []
    },
    {
      "cell_type": "code",
      "metadata": {
        "id": "KRrvMxxjiv15",
        "colab_type": "code",
        "colab": {}
      },
      "source": [
        "# ランダムに分割する\n",
        "torch.manual_seed(7)\n",
        "train, val, test = torch.utils.data.random_split(dataset, [n_train, n_val, n_test])"
      ],
      "execution_count": 7,
      "outputs": []
    },
    {
      "cell_type": "code",
      "metadata": {
        "id": "uFHtX3Pqi8JJ",
        "colab_type": "code",
        "colab": {}
      },
      "source": [
        "# ミニバッチ学習\n",
        "batch_size = 10"
      ],
      "execution_count": 8,
      "outputs": []
    },
    {
      "cell_type": "code",
      "metadata": {
        "id": "K4cYzsetjCdS",
        "colab_type": "code",
        "colab": {}
      },
      "source": [
        "# Dataloaderに格納、trainだけshuffle\n",
        "train_loader = torch.utils.data.DataLoader(train, batch_size, shuffle=True)\n",
        "val_loader = torch.utils.data.DataLoader(val, batch_size)\n",
        "test_loader = torch.utils.data.DataLoader(test, batch_size)"
      ],
      "execution_count": 9,
      "outputs": []
    },
    {
      "cell_type": "code",
      "metadata": {
        "id": "uG-8Sy8Ro7RL",
        "colab_type": "code",
        "colab": {}
      },
      "source": [
        "# モデル定義\n",
        "class Net(nn.Module):\n",
        "    def __init__(self):\n",
        "        super(Net, self).__init__()\n",
        "        self.L1 = nn.Linear(4,4)\n",
        "        self.L2 = nn.Linear(4,3)\n",
        "    def forward(self, x):\n",
        "        x = self.L1(x)\n",
        "        x = F.relu(x)\n",
        "        x = self.L2(x)\n",
        "        return x"
      ],
      "execution_count": 10,
      "outputs": []
    },
    {
      "cell_type": "code",
      "metadata": {
        "id": "MOsdQj2bpaNj",
        "colab_type": "code",
        "colab": {}
      },
      "source": [
        "# 学習後の正答率の計算\n",
        "def calc_acc(data_loader):\n",
        "    with torch.no_grad():#勾配計算しない\n",
        "        accs = []\n",
        "        for batch in data_loader:\n",
        "            x, t = batch\n",
        "            x = x.to(device)\n",
        "            t = t.to(device)\n",
        "            y = net(x)\n",
        "            # argmax index of max\n",
        "            # dim (short for 'dimension') is the torch equivalent of 'axis' in NumPy.\n",
        "            y_label = torch.argmax(y, dim=1)\n",
        "            acc = torch.sum(y_label == t) * 1.0\n",
        "            acc = acc / len(t)\n",
        "            #print(acc)\n",
        "            accs.append(acc)\n",
        "        avg_acc = torch.tensor(accs).mean()\n",
        "        print('Accuracy: {:.1f}%'.format(avg_acc * 100))"
      ],
      "execution_count": 11,
      "outputs": []
    },
    {
      "cell_type": "code",
      "metadata": {
        "id": "UHY3B6gVrTQf",
        "colab_type": "code",
        "colab": {
          "base_uri": "https://localhost:8080/",
          "height": 1000
        },
        "outputId": "d058ef4b-4e66-4353-c25c-4e93685b52e3"
      },
      "source": [
        "# 学習モデルループ実装\n",
        "max_epoch = 10\n",
        "# インスタンス化\n",
        "torch.manual_seed(0)\n",
        "net = Net().to(device)\n",
        "# 目標関数の設定\n",
        "criterion = nn.CrossEntropyLoss()\n",
        "# 最適化手法の選択\n",
        "optimizer = torch.optim.SGD(net.parameters(), lr = 0.1)\n",
        "print(\"学習開始 エポック数\", max_epoch)\n",
        "# 学習ループ\n",
        "for epoch in range(max_epoch):\n",
        "    for batch in train_loader:\n",
        "        x, t = batch\n",
        "        x = x.to(device)\n",
        "        t = t.to(device)\n",
        "\n",
        "        optimizer.zero_grad()\n",
        "        y = net(x)\n",
        "        # 正解率を出力?\n",
        "        y_label = torch.argmax(y, dim=1)\n",
        "        acc = torch.sum(y_label == t) * 1.0\n",
        "        acc = acc / len(t)\n",
        "        loss = criterion(y, t)\n",
        "        print(\"accuracy: \", acc, \"loss: \", loss.item())# item => tensor.Tensor => float\n",
        "        loss.backward()\n",
        "        optimizer.step()\n",
        "print(\"\\n学習結果の検証\")\n",
        "calc_acc(val_loader)"
      ],
      "execution_count": 14,
      "outputs": [
        {
          "output_type": "stream",
          "text": [
            "学習開始 エポック数 10\n",
            "accuracy:  tensor(0.5000, device='cuda:0') loss:  1.0779688358306885\n",
            "accuracy:  tensor(0.5000, device='cuda:0') loss:  1.0664923191070557\n",
            "accuracy:  tensor(0.7000, device='cuda:0') loss:  0.9774702787399292\n",
            "accuracy:  tensor(0.5000, device='cuda:0') loss:  0.9559988975524902\n",
            "accuracy:  tensor(0.4000, device='cuda:0') loss:  0.9044672846794128\n",
            "accuracy:  tensor(0.4000, device='cuda:0') loss:  0.9096088409423828\n",
            "accuracy:  tensor(0.4000, device='cuda:0') loss:  0.8713811635971069\n",
            "accuracy:  tensor(0.5000, device='cuda:0') loss:  0.7703483700752258\n",
            "accuracy:  tensor(0.3000, device='cuda:0') loss:  0.8946412801742554\n",
            "accuracy:  tensor(0.9000, device='cuda:0') loss:  0.6919468641281128\n",
            "accuracy:  tensor(0.7000, device='cuda:0') loss:  0.6308976411819458\n",
            "accuracy:  tensor(0.7000, device='cuda:0') loss:  0.7791956067085266\n",
            "accuracy:  tensor(0.9000, device='cuda:0') loss:  0.6671345829963684\n",
            "accuracy:  tensor(0.8000, device='cuda:0') loss:  0.8308623433113098\n",
            "accuracy:  tensor(0.5000, device='cuda:0') loss:  1.0210185050964355\n",
            "accuracy:  tensor(0.7000, device='cuda:0') loss:  0.7759256362915039\n",
            "accuracy:  tensor(0.9000, device='cuda:0') loss:  0.6489655375480652\n",
            "accuracy:  tensor(0.6000, device='cuda:0') loss:  0.916084885597229\n",
            "accuracy:  tensor(0.9000, device='cuda:0') loss:  0.7101194858551025\n",
            "accuracy:  tensor(0.7000, device='cuda:0') loss:  0.6485065817832947\n",
            "accuracy:  tensor(0.5000, device='cuda:0') loss:  0.8246809244155884\n",
            "accuracy:  tensor(0.6000, device='cuda:0') loss:  0.8014982342720032\n",
            "accuracy:  tensor(0.9000, device='cuda:0') loss:  0.506466269493103\n",
            "accuracy:  tensor(0.9000, device='cuda:0') loss:  0.6308199167251587\n",
            "accuracy:  tensor(0.9000, device='cuda:0') loss:  0.629062294960022\n",
            "accuracy:  tensor(0.7000, device='cuda:0') loss:  0.6047534942626953\n",
            "accuracy:  tensor(0.7000, device='cuda:0') loss:  0.8177098035812378\n",
            "accuracy:  tensor(0.9000, device='cuda:0') loss:  0.4794275760650635\n",
            "accuracy:  tensor(0.9000, device='cuda:0') loss:  0.6024695634841919\n",
            "accuracy:  tensor(0.9000, device='cuda:0') loss:  0.5820964574813843\n",
            "accuracy:  tensor(0.4000, device='cuda:0') loss:  0.9983627200126648\n",
            "accuracy:  tensor(0.7000, device='cuda:0') loss:  0.73903489112854\n",
            "accuracy:  tensor(0.7000, device='cuda:0') loss:  0.63079833984375\n",
            "accuracy:  tensor(0.9000, device='cuda:0') loss:  0.4192635416984558\n",
            "accuracy:  tensor(0.7000, device='cuda:0') loss:  0.7858980298042297\n",
            "accuracy:  tensor(0.7000, device='cuda:0') loss:  0.496420294046402\n",
            "accuracy:  tensor(0.9000, device='cuda:0') loss:  0.4092903137207031\n",
            "accuracy:  tensor(0.6000, device='cuda:0') loss:  0.5849980115890503\n",
            "accuracy:  tensor(0.7000, device='cuda:0') loss:  0.7567909955978394\n",
            "accuracy:  tensor(0.9000, device='cuda:0') loss:  0.5509076714515686\n",
            "accuracy:  tensor(0.7000, device='cuda:0') loss:  0.6079618334770203\n",
            "accuracy:  tensor(0.9000, device='cuda:0') loss:  0.5363173484802246\n",
            "accuracy:  tensor(0.9000, device='cuda:0') loss:  0.3848801851272583\n",
            "accuracy:  tensor(0.6000, device='cuda:0') loss:  0.7231947183609009\n",
            "accuracy:  tensor(0.6000, device='cuda:0') loss:  0.7644363641738892\n",
            "accuracy:  tensor(0.7000, device='cuda:0') loss:  0.6556683778762817\n",
            "accuracy:  tensor(0.8000, device='cuda:0') loss:  0.6242347359657288\n",
            "accuracy:  tensor(0.8000, device='cuda:0') loss:  0.4990030825138092\n",
            "accuracy:  tensor(0.4000, device='cuda:0') loss:  0.9085527658462524\n",
            "accuracy:  tensor(0.8000, device='cuda:0') loss:  0.48547735810279846\n",
            "accuracy:  tensor(0.9000, device='cuda:0') loss:  0.5114230513572693\n",
            "accuracy:  tensor(0.8000, device='cuda:0') loss:  0.467099666595459\n",
            "accuracy:  tensor(0.7000, device='cuda:0') loss:  0.5703408122062683\n",
            "accuracy:  tensor(0.9000, device='cuda:0') loss:  0.36059775948524475\n",
            "accuracy:  tensor(0.9000, device='cuda:0') loss:  0.42604225873947144\n",
            "accuracy:  tensor(0.7000, device='cuda:0') loss:  0.5666818618774414\n",
            "accuracy:  tensor(0.8000, device='cuda:0') loss:  0.45229753851890564\n",
            "accuracy:  tensor(0.6000, device='cuda:0') loss:  0.6148244142532349\n",
            "accuracy:  tensor(0.9000, device='cuda:0') loss:  0.43485212326049805\n",
            "accuracy:  tensor(1., device='cuda:0') loss:  0.3128160536289215\n",
            "accuracy:  tensor(0.7000, device='cuda:0') loss:  0.6186553835868835\n",
            "accuracy:  tensor(0.6000, device='cuda:0') loss:  0.6760579347610474\n",
            "accuracy:  tensor(0.6000, device='cuda:0') loss:  0.7882747054100037\n",
            "accuracy:  tensor(0.9000, device='cuda:0') loss:  0.4796883463859558\n",
            "accuracy:  tensor(0.8000, device='cuda:0') loss:  0.3107143044471741\n",
            "accuracy:  tensor(0.9000, device='cuda:0') loss:  0.39629584550857544\n",
            "accuracy:  tensor(0.8000, device='cuda:0') loss:  0.4390648901462555\n",
            "accuracy:  tensor(0.8000, device='cuda:0') loss:  0.3800734877586365\n",
            "accuracy:  tensor(0.7000, device='cuda:0') loss:  0.6822360157966614\n",
            "accuracy:  tensor(0.8000, device='cuda:0') loss:  0.5069697499275208\n",
            "accuracy:  tensor(0.8000, device='cuda:0') loss:  0.6916788816452026\n",
            "accuracy:  tensor(0.3000, device='cuda:0') loss:  0.8610448837280273\n",
            "accuracy:  tensor(0.5000, device='cuda:0') loss:  0.8102911114692688\n",
            "accuracy:  tensor(0.7000, device='cuda:0') loss:  0.4732615351676941\n",
            "accuracy:  tensor(0.7000, device='cuda:0') loss:  0.5375387072563171\n",
            "accuracy:  tensor(1., device='cuda:0') loss:  0.5563048124313354\n",
            "accuracy:  tensor(0.7000, device='cuda:0') loss:  0.5355983972549438\n",
            "accuracy:  tensor(0.7000, device='cuda:0') loss:  0.4080677032470703\n",
            "accuracy:  tensor(1., device='cuda:0') loss:  0.2860555350780487\n",
            "accuracy:  tensor(0.9000, device='cuda:0') loss:  0.3816050589084625\n",
            "accuracy:  tensor(0.6000, device='cuda:0') loss:  0.6368578672409058\n",
            "accuracy:  tensor(0.7000, device='cuda:0') loss:  0.7151576280593872\n",
            "accuracy:  tensor(0.8000, device='cuda:0') loss:  0.5435575246810913\n",
            "accuracy:  tensor(0.8000, device='cuda:0') loss:  0.4865058362483978\n",
            "accuracy:  tensor(0.8000, device='cuda:0') loss:  0.5356549620628357\n",
            "accuracy:  tensor(0.9000, device='cuda:0') loss:  0.31227707862854004\n",
            "accuracy:  tensor(0.6000, device='cuda:0') loss:  0.643036961555481\n",
            "accuracy:  tensor(0.8000, device='cuda:0') loss:  0.30145320296287537\n",
            "accuracy:  tensor(0.7000, device='cuda:0') loss:  0.5215688943862915\n",
            "accuracy:  tensor(0.7000, device='cuda:0') loss:  0.45873183012008667\n",
            "\n",
            "学習結果の検証\n",
            "tensor(0.4000, device='cuda:0')\n",
            "tensor(0.9000, device='cuda:0')\n",
            "tensor(0.3000, device='cuda:0')\n",
            "Accuracy: 53.3%\n"
          ],
          "name": "stdout"
        }
      ]
    },
    {
      "cell_type": "code",
      "metadata": {
        "id": "PZqmGTSOsY3e",
        "colab_type": "code",
        "colab": {}
      },
      "source": [
        ""
      ],
      "execution_count": null,
      "outputs": []
    }
  ]
}