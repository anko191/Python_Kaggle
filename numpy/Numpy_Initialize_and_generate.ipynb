{
  "nbformat": 4,
  "nbformat_minor": 0,
  "metadata": {
    "colab": {
      "name": "Numpy_Initialize_and_generate",
      "provenance": [],
      "authorship_tag": "ABX9TyN+RPlgRt2RaLFBmAMiOMHo",
      "include_colab_link": true
    },
    "kernelspec": {
      "name": "python3",
      "display_name": "Python 3"
    }
  },
  "cells": [
    {
      "cell_type": "markdown",
      "metadata": {
        "id": "view-in-github",
        "colab_type": "text"
      },
      "source": [
        "<a href=\"https://colab.research.google.com/github/anko191/Python_Kaggle/blob/master/numpy/Numpy_Initialize_and_generate.ipynb\" target=\"_parent\"><img src=\"https://colab.research.google.com/assets/colab-badge.svg\" alt=\"Open In Colab\"/></a>"
      ]
    },
    {
      "cell_type": "markdown",
      "metadata": {
        "id": "OGZSJfnp8jmx",
        "colab_type": "text"
      },
      "source": [
        "# Initialize"
      ]
    },
    {
      "cell_type": "code",
      "metadata": {
        "id": "qwNZI-8P8jhU",
        "colab_type": "code",
        "colab": {
          "base_uri": "https://localhost:8080/",
          "height": 71
        },
        "outputId": "f2551511-880f-43db-aa50-e80ed65a0820"
      },
      "source": [
        "import numpy as np\n",
        "print(np.zeros(3))\n",
        "np.set_printoptions(precision=8,threshold=1000)\n",
        "print(np.get_printoptions())"
      ],
      "execution_count": 60,
      "outputs": [
        {
          "output_type": "stream",
          "text": [
            "[0.00000000 0.00000000 0.00000000]\n",
            "{'edgeitems': 3, 'threshold': 1000, 'floatmode': 'fixed', 'precision': 8, 'suppress': False, 'linewidth': 100, 'nanstr': 'nan', 'infstr': 'inf', 'sign': '-', 'formatter': None, 'legacy': False}\n"
          ],
          "name": "stdout"
        }
      ]
    },
    {
      "cell_type": "code",
      "metadata": {
        "id": "zEOue7E58tl8",
        "colab_type": "code",
        "colab": {
          "base_uri": "https://localhost:8080/",
          "height": 51
        },
        "outputId": "d40a75ae-6903-45f7-8c73-f8a7dee0259a"
      },
      "source": [
        "print(np.zeros((2,3)))"
      ],
      "execution_count": 53,
      "outputs": [
        {
          "output_type": "stream",
          "text": [
            "[[0.00000000 0.00000000 0.00000000]\n",
            " [0.00000000 0.00000000 0.00000000]]\n"
          ],
          "name": "stdout"
        }
      ]
    },
    {
      "cell_type": "code",
      "metadata": {
        "id": "Kv6jzLCr8-9S",
        "colab_type": "code",
        "colab": {
          "base_uri": "https://localhost:8080/",
          "height": 34
        },
        "outputId": "6ba354bf-549b-4068-8e5c-e4c4d57d39c8"
      },
      "source": [
        "print(np.zeros(3).dtype)"
      ],
      "execution_count": 54,
      "outputs": [
        {
          "output_type": "stream",
          "text": [
            "float64\n"
          ],
          "name": "stdout"
        }
      ]
    },
    {
      "cell_type": "code",
      "metadata": {
        "id": "45SAtdN99NJp",
        "colab_type": "code",
        "colab": {
          "base_uri": "https://localhost:8080/",
          "height": 34
        },
        "outputId": "26e90f29-55bd-420b-ce41-324b9df00d9a"
      },
      "source": [
        "print(np.zeros(3, dtype=np.int))"
      ],
      "execution_count": 55,
      "outputs": [
        {
          "output_type": "stream",
          "text": [
            "[0 0 0]\n"
          ],
          "name": "stdout"
        }
      ]
    },
    {
      "cell_type": "code",
      "metadata": {
        "id": "Satgig5Z9Ply",
        "colab_type": "code",
        "colab": {
          "base_uri": "https://localhost:8080/",
          "height": 34
        },
        "outputId": "d8bd7c0d-0b06-406c-8adb-d7f8449b4608"
      },
      "source": [
        "print(np.zeros(3, dtype=np.int).dtype)"
      ],
      "execution_count": 56,
      "outputs": [
        {
          "output_type": "stream",
          "text": [
            "int64\n"
          ],
          "name": "stdout"
        }
      ]
    },
    {
      "cell_type": "markdown",
      "metadata": {
        "id": "_QwVsCS79VMy",
        "colab_type": "text"
      },
      "source": [
        "Initialize 1"
      ]
    },
    {
      "cell_type": "code",
      "metadata": {
        "id": "BtFVRQpI9SGi",
        "colab_type": "code",
        "colab": {
          "base_uri": "https://localhost:8080/",
          "height": 34
        },
        "outputId": "1036fd9f-d4bf-4f83-8f99-827908906f81"
      },
      "source": [
        "print(np.ones(3))"
      ],
      "execution_count": 57,
      "outputs": [
        {
          "output_type": "stream",
          "text": [
            "[1.00000000 1.00000000 1.00000000]\n"
          ],
          "name": "stdout"
        }
      ]
    },
    {
      "cell_type": "code",
      "metadata": {
        "id": "vdygjmo39ZYq",
        "colab_type": "code",
        "colab": {
          "base_uri": "https://localhost:8080/",
          "height": 34
        },
        "outputId": "35440057-36a3-4806-be6b-635bea40f6df"
      },
      "source": [
        "print(np.ones(3, dtype = np.int).dtype)"
      ],
      "execution_count": 61,
      "outputs": [
        {
          "output_type": "stream",
          "text": [
            "int64\n"
          ],
          "name": "stdout"
        }
      ]
    },
    {
      "cell_type": "markdown",
      "metadata": {
        "id": "tl7WEaj193c9",
        "colab_type": "text"
      },
      "source": [
        "numpy.full()"
      ]
    },
    {
      "cell_type": "code",
      "metadata": {
        "id": "WHH14XUx9vuM",
        "colab_type": "code",
        "colab": {
          "base_uri": "https://localhost:8080/",
          "height": 34
        },
        "outputId": "2b1fdbff-b1ad-45ec-dc53-75331348828d"
      },
      "source": [
        "print(np.full(3, 100))"
      ],
      "execution_count": 62,
      "outputs": [
        {
          "output_type": "stream",
          "text": [
            "[100 100 100]\n"
          ],
          "name": "stdout"
        }
      ]
    },
    {
      "cell_type": "code",
      "metadata": {
        "id": "Pa0z2o4997f6",
        "colab_type": "code",
        "colab": {
          "base_uri": "https://localhost:8080/",
          "height": 34
        },
        "outputId": "7ff14ea7-99f8-41b9-b930-e2cb8d4ece2d"
      },
      "source": [
        "print(np.full(3, np.pi))"
      ],
      "execution_count": 63,
      "outputs": [
        {
          "output_type": "stream",
          "text": [
            "[3.14159265 3.14159265 3.14159265]\n"
          ],
          "name": "stdout"
        }
      ]
    },
    {
      "cell_type": "code",
      "metadata": {
        "id": "wItc68W099DR",
        "colab_type": "code",
        "colab": {
          "base_uri": "https://localhost:8080/",
          "height": 51
        },
        "outputId": "4fa7d811-af24-428b-f6bb-07862db64df1"
      },
      "source": [
        "print(np.full((2,3), 100))"
      ],
      "execution_count": 64,
      "outputs": [
        {
          "output_type": "stream",
          "text": [
            "[[100 100 100]\n",
            " [100 100 100]]\n"
          ],
          "name": "stdout"
        }
      ]
    },
    {
      "cell_type": "markdown",
      "metadata": {
        "id": "76yFE8yR-fZL",
        "colab_type": "text"
      },
      "source": [
        "# numpy.zeros_like()"
      ]
    },
    {
      "cell_type": "markdown",
      "metadata": {
        "id": "qiLium1Y_Jhb",
        "colab_type": "text"
      },
      "source": [
        "## すでにできているものを変更する。"
      ]
    },
    {
      "cell_type": "code",
      "metadata": {
        "id": "EGgFVRev9_bz",
        "colab_type": "code",
        "colab": {
          "base_uri": "https://localhost:8080/",
          "height": 85
        },
        "outputId": "c0301094-05bf-4083-ea5a-46ea32a8d494"
      },
      "source": [
        "a_int = np.arange(6).reshape((2,3))\n",
        "print(a_int)\n",
        "a_float = np.arange(6).reshape((2,3))/10\n",
        "print(a_float)"
      ],
      "execution_count": 65,
      "outputs": [
        {
          "output_type": "stream",
          "text": [
            "[[0 1 2]\n",
            " [3 4 5]]\n",
            "[[0.00000000 0.10000000 0.20000000]\n",
            " [0.30000000 0.40000000 0.50000000]]\n"
          ],
          "name": "stdout"
        }
      ]
    },
    {
      "cell_type": "code",
      "metadata": {
        "id": "67wnXNrX-vAm",
        "colab_type": "code",
        "colab": {
          "base_uri": "https://localhost:8080/",
          "height": 51
        },
        "outputId": "bbd210f6-ecfa-4e72-da2a-8552cff78cca"
      },
      "source": [
        "print(np.zeros_like(a_int))"
      ],
      "execution_count": 66,
      "outputs": [
        {
          "output_type": "stream",
          "text": [
            "[[0 0 0]\n",
            " [0 0 0]]\n"
          ],
          "name": "stdout"
        }
      ]
    },
    {
      "cell_type": "code",
      "metadata": {
        "id": "WxWlawjd-7Gp",
        "colab_type": "code",
        "colab": {
          "base_uri": "https://localhost:8080/",
          "height": 51
        },
        "outputId": "ccf2fbdb-489e-48d4-95d3-921aa0bf4db6"
      },
      "source": [
        "print(np.zeros_like(a_float))"
      ],
      "execution_count": 67,
      "outputs": [
        {
          "output_type": "stream",
          "text": [
            "[[0.00000000 0.00000000 0.00000000]\n",
            " [0.00000000 0.00000000 0.00000000]]\n"
          ],
          "name": "stdout"
        }
      ]
    },
    {
      "cell_type": "code",
      "metadata": {
        "id": "1ngH0GsW--SZ",
        "colab_type": "code",
        "colab": {
          "base_uri": "https://localhost:8080/",
          "height": 51
        },
        "outputId": "ead453f2-33e3-4483-cc19-1ace181621a3"
      },
      "source": [
        "print(np.zeros_like(a_int, dtype=np.float))"
      ],
      "execution_count": 68,
      "outputs": [
        {
          "output_type": "stream",
          "text": [
            "[[0.00000000 0.00000000 0.00000000]\n",
            " [0.00000000 0.00000000 0.00000000]]\n"
          ],
          "name": "stdout"
        }
      ]
    },
    {
      "cell_type": "markdown",
      "metadata": {
        "id": "f32Pv3sc_MJW",
        "colab_type": "text"
      },
      "source": [
        "numpy.ones_like()"
      ]
    },
    {
      "cell_type": "code",
      "metadata": {
        "id": "mN9SnVQz_G-C",
        "colab_type": "code",
        "colab": {
          "base_uri": "https://localhost:8080/",
          "height": 85
        },
        "outputId": "31ef6fe5-d055-4a85-d6f2-ac2db08b0a15"
      },
      "source": [
        "print(np.ones_like(a_int))\n",
        "print(np.ones_like(a_float))"
      ],
      "execution_count": 69,
      "outputs": [
        {
          "output_type": "stream",
          "text": [
            "[[1 1 1]\n",
            " [1 1 1]]\n",
            "[[1.00000000 1.00000000 1.00000000]\n",
            " [1.00000000 1.00000000 1.00000000]]\n"
          ],
          "name": "stdout"
        }
      ]
    },
    {
      "cell_type": "code",
      "metadata": {
        "id": "8ONLJCAg_T1B",
        "colab_type": "code",
        "colab": {
          "base_uri": "https://localhost:8080/",
          "height": 51
        },
        "outputId": "21a06af0-fb76-4f51-c854-4424b07d7dc4"
      },
      "source": [
        "print(np.ones_like(a_int, dtype=np.float))"
      ],
      "execution_count": 70,
      "outputs": [
        {
          "output_type": "stream",
          "text": [
            "[[1.00000000 1.00000000 1.00000000]\n",
            " [1.00000000 1.00000000 1.00000000]]\n"
          ],
          "name": "stdout"
        }
      ]
    },
    {
      "cell_type": "markdown",
      "metadata": {
        "id": "EA8YHqdQ_XpE",
        "colab_type": "text"
      },
      "source": [
        "numpy.full_like()"
      ]
    },
    {
      "cell_type": "code",
      "metadata": {
        "id": "Bn2HpHip_WqC",
        "colab_type": "code",
        "colab": {
          "base_uri": "https://localhost:8080/",
          "height": 85
        },
        "outputId": "fbd8c959-987d-48cc-ea9a-593db989587d"
      },
      "source": [
        "print(np.full_like(a_int, 100))\n",
        "print(np.full_like(a_float, 1000))"
      ],
      "execution_count": 71,
      "outputs": [
        {
          "output_type": "stream",
          "text": [
            "[[100 100 100]\n",
            " [100 100 100]]\n",
            "[[1000.00000000 1000.00000000 1000.00000000]\n",
            " [1000.00000000 1000.00000000 1000.00000000]]\n"
          ],
          "name": "stdout"
        }
      ]
    },
    {
      "cell_type": "markdown",
      "metadata": {
        "id": "1Cu9OOV8_gpM",
        "colab_type": "text"
      },
      "source": [
        "casting (dtype, ???) ??? is not equal to dtype is casting to dtype automatically"
      ]
    },
    {
      "cell_type": "code",
      "metadata": {
        "id": "flsp8WSG_eCz",
        "colab_type": "code",
        "colab": {
          "base_uri": "https://localhost:8080/",
          "height": 85
        },
        "outputId": "d0ed109d-cb5c-4608-a95d-08e9e1c28638"
      },
      "source": [
        "print(np.full_like(a_int, 0.123))\n",
        "print(np.full_like(a_float, 0.123))"
      ],
      "execution_count": 73,
      "outputs": [
        {
          "output_type": "stream",
          "text": [
            "[[0 0 0]\n",
            " [0 0 0]]\n",
            "[[0.12300000 0.12300000 0.12300000]\n",
            " [0.12300000 0.12300000 0.12300000]]\n"
          ],
          "name": "stdout"
        }
      ]
    },
    {
      "cell_type": "markdown",
      "metadata": {
        "id": "MyM_VIJ0_wQ0",
        "colab_type": "text"
      },
      "source": [
        "but dtype designate is ok"
      ]
    },
    {
      "cell_type": "code",
      "metadata": {
        "id": "ge_1o2Bd_qmq",
        "colab_type": "code",
        "colab": {
          "base_uri": "https://localhost:8080/",
          "height": 51
        },
        "outputId": "56204b35-6b23-4fa9-85af-491d2e017299"
      },
      "source": [
        "print(np.full_like(a_int, 0.123, dtype=np.float))"
      ],
      "execution_count": 74,
      "outputs": [
        {
          "output_type": "stream",
          "text": [
            "[[0.12300000 0.12300000 0.12300000]\n",
            " [0.12300000 0.12300000 0.12300000]]\n"
          ],
          "name": "stdout"
        }
      ]
    },
    {
      "cell_type": "markdown",
      "metadata": {
        "id": "Bw4g_rZOAQlP",
        "colab_type": "text"
      },
      "source": [
        "slices is great"
      ]
    },
    {
      "cell_type": "code",
      "metadata": {
        "id": "kgLKpJRD_23w",
        "colab_type": "code",
        "colab": {
          "base_uri": "https://localhost:8080/",
          "height": 187
        },
        "outputId": "79fb0151-d1df-4ae2-ddaf-5c401f3f5e43"
      },
      "source": [
        "a[:,:] = 0\n",
        "print(a)"
      ],
      "execution_count": 75,
      "outputs": [
        {
          "output_type": "stream",
          "text": [
            "[[0 0 0 0 0 0 0 0 0 0]\n",
            " [0 0 0 0 0 0 0 0 0 0]\n",
            " [0 0 0 0 0 0 0 0 0 0]\n",
            " [0 0 0 0 0 0 0 0 0 0]\n",
            " [0 0 0 0 0 0 0 0 0 0]\n",
            " [0 0 0 0 0 0 0 0 0 0]\n",
            " [0 0 0 0 0 0 0 0 0 0]\n",
            " [0 0 0 0 0 0 0 0 0 0]\n",
            " [0 0 0 0 0 0 0 0 0 0]\n",
            " [0 0 0 0 0 0 0 0 0 0]]\n"
          ],
          "name": "stdout"
        }
      ]
    },
    {
      "cell_type": "code",
      "metadata": {
        "id": "pxuaZg16AUT5",
        "colab_type": "code",
        "colab": {
          "base_uri": "https://localhost:8080/",
          "height": 187
        },
        "outputId": "a291e057-ffcf-4e40-a4fb-e00cbdaa5998"
      },
      "source": [
        "a[:] = 1\n",
        "print(a)"
      ],
      "execution_count": 76,
      "outputs": [
        {
          "output_type": "stream",
          "text": [
            "[[1 1 1 1 1 1 1 1 1 1]\n",
            " [1 1 1 1 1 1 1 1 1 1]\n",
            " [1 1 1 1 1 1 1 1 1 1]\n",
            " [1 1 1 1 1 1 1 1 1 1]\n",
            " [1 1 1 1 1 1 1 1 1 1]\n",
            " [1 1 1 1 1 1 1 1 1 1]\n",
            " [1 1 1 1 1 1 1 1 1 1]\n",
            " [1 1 1 1 1 1 1 1 1 1]\n",
            " [1 1 1 1 1 1 1 1 1 1]\n",
            " [1 1 1 1 1 1 1 1 1 1]]\n"
          ],
          "name": "stdout"
        }
      ]
    },
    {
      "cell_type": "code",
      "metadata": {
        "id": "YaKsaKMMAXXh",
        "colab_type": "code",
        "colab": {
          "base_uri": "https://localhost:8080/",
          "height": 187
        },
        "outputId": "a1e833e5-43c6-455f-eb47-e1e4d0556f17"
      },
      "source": [
        "a[:] = 0.1\n",
        "print(a)"
      ],
      "execution_count": 78,
      "outputs": [
        {
          "output_type": "stream",
          "text": [
            "[[0 0 0 0 0 0 0 0 0 0]\n",
            " [0 0 0 0 0 0 0 0 0 0]\n",
            " [0 0 0 0 0 0 0 0 0 0]\n",
            " [0 0 0 0 0 0 0 0 0 0]\n",
            " [0 0 0 0 0 0 0 0 0 0]\n",
            " [0 0 0 0 0 0 0 0 0 0]\n",
            " [0 0 0 0 0 0 0 0 0 0]\n",
            " [0 0 0 0 0 0 0 0 0 0]\n",
            " [0 0 0 0 0 0 0 0 0 0]\n",
            " [0 0 0 0 0 0 0 0 0 0]]\n"
          ],
          "name": "stdout"
        }
      ]
    },
    {
      "cell_type": "markdown",
      "metadata": {
        "id": "xM54gfg0Abu2",
        "colab_type": "text"
      },
      "source": [
        "need astype"
      ]
    },
    {
      "cell_type": "code",
      "metadata": {
        "id": "Gto8NuqCAZ6J",
        "colab_type": "code",
        "colab": {
          "base_uri": "https://localhost:8080/",
          "height": 357
        },
        "outputId": "46105608-23fb-4b25-9e4e-5f0eb93292a7"
      },
      "source": [
        "a = a.astype(np.float)\n",
        "a[:] = 0.1\n",
        "print(a)"
      ],
      "execution_count": 79,
      "outputs": [
        {
          "output_type": "stream",
          "text": [
            "[[0.10000000 0.10000000 0.10000000 0.10000000 0.10000000 0.10000000 0.10000000 0.10000000\n",
            "  0.10000000 0.10000000]\n",
            " [0.10000000 0.10000000 0.10000000 0.10000000 0.10000000 0.10000000 0.10000000 0.10000000\n",
            "  0.10000000 0.10000000]\n",
            " [0.10000000 0.10000000 0.10000000 0.10000000 0.10000000 0.10000000 0.10000000 0.10000000\n",
            "  0.10000000 0.10000000]\n",
            " [0.10000000 0.10000000 0.10000000 0.10000000 0.10000000 0.10000000 0.10000000 0.10000000\n",
            "  0.10000000 0.10000000]\n",
            " [0.10000000 0.10000000 0.10000000 0.10000000 0.10000000 0.10000000 0.10000000 0.10000000\n",
            "  0.10000000 0.10000000]\n",
            " [0.10000000 0.10000000 0.10000000 0.10000000 0.10000000 0.10000000 0.10000000 0.10000000\n",
            "  0.10000000 0.10000000]\n",
            " [0.10000000 0.10000000 0.10000000 0.10000000 0.10000000 0.10000000 0.10000000 0.10000000\n",
            "  0.10000000 0.10000000]\n",
            " [0.10000000 0.10000000 0.10000000 0.10000000 0.10000000 0.10000000 0.10000000 0.10000000\n",
            "  0.10000000 0.10000000]\n",
            " [0.10000000 0.10000000 0.10000000 0.10000000 0.10000000 0.10000000 0.10000000 0.10000000\n",
            "  0.10000000 0.10000000]\n",
            " [0.10000000 0.10000000 0.10000000 0.10000000 0.10000000 0.10000000 0.10000000 0.10000000\n",
            "  0.10000000 0.10000000]]\n"
          ],
          "name": "stdout"
        }
      ]
    },
    {
      "cell_type": "markdown",
      "metadata": {
        "id": "yFDzYU-oAnb8",
        "colab_type": "text"
      },
      "source": [
        "# numpy.empty()"
      ]
    },
    {
      "cell_type": "code",
      "metadata": {
        "id": "fORjxBQ5AfiM",
        "colab_type": "code",
        "colab": {
          "base_uri": "https://localhost:8080/",
          "height": 34
        },
        "outputId": "efa6465a-16dd-4d83-fe51-909cdfb8bbd1"
      },
      "source": [
        "import numpy as np\n",
        "print(np.empty(3))"
      ],
      "execution_count": 82,
      "outputs": [
        {
          "output_type": "stream",
          "text": [
            "[3.14159265 3.14159265 3.14159265]\n"
          ],
          "name": "stdout"
        }
      ]
    },
    {
      "cell_type": "code",
      "metadata": {
        "id": "5Z3ntmeqBFf2",
        "colab_type": "code",
        "colab": {
          "base_uri": "https://localhost:8080/",
          "height": 51
        },
        "outputId": "c39f0373-9b3e-497d-b6fa-a7b3e16e2c94"
      },
      "source": [
        "print(np.empty((2,3)))"
      ],
      "execution_count": 83,
      "outputs": [
        {
          "output_type": "stream",
          "text": [
            "[[0.12300000 0.12300000 0.12300000]\n",
            " [0.12300000 0.12300000 0.12300000]]\n"
          ],
          "name": "stdout"
        }
      ]
    },
    {
      "cell_type": "code",
      "metadata": {
        "id": "s3p8UEQeBHnA",
        "colab_type": "code",
        "colab": {
          "base_uri": "https://localhost:8080/",
          "height": 34
        },
        "outputId": "746f40b5-be04-4b0d-ad06-9de1a743d6cd"
      },
      "source": [
        "print(np.empty(3, dtype=np.int).dtype)"
      ],
      "execution_count": 84,
      "outputs": [
        {
          "output_type": "stream",
          "text": [
            "int64\n"
          ],
          "name": "stdout"
        }
      ]
    },
    {
      "cell_type": "code",
      "metadata": {
        "id": "S0nS_bfhBZ1x",
        "colab_type": "code",
        "colab": {}
      },
      "source": [
        "a_int = np.arange(6).reshape((2,3))"
      ],
      "execution_count": 85,
      "outputs": []
    },
    {
      "cell_type": "markdown",
      "metadata": {
        "id": "MVfbM4dvBx9k",
        "colab_type": "text"
      },
      "source": [
        "np.empty_like() ha?"
      ]
    },
    {
      "cell_type": "code",
      "metadata": {
        "id": "Rpv3a2qbBoj2",
        "colab_type": "code",
        "colab": {
          "base_uri": "https://localhost:8080/",
          "height": 51
        },
        "outputId": "b30df83a-fb38-46fc-a3b0-a15d3c43fc1a"
      },
      "source": [
        "print(np.empty_like(a_int))"
      ],
      "execution_count": 88,
      "outputs": [
        {
          "output_type": "stream",
          "text": [
            "[[0 1 2]\n",
            " [3 4 5]]\n"
          ],
          "name": "stdout"
        }
      ]
    },
    {
      "cell_type": "code",
      "metadata": {
        "id": "CaYrryydBrqA",
        "colab_type": "code",
        "colab": {
          "base_uri": "https://localhost:8080/",
          "height": 51
        },
        "outputId": "fecc2aef-a7bc-49f5-eb89-8284940204e1"
      },
      "source": [
        "a_float = np.arange(6).reshape((2,3)) / 10\n",
        "print(a_float)"
      ],
      "execution_count": 90,
      "outputs": [
        {
          "output_type": "stream",
          "text": [
            "[[0.00000000 0.10000000 0.20000000]\n",
            " [0.30000000 0.40000000 0.50000000]]\n"
          ],
          "name": "stdout"
        }
      ]
    },
    {
      "cell_type": "code",
      "metadata": {
        "id": "I-SRGPOsB2rI",
        "colab_type": "code",
        "colab": {
          "base_uri": "https://localhost:8080/",
          "height": 51
        },
        "outputId": "063d4c8b-ebed-40d3-ecc6-2fdd9fcaaeef"
      },
      "source": [
        "print(np.empty_like(a_float))"
      ],
      "execution_count": 92,
      "outputs": [
        {
          "output_type": "stream",
          "text": [
            "[[0.00000000 0.10000000 0.20000000]\n",
            " [0.30000000 0.40000000 0.50000000]]\n"
          ],
          "name": "stdout"
        }
      ]
    },
    {
      "cell_type": "markdown",
      "metadata": {
        "id": "ExoE39a3CEog",
        "colab_type": "text"
      },
      "source": [
        "# random generation"
      ]
    },
    {
      "cell_type": "code",
      "metadata": {
        "id": "ZcMuHt0PB61J",
        "colab_type": "code",
        "colab": {
          "base_uri": "https://localhost:8080/",
          "height": 34
        },
        "outputId": "0e2f3f09-132f-4d6d-db75-193ae4138559"
      },
      "source": [
        "import numpy as np\n",
        "rand = np.random.rand() # 1 つの乱数\n",
        "print(rand)"
      ],
      "execution_count": 93,
      "outputs": [
        {
          "output_type": "stream",
          "text": [
            "0.593173032034094\n"
          ],
          "name": "stdout"
        }
      ]
    },
    {
      "cell_type": "code",
      "metadata": {
        "id": "iKoYGX34CSUx",
        "colab_type": "code",
        "colab": {
          "base_uri": "https://localhost:8080/",
          "height": 34
        },
        "outputId": "2a7c3ef1-73ce-4eaf-bf39-09d9820ea757"
      },
      "source": [
        "arr = np.random.rand(3) # size 3's\n",
        "print(arr)"
      ],
      "execution_count": 95,
      "outputs": [
        {
          "output_type": "stream",
          "text": [
            "[0.66052376 0.99373429 0.47098217]\n"
          ],
          "name": "stdout"
        }
      ]
    },
    {
      "cell_type": "code",
      "metadata": {
        "id": "zqqsItkOCVMp",
        "colab_type": "code",
        "colab": {
          "base_uri": "https://localhost:8080/",
          "height": 85
        },
        "outputId": "4ea4d869-e3d0-451c-92c7-8765342f41c1"
      },
      "source": [
        "arr = np.random.rand(4,4) # 4x4 's matrix\n",
        "print(arr)"
      ],
      "execution_count": 96,
      "outputs": [
        {
          "output_type": "stream",
          "text": [
            "[[0.08113966 0.56947969 0.43070750 0.58461967]\n",
            " [0.84089987 0.52241275 0.66219517 0.82271487]\n",
            " [0.58564135 0.75818714 0.33886393 0.29795932]\n",
            " [0.86976050 0.60297969 0.25361038 0.26686375]]\n"
          ],
          "name": "stdout"
        }
      ]
    },
    {
      "cell_type": "code",
      "metadata": {
        "id": "9Gk_gesACaap",
        "colab_type": "code",
        "colab": {
          "base_uri": "https://localhost:8080/",
          "height": 153
        },
        "outputId": "48aaa091-fb08-4a42-81ab-0d2f0b1b3288"
      },
      "source": [
        "arr = np.random.rand(3,2,4) # 3 x 2 x 2\n",
        "print(arr)"
      ],
      "execution_count": 98,
      "outputs": [
        {
          "output_type": "stream",
          "text": [
            "[[[0.34180301 0.33848091 0.64697713 0.08206917]\n",
            "  [0.44527679 0.11242169 0.23153261 0.16314901]]\n",
            "\n",
            " [[0.22552529 0.42153804 0.70540588 0.02457184]\n",
            "  [0.89206373 0.84987496 0.14430786 0.95185899]]\n",
            "\n",
            " [[0.45836361 0.37070971 0.18666122 0.24198949]\n",
            "  [0.81436120 0.60909854 0.07204601 0.63551850]]]\n"
          ],
          "name": "stdout"
        }
      ]
    },
    {
      "cell_type": "markdown",
      "metadata": {
        "id": "tk9vVcCOC5Ha",
        "colab_type": "text"
      },
      "source": [
        "# numpy.random.random_sample(): Uniform distribution  "
      ]
    },
    {
      "cell_type": "code",
      "metadata": {
        "id": "B19ma2SfCeRg",
        "colab_type": "code",
        "colab": {
          "base_uri": "https://localhost:8080/",
          "height": 255
        },
        "outputId": "792df611-8e79-4b6b-9218-97a3ca4a9804"
      },
      "source": [
        "rand = np.random.random_sample()\n",
        "print(rand)\n",
        "arr = np.random.random_sample(3)\n",
        "print(arr)\n",
        "arr = np.random.random_sample((4,4))\n",
        "print(arr)\n",
        "arr = np.random.random_sample((3,2,2))\n",
        "print(arr)"
      ],
      "execution_count": 99,
      "outputs": [
        {
          "output_type": "stream",
          "text": [
            "0.19055410614690038\n",
            "[0.63693027 0.83607073 0.14541449]\n",
            "[[0.83372924 0.37023656 0.25377695 0.78413656]\n",
            " [0.17199168 0.96335046 0.29185416 0.20962940]\n",
            " [0.14142088 0.48672586 0.50702566 0.38124333]\n",
            " [0.60682634 0.50226962 0.50921786 0.74186659]]\n",
            "[[[0.91563973 0.01584960]\n",
            "  [0.94067106 0.50620747]]\n",
            "\n",
            " [[0.85931658 0.71976339]\n",
            "  [0.89993802 0.34504510]]\n",
            "\n",
            " [[0.77735415 0.48469335]\n",
            "  [0.18930651 0.70246298]]]\n"
          ],
          "name": "stdout"
        }
      ]
    },
    {
      "cell_type": "markdown",
      "metadata": {
        "id": "z4Sdh5MqDVez",
        "colab_type": "text"
      },
      "source": [
        "np.random.random(), np.random.ranf(), np.random.sample() is equal to np.random.random_sample"
      ]
    },
    {
      "cell_type": "markdown",
      "metadata": {
        "id": "pXyXFmzlDyI1",
        "colab_type": "text"
      },
      "source": [
        "numpy.random.randint(): designate range"
      ]
    },
    {
      "cell_type": "code",
      "metadata": {
        "id": "yt0rIldWDQNq",
        "colab_type": "code",
        "colab": {
          "base_uri": "https://localhost:8080/",
          "height": 68
        },
        "outputId": "231e0102-b4ae-4057-cd26-1a4f6e5f7fc1"
      },
      "source": [
        "arr = np.random.randint(4, 10, (3,3))\n",
        "print(arr)"
      ],
      "execution_count": 100,
      "outputs": [
        {
          "output_type": "stream",
          "text": [
            "[[5 7 6]\n",
            " [9 4 5]\n",
            " [6 7 4]]\n"
          ],
          "name": "stdout"
        }
      ]
    },
    {
      "cell_type": "markdown",
      "metadata": {
        "id": "_JjTAFw5EARR",
        "colab_type": "text"
      },
      "source": [
        "numpy.random.randn(): average = 0, decentralization = 1"
      ]
    },
    {
      "cell_type": "code",
      "metadata": {
        "id": "iYacriqTD5EE",
        "colab_type": "code",
        "colab": {
          "base_uri": "https://localhost:8080/",
          "height": 68
        },
        "outputId": "f1efb695-2560-4b28-cc0d-8fefee3f549d"
      },
      "source": [
        "arr = np.random.randn(3,3)\n",
        "print(arr)"
      ],
      "execution_count": 101,
      "outputs": [
        {
          "output_type": "stream",
          "text": [
            "[[ 0.09683818  0.98053915  0.20790092]\n",
            " [ 0.06983201 -0.03055261 -0.20467997]\n",
            " [ 0.14139594 -0.33192208 -0.64420522]]\n"
          ],
          "name": "stdout"
        }
      ]
    },
    {
      "cell_type": "markdown",
      "metadata": {
        "id": "oHDYu96tEQYb",
        "colab_type": "text"
      },
      "source": [
        "numpy.random.norma(): Normal distribution(arbitrary mean, standard deviation)"
      ]
    },
    {
      "cell_type": "code",
      "metadata": {
        "id": "9Plng4NLD_Y7",
        "colab_type": "code",
        "colab": {
          "base_uri": "https://localhost:8080/",
          "height": 68
        },
        "outputId": "216892ce-7f7d-405a-f2c8-ca8188fd7b52"
      },
      "source": [
        "arr = np.random.normal(-2, 0.5, (3,3))\n",
        "print(arr)"
      ],
      "execution_count": 102,
      "outputs": [
        {
          "output_type": "stream",
          "text": [
            "[[-2.05786862 -2.41416112 -1.72962072]\n",
            " [-1.78173718 -1.88695919 -1.84283565]\n",
            " [-2.29860441 -2.21162445 -1.38629917]]\n"
          ],
          "name": "stdout"
        }
      ]
    },
    {
      "cell_type": "code",
      "metadata": {
        "id": "ZfQb7Y--Eex5",
        "colab_type": "code",
        "colab": {
          "base_uri": "https://localhost:8080/",
          "height": 34
        },
        "outputId": "ea9b61ca-0e93-4112-db66-028275bef838"
      },
      "source": [
        "arr = np.random.binomial(10, 0.5, 10)\n",
        "print(arr)"
      ],
      "execution_count": 103,
      "outputs": [
        {
          "output_type": "stream",
          "text": [
            "[6 6 7 4 5 5 3 7 6 6]\n"
          ],
          "name": "stdout"
        }
      ]
    },
    {
      "cell_type": "markdown",
      "metadata": {
        "id": "uwvBLEGnHn9x",
        "colab_type": "text"
      },
      "source": [
        "beta"
      ]
    },
    {
      "cell_type": "code",
      "metadata": {
        "id": "RgRqGT2sF7Mv",
        "colab_type": "code",
        "colab": {
          "base_uri": "https://localhost:8080/",
          "height": 71
        },
        "outputId": "eb0addc5-2da2-41c7-9c5f-ea531ab1bba7"
      },
      "source": [
        "arr = np.random.beta(2,2,10)\n",
        "print(arr)"
      ],
      "execution_count": 104,
      "outputs": [
        {
          "output_type": "stream",
          "text": [
            "[0.71171117 0.83126498 0.36792534 0.38090680 0.39762350 0.39483948 0.23670483 0.49861523 0.42072554\n",
            " 0.10914165]\n"
          ],
          "name": "stdout"
        }
      ]
    },
    {
      "cell_type": "markdown",
      "metadata": {
        "id": "tlOUqLhGHtp5",
        "colab_type": "text"
      },
      "source": [
        "gamma shape, scale"
      ]
    },
    {
      "cell_type": "code",
      "metadata": {
        "id": "TzZYqEIMHr5v",
        "colab_type": "code",
        "colab": {
          "base_uri": "https://localhost:8080/",
          "height": 71
        },
        "outputId": "bc70b4f6-8d54-4e78-cac4-d08d7b92b7b5"
      },
      "source": [
        "arr = np.random.gamma(5,1,10)\n",
        "print(arr)"
      ],
      "execution_count": 105,
      "outputs": [
        {
          "output_type": "stream",
          "text": [
            "[1.88004925 5.04293335 4.15582453 6.62893832 7.31522380 1.03203490 5.99791549 4.29228974 3.66243324\n",
            " 4.13259362]\n"
          ],
          "name": "stdout"
        }
      ]
    },
    {
      "cell_type": "markdown",
      "metadata": {
        "id": "3mgi5P6xIUfn",
        "colab_type": "text"
      },
      "source": [
        "カイ二乗分布"
      ]
    },
    {
      "cell_type": "code",
      "metadata": {
        "id": "3rsOehE3HxWO",
        "colab_type": "code",
        "colab": {
          "base_uri": "https://localhost:8080/",
          "height": 71
        },
        "outputId": "25d31c61-47b0-4c59-8eb3-eba08c6a63e8"
      },
      "source": [
        "arr = np.random.chisquare(3, 10)\n",
        "print(arr)"
      ],
      "execution_count": 106,
      "outputs": [
        {
          "output_type": "stream",
          "text": [
            "[2.83124575 2.35186523 2.96916590 3.72809841 0.76263132 2.41023704 5.05707902 0.62959570 1.50431406\n",
            " 2.10702742]\n"
          ],
          "name": "stdout"
        }
      ]
    },
    {
      "cell_type": "markdown",
      "metadata": {
        "id": "-bUCYqWYJKDC",
        "colab_type": "text"
      },
      "source": [
        "# numpy.arange(start, stop, step)"
      ]
    },
    {
      "cell_type": "code",
      "metadata": {
        "id": "djiQlCuqIYbH",
        "colab_type": "code",
        "colab": {
          "base_uri": "https://localhost:8080/",
          "height": 68
        },
        "outputId": "850faf70-f316-4e0b-b2de-ae96750213c5"
      },
      "source": [
        "print(np.arange(3))\n",
        "print(np.arange(3,10))\n",
        "print(np.arange(3,10,2))"
      ],
      "execution_count": 107,
      "outputs": [
        {
          "output_type": "stream",
          "text": [
            "[0 1 2]\n",
            "[3 4 5 6 7 8 9]\n",
            "[3 5 7 9]\n"
          ],
          "name": "stdout"
        }
      ]
    },
    {
      "cell_type": "code",
      "metadata": {
        "id": "drZel7xsJSNN",
        "colab_type": "code",
        "colab": {
          "base_uri": "https://localhost:8080/",
          "height": 34
        },
        "outputId": "b6cb6d25-9b31-4b84-cf2a-978a13345f19"
      },
      "source": [
        "print(np.arange(0.3, 1.0, 0.2))"
      ],
      "execution_count": 108,
      "outputs": [
        {
          "output_type": "stream",
          "text": [
            "[0.30000000 0.50000000 0.70000000 0.90000000]\n"
          ],
          "name": "stdout"
        }
      ]
    },
    {
      "cell_type": "code",
      "metadata": {
        "id": "AjDGoMJ5JUk-",
        "colab_type": "code",
        "colab": {
          "base_uri": "https://localhost:8080/",
          "height": 34
        },
        "outputId": "4cc19d1d-fb76-4bb7-dd5d-7024a8aa831c"
      },
      "source": [
        "print(np.arange(-3,3))"
      ],
      "execution_count": 110,
      "outputs": [
        {
          "output_type": "stream",
          "text": [
            "[-3 -2 -1  0  1  2]\n"
          ],
          "name": "stdout"
        }
      ]
    },
    {
      "cell_type": "code",
      "metadata": {
        "id": "lF1uuJ4oJXmW",
        "colab_type": "code",
        "colab": {
          "base_uri": "https://localhost:8080/",
          "height": 51
        },
        "outputId": "fe2ff9ef-4db8-42ad-eb09-9d9cf3c8601f"
      },
      "source": [
        "print(np.arange(3, dtype=float))\n",
        "print(np.arange(3,10,2, dtype=float))"
      ],
      "execution_count": 111,
      "outputs": [
        {
          "output_type": "stream",
          "text": [
            "[0.00000000 1.00000000 2.00000000]\n",
            "[3.00000000 5.00000000 7.00000000 9.00000000]\n"
          ],
          "name": "stdout"
        }
      ]
    },
    {
      "cell_type": "markdown",
      "metadata": {
        "id": "uUYOS7m5JnjW",
        "colab_type": "text"
      },
      "source": [
        "# numpy.linspace()\n",
        "numpy.linspace(start, stop, num)"
      ]
    },
    {
      "cell_type": "code",
      "metadata": {
        "id": "7kF7hIemJgKQ",
        "colab_type": "code",
        "colab": {
          "base_uri": "https://localhost:8080/",
          "height": 68
        },
        "outputId": "26a68ccf-e71e-4d03-ef9a-30d0d0e5f459"
      },
      "source": [
        "print(np.linspace(0, 10, 3))\n",
        "print(np.linspace(0,10,4))\n",
        "print(np.linspace(0,10,5))"
      ],
      "execution_count": 112,
      "outputs": [
        {
          "output_type": "stream",
          "text": [
            "[ 0.00000000  5.00000000 10.00000000]\n",
            "[ 0.00000000  3.33333333  6.66666667 10.00000000]\n",
            "[ 0.00000000  2.50000000  5.00000000  7.50000000 10.00000000]\n"
          ],
          "name": "stdout"
        }
      ]
    },
    {
      "cell_type": "markdown",
      "metadata": {
        "id": "W-s8NiXKJ_ip",
        "colab_type": "text"
      },
      "source": [
        "start > stop"
      ]
    },
    {
      "cell_type": "code",
      "metadata": {
        "id": "vOloVIBeJztm",
        "colab_type": "code",
        "colab": {
          "base_uri": "https://localhost:8080/",
          "height": 34
        },
        "outputId": "e4b8b8f7-a953-4900-fcb7-ab8ee54d17ba"
      },
      "source": [
        "print(np.linspace(10,0,5))"
      ],
      "execution_count": 113,
      "outputs": [
        {
          "output_type": "stream",
          "text": [
            "[10.00000000  7.50000000  5.00000000  2.50000000  0.00000000]\n"
          ],
          "name": "stdout"
        }
      ]
    },
    {
      "cell_type": "code",
      "metadata": {
        "id": "G5jTVFFSKCRO",
        "colab_type": "code",
        "colab": {
          "base_uri": "https://localhost:8080/",
          "height": 34
        },
        "outputId": "02614675-fdfb-4cb2-e4cc-4973d00e41a0"
      },
      "source": [
        "print(np.linspace(0,10,3, dtype=int))"
      ],
      "execution_count": 114,
      "outputs": [
        {
          "output_type": "stream",
          "text": [
            "[ 0  5 10]\n"
          ],
          "name": "stdout"
        }
      ]
    },
    {
      "cell_type": "markdown",
      "metadata": {
        "id": "hzJ7EqH-KI7k",
        "colab_type": "text"
      },
      "source": [
        "endpoint , include stop ???????"
      ]
    },
    {
      "cell_type": "code",
      "metadata": {
        "id": "mjpTZQkEKGCl",
        "colab_type": "code",
        "colab": {
          "base_uri": "https://localhost:8080/",
          "height": 34
        },
        "outputId": "9c5d9669-eb59-42f7-aa99-df8b4b01b9a1"
      },
      "source": [
        "print(np.linspace(0, 10, 5, endpoint = False))"
      ],
      "execution_count": 115,
      "outputs": [
        {
          "output_type": "stream",
          "text": [
            "[0.00000000 2.00000000 4.00000000 6.00000000 8.00000000]\n"
          ],
          "name": "stdout"
        }
      ]
    },
    {
      "cell_type": "markdown",
      "metadata": {
        "id": "LVzrUaofKlBH",
        "colab_type": "text"
      },
      "source": [
        "get step, retstep"
      ]
    },
    {
      "cell_type": "code",
      "metadata": {
        "id": "UFci6VOdKOrF",
        "colab_type": "code",
        "colab": {
          "base_uri": "https://localhost:8080/",
          "height": 34
        },
        "outputId": "5c2826e3-7a31-48d4-edc4-9d21f92afa9d"
      },
      "source": [
        "result = np.linspace(0, 10, 5, endpoint = False, retstep = True)\n",
        "print(result)"
      ],
      "execution_count": 117,
      "outputs": [
        {
          "output_type": "stream",
          "text": [
            "(array([0.00000000, 2.00000000, 4.00000000, 6.00000000, 8.00000000]), 2.0)\n"
          ],
          "name": "stdout"
        }
      ]
    },
    {
      "cell_type": "markdown",
      "metadata": {
        "id": "vdg3pKiLK2Cv",
        "colab_type": "text"
      },
      "source": [
        "reversion..., [::-1] or numpy.flip()"
      ]
    },
    {
      "cell_type": "code",
      "metadata": {
        "id": "leQtSG6tKq8H",
        "colab_type": "code",
        "colab": {
          "base_uri": "https://localhost:8080/",
          "height": 34
        },
        "outputId": "f47376bd-765e-4dad-b147-f6ccfc7386a9"
      },
      "source": [
        "print(np.arange(3,10,2)[::-1])"
      ],
      "execution_count": 118,
      "outputs": [
        {
          "output_type": "stream",
          "text": [
            "[9 7 5 3]\n"
          ],
          "name": "stdout"
        }
      ]
    },
    {
      "cell_type": "code",
      "metadata": {
        "id": "Xhini4nwK8Gl",
        "colab_type": "code",
        "colab": {
          "base_uri": "https://localhost:8080/",
          "height": 34
        },
        "outputId": "79b0ee68-5dd3-4839-8ddd-85873106a59c"
      },
      "source": [
        "print(np.flip(np.arange(3,10,2)))"
      ],
      "execution_count": 119,
      "outputs": [
        {
          "output_type": "stream",
          "text": [
            "[9 7 5 3]\n"
          ],
          "name": "stdout"
        }
      ]
    },
    {
      "cell_type": "markdown",
      "metadata": {
        "id": "xgftXgp6LFuF",
        "colab_type": "text"
      },
      "source": [
        "conversion Polynomial alignment"
      ]
    },
    {
      "cell_type": "code",
      "metadata": {
        "id": "ladYWyq7K9_t",
        "colab_type": "code",
        "colab": {
          "base_uri": "https://localhost:8080/",
          "height": 68
        },
        "outputId": "1eb02558-d308-4b89-f0e7-3f7aae7494f8"
      },
      "source": [
        "print(np.arange(12).reshape(3,4))"
      ],
      "execution_count": 120,
      "outputs": [
        {
          "output_type": "stream",
          "text": [
            "[[ 0  1  2  3]\n",
            " [ 4  5  6  7]\n",
            " [ 8  9 10 11]]\n"
          ],
          "name": "stdout"
        }
      ]
    },
    {
      "cell_type": "code",
      "metadata": {
        "id": "yiems31dLQYH",
        "colab_type": "code",
        "colab": {
          "base_uri": "https://localhost:8080/",
          "height": 68
        },
        "outputId": "ba7fff24-f1e5-46f5-ce8d-2bebdb5458a5"
      },
      "source": [
        "print(np.linspace(0,10,12).reshape(3,4))"
      ],
      "execution_count": 121,
      "outputs": [
        {
          "output_type": "stream",
          "text": [
            "[[ 0.00000000  0.90909091  1.81818182  2.72727273]\n",
            " [ 3.63636364  4.54545455  5.45454545  6.36363636]\n",
            " [ 7.27272727  8.18181818  9.09090909 10.00000000]]\n"
          ],
          "name": "stdout"
        }
      ]
    },
    {
      "cell_type": "markdown",
      "metadata": {
        "id": "9UlSKFt1MTOO",
        "colab_type": "text"
      },
      "source": [
        "# Make diagonal"
      ]
    },
    {
      "cell_type": "code",
      "metadata": {
        "id": "BxIIr67RLVKF",
        "colab_type": "code",
        "colab": {
          "base_uri": "https://localhost:8080/",
          "height": 85
        },
        "outputId": "b550d641-ec17-4284-e2f0-f147d7823a41"
      },
      "source": [
        "a = np.arange(9).reshape((3,3))\n",
        "print(a)\n",
        "print(np.diag(a))"
      ],
      "execution_count": 122,
      "outputs": [
        {
          "output_type": "stream",
          "text": [
            "[[0 1 2]\n",
            " [3 4 5]\n",
            " [6 7 8]]\n",
            "[0 4 8]\n"
          ],
          "name": "stdout"
        }
      ]
    },
    {
      "cell_type": "markdown",
      "metadata": {
        "id": "MqB6tFm4NaAT",
        "colab_type": "text"
      },
      "source": [
        "quotation markers"
      ]
    },
    {
      "cell_type": "code",
      "metadata": {
        "id": "DlraB3PiMzUF",
        "colab_type": "code",
        "colab": {
          "base_uri": "https://localhost:8080/",
          "height": 68
        },
        "outputId": "e3f331ea-aa23-4300-a9af-f48b413f2fa6"
      },
      "source": [
        "print(np.diag(a, k = 1))\n",
        "print(np.diag(a,k = 2))\n",
        "print(np.diag(a, k = 3))"
      ],
      "execution_count": 123,
      "outputs": [
        {
          "output_type": "stream",
          "text": [
            "[1 5]\n",
            "[2]\n",
            "[]\n"
          ],
          "name": "stdout"
        }
      ]
    },
    {
      "cell_type": "markdown",
      "metadata": {
        "id": "-Fd0YH-kPspS",
        "colab_type": "text"
      },
      "source": [
        "but 3-dimension over cant use diag"
      ]
    },
    {
      "cell_type": "markdown",
      "metadata": {
        "id": "C1xpTLIKQADw",
        "colab_type": "text"
      },
      "source": [
        "# 単位行列(unit matrix)\n",
        "numpy.identity()"
      ]
    },
    {
      "cell_type": "code",
      "metadata": {
        "id": "jXZaZhZpNhq1",
        "colab_type": "code",
        "colab": {
          "base_uri": "https://localhost:8080/",
          "height": 68
        },
        "outputId": "791c3261-efd5-4832-c97d-0e872cfe1b08"
      },
      "source": [
        "print(np.diag([1,1,1]))"
      ],
      "execution_count": 124,
      "outputs": [
        {
          "output_type": "stream",
          "text": [
            "[[1 0 0]\n",
            " [0 1 0]\n",
            " [0 0 1]]\n"
          ],
          "name": "stdout"
        }
      ]
    },
    {
      "cell_type": "code",
      "metadata": {
        "id": "0WSlSv-7QLOM",
        "colab_type": "code",
        "colab": {
          "base_uri": "https://localhost:8080/",
          "height": 68
        },
        "outputId": "6224ac0b-841e-4215-d285-c63f862636a0"
      },
      "source": [
        "print(np.identity(3, int))"
      ],
      "execution_count": 126,
      "outputs": [
        {
          "output_type": "stream",
          "text": [
            "[[1 0 0]\n",
            " [0 1 0]\n",
            " [0 0 1]]\n"
          ],
          "name": "stdout"
        }
      ]
    },
    {
      "cell_type": "code",
      "metadata": {
        "id": "08GkfoKwQMys",
        "colab_type": "code",
        "colab": {
          "base_uri": "https://localhost:8080/",
          "height": 85
        },
        "outputId": "e77f718b-1dc9-4dbe-e799-509022dd89b4"
      },
      "source": [
        "a = np.arange(9).reshape((3,3))\n",
        "print(a)\n",
        "print(a.diagonal())"
      ],
      "execution_count": 127,
      "outputs": [
        {
          "output_type": "stream",
          "text": [
            "[[0 1 2]\n",
            " [3 4 5]\n",
            " [6 7 8]]\n",
            "[0 4 8]\n"
          ],
          "name": "stdout"
        }
      ]
    },
    {
      "cell_type": "code",
      "metadata": {
        "id": "EAyEk6cUQUqT",
        "colab_type": "code",
        "colab": {
          "base_uri": "https://localhost:8080/",
          "height": 34
        },
        "outputId": "4ab8ae6f-662d-4560-9165-c54d6e926c82"
      },
      "source": [
        "print(a.diagonal(offset = 1))"
      ],
      "execution_count": 128,
      "outputs": [
        {
          "output_type": "stream",
          "text": [
            "[1 5]\n"
          ],
          "name": "stdout"
        }
      ]
    },
    {
      "cell_type": "code",
      "metadata": {
        "id": "H4K1M82cQfp7",
        "colab_type": "code",
        "colab": {
          "base_uri": "https://localhost:8080/",
          "height": 85
        },
        "outputId": "1f8eaea5-325f-43b8-9a0e-f08e36f4b817"
      },
      "source": [
        "a = np.arange(12).reshape((3,4))\n",
        "print(a)\n",
        "print(a.diagonal(offset = 1))"
      ],
      "execution_count": 129,
      "outputs": [
        {
          "output_type": "stream",
          "text": [
            "[[ 0  1  2  3]\n",
            " [ 4  5  6  7]\n",
            " [ 8  9 10 11]]\n",
            "[ 1  6 11]\n"
          ],
          "name": "stdout"
        }
      ]
    },
    {
      "cell_type": "code",
      "metadata": {
        "id": "oZjP_5sXQljL",
        "colab_type": "code",
        "colab": {}
      },
      "source": [
        ""
      ],
      "execution_count": null,
      "outputs": []
    }
  ]
}