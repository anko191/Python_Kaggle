{
  "nbformat": 4,
  "nbformat_minor": 0,
  "metadata": {
    "colab": {
      "name": "XGboost_several_parameter.ipynb",
      "provenance": [],
      "authorship_tag": "ABX9TyOdOzaz+Qp2UpU1EYFDFWcF",
      "include_colab_link": true
    },
    "kernelspec": {
      "name": "python3",
      "display_name": "Python 3"
    }
  },
  "cells": [
    {
      "cell_type": "markdown",
      "metadata": {
        "id": "view-in-github",
        "colab_type": "text"
      },
      "source": [
        "<a href=\"https://colab.research.google.com/github/anko191/Python_Kaggle/blob/master/XGBoost/XGboost_several_parameter.ipynb\" target=\"_parent\"><img src=\"https://colab.research.google.com/assets/colab-badge.svg\" alt=\"Open In Colab\"/></a>"
      ]
    },
    {
      "cell_type": "markdown",
      "metadata": {
        "id": "N2DpJbekXvyP",
        "colab_type": "text"
      },
      "source": [
        "# Gradient Boosting\n",
        "* At first, naive model -> make predictions\n",
        "* for loop ->\n",
        "    * make predictions\n",
        "    * calculate loss\n",
        "    * train new model\n",
        "    * add new model to ensemble\n",
        "    * repeat!"
      ]
    },
    {
      "cell_type": "code",
      "metadata": {
        "id": "UAfw_dZIXyYt",
        "colab_type": "code",
        "colab": {}
      },
      "source": [
        "import pandas as pd\n",
        "from sklearn.model_selection import train_test_split\n",
        "\n",
        "data = pd.read_csv('/content/melb_data.csv')\n",
        "\n",
        "cols_to_use = ['Rooms', 'Distance', 'Landsize', 'BuildingArea', 'YearBuilt']\n",
        "X = data[cols_to_use]\n",
        "\n",
        "y = data.Price\n",
        "\n",
        "X_train, X_valid, y_train, y_valid = train_test_split(X, y)"
      ],
      "execution_count": 1,
      "outputs": []
    },
    {
      "cell_type": "markdown",
      "metadata": {
        "id": "oJR0KN7TYzOZ",
        "colab_type": "text"
      },
      "source": [
        "# XGboost は extreme gradient boosting の略"
      ]
    },
    {
      "cell_type": "code",
      "metadata": {
        "id": "Bw1xYK4UYqZu",
        "colab_type": "code",
        "colab": {
          "base_uri": "https://localhost:8080/",
          "height": 173
        },
        "outputId": "2ed7a743-6b13-49a6-ba62-344e46dc4ac5"
      },
      "source": [
        "from xgboost import XGBRegressor\n",
        "my_model = XGBRegressor()\n",
        "my_model.fit(X_train, y_train)"
      ],
      "execution_count": 2,
      "outputs": [
        {
          "output_type": "stream",
          "text": [
            "[00:50:19] WARNING: /workspace/src/objective/regression_obj.cu:152: reg:linear is now deprecated in favor of reg:squarederror.\n"
          ],
          "name": "stdout"
        },
        {
          "output_type": "execute_result",
          "data": {
            "text/plain": [
              "XGBRegressor(base_score=0.5, booster='gbtree', colsample_bylevel=1,\n",
              "             colsample_bynode=1, colsample_bytree=1, gamma=0,\n",
              "             importance_type='gain', learning_rate=0.1, max_delta_step=0,\n",
              "             max_depth=3, min_child_weight=1, missing=None, n_estimators=100,\n",
              "             n_jobs=1, nthread=None, objective='reg:linear', random_state=0,\n",
              "             reg_alpha=0, reg_lambda=1, scale_pos_weight=1, seed=None,\n",
              "             silent=None, subsample=1, verbosity=1)"
            ]
          },
          "metadata": {
            "tags": []
          },
          "execution_count": 2
        }
      ]
    },
    {
      "cell_type": "code",
      "metadata": {
        "id": "ibO493gLZAke",
        "colab_type": "code",
        "colab": {
          "base_uri": "https://localhost:8080/",
          "height": 34
        },
        "outputId": "352e2def-1140-455e-f177-d696d6e92195"
      },
      "source": [
        "from sklearn.metrics import mean_absolute_error\n",
        "predictions = my_model.predict(X_valid)\n",
        "print(\"Mean Absolute Error: \" + str(mean_absolute_error(predictions, y_valid)))"
      ],
      "execution_count": 4,
      "outputs": [
        {
          "output_type": "stream",
          "text": [
            "Mean Absolute Error: 270378.40682529454\n"
          ],
          "name": "stdout"
        }
      ]
    },
    {
      "cell_type": "markdown",
      "metadata": {
        "id": "5dDFqm9_Zzz4",
        "colab_type": "text"
      },
      "source": [
        "# XGBoost Parameter Tuning\n",
        "以下にパラメータ全部載せるぞ"
      ]
    },
    {
      "cell_type": "markdown",
      "metadata": {
        "id": "uo_YLXM_aG5x",
        "colab_type": "text"
      },
      "source": [
        "## n_estimators\n",
        "* これは何回行うか、アンサンブルに含めるモデルの数と等しくなるらしい\n",
        "    * 値が低すぎるとアンダーフィッティングとなり、訓練データとテストデータの両方で不正確な予測を引き起こす\n",
        "    * 値が高すぎるとオーバーフィッティングになり、訓練データでは正確な予測が出来ますが、<b>テストデータでは</b>不正確な予測になる 一番大事\n",
        "    * 典型的なのは<b>100 から 1000</b>\n",
        "    * learning_rate パラメータに大きく依存します"
      ]
    },
    {
      "cell_type": "markdown",
      "metadata": {
        "id": "1833WCmhalxp",
        "colab_type": "text"
      },
      "source": [
        "## early_stopping_rounds\n",
        "* n_estimatorsの理想的な値を自動的に見つける方法\n",
        "    * 検証スコアの改善が止まると、モデルの反復処理を停止させる\n",
        "    * n_estimators に高い値を設定し、early_stopping_roundsを使用して反復処理を停止する最適な時間を見つけるのが賢い方法\n",
        "    * ランダムによって、検証スコアが改善されないラウンドが1回だけはっせいすることがあるので、停止する前に、ストレートな劣化を何ラウンド許すかを数値で指定する必要があります。！\n",
        "    * = 5が妥当だよ！ 検証スコアが5ラウンド連続で悪化した後に停止します"
      ]
    },
    {
      "cell_type": "code",
      "metadata": {
        "id": "ABckfv2lZQnv",
        "colab_type": "code",
        "colab": {}
      },
      "source": [
        "my_model = XGBRegressor(n_estimators = 500)\n",
        "my_model.fit(X_train, y_train,\n",
        "             early_stopping_rounds = 5,\n",
        "             eval_set = [(X_valid, y_valid)],\n",
        "             verbose = True)"
      ],
      "execution_count": null,
      "outputs": []
    },
    {
      "cell_type": "markdown",
      "metadata": {
        "id": "6QSeNEYHbmnl",
        "colab_type": "text"
      },
      "source": [
        "## learning_rate\n",
        "* 予測値に小さな数をかけてから追加することで、アンサンブルに追加する各ツリーの助けが少なくなることを意味します。そのため、オーバーフィットすることなく、n_estimatorsの値を高く設定することが出来ます"
      ]
    },
    {
      "cell_type": "code",
      "metadata": {
        "id": "RpGYC4Jqbag3",
        "colab_type": "code",
        "colab": {}
      },
      "source": [
        "my_model = XGBRegressor(n_estimators = 1000, learning_rate = 0.05)\n",
        "my_model.fit(X_train, y_train,\n",
        "             early_stopping_rounds = 5,\n",
        "             eval_set=[(X_valid, y_valid)],\n",
        "             verbose = True)"
      ],
      "execution_count": null,
      "outputs": []
    },
    {
      "cell_type": "markdown",
      "metadata": {
        "id": "MQ70rG9Mchu9",
        "colab_type": "text"
      },
      "source": [
        "## n_jobs\n",
        "* 並列性を追加する、大規模なデータセットに有向\n",
        "    * n_jobsをマシンのコア数と等しく設定するのが一般的\n",
        "    * まあ正直意味ないけど時間は短くなるからこれはマジでやれ\n",
        "    "
      ]
    },
    {
      "cell_type": "code",
      "metadata": {
        "id": "Wq80-Jcrcb9n",
        "colab_type": "code",
        "colab": {}
      },
      "source": [
        "my_model = XGBRegressor(n_estimators = 1000, learning_rate = 0.05, n_jobs = 4)\n",
        "my_model.fit(X_train, y_train,\n",
        "             early_stopping_rounds = 5,\n",
        "             eval_set=[(X_valid, y_valid)],\n",
        "             verbose = True)"
      ],
      "execution_count": null,
      "outputs": []
    },
    {
      "cell_type": "code",
      "metadata": {
        "id": "S6_vylaqc7ap",
        "colab_type": "code",
        "colab": {
          "base_uri": "https://localhost:8080/",
          "height": 187
        },
        "outputId": "7591ac56-1983-4183-f218-0f18d609b43d"
      },
      "source": [
        "import pprint\n",
        "pprint.pprint(\"base_score=0.5\"\"\"\", booster='gbtree', colsample_bylevel=1,\n",
        "             colsample_bynode=1, colsample_bytree=1, gamma=0,\n",
        "             importance_type='gain', learning_rate=0.05, max_delta_step=0,\n",
        "             max_depth=3, min_child_weight=1, missing=None, n_estimators=1000,\n",
        "             n_jobs=4, nthread=None, objective='reg:linear', random_state=0,\n",
        "             reg_alpha=0, reg_lambda=1, scale_pos_weight=1, seed=None,\n",
        "             silent=None, subsample=1, verbosity=1\n",
        "             \"\"\")"
      ],
      "execution_count": 15,
      "outputs": [
        {
          "output_type": "stream",
          "text": [
            "(\"base_score=0.5, booster='gbtree', colsample_bylevel=1,\\n\"\n",
            " '             colsample_bynode=1, colsample_bytree=1, gamma=0,\\n'\n",
            " \"             importance_type='gain', learning_rate=0.05, max_delta_step=0,\\n\"\n",
            " '             max_depth=3, min_child_weight=1, missing=None, '\n",
            " 'n_estimators=1000,\\n'\n",
            " \"             n_jobs=4, nthread=None, objective='reg:linear', \"\n",
            " 'random_state=0,\\n'\n",
            " '             reg_alpha=0, reg_lambda=1, scale_pos_weight=1, seed=None,\\n'\n",
            " '             silent=None, subsample=1, verbosity=1\\n'\n",
            " '             ')\n"
          ],
          "name": "stdout"
        }
      ]
    },
    {
      "cell_type": "code",
      "metadata": {
        "id": "MW_K4ysRdR6V",
        "colab_type": "code",
        "colab": {}
      },
      "source": [
        "my_model = XGBRegressor(n_estimators = 1000, learning_rate = 0.05, n_jobs = 4,max_depth = 6)\n",
        "my_model.fit(X_train, y_train,\n",
        "             early_stopping_rounds = 5,\n",
        "             eval_set=[(X_valid, y_valid)],\n",
        "             verbose = True)"
      ],
      "execution_count": null,
      "outputs": []
    },
    {
      "cell_type": "code",
      "metadata": {
        "id": "UBypPnfAdrWb",
        "colab_type": "code",
        "colab": {}
      },
      "source": [
        ""
      ],
      "execution_count": null,
      "outputs": []
    }
  ]
}