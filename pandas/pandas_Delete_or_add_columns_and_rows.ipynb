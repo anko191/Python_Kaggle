{
  "nbformat": 4,
  "nbformat_minor": 0,
  "metadata": {
    "colab": {
      "name": "pandas_Delete_or_add_columns_and_rows",
      "provenance": [],
      "collapsed_sections": [],
      "authorship_tag": "ABX9TyMpodh7cXj4AI6BTvwfaA5m",
      "include_colab_link": true
    },
    "kernelspec": {
      "name": "python3",
      "display_name": "Python 3"
    }
  },
  "cells": [
    {
      "cell_type": "markdown",
      "metadata": {
        "id": "view-in-github",
        "colab_type": "text"
      },
      "source": [
        "<a href=\"https://colab.research.google.com/github/anko191/Python_Kaggle/blob/master/pandas/pandas_Delete_or_add_columns_and_rows.ipynb\" target=\"_parent\"><img src=\"https://colab.research.google.com/assets/colab-badge.svg\" alt=\"Open In Colab\"/></a>"
      ]
    },
    {
      "cell_type": "code",
      "metadata": {
        "id": "lT0yNCGzVdcZ",
        "colab_type": "code",
        "colab": {
          "base_uri": "https://localhost:8080/",
          "height": 153
        },
        "outputId": "ec2ccd34-451a-4088-e45e-4606b35dfd3f"
      },
      "source": [
        "import pandas as pd\n",
        "df = pd.read_csv('/content/sample_pandas_normal.csv',index_col = 0)\n",
        "print(df)"
      ],
      "execution_count": 1,
      "outputs": [
        {
          "output_type": "stream",
          "text": [
            "         age state  point\n",
            "name                     \n",
            "Alice     24    NY     64\n",
            "Bob       42    CA     92\n",
            "Charlie   18    CA     70\n",
            "Dave      68    TX     70\n",
            "Ellen     24    CA     88\n",
            "Frank     30    NY     57\n"
          ],
          "name": "stdout"
        }
      ]
    },
    {
      "cell_type": "code",
      "metadata": {
        "id": "ps5CSnm_Vica",
        "colab_type": "code",
        "colab": {
          "base_uri": "https://localhost:8080/",
          "height": 136
        },
        "outputId": "48ea9574-fd2b-4ce5-ea5d-1c83939d13e1"
      },
      "source": [
        "print(df.drop('Charlie', axis = 0))"
      ],
      "execution_count": 2,
      "outputs": [
        {
          "output_type": "stream",
          "text": [
            "       age state  point\n",
            "name                   \n",
            "Alice   24    NY     64\n",
            "Bob     42    CA     92\n",
            "Dave    68    TX     70\n",
            "Ellen   24    CA     88\n",
            "Frank   30    NY     57\n"
          ],
          "name": "stdout"
        }
      ]
    },
    {
      "cell_type": "code",
      "metadata": {
        "id": "ZjN5EYymVqJZ",
        "colab_type": "code",
        "colab": {
          "base_uri": "https://localhost:8080/",
          "height": 136
        },
        "outputId": "54039d68-8eca-4305-88fd-ede8434dec1d"
      },
      "source": [
        "print(df.drop(index = 'Charlie'))"
      ],
      "execution_count": 3,
      "outputs": [
        {
          "output_type": "stream",
          "text": [
            "       age state  point\n",
            "name                   \n",
            "Alice   24    NY     64\n",
            "Bob     42    CA     92\n",
            "Dave    68    TX     70\n",
            "Ellen   24    CA     88\n",
            "Frank   30    NY     57\n"
          ],
          "name": "stdout"
        }
      ]
    },
    {
      "cell_type": "code",
      "metadata": {
        "id": "ftsyvVWCVtqS",
        "colab_type": "code",
        "colab": {
          "base_uri": "https://localhost:8080/",
          "height": 102
        },
        "outputId": "d02a6741-3472-4eaf-f97a-1b56322f0d02"
      },
      "source": [
        "print(df.drop(['Bob', 'Dave', 'Frank']))"
      ],
      "execution_count": 4,
      "outputs": [
        {
          "output_type": "stream",
          "text": [
            "         age state  point\n",
            "name                     \n",
            "Alice     24    NY     64\n",
            "Charlie   18    CA     70\n",
            "Ellen     24    CA     88\n"
          ],
          "name": "stdout"
        }
      ]
    },
    {
      "cell_type": "code",
      "metadata": {
        "id": "kRxCRYPSW72a",
        "colab_type": "code",
        "colab": {
          "base_uri": "https://localhost:8080/",
          "height": 102
        },
        "outputId": "45fb7000-1226-455c-8954-902939b740b2"
      },
      "source": [
        "df_org = df.copy()\n",
        "df_org.drop(index = ['Bob', 'Dave', 'Frank'], inplace = True)\n",
        "print(df_org)"
      ],
      "execution_count": 5,
      "outputs": [
        {
          "output_type": "stream",
          "text": [
            "         age state  point\n",
            "name                     \n",
            "Alice     24    NY     64\n",
            "Charlie   18    CA     70\n",
            "Ellen     24    CA     88\n"
          ],
          "name": "stdout"
        }
      ]
    },
    {
      "cell_type": "code",
      "metadata": {
        "id": "vGqkH2GoXEOa",
        "colab_type": "code",
        "colab": {
          "base_uri": "https://localhost:8080/",
          "height": 34
        },
        "outputId": "cd60c697-d3e7-4ca9-c2d8-1ee1af026d04"
      },
      "source": [
        "print(df.index[[1,3,5]])"
      ],
      "execution_count": 6,
      "outputs": [
        {
          "output_type": "stream",
          "text": [
            "Index(['Bob', 'Dave', 'Frank'], dtype='object', name='name')\n"
          ],
          "name": "stdout"
        }
      ]
    },
    {
      "cell_type": "code",
      "metadata": {
        "id": "CpRQ1EVaXGZ5",
        "colab_type": "code",
        "colab": {
          "base_uri": "https://localhost:8080/",
          "height": 102
        },
        "outputId": "54701313-048c-45fa-a48c-9ca0be839114"
      },
      "source": [
        "print(df.drop(df.index[[1,3,5]]))"
      ],
      "execution_count": 7,
      "outputs": [
        {
          "output_type": "stream",
          "text": [
            "         age state  point\n",
            "name                     \n",
            "Alice     24    NY     64\n",
            "Charlie   18    CA     70\n",
            "Ellen     24    CA     88\n"
          ],
          "name": "stdout"
        }
      ]
    },
    {
      "cell_type": "code",
      "metadata": {
        "id": "eXP22v5MXMR5",
        "colab_type": "code",
        "colab": {
          "base_uri": "https://localhost:8080/",
          "height": 136
        },
        "outputId": "947b38fc-541a-4668-b633-4565b448283c"
      },
      "source": [
        "df_noindex = pd.read_csv('/content/sample_pandas_normal.csv')\n",
        "print(df_noindex)"
      ],
      "execution_count": 8,
      "outputs": [
        {
          "output_type": "stream",
          "text": [
            "      name  age state  point\n",
            "0    Alice   24    NY     64\n",
            "1      Bob   42    CA     92\n",
            "2  Charlie   18    CA     70\n",
            "3     Dave   68    TX     70\n",
            "4    Ellen   24    CA     88\n",
            "5    Frank   30    NY     57\n"
          ],
          "name": "stdout"
        }
      ]
    },
    {
      "cell_type": "code",
      "metadata": {
        "id": "M-yBh1y4XToR",
        "colab_type": "code",
        "colab": {
          "base_uri": "https://localhost:8080/",
          "height": 34
        },
        "outputId": "8d6f1d16-43d6-44bc-e9b6-5dd9d27f4eda"
      },
      "source": [
        "print(df_noindex.index)"
      ],
      "execution_count": 9,
      "outputs": [
        {
          "output_type": "stream",
          "text": [
            "RangeIndex(start=0, stop=6, step=1)\n"
          ],
          "name": "stdout"
        }
      ]
    },
    {
      "cell_type": "code",
      "metadata": {
        "id": "jxbaQ5syXU_K",
        "colab_type": "code",
        "colab": {
          "base_uri": "https://localhost:8080/",
          "height": 153
        },
        "outputId": "f737b531-9218-45f5-fe41-5e354233faf0"
      },
      "source": [
        "print(df_noindex.drop([1,3,5]))\n",
        "print(df_noindex.drop(df_noindex.index[[1,3,5]]))"
      ],
      "execution_count": 10,
      "outputs": [
        {
          "output_type": "stream",
          "text": [
            "      name  age state  point\n",
            "0    Alice   24    NY     64\n",
            "2  Charlie   18    CA     70\n",
            "4    Ellen   24    CA     88\n",
            "      name  age state  point\n",
            "0    Alice   24    NY     64\n",
            "2  Charlie   18    CA     70\n",
            "4    Ellen   24    CA     88\n"
          ],
          "name": "stdout"
        }
      ]
    },
    {
      "cell_type": "code",
      "metadata": {
        "id": "l9w5wiH0XaBp",
        "colab_type": "code",
        "colab": {
          "base_uri": "https://localhost:8080/",
          "height": 136
        },
        "outputId": "7fa0e366-077d-4d6d-dc3d-90548ae53703"
      },
      "source": [
        "df_noindex_sort = df_noindex.sort_values('state')\n",
        "print(df_noindex_sort)"
      ],
      "execution_count": 12,
      "outputs": [
        {
          "output_type": "stream",
          "text": [
            "      name  age state  point\n",
            "1      Bob   42    CA     92\n",
            "2  Charlie   18    CA     70\n",
            "4    Ellen   24    CA     88\n",
            "0    Alice   24    NY     64\n",
            "5    Frank   30    NY     57\n",
            "3     Dave   68    TX     70\n"
          ],
          "name": "stdout"
        }
      ]
    },
    {
      "cell_type": "code",
      "metadata": {
        "id": "msf8fNSzX5l1",
        "colab_type": "code",
        "colab": {
          "base_uri": "https://localhost:8080/",
          "height": 170
        },
        "outputId": "1588b606-237a-44da-858e-bd2ada525c81"
      },
      "source": [
        "print(df_noindex_sort.index)\n",
        "print(df_noindex_sort.drop([1,3,5]))\n",
        "print(df_noindex_sort.drop(df_noindex_sort.index[[1,3,5]]))"
      ],
      "execution_count": 13,
      "outputs": [
        {
          "output_type": "stream",
          "text": [
            "Int64Index([1, 2, 4, 0, 5, 3], dtype='int64')\n",
            "      name  age state  point\n",
            "2  Charlie   18    CA     70\n",
            "4    Ellen   24    CA     88\n",
            "0    Alice   24    NY     64\n",
            "    name  age state  point\n",
            "1    Bob   42    CA     92\n",
            "4  Ellen   24    CA     88\n",
            "5  Frank   30    NY     57\n"
          ],
          "name": "stdout"
        }
      ]
    },
    {
      "cell_type": "code",
      "metadata": {
        "id": "9tEmdxzwYLwc",
        "colab_type": "code",
        "colab": {
          "base_uri": "https://localhost:8080/",
          "height": 153
        },
        "outputId": "82741da4-0d11-42fd-988e-61edb64c1719"
      },
      "source": [
        "print(df.drop('state', axis = 1))"
      ],
      "execution_count": 14,
      "outputs": [
        {
          "output_type": "stream",
          "text": [
            "         age  point\n",
            "name               \n",
            "Alice     24     64\n",
            "Bob       42     92\n",
            "Charlie   18     70\n",
            "Dave      68     70\n",
            "Ellen     24     88\n",
            "Frank     30     57\n"
          ],
          "name": "stdout"
        }
      ]
    },
    {
      "cell_type": "code",
      "metadata": {
        "id": "V_AdwgDpYS3R",
        "colab_type": "code",
        "colab": {
          "base_uri": "https://localhost:8080/",
          "height": 153
        },
        "outputId": "d5026048-307b-4343-8562-ba130d94cac8"
      },
      "source": [
        "print(df.drop(columns='state'))"
      ],
      "execution_count": 15,
      "outputs": [
        {
          "output_type": "stream",
          "text": [
            "         age  point\n",
            "name               \n",
            "Alice     24     64\n",
            "Bob       42     92\n",
            "Charlie   18     70\n",
            "Dave      68     70\n",
            "Ellen     24     88\n",
            "Frank     30     57\n"
          ],
          "name": "stdout"
        }
      ]
    },
    {
      "cell_type": "code",
      "metadata": {
        "id": "q-sfzZv6YVg5",
        "colab_type": "code",
        "colab": {
          "base_uri": "https://localhost:8080/",
          "height": 289
        },
        "outputId": "9fd34c34-2398-43f1-95b3-762e1df1db70"
      },
      "source": [
        "print(df.drop(['state', 'point'],axis = 1))\n",
        "print(df.drop(columns = ['state', 'point']))"
      ],
      "execution_count": 16,
      "outputs": [
        {
          "output_type": "stream",
          "text": [
            "         age\n",
            "name        \n",
            "Alice     24\n",
            "Bob       42\n",
            "Charlie   18\n",
            "Dave      68\n",
            "Ellen     24\n",
            "Frank     30\n",
            "         age\n",
            "name        \n",
            "Alice     24\n",
            "Bob       42\n",
            "Charlie   18\n",
            "Dave      68\n",
            "Ellen     24\n",
            "Frank     30\n"
          ],
          "name": "stdout"
        }
      ]
    },
    {
      "cell_type": "code",
      "metadata": {
        "id": "GzHGhKQwYb9p",
        "colab_type": "code",
        "colab": {
          "base_uri": "https://localhost:8080/",
          "height": 153
        },
        "outputId": "64fa9b5b-9750-41e5-ef32-3f1133b53f77"
      },
      "source": [
        "df_org = df.copy()\n",
        "df_org.drop(columns = ['state', 'point'], inplace = True)\n",
        "print(df_org)"
      ],
      "execution_count": 17,
      "outputs": [
        {
          "output_type": "stream",
          "text": [
            "         age\n",
            "name        \n",
            "Alice     24\n",
            "Bob       42\n",
            "Charlie   18\n",
            "Dave      68\n",
            "Ellen     24\n",
            "Frank     30\n"
          ],
          "name": "stdout"
        }
      ]
    },
    {
      "cell_type": "code",
      "metadata": {
        "id": "4TSQKfCgYiKB",
        "colab_type": "code",
        "colab": {
          "base_uri": "https://localhost:8080/",
          "height": 102
        },
        "outputId": "62639366-bd09-446c-d6a0-46e8a73d3999"
      },
      "source": [
        "print(df.drop(index=['Bob', 'Dave', 'Frank'], columns = ['state', 'point']))"
      ],
      "execution_count": 18,
      "outputs": [
        {
          "output_type": "stream",
          "text": [
            "         age\n",
            "name        \n",
            "Alice     24\n",
            "Charlie   18\n",
            "Ellen     24\n"
          ],
          "name": "stdout"
        }
      ]
    },
    {
      "cell_type": "code",
      "metadata": {
        "id": "DxZ2TWSvYt_C",
        "colab_type": "code",
        "colab": {
          "base_uri": "https://localhost:8080/",
          "height": 102
        },
        "outputId": "2d67377c-23d4-4d3b-cb14-1109f8ca4356"
      },
      "source": [
        "print(df.drop(index = df.index[[1,3,5]], columns = df.columns[[1,2]]))"
      ],
      "execution_count": 19,
      "outputs": [
        {
          "output_type": "stream",
          "text": [
            "         age\n",
            "name        \n",
            "Alice     24\n",
            "Charlie   18\n",
            "Ellen     24\n"
          ],
          "name": "stdout"
        }
      ]
    },
    {
      "cell_type": "code",
      "metadata": {
        "id": "Iv17AjgdYzHo",
        "colab_type": "code",
        "colab": {
          "base_uri": "https://localhost:8080/",
          "height": 85
        },
        "outputId": "158615e4-cb0e-44f6-e2bc-816b0a6c33a7"
      },
      "source": [
        "import pandas as pd\n",
        "df = pd.DataFrame({'A': ['A1', 'A2', 'A3'],\n",
        "                   'B': ['B1', 'B2', 'B3'],\n",
        "                   'C': ['C1', 'C2', 'C3']},\n",
        "                  index = ['ONE', 'TWO', 'THREE'])\n",
        "print(df)"
      ],
      "execution_count": 20,
      "outputs": [
        {
          "output_type": "stream",
          "text": [
            "        A   B   C\n",
            "ONE    A1  B1  C1\n",
            "TWO    A2  B2  C2\n",
            "THREE  A3  B3  C3\n"
          ],
          "name": "stdout"
        }
      ]
    },
    {
      "cell_type": "code",
      "metadata": {
        "id": "NaP4PmFFaBGI",
        "colab_type": "code",
        "colab": {
          "base_uri": "https://localhost:8080/",
          "height": 85
        },
        "outputId": "9ae644b0-d123-413a-e52b-767199a68b65"
      },
      "source": [
        "df['A'] = 0\n",
        "print(df)"
      ],
      "execution_count": 22,
      "outputs": [
        {
          "output_type": "stream",
          "text": [
            "       A   B   C\n",
            "ONE    0  B1  C1\n",
            "TWO    0  B2  C2\n",
            "THREE  0  B3  C3\n"
          ],
          "name": "stdout"
        }
      ]
    },
    {
      "cell_type": "code",
      "metadata": {
        "id": "IJLK9yn-aHRn",
        "colab_type": "code",
        "colab": {
          "base_uri": "https://localhost:8080/",
          "height": 85
        },
        "outputId": "6134bc51-7c9d-42ae-8c8c-40fbea84c6e9"
      },
      "source": [
        "df['D'] = 0\n",
        "print(df)"
      ],
      "execution_count": 23,
      "outputs": [
        {
          "output_type": "stream",
          "text": [
            "       A   B   C  D\n",
            "ONE    0  B1  C1  0\n",
            "TWO    0  B2  C2  0\n",
            "THREE  0  B3  C3  0\n"
          ],
          "name": "stdout"
        }
      ]
    },
    {
      "cell_type": "code",
      "metadata": {
        "id": "AWxt8D2MaKqZ",
        "colab_type": "code",
        "colab": {
          "base_uri": "https://localhost:8080/",
          "height": 85
        },
        "outputId": "a0528e9d-08b3-4191-faa0-ceaae01cac4e"
      },
      "source": [
        "df['E'] = [0,1,2] # array-like\n",
        "print(df)"
      ],
      "execution_count": 25,
      "outputs": [
        {
          "output_type": "stream",
          "text": [
            "       A   B   C  D  E\n",
            "ONE    0  B1  C1  0  0\n",
            "TWO    0  B2  C2  0  1\n",
            "THREE  0  B3  C3  0  2\n"
          ],
          "name": "stdout"
        }
      ]
    },
    {
      "cell_type": "code",
      "metadata": {
        "id": "DPa2B-3UaVbw",
        "colab_type": "code",
        "colab": {
          "base_uri": "https://localhost:8080/",
          "height": 85
        },
        "outputId": "18a326da-3a5e-4c8a-b368-2d7f4488d2c8"
      },
      "source": [
        "df['F'] = df['B'] + df['C']\n",
        "df['G'] = df['B'].str.lower()\n",
        "print(df)"
      ],
      "execution_count": 26,
      "outputs": [
        {
          "output_type": "stream",
          "text": [
            "       A   B   C  D  E     F   G\n",
            "ONE    0  B1  C1  0  0  B1C1  b1\n",
            "TWO    0  B2  C2  0  1  B2C2  b2\n",
            "THREE  0  B3  C3  0  2  B3C3  b3\n"
          ],
          "name": "stdout"
        }
      ]
    },
    {
      "cell_type": "code",
      "metadata": {
        "id": "IB6bjNXRa3fx",
        "colab_type": "code",
        "colab": {
          "base_uri": "https://localhost:8080/",
          "height": 85
        },
        "outputId": "6a09179f-6bcb-4ead-f2ab-b81e0055bec2"
      },
      "source": [
        "s = pd.Series(['X2', 'X3', 'X4'], index = ['TWO', 'THREE', 'FOUR'], name ='X')\n",
        "df['H'] = s\n",
        "print(df)"
      ],
      "execution_count": 27,
      "outputs": [
        {
          "output_type": "stream",
          "text": [
            "       A   B   C  D  E     F   G    H\n",
            "ONE    0  B1  C1  0  0  B1C1  b1  NaN\n",
            "TWO    0  B2  C2  0  1  B2C2  b2   X2\n",
            "THREE  0  B3  C3  0  2  B3C3  b3   X3\n"
          ],
          "name": "stdout"
        }
      ]
    },
    {
      "cell_type": "code",
      "metadata": {
        "id": "khcN3IQibIlx",
        "colab_type": "code",
        "colab": {
          "base_uri": "https://localhost:8080/",
          "height": 102
        },
        "outputId": "85d0d5f6-5f0c-42d0-e3e8-bb82f467de99"
      },
      "source": [
        "print(s.values)\n",
        "df['I'] = s.values\n",
        "print(df)"
      ],
      "execution_count": 28,
      "outputs": [
        {
          "output_type": "stream",
          "text": [
            "['X2' 'X3' 'X4']\n",
            "       A   B   C  D  E     F   G    H   I\n",
            "ONE    0  B1  C1  0  0  B1C1  b1  NaN  X2\n",
            "TWO    0  B2  C2  0  1  B2C2  b2   X2  X3\n",
            "THREE  0  B3  C3  0  2  B3C3  b3   X3  X4\n"
          ],
          "name": "stdout"
        }
      ]
    },
    {
      "cell_type": "code",
      "metadata": {
        "id": "kWOy_zvwbOC4",
        "colab_type": "code",
        "colab": {
          "base_uri": "https://localhost:8080/",
          "height": 85
        },
        "outputId": "e128afda-0b2d-438c-9d42-2c049e8cc785"
      },
      "source": [
        "df = pd.DataFrame({'A': ['A1', 'A2', 'A3'],\n",
        "                   'B': ['B1', 'B2', 'B3'],\n",
        "                   'C': ['C1', 'C2', 'C3']},\n",
        "                  index=['ONE', 'TWO', 'THREE'])\n",
        "print(df.assign(A = 0))"
      ],
      "execution_count": 31,
      "outputs": [
        {
          "output_type": "stream",
          "text": [
            "       A   B   C\n",
            "ONE    0  B1  C1\n",
            "TWO    0  B2  C2\n",
            "THREE  0  B3  C3\n"
          ],
          "name": "stdout"
        }
      ]
    },
    {
      "cell_type": "code",
      "metadata": {
        "id": "C9WcLCiWcmlE",
        "colab_type": "code",
        "colab": {
          "base_uri": "https://localhost:8080/",
          "height": 85
        },
        "outputId": "efd38c47-f827-45e1-b0e1-9efe42f5b7fd"
      },
      "source": [
        "print(df.assign(D = 0))"
      ],
      "execution_count": 32,
      "outputs": [
        {
          "output_type": "stream",
          "text": [
            "        A   B   C  D\n",
            "ONE    A1  B1  C1  0\n",
            "TWO    A2  B2  C2  0\n",
            "THREE  A3  B3  C3  0\n"
          ],
          "name": "stdout"
        }
      ]
    },
    {
      "cell_type": "code",
      "metadata": {
        "id": "alUlyb1ecr26",
        "colab_type": "code",
        "colab": {
          "base_uri": "https://localhost:8080/",
          "height": 85
        },
        "outputId": "23ef6789-3d36-4c1d-aa47-48c18b089848"
      },
      "source": [
        "print(df)"
      ],
      "execution_count": 33,
      "outputs": [
        {
          "output_type": "stream",
          "text": [
            "        A   B   C\n",
            "ONE    A1  B1  C1\n",
            "TWO    A2  B2  C2\n",
            "THREE  A3  B3  C3\n"
          ],
          "name": "stdout"
        }
      ]
    },
    {
      "cell_type": "code",
      "metadata": {
        "id": "YKhgKsaacssT",
        "colab_type": "code",
        "colab": {
          "base_uri": "https://localhost:8080/",
          "height": 85
        },
        "outputId": "516b3f5c-9fab-4fe5-c0d1-38654d904a6e"
      },
      "source": [
        "s = pd.Series(['X2', 'X3', 'X4'], index = ['TWO', 'THREE', 'FOUR'], name = 'X')\n",
        "print(s)"
      ],
      "execution_count": 34,
      "outputs": [
        {
          "output_type": "stream",
          "text": [
            "TWO      X2\n",
            "THREE    X3\n",
            "FOUR     X4\n",
            "Name: X, dtype: object\n"
          ],
          "name": "stdout"
        }
      ]
    },
    {
      "cell_type": "code",
      "metadata": {
        "id": "CMg5tMwLc9TC",
        "colab_type": "code",
        "colab": {
          "base_uri": "https://localhost:8080/",
          "height": 85
        },
        "outputId": "46204208-a152-443b-af82-23c8ecc7ad09"
      },
      "source": [
        "df_new = df.assign(C = 'XXX',\n",
        "                   D = 0,\n",
        "                   E = [0,1,2],\n",
        "                   F = s,\n",
        "                   G = s.values,\n",
        "                   H = df['A']+df['B'])\n",
        "print(df_new)"
      ],
      "execution_count": 37,
      "outputs": [
        {
          "output_type": "stream",
          "text": [
            "        A   B    C  D  E    F   G     H\n",
            "ONE    A1  B1  XXX  0  0  NaN  X2  A1B1\n",
            "TWO    A2  B2  XXX  0  1   X2  X3  A2B2\n",
            "THREE  A3  B3  XXX  0  2   X3  X4  A3B3\n"
          ],
          "name": "stdout"
        }
      ]
    },
    {
      "cell_type": "code",
      "metadata": {
        "id": "nctg3SoxdGX6",
        "colab_type": "code",
        "colab": {}
      },
      "source": [
        "df = pd.DataFrame({'A': ['A1', 'A2', 'A3'],\n",
        "                   'B': ['B1', 'B2', 'B3'],\n",
        "                   'C': ['C1', 'C2', 'C3']},\n",
        "                  index=['ONE', 'TWO', 'THREE'])"
      ],
      "execution_count": 38,
      "outputs": []
    },
    {
      "cell_type": "code",
      "metadata": {
        "id": "i889IgCageER",
        "colab_type": "code",
        "colab": {
          "base_uri": "https://localhost:8080/",
          "height": 85
        },
        "outputId": "fda16cc4-9580-4bf0-fd07-5600943eaace"
      },
      "source": [
        "s = pd.Series(['X2', 'X3', 'X4'], index = ['TWO', 'THREE', 'FOUR'], name = 'X')\n",
        "df.insert(0, 'D', 0)\n",
        "print(df)"
      ],
      "execution_count": 39,
      "outputs": [
        {
          "output_type": "stream",
          "text": [
            "       D   A   B   C\n",
            "ONE    0  A1  B1  C1\n",
            "TWO    0  A2  B2  C2\n",
            "THREE  0  A3  B3  C3\n"
          ],
          "name": "stdout"
        }
      ]
    },
    {
      "cell_type": "code",
      "metadata": {
        "id": "dWVAu73AgnXS",
        "colab_type": "code",
        "colab": {}
      },
      "source": [
        "df.insert(len(df.columns), 'E', s)"
      ],
      "execution_count": 40,
      "outputs": []
    },
    {
      "cell_type": "code",
      "metadata": {
        "id": "FxUZOM8kgvkS",
        "colab_type": "code",
        "colab": {
          "base_uri": "https://localhost:8080/",
          "height": 85
        },
        "outputId": "13ad1ae9-d785-45f4-e7ed-110a47f390df"
      },
      "source": [
        "print(df)"
      ],
      "execution_count": 41,
      "outputs": [
        {
          "output_type": "stream",
          "text": [
            "       D   A   B   C    E\n",
            "ONE    0  A1  B1  C1  NaN\n",
            "TWO    0  A2  B2  C2   X2\n",
            "THREE  0  A3  B3  C3   X3\n"
          ],
          "name": "stdout"
        }
      ]
    },
    {
      "cell_type": "code",
      "metadata": {
        "id": "AlLpD6YhgwQe",
        "colab_type": "code",
        "colab": {
          "base_uri": "https://localhost:8080/",
          "height": 328
        },
        "outputId": "af39867c-8ea7-40bf-cea9-1353bc266acd"
      },
      "source": [
        "df.insert(0, 'D', 10)"
      ],
      "execution_count": 42,
      "outputs": [
        {
          "output_type": "error",
          "ename": "ValueError",
          "evalue": "ignored",
          "traceback": [
            "\u001b[0;31m---------------------------------------------------------------------------\u001b[0m",
            "\u001b[0;31mValueError\u001b[0m                                Traceback (most recent call last)",
            "\u001b[0;32m<ipython-input-42-fbcae71c1cb7>\u001b[0m in \u001b[0;36m<module>\u001b[0;34m()\u001b[0m\n\u001b[0;32m----> 1\u001b[0;31m \u001b[0mdf\u001b[0m\u001b[0;34m.\u001b[0m\u001b[0minsert\u001b[0m\u001b[0;34m(\u001b[0m\u001b[0;36m0\u001b[0m\u001b[0;34m,\u001b[0m \u001b[0;34m'D'\u001b[0m\u001b[0;34m,\u001b[0m \u001b[0;36m10\u001b[0m\u001b[0;34m)\u001b[0m\u001b[0;34m\u001b[0m\u001b[0;34m\u001b[0m\u001b[0m\n\u001b[0m",
            "\u001b[0;32m/usr/local/lib/python3.6/dist-packages/pandas/core/frame.py\u001b[0m in \u001b[0;36minsert\u001b[0;34m(self, loc, column, value, allow_duplicates)\u001b[0m\n\u001b[1;32m   3494\u001b[0m         \u001b[0mself\u001b[0m\u001b[0;34m.\u001b[0m\u001b[0m_ensure_valid_index\u001b[0m\u001b[0;34m(\u001b[0m\u001b[0mvalue\u001b[0m\u001b[0;34m)\u001b[0m\u001b[0;34m\u001b[0m\u001b[0;34m\u001b[0m\u001b[0m\n\u001b[1;32m   3495\u001b[0m         \u001b[0mvalue\u001b[0m \u001b[0;34m=\u001b[0m \u001b[0mself\u001b[0m\u001b[0;34m.\u001b[0m\u001b[0m_sanitize_column\u001b[0m\u001b[0;34m(\u001b[0m\u001b[0mcolumn\u001b[0m\u001b[0;34m,\u001b[0m \u001b[0mvalue\u001b[0m\u001b[0;34m,\u001b[0m \u001b[0mbroadcast\u001b[0m\u001b[0;34m=\u001b[0m\u001b[0;32mFalse\u001b[0m\u001b[0;34m)\u001b[0m\u001b[0;34m\u001b[0m\u001b[0;34m\u001b[0m\u001b[0m\n\u001b[0;32m-> 3496\u001b[0;31m         \u001b[0mself\u001b[0m\u001b[0;34m.\u001b[0m\u001b[0m_data\u001b[0m\u001b[0;34m.\u001b[0m\u001b[0minsert\u001b[0m\u001b[0;34m(\u001b[0m\u001b[0mloc\u001b[0m\u001b[0;34m,\u001b[0m \u001b[0mcolumn\u001b[0m\u001b[0;34m,\u001b[0m \u001b[0mvalue\u001b[0m\u001b[0;34m,\u001b[0m \u001b[0mallow_duplicates\u001b[0m\u001b[0;34m=\u001b[0m\u001b[0mallow_duplicates\u001b[0m\u001b[0;34m)\u001b[0m\u001b[0;34m\u001b[0m\u001b[0;34m\u001b[0m\u001b[0m\n\u001b[0m\u001b[1;32m   3497\u001b[0m \u001b[0;34m\u001b[0m\u001b[0m\n\u001b[1;32m   3498\u001b[0m     \u001b[0;32mdef\u001b[0m \u001b[0massign\u001b[0m\u001b[0;34m(\u001b[0m\u001b[0mself\u001b[0m\u001b[0;34m,\u001b[0m \u001b[0;34m**\u001b[0m\u001b[0mkwargs\u001b[0m\u001b[0;34m)\u001b[0m \u001b[0;34m->\u001b[0m \u001b[0;34m\"DataFrame\"\u001b[0m\u001b[0;34m:\u001b[0m\u001b[0;34m\u001b[0m\u001b[0;34m\u001b[0m\u001b[0m\n",
            "\u001b[0;32m/usr/local/lib/python3.6/dist-packages/pandas/core/internals/managers.py\u001b[0m in \u001b[0;36minsert\u001b[0;34m(self, loc, item, value, allow_duplicates)\u001b[0m\n\u001b[1;32m   1171\u001b[0m         \u001b[0;32mif\u001b[0m \u001b[0;32mnot\u001b[0m \u001b[0mallow_duplicates\u001b[0m \u001b[0;32mand\u001b[0m \u001b[0mitem\u001b[0m \u001b[0;32min\u001b[0m \u001b[0mself\u001b[0m\u001b[0;34m.\u001b[0m\u001b[0mitems\u001b[0m\u001b[0;34m:\u001b[0m\u001b[0;34m\u001b[0m\u001b[0;34m\u001b[0m\u001b[0m\n\u001b[1;32m   1172\u001b[0m             \u001b[0;31m# Should this be a different kind of error??\u001b[0m\u001b[0;34m\u001b[0m\u001b[0;34m\u001b[0m\u001b[0;34m\u001b[0m\u001b[0m\n\u001b[0;32m-> 1173\u001b[0;31m             \u001b[0;32mraise\u001b[0m \u001b[0mValueError\u001b[0m\u001b[0;34m(\u001b[0m\u001b[0;34mf\"cannot insert {item}, already exists\"\u001b[0m\u001b[0;34m)\u001b[0m\u001b[0;34m\u001b[0m\u001b[0;34m\u001b[0m\u001b[0m\n\u001b[0m\u001b[1;32m   1174\u001b[0m \u001b[0;34m\u001b[0m\u001b[0m\n\u001b[1;32m   1175\u001b[0m         \u001b[0;32mif\u001b[0m \u001b[0;32mnot\u001b[0m \u001b[0misinstance\u001b[0m\u001b[0;34m(\u001b[0m\u001b[0mloc\u001b[0m\u001b[0;34m,\u001b[0m \u001b[0mint\u001b[0m\u001b[0;34m)\u001b[0m\u001b[0;34m:\u001b[0m\u001b[0;34m\u001b[0m\u001b[0;34m\u001b[0m\u001b[0m\n",
            "\u001b[0;31mValueError\u001b[0m: cannot insert D, already exists"
          ]
        }
      ]
    },
    {
      "cell_type": "code",
      "metadata": {
        "id": "yWVnHKfdhWoS",
        "colab_type": "code",
        "colab": {
          "base_uri": "https://localhost:8080/",
          "height": 85
        },
        "outputId": "aff2ec59-9b1f-4871-f536-69ad0cff14eb"
      },
      "source": [
        "df.insert(0, 'D', 10, allow_duplicates= True)\n",
        "print(df)"
      ],
      "execution_count": 43,
      "outputs": [
        {
          "output_type": "stream",
          "text": [
            "        D  D   A   B   C    E\n",
            "ONE    10  0  A1  B1  C1  NaN\n",
            "TWO    10  0  A2  B2  C2   X2\n",
            "THREE  10  0  A3  B3  C3   X3\n"
          ],
          "name": "stdout"
        }
      ]
    },
    {
      "cell_type": "code",
      "metadata": {
        "id": "lvvFS87WhaSJ",
        "colab_type": "code",
        "colab": {}
      },
      "source": [
        "df = pd.DataFrame({'A': ['A1', 'A2', 'A3'],\n",
        "                   'B': ['B1', 'B2', 'B3'],\n",
        "                   'C': ['C1', 'C2', 'C3']},\n",
        "                  index=['ONE', 'TWO', 'THREE'])"
      ],
      "execution_count": 44,
      "outputs": []
    },
    {
      "cell_type": "code",
      "metadata": {
        "id": "UaLXJGS_hcQh",
        "colab_type": "code",
        "colab": {
          "base_uri": "https://localhost:8080/",
          "height": 102
        },
        "outputId": "91348e3d-46a1-4c60-b1f7-15bd5c765695"
      },
      "source": [
        "s = pd.Series(['X2', 'X3', 'X4'], index = ['TWO', 'THREE', 'FOUR'], name = 'X')\n",
        "print(pd.concat([df, s], axis = 1))"
      ],
      "execution_count": 45,
      "outputs": [
        {
          "output_type": "stream",
          "text": [
            "         A    B    C    X\n",
            "ONE     A1   B1   C1  NaN\n",
            "TWO     A2   B2   C2   X2\n",
            "THREE   A3   B3   C3   X3\n",
            "FOUR   NaN  NaN  NaN   X4\n"
          ],
          "name": "stdout"
        }
      ]
    },
    {
      "cell_type": "code",
      "metadata": {
        "id": "6Dq5QAdLhl7g",
        "colab_type": "code",
        "colab": {
          "base_uri": "https://localhost:8080/",
          "height": 68
        },
        "outputId": "067a4f0c-fbff-4cf6-98ec-c8455c6e8c8f"
      },
      "source": [
        "print(pd.concat([df, s], axis =1, join = 'inner'))"
      ],
      "execution_count": 46,
      "outputs": [
        {
          "output_type": "stream",
          "text": [
            "        A   B   C   X\n",
            "TWO    A2  B2  C2  X2\n",
            "THREE  A3  B3  C3  X3\n"
          ],
          "name": "stdout"
        }
      ]
    },
    {
      "cell_type": "code",
      "metadata": {
        "id": "TIFNUrUzhzRx",
        "colab_type": "code",
        "colab": {
          "base_uri": "https://localhost:8080/",
          "height": 85
        },
        "outputId": "0284dbae-e842-4310-f5ec-1c2bc1eca86d"
      },
      "source": [
        "s1 = pd.Series(['X1', 'X2', 'X3'], index = df.index, name = 'X')\n",
        "s2 = pd.Series(['Y1', 'Y2', 'Y3'], index = df.index, name = 'Y')\n",
        "print(pd.concat([df, s1, s2], axis = 1))"
      ],
      "execution_count": 47,
      "outputs": [
        {
          "output_type": "stream",
          "text": [
            "        A   B   C   X   Y\n",
            "ONE    A1  B1  C1  X1  Y1\n",
            "TWO    A2  B2  C2  X2  Y2\n",
            "THREE  A3  B3  C3  X3  Y3\n"
          ],
          "name": "stdout"
        }
      ]
    },
    {
      "cell_type": "code",
      "metadata": {
        "id": "EeCTDWePiB6R",
        "colab_type": "code",
        "colab": {
          "base_uri": "https://localhost:8080/",
          "height": 85
        },
        "outputId": "3ce6f2c4-fb46-40e1-c62f-dcee2bc3e197"
      },
      "source": [
        "df2 = pd.DataFrame({'df_col1':0, 'df_col2':range(3)}, index = df.index)\n",
        "print(df2)"
      ],
      "execution_count": 48,
      "outputs": [
        {
          "output_type": "stream",
          "text": [
            "       df_col1  df_col2\n",
            "ONE          0        0\n",
            "TWO          0        1\n",
            "THREE        0        2\n"
          ],
          "name": "stdout"
        }
      ]
    },
    {
      "cell_type": "code",
      "metadata": {
        "id": "XgjpQLWwii5x",
        "colab_type": "code",
        "colab": {
          "base_uri": "https://localhost:8080/",
          "height": 85
        },
        "outputId": "fb05ea4f-feb6-4cb5-c5d9-33c35cc2933e"
      },
      "source": [
        "print(pd.concat([df, df2], axis = 1))"
      ],
      "execution_count": 49,
      "outputs": [
        {
          "output_type": "stream",
          "text": [
            "        A   B   C  df_col1  df_col2\n",
            "ONE    A1  B1  C1        0        0\n",
            "TWO    A2  B2  C2        0        1\n",
            "THREE  A3  B3  C3        0        2\n"
          ],
          "name": "stdout"
        }
      ]
    },
    {
      "cell_type": "code",
      "metadata": {
        "id": "AcjJsBIbim5h",
        "colab_type": "code",
        "colab": {
          "base_uri": "https://localhost:8080/",
          "height": 85
        },
        "outputId": "d4c34205-2676-4962-df15-ba4afa9d68a9"
      },
      "source": [
        "df = pd.DataFrame({'A': ['A1', 'A2', 'A3'],\n",
        "                   'B': ['B1', 'B2', 'B3'],\n",
        "                   'C': ['C1', 'C2', 'C3']},\n",
        "                  index=['ONE', 'TWO', 'THREE'])\n",
        "print(df)"
      ],
      "execution_count": 50,
      "outputs": [
        {
          "output_type": "stream",
          "text": [
            "        A   B   C\n",
            "ONE    A1  B1  C1\n",
            "TWO    A2  B2  C2\n",
            "THREE  A3  B3  C3\n"
          ],
          "name": "stdout"
        }
      ]
    },
    {
      "cell_type": "code",
      "metadata": {
        "id": "Lk9u8TZgirCJ",
        "colab_type": "code",
        "colab": {
          "base_uri": "https://localhost:8080/",
          "height": 85
        },
        "outputId": "b4ad9bf9-a384-4323-bdf2-1faf89dd64fb"
      },
      "source": [
        "df.loc['ONE'] = 0\n",
        "print(df)"
      ],
      "execution_count": 51,
      "outputs": [
        {
          "output_type": "stream",
          "text": [
            "        A   B   C\n",
            "ONE     0   0   0\n",
            "TWO    A2  B2  C2\n",
            "THREE  A3  B3  C3\n"
          ],
          "name": "stdout"
        }
      ]
    },
    {
      "cell_type": "code",
      "metadata": {
        "id": "d2wXDuUEiwWL",
        "colab_type": "code",
        "colab": {
          "base_uri": "https://localhost:8080/",
          "height": 119
        },
        "outputId": "2bb8acee-5ec8-4101-8631-b239d2c367d9"
      },
      "source": [
        "df.loc['FOUR'] = 0\n",
        "df.loc['FIVE'] = ['A5', 'B5', 'C5']\n",
        "print(df)"
      ],
      "execution_count": 52,
      "outputs": [
        {
          "output_type": "stream",
          "text": [
            "        A   B   C\n",
            "ONE     0   0   0\n",
            "TWO    A2  B2  C2\n",
            "THREE  A3  B3  C3\n",
            "FOUR    0   0   0\n",
            "FIVE   A5  B5  C5\n"
          ],
          "name": "stdout"
        }
      ]
    },
    {
      "cell_type": "code",
      "metadata": {
        "id": "6Ni0r9Eei3MB",
        "colab_type": "code",
        "colab": {
          "base_uri": "https://localhost:8080/",
          "height": 85
        },
        "outputId": "74ae2ed1-8a05-4fc6-cd81-b4e76a3247f5"
      },
      "source": [
        "s = pd.Series(['B6', 'C6', 'D6'], index = ['B', 'C', 'D'], name = 'SIX')\n",
        "print(s)"
      ],
      "execution_count": 53,
      "outputs": [
        {
          "output_type": "stream",
          "text": [
            "B    B6\n",
            "C    C6\n",
            "D    D6\n",
            "Name: SIX, dtype: object\n"
          ],
          "name": "stdout"
        }
      ]
    },
    {
      "cell_type": "code",
      "metadata": {
        "id": "jLTt4dRijNnZ",
        "colab_type": "code",
        "colab": {
          "base_uri": "https://localhost:8080/",
          "height": 170
        },
        "outputId": "931d1fe2-15ba-455f-a580-09b8f72d452b"
      },
      "source": [
        "df.loc['XXX'] = df.loc['TWO'] + df.loc['THREE']\n",
        "df.loc['YYY'] = s\n",
        "df.loc['ZZZ'] = s.values\n",
        "print(df)"
      ],
      "execution_count": 54,
      "outputs": [
        {
          "output_type": "stream",
          "text": [
            "          A     B     C\n",
            "ONE       0     0     0\n",
            "TWO      A2    B2    C2\n",
            "THREE    A3    B3    C3\n",
            "FOUR      0     0     0\n",
            "FIVE     A5    B5    C5\n",
            "XXX    A2A3  B2B3  C2C3\n",
            "YYY     NaN    B6    C6\n",
            "ZZZ      B6    C6    D6\n"
          ],
          "name": "stdout"
        }
      ]
    },
    {
      "cell_type": "code",
      "metadata": {
        "id": "hf-Zojm_jY0h",
        "colab_type": "code",
        "colab": {}
      },
      "source": [
        "df = pd.DataFrame({'A': ['A1', 'A2', 'A3'],\n",
        "                   'B': ['B1', 'B2', 'B3'],\n",
        "                   'C': ['C1', 'C2', 'C3']},\n",
        "                  index=['ONE', 'TWO', 'THREE'])"
      ],
      "execution_count": 55,
      "outputs": []
    },
    {
      "cell_type": "code",
      "metadata": {
        "id": "DNdzfMamjdMB",
        "colab_type": "code",
        "colab": {
          "base_uri": "https://localhost:8080/",
          "height": 221
        },
        "outputId": "a4f273b2-5a0d-4d46-e0cb-5bd68f80aac6"
      },
      "source": [
        "print(df.append([0,1,2]))\n",
        "print(df.append({'A':0, 'B':1, 'C':2}, ignore_index = True))"
      ],
      "execution_count": 56,
      "outputs": [
        {
          "output_type": "stream",
          "text": [
            "         A    B    C    0\n",
            "ONE     A1   B1   C1  NaN\n",
            "TWO     A2   B2   C2  NaN\n",
            "THREE   A3   B3   C3  NaN\n",
            "0      NaN  NaN  NaN  0.0\n",
            "1      NaN  NaN  NaN  1.0\n",
            "2      NaN  NaN  NaN  2.0\n",
            "    A   B   C\n",
            "0  A1  B1  C1\n",
            "1  A2  B2  C2\n",
            "2  A3  B3  C3\n",
            "3   0   1   2\n"
          ],
          "name": "stdout"
        }
      ]
    },
    {
      "cell_type": "code",
      "metadata": {
        "id": "war4c-Eujj2R",
        "colab_type": "code",
        "colab": {
          "base_uri": "https://localhost:8080/",
          "height": 68
        },
        "outputId": "9af57855-1b17-4d30-d08e-99f07973a23e"
      },
      "source": [
        "s = pd.Series(['A4', 'B4', 'C4'], index=df.columns, name='FOUR')\n",
        "df2 = pd.DataFrame([['B6', 'C6', 'D6'], ['B7', 'C7', 'D7']], \n",
        "                   index=['SIX', 'SEVEN'], columns=['B', 'C', 'D'])\n",
        "print(df2)"
      ],
      "execution_count": 57,
      "outputs": [
        {
          "output_type": "stream",
          "text": [
            "        B   C   D\n",
            "SIX    B6  C6  D6\n",
            "SEVEN  B7  C7  D7\n"
          ],
          "name": "stdout"
        }
      ]
    },
    {
      "cell_type": "code",
      "metadata": {
        "id": "lhkz0AhSk_Tw",
        "colab_type": "code",
        "colab": {
          "base_uri": "https://localhost:8080/",
          "height": 136
        },
        "outputId": "a5967538-2d16-4fcf-d54d-329f8533b220"
      },
      "source": [
        "print(df.append(s).append(df2))"
      ],
      "execution_count": 58,
      "outputs": [
        {
          "output_type": "stream",
          "text": [
            "         A   B   C    D\n",
            "ONE     A1  B1  C1  NaN\n",
            "TWO     A2  B2  C2  NaN\n",
            "THREE   A3  B3  C3  NaN\n",
            "FOUR    A4  B4  C4  NaN\n",
            "SIX    NaN  B6  C6   D6\n",
            "SEVEN  NaN  B7  C7   D7\n"
          ],
          "name": "stdout"
        }
      ]
    },
    {
      "cell_type": "code",
      "metadata": {
        "id": "BwPsE5oqlBy4",
        "colab_type": "code",
        "colab": {
          "base_uri": "https://localhost:8080/",
          "height": 221
        },
        "outputId": "7a94f04b-ed7d-4c16-9f8f-4b14fa092d80"
      },
      "source": [
        "print(pd.concat([df, df2]))\n",
        "print(pd.concat([df, df2], join = 'inner'))"
      ],
      "execution_count": 59,
      "outputs": [
        {
          "output_type": "stream",
          "text": [
            "         A   B   C    D\n",
            "ONE     A1  B1  C1  NaN\n",
            "TWO     A2  B2  C2  NaN\n",
            "THREE   A3  B3  C3  NaN\n",
            "SIX    NaN  B6  C6   D6\n",
            "SEVEN  NaN  B7  C7   D7\n",
            "        B   C\n",
            "ONE    B1  C1\n",
            "TWO    B2  C2\n",
            "THREE  B3  C3\n",
            "SIX    B6  C6\n",
            "SEVEN  B7  C7\n"
          ],
          "name": "stdout"
        }
      ]
    },
    {
      "cell_type": "code",
      "metadata": {
        "id": "zPzV6YnMlGRR",
        "colab_type": "code",
        "colab": {
          "base_uri": "https://localhost:8080/",
          "height": 102
        },
        "outputId": "3a20ebad-d5f4-4b74-886d-c852f195f9a6"
      },
      "source": [
        "print(df.append(s))"
      ],
      "execution_count": 60,
      "outputs": [
        {
          "output_type": "stream",
          "text": [
            "        A   B   C\n",
            "ONE    A1  B1  C1\n",
            "TWO    A2  B2  C2\n",
            "THREE  A3  B3  C3\n",
            "FOUR   A4  B4  C4\n"
          ],
          "name": "stdout"
        }
      ]
    },
    {
      "cell_type": "code",
      "metadata": {
        "id": "7uSCDRSXlcWw",
        "colab_type": "code",
        "colab": {
          "base_uri": "https://localhost:8080/",
          "height": 136
        },
        "outputId": "42f2caeb-95eb-4c74-b74d-7cbb7589bb4f"
      },
      "source": [
        "print(pd.concat([df, s]))"
      ],
      "execution_count": 61,
      "outputs": [
        {
          "output_type": "stream",
          "text": [
            "         A    B    C    0\n",
            "ONE     A1   B1   C1  NaN\n",
            "TWO     A2   B2   C2  NaN\n",
            "THREE   A3   B3   C3  NaN\n",
            "A      NaN  NaN  NaN   A4\n",
            "B      NaN  NaN  NaN   B4\n",
            "C      NaN  NaN  NaN   C4\n"
          ],
          "name": "stdout"
        }
      ]
    },
    {
      "cell_type": "code",
      "metadata": {
        "id": "JLm7Xt_xlfL0",
        "colab_type": "code",
        "colab": {
          "base_uri": "https://localhost:8080/",
          "height": 85
        },
        "outputId": "ea0e1e08-cafd-4399-ed60-758f61598347"
      },
      "source": [
        "s"
      ],
      "execution_count": 62,
      "outputs": [
        {
          "output_type": "execute_result",
          "data": {
            "text/plain": [
              "A    A4\n",
              "B    B4\n",
              "C    C4\n",
              "Name: FOUR, dtype: object"
            ]
          },
          "metadata": {
            "tags": []
          },
          "execution_count": 62
        }
      ]
    },
    {
      "cell_type": "code",
      "metadata": {
        "id": "cnUy_Na8lg5o",
        "colab_type": "code",
        "colab": {
          "base_uri": "https://localhost:8080/",
          "height": 51
        },
        "outputId": "942ee4fc-dd63-4322-8ee8-6adb721e21f0"
      },
      "source": [
        "print(pd.DataFrame(s).T)"
      ],
      "execution_count": 63,
      "outputs": [
        {
          "output_type": "stream",
          "text": [
            "       A   B   C\n",
            "FOUR  A4  B4  C4\n"
          ],
          "name": "stdout"
        }
      ]
    },
    {
      "cell_type": "code",
      "metadata": {
        "id": "ae9aKxwjlm8P",
        "colab_type": "code",
        "colab": {
          "base_uri": "https://localhost:8080/",
          "height": 102
        },
        "outputId": "d0d63e4c-cf80-4a1c-ba79-e5a310ff9b63"
      },
      "source": [
        "print(pd.concat([df, pd.DataFrame(s).T]))"
      ],
      "execution_count": 64,
      "outputs": [
        {
          "output_type": "stream",
          "text": [
            "        A   B   C\n",
            "ONE    A1  B1  C1\n",
            "TWO    A2  B2  C2\n",
            "THREE  A3  B3  C3\n",
            "FOUR   A4  B4  C4\n"
          ],
          "name": "stdout"
        }
      ]
    },
    {
      "cell_type": "code",
      "metadata": {
        "id": "PbJLkcKxlpT3",
        "colab_type": "code",
        "colab": {
          "base_uri": "https://localhost:8080/",
          "height": 119
        },
        "outputId": "56a97f51-3e9a-425e-aa0f-5f099a117fbf"
      },
      "source": [
        "print(df.T.assign(FOUR = 0, FIVE = ['A5', 'B5', 'C5']).T)"
      ],
      "execution_count": 66,
      "outputs": [
        {
          "output_type": "stream",
          "text": [
            "        A   B   C\n",
            "ONE    A1  B1  C1\n",
            "TWO    A2  B2  C2\n",
            "THREE  A3  B3  C3\n",
            "FOUR    0   0   0\n",
            "FIVE   A5  B5  C5\n"
          ],
          "name": "stdout"
        }
      ]
    },
    {
      "cell_type": "code",
      "metadata": {
        "id": "uBu6wFFQlvVy",
        "colab_type": "code",
        "colab": {
          "base_uri": "https://localhost:8080/",
          "height": 102
        },
        "outputId": "f662fec8-95fe-43de-da25-2d371f1dffd1"
      },
      "source": [
        "df_T = df.T\n",
        "df_T.insert(0, 'FOUR', 0)\n",
        "print(df_T.T)"
      ],
      "execution_count": 67,
      "outputs": [
        {
          "output_type": "stream",
          "text": [
            "        A   B   C\n",
            "FOUR    0   0   0\n",
            "ONE    A1  B1  C1\n",
            "TWO    A2  B2  C2\n",
            "THREE  A3  B3  C3\n"
          ],
          "name": "stdout"
        }
      ]
    },
    {
      "cell_type": "code",
      "metadata": {
        "id": "DvJ0RP3emCXj",
        "colab_type": "code",
        "colab": {
          "base_uri": "https://localhost:8080/",
          "height": 85
        },
        "outputId": "80157f78-d2f1-4c4c-8660-8bc5131c5050"
      },
      "source": [
        "import pandas as pd\n",
        "df1 = pd.DataFrame({'A':['A', 'A2', 'A3'],\n",
        "                    'B':['B1', 'B2', 'B3'],\n",
        "                    'C':['C1', 'C2', 'C3']},\n",
        "                   index = ['ONE', 'TWO', 'THREE'])\n",
        "print(df1)"
      ],
      "execution_count": 68,
      "outputs": [
        {
          "output_type": "stream",
          "text": [
            "        A   B   C\n",
            "ONE     A  B1  C1\n",
            "TWO    A2  B2  C2\n",
            "THREE  A3  B3  C3\n"
          ],
          "name": "stdout"
        }
      ]
    },
    {
      "cell_type": "code",
      "metadata": {
        "id": "bk9hJz1Jn2mH",
        "colab_type": "code",
        "colab": {
          "base_uri": "https://localhost:8080/",
          "height": 85
        },
        "outputId": "93a94903-1f6e-45a7-dd49-62c07d5b4eb0"
      },
      "source": [
        "df2 = pd.DataFrame({'C':['C2', 'C3', 'C4'],\n",
        "                    'D':['D2', 'D3', 'D4']},\n",
        "                   index = ['TWO', 'THREE', 'FOUR'])\n",
        "print(df2)"
      ],
      "execution_count": 69,
      "outputs": [
        {
          "output_type": "stream",
          "text": [
            "        C   D\n",
            "TWO    C2  D2\n",
            "THREE  C3  D3\n",
            "FOUR   C4  D4\n"
          ],
          "name": "stdout"
        }
      ]
    },
    {
      "cell_type": "code",
      "metadata": {
        "id": "aXvHZuproDHQ",
        "colab_type": "code",
        "colab": {
          "base_uri": "https://localhost:8080/",
          "height": 153
        },
        "outputId": "28804129-9195-46bf-d2e5-f90bca78097a"
      },
      "source": [
        "s1 = pd.Series(['X1', 'X2', 'X3'], index = ['ONE', 'TWO', 'THREE'], name = 'X')\n",
        "print(s1)\n",
        "s2 = pd.Series(['Y2', 'Y3', 'Y4'], index = ['TWO', 'THREE', 'FOUR'], name = 'Y')\n",
        "print(s2)"
      ],
      "execution_count": 70,
      "outputs": [
        {
          "output_type": "stream",
          "text": [
            "ONE      X1\n",
            "TWO      X2\n",
            "THREE    X3\n",
            "Name: X, dtype: object\n",
            "TWO      Y2\n",
            "THREE    Y3\n",
            "FOUR     Y4\n",
            "Name: Y, dtype: object\n"
          ],
          "name": "stdout"
        }
      ]
    },
    {
      "cell_type": "code",
      "metadata": {
        "id": "row9-W3MoS9w",
        "colab_type": "code",
        "colab": {
          "base_uri": "https://localhost:8080/",
          "height": 136
        },
        "outputId": "69d92c03-a510-4cfd-98c5-97fcfa1aa6f3"
      },
      "source": [
        "df_concat = pd.concat([df1, df2])\n",
        "print(df_concat)"
      ],
      "execution_count": 71,
      "outputs": [
        {
          "output_type": "stream",
          "text": [
            "         A    B   C    D\n",
            "ONE      A   B1  C1  NaN\n",
            "TWO     A2   B2  C2  NaN\n",
            "THREE   A3   B3  C3  NaN\n",
            "TWO    NaN  NaN  C2   D2\n",
            "THREE  NaN  NaN  C3   D3\n",
            "FOUR   NaN  NaN  C4   D4\n"
          ],
          "name": "stdout"
        }
      ]
    },
    {
      "cell_type": "code",
      "metadata": {
        "id": "SaZ-EUiroX-x",
        "colab_type": "code",
        "colab": {
          "base_uri": "https://localhost:8080/",
          "height": 187
        },
        "outputId": "394fb9bc-eddc-4649-ca07-1bd441fbc318"
      },
      "source": [
        "df_concat_multi = pd.concat([df1,df2, df1])\n",
        "print(df_concat_multi)"
      ],
      "execution_count": 72,
      "outputs": [
        {
          "output_type": "stream",
          "text": [
            "         A    B   C    D\n",
            "ONE      A   B1  C1  NaN\n",
            "TWO     A2   B2  C2  NaN\n",
            "THREE   A3   B3  C3  NaN\n",
            "TWO    NaN  NaN  C2   D2\n",
            "THREE  NaN  NaN  C3   D3\n",
            "FOUR   NaN  NaN  C4   D4\n",
            "ONE      A   B1  C1  NaN\n",
            "TWO     A2   B2  C2  NaN\n",
            "THREE   A3   B3  C3  NaN\n"
          ],
          "name": "stdout"
        }
      ]
    },
    {
      "cell_type": "code",
      "metadata": {
        "id": "Tvt3WGwhofmn",
        "colab_type": "code",
        "colab": {
          "base_uri": "https://localhost:8080/",
          "height": 136
        },
        "outputId": "202744c4-c47b-494e-88b7-b878f810bc1b"
      },
      "source": [
        "df_v = pd.concat([df1, df2], axis = 0)\n",
        "print(df_v)"
      ],
      "execution_count": 73,
      "outputs": [
        {
          "output_type": "stream",
          "text": [
            "         A    B   C    D\n",
            "ONE      A   B1  C1  NaN\n",
            "TWO     A2   B2  C2  NaN\n",
            "THREE   A3   B3  C3  NaN\n",
            "TWO    NaN  NaN  C2   D2\n",
            "THREE  NaN  NaN  C3   D3\n",
            "FOUR   NaN  NaN  C4   D4\n"
          ],
          "name": "stdout"
        }
      ]
    },
    {
      "cell_type": "code",
      "metadata": {
        "id": "j_-dbCo3ok3I",
        "colab_type": "code",
        "colab": {
          "base_uri": "https://localhost:8080/",
          "height": 102
        },
        "outputId": "4ffe5dc5-7e94-4e0a-b58d-0cedcf949b34"
      },
      "source": [
        "df_h = pd.concat([df1, df2], axis = 1)\n",
        "print(df_h)"
      ],
      "execution_count": 74,
      "outputs": [
        {
          "output_type": "stream",
          "text": [
            "         A    B    C    C    D\n",
            "ONE      A   B1   C1  NaN  NaN\n",
            "TWO     A2   B2   C2   C2   D2\n",
            "THREE   A3   B3   C3   C3   D3\n",
            "FOUR   NaN  NaN  NaN   C4   D4\n"
          ],
          "name": "stdout"
        }
      ]
    },
    {
      "cell_type": "code",
      "metadata": {
        "id": "tuoRgwjoorZH",
        "colab_type": "code",
        "colab": {
          "base_uri": "https://localhost:8080/",
          "height": 136
        },
        "outputId": "ac707782-70cd-42a2-9bbb-98ac7a57d61d"
      },
      "source": [
        "df_v_out = pd.concat([df1, df2], join = 'outer')\n",
        "print(df_v_out)"
      ],
      "execution_count": 75,
      "outputs": [
        {
          "output_type": "stream",
          "text": [
            "         A    B   C    D\n",
            "ONE      A   B1  C1  NaN\n",
            "TWO     A2   B2  C2  NaN\n",
            "THREE   A3   B3  C3  NaN\n",
            "TWO    NaN  NaN  C2   D2\n",
            "THREE  NaN  NaN  C3   D3\n",
            "FOUR   NaN  NaN  C4   D4\n"
          ],
          "name": "stdout"
        }
      ]
    },
    {
      "cell_type": "code",
      "metadata": {
        "id": "6nhqtpBno6U3",
        "colab_type": "code",
        "colab": {
          "base_uri": "https://localhost:8080/",
          "height": 136
        },
        "outputId": "16bc6d03-d5e0-4181-bed7-8169f61bd6f3"
      },
      "source": [
        "df_v_in = pd.concat([df1, df2], join = 'inner')\n",
        "print(df_v_in)"
      ],
      "execution_count": 76,
      "outputs": [
        {
          "output_type": "stream",
          "text": [
            "        C\n",
            "ONE    C1\n",
            "TWO    C2\n",
            "THREE  C3\n",
            "TWO    C2\n",
            "THREE  C3\n",
            "FOUR   C4\n"
          ],
          "name": "stdout"
        }
      ]
    },
    {
      "cell_type": "code",
      "metadata": {
        "id": "N5dJ_jI1o-Tn",
        "colab_type": "code",
        "colab": {
          "base_uri": "https://localhost:8080/",
          "height": 68
        },
        "outputId": "7a736d80-7403-4404-becb-82c603793cd8"
      },
      "source": [
        "df_h_out = pd.concat([df1, df2], axis = 1, join = 'outer')\n",
        "df_h_in = pd.concat([df1, df2], axis = 1, join = 'inner')\n",
        "print(df_h_in)"
      ],
      "execution_count": 77,
      "outputs": [
        {
          "output_type": "stream",
          "text": [
            "        A   B   C   C   D\n",
            "TWO    A2  B2  C2  C2  D2\n",
            "THREE  A3  B3  C3  C3  D3\n"
          ],
          "name": "stdout"
        }
      ]
    },
    {
      "cell_type": "code",
      "metadata": {
        "id": "5yEJp58LpOVg",
        "colab_type": "code",
        "colab": {
          "base_uri": "https://localhost:8080/",
          "height": 153
        },
        "outputId": "f8f5f4d0-fe14-4a05-d936-7d7764ac60a4"
      },
      "source": [
        "df_concat = pd.concat([df1, df2])\n",
        "print(df_concat)\n",
        "print(type(df_concat))"
      ],
      "execution_count": 78,
      "outputs": [
        {
          "output_type": "stream",
          "text": [
            "         A    B   C    D\n",
            "ONE      A   B1  C1  NaN\n",
            "TWO     A2   B2  C2  NaN\n",
            "THREE   A3   B3  C3  NaN\n",
            "TWO    NaN  NaN  C2   D2\n",
            "THREE  NaN  NaN  C3   D3\n",
            "FOUR   NaN  NaN  C4   D4\n",
            "<class 'pandas.core.frame.DataFrame'>\n"
          ],
          "name": "stdout"
        }
      ]
    },
    {
      "cell_type": "code",
      "metadata": {
        "id": "YDOe0WcWph8u",
        "colab_type": "code",
        "colab": {
          "base_uri": "https://localhost:8080/",
          "height": 153
        },
        "outputId": "ac668e2c-7757-4e9f-82a0-9147fa6d623e"
      },
      "source": [
        "s_v = pd.concat([s1, s2])\n",
        "print(s_v)\n",
        "print(type(s_v))"
      ],
      "execution_count": 79,
      "outputs": [
        {
          "output_type": "stream",
          "text": [
            "ONE      X1\n",
            "TWO      X2\n",
            "THREE    X3\n",
            "TWO      Y2\n",
            "THREE    Y3\n",
            "FOUR     Y4\n",
            "dtype: object\n",
            "<class 'pandas.core.series.Series'>\n"
          ],
          "name": "stdout"
        }
      ]
    },
    {
      "cell_type": "code",
      "metadata": {
        "id": "7wuupVOlprbu",
        "colab_type": "code",
        "colab": {
          "base_uri": "https://localhost:8080/",
          "height": 119
        },
        "outputId": "3d9ffeca-1622-4560-b70f-942714d21058"
      },
      "source": [
        "s_h = pd.concat([s1, s2], axis = 1)\n",
        "print(s_h)\n",
        "print(type(s_h))"
      ],
      "execution_count": 80,
      "outputs": [
        {
          "output_type": "stream",
          "text": [
            "         X    Y\n",
            "ONE     X1  NaN\n",
            "TWO     X2   Y2\n",
            "THREE   X3   Y3\n",
            "FOUR   NaN   Y4\n",
            "<class 'pandas.core.frame.DataFrame'>\n"
          ],
          "name": "stdout"
        }
      ]
    },
    {
      "cell_type": "code",
      "metadata": {
        "id": "5OdNMKy3p35p",
        "colab_type": "code",
        "colab": {
          "base_uri": "https://localhost:8080/",
          "height": 68
        },
        "outputId": "780f3f99-4361-4d0a-d1b1-3c5c2857381f"
      },
      "source": [
        "s_h_in = pd.concat([s1, s2], axis = 1, join = 'inner')\n",
        "print(s_h_in)"
      ],
      "execution_count": 81,
      "outputs": [
        {
          "output_type": "stream",
          "text": [
            "        X   Y\n",
            "TWO    X2  Y2\n",
            "THREE  X3  Y3\n"
          ],
          "name": "stdout"
        }
      ]
    },
    {
      "cell_type": "code",
      "metadata": {
        "id": "g1-M6tFIp8e_",
        "colab_type": "code",
        "colab": {
          "base_uri": "https://localhost:8080/",
          "height": 102
        },
        "outputId": "6255195c-a28c-4879-ef7a-89a43facb637"
      },
      "source": [
        "df_s_h = pd.concat([df1, s2], axis = 1)\n",
        "print(df_s_h)"
      ],
      "execution_count": 82,
      "outputs": [
        {
          "output_type": "stream",
          "text": [
            "         A    B    C    Y\n",
            "ONE      A   B1   C1  NaN\n",
            "TWO     A2   B2   C2   Y2\n",
            "THREE   A3   B3   C3   Y3\n",
            "FOUR   NaN  NaN  NaN   Y4\n"
          ],
          "name": "stdout"
        }
      ]
    },
    {
      "cell_type": "code",
      "metadata": {
        "id": "8Ntp7ws5qDbR",
        "colab_type": "code",
        "colab": {
          "base_uri": "https://localhost:8080/",
          "height": 68
        },
        "outputId": "cebd67bc-9289-4a3a-d53d-7e443b69757b"
      },
      "source": [
        "df_s_h_in = pd.concat([df1, s2], axis = 1, join = 'inner')\n",
        "print(df_s_h_in)"
      ],
      "execution_count": 83,
      "outputs": [
        {
          "output_type": "stream",
          "text": [
            "        A   B   C   Y\n",
            "TWO    A2  B2  C2  Y2\n",
            "THREE  A3  B3  C3  Y3\n"
          ],
          "name": "stdout"
        }
      ]
    },
    {
      "cell_type": "code",
      "metadata": {
        "id": "raBmdDkxqIuv",
        "colab_type": "code",
        "colab": {
          "base_uri": "https://localhost:8080/",
          "height": 136
        },
        "outputId": "07565470-7819-43d6-b23e-6e5dcc15e43b"
      },
      "source": [
        "df_s_v = pd.concat([df1, s2])\n",
        "print(df_s_v)"
      ],
      "execution_count": 84,
      "outputs": [
        {
          "output_type": "stream",
          "text": [
            "         A    B    C    0\n",
            "ONE      A   B1   C1  NaN\n",
            "TWO     A2   B2   C2  NaN\n",
            "THREE   A3   B3   C3  NaN\n",
            "TWO    NaN  NaN  NaN   Y2\n",
            "THREE  NaN  NaN  NaN   Y3\n",
            "FOUR   NaN  NaN  NaN   Y4\n"
          ],
          "name": "stdout"
        }
      ]
    },
    {
      "cell_type": "code",
      "metadata": {
        "id": "FWcFA9bUqMzP",
        "colab_type": "code",
        "colab": {
          "base_uri": "https://localhost:8080/",
          "height": 102
        },
        "outputId": "c7baa45a-24a3-4c47-86dd-57ce1163f233"
      },
      "source": [
        "df1.loc['FOUR'] = ['A4', 'B4', 'C4']\n",
        "print(df1)"
      ],
      "execution_count": 85,
      "outputs": [
        {
          "output_type": "stream",
          "text": [
            "        A   B   C\n",
            "ONE     A  B1  C1\n",
            "TWO    A2  B2  C2\n",
            "THREE  A3  B3  C3\n",
            "FOUR   A4  B4  C4\n"
          ],
          "name": "stdout"
        }
      ]
    },
    {
      "cell_type": "code",
      "metadata": {
        "id": "Uq6fKhNtqWle",
        "colab_type": "code",
        "colab": {
          "base_uri": "https://localhost:8080/",
          "height": 85
        },
        "outputId": "092494f4-4658-42c8-854d-3bf7eedb0f97"
      },
      "source": [
        "s = pd.Series(['A5', 'B5', 'C5'], index=df1.columns, name = 'FIVE')\n",
        "print(s)"
      ],
      "execution_count": 86,
      "outputs": [
        {
          "output_type": "stream",
          "text": [
            "A    A5\n",
            "B    B5\n",
            "C    C5\n",
            "Name: FIVE, dtype: object\n"
          ],
          "name": "stdout"
        }
      ]
    },
    {
      "cell_type": "code",
      "metadata": {
        "id": "9xOXH5fvqcpn",
        "colab_type": "code",
        "colab": {
          "base_uri": "https://localhost:8080/",
          "height": 119
        },
        "outputId": "8305a98a-e19b-43b8-ce1f-1410146a811b"
      },
      "source": [
        "df_append = df1.append(s)\n",
        "print(df_append)"
      ],
      "execution_count": 88,
      "outputs": [
        {
          "output_type": "stream",
          "text": [
            "        A   B   C\n",
            "ONE     A  B1  C1\n",
            "TWO    A2  B2  C2\n",
            "THREE  A3  B3  C3\n",
            "FOUR   A4  B4  C4\n",
            "FIVE   A5  B5  C5\n"
          ],
          "name": "stdout"
        }
      ]
    },
    {
      "cell_type": "code",
      "metadata": {
        "id": "eXeHUas2qgsV",
        "colab_type": "code",
        "colab": {}
      },
      "source": [
        "import pandas as pd\n",
        "\n",
        "df_ab = pd.DataFrame({'a': ['a_1', 'a_2', 'a_3'], 'b': ['b_1', 'b_2', 'b_3']})\n",
        "df_ac = pd.DataFrame({'a': ['a_1', 'a_2', 'a_4'], 'c': ['c_1', 'c_2', 'c_4']})"
      ],
      "execution_count": 89,
      "outputs": []
    },
    {
      "cell_type": "code",
      "metadata": {
        "id": "TXyr2YNBq9o2",
        "colab_type": "code",
        "colab": {
          "base_uri": "https://localhost:8080/",
          "height": 85
        },
        "outputId": "fc22cfb2-2d48-4baf-cbf5-2dc4c085a411"
      },
      "source": [
        "print(df_ab)"
      ],
      "execution_count": 90,
      "outputs": [
        {
          "output_type": "stream",
          "text": [
            "     a    b\n",
            "0  a_1  b_1\n",
            "1  a_2  b_2\n",
            "2  a_3  b_3\n"
          ],
          "name": "stdout"
        }
      ]
    },
    {
      "cell_type": "code",
      "metadata": {
        "id": "EMACe0_Sq-aB",
        "colab_type": "code",
        "colab": {
          "base_uri": "https://localhost:8080/",
          "height": 85
        },
        "outputId": "deb18266-9456-4d46-db8e-01bebf40a4c0"
      },
      "source": [
        "print(df_ac)"
      ],
      "execution_count": 91,
      "outputs": [
        {
          "output_type": "stream",
          "text": [
            "     a    c\n",
            "0  a_1  c_1\n",
            "1  a_2  c_2\n",
            "2  a_4  c_4\n"
          ],
          "name": "stdout"
        }
      ]
    },
    {
      "cell_type": "code",
      "metadata": {
        "id": "Nqnv0tezq_0m",
        "colab_type": "code",
        "colab": {
          "base_uri": "https://localhost:8080/",
          "height": 68
        },
        "outputId": "618b96c5-bacf-4ea5-d99e-6e59482b5dec"
      },
      "source": [
        "print(pd.merge(df_ab, df_ac))"
      ],
      "execution_count": 92,
      "outputs": [
        {
          "output_type": "stream",
          "text": [
            "     a    b    c\n",
            "0  a_1  b_1  c_1\n",
            "1  a_2  b_2  c_2\n"
          ],
          "name": "stdout"
        }
      ]
    },
    {
      "cell_type": "code",
      "metadata": {
        "id": "Gyo8dLuWrD3_",
        "colab_type": "code",
        "colab": {
          "base_uri": "https://localhost:8080/",
          "height": 68
        },
        "outputId": "2bf541d6-0ad4-4883-b941-406f72686eff"
      },
      "source": [
        "print(df_ab.merge(df_ac))"
      ],
      "execution_count": 93,
      "outputs": [
        {
          "output_type": "stream",
          "text": [
            "     a    b    c\n",
            "0  a_1  b_1  c_1\n",
            "1  a_2  b_2  c_2\n"
          ],
          "name": "stdout"
        }
      ]
    },
    {
      "cell_type": "code",
      "metadata": {
        "id": "HzYLyz4nrMUm",
        "colab_type": "code",
        "colab": {
          "base_uri": "https://localhost:8080/",
          "height": 68
        },
        "outputId": "e801b129-8fd4-4398-d590-a06203ed06ad"
      },
      "source": [
        "print(pd.merge(df_ab, df_ac, on = 'a'))"
      ],
      "execution_count": 94,
      "outputs": [
        {
          "output_type": "stream",
          "text": [
            "     a    b    c\n",
            "0  a_1  b_1  c_1\n",
            "1  a_2  b_2  c_2\n"
          ],
          "name": "stdout"
        }
      ]
    },
    {
      "cell_type": "code",
      "metadata": {
        "id": "qE7ZfdPzrR3W",
        "colab_type": "code",
        "colab": {
          "base_uri": "https://localhost:8080/",
          "height": 85
        },
        "outputId": "41441c73-1762-4d84-938f-994229432a9c"
      },
      "source": [
        "df_ac_ = df_ac.rename(columns = {'a':'a_'})\n",
        "print(df_ac_)"
      ],
      "execution_count": 95,
      "outputs": [
        {
          "output_type": "stream",
          "text": [
            "    a_    c\n",
            "0  a_1  c_1\n",
            "1  a_2  c_2\n",
            "2  a_4  c_4\n"
          ],
          "name": "stdout"
        }
      ]
    },
    {
      "cell_type": "code",
      "metadata": {
        "id": "koJGqc8arZil",
        "colab_type": "code",
        "colab": {
          "base_uri": "https://localhost:8080/",
          "height": 68
        },
        "outputId": "b9ce6356-9ff7-4d29-985f-4e5e4b36d6a2"
      },
      "source": [
        "print(pd.merge(df_ab, df_ac_, left_on = 'a', right_on = 'a_'))"
      ],
      "execution_count": 96,
      "outputs": [
        {
          "output_type": "stream",
          "text": [
            "     a    b   a_    c\n",
            "0  a_1  b_1  a_1  c_1\n",
            "1  a_2  b_2  a_2  c_2\n"
          ],
          "name": "stdout"
        }
      ]
    },
    {
      "cell_type": "code",
      "metadata": {
        "id": "gQkx8R8Mrgz-",
        "colab_type": "code",
        "colab": {
          "base_uri": "https://localhost:8080/",
          "height": 68
        },
        "outputId": "cc9d9dd7-12d5-4f21-b3fc-ecfad222b681"
      },
      "source": [
        "print(pd.merge(df_ab, df_ac_, left_on = 'a', right_on='a_').drop(columns = 'a_'))"
      ],
      "execution_count": 97,
      "outputs": [
        {
          "output_type": "stream",
          "text": [
            "     a    b    c\n",
            "0  a_1  b_1  c_1\n",
            "1  a_2  b_2  c_2\n"
          ],
          "name": "stdout"
        }
      ]
    },
    {
      "cell_type": "code",
      "metadata": {
        "id": "WmrpsZdjrrm2",
        "colab_type": "code",
        "colab": {
          "base_uri": "https://localhost:8080/",
          "height": 68
        },
        "outputId": "d563387a-1e57-4ce2-c229-c7ce25c0824f"
      },
      "source": [
        "print(pd.merge(df_ab, df_ac, on = 'a', how='inner'))"
      ],
      "execution_count": 98,
      "outputs": [
        {
          "output_type": "stream",
          "text": [
            "     a    b    c\n",
            "0  a_1  b_1  c_1\n",
            "1  a_2  b_2  c_2\n"
          ],
          "name": "stdout"
        }
      ]
    },
    {
      "cell_type": "code",
      "metadata": {
        "id": "87VXR9p4rx3-",
        "colab_type": "code",
        "colab": {
          "base_uri": "https://localhost:8080/",
          "height": 85
        },
        "outputId": "17b4381c-af26-4ece-efa1-572a3695c13c"
      },
      "source": [
        "print(pd.merge(df_ab, df_ac, on='a', how='left'))"
      ],
      "execution_count": 99,
      "outputs": [
        {
          "output_type": "stream",
          "text": [
            "     a    b    c\n",
            "0  a_1  b_1  c_1\n",
            "1  a_2  b_2  c_2\n",
            "2  a_3  b_3  NaN\n"
          ],
          "name": "stdout"
        }
      ]
    },
    {
      "cell_type": "code",
      "metadata": {
        "id": "NnM8V37fr8Gc",
        "colab_type": "code",
        "colab": {
          "base_uri": "https://localhost:8080/",
          "height": 85
        },
        "outputId": "1d62de53-10a2-4c4c-bfbe-2f35b3e4619e"
      },
      "source": [
        "print(pd.merge(df_ab, df_ac, on='a', how='right'))"
      ],
      "execution_count": 100,
      "outputs": [
        {
          "output_type": "stream",
          "text": [
            "     a    b    c\n",
            "0  a_1  b_1  c_1\n",
            "1  a_2  b_2  c_2\n",
            "2  a_4  NaN  c_4\n"
          ],
          "name": "stdout"
        }
      ]
    },
    {
      "cell_type": "code",
      "metadata": {
        "id": "KfikN1YRr_rW",
        "colab_type": "code",
        "colab": {
          "base_uri": "https://localhost:8080/",
          "height": 102
        },
        "outputId": "735e9f52-4aec-4f83-ddaa-9252324434ce"
      },
      "source": [
        "print(pd.merge(df_ab, df_ac, on='a', how = 'outer'))"
      ],
      "execution_count": 101,
      "outputs": [
        {
          "output_type": "stream",
          "text": [
            "     a    b    c\n",
            "0  a_1  b_1  c_1\n",
            "1  a_2  b_2  c_2\n",
            "2  a_3  b_3  NaN\n",
            "3  a_4  NaN  c_4\n"
          ],
          "name": "stdout"
        }
      ]
    },
    {
      "cell_type": "code",
      "metadata": {
        "id": "hciNqpgnsRAy",
        "colab_type": "code",
        "colab": {
          "base_uri": "https://localhost:8080/",
          "height": 68
        },
        "outputId": "cfbabf65-0f15-4641-8e2e-14de370bff82"
      },
      "source": [
        "print(pd.merge(df_ab, df_ac, on ='a', how='inner', indicator = True))\n"
      ],
      "execution_count": 102,
      "outputs": [
        {
          "output_type": "stream",
          "text": [
            "     a    b    c _merge\n",
            "0  a_1  b_1  c_1   both\n",
            "1  a_2  b_2  c_2   both\n"
          ],
          "name": "stdout"
        }
      ]
    },
    {
      "cell_type": "code",
      "metadata": {
        "id": "wyLrbZnossXD",
        "colab_type": "code",
        "colab": {
          "base_uri": "https://localhost:8080/",
          "height": 102
        },
        "outputId": "f409c629-76dc-4608-b5aa-a71fd548c441"
      },
      "source": [
        "print(pd.merge(df_ab, df_ac, on='a', how='outer', indicator = True))"
      ],
      "execution_count": 104,
      "outputs": [
        {
          "output_type": "stream",
          "text": [
            "     a    b    c      _merge\n",
            "0  a_1  b_1  c_1        both\n",
            "1  a_2  b_2  c_2        both\n",
            "2  a_3  b_3  NaN   left_only\n",
            "3  a_4  NaN  c_4  right_only\n"
          ],
          "name": "stdout"
        }
      ]
    },
    {
      "cell_type": "code",
      "metadata": {
        "id": "NGeSuE9Ps0Km",
        "colab_type": "code",
        "colab": {
          "base_uri": "https://localhost:8080/",
          "height": 102
        },
        "outputId": "a44c4896-75c8-4516-9ec0-356e0ce3d1e3"
      },
      "source": [
        "print(pd.merge(df_ab, df_ac, on='a', how = 'outer', indicator = 'indicator'))"
      ],
      "execution_count": 105,
      "outputs": [
        {
          "output_type": "stream",
          "text": [
            "     a    b    c   indicator\n",
            "0  a_1  b_1  c_1        both\n",
            "1  a_2  b_2  c_2        both\n",
            "2  a_3  b_3  NaN   left_only\n",
            "3  a_4  NaN  c_4  right_only\n"
          ],
          "name": "stdout"
        }
      ]
    },
    {
      "cell_type": "code",
      "metadata": {
        "id": "9MK25wx2s-se",
        "colab_type": "code",
        "colab": {
          "base_uri": "https://localhost:8080/",
          "height": 85
        },
        "outputId": "7b79ecf7-351f-4c4e-8f39-1783c35e1962"
      },
      "source": [
        "df_ac_b = df_ac.rename(columns = {'c':'b'})\n",
        "print(df_ac_b)"
      ],
      "execution_count": 106,
      "outputs": [
        {
          "output_type": "stream",
          "text": [
            "     a    b\n",
            "0  a_1  c_1\n",
            "1  a_2  c_2\n",
            "2  a_4  c_4\n"
          ],
          "name": "stdout"
        }
      ]
    },
    {
      "cell_type": "code",
      "metadata": {
        "id": "ns-l7c3htIJG",
        "colab_type": "code",
        "colab": {
          "base_uri": "https://localhost:8080/",
          "height": 68
        },
        "outputId": "dbd96e85-17ec-4451-88fa-e2ea209c7a2c"
      },
      "source": [
        "print(pd.merge(df_ab, df_ac_b, on = 'a'))"
      ],
      "execution_count": 107,
      "outputs": [
        {
          "output_type": "stream",
          "text": [
            "     a  b_x  b_y\n",
            "0  a_1  b_1  c_1\n",
            "1  a_2  b_2  c_2\n"
          ],
          "name": "stdout"
        }
      ]
    },
    {
      "cell_type": "code",
      "metadata": {
        "id": "Z0MEyFtMtOrt",
        "colab_type": "code",
        "colab": {
          "base_uri": "https://localhost:8080/",
          "height": 68
        },
        "outputId": "2e3ffd82-d13a-43fc-98b5-3076698888ee"
      },
      "source": [
        "print(pd.merge(df_ab, df_ac_b, on ='a', suffixes = ['_left', '_right']))"
      ],
      "execution_count": 108,
      "outputs": [
        {
          "output_type": "stream",
          "text": [
            "     a b_left b_right\n",
            "0  a_1    b_1     c_1\n",
            "1  a_2    b_2     c_2\n"
          ],
          "name": "stdout"
        }
      ]
    },
    {
      "cell_type": "code",
      "metadata": {
        "id": "DyuH98cStWYN",
        "colab_type": "code",
        "colab": {
          "base_uri": "https://localhost:8080/",
          "height": 153
        },
        "outputId": "4667f495-a951-4700-b2d4-0ec409a67e65"
      },
      "source": [
        "df_abx = df_ab.assign(x = ['x_2', 'x_2', 'x_3'])\n",
        "df_acx = df_ac.assign(x = ['x_1', 'x_2', 'x_2'])\n",
        "print(df_abx)\n",
        "print(df_acx)"
      ],
      "execution_count": 109,
      "outputs": [
        {
          "output_type": "stream",
          "text": [
            "     a    b    x\n",
            "0  a_1  b_1  x_2\n",
            "1  a_2  b_2  x_2\n",
            "2  a_3  b_3  x_3\n",
            "     a    c    x\n",
            "0  a_1  c_1  x_1\n",
            "1  a_2  c_2  x_2\n",
            "2  a_4  c_4  x_2\n"
          ],
          "name": "stdout"
        }
      ]
    },
    {
      "cell_type": "code",
      "metadata": {
        "id": "TWZVLOMytuPm",
        "colab_type": "code",
        "colab": {
          "base_uri": "https://localhost:8080/",
          "height": 85
        },
        "outputId": "928c7ee8-f1d3-49ae-ac54-c0de2bedb91a"
      },
      "source": [
        "print(pd.merge(df_abx, df_acx))\n",
        "print(pd.merge(df_abx, df_acx, on = ['a', 'x']))"
      ],
      "execution_count": 110,
      "outputs": [
        {
          "output_type": "stream",
          "text": [
            "     a    b    x    c\n",
            "0  a_2  b_2  x_2  c_2\n",
            "     a    b    x    c\n",
            "0  a_2  b_2  x_2  c_2\n"
          ],
          "name": "stdout"
        }
      ]
    },
    {
      "cell_type": "code",
      "metadata": {
        "id": "h_J0nppVt6ma",
        "colab_type": "code",
        "colab": {
          "base_uri": "https://localhost:8080/",
          "height": 68
        },
        "outputId": "88dd3f9b-9de3-4f38-bc07-b7e31313d5de"
      },
      "source": [
        "print(pd.merge(df_abx, df_acx, on = 'a'))"
      ],
      "execution_count": 111,
      "outputs": [
        {
          "output_type": "stream",
          "text": [
            "     a    b  x_x    c  x_y\n",
            "0  a_1  b_1  x_2  c_1  x_1\n",
            "1  a_2  b_2  x_2  c_2  x_2\n"
          ],
          "name": "stdout"
        }
      ]
    },
    {
      "cell_type": "code",
      "metadata": {
        "id": "eb59xCE6uAdd",
        "colab_type": "code",
        "colab": {
          "base_uri": "https://localhost:8080/",
          "height": 119
        },
        "outputId": "04047d53-4a88-4f1b-8369-fc6a580f20f8"
      },
      "source": [
        "df_acx_ = df_acx.rename(columns = {'x': 'x_'})\n",
        "print(df_acx_)\n",
        "print(pd.merge(df_abx, df_acx_, left_on = ['a', 'x'], right_on = ['a', 'x_']))"
      ],
      "execution_count": 113,
      "outputs": [
        {
          "output_type": "stream",
          "text": [
            "     a    c   x_\n",
            "0  a_1  c_1  x_1\n",
            "1  a_2  c_2  x_2\n",
            "2  a_4  c_4  x_2\n",
            "     a    b    x    c   x_\n",
            "0  a_2  b_2  x_2  c_2  x_2\n"
          ],
          "name": "stdout"
        }
      ]
    },
    {
      "cell_type": "code",
      "metadata": {
        "id": "ogVx7s8FuUZV",
        "colab_type": "code",
        "colab": {
          "base_uri": "https://localhost:8080/",
          "height": 289
        },
        "outputId": "42fcefb4-84c5-4f6b-f489-c87847a1c5d7"
      },
      "source": [
        "print(pd.merge(df_abx, df_acx, on = ['a', 'x'], how = 'inner'))\n",
        "print(pd.merge(df_abx, df_acx, on = ['a', 'x'], how = 'left'))\n",
        "print(pd.merge(df_abx, df_acx, on = ['a', 'x'],how = 'right'))\n",
        "print(pd.merge(df_abx, df_acx, on = ['a', 'x'], how = 'outer'))"
      ],
      "execution_count": 114,
      "outputs": [
        {
          "output_type": "stream",
          "text": [
            "     a    b    x    c\n",
            "0  a_2  b_2  x_2  c_2\n",
            "     a    b    x    c\n",
            "0  a_1  b_1  x_2  NaN\n",
            "1  a_2  b_2  x_2  c_2\n",
            "2  a_3  b_3  x_3  NaN\n",
            "     a    b    x    c\n",
            "0  a_2  b_2  x_2  c_2\n",
            "1  a_1  NaN  x_1  c_1\n",
            "2  a_4  NaN  x_2  c_4\n",
            "     a    b    x    c\n",
            "0  a_1  b_1  x_2  NaN\n",
            "1  a_2  b_2  x_2  c_2\n",
            "2  a_3  b_3  x_3  NaN\n",
            "3  a_1  NaN  x_1  c_1\n",
            "4  a_4  NaN  x_2  c_4\n"
          ],
          "name": "stdout"
        }
      ]
    },
    {
      "cell_type": "code",
      "metadata": {
        "id": "m2i6SUGuvOiR",
        "colab_type": "code",
        "colab": {
          "base_uri": "https://localhost:8080/",
          "height": 119
        },
        "outputId": "29c4f89b-7f61-42fa-d76a-8dc594096663"
      },
      "source": [
        "print(pd.merge(df_abx, df_acx, on = ['a', 'x'], how = 'outer', sort = True))"
      ],
      "execution_count": 115,
      "outputs": [
        {
          "output_type": "stream",
          "text": [
            "     a    b    x    c\n",
            "0  a_1  NaN  x_1  c_1\n",
            "1  a_1  b_1  x_2  NaN\n",
            "2  a_2  b_2  x_2  c_2\n",
            "3  a_3  b_3  x_3  NaN\n",
            "4  a_4  NaN  x_2  c_4\n"
          ],
          "name": "stdout"
        }
      ]
    },
    {
      "cell_type": "code",
      "metadata": {
        "id": "HG2mMKyZvdL9",
        "colab_type": "code",
        "colab": {
          "base_uri": "https://localhost:8080/",
          "height": 153
        },
        "outputId": "dfb30d74-f901-479d-f8d6-1f5f93a4aaa9"
      },
      "source": [
        "df_ac_i = df_ac.set_index('a')\n",
        "print(df_ac_i)\n",
        "print(pd.merge(df_ab, df_ac_i, left_on = 'a', right_index = True))"
      ],
      "execution_count": 116,
      "outputs": [
        {
          "output_type": "stream",
          "text": [
            "       c\n",
            "a       \n",
            "a_1  c_1\n",
            "a_2  c_2\n",
            "a_4  c_4\n",
            "     a    b    c\n",
            "0  a_1  b_1  c_1\n",
            "1  a_2  b_2  c_2\n"
          ],
          "name": "stdout"
        }
      ]
    },
    {
      "cell_type": "code",
      "metadata": {
        "id": "83ZKdjivv9ht",
        "colab_type": "code",
        "colab": {
          "base_uri": "https://localhost:8080/",
          "height": 170
        },
        "outputId": "9d387b5d-814b-4ecf-b01e-21ba77441ebf"
      },
      "source": [
        "df_ab_i = df_ab.set_index('a')\n",
        "print(df_ab_i)\n",
        "print(pd.merge(df_ab_i, df_ac_i, left_index = True, right_index = True))"
      ],
      "execution_count": 117,
      "outputs": [
        {
          "output_type": "stream",
          "text": [
            "       b\n",
            "a       \n",
            "a_1  b_1\n",
            "a_2  b_2\n",
            "a_3  b_3\n",
            "       b    c\n",
            "a            \n",
            "a_1  b_1  c_1\n",
            "a_2  b_2  c_2\n"
          ],
          "name": "stdout"
        }
      ]
    },
    {
      "cell_type": "code",
      "metadata": {
        "id": "fBLVGdLYwFdz",
        "colab_type": "code",
        "colab": {
          "base_uri": "https://localhost:8080/",
          "height": 187
        },
        "outputId": "ab4dfa4d-5b9a-41fd-9970-3df2947bc6e2"
      },
      "source": [
        "print(df_ab_i)\n",
        "print(df_ac_i)"
      ],
      "execution_count": 118,
      "outputs": [
        {
          "output_type": "stream",
          "text": [
            "       b\n",
            "a       \n",
            "a_1  b_1\n",
            "a_2  b_2\n",
            "a_3  b_3\n",
            "       c\n",
            "a       \n",
            "a_1  c_1\n",
            "a_2  c_2\n",
            "a_4  c_4\n"
          ],
          "name": "stdout"
        }
      ]
    },
    {
      "cell_type": "code",
      "metadata": {
        "id": "RmjDn8Ylwaa6",
        "colab_type": "code",
        "colab": {
          "base_uri": "https://localhost:8080/",
          "height": 102
        },
        "outputId": "8487974b-487f-41ee-c908-e016ed9fce76"
      },
      "source": [
        "print(df_ab_i.join(df_ac_i))"
      ],
      "execution_count": 119,
      "outputs": [
        {
          "output_type": "stream",
          "text": [
            "       b    c\n",
            "a            \n",
            "a_1  b_1  c_1\n",
            "a_2  b_2  c_2\n",
            "a_3  b_3  NaN\n"
          ],
          "name": "stdout"
        }
      ]
    },
    {
      "cell_type": "code",
      "metadata": {
        "id": "fNkwX6sQwcnk",
        "colab_type": "code",
        "colab": {
          "base_uri": "https://localhost:8080/",
          "height": 85
        },
        "outputId": "3f3eefc9-8689-4920-86cc-55f266c48fae"
      },
      "source": [
        "print(df_ab_i.join(df_ac_i, how = 'inner'))"
      ],
      "execution_count": 120,
      "outputs": [
        {
          "output_type": "stream",
          "text": [
            "       b    c\n",
            "a            \n",
            "a_1  b_1  c_1\n",
            "a_2  b_2  c_2\n"
          ],
          "name": "stdout"
        }
      ]
    },
    {
      "cell_type": "code",
      "metadata": {
        "id": "7tqzSFlswf39",
        "colab_type": "code",
        "colab": {
          "base_uri": "https://localhost:8080/",
          "height": 153
        },
        "outputId": "94b809bf-87ea-4a9f-8d9d-fb5f519933e2"
      },
      "source": [
        "print(df_ab)\n",
        "print(df_ab.join(df_ac_i, on = 'a'))"
      ],
      "execution_count": 121,
      "outputs": [
        {
          "output_type": "stream",
          "text": [
            "     a    b\n",
            "0  a_1  b_1\n",
            "1  a_2  b_2\n",
            "2  a_3  b_3\n",
            "     a    b    c\n",
            "0  a_1  b_1  c_1\n",
            "1  a_2  b_2  c_2\n",
            "2  a_3  b_3  NaN\n"
          ],
          "name": "stdout"
        }
      ]
    },
    {
      "cell_type": "code",
      "metadata": {
        "id": "PsvkPg7Aw9yf",
        "colab_type": "code",
        "colab": {
          "base_uri": "https://localhost:8080/",
          "height": 102
        },
        "outputId": "64a253dc-6320-437d-ed8e-580be78d329c"
      },
      "source": [
        "df_ad_i = pd.DataFrame({'a':['a_1', 'a_4', 'a_5'], 'd':['d_1', 'd_4', 'd_5']}).set_index('a')\n",
        "print(df_ad_i)"
      ],
      "execution_count": 123,
      "outputs": [
        {
          "output_type": "stream",
          "text": [
            "       d\n",
            "a       \n",
            "a_1  d_1\n",
            "a_4  d_4\n",
            "a_5  d_5\n"
          ],
          "name": "stdout"
        }
      ]
    },
    {
      "cell_type": "code",
      "metadata": {
        "id": "0Aft3IoUxHUr",
        "colab_type": "code",
        "colab": {
          "base_uri": "https://localhost:8080/",
          "height": 187
        },
        "outputId": "6cddfc7d-052a-4155-8e20-88183d37b1fd"
      },
      "source": [
        "print(df_ab_i.join([df_ac_i, df_ad_i]))\n",
        "print(df_ac_i. join([df_ad_i, df_ab_i]))"
      ],
      "execution_count": 124,
      "outputs": [
        {
          "output_type": "stream",
          "text": [
            "       b    c    d\n",
            "a                 \n",
            "a_1  b_1  c_1  d_1\n",
            "a_2  b_2  c_2  NaN\n",
            "a_3  b_3  NaN  NaN\n",
            "       c    d    b\n",
            "a                 \n",
            "a_1  c_1  d_1  b_1\n",
            "a_2  c_2  NaN  b_2\n",
            "a_4  c_4  d_4  NaN\n"
          ],
          "name": "stdout"
        }
      ]
    },
    {
      "cell_type": "code",
      "metadata": {
        "id": "c5Gjr1lzxOcr",
        "colab_type": "code",
        "colab": {}
      },
      "source": [
        ""
      ],
      "execution_count": null,
      "outputs": []
    }
  ]
}