{
  "nbformat": 4,
  "nbformat_minor": 0,
  "metadata": {
    "colab": {
      "name": "pandas_processing_strings",
      "provenance": [],
      "collapsed_sections": [],
      "authorship_tag": "ABX9TyO2A/xdAOxY4OY58A4hScFj",
      "include_colab_link": true
    },
    "kernelspec": {
      "name": "python3",
      "display_name": "Python 3"
    }
  },
  "cells": [
    {
      "cell_type": "markdown",
      "metadata": {
        "id": "view-in-github",
        "colab_type": "text"
      },
      "source": [
        "<a href=\"https://colab.research.google.com/github/anko191/Python_Kaggle/blob/master/pandas/pandas_processing_strings.ipynb\" target=\"_parent\"><img src=\"https://colab.research.google.com/assets/colab-badge.svg\" alt=\"Open In Colab\"/></a>"
      ]
    },
    {
      "cell_type": "code",
      "metadata": {
        "id": "CD2c0qc-sYfA",
        "colab_type": "code",
        "colab": {
          "base_uri": "https://localhost:8080/",
          "height": 102
        },
        "outputId": "ca4334a1-7dad-4cdf-c06c-0965a45f787c"
      },
      "source": [
        "import pandas as pd\n",
        "s_org = pd.Series(['aaa@xxx.com','bbb@yyy.com', 'ccc@zzz.com', 'ddd'], index = ['A', 'B', 'C', 'D'])\n",
        "print(s_org)"
      ],
      "execution_count": null,
      "outputs": [
        {
          "output_type": "stream",
          "text": [
            "A    aaa@xxx.com\n",
            "B    bbb@yyy.com\n",
            "C    ccc@zzz.com\n",
            "D            ddd\n",
            "dtype: object\n"
          ],
          "name": "stdout"
        }
      ]
    },
    {
      "cell_type": "code",
      "metadata": {
        "id": "3xNN1oCOsj0c",
        "colab_type": "code",
        "colab": {
          "base_uri": "https://localhost:8080/",
          "height": 119
        },
        "outputId": "61f6c88c-8cef-49cd-d314-6ed8d6445397"
      },
      "source": [
        "s = s_org.str.split('@')\n",
        "print(s)\n",
        "print(type(s))"
      ],
      "execution_count": null,
      "outputs": [
        {
          "output_type": "stream",
          "text": [
            "A    [aaa, xxx.com]\n",
            "B    [bbb, yyy.com]\n",
            "C    [ccc, zzz.com]\n",
            "D             [ddd]\n",
            "dtype: object\n",
            "<class 'pandas.core.series.Series'>\n"
          ],
          "name": "stdout"
        }
      ]
    },
    {
      "cell_type": "code",
      "metadata": {
        "id": "6QYJxTbks0oz",
        "colab_type": "code",
        "colab": {
          "base_uri": "https://localhost:8080/",
          "height": 102
        },
        "outputId": "0f99c3d9-5500-4208-d2f3-5ad7af5412ce"
      },
      "source": [
        "df = s_org.str.split('@', expand = True)\n",
        "print(df)"
      ],
      "execution_count": null,
      "outputs": [
        {
          "output_type": "stream",
          "text": [
            "     0        1\n",
            "A  aaa  xxx.com\n",
            "B  bbb  yyy.com\n",
            "C  ccc  zzz.com\n",
            "D  ddd     None\n"
          ],
          "name": "stdout"
        }
      ]
    },
    {
      "cell_type": "code",
      "metadata": {
        "id": "ZB07W8oFs6PC",
        "colab_type": "code",
        "colab": {
          "base_uri": "https://localhost:8080/",
          "height": 102
        },
        "outputId": "dc650c67-e63c-4e7a-b1f8-de8238b6e872"
      },
      "source": [
        "df.columns = ['local', 'domain']\n",
        "print(df)"
      ],
      "execution_count": null,
      "outputs": [
        {
          "output_type": "stream",
          "text": [
            "  local   domain\n",
            "A   aaa  xxx.com\n",
            "B   bbb  yyy.com\n",
            "C   ccc  zzz.com\n",
            "D   ddd     None\n"
          ],
          "name": "stdout"
        }
      ]
    },
    {
      "cell_type": "code",
      "metadata": {
        "id": "raC0LDL7tYu7",
        "colab_type": "code",
        "colab": {
          "base_uri": "https://localhost:8080/",
          "height": 102
        },
        "outputId": "5af678dd-4b72-4d5a-a1b3-e7bc0f29e328"
      },
      "source": [
        "print(df['domain'].str.split('.', expand = True))"
      ],
      "execution_count": null,
      "outputs": [
        {
          "output_type": "stream",
          "text": [
            "      0     1\n",
            "A   xxx   com\n",
            "B   yyy   com\n",
            "C   zzz   com\n",
            "D  None  None\n"
          ],
          "name": "stdout"
        }
      ]
    },
    {
      "cell_type": "code",
      "metadata": {
        "id": "xrDEKdn3tc9K",
        "colab_type": "code",
        "colab": {}
      },
      "source": [
        "df2 = pd.concat([df, df['domain'].str.split('.', expand = True)], axis = 1).drop('domain', axis = 1)"
      ],
      "execution_count": null,
      "outputs": []
    },
    {
      "cell_type": "code",
      "metadata": {
        "id": "3YI3AKCzt38a",
        "colab_type": "code",
        "colab": {
          "base_uri": "https://localhost:8080/",
          "height": 102
        },
        "outputId": "b5e23ca3-014e-4483-956f-16fbfd5b9650"
      },
      "source": [
        "df3 = pd.concat([df['local'], df['domain'].str.split('.', expand=True)], axis = 1)\n",
        "print(df3)"
      ],
      "execution_count": null,
      "outputs": [
        {
          "output_type": "stream",
          "text": [
            "  local     0     1\n",
            "A   aaa   xxx   com\n",
            "B   bbb   yyy   com\n",
            "C   ccc   zzz   com\n",
            "D   ddd  None  None\n"
          ],
          "name": "stdout"
        }
      ]
    },
    {
      "cell_type": "code",
      "metadata": {
        "id": "FtRyH-bUuK7r",
        "colab_type": "code",
        "colab": {
          "base_uri": "https://localhost:8080/",
          "height": 102
        },
        "outputId": "18f97be3-7291-4050-a968-13076d227218"
      },
      "source": [
        "df3.rename(columns={0:'second_LD', 1:'TLD'}, inplace=True)\n",
        "print(df3)"
      ],
      "execution_count": null,
      "outputs": [
        {
          "output_type": "stream",
          "text": [
            "  local second_LD   TLD\n",
            "A   aaa       xxx   com\n",
            "B   bbb       yyy   com\n",
            "C   ccc       zzz   com\n",
            "D   ddd      None  None\n"
          ],
          "name": "stdout"
        }
      ]
    },
    {
      "cell_type": "code",
      "metadata": {
        "id": "08_l7pnDuRGC",
        "colab_type": "code",
        "colab": {
          "base_uri": "https://localhost:8080/",
          "height": 102
        },
        "outputId": "17570b99-61e7-421b-d08c-5117fb0128cc"
      },
      "source": [
        "df = s_org.str.extract('(.+)@(.+)\\.(.+)', expand=True)\n",
        "print(df)"
      ],
      "execution_count": null,
      "outputs": [
        {
          "output_type": "stream",
          "text": [
            "     0    1    2\n",
            "A  aaa  xxx  com\n",
            "B  bbb  yyy  com\n",
            "C  ccc  zzz  com\n",
            "D  NaN  NaN  NaN\n"
          ],
          "name": "stdout"
        }
      ]
    },
    {
      "cell_type": "code",
      "metadata": {
        "id": "mHejVpt3vaHS",
        "colab_type": "code",
        "colab": {
          "base_uri": "https://localhost:8080/",
          "height": 102
        },
        "outputId": "3568dd9f-aa94-4ffb-a996-61f58303429f"
      },
      "source": [
        "df = s_org.str.extract('(\\w+)', expand = True)\n",
        "print(df)"
      ],
      "execution_count": null,
      "outputs": [
        {
          "output_type": "stream",
          "text": [
            "     0\n",
            "A  aaa\n",
            "B  bbb\n",
            "C  ccc\n",
            "D  ddd\n"
          ],
          "name": "stdout"
        }
      ]
    },
    {
      "cell_type": "code",
      "metadata": {
        "id": "Rn37kGRKxCm6",
        "colab_type": "code",
        "colab": {
          "base_uri": "https://localhost:8080/",
          "height": 102
        },
        "outputId": "1c0e7a99-a3b8-4054-dc4b-d2cf0c5d27a0"
      },
      "source": [
        "df = s_org.str.extract('(\\w+)',expand = False)\n",
        "print(df)"
      ],
      "execution_count": null,
      "outputs": [
        {
          "output_type": "stream",
          "text": [
            "A    aaa\n",
            "B    bbb\n",
            "C    ccc\n",
            "D    ddd\n",
            "dtype: object\n"
          ],
          "name": "stdout"
        }
      ]
    },
    {
      "cell_type": "code",
      "metadata": {
        "id": "GiXPj--OxGvi",
        "colab_type": "code",
        "colab": {
          "base_uri": "https://localhost:8080/",
          "height": 102
        },
        "outputId": "3d8e976b-929c-404f-fc7c-cc870dd78414"
      },
      "source": [
        "df_name = s_org.str.extract('(?P<local>.*)@(?P<second_LD>.*)\\.(?P<TLD>.*)', expand = True)\n",
        "print(df_name)"
      ],
      "execution_count": null,
      "outputs": [
        {
          "output_type": "stream",
          "text": [
            "  local second_LD  TLD\n",
            "A   aaa       xxx  com\n",
            "B   bbb       yyy  com\n",
            "C   ccc       zzz  com\n",
            "D   NaN       NaN  NaN\n"
          ],
          "name": "stdout"
        }
      ]
    },
    {
      "cell_type": "code",
      "metadata": {
        "id": "zlv6ypvfy0F7",
        "colab_type": "code",
        "colab": {
          "base_uri": "https://localhost:8080/",
          "height": 85
        },
        "outputId": "5c190dfa-5796-457e-a01b-e55be7dcd67c"
      },
      "source": [
        "import pandas as pd\n",
        "df = pd.read_csv('/content/sample_pandas_normal.csv').head(3)\n",
        "print(df)"
      ],
      "execution_count": 1,
      "outputs": [
        {
          "output_type": "stream",
          "text": [
            "      name  age state  point\n",
            "0    Alice   24    NY     64\n",
            "1      Bob   42    CA     92\n",
            "2  Charlie   18    CA     70\n"
          ],
          "name": "stdout"
        }
      ]
    },
    {
      "cell_type": "code",
      "metadata": {
        "id": "o_gqbw8pd6Gk",
        "colab_type": "code",
        "colab": {
          "base_uri": "https://localhost:8080/",
          "height": 85
        },
        "outputId": "75d40621-f565-4a7a-a8ec-d7ebedf48106"
      },
      "source": [
        "print(df['name'].str.cat(df['state']))"
      ],
      "execution_count": 2,
      "outputs": [
        {
          "output_type": "stream",
          "text": [
            "0      AliceNY\n",
            "1        BobCA\n",
            "2    CharlieCA\n",
            "Name: name, dtype: object\n"
          ],
          "name": "stdout"
        }
      ]
    },
    {
      "cell_type": "code",
      "metadata": {
        "id": "zkBSxoUeeIRQ",
        "colab_type": "code",
        "colab": {
          "base_uri": "https://localhost:8080/",
          "height": 85
        },
        "outputId": "86b1b49a-fb49-4df8-9093-7002fcd0bc6d"
      },
      "source": [
        "print(df['name'].str.cat(df['state'], sep = ' in '))"
      ],
      "execution_count": 3,
      "outputs": [
        {
          "output_type": "stream",
          "text": [
            "0      Alice in NY\n",
            "1        Bob in CA\n",
            "2    Charlie in CA\n",
            "Name: name, dtype: object\n"
          ],
          "name": "stdout"
        }
      ]
    },
    {
      "cell_type": "code",
      "metadata": {
        "id": "-seqDcuOelcQ",
        "colab_type": "code",
        "colab": {
          "base_uri": "https://localhost:8080/",
          "height": 85
        },
        "outputId": "8558fe42-f017-43fd-bc8f-8572ec1bccba"
      },
      "source": [
        "print(df['name'].str.cat(['X', 'Y', 'Z'], sep = ' in '))"
      ],
      "execution_count": 4,
      "outputs": [
        {
          "output_type": "stream",
          "text": [
            "0      Alice in X\n",
            "1        Bob in Y\n",
            "2    Charlie in Z\n",
            "Name: name, dtype: object\n"
          ],
          "name": "stdout"
        }
      ]
    },
    {
      "cell_type": "code",
      "metadata": {
        "id": "HbcSDnNLfk3e",
        "colab_type": "code",
        "colab": {
          "base_uri": "https://localhost:8080/",
          "height": 85
        },
        "outputId": "143534f0-b041-4bde-bdb0-a063330260c2"
      },
      "source": [
        "pa = pd.Series(['X','Y','Z'], index = [0,1,2])\n",
        "pa"
      ],
      "execution_count": 14,
      "outputs": [
        {
          "output_type": "execute_result",
          "data": {
            "text/plain": [
              "0    X\n",
              "1    Y\n",
              "2    Z\n",
              "dtype: object"
            ]
          },
          "metadata": {
            "tags": []
          },
          "execution_count": 14
        }
      ]
    },
    {
      "cell_type": "code",
      "metadata": {
        "id": "q6-gZZ63e6nP",
        "colab_type": "code",
        "colab": {
          "base_uri": "https://localhost:8080/",
          "height": 85
        },
        "outputId": "20cf2ad5-3998-4069-8790-af3a7689877e"
      },
      "source": [
        "print(df['name'].str.cat([df['state'],pa], sep='-'))"
      ],
      "execution_count": 15,
      "outputs": [
        {
          "output_type": "stream",
          "text": [
            "0      Alice-NY-X\n",
            "1        Bob-CA-Y\n",
            "2    Charlie-CA-Z\n",
            "Name: name, dtype: object\n"
          ],
          "name": "stdout"
        }
      ]
    },
    {
      "cell_type": "code",
      "metadata": {
        "id": "JNOg_fC7fEUv",
        "colab_type": "code",
        "colab": {
          "base_uri": "https://localhost:8080/",
          "height": 85
        },
        "outputId": "3fa9d27c-a68e-4ae6-f017-f5b9eb85b4cf"
      },
      "source": [
        "print(df['name'] + df['state'])"
      ],
      "execution_count": 16,
      "outputs": [
        {
          "output_type": "stream",
          "text": [
            "0      AliceNY\n",
            "1        BobCA\n",
            "2    CharlieCA\n",
            "dtype: object\n"
          ],
          "name": "stdout"
        }
      ]
    },
    {
      "cell_type": "code",
      "metadata": {
        "id": "nc-Ut2v_h7v6",
        "colab_type": "code",
        "colab": {
          "base_uri": "https://localhost:8080/",
          "height": 85
        },
        "outputId": "2bcf24f4-f2e7-4f04-fa65-704ea8cea5d4"
      },
      "source": [
        "print(df['name'] + ' in ' + df['state'])"
      ],
      "execution_count": 17,
      "outputs": [
        {
          "output_type": "stream",
          "text": [
            "0      Alice in NY\n",
            "1        Bob in CA\n",
            "2    Charlie in CA\n",
            "dtype: object\n"
          ],
          "name": "stdout"
        }
      ]
    },
    {
      "cell_type": "code",
      "metadata": {
        "id": "NwYkvxPFizCn",
        "colab_type": "code",
        "colab": {
          "base_uri": "https://localhost:8080/",
          "height": 85
        },
        "outputId": "9f380ba6-b289-47ee-a391-298bd6116d92"
      },
      "source": [
        "print(df['name'] + ' in ' + df['state'] + ' - ' + ['X', 'Y', 'Z'])"
      ],
      "execution_count": 18,
      "outputs": [
        {
          "output_type": "stream",
          "text": [
            "0      Alice in NY - X\n",
            "1        Bob in CA - Y\n",
            "2    Charlie in CA - Z\n",
            "dtype: object\n"
          ],
          "name": "stdout"
        }
      ]
    },
    {
      "cell_type": "code",
      "metadata": {
        "id": "iTOzZItki5O4",
        "colab_type": "code",
        "colab": {
          "base_uri": "https://localhost:8080/",
          "height": 139
        },
        "outputId": "6ddf7ef0-6034-4da3-b543-83a81ccf03a8"
      },
      "source": [
        "df['col_NaN'] = ['X', pd.np.nan, 'Z']\n",
        "print(df)"
      ],
      "execution_count": 19,
      "outputs": [
        {
          "output_type": "stream",
          "text": [
            "      name  age state  point col_NaN\n",
            "0    Alice   24    NY     64       X\n",
            "1      Bob   42    CA     92     NaN\n",
            "2  Charlie   18    CA     70       Z\n"
          ],
          "name": "stdout"
        },
        {
          "output_type": "stream",
          "text": [
            "/usr/local/lib/python3.6/dist-packages/ipykernel_launcher.py:1: FutureWarning: The pandas.np module is deprecated and will be removed from pandas in a future version. Import numpy directly instead\n",
            "  \"\"\"Entry point for launching an IPython kernel.\n"
          ],
          "name": "stderr"
        }
      ]
    },
    {
      "cell_type": "code",
      "metadata": {
        "id": "4uTaq0r-i-4v",
        "colab_type": "code",
        "colab": {
          "base_uri": "https://localhost:8080/",
          "height": 85
        },
        "outputId": "b690499e-0fbb-4f2d-e282-e762dfa45885"
      },
      "source": [
        "print(df['name'].str.cat(df['col_NaN'], sep = '-'))"
      ],
      "execution_count": 20,
      "outputs": [
        {
          "output_type": "stream",
          "text": [
            "0      Alice-X\n",
            "1          NaN\n",
            "2    Charlie-Z\n",
            "Name: name, dtype: object\n"
          ],
          "name": "stdout"
        }
      ]
    },
    {
      "cell_type": "code",
      "metadata": {
        "id": "Wezu4XUkjFTx",
        "colab_type": "code",
        "colab": {
          "base_uri": "https://localhost:8080/",
          "height": 85
        },
        "outputId": "0ae51148-f916-4cb7-9c29-bc09b9095f37"
      },
      "source": [
        "print(df['name'].str.cat(df['col_NaN'], sep = '-', na_rep = 'No Data'))"
      ],
      "execution_count": 21,
      "outputs": [
        {
          "output_type": "stream",
          "text": [
            "0        Alice-X\n",
            "1    Bob-No Data\n",
            "2      Charlie-Z\n",
            "Name: name, dtype: object\n"
          ],
          "name": "stdout"
        }
      ]
    },
    {
      "cell_type": "code",
      "metadata": {
        "id": "EDJpKV6vjQ6g",
        "colab_type": "code",
        "colab": {
          "base_uri": "https://localhost:8080/",
          "height": 85
        },
        "outputId": "08ca40a4-5d74-47ba-e9da-8b9d0c78bbd8"
      },
      "source": [
        "print(df['name'] + '-' + df['col_NaN'].fillna('No Data'))"
      ],
      "execution_count": 22,
      "outputs": [
        {
          "output_type": "stream",
          "text": [
            "0        Alice-X\n",
            "1    Bob-No Data\n",
            "2      Charlie-Z\n",
            "dtype: object\n"
          ],
          "name": "stdout"
        }
      ]
    },
    {
      "cell_type": "code",
      "metadata": {
        "id": "DcEfGRRojXXI",
        "colab_type": "code",
        "colab": {
          "base_uri": "https://localhost:8080/",
          "height": 85
        },
        "outputId": "fe54e125-4ce6-40c2-ddde-09dcec3ba2d6"
      },
      "source": [
        "print(df['name'].str.cat(df['age'].astype(str), sep = '-'))"
      ],
      "execution_count": 23,
      "outputs": [
        {
          "output_type": "stream",
          "text": [
            "0      Alice-24\n",
            "1        Bob-42\n",
            "2    Charlie-18\n",
            "Name: name, dtype: object\n"
          ],
          "name": "stdout"
        }
      ]
    },
    {
      "cell_type": "code",
      "metadata": {
        "id": "0MjzJGPujhMx",
        "colab_type": "code",
        "colab": {
          "base_uri": "https://localhost:8080/",
          "height": 142
        },
        "outputId": "df10604d-cdf4-4871-aa46-4f297dca0145"
      },
      "source": [
        "df"
      ],
      "execution_count": 24,
      "outputs": [
        {
          "output_type": "execute_result",
          "data": {
            "text/html": [
              "<div>\n",
              "<style scoped>\n",
              "    .dataframe tbody tr th:only-of-type {\n",
              "        vertical-align: middle;\n",
              "    }\n",
              "\n",
              "    .dataframe tbody tr th {\n",
              "        vertical-align: top;\n",
              "    }\n",
              "\n",
              "    .dataframe thead th {\n",
              "        text-align: right;\n",
              "    }\n",
              "</style>\n",
              "<table border=\"1\" class=\"dataframe\">\n",
              "  <thead>\n",
              "    <tr style=\"text-align: right;\">\n",
              "      <th></th>\n",
              "      <th>name</th>\n",
              "      <th>age</th>\n",
              "      <th>state</th>\n",
              "      <th>point</th>\n",
              "      <th>col_NaN</th>\n",
              "    </tr>\n",
              "  </thead>\n",
              "  <tbody>\n",
              "    <tr>\n",
              "      <th>0</th>\n",
              "      <td>Alice</td>\n",
              "      <td>24</td>\n",
              "      <td>NY</td>\n",
              "      <td>64</td>\n",
              "      <td>X</td>\n",
              "    </tr>\n",
              "    <tr>\n",
              "      <th>1</th>\n",
              "      <td>Bob</td>\n",
              "      <td>42</td>\n",
              "      <td>CA</td>\n",
              "      <td>92</td>\n",
              "      <td>NaN</td>\n",
              "    </tr>\n",
              "    <tr>\n",
              "      <th>2</th>\n",
              "      <td>Charlie</td>\n",
              "      <td>18</td>\n",
              "      <td>CA</td>\n",
              "      <td>70</td>\n",
              "      <td>Z</td>\n",
              "    </tr>\n",
              "  </tbody>\n",
              "</table>\n",
              "</div>"
            ],
            "text/plain": [
              "      name  age state  point col_NaN\n",
              "0    Alice   24    NY     64       X\n",
              "1      Bob   42    CA     92     NaN\n",
              "2  Charlie   18    CA     70       Z"
            ]
          },
          "metadata": {
            "tags": []
          },
          "execution_count": 24
        }
      ]
    },
    {
      "cell_type": "code",
      "metadata": {
        "id": "fUhfTkBGjmwI",
        "colab_type": "code",
        "colab": {}
      },
      "source": [
        "df['name_state'] = df['name'].str.cat(df['state'], sep = ' in ')"
      ],
      "execution_count": 25,
      "outputs": []
    },
    {
      "cell_type": "code",
      "metadata": {
        "id": "I8CGWjamjsT4",
        "colab_type": "code",
        "colab": {
          "base_uri": "https://localhost:8080/",
          "height": 142
        },
        "outputId": "7f7f2893-c4a5-4c2b-c220-74bb75f30cbb"
      },
      "source": [
        "df"
      ],
      "execution_count": 26,
      "outputs": [
        {
          "output_type": "execute_result",
          "data": {
            "text/html": [
              "<div>\n",
              "<style scoped>\n",
              "    .dataframe tbody tr th:only-of-type {\n",
              "        vertical-align: middle;\n",
              "    }\n",
              "\n",
              "    .dataframe tbody tr th {\n",
              "        vertical-align: top;\n",
              "    }\n",
              "\n",
              "    .dataframe thead th {\n",
              "        text-align: right;\n",
              "    }\n",
              "</style>\n",
              "<table border=\"1\" class=\"dataframe\">\n",
              "  <thead>\n",
              "    <tr style=\"text-align: right;\">\n",
              "      <th></th>\n",
              "      <th>name</th>\n",
              "      <th>age</th>\n",
              "      <th>state</th>\n",
              "      <th>point</th>\n",
              "      <th>col_NaN</th>\n",
              "      <th>name_state</th>\n",
              "    </tr>\n",
              "  </thead>\n",
              "  <tbody>\n",
              "    <tr>\n",
              "      <th>0</th>\n",
              "      <td>Alice</td>\n",
              "      <td>24</td>\n",
              "      <td>NY</td>\n",
              "      <td>64</td>\n",
              "      <td>X</td>\n",
              "      <td>Alice in NY</td>\n",
              "    </tr>\n",
              "    <tr>\n",
              "      <th>1</th>\n",
              "      <td>Bob</td>\n",
              "      <td>42</td>\n",
              "      <td>CA</td>\n",
              "      <td>92</td>\n",
              "      <td>NaN</td>\n",
              "      <td>Bob in CA</td>\n",
              "    </tr>\n",
              "    <tr>\n",
              "      <th>2</th>\n",
              "      <td>Charlie</td>\n",
              "      <td>18</td>\n",
              "      <td>CA</td>\n",
              "      <td>70</td>\n",
              "      <td>Z</td>\n",
              "      <td>Charlie in CA</td>\n",
              "    </tr>\n",
              "  </tbody>\n",
              "</table>\n",
              "</div>"
            ],
            "text/plain": [
              "      name  age state  point col_NaN     name_state\n",
              "0    Alice   24    NY     64       X    Alice in NY\n",
              "1      Bob   42    CA     92     NaN      Bob in CA\n",
              "2  Charlie   18    CA     70       Z  Charlie in CA"
            ]
          },
          "metadata": {
            "tags": []
          },
          "execution_count": 26
        }
      ]
    },
    {
      "cell_type": "code",
      "metadata": {
        "id": "2EbGHWExjsmw",
        "colab_type": "code",
        "colab": {
          "base_uri": "https://localhost:8080/",
          "height": 85
        },
        "outputId": "f9572e1b-ffaf-4798-9bec-caa9481708b0"
      },
      "source": [
        "print(df.drop(columns = ['name', 'state']))"
      ],
      "execution_count": 27,
      "outputs": [
        {
          "output_type": "stream",
          "text": [
            "   age  point col_NaN     name_state\n",
            "0   24     64       X    Alice in NY\n",
            "1   42     92     NaN      Bob in CA\n",
            "2   18     70       Z  Charlie in CA\n"
          ],
          "name": "stdout"
        }
      ]
    },
    {
      "cell_type": "code",
      "metadata": {
        "id": "muv2wJwBjv8w",
        "colab_type": "code",
        "colab": {
          "base_uri": "https://localhost:8080/",
          "height": 85
        },
        "outputId": "cd88aaaa-ee46-4507-c200-cb193ffbb07a"
      },
      "source": [
        "print(df.assign(name_state=df['name'] + ' in ' + df['state']))"
      ],
      "execution_count": 28,
      "outputs": [
        {
          "output_type": "stream",
          "text": [
            "      name  age state  point col_NaN     name_state\n",
            "0    Alice   24    NY     64       X    Alice in NY\n",
            "1      Bob   42    CA     92     NaN      Bob in CA\n",
            "2  Charlie   18    CA     70       Z  Charlie in CA\n"
          ],
          "name": "stdout"
        }
      ]
    },
    {
      "cell_type": "code",
      "metadata": {
        "id": "q7lUWVZ-j24o",
        "colab_type": "code",
        "colab": {}
      },
      "source": [
        "df = pd.read_csv('/content/sample_pandas_normal.csv').head(3)"
      ],
      "execution_count": 29,
      "outputs": []
    },
    {
      "cell_type": "code",
      "metadata": {
        "id": "QmYuZvtej8XX",
        "colab_type": "code",
        "colab": {
          "base_uri": "https://localhost:8080/",
          "height": 85
        },
        "outputId": "5deeab3a-fde2-493d-94b3-9932f3b2694d"
      },
      "source": [
        "print(df)"
      ],
      "execution_count": 30,
      "outputs": [
        {
          "output_type": "stream",
          "text": [
            "      name  age state  point\n",
            "0    Alice   24    NY     64\n",
            "1      Bob   42    CA     92\n",
            "2  Charlie   18    CA     70\n"
          ],
          "name": "stdout"
        }
      ]
    },
    {
      "cell_type": "code",
      "metadata": {
        "id": "T8fNblR8j9Pv",
        "colab_type": "code",
        "colab": {
          "base_uri": "https://localhost:8080/",
          "height": 85
        },
        "outputId": "8ac200fb-83f0-4387-9dd9-49968534bd2d"
      },
      "source": [
        "print(df.assign(name_state=df['name'] + ' in ' + df['state']))"
      ],
      "execution_count": 31,
      "outputs": [
        {
          "output_type": "stream",
          "text": [
            "      name  age state  point     name_state\n",
            "0    Alice   24    NY     64    Alice in NY\n",
            "1      Bob   42    CA     92      Bob in CA\n",
            "2  Charlie   18    CA     70  Charlie in CA\n"
          ],
          "name": "stdout"
        }
      ]
    },
    {
      "cell_type": "code",
      "metadata": {
        "id": "VjnqmTvlkBI3",
        "colab_type": "code",
        "colab": {
          "base_uri": "https://localhost:8080/",
          "height": 85
        },
        "outputId": "b321662c-66aa-4e91-bafb-294d8762832f"
      },
      "source": [
        "print(df.assign(name_state = df['name'] + ' in ' + df['state']).drop(columns = ['name', 'state']))"
      ],
      "execution_count": 32,
      "outputs": [
        {
          "output_type": "stream",
          "text": [
            "   age  point     name_state\n",
            "0   24     64    Alice in NY\n",
            "1   42     92      Bob in CA\n",
            "2   18     70  Charlie in CA\n"
          ],
          "name": "stdout"
        }
      ]
    },
    {
      "cell_type": "code",
      "metadata": {
        "id": "zi534qFrkKKg",
        "colab_type": "code",
        "colab": {
          "base_uri": "https://localhost:8080/",
          "height": 85
        },
        "outputId": "5041ae34-1cde-4103-c5dc-f983fe0b7f4c"
      },
      "source": [
        "import pandas as pd\n",
        "s = pd.Series([' a-a-x ', ' b-x-b ', ' x-c-c '])\n",
        "print(s)"
      ],
      "execution_count": 35,
      "outputs": [
        {
          "output_type": "stream",
          "text": [
            "0     a-a-x \n",
            "1     b-x-b \n",
            "2     x-c-c \n",
            "dtype: object\n"
          ],
          "name": "stdout"
        }
      ]
    },
    {
      "cell_type": "code",
      "metadata": {
        "id": "HIcfRXUjklmo",
        "colab_type": "code",
        "colab": {
          "base_uri": "https://localhost:8080/",
          "height": 85
        },
        "outputId": "14c9c209-18fa-4cac-dda1-70efe2498acb"
      },
      "source": [
        "s_new = s.str.replace('x', 'z')\n",
        "print(s_new)"
      ],
      "execution_count": 36,
      "outputs": [
        {
          "output_type": "stream",
          "text": [
            "0     a-a-z \n",
            "1     b-z-b \n",
            "2     z-c-c \n",
            "dtype: object\n"
          ],
          "name": "stdout"
        }
      ]
    },
    {
      "cell_type": "code",
      "metadata": {
        "id": "NZz4MJ5EkobY",
        "colab_type": "code",
        "colab": {
          "base_uri": "https://localhost:8080/",
          "height": 85
        },
        "outputId": "a08a2a83-d29e-4a6c-db35-3c4f1621e308"
      },
      "source": [
        "df = pd.DataFrame([[' a-a-x-1 ', ' a-a-x-2 '],\n",
        "                   [' b-x-b-1 ', ' b-x-b-2 '],\n",
        "                   [' x-c-c-1 ', ' x-c-c-2 ']],\n",
        "                  columns = ['col1', 'col2'])\n",
        "print(df)"
      ],
      "execution_count": 37,
      "outputs": [
        {
          "output_type": "stream",
          "text": [
            "        col1       col2\n",
            "0   a-a-x-1    a-a-x-2 \n",
            "1   b-x-b-1    b-x-b-2 \n",
            "2   x-c-c-1    x-c-c-2 \n"
          ],
          "name": "stdout"
        }
      ]
    },
    {
      "cell_type": "code",
      "metadata": {
        "id": "OhWRqb5Sk8qf",
        "colab_type": "code",
        "colab": {
          "base_uri": "https://localhost:8080/",
          "height": 85
        },
        "outputId": "348e5b30-d4f0-4ef7-e07a-aa3f6e2aa962"
      },
      "source": [
        "df['col1'] = df['col1'].str.replace('x', 'z')\n",
        "print(df)"
      ],
      "execution_count": 38,
      "outputs": [
        {
          "output_type": "stream",
          "text": [
            "        col1       col2\n",
            "0   a-a-z-1    a-a-x-2 \n",
            "1   b-z-b-1    b-x-b-2 \n",
            "2   z-c-c-1    x-c-c-2 \n"
          ],
          "name": "stdout"
        }
      ]
    },
    {
      "cell_type": "code",
      "metadata": {
        "id": "z8by36tJlJhP",
        "colab_type": "code",
        "colab": {
          "base_uri": "https://localhost:8080/",
          "height": 85
        },
        "outputId": "4fc05cc6-2e2a-4f2d-9954-72a10ee16eba"
      },
      "source": [
        "s_new = s.str.strip()\n",
        "print(s_new)"
      ],
      "execution_count": 39,
      "outputs": [
        {
          "output_type": "stream",
          "text": [
            "0    a-a-x\n",
            "1    b-x-b\n",
            "2    x-c-c\n",
            "dtype: object\n"
          ],
          "name": "stdout"
        }
      ]
    },
    {
      "cell_type": "code",
      "metadata": {
        "id": "q0008wrhlRlv",
        "colab_type": "code",
        "colab": {
          "base_uri": "https://localhost:8080/",
          "height": 85
        },
        "outputId": "39b9dc67-e984-4be1-ffa9-43ef15653c35"
      },
      "source": [
        "s"
      ],
      "execution_count": 40,
      "outputs": [
        {
          "output_type": "execute_result",
          "data": {
            "text/plain": [
              "0     a-a-x \n",
              "1     b-x-b \n",
              "2     x-c-c \n",
              "dtype: object"
            ]
          },
          "metadata": {
            "tags": []
          },
          "execution_count": 40
        }
      ]
    },
    {
      "cell_type": "code",
      "metadata": {
        "id": "tnfCoXjElTx4",
        "colab_type": "code",
        "colab": {
          "base_uri": "https://localhost:8080/",
          "height": 85
        },
        "outputId": "7c120c3a-4eb3-4c10-fff0-f709964009b6"
      },
      "source": [
        "s_new = s.str.strip(' x')\n",
        "print(s_new)"
      ],
      "execution_count": 41,
      "outputs": [
        {
          "output_type": "stream",
          "text": [
            "0     a-a-\n",
            "1    b-x-b\n",
            "2     -c-c\n",
            "dtype: object\n"
          ],
          "name": "stdout"
        }
      ]
    },
    {
      "cell_type": "code",
      "metadata": {
        "id": "-IpJDMlAlhGw",
        "colab_type": "code",
        "colab": {}
      },
      "source": [
        "df['col1'] = df['col1'].str.strip()"
      ],
      "execution_count": 42,
      "outputs": []
    },
    {
      "cell_type": "code",
      "metadata": {
        "id": "DW-99fe2lnWx",
        "colab_type": "code",
        "colab": {
          "base_uri": "https://localhost:8080/",
          "height": 85
        },
        "outputId": "d47bc30f-07d9-4c37-e447-6158d9a239d9"
      },
      "source": [
        "print(df)"
      ],
      "execution_count": 43,
      "outputs": [
        {
          "output_type": "stream",
          "text": [
            "      col1       col2\n",
            "0  a-a-z-1   a-a-x-2 \n",
            "1  b-z-b-1   b-x-b-2 \n",
            "2  z-c-c-1   x-c-c-2 \n"
          ],
          "name": "stdout"
        }
      ]
    },
    {
      "cell_type": "code",
      "metadata": {
        "id": "JkEqPGHAln7g",
        "colab_type": "code",
        "colab": {
          "base_uri": "https://localhost:8080/",
          "height": 85
        },
        "outputId": "20589282-b56a-4266-e689-596268c9ad39"
      },
      "source": [
        "s_new = s.str.lstrip()\n",
        "print(s_new)"
      ],
      "execution_count": 44,
      "outputs": [
        {
          "output_type": "stream",
          "text": [
            "0    a-a-x \n",
            "1    b-x-b \n",
            "2    x-c-c \n",
            "dtype: object\n"
          ],
          "name": "stdout"
        }
      ]
    },
    {
      "cell_type": "code",
      "metadata": {
        "id": "2gc_yXTAltFA",
        "colab_type": "code",
        "colab": {
          "base_uri": "https://localhost:8080/",
          "height": 85
        },
        "outputId": "0742cce9-a327-4267-f357-5577f831822e"
      },
      "source": [
        "s_new = s.str.rstrip()\n",
        "print(s_new)"
      ],
      "execution_count": 45,
      "outputs": [
        {
          "output_type": "stream",
          "text": [
            "0     a-a-x\n",
            "1     b-x-b\n",
            "2     x-c-c\n",
            "dtype: object\n"
          ],
          "name": "stdout"
        }
      ]
    },
    {
      "cell_type": "code",
      "metadata": {
        "id": "sRjT_Lmvlycg",
        "colab_type": "code",
        "colab": {
          "base_uri": "https://localhost:8080/",
          "height": 85
        },
        "outputId": "23115287-3d2e-4af6-dcfa-bfd76d3de734"
      },
      "source": [
        "s = pd.Series(['Hello World', 'hello world', 'HELLO WORLD'])\n",
        "print(s)"
      ],
      "execution_count": 46,
      "outputs": [
        {
          "output_type": "stream",
          "text": [
            "0    Hello World\n",
            "1    hello world\n",
            "2    HELLO WORLD\n",
            "dtype: object\n"
          ],
          "name": "stdout"
        }
      ]
    },
    {
      "cell_type": "code",
      "metadata": {
        "id": "D7V_HdTGl5HQ",
        "colab_type": "code",
        "colab": {
          "base_uri": "https://localhost:8080/",
          "height": 85
        },
        "outputId": "89f64fe6-7cb5-45f0-ac8f-06dbd877897e"
      },
      "source": [
        "s_new = s.str.lower()\n",
        "print(s_new)"
      ],
      "execution_count": 47,
      "outputs": [
        {
          "output_type": "stream",
          "text": [
            "0    hello world\n",
            "1    hello world\n",
            "2    hello world\n",
            "dtype: object\n"
          ],
          "name": "stdout"
        }
      ]
    },
    {
      "cell_type": "code",
      "metadata": {
        "id": "DMFmcoKWl8KY",
        "colab_type": "code",
        "colab": {
          "base_uri": "https://localhost:8080/",
          "height": 85
        },
        "outputId": "1551a6e7-844a-4e15-aa15-9381b31f3451"
      },
      "source": [
        "s_new = s.str.upper()\n",
        "print(s_new)"
      ],
      "execution_count": 48,
      "outputs": [
        {
          "output_type": "stream",
          "text": [
            "0    HELLO WORLD\n",
            "1    HELLO WORLD\n",
            "2    HELLO WORLD\n",
            "dtype: object\n"
          ],
          "name": "stdout"
        }
      ]
    },
    {
      "cell_type": "code",
      "metadata": {
        "id": "6d-_OJApl_T_",
        "colab_type": "code",
        "colab": {
          "base_uri": "https://localhost:8080/",
          "height": 85
        },
        "outputId": "dd122f61-1896-4314-d4c4-b894d68e4a74"
      },
      "source": [
        "s_new = s.str.capitalize()\n",
        "print(s_new)"
      ],
      "execution_count": 49,
      "outputs": [
        {
          "output_type": "stream",
          "text": [
            "0    Hello world\n",
            "1    Hello world\n",
            "2    Hello world\n",
            "dtype: object\n"
          ],
          "name": "stdout"
        }
      ]
    },
    {
      "cell_type": "code",
      "metadata": {
        "id": "HfpE2PSbmGBn",
        "colab_type": "code",
        "colab": {
          "base_uri": "https://localhost:8080/",
          "height": 85
        },
        "outputId": "e5f9fc60-8d16-4c8a-c513-19707249711d"
      },
      "source": [
        "s_new = s.str.title()\n",
        "print(s_new)"
      ],
      "execution_count": 50,
      "outputs": [
        {
          "output_type": "stream",
          "text": [
            "0    Hello World\n",
            "1    Hello World\n",
            "2    Hello World\n",
            "dtype: object\n"
          ],
          "name": "stdout"
        }
      ]
    },
    {
      "cell_type": "code",
      "metadata": {
        "id": "ERwzIhi_mYjB",
        "colab_type": "code",
        "colab": {
          "base_uri": "https://localhost:8080/",
          "height": 85
        },
        "outputId": "6c26c191-854e-4615-f9f9-618a46b4f46f"
      },
      "source": [
        "import pandas as pd\n",
        "\n",
        "s_org = pd.Series(['aaa@xxx.com', 'bbb@yyy.net', 'ccc@zzz.co.jp'], index=['A', 'B', 'C'])\n",
        "print(s_org)"
      ],
      "execution_count": 51,
      "outputs": [
        {
          "output_type": "stream",
          "text": [
            "A      aaa@xxx.com\n",
            "B      bbb@yyy.net\n",
            "C    ccc@zzz.co.jp\n",
            "dtype: object\n"
          ],
          "name": "stdout"
        }
      ]
    },
    {
      "cell_type": "code",
      "metadata": {
        "id": "HJwTizsFmqen",
        "colab_type": "code",
        "colab": {
          "base_uri": "https://localhost:8080/",
          "height": 85
        },
        "outputId": "113eedeb-9a04-4618-e7f0-945e2d6083b0"
      },
      "source": [
        "df_single = s_org.str.extract('(.+)@', expand = True)\n",
        "print(df_single)"
      ],
      "execution_count": 52,
      "outputs": [
        {
          "output_type": "stream",
          "text": [
            "     0\n",
            "A  aaa\n",
            "B  bbb\n",
            "C  ccc\n"
          ],
          "name": "stdout"
        }
      ]
    },
    {
      "cell_type": "code",
      "metadata": {
        "id": "faInUTQWmwen",
        "colab_type": "code",
        "colab": {
          "base_uri": "https://localhost:8080/",
          "height": 85
        },
        "outputId": "9c3aa6be-8b75-4934-b8b4-41d8acad8bd2"
      },
      "source": [
        "s = s_org.str.extract('(.+)@', expand = False)\n",
        "print(s)"
      ],
      "execution_count": 53,
      "outputs": [
        {
          "output_type": "stream",
          "text": [
            "A    aaa\n",
            "B    bbb\n",
            "C    ccc\n",
            "dtype: object\n"
          ],
          "name": "stdout"
        }
      ]
    },
    {
      "cell_type": "code",
      "metadata": {
        "id": "50iq0mF2m6tv",
        "colab_type": "code",
        "colab": {
          "base_uri": "https://localhost:8080/",
          "height": 85
        },
        "outputId": "68c812f6-7436-4236-e0b9-eb826cb05acc"
      },
      "source": [
        "df_name = s_org.str.extract('(?P<local>.+)@', expand = True)\n",
        "\n",
        "print(df_name)"
      ],
      "execution_count": 54,
      "outputs": [
        {
          "output_type": "stream",
          "text": [
            "  local\n",
            "A   aaa\n",
            "B   bbb\n",
            "C   ccc\n"
          ],
          "name": "stdout"
        }
      ]
    },
    {
      "cell_type": "code",
      "metadata": {
        "id": "mDZH89kPnEsI",
        "colab_type": "code",
        "colab": {
          "base_uri": "https://localhost:8080/",
          "height": 85
        },
        "outputId": "7332e06a-850a-43ad-e6ee-64bd421f019e"
      },
      "source": [
        "print(s_org.str.extract('(.+)@(.+)'))"
      ],
      "execution_count": 55,
      "outputs": [
        {
          "output_type": "stream",
          "text": [
            "     0          1\n",
            "A  aaa    xxx.com\n",
            "B  bbb    yyy.net\n",
            "C  ccc  zzz.co.jp\n"
          ],
          "name": "stdout"
        }
      ]
    },
    {
      "cell_type": "code",
      "metadata": {
        "id": "y2POpOAVnPTo",
        "colab_type": "code",
        "colab": {
          "base_uri": "https://localhost:8080/",
          "height": 85
        },
        "outputId": "5e00f903-f03f-40b8-cae9-59eb78f7840a"
      },
      "source": [
        "print(s_org.str.extract('(?P<local>.+)@(?P<domain>.+)'))"
      ],
      "execution_count": 56,
      "outputs": [
        {
          "output_type": "stream",
          "text": [
            "  local     domain\n",
            "A   aaa    xxx.com\n",
            "B   bbb    yyy.net\n",
            "C   ccc  zzz.co.jp\n"
          ],
          "name": "stdout"
        }
      ]
    },
    {
      "cell_type": "code",
      "metadata": {
        "id": "oeGTowzJnUso",
        "colab_type": "code",
        "colab": {
          "base_uri": "https://localhost:8080/",
          "height": 85
        },
        "outputId": "bbc81789-84d6-4991-9e21-209d5c31a534"
      },
      "source": [
        "print(s_org.str.extract('(a+)', expand = True))"
      ],
      "execution_count": 57,
      "outputs": [
        {
          "output_type": "stream",
          "text": [
            "     0\n",
            "A  aaa\n",
            "B  NaN\n",
            "C  NaN\n"
          ],
          "name": "stdout"
        }
      ]
    },
    {
      "cell_type": "code",
      "metadata": {
        "id": "Td54xNV0npro",
        "colab_type": "code",
        "colab": {}
      },
      "source": [
        "s_org2 = pd.Series(['aaa@xxx.com, iii@xxx.com', 'bbb@yyy.net, jjj@yyy.net', 'ccc@zzz.co.jp'],\n",
        "                   index=['A', 'B', 'C'])"
      ],
      "execution_count": 58,
      "outputs": []
    },
    {
      "cell_type": "code",
      "metadata": {
        "id": "WKagQd7Pnui3",
        "colab_type": "code",
        "colab": {
          "base_uri": "https://localhost:8080/",
          "height": 85
        },
        "outputId": "7e4f5d89-f6ec-4776-e957-b797928714dc"
      },
      "source": [
        "print(s_org2)"
      ],
      "execution_count": 59,
      "outputs": [
        {
          "output_type": "stream",
          "text": [
            "A    aaa@xxx.com, iii@xxx.com\n",
            "B    bbb@yyy.net, jjj@yyy.net\n",
            "C               ccc@zzz.co.jp\n",
            "dtype: object\n"
          ],
          "name": "stdout"
        }
      ]
    },
    {
      "cell_type": "code",
      "metadata": {
        "id": "7sBapdXznwJw",
        "colab_type": "code",
        "colab": {
          "base_uri": "https://localhost:8080/",
          "height": 85
        },
        "outputId": "8b2e83f6-1133-4f81-d57f-f3ee0b178d2a"
      },
      "source": [
        "print(s_org2.str.extract('([a-z]+)@([a-z.]+)', expand = True))"
      ],
      "execution_count": 60,
      "outputs": [
        {
          "output_type": "stream",
          "text": [
            "     0          1\n",
            "A  aaa    xxx.com\n",
            "B  bbb    yyy.net\n",
            "C  ccc  zzz.co.jp\n"
          ],
          "name": "stdout"
        }
      ]
    },
    {
      "cell_type": "code",
      "metadata": {
        "id": "Or-nsZEuoA_7",
        "colab_type": "code",
        "colab": {
          "base_uri": "https://localhost:8080/",
          "height": 136
        },
        "outputId": "f2fb32da-9ab7-4e58-ff70-7189c8aaae00"
      },
      "source": [
        "df_all = s_org2.str.extractall('([a-z]+)@([a-z.]+)')\n",
        "print(df_all)"
      ],
      "execution_count": 61,
      "outputs": [
        {
          "output_type": "stream",
          "text": [
            "           0          1\n",
            "  match                \n",
            "A 0      aaa    xxx.com\n",
            "  1      iii    xxx.com\n",
            "B 0      bbb    yyy.net\n",
            "  1      jjj    yyy.net\n",
            "C 0      ccc  zzz.co.jp\n"
          ],
          "name": "stdout"
        }
      ]
    },
    {
      "cell_type": "code",
      "metadata": {
        "id": "GFqz_cS1oMTQ",
        "colab_type": "code",
        "colab": {
          "base_uri": "https://localhost:8080/",
          "height": 119
        },
        "outputId": "01e2d3be-de1e-4987-8ea1-361920c14033"
      },
      "source": [
        "print(df_all.index)"
      ],
      "execution_count": 62,
      "outputs": [
        {
          "output_type": "stream",
          "text": [
            "MultiIndex([('A', 0),\n",
            "            ('A', 1),\n",
            "            ('B', 0),\n",
            "            ('B', 1),\n",
            "            ('C', 0)],\n",
            "           names=[None, 'match'])\n"
          ],
          "name": "stdout"
        }
      ]
    },
    {
      "cell_type": "code",
      "metadata": {
        "id": "FhYBxR0woVon",
        "colab_type": "code",
        "colab": {
          "base_uri": "https://localhost:8080/",
          "height": 34
        },
        "outputId": "9989f44e-2ed6-498b-cf73-3162a7864a9d"
      },
      "source": [
        "import pandas as pd\n",
        "print(pd.__version__)"
      ],
      "execution_count": 63,
      "outputs": [
        {
          "output_type": "stream",
          "text": [
            "1.0.5\n"
          ],
          "name": "stdout"
        }
      ]
    },
    {
      "cell_type": "code",
      "metadata": {
        "id": "mLfaQH4zoqPo",
        "colab_type": "code",
        "colab": {}
      },
      "source": [
        "df = pd.DataFrame({'i': [0, 10, 200], 'f': [0, 0.9, 0.09],\n",
        "                   's_i': ['0', '10', '200'], 's_f': ['0', '0.9', '0.09']})"
      ],
      "execution_count": 64,
      "outputs": []
    },
    {
      "cell_type": "code",
      "metadata": {
        "id": "ytmGNz0sos03",
        "colab_type": "code",
        "colab": {
          "base_uri": "https://localhost:8080/",
          "height": 142
        },
        "outputId": "514c10b3-1dff-4d98-be78-bd3a6de1bfe8"
      },
      "source": [
        "df"
      ],
      "execution_count": 65,
      "outputs": [
        {
          "output_type": "execute_result",
          "data": {
            "text/html": [
              "<div>\n",
              "<style scoped>\n",
              "    .dataframe tbody tr th:only-of-type {\n",
              "        vertical-align: middle;\n",
              "    }\n",
              "\n",
              "    .dataframe tbody tr th {\n",
              "        vertical-align: top;\n",
              "    }\n",
              "\n",
              "    .dataframe thead th {\n",
              "        text-align: right;\n",
              "    }\n",
              "</style>\n",
              "<table border=\"1\" class=\"dataframe\">\n",
              "  <thead>\n",
              "    <tr style=\"text-align: right;\">\n",
              "      <th></th>\n",
              "      <th>i</th>\n",
              "      <th>f</th>\n",
              "      <th>s_i</th>\n",
              "      <th>s_f</th>\n",
              "    </tr>\n",
              "  </thead>\n",
              "  <tbody>\n",
              "    <tr>\n",
              "      <th>0</th>\n",
              "      <td>0</td>\n",
              "      <td>0.00</td>\n",
              "      <td>0</td>\n",
              "      <td>0</td>\n",
              "    </tr>\n",
              "    <tr>\n",
              "      <th>1</th>\n",
              "      <td>10</td>\n",
              "      <td>0.90</td>\n",
              "      <td>10</td>\n",
              "      <td>0.9</td>\n",
              "    </tr>\n",
              "    <tr>\n",
              "      <th>2</th>\n",
              "      <td>200</td>\n",
              "      <td>0.09</td>\n",
              "      <td>200</td>\n",
              "      <td>0.09</td>\n",
              "    </tr>\n",
              "  </tbody>\n",
              "</table>\n",
              "</div>"
            ],
            "text/plain": [
              "     i     f  s_i   s_f\n",
              "0    0  0.00    0     0\n",
              "1   10  0.90   10   0.9\n",
              "2  200  0.09  200  0.09"
            ]
          },
          "metadata": {
            "tags": []
          },
          "execution_count": 65
        }
      ]
    },
    {
      "cell_type": "code",
      "metadata": {
        "id": "1r8YkBR5otzA",
        "colab_type": "code",
        "colab": {
          "base_uri": "https://localhost:8080/",
          "height": 102
        },
        "outputId": "db3f5514-19ad-439a-eb1b-9190a930a786"
      },
      "source": [
        "print(df.dtypes)"
      ],
      "execution_count": 66,
      "outputs": [
        {
          "output_type": "stream",
          "text": [
            "i        int64\n",
            "f      float64\n",
            "s_i     object\n",
            "s_f     object\n",
            "dtype: object\n"
          ],
          "name": "stdout"
        }
      ]
    },
    {
      "cell_type": "code",
      "metadata": {
        "id": "jA7ThmU2ou83",
        "colab_type": "code",
        "colab": {
          "base_uri": "https://localhost:8080/",
          "height": 153
        },
        "outputId": "7ad4a406-fa35-48f4-8325-a0976a503ace"
      },
      "source": [
        "print(df['i'].astype(str))\n",
        "print(df['f'].astype(str))"
      ],
      "execution_count": 67,
      "outputs": [
        {
          "output_type": "stream",
          "text": [
            "0      0\n",
            "1     10\n",
            "2    200\n",
            "Name: i, dtype: object\n",
            "0     0.0\n",
            "1     0.9\n",
            "2    0.09\n",
            "Name: f, dtype: object\n"
          ],
          "name": "stdout"
        }
      ]
    },
    {
      "cell_type": "code",
      "metadata": {
        "id": "j6IQz8Hno5Vg",
        "colab_type": "code",
        "colab": {
          "base_uri": "https://localhost:8080/",
          "height": 170
        },
        "outputId": "0eda4490-0e43-46fd-90f7-9b6935ff33e9"
      },
      "source": [
        "print(df.astype(str))\n",
        "print(df.astype(str).dtypes)"
      ],
      "execution_count": 68,
      "outputs": [
        {
          "output_type": "stream",
          "text": [
            "     i     f  s_i   s_f\n",
            "0    0   0.0    0     0\n",
            "1   10   0.9   10   0.9\n",
            "2  200  0.09  200  0.09\n",
            "i      object\n",
            "f      object\n",
            "s_i    object\n",
            "s_f    object\n",
            "dtype: object\n"
          ],
          "name": "stdout"
        }
      ]
    },
    {
      "cell_type": "code",
      "metadata": {
        "id": "ZWryvqX0o-ph",
        "colab_type": "code",
        "colab": {
          "base_uri": "https://localhost:8080/",
          "height": 153
        },
        "outputId": "e3c15972-2604-4a76-a541-2b9ea3b79990"
      },
      "source": [
        "print(df['i'].astype(float))\n",
        "print(df['f'].astype(int))"
      ],
      "execution_count": 69,
      "outputs": [
        {
          "output_type": "stream",
          "text": [
            "0      0.0\n",
            "1     10.0\n",
            "2    200.0\n",
            "Name: i, dtype: float64\n",
            "0    0\n",
            "1    0\n",
            "2    0\n",
            "Name: f, dtype: int64\n"
          ],
          "name": "stdout"
        }
      ]
    },
    {
      "cell_type": "code",
      "metadata": {
        "id": "HLJjDUybpJQY",
        "colab_type": "code",
        "colab": {
          "base_uri": "https://localhost:8080/",
          "height": 221
        },
        "outputId": "4cf5c6d9-79c7-4d31-9883-7edd5daf0c32"
      },
      "source": [
        "print(df['s_i'].astype(int))\n",
        "print(df['s_i'].astype(float))\n",
        "print(df['s_f'].astype(float))"
      ],
      "execution_count": 70,
      "outputs": [
        {
          "output_type": "stream",
          "text": [
            "0      0\n",
            "1     10\n",
            "2    200\n",
            "Name: s_i, dtype: int64\n",
            "0      0.0\n",
            "1     10.0\n",
            "2    200.0\n",
            "Name: s_i, dtype: float64\n",
            "0    0.00\n",
            "1    0.90\n",
            "2    0.09\n",
            "Name: s_f, dtype: float64\n"
          ],
          "name": "stdout"
        }
      ]
    },
    {
      "cell_type": "code",
      "metadata": {
        "id": "O4ZCAIBNpTUg",
        "colab_type": "code",
        "colab": {
          "base_uri": "https://localhost:8080/",
          "height": 85
        },
        "outputId": "6e450378-5874-4af9-8d56-29e6100707cf"
      },
      "source": [
        "print(df['s_f'].astype(float).astype(int))"
      ],
      "execution_count": 71,
      "outputs": [
        {
          "output_type": "stream",
          "text": [
            "0    0\n",
            "1    0\n",
            "2    0\n",
            "Name: s_f, dtype: int64\n"
          ],
          "name": "stdout"
        }
      ]
    },
    {
      "cell_type": "code",
      "metadata": {
        "id": "4wvCBCwgphfY",
        "colab_type": "code",
        "colab": {}
      },
      "source": [
        "s_sep = pd.Series(['1,000,000', '1,000', '1'])"
      ],
      "execution_count": 73,
      "outputs": []
    },
    {
      "cell_type": "code",
      "metadata": {
        "id": "vbK-fDqTpkT5",
        "colab_type": "code",
        "colab": {
          "base_uri": "https://localhost:8080/",
          "height": 85
        },
        "outputId": "e2a447ac-4678-4c04-868a-f9e43f16039d"
      },
      "source": [
        "print(s_sep)"
      ],
      "execution_count": 74,
      "outputs": [
        {
          "output_type": "stream",
          "text": [
            "0    1,000,000\n",
            "1        1,000\n",
            "2            1\n",
            "dtype: object\n"
          ],
          "name": "stdout"
        }
      ]
    },
    {
      "cell_type": "code",
      "metadata": {
        "id": "w5lueYr2pmZw",
        "colab_type": "code",
        "colab": {
          "base_uri": "https://localhost:8080/",
          "height": 85
        },
        "outputId": "d382d382-31b1-454a-bc2e-0115778067b1"
      },
      "source": [
        "print(s_sep.str.replace(',', '').astype(int))"
      ],
      "execution_count": 75,
      "outputs": [
        {
          "output_type": "stream",
          "text": [
            "0    1000000\n",
            "1       1000\n",
            "2          1\n",
            "dtype: int64\n"
          ],
          "name": "stdout"
        }
      ]
    },
    {
      "cell_type": "code",
      "metadata": {
        "id": "IR9LPhNlprHQ",
        "colab_type": "code",
        "colab": {}
      },
      "source": [
        "s_int = pd.Series([0xff, 0o77, 0b11])"
      ],
      "execution_count": 76,
      "outputs": []
    },
    {
      "cell_type": "code",
      "metadata": {
        "id": "3DK48_Fap7LB",
        "colab_type": "code",
        "colab": {
          "base_uri": "https://localhost:8080/",
          "height": 85
        },
        "outputId": "88b5da82-8857-4e09-c2ca-3c3fdd23a6c0"
      },
      "source": [
        "print(s_int)"
      ],
      "execution_count": 77,
      "outputs": [
        {
          "output_type": "stream",
          "text": [
            "0    255\n",
            "1     63\n",
            "2      3\n",
            "dtype: int64\n"
          ],
          "name": "stdout"
        }
      ]
    },
    {
      "cell_type": "code",
      "metadata": {
        "id": "uEsNJNsfp71I",
        "colab_type": "code",
        "colab": {
          "base_uri": "https://localhost:8080/",
          "height": 221
        },
        "outputId": "e7d56392-a34b-4748-dbfb-67957c918a4b"
      },
      "source": [
        "print(s_int.map(bin))\n",
        "print(s_int.map(oct))\n",
        "print(s_int.map(hex))"
      ],
      "execution_count": 78,
      "outputs": [
        {
          "output_type": "stream",
          "text": [
            "0    0b11111111\n",
            "1      0b111111\n",
            "2          0b11\n",
            "dtype: object\n",
            "0    0o377\n",
            "1     0o77\n",
            "2      0o3\n",
            "dtype: object\n",
            "0    0xff\n",
            "1    0x3f\n",
            "2     0x3\n",
            "dtype: object\n"
          ],
          "name": "stdout"
        }
      ]
    },
    {
      "cell_type": "code",
      "metadata": {
        "id": "SVHD3sfOqHt4",
        "colab_type": "code",
        "colab": {
          "base_uri": "https://localhost:8080/",
          "height": 221
        },
        "outputId": "ae4d8cb3-de16-4a4f-930c-eba9d790d74f"
      },
      "source": [
        "print(s_int.map('{:b}'.format))\n",
        "print(s_int.map('{:#b}'.format))\n",
        "print(s_int.map('{:#010b}'.format))"
      ],
      "execution_count": 82,
      "outputs": [
        {
          "output_type": "stream",
          "text": [
            "0    11111111\n",
            "1      111111\n",
            "2          11\n",
            "dtype: object\n",
            "0    0b11111111\n",
            "1      0b111111\n",
            "2          0b11\n",
            "dtype: object\n",
            "0    0b11111111\n",
            "1    0b00111111\n",
            "2    0b00000011\n",
            "dtype: object\n"
          ],
          "name": "stdout"
        }
      ]
    },
    {
      "cell_type": "code",
      "metadata": {
        "id": "BpE9vkXeqZzb",
        "colab_type": "code",
        "colab": {}
      },
      "source": [
        "df_str = pd.DataFrame({'bin': ['0b01', '0b10', '0b11'],\n",
        "                       'oct': ['0o07', '0o70', '0o77'],\n",
        "                       'hex': ['0x0f', '0xf0', '0xff'],\n",
        "                       'dec': ['1', '10', '11']})"
      ],
      "execution_count": 83,
      "outputs": []
    },
    {
      "cell_type": "code",
      "metadata": {
        "id": "ck53aH9lqjtQ",
        "colab_type": "code",
        "colab": {
          "base_uri": "https://localhost:8080/",
          "height": 85
        },
        "outputId": "616f88f0-f780-4083-febc-896bcf4bbc4a"
      },
      "source": [
        "print(df_str)"
      ],
      "execution_count": 84,
      "outputs": [
        {
          "output_type": "stream",
          "text": [
            "    bin   oct   hex dec\n",
            "0  0b01  0o07  0x0f   1\n",
            "1  0b10  0o70  0xf0  10\n",
            "2  0b11  0o77  0xff  11\n"
          ],
          "name": "stdout"
        }
      ]
    },
    {
      "cell_type": "code",
      "metadata": {
        "id": "PXl4ydvsqkvw",
        "colab_type": "code",
        "colab": {
          "base_uri": "https://localhost:8080/",
          "height": 85
        },
        "outputId": "74135398-bafd-4ce7-fecc-fb47255c2070"
      },
      "source": [
        "print(df_str['bin'].map(lambda x: int(x,2)))"
      ],
      "execution_count": 85,
      "outputs": [
        {
          "output_type": "stream",
          "text": [
            "0    1\n",
            "1    2\n",
            "2    3\n",
            "Name: bin, dtype: int64\n"
          ],
          "name": "stdout"
        }
      ]
    },
    {
      "cell_type": "code",
      "metadata": {
        "id": "4W-0gj3BqtkQ",
        "colab_type": "code",
        "colab": {
          "base_uri": "https://localhost:8080/",
          "height": 85
        },
        "outputId": "4b970813-3156-4fd9-b061-d81cf15e5e8d"
      },
      "source": [
        "print(df_str['oct'].map(lambda x: int(x, 8)))"
      ],
      "execution_count": 86,
      "outputs": [
        {
          "output_type": "stream",
          "text": [
            "0     7\n",
            "1    56\n",
            "2    63\n",
            "Name: oct, dtype: int64\n"
          ],
          "name": "stdout"
        }
      ]
    },
    {
      "cell_type": "code",
      "metadata": {
        "id": "PJvc9rIlqy1g",
        "colab_type": "code",
        "colab": {
          "base_uri": "https://localhost:8080/",
          "height": 85
        },
        "outputId": "8f35912a-a434-43a3-c81f-fd7b7da34e73"
      },
      "source": [
        "print(df_str['hex'].map(lambda x:int(x, 16)))"
      ],
      "execution_count": 87,
      "outputs": [
        {
          "output_type": "stream",
          "text": [
            "0     15\n",
            "1    240\n",
            "2    255\n",
            "Name: hex, dtype: int64\n"
          ],
          "name": "stdout"
        }
      ]
    },
    {
      "cell_type": "code",
      "metadata": {
        "id": "4cFF46Rvq2eH",
        "colab_type": "code",
        "colab": {
          "base_uri": "https://localhost:8080/",
          "height": 85
        },
        "outputId": "84ae7e91-b089-49f0-f30b-51ba8e05cf8c"
      },
      "source": [
        "print(df_str.applymap(lambda x: int(x,0)))"
      ],
      "execution_count": 88,
      "outputs": [
        {
          "output_type": "stream",
          "text": [
            "   bin  oct  hex  dec\n",
            "0    1    7   15    1\n",
            "1    2   56  240   10\n",
            "2    3   63  255   11\n"
          ],
          "name": "stdout"
        }
      ]
    },
    {
      "cell_type": "code",
      "metadata": {
        "id": "IcXDZtF_q-T3",
        "colab_type": "code",
        "colab": {
          "base_uri": "https://localhost:8080/",
          "height": 85
        },
        "outputId": "a412b63c-9eaa-4fae-a24a-f5baa5f7555d"
      },
      "source": [
        "print(df_str['dec'].map(lambda x:int(x,2)))"
      ],
      "execution_count": 89,
      "outputs": [
        {
          "output_type": "stream",
          "text": [
            "0    1\n",
            "1    2\n",
            "2    3\n",
            "Name: dec, dtype: int64\n"
          ],
          "name": "stdout"
        }
      ]
    },
    {
      "cell_type": "code",
      "metadata": {
        "id": "r7KYVyLyrC1A",
        "colab_type": "code",
        "colab": {
          "base_uri": "https://localhost:8080/",
          "height": 153
        },
        "outputId": "f64e6a68-6b38-4a22-b34d-edf8a4f97896"
      },
      "source": [
        "s_str_dec = pd.Series(['01', '10', '11'])\n",
        "print(s_str_dec)\n",
        "print(s_str_dec.astype(int))"
      ],
      "execution_count": 90,
      "outputs": [
        {
          "output_type": "stream",
          "text": [
            "0    01\n",
            "1    10\n",
            "2    11\n",
            "dtype: object\n",
            "0     1\n",
            "1    10\n",
            "2    11\n",
            "dtype: int64\n"
          ],
          "name": "stdout"
        }
      ]
    },
    {
      "cell_type": "code",
      "metadata": {
        "id": "IuSZ-O9qrQyo",
        "colab_type": "code",
        "colab": {
          "base_uri": "https://localhost:8080/",
          "height": 85
        },
        "outputId": "2b879a7d-dc0c-4842-fd49-c3c511648b7b"
      },
      "source": [
        "print(df_str['oct'].map(lambda x: int(x,8)).map(hex))"
      ],
      "execution_count": 91,
      "outputs": [
        {
          "output_type": "stream",
          "text": [
            "0     0x7\n",
            "1    0x38\n",
            "2    0x3f\n",
            "Name: oct, dtype: object\n"
          ],
          "name": "stdout"
        }
      ]
    },
    {
      "cell_type": "code",
      "metadata": {
        "id": "OwOThXuWreSh",
        "colab_type": "code",
        "colab": {
          "base_uri": "https://localhost:8080/",
          "height": 85
        },
        "outputId": "0fd3aaf7-38b1-4c44-e85d-9b1c79825f20"
      },
      "source": [
        "s_str = pd.Series(['0', '10', 'xxx'])\n",
        "\n",
        "print(s_str)"
      ],
      "execution_count": 92,
      "outputs": [
        {
          "output_type": "stream",
          "text": [
            "0      0\n",
            "1     10\n",
            "2    xxx\n",
            "dtype: object\n"
          ],
          "name": "stdout"
        }
      ]
    },
    {
      "cell_type": "code",
      "metadata": {
        "id": "oaknKJmEriNR",
        "colab_type": "code",
        "colab": {
          "base_uri": "https://localhost:8080/",
          "height": 85
        },
        "outputId": "b62e2319-44ff-4303-f39a-f9748d3b1d62"
      },
      "source": [
        "print(s_str.str.zfill(8))"
      ],
      "execution_count": 93,
      "outputs": [
        {
          "output_type": "stream",
          "text": [
            "0    00000000\n",
            "1    00000010\n",
            "2    00000xxx\n",
            "dtype: object\n"
          ],
          "name": "stdout"
        }
      ]
    },
    {
      "cell_type": "code",
      "metadata": {
        "id": "as_wtigIrkdh",
        "colab_type": "code",
        "colab": {
          "base_uri": "https://localhost:8080/",
          "height": 153
        },
        "outputId": "698470c6-b750-4337-8f9e-0a3922adabce"
      },
      "source": [
        "print(s_str.str.rjust(8))\n",
        "print(s_str.str.rjust(8, '_'))"
      ],
      "execution_count": 94,
      "outputs": [
        {
          "output_type": "stream",
          "text": [
            "0           0\n",
            "1          10\n",
            "2         xxx\n",
            "dtype: object\n",
            "0    _______0\n",
            "1    ______10\n",
            "2    _____xxx\n",
            "dtype: object\n"
          ],
          "name": "stdout"
        }
      ]
    },
    {
      "cell_type": "code",
      "metadata": {
        "id": "Ae7v_yicry8w",
        "colab_type": "code",
        "colab": {
          "base_uri": "https://localhost:8080/",
          "height": 289
        },
        "outputId": "6665b87b-4b01-47b5-e936-89a92ebd4d33"
      },
      "source": [
        "print(s_str.str.center(8))\n",
        "print(s_str.str.center(8, '_'))\n",
        "print(s_str.str.ljust(8))\n",
        "print(s_str.str.ljust(8, '_'))"
      ],
      "execution_count": 95,
      "outputs": [
        {
          "output_type": "stream",
          "text": [
            "0       0    \n",
            "1       10   \n",
            "2      xxx   \n",
            "dtype: object\n",
            "0    ___0____\n",
            "1    ___10___\n",
            "2    __xxx___\n",
            "dtype: object\n",
            "0    0       \n",
            "1    10      \n",
            "2    xxx     \n",
            "dtype: object\n",
            "0    0_______\n",
            "1    10______\n",
            "2    xxx_____\n",
            "dtype: object\n"
          ],
          "name": "stdout"
        }
      ]
    },
    {
      "cell_type": "code",
      "metadata": {
        "id": "VRXDhYBQsB2w",
        "colab_type": "code",
        "colab": {}
      },
      "source": [
        "s_num = pd.Series([0, 10, 100])"
      ],
      "execution_count": 96,
      "outputs": []
    },
    {
      "cell_type": "code",
      "metadata": {
        "id": "MDaG6Tb5sLzw",
        "colab_type": "code",
        "colab": {
          "base_uri": "https://localhost:8080/",
          "height": 85
        },
        "outputId": "5bec791b-4f45-4535-e367-804bf6924efb"
      },
      "source": [
        "print(s_num.astype(str).str.rjust(8,'_'))"
      ],
      "execution_count": 97,
      "outputs": [
        {
          "output_type": "stream",
          "text": [
            "0    _______0\n",
            "1    ______10\n",
            "2    _____100\n",
            "dtype: object\n"
          ],
          "name": "stdout"
        }
      ]
    },
    {
      "cell_type": "code",
      "metadata": {
        "id": "Odaev7Yks2kA",
        "colab_type": "code",
        "colab": {
          "base_uri": "https://localhost:8080/",
          "height": 85
        },
        "outputId": "af83154f-c6b2-4f7e-c10f-6502ed7ac5c4"
      },
      "source": [
        "df = pd.DataFrame({'i': [0, 10, 100],\n",
        "                   'f': [0.1234, 1.234, 12.34],\n",
        "                   'round': [0.4, 0.5, 0.6]})\n",
        "\n",
        "print(df)"
      ],
      "execution_count": 98,
      "outputs": [
        {
          "output_type": "stream",
          "text": [
            "     i        f  round\n",
            "0    0   0.1234    0.4\n",
            "1   10   1.2340    0.5\n",
            "2  100  12.3400    0.6\n"
          ],
          "name": "stdout"
        }
      ]
    },
    {
      "cell_type": "code",
      "metadata": {
        "id": "l1ZI2YmBs4fw",
        "colab_type": "code",
        "colab": {
          "base_uri": "https://localhost:8080/",
          "height": 85
        },
        "outputId": "c7b8dda7-e06e-47a7-fa1a-91522e58dd17"
      },
      "source": [
        "print(df.dtypes)"
      ],
      "execution_count": 99,
      "outputs": [
        {
          "output_type": "stream",
          "text": [
            "i          int64\n",
            "f        float64\n",
            "round    float64\n",
            "dtype: object\n"
          ],
          "name": "stdout"
        }
      ]
    },
    {
      "cell_type": "code",
      "metadata": {
        "id": "qd0amibcs_Bw",
        "colab_type": "code",
        "colab": {
          "base_uri": "https://localhost:8080/",
          "height": 153
        },
        "outputId": "c09259eb-b87f-45c6-d66b-d8bf54fb2252"
      },
      "source": [
        "print(df['i'].map('{:08}'.format))\n",
        "print(df['i'].map('{:_<8}'.format))"
      ],
      "execution_count": 100,
      "outputs": [
        {
          "output_type": "stream",
          "text": [
            "0    00000000\n",
            "1    00000010\n",
            "2    00000100\n",
            "Name: i, dtype: object\n",
            "0    0_______\n",
            "1    10______\n",
            "2    100_____\n",
            "Name: i, dtype: object\n"
          ],
          "name": "stdout"
        }
      ]
    },
    {
      "cell_type": "code",
      "metadata": {
        "id": "0CXZLWBxtROY",
        "colab_type": "code",
        "colab": {
          "base_uri": "https://localhost:8080/",
          "height": 153
        },
        "outputId": "08ccd427-188b-4c9f-d61d-42d487073352"
      },
      "source": [
        "print(df['i'].map('{:x}'.format))\n",
        "print(df['i'].map('{:#010b}'.format))"
      ],
      "execution_count": 101,
      "outputs": [
        {
          "output_type": "stream",
          "text": [
            "0     0\n",
            "1     a\n",
            "2    64\n",
            "Name: i, dtype: object\n",
            "0    0b00000000\n",
            "1    0b00001010\n",
            "2    0b01100100\n",
            "Name: i, dtype: object\n"
          ],
          "name": "stdout"
        }
      ]
    },
    {
      "cell_type": "code",
      "metadata": {
        "id": "pMxSIDd6tgSq",
        "colab_type": "code",
        "colab": {
          "base_uri": "https://localhost:8080/",
          "height": 153
        },
        "outputId": "04960938-a66f-41b0-e9ba-89585bf1336b"
      },
      "source": [
        "print(df['f'].map('{:.2f}'.format))\n",
        "print(df['f'].map('{:.2g}'.format))"
      ],
      "execution_count": 102,
      "outputs": [
        {
          "output_type": "stream",
          "text": [
            "0     0.12\n",
            "1     1.23\n",
            "2    12.34\n",
            "Name: f, dtype: object\n",
            "0    0.12\n",
            "1     1.2\n",
            "2      12\n",
            "Name: f, dtype: object\n"
          ],
          "name": "stdout"
        }
      ]
    },
    {
      "cell_type": "code",
      "metadata": {
        "id": "iklwfWXGtsoo",
        "colab_type": "code",
        "colab": {
          "base_uri": "https://localhost:8080/",
          "height": 85
        },
        "outputId": "a84a2803-707b-4f7e-b360-dbb905eec916"
      },
      "source": [
        "print(df['f'].map('{:.2e}'.format))"
      ],
      "execution_count": 103,
      "outputs": [
        {
          "output_type": "stream",
          "text": [
            "0    1.23e-01\n",
            "1    1.23e+00\n",
            "2    1.23e+01\n",
            "Name: f, dtype: object\n"
          ],
          "name": "stdout"
        }
      ]
    },
    {
      "cell_type": "code",
      "metadata": {
        "id": "K7-VKOlJt0Zo",
        "colab_type": "code",
        "colab": {
          "base_uri": "https://localhost:8080/",
          "height": 85
        },
        "outputId": "79ef4f0c-48ef-4216-c92f-d39289de5c3c"
      },
      "source": [
        "print(df['f'].map('{:.2%}'.format))"
      ],
      "execution_count": 104,
      "outputs": [
        {
          "output_type": "stream",
          "text": [
            "0      12.34%\n",
            "1     123.40%\n",
            "2    1234.00%\n",
            "Name: f, dtype: object\n"
          ],
          "name": "stdout"
        }
      ]
    },
    {
      "cell_type": "code",
      "metadata": {
        "id": "4UPP4Tr_t3xQ",
        "colab_type": "code",
        "colab": {
          "base_uri": "https://localhost:8080/",
          "height": 85
        },
        "outputId": "7820a0fa-8f8c-49da-ee64-9ce7978c4712"
      },
      "source": [
        "print(df['round'].map('{:.0f}'.format))"
      ],
      "execution_count": 105,
      "outputs": [
        {
          "output_type": "stream",
          "text": [
            "0    0\n",
            "1    0\n",
            "2    1\n",
            "Name: round, dtype: object\n"
          ],
          "name": "stdout"
        }
      ]
    },
    {
      "cell_type": "code",
      "metadata": {
        "id": "04Exjlvkt9_P",
        "colab_type": "code",
        "colab": {
          "base_uri": "https://localhost:8080/",
          "height": 85
        },
        "outputId": "de3556c0-1c4d-47da-f8ce-e24d01e1802f"
      },
      "source": [
        "\n",
        "df = pd.DataFrame({'a': ['abcde', 'fghij', 'klmno'],\n",
        "                   'b': [123, 456, 789]})\n",
        "\n",
        "print(df)"
      ],
      "execution_count": 106,
      "outputs": [
        {
          "output_type": "stream",
          "text": [
            "       a    b\n",
            "0  abcde  123\n",
            "1  fghij  456\n",
            "2  klmno  789\n"
          ],
          "name": "stdout"
        }
      ]
    },
    {
      "cell_type": "code",
      "metadata": {
        "id": "bo23GmdWuOnf",
        "colab_type": "code",
        "colab": {
          "base_uri": "https://localhost:8080/",
          "height": 85
        },
        "outputId": "7ac709cc-b2a6-459b-d2fd-56b420ba2898"
      },
      "source": [
        "print(df['a'].str[:2])"
      ],
      "execution_count": 107,
      "outputs": [
        {
          "output_type": "stream",
          "text": [
            "0    ab\n",
            "1    fg\n",
            "2    kl\n",
            "Name: a, dtype: object\n"
          ],
          "name": "stdout"
        }
      ]
    },
    {
      "cell_type": "code",
      "metadata": {
        "id": "FYk_Cvs1uR9X",
        "colab_type": "code",
        "colab": {
          "base_uri": "https://localhost:8080/",
          "height": 85
        },
        "outputId": "31f1fd73-bb79-4797-f4bb-c5a8f1042ba3"
      },
      "source": [
        "print(df['a'].str[-2:])"
      ],
      "execution_count": 108,
      "outputs": [
        {
          "output_type": "stream",
          "text": [
            "0    de\n",
            "1    ij\n",
            "2    no\n",
            "Name: a, dtype: object\n"
          ],
          "name": "stdout"
        }
      ]
    },
    {
      "cell_type": "code",
      "metadata": {
        "id": "bg2xdm5uuVFn",
        "colab_type": "code",
        "colab": {
          "base_uri": "https://localhost:8080/",
          "height": 85
        },
        "outputId": "2f32a163-8d7a-4018-f267-bbd2ba3db95f"
      },
      "source": [
        "print(df['a'].str[::2])"
      ],
      "execution_count": 109,
      "outputs": [
        {
          "output_type": "stream",
          "text": [
            "0    ace\n",
            "1    fhj\n",
            "2    kmo\n",
            "Name: a, dtype: object\n"
          ],
          "name": "stdout"
        }
      ]
    },
    {
      "cell_type": "code",
      "metadata": {
        "id": "lZHvrVgcuXbP",
        "colab_type": "code",
        "colab": {
          "base_uri": "https://localhost:8080/",
          "height": 221
        },
        "outputId": "b4626b72-7d2e-44d0-ba9b-55d607c61fcb"
      },
      "source": [
        "print(df['a'].str[2])\n",
        "print(df['a'].str[0])\n",
        "print(df['a'].str[-1])"
      ],
      "execution_count": 110,
      "outputs": [
        {
          "output_type": "stream",
          "text": [
            "0    c\n",
            "1    h\n",
            "2    m\n",
            "Name: a, dtype: object\n",
            "0    a\n",
            "1    f\n",
            "2    k\n",
            "Name: a, dtype: object\n",
            "0    e\n",
            "1    j\n",
            "2    o\n",
            "Name: a, dtype: object\n"
          ],
          "name": "stdout"
        }
      ]
    },
    {
      "cell_type": "code",
      "metadata": {
        "id": "K2dnWQDrucmH",
        "colab_type": "code",
        "colab": {
          "base_uri": "https://localhost:8080/",
          "height": 85
        },
        "outputId": "406773de-272b-4257-d415-0a65f55ef568"
      },
      "source": [
        "df['a_head'] = df['a'].str[:2]\n",
        "print(df)"
      ],
      "execution_count": 111,
      "outputs": [
        {
          "output_type": "stream",
          "text": [
            "       a    b a_head\n",
            "0  abcde  123     ab\n",
            "1  fghij  456     fg\n",
            "2  klmno  789     kl\n"
          ],
          "name": "stdout"
        }
      ]
    },
    {
      "cell_type": "code",
      "metadata": {
        "id": "0bsXEhA4uhv4",
        "colab_type": "code",
        "colab": {
          "base_uri": "https://localhost:8080/",
          "height": 85
        },
        "outputId": "44d974b6-ff2f-4d3e-e699-78cec1a8b609"
      },
      "source": [
        "print(df['b'].astype(str).str[:2])"
      ],
      "execution_count": 112,
      "outputs": [
        {
          "output_type": "stream",
          "text": [
            "0    12\n",
            "1    45\n",
            "2    78\n",
            "Name: b, dtype: object\n"
          ],
          "name": "stdout"
        }
      ]
    },
    {
      "cell_type": "code",
      "metadata": {
        "id": "o_eB-theuqDv",
        "colab_type": "code",
        "colab": {
          "base_uri": "https://localhost:8080/",
          "height": 85
        },
        "outputId": "b70ad89f-1686-4f9d-8475-e4d5c2997e0d"
      },
      "source": [
        "print(df['b'].astype(str).str[:2].astype(int))"
      ],
      "execution_count": 113,
      "outputs": [
        {
          "output_type": "stream",
          "text": [
            "0    12\n",
            "1    45\n",
            "2    78\n",
            "Name: b, dtype: int64\n"
          ],
          "name": "stdout"
        }
      ]
    },
    {
      "cell_type": "code",
      "metadata": {
        "id": "kqSFS-2juvr5",
        "colab_type": "code",
        "colab": {
          "base_uri": "https://localhost:8080/",
          "height": 85
        },
        "outputId": "9423f778-556b-4524-e93f-7ab42948b57c"
      },
      "source": [
        "print((df['b']/10).astype(int))"
      ],
      "execution_count": 114,
      "outputs": [
        {
          "output_type": "stream",
          "text": [
            "0    12\n",
            "1    45\n",
            "2    78\n",
            "Name: b, dtype: int64\n"
          ],
          "name": "stdout"
        }
      ]
    },
    {
      "cell_type": "code",
      "metadata": {
        "id": "Rw83OkVGu3Ix",
        "colab_type": "code",
        "colab": {}
      },
      "source": [
        ""
      ],
      "execution_count": null,
      "outputs": []
    }
  ]
}