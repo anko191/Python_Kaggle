{
 "cells": [
  {
   "cell_type": "markdown",
   "metadata": {},
   "source": [
    "[Stock Price Prediction Using Python & Machine Learning](https://www.youtube.com/watch?v=QIUxPv5PJOY&feature=emb_title)\n",
    "強すぎんだよなぁ<br>\n",
    "[これも](https://randerson112358.medium.com/stock-price-prediction-using-python-machine-learning-e82a039ac2bb)"
   ]
  },
  {
   "cell_type": "code",
   "execution_count": 2,
   "metadata": {
    "scrolled": true
   },
   "outputs": [
    {
     "name": "stdout",
     "output_type": "stream",
     "text": [
      "Collecting pandas_datareader\n",
      "  Downloading pandas_datareader-0.9.0-py3-none-any.whl (107 kB)\n",
      "Requirement already satisfied: requests>=2.19.0 in d:\\anaconda\\envs\\pytorch_env\\lib\\site-packages (from pandas_datareader) (2.24.0)\n",
      "Requirement already satisfied: pandas>=0.23 in d:\\anaconda\\envs\\pytorch_env\\lib\\site-packages (from pandas_datareader) (1.1.3)\n",
      "Requirement already satisfied: lxml in d:\\anaconda\\envs\\pytorch_env\\lib\\site-packages (from pandas_datareader) (4.6.1)\n",
      "Requirement already satisfied: certifi>=2017.4.17 in d:\\anaconda\\envs\\pytorch_env\\lib\\site-packages (from requests>=2.19.0->pandas_datareader) (2020.11.8)\n",
      "Requirement already satisfied: idna<3,>=2.5 in d:\\anaconda\\envs\\pytorch_env\\lib\\site-packages (from requests>=2.19.0->pandas_datareader) (2.10)\n",
      "Requirement already satisfied: urllib3!=1.25.0,!=1.25.1,<1.26,>=1.21.1 in d:\\anaconda\\envs\\pytorch_env\\lib\\site-packages (from requests>=2.19.0->pandas_datareader) (1.25.11)\n",
      "Requirement already satisfied: chardet<4,>=3.0.2 in d:\\anaconda\\envs\\pytorch_env\\lib\\site-packages (from requests>=2.19.0->pandas_datareader) (3.0.4)\n",
      "Requirement already satisfied: pytz>=2017.2 in d:\\anaconda\\envs\\pytorch_env\\lib\\site-packages (from pandas>=0.23->pandas_datareader) (2020.1)\n",
      "Requirement already satisfied: python-dateutil>=2.7.3 in d:\\anaconda\\envs\\pytorch_env\\lib\\site-packages (from pandas>=0.23->pandas_datareader) (2.8.1)\n",
      "Requirement already satisfied: numpy>=1.15.4 in d:\\anaconda\\envs\\pytorch_env\\lib\\site-packages (from pandas>=0.23->pandas_datareader) (1.19.2)\n",
      "Requirement already satisfied: six>=1.5 in d:\\anaconda\\envs\\pytorch_env\\lib\\site-packages (from python-dateutil>=2.7.3->pandas>=0.23->pandas_datareader) (1.15.0)\n",
      "Installing collected packages: pandas-datareader\n",
      "Successfully installed pandas-datareader-0.9.0\n"
     ]
    }
   ],
   "source": [
    "!pip install pandas_datareader"
   ]
  },
  {
   "cell_type": "code",
   "execution_count": 3,
   "metadata": {},
   "outputs": [],
   "source": [
    "import math\n",
    "import pandas_datareader as web\n",
    "import numpy as np\n",
    "import pandas as pd\n",
    "from sklearn.preprocessing import MinMaxScaler\n",
    "from keras.models import Sequential\n",
    "from keras.layers import Dense, LSTM\n",
    "import matplotlib.pyplot as plt\n",
    "plt.style.use('dark_background')"
   ]
  },
  {
   "cell_type": "code",
   "execution_count": 7,
   "metadata": {},
   "outputs": [
    {
     "data": {
      "text/html": [
       "<div>\n",
       "<style scoped>\n",
       "    .dataframe tbody tr th:only-of-type {\n",
       "        vertical-align: middle;\n",
       "    }\n",
       "\n",
       "    .dataframe tbody tr th {\n",
       "        vertical-align: top;\n",
       "    }\n",
       "\n",
       "    .dataframe thead th {\n",
       "        text-align: right;\n",
       "    }\n",
       "</style>\n",
       "<table border=\"1\" class=\"dataframe\">\n",
       "  <thead>\n",
       "    <tr style=\"text-align: right;\">\n",
       "      <th></th>\n",
       "      <th>High</th>\n",
       "      <th>Low</th>\n",
       "      <th>Open</th>\n",
       "      <th>Close</th>\n",
       "      <th>Volume</th>\n",
       "      <th>Adj Close</th>\n",
       "    </tr>\n",
       "    <tr>\n",
       "      <th>Date</th>\n",
       "      <th></th>\n",
       "      <th></th>\n",
       "      <th></th>\n",
       "      <th></th>\n",
       "      <th></th>\n",
       "      <th></th>\n",
       "    </tr>\n",
       "  </thead>\n",
       "  <tbody>\n",
       "    <tr>\n",
       "      <th>2012-01-03</th>\n",
       "      <td>14.732143</td>\n",
       "      <td>14.607143</td>\n",
       "      <td>14.621429</td>\n",
       "      <td>14.686786</td>\n",
       "      <td>302220800.0</td>\n",
       "      <td>12.669562</td>\n",
       "    </tr>\n",
       "    <tr>\n",
       "      <th>2012-01-04</th>\n",
       "      <td>14.810000</td>\n",
       "      <td>14.617143</td>\n",
       "      <td>14.642857</td>\n",
       "      <td>14.765714</td>\n",
       "      <td>260022000.0</td>\n",
       "      <td>12.737653</td>\n",
       "    </tr>\n",
       "    <tr>\n",
       "      <th>2012-01-05</th>\n",
       "      <td>14.948214</td>\n",
       "      <td>14.738214</td>\n",
       "      <td>14.819643</td>\n",
       "      <td>14.929643</td>\n",
       "      <td>271269600.0</td>\n",
       "      <td>12.879066</td>\n",
       "    </tr>\n",
       "    <tr>\n",
       "      <th>2012-01-06</th>\n",
       "      <td>15.098214</td>\n",
       "      <td>14.972143</td>\n",
       "      <td>14.991786</td>\n",
       "      <td>15.085714</td>\n",
       "      <td>318292800.0</td>\n",
       "      <td>13.013701</td>\n",
       "    </tr>\n",
       "    <tr>\n",
       "      <th>2012-01-09</th>\n",
       "      <td>15.276786</td>\n",
       "      <td>15.048214</td>\n",
       "      <td>15.196429</td>\n",
       "      <td>15.061786</td>\n",
       "      <td>394024400.0</td>\n",
       "      <td>12.993060</td>\n",
       "    </tr>\n",
       "    <tr>\n",
       "      <th>...</th>\n",
       "      <td>...</td>\n",
       "      <td>...</td>\n",
       "      <td>...</td>\n",
       "      <td>...</td>\n",
       "      <td>...</td>\n",
       "      <td>...</td>\n",
       "    </tr>\n",
       "    <tr>\n",
       "      <th>2019-12-11</th>\n",
       "      <td>67.775002</td>\n",
       "      <td>67.125000</td>\n",
       "      <td>67.202499</td>\n",
       "      <td>67.692497</td>\n",
       "      <td>78756800.0</td>\n",
       "      <td>67.112915</td>\n",
       "    </tr>\n",
       "    <tr>\n",
       "      <th>2019-12-12</th>\n",
       "      <td>68.139999</td>\n",
       "      <td>66.830002</td>\n",
       "      <td>66.945000</td>\n",
       "      <td>67.864998</td>\n",
       "      <td>137310400.0</td>\n",
       "      <td>67.283928</td>\n",
       "    </tr>\n",
       "    <tr>\n",
       "      <th>2019-12-13</th>\n",
       "      <td>68.824997</td>\n",
       "      <td>67.732498</td>\n",
       "      <td>67.864998</td>\n",
       "      <td>68.787498</td>\n",
       "      <td>133587600.0</td>\n",
       "      <td>68.198540</td>\n",
       "    </tr>\n",
       "    <tr>\n",
       "      <th>2019-12-16</th>\n",
       "      <td>70.197502</td>\n",
       "      <td>69.245003</td>\n",
       "      <td>69.250000</td>\n",
       "      <td>69.964996</td>\n",
       "      <td>128186000.0</td>\n",
       "      <td>69.365952</td>\n",
       "    </tr>\n",
       "    <tr>\n",
       "      <th>2019-12-17</th>\n",
       "      <td>70.442497</td>\n",
       "      <td>69.699997</td>\n",
       "      <td>69.892502</td>\n",
       "      <td>70.102501</td>\n",
       "      <td>114158400.0</td>\n",
       "      <td>69.502274</td>\n",
       "    </tr>\n",
       "  </tbody>\n",
       "</table>\n",
       "<p>2003 rows × 6 columns</p>\n",
       "</div>"
      ],
      "text/plain": [
       "                 High        Low       Open      Close       Volume  Adj Close\n",
       "Date                                                                          \n",
       "2012-01-03  14.732143  14.607143  14.621429  14.686786  302220800.0  12.669562\n",
       "2012-01-04  14.810000  14.617143  14.642857  14.765714  260022000.0  12.737653\n",
       "2012-01-05  14.948214  14.738214  14.819643  14.929643  271269600.0  12.879066\n",
       "2012-01-06  15.098214  14.972143  14.991786  15.085714  318292800.0  13.013701\n",
       "2012-01-09  15.276786  15.048214  15.196429  15.061786  394024400.0  12.993060\n",
       "...               ...        ...        ...        ...          ...        ...\n",
       "2019-12-11  67.775002  67.125000  67.202499  67.692497   78756800.0  67.112915\n",
       "2019-12-12  68.139999  66.830002  66.945000  67.864998  137310400.0  67.283928\n",
       "2019-12-13  68.824997  67.732498  67.864998  68.787498  133587600.0  68.198540\n",
       "2019-12-16  70.197502  69.245003  69.250000  69.964996  128186000.0  69.365952\n",
       "2019-12-17  70.442497  69.699997  69.892502  70.102501  114158400.0  69.502274\n",
       "\n",
       "[2003 rows x 6 columns]"
      ]
     },
     "execution_count": 7,
     "metadata": {},
     "output_type": "execute_result"
    }
   ],
   "source": [
    "# get the stock quote\n",
    "df = web.DataReader('AAPL', data_source='yahoo', start = '2012-01-01', end = '2019-12-17')\n",
    "# show the data\n",
    "df"
   ]
  },
  {
   "cell_type": "code",
   "execution_count": 8,
   "metadata": {},
   "outputs": [
    {
     "data": {
      "text/plain": [
       "(2003, 6)"
      ]
     },
     "execution_count": 8,
     "metadata": {},
     "output_type": "execute_result"
    }
   ],
   "source": [
    "# get the number of rows and columns\n",
    "df.shape"
   ]
  },
  {
   "cell_type": "code",
   "execution_count": 9,
   "metadata": {},
   "outputs": [
    {
     "data": {
      "image/png": "[encoded data removed]",
      "text/plain": [
       "<Figure size 1152x576 with 1 Axes>"
      ]
     },
     "metadata": {},
     "output_type": "display_data"
    }
   ],
   "source": [
    "# visualize the closing price history\n",
    "plt.figure(figsize=(16,8))\n",
    "plt.title('Close Price History')\n",
    "plt.plot(df['Close'])\n",
    "plt.xlabel('Date', fontsize=18)\n",
    "plt.ylabel('Close Price USD ($)', fontsize=18)\n",
    "plt.show()"
   ]
  },
  {
   "cell_type": "code",
   "execution_count": 10,
   "metadata": {},
   "outputs": [
    {
     "data": {
      "text/plain": [
       "1603"
      ]
     },
     "execution_count": 10,
     "metadata": {},
     "output_type": "execute_result"
    }
   ],
   "source": [
    "# Create a new dataframe with only the Close column\n",
    "data = df.filter(['Close'])\n",
    "# Convert the dataframe to a numpy array\n",
    "dataset = data.values\n",
    "# Get the number of rows to train the model on\n",
    "training_data_len = math.ceil(len(dataset) * .8)\n",
    "\n",
    "training_data_len"
   ]
  },
  {
   "cell_type": "code",
   "execution_count": 12,
   "metadata": {},
   "outputs": [
    {
     "data": {
      "text/plain": [
       "array([[0.01316509],\n",
       "       [0.01457063],\n",
       "       [0.01748985],\n",
       "       ...,\n",
       "       [0.97658263],\n",
       "       [0.99755134],\n",
       "       [1.        ]])"
      ]
     },
     "execution_count": 12,
     "metadata": {},
     "output_type": "execute_result"
    }
   ],
   "source": [
    "# Scale the data\n",
    "scaler = MinMaxScaler(feature_range=(0,1))\n",
    "scaled_data = scaler.fit_transform(dataset)\n",
    "scaled_data"
   ]
  },
  {
   "cell_type": "code",
   "execution_count": 14,
   "metadata": {
    "scrolled": true
   },
   "outputs": [
    {
     "name": "stdout",
     "output_type": "stream",
     "text": [
      "[array([0.01316509, 0.01457063, 0.01748985, 0.02026915, 0.01984303,\n",
      "       0.02080338, 0.02036454, 0.01962679, 0.01862191, 0.02173194,\n",
      "       0.02453668, 0.02367172, 0.01893355, 0.02345548, 0.01900352,\n",
      "       0.03569838, 0.03440732, 0.0360927 , 0.03973694, 0.04194384,\n",
      "       0.0417594 , 0.0410789 , 0.04397903, 0.04670744, 0.04979839,\n",
      "       0.05479095, 0.0652785 , 0.06543749, 0.07127594, 0.07563885,\n",
      "       0.06814049, 0.07102789, 0.07097066, 0.07906688, 0.07791571,\n",
      "       0.08004628, 0.08387497, 0.08600558, 0.09214292, 0.09661394,\n",
      "       0.09790501, 0.09835659, 0.09071194, 0.08886753, 0.08914103,\n",
      "       0.09632778, 0.09835024, 0.10269409, 0.11293358, 0.12659476,\n",
      "       0.12403805, 0.1240444 , 0.13392141, 0.13701237, 0.13481179,\n",
      "       0.13280207, 0.13070964, 0.13766105, 0.14243103, 0.14442805])]\n",
      "[0.13949272033425864]\n",
      "\n",
      "[array([0.01316509, 0.01457063, 0.01748985, 0.02026915, 0.01984303,\n",
      "       0.02080338, 0.02036454, 0.01962679, 0.01862191, 0.02173194,\n",
      "       0.02453668, 0.02367172, 0.01893355, 0.02345548, 0.01900352,\n",
      "       0.03569838, 0.03440732, 0.0360927 , 0.03973694, 0.04194384,\n",
      "       0.0417594 , 0.0410789 , 0.04397903, 0.04670744, 0.04979839,\n",
      "       0.05479095, 0.0652785 , 0.06543749, 0.07127594, 0.07563885,\n",
      "       0.06814049, 0.07102789, 0.07097066, 0.07906688, 0.07791571,\n",
      "       0.08004628, 0.08387497, 0.08600558, 0.09214292, 0.09661394,\n",
      "       0.09790501, 0.09835659, 0.09071194, 0.08886753, 0.08914103,\n",
      "       0.09632778, 0.09835024, 0.10269409, 0.11293358, 0.12659476,\n",
      "       0.12403805, 0.1240444 , 0.13392141, 0.13701237, 0.13481179,\n",
      "       0.13280207, 0.13070964, 0.13766105, 0.14243103, 0.14442805]), array([0.01457063, 0.01748985, 0.02026915, 0.01984303, 0.02080338,\n",
      "       0.02036454, 0.01962679, 0.01862191, 0.02173194, 0.02453668,\n",
      "       0.02367172, 0.01893355, 0.02345548, 0.01900352, 0.03569838,\n",
      "       0.03440732, 0.0360927 , 0.03973694, 0.04194384, 0.0417594 ,\n",
      "       0.0410789 , 0.04397903, 0.04670744, 0.04979839, 0.05479095,\n",
      "       0.0652785 , 0.06543749, 0.07127594, 0.07563885, 0.06814049,\n",
      "       0.07102789, 0.07097066, 0.07906688, 0.07791571, 0.08004628,\n",
      "       0.08387497, 0.08600558, 0.09214292, 0.09661394, 0.09790501,\n",
      "       0.09835659, 0.09071194, 0.08886753, 0.08914103, 0.09632778,\n",
      "       0.09835024, 0.10269409, 0.11293358, 0.12659476, 0.12403805,\n",
      "       0.1240444 , 0.13392141, 0.13701237, 0.13481179, 0.13280207,\n",
      "       0.13070964, 0.13766105, 0.14243103, 0.14442805, 0.13949272])]\n",
      "[0.13949272033425864, 0.13293562570222134]\n",
      "\n"
     ]
    }
   ],
   "source": [
    "# Creat the training data set\n",
    "# Create the scaled training dataset\n",
    "train_data = scaled_data[0:training_data_len, :]\n",
    "# Split the data into x_train, y_train data sets\n",
    "x_train = []\n",
    "y_train = []\n",
    "\n",
    "for i in range(60, len(train_data)):\n",
    "    x_train.append(train_data[i-60:i, 0])\n",
    "    y_train.append(train_data[i, 0])\n",
    "    # wide training ~ \n",
    "    if i <= 61:\n",
    "        print(x_train)\n",
    "        print(y_train)\n",
    "        print()"
   ]
  },
  {
   "cell_type": "code",
   "execution_count": 15,
   "metadata": {},
   "outputs": [],
   "source": [
    "# Convert the x_train and y_train to numpy arrays\n",
    "# LSTM\n",
    "x_train, y_train = np.array(x_train), np.array(y_train)"
   ]
  },
  {
   "cell_type": "code",
   "execution_count": 16,
   "metadata": {},
   "outputs": [
    {
     "data": {
      "text/plain": [
       "(1543, 60)"
      ]
     },
     "execution_count": 16,
     "metadata": {},
     "output_type": "execute_result"
    }
   ],
   "source": [
    "# Reshape the data\n",
    "# LSTM network 3-dimensional,\n",
    "x_train.shape"
   ]
  },
  {
   "cell_type": "code",
   "execution_count": 17,
   "metadata": {},
   "outputs": [
    {
     "data": {
      "text/plain": [
       "(1543, 60, 1)"
      ]
     },
     "execution_count": 17,
     "metadata": {},
     "output_type": "execute_result"
    }
   ],
   "source": [
    "x_train = np.reshape(x_train, (x_train.shape[0], x_train.shape[1], 1)) # features 1\n",
    "x_train.shape"
   ]
  },
  {
   "cell_type": "code",
   "execution_count": 18,
   "metadata": {},
   "outputs": [],
   "source": [
    "# Build the LSTM model\n",
    "model = Sequential()\n",
    "model.add(LSTM(50, return_sequences = True, input_shape = (x_train.shape[1], 1)))\n",
    "model.add(LSTM(50, return_sequences = False))\n",
    "model.add(Dense(25))\n",
    "model.add(Dense(1))"
   ]
  },
  {
   "cell_type": "code",
   "execution_count": 19,
   "metadata": {},
   "outputs": [],
   "source": [
    "# Compile the model\n",
    "model.compile(optimizer = 'adam', loss = 'mean_squared_error')"
   ]
  },
  {
   "cell_type": "code",
   "execution_count": 31,
   "metadata": {},
   "outputs": [
    {
     "name": "stdout",
     "output_type": "stream",
     "text": [
      "Epoch 1/5\n",
      "1543/1543 [==============================] - 25s 16ms/step - loss: 3.5344e-04\n",
      "Epoch 2/5\n",
      "1543/1543 [==============================] - 26s 17ms/step - loss: 2.2966e-04\n",
      "Epoch 3/5\n",
      "1543/1543 [==============================] - 27s 17ms/step - loss: 1.8193e-04\n",
      "Epoch 4/5\n",
      "1543/1543 [==============================] - 22s 15ms/step - loss: 1.9524e-04\n",
      "Epoch 5/5\n",
      "1543/1543 [==============================] - 25s 16ms/step - loss: 1.4813e-04\n"
     ]
    },
    {
     "data": {
      "text/plain": [
       "<tensorflow.python.keras.callbacks.History at 0x1e55b0481f0>"
      ]
     },
     "execution_count": 31,
     "metadata": {},
     "output_type": "execute_result"
    }
   ],
   "source": [
    "# Train the model\n",
    "model.fit(x_train, y_train, batch_size = 1, epochs = 5)"
   ]
  },
  {
   "cell_type": "code",
   "execution_count": 32,
   "metadata": {},
   "outputs": [],
   "source": [
    "# Create the testing data set\n",
    "# Create a new array containing scaled values from index 1543 to 2003\n",
    "test_data = scaled_data[training_data_len - 60:, :]\n",
    "# Create the datasets x_test and y_test\n",
    "x_test = []\n",
    "y_test = dataset[training_data_len:, :]\n",
    "for i in range(60, len(test_data)):\n",
    "    x_test.append(test_data[i-60:i, 0])"
   ]
  },
  {
   "cell_type": "code",
   "execution_count": 33,
   "metadata": {},
   "outputs": [],
   "source": [
    "# Convert the data to a numpy \n",
    "x_test = np.array(x_test)"
   ]
  },
  {
   "cell_type": "code",
   "execution_count": 34,
   "metadata": {},
   "outputs": [],
   "source": [
    "# Reshape the data\n",
    "x_test = np.reshape(x_test, (x_test.shape[0], x_test.shape[1], 1))"
   ]
  },
  {
   "cell_type": "code",
   "execution_count": 35,
   "metadata": {},
   "outputs": [],
   "source": [
    "# Get the models predicted price values\n",
    "predictions = model.predict(x_test)\n",
    "predictions = scaler.inverse_transform(predictions)\n",
    "# inverseってこういう時に使うのか"
   ]
  },
  {
   "cell_type": "code",
   "execution_count": 36,
   "metadata": {},
   "outputs": [],
   "source": [
    "from sklearn.metrics import mean_squared_error"
   ]
  },
  {
   "cell_type": "code",
   "execution_count": 37,
   "metadata": {},
   "outputs": [
    {
     "name": "stdout",
     "output_type": "stream",
     "text": [
      "1.1041950221806769\n"
     ]
    }
   ],
   "source": [
    "# Get the root mean squared error (RMSE)\n",
    "rmse = np.sqrt(mean_squared_error(predictions, y_test))\n",
    "print(rmse)"
   ]
  },
  {
   "cell_type": "code",
   "execution_count": 41,
   "metadata": {},
   "outputs": [
    {
     "name": "stderr",
     "output_type": "stream",
     "text": [
      "<ipython-input-41-8360ef486db3>:4: SettingWithCopyWarning: \n",
      "A value is trying to be set on a copy of a slice from a DataFrame.\n",
      "Try using .loc[row_indexer,col_indexer] = value instead\n",
      "\n",
      "See the caveats in the documentation: https://pandas.pydata.org/pandas-docs/stable/user_guide/indexing.html#returning-a-view-versus-a-copy\n",
      "  valid['Predictions'] = predictions\n"
     ]
    },
    {
     "data": {
      "image/png": "[encoded data removed]",
      "text/plain": [
       "<Figure size 1152x576 with 1 Axes>"
      ]
     },
     "metadata": {},
     "output_type": "display_data"
    }
   ],
   "source": [
    "# Plot the data\n",
    "train = data[:training_data_len]\n",
    "valid = data[training_data_len:]\n",
    "valid['Predictions'] = predictions\n",
    "\n",
    "# Visualize the model\n",
    "plt.figure(figsize=(16,8))\n",
    "plt.title('Model')\n",
    "plt.xlabel('Date', fontsize=18)\n",
    "plt.ylabel('Close Price USD $', fontsize=18)\n",
    "plt.plot(train['Close'])\n",
    "plt.plot(valid[['Close', 'Predictions']], lw = 5)\n",
    "plt.legend(['Train', 'valid', 'Predictions'], loc='lower right')\n",
    "plt.show()"
   ]
  },
  {
   "cell_type": "code",
   "execution_count": 42,
   "metadata": {},
   "outputs": [
    {
     "data": {
      "text/html": [
       "<div>\n",
       "<style scoped>\n",
       "    .dataframe tbody tr th:only-of-type {\n",
       "        vertical-align: middle;\n",
       "    }\n",
       "\n",
       "    .dataframe tbody tr th {\n",
       "        vertical-align: top;\n",
       "    }\n",
       "\n",
       "    .dataframe thead th {\n",
       "        text-align: right;\n",
       "    }\n",
       "</style>\n",
       "<table border=\"1\" class=\"dataframe\">\n",
       "  <thead>\n",
       "    <tr style=\"text-align: right;\">\n",
       "      <th></th>\n",
       "      <th>Close</th>\n",
       "      <th>Predictions</th>\n",
       "    </tr>\n",
       "    <tr>\n",
       "      <th>Date</th>\n",
       "      <th></th>\n",
       "      <th></th>\n",
       "    </tr>\n",
       "  </thead>\n",
       "  <tbody>\n",
       "    <tr>\n",
       "      <th>2018-05-17</th>\n",
       "      <td>46.747501</td>\n",
       "      <td>47.695480</td>\n",
       "    </tr>\n",
       "    <tr>\n",
       "      <th>2018-05-18</th>\n",
       "      <td>46.577499</td>\n",
       "      <td>47.196453</td>\n",
       "    </tr>\n",
       "    <tr>\n",
       "      <th>2018-05-21</th>\n",
       "      <td>46.907501</td>\n",
       "      <td>47.091427</td>\n",
       "    </tr>\n",
       "    <tr>\n",
       "      <th>2018-05-22</th>\n",
       "      <td>46.790001</td>\n",
       "      <td>47.554386</td>\n",
       "    </tr>\n",
       "    <tr>\n",
       "      <th>2018-05-23</th>\n",
       "      <td>47.090000</td>\n",
       "      <td>47.346497</td>\n",
       "    </tr>\n",
       "    <tr>\n",
       "      <th>...</th>\n",
       "      <td>...</td>\n",
       "      <td>...</td>\n",
       "    </tr>\n",
       "    <tr>\n",
       "      <th>2019-12-11</th>\n",
       "      <td>67.692497</td>\n",
       "      <td>67.950539</td>\n",
       "    </tr>\n",
       "    <tr>\n",
       "      <th>2019-12-12</th>\n",
       "      <td>67.864998</td>\n",
       "      <td>68.414818</td>\n",
       "    </tr>\n",
       "    <tr>\n",
       "      <th>2019-12-13</th>\n",
       "      <td>68.787498</td>\n",
       "      <td>68.449516</td>\n",
       "    </tr>\n",
       "    <tr>\n",
       "      <th>2019-12-16</th>\n",
       "      <td>69.964996</td>\n",
       "      <td>69.750481</td>\n",
       "    </tr>\n",
       "    <tr>\n",
       "      <th>2019-12-17</th>\n",
       "      <td>70.102501</td>\n",
       "      <td>71.009293</td>\n",
       "    </tr>\n",
       "  </tbody>\n",
       "</table>\n",
       "<p>400 rows × 2 columns</p>\n",
       "</div>"
      ],
      "text/plain": [
       "                Close  Predictions\n",
       "Date                              \n",
       "2018-05-17  46.747501    47.695480\n",
       "2018-05-18  46.577499    47.196453\n",
       "2018-05-21  46.907501    47.091427\n",
       "2018-05-22  46.790001    47.554386\n",
       "2018-05-23  47.090000    47.346497\n",
       "...               ...          ...\n",
       "2019-12-11  67.692497    67.950539\n",
       "2019-12-12  67.864998    68.414818\n",
       "2019-12-13  68.787498    68.449516\n",
       "2019-12-16  69.964996    69.750481\n",
       "2019-12-17  70.102501    71.009293\n",
       "\n",
       "[400 rows x 2 columns]"
      ]
     },
     "execution_count": 42,
     "metadata": {},
     "output_type": "execute_result"
    }
   ],
   "source": [
    "# Show the valid and predicted prices\n",
    "valid"
   ]
  },
  {
   "cell_type": "code",
   "execution_count": 43,
   "metadata": {},
   "outputs": [
    {
     "name": "stdout",
     "output_type": "stream",
     "text": [
      "[[70.622986]]\n"
     ]
    }
   ],
   "source": [
    "# Get the quote\n",
    "apple_quote = web.DataReader('AAPL', data_source = 'yahoo', start='2012-01-01', end='2019-12-17')\n",
    "# Create a new dataframe\n",
    "new_df = apple_quote.filter(['Close'])\n",
    "# Last\n",
    "last_60_days = new_df[-60:].values\n",
    "# Scale the data to be values between 0 and 1\n",
    "last_60_days_scaled = scaler.transform(last_60_days)\n",
    "\n",
    "X_test = []\n",
    "# Append the past 60 days\n",
    "X_test.append(last_60_days_scaled)\n",
    "# Convert the X_test data set to a numpy array\n",
    "X_test = np.array(X_test)\n",
    "# Reshape\n",
    "X_test = np.reshape(X_test, (X_test.shape[0], X_test.shape[1], 1))\n",
    "# pred\n",
    "pred_price = model.predict(X_test)\n",
    "# undo the scaling\n",
    "pred_price = scaler.inverse_transform(pred_price)\n",
    "print(pred_price)"
   ]
  },
  {
   "cell_type": "code",
   "execution_count": 44,
   "metadata": {},
   "outputs": [
    {
     "name": "stdout",
     "output_type": "stream",
     "text": [
      "Date\n",
      "2019-12-17    70.102501\n",
      "2019-12-18    69.934998\n",
      "Name: Close, dtype: float64\n"
     ]
    }
   ],
   "source": [
    "apple_quote2 = web.DataReader('AAPL', data_source = 'yahoo', start='2019-12-18', end='2019-12-18')\n",
    "print(apple_quote2['Close'])"
   ]
  },
  {
   "cell_type": "code",
   "execution_count": null,
   "metadata": {},
   "outputs": [],
   "source": []
  }
 ],
 "metadata": {
  "kernelspec": {
   "display_name": "Python 3",
   "language": "python",
   "name": "python3"
  },
  "language_info": {
   "codemirror_mode": {
    "name": "ipython",
    "version": 3
   },
   "file_extension": ".py",
   "mimetype": "text/x-python",
   "name": "python",
   "nbconvert_exporter": "python",
   "pygments_lexer": "ipython3",
   "version": "3.8.5"
  }
 },
 "nbformat": 4,
 "nbformat_minor": 4
}
