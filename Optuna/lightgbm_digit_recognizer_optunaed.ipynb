{
  "nbformat": 4,
  "nbformat_minor": 0,
  "metadata": {
    "kernelspec": {
      "name": "python3",
      "display_name": "Python 3",
      "language": "python"
    },
    "language_info": {
      "name": "python",
      "version": "3.7.6",
      "mimetype": "text/x-python",
      "codemirror_mode": {
        "name": "ipython",
        "version": 3
      },
      "pygments_lexer": "ipython3",
      "nbconvert_exporter": "python",
      "file_extension": ".py"
    },
    "colab": {
      "name": "lightgbm-digit-recognizer-optunaed.ipynb",
      "provenance": [],
      "include_colab_link": true
    }
  },
  "cells": [
    {
      "cell_type": "markdown",
      "metadata": {
        "id": "view-in-github",
        "colab_type": "text"
      },
      "source": [
        "<a href=\"https://colab.research.google.com/github/anko191/Python_Kaggle/blob/master/Optuna/lightgbm_digit_recognizer_optunaed.ipynb\" target=\"_parent\"><img src=\"https://colab.research.google.com/assets/colab-badge.svg\" alt=\"Open In Colab\"/></a>"
      ]
    },
    {
      "cell_type": "code",
      "metadata": {
        "_uuid": "8f2839f25d086af736a60e9eeb907d3b93b6e0e5",
        "_cell_guid": "b1076dfc-b9ad-4769-8c92-a6c4dae69d19",
        "trusted": true,
        "id": "UfHyk5JZR0Gi",
        "colab_type": "code",
        "colab": {},
        "outputId": "543e68f1-163d-4606-c4a3-a41e05e11415"
      },
      "source": [
        "# This Python 3 environment comes with many helpful analytics libraries installed\n",
        "# It is defined by the kaggle/python Docker image: https://github.com/kaggle/docker-python\n",
        "# For example, here's several helpful packages to load\n",
        "\n",
        "import numpy as np # linear algebra\n",
        "import pandas as pd # data processing, CSV file I/O (e.g. pd.read_csv)\n",
        "\n",
        "# Input data files are available in the read-only \"../input/\" directory\n",
        "# For example, running this (by clicking run or pressing Shift+Enter) will list all files under the input directory\n",
        "\n",
        "import os\n",
        "for dirname, _, filenames in os.walk('/kaggle/input'):\n",
        "    for filename in filenames:\n",
        "        print(os.path.join(dirname, filename))\n",
        "\n",
        "# You can write up to 5GB to the current directory (/kaggle/working/) that gets preserved as output when you create a version using \"Save & Run All\" \n",
        "# You can also write temporary files to /kaggle/temp/, but they won't be saved outside of the current session"
      ],
      "execution_count": null,
      "outputs": [
        {
          "output_type": "stream",
          "text": [
            "/kaggle/input/digit-recognizer/train.csv\n",
            "/kaggle/input/digit-recognizer/test.csv\n",
            "/kaggle/input/digit-recognizer/sample_submission.csv\n"
          ],
          "name": "stdout"
        }
      ]
    },
    {
      "cell_type": "code",
      "metadata": {
        "_uuid": "d629ff2d2480ee46fbb7e2d37f6b5fab8052498a",
        "_cell_guid": "79c7e3d0-c299-4dcb-8224-4455121ee9b0",
        "trusted": true,
        "id": "1c-uF66eR0Gn",
        "colab_type": "code",
        "colab": {},
        "outputId": "e9066cb0-3dab-4dc7-f1b6-9025000abbbf"
      },
      "source": [
        "train = pd.read_csv('/kaggle/input/digit-recognizer/train.csv')\n",
        "test = pd.read_csv('/kaggle/input/digit-recognizer/test.csv')\n",
        "sub = pd.read_csv('/kaggle/input/digit-recognizer/sample_submission.csv')\n",
        "train.head()\n",
        "test.head()\n",
        "sub.head()\n",
        "\n",
        "from sklearn.model_selection import train_test_split\n",
        "T_train, T_valid = train_test_split(train, test_size = 0.2, shuffle=True)\n",
        "print(T_train.shape)\n",
        "y_train, X_train = T_train.iloc[:,0], T_train.iloc[:,1:]\n",
        "print(X_train.shape)\n",
        "y_valid, X_valid = T_valid.iloc[:,0], T_valid.iloc[:,1:]\n",
        "X_test = test\n",
        "\n",
        "import matplotlib.pyplot as plt\n",
        "# print(type(X_train))\n",
        "X_train = X_train.values\n",
        "y_train = y_train.values\n",
        "X_valid = X_valid.values\n",
        "y_valid = y_valid.values\n",
        "X_test = X_test.values\n",
        "# print(type(X_v))\n",
        "\n",
        "\n",
        "X_v_r = X_train.reshape(X_train.shape[0], 28, 28)\n",
        "X_tev_r = X_test.reshape(X_test.shape[0], 28, 28)\n",
        "plt.imshow(X_v_r[0], cmap=plt.cm.gray)\n",
        "plt.imshow(X_tev_r[0], cmap=plt.cm.gray)\n",
        "# X_train_v = X_train.reshape(X_train[0],28,28)\n",
        "# X_train_v.shape\n",
        "# # plt.imshow(X_train[0], cmap = plt.cm.gray)\n",
        "print(X_train.min(),'-',X_train.max())\n",
        "X_train,X_valid = X_train/255, X_valid/255\n",
        "X_train = X_train.reshape(X_train.shape[0], 784)\n",
        "X_train.shape\n",
        "X_valid.shape"
      ],
      "execution_count": null,
      "outputs": [
        {
          "output_type": "stream",
          "text": [
            "(33600, 785)\n",
            "(33600, 784)\n",
            "0 - 255\n"
          ],
          "name": "stdout"
        },
        {
          "output_type": "execute_result",
          "data": {
            "text/plain": [
              "(8400, 784)"
            ]
          },
          "metadata": {
            "tags": []
          },
          "execution_count": 2
        },
        {
          "output_type": "display_data",
          "data": {
            "text/plain": [
              "<Figure size 432x288 with 1 Axes>"
            ],
            "image/png": "[encoded data removed]"
          },
          "metadata": {
            "tags": [],
            "needs_background": "light"
          }
        }
      ]
    },
    {
      "cell_type": "markdown",
      "metadata": {
        "id": "J8B4LEDZR0Gq",
        "colab_type": "text"
      },
      "source": [
        "## Optunaを通してlightgbmをimportする(!?)"
      ]
    },
    {
      "cell_type": "code",
      "metadata": {
        "trusted": true,
        "id": "pcgOEwqPR0Gq",
        "colab_type": "code",
        "colab": {}
      },
      "source": [
        "from optuna.integration import lightgbm as lgb"
      ],
      "execution_count": null,
      "outputs": []
    },
    {
      "cell_type": "markdown",
      "metadata": {
        "id": "B_ZL6JW7R0Gt",
        "colab_type": "text"
      },
      "source": [
        "### これで普通に学習するだけで自動でチューニングしてくれる"
      ]
    },
    {
      "cell_type": "code",
      "metadata": {
        "id": "p_XUTRJsSHcj",
        "colab_type": "code",
        "colab": {}
      },
      "source": [
        "import time\n",
        "ts = time.time()\n",
        "\n",
        "train_data = lgb.Dataset(X_train, label = y_train)\n",
        "valid_data = lgb.Dataset(X_valid, label = y_valid, reference=train_data)\n",
        "\n",
        "params = {\n",
        "    'task':'train',\n",
        "    'boosting_type':'gbdt',\n",
        "    'metric':'multi_logloss',\n",
        "    'objective':'multiclass',\n",
        "    'num_class':10,\n",
        "    'verbose':0,\n",
        "}\n",
        "\n",
        "gbm = lgb.train(\n",
        "    params,\n",
        "    train_data,\n",
        "    valid_sets = valid_data,\n",
        "    early_stopping_rounds = 100,\n",
        "    verbose_eval=100,\n",
        ")\n",
        "\n",
        "time.time() - ts"
      ],
      "execution_count": null,
      "outputs": []
    },
    {
      "cell_type": "markdown",
      "metadata": {
        "id": "aRVM1vcTR0Gu",
        "colab_type": "text"
      },
      "source": [
        "import pprint<Br>\n",
        "pprint.pprint(gbm.params)<br>\n",
        "pprint.pprint(gbm.best_iteration)<br>\n",
        "pprint.pprint(gbm.best_score)<br>\n",
        "\n",
        "\n",
        "### - - - - \n",
        "\n",
        "{'bagging_fraction': 1.0,<br>\n",
        " 'bagging_freq': 0,<br>\n",
        " 'boosting_type': 'gbdt',<br>\n",
        " 'feature_fraction': 0.4,<br>\n",
        " 'lambda_l1': 0.027971223378666015,<br>\n",
        " 'lambda_l2': 5.057767953910145e-06,<br>\n",
        " 'metric': 'multi_logloss',<br>\n",
        " 'min_child_samples': 100,<br>\n",
        " 'num_class': 10,<br>\n",
        " 'num_leaves': 27,<br>\n",
        " 'objective': 'multiclass',<br>\n",
        " 'task': 'train',<br>\n",
        " 'verbose': 0}<br>\n",
        "395<br>\n",
        "defaultdict(<class 'collections.OrderedDict'>,<br>\n",
        "            {'valid_0': OrderedDict([('multi_logloss', 0.0820218911854557)])})<br>"
      ]
    },
    {
      "cell_type": "code",
      "metadata": {
        "trusted": true,
        "id": "IFGF0lSJR0Gu",
        "colab_type": "code",
        "colab": {}
      },
      "source": [
        "params = {'bagging_fraction': 1.0,\n",
        " 'bagging_freq': 0,\n",
        " 'boosting_type': 'gbdt',\n",
        " 'feature_fraction': 0.4,\n",
        " 'lambda_l1': 0.027971223378666015,\n",
        " 'lambda_l2': 5.057767953910145e-06,\n",
        " 'metric': 'multi_logloss',\n",
        " 'min_child_samples': 100,\n",
        " 'num_class': 10,\n",
        " 'num_leaves': 27,\n",
        " 'objective': 'multiclass',\n",
        " 'task': 'train',\n",
        " 'verbose': 0\n",
        "}"
      ],
      "execution_count": null,
      "outputs": []
    },
    {
      "cell_type": "code",
      "metadata": {
        "trusted": true,
        "id": "vseDPrflR0Gx",
        "colab_type": "code",
        "colab": {}
      },
      "source": [
        ""
      ],
      "execution_count": null,
      "outputs": []
    },
    {
      "cell_type": "code",
      "metadata": {
        "trusted": true,
        "id": "TTdw0zEqR0G0",
        "colab_type": "code",
        "colab": {},
        "outputId": "0587b885-5958-44b4-ce87-a61a7215e886"
      },
      "source": [
        "preds = gbm.predict(X_test)\n",
        "y_pred = []\n",
        "for x in preds:\n",
        "    y_pred.append(np.argmax(x))\n",
        "#submission\n",
        "print(sub.columns)\n",
        "sub.head(5)\n",
        "print(len(y_pred))\n",
        "# ID = np.arange(1,len(y_pred)+1)\n",
        "# print(ID.shape)\n",
        "# columns = ['ImageId','Label']\n",
        "# submission = pd.DataFrame(data = [ID,y_pred], columns = columns,dtype=np.int)\n",
        "# submission.head()\n",
        "sub['Label'] = list(map(int,y_pred))\n",
        "sub.to_csv('submission.csv', index = False)"
      ],
      "execution_count": null,
      "outputs": [
        {
          "output_type": "stream",
          "text": [
            "Index(['ImageId', 'Label'], dtype='object')\n",
            "28000\n"
          ],
          "name": "stdout"
        }
      ]
    },
    {
      "cell_type": "code",
      "metadata": {
        "trusted": true,
        "id": "ANMJiQyVR0G3",
        "colab_type": "code",
        "colab": {}
      },
      "source": [
        ""
      ],
      "execution_count": null,
      "outputs": []
    }
  ]
}