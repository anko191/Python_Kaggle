{
  "nbformat": 4,
  "nbformat_minor": 0,
  "metadata": {
    "colab": {
      "name": "Tensorflow_FineTuning_CIFAR10",
      "provenance": [],
      "authorship_tag": "ABX9TyOEMGyhE/NY33CvThM9f4fF",
      "include_colab_link": true
    },
    "kernelspec": {
      "name": "python3",
      "display_name": "Python 3"
    },
    "accelerator": "GPU"
  },
  "cells": [
    {
      "cell_type": "markdown",
      "metadata": {
        "id": "view-in-github",
        "colab_type": "text"
      },
      "source": [
        "<a href=\"https://colab.research.google.com/github/anko191/Python_Kaggle/blob/master/Tensorflow/Tensorflow_FineTuning_CIFAR10.ipynb\" target=\"_parent\"><img src=\"https://colab.research.google.com/assets/colab-badge.svg\" alt=\"Open In Colab\"/></a>"
      ]
    },
    {
      "cell_type": "code",
      "metadata": {
        "id": "C43WG9ihXNmt",
        "colab_type": "code",
        "colab": {
          "base_uri": "https://localhost:8080/",
          "height": 85
        },
        "outputId": "b7a4dbaf-1e65-430c-91dd-dcd0d4811d08"
      },
      "source": [
        "import tensorflow as tf\n",
        "(x_train, y_train), (x_test, y_test) = tf.keras.datasets.cifar10.load_data()\n",
        "print(x_train.shape, y_train.shape)\n",
        "print(x_test.shape, y_test.shape)"
      ],
      "execution_count": 3,
      "outputs": [
        {
          "output_type": "stream",
          "text": [
            "Downloading data from https://www.cs.toronto.edu/~kriz/cifar-10-python.tar.gz\n",
            "170500096/170498071 [==============================] - 6s 0us/step\n",
            "(50000, 32, 32, 3) (50000, 1)\n",
            "(10000, 32, 32, 3) (10000, 1)\n"
          ],
          "name": "stdout"
        }
      ]
    },
    {
      "cell_type": "code",
      "metadata": {
        "id": "bL-EV-FJXcHz",
        "colab_type": "code",
        "colab": {
          "base_uri": "https://localhost:8080/",
          "height": 275
        },
        "outputId": "231de5ae-95ec-46ee-e36b-5f3e0ece059e"
      },
      "source": [
        "inputs = tf.keras.Input(shape=(None, None, 3))\n",
        "x = tf.keras.layers.Lambda(lambda img: tf.image.resize(img, (160, 160)))(inputs)\n",
        "x = tf.keras.layers.Lambda(tf.keras.applications.mobilenet_v2.preprocess_input)(x)\n",
        "\n",
        "base_model = tf.keras.applications.mobilenet_v2.MobileNetV2(\n",
        "    weights = 'imagenet', input_tensor=x,input_shape=(160,160,3),\n",
        "    include_top=False, pooling='avg'\n",
        ")\n",
        "\n",
        "model = tf.keras.Sequential([\n",
        "                            base_model,\n",
        "                            tf.keras.layers.Dense(10, activation = 'softmax')\n",
        "])\n",
        "\n",
        "model.summary()"
      ],
      "execution_count": 4,
      "outputs": [
        {
          "output_type": "stream",
          "text": [
            "Downloading data from https://storage.googleapis.com/tensorflow/keras-applications/mobilenet_v2/mobilenet_v2_weights_tf_dim_ordering_tf_kernels_1.0_160_no_top.h5\n",
            "9412608/9406464 [==============================] - 1s 0us/step\n",
            "Model: \"sequential\"\n",
            "_________________________________________________________________\n",
            "Layer (type)                 Output Shape              Param #   \n",
            "=================================================================\n",
            "mobilenetv2_1.00_160 (Functi (None, 1280)              2257984   \n",
            "_________________________________________________________________\n",
            "dense (Dense)                (None, 10)                12810     \n",
            "=================================================================\n",
            "Total params: 2,270,794\n",
            "Trainable params: 2,236,682\n",
            "Non-trainable params: 34,112\n",
            "_________________________________________________________________\n"
          ],
          "name": "stdout"
        }
      ]
    },
    {
      "cell_type": "code",
      "metadata": {
        "id": "wbs50mhKZBpt",
        "colab_type": "code",
        "colab": {
          "base_uri": "https://localhost:8080/",
          "height": 221
        },
        "outputId": "02f35180-88f4-432c-b2d6-e10d2bba4e3b"
      },
      "source": [
        "\n",
        "base_model.trainable = False\n",
        "\n",
        "model.summary()"
      ],
      "execution_count": 5,
      "outputs": [
        {
          "output_type": "stream",
          "text": [
            "Model: \"sequential\"\n",
            "_________________________________________________________________\n",
            "Layer (type)                 Output Shape              Param #   \n",
            "=================================================================\n",
            "mobilenetv2_1.00_160 (Functi (None, 1280)              2257984   \n",
            "_________________________________________________________________\n",
            "dense (Dense)                (None, 10)                12810     \n",
            "=================================================================\n",
            "Total params: 2,270,794\n",
            "Trainable params: 12,810\n",
            "Non-trainable params: 2,257,984\n",
            "_________________________________________________________________\n"
          ],
          "name": "stdout"
        }
      ]
    },
    {
      "cell_type": "code",
      "metadata": {
        "id": "HCsIcL_FZRrD",
        "colab_type": "code",
        "colab": {}
      },
      "source": [
        "model.compile(optimizer=tf.keras.optimizers.RMSprop(learning_rate=0.0001),\n",
        "            loss = 'sparse_categorical_crossentropy',\n",
        "            metrics=['accuracy'])"
      ],
      "execution_count": 6,
      "outputs": []
    },
    {
      "cell_type": "code",
      "metadata": {
        "id": "PmJDiGXSZ4oI",
        "colab_type": "code",
        "colab": {
          "base_uri": "https://localhost:8080/",
          "height": 34
        },
        "outputId": "bd8608d9-f1de-4d07-f2f3-9b580eff400e"
      },
      "source": [
        "print(model.evaluate(x_test, y_test,verbose=0))"
      ],
      "execution_count": 7,
      "outputs": [
        {
          "output_type": "stream",
          "text": [
            "[2.6643471717834473, 0.1363999992609024]\n"
          ],
          "name": "stdout"
        }
      ]
    },
    {
      "cell_type": "code",
      "metadata": {
        "id": "X8FtnV__Z7qp",
        "colab_type": "code",
        "colab": {
          "base_uri": "https://localhost:8080/",
          "height": 258
        },
        "outputId": "be526ba5-3ab1-4f02-f154-f0088a6ebf52"
      },
      "source": [
        "model.fit(x_train, y_train, epochs = 6, validation_split = 0.2, batch_size = 256)"
      ],
      "execution_count": 8,
      "outputs": [
        {
          "output_type": "stream",
          "text": [
            "Epoch 1/6\n",
            "157/157 [==============================] - 58s 372ms/step - loss: 1.6337 - accuracy: 0.4559 - val_loss: 1.0657 - val_accuracy: 0.6659\n",
            "Epoch 2/6\n",
            "157/157 [==============================] - 58s 370ms/step - loss: 0.8579 - accuracy: 0.7336 - val_loss: 0.7125 - val_accuracy: 0.7720\n",
            "Epoch 3/6\n",
            "157/157 [==============================] - 58s 370ms/step - loss: 0.6484 - accuracy: 0.7918 - val_loss: 0.5972 - val_accuracy: 0.7998\n",
            "Epoch 4/6\n",
            "157/157 [==============================] - 58s 369ms/step - loss: 0.5657 - accuracy: 0.8144 - val_loss: 0.5426 - val_accuracy: 0.8174\n",
            "Epoch 5/6\n",
            "157/157 [==============================] - 58s 369ms/step - loss: 0.5206 - accuracy: 0.8274 - val_loss: 0.5088 - val_accuracy: 0.8257\n",
            "Epoch 6/6\n",
            "157/157 [==============================] - 58s 370ms/step - loss: 0.4913 - accuracy: 0.8355 - val_loss: 0.4881 - val_accuracy: 0.8329\n"
          ],
          "name": "stdout"
        },
        {
          "output_type": "execute_result",
          "data": {
            "text/plain": [
              "<tensorflow.python.keras.callbacks.History at 0x7f5d42a45f28>"
            ]
          },
          "metadata": {
            "tags": []
          },
          "execution_count": 8
        }
      ]
    },
    {
      "cell_type": "code",
      "metadata": {
        "id": "t92cQ6aMasCj",
        "colab_type": "code",
        "colab": {
          "base_uri": "https://localhost:8080/",
          "height": 51
        },
        "outputId": "75fd5e2f-374b-47fd-bf29-5bcda2d84b7e"
      },
      "source": [
        "print(model.evaluate(x_test, y_test))"
      ],
      "execution_count": 9,
      "outputs": [
        {
          "output_type": "stream",
          "text": [
            "313/313 [==============================] - 13s 43ms/step - loss: 0.4987 - accuracy: 0.8314\n",
            "[0.4987438917160034, 0.8313999772071838]\n"
          ],
          "name": "stdout"
        }
      ]
    },
    {
      "cell_type": "code",
      "metadata": {
        "id": "bGSkW5x2fvrb",
        "colab_type": "code",
        "colab": {
          "base_uri": "https://localhost:8080/",
          "height": 34
        },
        "outputId": "67555e2e-9cf5-4338-d915-b330c5047c5f"
      },
      "source": [
        "layer_names = [l.name for l in base_model.layers]\n",
        "\n",
        "idx = layer_names.index('block_12_expand')\n",
        "print(idx)"
      ],
      "execution_count": 10,
      "outputs": [
        {
          "output_type": "stream",
          "text": [
            "110\n"
          ],
          "name": "stdout"
        }
      ]
    },
    {
      "cell_type": "code",
      "metadata": {
        "id": "n3BK1tGVgEsq",
        "colab_type": "code",
        "colab": {
          "base_uri": "https://localhost:8080/",
          "height": 1000
        },
        "outputId": "64ab0bc4-4d3c-4e19-b7bb-9f7318140f8f"
      },
      "source": [
        "import pprint\n",
        "pprint.pprint(layer_names)"
      ],
      "execution_count": 11,
      "outputs": [
        {
          "output_type": "stream",
          "text": [
            "['input_1',\n",
            " 'lambda',\n",
            " 'lambda_1',\n",
            " 'Conv1_pad',\n",
            " 'Conv1',\n",
            " 'bn_Conv1',\n",
            " 'Conv1_relu',\n",
            " 'expanded_conv_depthwise',\n",
            " 'expanded_conv_depthwise_BN',\n",
            " 'expanded_conv_depthwise_relu',\n",
            " 'expanded_conv_project',\n",
            " 'expanded_conv_project_BN',\n",
            " 'block_1_expand',\n",
            " 'block_1_expand_BN',\n",
            " 'block_1_expand_relu',\n",
            " 'block_1_pad',\n",
            " 'block_1_depthwise',\n",
            " 'block_1_depthwise_BN',\n",
            " 'block_1_depthwise_relu',\n",
            " 'block_1_project',\n",
            " 'block_1_project_BN',\n",
            " 'block_2_expand',\n",
            " 'block_2_expand_BN',\n",
            " 'block_2_expand_relu',\n",
            " 'block_2_depthwise',\n",
            " 'block_2_depthwise_BN',\n",
            " 'block_2_depthwise_relu',\n",
            " 'block_2_project',\n",
            " 'block_2_project_BN',\n",
            " 'block_2_add',\n",
            " 'block_3_expand',\n",
            " 'block_3_expand_BN',\n",
            " 'block_3_expand_relu',\n",
            " 'block_3_pad',\n",
            " 'block_3_depthwise',\n",
            " 'block_3_depthwise_BN',\n",
            " 'block_3_depthwise_relu',\n",
            " 'block_3_project',\n",
            " 'block_3_project_BN',\n",
            " 'block_4_expand',\n",
            " 'block_4_expand_BN',\n",
            " 'block_4_expand_relu',\n",
            " 'block_4_depthwise',\n",
            " 'block_4_depthwise_BN',\n",
            " 'block_4_depthwise_relu',\n",
            " 'block_4_project',\n",
            " 'block_4_project_BN',\n",
            " 'block_4_add',\n",
            " 'block_5_expand',\n",
            " 'block_5_expand_BN',\n",
            " 'block_5_expand_relu',\n",
            " 'block_5_depthwise',\n",
            " 'block_5_depthwise_BN',\n",
            " 'block_5_depthwise_relu',\n",
            " 'block_5_project',\n",
            " 'block_5_project_BN',\n",
            " 'block_5_add',\n",
            " 'block_6_expand',\n",
            " 'block_6_expand_BN',\n",
            " 'block_6_expand_relu',\n",
            " 'block_6_pad',\n",
            " 'block_6_depthwise',\n",
            " 'block_6_depthwise_BN',\n",
            " 'block_6_depthwise_relu',\n",
            " 'block_6_project',\n",
            " 'block_6_project_BN',\n",
            " 'block_7_expand',\n",
            " 'block_7_expand_BN',\n",
            " 'block_7_expand_relu',\n",
            " 'block_7_depthwise',\n",
            " 'block_7_depthwise_BN',\n",
            " 'block_7_depthwise_relu',\n",
            " 'block_7_project',\n",
            " 'block_7_project_BN',\n",
            " 'block_7_add',\n",
            " 'block_8_expand',\n",
            " 'block_8_expand_BN',\n",
            " 'block_8_expand_relu',\n",
            " 'block_8_depthwise',\n",
            " 'block_8_depthwise_BN',\n",
            " 'block_8_depthwise_relu',\n",
            " 'block_8_project',\n",
            " 'block_8_project_BN',\n",
            " 'block_8_add',\n",
            " 'block_9_expand',\n",
            " 'block_9_expand_BN',\n",
            " 'block_9_expand_relu',\n",
            " 'block_9_depthwise',\n",
            " 'block_9_depthwise_BN',\n",
            " 'block_9_depthwise_relu',\n",
            " 'block_9_project',\n",
            " 'block_9_project_BN',\n",
            " 'block_9_add',\n",
            " 'block_10_expand',\n",
            " 'block_10_expand_BN',\n",
            " 'block_10_expand_relu',\n",
            " 'block_10_depthwise',\n",
            " 'block_10_depthwise_BN',\n",
            " 'block_10_depthwise_relu',\n",
            " 'block_10_project',\n",
            " 'block_10_project_BN',\n",
            " 'block_11_expand',\n",
            " 'block_11_expand_BN',\n",
            " 'block_11_expand_relu',\n",
            " 'block_11_depthwise',\n",
            " 'block_11_depthwise_BN',\n",
            " 'block_11_depthwise_relu',\n",
            " 'block_11_project',\n",
            " 'block_11_project_BN',\n",
            " 'block_11_add',\n",
            " 'block_12_expand',\n",
            " 'block_12_expand_BN',\n",
            " 'block_12_expand_relu',\n",
            " 'block_12_depthwise',\n",
            " 'block_12_depthwise_BN',\n",
            " 'block_12_depthwise_relu',\n",
            " 'block_12_project',\n",
            " 'block_12_project_BN',\n",
            " 'block_12_add',\n",
            " 'block_13_expand',\n",
            " 'block_13_expand_BN',\n",
            " 'block_13_expand_relu',\n",
            " 'block_13_pad',\n",
            " 'block_13_depthwise',\n",
            " 'block_13_depthwise_BN',\n",
            " 'block_13_depthwise_relu',\n",
            " 'block_13_project',\n",
            " 'block_13_project_BN',\n",
            " 'block_14_expand',\n",
            " 'block_14_expand_BN',\n",
            " 'block_14_expand_relu',\n",
            " 'block_14_depthwise',\n",
            " 'block_14_depthwise_BN',\n",
            " 'block_14_depthwise_relu',\n",
            " 'block_14_project',\n",
            " 'block_14_project_BN',\n",
            " 'block_14_add',\n",
            " 'block_15_expand',\n",
            " 'block_15_expand_BN',\n",
            " 'block_15_expand_relu',\n",
            " 'block_15_depthwise',\n",
            " 'block_15_depthwise_BN',\n",
            " 'block_15_depthwise_relu',\n",
            " 'block_15_project',\n",
            " 'block_15_project_BN',\n",
            " 'block_15_add',\n",
            " 'block_16_expand',\n",
            " 'block_16_expand_BN',\n",
            " 'block_16_expand_relu',\n",
            " 'block_16_depthwise',\n",
            " 'block_16_depthwise_BN',\n",
            " 'block_16_depthwise_relu',\n",
            " 'block_16_project',\n",
            " 'block_16_project_BN',\n",
            " 'Conv_1',\n",
            " 'Conv_1_bn',\n",
            " 'out_relu',\n",
            " 'global_average_pooling2d']\n"
          ],
          "name": "stdout"
        }
      ]
    },
    {
      "cell_type": "code",
      "metadata": {
        "id": "cplwAQ1jgJj4",
        "colab_type": "code",
        "colab": {}
      },
      "source": [
        "base_model.trainable = True\n",
        "for layer in base_model.layers[:idx]:\n",
        "    layer.trainable = False"
      ],
      "execution_count": 12,
      "outputs": []
    },
    {
      "cell_type": "code",
      "metadata": {
        "id": "iigglPTkgcGI",
        "colab_type": "code",
        "colab": {
          "base_uri": "https://localhost:8080/",
          "height": 221
        },
        "outputId": "ba081ba2-8b14-4fe5-8b42-ecee653f10ec"
      },
      "source": [
        "model.compile(optimizer = tf.keras.optimizers.RMSprop(learning_rate = 0.00001),\n",
        "              loss = 'sparse_categorical_crossentropy',\n",
        "              metrics=['accuracy'])\n",
        "\n",
        "model.summary()"
      ],
      "execution_count": 13,
      "outputs": [
        {
          "output_type": "stream",
          "text": [
            "Model: \"sequential\"\n",
            "_________________________________________________________________\n",
            "Layer (type)                 Output Shape              Param #   \n",
            "=================================================================\n",
            "mobilenetv2_1.00_160 (Functi (None, 1280)              2257984   \n",
            "_________________________________________________________________\n",
            "dense (Dense)                (None, 10)                12810     \n",
            "=================================================================\n",
            "Total params: 2,270,794\n",
            "Trainable params: 1,812,426\n",
            "Non-trainable params: 458,368\n",
            "_________________________________________________________________\n"
          ],
          "name": "stdout"
        }
      ]
    },
    {
      "cell_type": "code",
      "metadata": {
        "id": "Ki4gX053gpkg",
        "colab_type": "code",
        "colab": {
          "base_uri": "https://localhost:8080/",
          "height": 258
        },
        "outputId": "21001106-9628-4837-e0fb-762108fab57c"
      },
      "source": [
        "model.fit(x_train, y_train, epochs = 6, validation_split = 0.2, batch_size = 256)"
      ],
      "execution_count": 15,
      "outputs": [
        {
          "output_type": "stream",
          "text": [
            "Epoch 1/6\n",
            "157/157 [==============================] - 77s 492ms/step - loss: 0.5841 - accuracy: 0.8077 - val_loss: 0.4705 - val_accuracy: 0.8351\n",
            "Epoch 2/6\n",
            "157/157 [==============================] - 76s 486ms/step - loss: 0.3880 - accuracy: 0.8695 - val_loss: 0.4465 - val_accuracy: 0.8481\n",
            "Epoch 3/6\n",
            "157/157 [==============================] - 76s 486ms/step - loss: 0.3199 - accuracy: 0.8923 - val_loss: 0.4122 - val_accuracy: 0.8608\n",
            "Epoch 4/6\n",
            "157/157 [==============================] - 76s 486ms/step - loss: 0.2739 - accuracy: 0.9087 - val_loss: 0.3893 - val_accuracy: 0.8667\n",
            "Epoch 5/6\n",
            "157/157 [==============================] - 76s 486ms/step - loss: 0.2386 - accuracy: 0.9208 - val_loss: 0.3701 - val_accuracy: 0.8732\n",
            "Epoch 6/6\n",
            "157/157 [==============================] - 76s 486ms/step - loss: 0.2100 - accuracy: 0.9319 - val_loss: 0.3521 - val_accuracy: 0.8782\n"
          ],
          "name": "stdout"
        },
        {
          "output_type": "execute_result",
          "data": {
            "text/plain": [
              "<tensorflow.python.keras.callbacks.History at 0x7f5cd44917f0>"
            ]
          },
          "metadata": {
            "tags": []
          },
          "execution_count": 15
        }
      ]
    },
    {
      "cell_type": "code",
      "metadata": {
        "id": "wU4OWnOyg6QI",
        "colab_type": "code",
        "colab": {
          "base_uri": "https://localhost:8080/",
          "height": 51
        },
        "outputId": "52477068-3eea-4067-a41f-f9c1b622da4d"
      },
      "source": [
        "path_to_zip = tf.keras.utils.get_file(\n",
        "    fname='cats_and_dogs_filtered.zip',\n",
        "    origin='https://storage.googleapis.com/mledu-datasets/cats_and_dogs_filtered.zip',\n",
        "    extract=True\n",
        ")\n"
      ],
      "execution_count": 16,
      "outputs": [
        {
          "output_type": "stream",
          "text": [
            "Downloading data from https://storage.googleapis.com/mledu-datasets/cats_and_dogs_filtered.zip\n",
            "68608000/68606236 [==============================] - 2s 0us/step\n"
          ],
          "name": "stdout"
        }
      ]
    },
    {
      "cell_type": "code",
      "metadata": {
        "id": "kDcN2uHPi5Vo",
        "colab_type": "code",
        "colab": {}
      },
      "source": [
        "import sys, os\n",
        "path_to_dir = os.path.join(os.path.dirname(path_to_zip), 'cats_and_dogs_filtered')\n",
        "\n",
        "train_dir = os.path.join(path_to_dir, 'train')\n",
        "test_dir = os.path.join(path_to_dir, 'validation')"
      ],
      "execution_count": 18,
      "outputs": []
    },
    {
      "cell_type": "code",
      "metadata": {
        "id": "sAm-5nETjj0g",
        "colab_type": "code",
        "colab": {}
      },
      "source": [
        "train_datagen = tf.keras.preprocessing.image.ImageDataGenerator(\n",
        "    preprocessing_function = tf.keras.applications.mobilenet_v2.preprocess_input,\n",
        "    validation_split = 0.2\n",
        ")\n",
        "test_datagen = tf.keras.preprocessing.image.ImageDataGenerator(\n",
        "    preprocessing_function=tf.keras.applications.mobilenet_v2.preprocess_input\n",
        ")"
      ],
      "execution_count": 20,
      "outputs": []
    },
    {
      "cell_type": "code",
      "metadata": {
        "id": "zj8MW02HlTLD",
        "colab_type": "code",
        "colab": {
          "base_uri": "https://localhost:8080/",
          "height": 68
        },
        "outputId": "cfed64e7-5302-4220-b4bb-72f191034ac5"
      },
      "source": [
        "batch_size = 64\n",
        "height = 160\n",
        "width = 160\n",
        "\n",
        "train_generator = train_datagen.flow_from_directory(\n",
        "    batch_size = batch_size,\n",
        "    directory=train_dir,\n",
        "    target_size = (height, width),\n",
        "    class_mode = 'binary',\n",
        "    subset='training'\n",
        ")\n",
        "\n",
        "valid_generator = train_datagen.flow_from_directory(\n",
        "    batch_size = batch_size,\n",
        "    directory = train_dir,\n",
        "    target_size = (height, width),\n",
        "    class_mode = 'binary',\n",
        "    subset='validation'\n",
        ")\n",
        "\n",
        "test_generator = test_datagen.flow_from_directory(\n",
        "    batch_size = batch_size,\n",
        "    directory = test_dir,\n",
        "    target_size=(height, width),\n",
        "    class_mode = 'binary'\n",
        ")"
      ],
      "execution_count": 21,
      "outputs": [
        {
          "output_type": "stream",
          "text": [
            "Found 1600 images belonging to 2 classes.\n",
            "Found 400 images belonging to 2 classes.\n",
            "Found 1000 images belonging to 2 classes.\n"
          ],
          "name": "stdout"
        }
      ]
    },
    {
      "cell_type": "code",
      "metadata": {
        "id": "OmNeIslmmJBB",
        "colab_type": "code",
        "colab": {}
      },
      "source": [
        "base_model = tf.keras.applications.mobilenet_v2.MobileNetV2(\n",
        "    weights='imagenet',\n",
        "    input_shape=(height,width, 3),\n",
        "    include_top = False,\n",
        "    pooling='avg'\n",
        ")\n",
        "\n",
        "x = base_model.output\n",
        "x = tf.keras.layers.Dense(1, activation='sigmoid')(x)\n",
        "\n",
        "model = tf.keras.Model(inputs=base_model.input, outputs = x)"
      ],
      "execution_count": 22,
      "outputs": []
    },
    {
      "cell_type": "code",
      "metadata": {
        "id": "SC87F-J0mh87",
        "colab_type": "code",
        "colab": {
          "base_uri": "https://localhost:8080/",
          "height": 34
        },
        "outputId": "da24d603-f6bf-4da8-ec94-6d097c9b7c53"
      },
      "source": [
        "print(len(model.layers))"
      ],
      "execution_count": 23,
      "outputs": [
        {
          "output_type": "stream",
          "text": [
            "157\n"
          ],
          "name": "stdout"
        }
      ]
    },
    {
      "cell_type": "code",
      "metadata": {
        "id": "ZkbOcrfomzQM",
        "colab_type": "code",
        "colab": {
          "base_uri": "https://localhost:8080/",
          "height": 34
        },
        "outputId": "a0ca30a1-cda5-4bb5-f898-f138e1b2f5f9"
      },
      "source": [
        "print(model.layers[0].trainable)"
      ],
      "execution_count": 24,
      "outputs": [
        {
          "output_type": "stream",
          "text": [
            "True\n"
          ],
          "name": "stdout"
        }
      ]
    },
    {
      "cell_type": "code",
      "metadata": {
        "id": "Aarn8Iqhm4TX",
        "colab_type": "code",
        "colab": {}
      },
      "source": [
        "base_model.trainable = False"
      ],
      "execution_count": 26,
      "outputs": []
    },
    {
      "cell_type": "code",
      "metadata": {
        "id": "GxmMdiaJm7XZ",
        "colab_type": "code",
        "colab": {
          "base_uri": "https://localhost:8080/",
          "height": 34
        },
        "outputId": "398250f8-5040-45d9-892e-9658d7106a0a"
      },
      "source": [
        "print(model.layers[0].trainable)"
      ],
      "execution_count": 27,
      "outputs": [
        {
          "output_type": "stream",
          "text": [
            "False\n"
          ],
          "name": "stdout"
        }
      ]
    },
    {
      "cell_type": "code",
      "metadata": {
        "id": "k1O2l425m_r3",
        "colab_type": "code",
        "colab": {}
      },
      "source": [
        "model.compile(optimizer = tf.keras.optimizers.RMSprop(learning_rate = 0.0001),\n",
        "              loss = 'binary_crossentropy',\n",
        "              metrics = ['accuracy'])"
      ],
      "execution_count": 28,
      "outputs": []
    },
    {
      "cell_type": "code",
      "metadata": {
        "id": "jwgfKjZJnMKQ",
        "colab_type": "code",
        "colab": {
          "base_uri": "https://localhost:8080/",
          "height": 34
        },
        "outputId": "45d1272d-fa26-4f0a-b71f-d61b2f8ce926"
      },
      "source": [
        "print(model.evaluate(test_generator, verbose = 0))"
      ],
      "execution_count": 29,
      "outputs": [
        {
          "output_type": "stream",
          "text": [
            "[0.7505014538764954, 0.5270000100135803]\n"
          ],
          "name": "stdout"
        }
      ]
    },
    {
      "cell_type": "code",
      "metadata": {
        "id": "JjN8KPgSnRZP",
        "colab_type": "code",
        "colab": {
          "base_uri": "https://localhost:8080/",
          "height": 258
        },
        "outputId": "12423df7-46e5-4871-f1fb-9c8c0ad95708"
      },
      "source": [
        "model.fit(\n",
        "    train_generator,\n",
        "    steps_per_epoch = train_generator.n // batch_size,\n",
        "    validation_data = valid_generator,\n",
        "    validation_steps = valid_generator.n // batch_size,\n",
        "    epochs = 6\n",
        ")"
      ],
      "execution_count": 30,
      "outputs": [
        {
          "output_type": "stream",
          "text": [
            "Epoch 1/6\n",
            "25/25 [==============================] - 7s 288ms/step - loss: 0.6344 - accuracy: 0.6425 - val_loss: 0.5717 - val_accuracy: 0.7057\n",
            "Epoch 2/6\n",
            "25/25 [==============================] - 7s 279ms/step - loss: 0.5106 - accuracy: 0.7675 - val_loss: 0.4716 - val_accuracy: 0.8203\n",
            "Epoch 3/6\n",
            "25/25 [==============================] - 7s 281ms/step - loss: 0.4238 - accuracy: 0.8450 - val_loss: 0.3894 - val_accuracy: 0.8880\n",
            "Epoch 4/6\n",
            "25/25 [==============================] - 7s 279ms/step - loss: 0.3552 - accuracy: 0.8831 - val_loss: 0.3302 - val_accuracy: 0.9193\n",
            "Epoch 5/6\n",
            "25/25 [==============================] - 7s 279ms/step - loss: 0.3006 - accuracy: 0.9162 - val_loss: 0.2778 - val_accuracy: 0.9375\n",
            "Epoch 6/6\n",
            "25/25 [==============================] - 7s 279ms/step - loss: 0.2575 - accuracy: 0.9256 - val_loss: 0.2427 - val_accuracy: 0.9453\n"
          ],
          "name": "stdout"
        },
        {
          "output_type": "execute_result",
          "data": {
            "text/plain": [
              "<tensorflow.python.keras.callbacks.History at 0x7f5cd1becb70>"
            ]
          },
          "metadata": {
            "tags": []
          },
          "execution_count": 30
        }
      ]
    },
    {
      "cell_type": "code",
      "metadata": {
        "id": "4w2VkgAQnlTW",
        "colab_type": "code",
        "colab": {
          "base_uri": "https://localhost:8080/",
          "height": 51
        },
        "outputId": "d82ff7df-b129-43a4-d0f6-ce9bc0dc0b4b"
      },
      "source": [
        "print(model.evaluate(test_generator))"
      ],
      "execution_count": 31,
      "outputs": [
        {
          "output_type": "stream",
          "text": [
            "16/16 [==============================] - 3s 211ms/step - loss: 0.2465 - accuracy: 0.9320\n",
            "[0.24652345478534698, 0.9319999814033508]\n"
          ],
          "name": "stdout"
        }
      ]
    },
    {
      "cell_type": "code",
      "metadata": {
        "id": "pJJ0RY2Gn3FA",
        "colab_type": "code",
        "colab": {}
      },
      "source": [
        "idx = [l.name for l in base_model.layers].index('block_12_expand')\n",
        "\n",
        "for layer in base_model.layers[idx:]:\n",
        "    layer.trainable = True\n",
        "model.compile(optimizer = tf.keras.optimizers.RMSprop(learning_rate = 0.00001),\n",
        "              loss = 'binary_crossentropy',\n",
        "              metrics=['accuracy'])"
      ],
      "execution_count": 32,
      "outputs": []
    },
    {
      "cell_type": "code",
      "metadata": {
        "id": "J1Lzuvc6oQk0",
        "colab_type": "code",
        "colab": {
          "base_uri": "https://localhost:8080/",
          "height": 238
        },
        "outputId": "9c00bbfc-2c54-46bb-94ca-df0b62343b26"
      },
      "source": [
        "model.fit(\n",
        "    train_generator,\n",
        "    steps_per_epoch = train_generator.n // batch_size,\n",
        "    validation_data = valid_generator,\n",
        "    validation_steps = valid_generator.n // batch_size,\n",
        "    epochs = 6\n",
        ")"
      ],
      "execution_count": 33,
      "outputs": [
        {
          "output_type": "stream",
          "text": [
            "Epoch 1/6\n",
            "25/25 [==============================] - 8s 321ms/step - loss: 0.3932 - accuracy: 0.8300 - val_loss: 0.1538 - val_accuracy: 0.9609\n",
            "Epoch 2/6\n",
            "25/25 [==============================] - 7s 281ms/step - loss: 0.2380 - accuracy: 0.9169 - val_loss: 0.1225 - val_accuracy: 0.9661\n",
            "Epoch 3/6\n",
            "25/25 [==============================] - 7s 278ms/step - loss: 0.1575 - accuracy: 0.9650 - val_loss: 0.1057 - val_accuracy: 0.9609\n",
            "Epoch 4/6\n",
            "25/25 [==============================] - 7s 279ms/step - loss: 0.1146 - accuracy: 0.9737 - val_loss: 0.0933 - val_accuracy: 0.9609\n",
            "Epoch 5/6\n",
            "25/25 [==============================] - 7s 284ms/step - loss: 0.0867 - accuracy: 0.9869 - val_loss: 0.0872 - val_accuracy: 0.9609\n",
            "Epoch 6/6\n",
            "25/25 [==============================] - 7s 280ms/step - loss: 0.0661 - accuracy: 0.9906 - val_loss: 0.0713 - val_accuracy: 0.9688\n"
          ],
          "name": "stdout"
        },
        {
          "output_type": "execute_result",
          "data": {
            "text/plain": [
              "<tensorflow.python.keras.callbacks.History at 0x7f5ccfcf20f0>"
            ]
          },
          "metadata": {
            "tags": []
          },
          "execution_count": 33
        }
      ]
    },
    {
      "cell_type": "code",
      "metadata": {
        "id": "pno6IeGjodjK",
        "colab_type": "code",
        "colab": {
          "base_uri": "https://localhost:8080/",
          "height": 51
        },
        "outputId": "e63a0a3b-f23d-4e78-e3bd-683575188cff"
      },
      "source": [
        "print(model.evaluate(test_generator))"
      ],
      "execution_count": 35,
      "outputs": [
        {
          "output_type": "stream",
          "text": [
            "16/16 [==============================] - 3s 210ms/step - loss: 0.0721 - accuracy: 0.9740\n",
            "[0.07206118851900101, 0.9739999771118164]\n"
          ],
          "name": "stdout"
        }
      ]
    },
    {
      "cell_type": "code",
      "metadata": {
        "id": "XMc5uM5for2_",
        "colab_type": "code",
        "colab": {}
      },
      "source": [
        ""
      ],
      "execution_count": null,
      "outputs": []
    }
  ]
}