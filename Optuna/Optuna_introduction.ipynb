{
  "nbformat": 4,
  "nbformat_minor": 0,
  "metadata": {
    "colab": {
      "name": "Optuna_introduction",
      "provenance": [],
      "authorship_tag": "ABX9TyMqKRGFSUkSV6yj02DeDgx1",
      "include_colab_link": true
    },
    "kernelspec": {
      "name": "python3",
      "display_name": "Python 3"
    },
    "widgets": {
      "application/vnd.jupyter.widget-state+json": {
        "eb016f01e6a04beaa5978137ef065eae": {
          "model_module": "@jupyter-widgets/controls",
          "model_name": "HBoxModel",
          "state": {
            "_view_name": "HBoxView",
            "_dom_classes": [],
            "_model_name": "HBoxModel",
            "_view_module": "@jupyter-widgets/controls",
            "_model_module_version": "1.5.0",
            "_view_count": null,
            "_view_module_version": "1.5.0",
            "box_style": "",
            "layout": "IPY_MODEL_bc5b599b6b3f4e2eb8052c0df746a383",
            "_model_module": "@jupyter-widgets/controls",
            "children": [
              "IPY_MODEL_bd78dfcd385a40bcadced103f1b3aa04",
              "IPY_MODEL_a098e7da71ce473e8a81a1009b4f0d1c"
            ]
          }
        },
        "bc5b599b6b3f4e2eb8052c0df746a383": {
          "model_module": "@jupyter-widgets/base",
          "model_name": "LayoutModel",
          "state": {
            "_view_name": "LayoutView",
            "grid_template_rows": null,
            "right": null,
            "justify_content": null,
            "_view_module": "@jupyter-widgets/base",
            "overflow": null,
            "_model_module_version": "1.2.0",
            "_view_count": null,
            "flex_flow": null,
            "width": null,
            "min_width": null,
            "border": null,
            "align_items": null,
            "bottom": null,
            "_model_module": "@jupyter-widgets/base",
            "top": null,
            "grid_column": null,
            "overflow_y": null,
            "overflow_x": null,
            "grid_auto_flow": null,
            "grid_area": null,
            "grid_template_columns": null,
            "flex": null,
            "_model_name": "LayoutModel",
            "justify_items": null,
            "grid_row": null,
            "max_height": null,
            "align_content": null,
            "visibility": null,
            "align_self": null,
            "height": null,
            "min_height": null,
            "padding": null,
            "grid_auto_rows": null,
            "grid_gap": null,
            "max_width": null,
            "order": null,
            "_view_module_version": "1.2.0",
            "grid_template_areas": null,
            "object_position": null,
            "object_fit": null,
            "grid_auto_columns": null,
            "margin": null,
            "display": null,
            "left": null
          }
        },
        "bd78dfcd385a40bcadced103f1b3aa04": {
          "model_module": "@jupyter-widgets/controls",
          "model_name": "PlayModel",
          "state": {
            "_view_name": "PlayView",
            "style": "IPY_MODEL_2830894aad244a428b30995763eca774",
            "interval": 500,
            "_dom_classes": [],
            "description": "Press Play",
            "_model_name": "PlayModel",
            "max": 100,
            "_view_module": "@jupyter-widgets/controls",
            "_model_module_version": "1.5.0",
            "value": 0,
            "_view_count": null,
            "disabled": false,
            "_repeat": false,
            "_view_module_version": "1.5.0",
            "show_repeat": true,
            "min": 0,
            "_playing": false,
            "step": 1,
            "description_tooltip": null,
            "_model_module": "@jupyter-widgets/controls",
            "layout": "IPY_MODEL_f2676cce0b1d40579fabb74ad0f1c2ed"
          }
        },
        "a098e7da71ce473e8a81a1009b4f0d1c": {
          "model_module": "@jupyter-widgets/controls",
          "model_name": "IntSliderModel",
          "state": {
            "_view_name": "IntSliderView",
            "style": "IPY_MODEL_54c13ff18d3e4d1c865a58e0c8ee9c18",
            "_dom_classes": [],
            "description": "",
            "step": 1,
            "_model_name": "IntSliderModel",
            "orientation": "horizontal",
            "max": 100,
            "_view_module": "@jupyter-widgets/controls",
            "_model_module_version": "1.5.0",
            "value": 100,
            "_view_count": null,
            "disabled": false,
            "_view_module_version": "1.5.0",
            "min": 0,
            "continuous_update": true,
            "readout_format": "d",
            "description_tooltip": null,
            "readout": true,
            "_model_module": "@jupyter-widgets/controls",
            "layout": "IPY_MODEL_85daebbe523d4137a75c2f2ca596c347"
          }
        },
        "2830894aad244a428b30995763eca774": {
          "model_module": "@jupyter-widgets/controls",
          "model_name": "DescriptionStyleModel",
          "state": {
            "_view_name": "StyleView",
            "_model_name": "DescriptionStyleModel",
            "description_width": "",
            "_view_module": "@jupyter-widgets/base",
            "_model_module_version": "1.5.0",
            "_view_count": null,
            "_view_module_version": "1.2.0",
            "_model_module": "@jupyter-widgets/controls"
          }
        },
        "f2676cce0b1d40579fabb74ad0f1c2ed": {
          "model_module": "@jupyter-widgets/base",
          "model_name": "LayoutModel",
          "state": {
            "_view_name": "LayoutView",
            "grid_template_rows": null,
            "right": null,
            "justify_content": null,
            "_view_module": "@jupyter-widgets/base",
            "overflow": null,
            "_model_module_version": "1.2.0",
            "_view_count": null,
            "flex_flow": null,
            "width": null,
            "min_width": null,
            "border": null,
            "align_items": null,
            "bottom": null,
            "_model_module": "@jupyter-widgets/base",
            "top": null,
            "grid_column": null,
            "overflow_y": null,
            "overflow_x": null,
            "grid_auto_flow": null,
            "grid_area": null,
            "grid_template_columns": null,
            "flex": null,
            "_model_name": "LayoutModel",
            "justify_items": null,
            "grid_row": null,
            "max_height": null,
            "align_content": null,
            "visibility": null,
            "align_self": null,
            "height": null,
            "min_height": null,
            "padding": null,
            "grid_auto_rows": null,
            "grid_gap": null,
            "max_width": null,
            "order": null,
            "_view_module_version": "1.2.0",
            "grid_template_areas": null,
            "object_position": null,
            "object_fit": null,
            "grid_auto_columns": null,
            "margin": null,
            "display": null,
            "left": null
          }
        },
        "54c13ff18d3e4d1c865a58e0c8ee9c18": {
          "model_module": "@jupyter-widgets/controls",
          "model_name": "SliderStyleModel",
          "state": {
            "_view_name": "StyleView",
            "handle_color": null,
            "_model_name": "SliderStyleModel",
            "description_width": "",
            "_view_module": "@jupyter-widgets/base",
            "_model_module_version": "1.5.0",
            "_view_count": null,
            "_view_module_version": "1.2.0",
            "_model_module": "@jupyter-widgets/controls"
          }
        },
        "85daebbe523d4137a75c2f2ca596c347": {
          "model_module": "@jupyter-widgets/base",
          "model_name": "LayoutModel",
          "state": {
            "_view_name": "LayoutView",
            "grid_template_rows": null,
            "right": null,
            "justify_content": null,
            "_view_module": "@jupyter-widgets/base",
            "overflow": null,
            "_model_module_version": "1.2.0",
            "_view_count": null,
            "flex_flow": null,
            "width": null,
            "min_width": null,
            "border": null,
            "align_items": null,
            "bottom": null,
            "_model_module": "@jupyter-widgets/base",
            "top": null,
            "grid_column": null,
            "overflow_y": null,
            "overflow_x": null,
            "grid_auto_flow": null,
            "grid_area": null,
            "grid_template_columns": null,
            "flex": null,
            "_model_name": "LayoutModel",
            "justify_items": null,
            "grid_row": null,
            "max_height": null,
            "align_content": null,
            "visibility": null,
            "align_self": null,
            "height": null,
            "min_height": null,
            "padding": null,
            "grid_auto_rows": null,
            "grid_gap": null,
            "max_width": null,
            "order": null,
            "_view_module_version": "1.2.0",
            "grid_template_areas": null,
            "object_position": null,
            "object_fit": null,
            "grid_auto_columns": null,
            "margin": null,
            "display": null,
            "left": null
          }
        },
        "218d02efce7847a1ab54fdc32b664a90": {
          "model_module": "@jupyter-widgets/output",
          "model_name": "OutputModel",
          "state": {
            "_view_name": "OutputView",
            "msg_id": "",
            "_dom_classes": [],
            "_model_name": "OutputModel",
            "outputs": [
              {
                "output_type": "display_data",
                "metadata": {
                  "tags": [],
                  "needs_background": "light"
                },
                "image/png": "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\n",
                "text/plain": "<Figure size 648x324 with 2 Axes>"
              }
            ],
            "_view_module": "@jupyter-widgets/output",
            "_model_module_version": "1.0.0",
            "_view_count": null,
            "_view_module_version": "1.0.0",
            "layout": "IPY_MODEL_ad5b7129196e47d69949f1f09ec6d5e5",
            "_model_module": "@jupyter-widgets/output"
          }
        },
        "ad5b7129196e47d69949f1f09ec6d5e5": {
          "model_module": "@jupyter-widgets/base",
          "model_name": "LayoutModel",
          "state": {
            "_view_name": "LayoutView",
            "grid_template_rows": null,
            "right": null,
            "justify_content": null,
            "_view_module": "@jupyter-widgets/base",
            "overflow": null,
            "_model_module_version": "1.2.0",
            "_view_count": null,
            "flex_flow": null,
            "width": null,
            "min_width": null,
            "border": null,
            "align_items": null,
            "bottom": null,
            "_model_module": "@jupyter-widgets/base",
            "top": null,
            "grid_column": null,
            "overflow_y": null,
            "overflow_x": null,
            "grid_auto_flow": null,
            "grid_area": null,
            "grid_template_columns": null,
            "flex": null,
            "_model_name": "LayoutModel",
            "justify_items": null,
            "grid_row": null,
            "max_height": null,
            "align_content": null,
            "visibility": null,
            "align_self": null,
            "height": null,
            "min_height": null,
            "padding": null,
            "grid_auto_rows": null,
            "grid_gap": null,
            "max_width": null,
            "order": null,
            "_view_module_version": "1.2.0",
            "grid_template_areas": null,
            "object_position": null,
            "object_fit": null,
            "grid_auto_columns": null,
            "margin": null,
            "display": null,
            "left": null
          }
        },
        "72fcec197a9d4a0a95266e08b8c8cfd0": {
          "model_module": "@jupyter-widgets/controls",
          "model_name": "HBoxModel",
          "state": {
            "_view_name": "HBoxView",
            "_dom_classes": [],
            "_model_name": "HBoxModel",
            "_view_module": "@jupyter-widgets/controls",
            "_model_module_version": "1.5.0",
            "_view_count": null,
            "_view_module_version": "1.5.0",
            "box_style": "",
            "layout": "IPY_MODEL_6ace03034d1b44c8a764b2797684a1c2",
            "_model_module": "@jupyter-widgets/controls",
            "children": [
              "IPY_MODEL_3ed75b6f8a31480990d176cf0689059a",
              "IPY_MODEL_cfb3b302897546b3b8ac431a0fa40fd9"
            ]
          }
        },
        "6ace03034d1b44c8a764b2797684a1c2": {
          "model_module": "@jupyter-widgets/base",
          "model_name": "LayoutModel",
          "state": {
            "_view_name": "LayoutView",
            "grid_template_rows": null,
            "right": null,
            "justify_content": null,
            "_view_module": "@jupyter-widgets/base",
            "overflow": null,
            "_model_module_version": "1.2.0",
            "_view_count": null,
            "flex_flow": null,
            "width": null,
            "min_width": null,
            "border": null,
            "align_items": null,
            "bottom": null,
            "_model_module": "@jupyter-widgets/base",
            "top": null,
            "grid_column": null,
            "overflow_y": null,
            "overflow_x": null,
            "grid_auto_flow": null,
            "grid_area": null,
            "grid_template_columns": null,
            "flex": null,
            "_model_name": "LayoutModel",
            "justify_items": null,
            "grid_row": null,
            "max_height": null,
            "align_content": null,
            "visibility": null,
            "align_self": null,
            "height": null,
            "min_height": null,
            "padding": null,
            "grid_auto_rows": null,
            "grid_gap": null,
            "max_width": null,
            "order": null,
            "_view_module_version": "1.2.0",
            "grid_template_areas": null,
            "object_position": null,
            "object_fit": null,
            "grid_auto_columns": null,
            "margin": null,
            "display": null,
            "left": null
          }
        },
        "3ed75b6f8a31480990d176cf0689059a": {
          "model_module": "@jupyter-widgets/controls",
          "model_name": "PlayModel",
          "state": {
            "_view_name": "PlayView",
            "style": "IPY_MODEL_6fe2b508faa2499e8d5025bc08369b18",
            "interval": 500,
            "_dom_classes": [],
            "description": "Press play",
            "_model_name": "PlayModel",
            "max": 200,
            "_view_module": "@jupyter-widgets/controls",
            "_model_module_version": "1.5.0",
            "value": 2,
            "_view_count": null,
            "disabled": false,
            "_repeat": true,
            "_view_module_version": "1.5.0",
            "show_repeat": true,
            "min": 0,
            "_playing": true,
            "step": 1,
            "description_tooltip": null,
            "_model_module": "@jupyter-widgets/controls",
            "layout": "IPY_MODEL_0e662a8c1bf34662bf929bab60c12ad1"
          }
        },
        "cfb3b302897546b3b8ac431a0fa40fd9": {
          "model_module": "@jupyter-widgets/controls",
          "model_name": "IntSliderModel",
          "state": {
            "_view_name": "IntSliderView",
            "style": "IPY_MODEL_59ebaadd4d9e4d7d87d13843ed7b5639",
            "_dom_classes": [],
            "description": "",
            "step": 1,
            "_model_name": "IntSliderModel",
            "orientation": "horizontal",
            "max": 200,
            "_view_module": "@jupyter-widgets/controls",
            "_model_module_version": "1.5.0",
            "value": 106,
            "_view_count": null,
            "disabled": false,
            "_view_module_version": "1.5.0",
            "min": 0,
            "continuous_update": true,
            "readout_format": "d",
            "description_tooltip": null,
            "readout": true,
            "_model_module": "@jupyter-widgets/controls",
            "layout": "IPY_MODEL_a113c315a9f34dc48ad33d3aa5399bdc"
          }
        },
        "6fe2b508faa2499e8d5025bc08369b18": {
          "model_module": "@jupyter-widgets/controls",
          "model_name": "DescriptionStyleModel",
          "state": {
            "_view_name": "StyleView",
            "_model_name": "DescriptionStyleModel",
            "description_width": "",
            "_view_module": "@jupyter-widgets/base",
            "_model_module_version": "1.5.0",
            "_view_count": null,
            "_view_module_version": "1.2.0",
            "_model_module": "@jupyter-widgets/controls"
          }
        },
        "0e662a8c1bf34662bf929bab60c12ad1": {
          "model_module": "@jupyter-widgets/base",
          "model_name": "LayoutModel",
          "state": {
            "_view_name": "LayoutView",
            "grid_template_rows": null,
            "right": null,
            "justify_content": null,
            "_view_module": "@jupyter-widgets/base",
            "overflow": null,
            "_model_module_version": "1.2.0",
            "_view_count": null,
            "flex_flow": null,
            "width": null,
            "min_width": null,
            "border": null,
            "align_items": null,
            "bottom": null,
            "_model_module": "@jupyter-widgets/base",
            "top": null,
            "grid_column": null,
            "overflow_y": null,
            "overflow_x": null,
            "grid_auto_flow": null,
            "grid_area": null,
            "grid_template_columns": null,
            "flex": null,
            "_model_name": "LayoutModel",
            "justify_items": null,
            "grid_row": null,
            "max_height": null,
            "align_content": null,
            "visibility": null,
            "align_self": null,
            "height": null,
            "min_height": null,
            "padding": null,
            "grid_auto_rows": null,
            "grid_gap": null,
            "max_width": null,
            "order": null,
            "_view_module_version": "1.2.0",
            "grid_template_areas": null,
            "object_position": null,
            "object_fit": null,
            "grid_auto_columns": null,
            "margin": null,
            "display": null,
            "left": null
          }
        },
        "59ebaadd4d9e4d7d87d13843ed7b5639": {
          "model_module": "@jupyter-widgets/controls",
          "model_name": "SliderStyleModel",
          "state": {
            "_view_name": "StyleView",
            "handle_color": null,
            "_model_name": "SliderStyleModel",
            "description_width": "",
            "_view_module": "@jupyter-widgets/base",
            "_model_module_version": "1.5.0",
            "_view_count": null,
            "_view_module_version": "1.2.0",
            "_model_module": "@jupyter-widgets/controls"
          }
        },
        "a113c315a9f34dc48ad33d3aa5399bdc": {
          "model_module": "@jupyter-widgets/base",
          "model_name": "LayoutModel",
          "state": {
            "_view_name": "LayoutView",
            "grid_template_rows": null,
            "right": null,
            "justify_content": null,
            "_view_module": "@jupyter-widgets/base",
            "overflow": null,
            "_model_module_version": "1.2.0",
            "_view_count": null,
            "flex_flow": null,
            "width": null,
            "min_width": null,
            "border": null,
            "align_items": null,
            "bottom": null,
            "_model_module": "@jupyter-widgets/base",
            "top": null,
            "grid_column": null,
            "overflow_y": null,
            "overflow_x": null,
            "grid_auto_flow": null,
            "grid_area": null,
            "grid_template_columns": null,
            "flex": null,
            "_model_name": "LayoutModel",
            "justify_items": null,
            "grid_row": null,
            "max_height": null,
            "align_content": null,
            "visibility": null,
            "align_self": null,
            "height": null,
            "min_height": null,
            "padding": null,
            "grid_auto_rows": null,
            "grid_gap": null,
            "max_width": null,
            "order": null,
            "_view_module_version": "1.2.0",
            "grid_template_areas": null,
            "object_position": null,
            "object_fit": null,
            "grid_auto_columns": null,
            "margin": null,
            "display": null,
            "left": null
          }
        },
        "36c634b994954a5d86fcd20cd2f601b2": {
          "model_module": "@jupyter-widgets/output",
          "model_name": "OutputModel",
          "state": {
            "_view_name": "OutputView",
            "msg_id": "",
            "_dom_classes": [],
            "_model_name": "OutputModel",
            "outputs": [
              {
                "output_type": "display_data",
                "metadata": {
                  "tags": [],
                  "needs_background": "light"
                },
                "image/png": "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\n",
                "text/plain": "<Figure size 648x324 with 2 Axes>"
              }
            ],
            "_view_module": "@jupyter-widgets/output",
            "_model_module_version": "1.0.0",
            "_view_count": null,
            "_view_module_version": "1.0.0",
            "layout": "IPY_MODEL_d8c47fc5940d4ca1a3599c3862e5744e",
            "_model_module": "@jupyter-widgets/output"
          }
        },
        "d8c47fc5940d4ca1a3599c3862e5744e": {
          "model_module": "@jupyter-widgets/base",
          "model_name": "LayoutModel",
          "state": {
            "_view_name": "LayoutView",
            "grid_template_rows": null,
            "right": null,
            "justify_content": null,
            "_view_module": "@jupyter-widgets/base",
            "overflow": null,
            "_model_module_version": "1.2.0",
            "_view_count": null,
            "flex_flow": null,
            "width": null,
            "min_width": null,
            "border": null,
            "align_items": null,
            "bottom": null,
            "_model_module": "@jupyter-widgets/base",
            "top": null,
            "grid_column": null,
            "overflow_y": null,
            "overflow_x": null,
            "grid_auto_flow": null,
            "grid_area": null,
            "grid_template_columns": null,
            "flex": null,
            "_model_name": "LayoutModel",
            "justify_items": null,
            "grid_row": null,
            "max_height": null,
            "align_content": null,
            "visibility": null,
            "align_self": null,
            "height": null,
            "min_height": null,
            "padding": null,
            "grid_auto_rows": null,
            "grid_gap": null,
            "max_width": null,
            "order": null,
            "_view_module_version": "1.2.0",
            "grid_template_areas": null,
            "object_position": null,
            "object_fit": null,
            "grid_auto_columns": null,
            "margin": null,
            "display": null,
            "left": null
          }
        }
      }
    }
  },
  "cells": [
    {
      "cell_type": "markdown",
      "metadata": {
        "id": "view-in-github",
        "colab_type": "text"
      },
      "source": [
        "<a href=\"https://colab.research.google.com/github/anko191/Python_Kaggle/blob/master/Optuna/Optuna_introduction.ipynb\" target=\"_parent\"><img src=\"https://colab.research.google.com/assets/colab-badge.svg\" alt=\"Open In Colab\"/></a>"
      ]
    },
    {
      "cell_type": "code",
      "metadata": {
        "id": "-7YHR5F6U4lf",
        "colab_type": "code",
        "colab": {}
      },
      "source": [
        "%pip install optuna"
      ],
      "execution_count": null,
      "outputs": []
    },
    {
      "cell_type": "code",
      "metadata": {
        "id": "RjgTT0PfVXzF",
        "colab_type": "code",
        "colab": {}
      },
      "source": [
        "import optuna\n",
        "\n",
        "def objective(trial):\n",
        "    x = trial.suggest_uniform('x', -10, 10)\n",
        "    # このスコアが一番小さくなるものを探す\n",
        "    # 2に近い方がいいね、\n",
        "    score =(x-2)**2\n",
        "    print('x: %1.3f, score:%1.3f' %(x, score))\n",
        "    return score"
      ],
      "execution_count": 17,
      "outputs": []
    },
    {
      "cell_type": "code",
      "metadata": {
        "id": "c5BjDSoCZxC6",
        "colab_type": "code",
        "colab": {
          "base_uri": "https://localhost:8080/",
          "height": 1000
        },
        "outputId": "cddfe5bc-487e-4964-de5d-80a5752d9637"
      },
      "source": [
        "study = optuna.create_study()\n",
        "study.optimize(objective, n_trials=100)"
      ],
      "execution_count": 18,
      "outputs": [
        {
          "output_type": "stream",
          "text": [
            "x: -1.407, score:11.606\n"
          ],
          "name": "stdout"
        },
        {
          "output_type": "stream",
          "text": [
            "[I 2020-09-01 06:42:31,680] Trial 0 finished with value: 11.606045956901665 and parameters: {'x': -1.406764734598159}. Best is trial 0 with value: 11.606045956901665.\n"
          ],
          "name": "stderr"
        },
        {
          "output_type": "stream",
          "text": [
            "x: 3.141, score:1.303\n"
          ],
          "name": "stdout"
        },
        {
          "output_type": "stream",
          "text": [
            "[I 2020-09-01 06:42:31,687] Trial 1 finished with value: 1.302865556715479 and parameters: {'x': 3.141431363120656}. Best is trial 1 with value: 1.302865556715479.\n"
          ],
          "name": "stderr"
        },
        {
          "output_type": "stream",
          "text": [
            "x: 2.704, score:0.495\n"
          ],
          "name": "stdout"
        },
        {
          "output_type": "stream",
          "text": [
            "[I 2020-09-01 06:42:31,693] Trial 2 finished with value: 0.4953047019148474 and parameters: {'x': 2.70377887288185}. Best is trial 2 with value: 0.4953047019148474.\n"
          ],
          "name": "stderr"
        },
        {
          "output_type": "stream",
          "text": [
            "x: 8.259, score:39.178\n"
          ],
          "name": "stdout"
        },
        {
          "output_type": "stream",
          "text": [
            "[I 2020-09-01 06:42:31,702] Trial 3 finished with value: 39.178493527219295 and parameters: {'x': 8.259272603683218}. Best is trial 2 with value: 0.4953047019148474.\n"
          ],
          "name": "stderr"
        },
        {
          "output_type": "stream",
          "text": [
            "x: -1.548, score:12.590\n"
          ],
          "name": "stdout"
        },
        {
          "output_type": "stream",
          "text": [
            "[I 2020-09-01 06:42:31,706] Trial 4 finished with value: 12.589836965223368 and parameters: {'x': -1.5482160257266422}. Best is trial 2 with value: 0.4953047019148474.\n"
          ],
          "name": "stderr"
        },
        {
          "output_type": "stream",
          "text": [
            "x: -9.795, score:139.133\n"
          ],
          "name": "stdout"
        },
        {
          "output_type": "stream",
          "text": [
            "[I 2020-09-01 06:42:31,710] Trial 5 finished with value: 139.1332624202722 and parameters: {'x': -9.795476354105933}. Best is trial 2 with value: 0.4953047019148474.\n"
          ],
          "name": "stderr"
        },
        {
          "output_type": "stream",
          "text": [
            "x: 8.485, score:42.053\n"
          ],
          "name": "stdout"
        },
        {
          "output_type": "stream",
          "text": [
            "[I 2020-09-01 06:42:31,715] Trial 6 finished with value: 42.05295379748046 and parameters: {'x': 8.484824885644983}. Best is trial 2 with value: 0.4953047019148474.\n"
          ],
          "name": "stderr"
        },
        {
          "output_type": "stream",
          "text": [
            "x: -6.533, score:72.812\n"
          ],
          "name": "stdout"
        },
        {
          "output_type": "stream",
          "text": [
            "[I 2020-09-01 06:42:31,719] Trial 7 finished with value: 72.81203830976246 and parameters: {'x': -6.532997029752352}. Best is trial 2 with value: 0.4953047019148474.\n"
          ],
          "name": "stderr"
        },
        {
          "output_type": "stream",
          "text": [
            "x: -0.280, score:5.200\n"
          ],
          "name": "stdout"
        },
        {
          "output_type": "stream",
          "text": [
            "[I 2020-09-01 06:42:31,723] Trial 8 finished with value: 5.200093255705278 and parameters: {'x': -0.2803712977726409}. Best is trial 2 with value: 0.4953047019148474.\n"
          ],
          "name": "stderr"
        },
        {
          "output_type": "stream",
          "text": [
            "x: 2.549, score:0.301\n"
          ],
          "name": "stdout"
        },
        {
          "output_type": "stream",
          "text": [
            "[I 2020-09-01 06:42:31,728] Trial 9 finished with value: 0.3014033252717807 and parameters: {'x': 2.5490021177297777}. Best is trial 9 with value: 0.3014033252717807.\n"
          ],
          "name": "stderr"
        },
        {
          "output_type": "stream",
          "text": [
            "x: 4.686, score:7.215\n"
          ],
          "name": "stdout"
        },
        {
          "output_type": "stream",
          "text": [
            "[I 2020-09-01 06:42:31,735] Trial 10 finished with value: 7.2146646441330375 and parameters: {'x': 4.686012778103082}. Best is trial 9 with value: 0.3014033252717807.\n"
          ],
          "name": "stderr"
        },
        {
          "output_type": "stream",
          "text": [
            "x: 4.005, score:4.020\n"
          ],
          "name": "stdout"
        },
        {
          "output_type": "stream",
          "text": [
            "[I 2020-09-01 06:42:31,742] Trial 11 finished with value: 4.020172709547299 and parameters: {'x': 4.005036834960221}. Best is trial 9 with value: 0.3014033252717807.\n"
          ],
          "name": "stderr"
        },
        {
          "output_type": "stream",
          "text": [
            "x: 2.174, score:0.030\n"
          ],
          "name": "stdout"
        },
        {
          "output_type": "stream",
          "text": [
            "[I 2020-09-01 06:42:31,749] Trial 12 finished with value: 0.030418709866951707 and parameters: {'x': 2.174409603711928}. Best is trial 12 with value: 0.030418709866951707.\n"
          ],
          "name": "stderr"
        },
        {
          "output_type": "stream",
          "text": [
            "x: -4.049, score:36.590\n"
          ],
          "name": "stdout"
        },
        {
          "output_type": "stream",
          "text": [
            "[I 2020-09-01 06:42:31,758] Trial 13 finished with value: 36.59015186546197 and parameters: {'x': -4.048979406929897}. Best is trial 12 with value: 0.030418709866951707.\n"
          ],
          "name": "stderr"
        },
        {
          "output_type": "stream",
          "text": [
            "x: 5.625, score:13.140\n"
          ],
          "name": "stdout"
        },
        {
          "output_type": "stream",
          "text": [
            "[I 2020-09-01 06:42:31,765] Trial 14 finished with value: 13.13964210003451 and parameters: {'x': 5.6248644250557165}. Best is trial 12 with value: 0.030418709866951707.\n"
          ],
          "name": "stderr"
        },
        {
          "output_type": "stream",
          "text": [
            "x: 1.192, score:0.652\n"
          ],
          "name": "stdout"
        },
        {
          "output_type": "stream",
          "text": [
            "[I 2020-09-01 06:42:31,772] Trial 15 finished with value: 0.6520910312160122 and parameters: {'x': 1.1924784639305201}. Best is trial 12 with value: 0.030418709866951707.\n"
          ],
          "name": "stderr"
        },
        {
          "output_type": "stream",
          "text": [
            "x: 6.574, score:20.924\n"
          ],
          "name": "stdout"
        },
        {
          "output_type": "stream",
          "text": [
            "[I 2020-09-01 06:42:31,779] Trial 16 finished with value: 20.924231130956343 and parameters: {'x': 6.574301163123865}. Best is trial 12 with value: 0.030418709866951707.\n"
          ],
          "name": "stderr"
        },
        {
          "output_type": "stream",
          "text": [
            "x: -3.489, score:30.134\n"
          ],
          "name": "stdout"
        },
        {
          "output_type": "stream",
          "text": [
            "[I 2020-09-01 06:42:31,787] Trial 17 finished with value: 30.133801324196593 and parameters: {'x': -3.4894263201355193}. Best is trial 12 with value: 0.030418709866951707.\n"
          ],
          "name": "stderr"
        },
        {
          "output_type": "stream",
          "text": [
            "x: 0.931, score:1.142\n"
          ],
          "name": "stdout"
        },
        {
          "output_type": "stream",
          "text": [
            "[I 2020-09-01 06:42:31,795] Trial 18 finished with value: 1.1423101483256954 and parameters: {'x': 0.931210896235513}. Best is trial 12 with value: 0.030418709866951707.\n"
          ],
          "name": "stderr"
        },
        {
          "output_type": "stream",
          "text": [
            "x: 2.149, score:0.022\n"
          ],
          "name": "stdout"
        },
        {
          "output_type": "stream",
          "text": [
            "[I 2020-09-01 06:42:31,802] Trial 19 finished with value: 0.02220795204048798 and parameters: {'x': 2.1490233271688965}. Best is trial 19 with value: 0.02220795204048798.\n"
          ],
          "name": "stderr"
        },
        {
          "output_type": "stream",
          "text": [
            "x: 6.463, score:19.917\n"
          ],
          "name": "stdout"
        },
        {
          "output_type": "stream",
          "text": [
            "[I 2020-09-01 06:42:31,809] Trial 20 finished with value: 19.917017981514253 and parameters: {'x': 6.46284863977194}. Best is trial 19 with value: 0.02220795204048798.\n"
          ],
          "name": "stderr"
        },
        {
          "output_type": "stream",
          "text": [
            "x: 1.820, score:0.032\n"
          ],
          "name": "stdout"
        },
        {
          "output_type": "stream",
          "text": [
            "[I 2020-09-01 06:42:31,819] Trial 21 finished with value: 0.032398207271643956 and parameters: {'x': 1.8200049798698754}. Best is trial 19 with value: 0.02220795204048798.\n"
          ],
          "name": "stderr"
        },
        {
          "output_type": "stream",
          "text": [
            "x: 1.289, score:0.505\n"
          ],
          "name": "stdout"
        },
        {
          "output_type": "stream",
          "text": [
            "[I 2020-09-01 06:42:31,827] Trial 22 finished with value: 0.5054604445478722 and parameters: {'x': 1.2890425859815005}. Best is trial 19 with value: 0.02220795204048798.\n"
          ],
          "name": "stderr"
        },
        {
          "output_type": "stream",
          "text": [
            "x: -0.849, score:8.116\n"
          ],
          "name": "stdout"
        },
        {
          "output_type": "stream",
          "text": [
            "[I 2020-09-01 06:42:31,835] Trial 23 finished with value: 8.116066659493612 and parameters: {'x': -0.8488711201971932}. Best is trial 19 with value: 0.02220795204048798.\n"
          ],
          "name": "stderr"
        },
        {
          "output_type": "stream",
          "text": [
            "x: -3.077, score:25.779\n"
          ],
          "name": "stdout"
        },
        {
          "output_type": "stream",
          "text": [
            "[I 2020-09-01 06:42:31,843] Trial 24 finished with value: 25.77870565263149 and parameters: {'x': -3.0772734467065574}. Best is trial 19 with value: 0.02220795204048798.\n"
          ],
          "name": "stderr"
        },
        {
          "output_type": "stream",
          "text": [
            "x: 2.050, score:0.002\n"
          ],
          "name": "stdout"
        },
        {
          "output_type": "stream",
          "text": [
            "[I 2020-09-01 06:42:31,852] Trial 25 finished with value: 0.002476549390728486 and parameters: {'x': 2.0497649413817447}. Best is trial 25 with value: 0.002476549390728486.\n"
          ],
          "name": "stderr"
        },
        {
          "output_type": "stream",
          "text": [
            "x: 4.686, score:7.215\n"
          ],
          "name": "stdout"
        },
        {
          "output_type": "stream",
          "text": [
            "[I 2020-09-01 06:42:31,860] Trial 26 finished with value: 7.214868893477304 and parameters: {'x': 4.686050798752195}. Best is trial 25 with value: 0.002476549390728486.\n"
          ],
          "name": "stderr"
        },
        {
          "output_type": "stream",
          "text": [
            "x: 3.420, score:2.018\n"
          ],
          "name": "stdout"
        },
        {
          "output_type": "stream",
          "text": [
            "[I 2020-09-01 06:42:31,869] Trial 27 finished with value: 2.01769995353059 and parameters: {'x': 3.420457656366634}. Best is trial 25 with value: 0.002476549390728486.\n"
          ],
          "name": "stderr"
        },
        {
          "output_type": "stream",
          "text": [
            "x: -5.384, score:54.517\n"
          ],
          "name": "stdout"
        },
        {
          "output_type": "stream",
          "text": [
            "[I 2020-09-01 06:42:31,878] Trial 28 finished with value: 54.517203546768606 and parameters: {'x': -5.383576609392538}. Best is trial 25 with value: 0.002476549390728486.\n"
          ],
          "name": "stderr"
        },
        {
          "output_type": "stream",
          "text": [
            "x: -1.593, score:12.908\n"
          ],
          "name": "stdout"
        },
        {
          "output_type": "stream",
          "text": [
            "[I 2020-09-01 06:42:31,887] Trial 29 finished with value: 12.907555646844813 and parameters: {'x': -1.5927086782600135}. Best is trial 25 with value: 0.002476549390728486.\n"
          ],
          "name": "stderr"
        },
        {
          "output_type": "stream",
          "text": [
            "x: 0.102, score:3.603\n"
          ],
          "name": "stdout"
        },
        {
          "output_type": "stream",
          "text": [
            "[I 2020-09-01 06:42:31,896] Trial 30 finished with value: 3.6030031347880254 and parameters: {'x': 0.10184217337229162}. Best is trial 25 with value: 0.002476549390728486.\n"
          ],
          "name": "stderr"
        },
        {
          "output_type": "stream",
          "text": [
            "x: 1.814, score:0.035\n"
          ],
          "name": "stdout"
        },
        {
          "output_type": "stream",
          "text": [
            "[I 2020-09-01 06:42:31,906] Trial 31 finished with value: 0.03472596239642671 and parameters: {'x': 1.8136509662047406}. Best is trial 25 with value: 0.002476549390728486.\n"
          ],
          "name": "stderr"
        },
        {
          "output_type": "stream",
          "text": [
            "x: 2.304, score:0.092\n"
          ],
          "name": "stdout"
        },
        {
          "output_type": "stream",
          "text": [
            "[I 2020-09-01 06:42:31,916] Trial 32 finished with value: 0.09247303334307282 and parameters: {'x': 2.3040937903724323}. Best is trial 25 with value: 0.002476549390728486.\n"
          ],
          "name": "stderr"
        },
        {
          "output_type": "stream",
          "text": [
            "x: 0.667, score:1.778\n"
          ],
          "name": "stdout"
        },
        {
          "output_type": "stream",
          "text": [
            "[I 2020-09-01 06:42:31,923] Trial 33 finished with value: 1.7781892986420296 and parameters: {'x': 0.6665123552720746}. Best is trial 25 with value: 0.002476549390728486.\n"
          ],
          "name": "stderr"
        },
        {
          "output_type": "stream",
          "text": [
            "x: 3.215, score:1.476\n"
          ],
          "name": "stdout"
        },
        {
          "output_type": "stream",
          "text": [
            "[I 2020-09-01 06:42:31,932] Trial 34 finished with value: 1.4763891991742009 and parameters: {'x': 3.215067569797746}. Best is trial 25 with value: 0.002476549390728486.\n"
          ],
          "name": "stderr"
        },
        {
          "output_type": "stream",
          "text": [
            "x: -1.973, score:15.785\n"
          ],
          "name": "stdout"
        },
        {
          "output_type": "stream",
          "text": [
            "[I 2020-09-01 06:42:31,964] Trial 35 finished with value: 15.785147662627494 and parameters: {'x': -1.9730526881262844}. Best is trial 25 with value: 0.002476549390728486.\n"
          ],
          "name": "stderr"
        },
        {
          "output_type": "stream",
          "text": [
            "x: 9.996, score:63.938\n"
          ],
          "name": "stdout"
        },
        {
          "output_type": "stream",
          "text": [
            "[I 2020-09-01 06:42:31,976] Trial 36 finished with value: 63.93835497764609 and parameters: {'x': 9.996146257894868}. Best is trial 25 with value: 0.002476549390728486.\n"
          ],
          "name": "stderr"
        },
        {
          "output_type": "stream",
          "text": [
            "x: 4.306, score:5.319\n"
          ],
          "name": "stdout"
        },
        {
          "output_type": "stream",
          "text": [
            "[I 2020-09-01 06:42:31,992] Trial 37 finished with value: 5.318801841696325 and parameters: {'x': 4.306252770555805}. Best is trial 25 with value: 0.002476549390728486.\n"
          ],
          "name": "stderr"
        },
        {
          "output_type": "stream",
          "text": [
            "x: 2.268, score:0.072\n"
          ],
          "name": "stdout"
        },
        {
          "output_type": "stream",
          "text": [
            "[I 2020-09-01 06:42:32,006] Trial 38 finished with value: 0.07178751813036982 and parameters: {'x': 2.2679319281652894}. Best is trial 25 with value: 0.002476549390728486.\n"
          ],
          "name": "stderr"
        },
        {
          "output_type": "stream",
          "text": [
            "x: 5.349, score:11.213\n"
          ],
          "name": "stdout"
        },
        {
          "output_type": "stream",
          "text": [
            "[I 2020-09-01 06:42:32,023] Trial 39 finished with value: 11.2126994962614 and parameters: {'x': 5.348536918754428}. Best is trial 25 with value: 0.002476549390728486.\n"
          ],
          "name": "stderr"
        },
        {
          "output_type": "stream",
          "text": [
            "x: -0.164, score:4.684\n"
          ],
          "name": "stdout"
        },
        {
          "output_type": "stream",
          "text": [
            "[I 2020-09-01 06:42:32,032] Trial 40 finished with value: 4.684287061966322 and parameters: {'x': -0.16432138601602375}. Best is trial 25 with value: 0.002476549390728486.\n"
          ],
          "name": "stderr"
        },
        {
          "output_type": "stream",
          "text": [
            "x: 1.853, score:0.022\n"
          ],
          "name": "stdout"
        },
        {
          "output_type": "stream",
          "text": [
            "[I 2020-09-01 06:42:32,040] Trial 41 finished with value: 0.02151389466533609 and parameters: {'x': 1.8533238442508937}. Best is trial 25 with value: 0.002476549390728486.\n"
          ],
          "name": "stderr"
        },
        {
          "output_type": "stream",
          "text": [
            "x: 3.065, score:1.134\n"
          ],
          "name": "stdout"
        },
        {
          "output_type": "stream",
          "text": [
            "[I 2020-09-01 06:42:32,049] Trial 42 finished with value: 1.1341929083116686 and parameters: {'x': 3.0649849333730823}. Best is trial 25 with value: 0.002476549390728486.\n"
          ],
          "name": "stderr"
        },
        {
          "output_type": "stream",
          "text": [
            "x: 1.811, score:0.036\n"
          ],
          "name": "stdout"
        },
        {
          "output_type": "stream",
          "text": [
            "[I 2020-09-01 06:42:32,057] Trial 43 finished with value: 0.03562477174116374 and parameters: {'x': 1.8112547437916287}. Best is trial 25 with value: 0.002476549390728486.\n"
          ],
          "name": "stderr"
        },
        {
          "output_type": "stream",
          "text": [
            "x: 0.336, score:2.767\n"
          ],
          "name": "stdout"
        },
        {
          "output_type": "stream",
          "text": [
            "[I 2020-09-01 06:42:32,065] Trial 44 finished with value: 2.767469635464518 and parameters: {'x': 0.3364286503234921}. Best is trial 25 with value: 0.002476549390728486.\n"
          ],
          "name": "stderr"
        },
        {
          "output_type": "stream",
          "text": [
            "x: 3.787, score:3.193\n"
          ],
          "name": "stdout"
        },
        {
          "output_type": "stream",
          "text": [
            "[I 2020-09-01 06:42:32,073] Trial 45 finished with value: 3.1928392565020762 and parameters: {'x': 3.78685177239246}. Best is trial 25 with value: 0.002476549390728486.\n"
          ],
          "name": "stderr"
        },
        {
          "output_type": "stream",
          "text": [
            "x: -0.807, score:7.879\n"
          ],
          "name": "stdout"
        },
        {
          "output_type": "stream",
          "text": [
            "[I 2020-09-01 06:42:32,080] Trial 46 finished with value: 7.878694826648219 and parameters: {'x': -0.8069012855190008}. Best is trial 25 with value: 0.002476549390728486.\n"
          ],
          "name": "stderr"
        },
        {
          "output_type": "stream",
          "text": [
            "x: 7.753, score:33.092\n"
          ],
          "name": "stdout"
        },
        {
          "output_type": "stream",
          "text": [
            "[I 2020-09-01 06:42:32,092] Trial 47 finished with value: 33.09193772431973 and parameters: {'x': 7.7525592325781165}. Best is trial 25 with value: 0.002476549390728486.\n"
          ],
          "name": "stderr"
        },
        {
          "output_type": "stream",
          "text": [
            "x: 1.591, score:0.168\n"
          ],
          "name": "stdout"
        },
        {
          "output_type": "stream",
          "text": [
            "[I 2020-09-01 06:42:32,099] Trial 48 finished with value: 0.1676728243878615 and parameters: {'x': 1.590521277246471}. Best is trial 25 with value: 0.002476549390728486.\n"
          ],
          "name": "stderr"
        },
        {
          "output_type": "stream",
          "text": [
            "x: -2.396, score:19.328\n"
          ],
          "name": "stdout"
        },
        {
          "output_type": "stream",
          "text": [
            "[I 2020-09-01 06:42:32,106] Trial 49 finished with value: 19.327577187515086 and parameters: {'x': -2.3963140455971854}. Best is trial 25 with value: 0.002476549390728486.\n"
          ],
          "name": "stderr"
        },
        {
          "output_type": "stream",
          "text": [
            "x: 2.764, score:0.583\n"
          ],
          "name": "stdout"
        },
        {
          "output_type": "stream",
          "text": [
            "[I 2020-09-01 06:42:32,113] Trial 50 finished with value: 0.5833286398286968 and parameters: {'x': 2.763759543199754}. Best is trial 25 with value: 0.002476549390728486.\n"
          ],
          "name": "stderr"
        },
        {
          "output_type": "stream",
          "text": [
            "x: 1.738, score:0.069\n"
          ],
          "name": "stdout"
        },
        {
          "output_type": "stream",
          "text": [
            "[I 2020-09-01 06:42:32,126] Trial 51 finished with value: 0.06871138120123227 and parameters: {'x': 1.737871441461957}. Best is trial 25 with value: 0.002476549390728486.\n"
          ],
          "name": "stderr"
        },
        {
          "output_type": "stream",
          "text": [
            "x: 0.669, score:1.771\n"
          ],
          "name": "stdout"
        },
        {
          "output_type": "stream",
          "text": [
            "[I 2020-09-01 06:42:32,136] Trial 52 finished with value: 1.7710700594590638 and parameters: {'x': 0.6691844382262944}. Best is trial 25 with value: 0.002476549390728486.\n"
          ],
          "name": "stderr"
        },
        {
          "output_type": "stream",
          "text": [
            "x: 2.315, score:0.099\n"
          ],
          "name": "stdout"
        },
        {
          "output_type": "stream",
          "text": [
            "[I 2020-09-01 06:42:32,145] Trial 53 finished with value: 0.09947996384487227 and parameters: {'x': 2.3154044448717745}. Best is trial 25 with value: 0.002476549390728486.\n"
          ],
          "name": "stderr"
        },
        {
          "output_type": "stream",
          "text": [
            "x: -0.742, score:7.516\n"
          ],
          "name": "stdout"
        },
        {
          "output_type": "stream",
          "text": [
            "[I 2020-09-01 06:42:32,154] Trial 54 finished with value: 7.5162287033377195 and parameters: {'x': -0.7415741287329292}. Best is trial 25 with value: 0.002476549390728486.\n"
          ],
          "name": "stderr"
        },
        {
          "output_type": "stream",
          "text": [
            "x: 5.430, score:11.766\n"
          ],
          "name": "stdout"
        },
        {
          "output_type": "stream",
          "text": [
            "[I 2020-09-01 06:42:32,167] Trial 55 finished with value: 11.765713230478717 and parameters: {'x': 5.430118544668495}. Best is trial 25 with value: 0.002476549390728486.\n"
          ],
          "name": "stderr"
        },
        {
          "output_type": "stream",
          "text": [
            "x: 3.741, score:3.029\n"
          ],
          "name": "stdout"
        },
        {
          "output_type": "stream",
          "text": [
            "[I 2020-09-01 06:42:32,174] Trial 56 finished with value: 3.0294963903148213 and parameters: {'x': 3.740544854439213}. Best is trial 25 with value: 0.002476549390728486.\n"
          ],
          "name": "stderr"
        },
        {
          "output_type": "stream",
          "text": [
            "x: 1.286, score:0.510\n"
          ],
          "name": "stdout"
        },
        {
          "output_type": "stream",
          "text": [
            "[I 2020-09-01 06:42:32,183] Trial 57 finished with value: 0.5095521357031753 and parameters: {'x': 1.2861707937446274}. Best is trial 25 with value: 0.002476549390728486.\n"
          ],
          "name": "stderr"
        },
        {
          "output_type": "stream",
          "text": [
            "x: 4.780, score:7.728\n"
          ],
          "name": "stdout"
        },
        {
          "output_type": "stream",
          "text": [
            "[I 2020-09-01 06:42:32,191] Trial 58 finished with value: 7.727928244193767 and parameters: {'x': 4.7799151505385495}. Best is trial 25 with value: 0.002476549390728486.\n"
          ],
          "name": "stderr"
        },
        {
          "output_type": "stream",
          "text": [
            "x: 6.506, score:20.300\n"
          ],
          "name": "stdout"
        },
        {
          "output_type": "stream",
          "text": [
            "[I 2020-09-01 06:42:32,199] Trial 59 finished with value: 20.300396557263618 and parameters: {'x': 6.5055961378338845}. Best is trial 25 with value: 0.002476549390728486.\n"
          ],
          "name": "stderr"
        },
        {
          "output_type": "stream",
          "text": [
            "x: 2.856, score:0.733\n"
          ],
          "name": "stdout"
        },
        {
          "output_type": "stream",
          "text": [
            "[I 2020-09-01 06:42:32,208] Trial 60 finished with value: 0.7331241926181882 and parameters: {'x': 2.8562267180006637}. Best is trial 25 with value: 0.002476549390728486.\n"
          ],
          "name": "stderr"
        },
        {
          "output_type": "stream",
          "text": [
            "x: 2.059, score:0.003\n"
          ],
          "name": "stdout"
        },
        {
          "output_type": "stream",
          "text": [
            "[I 2020-09-01 06:42:32,215] Trial 61 finished with value: 0.0034901436006049657 and parameters: {'x': 2.0590774373225935}. Best is trial 25 with value: 0.002476549390728486.\n"
          ],
          "name": "stderr"
        },
        {
          "output_type": "stream",
          "text": [
            "x: 2.129, score:0.017\n"
          ],
          "name": "stdout"
        },
        {
          "output_type": "stream",
          "text": [
            "[I 2020-09-01 06:42:32,223] Trial 62 finished with value: 0.016701589040428632 and parameters: {'x': 2.1292346278689602}. Best is trial 25 with value: 0.002476549390728486.\n"
          ],
          "name": "stderr"
        },
        {
          "output_type": "stream",
          "text": [
            "x: 1.092, score:0.825\n"
          ],
          "name": "stdout"
        },
        {
          "output_type": "stream",
          "text": [
            "[I 2020-09-01 06:42:32,232] Trial 63 finished with value: 0.8249818758396027 and parameters: {'x': 1.091714870847484}. Best is trial 25 with value: 0.002476549390728486.\n"
          ],
          "name": "stderr"
        },
        {
          "output_type": "stream",
          "text": [
            "x: 0.301, score:2.887\n"
          ],
          "name": "stdout"
        },
        {
          "output_type": "stream",
          "text": [
            "[I 2020-09-01 06:42:32,239] Trial 64 finished with value: 2.886978789252414 and parameters: {'x': 0.30088882375154324}. Best is trial 25 with value: 0.002476549390728486.\n"
          ],
          "name": "stderr"
        },
        {
          "output_type": "stream",
          "text": [
            "x: 3.362, score:1.855\n"
          ],
          "name": "stdout"
        },
        {
          "output_type": "stream",
          "text": [
            "[I 2020-09-01 06:42:32,247] Trial 65 finished with value: 1.854978962774664 and parameters: {'x': 3.361976124157345}. Best is trial 25 with value: 0.002476549390728486.\n"
          ],
          "name": "stderr"
        },
        {
          "output_type": "stream",
          "text": [
            "x: 4.286, score:5.228\n"
          ],
          "name": "stdout"
        },
        {
          "output_type": "stream",
          "text": [
            "[I 2020-09-01 06:42:32,256] Trial 66 finished with value: 5.227690604260597 and parameters: {'x': 4.2864143553303276}. Best is trial 25 with value: 0.002476549390728486.\n"
          ],
          "name": "stderr"
        },
        {
          "output_type": "stream",
          "text": [
            "x: 2.056, score:0.003\n"
          ],
          "name": "stdout"
        },
        {
          "output_type": "stream",
          "text": [
            "[I 2020-09-01 06:42:32,263] Trial 67 finished with value: 0.003169526138176697 and parameters: {'x': 2.056298544725212}. Best is trial 25 with value: 0.002476549390728486.\n"
          ],
          "name": "stderr"
        },
        {
          "output_type": "stream",
          "text": [
            "x: 2.187, score:0.035\n"
          ],
          "name": "stdout"
        },
        {
          "output_type": "stream",
          "text": [
            "[I 2020-09-01 06:42:32,272] Trial 68 finished with value: 0.035021767863139396 and parameters: {'x': 2.187141037357228}. Best is trial 25 with value: 0.002476549390728486.\n"
          ],
          "name": "stderr"
        },
        {
          "output_type": "stream",
          "text": [
            "x: -8.383, score:107.815\n"
          ],
          "name": "stdout"
        },
        {
          "output_type": "stream",
          "text": [
            "[I 2020-09-01 06:42:32,280] Trial 69 finished with value: 107.81507856737244 and parameters: {'x': -8.383403997118307}. Best is trial 25 with value: 0.002476549390728486.\n"
          ],
          "name": "stderr"
        },
        {
          "output_type": "stream",
          "text": [
            "x: -0.367, score:5.603\n"
          ],
          "name": "stdout"
        },
        {
          "output_type": "stream",
          "text": [
            "[I 2020-09-01 06:42:32,291] Trial 70 finished with value: 5.603019483545759 and parameters: {'x': -0.3670698096054873}. Best is trial 25 with value: 0.002476549390728486.\n"
          ],
          "name": "stderr"
        },
        {
          "output_type": "stream",
          "text": [
            "x: 2.667, score:0.445\n"
          ],
          "name": "stdout"
        },
        {
          "output_type": "stream",
          "text": [
            "[I 2020-09-01 06:42:32,299] Trial 71 finished with value: 0.44490236387199206 and parameters: {'x': 2.6670100178198166}. Best is trial 25 with value: 0.002476549390728486.\n"
          ],
          "name": "stderr"
        },
        {
          "output_type": "stream",
          "text": [
            "x: 0.872, score:1.273\n"
          ],
          "name": "stdout"
        },
        {
          "output_type": "stream",
          "text": [
            "[I 2020-09-01 06:42:32,307] Trial 72 finished with value: 1.2733512776632927 and parameters: {'x': 0.871571323625949}. Best is trial 25 with value: 0.002476549390728486.\n"
          ],
          "name": "stderr"
        },
        {
          "output_type": "stream",
          "text": [
            "x: 1.741, score:0.067\n"
          ],
          "name": "stdout"
        },
        {
          "output_type": "stream",
          "text": [
            "[I 2020-09-01 06:42:32,316] Trial 73 finished with value: 0.0669050555477203 and parameters: {'x': 1.741339884118714}. Best is trial 25 with value: 0.002476549390728486.\n"
          ],
          "name": "stderr"
        },
        {
          "output_type": "stream",
          "text": [
            "x: 3.484, score:2.203\n"
          ],
          "name": "stdout"
        },
        {
          "output_type": "stream",
          "text": [
            "[I 2020-09-01 06:42:32,323] Trial 74 finished with value: 2.2026041011561635 and parameters: {'x': 3.4841172801218114}. Best is trial 25 with value: 0.002476549390728486.\n"
          ],
          "name": "stderr"
        },
        {
          "output_type": "stream",
          "text": [
            "x: 2.139, score:0.019\n"
          ],
          "name": "stdout"
        },
        {
          "output_type": "stream",
          "text": [
            "[I 2020-09-01 06:42:32,332] Trial 75 finished with value: 0.019203461094119505 and parameters: {'x': 2.1385765531903558}. Best is trial 25 with value: 0.002476549390728486.\n"
          ],
          "name": "stderr"
        },
        {
          "output_type": "stream",
          "text": [
            "x: 2.330, score:0.109\n"
          ],
          "name": "stdout"
        },
        {
          "output_type": "stream",
          "text": [
            "[I 2020-09-01 06:42:32,340] Trial 76 finished with value: 0.10868053217670252 and parameters: {'x': 2.329667305289291}. Best is trial 25 with value: 0.002476549390728486.\n"
          ],
          "name": "stderr"
        },
        {
          "output_type": "stream",
          "text": [
            "x: 1.107, score:0.797\n"
          ],
          "name": "stdout"
        },
        {
          "output_type": "stream",
          "text": [
            "[I 2020-09-01 06:42:32,350] Trial 77 finished with value: 0.7970443936366921 and parameters: {'x': 1.1072265720594658}. Best is trial 25 with value: 0.002476549390728486.\n"
          ],
          "name": "stderr"
        },
        {
          "output_type": "stream",
          "text": [
            "x: 4.106, score:4.437\n"
          ],
          "name": "stdout"
        },
        {
          "output_type": "stream",
          "text": [
            "[I 2020-09-01 06:42:32,358] Trial 78 finished with value: 4.436803524708838 and parameters: {'x': 4.106372123986842}. Best is trial 25 with value: 0.002476549390728486.\n"
          ],
          "name": "stderr"
        },
        {
          "output_type": "stream",
          "text": [
            "x: 3.048, score:1.098\n"
          ],
          "name": "stdout"
        },
        {
          "output_type": "stream",
          "text": [
            "[I 2020-09-01 06:42:32,374] Trial 79 finished with value: 1.0977341119203716 and parameters: {'x': 3.047728071553097}. Best is trial 25 with value: 0.002476549390728486.\n"
          ],
          "name": "stderr"
        },
        {
          "output_type": "stream",
          "text": [
            "x: 0.356, score:2.702\n"
          ],
          "name": "stdout"
        },
        {
          "output_type": "stream",
          "text": [
            "[I 2020-09-01 06:42:32,384] Trial 80 finished with value: 2.701657817716866 and parameters: {'x': 0.35632794702931503}. Best is trial 25 with value: 0.002476549390728486.\n"
          ],
          "name": "stderr"
        },
        {
          "output_type": "stream",
          "text": [
            "x: 1.850, score:0.023\n"
          ],
          "name": "stdout"
        },
        {
          "output_type": "stream",
          "text": [
            "[I 2020-09-01 06:42:32,393] Trial 81 finished with value: 0.022568431283678494 and parameters: {'x': 1.849772068896365}. Best is trial 25 with value: 0.002476549390728486.\n"
          ],
          "name": "stderr"
        },
        {
          "output_type": "stream",
          "text": [
            "x: 1.417, score:0.340\n"
          ],
          "name": "stdout"
        },
        {
          "output_type": "stream",
          "text": [
            "[I 2020-09-01 06:42:32,403] Trial 82 finished with value: 0.34009603892653817 and parameters: {'x': 1.4168224636300382}. Best is trial 25 with value: 0.002476549390728486.\n"
          ],
          "name": "stderr"
        },
        {
          "output_type": "stream",
          "text": [
            "x: 2.086, score:0.007\n"
          ],
          "name": "stdout"
        },
        {
          "output_type": "stream",
          "text": [
            "[I 2020-09-01 06:42:32,412] Trial 83 finished with value: 0.007422808927981465 and parameters: {'x': 2.086155724870617}. Best is trial 25 with value: 0.002476549390728486.\n"
          ],
          "name": "stderr"
        },
        {
          "output_type": "stream",
          "text": [
            "x: 4.876, score:8.271\n"
          ],
          "name": "stdout"
        },
        {
          "output_type": "stream",
          "text": [
            "[I 2020-09-01 06:42:32,423] Trial 84 finished with value: 8.271077798788435 and parameters: {'x': 4.87594815648482}. Best is trial 25 with value: 0.002476549390728486.\n"
          ],
          "name": "stderr"
        },
        {
          "output_type": "stream",
          "text": [
            "x: 2.733, score:0.537\n"
          ],
          "name": "stdout"
        },
        {
          "output_type": "stream",
          "text": [
            "[I 2020-09-01 06:42:32,430] Trial 85 finished with value: 0.5367076588278794 and parameters: {'x': 2.7326033434457417}. Best is trial 25 with value: 0.002476549390728486.\n"
          ],
          "name": "stderr"
        },
        {
          "output_type": "stream",
          "text": [
            "x: 2.027, score:0.001\n"
          ],
          "name": "stdout"
        },
        {
          "output_type": "stream",
          "text": [
            "[I 2020-09-01 06:42:32,438] Trial 86 finished with value: 0.0007409542859271279 and parameters: {'x': 2.0272204754904672}. Best is trial 86 with value: 0.0007409542859271279.\n"
          ],
          "name": "stderr"
        },
        {
          "output_type": "stream",
          "text": [
            "x: 0.767, score:1.519\n"
          ],
          "name": "stdout"
        },
        {
          "output_type": "stream",
          "text": [
            "[I 2020-09-01 06:42:32,447] Trial 87 finished with value: 1.519200528032305 and parameters: {'x': 0.7674414707478168}. Best is trial 86 with value: 0.0007409542859271279.\n"
          ],
          "name": "stderr"
        },
        {
          "output_type": "stream",
          "text": [
            "x: -0.025, score:4.099\n"
          ],
          "name": "stdout"
        },
        {
          "output_type": "stream",
          "text": [
            "[I 2020-09-01 06:42:32,460] Trial 88 finished with value: 4.099494416821777 and parameters: {'x': -0.024720824415498832}. Best is trial 86 with value: 0.0007409542859271279.\n"
          ],
          "name": "stderr"
        },
        {
          "output_type": "stream",
          "text": [
            "x: -1.163, score:10.002\n"
          ],
          "name": "stdout"
        },
        {
          "output_type": "stream",
          "text": [
            "[I 2020-09-01 06:42:32,473] Trial 89 finished with value: 10.001689281149343 and parameters: {'x': -1.1625447476912232}. Best is trial 86 with value: 0.0007409542859271279.\n"
          ],
          "name": "stderr"
        },
        {
          "output_type": "stream",
          "text": [
            "x: 3.867, score:3.484\n"
          ],
          "name": "stdout"
        },
        {
          "output_type": "stream",
          "text": [
            "[I 2020-09-01 06:42:32,485] Trial 90 finished with value: 3.483916855417167 and parameters: {'x': 3.86652534282746}. Best is trial 86 with value: 0.0007409542859271279.\n"
          ],
          "name": "stderr"
        },
        {
          "output_type": "stream",
          "text": [
            "x: 2.007, score:0.000\n"
          ],
          "name": "stdout"
        },
        {
          "output_type": "stream",
          "text": [
            "[I 2020-09-01 06:42:32,493] Trial 91 finished with value: 4.839176901349384e-05 and parameters: {'x': 2.0069564192666554}. Best is trial 91 with value: 4.839176901349384e-05.\n"
          ],
          "name": "stderr"
        },
        {
          "output_type": "stream",
          "text": [
            "x: 2.295, score:0.087\n"
          ],
          "name": "stdout"
        },
        {
          "output_type": "stream",
          "text": [
            "[I 2020-09-01 06:42:32,502] Trial 92 finished with value: 0.08704538095994632 and parameters: {'x': 2.295034541977624}. Best is trial 91 with value: 4.839176901349384e-05.\n"
          ],
          "name": "stderr"
        },
        {
          "output_type": "stream",
          "text": [
            "x: 1.856, score:0.021\n"
          ],
          "name": "stdout"
        },
        {
          "output_type": "stream",
          "text": [
            "[I 2020-09-01 06:42:32,514] Trial 93 finished with value: 0.020874084421228522 and parameters: {'x': 1.8555213357577371}. Best is trial 91 with value: 4.839176901349384e-05.\n"
          ],
          "name": "stderr"
        },
        {
          "output_type": "stream",
          "text": [
            "x: 1.567, score:0.187\n"
          ],
          "name": "stdout"
        },
        {
          "output_type": "stream",
          "text": [
            "[I 2020-09-01 06:42:32,521] Trial 94 finished with value: 0.18746340041006979 and parameters: {'x': 1.5670295617365202}. Best is trial 91 with value: 4.839176901349384e-05.\n"
          ],
          "name": "stderr"
        },
        {
          "output_type": "stream",
          "text": [
            "x: 3.204, score:1.450\n"
          ],
          "name": "stdout"
        },
        {
          "output_type": "stream",
          "text": [
            "[I 2020-09-01 06:42:32,530] Trial 95 finished with value: 1.4495846997844637 and parameters: {'x': 3.2039870015014547}. Best is trial 91 with value: 4.839176901349384e-05.\n"
          ],
          "name": "stderr"
        },
        {
          "output_type": "stream",
          "text": [
            "x: 2.618, score:0.382\n"
          ],
          "name": "stdout"
        },
        {
          "output_type": "stream",
          "text": [
            "[I 2020-09-01 06:42:32,542] Trial 96 finished with value: 0.3818640017380168 and parameters: {'x': 2.6179514558102577}. Best is trial 91 with value: 4.839176901349384e-05.\n"
          ],
          "name": "stderr"
        },
        {
          "output_type": "stream",
          "text": [
            "x: -0.445, score:5.980\n"
          ],
          "name": "stdout"
        },
        {
          "output_type": "stream",
          "text": [
            "[I 2020-09-01 06:42:32,551] Trial 97 finished with value: 5.9803286226538726 and parameters: {'x': -0.44547104310271335}. Best is trial 91 with value: 4.839176901349384e-05.\n"
          ],
          "name": "stderr"
        },
        {
          "output_type": "stream",
          "text": [
            "x: 2.014, score:0.000\n"
          ],
          "name": "stdout"
        },
        {
          "output_type": "stream",
          "text": [
            "[I 2020-09-01 06:42:32,560] Trial 98 finished with value: 0.00018345473037788618 and parameters: {'x': 2.0135445461488337}. Best is trial 91 with value: 4.839176901349384e-05.\n"
          ],
          "name": "stderr"
        },
        {
          "output_type": "stream",
          "text": [
            "x: 1.224, score:0.602\n"
          ],
          "name": "stdout"
        },
        {
          "output_type": "stream",
          "text": [
            "[I 2020-09-01 06:42:32,570] Trial 99 finished with value: 0.6016176854506252 and parameters: {'x': 1.224359822178721}. Best is trial 91 with value: 4.839176901349384e-05.\n"
          ],
          "name": "stderr"
        }
      ]
    },
    {
      "cell_type": "code",
      "metadata": {
        "id": "Cf1de-Q5WLEc",
        "colab_type": "code",
        "colab": {
          "base_uri": "https://localhost:8080/",
          "height": 51
        },
        "outputId": "429f63aa-0b88-4ce8-cc6d-623f72640281"
      },
      "source": [
        "# debug\n",
        "objective(optuna.trial.FixedTrial({'x':1}))"
      ],
      "execution_count": 6,
      "outputs": [
        {
          "output_type": "stream",
          "text": [
            "x: 1.000, score:1.000\n"
          ],
          "name": "stdout"
        },
        {
          "output_type": "execute_result",
          "data": {
            "text/plain": [
              "1"
            ]
          },
          "metadata": {
            "tags": []
          },
          "execution_count": 6
        }
      ]
    },
    {
      "cell_type": "code",
      "metadata": {
        "id": "xKAdn3QYWfQr",
        "colab_type": "code",
        "colab": {
          "base_uri": "https://localhost:8080/",
          "height": 34
        },
        "outputId": "b87d9aa5-3ba4-4de2-e29d-4d0a480ac4c5"
      },
      "source": [
        "# see result\n",
        "study.best_params"
      ],
      "execution_count": 8,
      "outputs": [
        {
          "output_type": "execute_result",
          "data": {
            "text/plain": [
              "{'x': 1.9972785929967931}"
            ]
          },
          "metadata": {
            "tags": []
          },
          "execution_count": 8
        }
      ]
    },
    {
      "cell_type": "code",
      "metadata": {
        "id": "hKWPiQXnWjsM",
        "colab_type": "code",
        "colab": {
          "base_uri": "https://localhost:8080/",
          "height": 34
        },
        "outputId": "54b26d7f-b71a-49be-a895-fa742c09ef1c"
      },
      "source": [
        "study.best_value"
      ],
      "execution_count": 9,
      "outputs": [
        {
          "output_type": "execute_result",
          "data": {
            "text/plain": [
              "7.406056077103496e-06"
            ]
          },
          "metadata": {
            "tags": []
          },
          "execution_count": 9
        }
      ]
    },
    {
      "cell_type": "code",
      "metadata": {
        "id": "zR5-jIJnWnYL",
        "colab_type": "code",
        "colab": {
          "base_uri": "https://localhost:8080/",
          "height": 54
        },
        "outputId": "b2646b2c-08f1-45c2-f32d-dd3cdb5d5e9a"
      },
      "source": [
        "study.best_trial"
      ],
      "execution_count": 10,
      "outputs": [
        {
          "output_type": "execute_result",
          "data": {
            "text/plain": [
              "FrozenTrial(number=98, value=7.406056077103496e-06, datetime_start=datetime.datetime(2020, 9, 1, 6, 27, 9, 394439), datetime_complete=datetime.datetime(2020, 9, 1, 6, 27, 9, 399737), params={'x': 1.9972785929967931}, distributions={'x': UniformDistribution(high=10, low=-10)}, user_attrs={}, system_attrs={}, intermediate_values={}, trial_id=98, state=TrialState.COMPLETE)"
            ]
          },
          "metadata": {
            "tags": []
          },
          "execution_count": 10
        }
      ]
    },
    {
      "cell_type": "code",
      "metadata": {
        "id": "yVnSIl68WtSc",
        "colab_type": "code",
        "colab": {
          "base_uri": "https://localhost:8080/",
          "height": 122
        },
        "outputId": "ee214467-9f52-4cb4-e5a8-c8231c87b1e8"
      },
      "source": [
        "print(study.trials[0])\n",
        "print(study.trials[0].value)\n",
        "print(study.trials[0].datetime_start)\n",
        "print(study.trials[0].datetime_complete)\n",
        "print(study.trials[0].params) # paramsになったの"
      ],
      "execution_count": 12,
      "outputs": [
        {
          "output_type": "stream",
          "text": [
            "FrozenTrial(number=0, value=74.43287628587096, datetime_start=datetime.datetime(2020, 9, 1, 6, 27, 8, 334963), datetime_complete=datetime.datetime(2020, 9, 1, 6, 27, 8, 337888), params={'x': -6.627449002217918}, distributions={'x': UniformDistribution(high=10, low=-10)}, user_attrs={}, system_attrs={}, intermediate_values={}, trial_id=0, state=TrialState.COMPLETE)\n",
            "74.43287628587096\n",
            "2020-09-01 06:27:08.334963\n",
            "2020-09-01 06:27:08.337888\n",
            "{'x': -6.627449002217918}\n"
          ],
          "name": "stdout"
        }
      ]
    },
    {
      "cell_type": "code",
      "metadata": {
        "id": "3MltYqgvXZo-",
        "colab_type": "code",
        "colab": {}
      },
      "source": [
        "def objective(trial):\n",
        "    optimizer = trial.suggest_categorical('optimizer',['MomentumSGD', 'Adam'])\n",
        "    num_layers = trial.suggest_int('num_layers', 1, 3)\n",
        "    dropout_late = trial.suggest_uniform('dropout_rate', 0.0, 1.0)\n",
        "    learning_rate = trial.suggest_loguniform('learning_rate', 1e-5,1e-2)\n",
        "    drop_path_rate = trial.suggest_discrete_uniform('drop_path_rate', 0.0, 1.0, 0.1)\n"
      ],
      "execution_count": 15,
      "outputs": []
    },
    {
      "cell_type": "code",
      "metadata": {
        "id": "jkOHJ6IsZBX2",
        "colab_type": "code",
        "colab": {}
      },
      "source": [
        "# SQLite DBを使える\n",
        "# 途中で終了しても再開できる、　複数プロセスで並列処理が出来る\n",
        "import optuna\n",
        "\n",
        "def objective(trial):\n",
        "    x = trial.suggest_uniform('x', -10, 10)\n",
        "    # このスコアが一番小さくなるものを探す\n",
        "    # 2に近い方がいいね、\n",
        "    score =(x-2)**2\n",
        "    print('x: %1.3f, score:%1.3f' %(x, score))\n",
        "    return score\n",
        "study_name = 'example-study'\n",
        "study = optuna.create_study(study_name = study_name,\n",
        "                            storage='sqlite:///../content/optuna_study.db',\n",
        "                            load_if_exists = True) # ファイルがあるなら読んでくれる\n",
        "study.optimize(objective, n_trials=100)"
      ],
      "execution_count": null,
      "outputs": []
    },
    {
      "cell_type": "code",
      "metadata": {
        "id": "06yY6rL8cbB1",
        "colab_type": "code",
        "colab": {}
      },
      "source": [
        "study.trials"
      ],
      "execution_count": null,
      "outputs": []
    },
    {
      "cell_type": "code",
      "metadata": {
        "id": "gSsC81-WZmzX",
        "colab_type": "code",
        "colab": {
          "base_uri": "https://localhost:8080/",
          "height": 325,
          "referenced_widgets": [
            "eb016f01e6a04beaa5978137ef065eae",
            "bc5b599b6b3f4e2eb8052c0df746a383",
            "bd78dfcd385a40bcadced103f1b3aa04",
            "a098e7da71ce473e8a81a1009b4f0d1c",
            "2830894aad244a428b30995763eca774",
            "f2676cce0b1d40579fabb74ad0f1c2ed",
            "54c13ff18d3e4d1c865a58e0c8ee9c18",
            "85daebbe523d4137a75c2f2ca596c347",
            "218d02efce7847a1ab54fdc32b664a90",
            "ad5b7129196e47d69949f1f09ec6d5e5"
          ]
        },
        "outputId": "45436323-d64b-4c4a-d0df-14efb3dca380"
      },
      "source": [
        "# Lets visualize optimization\n",
        "# use ipywidgets\n",
        "import numpy as np\n",
        "import matplotlib.pyplot as plt\n",
        "from ipywidgets import Play, IntSlider, jslink, HBox, interactive_output\n",
        "\n",
        "values = [each.value for each in study.trials]\n",
        "best_values = [np.min(values[:k+1]) for k in range(len(values))]\n",
        "x = [each.params['x'] for each in study.trials]\n",
        "\n",
        "def f(k):\n",
        "    plt.figure(figsize = (9,4.5))\n",
        "    ax = plt.subplot(121)\n",
        "    ax.set_xlim(np.min(x)-0.5, np.max(x)+0.5)\n",
        "    ax.set_ylim(np.min(values)-5, np.max(values)+5)\n",
        "    ax.scatter(x[:k], values[:k], alpha = 0.3)\n",
        "    ax.scatter(x[k-1], values[k-1])\n",
        "    ax = plt.subplot(122)\n",
        "    ax.plot(best_values[:k])\n",
        "    ax.set_yscale('log')\n",
        "    plt.show()\n",
        "\n",
        "play = Play(value = 1, min=0, max=len(study.trials), step=1, interval = 500, description=\"Press Play\",)\n",
        "slider = IntSlider(min = 0, max=len(study.trials))\n",
        "jslink((play, 'value'), (slider, 'value'))\n",
        "ui = HBox([play, slider])\n",
        "out = interactive_output(f, {'k':slider})\n",
        "display(ui,out)"
      ],
      "execution_count": 35,
      "outputs": [
        {
          "output_type": "display_data",
          "data": {
            "application/vnd.jupyter.widget-view+json": {
              "model_id": "eb016f01e6a04beaa5978137ef065eae",
              "version_minor": 0,
              "version_major": 2
            },
            "text/plain": [
              "HBox(children=(Play(value=1, description='Press Play', interval=500), IntSlider(value=0)))"
            ]
          },
          "metadata": {
            "tags": []
          }
        },
        {
          "output_type": "display_data",
          "data": {
            "application/vnd.jupyter.widget-view+json": {
              "model_id": "218d02efce7847a1ab54fdc32b664a90",
              "version_minor": 0,
              "version_major": 2
            },
            "text/plain": [
              "Output()"
            ]
          },
          "metadata": {
            "tags": []
          }
        }
      ]
    },
    {
      "cell_type": "code",
      "metadata": {
        "id": "vA1f0oQSbsq-",
        "colab_type": "code",
        "colab": {
          "base_uri": "https://localhost:8080/",
          "height": 1000,
          "referenced_widgets": [
            "72fcec197a9d4a0a95266e08b8c8cfd0",
            "6ace03034d1b44c8a764b2797684a1c2",
            "3ed75b6f8a31480990d176cf0689059a",
            "cfb3b302897546b3b8ac431a0fa40fd9",
            "6fe2b508faa2499e8d5025bc08369b18",
            "0e662a8c1bf34662bf929bab60c12ad1",
            "59ebaadd4d9e4d7d87d13843ed7b5639",
            "a113c315a9f34dc48ad33d3aa5399bdc",
            "36c634b994954a5d86fcd20cd2f601b2",
            "d8c47fc5940d4ca1a3599c3862e5744e"
          ]
        },
        "outputId": "eb7a196f-a6ec-4d05-cc90-210440aeced8"
      },
      "source": [
        "# second visualization way\n",
        "import optuna\n",
        "import numpy as np\n",
        "import matplotlib.pyplot as plt\n",
        "from ipywidgets import Play, IntSlider, jslink, HBox, interactive_output\n",
        "\n",
        "# 正弦波を足してlocal minimumのある関数を作成\n",
        "def objective(trial):\n",
        "    x = trial.suggest_uniform('x', -50, 60)\n",
        "    score = x ** 2 + np.sin(x/5)*2000 + 1939.7\n",
        "    print('x: %1.3f, score: %1.3f' % (x, score))\n",
        "    return score\n",
        "\n",
        "# 最適化を実行\n",
        "study = optuna.create_study()\n",
        "optuna.logging.disable_default_handler()\n",
        "optuna.logging.disable_propagation()\n",
        "study.optimize(objective, n_trials=200)\n",
        "\n",
        "# 結果をプロットする為に値を加工\n",
        "values = [each.value for each in study.trials]\n",
        "best_values = [np.min(values[:k+1]) for k in range(len(values))]\n",
        "x = [each.params['x'] for each in study.trials]\n",
        "\n",
        "# プロットする関数\n",
        "def f(k):\n",
        "    plt.figure(figsize=(9,4.5))\n",
        "    ax = plt.subplot(121)\n",
        "    ax.set_xlim(np.min(x)-5, np.max(x)+5)\n",
        "    ax.set_ylim(np.min(values)-300, np.max(values)+100)\n",
        "    ax.scatter(x[:k], values[:k], alpha=0.3)\n",
        "    ax.scatter(x[k-1], values[k-1])\n",
        "\n",
        "    ax = plt.subplot(122)\n",
        "    ax.plot(best_values[:k])\n",
        "    ax.set_yscale('log')\n",
        "    plt.show()\n",
        "\n",
        "# ipywidgetで表示\n",
        "play = Play(value=1, min=0, max=len(study.trials), step=1, interval=500, description=\"Press play\",)\n",
        "slider = IntSlider(min=0, max=len(study.trials))\n",
        "jslink((play, 'value'), (slider, 'value'))\n",
        "ui = HBox([play, slider])\n",
        "out = interactive_output(f, {'k': slider})\n",
        "display(ui, out)    "
      ],
      "execution_count": 38,
      "outputs": [
        {
          "output_type": "stream",
          "text": [
            "x: -49.865, score: 5468.511\n",
            "x: -33.462, score: 2263.773\n",
            "x: 11.028, score: 3671.785\n",
            "x: 52.135, score: 2972.430\n",
            "x: 2.888, score: 3040.029\n",
            "x: 40.719, score: 5514.318\n",
            "x: 35.494, score: 4655.963\n",
            "x: -40.465, score: 1633.927\n",
            "x: 10.627, score: 3752.770\n",
            "x: -12.643, score: 948.825\n",
            "x: -16.173, score: 2387.035\n",
            "x: -47.956, score: 4570.845\n",
            "x: -21.142, score: 4157.009\n",
            "x: -30.717, score: 3161.876\n",
            "x: -6.344, score: 70.423\n",
            "x: -6.293, score: 75.976\n",
            "x: -0.948, score: 1563.653\n",
            "x: 24.242, score: 545.854\n",
            "x: -4.905, score: 301.651\n",
            "x: 19.333, score: 987.124\n",
            "x: -24.647, score: 4500.262\n",
            "x: -7.947, score: 3.211\n",
            "x: -8.675, score: 41.891\n",
            "x: -10.516, score: 327.072\n",
            "x: 9.036, score: 3965.725\n",
            "x: -17.915, score: 3114.963\n",
            "x: 19.214, score: 1018.493\n",
            "x: 0.823, score: 2268.029\n",
            "x: -29.679, score: 3501.313\n",
            "x: -6.072, score: 102.244\n",
            "x: -23.018, score: 4457.677\n",
            "x: -9.371, score: 118.922\n",
            "x: -3.580, score: 639.838\n",
            "x: 5.639, score: 3778.420\n",
            "x: -13.821, score: 1393.541\n",
            "x: -37.613, score: 1463.255\n",
            "x: 4.053, score: 3405.613\n",
            "x: 17.267, score: 1624.278\n",
            "x: -6.929, score: 21.841\n",
            "x: -16.915, score: 2703.888\n",
            "x: 29.753, score: 2172.140\n",
            "x: -7.381, score: 3.123\n",
            "x: -0.007, score: 1936.951\n",
            "x: -10.078, score: 235.885\n",
            "x: 7.324, score: 3982.093\n",
            "x: 13.732, score: 2898.315\n",
            "x: -25.648, score: 4425.934\n",
            "x: -19.728, score: 3769.104\n",
            "x: 53.222, score: 2894.338\n",
            "x: -3.233, score: 745.058\n",
            "x: -15.190, score: 1963.606\n",
            "x: -8.997, score: 72.654\n",
            "x: -8.356, score: 19.568\n",
            "x: 3.232, score: 3154.689\n",
            "x: -11.747, score: 653.884\n",
            "x: -6.251, score: 80.720\n",
            "x: -0.283, score: 1826.772\n",
            "x: 12.111, score: 3404.234\n",
            "x: -27.725, score: 4054.270\n",
            "x: 59.782, score: 4368.108\n",
            "x: -20.139, score: 3894.687\n",
            "x: -8.966, score: 69.355\n",
            "x: -14.284, score: 1581.633\n",
            "x: -3.296, score: 725.488\n",
            "x: -8.739, score: 47.325\n",
            "x: -11.780, score: 663.994\n",
            "x: -7.492, score: 1.070\n",
            "x: -17.363, score: 2891.087\n",
            "x: 0.395, score: 2097.509\n",
            "x: -22.930, score: 4449.520\n",
            "x: -6.516, score: 53.352\n",
            "x: -7.566, score: 0.259\n",
            "x: -2.971, score: 828.910\n",
            "x: 2.760, score: 2995.993\n",
            "x: -7.362, score: 3.565\n",
            "x: -12.605, score: 935.590\n",
            "x: 6.522, score: 3911.746\n",
            "x: -6.314, score: 73.628\n",
            "x: -15.136, score: 1940.574\n",
            "x: -2.137, score: 1115.214\n",
            "x: -19.191, score: 3591.078\n",
            "x: -8.534, score: 30.984\n",
            "x: -5.263, score: 229.884\n",
            "x: 1.784, score: 2641.439\n",
            "x: -8.591, score: 35.211\n",
            "x: -13.720, score: 1353.632\n",
            "x: -11.147, score: 482.268\n",
            "x: -7.406, score: 2.579\n",
            "x: 9.032, score: 3966.010\n",
            "x: -1.444, score: 1372.227\n",
            "x: 4.294, score: 3472.257\n",
            "x: -8.145, score: 9.444\n",
            "x: -16.621, score: 2579.021\n",
            "x: -7.081, score: 13.700\n",
            "x: -4.205, score: 466.753\n",
            "x: -6.890, score: 24.232\n",
            "x: -11.414, score: 555.869\n",
            "x: -1.191, score: 1469.208\n",
            "x: 1.834, score: 2660.317\n",
            "x: -4.789, score: 326.888\n",
            "x: -22.389, score: 4386.227\n",
            "x: -7.676, score: -0.112\n",
            "x: -13.898, score: 1424.541\n",
            "x: -8.342, score: 18.831\n",
            "x: -9.064, score: 80.127\n",
            "x: -17.730, score: 3040.876\n",
            "x: -10.480, score: 319.010\n",
            "x: -3.507, score: 661.337\n",
            "x: -15.496, score: 2095.124\n",
            "x: -12.501, score: 899.447\n",
            "x: -6.877, score: 25.075\n",
            "x: -7.527, score: 0.628\n",
            "x: -0.671, score: 1672.674\n",
            "x: -7.862, score: 1.514\n",
            "x: -4.561, score: 378.723\n",
            "x: -10.689, score: 366.983\n",
            "x: -6.979, score: 18.942\n",
            "x: -2.283, score: 1063.254\n",
            "x: -12.531, score: 909.685\n",
            "x: 0.744, score: 2236.844\n",
            "x: -14.598, score: 1712.613\n",
            "x: -7.787, score: 0.518\n",
            "x: -7.375, score: 3.266\n",
            "x: -4.910, score: 300.518\n",
            "x: -10.130, score: 245.974\n",
            "x: -2.174, score: 1102.055\n",
            "x: -19.082, score: 3553.252\n",
            "x: -6.218, score: 84.471\n",
            "x: -12.595, score: 932.167\n",
            "x: 4.374, score: 3493.685\n",
            "x: -4.385, score: 421.400\n",
            "x: -7.815, score: 0.841\n",
            "x: -7.429, score: 2.104\n",
            "x: -9.710, score: 170.204\n",
            "x: -15.476, score: 2086.316\n",
            "x: -0.512, score: 1735.686\n",
            "x: -7.323, score: 4.604\n",
            "x: -10.803, score: 394.284\n",
            "x: -2.988, score: 823.460\n",
            "x: -6.379, score: 66.777\n",
            "x: 1.326, score: 2465.599\n",
            "x: -8.140, score: 9.231\n",
            "x: -8.997, score: 72.644\n",
            "x: -4.526, score: 387.062\n",
            "x: -10.937, score: 427.685\n",
            "x: -13.173, score: 1142.021\n",
            "x: -7.415, score: 2.377\n",
            "x: -4.971, score: 287.827\n",
            "x: -2.286, score: 1062.060\n",
            "x: -16.445, score: 2503.814\n",
            "x: -7.751, score: 0.202\n",
            "x: -7.405, score: 2.583\n",
            "x: -48.805, score: 4981.482\n",
            "x: -10.310, score: 282.486\n",
            "x: -5.221, score: 237.953\n",
            "x: -13.627, score: 1316.749\n",
            "x: -7.858, score: 1.447\n",
            "x: -12.035, score: 744.034\n",
            "x: -8.843, score: 56.924\n",
            "x: -2.846, score: 869.822\n",
            "x: -0.470, score: 1752.053\n",
            "x: -6.924, score: 22.111\n",
            "x: -5.969, score: 115.805\n",
            "x: -9.852, score: 194.282\n",
            "x: -8.164, score: 10.194\n",
            "x: -4.359, score: 427.828\n",
            "x: -10.818, score: 398.023\n",
            "x: -6.824, score: 28.575\n",
            "x: -12.527, score: 908.248\n",
            "x: -2.376, score: 1030.168\n",
            "x: -8.354, score: 19.474\n",
            "x: -6.789, score: 31.006\n",
            "x: -4.487, score: 396.403\n",
            "x: -8.008, score: 4.763\n",
            "x: -10.494, score: 322.219\n",
            "x: -14.125, score: 1516.653\n",
            "x: -5.222, score: 237.681\n",
            "x: -0.846, score: 1603.698\n",
            "x: 41.506, score: 5465.769\n",
            "x: -7.546, score: 0.436\n",
            "x: -11.573, score: 601.924\n",
            "x: -8.007, score: 4.737\n",
            "x: -6.336, score: 71.264\n",
            "x: -3.849, score: 562.549\n",
            "x: -8.792, score: 52.081\n",
            "x: -10.330, score: 286.621\n",
            "x: -6.315, score: 73.595\n",
            "x: -12.716, score: 974.823\n",
            "x: -3.076, score: 795.008\n",
            "x: -9.187, score: 94.707\n",
            "x: -7.246, score: 6.977\n",
            "x: -8.683, score: 42.528\n",
            "x: -5.368, score: 210.753\n",
            "x: -7.579, score: 0.165\n",
            "x: -10.953, score: 431.667\n",
            "x: -3.689, score: 607.995\n",
            "x: -15.061, score: 1908.646\n",
            "x: -6.649, score: 41.716\n",
            "x: -10.352, score: 291.317\n",
            "x: -1.794, score: 1240.442\n"
          ],
          "name": "stdout"
        },
        {
          "output_type": "display_data",
          "data": {
            "application/vnd.jupyter.widget-view+json": {
              "model_id": "72fcec197a9d4a0a95266e08b8c8cfd0",
              "version_minor": 0,
              "version_major": 2
            },
            "text/plain": [
              "HBox(children=(Play(value=1, description='Press play', interval=500, max=200), IntSlider(value=0, max=200)))"
            ]
          },
          "metadata": {
            "tags": []
          }
        },
        {
          "output_type": "display_data",
          "data": {
            "application/vnd.jupyter.widget-view+json": {
              "model_id": "36c634b994954a5d86fcd20cd2f601b2",
              "version_minor": 0,
              "version_major": 2
            },
            "text/plain": [
              "Output()"
            ]
          },
          "metadata": {
            "tags": []
          }
        }
      ]
    },
    {
      "cell_type": "code",
      "metadata": {
        "id": "dhmLI-AwdpLU",
        "colab_type": "code",
        "colab": {}
      },
      "source": [
        ""
      ],
      "execution_count": null,
      "outputs": []
    }
  ]
}