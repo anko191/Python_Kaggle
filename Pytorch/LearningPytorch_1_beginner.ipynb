{
  "nbformat": 4,
  "nbformat_minor": 0,
  "metadata": {
    "colab": {
      "name": "LearningPytorch_1_beginner",
      "provenance": [],
      "collapsed_sections": [],
      "authorship_tag": "ABX9TyNmre5dribgGBBMLpBybehQ",
      "include_colab_link": true
    },
    "kernelspec": {
      "name": "python3",
      "display_name": "Python 3"
    }
  },
  "cells": [
    {
      "cell_type": "markdown",
      "metadata": {
        "id": "view-in-github",
        "colab_type": "text"
      },
      "source": [
        "<a href=\"https://colab.research.google.com/github/anko191/Python_Kaggle/blob/master/Pytorch/LearningPytorch_1_beginner.ipynb\" target=\"_parent\"><img src=\"https://colab.research.google.com/assets/colab-badge.svg\" alt=\"Open In Colab\"/></a>"
      ]
    },
    {
      "cell_type": "code",
      "metadata": {
        "id": "Roay_05MRqVg",
        "colab_type": "code",
        "colab": {
          "base_uri": "https://localhost:8080/",
          "height": 35
        },
        "outputId": "c703ef9b-bab9-4e95-9f79-2bd5b4445737"
      },
      "source": [
        "import torch\n",
        "torch.__version__"
      ],
      "execution_count": 1,
      "outputs": [
        {
          "output_type": "execute_result",
          "data": {
            "application/vnd.google.colaboratory.intrinsic": {
              "type": "string"
            },
            "text/plain": [
              "'1.5.1+cu101'"
            ]
          },
          "metadata": {
            "tags": []
          },
          "execution_count": 1
        }
      ]
    },
    {
      "cell_type": "code",
      "metadata": {
        "id": "-VfImCgVR0sC",
        "colab_type": "code",
        "colab": {
          "base_uri": "https://localhost:8080/",
          "height": 51
        },
        "outputId": "b66eaf75-3d0d-4006-df9f-aec390af5e79"
      },
      "source": [
        "# 行列\n",
        "torch.zeros(2,4)"
      ],
      "execution_count": 2,
      "outputs": [
        {
          "output_type": "execute_result",
          "data": {
            "text/plain": [
              "tensor([[0., 0., 0., 0.],\n",
              "        [0., 0., 0., 0.]])"
            ]
          },
          "metadata": {
            "tags": []
          },
          "execution_count": 2
        }
      ]
    },
    {
      "cell_type": "code",
      "metadata": {
        "id": "gI6c8W5gR7gp",
        "colab_type": "code",
        "colab": {
          "base_uri": "https://localhost:8080/",
          "height": 51
        },
        "outputId": "f55f4fb9-6ba7-4054-8ecc-fd1771259046"
      },
      "source": [
        "torch.randn(2,4)\n",
        "# 平均0、分散1（標準偏差1）の正規分布（標準正規分布）に従う乱数を返す。"
      ],
      "execution_count": 7,
      "outputs": [
        {
          "output_type": "execute_result",
          "data": {
            "text/plain": [
              "tensor([[ 1.1589, -0.3486,  0.0835,  1.5666],\n",
              "        [ 0.4683,  1.4804, -0.9162, -1.2267]])"
            ]
          },
          "metadata": {
            "tags": []
          },
          "execution_count": 7
        }
      ]
    },
    {
      "cell_type": "code",
      "metadata": {
        "id": "2Yp_qWO7R9D4",
        "colab_type": "code",
        "colab": {}
      },
      "source": [
        "# 層の定義\n",
        "# 層の重みとバイアスを定義してしまえる\n",
        "import torch.nn as nn\n",
        "# 乱数シードの固定\n",
        "torch.manual_seed(1)\n",
        "# 全結合層の定義\n",
        "fc = nn.Linear(3,2) # 入力と出力"
      ],
      "execution_count": 8,
      "outputs": []
    },
    {
      "cell_type": "code",
      "metadata": {
        "id": "VR8M5O75SqJ1",
        "colab_type": "code",
        "colab": {
          "base_uri": "https://localhost:8080/",
          "height": 102
        },
        "outputId": "66a07df9-aabc-4f11-98de-4bed8904475b"
      },
      "source": [
        "# 中身を確認\n",
        "print(fc.weight)\n",
        "print(fc.bias)"
      ],
      "execution_count": 9,
      "outputs": [
        {
          "output_type": "stream",
          "text": [
            "Parameter containing:\n",
            "tensor([[ 0.2975, -0.2548, -0.1119],\n",
            "        [ 0.2710, -0.5435,  0.3462]], requires_grad=True)\n",
            "Parameter containing:\n",
            "tensor([-0.1188,  0.2937], requires_grad=True)\n"
          ],
          "name": "stdout"
        }
      ]
    },
    {
      "cell_type": "code",
      "metadata": {
        "id": "PE3LRXbbSw9i",
        "colab_type": "code",
        "colab": {}
      },
      "source": [
        "# 入力値の定義\n",
        "# https://www.tensorflow.org/tutorials/customization/basics?hl=ja#%E3%83%86%E3%83%B3%E3%82%BD%E3%83%AB\n"
      ],
      "execution_count": null,
      "outputs": []
    }
  ]
}