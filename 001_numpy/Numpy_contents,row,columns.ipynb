{
  "nbformat": 4,
  "nbformat_minor": 0,
  "metadata": {
    "colab": {
      "name": "Numpy_contents,row,columns",
      "provenance": [],
      "authorship_tag": "ABX9TyNcmxr+YjKy3REZqwXzY7Wu",
      "include_colab_link": true
    },
    "kernelspec": {
      "name": "python3",
      "display_name": "Python 3"
    }
  },
  "cells": [
    {
      "cell_type": "markdown",
      "metadata": {
        "id": "view-in-github",
        "colab_type": "text"
      },
      "source": [
        "<a href=\"https://colab.research.google.com/github/anko191/Python_Kaggle/blob/master/numpy/Numpy_contents%2Crow%2Ccolumns.ipynb\" target=\"_parent\"><img src=\"https://colab.research.google.com/assets/colab-badge.svg\" alt=\"Open In Colab\"/></a>"
      ]
    },
    {
      "cell_type": "markdown",
      "metadata": {
        "id": "p2b69wa5TETG",
        "colab_type": "text"
      },
      "source": [
        "# Base"
      ]
    },
    {
      "cell_type": "code",
      "metadata": {
        "id": "x9w59vF5TEns",
        "colab_type": "code",
        "colab": {
          "base_uri": "https://localhost:8080/",
          "height": 136
        },
        "outputId": "9e05833d-06cb-443a-c684-ac152b39a7ca"
      },
      "source": [
        "a_3d = np.arange(24).reshape(2,3,4)\n",
        "print(a_3d)"
      ],
      "execution_count": 130,
      "outputs": [
        {
          "output_type": "stream",
          "text": [
            "[[[ 0  1  2  3]\n",
            "  [ 4  5  6  7]\n",
            "  [ 8  9 10 11]]\n",
            "\n",
            " [[12 13 14 15]\n",
            "  [16 17 18 19]\n",
            "  [20 21 22 23]]]\n"
          ],
          "name": "stdout"
        }
      ]
    },
    {
      "cell_type": "code",
      "metadata": {
        "id": "cU7-9n67UFLM",
        "colab_type": "code",
        "colab": {
          "base_uri": "https://localhost:8080/",
          "height": 34
        },
        "outputId": "5cf48550-0d1e-4978-d5f3-357470ddd3b7"
      },
      "source": [
        "print(a_3d[0,1,2])"
      ],
      "execution_count": 131,
      "outputs": [
        {
          "output_type": "stream",
          "text": [
            "6\n"
          ],
          "name": "stdout"
        }
      ]
    },
    {
      "cell_type": "code",
      "metadata": {
        "id": "ia8MXxRlUH87",
        "colab_type": "code",
        "colab": {
          "base_uri": "https://localhost:8080/",
          "height": 51
        },
        "outputId": "adfb2413-a017-4b1e-d148-b7feca85fbcf"
      },
      "source": [
        "print(a_3d[1, [True, False, True], ::2])"
      ],
      "execution_count": 132,
      "outputs": [
        {
          "output_type": "stream",
          "text": [
            "[[12 14]\n",
            " [20 22]]\n"
          ],
          "name": "stdout"
        }
      ]
    },
    {
      "cell_type": "code",
      "metadata": {
        "id": "q2AvYJ4ZUNwK",
        "colab_type": "code",
        "colab": {
          "base_uri": "https://localhost:8080/",
          "height": 102
        },
        "outputId": "19fed8f6-e77e-4a87-c223-10af31894e25"
      },
      "source": [
        "a_2d = np.arange(12).reshape(3,4)\n",
        "print(a_2d)\n",
        "print(a_2d[:2, 1:3])"
      ],
      "execution_count": 133,
      "outputs": [
        {
          "output_type": "stream",
          "text": [
            "[[ 0  1  2  3]\n",
            " [ 4  5  6  7]\n",
            " [ 8  9 10 11]]\n",
            "[[1 2]\n",
            " [5 6]]\n"
          ],
          "name": "stdout"
        }
      ]
    },
    {
      "cell_type": "code",
      "metadata": {
        "id": "7i8GjCg_VGMC",
        "colab_type": "code",
        "colab": {
          "base_uri": "https://localhost:8080/",
          "height": 85
        },
        "outputId": "5a80a2b2-0547-41fd-cd3d-6d1bec20f456"
      },
      "source": [
        "print(a_2d[:2, :])\n",
        "print(a_2d[:2])"
      ],
      "execution_count": 134,
      "outputs": [
        {
          "output_type": "stream",
          "text": [
            "[[0 1 2 3]\n",
            " [4 5 6 7]]\n",
            "[[0 1 2 3]\n",
            " [4 5 6 7]]\n"
          ],
          "name": "stdout"
        }
      ]
    },
    {
      "cell_type": "markdown",
      "metadata": {
        "id": "LaahAJ24WDs7",
        "colab_type": "text"
      },
      "source": [
        "## boolean index"
      ]
    },
    {
      "cell_type": "code",
      "metadata": {
        "id": "PWi6xS03VUi6",
        "colab_type": "code",
        "colab": {
          "base_uri": "https://localhost:8080/",
          "height": 68
        },
        "outputId": "7d8d80d6-19d8-44d6-87c1-ac5bc338116b"
      },
      "source": [
        "a_1d = np.arange(4)\n",
        "print(a_1d)\n",
        "print(a_1d[[True, False, True, False]])\n",
        "print(a_1d[np.array([True, False, True, False])])"
      ],
      "execution_count": 135,
      "outputs": [
        {
          "output_type": "stream",
          "text": [
            "[0 1 2 3]\n",
            "[0 2]\n",
            "[0 2]\n"
          ],
          "name": "stdout"
        }
      ]
    },
    {
      "cell_type": "code",
      "metadata": {
        "id": "DqxA6PEPWNML",
        "colab_type": "code",
        "colab": {
          "base_uri": "https://localhost:8080/",
          "height": 153
        },
        "outputId": "7cc10309-ab22-4e32-ed31-2b40bf1c7dd5"
      },
      "source": [
        "a_2d = np.arange(12).reshape(3,4)\n",
        "print(a_2d)\n",
        "print(a_2d[[True, False, True]])\n",
        "print(a_2d[:, [True, False,True,False]])"
      ],
      "execution_count": 136,
      "outputs": [
        {
          "output_type": "stream",
          "text": [
            "[[ 0  1  2  3]\n",
            " [ 4  5  6  7]\n",
            " [ 8  9 10 11]]\n",
            "[[ 0  1  2  3]\n",
            " [ 8  9 10 11]]\n",
            "[[ 0  2]\n",
            " [ 4  6]\n",
            " [ 8 10]]\n"
          ],
          "name": "stdout"
        }
      ]
    },
    {
      "cell_type": "markdown",
      "metadata": {
        "id": "o5c-11KYWsUG",
        "colab_type": "text"
      },
      "source": [
        "### multi booling index occurs error\n",
        "uses np.ix_"
      ]
    },
    {
      "cell_type": "code",
      "metadata": {
        "id": "JQ9POef0WaCB",
        "colab_type": "code",
        "colab": {
          "base_uri": "https://localhost:8080/",
          "height": 68
        },
        "outputId": "f89f3186-f237-4f76-bc86-10c60364e0d4"
      },
      "source": [
        "print(a_2d[[True, False, True], [True, False, True, False]])\n",
        "print(a_2d[np.ix_([True, False, True], [True, False, True, False])])"
      ],
      "execution_count": 137,
      "outputs": [
        {
          "output_type": "stream",
          "text": [
            "[ 0 10]\n",
            "[[ 0  2]\n",
            " [ 8 10]]\n"
          ],
          "name": "stdout"
        }
      ]
    },
    {
      "cell_type": "code",
      "metadata": {
        "id": "85JMlm__W5Ia",
        "colab_type": "code",
        "colab": {
          "base_uri": "https://localhost:8080/",
          "height": 68
        },
        "outputId": "5f86d685-b7c5-408c-aace-2d42350eb29b"
      },
      "source": [
        "print(a_2d > 5)"
      ],
      "execution_count": 138,
      "outputs": [
        {
          "output_type": "stream",
          "text": [
            "[[False False False False]\n",
            " [False False  True  True]\n",
            " [ True  True  True  True]]\n"
          ],
          "name": "stdout"
        }
      ]
    },
    {
      "cell_type": "code",
      "metadata": {
        "id": "2ayFH-pKXG4J",
        "colab_type": "code",
        "colab": {
          "base_uri": "https://localhost:8080/",
          "height": 34
        },
        "outputId": "c512c1e6-6b29-4c87-8b7b-0751e051cd33"
      },
      "source": [
        "print(a_2d[a_2d > 5])"
      ],
      "execution_count": 139,
      "outputs": [
        {
          "output_type": "stream",
          "text": [
            "[ 6  7  8  9 10 11]\n"
          ],
          "name": "stdout"
        }
      ]
    },
    {
      "cell_type": "code",
      "metadata": {
        "id": "sCZLqF8SXKTZ",
        "colab_type": "code",
        "colab": {
          "base_uri": "https://localhost:8080/",
          "height": 68
        },
        "outputId": "8b5bc131-248a-49c2-bf60-79b4de9d3a3c"
      },
      "source": [
        "print((a_2d > 5) & (a_2d < 10))"
      ],
      "execution_count": 141,
      "outputs": [
        {
          "output_type": "stream",
          "text": [
            "[[False False False False]\n",
            " [False False  True  True]\n",
            " [ True  True False False]]\n"
          ],
          "name": "stdout"
        }
      ]
    },
    {
      "cell_type": "markdown",
      "metadata": {
        "id": "HP7lXIvCXWbw",
        "colab_type": "text"
      },
      "source": [
        "# Fancy index ???"
      ]
    },
    {
      "cell_type": "code",
      "metadata": {
        "id": "KiG8U5lMXOjS",
        "colab_type": "code",
        "colab": {
          "base_uri": "https://localhost:8080/",
          "height": 34
        },
        "outputId": "4bc02983-a1b9-418f-c597-683f71aceacb"
      },
      "source": [
        "a_1d = np.arange(4)\n",
        "print(a_1d)"
      ],
      "execution_count": 142,
      "outputs": [
        {
          "output_type": "stream",
          "text": [
            "[0 1 2 3]\n"
          ],
          "name": "stdout"
        }
      ]
    },
    {
      "cell_type": "code",
      "metadata": {
        "id": "Cd3ik2uVXash",
        "colab_type": "code",
        "colab": {
          "base_uri": "https://localhost:8080/",
          "height": 34
        },
        "outputId": "583a3f4c-0499-40fb-a121-8b2e6653d99a"
      },
      "source": [
        "print(a_1d[[0,2]])"
      ],
      "execution_count": 143,
      "outputs": [
        {
          "output_type": "stream",
          "text": [
            "[0 2]\n"
          ],
          "name": "stdout"
        }
      ]
    },
    {
      "cell_type": "code",
      "metadata": {
        "id": "yAxUkJd2XcEw",
        "colab_type": "code",
        "colab": {
          "base_uri": "https://localhost:8080/",
          "height": 34
        },
        "outputId": "21a3ed4a-5790-40e9-dd3d-577b83eeefef"
      },
      "source": [
        "print(a_1d[[0,3,2,1,2,-1,-2]])"
      ],
      "execution_count": 144,
      "outputs": [
        {
          "output_type": "stream",
          "text": [
            "[0 3 2 1 2 3 2]\n"
          ],
          "name": "stdout"
        }
      ]
    },
    {
      "cell_type": "code",
      "metadata": {
        "id": "ldW7iVmsXeIY",
        "colab_type": "code",
        "colab": {
          "base_uri": "https://localhost:8080/",
          "height": 68
        },
        "outputId": "c098a26b-af13-4aa2-b30e-9dbe1de033a2"
      },
      "source": [
        "a_2d = np.arange(12).reshape(3,4)\n",
        "print(a_2d)"
      ],
      "execution_count": 145,
      "outputs": [
        {
          "output_type": "stream",
          "text": [
            "[[ 0  1  2  3]\n",
            " [ 4  5  6  7]\n",
            " [ 8  9 10 11]]\n"
          ],
          "name": "stdout"
        }
      ]
    },
    {
      "cell_type": "code",
      "metadata": {
        "id": "eA6lTNW_Xtlo",
        "colab_type": "code",
        "colab": {
          "base_uri": "https://localhost:8080/",
          "height": 51
        },
        "outputId": "81e90bf8-6195-4afe-9335-28a1694fd44d"
      },
      "source": [
        "print(a_2d[np.ix_([0,2], [0,2])])"
      ],
      "execution_count": 146,
      "outputs": [
        {
          "output_type": "stream",
          "text": [
            "[[ 0  2]\n",
            " [ 8 10]]\n"
          ],
          "name": "stdout"
        }
      ]
    },
    {
      "cell_type": "code",
      "metadata": {
        "id": "KfCe27dCXxCJ",
        "colab_type": "code",
        "colab": {
          "base_uri": "https://localhost:8080/",
          "height": 119
        },
        "outputId": "b6759806-5125-4ac5-9bf0-a4ef2bcf1c37"
      },
      "source": [
        "print(a_2d[np.ix_([0,2,1,1,-1,-1], [0,2,1,3])])"
      ],
      "execution_count": 147,
      "outputs": [
        {
          "output_type": "stream",
          "text": [
            "[[ 0  2  1  3]\n",
            " [ 8 10  9 11]\n",
            " [ 4  6  5  7]\n",
            " [ 4  6  5  7]\n",
            " [ 8 10  9 11]\n",
            " [ 8 10  9 11]]\n"
          ],
          "name": "stdout"
        }
      ]
    },
    {
      "cell_type": "code",
      "metadata": {
        "id": "VsaHk5y8YYjh",
        "colab_type": "code",
        "colab": {
          "base_uri": "https://localhost:8080/",
          "height": 68
        },
        "outputId": "ffd5187f-cda9-4a9d-9bd1-49e4e95641f8"
      },
      "source": [
        "print(a_2d[:,[1]])"
      ],
      "execution_count": 148,
      "outputs": [
        {
          "output_type": "stream",
          "text": [
            "[[1]\n",
            " [5]\n",
            " [9]]\n"
          ],
          "name": "stdout"
        }
      ]
    },
    {
      "cell_type": "code",
      "metadata": {
        "id": "AZ9k0ksYYaUg",
        "colab_type": "code",
        "colab": {
          "base_uri": "https://localhost:8080/",
          "height": 34
        },
        "outputId": "5a9688e0-6a55-40f0-b6ef-595fb70fdf17"
      },
      "source": [
        "print(a_2d[:, [1]].shape)"
      ],
      "execution_count": 149,
      "outputs": [
        {
          "output_type": "stream",
          "text": [
            "(3, 1)\n"
          ],
          "name": "stdout"
        }
      ]
    },
    {
      "cell_type": "code",
      "metadata": {
        "id": "CYlXOH6FYcao",
        "colab_type": "code",
        "colab": {
          "base_uri": "https://localhost:8080/",
          "height": 34
        },
        "outputId": "53cf19b1-fc45-47b5-8923-fd9aa1a5f219"
      },
      "source": [
        "print(a_2d[:,1])"
      ],
      "execution_count": 150,
      "outputs": [
        {
          "output_type": "stream",
          "text": [
            "[1 5 9]\n"
          ],
          "name": "stdout"
        }
      ]
    },
    {
      "cell_type": "code",
      "metadata": {
        "id": "dI4zdFDrYd-y",
        "colab_type": "code",
        "colab": {
          "base_uri": "https://localhost:8080/",
          "height": 34
        },
        "outputId": "feef4096-f99b-4a72-c4a6-0f5941824a0e"
      },
      "source": [
        "print(a_2d[:,1].shape)"
      ],
      "execution_count": 151,
      "outputs": [
        {
          "output_type": "stream",
          "text": [
            "(3,)\n"
          ],
          "name": "stdout"
        }
      ]
    },
    {
      "cell_type": "markdown",
      "metadata": {
        "id": "RsB8jTD5YsOv",
        "colab_type": "text"
      },
      "source": [
        "3-dimension"
      ]
    },
    {
      "cell_type": "code",
      "metadata": {
        "id": "l2k5JynDYf7J",
        "colab_type": "code",
        "colab": {
          "base_uri": "https://localhost:8080/",
          "height": 136
        },
        "outputId": "1a3f9bb1-0569-40c3-86c7-225989e07a8f"
      },
      "source": [
        "a_3d = np.arange(24).reshape(2,3,4)\n",
        "print(a_3d)"
      ],
      "execution_count": 152,
      "outputs": [
        {
          "output_type": "stream",
          "text": [
            "[[[ 0  1  2  3]\n",
            "  [ 4  5  6  7]\n",
            "  [ 8  9 10 11]]\n",
            "\n",
            " [[12 13 14 15]\n",
            "  [16 17 18 19]\n",
            "  [20 21 22 23]]]\n"
          ],
          "name": "stdout"
        }
      ]
    },
    {
      "cell_type": "code",
      "metadata": {
        "id": "VRowKcSDYxQ5",
        "colab_type": "code",
        "colab": {
          "base_uri": "https://localhost:8080/",
          "height": 102
        },
        "outputId": "3cb96477-7799-4ec4-fba8-3ea2a5e03ac7"
      },
      "source": [
        "print(a_3d[:, :2, [True, False, True, False]])"
      ],
      "execution_count": 154,
      "outputs": [
        {
          "output_type": "stream",
          "text": [
            "[[[ 0  2]\n",
            "  [ 4  6]]\n",
            "\n",
            " [[12 14]\n",
            "  [16 18]]]\n"
          ],
          "name": "stdout"
        }
      ]
    },
    {
      "cell_type": "markdown",
      "metadata": {
        "id": "-ackqjM7ZQuN",
        "colab_type": "text"
      },
      "source": [
        "## np.ix_() is error using slice\n",
        "use range()"
      ]
    },
    {
      "cell_type": "code",
      "metadata": {
        "id": "N92ob6-KY0Ev",
        "colab_type": "code",
        "colab": {
          "base_uri": "https://localhost:8080/",
          "height": 102
        },
        "outputId": "8f348141-a9fa-4c36-b09b-a7aa071f6591"
      },
      "source": [
        "print(a_3d[np.ix_(range(2), [0,2], [0,2])])"
      ],
      "execution_count": 155,
      "outputs": [
        {
          "output_type": "stream",
          "text": [
            "[[[ 0  2]\n",
            "  [ 8 10]]\n",
            "\n",
            " [[12 14]\n",
            "  [20 22]]]\n"
          ],
          "name": "stdout"
        }
      ]
    },
    {
      "cell_type": "code",
      "metadata": {
        "id": "n0flqklEZa8Z",
        "colab_type": "code",
        "colab": {
          "base_uri": "https://localhost:8080/",
          "height": 102
        },
        "outputId": "74f984c7-bfc3-47f9-847e-745a4e20afe4"
      },
      "source": [
        "print(a_3d[np.ix_(range(a_3d.shape[0]), [0,2], [0,2])])"
      ],
      "execution_count": 159,
      "outputs": [
        {
          "output_type": "stream",
          "text": [
            "[[[ 0  2]\n",
            "  [ 8 10]]\n",
            "\n",
            " [[12 14]\n",
            "  [20 22]]]\n"
          ],
          "name": "stdout"
        }
      ]
    },
    {
      "cell_type": "markdown",
      "metadata": {
        "id": "_-Xc6v0wZ0No",
        "colab_type": "text"
      },
      "source": [
        "## add new numerics using np.ix_()"
      ]
    },
    {
      "cell_type": "code",
      "metadata": {
        "id": "tdMzhq5mZg7x",
        "colab_type": "code",
        "colab": {
          "base_uri": "https://localhost:8080/",
          "height": 68
        },
        "outputId": "b3a07230-fcc8-45d0-ca8e-2228461cf034"
      },
      "source": [
        "a_2d = np.arange(12).reshape(3,4)\n",
        "a_2d[np.ix_([False, True, True], [1,3])] = 200\n",
        "print(a_2d)"
      ],
      "execution_count": 160,
      "outputs": [
        {
          "output_type": "stream",
          "text": [
            "[[  0   1   2   3]\n",
            " [  4 200   6 200]\n",
            " [  8 200  10 200]]\n"
          ],
          "name": "stdout"
        }
      ]
    },
    {
      "cell_type": "code",
      "metadata": {
        "id": "_XliIdpbZ-rX",
        "colab_type": "code",
        "colab": {
          "base_uri": "https://localhost:8080/",
          "height": 136
        },
        "outputId": "47f6ac86-f6b1-4cd9-c7e3-df10bbdea26f"
      },
      "source": [
        "a_2d = np.arange(12).reshape(3,4)\n",
        "print(a_2d)\n",
        "print(a_2d[::2, :3])\n",
        "print(np.arange(6).reshape(2,3) * 100)"
      ],
      "execution_count": 161,
      "outputs": [
        {
          "output_type": "stream",
          "text": [
            "[[ 0  1  2  3]\n",
            " [ 4  5  6  7]\n",
            " [ 8  9 10 11]]\n",
            "[[ 0  1  2]\n",
            " [ 8  9 10]]\n",
            "[[  0 100 200]\n",
            " [300 400 500]]\n"
          ],
          "name": "stdout"
        }
      ]
    },
    {
      "cell_type": "code",
      "metadata": {
        "id": "wCFb7d9oaP0v",
        "colab_type": "code",
        "colab": {
          "base_uri": "https://localhost:8080/",
          "height": 68
        },
        "outputId": "5550928d-5dcf-43ea-dfe9-f5e2b7f95e45"
      },
      "source": [
        "a_2d[::2,:3] = np.arange(6).reshape(2,3) * 100\n",
        "print(a_2d)"
      ],
      "execution_count": 162,
      "outputs": [
        {
          "output_type": "stream",
          "text": [
            "[[  0 100 200   3]\n",
            " [  4   5   6   7]\n",
            " [300 400 500  11]]\n"
          ],
          "name": "stdout"
        }
      ]
    },
    {
      "cell_type": "markdown",
      "metadata": {
        "id": "WW0YejRZawot",
        "colab_type": "text"
      },
      "source": [
        "# view and copy"
      ]
    },
    {
      "cell_type": "code",
      "metadata": {
        "id": "Xbg7ChsSaXJQ",
        "colab_type": "code",
        "colab": {
          "base_uri": "https://localhost:8080/",
          "height": 102
        },
        "outputId": "f0bdc435-7a4a-4c02-e5ec-f5f363fb33bf"
      },
      "source": [
        "a_2d = np.arange(12).reshape(3,4)\n",
        "print(a_2d)\n",
        "a_slice = a_2d[:2, :2]\n",
        "print(a_slice)"
      ],
      "execution_count": 163,
      "outputs": [
        {
          "output_type": "stream",
          "text": [
            "[[ 0  1  2  3]\n",
            " [ 4  5  6  7]\n",
            " [ 8  9 10 11]]\n",
            "[[0 1]\n",
            " [4 5]]\n"
          ],
          "name": "stdout"
        }
      ]
    },
    {
      "cell_type": "code",
      "metadata": {
        "id": "iJmqROeda5S_",
        "colab_type": "code",
        "colab": {
          "base_uri": "https://localhost:8080/",
          "height": 34
        },
        "outputId": "975ead1b-4889-42d5-cc1e-582a0ce5e10a"
      },
      "source": [
        "print(np.shares_memory(a_2d, a_slice))"
      ],
      "execution_count": 164,
      "outputs": [
        {
          "output_type": "stream",
          "text": [
            "True\n"
          ],
          "name": "stdout"
        }
      ]
    },
    {
      "cell_type": "markdown",
      "metadata": {
        "id": "5Z88VRtia_Sm",
        "colab_type": "text"
      },
      "source": [
        "If it's view, change each other."
      ]
    },
    {
      "cell_type": "code",
      "metadata": {
        "id": "_TzPTG60a9cn",
        "colab_type": "code",
        "colab": {
          "base_uri": "https://localhost:8080/",
          "height": 51
        },
        "outputId": "66107107-a1d3-47d1-f51a-34c776731228"
      },
      "source": [
        "a_slice[0,0] = 100\n",
        "print(a_slice)"
      ],
      "execution_count": 165,
      "outputs": [
        {
          "output_type": "stream",
          "text": [
            "[[100   1]\n",
            " [  4   5]]\n"
          ],
          "name": "stdout"
        }
      ]
    },
    {
      "cell_type": "code",
      "metadata": {
        "id": "SJ84ow8tbGMQ",
        "colab_type": "code",
        "colab": {
          "base_uri": "https://localhost:8080/",
          "height": 68
        },
        "outputId": "69e3989c-5a67-43ca-db90-38058a4781da"
      },
      "source": [
        "print(a_2d)"
      ],
      "execution_count": 166,
      "outputs": [
        {
          "output_type": "stream",
          "text": [
            "[[100   1   2   3]\n",
            " [  4   5   6   7]\n",
            " [  8   9  10  11]]\n"
          ],
          "name": "stdout"
        }
      ]
    },
    {
      "cell_type": "code",
      "metadata": {
        "id": "ieXMbmwqbG8_",
        "colab_type": "code",
        "colab": {
          "base_uri": "https://localhost:8080/",
          "height": 102
        },
        "outputId": "6bba8f2b-fc3a-4d4a-8849-2302933d47c3"
      },
      "source": [
        "a_2d[0,0] = 0\n",
        "print(a_2d)\n",
        "print(a_slice)"
      ],
      "execution_count": 167,
      "outputs": [
        {
          "output_type": "stream",
          "text": [
            "[[ 0  1  2  3]\n",
            " [ 4  5  6  7]\n",
            " [ 8  9 10 11]]\n",
            "[[0 1]\n",
            " [4 5]]\n"
          ],
          "name": "stdout"
        }
      ]
    },
    {
      "cell_type": "code",
      "metadata": {
        "id": "gf6LkIpPbKaZ",
        "colab_type": "code",
        "colab": {
          "base_uri": "https://localhost:8080/",
          "height": 51
        },
        "outputId": "05d5ef1a-cb11-4f18-cfbb-95d27af3e5ba"
      },
      "source": [
        "a_fancy_index = a_2d[[0,1]]\n",
        "print(a_fancy_index)"
      ],
      "execution_count": 168,
      "outputs": [
        {
          "output_type": "stream",
          "text": [
            "[[0 1 2 3]\n",
            " [4 5 6 7]]\n"
          ],
          "name": "stdout"
        }
      ]
    },
    {
      "cell_type": "code",
      "metadata": {
        "id": "3wYRiiPbbPlo",
        "colab_type": "code",
        "colab": {
          "base_uri": "https://localhost:8080/",
          "height": 34
        },
        "outputId": "a848085b-7dff-41ff-ae9b-c580bb7ac53e"
      },
      "source": [
        "print(np.shares_memory(a_2d, a_fancy_index))"
      ],
      "execution_count": 169,
      "outputs": [
        {
          "output_type": "stream",
          "text": [
            "False\n"
          ],
          "name": "stdout"
        }
      ]
    },
    {
      "cell_type": "code",
      "metadata": {
        "id": "tzvu90z4bSUC",
        "colab_type": "code",
        "colab": {
          "base_uri": "https://localhost:8080/",
          "height": 119
        },
        "outputId": "492f3fc9-09c0-4490-f52e-d9df41e71b1c"
      },
      "source": [
        "a = np.arange(12).reshape((3,4))\n",
        "print(a)\n",
        "a[1:, ::2] = [[100,200], [300,400]]\n",
        "print(a)"
      ],
      "execution_count": 170,
      "outputs": [
        {
          "output_type": "stream",
          "text": [
            "[[ 0  1  2  3]\n",
            " [ 4  5  6  7]\n",
            " [ 8  9 10 11]]\n",
            "[[  0   1   2   3]\n",
            " [100   5 200   7]\n",
            " [300   9 400  11]]\n"
          ],
          "name": "stdout"
        }
      ]
    },
    {
      "cell_type": "code",
      "metadata": {
        "id": "N1xA4tF-d4_i",
        "colab_type": "code",
        "colab": {
          "base_uri": "https://localhost:8080/",
          "height": 102
        },
        "outputId": "69474930-1aca-44e9-a005-6bb3efc89d24"
      },
      "source": [
        "a = np.arange(12).reshape((3,4))\n",
        "print(a)\n",
        "a_slice_copy = a[1:, 1:3].copy()\n",
        "print(a_slice_copy)"
      ],
      "execution_count": 171,
      "outputs": [
        {
          "output_type": "stream",
          "text": [
            "[[ 0  1  2  3]\n",
            " [ 4  5  6  7]\n",
            " [ 8  9 10 11]]\n",
            "[[ 5  6]\n",
            " [ 9 10]]\n"
          ],
          "name": "stdout"
        }
      ]
    },
    {
      "cell_type": "code",
      "metadata": {
        "id": "uNKc-kH9eUaX",
        "colab_type": "code",
        "colab": {
          "base_uri": "https://localhost:8080/",
          "height": 51
        },
        "outputId": "bab4dcb8-98ed-4f4a-e7c8-377a7356882a"
      },
      "source": [
        "a_slice_copy[0,0] = 100\n",
        "print(a_slice_copy)"
      ],
      "execution_count": 172,
      "outputs": [
        {
          "output_type": "stream",
          "text": [
            "[[100   6]\n",
            " [  9  10]]\n"
          ],
          "name": "stdout"
        }
      ]
    },
    {
      "cell_type": "code",
      "metadata": {
        "id": "bcqZaIufeYRn",
        "colab_type": "code",
        "colab": {
          "base_uri": "https://localhost:8080/",
          "height": 68
        },
        "outputId": "67741f88-838f-4980-b59d-69ed58be44be"
      },
      "source": [
        "print(a)"
      ],
      "execution_count": 173,
      "outputs": [
        {
          "output_type": "stream",
          "text": [
            "[[ 0  1  2  3]\n",
            " [ 4  5  6  7]\n",
            " [ 8  9 10 11]]\n"
          ],
          "name": "stdout"
        }
      ]
    },
    {
      "cell_type": "code",
      "metadata": {
        "id": "TXNRLc6-eZB3",
        "colab_type": "code",
        "colab": {
          "base_uri": "https://localhost:8080/",
          "height": 51
        },
        "outputId": "3f3941ca-2271-4e27-fd55-87eee1b07da6"
      },
      "source": [
        "print(a[[0,2], 1:3])"
      ],
      "execution_count": 174,
      "outputs": [
        {
          "output_type": "stream",
          "text": [
            "[[ 1  2]\n",
            " [ 9 10]]\n"
          ],
          "name": "stdout"
        }
      ]
    },
    {
      "cell_type": "markdown",
      "metadata": {
        "id": "dfe1tJ9aewan",
        "colab_type": "text"
      },
      "source": [
        "# Fancy index = designate list[]"
      ]
    },
    {
      "cell_type": "code",
      "metadata": {
        "id": "I0mOd60SesdA",
        "colab_type": "code",
        "colab": {
          "base_uri": "https://localhost:8080/",
          "height": 68
        },
        "outputId": "6c122c02-fb0f-4f38-d5be-10d96f54e26e"
      },
      "source": [
        "a[[0,2], 1:3] = [[100,200],[300,400]]\n",
        "print(a)"
      ],
      "execution_count": 176,
      "outputs": [
        {
          "output_type": "stream",
          "text": [
            "[[  0 100 200   3]\n",
            " [  4   5   6   7]\n",
            " [  8 300 400  11]]\n"
          ],
          "name": "stdout"
        }
      ]
    },
    {
      "cell_type": "code",
      "metadata": {
        "id": "UBGO3YV0e3qm",
        "colab_type": "code",
        "colab": {
          "base_uri": "https://localhost:8080/",
          "height": 136
        },
        "outputId": "1f3684a1-d2fa-412d-b96c-2ecc264bd72e"
      },
      "source": [
        "a_subset = a[[0,2], 1:3]\n",
        "print(a_subset)\n",
        "a_subset[0,0] = -1\n",
        "print(a_subset)\n",
        "print(a)"
      ],
      "execution_count": 178,
      "outputs": [
        {
          "output_type": "stream",
          "text": [
            "[[100 200]\n",
            " [300 400]]\n",
            "[[ -1 200]\n",
            " [300 400]]\n",
            "[[  0 100 200   3]\n",
            " [  4   5   6   7]\n",
            " [  8 300 400  11]]\n"
          ],
          "name": "stdout"
        }
      ]
    },
    {
      "cell_type": "code",
      "metadata": {
        "id": "PVsYi6QzfFfv",
        "colab_type": "code",
        "colab": {
          "base_uri": "https://localhost:8080/",
          "height": 34
        },
        "outputId": "36ed6326-c33e-4d00-ec45-a3f603d57dba"
      },
      "source": [
        "a = np.arange(10) * 10\n",
        "print(a)"
      ],
      "execution_count": 179,
      "outputs": [
        {
          "output_type": "stream",
          "text": [
            "[ 0 10 20 30 40 50 60 70 80 90]\n"
          ],
          "name": "stdout"
        }
      ]
    },
    {
      "cell_type": "code",
      "metadata": {
        "id": "4EE-X1DyfTqG",
        "colab_type": "code",
        "colab": {
          "base_uri": "https://localhost:8080/",
          "height": 34
        },
        "outputId": "1b5317a0-272d-4e94-a694-1b61a4aa1537"
      },
      "source": [
        "print(a[[5,8]])"
      ],
      "execution_count": 180,
      "outputs": [
        {
          "output_type": "stream",
          "text": [
            "[50 80]\n"
          ],
          "name": "stdout"
        }
      ]
    },
    {
      "cell_type": "code",
      "metadata": {
        "id": "82qHWdVEfWAe",
        "colab_type": "code",
        "colab": {
          "base_uri": "https://localhost:8080/",
          "height": 51
        },
        "outputId": "7f3cb87e-7dd7-4795-d1ba-6fa9c94370a1"
      },
      "source": [
        "idx = np.array([[5,4], [8,0]])\n",
        "print(idx)"
      ],
      "execution_count": 181,
      "outputs": [
        {
          "output_type": "stream",
          "text": [
            "[[5 4]\n",
            " [8 0]]\n"
          ],
          "name": "stdout"
        }
      ]
    },
    {
      "cell_type": "code",
      "metadata": {
        "id": "EuZuREtlfbje",
        "colab_type": "code",
        "colab": {
          "base_uri": "https://localhost:8080/",
          "height": 51
        },
        "outputId": "457a95e1-64e5-42fc-c47f-7e3acba18f2e"
      },
      "source": [
        "print(a[idx])"
      ],
      "execution_count": 182,
      "outputs": [
        {
          "output_type": "stream",
          "text": [
            "[[50 40]\n",
            " [80  0]]\n"
          ],
          "name": "stdout"
        }
      ]
    },
    {
      "cell_type": "code",
      "metadata": {
        "id": "oR7IvXPAfcqs",
        "colab_type": "code",
        "colab": {
          "base_uri": "https://localhost:8080/",
          "height": 51
        },
        "outputId": "39002f58-4d88-4dcc-f50d-4102a7e6d9dc"
      },
      "source": [
        "idxs = np.ix_([0,2], [1,3])\n",
        "print(idxs)"
      ],
      "execution_count": 184,
      "outputs": [
        {
          "output_type": "stream",
          "text": [
            "(array([[0],\n",
            "       [2]]), array([[1, 3]]))\n"
          ],
          "name": "stdout"
        }
      ]
    },
    {
      "cell_type": "code",
      "metadata": {
        "id": "ieJO0xdmgA-u",
        "colab_type": "code",
        "colab": {
          "base_uri": "https://localhost:8080/",
          "height": 68
        },
        "outputId": "5ff6072e-dd5d-4f0f-df46-05e7190b6b14"
      },
      "source": [
        "print(a_2d)"
      ],
      "execution_count": 185,
      "outputs": [
        {
          "output_type": "stream",
          "text": [
            "[[ 0  1  2  3]\n",
            " [ 4  5  6  7]\n",
            " [ 8  9 10 11]]\n"
          ],
          "name": "stdout"
        }
      ]
    },
    {
      "cell_type": "code",
      "metadata": {
        "id": "xcrDqcK6gmCl",
        "colab_type": "code",
        "colab": {
          "base_uri": "https://localhost:8080/",
          "height": 51
        },
        "outputId": "9252c4f2-a92a-458a-995b-3c97496567ea"
      },
      "source": [
        "print(a_2d[np.ix_([0,2], [1,3])])"
      ],
      "execution_count": 187,
      "outputs": [
        {
          "output_type": "stream",
          "text": [
            "[[ 1  3]\n",
            " [ 9 11]]\n"
          ],
          "name": "stdout"
        }
      ]
    },
    {
      "cell_type": "code",
      "metadata": {
        "id": "RMOVtopNgoUF",
        "colab_type": "code",
        "colab": {
          "base_uri": "https://localhost:8080/",
          "height": 51
        },
        "outputId": "78bca470-0201-4893-9921-cafb71a67ba1"
      },
      "source": [
        "print(a_2d[np.ix_([2,0], [3,3,3])])"
      ],
      "execution_count": 188,
      "outputs": [
        {
          "output_type": "stream",
          "text": [
            "[[11 11 11]\n",
            " [ 3  3  3]]\n"
          ],
          "name": "stdout"
        }
      ]
    },
    {
      "cell_type": "code",
      "metadata": {
        "id": "DprjyP9Cgt5d",
        "colab_type": "code",
        "colab": {
          "base_uri": "https://localhost:8080/",
          "height": 51
        },
        "outputId": "27efbd4d-a33a-41a6-a2f8-1a217c451f59"
      },
      "source": [
        "print(a_2d[[0,2]][:, [1,3]])"
      ],
      "execution_count": 189,
      "outputs": [
        {
          "output_type": "stream",
          "text": [
            "[[ 1  3]\n",
            " [ 9 11]]\n"
          ],
          "name": "stdout"
        }
      ]
    },
    {
      "cell_type": "code",
      "metadata": {
        "id": "Fv43hIrVg3E2",
        "colab_type": "code",
        "colab": {
          "base_uri": "https://localhost:8080/",
          "height": 68
        },
        "outputId": "3cc37c5c-f145-4d26-834b-dbf4bb77aa76"
      },
      "source": [
        "a_2d[np.ix_([0,2], [1,3])] = [100,200]\n",
        "print(a_2d)"
      ],
      "execution_count": 190,
      "outputs": [
        {
          "output_type": "stream",
          "text": [
            "[[  0 100   2 200]\n",
            " [  4   5   6   7]\n",
            " [  8 100  10 200]]\n"
          ],
          "name": "stdout"
        }
      ]
    },
    {
      "cell_type": "code",
      "metadata": {
        "id": "CNuocDnwg9bl",
        "colab_type": "code",
        "colab": {
          "base_uri": "https://localhost:8080/",
          "height": 68
        },
        "outputId": "daf979d7-eed6-4ec6-d0d1-c13cf0242cba"
      },
      "source": [
        "a_2d[np.ix_([0,2], [1,3])] = [[100,200], [300,400]]\n",
        "print(a_2d)"
      ],
      "execution_count": 192,
      "outputs": [
        {
          "output_type": "stream",
          "text": [
            "[[  0 100   2 200]\n",
            " [  4   5   6   7]\n",
            " [  8 300  10 400]]\n"
          ],
          "name": "stdout"
        }
      ]
    },
    {
      "cell_type": "markdown",
      "metadata": {
        "id": "CI5fgbPghYwy",
        "colab_type": "text"
      },
      "source": [
        "## combination with slice"
      ]
    },
    {
      "cell_type": "code",
      "metadata": {
        "id": "6hu1sfLUhDR2",
        "colab_type": "code",
        "colab": {
          "base_uri": "https://localhost:8080/",
          "height": 102
        },
        "outputId": "a8217207-bf7f-4b3a-e7bc-770df417d14d"
      },
      "source": [
        "a_2d = np.arange(12).reshape((3,4))\n",
        "print(a_2d)\n",
        "print(a_2d[[2,0], ::-1])"
      ],
      "execution_count": 193,
      "outputs": [
        {
          "output_type": "stream",
          "text": [
            "[[ 0  1  2  3]\n",
            " [ 4  5  6  7]\n",
            " [ 8  9 10 11]]\n",
            "[[11 10  9  8]\n",
            " [ 3  2  1  0]]\n"
          ],
          "name": "stdout"
        }
      ]
    },
    {
      "cell_type": "code",
      "metadata": {
        "id": "e7bgE-MbheEp",
        "colab_type": "code",
        "colab": {
          "base_uri": "https://localhost:8080/",
          "height": 51
        },
        "outputId": "3f68fbce-48c0-4317-cc6f-9bc0e53de501"
      },
      "source": [
        "print(a_2d[::2, [3,0,1]])"
      ],
      "execution_count": 194,
      "outputs": [
        {
          "output_type": "stream",
          "text": [
            "[[ 3  0  1]\n",
            " [11  8  9]]\n"
          ],
          "name": "stdout"
        }
      ]
    },
    {
      "cell_type": "markdown",
      "metadata": {
        "id": "wuoX-uFqiREQ",
        "colab_type": "text"
      },
      "source": [
        "# append"
      ]
    },
    {
      "cell_type": "code",
      "metadata": {
        "id": "Er-yVBGqiP4d",
        "colab_type": "code",
        "colab": {
          "base_uri": "https://localhost:8080/",
          "height": 34
        },
        "outputId": "e2f5312c-5654-4035-8598-18b6032c0b0d"
      },
      "source": [
        "import numpy as np\n",
        "a = np.arange(3)\n",
        "print(a)"
      ],
      "execution_count": 196,
      "outputs": [
        {
          "output_type": "stream",
          "text": [
            "[0 1 2]\n"
          ],
          "name": "stdout"
        }
      ]
    },
    {
      "cell_type": "markdown",
      "metadata": {
        "id": "scPVct0GifKo",
        "colab_type": "text"
      },
      "source": [
        "made new arrangement (array)"
      ]
    },
    {
      "cell_type": "code",
      "metadata": {
        "id": "ubLOYxIPidat",
        "colab_type": "code",
        "colab": {
          "base_uri": "https://localhost:8080/",
          "height": 51
        },
        "outputId": "c3beedfb-ee66-43d5-da98-ae98ad62e7ef"
      },
      "source": [
        "a_append = np.append(a,3)\n",
        "print(a_append)\n",
        "print(a)"
      ],
      "execution_count": 197,
      "outputs": [
        {
          "output_type": "stream",
          "text": [
            "[0 1 2 3]\n",
            "[0 1 2]\n"
          ],
          "name": "stdout"
        }
      ]
    },
    {
      "cell_type": "code",
      "metadata": {
        "id": "a3pp1FuJilZt",
        "colab_type": "code",
        "colab": {
          "base_uri": "https://localhost:8080/",
          "height": 51
        },
        "outputId": "84956442-42b1-49b2-8d6e-84b4b0ec697e"
      },
      "source": [
        "print(np.append(a, [3,4,5]))\n",
        "print(np.append(a, np.arange(3,6)))"
      ],
      "execution_count": 198,
      "outputs": [
        {
          "output_type": "stream",
          "text": [
            "[0 1 2 3 4 5]\n",
            "[0 1 2 3 4 5]\n"
          ],
          "name": "stdout"
        }
      ]
    },
    {
      "cell_type": "markdown",
      "metadata": {
        "id": "_edRJ0_fjhPq",
        "colab_type": "text"
      },
      "source": [
        "append front of array"
      ]
    },
    {
      "cell_type": "code",
      "metadata": {
        "id": "sH4o_OOjir3V",
        "colab_type": "code",
        "colab": {
          "base_uri": "https://localhost:8080/",
          "height": 34
        },
        "outputId": "e90eb7ca-000f-4d4a-d49f-72f0867f38ba"
      },
      "source": [
        "print(np.append(np.arange(-3,0), a))"
      ],
      "execution_count": 199,
      "outputs": [
        {
          "output_type": "stream",
          "text": [
            "[-3 -2 -1  0  1  2]\n"
          ],
          "name": "stdout"
        }
      ]
    },
    {
      "cell_type": "markdown",
      "metadata": {
        "id": "GnU-fZbqj2c-",
        "colab_type": "text"
      },
      "source": [
        "## 2-dimension's np.append()"
      ]
    },
    {
      "cell_type": "code",
      "metadata": {
        "id": "MPI5qqVijmM0",
        "colab_type": "code",
        "colab": {
          "base_uri": "https://localhost:8080/",
          "height": 68
        },
        "outputId": "9e78b56a-268e-4e3c-b66a-f5078b6ed2f0"
      },
      "source": [
        "a_2d = np.arange(6).reshape(2,3)\n",
        "print(a_2d)\n",
        "print(np.append(a_2d, 10))"
      ],
      "execution_count": 200,
      "outputs": [
        {
          "output_type": "stream",
          "text": [
            "[[0 1 2]\n",
            " [3 4 5]]\n",
            "[ 0  1  2  3  4  5 10]\n"
          ],
          "name": "stdout"
        }
      ]
    },
    {
      "cell_type": "code",
      "metadata": {
        "id": "COYwKrUPj83E",
        "colab_type": "code",
        "colab": {
          "base_uri": "https://localhost:8080/",
          "height": 68
        },
        "outputId": "60605743-f1cd-4c0d-aedd-7e91688e6823"
      },
      "source": [
        "a_2d_ex = np.arange(6).reshape(2,3) * 10\n",
        "print(a_2d_ex)\n",
        "print(np.append(a_2d, a_2d_ex))"
      ],
      "execution_count": 201,
      "outputs": [
        {
          "output_type": "stream",
          "text": [
            "[[ 0 10 20]\n",
            " [30 40 50]]\n",
            "[ 0  1  2  3  4  5  0 10 20 30 40 50]\n"
          ],
          "name": "stdout"
        }
      ]
    },
    {
      "cell_type": "markdown",
      "metadata": {
        "id": "jrudKSp8kGH-",
        "colab_type": "text"
      },
      "source": [
        "### if you keep dimension, use axis = 0 or axis = 1"
      ]
    },
    {
      "cell_type": "code",
      "metadata": {
        "id": "HbJNU_aPkEz9",
        "colab_type": "code",
        "colab": {
          "base_uri": "https://localhost:8080/",
          "height": 85
        },
        "outputId": "61348721-9a42-4eae-b853-a89eafd9e629"
      },
      "source": [
        "print(np.append(a_2d, a_2d_ex, axis = 0))"
      ],
      "execution_count": 202,
      "outputs": [
        {
          "output_type": "stream",
          "text": [
            "[[ 0  1  2]\n",
            " [ 3  4  5]\n",
            " [ 0 10 20]\n",
            " [30 40 50]]\n"
          ],
          "name": "stdout"
        }
      ]
    },
    {
      "cell_type": "code",
      "metadata": {
        "id": "xgxaaU0mkNC0",
        "colab_type": "code",
        "colab": {
          "base_uri": "https://localhost:8080/",
          "height": 51
        },
        "outputId": "65eea9b5-ae8f-4abb-90b2-91e5575f2895"
      },
      "source": [
        "print(np.append(a_2d, a_2d_ex, axis = 1))"
      ],
      "execution_count": 203,
      "outputs": [
        {
          "output_type": "stream",
          "text": [
            "[[ 0  1  2  0 10 20]\n",
            " [ 3  4  5 30 40 50]]\n"
          ],
          "name": "stdout"
        }
      ]
    },
    {
      "cell_type": "markdown",
      "metadata": {
        "id": "tzsJ7ct3kcFo",
        "colab_type": "text"
      },
      "source": [
        "### if you dont match rows and cols, occur error."
      ]
    },
    {
      "cell_type": "code",
      "metadata": {
        "id": "VL5IOTv7kTFF",
        "colab_type": "code",
        "colab": {
          "base_uri": "https://localhost:8080/",
          "height": 119
        },
        "outputId": "df97b592-a985-4717-c824-1ada2d6f8e59"
      },
      "source": [
        "print(np.append(a_2d_ex, a_2d, axis = 0))\n",
        "print(np.append(a_2d_ex, a_2d, axis = 1))"
      ],
      "execution_count": 204,
      "outputs": [
        {
          "output_type": "stream",
          "text": [
            "[[ 0 10 20]\n",
            " [30 40 50]\n",
            " [ 0  1  2]\n",
            " [ 3  4  5]]\n",
            "[[ 0 10 20  0  1  2]\n",
            " [30 40 50  3  4  5]]\n"
          ],
          "name": "stdout"
        }
      ]
    },
    {
      "cell_type": "code",
      "metadata": {
        "id": "PvZ5XE-ukmx9",
        "colab_type": "code",
        "colab": {
          "base_uri": "https://localhost:8080/",
          "height": 85
        },
        "outputId": "d893d34d-d0f6-4f01-ad4c-a84ef36d694c"
      },
      "source": [
        "print(np.append(a_2d, [[0,10,20], [30,40,50]], axis = 0))"
      ],
      "execution_count": 205,
      "outputs": [
        {
          "output_type": "stream",
          "text": [
            "[[ 0  1  2]\n",
            " [ 3  4  5]\n",
            " [ 0 10 20]\n",
            " [30 40 50]]\n"
          ],
          "name": "stdout"
        }
      ]
    },
    {
      "cell_type": "markdown",
      "metadata": {
        "id": "Kuw_onEwkyDS",
        "colab_type": "text"
      },
      "source": [
        "### .reshape() is great way"
      ]
    },
    {
      "cell_type": "code",
      "metadata": {
        "id": "Lu21MrgfksVp",
        "colab_type": "code",
        "colab": {
          "base_uri": "https://localhost:8080/",
          "height": 85
        },
        "outputId": "a7112c66-8a4b-4dcc-a348-afd011df2b2c"
      },
      "source": [
        "a_row_1d = np.arange(3)*10\n",
        "a_row_2d = np.arange(3).reshape(1,3) * 100\n",
        "print(a_row_2d)\n",
        "print(np.append(a_2d, a_row_2d, axis = 0))"
      ],
      "execution_count": 209,
      "outputs": [
        {
          "output_type": "stream",
          "text": [
            "[[  0 100 200]]\n",
            "[[  0   1   2]\n",
            " [  3   4   5]\n",
            " [  0 100 200]]\n"
          ],
          "name": "stdout"
        }
      ]
    },
    {
      "cell_type": "code",
      "metadata": {
        "id": "nu36nYONk6ys",
        "colab_type": "code",
        "colab": {
          "base_uri": "https://localhost:8080/",
          "height": 85
        },
        "outputId": "a952ed83-84ff-425f-c077-66e43a80e4d8"
      },
      "source": [
        "a_col_2d = np.arange(2).reshape(2,1) * 100\n",
        "print(a_col_2d)\n",
        "print(np.append(a_2d, a_col_2d, axis = 1))"
      ],
      "execution_count": 210,
      "outputs": [
        {
          "output_type": "stream",
          "text": [
            "[[  0]\n",
            " [100]]\n",
            "[[  0   1   2   0]\n",
            " [  3   4   5 100]]\n"
          ],
          "name": "stdout"
        }
      ]
    },
    {
      "cell_type": "markdown",
      "metadata": {
        "id": "1YzowgHwmBkF",
        "colab_type": "text"
      },
      "source": [
        "# np.vstack() is connecting array on vertical"
      ]
    },
    {
      "cell_type": "code",
      "metadata": {
        "id": "sg-OryNHlzYU",
        "colab_type": "code",
        "colab": {
          "base_uri": "https://localhost:8080/",
          "height": 68
        },
        "outputId": "1b0c1d9d-6e4a-47da-db86-f4f74567ecdd"
      },
      "source": [
        "print(np.vstack([a_2d, a_row_1d]))"
      ],
      "execution_count": 211,
      "outputs": [
        {
          "output_type": "stream",
          "text": [
            "[[ 0  1  2]\n",
            " [ 3  4  5]\n",
            " [ 0 10 20]]\n"
          ],
          "name": "stdout"
        }
      ]
    },
    {
      "cell_type": "code",
      "metadata": {
        "id": "xRUdqCX1mPKU",
        "colab_type": "code",
        "colab": {
          "base_uri": "https://localhost:8080/",
          "height": 119
        },
        "outputId": "7e1c5a75-6dc7-4cd7-f446-1d5b32bb6e19"
      },
      "source": [
        "print(np.vstack([a_row_2d, a_2d, a_row_1d, [[0,-1,-2], [-3,-4,-5]]]))"
      ],
      "execution_count": 213,
      "outputs": [
        {
          "output_type": "stream",
          "text": [
            "[[  0 100 200]\n",
            " [  0   1   2]\n",
            " [  3   4   5]\n",
            " [  0  10  20]\n",
            " [  0  -1  -2]\n",
            " [ -3  -4  -5]]\n"
          ],
          "name": "stdout"
        }
      ]
    },
    {
      "cell_type": "markdown",
      "metadata": {
        "id": "H7fq5m4emnUo",
        "colab_type": "text"
      },
      "source": [
        "# np.hstack() is connecting array on horizontal"
      ]
    },
    {
      "cell_type": "code",
      "metadata": {
        "id": "ROR-ABIMmc8j",
        "colab_type": "code",
        "colab": {
          "base_uri": "https://localhost:8080/",
          "height": 51
        },
        "outputId": "aa4db5e5-2953-443d-b90f-c1d5585d5d7a"
      },
      "source": [
        "print(np.hstack([a_col_2d, a_2d, np.arange(2).reshape(2,1) * 10, [[0,-1], [-2,-3]]]))"
      ],
      "execution_count": 214,
      "outputs": [
        {
          "output_type": "stream",
          "text": [
            "[[  0   0   1   2   0   0  -1]\n",
            " [100   3   4   5  10  -2  -3]]\n"
          ],
          "name": "stdout"
        }
      ]
    },
    {
      "cell_type": "code",
      "metadata": {
        "id": "wz4jtm7zm7pt",
        "colab_type": "code",
        "colab": {
          "base_uri": "https://localhost:8080/",
          "height": 153
        },
        "outputId": "7f455432-f50c-4f80-f6cf-9842c654018e"
      },
      "source": [
        "a_3d_ex = np.arange(12).reshape(2,3,2) * 10\n",
        "print(a_3d_ex)\n",
        "print(a_3d_ex.shape)"
      ],
      "execution_count": 215,
      "outputs": [
        {
          "output_type": "stream",
          "text": [
            "[[[  0  10]\n",
            "  [ 20  30]\n",
            "  [ 40  50]]\n",
            "\n",
            " [[ 60  70]\n",
            "  [ 80  90]\n",
            "  [100 110]]]\n",
            "(2, 3, 2)\n"
          ],
          "name": "stdout"
        }
      ]
    },
    {
      "cell_type": "code",
      "metadata": {
        "id": "pSdPPwcZnpdV",
        "colab_type": "code",
        "colab": {
          "base_uri": "https://localhost:8080/",
          "height": 391
        },
        "outputId": "9d4a21b3-2c4c-4c1f-c013-56bfdfd4c664"
      },
      "source": [
        "a_3d = np.arange(12).reshape(2,3,2)\n",
        "print(a_3d)\n",
        "print(np.append(a_3d, a_3d_ex, axis = 0))"
      ],
      "execution_count": 218,
      "outputs": [
        {
          "output_type": "stream",
          "text": [
            "[[[ 0  1]\n",
            "  [ 2  3]\n",
            "  [ 4  5]]\n",
            "\n",
            " [[ 6  7]\n",
            "  [ 8  9]\n",
            "  [10 11]]]\n",
            "[[[  0   1]\n",
            "  [  2   3]\n",
            "  [  4   5]]\n",
            "\n",
            " [[  6   7]\n",
            "  [  8   9]\n",
            "  [ 10  11]]\n",
            "\n",
            " [[  0  10]\n",
            "  [ 20  30]\n",
            "  [ 40  50]]\n",
            "\n",
            " [[ 60  70]\n",
            "  [ 80  90]\n",
            "  [100 110]]]\n"
          ],
          "name": "stdout"
        }
      ]
    },
    {
      "cell_type": "code",
      "metadata": {
        "id": "e2SYZf2Hn0Kf",
        "colab_type": "code",
        "colab": {
          "base_uri": "https://localhost:8080/",
          "height": 34
        },
        "outputId": "2ee0134e-1f0b-4905-cab0-d2bbe7b2e80d"
      },
      "source": [
        "print(np.append(a_3d, a_3d_ex, axis = 0).shape)"
      ],
      "execution_count": 219,
      "outputs": [
        {
          "output_type": "stream",
          "text": [
            "(4, 3, 2)\n"
          ],
          "name": "stdout"
        }
      ]
    },
    {
      "cell_type": "code",
      "metadata": {
        "id": "mq86ChYgoLL3",
        "colab_type": "code",
        "colab": {
          "base_uri": "https://localhost:8080/",
          "height": 238
        },
        "outputId": "96527b99-216a-423d-9edb-09e8bdab38c7"
      },
      "source": [
        "print(np.append(a_3d, a_3d_ex, axis = 1))"
      ],
      "execution_count": 220,
      "outputs": [
        {
          "output_type": "stream",
          "text": [
            "[[[  0   1]\n",
            "  [  2   3]\n",
            "  [  4   5]\n",
            "  [  0  10]\n",
            "  [ 20  30]\n",
            "  [ 40  50]]\n",
            "\n",
            " [[  6   7]\n",
            "  [  8   9]\n",
            "  [ 10  11]\n",
            "  [ 60  70]\n",
            "  [ 80  90]\n",
            "  [100 110]]]\n"
          ],
          "name": "stdout"
        }
      ]
    },
    {
      "cell_type": "code",
      "metadata": {
        "id": "0UaFAhlHoOiK",
        "colab_type": "code",
        "colab": {
          "base_uri": "https://localhost:8080/",
          "height": 34
        },
        "outputId": "323b7f29-ec2f-404e-b897-b23eca1b390b"
      },
      "source": [
        "print(np.append(a_3d, a_3d_ex, axis = 1).shape)"
      ],
      "execution_count": 221,
      "outputs": [
        {
          "output_type": "stream",
          "text": [
            "(2, 6, 2)\n"
          ],
          "name": "stdout"
        }
      ]
    },
    {
      "cell_type": "code",
      "metadata": {
        "id": "ivXg-RoMoRur",
        "colab_type": "code",
        "colab": {
          "base_uri": "https://localhost:8080/",
          "height": 153
        },
        "outputId": "641c2ad5-9889-47fb-fb41-a68b045342e6"
      },
      "source": [
        "print(np.append(a_3d, a_3d_ex, axis = 2))\n",
        "print(np.append(a_3d,a_3d_ex, axis = 2).shape)"
      ],
      "execution_count": 222,
      "outputs": [
        {
          "output_type": "stream",
          "text": [
            "[[[  0   1   0  10]\n",
            "  [  2   3  20  30]\n",
            "  [  4   5  40  50]]\n",
            "\n",
            " [[  6   7  60  70]\n",
            "  [  8   9  80  90]\n",
            "  [ 10  11 100 110]]]\n",
            "(2, 3, 4)\n"
          ],
          "name": "stdout"
        }
      ]
    },
    {
      "cell_type": "markdown",
      "metadata": {
        "id": "cL47tQLfompQ",
        "colab_type": "text"
      },
      "source": [
        "# To using np.concatenate() is able to connect multi array"
      ]
    },
    {
      "cell_type": "code",
      "metadata": {
        "id": "EpvOgytxohJN",
        "colab_type": "code",
        "colab": {
          "base_uri": "https://localhost:8080/",
          "height": 136
        },
        "outputId": "9339d86b-1040-43e7-fe85-ea77d2eaebf4"
      },
      "source": [
        "print(np.concatenate([a_3d_ex, a_3d, a_3d_ex], axis = 2))"
      ],
      "execution_count": 224,
      "outputs": [
        {
          "output_type": "stream",
          "text": [
            "[[[  0  10   0   1   0  10]\n",
            "  [ 20  30   2   3  20  30]\n",
            "  [ 40  50   4   5  40  50]]\n",
            "\n",
            " [[ 60  70   6   7  60  70]\n",
            "  [ 80  90   8   9  80  90]\n",
            "  [100 110  10  11 100 110]]]\n"
          ],
          "name": "stdout"
        }
      ]
    },
    {
      "cell_type": "markdown",
      "metadata": {
        "id": "4VD-MljwpvON",
        "colab_type": "text"
      },
      "source": [
        "# Insert\n",
        "argument:<br>\n",
        "* arr\n",
        "* obj\n",
        "* value\n",
        "*axis"
      ]
    },
    {
      "cell_type": "code",
      "metadata": {
        "id": "8bG2iqlKokkr",
        "colab_type": "code",
        "colab": {
          "base_uri": "https://localhost:8080/",
          "height": 51
        },
        "outputId": "8ecaee89-21d2-484c-b4d7-17474b07615e"
      },
      "source": [
        "a = np.arange(4)\n",
        "print(a)\n",
        "print(np.insert(a, 2, 100))"
      ],
      "execution_count": 225,
      "outputs": [
        {
          "output_type": "stream",
          "text": [
            "[0 1 2 3]\n",
            "[  0   1 100   2   3]\n"
          ],
          "name": "stdout"
        }
      ]
    },
    {
      "cell_type": "code",
      "metadata": {
        "id": "4zvAVq_nqTI7",
        "colab_type": "code",
        "colab": {
          "base_uri": "https://localhost:8080/",
          "height": 51
        },
        "outputId": "2c1a856b-3afe-49fa-8dca-0cf326c40861"
      },
      "source": [
        "print(np.insert(a,1,[100,101,102]))\n",
        "print(np.insert(a, [0,2,4], [100,101,102]))"
      ],
      "execution_count": 227,
      "outputs": [
        {
          "output_type": "stream",
          "text": [
            "[  0 100 101 102   1   2   3]\n",
            "[100   0   1 101   2   3 102]\n"
          ],
          "name": "stdout"
        }
      ]
    },
    {
      "cell_type": "markdown",
      "metadata": {
        "id": "E_OiAy2oqqMX",
        "colab_type": "text"
      },
      "source": [
        "## delete"
      ]
    },
    {
      "cell_type": "code",
      "metadata": {
        "id": "pXtQQx0Mqem7",
        "colab_type": "code",
        "colab": {
          "base_uri": "https://localhost:8080/",
          "height": 34
        },
        "outputId": "35fb8ad4-4495-4699-b82a-6fbef0ecd4dd"
      },
      "source": [
        "_a = np.insert(a, 1, [100,101,102])\n",
        "_a = np.delete(_a, 4)\n",
        "print(_a)"
      ],
      "execution_count": 228,
      "outputs": [
        {
          "output_type": "stream",
          "text": [
            "[  0 100 101 102   2   3]\n"
          ],
          "name": "stdout"
        }
      ]
    },
    {
      "cell_type": "code",
      "metadata": {
        "id": "haoKOqiBqvoP",
        "colab_type": "code",
        "colab": {
          "base_uri": "https://localhost:8080/",
          "height": 85
        },
        "outputId": "625b7c86-dc5f-4635-9f60-765e2555ccf5"
      },
      "source": [
        "a = np.arange(12).reshape((3,4))\n",
        "print(a)\n",
        "print(np.insert(a,2,100))"
      ],
      "execution_count": 229,
      "outputs": [
        {
          "output_type": "stream",
          "text": [
            "[[ 0  1  2  3]\n",
            " [ 4  5  6  7]\n",
            " [ 8  9 10 11]]\n",
            "[  0   1 100   2   3   4   5   6   7   8   9  10  11]\n"
          ],
          "name": "stdout"
        }
      ]
    },
    {
      "cell_type": "code",
      "metadata": {
        "id": "8--AgAPIq62S",
        "colab_type": "code",
        "colab": {
          "base_uri": "https://localhost:8080/",
          "height": 85
        },
        "outputId": "92b24cfd-9802-4d0e-f256-493c840c2052"
      },
      "source": [
        "print(np.insert(a,2,100,axis=0))"
      ],
      "execution_count": 230,
      "outputs": [
        {
          "output_type": "stream",
          "text": [
            "[[  0   1   2   3]\n",
            " [  4   5   6   7]\n",
            " [100 100 100 100]\n",
            " [  8   9  10  11]]\n"
          ],
          "name": "stdout"
        }
      ]
    },
    {
      "cell_type": "code",
      "metadata": {
        "id": "1kKfA3W7q-Ck",
        "colab_type": "code",
        "colab": {
          "base_uri": "https://localhost:8080/",
          "height": 102
        },
        "outputId": "c5c75ba6-d198-4211-f610-1d1452f8de96"
      },
      "source": [
        "b1 = np.arange(100,104)\n",
        "print(b1)\n",
        "print(np.insert(a, 1, b1, axis = 0))"
      ],
      "execution_count": 231,
      "outputs": [
        {
          "output_type": "stream",
          "text": [
            "[100 101 102 103]\n",
            "[[  0   1   2   3]\n",
            " [100 101 102 103]\n",
            " [  4   5   6   7]\n",
            " [  8   9  10  11]]\n"
          ],
          "name": "stdout"
        }
      ]
    },
    {
      "cell_type": "code",
      "metadata": {
        "id": "zMlMIYZYrFI8",
        "colab_type": "code",
        "colab": {
          "base_uri": "https://localhost:8080/",
          "height": 170
        },
        "outputId": "3119aa97-8831-4423-eb90-0d13ed44ae88"
      },
      "source": [
        "print(np.insert(a, 3, b1, axis = 0))\n",
        "print(np.insert(a, [0,2], b1, axis = 0))"
      ],
      "execution_count": 232,
      "outputs": [
        {
          "output_type": "stream",
          "text": [
            "[[  0   1   2   3]\n",
            " [  4   5   6   7]\n",
            " [  8   9  10  11]\n",
            " [100 101 102 103]]\n",
            "[[100 101 102 103]\n",
            " [  0   1   2   3]\n",
            " [  4   5   6   7]\n",
            " [100 101 102 103]\n",
            " [  8   9  10  11]]\n"
          ],
          "name": "stdout"
        }
      ]
    },
    {
      "cell_type": "markdown",
      "metadata": {
        "id": "MFXqUBVWrhaG",
        "colab_type": "text"
      },
      "source": [
        "### insert 2-dimension"
      ]
    },
    {
      "cell_type": "code",
      "metadata": {
        "id": "ab3bF789rS1y",
        "colab_type": "code",
        "colab": {
          "base_uri": "https://localhost:8080/",
          "height": 170
        },
        "outputId": "4444f744-a064-470e-92d8-3fee800767dd"
      },
      "source": [
        "b2 = np.arange(100,112).reshape((3,4))\n",
        "print(b2)\n",
        "print(np.insert(a,2,b2,axis = 0))"
      ],
      "execution_count": 233,
      "outputs": [
        {
          "output_type": "stream",
          "text": [
            "[[100 101 102 103]\n",
            " [104 105 106 107]\n",
            " [108 109 110 111]]\n",
            "[[  0   1   2   3]\n",
            " [  4   5   6   7]\n",
            " [100 101 102 103]\n",
            " [104 105 106 107]\n",
            " [108 109 110 111]\n",
            " [  8   9  10  11]]\n"
          ],
          "name": "stdout"
        }
      ]
    },
    {
      "cell_type": "code",
      "metadata": {
        "id": "qKM1QTgWrnjj",
        "colab_type": "code",
        "colab": {
          "base_uri": "https://localhost:8080/",
          "height": 85
        },
        "outputId": "ab22ea70-0ce1-4082-e0d0-45d68f1c3c6e"
      },
      "source": [
        "print(np.insert(a,2,b2[2], axis = 0))"
      ],
      "execution_count": 234,
      "outputs": [
        {
          "output_type": "stream",
          "text": [
            "[[  0   1   2   3]\n",
            " [  4   5   6   7]\n",
            " [108 109 110 111]\n",
            " [  8   9  10  11]]\n"
          ],
          "name": "stdout"
        }
      ]
    },
    {
      "cell_type": "code",
      "metadata": {
        "id": "5uBk76qerp6x",
        "colab_type": "code",
        "colab": {
          "base_uri": "https://localhost:8080/",
          "height": 119
        },
        "outputId": "ea759f75-abb3-461d-9e14-55df1b5793bf"
      },
      "source": [
        "print(np.insert(a,range(3), b2, axis = 0))"
      ],
      "execution_count": 235,
      "outputs": [
        {
          "output_type": "stream",
          "text": [
            "[[100 101 102 103]\n",
            " [  0   1   2   3]\n",
            " [104 105 106 107]\n",
            " [  4   5   6   7]\n",
            " [108 109 110 111]\n",
            " [  8   9  10  11]]\n"
          ],
          "name": "stdout"
        }
      ]
    },
    {
      "cell_type": "code",
      "metadata": {
        "id": "6PbEfp6yrteR",
        "colab_type": "code",
        "colab": {
          "base_uri": "https://localhost:8080/",
          "height": 187
        },
        "outputId": "de843427-c9ad-4598-8684-5048c4b0fbd3"
      },
      "source": [
        "print(np.vstack((a,b1)))\n",
        "print(np.vstack((b2,a)))"
      ],
      "execution_count": 236,
      "outputs": [
        {
          "output_type": "stream",
          "text": [
            "[[  0   1   2   3]\n",
            " [  4   5   6   7]\n",
            " [  8   9  10  11]\n",
            " [100 101 102 103]]\n",
            "[[100 101 102 103]\n",
            " [104 105 106 107]\n",
            " [108 109 110 111]\n",
            " [  0   1   2   3]\n",
            " [  4   5   6   7]\n",
            " [  8   9  10  11]]\n"
          ],
          "name": "stdout"
        }
      ]
    },
    {
      "cell_type": "code",
      "metadata": {
        "id": "hF5aYHmFr3Ks",
        "colab_type": "code",
        "colab": {}
      },
      "source": [
        "_a = a.copy()"
      ],
      "execution_count": 237,
      "outputs": []
    },
    {
      "cell_type": "code",
      "metadata": {
        "id": "eEi7eGsdr7_B",
        "colab_type": "code",
        "colab": {
          "base_uri": "https://localhost:8080/",
          "height": 68
        },
        "outputId": "1898dba9-67fd-4cd5-a52a-8563572a279e"
      },
      "source": [
        "_a[2] = b1\n",
        "print(_a)"
      ],
      "execution_count": 238,
      "outputs": [
        {
          "output_type": "stream",
          "text": [
            "[[  0   1   2   3]\n",
            " [  4   5   6   7]\n",
            " [100 101 102 103]]\n"
          ],
          "name": "stdout"
        }
      ]
    },
    {
      "cell_type": "code",
      "metadata": {
        "id": "q_--7IUxr-6B",
        "colab_type": "code",
        "colab": {
          "base_uri": "https://localhost:8080/",
          "height": 68
        },
        "outputId": "73ac4fb9-01be-48aa-912e-c86f1c369193"
      },
      "source": [
        "_a = a.copy()\n",
        "_a[1] = b2[1]\n",
        "print(_a)"
      ],
      "execution_count": 240,
      "outputs": [
        {
          "output_type": "stream",
          "text": [
            "[[  0   1   2   3]\n",
            " [104 105 106 107]\n",
            " [  8   9  10  11]]\n"
          ],
          "name": "stdout"
        }
      ]
    },
    {
      "cell_type": "code",
      "metadata": {
        "id": "_6JfVie-sBSZ",
        "colab_type": "code",
        "colab": {
          "base_uri": "https://localhost:8080/",
          "height": 68
        },
        "outputId": "2e194e3d-65f6-4dd6-edf1-eba3328a477b"
      },
      "source": [
        "_a = a.copy()\n",
        "_a[1:] = b2[[0,2]]\n",
        "print(_a)"
      ],
      "execution_count": 241,
      "outputs": [
        {
          "output_type": "stream",
          "text": [
            "[[  0   1   2   3]\n",
            " [100 101 102 103]\n",
            " [108 109 110 111]]\n"
          ],
          "name": "stdout"
        }
      ]
    },
    {
      "cell_type": "markdown",
      "metadata": {
        "id": "Y6ixJjx2sLC_",
        "colab_type": "text"
      },
      "source": [
        "## insert to columns"
      ]
    },
    {
      "cell_type": "code",
      "metadata": {
        "id": "XTN3M1FksJPm",
        "colab_type": "code",
        "colab": {
          "base_uri": "https://localhost:8080/",
          "height": 68
        },
        "outputId": "bd88bcab-ed9e-4042-cebd-2cb770c0c0d9"
      },
      "source": [
        "print(a)"
      ],
      "execution_count": 242,
      "outputs": [
        {
          "output_type": "stream",
          "text": [
            "[[ 0  1  2  3]\n",
            " [ 4  5  6  7]\n",
            " [ 8  9 10 11]]\n"
          ],
          "name": "stdout"
        }
      ]
    },
    {
      "cell_type": "code",
      "metadata": {
        "id": "0l38lF5isPXR",
        "colab_type": "code",
        "colab": {
          "base_uri": "https://localhost:8080/",
          "height": 68
        },
        "outputId": "c2d23f57-278c-4595-d943-beb51077ea15"
      },
      "source": [
        "print(np.insert(a,1,100,axis = 1))"
      ],
      "execution_count": 243,
      "outputs": [
        {
          "output_type": "stream",
          "text": [
            "[[  0 100   1   2   3]\n",
            " [  4 100   5   6   7]\n",
            " [  8 100   9  10  11]]\n"
          ],
          "name": "stdout"
        }
      ]
    },
    {
      "cell_type": "code",
      "metadata": {
        "id": "F9N_ec_LsSlo",
        "colab_type": "code",
        "colab": {
          "base_uri": "https://localhost:8080/",
          "height": 34
        },
        "outputId": "0f2e2458-8e5c-4b8e-bd5f-9f15ba9c0f9f"
      },
      "source": [
        "c1 = np.arange(100,103)\n",
        "print(c1)"
      ],
      "execution_count": 244,
      "outputs": [
        {
          "output_type": "stream",
          "text": [
            "[100 101 102]\n"
          ],
          "name": "stdout"
        }
      ]
    },
    {
      "cell_type": "code",
      "metadata": {
        "id": "80sS8gUhsUSM",
        "colab_type": "code",
        "colab": {
          "base_uri": "https://localhost:8080/",
          "height": 119
        },
        "outputId": "43ee0215-818e-4357-c142-4a1ccc1a47f6"
      },
      "source": [
        "print(np.insert(a, 1, c1, axis = 1))\n",
        "print(np.insert(a, 3, c1, axis = 1))"
      ],
      "execution_count": 245,
      "outputs": [
        {
          "output_type": "stream",
          "text": [
            "[[  0 100   1   2   3]\n",
            " [  4 101   5   6   7]\n",
            " [  8 102   9  10  11]]\n",
            "[[  0   1   2 100   3]\n",
            " [  4   5   6 101   7]\n",
            " [  8   9  10 102  11]]\n"
          ],
          "name": "stdout"
        }
      ]
    },
    {
      "cell_type": "markdown",
      "metadata": {
        "id": "4XY2FM6OscK-",
        "colab_type": "text"
      },
      "source": [
        "-> 2-dimension is attention !"
      ]
    },
    {
      "cell_type": "code",
      "metadata": {
        "id": "1LIrlonOsZkj",
        "colab_type": "code",
        "colab": {
          "base_uri": "https://localhost:8080/",
          "height": 170
        },
        "outputId": "075b9773-c045-44db-8831-b2851268ebd7"
      },
      "source": [
        "c2 = np.arange(100,106).reshape((3,2))\n",
        "print(c2)\n",
        "print(np.insert(a, [1], c2, axis = 1))\n",
        "print(np.insert(a,[0,2], c2, axis = 1))"
      ],
      "execution_count": 246,
      "outputs": [
        {
          "output_type": "stream",
          "text": [
            "[[100 101]\n",
            " [102 103]\n",
            " [104 105]]\n",
            "[[  0 100 101   1   2   3]\n",
            " [  4 102 103   5   6   7]\n",
            " [  8 104 105   9  10  11]]\n",
            "[[100   0   1 101   2   3]\n",
            " [102   4   5 103   6   7]\n",
            " [104   8   9 105  10  11]]\n"
          ],
          "name": "stdout"
        }
      ]
    },
    {
      "cell_type": "markdown",
      "metadata": {
        "id": "pxDNhyLOs3XR",
        "colab_type": "text"
      },
      "source": [
        "### assumption is different ... ? show below"
      ]
    },
    {
      "cell_type": "code",
      "metadata": {
        "id": "Y2j1kW1Yslsy",
        "colab_type": "code",
        "colab": {
          "base_uri": "https://localhost:8080/",
          "height": 34
        },
        "outputId": "17adbea6-81c0-405f-9b03-525b8b859be1"
      },
      "source": [
        "print(c1)"
      ],
      "execution_count": 247,
      "outputs": [
        {
          "output_type": "stream",
          "text": [
            "[100 101 102]\n"
          ],
          "name": "stdout"
        }
      ]
    },
    {
      "cell_type": "code",
      "metadata": {
        "id": "s2NqG5vws8aR",
        "colab_type": "code",
        "colab": {
          "base_uri": "https://localhost:8080/",
          "height": 68
        },
        "outputId": "d6ccae96-8b00-417b-ebaa-33f592cb6394"
      },
      "source": [
        "print(np.insert(a, 1, c1, axis = 1))"
      ],
      "execution_count": 248,
      "outputs": [
        {
          "output_type": "stream",
          "text": [
            "[[  0 100   1   2   3]\n",
            " [  4 101   5   6   7]\n",
            " [  8 102   9  10  11]]\n"
          ],
          "name": "stdout"
        }
      ]
    },
    {
      "cell_type": "code",
      "metadata": {
        "id": "kWCZsBq3s-rY",
        "colab_type": "code",
        "colab": {
          "base_uri": "https://localhost:8080/",
          "height": 68
        },
        "outputId": "b9745959-c94a-4fa0-d3c5-e28b23b26534"
      },
      "source": [
        "print(np.insert(a, [1], c1, axis = 1))"
      ],
      "execution_count": 249,
      "outputs": [
        {
          "output_type": "stream",
          "text": [
            "[[  0 100 101 102   1   2   3]\n",
            " [  4 100 101 102   5   6   7]\n",
            " [  8 100 101 102   9  10  11]]\n"
          ],
          "name": "stdout"
        }
      ]
    },
    {
      "cell_type": "code",
      "metadata": {
        "id": "PThuTeV0tBIf",
        "colab_type": "code",
        "colab": {
          "base_uri": "https://localhost:8080/",
          "height": 68
        },
        "outputId": "f42ad91b-07c3-4039-a8c4-c69f364f5ef4"
      },
      "source": [
        "print(np.insert(a, [1,3,4], c1, axis = 1))"
      ],
      "execution_count": 250,
      "outputs": [
        {
          "output_type": "stream",
          "text": [
            "[[  0 100   1   2 101   3 102]\n",
            " [  4 100   5   6 101   7 102]\n",
            " [  8 100   9  10 101  11 102]]\n"
          ],
          "name": "stdout"
        }
      ]
    },
    {
      "cell_type": "code",
      "metadata": {
        "id": "lNrQwHiNtE3Y",
        "colab_type": "code",
        "colab": {
          "base_uri": "https://localhost:8080/",
          "height": 68
        },
        "outputId": "1ddbcbb1-27cc-4fc3-8e2d-7be621e1b5b2"
      },
      "source": [
        "_c1 = c1.reshape((3,1))\n",
        "print(_c1)"
      ],
      "execution_count": 251,
      "outputs": [
        {
          "output_type": "stream",
          "text": [
            "[[100]\n",
            " [101]\n",
            " [102]]\n"
          ],
          "name": "stdout"
        }
      ]
    },
    {
      "cell_type": "code",
      "metadata": {
        "id": "OG5sGo4XtIqQ",
        "colab_type": "code",
        "colab": {
          "base_uri": "https://localhost:8080/",
          "height": 68
        },
        "outputId": "fa661db7-6cd5-4fdd-d941-d19afacd9463"
      },
      "source": [
        "print(np.insert(a, 1 , _c1, axis = 1))"
      ],
      "execution_count": 252,
      "outputs": [
        {
          "output_type": "stream",
          "text": [
            "[[  0 100 101 102   1   2   3]\n",
            " [  4 100 101 102   5   6   7]\n",
            " [  8 100 101 102   9  10  11]]\n"
          ],
          "name": "stdout"
        }
      ]
    },
    {
      "cell_type": "code",
      "metadata": {
        "id": "fytiPcCutN4x",
        "colab_type": "code",
        "colab": {
          "base_uri": "https://localhost:8080/",
          "height": 68
        },
        "outputId": "970250e8-d179-439c-d75e-9caf9dea89e5"
      },
      "source": [
        "print(np.insert(a, [1], _c1, axis = 1))"
      ],
      "execution_count": 253,
      "outputs": [
        {
          "output_type": "stream",
          "text": [
            "[[  0 100   1   2   3]\n",
            " [  4 101   5   6   7]\n",
            " [  8 102   9  10  11]]\n"
          ],
          "name": "stdout"
        }
      ]
    },
    {
      "cell_type": "code",
      "metadata": {
        "id": "jswX1rVhtQOJ",
        "colab_type": "code",
        "colab": {
          "base_uri": "https://localhost:8080/",
          "height": 68
        },
        "outputId": "d2fb0ad6-3d35-4951-cf52-bcf5dccd4aee"
      },
      "source": [
        "print(np.insert(a, [1,3,4], _c1, axis = 1))"
      ],
      "execution_count": 254,
      "outputs": [
        {
          "output_type": "stream",
          "text": [
            "[[  0 100   1   2 100   3 100]\n",
            " [  4 101   5   6 101   7 101]\n",
            " [  8 102   9  10 102  11 102]]\n"
          ],
          "name": "stdout"
        }
      ]
    },
    {
      "cell_type": "markdown",
      "metadata": {
        "id": "dMQIEor6tgMd",
        "colab_type": "text"
      },
      "source": [
        "# numpy.hstack() stand and end"
      ]
    },
    {
      "cell_type": "code",
      "metadata": {
        "id": "pPtxpz-StTVR",
        "colab_type": "code",
        "colab": {
          "base_uri": "https://localhost:8080/",
          "height": 68
        },
        "outputId": "98bff3f1-bfcf-4e64-e86c-410c43b6bb06"
      },
      "source": [
        "print(_c1)"
      ],
      "execution_count": 255,
      "outputs": [
        {
          "output_type": "stream",
          "text": [
            "[[100]\n",
            " [101]\n",
            " [102]]\n"
          ],
          "name": "stdout"
        }
      ]
    },
    {
      "cell_type": "code",
      "metadata": {
        "id": "k-v9mk7ttrfR",
        "colab_type": "code",
        "colab": {
          "base_uri": "https://localhost:8080/",
          "height": 68
        },
        "outputId": "7fe01576-801e-4a44-c5c1-8870ddb0869a"
      },
      "source": [
        "print(np.hstack((a,_c1)))"
      ],
      "execution_count": 256,
      "outputs": [
        {
          "output_type": "stream",
          "text": [
            "[[  0   1   2   3 100]\n",
            " [  4   5   6   7 101]\n",
            " [  8   9  10  11 102]]\n"
          ],
          "name": "stdout"
        }
      ]
    },
    {
      "cell_type": "code",
      "metadata": {
        "id": "0bSI4dVdttcR",
        "colab_type": "code",
        "colab": {
          "base_uri": "https://localhost:8080/",
          "height": 68
        },
        "outputId": "be78cfcd-1ebc-4b66-b1a0-a9bc4c1f7102"
      },
      "source": [
        "print(np.hstack((_c1,a)))"
      ],
      "execution_count": 257,
      "outputs": [
        {
          "output_type": "stream",
          "text": [
            "[[100   0   1   2   3]\n",
            " [101   4   5   6   7]\n",
            " [102   8   9  10  11]]\n"
          ],
          "name": "stdout"
        }
      ]
    },
    {
      "cell_type": "code",
      "metadata": {
        "id": "UPXnOTdNtwu5",
        "colab_type": "code",
        "colab": {
          "base_uri": "https://localhost:8080/",
          "height": 119
        },
        "outputId": "3d279331-fb01-4601-d81c-a8c2177c59b3"
      },
      "source": [
        "print(np.hstack((a,c2)))\n",
        "print(np.hstack((c2,a)))"
      ],
      "execution_count": 258,
      "outputs": [
        {
          "output_type": "stream",
          "text": [
            "[[  0   1   2   3 100 101]\n",
            " [  4   5   6   7 102 103]\n",
            " [  8   9  10  11 104 105]]\n",
            "[[100 101   0   1   2   3]\n",
            " [102 103   4   5   6   7]\n",
            " [104 105   8   9  10  11]]\n"
          ],
          "name": "stdout"
        }
      ]
    },
    {
      "cell_type": "code",
      "metadata": {
        "id": "R0rPOp6lt0Nh",
        "colab_type": "code",
        "colab": {
          "base_uri": "https://localhost:8080/",
          "height": 68
        },
        "outputId": "802dc818-6e4c-4200-95e6-1c158a1cb4b4"
      },
      "source": [
        "_a = a.copy()\n",
        "_a[:,1] = c1\n",
        "print(_a)"
      ],
      "execution_count": 259,
      "outputs": [
        {
          "output_type": "stream",
          "text": [
            "[[  0 100   2   3]\n",
            " [  4 101   6   7]\n",
            " [  8 102  10  11]]\n"
          ],
          "name": "stdout"
        }
      ]
    },
    {
      "cell_type": "markdown",
      "metadata": {
        "id": "fLXLL2uAuFGf",
        "colab_type": "text"
      },
      "source": [
        "# np.delete\n",
        "arguments\n",
        "* arr\n",
        "* obj\n",
        "* axis"
      ]
    },
    {
      "cell_type": "code",
      "metadata": {
        "id": "VhvpIgTAt4MR",
        "colab_type": "code",
        "colab": {
          "base_uri": "https://localhost:8080/",
          "height": 68
        },
        "outputId": "603a4fd7-8ebb-496f-f157-da6cb08df571"
      },
      "source": [
        "a = np.arange(12).reshape(3,4)\n",
        "print(a)"
      ],
      "execution_count": 260,
      "outputs": [
        {
          "output_type": "stream",
          "text": [
            "[[ 0  1  2  3]\n",
            " [ 4  5  6  7]\n",
            " [ 8  9 10 11]]\n"
          ],
          "name": "stdout"
        }
      ]
    },
    {
      "cell_type": "code",
      "metadata": {
        "id": "JBe2iLAHuR1h",
        "colab_type": "code",
        "colab": {
          "base_uri": "https://localhost:8080/",
          "height": 102
        },
        "outputId": "071a7f03-cad7-4e50-a7a7-856045df64f2"
      },
      "source": [
        "a_del = np.delete(a, 1, 0)\n",
        "print(a_del)\n",
        "print(a)"
      ],
      "execution_count": 261,
      "outputs": [
        {
          "output_type": "stream",
          "text": [
            "[[ 0  1  2  3]\n",
            " [ 8  9 10 11]]\n",
            "[[ 0  1  2  3]\n",
            " [ 4  5  6  7]\n",
            " [ 8  9 10 11]]\n"
          ],
          "name": "stdout"
        }
      ]
    },
    {
      "cell_type": "code",
      "metadata": {
        "id": "bb7pJ4TauUgB",
        "colab_type": "code",
        "colab": {
          "base_uri": "https://localhost:8080/",
          "height": 51
        },
        "outputId": "1ef86d8a-e838-49e5-9238-d20266141ed5"
      },
      "source": [
        "print(np.delete(a, 0, 0))"
      ],
      "execution_count": 262,
      "outputs": [
        {
          "output_type": "stream",
          "text": [
            "[[ 4  5  6  7]\n",
            " [ 8  9 10 11]]\n"
          ],
          "name": "stdout"
        }
      ]
    },
    {
      "cell_type": "code",
      "metadata": {
        "id": "XhHUUpeduXar",
        "colab_type": "code",
        "colab": {
          "base_uri": "https://localhost:8080/",
          "height": 51
        },
        "outputId": "66f5d571-0537-4f8d-dc77-3e8de2a76da5"
      },
      "source": [
        "print(np.delete(a, 2, 0))"
      ],
      "execution_count": 263,
      "outputs": [
        {
          "output_type": "stream",
          "text": [
            "[[0 1 2 3]\n",
            " [4 5 6 7]]\n"
          ],
          "name": "stdout"
        }
      ]
    },
    {
      "cell_type": "code",
      "metadata": {
        "id": "5noXBX-huaBA",
        "colab_type": "code",
        "colab": {
          "base_uri": "https://localhost:8080/",
          "height": 51
        },
        "outputId": "48daf097-6687-4af0-803c-394359c8a922"
      },
      "source": [
        "print(np.delete(a,1,0))"
      ],
      "execution_count": 264,
      "outputs": [
        {
          "output_type": "stream",
          "text": [
            "[[ 0  1  2  3]\n",
            " [ 8  9 10 11]]\n"
          ],
          "name": "stdout"
        }
      ]
    },
    {
      "cell_type": "code",
      "metadata": {
        "id": "sVRp6F64unhR",
        "colab_type": "code",
        "colab": {
          "base_uri": "https://localhost:8080/",
          "height": 68
        },
        "outputId": "7ea50dc2-2284-449d-8c8e-601971de2a9d"
      },
      "source": [
        "print(np.delete(a,1,1))"
      ],
      "execution_count": 265,
      "outputs": [
        {
          "output_type": "stream",
          "text": [
            "[[ 0  2  3]\n",
            " [ 4  6  7]\n",
            " [ 8 10 11]]\n"
          ],
          "name": "stdout"
        }
      ]
    },
    {
      "cell_type": "code",
      "metadata": {
        "id": "ADa1mT-guq9Z",
        "colab_type": "code",
        "colab": {
          "base_uri": "https://localhost:8080/",
          "height": 51
        },
        "outputId": "2cdcf0ee-e817-491e-db8d-a1ca8ba19592"
      },
      "source": [
        "print(np.delete(a, 1, None))\n",
        "print(np.delete(a, 1))"
      ],
      "execution_count": 266,
      "outputs": [
        {
          "output_type": "stream",
          "text": [
            "[ 0  2  3  4  5  6  7  8  9 10 11]\n",
            "[ 0  2  3  4  5  6  7  8  9 10 11]\n"
          ],
          "name": "stdout"
        }
      ]
    },
    {
      "cell_type": "markdown",
      "metadata": {
        "id": "20DcPMRUu4oN",
        "colab_type": "text"
      },
      "source": [
        "## delete multiple rows and cols"
      ]
    },
    {
      "cell_type": "code",
      "metadata": {
        "id": "iGQyA1diu286",
        "colab_type": "code",
        "colab": {
          "base_uri": "https://localhost:8080/",
          "height": 119
        },
        "outputId": "2f0cec33-2ed0-47b5-f214-f23993c2e0a7"
      },
      "source": [
        "print(np.delete(a, [0, 3], 1))\n",
        "print(np.delete(a, [0, 1, 3], 1))"
      ],
      "execution_count": 267,
      "outputs": [
        {
          "output_type": "stream",
          "text": [
            "[[ 1  2]\n",
            " [ 5  6]\n",
            " [ 9 10]]\n",
            "[[ 2]\n",
            " [ 6]\n",
            " [10]]\n"
          ],
          "name": "stdout"
        }
      ]
    },
    {
      "cell_type": "markdown",
      "metadata": {
        "id": "1ACfDI8wvQzu",
        "colab_type": "text"
      },
      "source": [
        "### using .slice()\n",
        "* (start,stop,step)"
      ]
    },
    {
      "cell_type": "code",
      "metadata": {
        "id": "sPIcQlXWvAfR",
        "colab_type": "code",
        "colab": {
          "base_uri": "https://localhost:8080/",
          "height": 170
        },
        "outputId": "2432b2f4-b82a-4d49-ab42-a22b5868cd7e"
      },
      "source": [
        "print(np.delete(a, slice(2), 1)) # 0,1\n",
        "print(np.delete(a, slice(1, 3), 1)) # 1 ~ 2\n",
        "print(np.delete(a, slice(None, None, 2), 1)) # 0,2"
      ],
      "execution_count": 269,
      "outputs": [
        {
          "output_type": "stream",
          "text": [
            "[[ 2  3]\n",
            " [ 6  7]\n",
            " [10 11]]\n",
            "[[ 0  3]\n",
            " [ 4  7]\n",
            " [ 8 11]]\n",
            "[[ 1  3]\n",
            " [ 5  7]\n",
            " [ 9 11]]\n"
          ],
          "name": "stdout"
        }
      ]
    },
    {
      "cell_type": "markdown",
      "metadata": {
        "id": "FUesLsixvxOo",
        "colab_type": "text"
      },
      "source": [
        "### using np.s_ ?  if you write [start:stop:step]"
      ]
    },
    {
      "cell_type": "code",
      "metadata": {
        "id": "zi42wfTVvfUY",
        "colab_type": "code",
        "colab": {
          "base_uri": "https://localhost:8080/",
          "height": 170
        },
        "outputId": "6fee63c8-e8a2-463a-8c11-875745d0b68f"
      },
      "source": [
        "print(np.delete(a, np.s_[:2], 1))\n",
        "print(np.delete(a, np.s_[1:3], 1))\n",
        "print(np.delete(a, np.s_[::2], 1))"
      ],
      "execution_count": 270,
      "outputs": [
        {
          "output_type": "stream",
          "text": [
            "[[ 2  3]\n",
            " [ 6  7]\n",
            " [10 11]]\n",
            "[[ 0  3]\n",
            " [ 4  7]\n",
            " [ 8 11]]\n",
            "[[ 1  3]\n",
            " [ 5  7]\n",
            " [ 9 11]]\n"
          ],
          "name": "stdout"
        }
      ]
    },
    {
      "cell_type": "markdown",
      "metadata": {
        "id": "sPrvKh3SwJET",
        "colab_type": "text"
      },
      "source": [
        "# multi matrix , delete() repeated"
      ]
    },
    {
      "cell_type": "code",
      "metadata": {
        "id": "meFsFnczwBU4",
        "colab_type": "code",
        "colab": {
          "base_uri": "https://localhost:8080/",
          "height": 102
        },
        "outputId": "c16f4479-8bb9-4079-aab6-04fdd79b55f0"
      },
      "source": [
        "print(a)\n",
        "print(np.delete(np.delete(a, 1, 0), 1, 1))"
      ],
      "execution_count": 276,
      "outputs": [
        {
          "output_type": "stream",
          "text": [
            "[[ 0  1  2  3]\n",
            " [ 4  5  6  7]\n",
            " [ 8  9 10 11]]\n",
            "[[ 0  2  3]\n",
            " [ 8 10 11]]\n"
          ],
          "name": "stdout"
        }
      ]
    },
    {
      "cell_type": "markdown",
      "metadata": {
        "id": "8xQP6fGpxfjB",
        "colab_type": "text"
      },
      "source": [
        "### 3-dimension way"
      ]
    },
    {
      "cell_type": "code",
      "metadata": {
        "id": "eT1pInHLwQd4",
        "colab_type": "code",
        "colab": {
          "base_uri": "https://localhost:8080/",
          "height": 153
        },
        "outputId": "f0cabd95-6a19-47f7-b882-493d290242be"
      },
      "source": [
        "a_3d = np.arange(24).reshape(2,3,4)\n",
        "print(a_3d)\n",
        "print(a_3d.shape)"
      ],
      "execution_count": 280,
      "outputs": [
        {
          "output_type": "stream",
          "text": [
            "[[[ 0  1  2  3]\n",
            "  [ 4  5  6  7]\n",
            "  [ 8  9 10 11]]\n",
            "\n",
            " [[12 13 14 15]\n",
            "  [16 17 18 19]\n",
            "  [20 21 22 23]]]\n",
            "(2, 3, 4)\n"
          ],
          "name": "stdout"
        }
      ]
    },
    {
      "cell_type": "code",
      "metadata": {
        "id": "EFZLPtxNxj13",
        "colab_type": "code",
        "colab": {
          "base_uri": "https://localhost:8080/",
          "height": 272
        },
        "outputId": "85654534-b0c2-4965-eda8-f1dee8301277"
      },
      "source": [
        "print(np.delete(a_3d, 1, 0))\n",
        "print(np.delete(a_3d, 1, 1))\n",
        "print(np.delete(a_3d, 1, 2)) # (:,:,1)"
      ],
      "execution_count": 281,
      "outputs": [
        {
          "output_type": "stream",
          "text": [
            "[[[ 0  1  2  3]\n",
            "  [ 4  5  6  7]\n",
            "  [ 8  9 10 11]]]\n",
            "[[[ 0  1  2  3]\n",
            "  [ 8  9 10 11]]\n",
            "\n",
            " [[12 13 14 15]\n",
            "  [20 21 22 23]]]\n",
            "[[[ 0  2  3]\n",
            "  [ 4  6  7]\n",
            "  [ 8 10 11]]\n",
            "\n",
            " [[12 14 15]\n",
            "  [16 18 19]\n",
            "  [20 22 23]]]\n"
          ],
          "name": "stdout"
        }
      ]
    },
    {
      "cell_type": "code",
      "metadata": {
        "id": "VPUaBGa8xrRo",
        "colab_type": "code",
        "colab": {
          "base_uri": "https://localhost:8080/",
          "height": 255
        },
        "outputId": "ebc3b296-14e4-4277-b8d4-1fc63b159f8a"
      },
      "source": [
        "print(np.delete(a_3d, [0,3], 2)) # (:,:,[0,3])\n",
        "print(np.delete(a_3d, np.s_[::2], 2))"
      ],
      "execution_count": 283,
      "outputs": [
        {
          "output_type": "stream",
          "text": [
            "[[[ 1  2]\n",
            "  [ 5  6]\n",
            "  [ 9 10]]\n",
            "\n",
            " [[13 14]\n",
            "  [17 18]\n",
            "  [21 22]]]\n",
            "[[[ 1  3]\n",
            "  [ 5  7]\n",
            "  [ 9 11]]\n",
            "\n",
            " [[13 15]\n",
            "  [17 19]\n",
            "  [21 23]]]\n"
          ],
          "name": "stdout"
        }
      ]
    },
    {
      "cell_type": "code",
      "metadata": {
        "id": "gXBOMkewyJdp",
        "colab_type": "code",
        "colab": {}
      },
      "source": [
        ""
      ],
      "execution_count": null,
      "outputs": []
    }
  ]
}