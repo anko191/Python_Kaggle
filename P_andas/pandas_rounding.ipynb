{
  "nbformat": 4,
  "nbformat_minor": 0,
  "metadata": {
    "colab": {
      "name": "pandas_rounding",
      "provenance": [],
      "collapsed_sections": [],
      "authorship_tag": "ABX9TyPi8HkkyyCb7KvOh0ZoLPQb",
      "include_colab_link": true
    },
    "kernelspec": {
      "name": "python3",
      "display_name": "Python 3"
    }
  },
  "cells": [
    {
      "cell_type": "markdown",
      "metadata": {
        "id": "view-in-github",
        "colab_type": "text"
      },
      "source": [
        "<a href=\"https://colab.research.google.com/github/anko191/Python_Kaggle/blob/master/pandas/pandas_rounding.ipynb\" target=\"_parent\"><img src=\"https://colab.research.google.com/assets/colab-badge.svg\" alt=\"Open In Colab\"/></a>"
      ]
    },
    {
      "cell_type": "code",
      "metadata": {
        "id": "Ek1_tyaxEZuQ",
        "colab_type": "code",
        "colab": {
          "base_uri": "https://localhost:8080/",
          "height": 68
        },
        "outputId": "27696ccb-5506-441e-ac83-710cc8a94a08"
      },
      "source": [
        "import pandas as pd\n",
        "import numpy as np\n",
        "from decimal import Decimal, ROUND_HALF_UP, ROUND_HALF_EVEN\n",
        "import platform\n",
        "print(platform.python_version())\n",
        "print(pd.__version__)\n",
        "print(np.__version__)"
      ],
      "execution_count": 116,
      "outputs": [
        {
          "output_type": "stream",
          "text": [
            "3.6.9\n",
            "1.0.5\n",
            "1.18.5\n"
          ],
          "name": "stdout"
        }
      ]
    },
    {
      "cell_type": "code",
      "metadata": {
        "id": "On3EqXbUErx6",
        "colab_type": "code",
        "colab": {
          "base_uri": "https://localhost:8080/",
          "height": 68
        },
        "outputId": "fec38829-6296-4ecf-cf57-56a9e8db2f05"
      },
      "source": [
        "s_f = pd.Series([123.456, 654.123])\n",
        "print(s_f)"
      ],
      "execution_count": 120,
      "outputs": [
        {
          "output_type": "stream",
          "text": [
            "0    123.456\n",
            "1    654.123\n",
            "dtype: float64\n"
          ],
          "name": "stdout"
        }
      ]
    },
    {
      "cell_type": "code",
      "metadata": {
        "id": "wlWMKI27E5jn",
        "colab_type": "code",
        "colab": {
          "base_uri": "https://localhost:8080/",
          "height": 119
        },
        "outputId": "d4fd2294-953c-4924-c04f-64cb7c3a246a"
      },
      "source": [
        "print(s_f.round())\n",
        "print(s_f.round().astype(int))"
      ],
      "execution_count": 121,
      "outputs": [
        {
          "output_type": "stream",
          "text": [
            "0    123.0\n",
            "1    654.0\n",
            "dtype: float64\n",
            "0    123\n",
            "1    654\n",
            "dtype: int64\n"
          ],
          "name": "stdout"
        }
      ]
    },
    {
      "cell_type": "code",
      "metadata": {
        "id": "ZKZ7FerpFAqo",
        "colab_type": "code",
        "colab": {
          "base_uri": "https://localhost:8080/",
          "height": 119
        },
        "outputId": "1afcb699-1887-488e-8f07-bd13b386613d"
      },
      "source": [
        "print(s_f.round(2))\n",
        "print(s_f.round(-2))"
      ],
      "execution_count": 122,
      "outputs": [
        {
          "output_type": "stream",
          "text": [
            "0    123.46\n",
            "1    654.12\n",
            "dtype: float64\n",
            "0    100.0\n",
            "1    700.0\n",
            "dtype: float64\n"
          ],
          "name": "stdout"
        }
      ]
    },
    {
      "cell_type": "code",
      "metadata": {
        "id": "GztNIxu3T6Oj",
        "colab_type": "code",
        "colab": {}
      },
      "source": [
        "s_i = pd.Series([123, 654])"
      ],
      "execution_count": 123,
      "outputs": []
    },
    {
      "cell_type": "code",
      "metadata": {
        "id": "XaW_WVvDT8kA",
        "colab_type": "code",
        "colab": {
          "base_uri": "https://localhost:8080/",
          "height": 68
        },
        "outputId": "7f82f6c9-db26-4ff4-d59d-5b0a6116557a"
      },
      "source": [
        "print(s_i)"
      ],
      "execution_count": 124,
      "outputs": [
        {
          "output_type": "stream",
          "text": [
            "0    123\n",
            "1    654\n",
            "dtype: int64\n"
          ],
          "name": "stdout"
        }
      ]
    },
    {
      "cell_type": "code",
      "metadata": {
        "id": "W5Zc0ZvbT9aQ",
        "colab_type": "code",
        "colab": {
          "base_uri": "https://localhost:8080/",
          "height": 170
        },
        "outputId": "da45d3b8-9684-418d-beee-81f742e25885"
      },
      "source": [
        "print(s_i.round())\n",
        "print(s_i.round(2))\n",
        "print(s_i.round(-2))"
      ],
      "execution_count": 125,
      "outputs": [
        {
          "output_type": "stream",
          "text": [
            "0    123\n",
            "1    654\n",
            "dtype: int64\n",
            "0    123\n",
            "1    654\n",
            "dtype: int64\n",
            "0    100\n",
            "1    700\n",
            "dtype: int64\n"
          ],
          "name": "stdout"
        }
      ]
    },
    {
      "cell_type": "code",
      "metadata": {
        "id": "3SEf5DOQUdvA",
        "colab_type": "code",
        "colab": {
          "base_uri": "https://localhost:8080/",
          "height": 68
        },
        "outputId": "a7216bfb-cdf7-45bd-fa02-1cfbfbbfc9b5"
      },
      "source": [
        "df = pd.DataFrame({'f':[123.456, 654.321], 'i':[123,654], 's':['abc', 'xyz']})\n",
        "print(df)"
      ],
      "execution_count": 126,
      "outputs": [
        {
          "output_type": "stream",
          "text": [
            "         f    i    s\n",
            "0  123.456  123  abc\n",
            "1  654.321  654  xyz\n"
          ],
          "name": "stdout"
        }
      ]
    },
    {
      "cell_type": "code",
      "metadata": {
        "id": "fA6rZ8HbUoso",
        "colab_type": "code",
        "colab": {
          "base_uri": "https://localhost:8080/",
          "height": 68
        },
        "outputId": "70d826ff-1219-4ec3-fedd-758b4b05cc7f"
      },
      "source": [
        "print(df.round({'f':2, 'i':-1}))"
      ],
      "execution_count": 128,
      "outputs": [
        {
          "output_type": "stream",
          "text": [
            "        f    i    s\n",
            "0  123.46  120  abc\n",
            "1  654.32  650  xyz\n"
          ],
          "name": "stdout"
        }
      ]
    },
    {
      "cell_type": "code",
      "metadata": {
        "id": "4tHKIXUSU_ow",
        "colab_type": "code",
        "colab": {
          "base_uri": "https://localhost:8080/",
          "height": 221
        },
        "outputId": "3cde7371-42fe-43e6-f3a4-664991ddb11a"
      },
      "source": [
        "s = pd.Series([0.5, 1.5, 2.5, 3.5, 4.5])\n",
        "print(s)\n",
        "print(s.round())"
      ],
      "execution_count": 129,
      "outputs": [
        {
          "output_type": "stream",
          "text": [
            "0    0.5\n",
            "1    1.5\n",
            "2    2.5\n",
            "3    3.5\n",
            "4    4.5\n",
            "dtype: float64\n",
            "0    0.0\n",
            "1    2.0\n",
            "2    2.0\n",
            "3    4.0\n",
            "4    4.0\n",
            "dtype: float64\n"
          ],
          "name": "stdout"
        }
      ]
    },
    {
      "cell_type": "code",
      "metadata": {
        "id": "s_0m_Y-zVcOq",
        "colab_type": "code",
        "colab": {}
      },
      "source": [
        "s = pd.Series([5,15,25,5.1,15.1,25.1])"
      ],
      "execution_count": 130,
      "outputs": []
    },
    {
      "cell_type": "code",
      "metadata": {
        "id": "ITZDdauSVwaw",
        "colab_type": "code",
        "colab": {
          "base_uri": "https://localhost:8080/",
          "height": 136
        },
        "outputId": "48c4311a-1495-4441-e952-19a9a3ab66f5"
      },
      "source": [
        "s"
      ],
      "execution_count": 131,
      "outputs": [
        {
          "output_type": "execute_result",
          "data": {
            "text/plain": [
              "0     5.0\n",
              "1    15.0\n",
              "2    25.0\n",
              "3     5.1\n",
              "4    15.1\n",
              "5    25.1\n",
              "dtype: float64"
            ]
          },
          "metadata": {
            "tags": []
          },
          "execution_count": 131
        }
      ]
    },
    {
      "cell_type": "code",
      "metadata": {
        "id": "C6hMqFiwVwxI",
        "colab_type": "code",
        "colab": {
          "base_uri": "https://localhost:8080/",
          "height": 136
        },
        "outputId": "6ca3786f-5a1c-4dee-949f-da83ee520f68"
      },
      "source": [
        "print(s.round(-1))"
      ],
      "execution_count": 132,
      "outputs": [
        {
          "output_type": "stream",
          "text": [
            "0     0.0\n",
            "1    20.0\n",
            "2    20.0\n",
            "3    10.0\n",
            "4    20.0\n",
            "5    30.0\n",
            "dtype: float64\n"
          ],
          "name": "stdout"
        }
      ]
    },
    {
      "cell_type": "code",
      "metadata": {
        "id": "5mApVF8yVx4_",
        "colab_type": "code",
        "colab": {
          "base_uri": "https://localhost:8080/",
          "height": 34
        },
        "outputId": "3b3faacb-a049-44c2-e47e-9a0d15a05e8b"
      },
      "source": [
        "print(Decimal('2.675').quantize(Decimal('0.01'), rounding = ROUND_HALF_UP))"
      ],
      "execution_count": 133,
      "outputs": [
        {
          "output_type": "stream",
          "text": [
            "2.68\n"
          ],
          "name": "stdout"
        }
      ]
    },
    {
      "cell_type": "code",
      "metadata": {
        "id": "Boj599_xWyqw",
        "colab_type": "code",
        "colab": {
          "base_uri": "https://localhost:8080/",
          "height": 34
        },
        "outputId": "2e3eb753-26a6-4b8d-9e6c-475974f43e79"
      },
      "source": [
        "print(Decimal('2.675').quantize(Decimal('0.01'), rounding=ROUND_HALF_EVEN))"
      ],
      "execution_count": 134,
      "outputs": [
        {
          "output_type": "stream",
          "text": [
            "2.68\n"
          ],
          "name": "stdout"
        }
      ]
    },
    {
      "cell_type": "code",
      "metadata": {
        "id": "dGI7_wG_W51g",
        "colab_type": "code",
        "colab": {
          "base_uri": "https://localhost:8080/",
          "height": 34
        },
        "outputId": "c07139ff-002e-49dc-c972-c5cb9a1d9b5c"
      },
      "source": [
        "print(Decimal('0.5').quantize(Decimal('0'), rounding=ROUND_HALF_UP))"
      ],
      "execution_count": 135,
      "outputs": [
        {
          "output_type": "stream",
          "text": [
            "1\n"
          ],
          "name": "stdout"
        }
      ]
    },
    {
      "cell_type": "code",
      "metadata": {
        "id": "lnFquLACXAhw",
        "colab_type": "code",
        "colab": {
          "base_uri": "https://localhost:8080/",
          "height": 34
        },
        "outputId": "2cca78ff-fe39-4ac0-d412-6811ce9d586c"
      },
      "source": [
        "print(Decimal('0.5').quantize(Decimal('0'), rounding=ROUND_HALF_EVEN))"
      ],
      "execution_count": 136,
      "outputs": [
        {
          "output_type": "stream",
          "text": [
            "0\n"
          ],
          "name": "stdout"
        }
      ]
    },
    {
      "cell_type": "code",
      "metadata": {
        "id": "TnTh8EzQXFQo",
        "colab_type": "code",
        "colab": {
          "base_uri": "https://localhost:8080/",
          "height": 119
        },
        "outputId": "9073f20e-5c10-4e3b-c0a3-81d4ba369062"
      },
      "source": [
        "s = pd.Series([0.5, 1.5, 2.5, 3.5, 4.5])\n",
        "print(s.map(lambda x:float(Decimal(str(x)).quantize(Decimal('0'), rounding=ROUND_HALF_UP))))"
      ],
      "execution_count": 137,
      "outputs": [
        {
          "output_type": "stream",
          "text": [
            "0    1.0\n",
            "1    2.0\n",
            "2    3.0\n",
            "3    4.0\n",
            "4    5.0\n",
            "dtype: float64\n"
          ],
          "name": "stdout"
        }
      ]
    },
    {
      "cell_type": "code",
      "metadata": {
        "id": "2hOJV7M1YrGg",
        "colab_type": "code",
        "colab": {}
      },
      "source": [
        ""
      ],
      "execution_count": null,
      "outputs": []
    }
  ]
}