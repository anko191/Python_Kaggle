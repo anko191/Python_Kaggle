{
  "nbformat": 4,
  "nbformat_minor": 0,
  "metadata": {
    "colab": {
      "name": "Numpy_NaN_replacement",
      "provenance": [],
      "collapsed_sections": [],
      "authorship_tag": "ABX9TyMv4Lvt7vwYm0Tg8Ww+ZtVg",
      "include_colab_link": true
    },
    "kernelspec": {
      "name": "python3",
      "display_name": "Python 3"
    }
  },
  "cells": [
    {
      "cell_type": "markdown",
      "metadata": {
        "id": "view-in-github",
        "colab_type": "text"
      },
      "source": [
        "<a href=\"https://colab.research.google.com/github/anko191/Python_Kaggle/blob/master/numpy/Numpy_NaN_replacement.ipynb\" target=\"_parent\"><img src=\"https://colab.research.google.com/assets/colab-badge.svg\" alt=\"Open In Colab\"/></a>"
      ]
    },
    {
      "cell_type": "markdown",
      "metadata": {
        "id": "p4fC_p_m6k24",
        "colab_type": "text"
      },
      "source": [
        "# np.nan -> another values ( replacement )"
      ]
    },
    {
      "cell_type": "markdown",
      "metadata": {
        "id": "I0la70Uy66Qm",
        "colab_type": "text"
      },
      "source": [
        "## NaN 's , occur, generation, determination."
      ]
    },
    {
      "cell_type": "code",
      "metadata": {
        "id": "8ZY-F-ux64J8",
        "colab_type": "code",
        "colab": {
          "base_uri": "https://localhost:8080/",
          "height": 68
        },
        "outputId": "24783ce8-ba20-4c08-fa4d-7bfa6a65bce1"
      },
      "source": [
        "import numpy as np\n",
        "a = np.genfromtxt('./sample_nan.csv', delimiter=',')\n",
        "print(a)"
      ],
      "execution_count": 89,
      "outputs": [
        {
          "output_type": "stream",
          "text": [
            "[[11. 12. nan 14.]\n",
            " [21. nan nan 24.]\n",
            " [31. 32. 33. 34.]]\n"
          ],
          "name": "stdout"
        }
      ]
    },
    {
      "cell_type": "markdown",
      "metadata": {
        "id": "XY1YWL_s71hj",
        "colab_type": "text"
      },
      "source": [
        "## if you generate NaN, use np.nan"
      ]
    },
    {
      "cell_type": "code",
      "metadata": {
        "id": "jN0aaDcB7MIf",
        "colab_type": "code",
        "colab": {}
      },
      "source": [
        "a_nan = np.array([0, 1, np.nan, float('nan')])"
      ],
      "execution_count": 90,
      "outputs": []
    },
    {
      "cell_type": "code",
      "metadata": {
        "id": "vqsjntkg75R7",
        "colab_type": "code",
        "colab": {
          "base_uri": "https://localhost:8080/",
          "height": 34
        },
        "outputId": "e41cb0ce-413c-42ec-e13b-55de69ec5ae2"
      },
      "source": [
        "print(a_nan)"
      ],
      "execution_count": 91,
      "outputs": [
        {
          "output_type": "stream",
          "text": [
            "[ 0.  1. nan nan]\n"
          ],
          "name": "stdout"
        }
      ]
    },
    {
      "cell_type": "markdown",
      "metadata": {
        "id": "HJDeTNzq7-k1",
        "colab_type": "text"
      },
      "source": [
        "## if you determine NaN, use np.isnan() or math.isnan()"
      ]
    },
    {
      "cell_type": "code",
      "metadata": {
        "id": "q1048JRd76LT",
        "colab_type": "code",
        "colab": {
          "base_uri": "https://localhost:8080/",
          "height": 51
        },
        "outputId": "862bbfa9-855f-4ac2-aca4-4a07ea0efb86"
      },
      "source": [
        "print(np.nan == np.nan)\n",
        "print(np.isnan(np.nan))"
      ],
      "execution_count": 92,
      "outputs": [
        {
          "output_type": "stream",
          "text": [
            "False\n",
            "True\n"
          ],
          "name": "stdout"
        }
      ]
    },
    {
      "cell_type": "code",
      "metadata": {
        "id": "1xg72edZ8Jds",
        "colab_type": "code",
        "colab": {
          "base_uri": "https://localhost:8080/",
          "height": 51
        },
        "outputId": "a47a5ef0-0deb-4681-e51c-42eac6b402f9"
      },
      "source": [
        "print(a_nan == np.nan)\n",
        "print(np.isnan(a_nan))"
      ],
      "execution_count": 93,
      "outputs": [
        {
          "output_type": "stream",
          "text": [
            "[False False False False]\n",
            "[False False  True  True]\n"
          ],
          "name": "stdout"
        }
      ]
    },
    {
      "cell_type": "markdown",
      "metadata": {
        "id": "7a1f5qeH8PYf",
        "colab_type": "text"
      },
      "source": [
        "## use argument in np.genfromtxt().\n",
        "argument : filling_values = ? if you fill 0, you use filling_values = 0. \n",
        "<br> NaN is rearranged 'filling_values'\n",
        "\n"
      ]
    },
    {
      "cell_type": "code",
      "metadata": {
        "id": "asBxqljv8O2c",
        "colab_type": "code",
        "colab": {
          "base_uri": "https://localhost:8080/",
          "height": 68
        },
        "outputId": "3b7b7f0f-da5b-4b84-aa92-32d4109bd787"
      },
      "source": [
        "a_fill = np.genfromtxt('./sample_nan.csv', delimiter=',', filling_values = 0)\n",
        "print(a_fill)"
      ],
      "execution_count": 95,
      "outputs": [
        {
          "output_type": "stream",
          "text": [
            "[[11. 12.  0. 14.]\n",
            " [21.  0.  0. 24.]\n",
            " [31. 32. 33. 34.]]\n"
          ],
          "name": "stdout"
        }
      ]
    },
    {
      "cell_type": "markdown",
      "metadata": {
        "id": "UnxlUsYR80-t",
        "colab_type": "text"
      },
      "source": [
        "## use np.nan_to_num() to rearrange NaN."
      ]
    },
    {
      "cell_type": "code",
      "metadata": {
        "id": "QwRn1FEt8krt",
        "colab_type": "code",
        "colab": {
          "base_uri": "https://localhost:8080/",
          "height": 119
        },
        "outputId": "b3c44614-edff-4919-8865-f499cbe5ef2f"
      },
      "source": [
        "a = np.genfromtxt('./sample_nan.csv', delimiter=',')\n",
        "print(np.nan_to_num(a))\n",
        "print(a)"
      ],
      "execution_count": 96,
      "outputs": [
        {
          "output_type": "stream",
          "text": [
            "[[11. 12.  0. 14.]\n",
            " [21.  0.  0. 24.]\n",
            " [31. 32. 33. 34.]]\n",
            "[[11. 12. nan 14.]\n",
            " [21. nan nan 24.]\n",
            " [31. 32. 33. 34.]]\n"
          ],
          "name": "stdout"
        }
      ]
    },
    {
      "cell_type": "markdown",
      "metadata": {
        "id": "jZVkj9kl9G_j",
        "colab_type": "text"
      },
      "source": [
        "## the second argument 'copy' set 'False', then change original ndarray too."
      ]
    },
    {
      "cell_type": "code",
      "metadata": {
        "id": "dBYmyxjG9C0z",
        "colab_type": "code",
        "colab": {
          "base_uri": "https://localhost:8080/",
          "height": 119
        },
        "outputId": "1a4adb6d-039e-4a7a-f6b0-e585941e066d"
      },
      "source": [
        "print(np.nan_to_num(a, copy = False))\n",
        "print(a)"
      ],
      "execution_count": 97,
      "outputs": [
        {
          "output_type": "stream",
          "text": [
            "[[11. 12.  0. 14.]\n",
            " [21.  0.  0. 24.]\n",
            " [31. 32. 33. 34.]]\n",
            "[[11. 12.  0. 14.]\n",
            " [21.  0.  0. 24.]\n",
            " [31. 32. 33. 34.]]\n"
          ],
          "name": "stdout"
        }
      ]
    },
    {
      "cell_type": "markdown",
      "metadata": {
        "id": "UNZyyyOq9WWX",
        "colab_type": "text"
      },
      "source": [
        "### Numpyversion >= 1.17, the third argument 'nan = ?'."
      ]
    },
    {
      "cell_type": "code",
      "metadata": {
        "id": "X4J_LpEQ9Tz0",
        "colab_type": "code",
        "colab": {
          "base_uri": "https://localhost:8080/",
          "height": 68
        },
        "outputId": "07dca505-f013-43df-c9cd-63a162cd07b7"
      },
      "source": [
        "a = np.genfromtxt('./sample_nan.csv', delimiter=',')\n",
        "print(np.nan_to_num(a, nan = -1))"
      ],
      "execution_count": 98,
      "outputs": [
        {
          "output_type": "stream",
          "text": [
            "[[11. 12. -1. 14.]\n",
            " [21. -1. -1. 24.]\n",
            " [31. 32. 33. 34.]]\n"
          ],
          "name": "stdout"
        }
      ]
    },
    {
      "cell_type": "markdown",
      "metadata": {
        "id": "nxBJNtld9oK5",
        "colab_type": "text"
      },
      "source": [
        "### if you use 'np.nanmean()', replace NaN to average."
      ]
    },
    {
      "cell_type": "code",
      "metadata": {
        "id": "eaFM0ne99kTm",
        "colab_type": "code",
        "colab": {
          "base_uri": "https://localhost:8080/",
          "height": 85
        },
        "outputId": "11ac0df4-faa3-4968-f7b7-186a18f4e43a"
      },
      "source": [
        "print(np.nanmean(a))\n",
        "print(np.nan_to_num(a, nan = np.nanmean(a)))"
      ],
      "execution_count": 99,
      "outputs": [
        {
          "output_type": "stream",
          "text": [
            "23.555555555555557\n",
            "[[11.         12.         23.55555556 14.        ]\n",
            " [21.         23.55555556 23.55555556 24.        ]\n",
            " [31.         32.         33.         34.        ]]\n"
          ],
          "name": "stdout"
        }
      ]
    },
    {
      "cell_type": "markdown",
      "metadata": {
        "id": "Wp3UdO3O-NVN",
        "colab_type": "text"
      },
      "source": [
        "### reference bool_index is also great."
      ]
    },
    {
      "cell_type": "code",
      "metadata": {
        "id": "AJGdJSki-ARN",
        "colab_type": "code",
        "colab": {
          "base_uri": "https://localhost:8080/",
          "height": 68
        },
        "outputId": "6312a37a-b526-4ea1-f806-a869a6816b12"
      },
      "source": [
        "a = np.genfromtxt('./sample_nan.csv', delimiter=',')\n",
        "print(np.isnan(a))"
      ],
      "execution_count": 100,
      "outputs": [
        {
          "output_type": "stream",
          "text": [
            "[[False False  True False]\n",
            " [False  True  True False]\n",
            " [False False False False]]\n"
          ],
          "name": "stdout"
        }
      ]
    },
    {
      "cell_type": "code",
      "metadata": {
        "id": "DCRwcZsh-Xeb",
        "colab_type": "code",
        "colab": {
          "base_uri": "https://localhost:8080/",
          "height": 68
        },
        "outputId": "6ca3f095-bd8d-4380-a2cc-6c91cb28ce8f"
      },
      "source": [
        "a[np.isnan(a)] = 0 # this is.\n",
        "print(a)"
      ],
      "execution_count": 101,
      "outputs": [
        {
          "output_type": "stream",
          "text": [
            "[[11. 12.  0. 14.]\n",
            " [21.  0.  0. 24.]\n",
            " [31. 32. 33. 34.]]\n"
          ],
          "name": "stdout"
        }
      ]
    },
    {
      "cell_type": "markdown",
      "metadata": {
        "id": "Npn7eXwx-lN2",
        "colab_type": "text"
      },
      "source": [
        "#### can replace np.nanmean()"
      ]
    },
    {
      "cell_type": "code",
      "metadata": {
        "id": "ziVdEL-S-bcD",
        "colab_type": "code",
        "colab": {
          "base_uri": "https://localhost:8080/",
          "height": 68
        },
        "outputId": "e3cfdab2-269d-40c0-f04e-556050894a6c"
      },
      "source": [
        "a = np.genfromtxt('./sample_nan.csv', delimiter = ',')\n",
        "a[np.isnan(a)] = np.nanmean(a)\n",
        "print(a)"
      ],
      "execution_count": 104,
      "outputs": [
        {
          "output_type": "stream",
          "text": [
            "[[11.         12.         23.55555556 14.        ]\n",
            " [21.         23.55555556 23.55555556 24.        ]\n",
            " [31.         32.         33.         34.        ]]\n"
          ],
          "name": "stdout"
        }
      ]
    },
    {
      "cell_type": "markdown",
      "metadata": {
        "id": "AmfYq2zv-5Yu",
        "colab_type": "text"
      },
      "source": [
        "# Delete 'NaN'"
      ]
    },
    {
      "cell_type": "code",
      "metadata": {
        "id": "UgKBZMpc-z3M",
        "colab_type": "code",
        "colab": {
          "base_uri": "https://localhost:8080/",
          "height": 68
        },
        "outputId": "6ab37500-ea97-40a2-da2b-c456d5844a7b"
      },
      "source": [
        "import numpy as np\n",
        "a = np.genfromtxt('./sample_nan.csv', delimiter = ',')\n",
        "print(a)"
      ],
      "execution_count": 105,
      "outputs": [
        {
          "output_type": "stream",
          "text": [
            "[[11. 12. nan 14.]\n",
            " [21. nan nan 24.]\n",
            " [31. 32. 33. 34.]]\n"
          ],
          "name": "stdout"
        }
      ]
    },
    {
      "cell_type": "code",
      "metadata": {
        "id": "ZIgHkeKpRVFD",
        "colab_type": "code",
        "colab": {
          "base_uri": "https://localhost:8080/",
          "height": 68
        },
        "outputId": "cbff7302-093d-418f-dc0a-e82dbbcf00d9"
      },
      "source": [
        "print(np.isnan(a))"
      ],
      "execution_count": 107,
      "outputs": [
        {
          "output_type": "stream",
          "text": [
            "[[False False  True False]\n",
            " [False  True  True False]\n",
            " [False False False False]]\n"
          ],
          "name": "stdout"
        }
      ]
    },
    {
      "cell_type": "code",
      "metadata": {
        "id": "CqNa1-8sRXnq",
        "colab_type": "code",
        "colab": {
          "base_uri": "https://localhost:8080/",
          "height": 68
        },
        "outputId": "1b02ff98-64d7-4cf2-b11d-54b3c2a22716"
      },
      "source": [
        "print(~np.isnan(a))"
      ],
      "execution_count": 108,
      "outputs": [
        {
          "output_type": "stream",
          "text": [
            "[[ True  True False  True]\n",
            " [ True False False  True]\n",
            " [ True  True  True  True]]\n"
          ],
          "name": "stdout"
        }
      ]
    },
    {
      "cell_type": "code",
      "metadata": {
        "id": "BkXjqP0zRc4Q",
        "colab_type": "code",
        "colab": {
          "base_uri": "https://localhost:8080/",
          "height": 34
        },
        "outputId": "735c39b9-cf66-48e3-898b-1579f735519e"
      },
      "source": [
        "print(a[~np.isnan(a)])"
      ],
      "execution_count": 109,
      "outputs": [
        {
          "output_type": "stream",
          "text": [
            "[11. 12. 14. 21. 24. 31. 32. 33. 34.]\n"
          ],
          "name": "stdout"
        }
      ]
    },
    {
      "cell_type": "code",
      "metadata": {
        "id": "KYWgG3otRfiB",
        "colab_type": "code",
        "colab": {
          "base_uri": "https://localhost:8080/",
          "height": 34
        },
        "outputId": "5fbdbceb-9fb9-49d5-e665-8af47a30623b"
      },
      "source": [
        "print(np.isnan(a).any(axis = 1))"
      ],
      "execution_count": 110,
      "outputs": [
        {
          "output_type": "stream",
          "text": [
            "[ True  True False]\n"
          ],
          "name": "stdout"
        }
      ]
    },
    {
      "cell_type": "code",
      "metadata": {
        "id": "vnP5h8lyRu4w",
        "colab_type": "code",
        "colab": {
          "base_uri": "https://localhost:8080/",
          "height": 34
        },
        "outputId": "e0dca940-0cc7-4a89-edf7-566096b4d506"
      },
      "source": [
        "print(~np.isnan(a).any(axis = 1))"
      ],
      "execution_count": 111,
      "outputs": [
        {
          "output_type": "stream",
          "text": [
            "[False False  True]\n"
          ],
          "name": "stdout"
        }
      ]
    },
    {
      "cell_type": "code",
      "metadata": {
        "id": "XfgMGv_4RxWA",
        "colab_type": "code",
        "colab": {
          "base_uri": "https://localhost:8080/",
          "height": 34
        },
        "outputId": "4a8630e0-4413-42a2-d560-ebd940015f3f"
      },
      "source": [
        "print(a[~np.isnan(a).any(axis = 1), :])"
      ],
      "execution_count": 112,
      "outputs": [
        {
          "output_type": "stream",
          "text": [
            "[[31. 32. 33. 34.]]\n"
          ],
          "name": "stdout"
        }
      ]
    },
    {
      "cell_type": "code",
      "metadata": {
        "id": "vX1Yw78tSBVn",
        "colab_type": "code",
        "colab": {
          "base_uri": "https://localhost:8080/",
          "height": 34
        },
        "outputId": "0b42480c-7f71-4877-c7ce-7dd033fd86da"
      },
      "source": [
        "print(a[~np.isnan(a).any(axis = 1)])"
      ],
      "execution_count": 113,
      "outputs": [
        {
          "output_type": "stream",
          "text": [
            "[[31. 32. 33. 34.]]\n"
          ],
          "name": "stdout"
        }
      ]
    },
    {
      "cell_type": "code",
      "metadata": {
        "id": "m36kA0ZYSFjg",
        "colab_type": "code",
        "colab": {
          "base_uri": "https://localhost:8080/",
          "height": 34
        },
        "outputId": "da7fb62c-519f-4530-e0e5-325569ad0ce0"
      },
      "source": [
        "print(~np.isnan(a).any(axis = 0))"
      ],
      "execution_count": 114,
      "outputs": [
        {
          "output_type": "stream",
          "text": [
            "[ True False False  True]\n"
          ],
          "name": "stdout"
        }
      ]
    },
    {
      "cell_type": "code",
      "metadata": {
        "id": "yVJ47iTdSdzQ",
        "colab_type": "code",
        "colab": {
          "base_uri": "https://localhost:8080/",
          "height": 68
        },
        "outputId": "4ea4fbc0-48f7-437b-d952-5b276602e988"
      },
      "source": [
        "print(a[:, ~np.isnan(a).any(axis = 0)])"
      ],
      "execution_count": 115,
      "outputs": [
        {
          "output_type": "stream",
          "text": [
            "[[11. 14.]\n",
            " [21. 24.]\n",
            " [31. 34.]]\n"
          ],
          "name": "stdout"
        }
      ]
    },
    {
      "cell_type": "markdown",
      "metadata": {
        "id": "bha4ZI8NSwdR",
        "colab_type": "text"
      },
      "source": [
        "### all delete"
      ]
    },
    {
      "cell_type": "code",
      "metadata": {
        "id": "0U4Zpb0EShl5",
        "colab_type": "code",
        "colab": {
          "base_uri": "https://localhost:8080/",
          "height": 119
        },
        "outputId": "23febed1-a7d9-4095-b5a6-4626b3413391"
      },
      "source": [
        "a = np.genfromtxt('./sample_nan.csv', delimiter = ',')\n",
        "a[2,2] = np.nan\n",
        "print(a)\n",
        "print(a[:, ~np.isnan(a).any(axis = 0)])"
      ],
      "execution_count": 117,
      "outputs": [
        {
          "output_type": "stream",
          "text": [
            "[[11. 12. nan 14.]\n",
            " [21. nan nan 24.]\n",
            " [31. 32. nan 34.]]\n",
            "[[11. 14.]\n",
            " [21. 24.]\n",
            " [31. 34.]]\n"
          ],
          "name": "stdout"
        }
      ]
    },
    {
      "cell_type": "code",
      "metadata": {
        "id": "M_7uqhiPS6qo",
        "colab_type": "code",
        "colab": {
          "base_uri": "https://localhost:8080/",
          "height": 68
        },
        "outputId": "def29fb2-4589-4ce0-a425-519e45279441"
      },
      "source": [
        "print(a[:, ~np.isnan(a).all(axis = 0)])"
      ],
      "execution_count": 118,
      "outputs": [
        {
          "output_type": "stream",
          "text": [
            "[[11. 12. 14.]\n",
            " [21. nan 24.]\n",
            " [31. 32. 34.]]\n"
          ],
          "name": "stdout"
        }
      ]
    },
    {
      "cell_type": "code",
      "metadata": {
        "id": "JRQBz5knS-5X",
        "colab_type": "code",
        "colab": {}
      },
      "source": [
        ""
      ],
      "execution_count": null,
      "outputs": []
    }
  ]
}