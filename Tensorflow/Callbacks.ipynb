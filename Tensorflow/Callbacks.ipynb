{
  "nbformat": 4,
  "nbformat_minor": 0,
  "metadata": {
    "colab": {
      "name": "Callbacks.ipynb",
      "provenance": [],
      "authorship_tag": "ABX9TyOaKH+q6megomCdu2l/ogXA",
      "include_colab_link": true
    },
    "kernelspec": {
      "name": "python3",
      "display_name": "Python 3"
    }
  },
  "cells": [
    {
      "cell_type": "markdown",
      "metadata": {
        "id": "view-in-github",
        "colab_type": "text"
      },
      "source": [
        "<a href=\"https://colab.research.google.com/github/anko191/Python_Kaggle/blob/master/Tensorflow/Callbacks.ipynb\" target=\"_parent\"><img src=\"https://colab.research.google.com/assets/colab-badge.svg\" alt=\"Open In Colab\"/></a>"
      ]
    },
    {
      "cell_type": "markdown",
      "metadata": {
        "id": "ZZ7-v8cGZ5C8"
      },
      "source": [
        "# コールバークの使い方\n",
        "* コールバックは訓練中で適用される関数集合です。\n",
        "    * 訓練中に**モデル内部の状態と統計量を可視化する**際に、コールバックを使います。\n",
        "* SequetialとModelクラスの.fit()メソッドに(キーワード引数callbacksとして)コールバックのリストを渡すことができます。"
      ]
    },
    {
      "cell_type": "markdown",
      "metadata": {
        "id": "N8mY_C1_dJ6n"
      },
      "source": [
        "## Callback\n",
        "* keras.callbacks.Callback()\n",
        "* 新しいコールバックを構築するために使用されます\n",
        "    * params: 辞書、訓練のパラメタ(冗長性、バッチサイズ、epoch数)\n",
        "    * model: keras.models.Modelのインスタンス。\n",
        "    * コールバック関数が引数として取る辞書のlogsは、現在のバッチ数かエポック数に関連したデータのキーを含みます。\n",
        "    * 現在、Sequentialモデルクラスの.fit()メソッドは、そのコールバックに渡すlogsに以下のデータが含まれます\n",
        "    * on_epoch_end：ログはaccとlossと含み、val_loss, val_accを含みます。\n",
        "    * on_batch_begin：ログは現在のバッチのサンプル数sizeを含みます。\n",
        "    * on_batch_end：ログはlossとオプションとしてaccを含みます。\n"
      ]
    },
    {
      "cell_type": "code",
      "metadata": {
        "id": "LjMOwdcTXXQe"
      },
      "source": [
        "callback = keras.callbacks.Callback()"
      ],
      "execution_count": null,
      "outputs": []
    },
    {
      "cell_type": "markdown",
      "metadata": {
        "id": "hKWNSGR9e5ol"
      },
      "source": [
        "## BaseLogger\n",
        "* 監視されている評価値のエポック平均を蓄積するコールバックです\n",
        "* このコールバックは全kerasモデルに自動的に適用されます"
      ]
    },
    {
      "cell_type": "code",
      "metadata": {
        "id": "c8Z2Y0mce4et"
      },
      "source": [
        "baselogger = keras.callbacks.BaseLogger()"
      ],
      "execution_count": null,
      "outputs": []
    },
    {
      "cell_type": "markdown",
      "metadata": {
        "id": "5-CuA5dCfKs9"
      },
      "source": [
        "## TerminateOnNaN\n",
        "* 損失がNaNになった時に訓練を終了するコールバックです"
      ]
    },
    {
      "cell_type": "code",
      "metadata": {
        "id": "zYbhcWkrfPlF"
      },
      "source": [
        "terminateonNaN = keras.callbacks.TerminateOnNa()"
      ],
      "execution_count": null,
      "outputs": []
    },
    {
      "cell_type": "markdown",
      "metadata": {
        "id": "IDEa5-b-fVvK"
      },
      "source": [
        "## ProgbarLogger\n",
        "* 標準出力に**評価値を出力するコールバック**\n",
        "* 引数\n",
        "    * count_mode: \"steps\"か\"samples\"の一方、\n",
        "    * サンプルかステップ(バッチ)のどちらかをプログレスバーの集計に使うか。\n",
        "* Raises\n",
        "    * ValueError: count_modeの値が不正の時"
      ]
    },
    {
      "cell_type": "code",
      "metadata": {
        "id": "U1JwSD-3fxb-"
      },
      "source": [
        "progbarlogger = keras.callbacks.ProgbarLogger(count_mode = 'samples')"
      ],
      "execution_count": null,
      "outputs": []
    },
    {
      "cell_type": "markdown",
      "metadata": {
        "id": "IURfbnRQg0gw"
      },
      "source": [
        "## History\n",
        "* Historyオブジェクトにイベントを記録するコールバックです\n",
        "* このコールバックは全Kerasモデルに自動的に適用されます。\n",
        "    * Historyオブジェクトはモデルのfitメソッドの戻り値として取得します\n"
      ]
    },
    {
      "cell_type": "code",
      "metadata": {
        "id": "D36Vzo2uohW2"
      },
      "source": [
        "history = keras.callbacks.History()"
      ],
      "execution_count": null,
      "outputs": []
    },
    {
      "cell_type": "markdown",
      "metadata": {
        "id": "JGAk_kNFokBu"
      },
      "source": [
        "## ModelCheckpoint\n",
        "* 各エポック終了後に**モデルを保存**します。\n",
        "* filepathは、(on_epoch_endで渡された)epochの値とlogsのキーで埋められた書式設定オプションを含むことが出来ます。\n",
        "* 例えば、filepathが、**weights.{epoch:02d}-{val_loss:.2f}.hdf5の場合、\n",
        "* 複数のファイルがエポック数とvalidation lossの値を付与して保存されます\n",
        "    * filepath:文字列、モデルファイルを保存するパス\n",
        "    * monitor:監視する値\n",
        "    * verbose:冗長モード 0 or 1\n",
        "    * save_best_only: **save_best_only=True**の場合、監視しているデータによって、**最新の最良モデルが上書きされません**\n",
        "    * mode: **{auto, min, max}の内の1つが選択されます。\n",
        "    * **save_best_only=True**ならば、現在保存されているファイルを上書きするかは、監視されている値の最大化か最小化によって決定されています。\n",
        "        * val_accの場合、この引数はmax\n",
        "        * val_lossの場合はmin\n",
        "        * autoモードでえは、最大化・最小化・いずれかを監視されている値の名前から自動的に推定\n",
        "    * save_weights_only:Trueなら、モデルの重みがオゾンされます。\n",
        "        * (**model.save_weights(filepath)).\n",
        "        * そうでないなら、モデルの全体が保存されます。\n",
        "            * **model.save(filepath)**\n",
        "    * period:チェックポイント間の間隔(epochs)"
      ]
    },
    {
      "cell_type": "code",
      "metadata": {
        "id": "woqWdl8UqwDK"
      },
      "source": [
        "modelcheckpoint = keras.callbacks.ModelCheckpoint(filepath,\n",
        "                                                  monitor='val_loss',\n",
        "                                                  verbose = 0,\n",
        "                                                  save_best_only=False,\n",
        "                                                  save_weights_only = False,\n",
        "                                                  mode = 'auto',\n",
        "                                                  period = 1)"
      ],
      "execution_count": null,
      "outputs": []
    },
    {
      "cell_type": "markdown",
      "metadata": {
        "id": "mbA0U6VtrNsq"
      },
      "source": [
        "## EarlyStopping\n",
        "* 監視する値の変化が停止したときに訓練を終了します。\n",
        "    * monitor:監視する値。\n",
        "    * min_delta:監視する値について改善として判定される最小変化値。\n",
        "        * つまり、min_deltaよりも絶対値の変化が小さければ改善していないとみなします\n",
        "    * patience:ここで指定したエポック数の間(監視する値に)改善がないと、訓練が停止します\n",
        "    * verbose:冗長モード\n",
        "    * mode:{auto, min, max}の内、1つが選択されます。\n",
        "        * minモードでは、監視する値の**減少が停止したときに**訓練を終了します\n",
        "        * maxモードでは、監視する値の**増加が停止したときに**訓練おわり\n",
        "        * autoモードは、自動的に監視されている値から推定！"
      ]
    },
    {
      "cell_type": "code",
      "metadata": {
        "id": "JiC0g-n5tMEP"
      },
      "source": [
        "earlystopping = keras.callbacks.EarlyStopping(monitor = 'val_loss', min_delta = 0, patience = 0, verbose = 0, mode = 'auto')"
      ],
      "execution_count": null,
      "outputs": []
    },
    {
      "cell_type": "markdown",
      "metadata": {
        "id": "wxWd4azEtdDh"
      },
      "source": [
        "## RemoteMonitor\n",
        "* コールバックはサーバーにイベントをストリームするときに使用\n",
        "* requestsライブラリが必要です。\n",
        "* イベントはデフォルトで** root + '/publish/epoch/end/'**に送信されます。\n",
        "* コールすることによって、イベントデータをJSONエンコードした辞書のdata引数をHTTP POSTされます。\n",
        "    * root:文字数; 対象サーバーのroot URL\n",
        "    * path:文字数; イベントを送るrootへの相対パス\n",
        "    * field:文字列; データを保存するJSONのフィールド\n",
        "    * headers: 辞書; オプションでカスタムできるHTTPヘッダー"
      ]
    },
    {
      "cell_type": "code",
      "metadata": {
        "id": "6F-QHLJZurz1"
      },
      "source": [
        "remotemonitor = keras.callbacks.RemoteMonitor(root='http://なんちゃら', path = '/nanka/', field = 'data', headers = None)"
      ],
      "execution_count": null,
      "outputs": []
    },
    {
      "cell_type": "markdown",
      "metadata": {
        "id": "nuyQOU94u3J3"
      },
      "source": [
        "## LearningRateScheduler\n",
        "* 学習率のScheduler\n",
        "    * schedule:この関数はエポックのインデックスを入力とし、\n",
        "        * **新しい学習率**を返します\n",
        "    * verbose:整数。0:何も表示しない、1:更新メッセージを表示"
      ]
    },
    {
      "cell_type": "code",
      "metadata": {
        "id": "nkyG8LoivvcL"
      },
      "source": [
        "lrScheduler = keras.callbacks.LearningRateScheduler(schedule, verbose = 1)"
      ],
      "execution_count": null,
      "outputs": []
    },
    {
      "cell_type": "markdown",
      "metadata": {
        "id": "feCIwh4pxRCx"
      },
      "source": [
        "## TensorBoard\n",
        "* 可視化\n",
        "    * log_dir:保存するパス\n",
        "    * histogram_freq:モデルの層の活性化ヒストグラムを計算する**頻度**、\n",
        "        * この値を0に設定するとヒストグラムが計算されません。\n",
        "        * ヒストグラムの可視化には**validation dataを指定しておく必要があります**\n",
        "    * write_graph:TensorBoardのグラフを可視化するか。\n",
        "        * write_graphがTrueの場合、ログファイルが非常に大きくなることがあります\n",
        "    * write_grads:TensorBoardに**勾配のヒストグラフを可視化するかどうか**\n",
        "        * histogram_freqは0より大きくしなければなりません。\n",
        "    * batch_size:ヒストグラム計算のネットワークに渡す入力のバッチサイズ\n",
        "    * write_images:TensorBoardで可視化するモデルの重みを画像として下記ガス化どうか？\n",
        "    * embeddings_freq:選択したembeddingsレイヤーを保存する(epochに対する)頻度\n",
        "    * embeddings_layer_names:観察するレイヤー名のリスト。\n",
        "        * もしNoneか空リストなら全embeddingsレイヤーを観察します\n",
        "    * embeddings_metadata:レイヤー名からembeddingsレイヤーに関するメタデータの保存ファイル名へマップする辞書。\n",
        "        * すべては文字列を渡します"
      ]
    },
    {
      "cell_type": "code",
      "metadata": {
        "id": "ONXbCzo7xvEi"
      },
      "source": [
        "tensorflow = keras.callbacks.TensorBoard(log_dir='./logs',\n",
        "                                         histogram_freq=0,\n",
        "                                         batch_size=32,\n",
        "                                         write_graph=True,\n",
        "                                         write_grads=False,\n",
        "                                         write_images=False,\n",
        "                                         embeddings_freq=0,\n",
        "                                         embeddings_layer_names=None,\n",
        "                                         embeddings_metadata=None)"
      ],
      "execution_count": null,
      "outputs": []
    },
    {
      "cell_type": "markdown",
      "metadata": {
        "id": "7HYadud1zefY"
      },
      "source": [
        "* 起動は\n",
        " - %load_ext tensorboard\n",
        " - %tensorboard --logdir logs ってやる"
      ]
    },
    {
      "cell_type": "markdown",
      "metadata": {
        "id": "oBp6qTA4zpxj"
      },
      "source": [
        "---"
      ]
    },
    {
      "cell_type": "markdown",
      "metadata": {
        "id": "o50anV26zd_B"
      },
      "source": [
        "## ReduceLROnPlateau\n",
        "* 評価値の改善が止まった時に**学習率を減らします**\n",
        "    * モデルは訓練が停滞したときに学習率を 2 ~ 10 で割ることで恩恵をうけることがあります\n",
        "    * このコールバックは評価値を監視し、'patience'で指定されたエポック数の間改善が見られなかった場合、学習を減らします。\n",
        "* options\n",
        "    * monitor:監視する値\n",
        "    * factior:学習率を減らす割合, **new_lr = lr * factor**\n",
        "    * patience:何エポック改善が見られなかったら学習率の削減を行うか\n",
        "    * verbose:0,何もしない, 1:学習率削減時メッセージを表示\n",
        "    * mode : auto, min, maxのいずれか\n",
        "        * min:**減少が停止した際に、**学習率を更新\n",
        "        * max:**増加が停止したときに、**学習率を更新します\n",
        "        * auto:名前から判断\n",
        "    * epslion:改善があったと判断する閾値。**有意義な変化だけに注目するために**用います\n",
        "    * cooldown: 学習率を減らした後、通常の学習を再開するまで待機するエポック数\n",
        "    * min_lr : **学習率の下限**"
      ]
    },
    {
      "cell_type": "code",
      "metadata": {
        "id": "qi7TDNLo3Btq"
      },
      "source": [
        "reduce_lr = keras.callbacks.ReduceLROnPlateau(monitor='val_loss',\n",
        "                              factor=0.2,\n",
        "                              patience = 5,\n",
        "                              min_lr = 0.001)"
      ],
      "execution_count": null,
      "outputs": []
    },
    {
      "cell_type": "code",
      "metadata": {
        "id": "BQaK4STz3KQJ"
      },
      "source": [
        "model.fit(X_train, y_train, callbacks = [reduce_lr])"
      ],
      "execution_count": null,
      "outputs": []
    },
    {
      "cell_type": "markdown",
      "metadata": {
        "id": "5IUFTfqp66ZA"
      },
      "source": [
        "## CSVLogger\n",
        "* 各エポックの結果を**csvファイルに保存するコールバック**です\n",
        "* np.ndarrayのような1次元イテラブルを含む、文字列表現可能な値をサポートしています\n",
        "* option:\n",
        "    * filename: csvファイル名、\n",
        "    * separator: csvファイルで各要素を区切るために用いられる文字。\n",
        "    * append: \n",
        "        * True: ファイルが存在する場合、追記します。\n",
        "        * **(訓練を続ける場合に便利です)**\n",
        "        * False: 既存のファイルを上書きします\n",
        "    "
      ]
    },
    {
      "cell_type": "code",
      "metadata": {
        "id": "m6_4lwgY7lGR"
      },
      "source": [
        "csv_logger = keras.callbacks.CSVLogger('training.log')"
      ],
      "execution_count": null,
      "outputs": []
    },
    {
      "cell_type": "code",
      "metadata": {
        "id": "hdQSGxUc7qCK"
      },
      "source": [
        "model.fit(X_train, y_train, callbacks = [csv_logger])"
      ],
      "execution_count": null,
      "outputs": []
    },
    {
      "cell_type": "markdown",
      "metadata": {
        "id": "JzpPWr6E7vbf"
      },
      "source": [
        "## LambdaCallBack\n",
        "* シンプルな自作コールバックを急いで作るためのコールバックでｓ\n",
        "* コールバックは、適切なタイミングで呼び出される無名関数で構築されます。\n",
        "* 以下のような位置引数が必要であることに注意してください\n",
        "* https://keras.io/ja/callbacks/"
      ]
    },
    {
      "cell_type": "markdown",
      "metadata": {
        "id": "O96KhC3j9Gae"
      },
      "source": [
        "## コールバックを作成\n",
        "* keras.callbacks.Callbackを拡張することで出来る"
      ]
    },
    {
      "cell_type": "code",
      "metadata": {
        "id": "Kjd61OS68mAr"
      },
      "source": [
        "class LossHistory(keras.callbacks.Callback):\n",
        "    def on_train_begin(self, logs={}):\n",
        "        self.losses = []\n",
        "\n",
        "    def on_batch_end(self, batch, logs={}):\n",
        "        self.losses.append(logs.get('loss'))"
      ],
      "execution_count": null,
      "outputs": []
    },
    {
      "cell_type": "code",
      "metadata": {
        "id": "-WsQW6xo9Ldh"
      },
      "source": [
        "model = Sequential()\n",
        "model.add(Dense(10, input_dim=784, kernel_initializer='uniform'))\n",
        "model.add(Activation('softmax'))\n",
        "model.compile(loss='categorical_crossentropy', optimizer='rmsprop')\n",
        "\n",
        "history = LossHistory()\n",
        "model.fit(x_train, y_train, batch_size=128, epochs=20, verbose=0, callbacks=[history])\n",
        "\n",
        "print(history.losses)"
      ],
      "execution_count": null,
      "outputs": []
    },
    {
      "cell_type": "markdown",
      "metadata": {
        "id": "hT8t8YAV9RMg"
      },
      "source": [
        "## 例：モデルのチェックポイント\n"
      ]
    },
    {
      "cell_type": "code",
      "metadata": {
        "id": "U2QG2DEV9UmA"
      },
      "source": [
        "from keras.callbacks import ModelCheckpoint\n",
        "\n",
        "model = Sequential()\n",
        "model.add(Dense(10, input_dim=784, kernel_initializer='uniform'))\n",
        "model.add(Activation('softmax'))\n",
        "model.compile(loss='categorical_crossentropy', optimizer='rmsprop')\n",
        "\n",
        "'''\n",
        "バリデーションロスが減少した場合に，各エポック終了後，モデルの重みを保存します\n",
        "'''\n",
        "checkpointer = ModelCheckpoint(filepath='/tmp/weights.hdf5', verbose=1, save_best_only=True)\n",
        "model.fit(x_train,\n",
        "          y_train,\n",
        "          batch_size=128,\n",
        "          epochs=20,\n",
        "          verbose=0,\n",
        "          validation_data=(X_test, Y_test), \n",
        "          callbacks=[checkpointer])"
      ],
      "execution_count": null,
      "outputs": []
    }
  ]
}