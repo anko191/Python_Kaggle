{
  "nbformat": 4,
  "nbformat_minor": 0,
  "metadata": {
    "colab": {
      "name": "pandas_multiindex",
      "provenance": [],
      "collapsed_sections": [],
      "authorship_tag": "ABX9TyOCZvp96w8/NkOzn0TwyUQ+",
      "include_colab_link": true
    },
    "kernelspec": {
      "name": "python3",
      "display_name": "Python 3"
    }
  },
  "cells": [
    {
      "cell_type": "markdown",
      "metadata": {
        "id": "view-in-github",
        "colab_type": "text"
      },
      "source": [
        "<a href=\"https://colab.research.google.com/github/anko191/Python_Kaggle/blob/master/pandas/pandas_multiindex.ipynb\" target=\"_parent\"><img src=\"https://colab.research.google.com/assets/colab-badge.svg\" alt=\"Open In Colab\"/></a>"
      ]
    },
    {
      "cell_type": "code",
      "metadata": {
        "id": "J_9ovdyiynlW",
        "colab_type": "code",
        "colab": {
          "base_uri": "https://localhost:8080/",
          "height": 306
        },
        "outputId": "282da65c-6377-4141-dcf5-498cabe100d2"
      },
      "source": [
        "import pandas as pd\n",
        "df = pd.read_csv('/content/sample_multi.csv')\n",
        "print(df)"
      ],
      "execution_count": 177,
      "outputs": [
        {
          "output_type": "stream",
          "text": [
            "   level_1 level_2 level_3  val_1  val_2\n",
            "0       A0      B0      C0     98     90\n",
            "1       A0      B0      C1     44      9\n",
            "2       A0      B1      C2     39     17\n",
            "3       A0      B1      C3     75     71\n",
            "4       A1      B2      C0      1     89\n",
            "5       A1      B2      C1     54     60\n",
            "6       A1      B3      C2     47      6\n",
            "7       A1      B3      C3     16      5\n",
            "8       A2      B0      C0     75     22\n",
            "9       A2      B0      C1     19      4\n",
            "10      A2      B1      C2     25     52\n",
            "11      A2      B1      C3     57     40\n",
            "12      A3      B2      C0     64     54\n",
            "13      A3      B2      C1     27     96\n",
            "14      A3      B3      C2    100     77\n",
            "15      A3      B3      C3     22     50\n"
          ],
          "name": "stdout"
        }
      ]
    },
    {
      "cell_type": "code",
      "metadata": {
        "id": "J8VCfsctyztT",
        "colab_type": "code",
        "colab": {}
      },
      "source": [
        ""
      ],
      "execution_count": null,
      "outputs": []
    },
    {
      "cell_type": "code",
      "metadata": {
        "id": "dAZufHggOa46",
        "colab_type": "code",
        "colab": {
          "base_uri": "https://localhost:8080/",
          "height": 323
        },
        "outputId": "6c4913b6-d64a-4fbe-be91-e4e07ec078df"
      },
      "source": [
        "df_m_csv = pd.read_csv('/content/sample_multi.csv',index_col = ['level_1', 'level_2', 'level_3'])\n",
        "print(df_m_csv)"
      ],
      "execution_count": 178,
      "outputs": [
        {
          "output_type": "stream",
          "text": [
            "                         val_1  val_2\n",
            "level_1 level_2 level_3              \n",
            "A0      B0      C0          98     90\n",
            "                C1          44      9\n",
            "        B1      C2          39     17\n",
            "                C3          75     71\n",
            "A1      B2      C0           1     89\n",
            "                C1          54     60\n",
            "        B3      C2          47      6\n",
            "                C3          16      5\n",
            "A2      B0      C0          75     22\n",
            "                C1          19      4\n",
            "        B1      C2          25     52\n",
            "                C3          57     40\n",
            "A3      B2      C0          64     54\n",
            "                C1          27     96\n",
            "        B3      C2         100     77\n",
            "                C3          22     50\n"
          ],
          "name": "stdout"
        }
      ]
    },
    {
      "cell_type": "code",
      "metadata": {
        "id": "YXPCHbfxOqpI",
        "colab_type": "code",
        "colab": {
          "base_uri": "https://localhost:8080/",
          "height": 323
        },
        "outputId": "90e561b1-2a2b-45ee-f50d-56b21fc19b00"
      },
      "source": [
        "df_m = df.set_index(['level_1', 'level_2', 'level_3'])\n",
        "print(df_m)"
      ],
      "execution_count": 179,
      "outputs": [
        {
          "output_type": "stream",
          "text": [
            "                         val_1  val_2\n",
            "level_1 level_2 level_3              \n",
            "A0      B0      C0          98     90\n",
            "                C1          44      9\n",
            "        B1      C2          39     17\n",
            "                C3          75     71\n",
            "A1      B2      C0           1     89\n",
            "                C1          54     60\n",
            "        B3      C2          47      6\n",
            "                C3          16      5\n",
            "A2      B0      C0          75     22\n",
            "                C1          19      4\n",
            "        B1      C2          25     52\n",
            "                C3          57     40\n",
            "A3      B2      C0          64     54\n",
            "                C1          27     96\n",
            "        B3      C2         100     77\n",
            "                C3          22     50\n"
          ],
          "name": "stdout"
        }
      ]
    },
    {
      "cell_type": "code",
      "metadata": {
        "id": "KzHGUaiaPEMo",
        "colab_type": "code",
        "colab": {}
      },
      "source": [
        "df_m_1 = df.set_index('level_1')"
      ],
      "execution_count": 180,
      "outputs": []
    },
    {
      "cell_type": "code",
      "metadata": {
        "id": "xwSsDpCBPHSH",
        "colab_type": "code",
        "colab": {}
      },
      "source": [
        "df_m_2 = df_m_1.set_index('level_2', append = True)"
      ],
      "execution_count": 181,
      "outputs": []
    },
    {
      "cell_type": "code",
      "metadata": {
        "id": "AmwkV3hWPLTX",
        "colab_type": "code",
        "colab": {
          "base_uri": "https://localhost:8080/",
          "height": 576
        },
        "outputId": "92bfc6dc-957f-4b11-c835-ba18e7745bd4"
      },
      "source": [
        "df_m_2"
      ],
      "execution_count": 182,
      "outputs": [
        {
          "output_type": "execute_result",
          "data": {
            "text/html": [
              "<div>\n",
              "<style scoped>\n",
              "    .dataframe tbody tr th:only-of-type {\n",
              "        vertical-align: middle;\n",
              "    }\n",
              "\n",
              "    .dataframe tbody tr th {\n",
              "        vertical-align: top;\n",
              "    }\n",
              "\n",
              "    .dataframe thead th {\n",
              "        text-align: right;\n",
              "    }\n",
              "</style>\n",
              "<table border=\"1\" class=\"dataframe\">\n",
              "  <thead>\n",
              "    <tr style=\"text-align: right;\">\n",
              "      <th></th>\n",
              "      <th></th>\n",
              "      <th>level_3</th>\n",
              "      <th>val_1</th>\n",
              "      <th>val_2</th>\n",
              "    </tr>\n",
              "    <tr>\n",
              "      <th>level_1</th>\n",
              "      <th>level_2</th>\n",
              "      <th></th>\n",
              "      <th></th>\n",
              "      <th></th>\n",
              "    </tr>\n",
              "  </thead>\n",
              "  <tbody>\n",
              "    <tr>\n",
              "      <th rowspan=\"4\" valign=\"top\">A0</th>\n",
              "      <th>B0</th>\n",
              "      <td>C0</td>\n",
              "      <td>98</td>\n",
              "      <td>90</td>\n",
              "    </tr>\n",
              "    <tr>\n",
              "      <th>B0</th>\n",
              "      <td>C1</td>\n",
              "      <td>44</td>\n",
              "      <td>9</td>\n",
              "    </tr>\n",
              "    <tr>\n",
              "      <th>B1</th>\n",
              "      <td>C2</td>\n",
              "      <td>39</td>\n",
              "      <td>17</td>\n",
              "    </tr>\n",
              "    <tr>\n",
              "      <th>B1</th>\n",
              "      <td>C3</td>\n",
              "      <td>75</td>\n",
              "      <td>71</td>\n",
              "    </tr>\n",
              "    <tr>\n",
              "      <th rowspan=\"4\" valign=\"top\">A1</th>\n",
              "      <th>B2</th>\n",
              "      <td>C0</td>\n",
              "      <td>1</td>\n",
              "      <td>89</td>\n",
              "    </tr>\n",
              "    <tr>\n",
              "      <th>B2</th>\n",
              "      <td>C1</td>\n",
              "      <td>54</td>\n",
              "      <td>60</td>\n",
              "    </tr>\n",
              "    <tr>\n",
              "      <th>B3</th>\n",
              "      <td>C2</td>\n",
              "      <td>47</td>\n",
              "      <td>6</td>\n",
              "    </tr>\n",
              "    <tr>\n",
              "      <th>B3</th>\n",
              "      <td>C3</td>\n",
              "      <td>16</td>\n",
              "      <td>5</td>\n",
              "    </tr>\n",
              "    <tr>\n",
              "      <th rowspan=\"4\" valign=\"top\">A2</th>\n",
              "      <th>B0</th>\n",
              "      <td>C0</td>\n",
              "      <td>75</td>\n",
              "      <td>22</td>\n",
              "    </tr>\n",
              "    <tr>\n",
              "      <th>B0</th>\n",
              "      <td>C1</td>\n",
              "      <td>19</td>\n",
              "      <td>4</td>\n",
              "    </tr>\n",
              "    <tr>\n",
              "      <th>B1</th>\n",
              "      <td>C2</td>\n",
              "      <td>25</td>\n",
              "      <td>52</td>\n",
              "    </tr>\n",
              "    <tr>\n",
              "      <th>B1</th>\n",
              "      <td>C3</td>\n",
              "      <td>57</td>\n",
              "      <td>40</td>\n",
              "    </tr>\n",
              "    <tr>\n",
              "      <th rowspan=\"4\" valign=\"top\">A3</th>\n",
              "      <th>B2</th>\n",
              "      <td>C0</td>\n",
              "      <td>64</td>\n",
              "      <td>54</td>\n",
              "    </tr>\n",
              "    <tr>\n",
              "      <th>B2</th>\n",
              "      <td>C1</td>\n",
              "      <td>27</td>\n",
              "      <td>96</td>\n",
              "    </tr>\n",
              "    <tr>\n",
              "      <th>B3</th>\n",
              "      <td>C2</td>\n",
              "      <td>100</td>\n",
              "      <td>77</td>\n",
              "    </tr>\n",
              "    <tr>\n",
              "      <th>B3</th>\n",
              "      <td>C3</td>\n",
              "      <td>22</td>\n",
              "      <td>50</td>\n",
              "    </tr>\n",
              "  </tbody>\n",
              "</table>\n",
              "</div>"
            ],
            "text/plain": [
              "                level_3  val_1  val_2\n",
              "level_1 level_2                      \n",
              "A0      B0           C0     98     90\n",
              "        B0           C1     44      9\n",
              "        B1           C2     39     17\n",
              "        B1           C3     75     71\n",
              "A1      B2           C0      1     89\n",
              "        B2           C1     54     60\n",
              "        B3           C2     47      6\n",
              "        B3           C3     16      5\n",
              "A2      B0           C0     75     22\n",
              "        B0           C1     19      4\n",
              "        B1           C2     25     52\n",
              "        B1           C3     57     40\n",
              "A3      B2           C0     64     54\n",
              "        B2           C1     27     96\n",
              "        B3           C2    100     77\n",
              "        B3           C3     22     50"
            ]
          },
          "metadata": {
            "tags": []
          },
          "execution_count": 182
        }
      ]
    },
    {
      "cell_type": "code",
      "metadata": {
        "id": "oXn0KiiAPMB4",
        "colab_type": "code",
        "colab": {
          "base_uri": "https://localhost:8080/",
          "height": 306
        },
        "outputId": "cc822825-a27f-4d66-b65c-3a23f96110d5"
      },
      "source": [
        "df_r_all = df_m.reset_index()\n",
        "print(df_r_all)"
      ],
      "execution_count": 183,
      "outputs": [
        {
          "output_type": "stream",
          "text": [
            "   level_1 level_2 level_3  val_1  val_2\n",
            "0       A0      B0      C0     98     90\n",
            "1       A0      B0      C1     44      9\n",
            "2       A0      B1      C2     39     17\n",
            "3       A0      B1      C3     75     71\n",
            "4       A1      B2      C0      1     89\n",
            "5       A1      B2      C1     54     60\n",
            "6       A1      B3      C2     47      6\n",
            "7       A1      B3      C3     16      5\n",
            "8       A2      B0      C0     75     22\n",
            "9       A2      B0      C1     19      4\n",
            "10      A2      B1      C2     25     52\n",
            "11      A2      B1      C3     57     40\n",
            "12      A3      B2      C0     64     54\n",
            "13      A3      B2      C1     27     96\n",
            "14      A3      B3      C2    100     77\n",
            "15      A3      B3      C3     22     50\n"
          ],
          "name": "stdout"
        }
      ]
    },
    {
      "cell_type": "code",
      "metadata": {
        "id": "lNxqUDX_PVof",
        "colab_type": "code",
        "colab": {
          "base_uri": "https://localhost:8080/",
          "height": 323
        },
        "outputId": "c1a99e72-fb11-4f80-b471-ee37fcb70626"
      },
      "source": [
        "df_r_1 = df_m.reset_index(level = 0)\n",
        "print(df_r_1)"
      ],
      "execution_count": 184,
      "outputs": [
        {
          "output_type": "stream",
          "text": [
            "                level_1  val_1  val_2\n",
            "level_2 level_3                      \n",
            "B0      C0           A0     98     90\n",
            "        C1           A0     44      9\n",
            "B1      C2           A0     39     17\n",
            "        C3           A0     75     71\n",
            "B2      C0           A1      1     89\n",
            "        C1           A1     54     60\n",
            "B3      C2           A1     47      6\n",
            "        C3           A1     16      5\n",
            "B0      C0           A2     75     22\n",
            "        C1           A2     19      4\n",
            "B1      C2           A2     25     52\n",
            "        C3           A2     57     40\n",
            "B2      C0           A3     64     54\n",
            "        C1           A3     27     96\n",
            "B3      C2           A3    100     77\n",
            "        C3           A3     22     50\n"
          ],
          "name": "stdout"
        }
      ]
    },
    {
      "cell_type": "code",
      "metadata": {
        "id": "N3BcywY9PbcW",
        "colab_type": "code",
        "colab": {}
      },
      "source": [
        "df_r_drop = df_m.reset_index(level='level_1', drop=True)"
      ],
      "execution_count": 185,
      "outputs": []
    },
    {
      "cell_type": "code",
      "metadata": {
        "id": "cGXDI7qnPqT3",
        "colab_type": "code",
        "colab": {
          "base_uri": "https://localhost:8080/",
          "height": 323
        },
        "outputId": "4027f74b-2675-40a8-cc9c-02467f3abc4f"
      },
      "source": [
        "print(df_r_drop)"
      ],
      "execution_count": 186,
      "outputs": [
        {
          "output_type": "stream",
          "text": [
            "                 val_1  val_2\n",
            "level_2 level_3              \n",
            "B0      C0          98     90\n",
            "        C1          44      9\n",
            "B1      C2          39     17\n",
            "        C3          75     71\n",
            "B2      C0           1     89\n",
            "        C1          54     60\n",
            "B3      C2          47      6\n",
            "        C3          16      5\n",
            "B0      C0          75     22\n",
            "        C1          19      4\n",
            "B1      C2          25     52\n",
            "        C3          57     40\n",
            "B2      C0          64     54\n",
            "        C1          27     96\n",
            "B3      C2         100     77\n",
            "        C3          22     50\n"
          ],
          "name": "stdout"
        }
      ]
    },
    {
      "cell_type": "code",
      "metadata": {
        "id": "siauYtlEPrdu",
        "colab_type": "code",
        "colab": {
          "base_uri": "https://localhost:8080/",
          "height": 323
        },
        "outputId": "19516aea-5d07-49c3-f948-6531bdf8f655"
      },
      "source": [
        "df_r_drop_sort = df_r_drop.sort_index()\n",
        "print(df_r_drop_sort)"
      ],
      "execution_count": 187,
      "outputs": [
        {
          "output_type": "stream",
          "text": [
            "                 val_1  val_2\n",
            "level_2 level_3              \n",
            "B0      C0          98     90\n",
            "        C0          75     22\n",
            "        C1          44      9\n",
            "        C1          19      4\n",
            "B1      C2          39     17\n",
            "        C2          25     52\n",
            "        C3          75     71\n",
            "        C3          57     40\n",
            "B2      C0           1     89\n",
            "        C0          64     54\n",
            "        C1          54     60\n",
            "        C1          27     96\n",
            "B3      C2          47      6\n",
            "        C2         100     77\n",
            "        C3          16      5\n",
            "        C3          22     50\n"
          ],
          "name": "stdout"
        }
      ]
    },
    {
      "cell_type": "code",
      "metadata": {
        "id": "Wb24r6IKP2nW",
        "colab_type": "code",
        "colab": {
          "base_uri": "https://localhost:8080/",
          "height": 323
        },
        "outputId": "41b686f8-b861-40a0-aca7-d584b3e0cc29"
      },
      "source": [
        "df_r_drop_sort_2 = df_r_drop.sort_index(level = 'level_3')\n",
        "print(df_r_drop_sort_2)"
      ],
      "execution_count": 188,
      "outputs": [
        {
          "output_type": "stream",
          "text": [
            "                 val_1  val_2\n",
            "level_2 level_3              \n",
            "B0      C0          98     90\n",
            "        C0          75     22\n",
            "B2      C0           1     89\n",
            "        C0          64     54\n",
            "B0      C1          44      9\n",
            "        C1          19      4\n",
            "B2      C1          54     60\n",
            "        C1          27     96\n",
            "B1      C2          39     17\n",
            "        C2          25     52\n",
            "B3      C2          47      6\n",
            "        C2         100     77\n",
            "B1      C3          75     71\n",
            "        C3          57     40\n",
            "B3      C3          16      5\n",
            "        C3          22     50\n"
          ],
          "name": "stdout"
        }
      ]
    },
    {
      "cell_type": "code",
      "metadata": {
        "id": "xHzUWzWtQAvG",
        "colab_type": "code",
        "colab": {
          "base_uri": "https://localhost:8080/",
          "height": 576
        },
        "outputId": "4f6d9e01-19e3-4768-b736-6a9929700217"
      },
      "source": [
        "df_m"
      ],
      "execution_count": 189,
      "outputs": [
        {
          "output_type": "execute_result",
          "data": {
            "text/html": [
              "<div>\n",
              "<style scoped>\n",
              "    .dataframe tbody tr th:only-of-type {\n",
              "        vertical-align: middle;\n",
              "    }\n",
              "\n",
              "    .dataframe tbody tr th {\n",
              "        vertical-align: top;\n",
              "    }\n",
              "\n",
              "    .dataframe thead th {\n",
              "        text-align: right;\n",
              "    }\n",
              "</style>\n",
              "<table border=\"1\" class=\"dataframe\">\n",
              "  <thead>\n",
              "    <tr style=\"text-align: right;\">\n",
              "      <th></th>\n",
              "      <th></th>\n",
              "      <th></th>\n",
              "      <th>val_1</th>\n",
              "      <th>val_2</th>\n",
              "    </tr>\n",
              "    <tr>\n",
              "      <th>level_1</th>\n",
              "      <th>level_2</th>\n",
              "      <th>level_3</th>\n",
              "      <th></th>\n",
              "      <th></th>\n",
              "    </tr>\n",
              "  </thead>\n",
              "  <tbody>\n",
              "    <tr>\n",
              "      <th rowspan=\"4\" valign=\"top\">A0</th>\n",
              "      <th rowspan=\"2\" valign=\"top\">B0</th>\n",
              "      <th>C0</th>\n",
              "      <td>98</td>\n",
              "      <td>90</td>\n",
              "    </tr>\n",
              "    <tr>\n",
              "      <th>C1</th>\n",
              "      <td>44</td>\n",
              "      <td>9</td>\n",
              "    </tr>\n",
              "    <tr>\n",
              "      <th rowspan=\"2\" valign=\"top\">B1</th>\n",
              "      <th>C2</th>\n",
              "      <td>39</td>\n",
              "      <td>17</td>\n",
              "    </tr>\n",
              "    <tr>\n",
              "      <th>C3</th>\n",
              "      <td>75</td>\n",
              "      <td>71</td>\n",
              "    </tr>\n",
              "    <tr>\n",
              "      <th rowspan=\"4\" valign=\"top\">A1</th>\n",
              "      <th rowspan=\"2\" valign=\"top\">B2</th>\n",
              "      <th>C0</th>\n",
              "      <td>1</td>\n",
              "      <td>89</td>\n",
              "    </tr>\n",
              "    <tr>\n",
              "      <th>C1</th>\n",
              "      <td>54</td>\n",
              "      <td>60</td>\n",
              "    </tr>\n",
              "    <tr>\n",
              "      <th rowspan=\"2\" valign=\"top\">B3</th>\n",
              "      <th>C2</th>\n",
              "      <td>47</td>\n",
              "      <td>6</td>\n",
              "    </tr>\n",
              "    <tr>\n",
              "      <th>C3</th>\n",
              "      <td>16</td>\n",
              "      <td>5</td>\n",
              "    </tr>\n",
              "    <tr>\n",
              "      <th rowspan=\"4\" valign=\"top\">A2</th>\n",
              "      <th rowspan=\"2\" valign=\"top\">B0</th>\n",
              "      <th>C0</th>\n",
              "      <td>75</td>\n",
              "      <td>22</td>\n",
              "    </tr>\n",
              "    <tr>\n",
              "      <th>C1</th>\n",
              "      <td>19</td>\n",
              "      <td>4</td>\n",
              "    </tr>\n",
              "    <tr>\n",
              "      <th rowspan=\"2\" valign=\"top\">B1</th>\n",
              "      <th>C2</th>\n",
              "      <td>25</td>\n",
              "      <td>52</td>\n",
              "    </tr>\n",
              "    <tr>\n",
              "      <th>C3</th>\n",
              "      <td>57</td>\n",
              "      <td>40</td>\n",
              "    </tr>\n",
              "    <tr>\n",
              "      <th rowspan=\"4\" valign=\"top\">A3</th>\n",
              "      <th rowspan=\"2\" valign=\"top\">B2</th>\n",
              "      <th>C0</th>\n",
              "      <td>64</td>\n",
              "      <td>54</td>\n",
              "    </tr>\n",
              "    <tr>\n",
              "      <th>C1</th>\n",
              "      <td>27</td>\n",
              "      <td>96</td>\n",
              "    </tr>\n",
              "    <tr>\n",
              "      <th rowspan=\"2\" valign=\"top\">B3</th>\n",
              "      <th>C2</th>\n",
              "      <td>100</td>\n",
              "      <td>77</td>\n",
              "    </tr>\n",
              "    <tr>\n",
              "      <th>C3</th>\n",
              "      <td>22</td>\n",
              "      <td>50</td>\n",
              "    </tr>\n",
              "  </tbody>\n",
              "</table>\n",
              "</div>"
            ],
            "text/plain": [
              "                         val_1  val_2\n",
              "level_1 level_2 level_3              \n",
              "A0      B0      C0          98     90\n",
              "                C1          44      9\n",
              "        B1      C2          39     17\n",
              "                C3          75     71\n",
              "A1      B2      C0           1     89\n",
              "                C1          54     60\n",
              "        B3      C2          47      6\n",
              "                C3          16      5\n",
              "A2      B0      C0          75     22\n",
              "                C1          19      4\n",
              "        B1      C2          25     52\n",
              "                C3          57     40\n",
              "A3      B2      C0          64     54\n",
              "                C1          27     96\n",
              "        B3      C2         100     77\n",
              "                C3          22     50"
            ]
          },
          "metadata": {
            "tags": []
          },
          "execution_count": 189
        }
      ]
    },
    {
      "cell_type": "code",
      "metadata": {
        "id": "Z2lZ8sHhQohW",
        "colab_type": "code",
        "colab": {
          "base_uri": "https://localhost:8080/",
          "height": 323
        },
        "outputId": "d249e3e6-573a-4d9f-9211-4170ba3480e9"
      },
      "source": [
        "df_m_swap = df_m.swaplevel('level_1', 'level_3')\n",
        "print(df_m_swap)"
      ],
      "execution_count": 190,
      "outputs": [
        {
          "output_type": "stream",
          "text": [
            "                         val_1  val_2\n",
            "level_3 level_2 level_1              \n",
            "C0      B0      A0          98     90\n",
            "C1      B0      A0          44      9\n",
            "C2      B1      A0          39     17\n",
            "C3      B1      A0          75     71\n",
            "C0      B2      A1           1     89\n",
            "C1      B2      A1          54     60\n",
            "C2      B3      A1          47      6\n",
            "C3      B3      A1          16      5\n",
            "C0      B0      A2          75     22\n",
            "C1      B0      A2          19      4\n",
            "C2      B1      A2          25     52\n",
            "C3      B1      A2          57     40\n",
            "C0      B2      A3          64     54\n",
            "C1      B2      A3          27     96\n",
            "C2      B3      A3         100     77\n",
            "C3      B3      A3          22     50\n"
          ],
          "name": "stdout"
        }
      ]
    },
    {
      "cell_type": "code",
      "metadata": {
        "id": "DyqHjIFUQs7m",
        "colab_type": "code",
        "colab": {
          "base_uri": "https://localhost:8080/",
          "height": 323
        },
        "outputId": "6db40fe4-5477-40c8-e511-53a1ec22adc3"
      },
      "source": [
        "df_m_swap = df_m.swaplevel(0,2)\n",
        "print(df_m_swap)"
      ],
      "execution_count": 191,
      "outputs": [
        {
          "output_type": "stream",
          "text": [
            "                         val_1  val_2\n",
            "level_3 level_2 level_1              \n",
            "C0      B0      A0          98     90\n",
            "C1      B0      A0          44      9\n",
            "C2      B1      A0          39     17\n",
            "C3      B1      A0          75     71\n",
            "C0      B2      A1           1     89\n",
            "C1      B2      A1          54     60\n",
            "C2      B3      A1          47      6\n",
            "C3      B3      A1          16      5\n",
            "C0      B0      A2          75     22\n",
            "C1      B0      A2          19      4\n",
            "C2      B1      A2          25     52\n",
            "C3      B1      A2          57     40\n",
            "C0      B2      A3          64     54\n",
            "C1      B2      A3          27     96\n",
            "C2      B3      A3         100     77\n",
            "C3      B3      A3          22     50\n"
          ],
          "name": "stdout"
        }
      ]
    },
    {
      "cell_type": "code",
      "metadata": {
        "id": "HasJcifrQx64",
        "colab_type": "code",
        "colab": {}
      },
      "source": [
        "df_m_swap_sort = df_m.swaplevel('level_1', 'level_3').sort_index()"
      ],
      "execution_count": 192,
      "outputs": []
    },
    {
      "cell_type": "code",
      "metadata": {
        "id": "7Sp85VLwQ24-",
        "colab_type": "code",
        "colab": {
          "base_uri": "https://localhost:8080/",
          "height": 323
        },
        "outputId": "1bf3dc56-790f-4387-bced-f7cde872c648"
      },
      "source": [
        "print(df_m_swap_sort)"
      ],
      "execution_count": 193,
      "outputs": [
        {
          "output_type": "stream",
          "text": [
            "                         val_1  val_2\n",
            "level_3 level_2 level_1              \n",
            "C0      B0      A0          98     90\n",
            "                A2          75     22\n",
            "        B2      A1           1     89\n",
            "                A3          64     54\n",
            "C1      B0      A0          44      9\n",
            "                A2          19      4\n",
            "        B2      A1          54     60\n",
            "                A3          27     96\n",
            "C2      B1      A0          39     17\n",
            "                A2          25     52\n",
            "        B3      A1          47      6\n",
            "                A3         100     77\n",
            "C3      B1      A0          75     71\n",
            "                A2          57     40\n",
            "        B3      A1          16      5\n",
            "                A3          22     50\n"
          ],
          "name": "stdout"
        }
      ]
    },
    {
      "cell_type": "code",
      "metadata": {
        "id": "hw0FBsvDQ38F",
        "colab_type": "code",
        "colab": {
          "base_uri": "https://localhost:8080/",
          "height": 323
        },
        "outputId": "a7c1c21e-80da-4ad8-be93-b7e4aa591239"
      },
      "source": [
        "df = pd.read_csv('/content/sample_multi.csv',index_col = [0,1,2])\n",
        "print(df)"
      ],
      "execution_count": 194,
      "outputs": [
        {
          "output_type": "stream",
          "text": [
            "                         val_1  val_2\n",
            "level_1 level_2 level_3              \n",
            "A0      B0      C0          98     90\n",
            "                C1          44      9\n",
            "        B1      C2          39     17\n",
            "                C3          75     71\n",
            "A1      B2      C0           1     89\n",
            "                C1          54     60\n",
            "        B3      C2          47      6\n",
            "                C3          16      5\n",
            "A2      B0      C0          75     22\n",
            "                C1          19      4\n",
            "        B1      C2          25     52\n",
            "                C3          57     40\n",
            "A3      B2      C0          64     54\n",
            "                C1          27     96\n",
            "        B3      C2         100     77\n",
            "                C3          22     50\n"
          ],
          "name": "stdout"
        }
      ]
    },
    {
      "cell_type": "code",
      "metadata": {
        "id": "k50EAFo7RNUV",
        "colab_type": "code",
        "colab": {
          "base_uri": "https://localhost:8080/",
          "height": 306
        },
        "outputId": "7f3bcc38-50f2-4109-b65e-db98301bded6"
      },
      "source": [
        "print(df.index)"
      ],
      "execution_count": 195,
      "outputs": [
        {
          "output_type": "stream",
          "text": [
            "MultiIndex([('A0', 'B0', 'C0'),\n",
            "            ('A0', 'B0', 'C1'),\n",
            "            ('A0', 'B1', 'C2'),\n",
            "            ('A0', 'B1', 'C3'),\n",
            "            ('A1', 'B2', 'C0'),\n",
            "            ('A1', 'B2', 'C1'),\n",
            "            ('A1', 'B3', 'C2'),\n",
            "            ('A1', 'B3', 'C3'),\n",
            "            ('A2', 'B0', 'C0'),\n",
            "            ('A2', 'B0', 'C1'),\n",
            "            ('A2', 'B1', 'C2'),\n",
            "            ('A2', 'B1', 'C3'),\n",
            "            ('A3', 'B2', 'C0'),\n",
            "            ('A3', 'B2', 'C1'),\n",
            "            ('A3', 'B3', 'C2'),\n",
            "            ('A3', 'B3', 'C3')],\n",
            "           names=['level_1', 'level_2', 'level_3'])\n"
          ],
          "name": "stdout"
        }
      ]
    },
    {
      "cell_type": "code",
      "metadata": {
        "id": "VoSie4CeROtO",
        "colab_type": "code",
        "colab": {
          "base_uri": "https://localhost:8080/",
          "height": 119
        },
        "outputId": "50a92be7-4613-4fc1-adbe-258fe44208d8"
      },
      "source": [
        "print(df.loc['A0', 'val_1'])"
      ],
      "execution_count": 196,
      "outputs": [
        {
          "output_type": "stream",
          "text": [
            "level_2  level_3\n",
            "B0       C0         98\n",
            "         C1         44\n",
            "B1       C2         39\n",
            "         C3         75\n",
            "Name: val_1, dtype: int64\n"
          ],
          "name": "stdout"
        }
      ]
    },
    {
      "cell_type": "code",
      "metadata": {
        "id": "Dp6k-XQGRcxW",
        "colab_type": "code",
        "colab": {
          "base_uri": "https://localhost:8080/",
          "height": 221
        },
        "outputId": "ece8bf3a-78cb-4014-8f7d-4c99af4a3dec"
      },
      "source": [
        "print(df.loc['A0',:])\n",
        "print(df.loc['A0'])"
      ],
      "execution_count": 197,
      "outputs": [
        {
          "output_type": "stream",
          "text": [
            "                 val_1  val_2\n",
            "level_2 level_3              \n",
            "B0      C0          98     90\n",
            "        C1          44      9\n",
            "B1      C2          39     17\n",
            "        C3          75     71\n",
            "                 val_1  val_2\n",
            "level_2 level_3              \n",
            "B0      C0          98     90\n",
            "        C1          44      9\n",
            "B1      C2          39     17\n",
            "        C3          75     71\n"
          ],
          "name": "stdout"
        }
      ]
    },
    {
      "cell_type": "code",
      "metadata": {
        "id": "uPhwm9QASEe2",
        "colab_type": "code",
        "colab": {
          "base_uri": "https://localhost:8080/",
          "height": 255
        },
        "outputId": "3da70075-1792-4b38-c8ff-a7284e1c7363"
      },
      "source": [
        "print(df.loc['A0':'A2', :])"
      ],
      "execution_count": 198,
      "outputs": [
        {
          "output_type": "stream",
          "text": [
            "                         val_1  val_2\n",
            "level_1 level_2 level_3              \n",
            "A0      B0      C0          98     90\n",
            "                C1          44      9\n",
            "        B1      C2          39     17\n",
            "                C3          75     71\n",
            "A1      B2      C0           1     89\n",
            "                C1          54     60\n",
            "        B3      C2          47      6\n",
            "                C3          16      5\n",
            "A2      B0      C0          75     22\n",
            "                C1          19      4\n",
            "        B1      C2          25     52\n",
            "                C3          57     40\n"
          ],
          "name": "stdout"
        }
      ]
    },
    {
      "cell_type": "code",
      "metadata": {
        "id": "qMJmmXdKSG5_",
        "colab_type": "code",
        "colab": {
          "base_uri": "https://localhost:8080/",
          "height": 119
        },
        "outputId": "eca102dd-9233-45fa-f4ca-d657773cd30e"
      },
      "source": [
        "print(df.loc[(['A0', 'A1'], ['B0', 'B3']), :])"
      ],
      "execution_count": 199,
      "outputs": [
        {
          "output_type": "stream",
          "text": [
            "                         val_1  val_2\n",
            "level_1 level_2 level_3              \n",
            "A0      B0      C0          98     90\n",
            "                C1          44      9\n",
            "A1      B3      C2          47      6\n",
            "                C3          16      5\n"
          ],
          "name": "stdout"
        }
      ]
    },
    {
      "cell_type": "code",
      "metadata": {
        "id": "f2oacmIXSmrX",
        "colab_type": "code",
        "colab": {
          "base_uri": "https://localhost:8080/",
          "height": 119
        },
        "outputId": "0d8180a2-89bd-4b38-c0aa-222cad8925a3"
      },
      "source": [
        "print(df.loc[(slice(None), 'B1'), :])"
      ],
      "execution_count": 200,
      "outputs": [
        {
          "output_type": "stream",
          "text": [
            "                         val_1  val_2\n",
            "level_1 level_2 level_3              \n",
            "A0      B1      C2          39     17\n",
            "                C3          75     71\n",
            "A2      B1      C2          25     52\n",
            "                C3          57     40\n"
          ],
          "name": "stdout"
        }
      ]
    },
    {
      "cell_type": "code",
      "metadata": {
        "id": "Wa6808wvSu2u",
        "colab_type": "code",
        "colab": {
          "base_uri": "https://localhost:8080/",
          "height": 102
        },
        "outputId": "a1584287-2132-4591-96d4-3ee7e3cdc283"
      },
      "source": [
        "print(df.loc[(slice('A1', 'A3'), ['B0', 'B2'], 'C1'), :])"
      ],
      "execution_count": 201,
      "outputs": [
        {
          "output_type": "stream",
          "text": [
            "                         val_1  val_2\n",
            "level_1 level_2 level_3              \n",
            "A1      B2      C1          54     60\n",
            "A2      B0      C1          19      4\n",
            "A3      B2      C1          27     96\n"
          ],
          "name": "stdout"
        }
      ]
    },
    {
      "cell_type": "code",
      "metadata": {
        "id": "1si5oHm_S2QX",
        "colab_type": "code",
        "colab": {
          "base_uri": "https://localhost:8080/",
          "height": 102
        },
        "outputId": "19a2aead-ecab-425d-b8a6-613028978133"
      },
      "source": [
        "print(df.loc[pd.IndexSlice['A1':'A3', ['B0', 'B2'], 'C1'], :])"
      ],
      "execution_count": 203,
      "outputs": [
        {
          "output_type": "stream",
          "text": [
            "                         val_1  val_2\n",
            "level_1 level_2 level_3              \n",
            "A1      B2      C1          54     60\n",
            "A2      B0      C1          19      4\n",
            "A3      B2      C1          27     96\n"
          ],
          "name": "stdout"
        }
      ]
    },
    {
      "cell_type": "code",
      "metadata": {
        "id": "xRWf_MYaTHfP",
        "colab_type": "code",
        "colab": {
          "base_uri": "https://localhost:8080/",
          "height": 119
        },
        "outputId": "ec42ee81-63ec-4de8-94e3-d3b2147aefa0"
      },
      "source": [
        "print(df.xs('C1', level = 2))"
      ],
      "execution_count": 204,
      "outputs": [
        {
          "output_type": "stream",
          "text": [
            "                 val_1  val_2\n",
            "level_1 level_2              \n",
            "A0      B0          44      9\n",
            "A1      B2          54     60\n",
            "A2      B0          19      4\n",
            "A3      B2          27     96\n"
          ],
          "name": "stdout"
        }
      ]
    },
    {
      "cell_type": "code",
      "metadata": {
        "id": "rD-ImGnfTdtu",
        "colab_type": "code",
        "colab": {}
      },
      "source": [
        "df.loc[(['A0', 'A1'], ['B0', 'B3']), :] = -100"
      ],
      "execution_count": 205,
      "outputs": []
    },
    {
      "cell_type": "code",
      "metadata": {
        "id": "zAzvmljhTuWQ",
        "colab_type": "code",
        "colab": {
          "base_uri": "https://localhost:8080/",
          "height": 136
        },
        "outputId": "2e205bee-78fb-4322-b1cc-fc76222cff12"
      },
      "source": [
        "import pandas as pd\n",
        "df = pd.read_csv('/content/titanic_train.csv')\n",
        "df.drop(labels = ['Name', 'Ticket', 'Cabin'], axis = 1, inplace = True)\n",
        "df_single = df.set_index('PassengerId')\n",
        "print(df_single.head())"
      ],
      "execution_count": 206,
      "outputs": [
        {
          "output_type": "stream",
          "text": [
            "             Survived  Pclass     Sex   Age  SibSp  Parch     Fare Embarked\n",
            "PassengerId                                                                \n",
            "1                   0       3    male  22.0      1      0   7.2500        S\n",
            "2                   1       1  female  38.0      1      0  71.2833        C\n",
            "3                   1       3  female  26.0      0      0   7.9250        S\n",
            "4                   1       1  female  35.0      1      0  53.1000        S\n",
            "5                   0       3    male  35.0      0      0   8.0500        S\n"
          ],
          "name": "stdout"
        }
      ]
    },
    {
      "cell_type": "code",
      "metadata": {
        "id": "VuENIRtOUuNZ",
        "colab_type": "code",
        "colab": {}
      },
      "source": [
        "df_multi = df.set_index(['Sex', 'Pclass', 'Embarked', 'PassengerId']).sort_index()"
      ],
      "execution_count": 207,
      "outputs": []
    },
    {
      "cell_type": "code",
      "metadata": {
        "id": "2cikipXIU_Lv",
        "colab_type": "code",
        "colab": {
          "base_uri": "https://localhost:8080/",
          "height": 136
        },
        "outputId": "d9f3adc5-ee97-47a2-b018-7a2a26da1e7c"
      },
      "source": [
        "print(df_multi.head())"
      ],
      "execution_count": 208,
      "outputs": [
        {
          "output_type": "stream",
          "text": [
            "                                    Survived   Age  SibSp  Parch      Fare\n",
            "Sex    Pclass Embarked PassengerId                                        \n",
            "female 1      C        2                   1  38.0      1      0   71.2833\n",
            "                       32                  1   NaN      1      0  146.5208\n",
            "                       53                  1  49.0      1      0   76.7292\n",
            "                       178                 0  50.0      0      0   28.7125\n",
            "                       195                 1  44.0      0      0   27.7208\n"
          ],
          "name": "stdout"
        }
      ]
    },
    {
      "cell_type": "code",
      "metadata": {
        "id": "pmOW1DmwVAZP",
        "colab_type": "code",
        "colab": {
          "base_uri": "https://localhost:8080/",
          "height": 136
        },
        "outputId": "fde9c7a4-1fd9-4ddc-c93b-c63456a1ac34"
      },
      "source": [
        "print(df_multi.tail())"
      ],
      "execution_count": 209,
      "outputs": [
        {
          "output_type": "stream",
          "text": [
            "                                  Survived   Age  SibSp  Parch    Fare\n",
            "Sex  Pclass Embarked PassengerId                                      \n",
            "male 3      S        877                 0  20.0      0      0  9.8458\n",
            "                     878                 0  19.0      0      0  7.8958\n",
            "                     879                 0   NaN      0      0  7.8958\n",
            "                     882                 0  33.0      0      0  7.8958\n",
            "                     885                 0  25.0      0      0  7.0500\n"
          ],
          "name": "stdout"
        }
      ]
    },
    {
      "cell_type": "code",
      "metadata": {
        "id": "OjsV7Q2CVBvX",
        "colab_type": "code",
        "colab": {
          "base_uri": "https://localhost:8080/",
          "height": 119
        },
        "outputId": "893201ff-0649-4b79-d97f-cc1f7d5b04ce"
      },
      "source": [
        "print(df_multi.mean())"
      ],
      "execution_count": 210,
      "outputs": [
        {
          "output_type": "stream",
          "text": [
            "Survived     0.383838\n",
            "Age         29.699118\n",
            "SibSp        0.523008\n",
            "Parch        0.381594\n",
            "Fare        32.204208\n",
            "dtype: float64\n"
          ],
          "name": "stdout"
        }
      ]
    },
    {
      "cell_type": "code",
      "metadata": {
        "id": "GF7cmCTLVKGt",
        "colab_type": "code",
        "colab": {
          "base_uri": "https://localhost:8080/",
          "height": 119
        },
        "outputId": "832acb10-3ff1-4c37-934e-97689d7230c0"
      },
      "source": [
        "print(df_multi.max())"
      ],
      "execution_count": 211,
      "outputs": [
        {
          "output_type": "stream",
          "text": [
            "Survived      1.0000\n",
            "Age          80.0000\n",
            "SibSp         8.0000\n",
            "Parch         6.0000\n",
            "Fare        512.3292\n",
            "dtype: float64\n"
          ],
          "name": "stdout"
        }
      ]
    },
    {
      "cell_type": "code",
      "metadata": {
        "id": "ZpoQrH5tVXM2",
        "colab_type": "code",
        "colab": {
          "base_uri": "https://localhost:8080/",
          "height": 153
        },
        "outputId": "e291a82c-efb9-41fa-e045-93ea72ec0e8e"
      },
      "source": [
        "print(df_single.max())"
      ],
      "execution_count": 212,
      "outputs": [
        {
          "output_type": "stream",
          "text": [
            "Survived          1\n",
            "Pclass            3\n",
            "Sex            male\n",
            "Age              80\n",
            "SibSp             8\n",
            "Parch             6\n",
            "Fare        512.329\n",
            "dtype: object\n"
          ],
          "name": "stdout"
        }
      ]
    },
    {
      "cell_type": "code",
      "metadata": {
        "id": "eo-VPSL6VZyW",
        "colab_type": "code",
        "colab": {
          "base_uri": "https://localhost:8080/",
          "height": 102
        },
        "outputId": "ec116414-5030-4d96-919b-6108b845ee72"
      },
      "source": [
        "print(df_multi.mean(level=2))"
      ],
      "execution_count": 213,
      "outputs": [
        {
          "output_type": "stream",
          "text": [
            "          Survived        Age     SibSp     Parch       Fare\n",
            "Embarked                                                    \n",
            "C         0.553571  30.814769  0.386905  0.363095  59.954144\n",
            "Q         0.389610  28.089286  0.428571  0.168831  13.276030\n",
            "S         0.336957  29.445397  0.571429  0.413043  27.079812\n"
          ],
          "name": "stdout"
        }
      ]
    },
    {
      "cell_type": "code",
      "metadata": {
        "id": "ZUfZwpP8Vec1",
        "colab_type": "code",
        "colab": {
          "base_uri": "https://localhost:8080/",
          "height": 357
        },
        "outputId": "67729e51-c750-4798-c714-57a70143480a"
      },
      "source": [
        "print(df_multi.mean(level=[0,1,2]))"
      ],
      "execution_count": 214,
      "outputs": [
        {
          "output_type": "stream",
          "text": [
            "                        Survived        Age     SibSp     Parch        Fare\n",
            "Sex    Pclass Embarked                                                     \n",
            "female 1      C         0.976744  36.052632  0.511628  0.302326  115.640309\n",
            "              Q         1.000000  33.000000  1.000000  0.000000   90.000000\n",
            "              S         0.958333  32.704545  0.604167  0.625000   99.026910\n",
            "       2      C         1.000000  19.142857  0.714286  0.571429   25.268457\n",
            "              Q         1.000000  30.000000  0.000000  0.000000   12.350000\n",
            "              S         0.910448  29.719697  0.477612  0.626866   21.912687\n",
            "       3      C         0.652174  14.062500  0.565217  0.826087   14.694926\n",
            "              Q         0.727273  22.850000  0.212121  0.242424   10.307833\n",
            "              S         0.375000  23.223684  1.238636  1.000000   18.670077\n",
            "male   1      C         0.404762  40.111111  0.238095  0.333333   93.536707\n",
            "              Q         0.000000  44.000000  2.000000  0.000000   90.000000\n",
            "              S         0.354430  41.897188  0.329114  0.253165   52.949947\n",
            "       2      C         0.200000  25.937500  0.500000  0.500000   25.421250\n",
            "              Q         0.000000  57.000000  0.000000  0.000000   12.350000\n",
            "              S         0.154639  30.875889  0.329897  0.195876   19.232474\n",
            "       3      C         0.232558  25.016800  0.232558  0.139535    9.352237\n",
            "              Q         0.076923  28.142857  0.589744  0.128205   11.924251\n",
            "              S         0.128302  26.574766  0.528302  0.252830   13.307149\n"
          ],
          "name": "stdout"
        }
      ]
    },
    {
      "cell_type": "code",
      "metadata": {
        "id": "9RZx6aqzVlZl",
        "colab_type": "code",
        "colab": {
          "base_uri": "https://localhost:8080/",
          "height": 85
        },
        "outputId": "11b73078-4402-4569-c381-10eaf617d1e9"
      },
      "source": [
        "print(df_single.groupby(by = 'Sex').mean())"
      ],
      "execution_count": 215,
      "outputs": [
        {
          "output_type": "stream",
          "text": [
            "        Survived    Pclass        Age     SibSp     Parch       Fare\n",
            "Sex                                                                 \n",
            "female  0.742038  2.159236  27.915709  0.694268  0.649682  44.479818\n",
            "male    0.188908  2.389948  30.726645  0.429809  0.235702  25.523893\n"
          ],
          "name": "stdout"
        }
      ]
    },
    {
      "cell_type": "code",
      "metadata": {
        "id": "r0ByuiKaV0cA",
        "colab_type": "code",
        "colab": {
          "base_uri": "https://localhost:8080/",
          "height": 85
        },
        "outputId": "d05a08ee-153b-4b84-8287-b5ba0c342f02"
      },
      "source": [
        "print(df_multi.groupby(level='Sex').size())"
      ],
      "execution_count": 216,
      "outputs": [
        {
          "output_type": "stream",
          "text": [
            "Sex\n",
            "female    314\n",
            "male      577\n",
            "dtype: int64\n"
          ],
          "name": "stdout"
        }
      ]
    },
    {
      "cell_type": "code",
      "metadata": {
        "id": "NITeB7SZV37d",
        "colab_type": "code",
        "colab": {
          "base_uri": "https://localhost:8080/",
          "height": 102
        },
        "outputId": "94d2eec2-3a5a-4672-9438-cb14ab8652d0"
      },
      "source": [
        "print(df_multi.groupby(level=2).size())"
      ],
      "execution_count": 217,
      "outputs": [
        {
          "output_type": "stream",
          "text": [
            "Embarked\n",
            "C    168\n",
            "Q     77\n",
            "S    644\n",
            "dtype: int64\n"
          ],
          "name": "stdout"
        }
      ]
    },
    {
      "cell_type": "code",
      "metadata": {
        "id": "JXez79IrV-We",
        "colab_type": "code",
        "colab": {
          "base_uri": "https://localhost:8080/",
          "height": 102
        },
        "outputId": "cc86544f-e489-41e9-f031-87e0f2180248"
      },
      "source": [
        "print(df_multi.groupby(level=2).size())"
      ],
      "execution_count": 218,
      "outputs": [
        {
          "output_type": "stream",
          "text": [
            "Embarked\n",
            "C    168\n",
            "Q     77\n",
            "S    644\n",
            "dtype: int64\n"
          ],
          "name": "stdout"
        }
      ]
    },
    {
      "cell_type": "code",
      "metadata": {
        "id": "wyFjr6zBWGRu",
        "colab_type": "code",
        "colab": {}
      },
      "source": [
        ""
      ],
      "execution_count": null,
      "outputs": []
    }
  ]
}