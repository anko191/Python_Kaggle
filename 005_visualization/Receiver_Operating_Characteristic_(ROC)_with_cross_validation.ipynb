{
  "nbformat": 4,
  "nbformat_minor": 0,
  "metadata": {
    "colab": {
      "name": "Receiver Operating Characteristic (ROC) with cross validation",
      "provenance": [],
      "authorship_tag": "ABX9TyPQYRE/S1wBk892l1mnN8fX",
      "include_colab_link": true
    },
    "kernelspec": {
      "name": "python3",
      "display_name": "Python 3"
    }
  },
  "cells": [
    {
      "cell_type": "markdown",
      "metadata": {
        "id": "view-in-github",
        "colab_type": "text"
      },
      "source": [
        "<a href=\"https://colab.research.google.com/github/anko191/Python_Kaggle/blob/master/_Visualization_/Receiver_Operating_Characteristic_(ROC)_with_cross_validation.ipynb\" target=\"_parent\"><img src=\"https://colab.research.google.com/assets/colab-badge.svg\" alt=\"Open In Colab\"/></a>"
      ]
    },
    {
      "cell_type": "markdown",
      "metadata": {
        "id": "6Q5FHJOzkqe5"
      },
      "source": [
        "# ROCカーブの可視化"
      ]
    },
    {
      "cell_type": "markdown",
      "metadata": {
        "id": "xZBZT_d-k1Q7"
      },
      "source": [
        "\n",
        "## CrossValidationのそれぞれのROCの図示\n",
        "\n",
        "* https://matplotlib.org/tutorials/introductory/pyplot.html\n",
        "    * matplotlib.pyplot as plt...?plt.subplot, fix, ax\n",
        "    * plot()の引数"
      ]
    },
    {
      "cell_type": "code",
      "metadata": {
        "id": "-Mvi0qGvkrHc",
        "outputId": "d8e2b1d6-5e2d-40e6-c31b-2a379e71ad82",
        "colab": {
          "base_uri": "https://localhost:8080/",
          "height": 34
        }
      },
      "source": [
        "print(__doc__)"
      ],
      "execution_count": null,
      "outputs": [
        {
          "output_type": "stream",
          "text": [
            "Automatically created module for IPython interactive environment\n"
          ],
          "name": "stdout"
        }
      ]
    },
    {
      "cell_type": "code",
      "metadata": {
        "id": "IcVGcNfcmVOA"
      },
      "source": [
        "import numpy as np\n",
        "import matplotlib.pyplot as plt"
      ],
      "execution_count": null,
      "outputs": []
    },
    {
      "cell_type": "code",
      "metadata": {
        "id": "WOOO3mLimpEo"
      },
      "source": [
        "from sklearn import svm, datasets\n",
        "from sklearn.metrics import auc\n",
        "from sklearn.metrics import plot_roc_curve\n",
        "from sklearn.model_selection import StratifiedKFold"
      ],
      "execution_count": null,
      "outputs": []
    },
    {
      "cell_type": "markdown",
      "metadata": {
        "id": "nXQMLFGrm2ek"
      },
      "source": [
        "* データをロード"
      ]
    },
    {
      "cell_type": "code",
      "metadata": {
        "id": "N4UHmDA7mzyf"
      },
      "source": [
        "iris = datasets.load_iris()\n",
        "X = iris.data\n",
        "y = iris.target"
      ],
      "execution_count": null,
      "outputs": []
    },
    {
      "cell_type": "code",
      "metadata": {
        "id": "vfncox-pofn4",
        "outputId": "c140ec36-d38a-498f-9bfb-f09700ec3012",
        "colab": {
          "base_uri": "https://localhost:8080/",
          "height": 34
        }
      },
      "source": [
        "X.shape"
      ],
      "execution_count": null,
      "outputs": [
        {
          "output_type": "execute_result",
          "data": {
            "text/plain": [
              "(150, 4)"
            ]
          },
          "metadata": {
            "tags": []
          },
          "execution_count": 21
        }
      ]
    },
    {
      "cell_type": "code",
      "metadata": {
        "id": "oQKe9Qr-puW4",
        "outputId": "0880039b-6a5b-434f-a2c9-ee7ade27de30",
        "colab": {
          "base_uri": "https://localhost:8080/",
          "height": 34
        }
      },
      "source": [
        "y.shape"
      ],
      "execution_count": null,
      "outputs": [
        {
          "output_type": "execute_result",
          "data": {
            "text/plain": [
              "(150,)"
            ]
          },
          "metadata": {
            "tags": []
          },
          "execution_count": 22
        }
      ]
    },
    {
      "cell_type": "markdown",
      "metadata": {
        "id": "O3LRnN6Wq9ya"
      },
      "source": [
        "* y == 2 のを除外する(svmはお互いの境目に線を引くので、0か1のみじゃないと駄目)\n",
        "    * Iris-Setosa\n",
        "    * Iris-Versicolour\n",
        "    * Iris-Virginica これを除外?\n",
        "* 特徴量は4つ。\n",
        "    * sepal length in cm\n",
        "    * sepal width in cm\n",
        "    * petal length in cm\n",
        "    * petal width in cm"
      ]
    },
    {
      "cell_type": "code",
      "metadata": {
        "id": "lclCbu4Kpv33",
        "outputId": "2b7a6098-84d7-45d4-8f30-f521ab064dd1",
        "colab": {
          "base_uri": "https://localhost:8080/",
          "height": 34
        }
      },
      "source": [
        "X,y = X[y != 2], y[y != 2]\n",
        "X.shape, y.shape"
      ],
      "execution_count": null,
      "outputs": [
        {
          "output_type": "execute_result",
          "data": {
            "text/plain": [
              "((100, 4), (100,))"
            ]
          },
          "metadata": {
            "tags": []
          },
          "execution_count": 24
        }
      ]
    },
    {
      "cell_type": "code",
      "metadata": {
        "id": "CRsL0DuarXoo"
      },
      "source": [
        "n_samples, n_features = X.shape"
      ],
      "execution_count": null,
      "outputs": []
    },
    {
      "cell_type": "markdown",
      "metadata": {
        "id": "jWNavHAvsHgB"
      },
      "source": [
        "* Add noisy features\n",
        "    * 何をしているんだこいつ？？"
      ]
    },
    {
      "cell_type": "code",
      "metadata": {
        "id": "zIXsB7gDrdAn",
        "outputId": "ccc1e25d-bce7-4623-8bf2-a09f789c20e0",
        "colab": {
          "base_uri": "https://localhost:8080/",
          "height": 102
        }
      },
      "source": [
        "print(X[-5:])"
      ],
      "execution_count": null,
      "outputs": [
        {
          "output_type": "stream",
          "text": [
            "[[5.7 3.  4.2 1.2]\n",
            " [5.7 2.9 4.2 1.3]\n",
            " [6.2 2.9 4.3 1.3]\n",
            " [5.1 2.5 3.  1.1]\n",
            " [5.7 2.8 4.1 1.3]]\n"
          ],
          "name": "stdout"
        }
      ]
    },
    {
      "cell_type": "code",
      "metadata": {
        "id": "UpNN2fN0sMXA"
      },
      "source": [
        "random_state = np.random.RandomState(0)\n",
        "X = np.c_[X, random_state.randn(n_samples, 200 * n_features)]"
      ],
      "execution_count": null,
      "outputs": []
    },
    {
      "cell_type": "code",
      "metadata": {
        "id": "dD35-7DTugn1"
      },
      "source": [
        "import pandas as pd\n",
        "pd.options.display.max_rows = 1000\n",
        "pd.options.display.max_columns = 1000"
      ],
      "execution_count": null,
      "outputs": []
    },
    {
      "cell_type": "code",
      "metadata": {
        "id": "tZ7FrvEpt_-A",
        "outputId": "fb35b1d7-e583-43e5-ca2a-32af851db6c0",
        "colab": {
          "base_uri": "https://localhost:8080/",
          "height": 51
        }
      },
      "source": [
        "import pprint\n",
        "pprint.pprint(X[0][:10])"
      ],
      "execution_count": 54,
      "outputs": [
        {
          "output_type": "stream",
          "text": [
            "array([ 5.1       ,  3.5       ,  1.4       ,  0.2       ,  1.76405235,\n",
            "        0.40015721,  0.97873798,  2.2408932 ,  1.86755799, -0.97727788])\n"
          ],
          "name": "stdout"
        }
      ]
    },
    {
      "cell_type": "markdown",
      "metadata": {
        "id": "GSHCU44dxxDZ"
      },
      "source": [
        "## Cross Validation と、Classifierを選定\n",
        "* SVMを使いたいので、2値"
      ]
    },
    {
      "cell_type": "code",
      "metadata": {
        "id": "-pwxLs_KuAsf"
      },
      "source": [
        "cv = StratifiedKFold(n_splits = 6)"
      ],
      "execution_count": 55,
      "outputs": []
    },
    {
      "cell_type": "code",
      "metadata": {
        "id": "fGPU9DzcyBDW"
      },
      "source": [
        "classifier = svm.SVC(kernel = 'linear', probability = True, random_state = random_state)"
      ],
      "execution_count": 56,
      "outputs": []
    },
    {
      "cell_type": "code",
      "metadata": {
        "id": "uDSHqjTqy3am"
      },
      "source": [
        "tprs = []\n",
        "aucs = []\n",
        "mean_fpr = np.linspace(0, 1, 100) # 0から1の100個の配列"
      ],
      "execution_count": 57,
      "outputs": []
    },
    {
      "cell_type": "markdown",
      "metadata": {
        "id": "sOL3ygDHzJwJ"
      },
      "source": [
        "## matplotlibを使って図示の準備"
      ]
    },
    {
      "cell_type": "markdown",
      "metadata": {
        "id": "CG7Qdyq7z-QC"
      },
      "source": [
        "* One-dimensional linear interpolation.\n",
        "\n",
        "* Returns the one-dimensional piecewise linear interpolant to a function with given discrete data points (xp, fp), evaluated at x."
      ]
    },
    {
      "cell_type": "code",
      "metadata": {
        "id": "KMfZn5uxy8mD",
        "outputId": "b1df7e1c-4143-4239-e3ff-391bc1fbc027",
        "colab": {
          "base_uri": "https://localhost:8080/",
          "height": 295
        }
      },
      "source": [
        "fig, ax = plt.subplots()\n",
        "for i, (train, test) in enumerate(cv.split(X,y)):\n",
        "    classifier.fit(X[train], y[train])\n",
        "    viz = plot_roc_curve(classifier, X[test], y[test],\n",
        "                         name = 'ROC fold {}'.format(i),\n",
        "                         alpha = 0.3, lw = 1, ax = ax)\n",
        "    interp_tpr = np.interp(mean_fpr, viz.fpr, viz.tpr)\n",
        "    interp_tpr[0] = 0.0\n",
        "    tprs.append(interp_tpr)\n",
        "    aucs.append(viz.roc_auc)\n",
        "ax.plot([0,1], [0,1], linestyle = '--', lw = 2, color = 'r',\n",
        "        label = 'Chance', alpha = 0.8)\n",
        "\n",
        "mean_tpr = np.mean(tprs, axis = 0)\n",
        "mean_tpr[-1] = 1.0\n",
        "mean_auc = auc(mean_fpr, mean_tpr)\n",
        "std_auc = np.std(aucs)\n",
        "\n",
        "ax.plot(mean_fpr, mean_tpr, color = 'b',\n",
        "        label = r'Mean ROC (AUC = %0.2f $\\pm$ %0.2f'%(mean_auc, std_auc),\n",
        "        lw = 2, alpha = 0.8)\n",
        "\n",
        "std_tpr = np.std(tprs, axis = 0)\n",
        "tprs_upper = np.minimum(mean_tpr + std_tpr, 1)\n",
        "tprs_lower = np.maximum(mean_tpr - std_tpr, 0)\n",
        "ax.fill_between(mean_fpr, tprs_lower, tprs_upper, color = 'grey', alpha = 0.2,\n",
        "                label = r'$\\pm$ 1 std. dev.') # ±を表示するときは $\\pm$ rも必要\n",
        "\n",
        "ax.set(xlim = [-0.05, 1.05], ylim = [-0.05, 1.05],\n",
        "       title = \"Receiver operating characteristic example\")\n",
        "ax.legend(loc = 'lower right')\n",
        "plt.show()"
      ],
      "execution_count": 62,
      "outputs": [
        {
          "output_type": "display_data",
          "data": {
            "image/png": "[encoded data removed]",
            "text/plain": [
              "<Figure size 432x288 with 1 Axes>"
            ]
          },
          "metadata": {
            "tags": [],
            "needs_background": "light"
          }
        }
      ]
    },
    {
      "cell_type": "code",
      "metadata": {
        "id": "QNhBN_xX0htM"
      },
      "source": [
        ""
      ],
      "execution_count": null,
      "outputs": []
    }
  ]
}