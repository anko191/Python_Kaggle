{
  "nbformat": 4,
  "nbformat_minor": 0,
  "metadata": {
    "colab": {
      "name": "pandas_data_analysis",
      "provenance": [],
      "collapsed_sections": [],
      "authorship_tag": "ABX9TyM3u/03/7feGDtfSdiIEPas",
      "include_colab_link": true
    },
    "kernelspec": {
      "name": "python3",
      "display_name": "Python 3"
    }
  },
  "cells": [
    {
      "cell_type": "markdown",
      "metadata": {
        "id": "view-in-github",
        "colab_type": "text"
      },
      "source": [
        "<a href=\"https://colab.research.google.com/github/anko191/Python_Kaggle/blob/master/pandas/pandas_data_analysis.ipynb\" target=\"_parent\"><img src=\"https://colab.research.google.com/assets/colab-badge.svg\" alt=\"Open In Colab\"/></a>"
      ]
    },
    {
      "cell_type": "code",
      "metadata": {
        "id": "tdF-lfBURrzU",
        "colab_type": "code",
        "colab": {}
      },
      "source": [
        "import pandas as pd\n",
        "\n",
        "df = pd.DataFrame({'a': [1, 2, 1, 3],\n",
        "                   'b': [0.4, 1.1, 0.1, 0.8],\n",
        "                   'c': ['X', 'Y', 'X', 'Z'],\n",
        "                   'd': ['3', '5', '2', '1'],\n",
        "                   'e': [True, True, False, True]})\n"
      ],
      "execution_count": 1,
      "outputs": []
    },
    {
      "cell_type": "code",
      "metadata": {
        "id": "hTZrt2d4Rzqo",
        "colab_type": "code",
        "colab": {
          "base_uri": "https://localhost:8080/",
          "height": 102
        },
        "outputId": "e704b038-cd60-4b42-95c8-94dff84b587e"
      },
      "source": [
        "print(df)"
      ],
      "execution_count": 2,
      "outputs": [
        {
          "output_type": "stream",
          "text": [
            "   a    b  c  d      e\n",
            "0  1  0.4  X  3   True\n",
            "1  2  1.1  Y  5   True\n",
            "2  1  0.1  X  2  False\n",
            "3  3  0.8  Z  1   True\n"
          ],
          "name": "stdout"
        }
      ]
    },
    {
      "cell_type": "code",
      "metadata": {
        "id": "KbnQl3-SR0je",
        "colab_type": "code",
        "colab": {
          "base_uri": "https://localhost:8080/",
          "height": 119
        },
        "outputId": "d631741f-dff7-4dda-848d-42e0902d037a"
      },
      "source": [
        "print(df.dtypes)"
      ],
      "execution_count": 3,
      "outputs": [
        {
          "output_type": "stream",
          "text": [
            "a      int64\n",
            "b    float64\n",
            "c     object\n",
            "d     object\n",
            "e       bool\n",
            "dtype: object\n"
          ],
          "name": "stdout"
        }
      ]
    },
    {
      "cell_type": "code",
      "metadata": {
        "id": "4kialHFUR15l",
        "colab_type": "code",
        "colab": {
          "base_uri": "https://localhost:8080/",
          "height": 170
        },
        "outputId": "c292e7fd-dc37-4ce8-9a76-1733ebeaf788"
      },
      "source": [
        "print(df.describe())"
      ],
      "execution_count": 4,
      "outputs": [
        {
          "output_type": "stream",
          "text": [
            "              a         b\n",
            "count  4.000000  4.000000\n",
            "mean   1.750000  0.600000\n",
            "std    0.957427  0.439697\n",
            "min    1.000000  0.100000\n",
            "25%    1.000000  0.325000\n",
            "50%    1.500000  0.600000\n",
            "75%    2.250000  0.875000\n",
            "max    3.000000  1.100000\n"
          ],
          "name": "stdout"
        }
      ]
    },
    {
      "cell_type": "code",
      "metadata": {
        "id": "lQ2ZZ3ihR3m6",
        "colab_type": "code",
        "colab": {
          "base_uri": "https://localhost:8080/",
          "height": 85
        },
        "outputId": "ce2665a9-98f2-467d-e009-a4a945eae5d3"
      },
      "source": [
        "print(df.describe().loc['std'])\n",
        "print(df.describe().at['std','b'])"
      ],
      "execution_count": 5,
      "outputs": [
        {
          "output_type": "stream",
          "text": [
            "a    0.957427\n",
            "b    0.439697\n",
            "Name: std, dtype: float64\n",
            "0.439696865275764\n"
          ],
          "name": "stdout"
        }
      ]
    },
    {
      "cell_type": "code",
      "metadata": {
        "id": "eyKdYZSbSLqE",
        "colab_type": "code",
        "colab": {
          "base_uri": "https://localhost:8080/",
          "height": 102
        },
        "outputId": "aa3755d1-ed64-441e-d644-c6bdd06cfd37"
      },
      "source": [
        "print(df.describe(exclude='number'))"
      ],
      "execution_count": 6,
      "outputs": [
        {
          "output_type": "stream",
          "text": [
            "        c  d     e\n",
            "count   4  4     4\n",
            "unique  3  4     2\n",
            "top     X  2  True\n",
            "freq    2  1     3\n"
          ],
          "name": "stdout"
        }
      ]
    },
    {
      "cell_type": "code",
      "metadata": {
        "id": "7HRFFgrrSTgk",
        "colab_type": "code",
        "colab": {
          "base_uri": "https://localhost:8080/",
          "height": 221
        },
        "outputId": "6b92e231-d970-43b5-fe4d-3f02238e2c77"
      },
      "source": [
        "print(df.describe(include = \"all\"))"
      ],
      "execution_count": 7,
      "outputs": [
        {
          "output_type": "stream",
          "text": [
            "               a         b    c    d     e\n",
            "count   4.000000  4.000000    4    4     4\n",
            "unique       NaN       NaN    3    4     2\n",
            "top          NaN       NaN    X    2  True\n",
            "freq         NaN       NaN    2    1     3\n",
            "mean    1.750000  0.600000  NaN  NaN   NaN\n",
            "std     0.957427  0.439697  NaN  NaN   NaN\n",
            "min     1.000000  0.100000  NaN  NaN   NaN\n",
            "25%     1.000000  0.325000  NaN  NaN   NaN\n",
            "50%     1.500000  0.600000  NaN  NaN   NaN\n",
            "75%     2.250000  0.875000  NaN  NaN   NaN\n",
            "max     3.000000  1.100000  NaN  NaN   NaN\n"
          ],
          "name": "stdout"
        }
      ]
    },
    {
      "cell_type": "code",
      "metadata": {
        "id": "ZgmFZMTySbQM",
        "colab_type": "code",
        "colab": {
          "base_uri": "https://localhost:8080/",
          "height": 119
        },
        "outputId": "8890218d-d851-4ed2-c5b9-7b725838a0f4"
      },
      "source": [
        "print(df.count())"
      ],
      "execution_count": 8,
      "outputs": [
        {
          "output_type": "stream",
          "text": [
            "a    4\n",
            "b    4\n",
            "c    4\n",
            "d    4\n",
            "e    4\n",
            "dtype: int64\n"
          ],
          "name": "stdout"
        }
      ]
    },
    {
      "cell_type": "code",
      "metadata": {
        "id": "X8l8KCutSv8c",
        "colab_type": "code",
        "colab": {
          "base_uri": "https://localhost:8080/",
          "height": 119
        },
        "outputId": "1b695747-2977-4b36-817d-fed701840da0"
      },
      "source": [
        "print(df.nunique())"
      ],
      "execution_count": 9,
      "outputs": [
        {
          "output_type": "stream",
          "text": [
            "a    3\n",
            "b    4\n",
            "c    3\n",
            "d    4\n",
            "e    2\n",
            "dtype: int64\n"
          ],
          "name": "stdout"
        }
      ]
    },
    {
      "cell_type": "code",
      "metadata": {
        "id": "oWcImCl9SxuM",
        "colab_type": "code",
        "colab": {
          "base_uri": "https://localhost:8080/",
          "height": 102
        },
        "outputId": "071f1d70-7679-4170-989f-1d1f8f9014e2"
      },
      "source": [
        "print(df.mode())"
      ],
      "execution_count": 10,
      "outputs": [
        {
          "output_type": "stream",
          "text": [
            "     a    b    c  d     e\n",
            "0  1.0  0.1    X  1  True\n",
            "1  NaN  0.4  NaN  2   NaN\n",
            "2  NaN  0.8  NaN  3   NaN\n",
            "3  NaN  1.1  NaN  5   NaN\n"
          ],
          "name": "stdout"
        }
      ]
    },
    {
      "cell_type": "code",
      "metadata": {
        "id": "e0tZSYnXSzM0",
        "colab_type": "code",
        "colab": {
          "base_uri": "https://localhost:8080/",
          "height": 119
        },
        "outputId": "01e00979-a128-4b5e-a0b7-67a4b7d30ea6"
      },
      "source": [
        "print(df.mode().iloc[0])"
      ],
      "execution_count": 11,
      "outputs": [
        {
          "output_type": "stream",
          "text": [
            "a       1\n",
            "b     0.1\n",
            "c       X\n",
            "d       1\n",
            "e    True\n",
            "Name: 0, dtype: object\n"
          ],
          "name": "stdout"
        }
      ]
    },
    {
      "cell_type": "code",
      "metadata": {
        "id": "mAaWojKyS56z",
        "colab_type": "code",
        "colab": {
          "base_uri": "https://localhost:8080/",
          "height": 34
        },
        "outputId": "e7a6864b-9eeb-4dcd-cea5-41c12640e6c7"
      },
      "source": [
        "print(df['c'].value_counts().iat[0])"
      ],
      "execution_count": 12,
      "outputs": [
        {
          "output_type": "stream",
          "text": [
            "2\n"
          ],
          "name": "stdout"
        }
      ]
    },
    {
      "cell_type": "code",
      "metadata": {
        "id": "h4-X8lexTAu8",
        "colab_type": "code",
        "colab": {
          "base_uri": "https://localhost:8080/",
          "height": 119
        },
        "outputId": "1c11753d-021f-4b3d-cdd2-45bacbd09be0"
      },
      "source": [
        "print(df.apply(lambda x:x.value_counts().iat[0]))"
      ],
      "execution_count": 13,
      "outputs": [
        {
          "output_type": "stream",
          "text": [
            "a    2\n",
            "b    1\n",
            "c    2\n",
            "d    1\n",
            "e    3\n",
            "dtype: int64\n"
          ],
          "name": "stdout"
        }
      ]
    },
    {
      "cell_type": "code",
      "metadata": {
        "id": "gng4t0MuTGXU",
        "colab_type": "code",
        "colab": {
          "base_uri": "https://localhost:8080/",
          "height": 85
        },
        "outputId": "1e0e1076-b8d2-4c4c-a4bb-eb63219610d5"
      },
      "source": [
        "print(df.mean(numeric_only=True))"
      ],
      "execution_count": 14,
      "outputs": [
        {
          "output_type": "stream",
          "text": [
            "a    1.75\n",
            "b    0.60\n",
            "e    0.75\n",
            "dtype: float64\n"
          ],
          "name": "stdout"
        }
      ]
    },
    {
      "cell_type": "code",
      "metadata": {
        "id": "bOM91-A6TK2M",
        "colab_type": "code",
        "colab": {
          "base_uri": "https://localhost:8080/",
          "height": 85
        },
        "outputId": "70ddcd7e-a068-4b5e-f29d-6fadef1a73d9"
      },
      "source": [
        "print(df.std(numeric_only=True))"
      ],
      "execution_count": 15,
      "outputs": [
        {
          "output_type": "stream",
          "text": [
            "a    0.957427\n",
            "b    0.439697\n",
            "e    0.500000\n",
            "dtype: float64\n"
          ],
          "name": "stdout"
        }
      ]
    },
    {
      "cell_type": "code",
      "metadata": {
        "id": "2VTj2G51TQPj",
        "colab_type": "code",
        "colab": {
          "base_uri": "https://localhost:8080/",
          "height": 85
        },
        "outputId": "eb529f92-0eed-436e-bbe9-fcb7d776845c"
      },
      "source": [
        "print(df.min(numeric_only=True))"
      ],
      "execution_count": 16,
      "outputs": [
        {
          "output_type": "stream",
          "text": [
            "a        1\n",
            "b      0.1\n",
            "e    False\n",
            "dtype: object\n"
          ],
          "name": "stdout"
        }
      ]
    },
    {
      "cell_type": "code",
      "metadata": {
        "id": "bgErjcCXTSkV",
        "colab_type": "code",
        "colab": {
          "base_uri": "https://localhost:8080/",
          "height": 85
        },
        "outputId": "183bc768-f19f-439f-cf1c-8ee9bc07e5c8"
      },
      "source": [
        "print(df.max(numeric_only=True))"
      ],
      "execution_count": 17,
      "outputs": [
        {
          "output_type": "stream",
          "text": [
            "a       3\n",
            "b     1.1\n",
            "e    True\n",
            "dtype: object\n"
          ],
          "name": "stdout"
        }
      ]
    },
    {
      "cell_type": "code",
      "metadata": {
        "id": "BJa2DNuCTULM",
        "colab_type": "code",
        "colab": {
          "base_uri": "https://localhost:8080/",
          "height": 85
        },
        "outputId": "469c9433-e45b-48c3-ca5b-335f26f2e28b"
      },
      "source": [
        "print(df.median(numeric_only=True))"
      ],
      "execution_count": 18,
      "outputs": [
        {
          "output_type": "stream",
          "text": [
            "a    1.5\n",
            "b    0.6\n",
            "e    1.0\n",
            "dtype: float64\n"
          ],
          "name": "stdout"
        }
      ]
    },
    {
      "cell_type": "code",
      "metadata": {
        "id": "hd3wGZG-TXJz",
        "colab_type": "code",
        "colab": {
          "base_uri": "https://localhost:8080/",
          "height": 68
        },
        "outputId": "00f43918-2988-4019-ebcb-e873788ceadd"
      },
      "source": [
        "print(df.quantile(q=[0.25,0.75], numeric_only=True))\n"
      ],
      "execution_count": 19,
      "outputs": [
        {
          "output_type": "stream",
          "text": [
            "         a      b     e\n",
            "0.25  1.00  0.325  0.75\n",
            "0.75  2.25  0.875  1.00\n"
          ],
          "name": "stdout"
        }
      ]
    },
    {
      "cell_type": "code",
      "metadata": {
        "id": "FtpE5EYsTeCE",
        "colab_type": "code",
        "colab": {
          "base_uri": "https://localhost:8080/",
          "height": 119
        },
        "outputId": "dd111f4f-18aa-4fe6-8e48-22c69d9e26a9"
      },
      "source": [
        "print(df.quantile(q = [0,0.25,0.5,0.75,1], numeric_only=True))"
      ],
      "execution_count": 20,
      "outputs": [
        {
          "output_type": "stream",
          "text": [
            "         a      b     e\n",
            "0.00  1.00  0.100  0.00\n",
            "0.25  1.00  0.325  0.75\n",
            "0.50  1.50  0.600  1.00\n",
            "0.75  2.25  0.875  1.00\n",
            "1.00  3.00  1.100  1.00\n"
          ],
          "name": "stdout"
        }
      ]
    },
    {
      "cell_type": "code",
      "metadata": {
        "id": "KwaHPdUCTikV",
        "colab_type": "code",
        "colab": {
          "base_uri": "https://localhost:8080/",
          "height": 204
        },
        "outputId": "b9304497-01c2-4e99-a723-f198abb55059"
      },
      "source": [
        "print(df.describe(percentiles=[0.2,0.4,0.6,0.8]))"
      ],
      "execution_count": 21,
      "outputs": [
        {
          "output_type": "stream",
          "text": [
            "              a         b\n",
            "count  4.000000  4.000000\n",
            "mean   1.750000  0.600000\n",
            "std    0.957427  0.439697\n",
            "min    1.000000  0.100000\n",
            "20%    1.000000  0.280000\n",
            "40%    1.200000  0.480000\n",
            "50%    1.500000  0.600000\n",
            "60%    1.800000  0.720000\n",
            "80%    2.400000  0.920000\n",
            "max    3.000000  1.100000\n"
          ],
          "name": "stdout"
        }
      ]
    },
    {
      "cell_type": "code",
      "metadata": {
        "id": "4SvzXSspURO0",
        "colab_type": "code",
        "colab": {
          "base_uri": "https://localhost:8080/",
          "height": 187
        },
        "outputId": "d91fab2e-1ded-48c0-a1b3-0ad9f20f9c10"
      },
      "source": [
        "print(df.astype('str').describe())\n",
        "print(df.astype({'a':str}).describe(exclude='number'))"
      ],
      "execution_count": 22,
      "outputs": [
        {
          "output_type": "stream",
          "text": [
            "        a    b  c  d     e\n",
            "count   4    4  4  4     4\n",
            "unique  3    4  3  4     2\n",
            "top     1  0.1  X  2  True\n",
            "freq    2    1  2  1     3\n",
            "        a  c  d     e\n",
            "count   4  4  4     4\n",
            "unique  3  3  4     2\n",
            "top     1  X  2  True\n",
            "freq    2  2  1     3\n"
          ],
          "name": "stdout"
        }
      ]
    },
    {
      "cell_type": "code",
      "metadata": {
        "id": "9jtNHDENUcST",
        "colab_type": "code",
        "colab": {}
      },
      "source": [
        "df['dt'] = pd.to_datetime(['2018-01-01', '2018-03-15', '2018-02-20', '2018-03-15'])"
      ],
      "execution_count": 23,
      "outputs": []
    },
    {
      "cell_type": "code",
      "metadata": {
        "id": "BfimHknBUurs",
        "colab_type": "code",
        "colab": {
          "base_uri": "https://localhost:8080/",
          "height": 136
        },
        "outputId": "e1ff1ce4-8a4a-48f7-b120-93ae0a6688a6"
      },
      "source": [
        "print(df.describe(include='datetime'))"
      ],
      "execution_count": 24,
      "outputs": [
        {
          "output_type": "stream",
          "text": [
            "                         dt\n",
            "count                     4\n",
            "unique                    3\n",
            "top     2018-03-15 00:00:00\n",
            "freq                      2\n",
            "first   2018-01-01 00:00:00\n",
            "last    2018-03-15 00:00:00\n"
          ],
          "name": "stdout"
        }
      ]
    },
    {
      "cell_type": "code",
      "metadata": {
        "id": "twJEQYhAUyUs",
        "colab_type": "code",
        "colab": {
          "base_uri": "https://localhost:8080/",
          "height": 102
        },
        "outputId": "a7865af6-67df-460f-efe7-e77d02640ea7"
      },
      "source": [
        "print(df.T.describe())"
      ],
      "execution_count": 26,
      "outputs": [
        {
          "output_type": "stream",
          "text": [
            "        0                    1  2                    3\n",
            "count   6                    6  6                    6\n",
            "unique  5                    6  6                    6\n",
            "top     1  2018-03-15 00:00:00  X  2018-03-15 00:00:00\n",
            "freq    2                    1  1                    1\n"
          ],
          "name": "stdout"
        }
      ]
    },
    {
      "cell_type": "code",
      "metadata": {
        "id": "NMD-KKexU2zD",
        "colab_type": "code",
        "colab": {}
      },
      "source": [
        "import numpy as np\n",
        "import pandas as pd\n",
        "df = pd.read_csv('/content/titanic_train.csv', index_col=0).drop(['Name', 'Ticket', 'SibSp', 'Parch'], axis = 1)"
      ],
      "execution_count": 27,
      "outputs": []
    },
    {
      "cell_type": "code",
      "metadata": {
        "id": "eYw1d9yZVmb2",
        "colab_type": "code",
        "colab": {
          "base_uri": "https://localhost:8080/",
          "height": 136
        },
        "outputId": "dda4907e-da26-4d36-f16a-d2ef0b6ee97e"
      },
      "source": [
        "print(df.head())"
      ],
      "execution_count": 28,
      "outputs": [
        {
          "output_type": "stream",
          "text": [
            "             Survived  Pclass     Sex   Age     Fare Cabin Embarked\n",
            "PassengerId                                                        \n",
            "1                   0       3    male  22.0   7.2500   NaN        S\n",
            "2                   1       1  female  38.0  71.2833   C85        C\n",
            "3                   1       3  female  26.0   7.9250   NaN        S\n",
            "4                   1       1  female  35.0  53.1000  C123        S\n",
            "5                   0       3    male  35.0   8.0500   NaN        S\n"
          ],
          "name": "stdout"
        }
      ]
    },
    {
      "cell_type": "code",
      "metadata": {
        "id": "_GRlSIiMVo_R",
        "colab_type": "code",
        "colab": {
          "base_uri": "https://localhost:8080/",
          "height": 119
        },
        "outputId": "5a0dd52f-0bd8-4bf1-fd6b-b4f0a7ecaec3"
      },
      "source": [
        "print(pd.pivot_table(df, index = 'Pclass', columns='Sex'))"
      ],
      "execution_count": 29,
      "outputs": [
        {
          "output_type": "stream",
          "text": [
            "              Age                   Fare             Survived          \n",
            "Sex        female       male      female       male    female      male\n",
            "Pclass                                                                 \n",
            "1       34.611765  41.281386  106.125798  67.226127  0.968085  0.368852\n",
            "2       28.722973  30.740707   21.970121  19.741782  0.921053  0.157407\n",
            "3       21.750000  26.507589   16.118810  12.661633  0.500000  0.135447\n"
          ],
          "name": "stdout"
        }
      ]
    },
    {
      "cell_type": "code",
      "metadata": {
        "id": "9K5NAuFbV8mc",
        "colab_type": "code",
        "colab": {
          "base_uri": "https://localhost:8080/",
          "height": 102
        },
        "outputId": "1ae9c5d2-884f-4498-c5d6-f4c628ab5799"
      },
      "source": [
        "print(pd.pivot_table(df, index='Pclass', columns='Sex', values = 'Age'))"
      ],
      "execution_count": 30,
      "outputs": [
        {
          "output_type": "stream",
          "text": [
            "Sex        female       male\n",
            "Pclass                      \n",
            "1       34.611765  41.281386\n",
            "2       28.722973  30.740707\n",
            "3       21.750000  26.507589\n"
          ],
          "name": "stdout"
        }
      ]
    },
    {
      "cell_type": "code",
      "metadata": {
        "id": "OtxasBLeWIme",
        "colab_type": "code",
        "colab": {
          "base_uri": "https://localhost:8080/",
          "height": 170
        },
        "outputId": "91194ce1-7a65-43de-efc3-bb8c649f7bbb"
      },
      "source": [
        "print(pd.pivot_table(df, index=['Sex', 'Pclass'], columns='Survived', values=['Age', 'Fare']))"
      ],
      "execution_count": 31,
      "outputs": [
        {
          "output_type": "stream",
          "text": [
            "                     Age                   Fare            \n",
            "Survived               0          1           0           1\n",
            "Sex    Pclass                                              \n",
            "female 1       25.666667  34.939024  110.604167  105.978159\n",
            "       2       36.000000  28.080882   18.250000   22.288989\n",
            "       3       23.818182  19.329787   19.773093   12.464526\n",
            "male   1       44.581967  36.248000   62.894910   74.637320\n",
            "       2       33.369048  16.022000   19.488965   21.095100\n",
            "       3       27.255814  22.274211   12.204469   15.579696\n"
          ],
          "name": "stdout"
        }
      ]
    },
    {
      "cell_type": "code",
      "metadata": {
        "id": "4fXncIJpWdJk",
        "colab_type": "code",
        "colab": {
          "base_uri": "https://localhost:8080/",
          "height": 102
        },
        "outputId": "6207b5b4-1e07-45db-9d9c-14b1e0a3b758"
      },
      "source": [
        "print(pd.pivot_table(df, index='Sex', columns='Pclass', values='Age', margins = True, margins_name = 'Total'))"
      ],
      "execution_count": 32,
      "outputs": [
        {
          "output_type": "stream",
          "text": [
            "Pclass          1          2          3      Total\n",
            "Sex                                               \n",
            "female  34.611765  28.722973  21.750000  27.915709\n",
            "male    41.281386  30.740707  26.507589  30.726645\n",
            "Total   38.233441  29.877630  25.140620  29.699118\n"
          ],
          "name": "stdout"
        }
      ]
    },
    {
      "cell_type": "code",
      "metadata": {
        "id": "uYKYigyeWxgk",
        "colab_type": "code",
        "colab": {
          "base_uri": "https://localhost:8080/",
          "height": 119
        },
        "outputId": "8f7b15f6-865a-4d63-cf7f-775241b86a64"
      },
      "source": [
        "# margins returns mean in default\n",
        "# but argument aggfunc changes this.\n",
        "print(pd.pivot_table(df, index='Sex', columns = 'Pclass', values='Age', margins=True, aggfunc=[np.min, np.max]))"
      ],
      "execution_count": 33,
      "outputs": [
        {
          "output_type": "stream",
          "text": [
            "        amin                    amax                  \n",
            "Pclass     1     2     3   All     1     2     3   All\n",
            "Sex                                                   \n",
            "female  2.00  2.00  0.75  0.75  63.0  57.0  63.0  63.0\n",
            "male    0.92  0.67  0.42  0.42  80.0  70.0  74.0  80.0\n",
            "All     0.92  0.67  0.42  0.42  80.0  70.0  74.0  80.0\n"
          ],
          "name": "stdout"
        }
      ]
    },
    {
      "cell_type": "code",
      "metadata": {
        "id": "aQwte6zVXEDn",
        "colab_type": "code",
        "colab": {
          "base_uri": "https://localhost:8080/",
          "height": 272
        },
        "outputId": "4f21beab-b3d7-4be1-e4d1-f45b2602f118"
      },
      "source": [
        "print(df)"
      ],
      "execution_count": 40,
      "outputs": [
        {
          "output_type": "stream",
          "text": [
            "             Survived  Pclass     Sex   Age     Fare Cabin Embarked\n",
            "PassengerId                                                        \n",
            "1                   0       3    male  22.0   7.2500   NaN        S\n",
            "2                   1       1  female  38.0  71.2833   C85        C\n",
            "3                   1       3  female  26.0   7.9250   NaN        S\n",
            "4                   1       1  female  35.0  53.1000  C123        S\n",
            "5                   0       3    male  35.0   8.0500   NaN        S\n",
            "...               ...     ...     ...   ...      ...   ...      ...\n",
            "887                 0       2    male  27.0  13.0000   NaN        S\n",
            "888                 1       1  female  19.0  30.0000   B42        S\n",
            "889                 0       3  female   NaN  23.4500   NaN        S\n",
            "890                 1       1    male  26.0  30.0000  C148        C\n",
            "891                 0       3    male  32.0   7.7500   NaN        Q\n",
            "\n",
            "[891 rows x 7 columns]\n"
          ],
          "name": "stdout"
        }
      ]
    },
    {
      "cell_type": "code",
      "metadata": {
        "id": "-VK5VGccX2i0",
        "colab_type": "code",
        "colab": {
          "base_uri": "https://localhost:8080/",
          "height": 102
        },
        "outputId": "6a0258a5-6dff-467e-ed65-80d172a4b877"
      },
      "source": [
        "print(pd.pivot_table(df, index='Sex', columns='Pclass', values='Age', margins=True, aggfunc=len))"
      ],
      "execution_count": 41,
      "outputs": [
        {
          "output_type": "stream",
          "text": [
            "Pclass      1      2      3    All\n",
            "Sex                               \n",
            "female   94.0   76.0  144.0  261.0\n",
            "male    122.0  108.0  347.0  453.0\n",
            "All     186.0  173.0  355.0  714.0\n"
          ],
          "name": "stdout"
        }
      ]
    },
    {
      "cell_type": "code",
      "metadata": {
        "id": "5S0GTwVjYf5N",
        "colab_type": "code",
        "colab": {
          "base_uri": "https://localhost:8080/",
          "height": 34
        },
        "outputId": "36848dd5-19c2-4b63-8f90-24b59680dbb4"
      },
      "source": [
        "print(len(df))"
      ],
      "execution_count": 42,
      "outputs": [
        {
          "output_type": "stream",
          "text": [
            "891\n"
          ],
          "name": "stdout"
        }
      ]
    },
    {
      "cell_type": "code",
      "metadata": {
        "id": "rlh7aA-GYiJb",
        "colab_type": "code",
        "colab": {
          "base_uri": "https://localhost:8080/",
          "height": 153
        },
        "outputId": "74965788-6fe1-42a4-a857-b5a1fe5a273e"
      },
      "source": [
        "print(df.isnull().sum())"
      ],
      "execution_count": 43,
      "outputs": [
        {
          "output_type": "stream",
          "text": [
            "Survived      0\n",
            "Pclass        0\n",
            "Sex           0\n",
            "Age         177\n",
            "Fare          0\n",
            "Cabin       687\n",
            "Embarked      2\n",
            "dtype: int64\n"
          ],
          "name": "stdout"
        }
      ]
    },
    {
      "cell_type": "code",
      "metadata": {
        "id": "7Aan_YNQYjmD",
        "colab_type": "code",
        "colab": {
          "base_uri": "https://localhost:8080/",
          "height": 102
        },
        "outputId": "c4cf23e1-247c-4f3c-e064-cb7120193eca"
      },
      "source": [
        "print(pd.pivot_table(df, index='Sex', columns='Pclass', values='Age', margins=True, aggfunc = len, dropna=False))"
      ],
      "execution_count": 44,
      "outputs": [
        {
          "output_type": "stream",
          "text": [
            "Pclass      1      2      3    All\n",
            "Sex                               \n",
            "female   94.0   76.0  144.0  314.0\n",
            "male    122.0  108.0  347.0  577.0\n",
            "All     216.0  184.0  491.0  891.0\n"
          ],
          "name": "stdout"
        }
      ]
    },
    {
      "cell_type": "code",
      "metadata": {
        "id": "KizDEQxMYtEr",
        "colab_type": "code",
        "colab": {
          "base_uri": "https://localhost:8080/",
          "height": 136
        },
        "outputId": "fd3a28ba-31a7-4fd6-db03-fa99ee6a4a16"
      },
      "source": [
        "df = pd.read_csv('/content/sample_pandas_normal.csv')\n",
        "df.iloc[1] = np.nan\n",
        "print(df)"
      ],
      "execution_count": 45,
      "outputs": [
        {
          "output_type": "stream",
          "text": [
            "      name   age state  point\n",
            "0    Alice  24.0    NY   64.0\n",
            "1      NaN   NaN   NaN    NaN\n",
            "2  Charlie  18.0    CA   70.0\n",
            "3     Dave  68.0    TX   70.0\n",
            "4    Ellen  24.0    CA   88.0\n",
            "5    Frank  30.0    NY   57.0\n"
          ],
          "name": "stdout"
        }
      ]
    },
    {
      "cell_type": "code",
      "metadata": {
        "id": "tJpRDeEBZD1j",
        "colab_type": "code",
        "colab": {
          "base_uri": "https://localhost:8080/",
          "height": 34
        },
        "outputId": "6e924ecd-92b8-410d-ce8e-0c37d6fb0bdd"
      },
      "source": [
        "u = df['state'].unique()\n",
        "print(u)"
      ],
      "execution_count": 46,
      "outputs": [
        {
          "output_type": "stream",
          "text": [
            "['NY' nan 'CA' 'TX']\n"
          ],
          "name": "stdout"
        }
      ]
    },
    {
      "cell_type": "code",
      "metadata": {
        "id": "1o0C4JCRZKOL",
        "colab_type": "code",
        "colab": {
          "base_uri": "https://localhost:8080/",
          "height": 85
        },
        "outputId": "03da7c8b-231e-460c-e8f7-f62120747e9a"
      },
      "source": [
        "vc = df['state'].value_counts()\n",
        "print(vc)"
      ],
      "execution_count": 47,
      "outputs": [
        {
          "output_type": "stream",
          "text": [
            "NY    2\n",
            "CA    2\n",
            "TX    1\n",
            "Name: state, dtype: int64\n"
          ],
          "name": "stdout"
        }
      ]
    },
    {
      "cell_type": "code",
      "metadata": {
        "id": "bbKatraGZPyS",
        "colab_type": "code",
        "colab": {
          "base_uri": "https://localhost:8080/",
          "height": 153
        },
        "outputId": "79ddca71-87c5-47a7-896b-a78225633c73"
      },
      "source": [
        "print(df['state'].value_counts(ascending=True))\n",
        "print(df['state'].value_counts(sort=False))"
      ],
      "execution_count": 48,
      "outputs": [
        {
          "output_type": "stream",
          "text": [
            "TX    1\n",
            "CA    2\n",
            "NY    2\n",
            "Name: state, dtype: int64\n",
            "CA    2\n",
            "TX    1\n",
            "NY    2\n",
            "Name: state, dtype: int64\n"
          ],
          "name": "stdout"
        }
      ]
    },
    {
      "cell_type": "code",
      "metadata": {
        "id": "Vq-MxdlMZZQD",
        "colab_type": "code",
        "colab": {
          "base_uri": "https://localhost:8080/",
          "height": 102
        },
        "outputId": "9ea2112d-5e64-416c-a98f-2ff27eb13493"
      },
      "source": [
        "print(df['state'].value_counts(dropna=False))"
      ],
      "execution_count": 49,
      "outputs": [
        {
          "output_type": "stream",
          "text": [
            "NY     2\n",
            "CA     2\n",
            "TX     1\n",
            "NaN    1\n",
            "Name: state, dtype: int64\n"
          ],
          "name": "stdout"
        }
      ]
    },
    {
      "cell_type": "code",
      "metadata": {
        "id": "KPrnUhNqZe1y",
        "colab_type": "code",
        "colab": {
          "base_uri": "https://localhost:8080/",
          "height": 102
        },
        "outputId": "008f5573-4a35-4c91-a952-e83f4bedb9a1"
      },
      "source": [
        "print(df['state'].value_counts(dropna=False,normalize=True))"
      ],
      "execution_count": 50,
      "outputs": [
        {
          "output_type": "stream",
          "text": [
            "NY     0.333333\n",
            "CA     0.333333\n",
            "TX     0.166667\n",
            "NaN    0.166667\n",
            "Name: state, dtype: float64\n"
          ],
          "name": "stdout"
        }
      ]
    },
    {
      "cell_type": "code",
      "metadata": {
        "id": "6_Jr9rNiZkqy",
        "colab_type": "code",
        "colab": {
          "base_uri": "https://localhost:8080/",
          "height": 34
        },
        "outputId": "370df9ce-fdb8-446d-d554-0344af243c6b"
      },
      "source": [
        "nu = df['state'].nunique()\n",
        "print(nu)"
      ],
      "execution_count": 51,
      "outputs": [
        {
          "output_type": "stream",
          "text": [
            "3\n"
          ],
          "name": "stdout"
        }
      ]
    },
    {
      "cell_type": "code",
      "metadata": {
        "id": "jrOTkkIUZoxj",
        "colab_type": "code",
        "colab": {
          "base_uri": "https://localhost:8080/",
          "height": 34
        },
        "outputId": "9f43fdf4-156c-4f29-f200-24af7d07440f"
      },
      "source": [
        "print(df['state'].nunique(dropna=False))"
      ],
      "execution_count": 52,
      "outputs": [
        {
          "output_type": "stream",
          "text": [
            "4\n"
          ],
          "name": "stdout"
        }
      ]
    },
    {
      "cell_type": "code",
      "metadata": {
        "id": "zTOJ0gngZtCD",
        "colab_type": "code",
        "colab": {
          "base_uri": "https://localhost:8080/",
          "height": 102
        },
        "outputId": "99da1ba0-121b-4cd1-c282-597a20ba1c8f"
      },
      "source": [
        "nu_col = df.nunique()\n",
        "print(nu_col)"
      ],
      "execution_count": 53,
      "outputs": [
        {
          "output_type": "stream",
          "text": [
            "name     5\n",
            "age      4\n",
            "state    3\n",
            "point    4\n",
            "dtype: int64\n"
          ],
          "name": "stdout"
        }
      ]
    },
    {
      "cell_type": "code",
      "metadata": {
        "id": "0MewMFbUZw76",
        "colab_type": "code",
        "colab": {
          "base_uri": "https://localhost:8080/",
          "height": 221
        },
        "outputId": "826ceab2-b74b-475a-de51-71e5ec278f92"
      },
      "source": [
        "print(df.nunique(dropna=False))\n",
        "print(df.nunique(dropna=False, axis = 'columns')) # or axis = 1"
      ],
      "execution_count": 54,
      "outputs": [
        {
          "output_type": "stream",
          "text": [
            "name     6\n",
            "age      5\n",
            "state    4\n",
            "point    5\n",
            "dtype: int64\n",
            "0    4\n",
            "1    1\n",
            "2    4\n",
            "3    4\n",
            "4    4\n",
            "5    4\n",
            "dtype: int64\n"
          ],
          "name": "stdout"
        }
      ]
    },
    {
      "cell_type": "code",
      "metadata": {
        "id": "udXxi9OSZ3IV",
        "colab_type": "code",
        "colab": {
          "base_uri": "https://localhost:8080/",
          "height": 119
        },
        "outputId": "19157fe7-0122-450e-ee19-20f0c55e9a13"
      },
      "source": [
        "print(df['state'].nunique())\n",
        "print(df.nunique())"
      ],
      "execution_count": 55,
      "outputs": [
        {
          "output_type": "stream",
          "text": [
            "3\n",
            "name     5\n",
            "age      4\n",
            "state    3\n",
            "point    4\n",
            "dtype: int64\n"
          ],
          "name": "stdout"
        }
      ]
    },
    {
      "cell_type": "code",
      "metadata": {
        "id": "Eqcgb1sQaWz0",
        "colab_type": "code",
        "colab": {
          "base_uri": "https://localhost:8080/",
          "height": 34
        },
        "outputId": "b34be961-e51d-49d1-ff91-73146002d02f"
      },
      "source": [
        "print(df['state'].unique().tolist())"
      ],
      "execution_count": 56,
      "outputs": [
        {
          "output_type": "stream",
          "text": [
            "['NY', nan, 'CA', 'TX']\n"
          ],
          "name": "stdout"
        }
      ]
    },
    {
      "cell_type": "code",
      "metadata": {
        "id": "HEF-10jNajdC",
        "colab_type": "code",
        "colab": {
          "base_uri": "https://localhost:8080/",
          "height": 34
        },
        "outputId": "58135c13-a3b2-4a67-d62d-2488f3bac1cc"
      },
      "source": [
        "print(df['state'].value_counts().index.tolist())"
      ],
      "execution_count": 57,
      "outputs": [
        {
          "output_type": "stream",
          "text": [
            "['NY', 'CA', 'TX']\n"
          ],
          "name": "stdout"
        }
      ]
    },
    {
      "cell_type": "code",
      "metadata": {
        "id": "PXXYFG2CanA0",
        "colab_type": "code",
        "colab": {
          "base_uri": "https://localhost:8080/",
          "height": 34
        },
        "outputId": "ee8f69bb-efca-4467-ae1a-c617e4522d3f"
      },
      "source": [
        "print(df['state'].value_counts(dropna=False).index.values)"
      ],
      "execution_count": 59,
      "outputs": [
        {
          "output_type": "stream",
          "text": [
            "['NY' 'CA' 'TX' nan]\n"
          ],
          "name": "stdout"
        }
      ]
    },
    {
      "cell_type": "code",
      "metadata": {
        "id": "Vs0qRwXDaxez",
        "colab_type": "code",
        "colab": {
          "base_uri": "https://localhost:8080/",
          "height": 34
        },
        "outputId": "568a25b5-5de4-406d-a4ec-087cd71c27f1"
      },
      "source": [
        "print(df['state'].value_counts().NY)"
      ],
      "execution_count": 60,
      "outputs": [
        {
          "output_type": "stream",
          "text": [
            "2\n"
          ],
          "name": "stdout"
        }
      ]
    },
    {
      "cell_type": "code",
      "metadata": {
        "id": "7OXvNdKMa2mk",
        "colab_type": "code",
        "colab": {
          "base_uri": "https://localhost:8080/",
          "height": 68
        },
        "outputId": "1b58c899-773e-490e-c0c4-7f786085c412"
      },
      "source": [
        "for index, value in df['state'].value_counts().iteritems(): # iteritems()\n",
        "    print(index, ': ', value)"
      ],
      "execution_count": 61,
      "outputs": [
        {
          "output_type": "stream",
          "text": [
            "NY :  2\n",
            "CA :  2\n",
            "TX :  1\n"
          ],
          "name": "stdout"
        }
      ]
    },
    {
      "cell_type": "code",
      "metadata": {
        "id": "PHdQl1eza9yb",
        "colab_type": "code",
        "colab": {
          "base_uri": "https://localhost:8080/",
          "height": 34
        },
        "outputId": "d9b75df1-da7e-493c-cf35-6749c1ccafeb"
      },
      "source": [
        "d = df['state'].value_counts().to_dict()\n",
        "print(d)"
      ],
      "execution_count": 62,
      "outputs": [
        {
          "output_type": "stream",
          "text": [
            "{'NY': 2, 'CA': 2, 'TX': 1}\n"
          ],
          "name": "stdout"
        }
      ]
    },
    {
      "cell_type": "code",
      "metadata": {
        "id": "7J7Ii3z3bS_s",
        "colab_type": "code",
        "colab": {
          "base_uri": "https://localhost:8080/",
          "height": 34
        },
        "outputId": "90e1e439-cdf1-4062-b0ed-7b60e6824b2b"
      },
      "source": [
        "print(d['NY'])"
      ],
      "execution_count": 63,
      "outputs": [
        {
          "output_type": "stream",
          "text": [
            "2\n"
          ],
          "name": "stdout"
        }
      ]
    },
    {
      "cell_type": "code",
      "metadata": {
        "id": "f7HraXJibUH9",
        "colab_type": "code",
        "colab": {
          "base_uri": "https://localhost:8080/",
          "height": 68
        },
        "outputId": "b8c82805-3f7a-4a63-8c8c-69877ab37082"
      },
      "source": [
        "for key, value in d.items():\n",
        "    print(key, ': ', value)"
      ],
      "execution_count": 64,
      "outputs": [
        {
          "output_type": "stream",
          "text": [
            "NY :  2\n",
            "CA :  2\n",
            "TX :  1\n"
          ],
          "name": "stdout"
        }
      ]
    },
    {
      "cell_type": "code",
      "metadata": {
        "id": "-H95VXVZbYmT",
        "colab_type": "code",
        "colab": {
          "base_uri": "https://localhost:8080/",
          "height": 51
        },
        "outputId": "1eb7b3e1-b996-4987-b0d8-c33b1c4d0643"
      },
      "source": [
        "print(df['state'].value_counts().index[0])\n",
        "print(df['state'].value_counts().iat[0])"
      ],
      "execution_count": 65,
      "outputs": [
        {
          "output_type": "stream",
          "text": [
            "NY\n",
            "2\n"
          ],
          "name": "stdout"
        }
      ]
    },
    {
      "cell_type": "code",
      "metadata": {
        "id": "B_VNPKlmbgXz",
        "colab_type": "code",
        "colab": {
          "base_uri": "https://localhost:8080/",
          "height": 102
        },
        "outputId": "52e2146b-ca61-4ec0-8c02-84ebb57a9598"
      },
      "source": [
        "print(df.apply(lambda x: x.value_counts().index[0]))"
      ],
      "execution_count": 66,
      "outputs": [
        {
          "output_type": "stream",
          "text": [
            "name     Dave\n",
            "age        24\n",
            "state      NY\n",
            "point      70\n",
            "dtype: object\n"
          ],
          "name": "stdout"
        }
      ]
    },
    {
      "cell_type": "code",
      "metadata": {
        "id": "RPGSEAlQblF8",
        "colab_type": "code",
        "colab": {
          "base_uri": "https://localhost:8080/",
          "height": 102
        },
        "outputId": "ec28ff7f-7394-428a-96f1-73849ddbbc50"
      },
      "source": [
        "print(df.apply(lambda x: x.value_counts().iat[0]))"
      ],
      "execution_count": 67,
      "outputs": [
        {
          "output_type": "stream",
          "text": [
            "name     1\n",
            "age      2\n",
            "state    2\n",
            "point    2\n",
            "dtype: int64\n"
          ],
          "name": "stdout"
        }
      ]
    },
    {
      "cell_type": "code",
      "metadata": {
        "id": "rAB-XR5ObqOL",
        "colab_type": "code",
        "colab": {
          "base_uri": "https://localhost:8080/",
          "height": 51
        },
        "outputId": "8cfe42d2-e816-4710-f5ef-1fec891dc553"
      },
      "source": [
        "print(df['state'].mode().tolist())\n",
        "print(df['age'].mode().tolist())"
      ],
      "execution_count": 68,
      "outputs": [
        {
          "output_type": "stream",
          "text": [
            "['CA', 'NY']\n",
            "[24.0]\n"
          ],
          "name": "stdout"
        }
      ]
    },
    {
      "cell_type": "code",
      "metadata": {
        "id": "QfLwXsDNby8D",
        "colab_type": "code",
        "colab": {
          "base_uri": "https://localhost:8080/",
          "height": 102
        },
        "outputId": "9f634e80-9f00-4394-dcc1-f1d0a22f19eb"
      },
      "source": [
        "s_mode = df.apply(lambda x:x.mode().tolist())\n",
        "print(s_mode)"
      ],
      "execution_count": 69,
      "outputs": [
        {
          "output_type": "stream",
          "text": [
            "name     [Alice, Charlie, Dave, Ellen, Frank]\n",
            "age                                    [24.0]\n",
            "state                                [CA, NY]\n",
            "point                                  [70.0]\n",
            "dtype: object\n"
          ],
          "name": "stdout"
        }
      ]
    },
    {
      "cell_type": "code",
      "metadata": {
        "id": "rx-HGjeUb41C",
        "colab_type": "code",
        "colab": {
          "base_uri": "https://localhost:8080/",
          "height": 34
        },
        "outputId": "11380025-ccfb-495a-b991-5468a15d5967"
      },
      "source": [
        "print(s_mode['name'])"
      ],
      "execution_count": 70,
      "outputs": [
        {
          "output_type": "stream",
          "text": [
            "['Alice', 'Charlie', 'Dave', 'Ellen', 'Frank']\n"
          ],
          "name": "stdout"
        }
      ]
    },
    {
      "cell_type": "code",
      "metadata": {
        "id": "VKyfyWnPb7CS",
        "colab_type": "code",
        "colab": {
          "base_uri": "https://localhost:8080/",
          "height": 119
        },
        "outputId": "5f5982f2-5789-4b85-d5e6-24f7d7acb605"
      },
      "source": [
        "print(df.mode())"
      ],
      "execution_count": 71,
      "outputs": [
        {
          "output_type": "stream",
          "text": [
            "      name   age state  point\n",
            "0    Alice  24.0    CA   70.0\n",
            "1  Charlie   NaN    NY    NaN\n",
            "2     Dave   NaN   NaN    NaN\n",
            "3    Ellen   NaN   NaN    NaN\n",
            "4    Frank   NaN   NaN    NaN\n"
          ],
          "name": "stdout"
        }
      ]
    },
    {
      "cell_type": "code",
      "metadata": {
        "id": "XlXnUPETb9Ms",
        "colab_type": "code",
        "colab": {
          "base_uri": "https://localhost:8080/",
          "height": 102
        },
        "outputId": "c484ce5a-e8a8-4965-9d10-0cc4f88d6ff0"
      },
      "source": [
        "print(df.astype('str').describe().loc['top'])"
      ],
      "execution_count": 72,
      "outputs": [
        {
          "output_type": "stream",
          "text": [
            "name     Dave\n",
            "age      24.0\n",
            "state      NY\n",
            "point    70.0\n",
            "Name: top, dtype: object\n"
          ],
          "name": "stdout"
        }
      ]
    },
    {
      "cell_type": "code",
      "metadata": {
        "id": "zPuh7yrWcQ_T",
        "colab_type": "code",
        "colab": {
          "base_uri": "https://localhost:8080/",
          "height": 102
        },
        "outputId": "750d43bf-9b10-4034-ec53-74ba20584a74"
      },
      "source": [
        "print(df['state'].value_counts(dropna=False, normalize=True))"
      ],
      "execution_count": 73,
      "outputs": [
        {
          "output_type": "stream",
          "text": [
            "NY     0.333333\n",
            "CA     0.333333\n",
            "TX     0.166667\n",
            "NaN    0.166667\n",
            "Name: state, dtype: float64\n"
          ],
          "name": "stdout"
        }
      ]
    },
    {
      "cell_type": "code",
      "metadata": {
        "id": "mX_PUqeDcVaD",
        "colab_type": "code",
        "colab": {
          "base_uri": "https://localhost:8080/",
          "height": 235
        },
        "outputId": "12054661-1fa0-4e8b-c69b-17daacf286ae"
      },
      "source": [
        "df"
      ],
      "execution_count": 74,
      "outputs": [
        {
          "output_type": "execute_result",
          "data": {
            "text/html": [
              "<div>\n",
              "<style scoped>\n",
              "    .dataframe tbody tr th:only-of-type {\n",
              "        vertical-align: middle;\n",
              "    }\n",
              "\n",
              "    .dataframe tbody tr th {\n",
              "        vertical-align: top;\n",
              "    }\n",
              "\n",
              "    .dataframe thead th {\n",
              "        text-align: right;\n",
              "    }\n",
              "</style>\n",
              "<table border=\"1\" class=\"dataframe\">\n",
              "  <thead>\n",
              "    <tr style=\"text-align: right;\">\n",
              "      <th></th>\n",
              "      <th>name</th>\n",
              "      <th>age</th>\n",
              "      <th>state</th>\n",
              "      <th>point</th>\n",
              "    </tr>\n",
              "  </thead>\n",
              "  <tbody>\n",
              "    <tr>\n",
              "      <th>0</th>\n",
              "      <td>Alice</td>\n",
              "      <td>24.0</td>\n",
              "      <td>NY</td>\n",
              "      <td>64.0</td>\n",
              "    </tr>\n",
              "    <tr>\n",
              "      <th>1</th>\n",
              "      <td>NaN</td>\n",
              "      <td>NaN</td>\n",
              "      <td>NaN</td>\n",
              "      <td>NaN</td>\n",
              "    </tr>\n",
              "    <tr>\n",
              "      <th>2</th>\n",
              "      <td>Charlie</td>\n",
              "      <td>18.0</td>\n",
              "      <td>CA</td>\n",
              "      <td>70.0</td>\n",
              "    </tr>\n",
              "    <tr>\n",
              "      <th>3</th>\n",
              "      <td>Dave</td>\n",
              "      <td>68.0</td>\n",
              "      <td>TX</td>\n",
              "      <td>70.0</td>\n",
              "    </tr>\n",
              "    <tr>\n",
              "      <th>4</th>\n",
              "      <td>Ellen</td>\n",
              "      <td>24.0</td>\n",
              "      <td>CA</td>\n",
              "      <td>88.0</td>\n",
              "    </tr>\n",
              "    <tr>\n",
              "      <th>5</th>\n",
              "      <td>Frank</td>\n",
              "      <td>30.0</td>\n",
              "      <td>NY</td>\n",
              "      <td>57.0</td>\n",
              "    </tr>\n",
              "  </tbody>\n",
              "</table>\n",
              "</div>"
            ],
            "text/plain": [
              "      name   age state  point\n",
              "0    Alice  24.0    NY   64.0\n",
              "1      NaN   NaN   NaN    NaN\n",
              "2  Charlie  18.0    CA   70.0\n",
              "3     Dave  68.0    TX   70.0\n",
              "4    Ellen  24.0    CA   88.0\n",
              "5    Frank  30.0    NY   57.0"
            ]
          },
          "metadata": {
            "tags": []
          },
          "execution_count": 74
        }
      ]
    },
    {
      "cell_type": "code",
      "metadata": {
        "id": "FlJ2fqy8cbHC",
        "colab_type": "code",
        "colab": {
          "base_uri": "https://localhost:8080/",
          "height": 136
        },
        "outputId": "1cbe87d6-1f05-405e-f893-e7c0dbfc5c58"
      },
      "source": [
        "df = pd.read_csv('/content/sample_pandas_normal.csv')\n",
        "print(df)"
      ],
      "execution_count": 75,
      "outputs": [
        {
          "output_type": "stream",
          "text": [
            "      name  age state  point\n",
            "0    Alice   24    NY     64\n",
            "1      Bob   42    CA     92\n",
            "2  Charlie   18    CA     70\n",
            "3     Dave   68    TX     70\n",
            "4    Ellen   24    CA     88\n",
            "5    Frank   30    NY     57\n"
          ],
          "name": "stdout"
        }
      ]
    },
    {
      "cell_type": "code",
      "metadata": {
        "id": "aBSNMGU2ceCz",
        "colab_type": "code",
        "colab": {
          "base_uri": "https://localhost:8080/",
          "height": 136
        },
        "outputId": "00463324-7ba5-4e2f-bfb6-987f3aa2dd15"
      },
      "source": [
        "df.iloc[1] = np.nan\n",
        "print(df)"
      ],
      "execution_count": 76,
      "outputs": [
        {
          "output_type": "stream",
          "text": [
            "      name   age state  point\n",
            "0    Alice  24.0    NY   64.0\n",
            "1      NaN   NaN   NaN    NaN\n",
            "2  Charlie  18.0    CA   70.0\n",
            "3     Dave  68.0    TX   70.0\n",
            "4    Ellen  24.0    CA   88.0\n",
            "5    Frank  30.0    NY   57.0\n"
          ],
          "name": "stdout"
        }
      ]
    },
    {
      "cell_type": "code",
      "metadata": {
        "id": "WYbPZ2n9cjnr",
        "colab_type": "code",
        "colab": {}
      },
      "source": [
        "df = pd.read_csv('/content/sample_pandas_normal.csv')"
      ],
      "execution_count": 77,
      "outputs": []
    },
    {
      "cell_type": "code",
      "metadata": {
        "id": "s-jgnnkKclML",
        "colab_type": "code",
        "colab": {
          "base_uri": "https://localhost:8080/",
          "height": 235
        },
        "outputId": "9547a9e3-02b1-4a46-db44-ac046ea60d21"
      },
      "source": [
        "df"
      ],
      "execution_count": 78,
      "outputs": [
        {
          "output_type": "execute_result",
          "data": {
            "text/html": [
              "<div>\n",
              "<style scoped>\n",
              "    .dataframe tbody tr th:only-of-type {\n",
              "        vertical-align: middle;\n",
              "    }\n",
              "\n",
              "    .dataframe tbody tr th {\n",
              "        vertical-align: top;\n",
              "    }\n",
              "\n",
              "    .dataframe thead th {\n",
              "        text-align: right;\n",
              "    }\n",
              "</style>\n",
              "<table border=\"1\" class=\"dataframe\">\n",
              "  <thead>\n",
              "    <tr style=\"text-align: right;\">\n",
              "      <th></th>\n",
              "      <th>name</th>\n",
              "      <th>age</th>\n",
              "      <th>state</th>\n",
              "      <th>point</th>\n",
              "    </tr>\n",
              "  </thead>\n",
              "  <tbody>\n",
              "    <tr>\n",
              "      <th>0</th>\n",
              "      <td>Alice</td>\n",
              "      <td>24</td>\n",
              "      <td>NY</td>\n",
              "      <td>64</td>\n",
              "    </tr>\n",
              "    <tr>\n",
              "      <th>1</th>\n",
              "      <td>Bob</td>\n",
              "      <td>42</td>\n",
              "      <td>CA</td>\n",
              "      <td>92</td>\n",
              "    </tr>\n",
              "    <tr>\n",
              "      <th>2</th>\n",
              "      <td>Charlie</td>\n",
              "      <td>18</td>\n",
              "      <td>CA</td>\n",
              "      <td>70</td>\n",
              "    </tr>\n",
              "    <tr>\n",
              "      <th>3</th>\n",
              "      <td>Dave</td>\n",
              "      <td>68</td>\n",
              "      <td>TX</td>\n",
              "      <td>70</td>\n",
              "    </tr>\n",
              "    <tr>\n",
              "      <th>4</th>\n",
              "      <td>Ellen</td>\n",
              "      <td>24</td>\n",
              "      <td>CA</td>\n",
              "      <td>88</td>\n",
              "    </tr>\n",
              "    <tr>\n",
              "      <th>5</th>\n",
              "      <td>Frank</td>\n",
              "      <td>30</td>\n",
              "      <td>NY</td>\n",
              "      <td>57</td>\n",
              "    </tr>\n",
              "  </tbody>\n",
              "</table>\n",
              "</div>"
            ],
            "text/plain": [
              "      name  age state  point\n",
              "0    Alice   24    NY     64\n",
              "1      Bob   42    CA     92\n",
              "2  Charlie   18    CA     70\n",
              "3     Dave   68    TX     70\n",
              "4    Ellen   24    CA     88\n",
              "5    Frank   30    NY     57"
            ]
          },
          "metadata": {
            "tags": []
          },
          "execution_count": 78
        }
      ]
    },
    {
      "cell_type": "code",
      "metadata": {
        "id": "_HkPSKGUclfS",
        "colab_type": "code",
        "colab": {
          "base_uri": "https://localhost:8080/",
          "height": 190
        },
        "outputId": "977068e8-a019-490f-e254-cd3001cc1bce"
      },
      "source": [
        "df_bool = (df == 'CA')\n",
        "print(df_bool)"
      ],
      "execution_count": 79,
      "outputs": [
        {
          "output_type": "stream",
          "text": [
            "    name    age  state  point\n",
            "0  False  False  False  False\n",
            "1  False  False   True  False\n",
            "2  False  False   True  False\n",
            "3  False  False  False  False\n",
            "4  False  False   True  False\n",
            "5  False  False  False  False\n"
          ],
          "name": "stdout"
        },
        {
          "output_type": "stream",
          "text": [
            "/usr/local/lib/python3.6/dist-packages/pandas/core/ops/array_ops.py:253: FutureWarning: elementwise comparison failed; returning scalar instead, but in the future will perform elementwise comparison\n",
            "  res_values = method(rvalues)\n"
          ],
          "name": "stderr"
        }
      ]
    },
    {
      "cell_type": "code",
      "metadata": {
        "id": "aGScQXwmdHtI",
        "colab_type": "code",
        "colab": {
          "base_uri": "https://localhost:8080/",
          "height": 102
        },
        "outputId": "4b1f47f6-6650-4730-8c89-e1e8a865c0f8"
      },
      "source": [
        "print(df_bool.sum())"
      ],
      "execution_count": 80,
      "outputs": [
        {
          "output_type": "stream",
          "text": [
            "name     0\n",
            "age      0\n",
            "state    3\n",
            "point    0\n",
            "dtype: int64\n"
          ],
          "name": "stdout"
        }
      ]
    },
    {
      "cell_type": "code",
      "metadata": {
        "id": "D7YYTQRxdO8V",
        "colab_type": "code",
        "colab": {
          "base_uri": "https://localhost:8080/",
          "height": 136
        },
        "outputId": "ce5af5e3-54d2-4477-9c10-ac0d30195f6b"
      },
      "source": [
        "print(df_bool.sum(axis = 1))"
      ],
      "execution_count": 81,
      "outputs": [
        {
          "output_type": "stream",
          "text": [
            "0    0\n",
            "1    1\n",
            "2    1\n",
            "3    0\n",
            "4    1\n",
            "5    0\n",
            "dtype: int64\n"
          ],
          "name": "stdout"
        }
      ]
    },
    {
      "cell_type": "code",
      "metadata": {
        "id": "z1RqJcfBdQ9U",
        "colab_type": "code",
        "colab": {
          "base_uri": "https://localhost:8080/",
          "height": 136
        },
        "outputId": "2d003f5f-13ef-4e47-88d8-647ea18e95df"
      },
      "source": [
        "s_bool = df['age'] < 25\n",
        "print(s_bool)"
      ],
      "execution_count": 82,
      "outputs": [
        {
          "output_type": "stream",
          "text": [
            "0     True\n",
            "1    False\n",
            "2     True\n",
            "3    False\n",
            "4     True\n",
            "5    False\n",
            "Name: age, dtype: bool\n"
          ],
          "name": "stdout"
        }
      ]
    },
    {
      "cell_type": "code",
      "metadata": {
        "id": "rOFNo7Vbdcri",
        "colab_type": "code",
        "colab": {
          "base_uri": "https://localhost:8080/",
          "height": 71
        },
        "outputId": "89330496-58c7-40c5-ea9a-984547a12774"
      },
      "source": [
        "df_bool_not = ~(df == 'CA')"
      ],
      "execution_count": 83,
      "outputs": [
        {
          "output_type": "stream",
          "text": [
            "/usr/local/lib/python3.6/dist-packages/pandas/core/ops/array_ops.py:253: FutureWarning: elementwise comparison failed; returning scalar instead, but in the future will perform elementwise comparison\n",
            "  res_values = method(rvalues)\n"
          ],
          "name": "stderr"
        }
      ]
    },
    {
      "cell_type": "code",
      "metadata": {
        "id": "i8NwgC6HdiyE",
        "colab_type": "code",
        "colab": {
          "base_uri": "https://localhost:8080/",
          "height": 136
        },
        "outputId": "0ce843aa-c1aa-4d9d-8288-9fa369747e8d"
      },
      "source": [
        "print(df_bool_not)"
      ],
      "execution_count": 84,
      "outputs": [
        {
          "output_type": "stream",
          "text": [
            "   name   age  state  point\n",
            "0  True  True   True   True\n",
            "1  True  True  False   True\n",
            "2  True  True  False   True\n",
            "3  True  True   True   True\n",
            "4  True  True  False   True\n",
            "5  True  True   True   True\n"
          ],
          "name": "stdout"
        }
      ]
    },
    {
      "cell_type": "code",
      "metadata": {
        "id": "OYx5nKjPdjkc",
        "colab_type": "code",
        "colab": {
          "base_uri": "https://localhost:8080/",
          "height": 136
        },
        "outputId": "b50dfc4d-78f1-4368-b43e-ac2e1d8bf811"
      },
      "source": [
        "df_num = df[['age', 'point']]\n",
        "print(df_num)"
      ],
      "execution_count": 85,
      "outputs": [
        {
          "output_type": "stream",
          "text": [
            "   age  point\n",
            "0   24     64\n",
            "1   42     92\n",
            "2   18     70\n",
            "3   68     70\n",
            "4   24     88\n",
            "5   30     57\n"
          ],
          "name": "stdout"
        }
      ]
    },
    {
      "cell_type": "code",
      "metadata": {
        "id": "CBEcRAqVdnv7",
        "colab_type": "code",
        "colab": {
          "base_uri": "https://localhost:8080/",
          "height": 68
        },
        "outputId": "0005c933-838d-40c7-c781-3f9461002be7"
      },
      "source": [
        "print((df_num <= 70).sum())"
      ],
      "execution_count": 86,
      "outputs": [
        {
          "output_type": "stream",
          "text": [
            "age      6\n",
            "point    4\n",
            "dtype: int64\n"
          ],
          "name": "stdout"
        }
      ]
    },
    {
      "cell_type": "code",
      "metadata": {
        "id": "zZUcoGXsdrDL",
        "colab_type": "code",
        "colab": {
          "base_uri": "https://localhost:8080/",
          "height": 68
        },
        "outputId": "5a4320a1-f070-4318-a099-40f55829f788"
      },
      "source": [
        "print((df_num % 2 == 1).sum())"
      ],
      "execution_count": 87,
      "outputs": [
        {
          "output_type": "stream",
          "text": [
            "age      0\n",
            "point    1\n",
            "dtype: int64\n"
          ],
          "name": "stdout"
        }
      ]
    },
    {
      "cell_type": "code",
      "metadata": {
        "id": "Y5lB8b1kdt_U",
        "colab_type": "code",
        "colab": {
          "base_uri": "https://localhost:8080/",
          "height": 136
        },
        "outputId": "13a51bab-11cf-4129-95cc-dc1cc72b76f3"
      },
      "source": [
        "df_str = df[['name', 'state']]\n",
        "print(df_str)"
      ],
      "execution_count": 88,
      "outputs": [
        {
          "output_type": "stream",
          "text": [
            "      name state\n",
            "0    Alice    NY\n",
            "1      Bob    CA\n",
            "2  Charlie    CA\n",
            "3     Dave    TX\n",
            "4    Ellen    CA\n",
            "5    Frank    NY\n"
          ],
          "name": "stdout"
        }
      ]
    },
    {
      "cell_type": "code",
      "metadata": {
        "id": "kZ7YzhHOd0wU",
        "colab_type": "code",
        "colab": {
          "base_uri": "https://localhost:8080/",
          "height": 68
        },
        "outputId": "91358091-3633-4d06-b996-e451e302e84e"
      },
      "source": [
        "print((df_str == 'NY').sum())"
      ],
      "execution_count": 89,
      "outputs": [
        {
          "output_type": "stream",
          "text": [
            "name     0\n",
            "state    2\n",
            "dtype: int64\n"
          ],
          "name": "stdout"
        }
      ]
    },
    {
      "cell_type": "code",
      "metadata": {
        "id": "OME5j2obd3bj",
        "colab_type": "code",
        "colab": {
          "base_uri": "https://localhost:8080/",
          "height": 136
        },
        "outputId": "1d910685-fbe7-412c-fe9e-cc382a57abcc"
      },
      "source": [
        "print(df_str['name'].str.endswith('e'))"
      ],
      "execution_count": 90,
      "outputs": [
        {
          "output_type": "stream",
          "text": [
            "0     True\n",
            "1    False\n",
            "2     True\n",
            "3     True\n",
            "4    False\n",
            "5    False\n",
            "Name: name, dtype: bool\n"
          ],
          "name": "stdout"
        }
      ]
    },
    {
      "cell_type": "code",
      "metadata": {
        "id": "LAO-z06Fd-4y",
        "colab_type": "code",
        "colab": {
          "base_uri": "https://localhost:8080/",
          "height": 153
        },
        "outputId": "cbe7ac7e-a36a-4cde-88f9-962513236cf5"
      },
      "source": [
        "df = pd.read_csv('/content/titanic_train.csv')\n",
        "print(df.head())"
      ],
      "execution_count": 91,
      "outputs": [
        {
          "output_type": "stream",
          "text": [
            "   PassengerId  Survived  Pclass  ...     Fare Cabin  Embarked\n",
            "0            1         0       3  ...   7.2500   NaN         S\n",
            "1            2         1       1  ...  71.2833   C85         C\n",
            "2            3         1       3  ...   7.9250   NaN         S\n",
            "3            4         1       1  ...  53.1000  C123         S\n",
            "4            5         0       3  ...   8.0500   NaN         S\n",
            "\n",
            "[5 rows x 12 columns]\n"
          ],
          "name": "stdout"
        }
      ]
    },
    {
      "cell_type": "code",
      "metadata": {
        "id": "hoYtttvieFsb",
        "colab_type": "code",
        "colab": {
          "base_uri": "https://localhost:8080/",
          "height": 238
        },
        "outputId": "3ff5dbeb-027c-41a1-d7ab-c9f8360b8a8f"
      },
      "source": [
        "print(df.head(10))"
      ],
      "execution_count": 93,
      "outputs": [
        {
          "output_type": "stream",
          "text": [
            "   PassengerId  Survived  Pclass  ...     Fare Cabin  Embarked\n",
            "0            1         0       3  ...   7.2500   NaN         S\n",
            "1            2         1       1  ...  71.2833   C85         C\n",
            "2            3         1       3  ...   7.9250   NaN         S\n",
            "3            4         1       1  ...  53.1000  C123         S\n",
            "4            5         0       3  ...   8.0500   NaN         S\n",
            "5            6         0       3  ...   8.4583   NaN         Q\n",
            "6            7         0       1  ...  51.8625   E46         S\n",
            "7            8         0       3  ...  21.0750   NaN         S\n",
            "8            9         1       3  ...  11.1333   NaN         S\n",
            "9           10         1       2  ...  30.0708   NaN         C\n",
            "\n",
            "[10 rows x 12 columns]\n"
          ],
          "name": "stdout"
        }
      ]
    },
    {
      "cell_type": "code",
      "metadata": {
        "id": "6aW4xkTveOsr",
        "colab_type": "code",
        "colab": {
          "base_uri": "https://localhost:8080/",
          "height": 340
        },
        "outputId": "2d5aa4d1-976c-4a4e-d4c4-08bd65f290b0"
      },
      "source": [
        "df.info()"
      ],
      "execution_count": 94,
      "outputs": [
        {
          "output_type": "stream",
          "text": [
            "<class 'pandas.core.frame.DataFrame'>\n",
            "RangeIndex: 891 entries, 0 to 890\n",
            "Data columns (total 12 columns):\n",
            " #   Column       Non-Null Count  Dtype  \n",
            "---  ------       --------------  -----  \n",
            " 0   PassengerId  891 non-null    int64  \n",
            " 1   Survived     891 non-null    int64  \n",
            " 2   Pclass       891 non-null    int64  \n",
            " 3   Name         891 non-null    object \n",
            " 4   Sex          891 non-null    object \n",
            " 5   Age          714 non-null    float64\n",
            " 6   SibSp        891 non-null    int64  \n",
            " 7   Parch        891 non-null    int64  \n",
            " 8   Ticket       891 non-null    object \n",
            " 9   Fare         891 non-null    float64\n",
            " 10  Cabin        204 non-null    object \n",
            " 11  Embarked     889 non-null    object \n",
            "dtypes: float64(2), int64(5), object(5)\n",
            "memory usage: 83.7+ KB\n"
          ],
          "name": "stdout"
        }
      ]
    },
    {
      "cell_type": "code",
      "metadata": {
        "id": "Cbwi2_QfeRYS",
        "colab_type": "code",
        "colab": {
          "base_uri": "https://localhost:8080/",
          "height": 238
        },
        "outputId": "1dabe1ae-c729-4dd7-9453-f5e7f964c14b"
      },
      "source": [
        "print(df.isnull().sum())"
      ],
      "execution_count": 95,
      "outputs": [
        {
          "output_type": "stream",
          "text": [
            "PassengerId      0\n",
            "Survived         0\n",
            "Pclass           0\n",
            "Name             0\n",
            "Sex              0\n",
            "Age            177\n",
            "SibSp            0\n",
            "Parch            0\n",
            "Ticket           0\n",
            "Fare             0\n",
            "Cabin          687\n",
            "Embarked         2\n",
            "dtype: int64\n"
          ],
          "name": "stdout"
        }
      ]
    },
    {
      "cell_type": "code",
      "metadata": {
        "id": "RWkHgc3peYAj",
        "colab_type": "code",
        "colab": {
          "base_uri": "https://localhost:8080/",
          "height": 34
        },
        "outputId": "1fc4862d-d63f-4bac-b682-f3769c67e496"
      },
      "source": [
        "print(df.isnull().values.sum())"
      ],
      "execution_count": 96,
      "outputs": [
        {
          "output_type": "stream",
          "text": [
            "866\n"
          ],
          "name": "stdout"
        }
      ]
    },
    {
      "cell_type": "code",
      "metadata": {
        "id": "jGUHoTnNeiDL",
        "colab_type": "code",
        "colab": {
          "base_uri": "https://localhost:8080/",
          "height": 238
        },
        "outputId": "565879d8-8bb2-4824-f6f4-f2db2dda8947"
      },
      "source": [
        "print(df.count())"
      ],
      "execution_count": 97,
      "outputs": [
        {
          "output_type": "stream",
          "text": [
            "PassengerId    891\n",
            "Survived       891\n",
            "Pclass         891\n",
            "Name           891\n",
            "Sex            891\n",
            "Age            714\n",
            "SibSp          891\n",
            "Parch          891\n",
            "Ticket         891\n",
            "Fare           891\n",
            "Cabin          204\n",
            "Embarked       889\n",
            "dtype: int64\n"
          ],
          "name": "stdout"
        }
      ]
    },
    {
      "cell_type": "code",
      "metadata": {
        "id": "-8Y8mH6uelIz",
        "colab_type": "code",
        "colab": {
          "base_uri": "https://localhost:8080/",
          "height": 119
        },
        "outputId": "eae28716-7dcc-41ee-9f5e-cf4ad5de1171"
      },
      "source": [
        "print(df.count(axis = 1).head())"
      ],
      "execution_count": 98,
      "outputs": [
        {
          "output_type": "stream",
          "text": [
            "0    11\n",
            "1    12\n",
            "2    11\n",
            "3    12\n",
            "4    11\n",
            "dtype: int64\n"
          ],
          "name": "stdout"
        }
      ]
    },
    {
      "cell_type": "code",
      "metadata": {
        "id": "bQoziHxNenSM",
        "colab_type": "code",
        "colab": {
          "base_uri": "https://localhost:8080/",
          "height": 34
        },
        "outputId": "c3164001-33c3-42f7-b4dc-f170b65aa1a5"
      },
      "source": [
        "print(df.count().sum())"
      ],
      "execution_count": 99,
      "outputs": [
        {
          "output_type": "stream",
          "text": [
            "9826\n"
          ],
          "name": "stdout"
        }
      ]
    },
    {
      "cell_type": "code",
      "metadata": {
        "id": "7AkmcMwPep2j",
        "colab_type": "code",
        "colab": {
          "base_uri": "https://localhost:8080/",
          "height": 88
        },
        "outputId": "01287cc2-6cfe-4a96-f880-04d1583ff807"
      },
      "source": [
        "import pandas as pd\n",
        "import seaborn as sns\n",
        "import numpy as np\n",
        "df = sns.load_dataset('iris')\n",
        "print(df.shape)"
      ],
      "execution_count": 100,
      "outputs": [
        {
          "output_type": "stream",
          "text": [
            "/usr/local/lib/python3.6/dist-packages/statsmodels/tools/_testing.py:19: FutureWarning: pandas.util.testing is deprecated. Use the functions in the public API at pandas.testing instead.\n",
            "  import pandas.util.testing as tm\n"
          ],
          "name": "stderr"
        },
        {
          "output_type": "stream",
          "text": [
            "(150, 5)\n"
          ],
          "name": "stdout"
        }
      ]
    },
    {
      "cell_type": "code",
      "metadata": {
        "id": "CmqQ58U_e1df",
        "colab_type": "code",
        "colab": {
          "base_uri": "https://localhost:8080/",
          "height": 119
        },
        "outputId": "fc948f4f-4c4d-4980-9874-fa15a761a111"
      },
      "source": [
        "print(df.head(5))"
      ],
      "execution_count": 101,
      "outputs": [
        {
          "output_type": "stream",
          "text": [
            "   sepal_length  sepal_width  petal_length  petal_width species\n",
            "0           5.1          3.5           1.4          0.2  setosa\n",
            "1           4.9          3.0           1.4          0.2  setosa\n",
            "2           4.7          3.2           1.3          0.2  setosa\n",
            "3           4.6          3.1           1.5          0.2  setosa\n",
            "4           5.0          3.6           1.4          0.2  setosa\n"
          ],
          "name": "stdout"
        }
      ]
    },
    {
      "cell_type": "code",
      "metadata": {
        "id": "RGRrm56De2-U",
        "colab_type": "code",
        "colab": {}
      },
      "source": [
        "df.columns=['sl','sw','pl','pw','species']"
      ],
      "execution_count": 102,
      "outputs": []
    },
    {
      "cell_type": "code",
      "metadata": {
        "id": "kh45X7Qve9NL",
        "colab_type": "code",
        "colab": {
          "base_uri": "https://localhost:8080/",
          "height": 204
        },
        "outputId": "abf6e12e-04b1-4776-c871-87c8b3622472"
      },
      "source": [
        "df.head(5)"
      ],
      "execution_count": 103,
      "outputs": [
        {
          "output_type": "execute_result",
          "data": {
            "text/html": [
              "<div>\n",
              "<style scoped>\n",
              "    .dataframe tbody tr th:only-of-type {\n",
              "        vertical-align: middle;\n",
              "    }\n",
              "\n",
              "    .dataframe tbody tr th {\n",
              "        vertical-align: top;\n",
              "    }\n",
              "\n",
              "    .dataframe thead th {\n",
              "        text-align: right;\n",
              "    }\n",
              "</style>\n",
              "<table border=\"1\" class=\"dataframe\">\n",
              "  <thead>\n",
              "    <tr style=\"text-align: right;\">\n",
              "      <th></th>\n",
              "      <th>sl</th>\n",
              "      <th>sw</th>\n",
              "      <th>pl</th>\n",
              "      <th>pw</th>\n",
              "      <th>species</th>\n",
              "    </tr>\n",
              "  </thead>\n",
              "  <tbody>\n",
              "    <tr>\n",
              "      <th>0</th>\n",
              "      <td>5.1</td>\n",
              "      <td>3.5</td>\n",
              "      <td>1.4</td>\n",
              "      <td>0.2</td>\n",
              "      <td>setosa</td>\n",
              "    </tr>\n",
              "    <tr>\n",
              "      <th>1</th>\n",
              "      <td>4.9</td>\n",
              "      <td>3.0</td>\n",
              "      <td>1.4</td>\n",
              "      <td>0.2</td>\n",
              "      <td>setosa</td>\n",
              "    </tr>\n",
              "    <tr>\n",
              "      <th>2</th>\n",
              "      <td>4.7</td>\n",
              "      <td>3.2</td>\n",
              "      <td>1.3</td>\n",
              "      <td>0.2</td>\n",
              "      <td>setosa</td>\n",
              "    </tr>\n",
              "    <tr>\n",
              "      <th>3</th>\n",
              "      <td>4.6</td>\n",
              "      <td>3.1</td>\n",
              "      <td>1.5</td>\n",
              "      <td>0.2</td>\n",
              "      <td>setosa</td>\n",
              "    </tr>\n",
              "    <tr>\n",
              "      <th>4</th>\n",
              "      <td>5.0</td>\n",
              "      <td>3.6</td>\n",
              "      <td>1.4</td>\n",
              "      <td>0.2</td>\n",
              "      <td>setosa</td>\n",
              "    </tr>\n",
              "  </tbody>\n",
              "</table>\n",
              "</div>"
            ],
            "text/plain": [
              "    sl   sw   pl   pw species\n",
              "0  5.1  3.5  1.4  0.2  setosa\n",
              "1  4.9  3.0  1.4  0.2  setosa\n",
              "2  4.7  3.2  1.3  0.2  setosa\n",
              "3  4.6  3.1  1.5  0.2  setosa\n",
              "4  5.0  3.6  1.4  0.2  setosa"
            ]
          },
          "metadata": {
            "tags": []
          },
          "execution_count": 103
        }
      ]
    },
    {
      "cell_type": "code",
      "metadata": {
        "id": "DPqowJh7e94K",
        "colab_type": "code",
        "colab": {}
      },
      "source": [
        "grouped = df.groupby('species')"
      ],
      "execution_count": 104,
      "outputs": []
    },
    {
      "cell_type": "code",
      "metadata": {
        "id": "xvBT_eJXfE0L",
        "colab_type": "code",
        "colab": {
          "base_uri": "https://localhost:8080/",
          "height": 34
        },
        "outputId": "5f9868b4-663e-4de9-c505-eaffeb177f10"
      },
      "source": [
        "print(grouped)"
      ],
      "execution_count": 105,
      "outputs": [
        {
          "output_type": "stream",
          "text": [
            "<pandas.core.groupby.generic.DataFrameGroupBy object at 0x7fb52ba2f4e0>\n"
          ],
          "name": "stdout"
        }
      ]
    },
    {
      "cell_type": "code",
      "metadata": {
        "id": "vm5ej0qVfFvD",
        "colab_type": "code",
        "colab": {
          "base_uri": "https://localhost:8080/",
          "height": 102
        },
        "outputId": "17ea8671-9f26-485d-bb19-26771676865c"
      },
      "source": [
        "print(grouped.size())"
      ],
      "execution_count": 107,
      "outputs": [
        {
          "output_type": "stream",
          "text": [
            "species\n",
            "setosa        50\n",
            "versicolor    50\n",
            "virginica     50\n",
            "dtype: int64\n"
          ],
          "name": "stdout"
        }
      ]
    },
    {
      "cell_type": "code",
      "metadata": {
        "id": "YIt9Fb0DfJkj",
        "colab_type": "code",
        "colab": {
          "base_uri": "https://localhost:8080/",
          "height": 102
        },
        "outputId": "8ea1f20e-52fa-49ee-84f6-c73771760966"
      },
      "source": [
        "print(grouped.mean())"
      ],
      "execution_count": 108,
      "outputs": [
        {
          "output_type": "stream",
          "text": [
            "               sl     sw     pl     pw\n",
            "species                               \n",
            "setosa      5.006  3.428  1.462  0.246\n",
            "versicolor  5.936  2.770  4.260  1.326\n",
            "virginica   6.588  2.974  5.552  2.026\n"
          ],
          "name": "stdout"
        }
      ]
    },
    {
      "cell_type": "code",
      "metadata": {
        "id": "LEIGuk4wfSQb",
        "colab_type": "code",
        "colab": {
          "base_uri": "https://localhost:8080/",
          "height": 102
        },
        "outputId": "8f8bcb26-f713-476d-98fb-8f947e10cff3"
      },
      "source": [
        "print(grouped.min())"
      ],
      "execution_count": 109,
      "outputs": [
        {
          "output_type": "stream",
          "text": [
            "             sl   sw   pl   pw\n",
            "species                       \n",
            "setosa      4.3  2.3  1.0  0.1\n",
            "versicolor  4.9  2.0  3.0  1.0\n",
            "virginica   4.9  2.2  4.5  1.4\n"
          ],
          "name": "stdout"
        }
      ]
    },
    {
      "cell_type": "code",
      "metadata": {
        "id": "1lEXIZRBfT1D",
        "colab_type": "code",
        "colab": {
          "base_uri": "https://localhost:8080/",
          "height": 153
        },
        "outputId": "fe363b78-8214-4272-e52d-c0f5e067b30b"
      },
      "source": [
        "print(grouped.describe())"
      ],
      "execution_count": 110,
      "outputs": [
        {
          "output_type": "stream",
          "text": [
            "              sl                               ...   pw                    \n",
            "           count   mean       std  min    25%  ...  min  25%  50%  75%  max\n",
            "species                                        ...                         \n",
            "setosa      50.0  5.006  0.352490  4.3  4.800  ...  0.1  0.2  0.2  0.3  0.6\n",
            "versicolor  50.0  5.936  0.516171  4.9  5.600  ...  1.0  1.2  1.3  1.5  1.8\n",
            "virginica   50.0  6.588  0.635880  4.9  6.225  ...  1.4  1.8  2.0  2.3  2.5\n",
            "\n",
            "[3 rows x 32 columns]\n"
          ],
          "name": "stdout"
        }
      ]
    },
    {
      "cell_type": "code",
      "metadata": {
        "id": "kStvGiXAfVXr",
        "colab_type": "code",
        "colab": {}
      },
      "source": [
        "pd.options.display.max_columns = 50"
      ],
      "execution_count": 111,
      "outputs": []
    },
    {
      "cell_type": "code",
      "metadata": {
        "id": "sZgE12o9f08b",
        "colab_type": "code",
        "colab": {
          "base_uri": "https://localhost:8080/",
          "height": 476
        },
        "outputId": "d62e442e-682b-48a4-d5c4-f09b79b2d6db"
      },
      "source": [
        "print(grouped.describe())"
      ],
      "execution_count": 112,
      "outputs": [
        {
          "output_type": "stream",
          "text": [
            "              sl                                                sw         \\\n",
            "           count   mean       std  min    25%  50%  75%  max count   mean   \n",
            "species                                                                     \n",
            "setosa      50.0  5.006  0.352490  4.3  4.800  5.0  5.2  5.8  50.0  3.428   \n",
            "versicolor  50.0  5.936  0.516171  4.9  5.600  5.9  6.3  7.0  50.0  2.770   \n",
            "virginica   50.0  6.588  0.635880  4.9  6.225  6.5  6.9  7.9  50.0  2.974   \n",
            "\n",
            "                                                     pl                        \\\n",
            "                 std  min    25%  50%    75%  max count   mean       std  min   \n",
            "species                                                                         \n",
            "setosa      0.379064  2.3  3.200  3.4  3.675  4.4  50.0  1.462  0.173664  1.0   \n",
            "versicolor  0.313798  2.0  2.525  2.8  3.000  3.4  50.0  4.260  0.469911  3.0   \n",
            "virginica   0.322497  2.2  2.800  3.0  3.175  3.8  50.0  5.552  0.551895  4.5   \n",
            "\n",
            "                                     pw                                       \\\n",
            "            25%   50%    75%  max count   mean       std  min  25%  50%  75%   \n",
            "species                                                                        \n",
            "setosa      1.4  1.50  1.575  1.9  50.0  0.246  0.105386  0.1  0.2  0.2  0.3   \n",
            "versicolor  4.0  4.35  4.600  5.1  50.0  1.326  0.197753  1.0  1.2  1.3  1.5   \n",
            "virginica   5.1  5.55  5.875  6.9  50.0  2.026  0.274650  1.4  1.8  2.0  2.3   \n",
            "\n",
            "                 \n",
            "            max  \n",
            "species          \n",
            "setosa      0.6  \n",
            "versicolor  1.8  \n",
            "virginica   2.5  \n"
          ],
          "name": "stdout"
        }
      ]
    },
    {
      "cell_type": "code",
      "metadata": {
        "id": "pYqWldY6f3ga",
        "colab_type": "code",
        "colab": {
          "base_uri": "https://localhost:8080/",
          "height": 102
        },
        "outputId": "3bc86e21-c0d5-4d58-bc29-57992450adce"
      },
      "source": [
        "print(grouped.agg('mean'))"
      ],
      "execution_count": 113,
      "outputs": [
        {
          "output_type": "stream",
          "text": [
            "               sl     sw     pl     pw\n",
            "species                               \n",
            "setosa      5.006  3.428  1.462  0.246\n",
            "versicolor  5.936  2.770  4.260  1.326\n",
            "virginica   6.588  2.974  5.552  2.026\n"
          ],
          "name": "stdout"
        }
      ]
    },
    {
      "cell_type": "code",
      "metadata": {
        "id": "KDH6A0MxgBlK",
        "colab_type": "code",
        "colab": {
          "base_uri": "https://localhost:8080/",
          "height": 102
        },
        "outputId": "f3f5012e-cb6d-4cf5-ddeb-bd8cceb3b051"
      },
      "source": [
        "print(grouped.agg(lambda x:max(x)-min(x)))"
      ],
      "execution_count": 114,
      "outputs": [
        {
          "output_type": "stream",
          "text": [
            "             sl   sw   pl   pw\n",
            "species                       \n",
            "setosa      1.5  2.1  0.9  0.5\n",
            "versicolor  2.1  1.4  2.1  0.8\n",
            "virginica   3.0  1.6  2.4  1.1\n"
          ],
          "name": "stdout"
        }
      ]
    },
    {
      "cell_type": "code",
      "metadata": {
        "id": "axO7znKVgGnc",
        "colab_type": "code",
        "colab": {
          "base_uri": "https://localhost:8080/",
          "height": 102
        },
        "outputId": "7e980c32-eb14-4477-8b4f-5eecc139904a"
      },
      "source": [
        "def my_func(x):\n",
        "    return max(x)-min(x)\n",
        "print(grouped.agg(my_func))"
      ],
      "execution_count": 115,
      "outputs": [
        {
          "output_type": "stream",
          "text": [
            "             sl   sw   pl   pw\n",
            "species                       \n",
            "setosa      1.5  2.1  0.9  0.5\n",
            "versicolor  2.1  1.4  2.1  0.8\n",
            "virginica   3.0  1.6  2.4  1.1\n"
          ],
          "name": "stdout"
        }
      ]
    },
    {
      "cell_type": "code",
      "metadata": {
        "id": "WspzZolIgQUM",
        "colab_type": "code",
        "colab": {
          "base_uri": "https://localhost:8080/",
          "height": 119
        },
        "outputId": "37dedd5d-c8ee-4c53-ba0d-099596eafd20"
      },
      "source": [
        "print(grouped.agg(['mean', max, np.min]))"
      ],
      "execution_count": 116,
      "outputs": [
        {
          "output_type": "stream",
          "text": [
            "               sl               sw               pl               pw          \n",
            "             mean  max amin   mean  max amin   mean  max amin   mean  max amin\n",
            "species                                                                       \n",
            "setosa      5.006  5.8  4.3  3.428  4.4  2.3  1.462  1.9  1.0  0.246  0.6  0.1\n",
            "versicolor  5.936  7.0  4.9  2.770  3.4  2.0  4.260  5.1  3.0  1.326  1.8  1.0\n",
            "virginica   6.588  7.9  4.9  2.974  3.8  2.2  5.552  6.9  4.5  2.026  2.5  1.4\n"
          ],
          "name": "stdout"
        }
      ]
    },
    {
      "cell_type": "code",
      "metadata": {
        "id": "tS5dsdDqgVM1",
        "colab_type": "code",
        "colab": {
          "base_uri": "https://localhost:8080/",
          "height": 279
        },
        "outputId": "f2131863-0364-4a08-e84e-db238b0abe3d"
      },
      "source": [
        "ax = grouped.max().plot.bar(rot = 0)\n",
        "fig = ax.get_figure()"
      ],
      "execution_count": 117,
      "outputs": [
        {
          "output_type": "display_data",
          "data": {
            "image/png": "[encoded data removed]",
            "text/plain": [
              "<Figure size 432x288 with 1 Axes>"
            ]
          },
          "metadata": {
            "tags": [],
            "needs_background": "light"
          }
        }
      ]
    },
    {
      "cell_type": "code",
      "metadata": {
        "id": "IY_yjWkCgita",
        "colab_type": "code",
        "colab": {}
      },
      "source": [
        "import pandas as pd\n",
        "df = pd.read_csv('/content/titanic_train.csv', index_col=0).drop(['Name','Ticket','SibSp','Parch'], axis = 1)"
      ],
      "execution_count": 120,
      "outputs": []
    },
    {
      "cell_type": "code",
      "metadata": {
        "id": "vseM4-ZdhPbf",
        "colab_type": "code",
        "colab": {
          "base_uri": "https://localhost:8080/",
          "height": 136
        },
        "outputId": "a504e9a9-e846-4886-cbc1-b875ddd3df71"
      },
      "source": [
        "print(df.head())"
      ],
      "execution_count": 121,
      "outputs": [
        {
          "output_type": "stream",
          "text": [
            "             Survived  Pclass     Sex   Age     Fare Cabin Embarked\n",
            "PassengerId                                                        \n",
            "1                   0       3    male  22.0   7.2500   NaN        S\n",
            "2                   1       1  female  38.0  71.2833   C85        C\n",
            "3                   1       3  female  26.0   7.9250   NaN        S\n",
            "4                   1       1  female  35.0  53.1000  C123        S\n",
            "5                   0       3    male  35.0   8.0500   NaN        S\n"
          ],
          "name": "stdout"
        }
      ]
    },
    {
      "cell_type": "code",
      "metadata": {
        "id": "GNGQsUnShU3r",
        "colab_type": "code",
        "colab": {
          "base_uri": "https://localhost:8080/",
          "height": 85
        },
        "outputId": "943787a3-fe61-4de8-dd22-8f72d6134ed2"
      },
      "source": [
        "print(pd.crosstab(df['Sex'], df['Pclass']))"
      ],
      "execution_count": 122,
      "outputs": [
        {
          "output_type": "stream",
          "text": [
            "Pclass    1    2    3\n",
            "Sex                  \n",
            "female   94   76  144\n",
            "male    122  108  347\n"
          ],
          "name": "stdout"
        }
      ]
    },
    {
      "cell_type": "code",
      "metadata": {
        "id": "E3qms-RRh1Zl",
        "colab_type": "code",
        "colab": {
          "base_uri": "https://localhost:8080/",
          "height": 136
        },
        "outputId": "0aa27965-e323-458a-c2fc-3210ce542fd0"
      },
      "source": [
        "print(pd.crosstab([df['Sex'], df['Survived']], [df['Pclass'], df['Embarked']]))"
      ],
      "execution_count": 125,
      "outputs": [
        {
          "output_type": "stream",
          "text": [
            "Pclass            1         2          3         \n",
            "Embarked          C  Q   S  C  Q   S   C   Q    S\n",
            "Sex    Survived                                  \n",
            "female 0          1  0   2  0  0   6   8   9   55\n",
            "       1         42  1  46  7  2  61  15  24   33\n",
            "male   0         25  1  51  8  1  82  33  36  231\n",
            "       1         17  0  28  2  0  15  10   3   34\n"
          ],
          "name": "stdout"
        }
      ]
    },
    {
      "cell_type": "code",
      "metadata": {
        "id": "GAIG3Al9h9Fa",
        "colab_type": "code",
        "colab": {
          "base_uri": "https://localhost:8080/",
          "height": 119
        },
        "outputId": "ea7adacd-e9b1-40c4-f830-912ad82fd49c"
      },
      "source": [
        "import pandas as pd\n",
        "import numpy as np\n",
        "import seaborn as sns\n",
        "import matplotlib.pyplot as plt\n",
        "\n",
        "df = pd.DataFrame({'A': range(5),\n",
        "                   'B': [x**2 for x in range(5)],\n",
        "                   'C': [x**3 for x in range(5)]})\n",
        "\n",
        "print(df)"
      ],
      "execution_count": 126,
      "outputs": [
        {
          "output_type": "stream",
          "text": [
            "   A   B   C\n",
            "0  0   0   0\n",
            "1  1   1   1\n",
            "2  2   4   8\n",
            "3  3   9  27\n",
            "4  4  16  64\n"
          ],
          "name": "stdout"
        }
      ]
    },
    {
      "cell_type": "code",
      "metadata": {
        "id": "FhxFuDvnic2s",
        "colab_type": "code",
        "colab": {}
      },
      "source": [
        "df_corr = df.corr()"
      ],
      "execution_count": 127,
      "outputs": []
    },
    {
      "cell_type": "code",
      "metadata": {
        "id": "4Fi9hlYziekj",
        "colab_type": "code",
        "colab": {
          "base_uri": "https://localhost:8080/",
          "height": 85
        },
        "outputId": "b78e2d90-cf28-4817-fe41-82215431ba3a"
      },
      "source": [
        "print(df_corr)"
      ],
      "execution_count": 128,
      "outputs": [
        {
          "output_type": "stream",
          "text": [
            "          A         B         C\n",
            "A  1.000000  0.958927  0.905882\n",
            "B  0.958927  1.000000  0.987130\n",
            "C  0.905882  0.987130  1.000000\n"
          ],
          "name": "stdout"
        }
      ]
    },
    {
      "cell_type": "code",
      "metadata": {
        "id": "StP8jkwrifUc",
        "colab_type": "code",
        "colab": {
          "base_uri": "https://localhost:8080/",
          "height": 119
        },
        "outputId": "2ae54ee6-730e-41aa-fbbd-8f8f2ee8a8ad"
      },
      "source": [
        "df['D'] = list('abcde')\n",
        "df['E'] = [True,False, True, True, False]\n",
        "print(df)"
      ],
      "execution_count": 129,
      "outputs": [
        {
          "output_type": "stream",
          "text": [
            "   A   B   C  D      E\n",
            "0  0   0   0  a   True\n",
            "1  1   1   1  b  False\n",
            "2  2   4   8  c   True\n",
            "3  3   9  27  d   True\n",
            "4  4  16  64  e  False\n"
          ],
          "name": "stdout"
        }
      ]
    },
    {
      "cell_type": "code",
      "metadata": {
        "id": "wI1A1n8oiquL",
        "colab_type": "code",
        "colab": {
          "base_uri": "https://localhost:8080/",
          "height": 102
        },
        "outputId": "e256e309-7aeb-4c71-f74c-e69243c94cf3"
      },
      "source": [
        "df_corr = df.corr()\n",
        "print(df_corr)"
      ],
      "execution_count": 130,
      "outputs": [
        {
          "output_type": "stream",
          "text": [
            "          A         B         C         E\n",
            "A  1.000000  0.958927  0.905882 -0.288675\n",
            "B  0.958927  1.000000  0.987130 -0.346023\n",
            "C  0.905882  0.987130  1.000000 -0.424522\n",
            "E -0.288675 -0.346023 -0.424522  1.000000\n"
          ],
          "name": "stdout"
        }
      ]
    },
    {
      "cell_type": "code",
      "metadata": {
        "id": "6nKU29JHiwmb",
        "colab_type": "code",
        "colab": {
          "base_uri": "https://localhost:8080/",
          "height": 286
        },
        "outputId": "3bf99630-e105-4189-c18d-2458abdc5ae1"
      },
      "source": [
        "sns.heatmap(df_corr, vmax = 1, vmin=-1, center = 0)"
      ],
      "execution_count": 131,
      "outputs": [
        {
          "output_type": "execute_result",
          "data": {
            "text/plain": [
              "<matplotlib.axes._subplots.AxesSubplot at 0x7fb520a869e8>"
            ]
          },
          "metadata": {
            "tags": []
          },
          "execution_count": 131
        },
        {
          "output_type": "display_data",
          "data": {
            "image/png": "[encoded data removed]",
            "text/plain": [
              "<Figure size 432x288 with 2 Axes>"
            ]
          },
          "metadata": {
            "tags": [],
            "needs_background": "light"
          }
        }
      ]
    },
    {
      "cell_type": "code",
      "metadata": {
        "id": "nnwInxRrjCIi",
        "colab_type": "code",
        "colab": {}
      },
      "source": [
        "df_house = pd.read_csv('/content/house_prices_train.csv',index_col = 0)"
      ],
      "execution_count": 132,
      "outputs": []
    },
    {
      "cell_type": "code",
      "metadata": {
        "id": "vlVYWWYtjOQr",
        "colab_type": "code",
        "colab": {
          "base_uri": "https://localhost:8080/",
          "height": 34
        },
        "outputId": "a3212901-042c-486f-d2a5-10ee0bedcaab"
      },
      "source": [
        "print(df_house.shape)"
      ],
      "execution_count": 133,
      "outputs": [
        {
          "output_type": "stream",
          "text": [
            "(1460, 80)\n"
          ],
          "name": "stdout"
        }
      ]
    },
    {
      "cell_type": "code",
      "metadata": {
        "id": "H_EhVauojRdz",
        "colab_type": "code",
        "colab": {
          "base_uri": "https://localhost:8080/",
          "height": 85
        },
        "outputId": "e7e606a0-800d-4f53-b446-8a98d019d703"
      },
      "source": [
        "print(df_house.dtypes.value_counts())"
      ],
      "execution_count": 135,
      "outputs": [
        {
          "output_type": "stream",
          "text": [
            "object     43\n",
            "int64      34\n",
            "float64     3\n",
            "dtype: int64\n"
          ],
          "name": "stdout"
        }
      ]
    },
    {
      "cell_type": "code",
      "metadata": {
        "id": "yAnAf5B_jUaz",
        "colab_type": "code",
        "colab": {}
      },
      "source": [
        "df_house_corr = df_house.corr()"
      ],
      "execution_count": 136,
      "outputs": []
    },
    {
      "cell_type": "code",
      "metadata": {
        "id": "HPrPHk8AjXhD",
        "colab_type": "code",
        "colab": {
          "base_uri": "https://localhost:8080/",
          "height": 34
        },
        "outputId": "5bb0a0de-496f-47b0-e9b6-425a89792a64"
      },
      "source": [
        "print(df_house_corr.shape)"
      ],
      "execution_count": 139,
      "outputs": [
        {
          "output_type": "stream",
          "text": [
            "(37, 37)\n"
          ],
          "name": "stdout"
        }
      ]
    },
    {
      "cell_type": "code",
      "metadata": {
        "id": "1wZNFE2NjZd7",
        "colab_type": "code",
        "colab": {
          "base_uri": "https://localhost:8080/",
          "height": 624
        },
        "outputId": "8199fdc8-7adc-4aec-903f-f7aaf73b249d"
      },
      "source": [
        "fig, ax = plt.subplots(figsize=(12,9))\n",
        "sns.heatmap(df_house_corr, square=True, vmax = 1, vmin = -1, center = 0)"
      ],
      "execution_count": 141,
      "outputs": [
        {
          "output_type": "execute_result",
          "data": {
            "text/plain": [
              "<matplotlib.axes._subplots.AxesSubplot at 0x7fb51d899240>"
            ]
          },
          "metadata": {
            "tags": []
          },
          "execution_count": 141
        },
        {
          "output_type": "display_data",
          "data": {
            "image/png": "[encoded data removed]",
            "text/plain": [
              "<Figure size 864x648 with 2 Axes>"
            ]
          },
          "metadata": {
            "tags": [],
            "needs_background": "light"
          }
        }
      ]
    },
    {
      "cell_type": "code",
      "metadata": {
        "id": "xGY6mDA0lHSs",
        "colab_type": "code",
        "colab": {
          "base_uri": "https://localhost:8080/",
          "height": 102
        },
        "outputId": "66f27af3-d203-48a3-dd79-2f781fbd70ee"
      },
      "source": [
        "df = pd.DataFrame({'col1': ['X', 'X', 'Y', 'X'],\n",
        "                   'col2': ['X', 'Y', 'Y', 'X']},\n",
        "                  index=['row1', 'row2', 'row3', 'row4'])\n",
        "print(df)"
      ],
      "execution_count": 143,
      "outputs": [
        {
          "output_type": "stream",
          "text": [
            "     col1 col2\n",
            "row1    X    X\n",
            "row2    X    Y\n",
            "row3    Y    Y\n",
            "row4    X    X\n"
          ],
          "name": "stdout"
        }
      ]
    },
    {
      "cell_type": "code",
      "metadata": {
        "id": "dbJJtbD3lLTK",
        "colab_type": "code",
        "colab": {
          "base_uri": "https://localhost:8080/",
          "height": 68
        },
        "outputId": "bfc97e57-094a-4f3e-bb1a-7da7b422dcb1"
      },
      "source": [
        "print(df.mode())"
      ],
      "execution_count": 144,
      "outputs": [
        {
          "output_type": "stream",
          "text": [
            "  col1 col2\n",
            "0    X    X\n",
            "1  NaN    Y\n"
          ],
          "name": "stdout"
        }
      ]
    },
    {
      "cell_type": "code",
      "metadata": {
        "id": "8O_vvQRVlhGr",
        "colab_type": "code",
        "colab": {
          "base_uri": "https://localhost:8080/",
          "height": 68
        },
        "outputId": "2edffff1-40a9-4ff9-a129-6bc1ea2515aa"
      },
      "source": [
        "print(df.mode().count())"
      ],
      "execution_count": 145,
      "outputs": [
        {
          "output_type": "stream",
          "text": [
            "col1    1\n",
            "col2    2\n",
            "dtype: int64\n"
          ],
          "name": "stdout"
        }
      ]
    },
    {
      "cell_type": "code",
      "metadata": {
        "id": "8bqzoi_SltoL",
        "colab_type": "code",
        "colab": {
          "base_uri": "https://localhost:8080/",
          "height": 68
        },
        "outputId": "c44afdf7-1af6-4ece-fbeb-ae6867cdec32"
      },
      "source": [
        "print(df.mode().iloc[0])"
      ],
      "execution_count": 146,
      "outputs": [
        {
          "output_type": "stream",
          "text": [
            "col1    X\n",
            "col2    X\n",
            "Name: 0, dtype: object\n"
          ],
          "name": "stdout"
        }
      ]
    },
    {
      "cell_type": "code",
      "metadata": {
        "id": "TyGQHFsBlvB7",
        "colab_type": "code",
        "colab": {
          "base_uri": "https://localhost:8080/",
          "height": 68
        },
        "outputId": "a329abc1-06aa-425f-ef57-3d59daa96280"
      },
      "source": [
        "l_mode = df.apply(lambda x: x.mode().tolist())\n",
        "print(l_mode)"
      ],
      "execution_count": 147,
      "outputs": [
        {
          "output_type": "stream",
          "text": [
            "col1       [X]\n",
            "col2    [X, Y]\n",
            "dtype: object\n"
          ],
          "name": "stdout"
        }
      ]
    },
    {
      "cell_type": "code",
      "metadata": {
        "id": "gleq9weJl2Ux",
        "colab_type": "code",
        "colab": {
          "base_uri": "https://localhost:8080/",
          "height": 51
        },
        "outputId": "9625fe77-d741-4f8d-eb27-ba1c742a6f30"
      },
      "source": [
        "print(l_mode.iat[1])\n",
        "print(l_mode.iat[1][1])"
      ],
      "execution_count": 148,
      "outputs": [
        {
          "output_type": "stream",
          "text": [
            "['X', 'Y']\n",
            "Y\n"
          ],
          "name": "stdout"
        }
      ]
    },
    {
      "cell_type": "code",
      "metadata": {
        "id": "tiYGSfNXl5O6",
        "colab_type": "code",
        "colab": {
          "base_uri": "https://localhost:8080/",
          "height": 187
        },
        "outputId": "f9ad170a-253b-4d8e-dab3-8bd1c1fbf35f"
      },
      "source": [
        "print(df.mode(axis = 1))\n",
        "print(df.mode(axis=1).count(axis = 1))"
      ],
      "execution_count": 149,
      "outputs": [
        {
          "output_type": "stream",
          "text": [
            "      0    1\n",
            "row1  X  NaN\n",
            "row2  X    Y\n",
            "row3  Y  NaN\n",
            "row4  X  NaN\n",
            "row1    1\n",
            "row2    2\n",
            "row3    1\n",
            "row4    1\n",
            "dtype: int64\n"
          ],
          "name": "stdout"
        }
      ]
    },
    {
      "cell_type": "code",
      "metadata": {
        "id": "CV6n6tOAl-va",
        "colab_type": "code",
        "colab": {
          "base_uri": "https://localhost:8080/",
          "height": 68
        },
        "outputId": "8edbc995-2a5e-4d50-e455-10db8562464e"
      },
      "source": [
        "print(df['col1'].value_counts())"
      ],
      "execution_count": 150,
      "outputs": [
        {
          "output_type": "stream",
          "text": [
            "X    3\n",
            "Y    1\n",
            "Name: col1, dtype: int64\n"
          ],
          "name": "stdout"
        }
      ]
    },
    {
      "cell_type": "code",
      "metadata": {
        "id": "8mQh7UFMmLwi",
        "colab_type": "code",
        "colab": {
          "base_uri": "https://localhost:8080/",
          "height": 68
        },
        "outputId": "d1dd3fc4-072e-43ca-835d-b785848c6005"
      },
      "source": [
        "print(df.apply(lambda x:x.value_counts().iat[0]))"
      ],
      "execution_count": 151,
      "outputs": [
        {
          "output_type": "stream",
          "text": [
            "col1    3\n",
            "col2    2\n",
            "dtype: int64\n"
          ],
          "name": "stdout"
        }
      ]
    },
    {
      "cell_type": "code",
      "metadata": {
        "id": "EFDSj0cemP3y",
        "colab_type": "code",
        "colab": {
          "base_uri": "https://localhost:8080/",
          "height": 102
        },
        "outputId": "a7d39c1f-be04-42d3-9973-04ae396350db"
      },
      "source": [
        "print(df.describe())"
      ],
      "execution_count": 152,
      "outputs": [
        {
          "output_type": "stream",
          "text": [
            "       col1 col2\n",
            "count     4    4\n",
            "unique    2    2\n",
            "top       X    X\n",
            "freq      3    2\n"
          ],
          "name": "stdout"
        }
      ]
    },
    {
      "cell_type": "code",
      "metadata": {
        "id": "bwgSQi7emRC6",
        "colab_type": "code",
        "colab": {
          "base_uri": "https://localhost:8080/",
          "height": 102
        },
        "outputId": "a99a1c1b-6b4c-4d52-c8b1-e9cb778ebd17"
      },
      "source": [
        "import pandas as pd\n",
        "df = pd.DataFrame({'col1':[0,3,2,3], 'col2':[4,0,2,1]},\n",
        "                  index = ['a','b','c','d'])\n",
        "print(df)"
      ],
      "execution_count": 153,
      "outputs": [
        {
          "output_type": "stream",
          "text": [
            "   col1  col2\n",
            "a     0     4\n",
            "b     3     0\n",
            "c     2     2\n",
            "d     3     1\n"
          ],
          "name": "stdout"
        }
      ]
    },
    {
      "cell_type": "code",
      "metadata": {
        "id": "R11soVBcoyGa",
        "colab_type": "code",
        "colab": {
          "base_uri": "https://localhost:8080/",
          "height": 51
        },
        "outputId": "4009de97-ebf1-469e-e0c8-2de7de319ed8"
      },
      "source": [
        "print(df['col1'].idxmax())\n",
        "print(df['col1'].idxmin())"
      ],
      "execution_count": 154,
      "outputs": [
        {
          "output_type": "stream",
          "text": [
            "b\n",
            "a\n"
          ],
          "name": "stdout"
        }
      ]
    },
    {
      "cell_type": "code",
      "metadata": {
        "id": "pQdqw_qCpK0a",
        "colab_type": "code",
        "colab": {
          "base_uri": "https://localhost:8080/",
          "height": 34
        },
        "outputId": "b243bdaf-e581-4b66-c459-5a5501966a78"
      },
      "source": [
        "print(df['col1'][df['col1'] == df['col1'].min()].index.values)"
      ],
      "execution_count": 155,
      "outputs": [
        {
          "output_type": "stream",
          "text": [
            "['a']\n"
          ],
          "name": "stdout"
        }
      ]
    },
    {
      "cell_type": "code",
      "metadata": {
        "id": "8mAW6z8spZtp",
        "colab_type": "code",
        "colab": {
          "base_uri": "https://localhost:8080/",
          "height": 68
        },
        "outputId": "5bae8da3-fe36-4f8c-a3a9-2821f00b2158"
      },
      "source": [
        "print(df.apply(lambda x: list(x[x==x.max()].index)))"
      ],
      "execution_count": 156,
      "outputs": [
        {
          "output_type": "stream",
          "text": [
            "col1    [b, d]\n",
            "col2       [a]\n",
            "dtype: object\n"
          ],
          "name": "stdout"
        }
      ]
    },
    {
      "cell_type": "code",
      "metadata": {
        "id": "H0dP0x41piMP",
        "colab_type": "code",
        "colab": {
          "base_uri": "https://localhost:8080/",
          "height": 102
        },
        "outputId": "6068a2f8-8ed1-4b67-df7b-19ba32fbd760"
      },
      "source": [
        "print(df.idxmax(axis = 1))"
      ],
      "execution_count": 157,
      "outputs": [
        {
          "output_type": "stream",
          "text": [
            "a    col2\n",
            "b    col1\n",
            "c    col1\n",
            "d    col1\n",
            "dtype: object\n"
          ],
          "name": "stdout"
        }
      ]
    },
    {
      "cell_type": "code",
      "metadata": {
        "id": "7Pr4GM4cplrk",
        "colab_type": "code",
        "colab": {
          "base_uri": "https://localhost:8080/",
          "height": 102
        },
        "outputId": "87cb118b-b322-48ef-829e-da758f603d10"
      },
      "source": [
        "print(df.idxmin(axis = 1))"
      ],
      "execution_count": 158,
      "outputs": [
        {
          "output_type": "stream",
          "text": [
            "a    col1\n",
            "b    col2\n",
            "c    col1\n",
            "d    col2\n",
            "dtype: object\n"
          ],
          "name": "stdout"
        }
      ]
    },
    {
      "cell_type": "code",
      "metadata": {
        "id": "S7TRL-o6poY6",
        "colab_type": "code",
        "colab": {}
      },
      "source": [
        "df_nan = df.copy()"
      ],
      "execution_count": 159,
      "outputs": []
    },
    {
      "cell_type": "code",
      "metadata": {
        "id": "p9RDkMNkp7zV",
        "colab_type": "code",
        "colab": {}
      },
      "source": [
        "df_nan.iloc[1] = np.nan"
      ],
      "execution_count": 160,
      "outputs": []
    },
    {
      "cell_type": "code",
      "metadata": {
        "id": "5UF9-7JYp-bK",
        "colab_type": "code",
        "colab": {
          "base_uri": "https://localhost:8080/",
          "height": 173
        },
        "outputId": "39c14a32-ec1d-4a74-9707-2e9f70b7c011"
      },
      "source": [
        "df"
      ],
      "execution_count": 161,
      "outputs": [
        {
          "output_type": "execute_result",
          "data": {
            "text/html": [
              "<div>\n",
              "<style scoped>\n",
              "    .dataframe tbody tr th:only-of-type {\n",
              "        vertical-align: middle;\n",
              "    }\n",
              "\n",
              "    .dataframe tbody tr th {\n",
              "        vertical-align: top;\n",
              "    }\n",
              "\n",
              "    .dataframe thead th {\n",
              "        text-align: right;\n",
              "    }\n",
              "</style>\n",
              "<table border=\"1\" class=\"dataframe\">\n",
              "  <thead>\n",
              "    <tr style=\"text-align: right;\">\n",
              "      <th></th>\n",
              "      <th>col1</th>\n",
              "      <th>col2</th>\n",
              "    </tr>\n",
              "  </thead>\n",
              "  <tbody>\n",
              "    <tr>\n",
              "      <th>a</th>\n",
              "      <td>0</td>\n",
              "      <td>4</td>\n",
              "    </tr>\n",
              "    <tr>\n",
              "      <th>b</th>\n",
              "      <td>3</td>\n",
              "      <td>0</td>\n",
              "    </tr>\n",
              "    <tr>\n",
              "      <th>c</th>\n",
              "      <td>2</td>\n",
              "      <td>2</td>\n",
              "    </tr>\n",
              "    <tr>\n",
              "      <th>d</th>\n",
              "      <td>3</td>\n",
              "      <td>1</td>\n",
              "    </tr>\n",
              "  </tbody>\n",
              "</table>\n",
              "</div>"
            ],
            "text/plain": [
              "   col1  col2\n",
              "a     0     4\n",
              "b     3     0\n",
              "c     2     2\n",
              "d     3     1"
            ]
          },
          "metadata": {
            "tags": []
          },
          "execution_count": 161
        }
      ]
    },
    {
      "cell_type": "code",
      "metadata": {
        "id": "-sr_7Klsp-uU",
        "colab_type": "code",
        "colab": {
          "base_uri": "https://localhost:8080/",
          "height": 173
        },
        "outputId": "d777e5f1-da38-4997-ffbb-e33f9bdc0b95"
      },
      "source": [
        "df_nan"
      ],
      "execution_count": 162,
      "outputs": [
        {
          "output_type": "execute_result",
          "data": {
            "text/html": [
              "<div>\n",
              "<style scoped>\n",
              "    .dataframe tbody tr th:only-of-type {\n",
              "        vertical-align: middle;\n",
              "    }\n",
              "\n",
              "    .dataframe tbody tr th {\n",
              "        vertical-align: top;\n",
              "    }\n",
              "\n",
              "    .dataframe thead th {\n",
              "        text-align: right;\n",
              "    }\n",
              "</style>\n",
              "<table border=\"1\" class=\"dataframe\">\n",
              "  <thead>\n",
              "    <tr style=\"text-align: right;\">\n",
              "      <th></th>\n",
              "      <th>col1</th>\n",
              "      <th>col2</th>\n",
              "    </tr>\n",
              "  </thead>\n",
              "  <tbody>\n",
              "    <tr>\n",
              "      <th>a</th>\n",
              "      <td>0.0</td>\n",
              "      <td>4.0</td>\n",
              "    </tr>\n",
              "    <tr>\n",
              "      <th>b</th>\n",
              "      <td>NaN</td>\n",
              "      <td>NaN</td>\n",
              "    </tr>\n",
              "    <tr>\n",
              "      <th>c</th>\n",
              "      <td>2.0</td>\n",
              "      <td>2.0</td>\n",
              "    </tr>\n",
              "    <tr>\n",
              "      <th>d</th>\n",
              "      <td>3.0</td>\n",
              "      <td>1.0</td>\n",
              "    </tr>\n",
              "  </tbody>\n",
              "</table>\n",
              "</div>"
            ],
            "text/plain": [
              "   col1  col2\n",
              "a   0.0   4.0\n",
              "b   NaN   NaN\n",
              "c   2.0   2.0\n",
              "d   3.0   1.0"
            ]
          },
          "metadata": {
            "tags": []
          },
          "execution_count": 162
        }
      ]
    },
    {
      "cell_type": "code",
      "metadata": {
        "id": "Znd2Iwglp_JT",
        "colab_type": "code",
        "colab": {
          "base_uri": "https://localhost:8080/",
          "height": 68
        },
        "outputId": "7e00e346-7323-4947-fde8-3c804f8b3c63"
      },
      "source": [
        "print(df_nan.idxmax(skipna=False))"
      ],
      "execution_count": 163,
      "outputs": [
        {
          "output_type": "stream",
          "text": [
            "col1   NaN\n",
            "col2   NaN\n",
            "dtype: float64\n"
          ],
          "name": "stdout"
        }
      ]
    },
    {
      "cell_type": "code",
      "metadata": {
        "id": "U4j0OsKlqFuy",
        "colab_type": "code",
        "colab": {
          "base_uri": "https://localhost:8080/",
          "height": 102
        },
        "outputId": "87473440-2898-4c4e-fe2d-ca7df07b46a9"
      },
      "source": [
        "print(df_nan.idxmax(axis=1, skipna=False))"
      ],
      "execution_count": 164,
      "outputs": [
        {
          "output_type": "stream",
          "text": [
            "a    col2\n",
            "b     NaN\n",
            "c    col1\n",
            "d    col1\n",
            "dtype: object\n"
          ],
          "name": "stdout"
        }
      ]
    },
    {
      "cell_type": "code",
      "metadata": {
        "id": "C44CHNinqIga",
        "colab_type": "code",
        "colab": {
          "base_uri": "https://localhost:8080/",
          "height": 156
        },
        "outputId": "abea6710-cf09-4d73-ee49-ccd9e8fb0045"
      },
      "source": [
        "import pandas as pd\n",
        "\n",
        "df = pd.DataFrame({'col1': [50, 80, 100, 80],\n",
        "                   'col2': [0.3, pd.np.nan, 0.1, pd.np.nan],\n",
        "                   'col3': ['h', 'j', 'i', 'k']},\n",
        "                  index=['a', 'b', 'c', 'd'])\n",
        "\n",
        "print(df)"
      ],
      "execution_count": 165,
      "outputs": [
        {
          "output_type": "stream",
          "text": [
            "   col1  col2 col3\n",
            "a    50   0.3    h\n",
            "b    80   NaN    j\n",
            "c   100   0.1    i\n",
            "d    80   NaN    k\n"
          ],
          "name": "stdout"
        },
        {
          "output_type": "stream",
          "text": [
            "/usr/local/lib/python3.6/dist-packages/ipykernel_launcher.py:4: FutureWarning: The pandas.np module is deprecated and will be removed from pandas in a future version. Import numpy directly instead\n",
            "  after removing the cwd from sys.path.\n"
          ],
          "name": "stderr"
        }
      ]
    },
    {
      "cell_type": "code",
      "metadata": {
        "id": "feOBhMIVvYWk",
        "colab_type": "code",
        "colab": {
          "base_uri": "https://localhost:8080/",
          "height": 102
        },
        "outputId": "48a4a42b-8f2b-45b9-f487-3f0417ca7a41"
      },
      "source": [
        "print(df.rank())"
      ],
      "execution_count": 166,
      "outputs": [
        {
          "output_type": "stream",
          "text": [
            "   col1  col2  col3\n",
            "a   1.0   2.0   1.0\n",
            "b   2.5   NaN   3.0\n",
            "c   4.0   1.0   2.0\n",
            "d   2.5   NaN   4.0\n"
          ],
          "name": "stdout"
        }
      ]
    },
    {
      "cell_type": "code",
      "metadata": {
        "id": "giCXkqOxvkpi",
        "colab_type": "code",
        "colab": {
          "base_uri": "https://localhost:8080/",
          "height": 102
        },
        "outputId": "84239f7b-bef7-46af-fb5b-760a5bad8c41"
      },
      "source": [
        "print(df.rank(axis = 1))"
      ],
      "execution_count": 167,
      "outputs": [
        {
          "output_type": "stream",
          "text": [
            "   col1  col2\n",
            "a   2.0   1.0\n",
            "b   1.0   NaN\n",
            "c   2.0   1.0\n",
            "d   1.0   NaN\n"
          ],
          "name": "stdout"
        }
      ]
    },
    {
      "cell_type": "code",
      "metadata": {
        "id": "jfZvMlGmvoIa",
        "colab_type": "code",
        "colab": {
          "base_uri": "https://localhost:8080/",
          "height": 102
        },
        "outputId": "030becb7-c6b2-44ba-bc15-4b7b7c431e11"
      },
      "source": [
        "print(df.rank(numeric_only=True))"
      ],
      "execution_count": 168,
      "outputs": [
        {
          "output_type": "stream",
          "text": [
            "   col1  col2\n",
            "a   1.0   2.0\n",
            "b   2.5   NaN\n",
            "c   4.0   1.0\n",
            "d   2.5   NaN\n"
          ],
          "name": "stdout"
        }
      ]
    },
    {
      "cell_type": "code",
      "metadata": {
        "id": "M7m4lDJivqNi",
        "colab_type": "code",
        "colab": {
          "base_uri": "https://localhost:8080/",
          "height": 102
        },
        "outputId": "57bb048b-e8c5-4294-9b48-910daf452a8d"
      },
      "source": [
        "print(df.rank(axis=1))"
      ],
      "execution_count": 169,
      "outputs": [
        {
          "output_type": "stream",
          "text": [
            "   col1  col2\n",
            "a   2.0   1.0\n",
            "b   1.0   NaN\n",
            "c   2.0   1.0\n",
            "d   1.0   NaN\n"
          ],
          "name": "stdout"
        }
      ]
    },
    {
      "cell_type": "code",
      "metadata": {
        "id": "5q494N5cvrbZ",
        "colab_type": "code",
        "colab": {
          "base_uri": "https://localhost:8080/",
          "height": 102
        },
        "outputId": "e76658b7-5556-4bac-bfef-42d05e84c9c0"
      },
      "source": [
        "print(df.rank(ascending=False))"
      ],
      "execution_count": 170,
      "outputs": [
        {
          "output_type": "stream",
          "text": [
            "   col1  col2  col3\n",
            "a   4.0   1.0   4.0\n",
            "b   2.5   NaN   2.0\n",
            "c   1.0   2.0   3.0\n",
            "d   2.5   NaN   1.0\n"
          ],
          "name": "stdout"
        }
      ]
    },
    {
      "cell_type": "code",
      "metadata": {
        "id": "pI2h7lFhvtlM",
        "colab_type": "code",
        "colab": {
          "base_uri": "https://localhost:8080/",
          "height": 102
        },
        "outputId": "c849a95b-0815-433d-b309-4053dfc8f4f0"
      },
      "source": [
        "print(df.rank(method='average'))"
      ],
      "execution_count": 171,
      "outputs": [
        {
          "output_type": "stream",
          "text": [
            "   col1  col2  col3\n",
            "a   1.0   2.0   1.0\n",
            "b   2.5   NaN   3.0\n",
            "c   4.0   1.0   2.0\n",
            "d   2.5   NaN   4.0\n"
          ],
          "name": "stdout"
        }
      ]
    },
    {
      "cell_type": "code",
      "metadata": {
        "id": "KQkU9VqGvvkB",
        "colab_type": "code",
        "colab": {
          "base_uri": "https://localhost:8080/",
          "height": 102
        },
        "outputId": "9013fab8-dfd3-4169-c2e4-31297342d3b1"
      },
      "source": [
        "print(df.rank(method='max'))"
      ],
      "execution_count": 172,
      "outputs": [
        {
          "output_type": "stream",
          "text": [
            "   col1  col2  col3\n",
            "a   1.0   2.0   1.0\n",
            "b   3.0   NaN   3.0\n",
            "c   4.0   1.0   2.0\n",
            "d   3.0   NaN   4.0\n"
          ],
          "name": "stdout"
        }
      ]
    },
    {
      "cell_type": "code",
      "metadata": {
        "id": "C3mQkCFkv2P5",
        "colab_type": "code",
        "colab": {
          "base_uri": "https://localhost:8080/",
          "height": 102
        },
        "outputId": "2b1b4a7e-1160-4284-dbab-e58ebabd9b8f"
      },
      "source": [
        "print(df.rank(method='dense'))"
      ],
      "execution_count": 173,
      "outputs": [
        {
          "output_type": "stream",
          "text": [
            "   col1  col2  col3\n",
            "a   1.0   2.0   1.0\n",
            "b   2.0   NaN   3.0\n",
            "c   3.0   1.0   2.0\n",
            "d   2.0   NaN   4.0\n"
          ],
          "name": "stdout"
        }
      ]
    },
    {
      "cell_type": "code",
      "metadata": {
        "id": "3h2a-Lz5v4Kh",
        "colab_type": "code",
        "colab": {
          "base_uri": "https://localhost:8080/",
          "height": 102
        },
        "outputId": "589a3c2b-5425-48ec-c2e0-6fd0796ccdd5"
      },
      "source": [
        "print(df.rank(na_option='bottom', method ='min'))"
      ],
      "execution_count": 174,
      "outputs": [
        {
          "output_type": "stream",
          "text": [
            "   col1  col2  col3\n",
            "a   1.0   2.0   1.0\n",
            "b   2.0   3.0   3.0\n",
            "c   4.0   1.0   2.0\n",
            "d   2.0   3.0   4.0\n"
          ],
          "name": "stdout"
        }
      ]
    },
    {
      "cell_type": "code",
      "metadata": {
        "id": "aDkpTBvTwS5J",
        "colab_type": "code",
        "colab": {
          "base_uri": "https://localhost:8080/",
          "height": 102
        },
        "outputId": "17904817-87cc-498d-b882-d75efdc7129c"
      },
      "source": [
        "print(df.rank(pct=True))"
      ],
      "execution_count": 175,
      "outputs": [
        {
          "output_type": "stream",
          "text": [
            "    col1  col2  col3\n",
            "a  0.250   1.0  0.25\n",
            "b  0.625   NaN  0.75\n",
            "c  1.000   0.5  0.50\n",
            "d  0.625   NaN  1.00\n"
          ],
          "name": "stdout"
        }
      ]
    },
    {
      "cell_type": "code",
      "metadata": {
        "id": "SJnyI9SKwUyl",
        "colab_type": "code",
        "colab": {
          "base_uri": "https://localhost:8080/",
          "height": 102
        },
        "outputId": "b4d92cea-d86a-492f-9ed2-9cf76f43991a"
      },
      "source": [
        "print(df.rank(pct=True, method = 'min', ascending=False, na_option = 'bottom'))"
      ],
      "execution_count": 176,
      "outputs": [
        {
          "output_type": "stream",
          "text": [
            "   col1  col2  col3\n",
            "a  1.00  0.25  1.00\n",
            "b  0.50  0.75  0.50\n",
            "c  0.25  0.50  0.75\n",
            "d  0.50  0.75  0.25\n"
          ],
          "name": "stdout"
        }
      ]
    },
    {
      "cell_type": "code",
      "metadata": {
        "id": "No3ipA8YwfSC",
        "colab_type": "code",
        "colab": {}
      },
      "source": [
        ""
      ],
      "execution_count": null,
      "outputs": []
    }
  ]
}