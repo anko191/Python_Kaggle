{
  "nbformat": 4,
  "nbformat_minor": 0,
  "metadata": {
    "colab": {
      "name": "pandas_at_iat_loc_iloc",
      "provenance": [],
      "collapsed_sections": [],
      "authorship_tag": "ABX9TyNdf98DMNavkLXDsGbE57Cg",
      "include_colab_link": true
    },
    "kernelspec": {
      "name": "python3",
      "display_name": "Python 3"
    }
  },
  "cells": [
    {
      "cell_type": "markdown",
      "metadata": {
        "id": "view-in-github",
        "colab_type": "text"
      },
      "source": [
        "<a href=\"https://colab.research.google.com/github/anko191/Python_Kaggle/blob/master/pandas/pandas_at_iat_loc_iloc.ipynb\" target=\"_parent\"><img src=\"https://colab.research.google.com/assets/colab-badge.svg\" alt=\"Open In Colab\"/></a>"
      ]
    },
    {
      "cell_type": "markdown",
      "metadata": {
        "id": "KU2ZRfo-WoJw",
        "colab_type": "text"
      },
      "source": [
        "# at iat loc iloc ... I want this so much!!!!!!!!!!\n",
        "* designate way.\n",
        "    * at : row label(name)\n",
        "    * loc : columns label(name)\n",
        "    * iat : row numbers\n",
        "    * iloc : columns numbers\n",
        "* data that select and get, change\n",
        "    * at, iat : solo numeric values\n",
        "    * loc, iloc : solo or multiple numeric values(contents)\n",
        "        * range that can get list, slice\n",
        "        * can get and change rows and columns that select\n",
        "* other\n",
        "    * at, iat is faster than loc, iloc\n",
        "    * combination at or loc and index, columns"
      ]
    },
    {
      "cell_type": "code",
      "metadata": {
        "id": "R9Vw4t9vWsrI",
        "colab_type": "code",
        "colab": {
          "base_uri": "https://localhost:8080/",
          "height": 153
        },
        "outputId": "f989a91e-b65c-47ad-9d15-ad4710660cac"
      },
      "source": [
        "import pandas as pd\n",
        "df = pd.read_csv('./sample_pandas_normal.csv', index_col = 0)\n",
        "print(df)"
      ],
      "execution_count": 1,
      "outputs": [
        {
          "output_type": "stream",
          "text": [
            "         age state  point\n",
            "name                     \n",
            "Alice     24    NY     64\n",
            "Bob       42    CA     92\n",
            "Charlie   18    CA     70\n",
            "Dave      68    TX     70\n",
            "Ellen     24    CA     88\n",
            "Frank     30    NY     57\n"
          ],
          "name": "stdout"
        }
      ]
    },
    {
      "cell_type": "code",
      "metadata": {
        "id": "NyUDdaBiZUhU",
        "colab_type": "code",
        "colab": {
          "base_uri": "https://localhost:8080/",
          "height": 51
        },
        "outputId": "9bd80be7-2ca8-4af1-a152-48653e80755d"
      },
      "source": [
        "print(df.index.values)\n",
        "print(df.columns.values)"
      ],
      "execution_count": 2,
      "outputs": [
        {
          "output_type": "stream",
          "text": [
            "['Alice' 'Bob' 'Charlie' 'Dave' 'Ellen' 'Frank']\n",
            "['age' 'state' 'point']\n"
          ],
          "name": "stdout"
        }
      ]
    },
    {
      "cell_type": "markdown",
      "metadata": {
        "id": "RLQ5ES0DZsay",
        "colab_type": "text"
      },
      "source": [
        "## at, iat"
      ]
    },
    {
      "cell_type": "code",
      "metadata": {
        "id": "8FZ9bdgaZb6Z",
        "colab_type": "code",
        "colab": {
          "base_uri": "https://localhost:8080/",
          "height": 51
        },
        "outputId": "939cc943-6ce3-4ad2-c219-975654fdfb9b"
      },
      "source": [
        "print(df.at['Bob', 'age'])\n",
        "print(df.at['Dave', 'state']) # row label and column label"
      ],
      "execution_count": 3,
      "outputs": [
        {
          "output_type": "stream",
          "text": [
            "42\n",
            "TX\n"
          ],
          "name": "stdout"
        }
      ]
    },
    {
      "cell_type": "code",
      "metadata": {
        "id": "Ef7wCkq5Z4O5",
        "colab_type": "code",
        "colab": {
          "base_uri": "https://localhost:8080/",
          "height": 34
        },
        "outputId": "4b1ce686-8248-46d3-bc4c-4f08feb0ad90"
      },
      "source": [
        "df.at['Bob','age'] = 60\n",
        "print(df.at['Bob', 'age'])"
      ],
      "execution_count": 4,
      "outputs": [
        {
          "output_type": "stream",
          "text": [
            "60\n"
          ],
          "name": "stdout"
        }
      ]
    },
    {
      "cell_type": "code",
      "metadata": {
        "id": "-XFCHvx-Z7wi",
        "colab_type": "code",
        "colab": {
          "base_uri": "https://localhost:8080/",
          "height": 68
        },
        "outputId": "8822fcc0-e7b9-4a8d-ff8b-004895693dbb"
      },
      "source": [
        "print(df.iat[1,0])\n",
        "print(df.iat[3,1])\n",
        "df.iat[1,0] = 42\n",
        "print(df.iat[1,0])"
      ],
      "execution_count": 5,
      "outputs": [
        {
          "output_type": "stream",
          "text": [
            "60\n",
            "TX\n",
            "42\n"
          ],
          "name": "stdout"
        }
      ]
    },
    {
      "cell_type": "markdown",
      "metadata": {
        "id": "5TV2OpAGaM81",
        "colab_type": "text"
      },
      "source": [
        "# loc, iloc"
      ]
    },
    {
      "cell_type": "code",
      "metadata": {
        "id": "NG8e4w8UaKvx",
        "colab_type": "code",
        "colab": {
          "base_uri": "https://localhost:8080/",
          "height": 51
        },
        "outputId": "acf90d8f-d5aa-4961-adc5-c7d2d8ff1a51"
      },
      "source": [
        "print(df.loc['Bob', 'age'])\n",
        "print(df.iloc[3,1])"
      ],
      "execution_count": 6,
      "outputs": [
        {
          "output_type": "stream",
          "text": [
            "42\n",
            "TX\n"
          ],
          "name": "stdout"
        }
      ]
    },
    {
      "cell_type": "markdown",
      "metadata": {
        "id": "sjtVxiV2ab1l",
        "colab_type": "text"
      },
      "source": [
        "## select multiple values\n"
      ]
    },
    {
      "cell_type": "markdown",
      "metadata": {
        "id": "OqOAD1RJa1aO",
        "colab_type": "text"
      },
      "source": [
        "* [a,b,c, ....]\n",
        "* start:stop:step"
      ]
    },
    {
      "cell_type": "code",
      "metadata": {
        "id": "960KuWugaSqi",
        "colab_type": "code",
        "colab": {
          "base_uri": "https://localhost:8080/",
          "height": 119
        },
        "outputId": "2558f5fb-36cd-455a-de7d-041241d8dd17"
      },
      "source": [
        "print(df.loc['Bob':'Dave', 'age'])\n",
        "print(type(df.loc['Bob':'Dave', 'age']))"
      ],
      "execution_count": 7,
      "outputs": [
        {
          "output_type": "stream",
          "text": [
            "name\n",
            "Bob        42\n",
            "Charlie    18\n",
            "Dave       68\n",
            "Name: age, dtype: int64\n",
            "<class 'pandas.core.series.Series'>\n"
          ],
          "name": "stdout"
        }
      ]
    },
    {
      "cell_type": "code",
      "metadata": {
        "id": "YSBQxdyGbAci",
        "colab_type": "code",
        "colab": {
          "base_uri": "https://localhost:8080/",
          "height": 119
        },
        "outputId": "61da96fc-0c59-479a-eecd-c6d7f0f2118d"
      },
      "source": [
        "print(df.loc[:'Dave', ['age', 'point']])"
      ],
      "execution_count": 8,
      "outputs": [
        {
          "output_type": "stream",
          "text": [
            "         age  point\n",
            "name               \n",
            "Alice     24     64\n",
            "Bob       42     92\n",
            "Charlie   18     70\n",
            "Dave      68     70\n"
          ],
          "name": "stdout"
        }
      ]
    },
    {
      "cell_type": "code",
      "metadata": {
        "id": "_CMYcaafbE5X",
        "colab_type": "code",
        "colab": {
          "base_uri": "https://localhost:8080/",
          "height": 102
        },
        "outputId": "9d43f923-888c-4ed0-d3ca-234693b0129a"
      },
      "source": [
        "print(df.iloc[:3, [0,2]])\n"
      ],
      "execution_count": 9,
      "outputs": [
        {
          "output_type": "stream",
          "text": [
            "         age  point\n",
            "name               \n",
            "Alice     24     64\n",
            "Bob       42     92\n",
            "Charlie   18     70\n"
          ],
          "name": "stdout"
        }
      ]
    },
    {
      "cell_type": "code",
      "metadata": {
        "id": "xi-lSJaBbHFb",
        "colab_type": "code",
        "colab": {
          "base_uri": "https://localhost:8080/",
          "height": 187
        },
        "outputId": "c61da567-4347-4b19-9c87-5ef5f45a1c87"
      },
      "source": [
        "print(df.iloc[::2, 0])\n",
        "print(df.iloc[1::2,0])"
      ],
      "execution_count": 10,
      "outputs": [
        {
          "output_type": "stream",
          "text": [
            "name\n",
            "Alice      24\n",
            "Charlie    18\n",
            "Ellen      24\n",
            "Name: age, dtype: int64\n",
            "name\n",
            "Bob      42\n",
            "Dave     68\n",
            "Frank    30\n",
            "Name: age, dtype: int64\n"
          ],
          "name": "stdout"
        }
      ]
    },
    {
      "cell_type": "code",
      "metadata": {
        "id": "OHZFpRmsbLzi",
        "colab_type": "code",
        "colab": {
          "base_uri": "https://localhost:8080/",
          "height": 266
        },
        "outputId": "266d65c1-e1f4-4ae3-ee16-f705fb71324b"
      },
      "source": [
        "df"
      ],
      "execution_count": 11,
      "outputs": [
        {
          "output_type": "execute_result",
          "data": {
            "text/html": [
              "<div>\n",
              "<style scoped>\n",
              "    .dataframe tbody tr th:only-of-type {\n",
              "        vertical-align: middle;\n",
              "    }\n",
              "\n",
              "    .dataframe tbody tr th {\n",
              "        vertical-align: top;\n",
              "    }\n",
              "\n",
              "    .dataframe thead th {\n",
              "        text-align: right;\n",
              "    }\n",
              "</style>\n",
              "<table border=\"1\" class=\"dataframe\">\n",
              "  <thead>\n",
              "    <tr style=\"text-align: right;\">\n",
              "      <th></th>\n",
              "      <th>age</th>\n",
              "      <th>state</th>\n",
              "      <th>point</th>\n",
              "    </tr>\n",
              "    <tr>\n",
              "      <th>name</th>\n",
              "      <th></th>\n",
              "      <th></th>\n",
              "      <th></th>\n",
              "    </tr>\n",
              "  </thead>\n",
              "  <tbody>\n",
              "    <tr>\n",
              "      <th>Alice</th>\n",
              "      <td>24</td>\n",
              "      <td>NY</td>\n",
              "      <td>64</td>\n",
              "    </tr>\n",
              "    <tr>\n",
              "      <th>Bob</th>\n",
              "      <td>42</td>\n",
              "      <td>CA</td>\n",
              "      <td>92</td>\n",
              "    </tr>\n",
              "    <tr>\n",
              "      <th>Charlie</th>\n",
              "      <td>18</td>\n",
              "      <td>CA</td>\n",
              "      <td>70</td>\n",
              "    </tr>\n",
              "    <tr>\n",
              "      <th>Dave</th>\n",
              "      <td>68</td>\n",
              "      <td>TX</td>\n",
              "      <td>70</td>\n",
              "    </tr>\n",
              "    <tr>\n",
              "      <th>Ellen</th>\n",
              "      <td>24</td>\n",
              "      <td>CA</td>\n",
              "      <td>88</td>\n",
              "    </tr>\n",
              "    <tr>\n",
              "      <th>Frank</th>\n",
              "      <td>30</td>\n",
              "      <td>NY</td>\n",
              "      <td>57</td>\n",
              "    </tr>\n",
              "  </tbody>\n",
              "</table>\n",
              "</div>"
            ],
            "text/plain": [
              "         age state  point\n",
              "name                     \n",
              "Alice     24    NY     64\n",
              "Bob       42    CA     92\n",
              "Charlie   18    CA     70\n",
              "Dave      68    TX     70\n",
              "Ellen     24    CA     88\n",
              "Frank     30    NY     57"
            ]
          },
          "metadata": {
            "tags": []
          },
          "execution_count": 11
        }
      ]
    },
    {
      "cell_type": "code",
      "metadata": {
        "id": "bc_36FDCbOfz",
        "colab_type": "code",
        "colab": {
          "base_uri": "https://localhost:8080/",
          "height": 102
        },
        "outputId": "4316cd84-7ed8-4d04-ad33-e72a252584cc"
      },
      "source": [
        "df.loc['Bob':'Dave', 'age'] = [20,30,40]\n",
        "print(df.loc['Bob':'Dave', 'age'])"
      ],
      "execution_count": 13,
      "outputs": [
        {
          "output_type": "stream",
          "text": [
            "name\n",
            "Bob        20\n",
            "Charlie    30\n",
            "Dave       40\n",
            "Name: age, dtype: int64\n"
          ],
          "name": "stdout"
        }
      ]
    },
    {
      "cell_type": "code",
      "metadata": {
        "id": "gueeP9CTbdNS",
        "colab_type": "code",
        "colab": {
          "base_uri": "https://localhost:8080/",
          "height": 119
        },
        "outputId": "78529bf0-ed1b-45d2-b932-1e9571bfde36"
      },
      "source": [
        "print(df['Bob':'Ellen'])"
      ],
      "execution_count": 14,
      "outputs": [
        {
          "output_type": "stream",
          "text": [
            "         age state  point\n",
            "name                     \n",
            "Bob       20    CA     92\n",
            "Charlie   30    CA     70\n",
            "Dave      40    TX     70\n",
            "Ellen     24    CA     88\n"
          ],
          "name": "stdout"
        }
      ]
    },
    {
      "cell_type": "code",
      "metadata": {
        "id": "eUdiOjuKbvra",
        "colab_type": "code",
        "colab": {
          "base_uri": "https://localhost:8080/",
          "height": 102
        },
        "outputId": "49f7c651-68af-43a0-9ae5-4c900f676438"
      },
      "source": [
        "print(df[:3])"
      ],
      "execution_count": 15,
      "outputs": [
        {
          "output_type": "stream",
          "text": [
            "         age state  point\n",
            "name                     \n",
            "Alice     24    NY     64\n",
            "Bob       20    CA     92\n",
            "Charlie   30    CA     70\n"
          ],
          "name": "stdout"
        }
      ]
    },
    {
      "cell_type": "code",
      "metadata": {
        "id": "pGdm7nUtbwph",
        "colab_type": "code",
        "colab": {
          "base_uri": "https://localhost:8080/",
          "height": 153
        },
        "outputId": "af4afde0-c6a7-4570-b05c-edb4ebad8a41"
      },
      "source": [
        "print(df.loc['Bob'])\n",
        "print(df.iloc[[1,4]])"
      ],
      "execution_count": 16,
      "outputs": [
        {
          "output_type": "stream",
          "text": [
            "age      20\n",
            "state    CA\n",
            "point    92\n",
            "Name: Bob, dtype: object\n",
            "       age state  point\n",
            "name                   \n",
            "Bob     20    CA     92\n",
            "Ellen   24    CA     88\n"
          ],
          "name": "stdout"
        }
      ]
    },
    {
      "cell_type": "code",
      "metadata": {
        "id": "AL6e_8xmcEUD",
        "colab_type": "code",
        "colab": {
          "base_uri": "https://localhost:8080/",
          "height": 289
        },
        "outputId": "ebb1d31a-05e5-47dc-c367-2d2729530e15"
      },
      "source": [
        "print(df.loc[:, 'age':'point'])\n",
        "print(df.iloc[:, [0,2]])"
      ],
      "execution_count": 17,
      "outputs": [
        {
          "output_type": "stream",
          "text": [
            "         age state  point\n",
            "name                     \n",
            "Alice     24    NY     64\n",
            "Bob       20    CA     92\n",
            "Charlie   30    CA     70\n",
            "Dave      40    TX     70\n",
            "Ellen     24    CA     88\n",
            "Frank     30    NY     57\n",
            "         age  point\n",
            "name               \n",
            "Alice     24     64\n",
            "Bob       20     92\n",
            "Charlie   30     70\n",
            "Dave      40     70\n",
            "Ellen     24     88\n",
            "Frank     30     57\n"
          ],
          "name": "stdout"
        }
      ]
    },
    {
      "cell_type": "code",
      "metadata": {
        "id": "0z8HvG4zcI57",
        "colab_type": "code",
        "colab": {
          "base_uri": "https://localhost:8080/",
          "height": 153
        },
        "outputId": "d725a4c3-2534-4ba2-b6bc-6feebfcce445"
      },
      "source": [
        "df_state = pd.read_csv('./sample_pandas_normal.csv', index_col = 2)\n",
        "print(df_state)"
      ],
      "execution_count": 18,
      "outputs": [
        {
          "output_type": "stream",
          "text": [
            "          name  age  point\n",
            "state                     \n",
            "NY       Alice   24     64\n",
            "CA         Bob   42     92\n",
            "CA     Charlie   18     70\n",
            "TX        Dave   68     70\n",
            "CA       Ellen   24     88\n",
            "NY       Frank   30     57\n"
          ],
          "name": "stdout"
        }
      ]
    },
    {
      "cell_type": "code",
      "metadata": {
        "id": "H5p2lsJnceTy",
        "colab_type": "code",
        "colab": {
          "base_uri": "https://localhost:8080/",
          "height": 34
        },
        "outputId": "f84bea09-600b-4bbf-b766-3a55033c9ec9"
      },
      "source": [
        "print(df_state.index.values)"
      ],
      "execution_count": 19,
      "outputs": [
        {
          "output_type": "stream",
          "text": [
            "['NY' 'CA' 'CA' 'TX' 'CA' 'NY']\n"
          ],
          "name": "stdout"
        }
      ]
    },
    {
      "cell_type": "code",
      "metadata": {
        "id": "Vddpvhhacfr7",
        "colab_type": "code",
        "colab": {
          "base_uri": "https://localhost:8080/",
          "height": 34
        },
        "outputId": "b45215bd-41a0-47a5-9e43-ad29c30a550d"
      },
      "source": [
        "print(df_state.at['NY', 'age'])"
      ],
      "execution_count": 20,
      "outputs": [
        {
          "output_type": "stream",
          "text": [
            "[24 30]\n"
          ],
          "name": "stdout"
        }
      ]
    },
    {
      "cell_type": "code",
      "metadata": {
        "id": "Q5Ho-obUciM7",
        "colab_type": "code",
        "colab": {
          "base_uri": "https://localhost:8080/",
          "height": 153
        },
        "outputId": "78900d2c-ccaa-4f15-ae96-a50811468294"
      },
      "source": [
        "print(df_state.loc['NY', 'age'])\n",
        "print(df_state.loc['NY', ['age', 'point']])"
      ],
      "execution_count": 21,
      "outputs": [
        {
          "output_type": "stream",
          "text": [
            "state\n",
            "NY    24\n",
            "NY    30\n",
            "Name: age, dtype: int64\n",
            "       age  point\n",
            "state            \n",
            "NY      24     64\n",
            "NY      30     57\n"
          ],
          "name": "stdout"
        }
      ]
    },
    {
      "cell_type": "code",
      "metadata": {
        "id": "H6k8oZ4oco8z",
        "colab_type": "code",
        "colab": {
          "base_uri": "https://localhost:8080/",
          "height": 34
        },
        "outputId": "f72c5ec6-0b7e-42d7-97be-db17610458bf"
      },
      "source": [
        "print(df_state.iat[0,1])"
      ],
      "execution_count": 22,
      "outputs": [
        {
          "output_type": "stream",
          "text": [
            "24\n"
          ],
          "name": "stdout"
        }
      ]
    },
    {
      "cell_type": "code",
      "metadata": {
        "id": "glQN45lLctiq",
        "colab_type": "code",
        "colab": {
          "base_uri": "https://localhost:8080/",
          "height": 51
        },
        "outputId": "5d83e809-d803-4da9-96b5-6e7660c94872"
      },
      "source": [
        "print(df_state.index.is_unique) # 一意? Not Duplicate\n",
        "print(df_state.columns.is_unique)"
      ],
      "execution_count": 23,
      "outputs": [
        {
          "output_type": "stream",
          "text": [
            "False\n",
            "True\n"
          ],
          "name": "stdout"
        }
      ]
    },
    {
      "cell_type": "code",
      "metadata": {
        "id": "19Fs-opic1EF",
        "colab_type": "code",
        "colab": {
          "base_uri": "https://localhost:8080/",
          "height": 187
        },
        "outputId": "cccfcdec-b186-4c18-f9c7-7816751727fa"
      },
      "source": [
        "print(df)\n",
        "print(df.index[2])\n",
        "print(df.columns[1])"
      ],
      "execution_count": 24,
      "outputs": [
        {
          "output_type": "stream",
          "text": [
            "         age state  point\n",
            "name                     \n",
            "Alice     24    NY     64\n",
            "Bob       20    CA     92\n",
            "Charlie   30    CA     70\n",
            "Dave      40    TX     70\n",
            "Ellen     24    CA     88\n",
            "Frank     30    NY     57\n",
            "Charlie\n",
            "state\n"
          ],
          "name": "stdout"
        }
      ]
    },
    {
      "cell_type": "code",
      "metadata": {
        "id": "JE4wh1Wsc55D",
        "colab_type": "code",
        "colab": {
          "base_uri": "https://localhost:8080/",
          "height": 102
        },
        "outputId": "bb06a423-a871-4365-981a-ed2435332a1e"
      },
      "source": [
        "print(df.at[df.index[2], 'age'])\n",
        "print(df.loc[['Alice', 'Dave'], df.columns[1]])"
      ],
      "execution_count": 25,
      "outputs": [
        {
          "output_type": "stream",
          "text": [
            "30\n",
            "name\n",
            "Alice    NY\n",
            "Dave     TX\n",
            "Name: state, dtype: object\n"
          ],
          "name": "stdout"
        }
      ]
    },
    {
      "cell_type": "code",
      "metadata": {
        "id": "A8HMgd_mdCMD",
        "colab_type": "code",
        "colab": {
          "base_uri": "https://localhost:8080/",
          "height": 119
        },
        "outputId": "35e039c2-6cc1-4091-dbb4-121b82b261ef"
      },
      "source": [
        "print(df['age'][2])\n",
        "print(df.age[2])\n",
        "print(df.loc[['Alice', 'Dave']].iloc[:,1])"
      ],
      "execution_count": 26,
      "outputs": [
        {
          "output_type": "stream",
          "text": [
            "30\n",
            "30\n",
            "name\n",
            "Alice    NY\n",
            "Dave     TX\n",
            "Name: state, dtype: object\n"
          ],
          "name": "stdout"
        }
      ]
    },
    {
      "cell_type": "code",
      "metadata": {
        "id": "UPmQySIvdTzd",
        "colab_type": "code",
        "colab": {
          "base_uri": "https://localhost:8080/",
          "height": 85
        },
        "outputId": "91b6f37f-e228-4c53-fb19-4d8f88f963df"
      },
      "source": [
        "df_mix = pd.DataFrame({'col_int': [0,1,2], 'col_float': [0.1, 0.2, 0.3]}, index = ['A', 'B', 'C'])\n",
        "print(df_mix)\n"
      ],
      "execution_count": 27,
      "outputs": [
        {
          "output_type": "stream",
          "text": [
            "   col_int  col_float\n",
            "A        0        0.1\n",
            "B        1        0.2\n",
            "C        2        0.3\n"
          ],
          "name": "stdout"
        }
      ]
    },
    {
      "cell_type": "code",
      "metadata": {
        "id": "2IAXct9DdoFi",
        "colab_type": "code",
        "colab": {
          "base_uri": "https://localhost:8080/",
          "height": 68
        },
        "outputId": "6fa37ef8-399c-44f8-acf7-b68cd0768ac8"
      },
      "source": [
        "print(df_mix.loc['B'])\n"
      ],
      "execution_count": 28,
      "outputs": [
        {
          "output_type": "stream",
          "text": [
            "col_int      1.0\n",
            "col_float    0.2\n",
            "Name: B, dtype: float64\n"
          ],
          "name": "stdout"
        }
      ]
    },
    {
      "cell_type": "code",
      "metadata": {
        "id": "eUUFWC86dr_K",
        "colab_type": "code",
        "colab": {
          "base_uri": "https://localhost:8080/",
          "height": 34
        },
        "outputId": "7c46771a-ae9f-4704-a050-dc39988e5b50"
      },
      "source": [
        "df_mix.at['B', 'col_int']"
      ],
      "execution_count": 29,
      "outputs": [
        {
          "output_type": "execute_result",
          "data": {
            "text/plain": [
              "1"
            ]
          },
          "metadata": {
            "tags": []
          },
          "execution_count": 29
        }
      ]
    },
    {
      "cell_type": "code",
      "metadata": {
        "id": "hWRvGQg3dxDj",
        "colab_type": "code",
        "colab": {
          "base_uri": "https://localhost:8080/",
          "height": 80
        },
        "outputId": "22eb5f85-c1b6-4243-95e4-75c2ca110054"
      },
      "source": [
        "df_mix.loc[['B']]"
      ],
      "execution_count": 30,
      "outputs": [
        {
          "output_type": "execute_result",
          "data": {
            "text/html": [
              "<div>\n",
              "<style scoped>\n",
              "    .dataframe tbody tr th:only-of-type {\n",
              "        vertical-align: middle;\n",
              "    }\n",
              "\n",
              "    .dataframe tbody tr th {\n",
              "        vertical-align: top;\n",
              "    }\n",
              "\n",
              "    .dataframe thead th {\n",
              "        text-align: right;\n",
              "    }\n",
              "</style>\n",
              "<table border=\"1\" class=\"dataframe\">\n",
              "  <thead>\n",
              "    <tr style=\"text-align: right;\">\n",
              "      <th></th>\n",
              "      <th>col_int</th>\n",
              "      <th>col_float</th>\n",
              "    </tr>\n",
              "  </thead>\n",
              "  <tbody>\n",
              "    <tr>\n",
              "      <th>B</th>\n",
              "      <td>1</td>\n",
              "      <td>0.2</td>\n",
              "    </tr>\n",
              "  </tbody>\n",
              "</table>\n",
              "</div>"
            ],
            "text/plain": [
              "   col_int  col_float\n",
              "B        1        0.2"
            ]
          },
          "metadata": {
            "tags": []
          },
          "execution_count": 30
        }
      ]
    },
    {
      "cell_type": "code",
      "metadata": {
        "id": "tsosGrXjd7r7",
        "colab_type": "code",
        "colab": {}
      },
      "source": [
        "df = pd.read_csv('./sample_pandas_normal.csv', index_col = 0)"
      ],
      "execution_count": 31,
      "outputs": []
    },
    {
      "cell_type": "code",
      "metadata": {
        "id": "rN6ffq6-fESc",
        "colab_type": "code",
        "colab": {
          "base_uri": "https://localhost:8080/",
          "height": 153
        },
        "outputId": "fde4bec7-7f92-4636-fe77-3d0fa250b83b"
      },
      "source": [
        "df.loc['Bob']\n",
        "print(df.loc[['Bob','Ellen']])\n",
        "print(df.iloc[[1,4]])"
      ],
      "execution_count": 32,
      "outputs": [
        {
          "output_type": "stream",
          "text": [
            "       age state  point\n",
            "name                   \n",
            "Bob     42    CA     92\n",
            "Ellen   24    CA     88\n",
            "       age state  point\n",
            "name                   \n",
            "Bob     42    CA     92\n",
            "Ellen   24    CA     88\n"
          ],
          "name": "stdout"
        }
      ]
    },
    {
      "cell_type": "code",
      "metadata": {
        "id": "7b8sfs9PfLHD",
        "colab_type": "code",
        "colab": {
          "base_uri": "https://localhost:8080/",
          "height": 173
        },
        "outputId": "b3c4e9c4-f3bd-4ca0-e21c-80dd7359f4ca"
      },
      "source": [
        "df['Bob':'Dave'][['age','point']]"
      ],
      "execution_count": 33,
      "outputs": [
        {
          "output_type": "execute_result",
          "data": {
            "text/html": [
              "<div>\n",
              "<style scoped>\n",
              "    .dataframe tbody tr th:only-of-type {\n",
              "        vertical-align: middle;\n",
              "    }\n",
              "\n",
              "    .dataframe tbody tr th {\n",
              "        vertical-align: top;\n",
              "    }\n",
              "\n",
              "    .dataframe thead th {\n",
              "        text-align: right;\n",
              "    }\n",
              "</style>\n",
              "<table border=\"1\" class=\"dataframe\">\n",
              "  <thead>\n",
              "    <tr style=\"text-align: right;\">\n",
              "      <th></th>\n",
              "      <th>age</th>\n",
              "      <th>point</th>\n",
              "    </tr>\n",
              "    <tr>\n",
              "      <th>name</th>\n",
              "      <th></th>\n",
              "      <th></th>\n",
              "    </tr>\n",
              "  </thead>\n",
              "  <tbody>\n",
              "    <tr>\n",
              "      <th>Bob</th>\n",
              "      <td>42</td>\n",
              "      <td>92</td>\n",
              "    </tr>\n",
              "    <tr>\n",
              "      <th>Charlie</th>\n",
              "      <td>18</td>\n",
              "      <td>70</td>\n",
              "    </tr>\n",
              "    <tr>\n",
              "      <th>Dave</th>\n",
              "      <td>68</td>\n",
              "      <td>70</td>\n",
              "    </tr>\n",
              "  </tbody>\n",
              "</table>\n",
              "</div>"
            ],
            "text/plain": [
              "         age  point\n",
              "name               \n",
              "Bob       42     92\n",
              "Charlie   18     70\n",
              "Dave      68     70"
            ]
          },
          "metadata": {
            "tags": []
          },
          "execution_count": 33
        }
      ]
    },
    {
      "cell_type": "markdown",
      "metadata": {
        "id": "VQL8WJDSkECf",
        "colab_type": "text"
      },
      "source": [
        "## attention, numerics int"
      ]
    },
    {
      "cell_type": "code",
      "metadata": {
        "id": "10t6KJ_ffvub",
        "colab_type": "code",
        "colab": {
          "base_uri": "https://localhost:8080/",
          "height": 85
        },
        "outputId": "30abe0f9-bf5a-4e43-ceb9-a137b61d58d9"
      },
      "source": [
        "df = pd.DataFrame([[0,10,20], [30,40,50], [60,70,80]], index = [2,0,1], columns=[1,2,0])\n",
        "print(df)"
      ],
      "execution_count": 34,
      "outputs": [
        {
          "output_type": "stream",
          "text": [
            "    1   2   0\n",
            "2   0  10  20\n",
            "0  30  40  50\n",
            "1  60  70  80\n"
          ],
          "name": "stdout"
        }
      ]
    },
    {
      "cell_type": "code",
      "metadata": {
        "id": "qVye8K1gkYGP",
        "colab_type": "code",
        "colab": {
          "base_uri": "https://localhost:8080/",
          "height": 51
        },
        "outputId": "9a1626e0-46c8-4a26-afaf-db546f8b863e"
      },
      "source": [
        "print(df.loc[:2]) # row name"
      ],
      "execution_count": 39,
      "outputs": [
        {
          "output_type": "stream",
          "text": [
            "   1   2   0\n",
            "2  0  10  20\n"
          ],
          "name": "stdout"
        }
      ]
    },
    {
      "cell_type": "code",
      "metadata": {
        "id": "lKLfgkmcklxG",
        "colab_type": "code",
        "colab": {
          "base_uri": "https://localhost:8080/",
          "height": 68
        },
        "outputId": "5f82d5c9-27a3-43b3-afe8-9749c0daf786"
      },
      "source": [
        "print(df.iloc[:2]) # row numerics [0,2)"
      ],
      "execution_count": 41,
      "outputs": [
        {
          "output_type": "stream",
          "text": [
            "    1   2   0\n",
            "2   0  10  20\n",
            "0  30  40  50\n"
          ],
          "name": "stdout"
        }
      ]
    },
    {
      "cell_type": "code",
      "metadata": {
        "id": "U8cFJPXrktDV",
        "colab_type": "code",
        "colab": {
          "base_uri": "https://localhost:8080/",
          "height": 85
        },
        "outputId": "3f7fdbdd-c7f6-4ad6-9dbf-8ab4ca9e0dab"
      },
      "source": [
        "s = df[2]\n",
        "print(s)"
      ],
      "execution_count": 42,
      "outputs": [
        {
          "output_type": "stream",
          "text": [
            "2    10\n",
            "0    40\n",
            "1    70\n",
            "Name: 2, dtype: int64\n"
          ],
          "name": "stdout"
        }
      ]
    },
    {
      "cell_type": "code",
      "metadata": {
        "id": "GVifT0CjlbIW",
        "colab_type": "code",
        "colab": {
          "base_uri": "https://localhost:8080/",
          "height": 51
        },
        "outputId": "eb4b9ce6-8285-41c9-918c-65f143bec9ef"
      },
      "source": [
        "print(s.at[0])\n",
        "print(s.iat[0])"
      ],
      "execution_count": 45,
      "outputs": [
        {
          "output_type": "stream",
          "text": [
            "40\n",
            "10\n"
          ],
          "name": "stdout"
        }
      ]
    },
    {
      "cell_type": "code",
      "metadata": {
        "id": "pgBXhuOylfM9",
        "colab_type": "code",
        "colab": {
          "base_uri": "https://localhost:8080/",
          "height": 34
        },
        "outputId": "a727afac-35cc-4c3c-a08d-c09d2c48f848"
      },
      "source": [
        "print(s.iat[-1])"
      ],
      "execution_count": 46,
      "outputs": [
        {
          "output_type": "stream",
          "text": [
            "70\n"
          ],
          "name": "stdout"
        }
      ]
    },
    {
      "cell_type": "code",
      "metadata": {
        "id": "l6qKtphil6gX",
        "colab_type": "code",
        "colab": {}
      },
      "source": [
        ""
      ],
      "execution_count": null,
      "outputs": []
    }
  ]
}