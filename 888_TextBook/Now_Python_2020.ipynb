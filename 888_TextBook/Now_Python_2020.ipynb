{
 "cells": [
  {
   "cell_type": "markdown",
   "metadata": {},
   "source": [
    "# Pythonを書く上で大切なこと\n",
    "* ref -> https://qiita.com/nicco_mirai/items/c1810ed2a6fc8c53c006\n",
    "* ちゃんと書けよってこと！\n",
    "* [What's New in Python](https://docs.python.org/ja/3/whatsnew/index.html)くらいみてね\n"
   ]
  },
  {
   "cell_type": "markdown",
   "metadata": {},
   "source": [
    "# 型アノテーション\n",
    "* よく見るやつ　やっとなにか分かったわ"
   ]
  },
  {
   "cell_type": "code",
   "execution_count": 5,
   "metadata": {},
   "outputs": [],
   "source": [
    "from datetime import date\n",
    "from urllib.request import urlopen\n",
    "from urllib.parse import urlencode\n",
    "import json"
   ]
  },
  {
   "cell_type": "code",
   "execution_count": 6,
   "metadata": {
    "scrolled": true
   },
   "outputs": [
    {
     "name": "stdout",
     "output_type": "stream",
     "text": [
      "504\n"
     ]
    }
   ],
   "source": [
    "def RequestCountOfSubmittedDocuments(date_):\n",
    "    URL = \"https://disclosure.edinet-fsa.go.jp/api/v1/documents.json\"\n",
    "    query = urlencode({\"date\":date_})\n",
    "    resp = json.load(urlopen(f\"{URL}?{query}\"))\n",
    "    return resp[\"metadata\"][\"resultset\"][\"count\"]\n",
    "print(RequestCountOfSubmittedDocuments(date(2020,11,20)))"
   ]
  },
  {
   "cell_type": "markdown",
   "metadata": {},
   "source": [
    "## 書き換える"
   ]
  },
  {
   "cell_type": "code",
   "execution_count": 7,
   "metadata": {},
   "outputs": [],
   "source": [
    "def RequestCountOfSubmittedDocuments(date_:date) -> int: #int型が返るよ～date_はdate型だよ～\n",
    "    URL = \"https://disclosure.edinet-fsa.go.jp/api/v1/documents.json\"\n",
    "    query = urlencode({\"date\":date_})\n",
    "    resp = json.load(urlopen(f\"{URL}?{query}\"))\n",
    "    return resp[\"metadata\"][\"resultset\"][\"count\"]"
   ]
  },
  {
   "cell_type": "markdown",
   "metadata": {},
   "source": [
    "## typingライブラリのドキュメント読んでね～だって\n",
    "* https://docs.python.org/ja/3/library/typing.html\n",
    "* Final 上書きを防ぐっぽいっすね"
   ]
  },
  {
   "cell_type": "code",
   "execution_count": 9,
   "metadata": {},
   "outputs": [],
   "source": [
    "from typing import Final\n",
    "URL: Final[str] = \"https://disclosure.edinet-fsa.go.jp/api/v1/documents.json\"\n",
    "URL = \"https://disclosure.edinet-fsa.go.jp/api/v1/documents\""
   ]
  },
  {
   "cell_type": "markdown",
   "metadata": {},
   "source": [
    "怒られてなくね？ｗ"
   ]
  },
  {
   "cell_type": "code",
   "execution_count": 1,
   "metadata": {},
   "outputs": [],
   "source": [
    "from typing import Final\n",
    "class Connection:\n",
    "    TIMEOUT:Final[int] = 10\n",
    "class FastConnector(Connection):\n",
    "    TIMEOUT = 1"
   ]
  },
  {
   "cell_type": "markdown",
   "metadata": {},
   "source": [
    "## Named Tuple\n",
    "* 知らなかった\n",
    "* ちょっとした構造体のためにクラス書きたくない人のため？\n",
    "* collections.namedtupleの代わりらしい なんだそれ"
   ]
  },
  {
   "cell_type": "code",
   "execution_count": 2,
   "metadata": {},
   "outputs": [],
   "source": [
    "from typing import NamedTuple\n",
    "\n",
    "class Address(NamedTuple):\n",
    "    row:int\n",
    "    col:int\n",
    "class Range(NamedTuple):\n",
    "    start:Address\n",
    "    end:Address"
   ]
  },
  {
   "cell_type": "code",
   "execution_count": 4,
   "metadata": {
    "scrolled": true
   },
   "outputs": [
    {
     "name": "stdout",
     "output_type": "stream",
     "text": [
      "4\n",
      "4\n"
     ]
    }
   ],
   "source": [
    "s = Address(2,4)\n",
    "e = Address(6,8)\n",
    "rng = Range(s, e)\n",
    "print(rng[0][1])\n",
    "print(rng.start.col)"
   ]
  },
  {
   "cell_type": "markdown",
   "metadata": {},
   "source": [
    "* どう考えてもペアでした使わない値を、tupleで渡してしまいがち、、肩をつけまそゆ"
   ]
  },
  {
   "cell_type": "markdown",
   "metadata": {},
   "source": [
    "## Protocol\n",
    "* なにこれ？構造体？"
   ]
  },
  {
   "cell_type": "code",
   "execution_count": 6,
   "metadata": {},
   "outputs": [
    {
     "name": "stdout",
     "output_type": "stream",
     "text": [
      "True\n"
     ]
    }
   ],
   "source": [
    "from collections.abc import Container\n",
    "\n",
    "class hoge:\n",
    "    def __contains__(self, item):\n",
    "        return True\n",
    "print(isinstance(hoge(), Container))"
   ]
  },
  {
   "cell_type": "markdown",
   "metadata": {},
   "source": [
    "* 構造的部分型、っていうのを自作のクラスでもおｋになったよ～らしい"
   ]
  },
  {
   "cell_type": "code",
   "execution_count": 9,
   "metadata": {},
   "outputs": [
    {
     "name": "stdout",
     "output_type": "stream",
     "text": [
      "True\n"
     ]
    }
   ],
   "source": [
    "from typing import Protocol, runtime_checkable\n",
    "@runtime_checkable\n",
    "class Greeter(Protocol):\n",
    "    def Greet(self):\n",
    "        ...\n",
    "class Japanese:\n",
    "    def Greet(self):\n",
    "        print(\"ohayo, aa\")\n",
    "print(issubclass(Japanese, Greeter))"
   ]
  },
  {
   "cell_type": "markdown",
   "metadata": {},
   "source": [
    "* インターフェースに対してプログラミングしろっていうのが出来ること　らしい　すごい..."
   ]
  },
  {
   "cell_type": "code",
   "execution_count": 15,
   "metadata": {},
   "outputs": [
    {
     "name": "stdout",
     "output_type": "stream",
     "text": [
      "a dog, a cat\n"
     ]
    }
   ],
   "source": [
    "def concat(prefix:str, words: [str]) -> str:\n",
    "    return \", \".join(f\"{prefix} {word}\" for word in words)\n",
    "print(concat(\"a\", [\"dog\", \"cat\"]))"
   ]
  },
  {
   "cell_type": "code",
   "execution_count": 19,
   "metadata": {},
   "outputs": [],
   "source": [
    "# from collections.abc import Iterable\n",
    "from typing import Iterable # version 3.9からだって～上は\n",
    "\n",
    "def concat(prefix:str, words: Iterable[str]) -> str:\n",
    "    return \", \".join(f\"{prefix} {word}\" for word in words)"
   ]
  },
  {
   "cell_type": "markdown",
   "metadata": {},
   "source": [
    "# dataclasses\n",
    "* なんかすごいらしい　いろんな__init__, __repr__とかを自動で負ヨしてくれるって\n",
    "* クラス宣言どうすんのっていう"
   ]
  },
  {
   "cell_type": "code",
   "execution_count": 20,
   "metadata": {},
   "outputs": [],
   "source": [
    "from dataclasses import dataclass\n",
    "@dataclass\n",
    "class Hoge:\n",
    "    hoge:str\n",
    "    fuga:int\n",
    "    piyo:bool\n"
   ]
  },
  {
   "cell_type": "code",
   "execution_count": 22,
   "metadata": {},
   "outputs": [
    {
     "name": "stdout",
     "output_type": "stream",
     "text": [
      "Hoge(hoge='hoge', fuga=4649, piyo=False)\n"
     ]
    }
   ],
   "source": [
    "hoge = Hoge(\"hoge\", 4649, False)\n",
    "print(hoge)"
   ]
  },
  {
   "cell_type": "markdown",
   "metadata": {},
   "source": [
    "## これはえぐいと思った\n",
    "* 従来の書き方はこれ　俺が良く知ってること"
   ]
  },
  {
   "cell_type": "code",
   "execution_count": 23,
   "metadata": {
    "scrolled": true
   },
   "outputs": [
    {
     "name": "stdout",
     "output_type": "stream",
     "text": [
      "<class '__main__.Hoge'>\n"
     ]
    }
   ],
   "source": [
    "class Hoge:\n",
    "    def __init__(self, hoge:str, fuga:int, piyo:bool):\n",
    "        self.hoge = hoge\n",
    "        self.fuga = fuga\n",
    "        self.piyo = piyo\n",
    "hoge = Hoge(\"hoge\", 4666, False)\n",
    "print(Hoge)\n",
    "        "
   ]
  },
  {
   "cell_type": "markdown",
   "metadata": {},
   "source": [
    "* アノテーションを書かないとエラーになるよぉ"
   ]
  },
  {
   "cell_type": "code",
   "execution_count": null,
   "metadata": {},
   "outputs": [],
   "source": []
  },
  {
   "cell_type": "code",
   "execution_count": null,
   "metadata": {},
   "outputs": [],
   "source": []
  },
  {
   "cell_type": "code",
   "execution_count": null,
   "metadata": {},
   "outputs": [],
   "source": []
  },
  {
   "cell_type": "code",
   "execution_count": null,
   "metadata": {},
   "outputs": [],
   "source": []
  }
 ],
 "metadata": {
  "kernelspec": {
   "display_name": "Python 3",
   "language": "python",
   "name": "python3"
  },
  "language_info": {
   "codemirror_mode": {
    "name": "ipython",
    "version": 3
   },
   "file_extension": ".py",
   "mimetype": "text/x-python",
   "name": "python",
   "nbconvert_exporter": "python",
   "pygments_lexer": "ipython3",
   "version": "3.8.5"
  },
  "toc": {
   "base_numbering": 1,
   "nav_menu": {},
   "number_sections": true,
   "sideBar": true,
   "skip_h1_title": false,
   "title_cell": "Table of Contents",
   "title_sidebar": "Contents",
   "toc_cell": false,
   "toc_position": {},
   "toc_section_display": true,
   "toc_window_display": false
  }
 },
 "nbformat": 4,
 "nbformat_minor": 4
}
