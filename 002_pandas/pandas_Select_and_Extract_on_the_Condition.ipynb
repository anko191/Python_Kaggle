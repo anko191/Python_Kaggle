{
  "nbformat": 4,
  "nbformat_minor": 0,
  "metadata": {
    "colab": {
      "name": "pandas_Select_and_Extract_on_the_Condition",
      "provenance": [],
      "collapsed_sections": [],
      "authorship_tag": "ABX9TyMxGSjIlbBsLUzlwTbT85Tc",
      "include_colab_link": true
    },
    "kernelspec": {
      "name": "python3",
      "display_name": "Python 3"
    }
  },
  "cells": [
    {
      "cell_type": "markdown",
      "metadata": {
        "id": "view-in-github",
        "colab_type": "text"
      },
      "source": [
        "<a href=\"https://colab.research.google.com/github/anko191/Python_Kaggle/blob/master/pandas/pandas_Select_and_Extract_on_the_Condition.ipynb\" target=\"_parent\"><img src=\"https://colab.research.google.com/assets/colab-badge.svg\" alt=\"Open In Colab\"/></a>"
      ]
    },
    {
      "cell_type": "markdown",
      "metadata": {
        "id": "z4yKDtvE2OQp",
        "colab_type": "text"
      },
      "source": [
        "# Select and Extract rows, columns and elements on the condition"
      ]
    },
    {
      "cell_type": "code",
      "metadata": {
        "id": "f0UEiHVw3TLx",
        "colab_type": "code",
        "colab": {
          "base_uri": "https://localhost:8080/",
          "height": 136
        },
        "outputId": "80e13706-3e3a-42e8-e123-14268dc4372a"
      },
      "source": [
        "import pandas as pd\n",
        "df = pd.read_csv('./sample_pandas_normal.csv')\n",
        "print(df)"
      ],
      "execution_count": 1,
      "outputs": [
        {
          "output_type": "stream",
          "text": [
            "      name  age state  point\n",
            "0    Alice   24    NY     64\n",
            "1      Bob   42    CA     92\n",
            "2  Charlie   18    CA     70\n",
            "3     Dave   68    TX     70\n",
            "4    Ellen   24    CA     88\n",
            "5    Frank   30    NY     57\n"
          ],
          "name": "stdout"
        }
      ]
    },
    {
      "cell_type": "markdown",
      "metadata": {
        "id": "K822WsHO3wr1",
        "colab_type": "text"
      },
      "source": [
        "## numexpr\n",
        "## !pip install numexpr if data the ten thousand over"
      ]
    },
    {
      "cell_type": "markdown",
      "metadata": {
        "id": "kw4JWixF4MMR",
        "colab_type": "text"
      },
      "source": [
        "## Comparison operator"
      ]
    },
    {
      "cell_type": "code",
      "metadata": {
        "id": "VeittjI93tnd",
        "colab_type": "code",
        "colab": {
          "base_uri": "https://localhost:8080/",
          "height": 85
        },
        "outputId": "a829e223-4fea-4d78-d759-382bbdfa36fb"
      },
      "source": [
        "print(df[df['age'] < 25])"
      ],
      "execution_count": 2,
      "outputs": [
        {
          "output_type": "stream",
          "text": [
            "      name  age state  point\n",
            "0    Alice   24    NY     64\n",
            "2  Charlie   18    CA     70\n",
            "4    Ellen   24    CA     88\n"
          ],
          "name": "stdout"
        }
      ]
    },
    {
      "cell_type": "markdown",
      "metadata": {
        "id": "fXyQEpbz4ULw",
        "colab_type": "text"
      },
      "source": [
        "## in query mode"
      ]
    },
    {
      "cell_type": "code",
      "metadata": {
        "id": "NmDK20mi4Qz8",
        "colab_type": "code",
        "colab": {
          "base_uri": "https://localhost:8080/",
          "height": 85
        },
        "outputId": "e2e62402-f021-45c6-b208-949025e5a27c"
      },
      "source": [
        "print(df.query('age < 25'))"
      ],
      "execution_count": 4,
      "outputs": [
        {
          "output_type": "stream",
          "text": [
            "      name  age state  point\n",
            "0    Alice   24    NY     64\n",
            "2  Charlie   18    CA     70\n",
            "4    Ellen   24    CA     88\n"
          ],
          "name": "stdout"
        }
      ]
    },
    {
      "cell_type": "markdown",
      "metadata": {
        "id": "f4RLQds_4WN3",
        "colab_type": "text"
      },
      "source": [
        "## not"
      ]
    },
    {
      "cell_type": "code",
      "metadata": {
        "id": "VU5s7T0g4Tgy",
        "colab_type": "code",
        "colab": {
          "base_uri": "https://localhost:8080/",
          "height": 85
        },
        "outputId": "99475526-209a-4e19-886f-30d04f98ab9e"
      },
      "source": [
        "print(df.query('not age < 25'))"
      ],
      "execution_count": 5,
      "outputs": [
        {
          "output_type": "stream",
          "text": [
            "    name  age state  point\n",
            "1    Bob   42    CA     92\n",
            "3   Dave   68    TX     70\n",
            "5  Frank   30    NY     57\n"
          ],
          "name": "stdout"
        }
      ]
    },
    {
      "cell_type": "markdown",
      "metadata": {
        "id": "7wU9uDhH4xqS",
        "colab_type": "text"
      },
      "source": [
        "## can compare one column with another column"
      ]
    },
    {
      "cell_type": "code",
      "metadata": {
        "id": "ZdtXqHkF4Y9i",
        "colab_type": "code",
        "colab": {
          "base_uri": "https://localhost:8080/",
          "height": 153
        },
        "outputId": "4f2798a3-2d7e-4f9a-e67a-1984597c2f34"
      },
      "source": [
        "print(df.query('24 <= age < 50'))\n",
        "print(df.query('age < point / 3'))"
      ],
      "execution_count": 7,
      "outputs": [
        {
          "output_type": "stream",
          "text": [
            "    name  age state  point\n",
            "0  Alice   24    NY     64\n",
            "1    Bob   42    CA     92\n",
            "4  Ellen   24    CA     88\n",
            "5  Frank   30    NY     57\n",
            "      name  age state  point\n",
            "2  Charlie   18    CA     70\n",
            "4    Ellen   24    CA     88\n"
          ],
          "name": "stdout"
        }
      ]
    },
    {
      "cell_type": "markdown",
      "metadata": {
        "id": "1CCRay6j4w-q",
        "colab_type": "text"
      },
      "source": [
        "== and !="
      ]
    },
    {
      "cell_type": "code",
      "metadata": {
        "id": "VCXrFEg04v_Z",
        "colab_type": "code",
        "colab": {
          "base_uri": "https://localhost:8080/",
          "height": 153
        },
        "outputId": "bc0c8dbf-516b-4686-d9cb-67f78125a68e"
      },
      "source": [
        "print(df.query('state == \"CA\"'))\n",
        "print(df.query('state != \"CA\"'))"
      ],
      "execution_count": 8,
      "outputs": [
        {
          "output_type": "stream",
          "text": [
            "      name  age state  point\n",
            "1      Bob   42    CA     92\n",
            "2  Charlie   18    CA     70\n",
            "4    Ellen   24    CA     88\n",
            "    name  age state  point\n",
            "0  Alice   24    NY     64\n",
            "3   Dave   68    TX     70\n",
            "5  Frank   30    NY     57\n"
          ],
          "name": "stdout"
        }
      ]
    },
    {
      "cell_type": "markdown",
      "metadata": {
        "id": "voV_pgZa5SIL",
        "colab_type": "text"
      },
      "source": [
        "## \"in\" operation\n",
        "isin() function"
      ]
    },
    {
      "cell_type": "code",
      "metadata": {
        "id": "kV8KMsTI5LVB",
        "colab_type": "code",
        "colab": {
          "base_uri": "https://localhost:8080/",
          "height": 85
        },
        "outputId": "f95e187a-b43b-4fec-acfc-c47f2aec3787"
      },
      "source": [
        "print(df[df['state'].isin(['NY','TX'])])"
      ],
      "execution_count": 10,
      "outputs": [
        {
          "output_type": "stream",
          "text": [
            "    name  age state  point\n",
            "0  Alice   24    NY     64\n",
            "3   Dave   68    TX     70\n",
            "5  Frank   30    NY     57\n"
          ],
          "name": "stdout"
        }
      ]
    },
    {
      "cell_type": "markdown",
      "metadata": {
        "id": "qW8LnJAC5tTr",
        "colab_type": "text"
      },
      "source": [
        "## in query method can use \"in\""
      ]
    },
    {
      "cell_type": "code",
      "metadata": {
        "id": "Anek75I-5Zrq",
        "colab_type": "code",
        "colab": {
          "base_uri": "https://localhost:8080/",
          "height": 85
        },
        "outputId": "708fa00e-6fce-4185-b180-ee09daaaf00a"
      },
      "source": [
        "print(df.query('state in [\"NY\",\"TX\"]'))"
      ],
      "execution_count": 11,
      "outputs": [
        {
          "output_type": "stream",
          "text": [
            "    name  age state  point\n",
            "0  Alice   24    NY     64\n",
            "3   Dave   68    TX     70\n",
            "5  Frank   30    NY     57\n"
          ],
          "name": "stdout"
        }
      ]
    },
    {
      "cell_type": "code",
      "metadata": {
        "id": "3GNEwH4e50Qx",
        "colab_type": "code",
        "colab": {
          "base_uri": "https://localhost:8080/",
          "height": 85
        },
        "outputId": "3106258a-5aff-489a-cd1d-262c943671b6"
      },
      "source": [
        "print(df.query('state == [\"NY\", \"TX\"]'))"
      ],
      "execution_count": 12,
      "outputs": [
        {
          "output_type": "stream",
          "text": [
            "    name  age state  point\n",
            "0  Alice   24    NY     64\n",
            "3   Dave   68    TX     70\n",
            "5  Frank   30    NY     57\n"
          ],
          "name": "stdout"
        }
      ]
    },
    {
      "cell_type": "markdown",
      "metadata": {
        "id": "UpeRXKIZ559Q",
        "colab_type": "text"
      },
      "source": [
        "## Conditional designation in \"string method\"\n",
        "* str.contains() : including certain string \n",
        "* str.endswith() : end\n",
        "* str.startswith() : start\n",
        "* str.match() : matches the pattern of the regular expression"
      ]
    },
    {
      "cell_type": "code",
      "metadata": {
        "id": "JYBiB0uR54GK",
        "colab_type": "code",
        "colab": {
          "base_uri": "https://localhost:8080/",
          "height": 85
        },
        "outputId": "701a3698-3fce-47db-fc5c-f555fa9f6e82"
      },
      "source": [
        "print(df.query('name.str.endswith(\"e\")', engine = 'python'))"
      ],
      "execution_count": 13,
      "outputs": [
        {
          "output_type": "stream",
          "text": [
            "      name  age state  point\n",
            "0    Alice   24    NY     64\n",
            "2  Charlie   18    CA     70\n",
            "3     Dave   68    TX     70\n"
          ],
          "name": "stdout"
        }
      ]
    },
    {
      "cell_type": "code",
      "metadata": {
        "id": "AELMJ_Hb6udl",
        "colab_type": "code",
        "colab": {
          "base_uri": "https://localhost:8080/",
          "height": 68
        },
        "outputId": "b2fc89f6-902b-411b-cf7c-d076dca56358"
      },
      "source": [
        "print(df.query('name.str.contains(\"li\")', engine = 'python'))"
      ],
      "execution_count": 14,
      "outputs": [
        {
          "output_type": "stream",
          "text": [
            "      name  age state  point\n",
            "0    Alice   24    NY     64\n",
            "2  Charlie   18    CA     70\n"
          ],
          "name": "stdout"
        }
      ]
    },
    {
      "cell_type": "code",
      "metadata": {
        "id": "dZLEvZWE6003",
        "colab_type": "code",
        "colab": {
          "base_uri": "https://localhost:8080/",
          "height": 68
        },
        "outputId": "8be1ba96-3ac3-4a1e-cb8e-6386e9fad622"
      },
      "source": [
        "print(df.query('name.str.match(\".*i.*e\")', engine = 'python'))"
      ],
      "execution_count": 15,
      "outputs": [
        {
          "output_type": "stream",
          "text": [
            "      name  age state  point\n",
            "0    Alice   24    NY     64\n",
            "2  Charlie   18    CA     70\n"
          ],
          "name": "stdout"
        }
      ]
    },
    {
      "cell_type": "code",
      "metadata": {
        "id": "b-rohrKV68tS",
        "colab_type": "code",
        "colab": {
          "base_uri": "https://localhost:8080/",
          "height": 68
        },
        "outputId": "42815ea0-53be-4565-a191-8134915317fb"
      },
      "source": [
        "print(df.query('age.astype(\"str\").str.endswith(\"8\")', engine = 'python'))"
      ],
      "execution_count": 16,
      "outputs": [
        {
          "output_type": "stream",
          "text": [
            "      name  age state  point\n",
            "2  Charlie   18    CA     70\n",
            "3     Dave   68    TX     70\n"
          ],
          "name": "stdout"
        }
      ]
    },
    {
      "cell_type": "markdown",
      "metadata": {
        "id": "P68zDt7B7NUr",
        "colab_type": "text"
      },
      "source": [
        "## Note when there is a missing value NaN"
      ]
    },
    {
      "cell_type": "code",
      "metadata": {
        "id": "oNfvrOEX7L6y",
        "colab_type": "code",
        "colab": {}
      },
      "source": [
        "df.at[0,'name'] = None"
      ],
      "execution_count": 17,
      "outputs": []
    },
    {
      "cell_type": "code",
      "metadata": {
        "id": "ECw3jzVN7VhE",
        "colab_type": "code",
        "colab": {
          "base_uri": "https://localhost:8080/",
          "height": 136
        },
        "outputId": "d29559ad-b283-4866-9c1e-7635552263d9"
      },
      "source": [
        "print(df)"
      ],
      "execution_count": 18,
      "outputs": [
        {
          "output_type": "stream",
          "text": [
            "      name  age state  point\n",
            "0     None   24    NY     64\n",
            "1      Bob   42    CA     92\n",
            "2  Charlie   18    CA     70\n",
            "3     Dave   68    TX     70\n",
            "4    Ellen   24    CA     88\n",
            "5    Frank   30    NY     57\n"
          ],
          "name": "stdout"
        }
      ]
    },
    {
      "cell_type": "code",
      "metadata": {
        "id": "MU2GNY2U7WNh",
        "colab_type": "code",
        "colab": {
          "base_uri": "https://localhost:8080/",
          "height": 68
        },
        "outputId": "0c338b7f-e434-407f-9495-b7c1add35d9f"
      },
      "source": [
        "print(df[df['name'].str.endswith('e', na = False)]) # NaN is not contained"
      ],
      "execution_count": 19,
      "outputs": [
        {
          "output_type": "stream",
          "text": [
            "      name  age state  point\n",
            "2  Charlie   18    CA     70\n",
            "3     Dave   68    TX     70\n"
          ],
          "name": "stdout"
        }
      ]
    },
    {
      "cell_type": "code",
      "metadata": {
        "id": "WgvyhoOj7eB5",
        "colab_type": "code",
        "colab": {
          "base_uri": "https://localhost:8080/",
          "height": 136
        },
        "outputId": "7006be88-73f1-48fa-eb3b-7aa95b90029c"
      },
      "source": [
        "df['name'].fillna('Alice', inplace = True)\n",
        "print(df)"
      ],
      "execution_count": 20,
      "outputs": [
        {
          "output_type": "stream",
          "text": [
            "      name  age state  point\n",
            "0    Alice   24    NY     64\n",
            "1      Bob   42    CA     92\n",
            "2  Charlie   18    CA     70\n",
            "3     Dave   68    TX     70\n",
            "4    Ellen   24    CA     88\n",
            "5    Frank   30    NY     57\n"
          ],
          "name": "stdout"
        }
      ]
    },
    {
      "cell_type": "markdown",
      "metadata": {
        "id": "itHWuYI47s8q",
        "colab_type": "text"
      },
      "source": [
        "## to index columns\n",
        "\"index\""
      ]
    },
    {
      "cell_type": "code",
      "metadata": {
        "id": "w1kAQ_gB7rkL",
        "colab_type": "code",
        "colab": {
          "base_uri": "https://localhost:8080/",
          "height": 85
        },
        "outputId": "1f01d708-2c86-45ae-f361-d6c11c942d10"
      },
      "source": [
        "print(df.query('index % 2 == 0'))"
      ],
      "execution_count": 22,
      "outputs": [
        {
          "output_type": "stream",
          "text": [
            "      name  age state  point\n",
            "0    Alice   24    NY     64\n",
            "2  Charlie   18    CA     70\n",
            "4    Ellen   24    CA     88\n"
          ],
          "name": "stdout"
        }
      ]
    },
    {
      "cell_type": "markdown",
      "metadata": {
        "id": "fKAHeIkk729I",
        "colab_type": "text"
      },
      "source": [
        "## set_index()"
      ]
    },
    {
      "cell_type": "code",
      "metadata": {
        "id": "87U8WdGm7xPx",
        "colab_type": "code",
        "colab": {
          "base_uri": "https://localhost:8080/",
          "height": 153
        },
        "outputId": "791c5050-a55a-4dfb-90a1-ae860b3667b1"
      },
      "source": [
        "df_name = df.set_index('name')\n",
        "print(df_name)"
      ],
      "execution_count": 23,
      "outputs": [
        {
          "output_type": "stream",
          "text": [
            "         age state  point\n",
            "name                     \n",
            "Alice     24    NY     64\n",
            "Bob       42    CA     92\n",
            "Charlie   18    CA     70\n",
            "Dave      68    TX     70\n",
            "Ellen     24    CA     88\n",
            "Frank     30    NY     57\n"
          ],
          "name": "stdout"
        }
      ]
    },
    {
      "cell_type": "code",
      "metadata": {
        "id": "y42Jh4sB767K",
        "colab_type": "code",
        "colab": {
          "base_uri": "https://localhost:8080/",
          "height": 102
        },
        "outputId": "86a530dc-6773-432c-c934-591795b774e6"
      },
      "source": [
        "print(df_name.query('name.str.endswith(\"e\")', engine = 'python'))"
      ],
      "execution_count": 24,
      "outputs": [
        {
          "output_type": "stream",
          "text": [
            "         age state  point\n",
            "name                     \n",
            "Alice     24    NY     64\n",
            "Charlie   18    CA     70\n",
            "Dave      68    TX     70\n"
          ],
          "name": "stdout"
        }
      ]
    },
    {
      "cell_type": "code",
      "metadata": {
        "id": "26SZujAL8BoT",
        "colab_type": "code",
        "colab": {
          "base_uri": "https://localhost:8080/",
          "height": 102
        },
        "outputId": "682e3237-f58d-4a8d-9808-d9f22ddc1c82"
      },
      "source": [
        "print(df_name.query('index.str.endswith(\"e\")', engine = 'python'))"
      ],
      "execution_count": 25,
      "outputs": [
        {
          "output_type": "stream",
          "text": [
            "         age state  point\n",
            "name                     \n",
            "Alice     24    NY     64\n",
            "Charlie   18    CA     70\n",
            "Dave      68    TX     70\n"
          ],
          "name": "stdout"
        }
      ]
    },
    {
      "cell_type": "markdown",
      "metadata": {
        "id": "N5j1zqus8MfW",
        "colab_type": "text"
      },
      "source": [
        "## use \"variable numerics\"\n",
        "using \"@\" !!"
      ]
    },
    {
      "cell_type": "code",
      "metadata": {
        "id": "tVpBzErP8JCp",
        "colab_type": "code",
        "colab": {
          "base_uri": "https://localhost:8080/",
          "height": 68
        },
        "outputId": "f0ce9bad-5d0f-4739-e92a-d53632f95924"
      },
      "source": [
        "val = 80\n",
        "print(df.query('point > @val'))"
      ],
      "execution_count": 26,
      "outputs": [
        {
          "output_type": "stream",
          "text": [
            "    name  age state  point\n",
            "1    Bob   42    CA     92\n",
            "4  Ellen   24    CA     88\n"
          ],
          "name": "stdout"
        }
      ]
    },
    {
      "cell_type": "markdown",
      "metadata": {
        "id": "sPfK9_Ga8VQd",
        "colab_type": "text"
      },
      "source": [
        "### multiple condition & or |"
      ]
    },
    {
      "cell_type": "code",
      "metadata": {
        "id": "kN8Q8SWN8Tux",
        "colab_type": "code",
        "colab": {
          "base_uri": "https://localhost:8080/",
          "height": 68
        },
        "outputId": "254e4982-6cbc-4bb7-8218-891e3f4e0d13"
      },
      "source": [
        "print(df[(df['age'] < 25) & (df['point'] > 65)])"
      ],
      "execution_count": 27,
      "outputs": [
        {
          "output_type": "stream",
          "text": [
            "      name  age state  point\n",
            "2  Charlie   18    CA     70\n",
            "4    Ellen   24    CA     88\n"
          ],
          "name": "stdout"
        }
      ]
    },
    {
      "cell_type": "code",
      "metadata": {
        "id": "06uNvwMV8eeb",
        "colab_type": "code",
        "colab": {
          "base_uri": "https://localhost:8080/",
          "height": 119
        },
        "outputId": "70a4f1c2-71d3-4150-f61a-23a12abf0198"
      },
      "source": [
        "print(df.query('age < 25 & point > 65'))\n",
        "print(df.query('age < 25 and point > 65'))"
      ],
      "execution_count": 28,
      "outputs": [
        {
          "output_type": "stream",
          "text": [
            "      name  age state  point\n",
            "2  Charlie   18    CA     70\n",
            "4    Ellen   24    CA     88\n",
            "      name  age state  point\n",
            "2  Charlie   18    CA     70\n",
            "4    Ellen   24    CA     88\n"
          ],
          "name": "stdout"
        }
      ]
    },
    {
      "cell_type": "code",
      "metadata": {
        "id": "53D8_ps78kuK",
        "colab_type": "code",
        "colab": {
          "base_uri": "https://localhost:8080/",
          "height": 221
        },
        "outputId": "b202a7f7-c55b-4b4d-fe3a-6332aa2ccfe9"
      },
      "source": [
        "print(df.query('age < 25 | point > 65'))\n",
        "print(df.query('age < 25 or point > 65'))"
      ],
      "execution_count": 29,
      "outputs": [
        {
          "output_type": "stream",
          "text": [
            "      name  age state  point\n",
            "0    Alice   24    NY     64\n",
            "1      Bob   42    CA     92\n",
            "2  Charlie   18    CA     70\n",
            "3     Dave   68    TX     70\n",
            "4    Ellen   24    CA     88\n",
            "      name  age state  point\n",
            "0    Alice   24    NY     64\n",
            "1      Bob   42    CA     92\n",
            "2  Charlie   18    CA     70\n",
            "3     Dave   68    TX     70\n",
            "4    Ellen   24    CA     88\n"
          ],
          "name": "stdout"
        }
      ]
    },
    {
      "cell_type": "code",
      "metadata": {
        "id": "x6D1hTl28tWY",
        "colab_type": "code",
        "colab": {
          "base_uri": "https://localhost:8080/",
          "height": 170
        },
        "outputId": "8b0963d7-ed4c-4314-ae55-c5c04a763189"
      },
      "source": [
        "print(df.query('not age < 25 and not point > 65'))\n",
        "print(df.query('age == 24 | point > 80 & state == \"CA\"'))\n",
        "print(df.query('(age == 24 | point > 80) & state == \"CA\"'))"
      ],
      "execution_count": 30,
      "outputs": [
        {
          "output_type": "stream",
          "text": [
            "    name  age state  point\n",
            "5  Frank   30    NY     57\n",
            "    name  age state  point\n",
            "0  Alice   24    NY     64\n",
            "1    Bob   42    CA     92\n",
            "4  Ellen   24    CA     88\n",
            "    name  age state  point\n",
            "1    Bob   42    CA     92\n",
            "4  Ellen   24    CA     88\n"
          ],
          "name": "stdout"
        }
      ]
    },
    {
      "cell_type": "markdown",
      "metadata": {
        "id": "yeL_db9P9Wht",
        "colab_type": "text"
      },
      "source": [
        "## Notes on the query method"
      ]
    },
    {
      "cell_type": "code",
      "metadata": {
        "id": "mbG_rLBZ9Mis",
        "colab_type": "code",
        "colab": {
          "base_uri": "https://localhost:8080/",
          "height": 136
        },
        "outputId": "7acb12cb-55ca-4659-d3fa-2258745681a5"
      },
      "source": [
        "df.columns = ['名前', 'age.year', 'state name', 3]\n",
        "print(df)"
      ],
      "execution_count": 32,
      "outputs": [
        {
          "output_type": "stream",
          "text": [
            "        名前  age.year state name   3\n",
            "0    Alice        24         NY  64\n",
            "1      Bob        42         CA  92\n",
            "2  Charlie        18         CA  70\n",
            "3     Dave        68         TX  70\n",
            "4    Ellen        24         CA  88\n",
            "5    Frank        30         NY  57\n"
          ],
          "name": "stdout"
        }
      ]
    },
    {
      "cell_type": "markdown",
      "metadata": {
        "id": "RDLNs8X89iig",
        "colab_type": "text"
      },
      "source": [
        "### Japanese ok"
      ]
    },
    {
      "cell_type": "code",
      "metadata": {
        "id": "WzuaV_rK9gFp",
        "colab_type": "code",
        "colab": {
          "base_uri": "https://localhost:8080/",
          "height": 119
        },
        "outputId": "2365a9e4-e720-44a8-f0a9-2e38cbe47620"
      },
      "source": [
        "print(df.query('名前 == [\"Alice\", \"Dave\"]'))\n",
        "print(df.query('名前.str.contains(\"li\")', engine = 'python'))"
      ],
      "execution_count": 33,
      "outputs": [
        {
          "output_type": "stream",
          "text": [
            "      名前  age.year state name   3\n",
            "0  Alice        24         NY  64\n",
            "3   Dave        68         TX  70\n",
            "        名前  age.year state name   3\n",
            "0    Alice        24         NY  64\n",
            "2  Charlie        18         CA  70\n"
          ],
          "name": "stdout"
        }
      ]
    },
    {
      "cell_type": "markdown",
      "metadata": {
        "id": "lg5XfHXG9tEb",
        "colab_type": "text"
      },
      "source": [
        "## but . and space \" \" containing is NG"
      ]
    },
    {
      "cell_type": "code",
      "metadata": {
        "id": "I1hnPuQS9saz",
        "colab_type": "code",
        "colab": {}
      },
      "source": [
        "# print(df.query('age.year < 25'))\n",
        "# UndefinedVariableError: name 'age' is not defined\n",
        "\n",
        "# print(df.query('state name == \"CA\"'))\n",
        "# SyntaxError: invalid syntax\n",
        "\n",
        "# print(df.query('3 > 75'))\n",
        "# KeyError: False"
      ],
      "execution_count": 34,
      "outputs": []
    },
    {
      "cell_type": "markdown",
      "metadata": {
        "id": "AG6MOiqF90Mv",
        "colab_type": "text"
      },
      "source": [
        "## but boolindex is ok"
      ]
    },
    {
      "cell_type": "code",
      "metadata": {
        "id": "JR5Rg4Qb9y9K",
        "colab_type": "code",
        "colab": {
          "base_uri": "https://localhost:8080/",
          "height": 204
        },
        "outputId": "cae89541-ce39-47dd-e118-bef16261479f"
      },
      "source": [
        "print(df[df['age.year'] < 25])\n",
        "print(df[df['state name'] == 'CA'])\n",
        "print(df[df[3] > 75])"
      ],
      "execution_count": 35,
      "outputs": [
        {
          "output_type": "stream",
          "text": [
            "        名前  age.year state name   3\n",
            "0    Alice        24         NY  64\n",
            "2  Charlie        18         CA  70\n",
            "4    Ellen        24         CA  88\n",
            "        名前  age.year state name   3\n",
            "1      Bob        42         CA  92\n",
            "2  Charlie        18         CA  70\n",
            "4    Ellen        24         CA  88\n",
            "      名前  age.year state name   3\n",
            "1    Bob        42         CA  92\n",
            "4  Ellen        24         CA  88\n"
          ],
          "name": "stdout"
        }
      ]
    },
    {
      "cell_type": "markdown",
      "metadata": {
        "id": "KK6Uw_eK9-8T",
        "colab_type": "text"
      },
      "source": [
        "## can change \"rename()\""
      ]
    },
    {
      "cell_type": "code",
      "metadata": {
        "id": "5HrNhXfr97o5",
        "colab_type": "code",
        "colab": {
          "base_uri": "https://localhost:8080/",
          "height": 136
        },
        "outputId": "6b8892a0-fc13-4263-8e5c-1b7f4fdaa622"
      },
      "source": [
        "df.rename(columns = {3:'point'}, inplace = True)\n",
        "print(df)"
      ],
      "execution_count": 36,
      "outputs": [
        {
          "output_type": "stream",
          "text": [
            "        名前  age.year state name  point\n",
            "0    Alice        24         NY     64\n",
            "1      Bob        42         CA     92\n",
            "2  Charlie        18         CA     70\n",
            "3     Dave        68         TX     70\n",
            "4    Ellen        24         CA     88\n",
            "5    Frank        30         NY     57\n"
          ],
          "name": "stdout"
        }
      ]
    },
    {
      "cell_type": "markdown",
      "metadata": {
        "id": "5vaWrdwN-Q4D",
        "colab_type": "text"
      },
      "source": [
        "## can use replace()"
      ]
    },
    {
      "cell_type": "code",
      "metadata": {
        "id": "lX9mK3s4-OYS",
        "colab_type": "code",
        "colab": {
          "base_uri": "https://localhost:8080/",
          "height": 136
        },
        "outputId": "920b87f2-ad60-43c1-a8ce-2e424d8ccac7"
      },
      "source": [
        "df.columns = [str(s).replace(' ', '_').replace('.','_') for s in df.columns]\n",
        "print(df)"
      ],
      "execution_count": 38,
      "outputs": [
        {
          "output_type": "stream",
          "text": [
            "        名前  age_year state_name  point\n",
            "0    Alice        24         NY     64\n",
            "1      Bob        42         CA     92\n",
            "2  Charlie        18         CA     70\n",
            "3     Dave        68         TX     70\n",
            "4    Ellen        24         CA     88\n",
            "5    Frank        30         NY     57\n"
          ],
          "name": "stdout"
        }
      ]
    },
    {
      "cell_type": "markdown",
      "metadata": {
        "id": "7xFbyoiq-c0m",
        "colab_type": "text"
      },
      "source": [
        "### renew in \"inplace = True\""
      ]
    },
    {
      "cell_type": "code",
      "metadata": {
        "id": "om8jPMLH-Z2J",
        "colab_type": "code",
        "colab": {
          "base_uri": "https://localhost:8080/",
          "height": 85
        },
        "outputId": "c8a9a728-fd45-4841-d2fc-ba0ead996460"
      },
      "source": [
        "df.query('age_year > 25', inplace = True)\n",
        "print(df)"
      ],
      "execution_count": 40,
      "outputs": [
        {
          "output_type": "stream",
          "text": [
            "      名前  age_year state_name  point\n",
            "1    Bob        42         CA     92\n",
            "3   Dave        68         TX     70\n",
            "5  Frank        30         NY     57\n"
          ],
          "name": "stdout"
        }
      ]
    },
    {
      "cell_type": "code",
      "metadata": {
        "id": "-wPr_9-w-iLq",
        "colab_type": "code",
        "colab": {}
      },
      "source": [
        ""
      ],
      "execution_count": null,
      "outputs": []
    }
  ]
}