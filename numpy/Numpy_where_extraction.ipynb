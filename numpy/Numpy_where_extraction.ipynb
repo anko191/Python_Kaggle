{
  "nbformat": 4,
  "nbformat_minor": 0,
  "metadata": {
    "colab": {
      "name": "Numpy_where_extraction",
      "provenance": [],
      "collapsed_sections": [],
      "authorship_tag": "ABX9TyOhDWVe2a/Oc9/WZEyM1p8n",
      "include_colab_link": true
    },
    "kernelspec": {
      "name": "python3",
      "display_name": "Python 3"
    }
  },
  "cells": [
    {
      "cell_type": "markdown",
      "metadata": {
        "id": "view-in-github",
        "colab_type": "text"
      },
      "source": [
        "<a href=\"https://colab.research.google.com/github/anko191/Python_Kaggle/blob/master/numpy/Numpy_where_extraction.ipynb\" target=\"_parent\"><img src=\"https://colab.research.google.com/assets/colab-badge.svg\" alt=\"Open In Colab\"/></a>"
      ]
    },
    {
      "cell_type": "markdown",
      "metadata": {
        "id": "DE7a0fcxqEBK",
        "colab_type": "text"
      },
      "source": [
        "# np.where depending on the condition\n",
        "\n",
        "numpy.where(condition[, x, y])<br>\n",
        "Return elements, either from x or y, depending on condition.<br>\n",
        "If only condition is given, return condition.nonzero().<br>\n",
        "\n",
        "numpy.where()は、条件式conditionを満たす場合、Trueの場合は、 x , <br>満たさない場合 Falseの場合は y とする **ndarray を返す。**<br>\n",
        "\n",
        "x,yを省略した場合は、条件を満たすindexを返す。<br>"
      ]
    },
    {
      "cell_type": "code",
      "metadata": {
        "id": "nz8P6mj9qEhm",
        "colab_type": "code",
        "colab": {
          "base_uri": "https://localhost:8080/",
          "height": 68
        },
        "outputId": "847593a4-46ce-4527-8457-34de175461ff"
      },
      "source": [
        "import numpy as np\n",
        "a = np.arange(9).reshape((3,3))\n",
        "print(a)"
      ],
      "execution_count": null,
      "outputs": [
        {
          "output_type": "stream",
          "text": [
            "[[0 1 2]\n",
            " [3 4 5]\n",
            " [6 7 8]]\n"
          ],
          "name": "stdout"
        }
      ]
    },
    {
      "cell_type": "code",
      "metadata": {
        "id": "Y_x8sWmP44bf",
        "colab_type": "code",
        "colab": {
          "base_uri": "https://localhost:8080/",
          "height": 68
        },
        "outputId": "2ea8a42d-7c24-49f4-e44a-87d1173b7b27"
      },
      "source": [
        "print(np.where(a < 4, -1, 100)) # conditon, x, y"
      ],
      "execution_count": null,
      "outputs": [
        {
          "output_type": "stream",
          "text": [
            "[[ -1  -1  -1]\n",
            " [ -1 100 100]\n",
            " [100 100 100]]\n"
          ],
          "name": "stdout"
        }
      ]
    },
    {
      "cell_type": "code",
      "metadata": {
        "id": "4eLKCQ_B48R1",
        "colab_type": "code",
        "colab": {
          "base_uri": "https://localhost:8080/",
          "height": 119
        },
        "outputId": "a7dadbcf-b0a1-4e57-db61-d76aa1bce7ff"
      },
      "source": [
        "print(np.where(a < 4, True, False))\n",
        "print(a < 4)"
      ],
      "execution_count": null,
      "outputs": [
        {
          "output_type": "stream",
          "text": [
            "[[ True  True  True]\n",
            " [ True False False]\n",
            " [False False False]]\n",
            "[[ True  True  True]\n",
            " [ True False False]\n",
            " [False False False]]\n"
          ],
          "name": "stdout"
        }
      ]
    },
    {
      "cell_type": "code",
      "metadata": {
        "id": "k7vrnb625S7l",
        "colab_type": "code",
        "colab": {
          "base_uri": "https://localhost:8080/",
          "height": 119
        },
        "outputId": "1487d376-0619-472d-a2f9-bde1ebb46a2b"
      },
      "source": [
        "print(np.where((a > 2 ) & (a < 6), -1, 100))\n",
        "print(np.where((a > 2) & (a < 6) | (a == 7), -1, 100))"
      ],
      "execution_count": null,
      "outputs": [
        {
          "output_type": "stream",
          "text": [
            "[[100 100 100]\n",
            " [ -1  -1  -1]\n",
            " [100 100 100]]\n",
            "[[100 100 100]\n",
            " [ -1  -1  -1]\n",
            " [100  -1 100]]\n"
          ],
          "name": "stdout"
        }
      ]
    },
    {
      "cell_type": "markdown",
      "metadata": {
        "id": "kUWPwByd5kTE",
        "colab_type": "text"
      },
      "source": [
        "## np.where 使わなくても ndarray だけでいけるよ"
      ]
    },
    {
      "cell_type": "code",
      "metadata": {
        "id": "qTPNmBAh5e3U",
        "colab_type": "code",
        "colab": {
          "base_uri": "https://localhost:8080/",
          "height": 68
        },
        "outputId": "18d122d5-6753-45ec-c6b1-9ca8f9e3c557"
      },
      "source": [
        "print((a > 2) & (a < 6))"
      ],
      "execution_count": null,
      "outputs": [
        {
          "output_type": "stream",
          "text": [
            "[[False False False]\n",
            " [ True  True  True]\n",
            " [False False False]]\n"
          ],
          "name": "stdout"
        }
      ]
    },
    {
      "cell_type": "code",
      "metadata": {
        "id": "04tt5y225kA7",
        "colab_type": "code",
        "colab": {
          "base_uri": "https://localhost:8080/",
          "height": 119
        },
        "outputId": "0099d064-3f65-41a9-9750-7a1264723a5c"
      },
      "source": [
        "print(np.where(a < 4, -1, a))\n",
        "print(np.where(a < 4, a, 100))"
      ],
      "execution_count": null,
      "outputs": [
        {
          "output_type": "stream",
          "text": [
            "[[-1 -1 -1]\n",
            " [-1  4  5]\n",
            " [ 6  7  8]]\n",
            "[[  0   1   2]\n",
            " [  3 100 100]\n",
            " [100 100 100]]\n"
          ],
          "name": "stdout"
        }
      ]
    },
    {
      "cell_type": "code",
      "metadata": {
        "id": "dKfU3e7m50Cs",
        "colab_type": "code",
        "colab": {
          "base_uri": "https://localhost:8080/",
          "height": 170
        },
        "outputId": "4f660531-d710-4ce8-c0cf-0a2daf21d46a"
      },
      "source": [
        "a_org = np.arange(9).reshape((3,3))\n",
        "print(a_org)\n",
        "a_new = np.where(a_org < 4, -1, a_org)\n",
        "print(a_new)\n",
        "# dont change\n",
        "print(a_org)"
      ],
      "execution_count": null,
      "outputs": [
        {
          "output_type": "stream",
          "text": [
            "[[0 1 2]\n",
            " [3 4 5]\n",
            " [6 7 8]]\n",
            "[[-1 -1 -1]\n",
            " [-1  4  5]\n",
            " [ 6  7  8]]\n",
            "[[0 1 2]\n",
            " [3 4 5]\n",
            " [6 7 8]]\n"
          ],
          "name": "stdout"
        }
      ]
    },
    {
      "cell_type": "markdown",
      "metadata": {
        "id": "KgFdVYfs6DYF",
        "colab_type": "text"
      },
      "source": [
        "### if you change original"
      ]
    },
    {
      "cell_type": "code",
      "metadata": {
        "id": "mzxG9slF6BVT",
        "colab_type": "code",
        "colab": {
          "base_uri": "https://localhost:8080/",
          "height": 68
        },
        "outputId": "45215e4b-da52-4b2b-fab7-4d20642f5a20"
      },
      "source": [
        "a_org[a_org < 4] = -1\n",
        "print(a_org)"
      ],
      "execution_count": null,
      "outputs": [
        {
          "output_type": "stream",
          "text": [
            "[[-1 -1 -1]\n",
            " [-1  4  5]\n",
            " [ 6  7  8]]\n"
          ],
          "name": "stdout"
        }
      ]
    },
    {
      "cell_type": "markdown",
      "metadata": {
        "id": "mzH5oVHt6KPm",
        "colab_type": "text"
      },
      "source": [
        "### can return calculated array"
      ]
    },
    {
      "cell_type": "code",
      "metadata": {
        "id": "IWJYTNz86IR0",
        "colab_type": "code",
        "colab": {
          "base_uri": "https://localhost:8080/",
          "height": 68
        },
        "outputId": "2efdff17-a064-43cc-8dc6-90e08ad7db31"
      },
      "source": [
        "print(np.where(a < 4, a * 10, a))"
      ],
      "execution_count": null,
      "outputs": [
        {
          "output_type": "stream",
          "text": [
            "[[ 0 10 20]\n",
            " [30  4  5]\n",
            " [ 6  7  8]]\n"
          ],
          "name": "stdout"
        }
      ]
    },
    {
      "cell_type": "markdown",
      "metadata": {
        "id": "3b-VwZFO6z8m",
        "colab_type": "text"
      },
      "source": [
        "### if you dont write x and y, return indexes fill condition."
      ]
    },
    {
      "cell_type": "code",
      "metadata": {
        "id": "bz615TBe6QjV",
        "colab_type": "code",
        "colab": {
          "base_uri": "https://localhost:8080/",
          "height": 34
        },
        "outputId": "2c24ed24-460b-4393-d2d3-548f8a9b0d72"
      },
      "source": [
        "print(np.where(a < 4))"
      ],
      "execution_count": null,
      "outputs": [
        {
          "output_type": "stream",
          "text": [
            "(array([0, 0, 0, 1]), array([0, 1, 2, 0]))\n"
          ],
          "name": "stdout"
        }
      ]
    },
    {
      "cell_type": "code",
      "metadata": {
        "id": "8HVZFDRf68jl",
        "colab_type": "code",
        "colab": {
          "base_uri": "https://localhost:8080/",
          "height": 34
        },
        "outputId": "001ce663-cd5b-416d-95a3-6ba84e4ca96a"
      },
      "source": [
        "print(type(np.where(a < 4)))"
      ],
      "execution_count": null,
      "outputs": [
        {
          "output_type": "stream",
          "text": [
            "<class 'tuple'>\n"
          ],
          "name": "stdout"
        }
      ]
    },
    {
      "cell_type": "markdown",
      "metadata": {
        "id": "DOUzw28zQXw2",
        "colab_type": "text"
      },
      "source": [
        "### You can get a list of each coordirate using list(), zip() and '*'"
      ]
    },
    {
      "cell_type": "code",
      "metadata": {
        "id": "R0HGrcJk7AaD",
        "colab_type": "code",
        "colab": {
          "base_uri": "https://localhost:8080/",
          "height": 34
        },
        "outputId": "d8ce8d9e-fc2e-4f5c-8100-d73dcc92370b"
      },
      "source": [
        "import numpy as np\n",
        "a = np.arange(9).reshape(3,3)\n",
        "print(list(zip(*np.where(a < 4))))"
      ],
      "execution_count": 3,
      "outputs": [
        {
          "output_type": "stream",
          "text": [
            "[(0, 0), (0, 1), (0, 2), (1, 0)]\n"
          ],
          "name": "stdout"
        }
      ]
    },
    {
      "cell_type": "code",
      "metadata": {
        "id": "LLmvu_9yQxY9",
        "colab_type": "code",
        "colab": {
          "base_uri": "https://localhost:8080/",
          "height": 136
        },
        "outputId": "6dc4d495-e45d-4b5c-eab4-3f972d3fbd0a"
      },
      "source": [
        "a_3d = np.arange(24).reshape(2,3,4)\n",
        "print(a_3d)"
      ],
      "execution_count": 4,
      "outputs": [
        {
          "output_type": "stream",
          "text": [
            "[[[ 0  1  2  3]\n",
            "  [ 4  5  6  7]\n",
            "  [ 8  9 10 11]]\n",
            "\n",
            " [[12 13 14 15]\n",
            "  [16 17 18 19]\n",
            "  [20 21 22 23]]]\n"
          ],
          "name": "stdout"
        }
      ]
    },
    {
      "cell_type": "code",
      "metadata": {
        "id": "tC1dm4qIRtWV",
        "colab_type": "code",
        "colab": {
          "base_uri": "https://localhost:8080/",
          "height": 54
        },
        "outputId": "fe7c99ef-f508-426d-a6a8-89a670d4a466"
      },
      "source": [
        "print(list(zip(*np.where(a_3d < 15))))"
      ],
      "execution_count": 5,
      "outputs": [
        {
          "output_type": "stream",
          "text": [
            "[(0, 0, 0), (0, 0, 1), (0, 0, 2), (0, 0, 3), (0, 1, 0), (0, 1, 1), (0, 1, 2), (0, 1, 3), (0, 2, 0), (0, 2, 1), (0, 2, 2), (0, 2, 3), (1, 0, 0), (1, 0, 1), (1, 0, 2)]\n"
          ],
          "name": "stdout"
        }
      ]
    },
    {
      "cell_type": "markdown",
      "metadata": {
        "id": "7g6tW8iBSBhH",
        "colab_type": "text"
      },
      "source": [
        "#### 1-dimension is ..."
      ]
    },
    {
      "cell_type": "code",
      "metadata": {
        "id": "01Fs5DVhRxkk",
        "colab_type": "code",
        "colab": {
          "base_uri": "https://localhost:8080/",
          "height": 34
        },
        "outputId": "fc136169-aca0-4adc-f573-c8a100f5252a"
      },
      "source": [
        "a_1d = np.arange(6)\n",
        "print(np.where(a_1d < 3))"
      ],
      "execution_count": 6,
      "outputs": [
        {
          "output_type": "stream",
          "text": [
            "(array([0, 1, 2]),)\n"
          ],
          "name": "stdout"
        }
      ]
    },
    {
      "cell_type": "code",
      "metadata": {
        "id": "N7l4uTwHSHos",
        "colab_type": "code",
        "colab": {
          "base_uri": "https://localhost:8080/",
          "height": 34
        },
        "outputId": "7604f997-d94e-420c-8afd-d6228f0c5c28"
      },
      "source": [
        "print(list(zip(*np.where(a_1d < 3))))"
      ],
      "execution_count": 7,
      "outputs": [
        {
          "output_type": "stream",
          "text": [
            "[(0,), (1,), (2,)]\n"
          ],
          "name": "stdout"
        }
      ]
    },
    {
      "cell_type": "markdown",
      "metadata": {
        "id": "LsHzLXnpSLTG",
        "colab_type": "text"
      },
      "source": [
        "In this case, not tuple of number of elements:1 but 'ndarray' elements of int.\n",
        "<br>If you want to convert list, using 'tolist()'"
      ]
    },
    {
      "cell_type": "code",
      "metadata": {
        "id": "pkMB44m1SKZc",
        "colab_type": "code",
        "colab": {
          "base_uri": "https://localhost:8080/",
          "height": 34
        },
        "outputId": "e7c9b00d-3c0b-4fd9-beb2-7a30cd99c321"
      },
      "source": [
        "print(np.where(a_1d < 3)[0])"
      ],
      "execution_count": 8,
      "outputs": [
        {
          "output_type": "stream",
          "text": [
            "[0 1 2]\n"
          ],
          "name": "stdout"
        }
      ]
    },
    {
      "cell_type": "code",
      "metadata": {
        "id": "UDGi6rMRSkPc",
        "colab_type": "code",
        "colab": {
          "base_uri": "https://localhost:8080/",
          "height": 34
        },
        "outputId": "b2af6353-35be-42cf-efb6-d0f441a0cfcf"
      },
      "source": [
        "print(np.where(a_1d < 3)[0].tolist())"
      ],
      "execution_count": 10,
      "outputs": [
        {
          "output_type": "stream",
          "text": [
            "[0, 1, 2]\n"
          ],
          "name": "stdout"
        }
      ]
    },
    {
      "cell_type": "markdown",
      "metadata": {
        "id": "rOec68TiTJtJ",
        "colab_type": "text"
      },
      "source": [
        "# Extract and delete elements, rows, and columns that meet the criteria."
      ]
    },
    {
      "cell_type": "markdown",
      "metadata": {
        "id": "irGs_jJVThHq",
        "colab_type": "text"
      },
      "source": [
        "## Extract elements of satisfying the conditions."
      ]
    },
    {
      "cell_type": "code",
      "metadata": {
        "id": "6sFYf8FVSmzN",
        "colab_type": "code",
        "colab": {
          "base_uri": "https://localhost:8080/",
          "height": 136
        },
        "outputId": "3f7f9a0c-47e9-4ffe-c9b7-b964c8120f31"
      },
      "source": [
        "import numpy as np\n",
        "a = np.arange(12).reshape((3,4))\n",
        "print(a)\n",
        "print(a < 5)\n",
        "print(a[a < 5])"
      ],
      "execution_count": 11,
      "outputs": [
        {
          "output_type": "stream",
          "text": [
            "[[ 0  1  2  3]\n",
            " [ 4  5  6  7]\n",
            " [ 8  9 10 11]]\n",
            "[[ True  True  True  True]\n",
            " [ True False False False]\n",
            " [False False False False]]\n",
            "[0 1 2 3 4]\n"
          ],
          "name": "stdout"
        }
      ]
    },
    {
      "cell_type": "code",
      "metadata": {
        "id": "EfSym9FPUB3O",
        "colab_type": "code",
        "colab": {
          "base_uri": "https://localhost:8080/",
          "height": 85
        },
        "outputId": "a3492ee0-6702-4612-c6ec-ee332c30c6fc"
      },
      "source": [
        "print(a < 10)\n",
        "print(a[a < 10])"
      ],
      "execution_count": 12,
      "outputs": [
        {
          "output_type": "stream",
          "text": [
            "[[ True  True  True  True]\n",
            " [ True  True  True  True]\n",
            " [ True  True False False]]\n",
            "[0 1 2 3 4 5 6 7 8 9]\n"
          ],
          "name": "stdout"
        }
      ]
    },
    {
      "cell_type": "code",
      "metadata": {
        "id": "BRh6gHMoUETV",
        "colab_type": "code",
        "colab": {
          "base_uri": "https://localhost:8080/",
          "height": 34
        },
        "outputId": "9e9bf5fe-acec-42e4-d23a-320cd9cab4c3"
      },
      "source": [
        "b = a[a < 10]\n",
        "print(b)"
      ],
      "execution_count": 14,
      "outputs": [
        {
          "output_type": "stream",
          "text": [
            "[0 1 2 3 4 5 6 7 8 9]\n"
          ],
          "name": "stdout"
        }
      ]
    },
    {
      "cell_type": "markdown",
      "metadata": {
        "id": "i_iEUmmsUKGc",
        "colab_type": "text"
      },
      "source": [
        "## can use sum(), mean(), max(), min(), std()"
      ]
    },
    {
      "cell_type": "code",
      "metadata": {
        "id": "1GzafjoiUHfN",
        "colab_type": "code",
        "colab": {
          "base_uri": "https://localhost:8080/",
          "height": 102
        },
        "outputId": "71553643-2c7a-41b8-8335-ba723a8f6249"
      },
      "source": [
        "print(a[a < 5].sum())\n",
        "print(a[a < 5].mean())\n",
        "print(a[a < 5].max())\n",
        "print(a[a < 10].min())\n",
        "print(a[a < 10].std())"
      ],
      "execution_count": 15,
      "outputs": [
        {
          "output_type": "stream",
          "text": [
            "10\n",
            "2.0\n",
            "4\n",
            "0\n",
            "2.8722813232690143\n"
          ],
          "name": "stdout"
        }
      ]
    },
    {
      "cell_type": "markdown",
      "metadata": {
        "id": "VUnofnf1U3Fu",
        "colab_type": "text"
      },
      "source": [
        "### if you use np.all() and np.any(), we can extract rows and columns with keeping the dimensionality.\n",
        "<br>numpy.all() : extract rows and columns that all elements meet the conditions<br>\n",
        "nummpy.any() : extract rows and columns that have at least one element that satisfies the condition."
      ]
    },
    {
      "cell_type": "code",
      "metadata": {
        "id": "pOmxdOiPUZhl",
        "colab_type": "code",
        "colab": {
          "base_uri": "https://localhost:8080/",
          "height": 119
        },
        "outputId": "b1cf7310-9c15-49cb-eadf-692d4d192c45"
      },
      "source": [
        "print(a < 5)\n",
        "print(np.all(a < 5))\n",
        "print(np.all(a < 5, axis = 0)) # columns\n",
        "print(np.all(a < 5, axis = 1)) # rows"
      ],
      "execution_count": 17,
      "outputs": [
        {
          "output_type": "stream",
          "text": [
            "[[ True  True  True  True]\n",
            " [ True False False False]\n",
            " [False False False False]]\n",
            "False\n",
            "[False False False False]\n",
            "[ True False False]\n"
          ],
          "name": "stdout"
        }
      ]
    },
    {
      "cell_type": "code",
      "metadata": {
        "id": "y_sUbNGBVqNX",
        "colab_type": "code",
        "colab": {
          "base_uri": "https://localhost:8080/",
          "height": 102
        },
        "outputId": "97483ad1-8892-4a77-9228-820a97b4a2c3"
      },
      "source": [
        "print(a < 10)\n",
        "print(np.all(a < 10, axis = 0))\n",
        "print(np.all(a < 10, axis = 1))"
      ],
      "execution_count": 18,
      "outputs": [
        {
          "output_type": "stream",
          "text": [
            "[[ True  True  True  True]\n",
            " [ True  True  True  True]\n",
            " [ True  True False False]]\n",
            "[ True  True False False]\n",
            "[ True  True False]\n"
          ],
          "name": "stdout"
        }
      ]
    },
    {
      "cell_type": "markdown",
      "metadata": {
        "id": "iI0nUc_wWmXe",
        "colab_type": "text"
      },
      "source": [
        "### 'Index Reference' : [rows, columns]"
      ]
    },
    {
      "cell_type": "code",
      "metadata": {
        "id": "EyCp8aTSV5C3",
        "colab_type": "code",
        "colab": {
          "base_uri": "https://localhost:8080/",
          "height": 136
        },
        "outputId": "dedec127-3bf5-41f1-bb22-0c4bb0f33afc"
      },
      "source": [
        "print(a[:, np.all(a < 10, axis = 0)])\n",
        "print(a[np.all(a < 10, axis = 1), :])\n",
        "print(a[np.all(a < 10, axis = 1)])"
      ],
      "execution_count": 19,
      "outputs": [
        {
          "output_type": "stream",
          "text": [
            "[[0 1]\n",
            " [4 5]\n",
            " [8 9]]\n",
            "[[0 1 2 3]\n",
            " [4 5 6 7]]\n",
            "[[0 1 2 3]\n",
            " [4 5 6 7]]\n"
          ],
          "name": "stdout"
        }
      ]
    },
    {
      "cell_type": "code",
      "metadata": {
        "id": "RAJJx-vBW0M0",
        "colab_type": "code",
        "colab": {
          "base_uri": "https://localhost:8080/",
          "height": 34
        },
        "outputId": "ea45aec2-ee56-4230-e1cc-9151ad5a1958"
      },
      "source": [
        "print(a[:, np.all(a < 5, axis = 0)])"
      ],
      "execution_count": 20,
      "outputs": [
        {
          "output_type": "stream",
          "text": [
            "[]\n"
          ],
          "name": "stdout"
        }
      ]
    },
    {
      "cell_type": "code",
      "metadata": {
        "id": "q9KKtDZDXJg8",
        "colab_type": "code",
        "colab": {
          "base_uri": "https://localhost:8080/",
          "height": 68
        },
        "outputId": "43a44436-e50c-4dbf-e277-cf2384edfdd0"
      },
      "source": [
        "print(a[np.all(a < 5, axis = 1)])\n",
        "print(a[np.all(a < 5, axis = 1)].ndim)\n",
        "print(a[np.all(a < 5, axis = 1)].shape)"
      ],
      "execution_count": 21,
      "outputs": [
        {
          "output_type": "stream",
          "text": [
            "[[0 1 2 3]]\n",
            "2\n",
            "(1, 4)\n"
          ],
          "name": "stdout"
        }
      ]
    },
    {
      "cell_type": "markdown",
      "metadata": {
        "id": "r4ad2ziPXgWe",
        "colab_type": "text"
      },
      "source": [
        "#### numpy.any()\n",
        "\n",
        "have at least one element"
      ]
    },
    {
      "cell_type": "code",
      "metadata": {
        "id": "ELGVOD4UXequ",
        "colab_type": "code",
        "colab": {
          "base_uri": "https://localhost:8080/",
          "height": 119
        },
        "outputId": "01977da0-2561-437d-bfd1-7b4bd3199a50"
      },
      "source": [
        "print(a < 5)\n",
        "print(np.any(a < 5))\n",
        "print(np.any(a < 5, axis = 0))\n",
        "print(np.any(a < 5, axis = 1))"
      ],
      "execution_count": 22,
      "outputs": [
        {
          "output_type": "stream",
          "text": [
            "[[ True  True  True  True]\n",
            " [ True False False False]\n",
            " [False False False False]]\n",
            "True\n",
            "[ True  True  True  True]\n",
            "[ True  True False]\n"
          ],
          "name": "stdout"
        }
      ]
    },
    {
      "cell_type": "code",
      "metadata": {
        "id": "feRRLvgbYQAv",
        "colab_type": "code",
        "colab": {
          "base_uri": "https://localhost:8080/",
          "height": 102
        },
        "outputId": "8f2f4e44-d760-42ce-cef9-0fa719a45d11"
      },
      "source": [
        "print(a[:, np.any(a < 5, axis = 0)]) # all elements\n",
        "print(a[np.any(a < 5, axis = 1)])"
      ],
      "execution_count": 23,
      "outputs": [
        {
          "output_type": "stream",
          "text": [
            "[[ 0  1  2  3]\n",
            " [ 4  5  6  7]\n",
            " [ 8  9 10 11]]\n",
            "[[0 1 2 3]\n",
            " [4 5 6 7]]\n"
          ],
          "name": "stdout"
        }
      ]
    },
    {
      "cell_type": "markdown",
      "metadata": {
        "id": "k2Zu1N3SY6mP",
        "colab_type": "text"
      },
      "source": [
        "### delete this, using ~ , numpy.delete() and numpy.where()"
      ]
    },
    {
      "cell_type": "code",
      "metadata": {
        "id": "zR2qemn3YbfK",
        "colab_type": "code",
        "colab": {
          "base_uri": "https://localhost:8080/",
          "height": 136
        },
        "outputId": "82b281fa-187c-402b-cfde-2dd9551027ea"
      },
      "source": [
        "print(a[~(a < 5)])\n",
        "print(a[:, np.all(a < 10, axis = 0)])\n",
        "print(a[:, ~np.all(a < 10, axis = 0)])"
      ],
      "execution_count": 24,
      "outputs": [
        {
          "output_type": "stream",
          "text": [
            "[ 5  6  7  8  9 10 11]\n",
            "[[0 1]\n",
            " [4 5]\n",
            " [8 9]]\n",
            "[[ 2  3]\n",
            " [ 6  7]\n",
            " [10 11]]\n"
          ],
          "name": "stdout"
        }
      ]
    },
    {
      "cell_type": "code",
      "metadata": {
        "id": "PZRH1G8EZHAX",
        "colab_type": "code",
        "colab": {
          "base_uri": "https://localhost:8080/",
          "height": 68
        },
        "outputId": "102d2167-e8c8-43ed-d219-27bae38f6e84"
      },
      "source": [
        "print(a[np.any(a < 5, axis = 1)])\n",
        "print(a[~np.any(a < 5, axis = 1)])"
      ],
      "execution_count": 25,
      "outputs": [
        {
          "output_type": "stream",
          "text": [
            "[[0 1 2 3]\n",
            " [4 5 6 7]]\n",
            "[[ 8  9 10 11]]\n"
          ],
          "name": "stdout"
        }
      ]
    },
    {
      "cell_type": "code",
      "metadata": {
        "id": "lX7GZ1GLZOLO",
        "colab_type": "code",
        "colab": {
          "base_uri": "https://localhost:8080/",
          "height": 136
        },
        "outputId": "11c4a3da-58a6-496b-c821-c60216613fa2"
      },
      "source": [
        "print(a)\n",
        "print(np.delete(a, [0,2], axis = 0)) # difference... axis = 0 is deleting 'rows'.\n",
        "print(np.delete(a, [0, 2], axis = 1))"
      ],
      "execution_count": 27,
      "outputs": [
        {
          "output_type": "stream",
          "text": [
            "[[ 0  1  2  3]\n",
            " [ 4  5  6  7]\n",
            " [ 8  9 10 11]]\n",
            "[[4 5 6 7]]\n",
            "[[ 1  3]\n",
            " [ 5  7]\n",
            " [ 9 11]]\n"
          ],
          "name": "stdout"
        }
      ]
    },
    {
      "cell_type": "code",
      "metadata": {
        "id": "ND-AM7ImZZk-",
        "colab_type": "code",
        "colab": {
          "base_uri": "https://localhost:8080/",
          "height": 85
        },
        "outputId": "43346528-03cb-4fda-94b3-d275b0cb64ae"
      },
      "source": [
        "print(a < 2)\n",
        "print(np.where(a < 2))"
      ],
      "execution_count": 28,
      "outputs": [
        {
          "output_type": "stream",
          "text": [
            "[[ True  True False False]\n",
            " [False False False False]\n",
            " [False False False False]]\n",
            "(array([0, 0]), array([0, 1]))\n"
          ],
          "name": "stdout"
        }
      ]
    },
    {
      "cell_type": "code",
      "metadata": {
        "id": "O8QgbTewaEnv",
        "colab_type": "code",
        "colab": {
          "base_uri": "https://localhost:8080/",
          "height": 51
        },
        "outputId": "b3136e22-5103-461d-97fe-1c460a1dac4c"
      },
      "source": [
        "print(np.where(a < 2)[0])\n",
        "print(np.where(a < 2)[1])"
      ],
      "execution_count": 29,
      "outputs": [
        {
          "output_type": "stream",
          "text": [
            "[0 0]\n",
            "[0 1]\n"
          ],
          "name": "stdout"
        }
      ]
    },
    {
      "cell_type": "markdown",
      "metadata": {
        "id": "-xiqOcQiaKuR",
        "colab_type": "text"
      },
      "source": [
        "### combination this two functions ^-^"
      ]
    },
    {
      "cell_type": "code",
      "metadata": {
        "id": "3CMbYOiHaIao",
        "colab_type": "code",
        "colab": {
          "base_uri": "https://localhost:8080/",
          "height": 272
        },
        "outputId": "957bc769-9005-4fec-bd9e-2681129734b3"
      },
      "source": [
        "print(np.delete(a, np.where(a < 2)[0], axis = 0))\n",
        "print(np.delete(a, np.where(a < 2)[1], axis = 1))\n",
        "print(a == 6)\n",
        "print(np.where(a == 6))\n",
        "print(np.delete(a, np.where(a == 6)))\n",
        "print(np.delete(a, np.where(a == 6)[0], axis = 0))\n",
        "print(np.delete(a, np.where(a == 6)[1], axis = 1))"
      ],
      "execution_count": 32,
      "outputs": [
        {
          "output_type": "stream",
          "text": [
            "[[ 4  5  6  7]\n",
            " [ 8  9 10 11]]\n",
            "[[ 2  3]\n",
            " [ 6  7]\n",
            " [10 11]]\n",
            "[[False False False False]\n",
            " [False False  True False]\n",
            " [False False False False]]\n",
            "(array([1]), array([2]))\n",
            "[ 0  3  4  5  6  7  8  9 10 11]\n",
            "[[ 0  1  2  3]\n",
            " [ 8  9 10 11]]\n",
            "[[ 0  1  3]\n",
            " [ 4  5  7]\n",
            " [ 8  9 11]]\n"
          ],
          "name": "stdout"
        }
      ]
    },
    {
      "cell_type": "markdown",
      "metadata": {
        "id": "mV54Jal9bAXQ",
        "colab_type": "text"
      },
      "source": [
        "### multiple condition"
      ]
    },
    {
      "cell_type": "code",
      "metadata": {
        "id": "C3UzzrUkak6H",
        "colab_type": "code",
        "colab": {
          "base_uri": "https://localhost:8080/",
          "height": 34
        },
        "outputId": "45ac4775-be65-41ed-d73d-a694ec20cdc0"
      },
      "source": [
        "print(a[(a < 10) & (a % 2 == 1)] )"
      ],
      "execution_count": 33,
      "outputs": [
        {
          "output_type": "stream",
          "text": [
            "[1 3 5 7 9]\n"
          ],
          "name": "stdout"
        }
      ]
    },
    {
      "cell_type": "code",
      "metadata": {
        "id": "3R7OMW0EbGXV",
        "colab_type": "code",
        "colab": {
          "base_uri": "https://localhost:8080/",
          "height": 51
        },
        "outputId": "03cd1ba8-ea2c-4458-c3be-8394e47a61c6"
      },
      "source": [
        "print(a[np.any((a == 2) | (a == 10), axis = 1)])"
      ],
      "execution_count": 34,
      "outputs": [
        {
          "output_type": "stream",
          "text": [
            "[[ 0  1  2  3]\n",
            " [ 8  9 10 11]]\n"
          ],
          "name": "stdout"
        }
      ]
    },
    {
      "cell_type": "code",
      "metadata": {
        "id": "jh3ImOZHbOkO",
        "colab_type": "code",
        "colab": {
          "base_uri": "https://localhost:8080/",
          "height": 34
        },
        "outputId": "291d0577-816a-4697-e3d7-a86a301ff65e"
      },
      "source": [
        "print(np.any((a == 2),axis = 1))"
      ],
      "execution_count": 36,
      "outputs": [
        {
          "output_type": "stream",
          "text": [
            "[ True False False]\n"
          ],
          "name": "stdout"
        }
      ]
    },
    {
      "cell_type": "code",
      "metadata": {
        "id": "ulq_-3VUbdB_",
        "colab_type": "code",
        "colab": {
          "base_uri": "https://localhost:8080/",
          "height": 34
        },
        "outputId": "12448898-0dfe-4d27-c5d7-2499302d2fc5"
      },
      "source": [
        "print(np.any((a == 10), axis = 1))"
      ],
      "execution_count": 37,
      "outputs": [
        {
          "output_type": "stream",
          "text": [
            "[False False  True]\n"
          ],
          "name": "stdout"
        }
      ]
    },
    {
      "cell_type": "code",
      "metadata": {
        "id": "RwhUlDpjbto9",
        "colab_type": "code",
        "colab": {
          "base_uri": "https://localhost:8080/",
          "height": 34
        },
        "outputId": "f606d21c-7524-49c3-f988-da14bb96127f"
      },
      "source": [
        "print(np.any((a == 2) | (a == 10), axis = 1))"
      ],
      "execution_count": 39,
      "outputs": [
        {
          "output_type": "stream",
          "text": [
            "[ True False  True]\n"
          ],
          "name": "stdout"
        }
      ]
    },
    {
      "cell_type": "code",
      "metadata": {
        "id": "11AV54pxbzxf",
        "colab_type": "code",
        "colab": {}
      },
      "source": [
        "# 該当する行を抽出してるだけ any だから　deleteしたわけじゃない"
      ],
      "execution_count": 40,
      "outputs": []
    },
    {
      "cell_type": "code",
      "metadata": {
        "id": "jCz-TW2Vb-T_",
        "colab_type": "code",
        "colab": {
          "base_uri": "https://localhost:8080/",
          "height": 68
        },
        "outputId": "0734783c-1e00-4976-bb76-9ccf1994e288"
      },
      "source": [
        "print(a[:, ~np.any((a == 2) | (a == 10), axis = 0)])"
      ],
      "execution_count": 41,
      "outputs": [
        {
          "output_type": "stream",
          "text": [
            "[[ 0  1  3]\n",
            " [ 4  5  7]\n",
            " [ 8  9 11]]\n"
          ],
          "name": "stdout"
        }
      ]
    },
    {
      "cell_type": "markdown",
      "metadata": {
        "id": "3XcdmWgRyh4k",
        "colab_type": "text"
      },
      "source": [
        "# Count Number of Elements"
      ]
    },
    {
      "cell_type": "code",
      "metadata": {
        "id": "90K2mOUicF-f",
        "colab_type": "code",
        "colab": {
          "base_uri": "https://localhost:8080/",
          "height": 170
        },
        "outputId": "4287d539-b614-4d43-8620-f7db5f3f807d"
      },
      "source": [
        "import numpy as np\n",
        "a = np.arange(12).reshape((3,4))\n",
        "print(a)\n",
        "print(a < 4)\n",
        "print(a % 2 == 1)"
      ],
      "execution_count": 1,
      "outputs": [
        {
          "output_type": "stream",
          "text": [
            "[[ 0  1  2  3]\n",
            " [ 4  5  6  7]\n",
            " [ 8  9 10 11]]\n",
            "[[ True  True  True  True]\n",
            " [False False False False]\n",
            " [False False False False]]\n",
            "[[False  True False  True]\n",
            " [False  True False  True]\n",
            " [False  True False  True]]\n"
          ],
          "name": "stdout"
        }
      ]
    },
    {
      "cell_type": "markdown",
      "metadata": {
        "id": "puALFh3wzhiQ",
        "colab_type": "text"
      },
      "source": [
        "## if you use np.count_nonzero() , count True numbers"
      ]
    },
    {
      "cell_type": "code",
      "metadata": {
        "id": "9NeD-HmCzIED",
        "colab_type": "code",
        "colab": {
          "base_uri": "https://localhost:8080/",
          "height": 51
        },
        "outputId": "bd4e42e7-5ff4-4d76-cbdd-3ba4a82faa79"
      },
      "source": [
        "print(np.count_nonzero(a < 4))\n",
        "print(np.count_nonzero(a%2 == 1))"
      ],
      "execution_count": 2,
      "outputs": [
        {
          "output_type": "stream",
          "text": [
            "4\n",
            "6\n"
          ],
          "name": "stdout"
        }
      ]
    },
    {
      "cell_type": "markdown",
      "metadata": {
        "id": "mW9i0OaozxFr",
        "colab_type": "text"
      },
      "source": [
        "### or use np.sum()"
      ]
    },
    {
      "cell_type": "code",
      "metadata": {
        "id": "VSp6x1BAzpQz",
        "colab_type": "code",
        "colab": {
          "base_uri": "https://localhost:8080/",
          "height": 51
        },
        "outputId": "c4d06714-8945-48b4-da4e-2174fd904dab"
      },
      "source": [
        "print(np.sum(a < 4))\n",
        "print(np.sum(a % 2 == 1))"
      ],
      "execution_count": 3,
      "outputs": [
        {
          "output_type": "stream",
          "text": [
            "4\n",
            "6\n"
          ],
          "name": "stdout"
        }
      ]
    },
    {
      "cell_type": "markdown",
      "metadata": {
        "id": "fFGh8rDhz5h7",
        "colab_type": "text"
      },
      "source": [
        "### if you designate 'axis' in np.count_nonzero(), process each axis !"
      ]
    },
    {
      "cell_type": "code",
      "metadata": {
        "id": "goO1Mf8Az1DU",
        "colab_type": "code",
        "colab": {
          "base_uri": "https://localhost:8080/",
          "height": 51
        },
        "outputId": "b09e78c5-97ac-4ae4-a8d4-72d3271aefb6"
      },
      "source": [
        "print(np.count_nonzero(a < 4, axis = 0))\n",
        "print(np.count_nonzero(a <4 , axis = 1))"
      ],
      "execution_count": 4,
      "outputs": [
        {
          "output_type": "stream",
          "text": [
            "[1 1 1 1]\n",
            "[4 0 0]\n"
          ],
          "name": "stdout"
        }
      ]
    },
    {
      "cell_type": "code",
      "metadata": {
        "id": "h4SufQOc0POG",
        "colab_type": "code",
        "colab": {
          "base_uri": "https://localhost:8080/",
          "height": 51
        },
        "outputId": "6ef64167-9c5b-40c0-a02c-16a91490b6d3"
      },
      "source": [
        "print(np.count_nonzero(a % 2 == 1, axis = 0))\n",
        "print(np.count_nonzero(a % 2 == 1, axis = 1))"
      ],
      "execution_count": 5,
      "outputs": [
        {
          "output_type": "stream",
          "text": [
            "[0 3 0 3]\n",
            "[2 2 2]\n"
          ],
          "name": "stdout"
        }
      ]
    },
    {
      "cell_type": "markdown",
      "metadata": {
        "id": "hTV7jNbc0iRM",
        "colab_type": "text"
      },
      "source": [
        "## numpy.any() is ok ? in ndarray"
      ]
    },
    {
      "cell_type": "code",
      "metadata": {
        "id": "qFfoogdI0ba6",
        "colab_type": "code",
        "colab": {
          "base_uri": "https://localhost:8080/",
          "height": 51
        },
        "outputId": "cef0ce3d-9356-4b78-ddc7-19c1734a97ae"
      },
      "source": [
        "print(np.any(a < 4))\n",
        "print(np.any(a >100))"
      ],
      "execution_count": 6,
      "outputs": [
        {
          "output_type": "stream",
          "text": [
            "True\n",
            "False\n"
          ],
          "name": "stdout"
        }
      ]
    },
    {
      "cell_type": "code",
      "metadata": {
        "id": "OFzBXQDS0pEq",
        "colab_type": "code",
        "colab": {
          "base_uri": "https://localhost:8080/",
          "height": 51
        },
        "outputId": "3b2eb96c-e943-4c2d-ed9f-27a102deacef"
      },
      "source": [
        "print(np.any(a < 4, axis = 0))\n",
        "print(np.any(a < 4, axis = 1))"
      ],
      "execution_count": 7,
      "outputs": [
        {
          "output_type": "stream",
          "text": [
            "[ True  True  True  True]\n",
            "[ True False False]\n"
          ],
          "name": "stdout"
        }
      ]
    },
    {
      "cell_type": "markdown",
      "metadata": {
        "id": "kF-xniGV1VFw",
        "colab_type": "text"
      },
      "source": [
        "## numpy.all() is ok ? "
      ]
    },
    {
      "cell_type": "code",
      "metadata": {
        "id": "sQJQd4p20t8C",
        "colab_type": "code",
        "colab": {
          "base_uri": "https://localhost:8080/",
          "height": 51
        },
        "outputId": "ef20a7b7-9bb0-43ff-ae6b-9b84bb0d9d3c"
      },
      "source": [
        "print(np.all(a < 4))\n",
        "print(np.all(a < 100))"
      ],
      "execution_count": 8,
      "outputs": [
        {
          "output_type": "stream",
          "text": [
            "False\n",
            "True\n"
          ],
          "name": "stdout"
        }
      ]
    },
    {
      "cell_type": "code",
      "metadata": {
        "id": "7UmnsbZr1al3",
        "colab_type": "code",
        "colab": {
          "base_uri": "https://localhost:8080/",
          "height": 34
        },
        "outputId": "92224d71-582c-42f6-b062-ef1a30121382"
      },
      "source": [
        "print(np.all(a < 4, axis = 0))"
      ],
      "execution_count": 11,
      "outputs": [
        {
          "output_type": "stream",
          "text": [
            "[False False False False]\n"
          ],
          "name": "stdout"
        }
      ]
    },
    {
      "cell_type": "code",
      "metadata": {
        "id": "r587Z4jP1cHj",
        "colab_type": "code",
        "colab": {
          "base_uri": "https://localhost:8080/",
          "height": 34
        },
        "outputId": "4b768d7c-a05e-4676-c93c-ecaa9be4d2a7"
      },
      "source": [
        "print(np.all(a < 4, axis = 1))"
      ],
      "execution_count": 10,
      "outputs": [
        {
          "output_type": "stream",
          "text": [
            "[ True False False]\n"
          ],
          "name": "stdout"
        }
      ]
    },
    {
      "cell_type": "markdown",
      "metadata": {
        "id": "8LUNs4xk1wU9",
        "colab_type": "text"
      },
      "source": [
        "# multiple Condition"
      ]
    },
    {
      "cell_type": "code",
      "metadata": {
        "id": "0hLLNL_E1fkC",
        "colab_type": "code",
        "colab": {
          "base_uri": "https://localhost:8080/",
          "height": 68
        },
        "outputId": "6fadf4ee-87af-4d4d-cfb7-58b8f23dd796"
      },
      "source": [
        "print((a < 4) | (a % 2 == 1))"
      ],
      "execution_count": 12,
      "outputs": [
        {
          "output_type": "stream",
          "text": [
            "[[ True  True  True  True]\n",
            " [False  True False  True]\n",
            " [False  True False  True]]\n"
          ],
          "name": "stdout"
        }
      ]
    },
    {
      "cell_type": "code",
      "metadata": {
        "id": "zjtrcL6N2Hsr",
        "colab_type": "code",
        "colab": {
          "base_uri": "https://localhost:8080/",
          "height": 34
        },
        "outputId": "5ab065b1-6764-4fb6-b49d-2e1f21f05524"
      },
      "source": [
        "print(np.count_nonzero((a < 4) | (a % 2 == 1)))"
      ],
      "execution_count": 13,
      "outputs": [
        {
          "output_type": "stream",
          "text": [
            "8\n"
          ],
          "name": "stdout"
        }
      ]
    },
    {
      "cell_type": "code",
      "metadata": {
        "id": "texG7A5B2Ksi",
        "colab_type": "code",
        "colab": {
          "base_uri": "https://localhost:8080/",
          "height": 51
        },
        "outputId": "5d369b8d-a1b7-41dd-a2d9-056dacf5c567"
      },
      "source": [
        "print(np.count_nonzero((a < 4) | (a % 2 == 1), axis = 0))\n",
        "print(np.count_nonzero((a < 4) | (a % 2 == 1), axis = 1))"
      ],
      "execution_count": 14,
      "outputs": [
        {
          "output_type": "stream",
          "text": [
            "[1 3 1 3]\n",
            "[4 2 2]\n"
          ],
          "name": "stdout"
        }
      ]
    },
    {
      "cell_type": "markdown",
      "metadata": {
        "id": "L6-jMZW42Uao",
        "colab_type": "text"
      },
      "source": [
        "# Count 'NaN' and 'inf'"
      ]
    },
    {
      "cell_type": "code",
      "metadata": {
        "id": "xgU4I9B72TWE",
        "colab_type": "code",
        "colab": {
          "base_uri": "https://localhost:8080/",
          "height": 68
        },
        "outputId": "b1582164-c9bb-4614-f025-720be5b4f913"
      },
      "source": [
        "a_nan = np.genfromtxt('./sample_nan.csv', delimiter = ',')\n",
        "print(a_nan)"
      ],
      "execution_count": 16,
      "outputs": [
        {
          "output_type": "stream",
          "text": [
            "[[11. 12. nan 14.]\n",
            " [21. nan nan 24.]\n",
            " [31. 32. 33. 34.]]\n"
          ],
          "name": "stdout"
        }
      ]
    },
    {
      "cell_type": "markdown",
      "metadata": {
        "id": "U_ndvjWC24D7",
        "colab_type": "text"
      },
      "source": [
        "make NaN by np.nan and float('nan')"
      ]
    },
    {
      "cell_type": "markdown",
      "metadata": {
        "id": "0ekkr3x63AkS",
        "colab_type": "text"
      },
      "source": [
        "### if you count NaN, use 'np.isnan()'."
      ]
    },
    {
      "cell_type": "code",
      "metadata": {
        "id": "IvY0vKey2ymd",
        "colab_type": "code",
        "colab": {
          "base_uri": "https://localhost:8080/",
          "height": 34
        },
        "outputId": "2ea5c0a6-19b0-4d38-eb2c-98d28d87fe89"
      },
      "source": [
        "print(np.nan == np.nan) # nan is not comparable"
      ],
      "execution_count": 17,
      "outputs": [
        {
          "output_type": "stream",
          "text": [
            "False\n"
          ],
          "name": "stdout"
        }
      ]
    },
    {
      "cell_type": "code",
      "metadata": {
        "id": "Jc5xZeGQ3I6J",
        "colab_type": "code",
        "colab": {
          "base_uri": "https://localhost:8080/",
          "height": 68
        },
        "outputId": "2c5f560d-d699-4343-dc11-fce75fe383a5"
      },
      "source": [
        "print(a_nan == np.nan) # no !"
      ],
      "execution_count": 18,
      "outputs": [
        {
          "output_type": "stream",
          "text": [
            "[[False False False False]\n",
            " [False False False False]\n",
            " [False False False False]]\n"
          ],
          "name": "stdout"
        }
      ]
    },
    {
      "cell_type": "code",
      "metadata": {
        "id": "mdgKxjnP3MMb",
        "colab_type": "code",
        "colab": {
          "base_uri": "https://localhost:8080/",
          "height": 68
        },
        "outputId": "03fd35c5-39d9-4f43-ff12-60ad7792d6a3"
      },
      "source": [
        "print(np.isnan(a_nan)) # but we can count NaN by using np.isnan()"
      ],
      "execution_count": 19,
      "outputs": [
        {
          "output_type": "stream",
          "text": [
            "[[False False  True False]\n",
            " [False  True  True False]\n",
            " [False False False False]]\n"
          ],
          "name": "stdout"
        }
      ]
    },
    {
      "cell_type": "markdown",
      "metadata": {
        "id": "Pyi7rR7p3dAo",
        "colab_type": "text"
      },
      "source": [
        "# apply np.count_nonzero(np.isnan())"
      ]
    },
    {
      "cell_type": "code",
      "metadata": {
        "id": "GGrjYn3k3bWH",
        "colab_type": "code",
        "colab": {
          "base_uri": "https://localhost:8080/",
          "height": 51
        },
        "outputId": "8c9c080d-d5ee-4fda-db7e-83d381a68e47"
      },
      "source": [
        "print(np.count_nonzero(np.isnan(a_nan)))\n",
        "print(np.count_nonzero(np.isnan(a_nan), axis = 0))"
      ],
      "execution_count": 20,
      "outputs": [
        {
          "output_type": "stream",
          "text": [
            "3\n",
            "[0 1 2 0]\n"
          ],
          "name": "stdout"
        }
      ]
    },
    {
      "cell_type": "code",
      "metadata": {
        "id": "fAZLM6T03mar",
        "colab_type": "code",
        "colab": {
          "base_uri": "https://localhost:8080/",
          "height": 34
        },
        "outputId": "46ca0328-b8e2-4992-a174-83aec0a21545"
      },
      "source": [
        "print(np.count_nonzero(np.isnan(a_nan), axis = 1))"
      ],
      "execution_count": 21,
      "outputs": [
        {
          "output_type": "stream",
          "text": [
            "[1 2 0]\n"
          ],
          "name": "stdout"
        }
      ]
    },
    {
      "cell_type": "markdown",
      "metadata": {
        "id": "-mLDPkmH3uiZ",
        "colab_type": "text"
      },
      "source": [
        "## if you count 'not NaN', use ~."
      ]
    },
    {
      "cell_type": "code",
      "metadata": {
        "id": "P1TdReJv3qrM",
        "colab_type": "code",
        "colab": {
          "base_uri": "https://localhost:8080/",
          "height": 68
        },
        "outputId": "9d7e392b-d25e-43d1-8b30-e3c499066387"
      },
      "source": [
        "print(~np.isnan(a_nan))"
      ],
      "execution_count": 22,
      "outputs": [
        {
          "output_type": "stream",
          "text": [
            "[[ True  True False  True]\n",
            " [ True False False  True]\n",
            " [ True  True  True  True]]\n"
          ],
          "name": "stdout"
        }
      ]
    },
    {
      "cell_type": "markdown",
      "metadata": {
        "id": "uOQeU_BA5A_V",
        "colab_type": "text"
      },
      "source": [
        "# use 'np.isinf()'"
      ]
    },
    {
      "cell_type": "code",
      "metadata": {
        "id": "WbMNmtz0311f",
        "colab_type": "code",
        "colab": {
          "base_uri": "https://localhost:8080/",
          "height": 51
        },
        "outputId": "0d674479-f693-47a0-d6d9-a30ebee2fd5e"
      },
      "source": [
        "a_inf = np.array([-np.inf, 0, np.inf])\n",
        "print(a_inf)\n",
        "print(np.isinf(a_inf))"
      ],
      "execution_count": 23,
      "outputs": [
        {
          "output_type": "stream",
          "text": [
            "[-inf   0.  inf]\n",
            "[ True False  True]\n"
          ],
          "name": "stdout"
        }
      ]
    },
    {
      "cell_type": "markdown",
      "metadata": {
        "id": "KfEWXg8A5M4W",
        "colab_type": "text"
      },
      "source": [
        "## Unlike 'NaN', you can use '=='. "
      ]
    },
    {
      "cell_type": "code",
      "metadata": {
        "id": "-un5qC285LxL",
        "colab_type": "code",
        "colab": {
          "base_uri": "https://localhost:8080/",
          "height": 51
        },
        "outputId": "5440b66c-93d0-46fc-9a09-99ab20c083d7"
      },
      "source": [
        "print(a_inf == np.inf)\n",
        "print(a_inf == -np.inf)"
      ],
      "execution_count": 24,
      "outputs": [
        {
          "output_type": "stream",
          "text": [
            "[False False  True]\n",
            "[ True False False]\n"
          ],
          "name": "stdout"
        }
      ]
    },
    {
      "cell_type": "code",
      "metadata": {
        "id": "uAVcNMOe5l2s",
        "colab_type": "code",
        "colab": {}
      },
      "source": [
        ""
      ],
      "execution_count": null,
      "outputs": []
    }
  ]
}