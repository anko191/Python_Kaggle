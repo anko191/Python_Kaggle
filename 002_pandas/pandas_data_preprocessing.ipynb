{
  "nbformat": 4,
  "nbformat_minor": 0,
  "metadata": {
    "colab": {
      "name": "pandas_data_preprocessing",
      "provenance": [],
      "collapsed_sections": [],
      "authorship_tag": "ABX9TyPC4Xp9NRKTqDnM0vHhMFeK",
      "include_colab_link": true
    },
    "kernelspec": {
      "name": "python3",
      "display_name": "Python 3"
    }
  },
  "cells": [
    {
      "cell_type": "markdown",
      "metadata": {
        "id": "view-in-github",
        "colab_type": "text"
      },
      "source": [
        "<a href=\"https://colab.research.google.com/github/anko191/Python_Kaggle/blob/master/pandas/pandas_data_preprocessing.ipynb\" target=\"_parent\"><img src=\"https://colab.research.google.com/assets/colab-badge.svg\" alt=\"Open In Colab\"/></a>"
      ]
    },
    {
      "cell_type": "code",
      "metadata": {
        "id": "Nce4ON7kvxDa",
        "colab_type": "code",
        "colab": {
          "base_uri": "https://localhost:8080/",
          "height": 153
        },
        "outputId": "a0f35d47-83aa-442b-bbae-9832486445cd"
      },
      "source": [
        "import pandas as pd\n",
        "import numpy as np\n",
        "df = pd.read_csv('/content/sample_pandas_normal.csv', index_col = 0)\n",
        "df['sex'] = ['female', np.nan, 'male', 'male', 'female', 'male']\n",
        "df['rank'] = [2,1,1,0,2,0]\n",
        "print(df)"
      ],
      "execution_count": 38,
      "outputs": [
        {
          "output_type": "stream",
          "text": [
            "         age state  point     sex  rank\n",
            "name                                   \n",
            "Alice     24    NY     64  female     2\n",
            "Bob       42    CA     92     NaN     1\n",
            "Charlie   18    CA     70    male     1\n",
            "Dave      68    TX     70    male     0\n",
            "Ellen     24    CA     88  female     2\n",
            "Frank     30    NY     57    male     0\n"
          ],
          "name": "stdout"
        }
      ]
    },
    {
      "cell_type": "code",
      "metadata": {
        "id": "m1uL8k1RwARJ",
        "colab_type": "code",
        "colab": {
          "base_uri": "https://localhost:8080/",
          "height": 153
        },
        "outputId": "83c9324f-63ff-4838-9e9d-7bbd6f13f91b"
      },
      "source": [
        "df = pd.get_dummies(df)\n",
        "print(df)"
      ],
      "execution_count": 36,
      "outputs": [
        {
          "output_type": "stream",
          "text": [
            "         age  point  rank  state_CA  state_NY  state_TX  sex_female  sex_male\n",
            "name                                                                         \n",
            "Alice     24     64     2         0         1         0           1         0\n",
            "Bob       42     92     1         1         0         0           0         0\n",
            "Charlie   18     70     1         1         0         0           0         1\n",
            "Dave      68     70     0         0         0         1           0         1\n",
            "Ellen     24     88     2         1         0         0           1         0\n",
            "Frank     30     57     0         0         1         0           0         1\n"
          ],
          "name": "stdout"
        }
      ]
    },
    {
      "cell_type": "code",
      "metadata": {
        "id": "4IwV87nM6rgX",
        "colab_type": "code",
        "colab": {
          "base_uri": "https://localhost:8080/",
          "height": 238
        },
        "outputId": "aa422ab1-8ec0-4847-dc30-c2df8ebad6c4"
      },
      "source": [
        "print(pd.get_dummies(df['sex']))\n",
        "print(pd.get_dummies(['male', 1, 1, 2]))"
      ],
      "execution_count": 39,
      "outputs": [
        {
          "output_type": "stream",
          "text": [
            "         female  male\n",
            "name                 \n",
            "Alice         1     0\n",
            "Bob           0     0\n",
            "Charlie       0     1\n",
            "Dave          0     1\n",
            "Ellen         1     0\n",
            "Frank         0     1\n",
            "   1  2  male\n",
            "0  0  0     1\n",
            "1  1  0     0\n",
            "2  1  0     0\n",
            "3  0  1     0\n"
          ],
          "name": "stdout"
        }
      ]
    },
    {
      "cell_type": "code",
      "metadata": {
        "id": "27cbVj5R7DDC",
        "colab_type": "code",
        "colab": {
          "base_uri": "https://localhost:8080/",
          "height": 136
        },
        "outputId": "c6b4f934-0b6f-4bb4-a40e-6c6eb9d23637"
      },
      "source": [
        "print(pd.get_dummies(np.arange(6)))"
      ],
      "execution_count": 40,
      "outputs": [
        {
          "output_type": "stream",
          "text": [
            "   0  1  2  3  4  5\n",
            "0  1  0  0  0  0  0\n",
            "1  0  1  0  0  0  0\n",
            "2  0  0  1  0  0  0\n",
            "3  0  0  0  1  0  0\n",
            "4  0  0  0  0  1  0\n",
            "5  0  0  0  0  0  1\n"
          ],
          "name": "stdout"
        }
      ]
    },
    {
      "cell_type": "code",
      "metadata": {
        "id": "5YO96psR7LUj",
        "colab_type": "code",
        "colab": {
          "base_uri": "https://localhost:8080/",
          "height": 153
        },
        "outputId": "53e3b85b-96c4-4c0a-94d2-7e4449264da2"
      },
      "source": [
        "print(pd.get_dummies(df))"
      ],
      "execution_count": 41,
      "outputs": [
        {
          "output_type": "stream",
          "text": [
            "         age  point  rank  state_CA  state_NY  state_TX  sex_female  sex_male\n",
            "name                                                                         \n",
            "Alice     24     64     2         0         1         0           1         0\n",
            "Bob       42     92     1         1         0         0           0         0\n",
            "Charlie   18     70     1         1         0         0           0         1\n",
            "Dave      68     70     0         0         0         1           0         1\n",
            "Ellen     24     88     2         1         0         0           1         0\n",
            "Frank     30     57     0         0         1         0           0         1\n"
          ],
          "name": "stdout"
        }
      ]
    },
    {
      "cell_type": "code",
      "metadata": {
        "id": "mw3YvuJi7XTt",
        "colab_type": "code",
        "colab": {
          "base_uri": "https://localhost:8080/",
          "height": 153
        },
        "outputId": "77c787df-9e64-44cc-bbb1-12715d8225b2"
      },
      "source": [
        "print(pd.get_dummies(df, drop_first = True))"
      ],
      "execution_count": 42,
      "outputs": [
        {
          "output_type": "stream",
          "text": [
            "         age  point  rank  state_NY  state_TX  sex_male\n",
            "name                                                   \n",
            "Alice     24     64     2         1         0         0\n",
            "Bob       42     92     1         0         0         0\n",
            "Charlie   18     70     1         0         0         1\n",
            "Dave      68     70     0         0         1         1\n",
            "Ellen     24     88     2         0         0         0\n",
            "Frank     30     57     0         1         0         1\n"
          ],
          "name": "stdout"
        }
      ]
    },
    {
      "cell_type": "code",
      "metadata": {
        "id": "AXjMPLLv7kLb",
        "colab_type": "code",
        "colab": {
          "base_uri": "https://localhost:8080/",
          "height": 153
        },
        "outputId": "fc14b4de-791e-4a5b-e2fd-244970fed5ef"
      },
      "source": [
        "print(pd.get_dummies(df, drop_first=True, dummy_na = True))"
      ],
      "execution_count": 43,
      "outputs": [
        {
          "output_type": "stream",
          "text": [
            "         age  point  rank  state_NY  state_TX  state_nan  sex_male  sex_nan\n",
            "name                                                                       \n",
            "Alice     24     64     2         1         0          0         0        0\n",
            "Bob       42     92     1         0         0          0         0        1\n",
            "Charlie   18     70     1         0         0          0         1        0\n",
            "Dave      68     70     0         0         1          0         1        0\n",
            "Ellen     24     88     2         0         0          0         0        0\n",
            "Frank     30     57     0         1         0          0         1        0\n"
          ],
          "name": "stdout"
        }
      ]
    },
    {
      "cell_type": "code",
      "metadata": {
        "id": "_b05bX0p7vFz",
        "colab_type": "code",
        "colab": {
          "base_uri": "https://localhost:8080/",
          "height": 153
        },
        "outputId": "054fc207-6d23-4d9f-b32a-b401cdf1db58"
      },
      "source": [
        "print(pd.get_dummies(df, drop_first=True, prefix='', prefix_sep=''))"
      ],
      "execution_count": 44,
      "outputs": [
        {
          "output_type": "stream",
          "text": [
            "         age  point  rank  NY  TX  male\n",
            "name                                   \n",
            "Alice     24     64     2   1   0     0\n",
            "Bob       42     92     1   0   0     0\n",
            "Charlie   18     70     1   0   0     1\n",
            "Dave      68     70     0   0   1     1\n",
            "Ellen     24     88     2   0   0     0\n",
            "Frank     30     57     0   1   0     1\n"
          ],
          "name": "stdout"
        }
      ]
    },
    {
      "cell_type": "code",
      "metadata": {
        "id": "N3BO4Dst8Bsc",
        "colab_type": "code",
        "colab": {
          "base_uri": "https://localhost:8080/",
          "height": 153
        },
        "outputId": "bf7af6ab-17b1-4c17-ac30-e837fcb121ef"
      },
      "source": [
        "print(pd.get_dummies(df, drop_first=True, prefix=['ST', 'sex'], prefix_sep='-'))"
      ],
      "execution_count": 45,
      "outputs": [
        {
          "output_type": "stream",
          "text": [
            "         age  point  rank  ST-NY  ST-TX  sex-male\n",
            "name                                             \n",
            "Alice     24     64     2      1      0         0\n",
            "Bob       42     92     1      0      0         0\n",
            "Charlie   18     70     1      0      0         1\n",
            "Dave      68     70     0      0      1         1\n",
            "Ellen     24     88     2      0      0         0\n",
            "Frank     30     57     0      1      0         1\n"
          ],
          "name": "stdout"
        }
      ]
    },
    {
      "cell_type": "code",
      "metadata": {
        "id": "nrc9i70Y_5QE",
        "colab_type": "code",
        "colab": {
          "base_uri": "https://localhost:8080/",
          "height": 153
        },
        "outputId": "5402c5c3-6614-4e80-b274-b0f5d7115153"
      },
      "source": [
        "print(pd.get_dummies(df, drop_first=True, prefix={'state':'ST', 'sex':'sex'}, prefix_sep = '-'))"
      ],
      "execution_count": 46,
      "outputs": [
        {
          "output_type": "stream",
          "text": [
            "         age  point  rank  ST-NY  ST-TX  sex-male\n",
            "name                                             \n",
            "Alice     24     64     2      1      0         0\n",
            "Bob       42     92     1      0      0         0\n",
            "Charlie   18     70     1      0      0         1\n",
            "Dave      68     70     0      0      1         1\n",
            "Ellen     24     88     2      0      0         0\n",
            "Frank     30     57     0      1      0         1\n"
          ],
          "name": "stdout"
        }
      ]
    },
    {
      "cell_type": "code",
      "metadata": {
        "id": "1matFbm8ADXk",
        "colab_type": "code",
        "colab": {
          "base_uri": "https://localhost:8080/",
          "height": 153
        },
        "outputId": "1a6e82e1-3e29-41d9-8664-62c563e745eb"
      },
      "source": [
        "print(pd.get_dummies(df, drop_first=True, columns = ['sex', 'rank']))"
      ],
      "execution_count": 47,
      "outputs": [
        {
          "output_type": "stream",
          "text": [
            "         age state  point  sex_male  rank_1  rank_2\n",
            "name                                               \n",
            "Alice     24    NY     64         0       0       1\n",
            "Bob       42    CA     92         0       1       0\n",
            "Charlie   18    CA     70         1       1       0\n",
            "Dave      68    TX     70         1       0       0\n",
            "Ellen     24    CA     88         0       0       1\n",
            "Frank     30    NY     57         1       0       0\n"
          ],
          "name": "stdout"
        }
      ]
    },
    {
      "cell_type": "code",
      "metadata": {
        "id": "GstYLhLcAO12",
        "colab_type": "code",
        "colab": {
          "base_uri": "https://localhost:8080/",
          "height": 153
        },
        "outputId": "9b94eb85-9105-4e88-f449-f9d57427b0f8"
      },
      "source": [
        "df['rank'] = df['rank'].astype(object)\n",
        "print(pd.get_dummies(df, drop_first=True))"
      ],
      "execution_count": 48,
      "outputs": [
        {
          "output_type": "stream",
          "text": [
            "         age  point  state_NY  state_TX  sex_male  rank_1  rank_2\n",
            "name                                                             \n",
            "Alice     24     64         1         0         0       0       1\n",
            "Bob       42     92         0         0         0       1       0\n",
            "Charlie   18     70         0         0         1       1       0\n",
            "Dave      68     70         0         1         1       0       0\n",
            "Ellen     24     88         0         0         0       0       1\n",
            "Frank     30     57         1         0         1       0       0\n"
          ],
          "name": "stdout"
        }
      ]
    },
    {
      "cell_type": "code",
      "metadata": {
        "id": "39guxeTMAhZd",
        "colab_type": "code",
        "colab": {
          "base_uri": "https://localhost:8080/",
          "height": 153
        },
        "outputId": "0311305b-f8d4-4dfb-ea94-3e7c7e1a7837"
      },
      "source": [
        "print(df['state'].map({'CA':0, 'NY':1, 'TX':2}))"
      ],
      "execution_count": 49,
      "outputs": [
        {
          "output_type": "stream",
          "text": [
            "name\n",
            "Alice      1\n",
            "Bob        0\n",
            "Charlie    0\n",
            "Dave       2\n",
            "Ellen      0\n",
            "Frank      1\n",
            "Name: state, dtype: int64\n"
          ],
          "name": "stdout"
        }
      ]
    },
    {
      "cell_type": "code",
      "metadata": {
        "id": "rjgzz_0cApld",
        "colab_type": "code",
        "colab": {
          "base_uri": "https://localhost:8080/",
          "height": 153
        },
        "outputId": "57641252-862f-4e51-f6b9-7ae2aa871701"
      },
      "source": [
        "df['state'] = df['state'].map({'CA':0, 'NY':1, 'TX':2})\n",
        "print(df)"
      ],
      "execution_count": 50,
      "outputs": [
        {
          "output_type": "stream",
          "text": [
            "         age  state  point     sex rank\n",
            "name                                   \n",
            "Alice     24      1     64  female    2\n",
            "Bob       42      0     92     NaN    1\n",
            "Charlie   18      0     70    male    1\n",
            "Dave      68      2     70    male    0\n",
            "Ellen     24      0     88  female    2\n",
            "Frank     30      1     57    male    0\n"
          ],
          "name": "stdout"
        }
      ]
    },
    {
      "cell_type": "code",
      "metadata": {
        "id": "2z1tasLiAxaV",
        "colab_type": "code",
        "colab": {
          "base_uri": "https://localhost:8080/",
          "height": 266
        },
        "outputId": "b207d586-6405-4d31-f279-17e3f1b7f98e"
      },
      "source": [
        "df"
      ],
      "execution_count": 51,
      "outputs": [
        {
          "output_type": "execute_result",
          "data": {
            "text/html": [
              "<div>\n",
              "<style scoped>\n",
              "    .dataframe tbody tr th:only-of-type {\n",
              "        vertical-align: middle;\n",
              "    }\n",
              "\n",
              "    .dataframe tbody tr th {\n",
              "        vertical-align: top;\n",
              "    }\n",
              "\n",
              "    .dataframe thead th {\n",
              "        text-align: right;\n",
              "    }\n",
              "</style>\n",
              "<table border=\"1\" class=\"dataframe\">\n",
              "  <thead>\n",
              "    <tr style=\"text-align: right;\">\n",
              "      <th></th>\n",
              "      <th>age</th>\n",
              "      <th>state</th>\n",
              "      <th>point</th>\n",
              "      <th>sex</th>\n",
              "      <th>rank</th>\n",
              "    </tr>\n",
              "    <tr>\n",
              "      <th>name</th>\n",
              "      <th></th>\n",
              "      <th></th>\n",
              "      <th></th>\n",
              "      <th></th>\n",
              "      <th></th>\n",
              "    </tr>\n",
              "  </thead>\n",
              "  <tbody>\n",
              "    <tr>\n",
              "      <th>Alice</th>\n",
              "      <td>24</td>\n",
              "      <td>1</td>\n",
              "      <td>64</td>\n",
              "      <td>female</td>\n",
              "      <td>2</td>\n",
              "    </tr>\n",
              "    <tr>\n",
              "      <th>Bob</th>\n",
              "      <td>42</td>\n",
              "      <td>0</td>\n",
              "      <td>92</td>\n",
              "      <td>NaN</td>\n",
              "      <td>1</td>\n",
              "    </tr>\n",
              "    <tr>\n",
              "      <th>Charlie</th>\n",
              "      <td>18</td>\n",
              "      <td>0</td>\n",
              "      <td>70</td>\n",
              "      <td>male</td>\n",
              "      <td>1</td>\n",
              "    </tr>\n",
              "    <tr>\n",
              "      <th>Dave</th>\n",
              "      <td>68</td>\n",
              "      <td>2</td>\n",
              "      <td>70</td>\n",
              "      <td>male</td>\n",
              "      <td>0</td>\n",
              "    </tr>\n",
              "    <tr>\n",
              "      <th>Ellen</th>\n",
              "      <td>24</td>\n",
              "      <td>0</td>\n",
              "      <td>88</td>\n",
              "      <td>female</td>\n",
              "      <td>2</td>\n",
              "    </tr>\n",
              "    <tr>\n",
              "      <th>Frank</th>\n",
              "      <td>30</td>\n",
              "      <td>1</td>\n",
              "      <td>57</td>\n",
              "      <td>male</td>\n",
              "      <td>0</td>\n",
              "    </tr>\n",
              "  </tbody>\n",
              "</table>\n",
              "</div>"
            ],
            "text/plain": [
              "         age  state  point     sex rank\n",
              "name                                   \n",
              "Alice     24      1     64  female    2\n",
              "Bob       42      0     92     NaN    1\n",
              "Charlie   18      0     70    male    1\n",
              "Dave      68      2     70    male    0\n",
              "Ellen     24      0     88  female    2\n",
              "Frank     30      1     57    male    0"
            ]
          },
          "metadata": {
            "tags": []
          },
          "execution_count": 51
        }
      ]
    },
    {
      "cell_type": "code",
      "metadata": {
        "id": "DMI_c-bvBDw2",
        "colab_type": "code",
        "colab": {
          "base_uri": "https://localhost:8080/",
          "height": 187
        },
        "outputId": "d116d88e-bfd0-45d1-9bf0-5135e7e8247f"
      },
      "source": [
        "df = pd.read_csv('/content/sample_pandas_normal.csv', index_col = 0)\n",
        "df_A, df_B = df[:3].copy(), df[3:].copy()\n",
        "print(df_A)\n",
        "print(df_B)"
      ],
      "execution_count": 52,
      "outputs": [
        {
          "output_type": "stream",
          "text": [
            "         age state  point\n",
            "name                     \n",
            "Alice     24    NY     64\n",
            "Bob       42    CA     92\n",
            "Charlie   18    CA     70\n",
            "       age state  point\n",
            "name                   \n",
            "Dave    68    TX     70\n",
            "Ellen   24    CA     88\n",
            "Frank   30    NY     57\n"
          ],
          "name": "stdout"
        }
      ]
    },
    {
      "cell_type": "code",
      "metadata": {
        "id": "hkSssq9VBP8U",
        "colab_type": "code",
        "colab": {
          "base_uri": "https://localhost:8080/",
          "height": 187
        },
        "outputId": "314a3fb1-fbce-4eb4-b4cc-cfb49a574a58"
      },
      "source": [
        "print(pd.get_dummies(df_A))\n",
        "print(pd.get_dummies(df_B))"
      ],
      "execution_count": 53,
      "outputs": [
        {
          "output_type": "stream",
          "text": [
            "         age  point  state_CA  state_NY\n",
            "name                                   \n",
            "Alice     24     64         0         1\n",
            "Bob       42     92         1         0\n",
            "Charlie   18     70         1         0\n",
            "       age  point  state_CA  state_NY  state_TX\n",
            "name                                           \n",
            "Dave    68     70         0         0         1\n",
            "Ellen   24     88         1         0         0\n",
            "Frank   30     57         0         1         0\n"
          ],
          "name": "stdout"
        }
      ]
    },
    {
      "cell_type": "code",
      "metadata": {
        "id": "MnRPzc0ZBWJ9",
        "colab_type": "code",
        "colab": {
          "base_uri": "https://localhost:8080/",
          "height": 34
        },
        "outputId": "219c725e-314f-40fe-c1ab-fdfcd1386422"
      },
      "source": [
        "categories = set(df_A['state'].unique().tolist() + df_B['state'].unique().tolist())\n",
        "print(categories)"
      ],
      "execution_count": 54,
      "outputs": [
        {
          "output_type": "stream",
          "text": [
            "{'TX', 'CA', 'NY'}\n"
          ],
          "name": "stdout"
        }
      ]
    },
    {
      "cell_type": "code",
      "metadata": {
        "id": "F8GkxBcdBn2F",
        "colab_type": "code",
        "colab": {
          "base_uri": "https://localhost:8080/",
          "height": 102
        },
        "outputId": "54683a4a-4964-4490-d8be-2189ea52cbb2"
      },
      "source": [
        "df_A['state'] = pd.Categorical(df_A['state'], categories=categories)\n",
        "print(df_A)"
      ],
      "execution_count": 56,
      "outputs": [
        {
          "output_type": "stream",
          "text": [
            "         age state  point\n",
            "name                     \n",
            "Alice     24    NY     64\n",
            "Bob       42    CA     92\n",
            "Charlie   18    CA     70\n"
          ],
          "name": "stdout"
        }
      ]
    },
    {
      "cell_type": "code",
      "metadata": {
        "id": "MMwvI_efBvot",
        "colab_type": "code",
        "colab": {
          "base_uri": "https://localhost:8080/",
          "height": 266
        },
        "outputId": "35e18b82-3d1d-49bf-fa2b-06e7745f28e6"
      },
      "source": [
        "df"
      ],
      "execution_count": 57,
      "outputs": [
        {
          "output_type": "execute_result",
          "data": {
            "text/html": [
              "<div>\n",
              "<style scoped>\n",
              "    .dataframe tbody tr th:only-of-type {\n",
              "        vertical-align: middle;\n",
              "    }\n",
              "\n",
              "    .dataframe tbody tr th {\n",
              "        vertical-align: top;\n",
              "    }\n",
              "\n",
              "    .dataframe thead th {\n",
              "        text-align: right;\n",
              "    }\n",
              "</style>\n",
              "<table border=\"1\" class=\"dataframe\">\n",
              "  <thead>\n",
              "    <tr style=\"text-align: right;\">\n",
              "      <th></th>\n",
              "      <th>age</th>\n",
              "      <th>state</th>\n",
              "      <th>point</th>\n",
              "    </tr>\n",
              "    <tr>\n",
              "      <th>name</th>\n",
              "      <th></th>\n",
              "      <th></th>\n",
              "      <th></th>\n",
              "    </tr>\n",
              "  </thead>\n",
              "  <tbody>\n",
              "    <tr>\n",
              "      <th>Alice</th>\n",
              "      <td>24</td>\n",
              "      <td>NY</td>\n",
              "      <td>64</td>\n",
              "    </tr>\n",
              "    <tr>\n",
              "      <th>Bob</th>\n",
              "      <td>42</td>\n",
              "      <td>CA</td>\n",
              "      <td>92</td>\n",
              "    </tr>\n",
              "    <tr>\n",
              "      <th>Charlie</th>\n",
              "      <td>18</td>\n",
              "      <td>CA</td>\n",
              "      <td>70</td>\n",
              "    </tr>\n",
              "    <tr>\n",
              "      <th>Dave</th>\n",
              "      <td>68</td>\n",
              "      <td>TX</td>\n",
              "      <td>70</td>\n",
              "    </tr>\n",
              "    <tr>\n",
              "      <th>Ellen</th>\n",
              "      <td>24</td>\n",
              "      <td>CA</td>\n",
              "      <td>88</td>\n",
              "    </tr>\n",
              "    <tr>\n",
              "      <th>Frank</th>\n",
              "      <td>30</td>\n",
              "      <td>NY</td>\n",
              "      <td>57</td>\n",
              "    </tr>\n",
              "  </tbody>\n",
              "</table>\n",
              "</div>"
            ],
            "text/plain": [
              "         age state  point\n",
              "name                     \n",
              "Alice     24    NY     64\n",
              "Bob       42    CA     92\n",
              "Charlie   18    CA     70\n",
              "Dave      68    TX     70\n",
              "Ellen     24    CA     88\n",
              "Frank     30    NY     57"
            ]
          },
          "metadata": {
            "tags": []
          },
          "execution_count": 57
        }
      ]
    },
    {
      "cell_type": "code",
      "metadata": {
        "id": "d8qMfdw7Bzf1",
        "colab_type": "code",
        "colab": {}
      },
      "source": [
        "df_B['state'] = pd.Categorical(df_B['state'], categories=categories)"
      ],
      "execution_count": 58,
      "outputs": []
    },
    {
      "cell_type": "code",
      "metadata": {
        "id": "MTzgKPflB5xY",
        "colab_type": "code",
        "colab": {
          "base_uri": "https://localhost:8080/",
          "height": 34
        },
        "outputId": "ec576902-9f14-44fa-c155-30a7fdff78af"
      },
      "source": [
        "print(df_A['state'].dtypes)"
      ],
      "execution_count": 59,
      "outputs": [
        {
          "output_type": "stream",
          "text": [
            "category\n"
          ],
          "name": "stdout"
        }
      ]
    },
    {
      "cell_type": "code",
      "metadata": {
        "id": "9HBBTJc9B7eN",
        "colab_type": "code",
        "colab": {
          "base_uri": "https://localhost:8080/",
          "height": 187
        },
        "outputId": "90f37dde-762f-45b6-87ff-e8a05dd9a3ac"
      },
      "source": [
        "print(pd.get_dummies(df_A))\n",
        "print(pd.get_dummies(df_B))"
      ],
      "execution_count": 60,
      "outputs": [
        {
          "output_type": "stream",
          "text": [
            "         age  point  state_TX  state_CA  state_NY\n",
            "name                                             \n",
            "Alice     24     64         0         0         1\n",
            "Bob       42     92         0         1         0\n",
            "Charlie   18     70         0         1         0\n",
            "       age  point  state_TX  state_CA  state_NY\n",
            "name                                           \n",
            "Dave    68     70         1         0         0\n",
            "Ellen   24     88         0         1         0\n",
            "Frank   30     57         0         0         1\n"
          ],
          "name": "stdout"
        }
      ]
    },
    {
      "cell_type": "code",
      "metadata": {
        "id": "OKNi5nSeHjL_",
        "colab_type": "code",
        "colab": {
          "base_uri": "https://localhost:8080/",
          "height": 102
        },
        "outputId": "039ae144-08e6-451a-f3f1-84c483d7caaf"
      },
      "source": [
        "df = pd.read_csv('/content/sample_pandas_normal.csv', index_col = 0)\n",
        "df_train, df_test = df[:3].copy(), df[3:].copy()\n",
        "categories = df_train['state'].unique()\n",
        "df_train['state'] = pd.Categorical(df_train['state'], categories=categories)\n",
        "df_test['state'] = pd.Categorical(df_test['state'], categories = categories)\n",
        "print(df_test)"
      ],
      "execution_count": 63,
      "outputs": [
        {
          "output_type": "stream",
          "text": [
            "       age state  point\n",
            "name                   \n",
            "Dave    68   NaN     70\n",
            "Ellen   24    CA     88\n",
            "Frank   30    NY     57\n"
          ],
          "name": "stdout"
        }
      ]
    },
    {
      "cell_type": "code",
      "metadata": {
        "id": "Vjda0yMBH-Fr",
        "colab_type": "code",
        "colab": {
          "base_uri": "https://localhost:8080/",
          "height": 187
        },
        "outputId": "8f884dab-b49e-4113-f907-7d3c96550a0f"
      },
      "source": [
        "print(pd.get_dummies(df_train))\n",
        "print(pd.get_dummies(df_test))"
      ],
      "execution_count": 64,
      "outputs": [
        {
          "output_type": "stream",
          "text": [
            "         age  point  state_NY  state_CA\n",
            "name                                   \n",
            "Alice     24     64         1         0\n",
            "Bob       42     92         0         1\n",
            "Charlie   18     70         0         1\n",
            "       age  point  state_NY  state_CA\n",
            "name                                 \n",
            "Dave    68     70         0         0\n",
            "Ellen   24     88         0         1\n",
            "Frank   30     57         1         0\n"
          ],
          "name": "stdout"
        }
      ]
    },
    {
      "cell_type": "code",
      "metadata": {
        "id": "C4bS1cbEIZfP",
        "colab_type": "code",
        "colab": {
          "base_uri": "https://localhost:8080/",
          "height": 34
        },
        "outputId": "fa0e2bbe-2961-435d-fa4b-f7e0922fffe8"
      },
      "source": [
        "df = pd.read_csv('/content/sample_pandas_normal.csv', index_col = 0)\n",
        "df_train, df_test = df[:3].copy(), df[3:].copy()\n",
        "cols = df_train.select_dtypes('object').columns\n",
        "print(cols)"
      ],
      "execution_count": 65,
      "outputs": [
        {
          "output_type": "stream",
          "text": [
            "Index(['state'], dtype='object')\n"
          ],
          "name": "stdout"
        }
      ]
    },
    {
      "cell_type": "code",
      "metadata": {
        "id": "vFbmjhBmIq9X",
        "colab_type": "code",
        "colab": {}
      },
      "source": [
        "for col in cols:\n",
        "    categories = df_train[col].unique()\n",
        "    df_train[col] = pd.Categorical(df_train[col], categories = categories)\n",
        "    df_test[col] = pd.Categorical(df_test[col], categories = categories)\n",
        "df_train = pd.get_dummies(df_train)\n",
        "df_test = pd.get_dummies(df_test)"
      ],
      "execution_count": 66,
      "outputs": []
    },
    {
      "cell_type": "code",
      "metadata": {
        "id": "RPjzEtdeJCsi",
        "colab_type": "code",
        "colab": {
          "base_uri": "https://localhost:8080/",
          "height": 102
        },
        "outputId": "5ca624bd-ea0a-4668-88ef-262d4cf3f4fc"
      },
      "source": [
        "print(df_train)"
      ],
      "execution_count": 67,
      "outputs": [
        {
          "output_type": "stream",
          "text": [
            "         age  point  state_NY  state_CA\n",
            "name                                   \n",
            "Alice     24     64         1         0\n",
            "Bob       42     92         0         1\n",
            "Charlie   18     70         0         1\n"
          ],
          "name": "stdout"
        }
      ]
    },
    {
      "cell_type": "code",
      "metadata": {
        "id": "58XA-UE0JEAX",
        "colab_type": "code",
        "colab": {
          "base_uri": "https://localhost:8080/",
          "height": 221
        },
        "outputId": "a00a3166-fb9a-4153-fc6c-7c62d2de2643"
      },
      "source": [
        "import pandas as pd\n",
        "s = pd.Series(data = [x**2 for x in range(11)], index = list('abcdefghijk'))\n",
        "print(s)"
      ],
      "execution_count": 68,
      "outputs": [
        {
          "output_type": "stream",
          "text": [
            "a      0\n",
            "b      1\n",
            "c      4\n",
            "d      9\n",
            "e     16\n",
            "f     25\n",
            "g     36\n",
            "h     49\n",
            "i     64\n",
            "j     81\n",
            "k    100\n",
            "dtype: int64\n"
          ],
          "name": "stdout"
        }
      ]
    },
    {
      "cell_type": "code",
      "metadata": {
        "id": "PvU-nslFMTqI",
        "colab_type": "code",
        "colab": {
          "base_uri": "https://localhost:8080/",
          "height": 258
        },
        "outputId": "69c40eff-46a8-43ef-ec3c-c1aeb2a350b8"
      },
      "source": [
        "s_cut = pd.cut(s, 4)\n",
        "print(s_cut)"
      ],
      "execution_count": 69,
      "outputs": [
        {
          "output_type": "stream",
          "text": [
            "a     (-0.1, 25.0]\n",
            "b     (-0.1, 25.0]\n",
            "c     (-0.1, 25.0]\n",
            "d     (-0.1, 25.0]\n",
            "e     (-0.1, 25.0]\n",
            "f     (-0.1, 25.0]\n",
            "g     (25.0, 50.0]\n",
            "h     (25.0, 50.0]\n",
            "i     (50.0, 75.0]\n",
            "j    (75.0, 100.0]\n",
            "k    (75.0, 100.0]\n",
            "dtype: category\n",
            "Categories (4, interval[float64]): [(-0.1, 25.0] < (25.0, 50.0] < (50.0, 75.0] < (75.0, 100.0]]\n"
          ],
          "name": "stdout"
        }
      ]
    },
    {
      "cell_type": "code",
      "metadata": {
        "id": "SNANU-xeMXmd",
        "colab_type": "code",
        "colab": {
          "base_uri": "https://localhost:8080/",
          "height": 238
        },
        "outputId": "0c5bb1c4-6932-43d8-b0cd-1a17abfa2d32"
      },
      "source": [
        "print(pd.cut(s, [0,10,50,100]))"
      ],
      "execution_count": 70,
      "outputs": [
        {
          "output_type": "stream",
          "text": [
            "a              NaN\n",
            "b      (0.0, 10.0]\n",
            "c      (0.0, 10.0]\n",
            "d      (0.0, 10.0]\n",
            "e     (10.0, 50.0]\n",
            "f     (10.0, 50.0]\n",
            "g     (10.0, 50.0]\n",
            "h     (10.0, 50.0]\n",
            "i    (50.0, 100.0]\n",
            "j    (50.0, 100.0]\n",
            "k    (50.0, 100.0]\n",
            "dtype: category\n",
            "Categories (3, interval[int64]): [(0, 10] < (10, 50] < (50, 100]]\n"
          ],
          "name": "stdout"
        }
      ]
    },
    {
      "cell_type": "code",
      "metadata": {
        "id": "W8B1ycbSMiPa",
        "colab_type": "code",
        "colab": {
          "base_uri": "https://localhost:8080/",
          "height": 258
        },
        "outputId": "da41cc16-a752-41f6-c378-3ddaae3ed9eb"
      },
      "source": [
        "s_cut, bins = pd.cut(s, 4, retbins=True)\n",
        "print(s_cut)"
      ],
      "execution_count": 71,
      "outputs": [
        {
          "output_type": "stream",
          "text": [
            "a     (-0.1, 25.0]\n",
            "b     (-0.1, 25.0]\n",
            "c     (-0.1, 25.0]\n",
            "d     (-0.1, 25.0]\n",
            "e     (-0.1, 25.0]\n",
            "f     (-0.1, 25.0]\n",
            "g     (25.0, 50.0]\n",
            "h     (25.0, 50.0]\n",
            "i     (50.0, 75.0]\n",
            "j    (75.0, 100.0]\n",
            "k    (75.0, 100.0]\n",
            "dtype: category\n",
            "Categories (4, interval[float64]): [(-0.1, 25.0] < (25.0, 50.0] < (50.0, 75.0] < (75.0, 100.0]]\n"
          ],
          "name": "stdout"
        }
      ]
    },
    {
      "cell_type": "code",
      "metadata": {
        "id": "5KpkXGGwNkLQ",
        "colab_type": "code",
        "colab": {
          "base_uri": "https://localhost:8080/",
          "height": 34
        },
        "outputId": "5742268d-2549-4dab-e9e2-69f0e2670807"
      },
      "source": [
        "print(bins)"
      ],
      "execution_count": 72,
      "outputs": [
        {
          "output_type": "stream",
          "text": [
            "[ -0.1  25.   50.   75.  100. ]\n"
          ],
          "name": "stdout"
        }
      ]
    },
    {
      "cell_type": "code",
      "metadata": {
        "id": "4xMlJ6a2NlFX",
        "colab_type": "code",
        "colab": {
          "base_uri": "https://localhost:8080/",
          "height": 258
        },
        "outputId": "7cc6780a-a309-44c5-eebf-63018cdb9853"
      },
      "source": [
        "print(pd.cut(s, 4, right = False))"
      ],
      "execution_count": 73,
      "outputs": [
        {
          "output_type": "stream",
          "text": [
            "a      [0.0, 25.0)\n",
            "b      [0.0, 25.0)\n",
            "c      [0.0, 25.0)\n",
            "d      [0.0, 25.0)\n",
            "e      [0.0, 25.0)\n",
            "f     [25.0, 50.0)\n",
            "g     [25.0, 50.0)\n",
            "h     [25.0, 50.0)\n",
            "i     [50.0, 75.0)\n",
            "j    [75.0, 100.1)\n",
            "k    [75.0, 100.1)\n",
            "dtype: category\n",
            "Categories (4, interval[float64]): [[0.0, 25.0) < [25.0, 50.0) < [50.0, 75.0) < [75.0, 100.1)]\n"
          ],
          "name": "stdout"
        }
      ]
    },
    {
      "cell_type": "code",
      "metadata": {
        "id": "6bLNsmf3N6xB",
        "colab_type": "code",
        "colab": {
          "base_uri": "https://localhost:8080/",
          "height": 221
        },
        "outputId": "276716b5-7a4d-4926-b770-0f7e604054e4"
      },
      "source": [
        "print(pd.cut(s, 4, labels = False))"
      ],
      "execution_count": 74,
      "outputs": [
        {
          "output_type": "stream",
          "text": [
            "a    0\n",
            "b    0\n",
            "c    0\n",
            "d    0\n",
            "e    0\n",
            "f    0\n",
            "g    1\n",
            "h    1\n",
            "i    2\n",
            "j    3\n",
            "k    3\n",
            "dtype: int64\n"
          ],
          "name": "stdout"
        }
      ]
    },
    {
      "cell_type": "code",
      "metadata": {
        "id": "rZQO33NWN9MY",
        "colab_type": "code",
        "colab": {
          "base_uri": "https://localhost:8080/",
          "height": 238
        },
        "outputId": "be1b42d7-1d0f-4ddd-f9ba-76a72fdba8b0"
      },
      "source": [
        "print(pd.cut(s, 4, labels = ['small', 'medium', 'large', 'x-large']))"
      ],
      "execution_count": 75,
      "outputs": [
        {
          "output_type": "stream",
          "text": [
            "a      small\n",
            "b      small\n",
            "c      small\n",
            "d      small\n",
            "e      small\n",
            "f      small\n",
            "g     medium\n",
            "h     medium\n",
            "i      large\n",
            "j    x-large\n",
            "k    x-large\n",
            "dtype: category\n",
            "Categories (4, object): [small < medium < large < x-large]\n"
          ],
          "name": "stdout"
        }
      ]
    },
    {
      "cell_type": "code",
      "metadata": {
        "id": "1GQmjYl_OGGQ",
        "colab_type": "code",
        "colab": {
          "base_uri": "https://localhost:8080/",
          "height": 238
        },
        "outputId": "fd180a15-dfbf-4c4d-8345-97ac295f876d"
      },
      "source": [
        "print(pd.cut(s,3))"
      ],
      "execution_count": 77,
      "outputs": [
        {
          "output_type": "stream",
          "text": [
            "a      (-0.1, 33.333]\n",
            "b      (-0.1, 33.333]\n",
            "c      (-0.1, 33.333]\n",
            "d      (-0.1, 33.333]\n",
            "e      (-0.1, 33.333]\n",
            "f      (-0.1, 33.333]\n",
            "g    (33.333, 66.667]\n",
            "h    (33.333, 66.667]\n",
            "i    (33.333, 66.667]\n",
            "j     (66.667, 100.0]\n",
            "k     (66.667, 100.0]\n",
            "dtype: category\n",
            "Categories (3, interval[float64]): [(-0.1, 33.333] < (33.333, 66.667] < (66.667, 100.0]]\n"
          ],
          "name": "stdout"
        }
      ]
    },
    {
      "cell_type": "code",
      "metadata": {
        "id": "Ahzhc4VqOIdp",
        "colab_type": "code",
        "colab": {
          "base_uri": "https://localhost:8080/",
          "height": 238
        },
        "outputId": "be0600b0-f58f-4469-917a-55185d2ea7be"
      },
      "source": [
        "print(pd.cut(s, 3, precision=1))"
      ],
      "execution_count": 80,
      "outputs": [
        {
          "output_type": "stream",
          "text": [
            "a     (-0.1, 33.3]\n",
            "b     (-0.1, 33.3]\n",
            "c     (-0.1, 33.3]\n",
            "d     (-0.1, 33.3]\n",
            "e     (-0.1, 33.3]\n",
            "f     (-0.1, 33.3]\n",
            "g     (33.3, 66.7]\n",
            "h     (33.3, 66.7]\n",
            "i     (33.3, 66.7]\n",
            "j    (66.7, 100.0]\n",
            "k    (66.7, 100.0]\n",
            "dtype: category\n",
            "Categories (3, interval[float64]): [(-0.1, 33.3] < (33.3, 66.7] < (66.7, 100.0]]\n"
          ],
          "name": "stdout"
        }
      ]
    },
    {
      "cell_type": "code",
      "metadata": {
        "id": "ofkNlQ4_OMhZ",
        "colab_type": "code",
        "colab": {
          "base_uri": "https://localhost:8080/",
          "height": 255
        },
        "outputId": "7ef43c56-64fe-4bbf-c190-bb46f2489e99"
      },
      "source": [
        "s_qcut, bins = pd.qcut(s, 4, labels=['Q1','Q2', 'Q3', 'Q4'], retbins = True)\n",
        "print(s_qcut)\n",
        "print(bins)"
      ],
      "execution_count": 81,
      "outputs": [
        {
          "output_type": "stream",
          "text": [
            "a    Q1\n",
            "b    Q1\n",
            "c    Q1\n",
            "d    Q2\n",
            "e    Q2\n",
            "f    Q2\n",
            "g    Q3\n",
            "h    Q3\n",
            "i    Q4\n",
            "j    Q4\n",
            "k    Q4\n",
            "dtype: category\n",
            "Categories (4, object): [Q1 < Q2 < Q3 < Q4]\n",
            "[  0.    6.5  25.   56.5 100. ]\n"
          ],
          "name": "stdout"
        }
      ]
    },
    {
      "cell_type": "code",
      "metadata": {
        "id": "ZFL2WarNOgrQ",
        "colab_type": "code",
        "colab": {}
      },
      "source": [
        "s_duplicate = pd.Series(data = [0,0,0,0,0,1,2,3,4,5,6], index = list('abcdefghijk'))"
      ],
      "execution_count": 82,
      "outputs": []
    },
    {
      "cell_type": "code",
      "metadata": {
        "id": "iUG0AYkDOrgw",
        "colab_type": "code",
        "colab": {
          "base_uri": "https://localhost:8080/",
          "height": 221
        },
        "outputId": "d430f248-dca9-4255-f501-9008d0f32302"
      },
      "source": [
        "print(s_duplicate)"
      ],
      "execution_count": 83,
      "outputs": [
        {
          "output_type": "stream",
          "text": [
            "a    0\n",
            "b    0\n",
            "c    0\n",
            "d    0\n",
            "e    0\n",
            "f    1\n",
            "g    2\n",
            "h    3\n",
            "i    4\n",
            "j    5\n",
            "k    6\n",
            "dtype: int64\n"
          ],
          "name": "stdout"
        }
      ]
    },
    {
      "cell_type": "code",
      "metadata": {
        "id": "bxE8b1MROsoA",
        "colab_type": "code",
        "colab": {
          "base_uri": "https://localhost:8080/",
          "height": 238
        },
        "outputId": "83ceed52-886f-4447-c0dd-e127846d7d7c"
      },
      "source": [
        "print(pd.qcut(s_duplicate, 2))"
      ],
      "execution_count": 84,
      "outputs": [
        {
          "output_type": "stream",
          "text": [
            "a    (-0.001, 1.0]\n",
            "b    (-0.001, 1.0]\n",
            "c    (-0.001, 1.0]\n",
            "d    (-0.001, 1.0]\n",
            "e    (-0.001, 1.0]\n",
            "f    (-0.001, 1.0]\n",
            "g       (1.0, 6.0]\n",
            "h       (1.0, 6.0]\n",
            "i       (1.0, 6.0]\n",
            "j       (1.0, 6.0]\n",
            "k       (1.0, 6.0]\n",
            "dtype: category\n",
            "Categories (2, interval[float64]): [(-0.001, 1.0] < (1.0, 6.0]]\n"
          ],
          "name": "stdout"
        }
      ]
    },
    {
      "cell_type": "code",
      "metadata": {
        "id": "DW5GvsO4O0fI",
        "colab_type": "code",
        "colab": {
          "base_uri": "https://localhost:8080/",
          "height": 238
        },
        "outputId": "2a5ca063-572f-460a-f1ad-76a8d447461f"
      },
      "source": [
        "print(pd.qcut(s_duplicate,4,duplicates='drop'))"
      ],
      "execution_count": 85,
      "outputs": [
        {
          "output_type": "stream",
          "text": [
            "a    (-0.001, 1.0]\n",
            "b    (-0.001, 1.0]\n",
            "c    (-0.001, 1.0]\n",
            "d    (-0.001, 1.0]\n",
            "e    (-0.001, 1.0]\n",
            "f    (-0.001, 1.0]\n",
            "g       (1.0, 3.5]\n",
            "h       (1.0, 3.5]\n",
            "i       (3.5, 6.0]\n",
            "j       (3.5, 6.0]\n",
            "k       (3.5, 6.0]\n",
            "dtype: category\n",
            "Categories (3, interval[float64]): [(-0.001, 1.0] < (1.0, 3.5] < (3.5, 6.0]]\n"
          ],
          "name": "stdout"
        }
      ]
    },
    {
      "cell_type": "code",
      "metadata": {
        "id": "TEDPJ2b_O9Hp",
        "colab_type": "code",
        "colab": {
          "base_uri": "https://localhost:8080/",
          "height": 85
        },
        "outputId": "57650c5f-320b-49fd-b448-991d0ae5dbba"
      },
      "source": [
        "counts = pd.cut(s, 3, labels=['S', 'M', 'L']).value_counts()\n",
        "print(counts)"
      ],
      "execution_count": 86,
      "outputs": [
        {
          "output_type": "stream",
          "text": [
            "S    6\n",
            "M    3\n",
            "L    2\n",
            "dtype: int64\n"
          ],
          "name": "stdout"
        }
      ]
    },
    {
      "cell_type": "code",
      "metadata": {
        "id": "lNnyn-4QPIdp",
        "colab_type": "code",
        "colab": {
          "base_uri": "https://localhost:8080/",
          "height": 34
        },
        "outputId": "29e25fd7-8afa-4b34-aeff-e90e9b25443c"
      },
      "source": [
        "print(type(counts))"
      ],
      "execution_count": 87,
      "outputs": [
        {
          "output_type": "stream",
          "text": [
            "<class 'pandas.core.series.Series'>\n"
          ],
          "name": "stdout"
        }
      ]
    },
    {
      "cell_type": "code",
      "metadata": {
        "id": "RREOE5qVPJbZ",
        "colab_type": "code",
        "colab": {
          "base_uri": "https://localhost:8080/",
          "height": 34
        },
        "outputId": "6ac570e3-09ac-40a5-8c60-e0588cdb30e2"
      },
      "source": [
        "print(counts['M'])"
      ],
      "execution_count": 88,
      "outputs": [
        {
          "output_type": "stream",
          "text": [
            "3\n"
          ],
          "name": "stdout"
        }
      ]
    },
    {
      "cell_type": "code",
      "metadata": {
        "id": "2JJKHgZuPKXZ",
        "colab_type": "code",
        "colab": {
          "base_uri": "https://localhost:8080/",
          "height": 85
        },
        "outputId": "2c67fbca-3aab-4b84-9581-996c0e07d5b3"
      },
      "source": [
        "print(pd.value_counts(pd.cut(s,3,labels=['S', 'M', 'L'])))"
      ],
      "execution_count": 89,
      "outputs": [
        {
          "output_type": "stream",
          "text": [
            "S    6\n",
            "M    3\n",
            "L    2\n",
            "dtype: int64\n"
          ],
          "name": "stdout"
        }
      ]
    },
    {
      "cell_type": "code",
      "metadata": {
        "id": "62O7eIu4PRyB",
        "colab_type": "code",
        "colab": {
          "base_uri": "https://localhost:8080/",
          "height": 85
        },
        "outputId": "341e5a66-bf0c-4496-fe84-f9eba82aae75"
      },
      "source": [
        "l = [x**2 for x in range(11)]\n",
        "print(l)\n",
        "l_cut = pd.cut(l, 3, labels = ['S', 'M','L'])\n",
        "print(l_cut)"
      ],
      "execution_count": 92,
      "outputs": [
        {
          "output_type": "stream",
          "text": [
            "[0, 1, 4, 9, 16, 25, 36, 49, 64, 81, 100]\n",
            "[S, S, S, S, S, ..., M, M, M, L, L]\n",
            "Length: 11\n",
            "Categories (3, object): [S < M < L]\n"
          ],
          "name": "stdout"
        }
      ]
    },
    {
      "cell_type": "code",
      "metadata": {
        "id": "CsISknzkP_sa",
        "colab_type": "code",
        "colab": {
          "base_uri": "https://localhost:8080/",
          "height": 34
        },
        "outputId": "abd4d078-77de-4e9b-8c5a-4263a3f6f9ab"
      },
      "source": [
        "print(list(l_cut))"
      ],
      "execution_count": 93,
      "outputs": [
        {
          "output_type": "stream",
          "text": [
            "['S', 'S', 'S', 'S', 'S', 'S', 'M', 'M', 'M', 'L', 'L']\n"
          ],
          "name": "stdout"
        }
      ]
    },
    {
      "cell_type": "code",
      "metadata": {
        "id": "4XC26cv0QJiY",
        "colab_type": "code",
        "colab": {
          "base_uri": "https://localhost:8080/",
          "height": 85
        },
        "outputId": "b942cfa3-ca44-49a2-a0ab-fee43a195827"
      },
      "source": [
        "print(pd.value_counts(l_cut))"
      ],
      "execution_count": 94,
      "outputs": [
        {
          "output_type": "stream",
          "text": [
            "S    6\n",
            "M    3\n",
            "L    2\n",
            "dtype: int64\n"
          ],
          "name": "stdout"
        }
      ]
    },
    {
      "cell_type": "code",
      "metadata": {
        "id": "3s5uejRnQNEB",
        "colab_type": "code",
        "colab": {
          "base_uri": "https://localhost:8080/",
          "height": 119
        },
        "outputId": "3277bfda-d721-49f9-afc7-1a820d0bd003"
      },
      "source": [
        "df_titanic = pd.read_csv('/content/titanic_train.csv').drop(['Name','Ticket', 'Cabin', 'Embarked'], axis = 1)\n",
        "print(df_titanic.head())"
      ],
      "execution_count": 95,
      "outputs": [
        {
          "output_type": "stream",
          "text": [
            "   PassengerId  Survived  Pclass     Sex   Age  SibSp  Parch     Fare\n",
            "0            1         0       3    male  22.0      1      0   7.2500\n",
            "1            2         1       1  female  38.0      1      0  71.2833\n",
            "2            3         1       3  female  26.0      0      0   7.9250\n",
            "3            4         1       1  female  35.0      1      0  53.1000\n",
            "4            5         0       3    male  35.0      0      0   8.0500\n"
          ],
          "name": "stdout"
        }
      ]
    },
    {
      "cell_type": "code",
      "metadata": {
        "id": "mJhteybAQpEM",
        "colab_type": "code",
        "colab": {
          "base_uri": "https://localhost:8080/",
          "height": 170
        },
        "outputId": "b81d7f93-2196-4055-8a12-2243bc44d751"
      },
      "source": [
        "print(df_titanic['Age'].describe())"
      ],
      "execution_count": 96,
      "outputs": [
        {
          "output_type": "stream",
          "text": [
            "count    714.000000\n",
            "mean      29.699118\n",
            "std       14.526497\n",
            "min        0.420000\n",
            "25%       20.125000\n",
            "50%       28.000000\n",
            "75%       38.000000\n",
            "max       80.000000\n",
            "Name: Age, dtype: float64\n"
          ],
          "name": "stdout"
        }
      ]
    },
    {
      "cell_type": "code",
      "metadata": {
        "id": "CKsNh4zNQxs6",
        "colab_type": "code",
        "colab": {
          "base_uri": "https://localhost:8080/",
          "height": 136
        },
        "outputId": "f767f88a-ee2b-4025-dd54-245a80dfbf6c"
      },
      "source": [
        "print(pd.cut(df_titanic['Age'],  5, precision=0).value_counts(sort=False,dropna=False))"
      ],
      "execution_count": 97,
      "outputs": [
        {
          "output_type": "stream",
          "text": [
            "(0.0, 16.0]     100\n",
            "(16.0, 32.0]    346\n",
            "(32.0, 48.0]    188\n",
            "(48.0, 64.0]     69\n",
            "(64.0, 80.0]     11\n",
            "NaN             177\n",
            "Name: Age, dtype: int64\n"
          ],
          "name": "stdout"
        }
      ]
    },
    {
      "cell_type": "code",
      "metadata": {
        "id": "nVXmlqeKROlR",
        "colab_type": "code",
        "colab": {}
      },
      "source": [
        "df_titanic['Age_bin'] = pd.cut(df_titanic['Age'], 5, labels = False)"
      ],
      "execution_count": 99,
      "outputs": []
    },
    {
      "cell_type": "code",
      "metadata": {
        "id": "vB097_drR-jx",
        "colab_type": "code",
        "colab": {
          "base_uri": "https://localhost:8080/",
          "height": 119
        },
        "outputId": "1178accd-e77e-485e-eced-c164f0d51afe"
      },
      "source": [
        "print(df_titanic.head())"
      ],
      "execution_count": 100,
      "outputs": [
        {
          "output_type": "stream",
          "text": [
            "   PassengerId  Survived  Pclass     Sex   Age  SibSp  Parch     Fare  Age_bin\n",
            "0            1         0       3    male  22.0      1      0   7.2500      1.0\n",
            "1            2         1       1  female  38.0      1      0  71.2833      2.0\n",
            "2            3         1       3  female  26.0      0      0   7.9250      1.0\n",
            "3            4         1       1  female  35.0      1      0  53.1000      2.0\n",
            "4            5         0       3    male  35.0      0      0   8.0500      2.0\n"
          ],
          "name": "stdout"
        }
      ]
    },
    {
      "cell_type": "code",
      "metadata": {
        "id": "CcLACKarSBi5",
        "colab_type": "code",
        "colab": {}
      },
      "source": [
        ""
      ],
      "execution_count": null,
      "outputs": []
    }
  ]
}