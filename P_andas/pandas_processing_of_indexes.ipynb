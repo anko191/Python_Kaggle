{
  "nbformat": 4,
  "nbformat_minor": 0,
  "metadata": {
    "colab": {
      "name": "pandas_processing_of_indexes",
      "provenance": [],
      "authorship_tag": "ABX9TyPzR4rsvgKiZrP0ZJzCCzOb",
      "include_colab_link": true
    },
    "kernelspec": {
      "name": "python3",
      "display_name": "Python 3"
    }
  },
  "cells": [
    {
      "cell_type": "markdown",
      "metadata": {
        "id": "view-in-github",
        "colab_type": "text"
      },
      "source": [
        "<a href=\"https://colab.research.google.com/github/anko191/Python_Kaggle/blob/master/pandas/pandas_processing_of_indexes.ipynb\" target=\"_parent\"><img src=\"https://colab.research.google.com/assets/colab-badge.svg\" alt=\"Open In Colab\"/></a>"
      ]
    },
    {
      "cell_type": "code",
      "metadata": {
        "id": "XgfeovLfk884",
        "colab_type": "code",
        "colab": {
          "base_uri": "https://localhost:8080/",
          "height": 85
        },
        "outputId": "e4e2dcfa-0bdd-4b36-9d12-db79527e9fe9"
      },
      "source": [
        "import pandas as pd\n",
        "df = pd.DataFrame({'A': [11,21,31],\n",
        "                   'B': [12,22,32],\n",
        "                   'C': [13, 23, 33]},\n",
        "                  index = ['ONE', 'TWO', 'THREE'])\n",
        "print(df)"
      ],
      "execution_count": 1,
      "outputs": [
        {
          "output_type": "stream",
          "text": [
            "        A   B   C\n",
            "ONE    11  12  13\n",
            "TWO    21  22  23\n",
            "THREE  31  32  33\n"
          ],
          "name": "stdout"
        }
      ]
    },
    {
      "cell_type": "code",
      "metadata": {
        "id": "kBvK6vEtlVU5",
        "colab_type": "code",
        "colab": {
          "base_uri": "https://localhost:8080/",
          "height": 153
        },
        "outputId": "be492a9b-a934-44ec-ab5a-f71fde72eaa4"
      },
      "source": [
        "df_new = df.rename(columns = {'A': 'a'}, index = {'ONE': 'one'})\n",
        "print(df_new)\n",
        "print(df)"
      ],
      "execution_count": 3,
      "outputs": [
        {
          "output_type": "stream",
          "text": [
            "        a   B   C\n",
            "one    11  12  13\n",
            "TWO    21  22  23\n",
            "THREE  31  32  33\n",
            "        A   B   C\n",
            "ONE    11  12  13\n",
            "TWO    21  22  23\n",
            "THREE  31  32  33\n"
          ],
          "name": "stdout"
        }
      ]
    },
    {
      "cell_type": "code",
      "metadata": {
        "id": "kaD1kuKyllJV",
        "colab_type": "code",
        "colab": {
          "base_uri": "https://localhost:8080/",
          "height": 85
        },
        "outputId": "5c2a71f7-d0dc-4b68-eb47-e7d216712b55"
      },
      "source": [
        "print(df.rename(columns = {'A':'a', 'C':'c'}))"
      ],
      "execution_count": 4,
      "outputs": [
        {
          "output_type": "stream",
          "text": [
            "        a   B   c\n",
            "ONE    11  12  13\n",
            "TWO    21  22  23\n",
            "THREE  31  32  33\n"
          ],
          "name": "stdout"
        }
      ]
    },
    {
      "cell_type": "code",
      "metadata": {
        "id": "5Qeukd3UmA5m",
        "colab_type": "code",
        "colab": {
          "base_uri": "https://localhost:8080/",
          "height": 85
        },
        "outputId": "d033abde-4f35-400d-d6f7-110359a7e96e"
      },
      "source": [
        "df_org = df.copy()\n",
        "df_org.rename(columns = {'A': 'a'}, index = {'ONE': 'one'}, inplace = True)\n",
        "print(df_org)"
      ],
      "execution_count": 5,
      "outputs": [
        {
          "output_type": "stream",
          "text": [
            "        a   B   C\n",
            "one    11  12  13\n",
            "TWO    21  22  23\n",
            "THREE  31  32  33\n"
          ],
          "name": "stdout"
        }
      ]
    },
    {
      "cell_type": "code",
      "metadata": {
        "id": "lv5zKmPrmJKO",
        "colab_type": "code",
        "colab": {
          "base_uri": "https://localhost:8080/",
          "height": 85
        },
        "outputId": "6ef7c451-2ffc-4896-9459-ab679f5cdea8"
      },
      "source": [
        "print(df.rename(columns = str.lower, index = str.title))"
      ],
      "execution_count": 6,
      "outputs": [
        {
          "output_type": "stream",
          "text": [
            "        a   b   c\n",
            "One    11  12  13\n",
            "Two    21  22  23\n",
            "Three  31  32  33\n"
          ],
          "name": "stdout"
        }
      ]
    },
    {
      "cell_type": "code",
      "metadata": {
        "id": "vKvAnBbZmS7-",
        "colab_type": "code",
        "colab": {
          "base_uri": "https://localhost:8080/",
          "height": 85
        },
        "outputId": "d7129fef-694c-4154-bb30-7445eeac3679"
      },
      "source": [
        "print(df.rename(columns = lambda s:s*3, index = lambda s: s+'!!'))"
      ],
      "execution_count": 8,
      "outputs": [
        {
          "output_type": "stream",
          "text": [
            "         AAA  BBB  CCC\n",
            "ONE!!     11   12   13\n",
            "TWO!!     21   22   23\n",
            "THREE!!   31   32   33\n"
          ],
          "name": "stdout"
        }
      ]
    },
    {
      "cell_type": "code",
      "metadata": {
        "id": "G1U19zn3mYaG",
        "colab_type": "code",
        "colab": {
          "base_uri": "https://localhost:8080/",
          "height": 153
        },
        "outputId": "f33a6635-9f54-4d01-eedc-ae6ab2934945"
      },
      "source": [
        "print(df.add_prefix('X_'))\n",
        "print(df.add_suffix('_X'))"
      ],
      "execution_count": 9,
      "outputs": [
        {
          "output_type": "stream",
          "text": [
            "       X_A  X_B  X_C\n",
            "ONE     11   12   13\n",
            "TWO     21   22   23\n",
            "THREE   31   32   33\n",
            "       A_X  B_X  C_X\n",
            "ONE     11   12   13\n",
            "TWO     21   22   23\n",
            "THREE   31   32   33\n"
          ],
          "name": "stdout"
        }
      ]
    },
    {
      "cell_type": "code",
      "metadata": {
        "id": "Cq3wiCTTmjDP",
        "colab_type": "code",
        "colab": {
          "base_uri": "https://localhost:8080/",
          "height": 85
        },
        "outputId": "3874e5c5-9c4a-4467-bd98-a3533dc81136"
      },
      "source": [
        "df.index = [1,2,3]\n",
        "df.columns = ['a', 'b', 'c']\n",
        "print(df)"
      ],
      "execution_count": 12,
      "outputs": [
        {
          "output_type": "stream",
          "text": [
            "    a   b   c\n",
            "1  11  12  13\n",
            "2  21  22  23\n",
            "3  31  32  33\n"
          ],
          "name": "stdout"
        }
      ]
    },
    {
      "cell_type": "code",
      "metadata": {
        "id": "3S1jvEv5mr6N",
        "colab_type": "code",
        "colab": {
          "base_uri": "https://localhost:8080/",
          "height": 85
        },
        "outputId": "94f68eb9-ae60-49ab-c496-020bac4fdda1"
      },
      "source": [
        "s = pd.Series([1,2,3], index = ['ONE', 'TWO', 'THREE'])\n",
        "print(s)"
      ],
      "execution_count": 13,
      "outputs": [
        {
          "output_type": "stream",
          "text": [
            "ONE      1\n",
            "TWO      2\n",
            "THREE    3\n",
            "dtype: int64\n"
          ],
          "name": "stdout"
        }
      ]
    },
    {
      "cell_type": "code",
      "metadata": {
        "id": "6pFyoGdlm5r9",
        "colab_type": "code",
        "colab": {
          "base_uri": "https://localhost:8080/",
          "height": 153
        },
        "outputId": "7dd2c339-a832-4c0c-a635-352030577d02"
      },
      "source": [
        "print(s.rename({'ONE': 'a', 'THREE': 'c'}))\n",
        "print(s.rename(str.lower))"
      ],
      "execution_count": 14,
      "outputs": [
        {
          "output_type": "stream",
          "text": [
            "a      1\n",
            "TWO    2\n",
            "c      3\n",
            "dtype: int64\n",
            "one      1\n",
            "two      2\n",
            "three    3\n",
            "dtype: int64\n"
          ],
          "name": "stdout"
        }
      ]
    },
    {
      "cell_type": "code",
      "metadata": {
        "id": "ufLH9K5VnAS1",
        "colab_type": "code",
        "colab": {
          "base_uri": "https://localhost:8080/",
          "height": 153
        },
        "outputId": "8358bbcc-2eb3-46c1-ffad-b0b1b3b2b745"
      },
      "source": [
        "print(s.add_prefix('X_'))\n",
        "print(s.add_suffix('_X'))"
      ],
      "execution_count": 15,
      "outputs": [
        {
          "output_type": "stream",
          "text": [
            "X_ONE      1\n",
            "X_TWO      2\n",
            "X_THREE    3\n",
            "dtype: int64\n",
            "ONE_X      1\n",
            "TWO_X      2\n",
            "THREE_X    3\n",
            "dtype: int64\n"
          ],
          "name": "stdout"
        }
      ]
    },
    {
      "cell_type": "code",
      "metadata": {
        "id": "4v_dh1EXnF82",
        "colab_type": "code",
        "colab": {}
      },
      "source": [
        "s.index = ['a', 'b', 'c']"
      ],
      "execution_count": 16,
      "outputs": []
    },
    {
      "cell_type": "code",
      "metadata": {
        "id": "1hyA7UNrnJvl",
        "colab_type": "code",
        "colab": {
          "base_uri": "https://localhost:8080/",
          "height": 85
        },
        "outputId": "d34dcfdf-e185-4b5a-983f-e78bcc48f8c4"
      },
      "source": [
        "print(s)"
      ],
      "execution_count": 17,
      "outputs": [
        {
          "output_type": "stream",
          "text": [
            "a    1\n",
            "b    2\n",
            "c    3\n",
            "dtype: int64\n"
          ],
          "name": "stdout"
        }
      ]
    },
    {
      "cell_type": "code",
      "metadata": {
        "id": "ce-G_cVunKMO",
        "colab_type": "code",
        "colab": {
          "base_uri": "https://localhost:8080/",
          "height": 136
        },
        "outputId": "17d99a53-eb68-4a2a-8711-24b8c9cb3d37"
      },
      "source": [
        "import pandas as pd\n",
        "df = pd.read_csv('/content/sample_pandas_normal.csv')\n",
        "print(df)"
      ],
      "execution_count": 18,
      "outputs": [
        {
          "output_type": "stream",
          "text": [
            "      name  age state  point\n",
            "0    Alice   24    NY     64\n",
            "1      Bob   42    CA     92\n",
            "2  Charlie   18    CA     70\n",
            "3     Dave   68    TX     70\n",
            "4    Ellen   24    CA     88\n",
            "5    Frank   30    NY     57\n"
          ],
          "name": "stdout"
        }
      ]
    },
    {
      "cell_type": "code",
      "metadata": {
        "id": "MQN5y-D4o1Oa",
        "colab_type": "code",
        "colab": {
          "base_uri": "https://localhost:8080/",
          "height": 153
        },
        "outputId": "165b94c5-402f-4d00-ea4d-6b66b26a1000"
      },
      "source": [
        "df_i = df.set_index('name')\n",
        "print(df_i)"
      ],
      "execution_count": 19,
      "outputs": [
        {
          "output_type": "stream",
          "text": [
            "         age state  point\n",
            "name                     \n",
            "Alice     24    NY     64\n",
            "Bob       42    CA     92\n",
            "Charlie   18    CA     70\n",
            "Dave      68    TX     70\n",
            "Ellen     24    CA     88\n",
            "Frank     30    NY     57\n"
          ],
          "name": "stdout"
        }
      ]
    },
    {
      "cell_type": "code",
      "metadata": {
        "id": "UFm9rlfeo7d_",
        "colab_type": "code",
        "colab": {
          "base_uri": "https://localhost:8080/",
          "height": 153
        },
        "outputId": "b81db2ea-6ea9-4874-9dea-02954085bfc6"
      },
      "source": [
        "df_id = df.set_index('name', drop = False)\n",
        "print(df_id)"
      ],
      "execution_count": 20,
      "outputs": [
        {
          "output_type": "stream",
          "text": [
            "            name  age state  point\n",
            "name                              \n",
            "Alice      Alice   24    NY     64\n",
            "Bob          Bob   42    CA     92\n",
            "Charlie  Charlie   18    CA     70\n",
            "Dave        Dave   68    TX     70\n",
            "Ellen      Ellen   24    CA     88\n",
            "Frank      Frank   30    NY     57\n"
          ],
          "name": "stdout"
        }
      ]
    },
    {
      "cell_type": "code",
      "metadata": {
        "id": "ymcCmAFppEZf",
        "colab_type": "code",
        "colab": {
          "base_uri": "https://localhost:8080/",
          "height": 153
        },
        "outputId": "e5c92569-6f5d-4155-8852-46b3f80eba83"
      },
      "source": [
        "df_mi = df.set_index(['state', 'name'])\n",
        "print(df_mi)"
      ],
      "execution_count": 21,
      "outputs": [
        {
          "output_type": "stream",
          "text": [
            "               age  point\n",
            "state name               \n",
            "NY    Alice     24     64\n",
            "CA    Bob       42     92\n",
            "      Charlie   18     70\n",
            "TX    Dave      68     70\n",
            "CA    Ellen     24     88\n",
            "NY    Frank     30     57\n"
          ],
          "name": "stdout"
        }
      ]
    },
    {
      "cell_type": "code",
      "metadata": {
        "id": "6Fssj2mCpJGe",
        "colab_type": "code",
        "colab": {
          "base_uri": "https://localhost:8080/",
          "height": 153
        },
        "outputId": "3e4318c5-e10f-414c-a46d-9d070244b1a8"
      },
      "source": [
        "df_mi.sort_index(inplace=True)\n",
        "print(df_mi)"
      ],
      "execution_count": 22,
      "outputs": [
        {
          "output_type": "stream",
          "text": [
            "               age  point\n",
            "state name               \n",
            "CA    Bob       42     92\n",
            "      Charlie   18     70\n",
            "      Ellen     24     88\n",
            "NY    Alice     24     64\n",
            "      Frank     30     57\n",
            "TX    Dave      68     70\n"
          ],
          "name": "stdout"
        }
      ]
    },
    {
      "cell_type": "code",
      "metadata": {
        "id": "dvxn9ChGpNbV",
        "colab_type": "code",
        "colab": {
          "base_uri": "https://localhost:8080/",
          "height": 289
        },
        "outputId": "be17a287-1ddd-4ae2-aba9-dc3b2714c2eb"
      },
      "source": [
        "print(df_i)\n",
        "df_ii = df_i.set_index('state')\n",
        "print(df_ii)"
      ],
      "execution_count": 23,
      "outputs": [
        {
          "output_type": "stream",
          "text": [
            "         age state  point\n",
            "name                     \n",
            "Alice     24    NY     64\n",
            "Bob       42    CA     92\n",
            "Charlie   18    CA     70\n",
            "Dave      68    TX     70\n",
            "Ellen     24    CA     88\n",
            "Frank     30    NY     57\n",
            "       age  point\n",
            "state            \n",
            "NY      24     64\n",
            "CA      42     92\n",
            "CA      18     70\n",
            "TX      68     70\n",
            "CA      24     88\n",
            "NY      30     57\n"
          ],
          "name": "stdout"
        }
      ]
    },
    {
      "cell_type": "code",
      "metadata": {
        "id": "4evVqAMjpSvY",
        "colab_type": "code",
        "colab": {
          "base_uri": "https://localhost:8080/",
          "height": 153
        },
        "outputId": "b1913507-8568-4f88-923d-95d1191a7ad4"
      },
      "source": [
        "df_mi = df_i.set_index('state', append=True)\n",
        "print(df_mi)"
      ],
      "execution_count": 24,
      "outputs": [
        {
          "output_type": "stream",
          "text": [
            "               age  point\n",
            "name    state            \n",
            "Alice   NY      24     64\n",
            "Bob     CA      42     92\n",
            "Charlie CA      18     70\n",
            "Dave    TX      68     70\n",
            "Ellen   CA      24     88\n",
            "Frank   NY      30     57\n"
          ],
          "name": "stdout"
        }
      ]
    },
    {
      "cell_type": "code",
      "metadata": {
        "id": "N8NFrSPTpdlW",
        "colab_type": "code",
        "colab": {
          "base_uri": "https://localhost:8080/",
          "height": 153
        },
        "outputId": "d1b3856f-6157-4155-c1d6-b6a5e358b870"
      },
      "source": [
        "print(df_mi.swaplevel(0,1))"
      ],
      "execution_count": 25,
      "outputs": [
        {
          "output_type": "stream",
          "text": [
            "               age  point\n",
            "state name               \n",
            "NY    Alice     24     64\n",
            "CA    Bob       42     92\n",
            "      Charlie   18     70\n",
            "TX    Dave      68     70\n",
            "CA    Ellen     24     88\n",
            "NY    Frank     30     57\n"
          ],
          "name": "stdout"
        }
      ]
    },
    {
      "cell_type": "code",
      "metadata": {
        "id": "VCJO-BmUpldI",
        "colab_type": "code",
        "colab": {
          "base_uri": "https://localhost:8080/",
          "height": 272
        },
        "outputId": "15a93ce5-eca5-4125-afd6-a9919686a8fb"
      },
      "source": [
        "print(df_i)\n",
        "df_ri = df_i.reset_index()\n",
        "print(df_ri)"
      ],
      "execution_count": 26,
      "outputs": [
        {
          "output_type": "stream",
          "text": [
            "         age state  point\n",
            "name                     \n",
            "Alice     24    NY     64\n",
            "Bob       42    CA     92\n",
            "Charlie   18    CA     70\n",
            "Dave      68    TX     70\n",
            "Ellen     24    CA     88\n",
            "Frank     30    NY     57\n",
            "      name  age state  point\n",
            "0    Alice   24    NY     64\n",
            "1      Bob   42    CA     92\n",
            "2  Charlie   18    CA     70\n",
            "3     Dave   68    TX     70\n",
            "4    Ellen   24    CA     88\n",
            "5    Frank   30    NY     57\n"
          ],
          "name": "stdout"
        }
      ]
    },
    {
      "cell_type": "code",
      "metadata": {
        "id": "ma71eNhDpriu",
        "colab_type": "code",
        "colab": {
          "base_uri": "https://localhost:8080/",
          "height": 153
        },
        "outputId": "84a350fe-e205-424a-f320-b1beb6649244"
      },
      "source": [
        "df_change = df_i.reset_index().set_index('state')\n",
        "print(df_change)"
      ],
      "execution_count": 27,
      "outputs": [
        {
          "output_type": "stream",
          "text": [
            "          name  age  point\n",
            "state                     \n",
            "NY       Alice   24     64\n",
            "CA         Bob   42     92\n",
            "CA     Charlie   18     70\n",
            "TX        Dave   68     70\n",
            "CA       Ellen   24     88\n",
            "NY       Frank   30     57\n"
          ],
          "name": "stdout"
        }
      ]
    },
    {
      "cell_type": "code",
      "metadata": {
        "id": "qiJX8Sh3sgz4",
        "colab_type": "code",
        "colab": {
          "base_uri": "https://localhost:8080/",
          "height": 153
        },
        "outputId": "69572bb9-b55b-43a9-9626-8f47842a718e"
      },
      "source": [
        "df.set_index('name', inplace=True)\n",
        "print(df)"
      ],
      "execution_count": 28,
      "outputs": [
        {
          "output_type": "stream",
          "text": [
            "         age state  point\n",
            "name                     \n",
            "Alice     24    NY     64\n",
            "Bob       42    CA     92\n",
            "Charlie   18    CA     70\n",
            "Dave      68    TX     70\n",
            "Ellen     24    CA     88\n",
            "Frank     30    NY     57\n"
          ],
          "name": "stdout"
        }
      ]
    },
    {
      "cell_type": "code",
      "metadata": {
        "id": "F-Way-uZsk-4",
        "colab_type": "code",
        "colab": {
          "base_uri": "https://localhost:8080/",
          "height": 153
        },
        "outputId": "535fdc68-d19b-4c40-9153-5eaf3b3140bb"
      },
      "source": [
        "df = pd.read_csv('/content/sample_pandas_normal.csv', index_col = 0)\n",
        "print(df)"
      ],
      "execution_count": 29,
      "outputs": [
        {
          "output_type": "stream",
          "text": [
            "         age state  point\n",
            "name                     \n",
            "Alice     24    NY     64\n",
            "Bob       42    CA     92\n",
            "Charlie   18    CA     70\n",
            "Dave      68    TX     70\n",
            "Ellen     24    CA     88\n",
            "Frank     30    NY     57\n"
          ],
          "name": "stdout"
        }
      ]
    },
    {
      "cell_type": "code",
      "metadata": {
        "id": "sWopPjjXss5X",
        "colab_type": "code",
        "colab": {
          "base_uri": "https://localhost:8080/",
          "height": 238
        },
        "outputId": "99468470-daa0-4336-9dec-269ce69c27f5"
      },
      "source": [
        "print(df)\n",
        "print(df.loc['Bob'])\n",
        "print(df.at['Bob', 'age'])"
      ],
      "execution_count": 30,
      "outputs": [
        {
          "output_type": "stream",
          "text": [
            "         age state  point\n",
            "name                     \n",
            "Alice     24    NY     64\n",
            "Bob       42    CA     92\n",
            "Charlie   18    CA     70\n",
            "Dave      68    TX     70\n",
            "Ellen     24    CA     88\n",
            "Frank     30    NY     57\n",
            "age      42\n",
            "state    CA\n",
            "point    92\n",
            "Name: Bob, dtype: object\n",
            "42\n"
          ],
          "name": "stdout"
        }
      ]
    },
    {
      "cell_type": "code",
      "metadata": {
        "id": "20hvL5P-s0tX",
        "colab_type": "code",
        "colab": {}
      },
      "source": [
        ""
      ],
      "execution_count": null,
      "outputs": []
    }
  ]
}