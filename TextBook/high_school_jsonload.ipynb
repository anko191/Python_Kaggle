{
  "nbformat": 4,
  "nbformat_minor": 0,
  "metadata": {
    "colab": {
      "name": "jsonload.ipynb",
      "provenance": [],
      "collapsed_sections": [],
      "mount_file_id": "1GaZnIbe0MzE2XGWklsLMUTpIdAd6W0Mm",
      "authorship_tag": "ABX9TyPX4OaBl+q0i9y2I44J2Umg",
      "include_colab_link": true
    },
    "kernelspec": {
      "name": "python3",
      "display_name": "Python 3"
    }
  },
  "cells": [
    {
      "cell_type": "markdown",
      "metadata": {
        "id": "view-in-github",
        "colab_type": "text"
      },
      "source": [
        "<a href=\"https://colab.research.google.com/github/anko191/Python_Kaggle/blob/master/jsonload.ipynb\" target=\"_parent\"><img src=\"https://colab.research.google.com/assets/colab-badge.svg\" alt=\"Open In Colab\"/></a>"
      ]
    },
    {
      "cell_type": "markdown",
      "metadata": {
        "id": "cBvreTHjPNez",
        "colab_type": "text"
      },
      "source": [
        "import json\n",
        "\n",
        "with open('/content/drive/My Drive/Colab Notebooks/study.json') \n",
        "as f :\n",
        "\n",
        "    jsndata = json.load(f)\n",
        "\n",
        "print(jsndata)"
      ]
    },
    {
      "cell_type": "code",
      "metadata": {
        "id": "WyDxqyfSPaPq",
        "colab_type": "code",
        "colab": {
          "base_uri": "https://localhost:8080/",
          "height": 54
        },
        "outputId": "084feec4-df9e-4511-aaa7-7aedb4856458"
      },
      "source": [
        "from google.colab import drive\n",
        "drive.mount('/content/drive')"
      ],
      "execution_count": null,
      "outputs": [
        {
          "output_type": "stream",
          "text": [
            "Drive already mounted at /content/drive; to attempt to forcibly remount, call drive.mount(\"/content/drive\", force_remount=True).\n"
          ],
          "name": "stdout"
        }
      ]
    },
    {
      "cell_type": "code",
      "metadata": {
        "id": "7Z8F48AIRVdC",
        "colab_type": "code",
        "colab": {
          "base_uri": "https://localhost:8080/",
          "height": 54
        },
        "outputId": "79a0c79c-86f8-470f-cf91-386c21c906fd"
      },
      "source": [
        "import json\n",
        "with open('/content/drive/My Drive/Colab Notebooks/study.json') as f :\n",
        "    jsndata = json.load(f)\n",
        "print(jsndata)"
      ],
      "execution_count": null,
      "outputs": [
        {
          "output_type": "stream",
          "text": [
            "{' 名前 ': ' たろう ', ' 年齢 ': 17, ' 履修科目 ': {' 修得済 ': {' 国語 ': [' 国語総合 '], ' 数学 ': [' 数学1 ', ' 数学A '], ' 情報 ': [' 情報1 ']}, ' 未修得 ': {' 情報 ': [' 情報2 ']}}}\n"
          ],
          "name": "stdout"
        }
      ]
    },
    {
      "cell_type": "code",
      "metadata": {
        "id": "nyLBasF0Rf6K",
        "colab_type": "code",
        "colab": {
          "base_uri": "https://localhost:8080/",
          "height": 1000
        },
        "outputId": "b4bec646-f746-4701-d6c1-3871aba1bb34"
      },
      "source": [
        "import requests\n",
        "from bs4 import BeautifulSoup\n",
        "url = 'https://www.mext.go.jp/b_menu/news/index.html'\n",
        "r = requests.get(url)\n",
        "soup = BeautifulSoup( r.content, 'html.parser')\n",
        "links = soup.find_all('ul', 'news_list')\n",
        "for l in links:\n",
        "    titles = l.find_all('a')\n",
        "    for t in titles:\n",
        "        print( t.string )"
      ],
      "execution_count": null,
      "outputs": [
        {
          "output_type": "stream",
          "text": [
            "令和2年度「英知を結集した原子力科学技術・人材育成推進事業」における新規採択課題の公募開始に関するお知らせ ～国際協力型廃炉研究プログラム（日英原子力共同研究）～\n",
            "第62次南極地域観測隊員の決定等について\n",
            "文部科学広報2020年6月号\n",
            "「人を対象とする生命科学・医学系研究に関する倫理指針（案）概要」に関するパブリックコメント（意見公募手続）の実施について\n",
            "国立研究開発法人審議会 量子科学技術研究開発機構部会（第18回）の開催について\n",
            "ライフサイエンス委員会（第96回）の開催について\n",
            "学校における携帯電話の取扱い等に関する有識者会議（令和2年度）（第1回）　議事要旨\n",
            "学校における携帯電話の取扱い等に関する有識者会議の設置について\n",
            "大学改革推進等補助金「大学保有検査機器活用促進事業」の公募について（第1次）\n",
            "萩生田光一文部科学大臣記者会見録（令和2年6月26日）\n",
            "質保証システム部会（第1回）の開催について\n",
            "クロスアポイントメント制度の基本的枠組と留意点【追補版】\n",
            "全国的な学力調査のCBT化検討ワーキンググループ（第2回）配付資料\n",
            "全国的な学力調査のCBT化検討ワーキンググループ（第2回）議事要旨\n",
            "HPCI計画推進委員会（第43回）の開催について\n",
            "「大学教育のデジタライゼーション・イニシアティブ（Scheem-D）～ With コロナ/ After コロナ時代の大学教育の創造～」の実施について\n",
            "令和2年度「日本型教育の海外展開推進事業（EDU-Portニッポン）」パイロット事業及び調査研究事業の選定結果について\n",
            "令和2年度大学教育再生戦略推進費「大学の世界展開力強化事業」 ～アフリカ諸国との大学間交流形成支援～申請期限再延長について（通知）\n",
            "日本語教育の推進に関する施策を総合的かつ効果的に推進するための基本的な方針の閣議決定について\n",
            "新しい時代の特別支援教育の在り方に関する有識者会議（第8回）の開催について【WEB会議】\n",
            "大学入学者選抜改革について\n",
            "次世代学術情報ネットワーク・データ基盤整備作業部会（第3回）の開催について【オンライン会議】\n",
            "教育課程部会（第117回）の開催について\n",
            "科学技術･学術審議会学術分科会研究費部会（第10期第11回）の開催について\n",
            "萩生田光一文部科学大臣記者会見録（令和2年6月23日）\n",
            "量子科学技術委員会　量子ビーム利用推進小委員会（第9期～）（第37回）の開催について\n",
            "保健医療分野におけるAI研究開発加速に向けた人材養成産学協働プロジェクト\n",
            "文部科学省研究開発局原子力損害賠償紛争和解仲介室非常勤職員（期間業務職員）採用のお知らせ\n",
            "スーパーコンピュータ「富岳」がスパコンランキング（TOP500,HPCG,HPL-AI,Graph500）において世界1位を獲得したこと等について\n",
            "スーパーコンピュータ「富岳(ふがく)」の国際ランキング第１位獲得について［文部科学大臣談話］\n",
            "大学入試のあり方に関する検討会議（第10回）の開催について\n",
            "全国的な学力調査のCBT化検討ワーキンググループ（第3回）の開催について\n",
            "火山研究推進委員会（第2回）の開催について\n",
            "核融合科学技術委員会（第21回）・原型炉開発総合戦略タスクフォース（第20回）の合同開催について \n",
            "萩生田光一文部科学大臣記者会見録（令和2年6月19日）\n",
            "令和元年度予算「夜間中学の設置推進・充実事業」（調査研究）\n",
            "日本ユネスコ国内委員会第139回自然科学小委員会及び第121回人文・社会科学小委員会合同小委員会の開催について\n",
            "学術分科会（第78回）の開催について\n",
            "結果の概要ー令和元年度地方教育費調査（平成30会計年度）中間報告\n",
            "令和元年度地方教育費調査の中間報告について\n",
            "科学技術・学術政策研究所「民間企業の研究活動に関する調査報告2019」報告書の公表について\n",
            "令和2年版 科学技術白書\n",
            "萩生田光一文部科学大臣記者会見録（令和2年6月16日）\n",
            "研究環境基盤部会　共同利用・共同研究拠点及び国際共同利用・共同研究拠点に関する作業部会（第10期）（第6回）の開催について\n",
            "日本ユネスコ国内委員会第105回普及活動小委員会の開催について\n",
            "リーフレット「わかりやすい版　だれでもいつでも学べる社会へ　～障害のある・なしに関係なく共に学べる生涯学習について～」（障害者の生涯学習啓発資料）について\n",
            "文部科学省総合教育政策局調査企画課非常勤職員（時間雇用）採用のお知らせ\n",
            "国立大学法人の戦略的経営実現に向けた検討会議（第5回）の開催について\n",
            "日本芸術院非常勤職員（期間業務職員）採用のお知らせ\n",
            "平成31年度「少子化・人口減少社会に対応した活力ある学校教育推進事業」\n",
            "通信制高等学校の質の確保・向上に関する調査研究協力者会議（第4回）の開催について\n",
            "令和元年度「新時代の学びにおける先端技術導入実証研究事業(学校における先端技術の活用に関する実証事業)」について\n",
            "エビデンスに基づいた学校教育の改善に向けた実証事業\n",
            "萩生田光一文部科学大臣記者会見録（令和2年6月12日）\n",
            "令和元年度大学等卒業者の就職状況調査（4月1日現在）\n",
            "大学入試のあり方に関する検討会議（第9回）の開催について\n",
            "新しい時代の初等中等教育の在り方特別部会（第10回）の開催について\n",
            "日本ユネスコ国内委員会第141回教育小委員会の開催について\n",
            "令和2（2020）年度 SDGs達成の担い手育成（ESD）推進事業申請及び採択状況\n",
            "文部科学省研究振興局非常勤職員（期間業務職員）採用のお知らせ\n",
            "令和2年度　補正（第2号）各目明細書\n",
            "研究計画・評価分科会（第72回）　配布資料\n",
            "「令和元年度人権教育及び人権啓発施策」（人権教育・啓発白書）について\n",
            "ジャーナル問題検討部会（第3回）の開催について【オンライン会議】\n",
            "萩生田光一文部科学大臣記者会見録（令和2年6月9日）\n",
            "令和2年度「地域との協働による高等学校教育改革推進事業」指定校の取組について\n",
            "第105回教員養成部会議事録\n",
            "幼児教育の実践の質向上に関する検討会（第9回）議事録\n",
            "長崎大学高度安全実験施設に係る監理委員会（第8回）　議事録\n",
            "文部科学省大臣官房会計課非常勤職員（期間業務職員）採用のお知らせ\n",
            "新しい時代の特別支援教育の在り方に関する有識者会議（第7回）議事要旨\n",
            "研究環境基盤部会　共同利用・共同研究拠点及び国際共同利用・共同研究拠点に関する作業部会（第10期）（第5回）　配付資料\n",
            "研究環境基盤部会　共同利用・共同研究拠点及び国際共同利用・共同研究拠点に関する作業部会（第10期）（第5回）　議事要旨\n",
            "著作権法及びプログラムの著作物に係る登録の特例に関する法律の一部を改正する法律\n",
            "障害のある学生の修学・就職支援促進事業の公募について\n",
            "全国的な学力調査のCBT化検討ワーキンググループ（第1回）議事要旨\n",
            "世界各国に留学中の日本人学生の皆さんへ（6月5日更新）\n",
            "萩生田光一文部科学大臣記者会見録（令和2年6月5日）\n",
            "子供たちの「学びの保障」\n",
            "教育課程部会（第116回）の開催について\n",
            "新しい時代の初等中等教育の在り方特別部会（第9回）の開催について\n",
            "日本ユネスコ国内委員会第142回文化活動小委員会及び第100回コミュニケーション小委員会合同小委員会の開催について\n",
            "留学を予定・考えていた日本人学生の皆さんへ（6月5日更新）\n",
            "第２８回国際原子力機関（IAEA）核融合エネルギー会議へのポスト・デッドライン（PD）投稿論文及び参加者の募集について\n",
            "全国的な学力調査のCBT化検討ワーキンググループ（第1回）配付資料\n",
            "独立行政法人日本スポーツ振興センター法施行令の一部を改正する政令等の施行について（通知）\n",
            "2021年度外国人留学生担当者の連絡先確認調査について\n",
            "子供たちの心身の健全な発達のための子供の自然体験活動推進事業\n",
            "今後の国立大学法人等施設の整備充実に関する調査研究協力者会議（令和元年度～）（第4回）　議事要旨\n",
            "令和2年度において検定の申請を行うことができる種目及び期間の告示等について（通知）\n",
            "令和2年6月29日　第156回南極地域観測統合推進本部総会の開催について\n",
            "令和2年6月18日 第43回南極地域観測統合推進本部観測・設営計画委員会の開催について\n",
            "令和2年6月12日 第89回南極地域観測統合推進本部輸送計画委員会の開催について\n",
            "令和2年度高等学校用教科用図書検定申請受理種目及び期間（追加） \n",
            "研究開発基盤部会（第5回）の配布資料\n",
            "国立大学法人等施設整備に関する検討会（令和2年度）（第2回）　配付資料\n",
            "国立大学法人等施設整備に関する検討会（令和2年度）（第2回）　議事要旨\n",
            "全国的な学力調査のCBT化検討ワーキンググループ（第2回）の開催について\n",
            "【総合職事務系】業務説明会の日程一覧【NEW】\n",
            "萩生田光一文部科学大臣記者会見録（令和2年6月2日）\n",
            "次世代学術情報ネットワーク・データ基盤整備作業部会（第2回）の開催について【オンライン会議】\n",
            "「マテリアル革新力強化のための政府戦略に向けて（戦略準備会合取りまとめ）」について\n",
            "マテリアル革新力強化のための政府戦略に向けて（戦略準備会合取りまとめ）\n",
            "研究計画・評価分科会（第72回）の開催について\n",
            "大学入試のあり方に関する検討会議（第8回）の開催について\n",
            "新しい時代の特別支援教育の在り方に関する有識者会議（第7回）配布資料\n",
            "「創発的研究支援事業」の公募開始に当たっての文部科学大臣からのメッセージについて\n",
            "令和2年度科学技術基礎調査等委託事業「連動型地震の発生予測のための活断層調査研究」の採択課題の決定について\n"
          ],
          "name": "stdout"
        }
      ]
    },
    {
      "cell_type": "code",
      "metadata": {
        "id": "yt-o-KSvW_FF",
        "colab_type": "code",
        "colab": {
          "base_uri": "https://localhost:8080/",
          "height": 204
        },
        "outputId": "f4efe323-46ff-464e-c2cc-4264762e273f"
      },
      "source": [
        "# https://qiita.com/tackey/items/5b7b2be23af60335fe11\n",
        "# 日本語入ってたらエラーが出ますね\n",
        "import pandas as pd\n",
        "df = pd.read_csv(\"/content/drive/My Drive/Colab Notebooks/population.csv\",encoding='cp932')\n",
        "df['増減'] = (df['出生数'] + df['転入者数']) - (df['死亡数'] + df['転出者数'])\n",
        "df['増減率'] = df['増減'] / df['総人口'] * 100\n",
        "df.sort_values('増減率', ascending = False).head(5)"
      ],
      "execution_count": null,
      "outputs": [
        {
          "output_type": "execute_result",
          "data": {
            "text/html": [
              "<div>\n",
              "<style scoped>\n",
              "    .dataframe tbody tr th:only-of-type {\n",
              "        vertical-align: middle;\n",
              "    }\n",
              "\n",
              "    .dataframe tbody tr th {\n",
              "        vertical-align: top;\n",
              "    }\n",
              "\n",
              "    .dataframe thead th {\n",
              "        text-align: right;\n",
              "    }\n",
              "</style>\n",
              "<table border=\"1\" class=\"dataframe\">\n",
              "  <thead>\n",
              "    <tr style=\"text-align: right;\">\n",
              "      <th></th>\n",
              "      <th>都道府県</th>\n",
              "      <th>総人口</th>\n",
              "      <th>出生数</th>\n",
              "      <th>死亡数</th>\n",
              "      <th>転入者数</th>\n",
              "      <th>転出者数</th>\n",
              "      <th>増減</th>\n",
              "      <th>増減率</th>\n",
              "    </tr>\n",
              "  </thead>\n",
              "  <tbody>\n",
              "    <tr>\n",
              "      <th>12</th>\n",
              "      <td>東京都</td>\n",
              "      <td>13515271</td>\n",
              "      <td>113194</td>\n",
              "      <td>111673</td>\n",
              "      <td>456635</td>\n",
              "      <td>372404</td>\n",
              "      <td>85752</td>\n",
              "      <td>0.634482</td>\n",
              "    </tr>\n",
              "    <tr>\n",
              "      <th>46</th>\n",
              "      <td>沖縄県</td>\n",
              "      <td>1433566</td>\n",
              "      <td>16941</td>\n",
              "      <td>11326</td>\n",
              "      <td>26384</td>\n",
              "      <td>26476</td>\n",
              "      <td>5523</td>\n",
              "      <td>0.385263</td>\n",
              "    </tr>\n",
              "    <tr>\n",
              "      <th>13</th>\n",
              "      <td>神奈川県</td>\n",
              "      <td>9126214</td>\n",
              "      <td>73475</td>\n",
              "      <td>75762</td>\n",
              "      <td>225815</td>\n",
              "      <td>208539</td>\n",
              "      <td>14989</td>\n",
              "      <td>0.164241</td>\n",
              "    </tr>\n",
              "    <tr>\n",
              "      <th>22</th>\n",
              "      <td>愛知県</td>\n",
              "      <td>7483128</td>\n",
              "      <td>65615</td>\n",
              "      <td>64060</td>\n",
              "      <td>127036</td>\n",
              "      <td>116518</td>\n",
              "      <td>12073</td>\n",
              "      <td>0.161336</td>\n",
              "    </tr>\n",
              "    <tr>\n",
              "      <th>10</th>\n",
              "      <td>埼玉県</td>\n",
              "      <td>7266534</td>\n",
              "      <td>56077</td>\n",
              "      <td>62565</td>\n",
              "      <td>180451</td>\n",
              "      <td>162374</td>\n",
              "      <td>11589</td>\n",
              "      <td>0.159485</td>\n",
              "    </tr>\n",
              "  </tbody>\n",
              "</table>\n",
              "</div>"
            ],
            "text/plain": [
              "    都道府県       総人口     出生数     死亡数    転入者数    転出者数     増減       増減率\n",
              "12   東京都  13515271  113194  111673  456635  372404  85752  0.634482\n",
              "46   沖縄県   1433566   16941   11326   26384   26476   5523  0.385263\n",
              "13  神奈川県   9126214   73475   75762  225815  208539  14989  0.164241\n",
              "22   愛知県   7483128   65615   64060  127036  116518  12073  0.161336\n",
              "10   埼玉県   7266534   56077   62565  180451  162374  11589  0.159485"
            ]
          },
          "metadata": {
            "tags": []
          },
          "execution_count": 10
        }
      ]
    },
    {
      "cell_type": "code",
      "metadata": {
        "id": "xbY61YBacmM0",
        "colab_type": "code",
        "colab": {
          "base_uri": "https://localhost:8080/",
          "height": 34
        },
        "outputId": "070da0ab-dc32-4a72-bd73-8614753c9b49"
      },
      "source": [
        "df['増減'].sum()"
      ],
      "execution_count": null,
      "outputs": [
        {
          "output_type": "execute_result",
          "data": {
            "text/plain": [
              "-283642"
            ]
          },
          "metadata": {
            "tags": []
          },
          "execution_count": 11
        }
      ]
    },
    {
      "cell_type": "code",
      "metadata": {
        "id": "sD3q8QWXeBqS",
        "colab_type": "code",
        "colab": {}
      },
      "source": [
        "melted = df.melt( ['都道府県'] , var_name = '属性', value_name = '値')"
      ],
      "execution_count": null,
      "outputs": []
    },
    {
      "cell_type": "code",
      "metadata": {
        "id": "GJ7MSXatCW4L",
        "colab_type": "code",
        "colab": {
          "base_uri": "https://localhost:8080/",
          "height": 204
        },
        "outputId": "a0e30aa5-ab6c-4129-d994-c52ace314c6d"
      },
      "source": [
        "melted2 = df.melt(['都道府県'], ['総人口', '増減', '増減率'],\n",
        "    var_name = '属性', value_name = '値')\n",
        "melted2.head(5)"
      ],
      "execution_count": null,
      "outputs": [
        {
          "output_type": "execute_result",
          "data": {
            "text/html": [
              "<div>\n",
              "<style scoped>\n",
              "    .dataframe tbody tr th:only-of-type {\n",
              "        vertical-align: middle;\n",
              "    }\n",
              "\n",
              "    .dataframe tbody tr th {\n",
              "        vertical-align: top;\n",
              "    }\n",
              "\n",
              "    .dataframe thead th {\n",
              "        text-align: right;\n",
              "    }\n",
              "</style>\n",
              "<table border=\"1\" class=\"dataframe\">\n",
              "  <thead>\n",
              "    <tr style=\"text-align: right;\">\n",
              "      <th></th>\n",
              "      <th>都道府県</th>\n",
              "      <th>属性</th>\n",
              "      <th>値</th>\n",
              "    </tr>\n",
              "  </thead>\n",
              "  <tbody>\n",
              "    <tr>\n",
              "      <th>0</th>\n",
              "      <td>北海道</td>\n",
              "      <td>総人口</td>\n",
              "      <td>5381733.0</td>\n",
              "    </tr>\n",
              "    <tr>\n",
              "      <th>1</th>\n",
              "      <td>青森県</td>\n",
              "      <td>総人口</td>\n",
              "      <td>1308265.0</td>\n",
              "    </tr>\n",
              "    <tr>\n",
              "      <th>2</th>\n",
              "      <td>岩手県</td>\n",
              "      <td>総人口</td>\n",
              "      <td>1279594.0</td>\n",
              "    </tr>\n",
              "    <tr>\n",
              "      <th>3</th>\n",
              "      <td>宮城県</td>\n",
              "      <td>総人口</td>\n",
              "      <td>2333899.0</td>\n",
              "    </tr>\n",
              "    <tr>\n",
              "      <th>4</th>\n",
              "      <td>秋田県</td>\n",
              "      <td>総人口</td>\n",
              "      <td>1023119.0</td>\n",
              "    </tr>\n",
              "  </tbody>\n",
              "</table>\n",
              "</div>"
            ],
            "text/plain": [
              "  都道府県   属性          値\n",
              "0  北海道  総人口  5381733.0\n",
              "1  青森県  総人口  1308265.0\n",
              "2  岩手県  総人口  1279594.0\n",
              "3  宮城県  総人口  2333899.0\n",
              "4  秋田県  総人口  1023119.0"
            ]
          },
          "metadata": {
            "tags": []
          },
          "execution_count": 15
        }
      ]
    },
    {
      "cell_type": "code",
      "metadata": {
        "id": "tqQXiWLlCkMa",
        "colab_type": "code",
        "colab": {
          "base_uri": "https://localhost:8080/",
          "height": 142
        },
        "outputId": "36481951-2352-4748-a87c-9d2d076c5f8b"
      },
      "source": [
        "# logformat -> wideformat\n",
        "table = melted.pivot_table( values='値', index = '都道府県', columns='属性')\n",
        "table.reset_index(inplace =True)\n",
        "table.head(3)"
      ],
      "execution_count": null,
      "outputs": [
        {
          "output_type": "execute_result",
          "data": {
            "text/html": [
              "<div>\n",
              "<style scoped>\n",
              "    .dataframe tbody tr th:only-of-type {\n",
              "        vertical-align: middle;\n",
              "    }\n",
              "\n",
              "    .dataframe tbody tr th {\n",
              "        vertical-align: top;\n",
              "    }\n",
              "\n",
              "    .dataframe thead th {\n",
              "        text-align: right;\n",
              "    }\n",
              "</style>\n",
              "<table border=\"1\" class=\"dataframe\">\n",
              "  <thead>\n",
              "    <tr style=\"text-align: right;\">\n",
              "      <th>属性</th>\n",
              "      <th>都道府県</th>\n",
              "      <th>出生数</th>\n",
              "      <th>増減</th>\n",
              "      <th>増減率</th>\n",
              "      <th>死亡数</th>\n",
              "      <th>総人口</th>\n",
              "      <th>転入者数</th>\n",
              "      <th>転出者数</th>\n",
              "    </tr>\n",
              "  </thead>\n",
              "  <tbody>\n",
              "    <tr>\n",
              "      <th>0</th>\n",
              "      <td>三重県</td>\n",
              "      <td>13950.0</td>\n",
              "      <td>-10765.0</td>\n",
              "      <td>-0.592830</td>\n",
              "      <td>20139.0</td>\n",
              "      <td>1815865.0</td>\n",
              "      <td>30612.0</td>\n",
              "      <td>35188.0</td>\n",
              "    </tr>\n",
              "    <tr>\n",
              "      <th>1</th>\n",
              "      <td>京都府</td>\n",
              "      <td>19662.0</td>\n",
              "      <td>-6471.0</td>\n",
              "      <td>-0.247898</td>\n",
              "      <td>25495.0</td>\n",
              "      <td>2610353.0</td>\n",
              "      <td>58586.0</td>\n",
              "      <td>59224.0</td>\n",
              "    </tr>\n",
              "    <tr>\n",
              "      <th>2</th>\n",
              "      <td>佐賀県</td>\n",
              "      <td>7064.0</td>\n",
              "      <td>-5360.0</td>\n",
              "      <td>-0.643587</td>\n",
              "      <td>9702.0</td>\n",
              "      <td>832832.0</td>\n",
              "      <td>15900.0</td>\n",
              "      <td>18622.0</td>\n",
              "    </tr>\n",
              "  </tbody>\n",
              "</table>\n",
              "</div>"
            ],
            "text/plain": [
              "属性 都道府県      出生数       増減       増減率      死亡数        総人口     転入者数     転出者数\n",
              "0   三重県  13950.0 -10765.0 -0.592830  20139.0  1815865.0  30612.0  35188.0\n",
              "1   京都府  19662.0  -6471.0 -0.247898  25495.0  2610353.0  58586.0  59224.0\n",
              "2   佐賀県   7064.0  -5360.0 -0.643587   9702.0   832832.0  15900.0  18622.0"
            ]
          },
          "metadata": {
            "tags": []
          },
          "execution_count": 17
        }
      ]
    },
    {
      "cell_type": "code",
      "metadata": {
        "id": "qwUWAvLTDBH6",
        "colab_type": "code",
        "colab": {
          "base_uri": "https://localhost:8080/",
          "height": 173
        },
        "outputId": "2d6282db-2aee-441f-d6a7-8a7d3b0e6723"
      },
      "source": [
        "import numpy as np\n",
        "table2 = melted.pivot_table(values='値', index='都道府県', columns='属性', aggfunc=np.sum)\n",
        "table2.head(3)"
      ],
      "execution_count": null,
      "outputs": [
        {
          "output_type": "execute_result",
          "data": {
            "text/html": [
              "<div>\n",
              "<style scoped>\n",
              "    .dataframe tbody tr th:only-of-type {\n",
              "        vertical-align: middle;\n",
              "    }\n",
              "\n",
              "    .dataframe tbody tr th {\n",
              "        vertical-align: top;\n",
              "    }\n",
              "\n",
              "    .dataframe thead th {\n",
              "        text-align: right;\n",
              "    }\n",
              "</style>\n",
              "<table border=\"1\" class=\"dataframe\">\n",
              "  <thead>\n",
              "    <tr style=\"text-align: right;\">\n",
              "      <th>属性</th>\n",
              "      <th>出生数</th>\n",
              "      <th>増減</th>\n",
              "      <th>増減率</th>\n",
              "      <th>死亡数</th>\n",
              "      <th>総人口</th>\n",
              "      <th>転入者数</th>\n",
              "      <th>転出者数</th>\n",
              "    </tr>\n",
              "    <tr>\n",
              "      <th>都道府県</th>\n",
              "      <th></th>\n",
              "      <th></th>\n",
              "      <th></th>\n",
              "      <th></th>\n",
              "      <th></th>\n",
              "      <th></th>\n",
              "      <th></th>\n",
              "    </tr>\n",
              "  </thead>\n",
              "  <tbody>\n",
              "    <tr>\n",
              "      <th>三重県</th>\n",
              "      <td>13950.0</td>\n",
              "      <td>-10765.0</td>\n",
              "      <td>-0.592830</td>\n",
              "      <td>20139.0</td>\n",
              "      <td>1815865.0</td>\n",
              "      <td>30612.0</td>\n",
              "      <td>35188.0</td>\n",
              "    </tr>\n",
              "    <tr>\n",
              "      <th>京都府</th>\n",
              "      <td>19662.0</td>\n",
              "      <td>-6471.0</td>\n",
              "      <td>-0.247898</td>\n",
              "      <td>25495.0</td>\n",
              "      <td>2610353.0</td>\n",
              "      <td>58586.0</td>\n",
              "      <td>59224.0</td>\n",
              "    </tr>\n",
              "    <tr>\n",
              "      <th>佐賀県</th>\n",
              "      <td>7064.0</td>\n",
              "      <td>-5360.0</td>\n",
              "      <td>-0.643587</td>\n",
              "      <td>9702.0</td>\n",
              "      <td>832832.0</td>\n",
              "      <td>15900.0</td>\n",
              "      <td>18622.0</td>\n",
              "    </tr>\n",
              "  </tbody>\n",
              "</table>\n",
              "</div>"
            ],
            "text/plain": [
              "属性        出生数       増減       増減率      死亡数        総人口     転入者数     転出者数\n",
              "都道府県                                                                  \n",
              "三重県   13950.0 -10765.0 -0.592830  20139.0  1815865.0  30612.0  35188.0\n",
              "京都府   19662.0  -6471.0 -0.247898  25495.0  2610353.0  58586.0  59224.0\n",
              "佐賀県    7064.0  -5360.0 -0.643587   9702.0   832832.0  15900.0  18622.0"
            ]
          },
          "metadata": {
            "tags": []
          },
          "execution_count": 19
        }
      ]
    },
    {
      "cell_type": "markdown",
      "metadata": {
        "id": "h2rp9GfCEAX1",
        "colab_type": "text"
      },
      "source": [
        "# 欠損値と異常値の取り扱い"
      ]
    },
    {
      "cell_type": "code",
      "metadata": {
        "id": "9xdIfbr_DYBi",
        "colab_type": "code",
        "colab": {
          "base_uri": "https://localhost:8080/",
          "height": 357
        },
        "outputId": "3e8f7dc0-2330-4ba9-8f87-465cf3970e78"
      },
      "source": [
        "# そらまめ君のデータ http://soramame.taiki.go.jp/DownLoad.php\n",
        "# encording = cp932\n",
        "import pandas as pd\n",
        "df = pd.read_csv(\"/content/drive/My Drive/Colab Notebooks/kesson/201912_13_13101010.csv\", encoding='cp932')\n",
        "df.isnull().sum()"
      ],
      "execution_count": null,
      "outputs": [
        {
          "output_type": "execute_result",
          "data": {
            "text/plain": [
              "測定局コード            0\n",
              "日付                0\n",
              "時                 0\n",
              "SO2(ppm)         12\n",
              "NO(ppm)          12\n",
              "NO2(ppm)         12\n",
              "NOx(ppm)         12\n",
              "CO(ppm)         744\n",
              "Ox(ppm)          13\n",
              "NMHC(ppmC)      744\n",
              "CH4(ppmC)       744\n",
              "THC(ppmC)       744\n",
              "SPM(mg/m3)        5\n",
              "PM2.5(ug/m3)      4\n",
              "SP(mg/m3)       744\n",
              "WD(16Dir)         1\n",
              "WS(m/s)           1\n",
              "TEMP(℃)           1\n",
              "HUM(％)            1\n",
              "dtype: int64"
            ]
          },
          "metadata": {
            "tags": []
          },
          "execution_count": 22
        }
      ]
    },
    {
      "cell_type": "code",
      "metadata": {
        "id": "e5CzHayxEJmS",
        "colab_type": "code",
        "colab": {}
      },
      "source": [
        "# すべての列にデータがあるものを使う：df1 = df.dropna()\n",
        "# 必要な列を選び、欠損値がある行を除く:\n",
        "# df2 = df[['日付', '時', 'N0x(ppm)']].dropna()\n",
        "# 欠損値を0として扱う : df3 = df.fillna(0)\n",
        "# 前の値で埋める: df4 = df.fillna(method='ffill')\n",
        "# 平均値で埋める: df5 = df.fillna(df.mean())\n",
        "\n",
        "\n",
        "#外れ値は、四分位範囲の統計量を用いたり、\n",
        "#データ間の距離を用いたり、学習16のクラスタリングを用いたりする。\n"
      ],
      "execution_count": null,
      "outputs": []
    },
    {
      "cell_type": "markdown",
      "metadata": {
        "id": "thgc44dDG8Oi",
        "colab_type": "text"
      },
      "source": [
        "# 重回帰分析"
      ]
    },
    {
      "cell_type": "markdown",
      "metadata": {
        "id": "LicQ-CXShKQe",
        "colab_type": "text"
      },
      "source": [
        "## 重回帰モデルの適合度\n",
        "\n",
        "### 寄与率(決定係数) $\\ R^{2}$\n",
        "\n",
        "$\\ R^{2} = \\frac{S_{R}}{S_{T}} = 1 - \\frac{S_{E}}{S_{T}}$\n",
        "\n",
        "全変動(全平方和) : $\\ S_{T} = \\sum_{i=1}^{n}(y_{i}-\\bar{y})^2$\n",
        "\n",
        "残差変動(残差平方和): $\\ S_{E} = \\sum_{i=1}^{n}(y_{i}-\\hat{y_{i}})^2$\n",
        "\n",
        "寄与率は、100％に近いほどモデルがデータに適合していることになる。\n",
        "\n",
        "説明変数の個数 **p** 個<br>\n",
        "データ数 **n** 個"
      ]
    },
    {
      "cell_type": "markdown",
      "metadata": {
        "id": "PiW1J5QA12sR",
        "colab_type": "text"
      },
      "source": [
        "# 主成分分析\n",
        "## 新しい特徴量を効果的に作成する方法\n",
        "\n",
        "・変数の間の共分散や相関の強い変数同士をまとめて、個々の対象の違いを最も大きくするような主成分と呼ばれる新しい特徴量（変数）を作成。\n",
        "\n",
        "・主成分分析で作成する主成分とは、分散が最大となるように決定されるように1つの変数\n",
        "\n"
      ]
    },
    {
      "cell_type": "markdown",
      "metadata": {
        "id": "q-mJnlA242b8",
        "colab_type": "text"
      },
      "source": [
        "# 分類"
      ]
    },
    {
      "cell_type": "markdown",
      "metadata": {
        "id": "z6Ig_-LVhhaG",
        "colab_type": "text"
      },
      "source": [
        "## 決定木による2値分類"
      ]
    },
    {
      "cell_type": "code",
      "metadata": {
        "id": "phlMvmc7GxSd",
        "colab_type": "code",
        "colab": {
          "base_uri": "https://localhost:8080/",
          "height": 204
        },
        "outputId": "049da88d-eddf-4ece-9f11-e06441be833f"
      },
      "source": [
        "import pandas as pd\n",
        "titanic = pd.read_csv('/content/drive/My Drive/Colab Notebooks/kesson/train.csv')\n",
        "titanic = titanic[[\"Pclass\",\"Sex\",\"Age\",\"Survived\"]] # 2重括弧ね\n",
        "titanic = titanic.dropna()\n",
        "titanic.head(5)"
      ],
      "execution_count": null,
      "outputs": [
        {
          "output_type": "execute_result",
          "data": {
            "text/html": [
              "<div>\n",
              "<style scoped>\n",
              "    .dataframe tbody tr th:only-of-type {\n",
              "        vertical-align: middle;\n",
              "    }\n",
              "\n",
              "    .dataframe tbody tr th {\n",
              "        vertical-align: top;\n",
              "    }\n",
              "\n",
              "    .dataframe thead th {\n",
              "        text-align: right;\n",
              "    }\n",
              "</style>\n",
              "<table border=\"1\" class=\"dataframe\">\n",
              "  <thead>\n",
              "    <tr style=\"text-align: right;\">\n",
              "      <th></th>\n",
              "      <th>Pclass</th>\n",
              "      <th>Sex</th>\n",
              "      <th>Age</th>\n",
              "      <th>Survived</th>\n",
              "    </tr>\n",
              "  </thead>\n",
              "  <tbody>\n",
              "    <tr>\n",
              "      <th>0</th>\n",
              "      <td>3</td>\n",
              "      <td>male</td>\n",
              "      <td>22.0</td>\n",
              "      <td>0</td>\n",
              "    </tr>\n",
              "    <tr>\n",
              "      <th>1</th>\n",
              "      <td>1</td>\n",
              "      <td>female</td>\n",
              "      <td>38.0</td>\n",
              "      <td>1</td>\n",
              "    </tr>\n",
              "    <tr>\n",
              "      <th>2</th>\n",
              "      <td>3</td>\n",
              "      <td>female</td>\n",
              "      <td>26.0</td>\n",
              "      <td>1</td>\n",
              "    </tr>\n",
              "    <tr>\n",
              "      <th>3</th>\n",
              "      <td>1</td>\n",
              "      <td>female</td>\n",
              "      <td>35.0</td>\n",
              "      <td>1</td>\n",
              "    </tr>\n",
              "    <tr>\n",
              "      <th>4</th>\n",
              "      <td>3</td>\n",
              "      <td>male</td>\n",
              "      <td>35.0</td>\n",
              "      <td>0</td>\n",
              "    </tr>\n",
              "  </tbody>\n",
              "</table>\n",
              "</div>"
            ],
            "text/plain": [
              "   Pclass     Sex   Age  Survived\n",
              "0       3    male  22.0         0\n",
              "1       1  female  38.0         1\n",
              "2       3  female  26.0         1\n",
              "3       1  female  35.0         1\n",
              "4       3    male  35.0         0"
            ]
          },
          "metadata": {
            "tags": []
          },
          "execution_count": 37
        }
      ]
    },
    {
      "cell_type": "code",
      "metadata": {
        "id": "7KVsWmiL6g3E",
        "colab_type": "code",
        "colab": {
          "base_uri": "https://localhost:8080/",
          "height": 419
        },
        "outputId": "3862fce1-1fdb-40d9-9af8-b4e7bd1ea1ca"
      },
      "source": [
        "# 決定木の可視化\n",
        "# graphvizがあるらしいい\n",
        "\n",
        "import subprocess\n",
        "from sklearn.tree import DecisionTreeClassifier, export_graphviz\n",
        "from sklearn.preprocessing import LabelEncoder\n",
        "le = LabelEncoder()\n",
        "\n",
        "# ラベルエンコーダー\n",
        "titanic[\"Sex\"] = le.fit_transform(titanic[\"Sex\"])\n",
        "\n",
        "target = titanic[\"Survived\"]\n",
        "data = titanic[[\"Pclass\",\"Sex\",\"Age\"]]\n",
        "data2 = titanic[[\"Sex\",\"Age\"]]\n",
        "titanic.head(100)"
      ],
      "execution_count": null,
      "outputs": [
        {
          "output_type": "execute_result",
          "data": {
            "text/html": [
              "<div>\n",
              "<style scoped>\n",
              "    .dataframe tbody tr th:only-of-type {\n",
              "        vertical-align: middle;\n",
              "    }\n",
              "\n",
              "    .dataframe tbody tr th {\n",
              "        vertical-align: top;\n",
              "    }\n",
              "\n",
              "    .dataframe thead th {\n",
              "        text-align: right;\n",
              "    }\n",
              "</style>\n",
              "<table border=\"1\" class=\"dataframe\">\n",
              "  <thead>\n",
              "    <tr style=\"text-align: right;\">\n",
              "      <th></th>\n",
              "      <th>Pclass</th>\n",
              "      <th>Sex</th>\n",
              "      <th>Age</th>\n",
              "      <th>Survived</th>\n",
              "    </tr>\n",
              "  </thead>\n",
              "  <tbody>\n",
              "    <tr>\n",
              "      <th>0</th>\n",
              "      <td>3</td>\n",
              "      <td>1</td>\n",
              "      <td>22.0</td>\n",
              "      <td>0</td>\n",
              "    </tr>\n",
              "    <tr>\n",
              "      <th>1</th>\n",
              "      <td>1</td>\n",
              "      <td>0</td>\n",
              "      <td>38.0</td>\n",
              "      <td>1</td>\n",
              "    </tr>\n",
              "    <tr>\n",
              "      <th>2</th>\n",
              "      <td>3</td>\n",
              "      <td>0</td>\n",
              "      <td>26.0</td>\n",
              "      <td>1</td>\n",
              "    </tr>\n",
              "    <tr>\n",
              "      <th>3</th>\n",
              "      <td>1</td>\n",
              "      <td>0</td>\n",
              "      <td>35.0</td>\n",
              "      <td>1</td>\n",
              "    </tr>\n",
              "    <tr>\n",
              "      <th>4</th>\n",
              "      <td>3</td>\n",
              "      <td>1</td>\n",
              "      <td>35.0</td>\n",
              "      <td>0</td>\n",
              "    </tr>\n",
              "    <tr>\n",
              "      <th>...</th>\n",
              "      <td>...</td>\n",
              "      <td>...</td>\n",
              "      <td>...</td>\n",
              "      <td>...</td>\n",
              "    </tr>\n",
              "    <tr>\n",
              "      <th>120</th>\n",
              "      <td>2</td>\n",
              "      <td>1</td>\n",
              "      <td>21.0</td>\n",
              "      <td>0</td>\n",
              "    </tr>\n",
              "    <tr>\n",
              "      <th>122</th>\n",
              "      <td>2</td>\n",
              "      <td>1</td>\n",
              "      <td>32.5</td>\n",
              "      <td>0</td>\n",
              "    </tr>\n",
              "    <tr>\n",
              "      <th>123</th>\n",
              "      <td>2</td>\n",
              "      <td>0</td>\n",
              "      <td>32.5</td>\n",
              "      <td>1</td>\n",
              "    </tr>\n",
              "    <tr>\n",
              "      <th>124</th>\n",
              "      <td>1</td>\n",
              "      <td>1</td>\n",
              "      <td>54.0</td>\n",
              "      <td>0</td>\n",
              "    </tr>\n",
              "    <tr>\n",
              "      <th>125</th>\n",
              "      <td>3</td>\n",
              "      <td>1</td>\n",
              "      <td>12.0</td>\n",
              "      <td>1</td>\n",
              "    </tr>\n",
              "  </tbody>\n",
              "</table>\n",
              "<p>100 rows × 4 columns</p>\n",
              "</div>"
            ],
            "text/plain": [
              "     Pclass  Sex   Age  Survived\n",
              "0         3    1  22.0         0\n",
              "1         1    0  38.0         1\n",
              "2         3    0  26.0         1\n",
              "3         1    0  35.0         1\n",
              "4         3    1  35.0         0\n",
              "..      ...  ...   ...       ...\n",
              "120       2    1  21.0         0\n",
              "122       2    1  32.5         0\n",
              "123       2    0  32.5         1\n",
              "124       1    1  54.0         0\n",
              "125       3    1  12.0         1\n",
              "\n",
              "[100 rows x 4 columns]"
            ]
          },
          "metadata": {
            "tags": []
          },
          "execution_count": 68
        }
      ]
    },
    {
      "cell_type": "code",
      "metadata": {
        "id": "Y33O12Xz9BUZ",
        "colab_type": "code",
        "colab": {
          "base_uri": "https://localhost:8080/",
          "height": 295
        },
        "outputId": "0544ec80-f270-472a-be90-6aabceadc2a0"
      },
      "source": [
        "DTC = DecisionTreeClassifier(max_depth=2)\n",
        "DTC.fit(data, target)\n",
        "dt = DecisionTreeClassifier(max_depth=4)\n",
        "dt.fit(data2,target)\n",
        "export_graphviz(DTC, \"tree1.1.dot\",impurity=False,filled=True)\n",
        "subprocess.run(\"dot -Tpng tree1.1.dot -o tree1.1.png\".split())\n",
        "export_graphviz(dt, \"tree2.dot\",impurity=False,filled=True)\n",
        "subprocess.run(\"dot -Tpng tree2.dot -o tree2.png\".split())\n",
        "# # 画像を表示する\n",
        "# import cv2\n",
        "# import numpy as np\n",
        "# import matplotlib.pyplot as plt\n",
        "# img = cv2.imread(\"tree1.1.png\")\n",
        "# plt.imshow(img)\n",
        "from IPython.display import Image, display_png\n",
        "display_png(Image(\"tree1.1.png\"))\n",
        "# display_png(Image(\"tree2.png\"))"
      ],
      "execution_count": null,
      "outputs": [
        {
          "output_type": "display_data",
          "data": {
            "image/png": "[encoded data removed]"
          },
          "metadata": {
            "tags": []
          }
        }
      ]
    },
    {
      "cell_type": "code",
      "metadata": {
        "id": "x9Wi95ZwAaiR",
        "colab_type": "code",
        "colab": {
          "base_uri": "https://localhost:8080/",
          "height": 325
        },
        "outputId": "6a17c353-6fb0-4db1-8fa1-56bbea2f13dd"
      },
      "source": [
        "from IPython.display import Image\n",
        "# !pip install pydotplus\n",
        "import pydotplus\n",
        "dot_data = export_graphviz(DTC, out_file=None,  filled = True, rounded = True, special_characters=True)\n",
        "graph = pydotplus.graph_from_dot_data(dot_data)\n",
        "Image(graph.create_png())"
      ],
      "execution_count": null,
      "outputs": [
        {
          "output_type": "execute_result",
          "data": {
            "image/png": "[encoded data removed]",
            "text/plain": [
              "<IPython.core.display.Image object>"
            ]
          },
          "metadata": {
            "tags": []
          },
          "execution_count": 79
        }
      ]
    },
    {
      "cell_type": "code",
      "metadata": {
        "id": "NxgD2Y4GDbN3",
        "colab_type": "code",
        "colab": {
          "base_uri": "https://localhost:8080/",
          "height": 387
        },
        "outputId": "0103766e-a6d4-4b25-eb21-2d0978fff52c"
      },
      "source": [
        "from sklearn import tree\n",
        "tree.plot_tree(DTC)"
      ],
      "execution_count": null,
      "outputs": [
        {
          "output_type": "execute_result",
          "data": {
            "text/plain": [
              "[Text(167.4, 181.2, 'X[1] <= 0.5\\ngini = 0.482\\nsamples = 714\\nvalue = [424, 290]'),\n",
              " Text(83.7, 108.72, 'X[0] <= 2.5\\ngini = 0.37\\nsamples = 261\\nvalue = [64, 197]'),\n",
              " Text(41.85, 36.23999999999998, 'gini = 0.107\\nsamples = 159\\nvalue = [9, 150]'),\n",
              " Text(125.55000000000001, 36.23999999999998, 'gini = 0.497\\nsamples = 102\\nvalue = [55, 47]'),\n",
              " Text(251.10000000000002, 108.72, 'X[2] <= 6.5\\ngini = 0.326\\nsamples = 453\\nvalue = [360, 93]'),\n",
              " Text(209.25, 36.23999999999998, 'gini = 0.444\\nsamples = 24\\nvalue = [8, 16]'),\n",
              " Text(292.95, 36.23999999999998, 'gini = 0.295\\nsamples = 429\\nvalue = [352, 77]')]"
            ]
          },
          "metadata": {
            "tags": []
          },
          "execution_count": 78
        },
        {
          "output_type": "display_data",
          "data": {
            "image/png": "[encoded data removed]",
            "text/plain": [
              "<Figure size 432x288 with 1 Axes>"
            ]
          },
          "metadata": {
            "tags": [],
            "needs_background": "light"
          }
        }
      ]
    },
    {
      "cell_type": "markdown",
      "metadata": {
        "id": "qrZ3PJ0xHKZ2",
        "colab_type": "text"
      },
      "source": [
        "## k-近傍法による分類\n",
        "\n",
        "k-nearest neighbor method, kNN\n",
        "予測したい値に最も距離が近いk個を考え、その中で多数決をとり、多い値をその予測値とする考えた方である。\n",
        "\n",
        "### MNISTをk-近傍法を用いて学習"
      ]
    },
    {
      "cell_type": "code",
      "metadata": {
        "id": "twvLJw7uGVTR",
        "colab_type": "code",
        "colab": {}
      },
      "source": [
        "import pandas as pd\n",
        "mnist = pd.read_csv(\"/content/drive/My Drive/Colab Notebooks/kNN/train.csv\")\n",
        "import numpy as np\n",
        "\n",
        "# データフレームに変換しましょう\n",
        "# labelとpixelがある\n",
        "\n",
        "mnist_train = mnist[:1000]\n",
        "mnist_train=np.reshape(mnist_train,(1000,785))\n",
        "mnist_train_target = pd.DataFrame(mnist_train, columns=['label'])\n",
        "# pandas.DataFrameの行・列を指定して削除するdrop\n",
        "# 引数labelsとaxisで指定する。列の場合はaxis=1。\n",
        "# https://note.nkmk.me/python-pandas-drop/\n",
        "mnist_train_data = mnist_train.drop('label',axis=1)\n",
        "\n",
        "mnist_test = mnist[1000:1100]\n",
        "mnist_test=np.reshape(mnist_test,(100,785))\n",
        "# DataConversionWarning: A column-vector y was passed when a 1d array was expected. Please change the shape of y to (n_samples, ), for example using ravel().\n",
        "#  import sys\n",
        "# のエラーを防ぐ\n",
        "mnist_test_target = pd.DataFrame(mnist_test, columns=['label'])\n",
        "mnist_test_data = mnist_test.drop('label',axis=1)\n",
        "\n",
        "# import matplotlib.pyplot as plt\n",
        "# import seaborn as sns\n",
        "# sns.set_style('whitegrid')\n",
        "\n",
        "# %matplotlib inline\n",
        "\n",
        "# sns.pairplot(mnist_train,hue = 'label',size = 2)"
      ],
      "execution_count": null,
      "outputs": []
    },
    {
      "cell_type": "code",
      "metadata": {
        "id": "3aMqC64biU97",
        "colab_type": "code",
        "colab": {
          "base_uri": "https://localhost:8080/",
          "height": 34
        },
        "outputId": "afd2e58e-803e-47fa-b13d-337214db770b"
      },
      "source": [
        "from sklearn.neighbors import KNeighborsClassifier\n",
        "#https://qiita.com/yshi12/items/26771139672d40a0be32\n",
        "#from sklearn.cross_validation import train_test_split#使えません\n",
        "#https://qiita.com/tprn/items/3acef9484a25de96576a\n",
        "#from sklearn.model_selection import cross_val_score\n",
        "knn = KNeighborsClassifier(n_neighbors = 3) #k = 3\n",
        "knn.fit(mnist_train_data,mnist_train_target.values.ravel())\n",
        "pred = knn.predict(mnist_test_data)\n",
        "# https://qiita.com/yshi12/items/26771139672d40a0be32\n",
        "from sklearn import metrics\n",
        "metrics.accuracy_score(mnist_test_target,pred)"
      ],
      "execution_count": null,
      "outputs": [
        {
          "output_type": "execute_result",
          "data": {
            "text/plain": [
              "0.89"
            ]
          },
          "metadata": {
            "tags": []
          },
          "execution_count": 57
        }
      ]
    },
    {
      "cell_type": "markdown",
      "metadata": {
        "id": "VitJMhfwqVJM",
        "colab_type": "text"
      },
      "source": [
        "### kの数で精度が変わるなら、、回してみよう"
      ]
    },
    {
      "cell_type": "code",
      "metadata": {
        "id": "r2L4mjmfkOkl",
        "colab_type": "code",
        "colab": {
          "base_uri": "https://localhost:8080/",
          "height": 303
        },
        "outputId": "6ff833f7-c029-4852-bcb1-2a3509e776c9"
      },
      "source": [
        "accuracy = []\n",
        "k_range = 60\n",
        "min_s = -1\n",
        "max_k = -1\n",
        "for k in range(1,k_range):\n",
        "    knn = KNeighborsClassifier(n_neighbors=k)\n",
        "    knn.fit(mnist_train_data, mnist_train_target.values.ravel())\n",
        "    pred = knn.predict(mnist_test_data)\n",
        "    score = metrics.accuracy_score(mnist_test_target.values.ravel(), pred)\n",
        "    accuracy.append(score)\n",
        "    if score > min_s:\n",
        "        max_k = k\n",
        "        min_s = score\n",
        "plt.plot(range(1,k_range),accuracy)\n",
        "\n",
        "print('max_n_neighbors:',max_k)\n",
        "print('max_score:',min_s)\n"
      ],
      "execution_count": null,
      "outputs": [
        {
          "output_type": "stream",
          "text": [
            "max_n_neighbors: 3\n",
            "max_score: 0.89\n"
          ],
          "name": "stdout"
        },
        {
          "output_type": "display_data",
          "data": {
            "image/png": "[encoded data removed]",
            "text/plain": [
              "<Figure size 432x288 with 1 Axes>"
            ]
          },
          "metadata": {
            "tags": [],
            "needs_background": "light"
          }
        }
      ]
    },
    {
      "cell_type": "markdown",
      "metadata": {
        "id": "zLXMbhftNYKg",
        "colab_type": "text"
      },
      "source": [
        "## クラスタリング\n",
        "\n",
        "似ているデータをまとめて、いくつかのクラスタと言われるグループに分割する手段"
      ]
    },
    {
      "cell_type": "markdown",
      "metadata": {
        "id": "ca7YhrD2NheP",
        "colab_type": "text"
      },
      "source": [
        "### 階層的クラスタリング\n",
        "1つ1つのデータを1つのクラスタとし、距離が最も近いクラスタ同士を併合して、階層的にクラスタを形成する方法\n",
        "\n",
        "クラスタリングの過程において、併合の様子を木として図示したものをデンドログラム（樹形図）\n",
        "\n",
        "距離が近い2つをまとめて→くりかえして、1つのクラスタにする。\n",
        "\n",
        "デンドログラム、縦軸はクラスタ間の距離。\n",
        "デンドログラムと水平線の交点の数がクラスタ数になる。"
      ]
    },
    {
      "cell_type": "code",
      "metadata": {
        "id": "knUiS9G0qves",
        "colab_type": "code",
        "colab": {
          "base_uri": "https://localhost:8080/",
          "height": 323
        },
        "outputId": "10400545-7465-4970-a927-e1970c052079"
      },
      "source": [
        "# 行と列を入れ替える Excel https://support.microsoft.com/ja-jp/office/%E8%A1%8C%E3%81%8B%E3%82%89%E5%88%97%E3%80%81%E3%81%BE%E3%81%9F%E3%81%AF%E5%88%97%E3%81%8B%E3%82%89%E8%A1%8C%E3%81%AB%E3%83%87%E3%83%BC%E3%82%BF%E3%82%92%E5%85%A5%E3%82%8C%E6%9B%BF%E3%81%88%E3%82%8B-%E9%85%8D%E7%BD%AE%E3%81%AE%E8%BB%A2%E6%8F%9B-3419f2e3-beab-4318-aae5-d0f862209744\n",
        "import pandas as pd\n",
        "df = pd.read_csv(\"/content/drive/My Drive/Colab Notebooks/clustering/train.csv\", index_col = 0,encoding='cp932')\n",
        "df.head()"
      ],
      "execution_count": null,
      "outputs": [
        {
          "output_type": "execute_result",
          "data": {
            "text/html": [
              "<div>\n",
              "<style scoped>\n",
              "    .dataframe tbody tr th:only-of-type {\n",
              "        vertical-align: middle;\n",
              "    }\n",
              "\n",
              "    .dataframe tbody tr th {\n",
              "        vertical-align: top;\n",
              "    }\n",
              "\n",
              "    .dataframe thead th {\n",
              "        text-align: right;\n",
              "    }\n",
              "</style>\n",
              "<table border=\"1\" class=\"dataframe\">\n",
              "  <thead>\n",
              "    <tr style=\"text-align: right;\">\n",
              "      <th></th>\n",
              "      <th>通信</th>\n",
              "      <th>旅行関係</th>\n",
              "      <th>教育、教養娯楽</th>\n",
              "      <th>衣類等</th>\n",
              "      <th>医療</th>\n",
              "      <th>家具等</th>\n",
              "      <th>家電等</th>\n",
              "      <th>住宅関係</th>\n",
              "      <th>自動車等関係</th>\n",
              "      <th>冠婚葬祭費用</th>\n",
              "      <th>仕送り金</th>\n",
              "    </tr>\n",
              "  </thead>\n",
              "  <tbody>\n",
              "    <tr>\n",
              "      <th>北海道</th>\n",
              "      <td>16806</td>\n",
              "      <td>948</td>\n",
              "      <td>14345</td>\n",
              "      <td>763</td>\n",
              "      <td>1945</td>\n",
              "      <td>1751</td>\n",
              "      <td>4138</td>\n",
              "      <td>2592</td>\n",
              "      <td>22796</td>\n",
              "      <td>515</td>\n",
              "      <td>2376</td>\n",
              "    </tr>\n",
              "    <tr>\n",
              "      <th>東北</th>\n",
              "      <td>17387</td>\n",
              "      <td>123</td>\n",
              "      <td>24406</td>\n",
              "      <td>672</td>\n",
              "      <td>1360</td>\n",
              "      <td>429</td>\n",
              "      <td>4001</td>\n",
              "      <td>3214</td>\n",
              "      <td>33769</td>\n",
              "      <td>5270</td>\n",
              "      <td>3255</td>\n",
              "    </tr>\n",
              "    <tr>\n",
              "      <th>関東</th>\n",
              "      <td>18561</td>\n",
              "      <td>744</td>\n",
              "      <td>40566</td>\n",
              "      <td>929</td>\n",
              "      <td>1658</td>\n",
              "      <td>1315</td>\n",
              "      <td>5136</td>\n",
              "      <td>10534</td>\n",
              "      <td>21101</td>\n",
              "      <td>3595</td>\n",
              "      <td>1685</td>\n",
              "    </tr>\n",
              "    <tr>\n",
              "      <th>北陸</th>\n",
              "      <td>18308</td>\n",
              "      <td>408</td>\n",
              "      <td>20279</td>\n",
              "      <td>2085</td>\n",
              "      <td>2982</td>\n",
              "      <td>1401</td>\n",
              "      <td>7211</td>\n",
              "      <td>4310</td>\n",
              "      <td>49414</td>\n",
              "      <td>1883</td>\n",
              "      <td>2839</td>\n",
              "    </tr>\n",
              "    <tr>\n",
              "      <th>東海</th>\n",
              "      <td>18757</td>\n",
              "      <td>165</td>\n",
              "      <td>27067</td>\n",
              "      <td>1594</td>\n",
              "      <td>2013</td>\n",
              "      <td>1185</td>\n",
              "      <td>4777</td>\n",
              "      <td>10958</td>\n",
              "      <td>34241</td>\n",
              "      <td>7660</td>\n",
              "      <td>2506</td>\n",
              "    </tr>\n",
              "  </tbody>\n",
              "</table>\n",
              "</div>"
            ],
            "text/plain": [
              "        通信  旅行関係  教育、教養娯楽   衣類等    医療   家具等   家電等   住宅関係  自動車等関係  冠婚葬祭費用  仕送り金\n",
              "北海道  16806   948    14345   763  1945  1751  4138   2592   22796     515  2376\n",
              "東北   17387   123    24406   672  1360   429  4001   3214   33769    5270  3255\n",
              "関東   18561   744    40566   929  1658  1315  5136  10534   21101    3595  1685\n",
              "北陸   18308   408    20279  2085  2982  1401  7211   4310   49414    1883  2839\n",
              "東海   18757   165    27067  1594  2013  1185  4777  10958   34241    7660  2506"
            ]
          },
          "metadata": {
            "tags": []
          },
          "execution_count": 4
        }
      ]
    },
    {
      "cell_type": "markdown",
      "metadata": {
        "id": "tMVz3TjSWUjS",
        "colab_type": "text"
      },
      "source": [
        "自動車費用は他の分類の差よりも大きな値になっている..?<br>\n",
        "教育、教養娯楽もそうだね...?<br>\n",
        "データの基準化を行いましょう"
      ]
    },
    {
      "cell_type": "code",
      "metadata": {
        "id": "X0QWYv3oWAMP",
        "colab_type": "code",
        "colab": {}
      },
      "source": [
        "from sklearn.preprocessing import StandardScaler\n",
        "sc = StandardScaler()\n",
        "sc.fit(df)\n",
        "df_std = pd.DataFrame( data = sc.transform(df), index = df.index, columns = df.columns)"
      ],
      "execution_count": null,
      "outputs": []
    },
    {
      "cell_type": "code",
      "metadata": {
        "id": "LVMRMAK4aFVo",
        "colab_type": "code",
        "colab": {}
      },
      "source": [
        "!apt-get -y install fonts-ipafont-gothic\n",
        "!rm /root/.cache/matplotlib/fontlist-v300.json"
      ],
      "execution_count": null,
      "outputs": []
    },
    {
      "cell_type": "code",
      "metadata": {
        "id": "Pdev2uIDaWWw",
        "colab_type": "code",
        "colab": {}
      },
      "source": [
        "pip install japanize-matplotlib"
      ],
      "execution_count": null,
      "outputs": []
    },
    {
      "cell_type": "code",
      "metadata": {
        "id": "XyxT4g9MWyDc",
        "colab_type": "code",
        "colab": {
          "base_uri": "https://localhost:8080/",
          "height": 374
        },
        "outputId": "f2cf69ab-daae-4fb4-ae17-aa65239ef7e8"
      },
      "source": [
        "# 基準化した値を用いて、クラスタリングを行う\n",
        "import matplotlib.pyplot as plt\n",
        "# https://tecurio.com/googlecolab_matplotlib_japanize/\n",
        "# https://teratail.com/questions/252945\n",
        "import japanize_matplotlib #日本語化matplotlib\n",
        "import seaborn as sns\n",
        "sns.set(font=\"IPAexGothic\") #日本語フォント設定\n",
        "from scipy.cluster.hierarchy import dendrogram, linkage\n",
        "z = linkage( df_std, method = 'ward', metric = 'euclidean')\n",
        "den = dendrogram(z, labels = df.index, orientation = 'left', distance_sort='decending')\n",
        "# 日本語が表示されないので、 , fontname=\"MS Gothic\" を追加する\n",
        "\n"
      ],
      "execution_count": null,
      "outputs": [
        {
          "output_type": "stream",
          "text": [
            "/usr/local/lib/python3.6/dist-packages/japanize_matplotlib/japanize_matplotlib.py:15: MatplotlibDeprecationWarning: \n",
            "The createFontList function was deprecated in Matplotlib 3.2 and will be removed two minor releases later. Use FontManager.addfont instead.\n",
            "  font_list = font_manager.createFontList(font_files)\n",
            "/usr/local/lib/python3.6/dist-packages/statsmodels/tools/_testing.py:19: FutureWarning: pandas.util.testing is deprecated. Use the functions in the public API at pandas.testing instead.\n",
            "  import pandas.util.testing as tm\n"
          ],
          "name": "stderr"
        },
        {
          "output_type": "display_data",
          "data": {
            "image/png": "[encoded data removed]",
            "text/plain": [
              "<Figure size 432x288 with 1 Axes>"
            ]
          },
          "metadata": {
            "tags": []
          }
        }
      ]
    },
    {
      "cell_type": "markdown",
      "metadata": {
        "id": "SMV47D1va7KD",
        "colab_type": "text"
      },
      "source": [
        "### k-means法\n",
        "・あらかじめ分割するクラスタ数を決めておき、ランダムに代表点(セントロイド)を決める\n",
        "\n",
        "・データと各代表点の距離を求め、最も近い代表点のクラスタに分類\n",
        "\n",
        "・クラスタごとの平均を求め、新しい代表点とする\n",
        "\n",
        "・代表点の位置が変わっていたら2に戻る。変化が無ければ終わり\n",
        "\n",
        "\n",
        "#### k-means++法\n",
        " 最初を、データの中からランダムに1つの代表点を選び、その点からの距離の2乗に比例した確率で残りの代表点を選ぶ。"
      ]
    },
    {
      "cell_type": "code",
      "metadata": {
        "id": "CeBmA1vuXQHb",
        "colab_type": "code",
        "colab": {}
      },
      "source": [
        "import pandas as pd\n",
        "df = pd.read_csv(\"/content/drive/My Drive/Colab Notebooks/clustering/Wholesale_customers_data.csv\")"
      ],
      "execution_count": null,
      "outputs": []
    },
    {
      "cell_type": "code",
      "metadata": {
        "id": "EHKCFfR_J0Jf",
        "colab_type": "code",
        "colab": {}
      },
      "source": [
        "sub_cols = df[['Fresh','Milk','Grocery','Frozen','Detergents_Paper','Delicassen']]"
      ],
      "execution_count": null,
      "outputs": []
    },
    {
      "cell_type": "code",
      "metadata": {
        "id": "1AqFisUcKE1d",
        "colab_type": "code",
        "colab": {
          "base_uri": "https://localhost:8080/",
          "height": 1000
        },
        "outputId": "d657acb6-f711-47d4-bb91-d72f89208310"
      },
      "source": [
        "# clustering\n",
        "# elbor法\n",
        "!apt-get -y install fonts-ipafont-gothic\n",
        "!rm /root/.cache/matplotlib/fontlist-v300.json\n",
        "!pip install japanize-matplotlib\n",
        "import matplotlib.pyplot as plt\n",
        "from sklearn.cluster import KMeans\n",
        "import japanize_matplotlib #日本語化matplotlib\n",
        "import seaborn as sns\n",
        "sns.set(font=\"IPAexGothic\") #日本語フォント設定\n",
        "dist_list = []\n",
        "for i in range(1,11):\n",
        "    kmeans = KMeans(init = 'random', n_clusters = i, random_state = 0)\n",
        "    y_km = kmeans.fit(sub_cols)\n",
        "    dist_list.append(kmeans.inertia_)\n",
        "plt.plot(range(1,11), dist_list, marker='*', markersize=10)\n",
        "plt.xlabel('クラスタ数')\n",
        "plt.ylabel('クラスタ内誤差の平方和 SSE')"
      ],
      "execution_count": null,
      "outputs": [
        {
          "output_type": "stream",
          "text": [
            "Reading package lists... Done\n",
            "Building dependency tree       \n",
            "Reading state information... Done\n",
            "The following package was automatically installed and is no longer required:\n",
            "  libnvidia-common-440\n",
            "Use 'apt autoremove' to remove it.\n",
            "The following additional packages will be installed:\n",
            "  fonts-ipafont-mincho\n",
            "The following NEW packages will be installed:\n",
            "  fonts-ipafont-gothic fonts-ipafont-mincho\n",
            "0 upgraded, 2 newly installed, 0 to remove and 33 not upgraded.\n",
            "Need to get 8,251 kB of archives.\n",
            "After this operation, 28.7 MB of additional disk space will be used.\n",
            "Get:1 http://archive.ubuntu.com/ubuntu bionic/universe amd64 fonts-ipafont-gothic all 00303-18ubuntu1 [3,526 kB]\n",
            "Get:2 http://archive.ubuntu.com/ubuntu bionic/universe amd64 fonts-ipafont-mincho all 00303-18ubuntu1 [4,725 kB]\n",
            "Fetched 8,251 kB in 1s (7,354 kB/s)\n",
            "Selecting previously unselected package fonts-ipafont-gothic.\n",
            "(Reading database ... 144379 files and directories currently installed.)\n",
            "Preparing to unpack .../fonts-ipafont-gothic_00303-18ubuntu1_all.deb ...\n",
            "Unpacking fonts-ipafont-gothic (00303-18ubuntu1) ...\n",
            "Selecting previously unselected package fonts-ipafont-mincho.\n",
            "Preparing to unpack .../fonts-ipafont-mincho_00303-18ubuntu1_all.deb ...\n",
            "Unpacking fonts-ipafont-mincho (00303-18ubuntu1) ...\n",
            "Setting up fonts-ipafont-gothic (00303-18ubuntu1) ...\n",
            "update-alternatives: using /usr/share/fonts/opentype/ipafont-gothic/ipag.ttf to provide /usr/share/fonts/truetype/fonts-japanese-gothic.ttf (fonts-japanese-gothic.ttf) in auto mode\n",
            "Setting up fonts-ipafont-mincho (00303-18ubuntu1) ...\n",
            "update-alternatives: using /usr/share/fonts/opentype/ipafont-mincho/ipam.ttf to provide /usr/share/fonts/truetype/fonts-japanese-mincho.ttf (fonts-japanese-mincho.ttf) in auto mode\n",
            "Processing triggers for fontconfig (2.12.6-0ubuntu2) ...\n",
            "rm: cannot remove '/root/.cache/matplotlib/fontlist-v300.json': No such file or directory\n",
            "Collecting japanize-matplotlib\n",
            "\u001b[?25l  Downloading https://files.pythonhosted.org/packages/2c/aa/3b24d54bd02e25d63c8f23bb316694e1aad7ffdc07ba296e7c9be2f6837d/japanize-matplotlib-1.1.2.tar.gz (4.1MB)\n",
            "\u001b[K     |████████████████████████████████| 4.1MB 2.8MB/s \n",
            "\u001b[?25hRequirement already satisfied: matplotlib in /usr/local/lib/python3.6/dist-packages (from japanize-matplotlib) (3.2.2)\n",
            "Requirement already satisfied: pyparsing!=2.0.4,!=2.1.2,!=2.1.6,>=2.0.1 in /usr/local/lib/python3.6/dist-packages (from matplotlib->japanize-matplotlib) (2.4.7)\n",
            "Requirement already satisfied: kiwisolver>=1.0.1 in /usr/local/lib/python3.6/dist-packages (from matplotlib->japanize-matplotlib) (1.2.0)\n",
            "Requirement already satisfied: cycler>=0.10 in /usr/local/lib/python3.6/dist-packages (from matplotlib->japanize-matplotlib) (0.10.0)\n",
            "Requirement already satisfied: python-dateutil>=2.1 in /usr/local/lib/python3.6/dist-packages (from matplotlib->japanize-matplotlib) (2.8.1)\n",
            "Requirement already satisfied: numpy>=1.11 in /usr/local/lib/python3.6/dist-packages (from matplotlib->japanize-matplotlib) (1.18.5)\n",
            "Requirement already satisfied: six in /usr/local/lib/python3.6/dist-packages (from cycler>=0.10->matplotlib->japanize-matplotlib) (1.12.0)\n",
            "Building wheels for collected packages: japanize-matplotlib\n",
            "  Building wheel for japanize-matplotlib (setup.py) ... \u001b[?25l\u001b[?25hdone\n",
            "  Created wheel for japanize-matplotlib: filename=japanize_matplotlib-1.1.2-cp36-none-any.whl size=4120191 sha256=0887e4c5bc58ae37799ef8354959f314c5f3d4f1aa07fa21af4a5b5a7ba7059d\n",
            "  Stored in directory: /root/.cache/pip/wheels/9c/f9/fc/bc052ce743a03f94ccc7fda73d1d389ce98216c6ffaaf65afc\n",
            "Successfully built japanize-matplotlib\n",
            "Installing collected packages: japanize-matplotlib\n",
            "Successfully installed japanize-matplotlib-1.1.2\n"
          ],
          "name": "stdout"
        },
        {
          "output_type": "stream",
          "text": [
            "/usr/local/lib/python3.6/dist-packages/japanize_matplotlib/japanize_matplotlib.py:15: MatplotlibDeprecationWarning: \n",
            "The createFontList function was deprecated in Matplotlib 3.2 and will be removed two minor releases later. Use FontManager.addfont instead.\n",
            "  font_list = font_manager.createFontList(font_files)\n",
            "/usr/local/lib/python3.6/dist-packages/statsmodels/tools/_testing.py:19: FutureWarning: pandas.util.testing is deprecated. Use the functions in the public API at pandas.testing instead.\n",
            "  import pandas.util.testing as tm\n"
          ],
          "name": "stderr"
        },
        {
          "output_type": "execute_result",
          "data": {
            "text/plain": [
              "Text(0, 0.5, 'クラスタ内誤差の平方和 SSE')"
            ]
          },
          "metadata": {
            "tags": []
          },
          "execution_count": 8
        },
        {
          "output_type": "display_data",
          "data": {
            "image/png": "[encoded data removed]",
            "text/plain": [
              "<Figure size 432x288 with 1 Axes>"
            ]
          },
          "metadata": {
            "tags": []
          }
        }
      ]
    },
    {
      "cell_type": "code",
      "metadata": {
        "id": "ue3Bq-oXK8m4",
        "colab_type": "code",
        "colab": {}
      },
      "source": [
        "# k-means法によりクラスタリング\n",
        "kmeans = KMeans(init = 'random', n_clusters = 5, random_state =0)\n",
        "pred = kmeans.fit_predict(sub_cols)\n",
        "df['cluster_id'] = pred"
      ],
      "execution_count": null,
      "outputs": []
    },
    {
      "cell_type": "code",
      "metadata": {
        "id": "HigwiNTrMCcX",
        "colab_type": "code",
        "colab": {
          "base_uri": "https://localhost:8080/",
          "height": 312
        },
        "outputId": "eb325013-b89f-4bd9-c9c7-e6eb9e181d65"
      },
      "source": [
        "# クラスタリングしたデータの特徴を、属性ごとに平均値を求める\n",
        "clusterinfo = pd.DataFrame()\n",
        "for i in range(5):\n",
        "    clusterinfo['clust_' + str(i)] = df[df['cluster_id']==i].mean()\n",
        "clusterinfo = clusterinfo.drop(['Channel', 'Region', 'cluster_id'])\n",
        "clusterinfo.T.plot.bar(stacked = True)"
      ],
      "execution_count": null,
      "outputs": [
        {
          "output_type": "execute_result",
          "data": {
            "text/plain": [
              "<matplotlib.axes._subplots.AxesSubplot at 0x7f84a7974dd8>"
            ]
          },
          "metadata": {
            "tags": []
          },
          "execution_count": 10
        },
        {
          "output_type": "display_data",
          "data": {
            "image/png": "[encoded data removed]",
            "text/plain": [
              "<Figure size 432x288 with 1 Axes>"
            ]
          },
          "metadata": {
            "tags": []
          }
        }
      ]
    },
    {
      "cell_type": "code",
      "metadata": {
        "id": "xUNbM5KDMrmY",
        "colab_type": "code",
        "colab": {
          "base_uri": "https://localhost:8080/",
          "height": 297
        },
        "outputId": "7cd4cf99-83e6-4eec-978b-942baa923977"
      },
      "source": [
        "# また、各クラスタに含まれるデータ数を調べる\n",
        "labels = pd.Series(kmeans.labels_, name='cluster_number')\n",
        "ax = labels.value_counts(sort=False).plot(kind = 'bar')\n",
        "ax.set_xlabel('クラスタ番号')\n",
        "ax.set_ylabel('データ数')"
      ],
      "execution_count": null,
      "outputs": [
        {
          "output_type": "execute_result",
          "data": {
            "text/plain": [
              "Text(0, 0.5, 'データ数')"
            ]
          },
          "metadata": {
            "tags": []
          },
          "execution_count": 13
        },
        {
          "output_type": "display_data",
          "data": {
            "image/png": "[encoded data removed]",
            "text/plain": [
              "<Figure size 432x288 with 1 Axes>"
            ]
          },
          "metadata": {
            "tags": []
          }
        }
      ]
    },
    {
      "cell_type": "markdown",
      "metadata": {
        "id": "BaFdlpr3tbly",
        "colab_type": "text"
      },
      "source": [
        "## アソシエーション分析\n",
        "\n",
        "履歴データなどを用いて、データの結びつきの強さを求める分析をアソシエーション分析\n",
        "\n",
        "事例「おむつを買った人は缶ビールを買う傾向にある」\n",
        "\n",
        "一人の客による1回の購入データをマーケットバスケットデータといい、これを基に分析するマスケットバスケット分析を取り上げる\n",
        "\n",
        "評価指標は3つ\n",
        "\n",
        "**支持度**<br>\n",
        "全ての商品を買った人のうち、特定の商品を買った人の割合\n",
        "\n",
        "supp(コーヒーとパン) = 3/8 = 0.375\n",
        "\n",
        "supp(お茶とパン) = 1/8 = 0.125\n",
        "\n",
        "\n",
        "**確信度**<br>\n",
        "商品Xを買った人のうち、標品Xも商品Yも両方とも買った人の割合\n",
        "\n",
        "conf(コーヒー -> パン) = 3/4 = 0.75<br>\n",
        "conf(パン -> コーヒー) = 3/5 = 0.6<br>\n",
        "conf(コーヒー -> 弁当) = 3/4 = 0.75<br>\n",
        "\n",
        "\n",
        "**リフト値**<br>\n",
        "X -> Y の確信度を商品Yの支持度で割った値\n",
        "\n",
        "lift(コーヒー -> パン) = conf(コーヒー -> パン) / supp(パン) = 1.2<br>\n",
        "lift(コーヒー -> 弁当) = conf(コーヒー -> 弁当) / supp(弁当) = 0.857\n",
        "\n",
        "\n",
        "コーヒーを買う人に勧めることが適切なのはパンである\n",
        "\n",
        "リフト値は膨大な種類があるので、一定の基準以上の支持度や確信度の場合だけで計算する工夫が必要\n",
        "\n",
        "それをアプリオリアルゴリズムという"
      ]
    },
    {
      "cell_type": "markdown",
      "metadata": {
        "id": "jiyBpNVW4ij3",
        "colab_type": "text"
      },
      "source": [
        "# ニューラルネットワーク"
      ]
    },
    {
      "cell_type": "code",
      "metadata": {
        "id": "-Xy2uH5yNFgl",
        "colab_type": "code",
        "colab": {
          "base_uri": "https://localhost:8080/",
          "height": 34
        },
        "outputId": "72612f91-09e2-42a8-d0d0-4edf80f1cac7"
      },
      "source": [
        "import numpy as np\n",
        "X = np.array([0.3, 0.8, 1.2, 0.7])\n",
        "W = np.array([1,2,1,1])\n",
        "B = 0.2\n",
        "A = np.dot(X,W) + B\n",
        "print(A)"
      ],
      "execution_count": 1,
      "outputs": [
        {
          "output_type": "stream",
          "text": [
            "4.0\n"
          ],
          "name": "stdout"
        }
      ]
    },
    {
      "cell_type": "markdown",
      "metadata": {
        "id": "f2H8ln3MLHlx",
        "colab_type": "text"
      },
      "source": [
        "## 活性化関数\n",
        "\n",
        "各ニューロンの結果の正確さを確率で表したものである\n",
        "\n",
        "ステップ関数 0,1\n",
        "\n",
        "シグモイド関数 ネコか犬か\n",
        "\n",
        "ソフトマックス関数 ネコか犬か鳥か　複数分類\n",
        "\n",
        "\n"
      ]
    },
    {
      "cell_type": "markdown",
      "metadata": {
        "id": "KZaC90wuL7E4",
        "colab_type": "text"
      },
      "source": [
        "## 損失関数\n",
        "\n",
        "ニューラルネットワークの性能の良し悪し\n",
        "\n",
        "予測データと教師データとの誤差、0に近い程よい\n"
      ]
    },
    {
      "cell_type": "markdown",
      "metadata": {
        "id": "4Hq1pVF2L87G",
        "colab_type": "text"
      },
      "source": [
        "## 勾配降下法\n",
        "\n",
        "最適な重みやバイアスを探す方法\n"
      ]
    },
    {
      "cell_type": "markdown",
      "metadata": {
        "id": "mrIYgp2MMxRE",
        "colab_type": "text"
      },
      "source": [
        "### 誤差逆伝播法\n",
        "\n",
        "出力結果の誤差を次の重み付けとバイアスを決める計算に利用"
      ]
    },
    {
      "cell_type": "markdown",
      "metadata": {
        "id": "KaWQzyN2NJuI",
        "colab_type": "text"
      },
      "source": [
        "# 過学習\n",
        "\n",
        "学習の時に特定のデータにだけ過剰に田泓氏、学習に用いていない他のデータでは正しくならない状態のことである"
      ]
    },
    {
      "cell_type": "code",
      "metadata": {
        "id": "DVbJl3wgK1b9",
        "colab_type": "code",
        "colab": {}
      },
      "source": [
        "# MNIST（4 と 9 の手書き文字）の認識（2 値分類）をニューラルネットワークで学習\n",
        "# Neural Network Console（https://dl.sony.com/ja/"
      ],
      "execution_count": null,
      "outputs": []
    },
    {
      "cell_type": "code",
      "metadata": {
        "id": "1ec6dXasNeb9",
        "colab_type": "code",
        "colab": {}
      },
      "source": [
        ""
      ],
      "execution_count": null,
      "outputs": []
    }
  ]
}
