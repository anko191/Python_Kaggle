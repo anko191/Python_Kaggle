{
  "nbformat": 4,
  "nbformat_minor": 0,
  "metadata": {
    "colab": {
      "name": "pandas_scraping",
      "provenance": [],
      "collapsed_sections": [],
      "authorship_tag": "ABX9TyMLfULPP+O3/kprAU3KDGEe",
      "include_colab_link": true
    },
    "kernelspec": {
      "name": "python3",
      "display_name": "Python 3"
    }
  },
  "cells": [
    {
      "cell_type": "markdown",
      "metadata": {
        "id": "view-in-github",
        "colab_type": "text"
      },
      "source": [
        "<a href=\"https://colab.research.google.com/github/anko191/Python_Kaggle/blob/master/pandas/pandas_scraping.ipynb\" target=\"_parent\"><img src=\"https://colab.research.google.com/assets/colab-badge.svg\" alt=\"Open In Colab\"/></a>"
      ]
    },
    {
      "cell_type": "markdown",
      "metadata": {
        "id": "frJzMYNkMr6o",
        "colab_type": "text"
      },
      "source": [
        "# Web Scraping\n",
        "* pip install pandas-datareader\n",
        "* pip install git+https://github.com/pydata/pandas-datareader.git\n"
      ]
    },
    {
      "cell_type": "code",
      "metadata": {
        "id": "hlGO60WCMu93",
        "colab_type": "code",
        "colab": {
          "base_uri": "https://localhost:8080/",
          "height": 255
        },
        "outputId": "b5c18aa0-0878-4510-9000-4592c13393df"
      },
      "source": [
        "import datetime\n",
        "import pandas as pd\n",
        "import pandas_datareader.data as web\n",
        "import matplotlib.pyplot as plt\n",
        "\n",
        "with open('./alpha_vantage_api_key.txt') as f:\n",
        "    api_key = f.read()\n",
        "start = datetime.datetime(2015,1,1)\n",
        "end = datetime.datetime(2019,12,31)\n",
        "df_sne = web.DataReader('SNE', 'av-daily', start, end, api_key = api_key)\n",
        "print(df_sne)\n",
        "# ソニー SNE, "
      ],
      "execution_count": null,
      "outputs": [
        {
          "output_type": "stream",
          "text": [
            "             open    high    low  close   volume\n",
            "2015-01-02  20.47  20.685  20.43  20.56  1229939\n",
            "2015-01-05  20.45  20.450  20.21  20.26  1083137\n",
            "2015-01-06  20.46  20.580  20.15  20.25  2209124\n",
            "2015-01-07  21.59  21.700  21.47  21.53  2486293\n",
            "2015-01-08  21.53  21.620  21.47  21.56  1296471\n",
            "...           ...     ...    ...    ...      ...\n",
            "2019-12-24  67.98  68.000  67.76  67.76   264463\n",
            "2019-12-26  68.00  68.030  67.85  68.02   517975\n",
            "2019-12-27  68.03  68.100  67.73  67.78   351118\n",
            "2019-12-30  67.78  67.790  67.25  67.72   993865\n",
            "2019-12-31  67.72  68.025  67.51  68.00   549672\n",
            "\n",
            "[1258 rows x 5 columns]\n"
          ],
          "name": "stdout"
        }
      ]
    },
    {
      "cell_type": "code",
      "metadata": {
        "id": "BytL9t3nNwaL",
        "colab_type": "code",
        "colab": {
          "base_uri": "https://localhost:8080/",
          "height": 493
        },
        "outputId": "5a07c35f-b03f-4689-9e3e-8648d49053a4"
      },
      "source": [
        "df_aapl = web.DataReader('AAPL', 'av-daily', start, end, api_key = api_key)\n",
        "print(df_aapl)\n",
        "df_sne_aapl = pd.DataFrame({'SNE':df_sne['close'], 'AAPL':df_aapl['close']})\n",
        "print(df_sne_aapl)"
      ],
      "execution_count": null,
      "outputs": [
        {
          "output_type": "stream",
          "text": [
            "              open    high       low   close    volume\n",
            "2015-01-02  111.39  111.44  107.3500  109.33  53204626\n",
            "2015-01-05  108.29  108.65  105.4100  106.25  64285491\n",
            "2015-01-06  106.54  107.43  104.6300  106.26  65797116\n",
            "2015-01-07  107.20  108.20  106.6950  107.75  40105934\n",
            "2015-01-08  109.23  112.15  108.7000  111.89  59364547\n",
            "...            ...     ...       ...     ...       ...\n",
            "2019-12-24  284.69  284.89  282.9197  284.27  12119714\n",
            "2019-12-26  284.82  289.98  284.7000  289.91  23334004\n",
            "2019-12-27  291.12  293.97  288.1200  289.80  36592936\n",
            "2019-12-30  289.46  292.69  285.2200  291.52  36059614\n",
            "2019-12-31  289.93  293.68  289.5200  293.65  25247625\n",
            "\n",
            "[1258 rows x 5 columns]\n",
            "              SNE    AAPL\n",
            "2015-01-02  20.56  109.33\n",
            "2015-01-05  20.26  106.25\n",
            "2015-01-06  20.25  106.26\n",
            "2015-01-07  21.53  107.75\n",
            "2015-01-08  21.56  111.89\n",
            "...           ...     ...\n",
            "2019-12-24  67.76  284.27\n",
            "2019-12-26  68.02  289.91\n",
            "2019-12-27  67.78  289.80\n",
            "2019-12-30  67.72  291.52\n",
            "2019-12-31  68.00  293.65\n",
            "\n",
            "[1258 rows x 2 columns]\n"
          ],
          "name": "stdout"
        }
      ]
    },
    {
      "cell_type": "code",
      "metadata": {
        "id": "n3zecpikPSvz",
        "colab_type": "code",
        "colab": {}
      },
      "source": [
        "df_sne.to_csv('./sne_2015_2019.csv')\n",
        "df_aapl.to_csv('./aapl_2015_2019.csv')\n",
        "df_sne_aapl.to_csv('./sne_aapl_2015_2019.csv')"
      ],
      "execution_count": null,
      "outputs": []
    },
    {
      "cell_type": "markdown",
      "metadata": {
        "id": "Ft2-bRQlPqR6",
        "colab_type": "text"
      },
      "source": [
        "## plot graph\n",
        "pandas.DataFrame.plot() method"
      ]
    },
    {
      "cell_type": "code",
      "metadata": {
        "id": "-lawGMPCPniu",
        "colab_type": "code",
        "colab": {
          "base_uri": "https://localhost:8080/",
          "height": 305
        },
        "outputId": "65d22010-b0fd-4ec2-8682-9e01a0e7f3ce"
      },
      "source": [
        "print(type(df_sne_aapl.index))\n",
        "df_sne_aapl.index = pd.to_datetime(df_sne_aapl.index)\n",
        "print(type(df_sne_aapl.index))\n",
        "df_sne_aapl.plot(title='SNE vs. AAPL', grid = True)\n",
        "plt.show()\n",
        "plt.savefig('./na.png')\n",
        "plt.close()"
      ],
      "execution_count": null,
      "outputs": [
        {
          "output_type": "stream",
          "text": [
            "<class 'pandas.core.indexes.base.Index'>\n",
            "<class 'pandas.core.indexes.datetimes.DatetimeIndex'>\n"
          ],
          "name": "stdout"
        },
        {
          "output_type": "display_data",
          "data": {
            "image/png": "[encoded data removed]",
            "text/plain": [
              "<Figure size 432x288 with 1 Axes>"
            ]
          },
          "metadata": {
            "tags": [],
            "needs_background": "light"
          }
        }
      ]
    },
    {
      "cell_type": "code",
      "metadata": {
        "id": "CsKohT8jQBha",
        "colab_type": "code",
        "colab": {
          "base_uri": "https://localhost:8080/",
          "height": 271
        },
        "outputId": "efa376b3-9b54-40d1-df47-050b71968331"
      },
      "source": [
        "df_sne_aapl['SNE'] /= df_sne_aapl['SNE'][0]\n",
        "df_sne_aapl['AAPL'] /= df_sne_aapl['AAPL'][0]\n",
        "\n",
        "df_sne_aapl.plot(title = 'SNE vs. AAPL', grid = True)\n",
        "plt.show()\n",
        "plt.savefig('./a.png')\n",
        "plt.close()"
      ],
      "execution_count": null,
      "outputs": [
        {
          "output_type": "display_data",
          "data": {
            "image/png": "[encoded data removed]",
            "text/plain": [
              "<Figure size 432x288 with 1 Axes>"
            ]
          },
          "metadata": {
            "tags": [],
            "needs_background": "light"
          }
        }
      ]
    },
    {
      "cell_type": "markdown",
      "metadata": {
        "id": "8lOBUsNiRAUz",
        "colab_type": "text"
      },
      "source": [
        "# Data Acquisition"
      ]
    },
    {
      "cell_type": "code",
      "metadata": {
        "id": "dDwamrC-QjCs",
        "colab_type": "code",
        "colab": {
          "base_uri": "https://localhost:8080/",
          "height": 272
        },
        "outputId": "5507546b-633b-42aa-cdab-dd8f77f99f73"
      },
      "source": [
        "from pandas_datareader import wb\n",
        "import matplotlib.pyplot as plt\n",
        "df = wb.download(indicator = 'SP.POP.TOTL', country=['JP', 'US'], start = 1960, end = 2014)\n",
        "print(df)"
      ],
      "execution_count": null,
      "outputs": [
        {
          "output_type": "stream",
          "text": [
            "                    SP.POP.TOTL\n",
            "country       year             \n",
            "Japan         2014    127276000\n",
            "              2013    127445000\n",
            "              2012    127629000\n",
            "              2011    127833000\n",
            "              2010    128070000\n",
            "...                         ...\n",
            "United States 1964    191889000\n",
            "              1963    189242000\n",
            "              1962    186538000\n",
            "              1961    183691000\n",
            "              1960    180671000\n",
            "\n",
            "[110 rows x 1 columns]\n"
          ],
          "name": "stdout"
        }
      ]
    },
    {
      "cell_type": "code",
      "metadata": {
        "id": "akGtYD9YRZdW",
        "colab_type": "code",
        "colab": {
          "base_uri": "https://localhost:8080/",
          "height": 289
        },
        "outputId": "e67f5fe8-33f0-4933-a605-fba9fc4a8f9b"
      },
      "source": [
        "df2 = df.unstack(level = 0)\n",
        "print(df2.head())\n",
        "print(df2.tail())"
      ],
      "execution_count": null,
      "outputs": [
        {
          "output_type": "stream",
          "text": [
            "        SP.POP.TOTL              \n",
            "country       Japan United States\n",
            "year                             \n",
            "1960       92500572     180671000\n",
            "1961       94943000     183691000\n",
            "1962       95832000     186538000\n",
            "1963       96812000     189242000\n",
            "1964       97826000     191889000\n",
            "        SP.POP.TOTL              \n",
            "country       Japan United States\n",
            "year                             \n",
            "2010      128070000     309321666\n",
            "2011      127833000     311556874\n",
            "2012      127629000     313830990\n",
            "2013      127445000     315993715\n",
            "2014      127276000     318301008\n"
          ],
          "name": "stdout"
        }
      ]
    },
    {
      "cell_type": "code",
      "metadata": {
        "id": "XNBgKCbRSjzu",
        "colab_type": "code",
        "colab": {
          "base_uri": "https://localhost:8080/",
          "height": 187
        },
        "outputId": "0a9f9410-041a-4a97-f981-ec47deaf417c"
      },
      "source": [
        "print(df2.columns)\n",
        "df2.columns = ['Japan', 'United States']\n",
        "print(df2.head())"
      ],
      "execution_count": null,
      "outputs": [
        {
          "output_type": "stream",
          "text": [
            "MultiIndex([('SP.POP.TOTL',         'Japan'),\n",
            "            ('SP.POP.TOTL', 'United States')],\n",
            "           names=[None, 'country'])\n",
            "         Japan  United States\n",
            "year                         \n",
            "1960  92500572      180671000\n",
            "1961  94943000      183691000\n",
            "1962  95832000      186538000\n",
            "1963  96812000      189242000\n",
            "1964  97826000      191889000\n"
          ],
          "name": "stdout"
        }
      ]
    },
    {
      "cell_type": "code",
      "metadata": {
        "id": "DYf0nfqESptm",
        "colab_type": "code",
        "colab": {
          "base_uri": "https://localhost:8080/",
          "height": 290
        },
        "outputId": "34a28bcf-927c-4c05-cc47-7490f9b0fa37"
      },
      "source": [
        "df2.plot(grid=True)\n",
        "plt.show()"
      ],
      "execution_count": null,
      "outputs": [
        {
          "output_type": "display_data",
          "data": {
            "image/png": "[encoded data removed]",
            "text/plain": [
              "<Figure size 432x288 with 1 Axes>"
            ]
          },
          "metadata": {
            "tags": [],
            "needs_background": "light"
          }
        }
      ]
    },
    {
      "cell_type": "markdown",
      "metadata": {
        "id": "73JxTY0nS_Wp",
        "colab_type": "text"
      },
      "source": [
        "# using BeautifulSoup"
      ]
    },
    {
      "cell_type": "code",
      "metadata": {
        "id": "F5IwJTfRSuD-",
        "colab_type": "code",
        "colab": {
          "base_uri": "https://localhost:8080/",
          "height": 34
        },
        "outputId": "1b6b5bbe-2391-4b3d-fc2c-0ef8d20137c0"
      },
      "source": [
        "import pandas as pd\n",
        "url = 'https://info.finance.yahoo.co.jp/ranking/?kd=4'\n",
        "dfs = pd.read_html(url)\n",
        "print(len(dfs))"
      ],
      "execution_count": null,
      "outputs": [
        {
          "output_type": "stream",
          "text": [
            "1\n"
          ],
          "name": "stdout"
        }
      ]
    },
    {
      "cell_type": "code",
      "metadata": {
        "id": "mMMbYkTXTLYG",
        "colab_type": "code",
        "colab": {
          "base_uri": "https://localhost:8080/",
          "height": 139
        },
        "outputId": "b645b7f6-9851-4b2d-d124-ff724c8c5b2d"
      },
      "source": [
        "print(dfs[0].head())"
      ],
      "execution_count": null,
      "outputs": [
        {
          "output_type": "stream",
          "text": [
            "  順位   コード    市場             名称    取引値   取引値.1     発行済み株式数 時価総額（百万円） 単元株数  掲示板\n",
            "0  1  7203  東証1部      トヨタ自動車(株)  07/17    6813  3262997492  22230802  100  掲示板\n",
            "1  2  9984  東証1部  ソフトバンクグループ(株)  07/17    6415  2089814330  13406159  100  掲示板\n",
            "2  3  6861  東証1部       (株)キーエンス  07/17   44100   243207684  10725459  100  掲示板\n",
            "3  4  6758  東証1部         ソニー(株)  07/17    8115  1261058781  10233492  100  掲示板\n",
            "4  5  9432  東証1部      日本電信電話(株)  07/17  2558.5  3900788940   9980169  100  掲示板\n"
          ],
          "name": "stdout"
        }
      ]
    },
    {
      "cell_type": "markdown",
      "metadata": {
        "id": "MEf-xp0LTdad",
        "colab_type": "text"
      },
      "source": [
        "## but error"
      ]
    },
    {
      "cell_type": "code",
      "metadata": {
        "id": "5htlvfjZTO1c",
        "colab_type": "code",
        "colab": {
          "base_uri": "https://localhost:8080/",
          "height": 119
        },
        "outputId": "b9091ecd-e5b9-4d03-a690-ff754d606703"
      },
      "source": [
        "dfs[0].columns = ['順位', 'コード', '市場', '名称', '時刻', '取引値', '発行済み株式数', '時価総額（百万円）', '単元株数', '掲示板']\n",
        "print(dfs[0][['名称', '時価総額（百万円）']].head())"
      ],
      "execution_count": null,
      "outputs": [
        {
          "output_type": "stream",
          "text": [
            "              名称 時価総額（百万円）\n",
            "0      トヨタ自動車(株)  22230802\n",
            "1  ソフトバンクグループ(株)  13406159\n",
            "2       (株)キーエンス  10725459\n",
            "3         ソニー(株)  10233492\n",
            "4      日本電信電話(株)   9980169\n"
          ],
          "name": "stdout"
        }
      ]
    },
    {
      "cell_type": "code",
      "metadata": {
        "id": "6Gy9nr14TioM",
        "colab_type": "code",
        "colab": {
          "base_uri": "https://localhost:8080/",
          "height": 34
        },
        "outputId": "f2ff92c1-b074-4803-a5f7-fc132be6abbf"
      },
      "source": [
        "url = 'https://ja.wikipedia.org/wiki/Python'\n",
        "dfs = pd.read_html(url)\n",
        "print(len(dfs))\n"
      ],
      "execution_count": null,
      "outputs": [
        {
          "output_type": "stream",
          "text": [
            "13\n"
          ],
          "name": "stdout"
        }
      ]
    },
    {
      "cell_type": "code",
      "metadata": {
        "id": "0YPCRIcuTvNN",
        "colab_type": "code",
        "colab": {
          "base_uri": "https://localhost:8080/",
          "height": 357
        },
        "outputId": "9a8bd3b3-7dfa-4658-e815-d0ee6658a795"
      },
      "source": [
        "dfs = pd.read_html(url, match = 'リリース日')\n",
        "print(len(dfs))\n",
        "print(dfs[0])\n",
        "print(dfs[1])"
      ],
      "execution_count": null,
      "outputs": [
        {
          "output_type": "stream",
          "text": [
            "2\n",
            "   バージョン    リリース日[29]   サポート期限[30]\n",
            "0    2.0  2000年10月16日          NaN\n",
            "1    2.1   2001年4月15日          NaN\n",
            "2    2.2  2001年12月21日          NaN\n",
            "3    2.3   2003年7月29日          NaN\n",
            "4    2.4  2004年11月30日          NaN\n",
            "5    2.5   2006年9月19日          NaN\n",
            "6    2.6   2008年10月1日  2013年10月29日\n",
            "7    2.7    2010年7月4日    2020年1月1日\n",
            "   バージョン    リリース日[29]  サポート期限[30]\n",
            "0    3.0   2008年12月3日  2009年1月13日\n",
            "1    3.1   2009年6月27日   2012年4月9日\n",
            "2    3.2   2011年2月20日  2016年2月20日\n",
            "3    3.3   2012年9月29日  2017年9月29日\n",
            "4    3.4   2014年3月16日  2019年3月18日\n",
            "5    3.5   2015年9月13日     2020年9月\n",
            "6    3.6  2016年12月23日    2021年12月\n",
            "7    3.7   2018年6月27日     2023年6月\n",
            "8    3.8  2019年10月14日    2024年10月\n"
          ],
          "name": "stdout"
        }
      ]
    },
    {
      "cell_type": "code",
      "metadata": {
        "id": "hBY0ajRrT1it",
        "colab_type": "code",
        "colab": {
          "base_uri": "https://localhost:8080/",
          "height": 357
        },
        "outputId": "462037b9-3142-4c1c-c7b2-0abd3ca1e869"
      },
      "source": [
        "dfs = pd.read_html(url, match='リリース日', header=0)\n",
        "\n",
        "print(len(dfs))\n",
        "\n",
        "print(dfs[0])\n",
        "\n",
        "print(dfs[1])"
      ],
      "execution_count": null,
      "outputs": [
        {
          "output_type": "stream",
          "text": [
            "2\n",
            "   バージョン    リリース日[29]   サポート期限[30]\n",
            "0    2.0  2000年10月16日          NaN\n",
            "1    2.1   2001年4月15日          NaN\n",
            "2    2.2  2001年12月21日          NaN\n",
            "3    2.3   2003年7月29日          NaN\n",
            "4    2.4  2004年11月30日          NaN\n",
            "5    2.5   2006年9月19日          NaN\n",
            "6    2.6   2008年10月1日  2013年10月29日\n",
            "7    2.7    2010年7月4日    2020年1月1日\n",
            "   バージョン    リリース日[29]  サポート期限[30]\n",
            "0    3.0   2008年12月3日  2009年1月13日\n",
            "1    3.1   2009年6月27日   2012年4月9日\n",
            "2    3.2   2011年2月20日  2016年2月20日\n",
            "3    3.3   2012年9月29日  2017年9月29日\n",
            "4    3.4   2014年3月16日  2019年3月18日\n",
            "5    3.5   2015年9月13日     2020年9月\n",
            "6    3.6  2016年12月23日    2021年12月\n",
            "7    3.7   2018年6月27日     2023年6月\n",
            "8    3.8  2019年10月14日    2024年10月\n"
          ],
          "name": "stdout"
        }
      ]
    },
    {
      "cell_type": "code",
      "metadata": {
        "id": "nhwsv8mtUDYV",
        "colab_type": "code",
        "colab": {
          "base_uri": "https://localhost:8080/",
          "height": 323
        },
        "outputId": "05f2fb13-26ec-45dd-fb66-50d93bb82b50"
      },
      "source": [
        "df = pd.concat([dfs[0], dfs[1]], ignore_index = True).sort_values('リリース日[29]')\n",
        "print(df)"
      ],
      "execution_count": 82,
      "outputs": [
        {
          "output_type": "stream",
          "text": [
            "    バージョン    リリース日[29]   サポート期限[30]\n",
            "0     2.0  2000年10月16日          NaN\n",
            "2     2.2  2001年12月21日          NaN\n",
            "1     2.1   2001年4月15日          NaN\n",
            "3     2.3   2003年7月29日          NaN\n",
            "4     2.4  2004年11月30日          NaN\n",
            "5     2.5   2006年9月19日          NaN\n",
            "6     2.6   2008年10月1日  2013年10月29日\n",
            "8     3.0   2008年12月3日   2009年1月13日\n",
            "9     3.1   2009年6月27日    2012年4月9日\n",
            "7     2.7    2010年7月4日    2020年1月1日\n",
            "10    3.2   2011年2月20日   2016年2月20日\n",
            "11    3.3   2012年9月29日   2017年9月29日\n",
            "12    3.4   2014年3月16日   2019年3月18日\n",
            "13    3.5   2015年9月13日      2020年9月\n",
            "14    3.6  2016年12月23日     2021年12月\n",
            "15    3.7   2018年6月27日      2023年6月\n",
            "16    3.8  2019年10月14日     2024年10月\n"
          ],
          "name": "stdout"
        }
      ]
    },
    {
      "cell_type": "code",
      "metadata": {
        "id": "XX0hVc-9xqky",
        "colab_type": "code",
        "colab": {}
      },
      "source": [
        "df.to_csv('./pandas_read_sample.csv')"
      ],
      "execution_count": 83,
      "outputs": []
    },
    {
      "cell_type": "code",
      "metadata": {
        "id": "eYrK5XTSxx3Y",
        "colab_type": "code",
        "colab": {}
      },
      "source": [
        ""
      ],
      "execution_count": null,
      "outputs": []
    }
  ]
}