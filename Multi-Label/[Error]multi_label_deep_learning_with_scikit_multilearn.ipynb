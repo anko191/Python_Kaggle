{
  "nbformat": 4,
  "nbformat_minor": 0,
  "metadata": {
    "colab": {
      "name": "[Error]multi-label deep learning with scikit-multilearn",
      "provenance": [],
      "authorship_tag": "ABX9TyMkooxOFcz1Z25cX/glxba/",
      "include_colab_link": true
    },
    "kernelspec": {
      "name": "python3",
      "display_name": "Python 3"
    }
  },
  "cells": [
    {
      "cell_type": "markdown",
      "metadata": {
        "id": "view-in-github",
        "colab_type": "text"
      },
      "source": [
        "<a href=\"https://colab.research.google.com/github/anko191/Python_Kaggle/blob/master/%5BMulti-Label%5DNN/%5BError%5Dmulti_label_deep_learning_with_scikit_multilearn.ipynb\" target=\"_parent\"><img src=\"https://colab.research.google.com/assets/colab-badge.svg\" alt=\"Open In Colab\"/></a>"
      ]
    },
    {
      "cell_type": "markdown",
      "metadata": {
        "id": "JM7FPeiTuMV7"
      },
      "source": [
        "# First"
      ]
    },
    {
      "cell_type": "markdown",
      "metadata": {
        "id": "WjC-y6zEuf8p"
      },
      "source": [
        "* Installing scikit-multilearn"
      ]
    },
    {
      "cell_type": "code",
      "metadata": {
        "id": "DfVNHUQSui0O",
        "outputId": "0c154aeb-2ece-4f3b-8e65-a268ac1fa233",
        "colab": {
          "base_uri": "https://localhost:8080/",
          "height": 51
        }
      },
      "source": [
        "!pip install scikit-multilearn"
      ],
      "execution_count": 2,
      "outputs": [
        {
          "output_type": "stream",
          "text": [
            "\u001b[?25hInstalling collected packages: scikit-multilearn\n",
            "Successfully installed scikit-multilearn-0.2.0\n"
          ],
          "name": "stdout"
        }
      ]
    },
    {
      "cell_type": "code",
      "metadata": {
        "id": "5v0lW2YYvD-J",
        "outputId": "c20ef13f-67e4-4021-8716-f550dbfd66ad",
        "colab": {
          "base_uri": "https://localhost:8080/",
          "height": 51
        }
      },
      "source": [
        "!pip install arff"
      ],
      "execution_count": 4,
      "outputs": [
        {
          "output_type": "stream",
          "text": [
            "Installing collected packages: arff\n",
            "Successfully installed arff-0.9\n"
          ],
          "name": "stdout"
        }
      ]
    },
    {
      "cell_type": "markdown",
      "metadata": {
        "id": "Lp0yRBeBunDR"
      },
      "source": [
        "* import all"
      ]
    },
    {
      "cell_type": "code",
      "metadata": {
        "id": "NkyXHR1Pt3xq"
      },
      "source": [
        "import numpy as np\n",
        "import pandas as pd\n",
        "from sklearn import metrics\n",
        "from skmultilearn.dataset import load_dataset"
      ],
      "execution_count": 9,
      "outputs": []
    },
    {
      "cell_type": "markdown",
      "metadata": {
        "id": "EHjehWGNuR2k"
      },
      "source": [
        "## trainデータとテストデータとlabel名とかダウンロード"
      ]
    },
    {
      "cell_type": "markdown",
      "metadata": {
        "id": "tevz7oppv9CS"
      },
      "source": [
        "* 感情を判断するもの - emotional data\n",
        "    * 驚いた(amazed-suprised)\n",
        "    * 幸せ、喜び(happy-pleased)\n",
        "    * 落ち着いてる(relaxing-calms)\n",
        "    * 静か(quiet-still)\n",
        "    * 悲しい(sad-lonely)\n",
        "    * 怒った、積極的(angry-aggresive)"
      ]
    },
    {
      "cell_type": "code",
      "metadata": {
        "id": "Hk2nQqPHuRcO",
        "outputId": "5a932ee5-75e5-4c3b-a4f9-c068e9dbae49",
        "colab": {
          "base_uri": "https://localhost:8080/",
          "height": 51
        }
      },
      "source": [
        "X_train, y_train, feature_names, label_names = load_dataset('emotions', 'train')\n"
      ],
      "execution_count": 6,
      "outputs": [
        {
          "output_type": "stream",
          "text": [
            "emotions:train - does not exists downloading\n",
            "Downloaded emotions-train\n"
          ],
          "name": "stdout"
        }
      ]
    },
    {
      "cell_type": "code",
      "metadata": {
        "id": "MO0IIrYFvWIG",
        "outputId": "9ee839cb-665f-4ccb-e4b4-c2ecbe13ad32",
        "colab": {
          "base_uri": "https://localhost:8080/",
          "height": 51
        }
      },
      "source": [
        "X_test, y_test, _, _ = load_dataset('emotions', 'test')"
      ],
      "execution_count": 11,
      "outputs": [
        {
          "output_type": "stream",
          "text": [
            "emotions:test - does not exists downloading\n",
            "Downloaded emotions-test\n"
          ],
          "name": "stdout"
        }
      ]
    },
    {
      "cell_type": "code",
      "metadata": {
        "id": "uQU_4cXXvZqf",
        "outputId": "d257bad6-3dc6-462e-b45f-ad0a5279dbb2",
        "colab": {
          "base_uri": "https://localhost:8080/",
          "height": 34
        }
      },
      "source": [
        "X_train.shape"
      ],
      "execution_count": 25,
      "outputs": [
        {
          "output_type": "execute_result",
          "data": {
            "text/plain": [
              "(391, 72)"
            ]
          },
          "metadata": {
            "tags": []
          },
          "execution_count": 25
        }
      ]
    },
    {
      "cell_type": "code",
      "metadata": {
        "id": "GktGnqiXvv2X",
        "outputId": "0155cbe5-c644-451d-efe0-9a668b73f469",
        "colab": {
          "base_uri": "https://localhost:8080/",
          "height": 34
        }
      },
      "source": [
        "y_train.shape"
      ],
      "execution_count": 28,
      "outputs": [
        {
          "output_type": "execute_result",
          "data": {
            "text/plain": [
              "(391, 6)"
            ]
          },
          "metadata": {
            "tags": []
          },
          "execution_count": 28
        }
      ]
    },
    {
      "cell_type": "code",
      "metadata": {
        "id": "kwg-ts9qwz2w"
      },
      "source": [
        "feature_names"
      ],
      "execution_count": null,
      "outputs": []
    },
    {
      "cell_type": "markdown",
      "metadata": {
        "id": "nbqK_ErMxins"
      },
      "source": [
        "## kerasを使います\n",
        "* Single-class Keras classifier\n",
        "    * 12 * 8 RELU \n",
        "    * sigmoid でactivator\n",
        "    * binary-cross-entropy"
      ]
    },
    {
      "cell_type": "code",
      "metadata": {
        "id": "tia8zri2xdDQ"
      },
      "source": [
        "from keras.models import Sequential\n",
        "from keras.layers import Dense\n",
        "\n",
        "def create_model_single_class(input_dim, output_dim):\n",
        "    # create model\n",
        "    model = Sequential()\n",
        "    model.add(Dense(12, input_dim = input_dim, activation = 'relu'))\n",
        "    model.add(Dense(8, activation = 'relu'))\n",
        "    model.add(Dense(output_dim, activation = 'sigmoid'))\n",
        "\n",
        "    # Compile model\n",
        "    model.compile(loss = 'binary_crossentropy', optimizer = 'adam', metrics = ['accuracy'])\n",
        "    return model"
      ],
      "execution_count": 37,
      "outputs": []
    },
    {
      "cell_type": "markdown",
      "metadata": {
        "id": "-M9F0IoXyWog"
      },
      "source": [
        "## multi-label classificationを、single-label single-class に変換する必要がある。\n",
        "* ラベルごとにclassifierを訓練する Binary Relevanceがある。"
      ]
    },
    {
      "cell_type": "code",
      "metadata": {
        "id": "1-dAIq6nyTG6",
        "outputId": "fe9f4b36-b43a-472c-8b54-d3ddb61a7a08",
        "colab": {
          "base_uri": "https://localhost:8080/",
          "height": 139
        }
      },
      "source": [
        "from skmultilearn.problem_transform import BinaryRelevance\n",
        "from skmultilearn.ext import Keras\n",
        "\n",
        "KERAS_PARAMS = dict(epochs = 10, batch_size = 100, verbose = 0)\n",
        "\n",
        "clf = BinaryRelevance(classifier = Keras(create_model_single_class, False, KERAS_PARAMS), require_dense=[True, True])\n",
        "clf.fit(X_train, y_train)\n",
        "result = clf.predict(X_test)"
      ],
      "execution_count": 39,
      "outputs": [
        {
          "output_type": "stream",
          "text": [
            "WARNING:tensorflow:5 out of the last 13 calls to <function Model.make_predict_function.<locals>.predict_function at 0x7fcf002fa7b8> triggered tf.function retracing. Tracing is expensive and the excessive number of tracings could be due to (1) creating @tf.function repeatedly in a loop, (2) passing tensors with different shapes, (3) passing Python objects instead of tensors. For (1), please define your @tf.function outside of the loop. For (2), @tf.function has experimental_relax_shapes=True option that relaxes argument shapes that can avoid unnecessary retracing. For (3), please refer to https://www.tensorflow.org/tutorials/customization/performance#python_or_tensor_args and https://www.tensorflow.org/api_docs/python/tf/function for  more details.\n",
            "WARNING:tensorflow:5 out of the last 13 calls to <function Model.make_predict_function.<locals>.predict_function at 0x7fceffaa0f28> triggered tf.function retracing. Tracing is expensive and the excessive number of tracings could be due to (1) creating @tf.function repeatedly in a loop, (2) passing tensors with different shapes, (3) passing Python objects instead of tensors. For (1), please define your @tf.function outside of the loop. For (2), @tf.function has experimental_relax_shapes=True option that relaxes argument shapes that can avoid unnecessary retracing. For (3), please refer to https://www.tensorflow.org/tutorials/customization/performance#python_or_tensor_args and https://www.tensorflow.org/api_docs/python/tf/function for  more details.\n",
            "WARNING:tensorflow:5 out of the last 13 calls to <function Model.make_predict_function.<locals>.predict_function at 0x7fceff268950> triggered tf.function retracing. Tracing is expensive and the excessive number of tracings could be due to (1) creating @tf.function repeatedly in a loop, (2) passing tensors with different shapes, (3) passing Python objects instead of tensors. For (1), please define your @tf.function outside of the loop. For (2), @tf.function has experimental_relax_shapes=True option that relaxes argument shapes that can avoid unnecessary retracing. For (3), please refer to https://www.tensorflow.org/tutorials/customization/performance#python_or_tensor_args and https://www.tensorflow.org/api_docs/python/tf/function for  more details.\n",
            "WARNING:tensorflow:5 out of the last 13 calls to <function Model.make_predict_function.<locals>.predict_function at 0x7fcefea2d0d0> triggered tf.function retracing. Tracing is expensive and the excessive number of tracings could be due to (1) creating @tf.function repeatedly in a loop, (2) passing tensors with different shapes, (3) passing Python objects instead of tensors. For (1), please define your @tf.function outside of the loop. For (2), @tf.function has experimental_relax_shapes=True option that relaxes argument shapes that can avoid unnecessary retracing. For (3), please refer to https://www.tensorflow.org/tutorials/customization/performance#python_or_tensor_args and https://www.tensorflow.org/api_docs/python/tf/function for  more details.\n",
            "WARNING:tensorflow:5 out of the last 13 calls to <function Model.make_predict_function.<locals>.predict_function at 0x7fcefea0d6a8> triggered tf.function retracing. Tracing is expensive and the excessive number of tracings could be due to (1) creating @tf.function repeatedly in a loop, (2) passing tensors with different shapes, (3) passing Python objects instead of tensors. For (1), please define your @tf.function outside of the loop. For (2), @tf.function has experimental_relax_shapes=True option that relaxes argument shapes that can avoid unnecessary retracing. For (3), please refer to https://www.tensorflow.org/tutorials/customization/performance#python_or_tensor_args and https://www.tensorflow.org/api_docs/python/tf/function for  more details.\n",
            "WARNING:tensorflow:5 out of the last 13 calls to <function Model.make_predict_function.<locals>.predict_function at 0x7fceffaa0510> triggered tf.function retracing. Tracing is expensive and the excessive number of tracings could be due to (1) creating @tf.function repeatedly in a loop, (2) passing tensors with different shapes, (3) passing Python objects instead of tensors. For (1), please define your @tf.function outside of the loop. For (2), @tf.function has experimental_relax_shapes=True option that relaxes argument shapes that can avoid unnecessary retracing. For (3), please refer to https://www.tensorflow.org/tutorials/customization/performance#python_or_tensor_args and https://www.tensorflow.org/api_docs/python/tf/function for  more details.\n"
          ],
          "name": "stdout"
        }
      ]
    },
    {
      "cell_type": "code",
      "metadata": {
        "id": "kaHb6fIczB6C"
      },
      "source": [
        ""
      ],
      "execution_count": null,
      "outputs": []
    }
  ]
}