{
  "nbformat": 4,
  "nbformat_minor": 0,
  "metadata": {
    "colab": {
      "name": "Numpy_sort",
      "provenance": [],
      "collapsed_sections": [],
      "authorship_tag": "ABX9TyNLFEylyF+QJPXw+0LCdChw",
      "include_colab_link": true
    },
    "kernelspec": {
      "name": "python3",
      "display_name": "Python 3"
    }
  },
  "cells": [
    {
      "cell_type": "markdown",
      "metadata": {
        "id": "view-in-github",
        "colab_type": "text"
      },
      "source": [
        "<a href=\"https://colab.research.google.com/github/anko191/Python_Kaggle/blob/master/numpy/Numpy_sort.ipynb\" target=\"_parent\"><img src=\"https://colab.research.google.com/assets/colab-badge.svg\" alt=\"Open In Colab\"/></a>"
      ]
    },
    {
      "cell_type": "markdown",
      "metadata": {
        "id": "8XlRCsMZTy42",
        "colab_type": "text"
      },
      "source": [
        "# Lets sorting by using 'argsort'"
      ]
    },
    {
      "cell_type": "code",
      "metadata": {
        "id": "uRvNOtZmT2eJ",
        "colab_type": "code",
        "colab": {
          "base_uri": "https://localhost:8080/",
          "height": 68
        },
        "outputId": "71dcc7cf-06c5-4b1d-e7a2-1826fae2ef0b"
      },
      "source": [
        "import numpy as np\n",
        "a = np.array([3,4,2,0,1])\n",
        "print(a)\n",
        "a_sort = np.sort(a)\n",
        "print(a_sort)\n",
        "print(a)"
      ],
      "execution_count": 120,
      "outputs": [
        {
          "output_type": "stream",
          "text": [
            "[3 4 2 0 1]\n",
            "[0 1 2 3 4]\n",
            "[3 4 2 0 1]\n"
          ],
          "name": "stdout"
        }
      ]
    },
    {
      "cell_type": "markdown",
      "metadata": {
        "id": "MxcqyrnaULmA",
        "colab_type": "text"
      },
      "source": [
        "## numpy has not reverse\n",
        "Instead, use [::-1]"
      ]
    },
    {
      "cell_type": "code",
      "metadata": {
        "id": "Em2LjIaVUGq6",
        "colab_type": "code",
        "colab": {
          "base_uri": "https://localhost:8080/",
          "height": 34
        },
        "outputId": "93163554-420a-49dd-e67e-8159d09e3dc8"
      },
      "source": [
        "a_sort_reverse = np.sort(a)[::-1]\n",
        "print(a_sort_reverse)"
      ],
      "execution_count": 121,
      "outputs": [
        {
          "output_type": "stream",
          "text": [
            "[4 3 2 1 0]\n"
          ],
          "name": "stdout"
        }
      ]
    },
    {
      "cell_type": "code",
      "metadata": {
        "id": "tn7DcZ-vUWzw",
        "colab_type": "code",
        "colab": {
          "base_uri": "https://localhost:8080/",
          "height": 68
        },
        "outputId": "e096fb72-f59e-46a3-8ae1-e59e856af3f1"
      },
      "source": [
        "a_2d = np.array([[20, 3, 100], [1, 200, 30], [300, 10, 2]])\n",
        "print(a_2d)"
      ],
      "execution_count": 122,
      "outputs": [
        {
          "output_type": "stream",
          "text": [
            "[[ 20   3 100]\n",
            " [  1 200  30]\n",
            " [300  10   2]]\n"
          ],
          "name": "stdout"
        }
      ]
    },
    {
      "cell_type": "code",
      "metadata": {
        "id": "567OUIRjUeGY",
        "colab_type": "code",
        "colab": {
          "base_uri": "https://localhost:8080/",
          "height": 119
        },
        "outputId": "2fdcd52d-ab47-43a2-c16a-a19b8b116c11"
      },
      "source": [
        "a_2d_sort_col = np.sort(a_2d, axis = 0)\n",
        "a_2d_sort_row = np.sort(a_2d, axis = 1)\n",
        "print(a_2d_sort_col)\n",
        "print(a_2d_sort_row)"
      ],
      "execution_count": 123,
      "outputs": [
        {
          "output_type": "stream",
          "text": [
            "[[  1   3   2]\n",
            " [ 20  10  30]\n",
            " [300 200 100]]\n",
            "[[  3  20 100]\n",
            " [  1  30 200]\n",
            " [  2  10 300]]\n"
          ],
          "name": "stdout"
        }
      ]
    },
    {
      "cell_type": "markdown",
      "metadata": {
        "id": "sdMwZ0J7U2yN",
        "colab_type": "text"
      },
      "source": [
        "## default axis = -1, last dimension"
      ]
    },
    {
      "cell_type": "markdown",
      "metadata": {
        "id": "nTwPUsLwU_7I",
        "colab_type": "text"
      },
      "source": [
        "### if you do decending order, use slice [::-1], [:, ::-1]"
      ]
    },
    {
      "cell_type": "code",
      "metadata": {
        "id": "Gdp8FoJEUrnY",
        "colab_type": "code",
        "colab": {
          "base_uri": "https://localhost:8080/",
          "height": 119
        },
        "outputId": "b705f9c3-a467-424c-f00e-0b33b4f35e2b"
      },
      "source": [
        "a_2d_sort_col_reverse = np.sort(a_2d,axis = 0)[::-1]\n",
        "print(a_2d_sort_col_reverse)\n",
        "a_2d_sort_row_reverse = np.sort(a_2d, axis = 1)[:, ::-1]\n",
        "print(a_2d_sort_row_reverse)"
      ],
      "execution_count": 124,
      "outputs": [
        {
          "output_type": "stream",
          "text": [
            "[[300 200 100]\n",
            " [ 20  10  30]\n",
            " [  1   3   2]]\n",
            "[[100  20   3]\n",
            " [200  30   1]\n",
            " [300  10   2]]\n"
          ],
          "name": "stdout"
        }
      ]
    },
    {
      "cell_type": "code",
      "metadata": {
        "id": "0yQkqfQTVkvD",
        "colab_type": "code",
        "colab": {
          "base_uri": "https://localhost:8080/",
          "height": 170
        },
        "outputId": "7e16ca1b-3e83-433f-a857-04e366a2e641"
      },
      "source": [
        "print(a_2d)\n",
        "a_2d.sort()\n",
        "print(a_2d)\n",
        "a_2d.sort(axis = 0)\n",
        "print(a_2d[::-1])"
      ],
      "execution_count": 125,
      "outputs": [
        {
          "output_type": "stream",
          "text": [
            "[[ 20   3 100]\n",
            " [  1 200  30]\n",
            " [300  10   2]]\n",
            "[[  3  20 100]\n",
            " [  1  30 200]\n",
            " [  2  10 300]]\n",
            "[[  3  30 300]\n",
            " [  2  20 200]\n",
            " [  1  10 100]]\n"
          ],
          "name": "stdout"
        }
      ]
    },
    {
      "cell_type": "markdown",
      "metadata": {
        "id": "sPQchTJXV3iy",
        "colab_type": "text"
      },
      "source": [
        "# Lets use numpy.argsort() !!!\n",
        "\n",
        "## return not values but 'sorted index' !!"
      ]
    },
    {
      "cell_type": "code",
      "metadata": {
        "id": "j4TVwa-7VvyH",
        "colab_type": "code",
        "colab": {
          "base_uri": "https://localhost:8080/",
          "height": 170
        },
        "outputId": "dfa9d090-e990-4421-fdfb-1f8edc458d48"
      },
      "source": [
        "a_2d = np.array([[20, 3, 100],[1,200,30],[300,10,2]])\n",
        "print(a_2d)\n",
        "a_2d_sort_col_index = np.argsort(a_2d, axis = 0)\n",
        "print(a_2d_sort_col_index)\n",
        "a_2d_sort_row_index = np.argsort(a_2d)\n",
        "print(a_2d_sort_row_index)"
      ],
      "execution_count": 127,
      "outputs": [
        {
          "output_type": "stream",
          "text": [
            "[[ 20   3 100]\n",
            " [  1 200  30]\n",
            " [300  10   2]]\n",
            "[[1 0 2]\n",
            " [0 2 1]\n",
            " [2 1 0]]\n",
            "[[1 0 2]\n",
            " [0 2 1]\n",
            " [2 1 0]]\n"
          ],
          "name": "stdout"
        }
      ]
    },
    {
      "cell_type": "markdown",
      "metadata": {
        "id": "aE_u1BYzXxHL",
        "colab_type": "text"
      },
      "source": [
        "## How to sort by a specifict row or column"
      ]
    },
    {
      "cell_type": "code",
      "metadata": {
        "id": "4A9mb4ukXov7",
        "colab_type": "code",
        "colab": {
          "base_uri": "https://localhost:8080/",
          "height": 68
        },
        "outputId": "45387137-80a6-478c-8182-ba1c7cd87e89"
      },
      "source": [
        "print(a_2d)"
      ],
      "execution_count": 128,
      "outputs": [
        {
          "output_type": "stream",
          "text": [
            "[[ 20   3 100]\n",
            " [  1 200  30]\n",
            " [300  10   2]]\n"
          ],
          "name": "stdout"
        }
      ]
    },
    {
      "cell_type": "code",
      "metadata": {
        "id": "CZi5FGlcZYIM",
        "colab_type": "code",
        "colab": {
          "base_uri": "https://localhost:8080/",
          "height": 34
        },
        "outputId": "841aae4a-f242-451d-d9e6-37f042e080f1"
      },
      "source": [
        "col_num = 1\n",
        "print(a_2d[:, col_num])"
      ],
      "execution_count": 129,
      "outputs": [
        {
          "output_type": "stream",
          "text": [
            "[  3 200  10]\n"
          ],
          "name": "stdout"
        }
      ]
    },
    {
      "cell_type": "code",
      "metadata": {
        "id": "A39ZI0axZa4A",
        "colab_type": "code",
        "colab": {
          "base_uri": "https://localhost:8080/",
          "height": 34
        },
        "outputId": "ebb3a0b7-fc9e-4721-f733-be48a98d997b"
      },
      "source": [
        "print(np.argsort(a_2d[:, col_num]))"
      ],
      "execution_count": 130,
      "outputs": [
        {
          "output_type": "stream",
          "text": [
            "[0 2 1]\n"
          ],
          "name": "stdout"
        }
      ]
    },
    {
      "cell_type": "code",
      "metadata": {
        "id": "yl-Cz4A3ZdnS",
        "colab_type": "code",
        "colab": {
          "base_uri": "https://localhost:8080/",
          "height": 68
        },
        "outputId": "231d18a2-9c0f-4d23-8e5c-c599d7463de0"
      },
      "source": [
        "a_2d_sort_col_num = a_2d[np.argsort(a_2d[:, col_num])]\n",
        "print(a_2d_sort_col_num)"
      ],
      "execution_count": 131,
      "outputs": [
        {
          "output_type": "stream",
          "text": [
            "[[ 20   3 100]\n",
            " [300  10   2]\n",
            " [  1 200  30]]\n"
          ],
          "name": "stdout"
        }
      ]
    },
    {
      "cell_type": "code",
      "metadata": {
        "id": "EatPrGlVZjtB",
        "colab_type": "code",
        "colab": {
          "base_uri": "https://localhost:8080/",
          "height": 85
        },
        "outputId": "6ba05608-10c3-4b99-8532-b9a7ae765ebe"
      },
      "source": [
        "print(np.argsort(a_2d[:, col_num])[::-1])\n",
        "a_2d_sort_col_num_reverse = a_2d[np.argsort(a_2d[:, col_num])[::-1]]\n",
        "print(a_2d_sort_col_num_reverse)"
      ],
      "execution_count": 132,
      "outputs": [
        {
          "output_type": "stream",
          "text": [
            "[1 2 0]\n",
            "[[  1 200  30]\n",
            " [300  10   2]\n",
            " [ 20   3 100]]\n"
          ],
          "name": "stdout"
        }
      ]
    },
    {
      "cell_type": "markdown",
      "metadata": {
        "id": "pkbGEmvuZ3jT",
        "colab_type": "text"
      },
      "source": [
        "## specifit row"
      ]
    },
    {
      "cell_type": "code",
      "metadata": {
        "id": "6A-QlH5kZvIB",
        "colab_type": "code",
        "colab": {
          "base_uri": "https://localhost:8080/",
          "height": 85
        },
        "outputId": "a5fdd006-efa3-4b2c-81b7-0e7ca8e303c9"
      },
      "source": [
        "print(a_2d)\n",
        "row_num = 1\n",
        "print(a_2d[row_num])"
      ],
      "execution_count": 137,
      "outputs": [
        {
          "output_type": "stream",
          "text": [
            "[[ 20   3 100]\n",
            " [  1 200  30]\n",
            " [300  10   2]]\n",
            "[  1 200  30]\n"
          ],
          "name": "stdout"
        }
      ]
    },
    {
      "cell_type": "code",
      "metadata": {
        "id": "GImJ3LiuZ66Z",
        "colab_type": "code",
        "colab": {
          "base_uri": "https://localhost:8080/",
          "height": 34
        },
        "outputId": "6e5634eb-498a-4a1f-9b04-96052a09ab9d"
      },
      "source": [
        "print(np.argsort(a_2d[row_num]))\n"
      ],
      "execution_count": 134,
      "outputs": [
        {
          "output_type": "stream",
          "text": [
            "[0 2 1]\n"
          ],
          "name": "stdout"
        }
      ]
    },
    {
      "cell_type": "code",
      "metadata": {
        "id": "D5rayUILaPSx",
        "colab_type": "code",
        "colab": {
          "base_uri": "https://localhost:8080/",
          "height": 68
        },
        "outputId": "bfa70485-bcb4-4efa-a686-b58286a44f82"
      },
      "source": [
        "a_2d_sort_row_num = a_2d[:, np.argsort(a_2d[row_num])]\n",
        "print(a_2d_sort_row_num)"
      ],
      "execution_count": 136,
      "outputs": [
        {
          "output_type": "stream",
          "text": [
            "[[ 20 100   3]\n",
            " [  1  30 200]\n",
            " [300   2  10]]\n"
          ],
          "name": "stdout"
        }
      ]
    },
    {
      "cell_type": "code",
      "metadata": {
        "id": "EGU3z7rWaT96",
        "colab_type": "code",
        "colab": {
          "base_uri": "https://localhost:8080/",
          "height": 34
        },
        "outputId": "c0e05b43-758c-4411-c363-1e08d1150625"
      },
      "source": [
        "print(np.argsort(a_2d[row_num])[::-1])"
      ],
      "execution_count": 139,
      "outputs": [
        {
          "output_type": "stream",
          "text": [
            "[1 2 0]\n"
          ],
          "name": "stdout"
        }
      ]
    },
    {
      "cell_type": "code",
      "metadata": {
        "id": "DShEU-TFbBOq",
        "colab_type": "code",
        "colab": {
          "base_uri": "https://localhost:8080/",
          "height": 68
        },
        "outputId": "752c3018-98b3-4510-eeb7-3a9e58308d2d"
      },
      "source": [
        "a_2d_sort_row_num_inverse = a_2d[:, np.argsort(a_2d[row_num])[::-1]]\n",
        "print(a_2d_sort_row_num_inverse)"
      ],
      "execution_count": 140,
      "outputs": [
        {
          "output_type": "stream",
          "text": [
            "[[  3 100  20]\n",
            " [200  30   1]\n",
            " [ 10   2 300]]\n"
          ],
          "name": "stdout"
        }
      ]
    },
    {
      "cell_type": "markdown",
      "metadata": {
        "id": "62s3fftBbNqH",
        "colab_type": "text"
      },
      "source": [
        "# Sort rows and columns in any order"
      ]
    },
    {
      "cell_type": "code",
      "metadata": {
        "id": "crc-xVtlbI2z",
        "colab_type": "code",
        "colab": {
          "base_uri": "https://localhost:8080/",
          "height": 102
        },
        "outputId": "820ceed2-02f9-4eae-e40f-e0129d55b23b"
      },
      "source": [
        "import numpy as np\n",
        "a = np.arange(10, 35).reshape(5,5)\n",
        "print(a)"
      ],
      "execution_count": 141,
      "outputs": [
        {
          "output_type": "stream",
          "text": [
            "[[10 11 12 13 14]\n",
            " [15 16 17 18 19]\n",
            " [20 21 22 23 24]\n",
            " [25 26 27 28 29]\n",
            " [30 31 32 33 34]]\n"
          ],
          "name": "stdout"
        }
      ]
    },
    {
      "cell_type": "markdown",
      "metadata": {
        "id": "BaUjhJ4Vbby0",
        "colab_type": "text"
      },
      "source": [
        "## sort column in any order "
      ]
    },
    {
      "cell_type": "code",
      "metadata": {
        "id": "4hrg_TGIbXm7",
        "colab_type": "code",
        "colab": {
          "base_uri": "https://localhost:8080/",
          "height": 102
        },
        "outputId": "7437793e-2c15-42de-e410-9db41dabd078"
      },
      "source": [
        "col_swap = a[:, [3,2,4,0,1]]\n",
        "print(col_swap)"
      ],
      "execution_count": 142,
      "outputs": [
        {
          "output_type": "stream",
          "text": [
            "[[13 12 14 10 11]\n",
            " [18 17 19 15 16]\n",
            " [23 22 24 20 21]\n",
            " [28 27 29 25 26]\n",
            " [33 32 34 30 31]]\n"
          ],
          "name": "stdout"
        }
      ]
    },
    {
      "cell_type": "code",
      "metadata": {
        "id": "ozrfBuhqbilB",
        "colab_type": "code",
        "colab": {
          "base_uri": "https://localhost:8080/",
          "height": 102
        },
        "outputId": "d96e92e1-f7fa-4e65-dbcc-0f37d92fbc29"
      },
      "source": [
        "col_inverse = a[:, ::-1]\n",
        "print(col_inverse)"
      ],
      "execution_count": 143,
      "outputs": [
        {
          "output_type": "stream",
          "text": [
            "[[14 13 12 11 10]\n",
            " [19 18 17 16 15]\n",
            " [24 23 22 21 20]\n",
            " [29 28 27 26 25]\n",
            " [34 33 32 31 30]]\n"
          ],
          "name": "stdout"
        }
      ]
    },
    {
      "cell_type": "code",
      "metadata": {
        "id": "nsLi3UFYbmNB",
        "colab_type": "code",
        "colab": {
          "base_uri": "https://localhost:8080/",
          "height": 187
        },
        "outputId": "1bda1fe8-adf6-424b-bc07-9f7956f40526"
      },
      "source": [
        "col_select = a[:, [2,4,0]]\n",
        "print(col_select)\n",
        "col_select2 = a[:, [2,2,2]]\n",
        "print(col_select2)"
      ],
      "execution_count": 144,
      "outputs": [
        {
          "output_type": "stream",
          "text": [
            "[[12 14 10]\n",
            " [17 19 15]\n",
            " [22 24 20]\n",
            " [27 29 25]\n",
            " [32 34 30]]\n",
            "[[12 12 12]\n",
            " [17 17 17]\n",
            " [22 22 22]\n",
            " [27 27 27]\n",
            " [32 32 32]]\n"
          ],
          "name": "stdout"
        }
      ]
    },
    {
      "cell_type": "markdown",
      "metadata": {
        "id": "I-eO-drrbwQ5",
        "colab_type": "text"
      },
      "source": [
        "## sort rows in any order"
      ]
    },
    {
      "cell_type": "code",
      "metadata": {
        "id": "qMf69VB9bt0q",
        "colab_type": "code",
        "colab": {
          "base_uri": "https://localhost:8080/",
          "height": 102
        },
        "outputId": "b5c36fb8-f0c6-4c00-b886-5cde3ac12c78"
      },
      "source": [
        "row_swap = a[[3,2,4,0,1], :]\n",
        "print(row_swap)"
      ],
      "execution_count": 145,
      "outputs": [
        {
          "output_type": "stream",
          "text": [
            "[[25 26 27 28 29]\n",
            " [20 21 22 23 24]\n",
            " [30 31 32 33 34]\n",
            " [10 11 12 13 14]\n",
            " [15 16 17 18 19]]\n"
          ],
          "name": "stdout"
        }
      ]
    },
    {
      "cell_type": "code",
      "metadata": {
        "id": "yvRwH-Czb2Ci",
        "colab_type": "code",
        "colab": {
          "base_uri": "https://localhost:8080/",
          "height": 102
        },
        "outputId": "fe93fb5b-5591-4fe2-9d85-9fc6eac76d82"
      },
      "source": [
        "row_swap = a[[3,2,4,0,1]]\n",
        "print(row_swap)"
      ],
      "execution_count": 146,
      "outputs": [
        {
          "output_type": "stream",
          "text": [
            "[[25 26 27 28 29]\n",
            " [20 21 22 23 24]\n",
            " [30 31 32 33 34]\n",
            " [10 11 12 13 14]\n",
            " [15 16 17 18 19]]\n"
          ],
          "name": "stdout"
        }
      ]
    },
    {
      "cell_type": "code",
      "metadata": {
        "id": "Dy7AkWTsb6Kq",
        "colab_type": "code",
        "colab": {
          "base_uri": "https://localhost:8080/",
          "height": 102
        },
        "outputId": "6b9b22a7-032c-4800-968c-98901d684afb"
      },
      "source": [
        "row_inverse = a[::-1]\n",
        "print(row_inverse)"
      ],
      "execution_count": 147,
      "outputs": [
        {
          "output_type": "stream",
          "text": [
            "[[30 31 32 33 34]\n",
            " [25 26 27 28 29]\n",
            " [20 21 22 23 24]\n",
            " [15 16 17 18 19]\n",
            " [10 11 12 13 14]]\n"
          ],
          "name": "stdout"
        }
      ]
    },
    {
      "cell_type": "code",
      "metadata": {
        "id": "hj7rMsj0b9P2",
        "colab_type": "code",
        "colab": {
          "base_uri": "https://localhost:8080/",
          "height": 68
        },
        "outputId": "79727b2f-d78e-4b62-9b81-67d91f45a3b8"
      },
      "source": [
        "row_select = a[[2,4,0]]\n",
        "print(row_select)"
      ],
      "execution_count": 148,
      "outputs": [
        {
          "output_type": "stream",
          "text": [
            "[[20 21 22 23 24]\n",
            " [30 31 32 33 34]\n",
            " [10 11 12 13 14]]\n"
          ],
          "name": "stdout"
        }
      ]
    },
    {
      "cell_type": "code",
      "metadata": {
        "id": "dQ-90UMLcBHZ",
        "colab_type": "code",
        "colab": {
          "base_uri": "https://localhost:8080/",
          "height": 68
        },
        "outputId": "46cf4fee-f372-4d27-bd9d-34cef71db3c7"
      },
      "source": [
        "row_select2 = a[[2,2,2]]\n",
        "print(row_select2)"
      ],
      "execution_count": 149,
      "outputs": [
        {
          "output_type": "stream",
          "text": [
            "[[20 21 22 23 24]\n",
            " [20 21 22 23 24]\n",
            " [20 21 22 23 24]]\n"
          ],
          "name": "stdout"
        }
      ]
    },
    {
      "cell_type": "code",
      "metadata": {
        "id": "cwhmkQu8cDmr",
        "colab_type": "code",
        "colab": {}
      },
      "source": [
        ""
      ],
      "execution_count": null,
      "outputs": []
    }
  ]
}